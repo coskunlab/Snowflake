{
 "cells": [
  {
   "cell_type": "code",
   "execution_count": 17,
   "metadata": {},
   "outputs": [],
   "source": [
    "import os\n",
    "import re\n",
    "import sys\n",
    "from pathlib import Path\n",
    "\n",
    "import pandas as pd\n",
    "import scanpy as sc\n",
    "import anndata as ad"
   ]
  },
  {
   "cell_type": "code",
   "execution_count": 3,
   "metadata": {},
   "outputs": [],
   "source": [
    "spatial_omics_folder = (Path().cwd().parents[0]).absolute() / 'data' / 'spatial_omics_graph'\n",
    "process_path = (Path().cwd().parents[0]).absolute() / 'data' / 'torch_graph_data'"
   ]
  },
  {
   "cell_type": "markdown",
   "metadata": {},
   "source": [
    "# Read data"
   ]
  },
  {
   "cell_type": "code",
   "execution_count": 4,
   "metadata": {},
   "outputs": [],
   "source": [
    "# Read all spadata info\n",
    "datasets = []\n",
    "paths = []\n",
    "path_rois = []\n",
    "\n",
    "# Loop through data\n",
    "for (dirpath, dirnames, filenames) in os.walk(spatial_omics_folder):\n",
    "    for name in sorted(filenames):\n",
    "        if 'hdf5' not in name:\n",
    "            continue\n",
    "         \n",
    "        # read adata\n",
    "        data_name = name.split('.')[0]\n",
    "        path = os.path.join(dirpath, name)\n",
    "        if 'roi' not in name:\n",
    "            datasets.append(data_name)\n",
    "            paths.append(os.path.join(dirpath, name))\n",
    "            path_rois.append(os.path.join(dirpath, data_name+'_roi.hdf5'))\n",
    "            \n",
    "df = pd.DataFrame({'Dataset': datasets, 'Path': paths, 'Path_ROI': path_rois})\n",
    "df = df[df.Dataset!= '05']"
   ]
  },
  {
   "cell_type": "code",
   "execution_count": 5,
   "metadata": {},
   "outputs": [
    {
     "name": "stdout",
     "output_type": "stream",
     "text": [
      "Processing Data 01\n",
      "Processing Data 03\n",
      "Processing Data 05_v1\n",
      "Processing Data 07_A11\n",
      "Processing Data 07_A18\n",
      "Processing Data 07_A21\n",
      "Processing Data 07_A22\n",
      "Processing Data 07_A6\n",
      "Processing Data 07_A8\n",
      "Processing Data 07_T18\n",
      "Processing Data 07_T22\n",
      "Processing Data 07_T3\n",
      "Processing Data 07_T5\n",
      "Processing Data 07_T6\n",
      "Processing Data 07_T8\n",
      "Processing Data 08\n"
     ]
    }
   ],
   "source": [
    "adata_dir = (Path().cwd().parents[0]).absolute() / 'data'/ 'processed'\n",
    "adatas = []\n",
    "datasets = []\n",
    "\n",
    "# Loop through data\n",
    "for (dirpath, dirnames, filenames) in os.walk(adata_dir):\n",
    "    for name in sorted(filenames):\n",
    "        if 'h5ad' not in name:\n",
    "            continue\n",
    "        if name == '05.h5ad':\n",
    "            continue\n",
    "        \n",
    "        # read adata\n",
    "        data_name = name.split('.')[0]\n",
    "        print(f'Processing Data {data_name}')   \n",
    "        path = os.path.join(dirpath, name)\n",
    "        \n",
    "        adata = sc.read_h5ad(path)\n",
    "        adata.obs['Data'] = data_name\n",
    "        \n",
    "        if 'Dataset' in adata.obs:\n",
    "            for d in adata.obs.Dataset.unique():\n",
    "                a = adata[adata.obs.Dataset == d]\n",
    "                adatas.append(a)\n",
    "                datasets.append(data_name+f'_{d}')\n",
    "        else:\n",
    "            adatas.append(adata)\n",
    "            datasets.append(data_name)"
   ]
  },
  {
   "cell_type": "code",
   "execution_count": 18,
   "metadata": {},
   "outputs": [
    {
     "name": "stderr",
     "output_type": "stream",
     "text": [
      "c:\\Users\\thu71\\AppData\\Local\\anaconda3\\envs\\snowflake\\lib\\site-packages\\anndata\\_core\\anndata.py:121: ImplicitModificationWarning:\n",
      "\n",
      "Transforming to str index.\n",
      "\n",
      "c:\\Users\\thu71\\AppData\\Local\\anaconda3\\envs\\snowflake\\lib\\site-packages\\anndata\\_core\\anndata.py:1838: UserWarning:\n",
      "\n",
      "Observation names are not unique. To make them unique, call `.obs_names_make_unique`.\n",
      "\n"
     ]
    }
   ],
   "source": [
    "adata = ad.concat(adatas)"
   ]
  },
  {
   "cell_type": "code",
   "execution_count": 90,
   "metadata": {},
   "outputs": [],
   "source": [
    "# Create foll dataframe\n",
    "df_foll = pd.DataFrame(adata.obs.groupby(['Data', 'Foll']).size()).reset_index()\n",
    "df_foll.columns = ['Dataset', 'Foll', 'Number of cells']\n",
    "df_foll = df_foll[df_foll.Foll > 0]\n",
    "\n",
    "# Get tissue type mapping\n",
    "tissue_type = {k: 'Tonsil' for k in df_foll.Dataset.unique() if 'A' not in k}\n",
    "df_foll['Tissue'] = df_foll['Dataset'].apply(lambda x: tissue_type.get(x, 'Adenoid'))"
   ]
  },
  {
   "cell_type": "code",
   "execution_count": 91,
   "metadata": {},
   "outputs": [
    {
     "data": {
      "image/png": "[encoded data removed]",
      "text/plain": [
       "<Figure size 600x300 with 1 Axes>"
      ]
     },
     "metadata": {},
     "output_type": "display_data"
    }
   ],
   "source": [
    "import matplotlib\n",
    "import matplotlib.pyplot as plt\n",
    "import seaborn as sns\n",
    "import numpy as np\n",
    "\n",
    "font = {'family' : 'monospace',\n",
    "        'weight' : 'bold',\n",
    "        'size'   : 10}\n",
    "\n",
    "matplotlib.rc('font', **font)\n",
    "\n",
    "#define data\n",
    "data = df_foll.groupby('Tissue').size().values\n",
    "labels = df_foll.groupby('Tissue').size().index.tolist()\n",
    "\n",
    "#define Seaborn color palette to use\n",
    "colors = sns.color_palette('pastel')[0:5]\n",
    "\n",
    "\n",
    "def absolute_value(val):\n",
    "    a  = np.round(val/100.*data.sum(), 0).astype(int)\n",
    "    return a\n",
    "\n",
    "#create pie chart\n",
    "fig, ax = plt.subplots(figsize=(6, 3), subplot_kw=dict(aspect=\"equal\"))\n",
    "wedges, texts, autotexts = ax.pie(data, labels = labels, colors = [ '#4994CE', '#F27420'], autopct=absolute_value, textprops=dict(color=\"w\"))\n",
    "ax.legend(wedges, labels,\n",
    "          title=\"Tissue\",\n",
    "          loc=\"center left\",\n",
    "          bbox_to_anchor=(1, 0, 0.5, 1))\n",
    "\n",
    "plt.show()\n"
   ]
  },
  {
   "cell_type": "code",
   "execution_count": 92,
   "metadata": {},
   "outputs": [
    {
     "data": {
      "image/png": "[encoded data removed]",
      "text/plain": [
       "<Figure size 600x300 with 1 Axes>"
      ]
     },
     "metadata": {},
     "output_type": "display_data"
    }
   ],
   "source": [
    "import matplotlib\n",
    "import matplotlib.pyplot as plt\n",
    "import seaborn as sns\n",
    "import numpy as np\n",
    "\n",
    "font = {'family' : 'monospace',\n",
    "        'weight' : 'bold',\n",
    "        'size'   : 10}\n",
    "\n",
    "matplotlib.rc('font', **font)\n",
    "\n",
    "#define data\n",
    "data = df_foll[df_foll.Dataset.str.contains('07')].groupby('Tissue').size().values\n",
    "labels = df_foll[df_foll.Dataset.str.contains('07')].groupby('Tissue').size().index.tolist()\n",
    "\n",
    "#define Seaborn color palette to use\n",
    "colors = sns.color_palette('pastel')[0:5]\n",
    "\n",
    "\n",
    "def absolute_value(val):\n",
    "    a  = np.round(val/100.*data.sum(), 0).astype(int)\n",
    "    return a\n",
    "\n",
    "#create pie chart\n",
    "fig, ax = plt.subplots(figsize=(6, 3), subplot_kw=dict(aspect=\"equal\"))\n",
    "wedges, texts, autotexts = ax.pie(data, labels = labels, colors = [ '#4994CE', '#F27420'], autopct=absolute_value, textprops=dict(color=\"w\"))\n",
    "\n",
    "plt.show()\n"
   ]
  },
  {
   "cell_type": "code",
   "execution_count": 96,
   "metadata": {},
   "outputs": [],
   "source": [
    "covid_map = {'07_A11': 'COVID+', '07_A18': 'COVID-', '07_A21': 'COVID-', '07_A22': 'COVID+',\n",
    "       '07_A6': 'COVID-', '07_A8': 'COVID+', '07_T18': 'COVID-', '07_T22': 'COVID+', '07_T3': 'COVID-', '07_T5': 'COVID+', '07_T6': 'COVID-',\n",
    "       '07_T8': 'COVID+'}\n",
    "\n",
    "df_foll['COVID'] = df_foll.Dataset.map(lambda x: covid_map.get(x,x))"
   ]
  },
  {
   "cell_type": "code",
   "execution_count": 99,
   "metadata": {},
   "outputs": [
    {
     "data": {
      "image/png": "[encoded data removed]",
      "text/plain": [
       "<Figure size 600x300 with 1 Axes>"
      ]
     },
     "metadata": {},
     "output_type": "display_data"
    }
   ],
   "source": [
    "import matplotlib\n",
    "import matplotlib.pyplot as plt\n",
    "import seaborn as sns\n",
    "import numpy as np\n",
    "\n",
    "font = {'family' : 'monospace',\n",
    "        'weight' : 'bold',\n",
    "        'size'   : 10}\n",
    "\n",
    "matplotlib.rc('font', **font)\n",
    "\n",
    "#define data\n",
    "data = df_foll[df_foll.Dataset.str.contains('07')].groupby('COVID').size().values\n",
    "labels = df_foll[df_foll.Dataset.str.contains('07')].groupby('COVID').size().index.tolist()\n",
    "\n",
    "#define Seaborn color palette to use\n",
    "colors = sns.color_palette('pastel')[0:5]\n",
    "\n",
    "\n",
    "def absolute_value(val):\n",
    "    a  = np.round(val/100.*data.sum(), 0).astype(int)\n",
    "    return a\n",
    "\n",
    "#create pie chart\n",
    "fig, ax = plt.subplots(figsize=(6, 3), subplot_kw=dict(aspect=\"equal\"))\n",
    "wedges, texts, autotexts = ax.pie(data, labels = labels, colors = ['#8A5988', '#449E9E'], autopct=absolute_value, textprops=dict(color=\"w\"))\n",
    "ax.legend(wedges, labels,\n",
    "          title=\"COVID\",\n",
    "          loc=\"center left\",\n",
    "          bbox_to_anchor=(1, 0, 0.5, 1))\n",
    "\n",
    "plt.show()\n"
   ]
  },
  {
   "cell_type": "markdown",
   "metadata": {},
   "source": [
    "### Stankey plot"
   ]
  },
  {
   "cell_type": "code",
   "execution_count": 100,
   "metadata": {},
   "outputs": [],
   "source": [
    "df_cov = df_foll[df_foll.Dataset.str.contains('07')].groupby(['Tissue', 'COVID']).size()"
   ]
  },
  {
   "cell_type": "code",
   "execution_count": 101,
   "metadata": {},
   "outputs": [
    {
     "data": {
      "text/plain": [
       "Tissue   COVID \n",
       "Adenoid  COVID+     58\n",
       "         COVID-     47\n",
       "Tonsil   COVID+    195\n",
       "         COVID-    142\n",
       "dtype: int64"
      ]
     },
     "execution_count": 101,
     "metadata": {},
     "output_type": "execute_result"
    }
   ],
   "source": [
    "df_cov"
   ]
  },
  {
   "cell_type": "code",
   "execution_count": 103,
   "metadata": {},
   "outputs": [
    {
     "data": {
      "text/html": [
       "        <script type=\"text/javascript\">\n",
       "        window.PlotlyConfig = {MathJaxConfig: 'local'};\n",
       "        if (window.MathJax && window.MathJax.Hub && window.MathJax.Hub.Config) {window.MathJax.Hub.Config({SVG: {font: \"STIX-Web\"}});}\n",
       "        if (typeof require !== 'undefined') {\n",
       "        require.undef(\"plotly\");\n",
       "        requirejs.config({\n",
       "            paths: {\n",
       "                'plotly': ['https://cdn.plot.ly/plotly-2.25.2.min']\n",
       "            }\n",
       "        });\n",
       "        require(['plotly'], function(Plotly) {\n",
       "            window._Plotly = Plotly;\n",
       "        });\n",
       "        }\n",
       "        </script>\n",
       "        "
      ]
     },
     "metadata": {},
     "output_type": "display_data"
    },
    {
     "data": {
      "application/vnd.plotly.v1+json": {
       "config": {
        "linkText": "Export to plot.ly",
        "plotlyServerURL": "https://plot.ly",
        "showLink": false
       },
       "data": [
        {
         "domain": {
          "x": [
           0,
           1
          ],
          "y": [
           0,
           1
          ]
         },
         "link": {
          "color": [
           "rgba(242, 116, 32, 0.75)",
           "rgba(242, 116, 32, 0.75)",
           "rgba(73, 148, 206, 0.75)",
           "rgba(73, 148, 206, 0.75)"
          ],
          "source": [
           0,
           0,
           1,
           1
          ],
          "target": [
           2,
           3,
           2,
           3
          ],
          "value": [
           195,
           142,
           58,
           47
          ]
         },
         "node": {
          "color": [
           "#F27420",
           "#4994CE",
           "#8A5988",
           "#449E9E"
          ],
          "label": [
           "Tonsil – 337",
           "Adenoid – 105",
           "253 – COVID+",
           "189 - COVID-"
          ],
          "line": {
           "color": "black",
           "width": 0
          },
          "pad": 10,
          "thickness": 30
         },
         "orientation": "h",
         "type": "sankey",
         "valueformat": ".0f"
        }
       ],
       "layout": {
        "font": {
         "color": "black",
         "size": 50
        },
        "height": 772,
        "title": "",
        "width": 1000
       }
      },
      "text/html": [
       "<div>                            <div id=\"195191b0-4609-4a27-baba-cb10d48a1128\" class=\"plotly-graph-div\" style=\"height:772px; width:1000px;\"></div>            <script type=\"text/javascript\">                require([\"plotly\"], function(Plotly) {                    window.PLOTLYENV=window.PLOTLYENV || {};                                    if (document.getElementById(\"195191b0-4609-4a27-baba-cb10d48a1128\")) {                    Plotly.newPlot(                        \"195191b0-4609-4a27-baba-cb10d48a1128\",                        [{\"type\":\"sankey\",\"domain\":{\"x\":[0,1],\"y\":[0,1]},\"orientation\":\"h\",\"valueformat\":\".0f\",\"node\":{\"pad\":10,\"thickness\":30,\"line\":{\"color\":\"black\",\"width\":0},\"label\":[\"Tonsil \\u2013 337\",\"Adenoid \\u2013 105\",\"253 \\u2013 COVID+\",\"189 - COVID-\"],\"color\":[\"#F27420\",\"#4994CE\",\"#8A5988\",\"#449E9E\"]},\"link\":{\"source\":[0,0,1,1],\"target\":[2,3,2,3],\"value\":[195,142,58,47],\"color\":[\"rgba(242, 116, 32, 0.75)\",\"rgba(242, 116, 32, 0.75)\",\"rgba(73, 148, 206, 0.75)\",\"rgba(73, 148, 206, 0.75)\"]}}],                        {\"title\":\"\",\"height\":772,\"width\":1000,\"font\":{\"size\":50,\"color\":\"black\"}},                        {\"responsive\": true}                    ).then(function(){\n",
       "                            \n",
       "var gd = document.getElementById('195191b0-4609-4a27-baba-cb10d48a1128');\n",
       "var x = new MutationObserver(function (mutations, observer) {{\n",
       "        var display = window.getComputedStyle(gd).display;\n",
       "        if (!display || display === 'none') {{\n",
       "            console.log([gd, 'removed!']);\n",
       "            Plotly.purge(gd);\n",
       "            observer.disconnect();\n",
       "        }}\n",
       "}});\n",
       "\n",
       "// Listen for the removal of the full notebook cells\n",
       "var notebookContainer = gd.closest('#notebook-container');\n",
       "if (notebookContainer) {{\n",
       "    x.observe(notebookContainer, {childList: true});\n",
       "}}\n",
       "\n",
       "// Listen for the clearing of the current output cell\n",
       "var outputEl = gd.closest('.output');\n",
       "if (outputEl) {{\n",
       "    x.observe(outputEl, {childList: true});\n",
       "}}\n",
       "\n",
       "                        })                };                });            </script>        </div>"
      ]
     },
     "metadata": {},
     "output_type": "display_data"
    }
   ],
   "source": [
    "import pandas as pd\n",
    "import numpy as np\n",
    "import plotly.graph_objs as go\n",
    "from plotly.offline import download_plotlyjs, init_notebook_mode, plot, iplot\n",
    "init_notebook_mode(connected=True)\n",
    "\n",
    "# Original data\n",
    "# data = [['Source','Target','Value','Color','Node, Label','Link Color'],\n",
    "#     [0,5,20,'#F27420','Remain+No – 28','rgba(253, 227, 212, 0.5)'],\n",
    "#     [0,6,3,'#4994CE','Leave+No – 16','rgba(242, 116, 32, 1)'],\n",
    "#     [0,7,5,'#FABC13','Remain+Yes – 21','rgba(253, 227, 212, 0.5)'],\n",
    "#     [1,5,14,'#7FC241','Leave+Yes – 14','rgba(219, 233, 246, 0.5)'],\n",
    "#     [1,6,1,'#D3D3D3','Didn’t vote in at least one referendum – 21','rgba(73, 148, 206, 1)'],\n",
    "#     [1,7,1,'#8A5988','46 – No','rgba(219, 233, 246,0.5)'],\n",
    "#     [2,5,3,'#449E9E','39 – Yes','rgba(250, 188, 19, 1)'],\n",
    "#     [2,6,17,'#D3D3D3','14 – Don’t know / would not vote','rgba(250, 188, 19, 0.5)'],\n",
    "#     [2,7,2,'','','rgba(250, 188, 19, 0.5)'],\n",
    "#     [3,5,3,'','','rgba(127, 194, 65, 1)'],\n",
    "#     [3,6,9,'','','rgba(127, 194, 65, 0.5)'],\n",
    "#     [3,7,2,'','','rgba(127, 194, 65, 0.5)'],\n",
    "#     [4,5,5,'','','rgba(211, 211, 211, 0.5)'],\n",
    "#     [4,6,9,'','','rgba(211, 211, 211, 0.5)'],\n",
    "#     [4,7,8,'','','rgba(211, 211, 211, 0.5)']\n",
    "#     ]\n",
    "\n",
    "data = [['Source','Target','Value','Color','Node, Label','Link Color'],\n",
    "    [0,2,195,'#F27420','Tonsil – 337', 'rgba(242, 116, 32, 0.75)'],\n",
    "    [0,3,142,'#4994CE','Adenoid – 105', 'rgba(242, 116, 32, 0.75)'],\n",
    "    [1,2,58,'#8A5988','253 – COVID+','rgba(73, 148, 206, 0.75)'],\n",
    "    [1,3,47,'#449E9E','189 - COVID-','rgba(73, 148, 206, 0.75)'],\n",
    "    ]\n",
    "\n",
    "headers = data.pop(0)\n",
    "df = pd.DataFrame(data, columns = headers)\n",
    "scottish_df = df\n",
    "\n",
    "data_trace = dict(\n",
    "    type='sankey',\n",
    "    domain = dict(\n",
    "      x =  [0,1],\n",
    "      y =  [0,1]\n",
    "    ),\n",
    "    orientation = \"h\",\n",
    "    valueformat = \".0f\",\n",
    "    node = dict(\n",
    "      pad = 10,\n",
    "      thickness = 30,\n",
    "      line = dict(\n",
    "        color = \"black\",\n",
    "        width = 0\n",
    "      ),\n",
    "      label =  scottish_df['Node, Label'].dropna(axis=0, how='any'),\n",
    "      color = scottish_df['Color']\n",
    "    ),\n",
    "    link = dict(\n",
    "      source = scottish_df['Source'].dropna(axis=0, how='any'),\n",
    "      target = scottish_df['Target'].dropna(axis=0, how='any'),\n",
    "      value = scottish_df['Value'].dropna(axis=0, how='any'),\n",
    "      color = scottish_df['Link Color'].dropna(axis=0, how='any'),\n",
    "  )\n",
    ")\n",
    "\n",
    "layout =  dict(\n",
    "    title = \"\",\n",
    "    height = 772,\n",
    "    width = 1000,\n",
    "    font = dict(\n",
    "      size = 50,\n",
    "      color=\"black\"\n",
    "    ),    \n",
    ")\n",
    "\n",
    "fig = dict(data=[data_trace], layout=layout)\n",
    "iplot(fig, validate=False)"
   ]
  },
  {
   "cell_type": "code",
   "execution_count": 63,
   "metadata": {},
   "outputs": [
    {
     "data": {
      "text/plain": [
       "(0                                  Remain+No – 28\n",
       " 1                                   Leave+No – 16\n",
       " 2                                 Remain+Yes – 21\n",
       " 3                                  Leave+Yes – 14\n",
       " 4     Didn’t vote in at least one referendum – 21\n",
       " 5                                         46 – No\n",
       " 6                                        39 – Yes\n",
       " 7                14 – Don’t know / would not vote\n",
       " 8                                                \n",
       " 9                                                \n",
       " 10                                               \n",
       " 11                                               \n",
       " 12                                               \n",
       " 13                                               \n",
       " 14                                               \n",
       " Name: Node, Label, dtype: object,)"
      ]
     },
     "execution_count": 63,
     "metadata": {},
     "output_type": "execute_result"
    }
   ],
   "source": [
    "scottish_df['Node, Label'].dropna(axis=0, how='any')"
   ]
  },
  {
   "cell_type": "code",
   "execution_count": 62,
   "metadata": {},
   "outputs": [
    {
     "data": {
      "text/html": [
       "<div>\n",
       "<style scoped>\n",
       "    .dataframe tbody tr th:only-of-type {\n",
       "        vertical-align: middle;\n",
       "    }\n",
       "\n",
       "    .dataframe tbody tr th {\n",
       "        vertical-align: top;\n",
       "    }\n",
       "\n",
       "    .dataframe thead th {\n",
       "        text-align: right;\n",
       "    }\n",
       "</style>\n",
       "<table border=\"1\" class=\"dataframe\">\n",
       "  <thead>\n",
       "    <tr style=\"text-align: right;\">\n",
       "      <th></th>\n",
       "      <th>Source</th>\n",
       "      <th>Target</th>\n",
       "      <th>Value</th>\n",
       "      <th>Color</th>\n",
       "      <th>Node, Label</th>\n",
       "      <th>Link Color</th>\n",
       "    </tr>\n",
       "  </thead>\n",
       "  <tbody>\n",
       "    <tr>\n",
       "      <th>0</th>\n",
       "      <td>0</td>\n",
       "      <td>5</td>\n",
       "      <td>20</td>\n",
       "      <td>#F27420</td>\n",
       "      <td>Remain+No – 28</td>\n",
       "      <td>rgba(253, 227, 212, 0.5)</td>\n",
       "    </tr>\n",
       "    <tr>\n",
       "      <th>1</th>\n",
       "      <td>0</td>\n",
       "      <td>6</td>\n",
       "      <td>3</td>\n",
       "      <td>#4994CE</td>\n",
       "      <td>Leave+No – 16</td>\n",
       "      <td>rgba(242, 116, 32, 1)</td>\n",
       "    </tr>\n",
       "    <tr>\n",
       "      <th>2</th>\n",
       "      <td>0</td>\n",
       "      <td>7</td>\n",
       "      <td>5</td>\n",
       "      <td>#FABC13</td>\n",
       "      <td>Remain+Yes – 21</td>\n",
       "      <td>rgba(253, 227, 212, 0.5)</td>\n",
       "    </tr>\n",
       "    <tr>\n",
       "      <th>3</th>\n",
       "      <td>1</td>\n",
       "      <td>5</td>\n",
       "      <td>14</td>\n",
       "      <td>#7FC241</td>\n",
       "      <td>Leave+Yes – 14</td>\n",
       "      <td>rgba(219, 233, 246, 0.5)</td>\n",
       "    </tr>\n",
       "    <tr>\n",
       "      <th>4</th>\n",
       "      <td>1</td>\n",
       "      <td>6</td>\n",
       "      <td>1</td>\n",
       "      <td>#D3D3D3</td>\n",
       "      <td>Didn’t vote in at least one referendum – 21</td>\n",
       "      <td>rgba(73, 148, 206, 1)</td>\n",
       "    </tr>\n",
       "    <tr>\n",
       "      <th>5</th>\n",
       "      <td>1</td>\n",
       "      <td>7</td>\n",
       "      <td>1</td>\n",
       "      <td>#8A5988</td>\n",
       "      <td>46 – No</td>\n",
       "      <td>rgba(219, 233, 246,0.5)</td>\n",
       "    </tr>\n",
       "    <tr>\n",
       "      <th>6</th>\n",
       "      <td>2</td>\n",
       "      <td>5</td>\n",
       "      <td>3</td>\n",
       "      <td>#449E9E</td>\n",
       "      <td>39 – Yes</td>\n",
       "      <td>rgba(250, 188, 19, 1)</td>\n",
       "    </tr>\n",
       "    <tr>\n",
       "      <th>7</th>\n",
       "      <td>2</td>\n",
       "      <td>6</td>\n",
       "      <td>17</td>\n",
       "      <td>#D3D3D3</td>\n",
       "      <td>14 – Don’t know / would not vote</td>\n",
       "      <td>rgba(250, 188, 19, 0.5)</td>\n",
       "    </tr>\n",
       "    <tr>\n",
       "      <th>8</th>\n",
       "      <td>2</td>\n",
       "      <td>7</td>\n",
       "      <td>2</td>\n",
       "      <td></td>\n",
       "      <td></td>\n",
       "      <td>rgba(250, 188, 19, 0.5)</td>\n",
       "    </tr>\n",
       "    <tr>\n",
       "      <th>9</th>\n",
       "      <td>3</td>\n",
       "      <td>5</td>\n",
       "      <td>3</td>\n",
       "      <td></td>\n",
       "      <td></td>\n",
       "      <td>rgba(127, 194, 65, 1)</td>\n",
       "    </tr>\n",
       "    <tr>\n",
       "      <th>10</th>\n",
       "      <td>3</td>\n",
       "      <td>6</td>\n",
       "      <td>9</td>\n",
       "      <td></td>\n",
       "      <td></td>\n",
       "      <td>rgba(127, 194, 65, 0.5)</td>\n",
       "    </tr>\n",
       "    <tr>\n",
       "      <th>11</th>\n",
       "      <td>3</td>\n",
       "      <td>7</td>\n",
       "      <td>2</td>\n",
       "      <td></td>\n",
       "      <td></td>\n",
       "      <td>rgba(127, 194, 65, 0.5)</td>\n",
       "    </tr>\n",
       "    <tr>\n",
       "      <th>12</th>\n",
       "      <td>4</td>\n",
       "      <td>5</td>\n",
       "      <td>5</td>\n",
       "      <td></td>\n",
       "      <td></td>\n",
       "      <td>rgba(211, 211, 211, 0.5)</td>\n",
       "    </tr>\n",
       "    <tr>\n",
       "      <th>13</th>\n",
       "      <td>4</td>\n",
       "      <td>6</td>\n",
       "      <td>9</td>\n",
       "      <td></td>\n",
       "      <td></td>\n",
       "      <td>rgba(211, 211, 211, 0.5)</td>\n",
       "    </tr>\n",
       "    <tr>\n",
       "      <th>14</th>\n",
       "      <td>4</td>\n",
       "      <td>7</td>\n",
       "      <td>8</td>\n",
       "      <td></td>\n",
       "      <td></td>\n",
       "      <td>rgba(211, 211, 211, 0.5)</td>\n",
       "    </tr>\n",
       "  </tbody>\n",
       "</table>\n",
       "</div>"
      ],
      "text/plain": [
       "    Source  Target  Value    Color  \\\n",
       "0        0       5     20  #F27420   \n",
       "1        0       6      3  #4994CE   \n",
       "2        0       7      5  #FABC13   \n",
       "3        1       5     14  #7FC241   \n",
       "4        1       6      1  #D3D3D3   \n",
       "5        1       7      1  #8A5988   \n",
       "6        2       5      3  #449E9E   \n",
       "7        2       6     17  #D3D3D3   \n",
       "8        2       7      2            \n",
       "9        3       5      3            \n",
       "10       3       6      9            \n",
       "11       3       7      2            \n",
       "12       4       5      5            \n",
       "13       4       6      9            \n",
       "14       4       7      8            \n",
       "\n",
       "                                    Node, Label                Link Color  \n",
       "0                                Remain+No – 28  rgba(253, 227, 212, 0.5)  \n",
       "1                                 Leave+No – 16     rgba(242, 116, 32, 1)  \n",
       "2                               Remain+Yes – 21  rgba(253, 227, 212, 0.5)  \n",
       "3                                Leave+Yes – 14  rgba(219, 233, 246, 0.5)  \n",
       "4   Didn’t vote in at least one referendum – 21     rgba(73, 148, 206, 1)  \n",
       "5                                       46 – No   rgba(219, 233, 246,0.5)  \n",
       "6                                      39 – Yes     rgba(250, 188, 19, 1)  \n",
       "7              14 – Don’t know / would not vote   rgba(250, 188, 19, 0.5)  \n",
       "8                                                 rgba(250, 188, 19, 0.5)  \n",
       "9                                                   rgba(127, 194, 65, 1)  \n",
       "10                                                rgba(127, 194, 65, 0.5)  \n",
       "11                                                rgba(127, 194, 65, 0.5)  \n",
       "12                                               rgba(211, 211, 211, 0.5)  \n",
       "13                                               rgba(211, 211, 211, 0.5)  \n",
       "14                                               rgba(211, 211, 211, 0.5)  "
      ]
     },
     "execution_count": 62,
     "metadata": {},
     "output_type": "execute_result"
    }
   ],
   "source": [
    "df"
   ]
  }
 ],
 "metadata": {
  "kernelspec": {
   "display_name": "Python 3 (ipykernel)",
   "language": "python",
   "name": "python3"
  },
  "language_info": {
   "codemirror_mode": {
    "name": "ipython",
    "version": 3
   },
   "file_extension": ".py",
   "mimetype": "text/x-python",
   "name": "python",
   "nbconvert_exporter": "python",
   "pygments_lexer": "ipython3",
   "version": "3.12.5"
  }
 },
 "nbformat": 4,
 "nbformat_minor": 4
}
