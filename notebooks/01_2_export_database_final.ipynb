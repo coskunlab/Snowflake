{
 "cells": [
  {
   "cell_type": "code",
   "execution_count": 1,
   "id": "e33eefe6-fc35-4892-a0d5-d661601d0c42",
   "metadata": {},
   "outputs": [],
   "source": [
    "import os\n",
    "import re\n",
    "import sys\n",
    "from pathlib import Path\n",
    "\n",
    "import h5py\n",
    "import matplotlib.pyplot as plt\n",
    "import numpy as np\n",
    "import pandas as pd\n",
    "import scanpy as sc\n",
    "import skimage\n",
    "from skimage import io, transform\n",
    "from sklearn import preprocessing\n",
    "from tqdm.notebook import tqdm, trange\n",
    "import anndata as ad\n",
    "import tifffile\n",
    "import pickle\n",
    "from skimage.segmentation import relabel_sequential"
   ]
  },
  {
   "cell_type": "code",
   "execution_count": 2,
   "id": "be958b67-972a-420b-a29d-2cd5fb49f96b",
   "metadata": {},
   "outputs": [],
   "source": [
    "p_dir = (Path().cwd().parents[0].parents[0]).absolute()\n",
    "data_dir = p_dir / \"09_datasets\""
   ]
  },
  {
   "cell_type": "code",
   "execution_count": 3,
   "id": "fb409c8b-aa01-4df7-9e25-99945962570e",
   "metadata": {},
   "outputs": [],
   "source": [
    "dataset_1 = data_dir / '01_codex_data'\n",
    "dataset_2 = data_dir / '02_tissue_architecture'\n",
    "dataset_3 = data_dir / '03_Sci_Data_Cycif' \n",
    "dataset_4 = data_dir / '04_codex_nature_pro' \n",
    "dataset_5 = data_dir / '05_MCMICRO' / 'TNP_pilot_cycif' \n",
    "dataset_7 = data_dir / '07_NIH' \n",
    "dataset_8 = data_dir / '08_visinity' \n",
    "\n",
    "masks_folder = data_dir / 'exported' / 'masks'\n",
    "whole_mask_folder = (Path().cwd().parents[0]).absolute() / 'data' / 'masks'"
   ]
  },
  {
   "cell_type": "code",
   "execution_count": null,
   "id": "d5d33ea5-4821-41bb-9360-bceef1880f8a",
   "metadata": {
    "tags": []
   },
   "outputs": [],
   "source": [
    "from joblib import Parallel, delayed\n",
    "from functools import partial\n",
    "from functools import reduce\n",
    "from sklearn.preprocessing import MinMaxScaler\n",
    "from skimage import exposure\n",
    "\n",
    "def contrast_streching(img):\n",
    "    p2, p98 = np.percentile(img, (50, 98))\n",
    "    img = exposure.rescale_intensity(img, in_range=(p2, p98), out_range=(0, 255)).astype(np.uint8)\n",
    "    return img\n",
    "\n",
    "def save_hdf5(\n",
    "    path: str, name: str, data: np.ndarray, attr_dict=None, mode: str = \"a\"\n",
    ") -> None:\n",
    "    # Read h5 file\n",
    "    hf = h5py.File(path, mode)\n",
    "    # Create z_stack_dataset\n",
    "    if hf.get(name) is None:\n",
    "        data_shape = data.shape\n",
    "        data_type = data.dtype\n",
    "        chunk_shape = (1,) + data_shape[1:]\n",
    "        max_shape = (data_shape[0],) + data_shape[1:]\n",
    "        dset = hf.create_dataset(\n",
    "            name,\n",
    "            shape=data_shape,\n",
    "            maxshape=max_shape,\n",
    "            chunks=chunk_shape,\n",
    "            dtype=data_type,\n",
    "            compression=\"gzip\",\n",
    "        )\n",
    "        dset[:] = data\n",
    "        if attr_dict is not None:\n",
    "            for attr_key, attr_val in attr_dict.items():\n",
    "                dset.attrs[attr_key] = attr_val\n",
    "    else:\n",
    "        print(f\"Dataset {name} exists\")\n",
    "\n",
    "    hf.close()\n",
    "    \n",
    "def get_imgs(file_path, name):\n",
    "    f = h5py.File(file_path, \"r\")\n",
    "    imgs = f[name]\n",
    "    labels = list(f[name].attrs[\"labels\"])\n",
    "    return imgs, labels\n",
    "\n",
    "def read_intensity_per_cell(img, marker, mask):\n",
    "    props = skimage.measure.regionprops_table(\n",
    "        mask, img, properties=[\"label\", \"mean_intensity\"]\n",
    "    )\n",
    "    df_prop = pd.DataFrame(props)\n",
    "    df_prop[\"mean_intensity\"] = df_prop[\"mean_intensity\"]\n",
    "    df_prop.columns = [\"Cell_label\", marker]\n",
    "    return df_prop\n",
    "\n",
    "def get_info_name(name):\n",
    "    info = name.split(' ')[1]\n",
    "    info = info.split('_')\n",
    "    if len(info) == 6:\n",
    "        row = int(info[1][2:])\n",
    "        col = int(info[0][2:])\n",
    "        size_c = int(info[2][2:])\n",
    "        size_r = int(info[3][2:])\n",
    "        d = 1\n",
    "    else:\n",
    "        row = int(info[2][2:])\n",
    "        col = int(info[1][2:])\n",
    "        size_c = int(info[3][2:])\n",
    "        size_r = int(info[4][2:])\n",
    "        d = int(info[0][2:])\n",
    "    return d, row, col, [size_r, size_c]"
   ]
  },
  {
   "cell_type": "markdown",
   "id": "e99cee52-f762-4fd5-9736-b56a8266993b",
   "metadata": {},
   "source": [
    "# Our data"
   ]
  },
  {
   "cell_type": "code",
   "execution_count": 6,
   "id": "c4033b38-35fc-41ab-a7ce-6e3bb461379f",
   "metadata": {},
   "outputs": [],
   "source": [
    "raw_path = r'Y:\\coskun-lab\\Thomas\\Leap\\data\\metadata\\combined_semi_final.h5ad'\n",
    "adata = ad.read_h5ad(raw_path)"
   ]
  },
  {
   "cell_type": "code",
   "execution_count": 7,
   "id": "d38d8904-0f0c-49ee-9a41-30ec56898b5f",
   "metadata": {},
   "outputs": [
    {
     "data": {
      "text/html": [
       "<div>\n",
       "<style scoped>\n",
       "    .dataframe tbody tr th:only-of-type {\n",
       "        vertical-align: middle;\n",
       "    }\n",
       "\n",
       "    .dataframe tbody tr th {\n",
       "        vertical-align: top;\n",
       "    }\n",
       "\n",
       "    .dataframe thead th {\n",
       "        text-align: right;\n",
       "    }\n",
       "</style>\n",
       "<table border=\"1\" class=\"dataframe\">\n",
       "  <thead>\n",
       "    <tr style=\"text-align: right;\">\n",
       "      <th></th>\n",
       "      <th>ROI</th>\n",
       "      <th>Cell</th>\n",
       "      <th>Dataset</th>\n",
       "      <th>leiden</th>\n",
       "      <th>Phenotype_r1</th>\n",
       "      <th>Phenotype_r1_n</th>\n",
       "      <th>Phenotype</th>\n",
       "    </tr>\n",
       "  </thead>\n",
       "  <tbody>\n",
       "    <tr>\n",
       "      <th>0</th>\n",
       "      <td>1</td>\n",
       "      <td>1</td>\n",
       "      <td>LN Donor A</td>\n",
       "      <td>32</td>\n",
       "      <td>Stroma</td>\n",
       "      <td>0</td>\n",
       "      <td>Stroma</td>\n",
       "    </tr>\n",
       "    <tr>\n",
       "      <th>1</th>\n",
       "      <td>1</td>\n",
       "      <td>2</td>\n",
       "      <td>LN Donor A</td>\n",
       "      <td>10</td>\n",
       "      <td>Stroma</td>\n",
       "      <td>0</td>\n",
       "      <td>Stroma</td>\n",
       "    </tr>\n",
       "    <tr>\n",
       "      <th>2</th>\n",
       "      <td>1</td>\n",
       "      <td>3</td>\n",
       "      <td>LN Donor A</td>\n",
       "      <td>29</td>\n",
       "      <td>Stroma</td>\n",
       "      <td>0</td>\n",
       "      <td>Stroma</td>\n",
       "    </tr>\n",
       "    <tr>\n",
       "      <th>3</th>\n",
       "      <td>1</td>\n",
       "      <td>4</td>\n",
       "      <td>LN Donor A</td>\n",
       "      <td>11</td>\n",
       "      <td>Stroma</td>\n",
       "      <td>0</td>\n",
       "      <td>Stroma</td>\n",
       "    </tr>\n",
       "    <tr>\n",
       "      <th>4</th>\n",
       "      <td>1</td>\n",
       "      <td>5</td>\n",
       "      <td>LN Donor A</td>\n",
       "      <td>20</td>\n",
       "      <td>nan</td>\n",
       "      <td>1</td>\n",
       "      <td>Stroma</td>\n",
       "    </tr>\n",
       "    <tr>\n",
       "      <th>...</th>\n",
       "      <td>...</td>\n",
       "      <td>...</td>\n",
       "      <td>...</td>\n",
       "      <td>...</td>\n",
       "      <td>...</td>\n",
       "      <td>...</td>\n",
       "      <td>...</td>\n",
       "    </tr>\n",
       "    <tr>\n",
       "      <th>999965</th>\n",
       "      <td>18</td>\n",
       "      <td>9208</td>\n",
       "      <td>TS Donor E</td>\n",
       "      <td>26</td>\n",
       "      <td>nan</td>\n",
       "      <td>1</td>\n",
       "      <td>myeloid-derived cells</td>\n",
       "    </tr>\n",
       "    <tr>\n",
       "      <th>999966</th>\n",
       "      <td>18</td>\n",
       "      <td>9209</td>\n",
       "      <td>TS Donor E</td>\n",
       "      <td>14</td>\n",
       "      <td>B-cells</td>\n",
       "      <td>4</td>\n",
       "      <td>B-cells</td>\n",
       "    </tr>\n",
       "    <tr>\n",
       "      <th>999967</th>\n",
       "      <td>18</td>\n",
       "      <td>9210</td>\n",
       "      <td>TS Donor E</td>\n",
       "      <td>19</td>\n",
       "      <td>H3K27me3 + B-cells</td>\n",
       "      <td>7</td>\n",
       "      <td>B-cells</td>\n",
       "    </tr>\n",
       "    <tr>\n",
       "      <th>999968</th>\n",
       "      <td>18</td>\n",
       "      <td>9211</td>\n",
       "      <td>TS Donor E</td>\n",
       "      <td>14</td>\n",
       "      <td>B-cells</td>\n",
       "      <td>4</td>\n",
       "      <td>B-cells</td>\n",
       "    </tr>\n",
       "    <tr>\n",
       "      <th>999969</th>\n",
       "      <td>18</td>\n",
       "      <td>9212</td>\n",
       "      <td>TS Donor E</td>\n",
       "      <td>14</td>\n",
       "      <td>B-cells</td>\n",
       "      <td>4</td>\n",
       "      <td>B-cells</td>\n",
       "    </tr>\n",
       "  </tbody>\n",
       "</table>\n",
       "<p>999970 rows × 7 columns</p>\n",
       "</div>"
      ],
      "text/plain": [
       "        ROI  Cell     Dataset leiden        Phenotype_r1 Phenotype_r1_n  \\\n",
       "0         1     1  LN Donor A     32              Stroma              0   \n",
       "1         1     2  LN Donor A     10              Stroma              0   \n",
       "2         1     3  LN Donor A     29              Stroma              0   \n",
       "3         1     4  LN Donor A     11              Stroma              0   \n",
       "4         1     5  LN Donor A     20                 nan              1   \n",
       "...     ...   ...         ...    ...                 ...            ...   \n",
       "999965   18  9208  TS Donor E     26                 nan              1   \n",
       "999966   18  9209  TS Donor E     14             B-cells              4   \n",
       "999967   18  9210  TS Donor E     19  H3K27me3 + B-cells              7   \n",
       "999968   18  9211  TS Donor E     14             B-cells              4   \n",
       "999969   18  9212  TS Donor E     14             B-cells              4   \n",
       "\n",
       "                    Phenotype  \n",
       "0                      Stroma  \n",
       "1                      Stroma  \n",
       "2                      Stroma  \n",
       "3                      Stroma  \n",
       "4                      Stroma  \n",
       "...                       ...  \n",
       "999965  myeloid-derived cells  \n",
       "999966                B-cells  \n",
       "999967                B-cells  \n",
       "999968                B-cells  \n",
       "999969                B-cells  \n",
       "\n",
       "[999970 rows x 7 columns]"
      ]
     },
     "execution_count": 7,
     "metadata": {},
     "output_type": "execute_result"
    }
   ],
   "source": [
    "adata.obs.Dataset.isin(['TS Donor A', 'TS Donor E', 'LN Donor A', 'LN Donor E'])"
   ]
  },
  {
   "cell_type": "code",
   "execution_count": null,
   "id": "7631063d-7715-4e6d-9ae6-05d87bca1720",
   "metadata": {},
   "outputs": [],
   "source": []
  },
  {
   "cell_type": "markdown",
   "id": "5681a1e8-84ad-48af-a290-d478aaa2398d",
   "metadata": {
    "tags": []
   },
   "source": [
    "# Dataset 1\n",
    "\n",
    "Codex public data. Cell segmented using combination of ilastik and cell profiler. The region are divided into different smaller fov"
   ]
  },
  {
   "cell_type": "code",
   "execution_count": 6,
   "id": "b9bdabb3-dfc8-4562-acbe-63b609a56b3f",
   "metadata": {},
   "outputs": [],
   "source": [
    "## Get imgs in hdf5 format\n",
    "\n",
    "# Define saving location\n",
    "h5_data = (Path().cwd().parents[0]).absolute() / 'data'/ 'GC Database' / f\"01_imgs.hdf5\"\n",
    "\n",
    "# Read imgs \n",
    "img_folder = dataset_1 / 'Data' / 'codex_raw'\n",
    "imgs = []\n",
    "markers = []\n",
    "\n",
    "if h5_data.exists():\n",
    "    pass\n",
    "else:\n",
    "    for (dirpath, dirnames, filenames) in os.walk(img_folder):\n",
    "        for name in sorted(filenames):\n",
    "            path = os.path.join(dirpath, name)\n",
    "            img = io.imread(path)\n",
    "\n",
    "            imgs.append(img)\n",
    "            markers.append(name.split('.')[0])\n",
    "\n",
    "    imgs = np.stack(imgs)\n",
    "    save_hdf5(h5_data, 'imgs', imgs, {\"labels\": markers})"
   ]
  },
  {
   "cell_type": "code",
   "execution_count": 7,
   "id": "6f421460-23c6-4119-85ea-7a278e1703d4",
   "metadata": {
    "tags": []
   },
   "outputs": [
    {
     "data": {
      "application/vnd.jupyter.widget-view+json": {
       "model_id": "86292e0bde46427f81264255e8f579d3",
       "version_major": 2,
       "version_minor": 0
      },
      "text/plain": [
       "  0%|          | 0/50 [00:00<?, ?it/s]"
      ]
     },
     "metadata": {},
     "output_type": "display_data"
    },
    {
     "data": {
      "application/vnd.jupyter.widget-view+json": {
       "model_id": "0b1847cac1a348769898107bacefb698",
       "version_major": 2,
       "version_minor": 0
      },
      "text/plain": [
       "0it [00:00, ?it/s]"
      ]
     },
     "metadata": {},
     "output_type": "display_data"
    }
   ],
   "source": [
    "# Create WSI \n",
    "masks_1_folder = masks_folder / '01_codex'\n",
    "masks = []\n",
    "coords = []\n",
    "\n",
    "mask_path = whole_mask_folder / '01.hdf5'\n",
    "\n",
    "if mask_path.exists():\n",
    "    with h5py.File(mask_path, \"r\") as f:\n",
    "        mask_sti = f['mask'][:]\n",
    "else:\n",
    "    for (dirpath, dirnames, filenames) in os.walk(masks_1_folder):\n",
    "        for name in tqdm(sorted(filenames)):\n",
    "            if 'tiff' not in name:\n",
    "                continue\n",
    "\n",
    "            # read mask\n",
    "            path = os.path.join(dirpath, name)\n",
    "            mask = io.imread(path)\n",
    "            mask = mask.astype(np.uint32)\n",
    "            \n",
    "            # If non cell in mask pass\n",
    "            if mask.max() == 0:\n",
    "                continue\n",
    "\n",
    "            # Get mask coords and size\n",
    "            info = name.split(' ')[1]\n",
    "            info = info.split('_')\n",
    "            row = int(info[1][2:])\n",
    "            col = int(info[0][2:])\n",
    "            size = int(info[2][2:])\n",
    "\n",
    "            masks.append(mask)\n",
    "            coords.append((row, col))\n",
    "\n",
    "    coords = np.array(coords)\n",
    "    max_coords = np.max(coords, axis=0)\n",
    "\n",
    "    mask_sti = np.zeros((max_coords[0]+size, max_coords[1]+size), np.uint32)\n",
    "    max_counter = 0\n",
    "    for i, coord in tqdm(enumerate(coords)):\n",
    "        mask = np.where(masks[i]>0, masks[i] + max_counter, 0)\n",
    "        mask_sti[coord[0]:coord[0]+size, coord[1]:coord[1]+size] = mask\n",
    "        max_counter = np.max(mask_sti)\n",
    "    mask_sti, _, _ = relabel_sequential(mask_sti)\n",
    "    save_hdf5(mask_path, 'mask', mask_sti)    "
   ]
  },
  {
   "cell_type": "code",
   "execution_count": 37,
   "id": "20dd35d2-2250-45a7-b43d-5cbae5093f52",
   "metadata": {
    "tags": []
   },
   "outputs": [
    {
     "data": {
      "application/vnd.jupyter.widget-view+json": {
       "model_id": "4b54123de83c420caed97ab59756baa2",
       "version_major": 2,
       "version_minor": 0
      },
      "text/plain": [
       "  0%|          | 0/50 [00:00<?, ?it/s]"
      ]
     },
     "metadata": {},
     "output_type": "display_data"
    }
   ],
   "source": [
    "# Create adata\n",
    "h5_data = (Path().cwd().parents[0]).absolute() / 'data'/ 'GC Database' / f\"01_imgs.hdf5\"\n",
    "masks = []\n",
    "coords = []\n",
    "cell_ids = []\n",
    "\n",
    "df_all = []\n",
    "centroids = []\n",
    "\n",
    "imgs, markers = get_imgs(h5_data, 'imgs')\n",
    "\n",
    "for (dirpath, dirnames, filenames) in os.walk(masks_1_folder):\n",
    "    for name in tqdm(sorted(filenames)):\n",
    "        if 'tiff' not in name:\n",
    "            continue\n",
    "        \n",
    "        # read mask\n",
    "        path = os.path.join(dirpath, name)\n",
    "        mask = io.imread(path)\n",
    "        \n",
    "        # Get spatial info\n",
    "        props = skimage.measure.regionprops_table(\n",
    "            mask, properties=[\"label\"]\n",
    "        )\n",
    "        cell_ids.append(np.array(props['label']))\n",
    "        \n",
    "        # If non cell in mask pass\n",
    "        if mask.max() == 0:\n",
    "            continue\n",
    "        \n",
    "        # Get mask coords and size\n",
    "        info = name.split(' ')[1]\n",
    "        info = info.split('_')\n",
    "        row = int(info[1][2:])\n",
    "        col = int(info[0][2:])\n",
    "        size = int(info[2][2:])\n",
    "        \n",
    "        # Get corresponding multiplex images\n",
    "        imgs_small = imgs[:, row:row+size, col:col+size]\n",
    "        mask = mask_sti[row:row+size, col:col+size]\n",
    "        masks.append(mask)\n",
    "        coords.append((row, col))\n",
    "        \n",
    "        # Get single-cell \n",
    "        f_partial = partial(read_intensity_per_cell, mask=mask)\n",
    "        df_props = Parallel()(delayed(f_partial)(img, markers[i]) for i,img in enumerate(imgs_small))\n",
    "        \n",
    "        df_cell_intensity = reduce(\n",
    "            lambda left, right: pd.merge(left, right, on=[\"Cell_label\"]),\n",
    "            df_props,\n",
    "        )\n",
    "        df_cell_intensity[\"ROI\"] = len(masks)\n",
    "        df_all.append(df_cell_intensity)\n",
    "        \n",
    "        # Get spatial info\n",
    "        props = skimage.measure.regionprops_table(\n",
    "            mask, properties=[\"label\", \"centroid\"]\n",
    "        )\n",
    "        rows = props[\"centroid-0\"] + row\n",
    "        cols = props[\"centroid-1\"] + col \n",
    "        centroid = np.array(list(zip(cols, rows)))\n",
    "        centroids.append(centroid)\n"
   ]
  },
  {
   "cell_type": "code",
   "execution_count": 38,
   "id": "93050606-7dda-43a0-9683-d6915aab6394",
   "metadata": {},
   "outputs": [
    {
     "name": "stderr",
     "output_type": "stream",
     "text": [
      "C:\\Users\\thu71\\AppData\\Local\\Temp\\ipykernel_38836\\3432692503.py:7: FutureWarning: X.dtype being converted to np.float32 from float64. In the next version of anndata (0.9) conversion will not be automatic. Pass dtype explicitly to avoid this warning. Pass `AnnData(X, dtype=X.dtype, ...)` to get the future behavour.\n",
      "  adata = sc.AnnData(df_intensity[markers].values)\n"
     ]
    }
   ],
   "source": [
    "# Append data\n",
    "df_intensity = pd.concat(df_all, ignore_index=True)\n",
    "cent = np.concatenate(centroids)\n",
    "cells_roi = np.concatenate(cell_ids)\n",
    "\n",
    "# Create annData from dataframe\n",
    "adata = sc.AnnData(df_intensity[markers].values)\n",
    "adata.var_names = markers  # add variable name\n",
    "\n",
    "# Add obs information\n",
    "adata.obs[\"ROI\"] = df_intensity.ROI.tolist()\n",
    "adata.obs[\"Cell\"] = df_intensity.Cell_label.tolist()\n",
    "adata.obs['Cell_ROI'] = cells_roi\n",
    "adata.obsm[\"spatial\"] = np.array(cent)\n",
    "\n",
    "path = (Path().cwd().parents[0]).absolute() / 'data'/ 'raw' / '01.h5ad'\n",
    "adata.write(path)"
   ]
  },
  {
   "cell_type": "code",
   "execution_count": 15,
   "id": "70d40d80-c1cc-43ab-b36d-f9ea557f2f8f",
   "metadata": {},
   "outputs": [],
   "source": [
    "h5_data = (Path().cwd().parents[0]).absolute() / 'data'/ 'GC Database' / f\"01_imgs.hdf5\"\n",
    "imgs, markers = get_imgs(h5_data, 'imgs')\n",
    "\n",
    "\n",
    "mask_path = whole_mask_folder / '01.hdf5'\n",
    "with h5py.File(mask_path, \"r\") as f:\n",
    "    mask_sti = f['mask'][:]"
   ]
  },
  {
   "cell_type": "code",
   "execution_count": 17,
   "id": "9170e458-e692-4b3e-84bb-403aaf61cbc2",
   "metadata": {},
   "outputs": [],
   "source": [
    "imgs_small = imgs[:, 3000:8000, 6000:11000]\n",
    "mask_sti_small = mask_sti[3000:8000, 6000:11000]"
   ]
  },
  {
   "cell_type": "code",
   "execution_count": 18,
   "id": "ffbbca87-a04e-418b-a7f9-cc9340045275",
   "metadata": {},
   "outputs": [
    {
     "data": {
      "text/plain": [
       "<matplotlib.image.AxesImage at 0x1fa27ee1b20>"
      ]
     },
     "execution_count": 18,
     "metadata": {},
     "output_type": "execute_result"
    },
    {
     "data": {
      "image/png": "[encoded data removed]",
      "text/plain": [
       "<Figure size 432x288 with 1 Axes>"
      ]
     },
     "metadata": {
      "needs_background": "light"
     },
     "output_type": "display_data"
    }
   ],
   "source": [
    "plt.imshow(mask_sti_small)"
   ]
  },
  {
   "cell_type": "code",
   "execution_count": 19,
   "id": "89c30c14-7dbf-45a7-a743-cbaa28aa05a5",
   "metadata": {},
   "outputs": [
    {
     "name": "stderr",
     "output_type": "stream",
     "text": [
      "C:\\Users\\thu71\\AppData\\Roaming\\Python\\Python39\\site-packages\\napari\\plugins\\_plugin_manager.py:549: UserWarning: Plugin 'napari-crop' has already registered a function widget 'crop region' which has now been overwritten\n",
      "  warn(message=warn_message)\n",
      "C:\\Users\\thu71\\.conda\\envs\\thomas-env\\lib\\site-packages\\napari_tools_menu\\__init__.py:168: FutureWarning: Public access to Window.qt_viewer is deprecated and will be removed in\n",
      "v0.5.0. It is considered an \"implementation detail\" of the napari\n",
      "application, not part of the napari viewer model. If your use case\n",
      "requires access to qt_viewer, please open an issue to discuss.\n",
      "  self.tools_menu = ToolsMenu(self, self.qt_viewer.viewer)\n"
     ]
    },
    {
     "data": {
      "text/plain": [
       "<Labels layer 'mask_sti_small' at 0x1fa2cabd340>"
      ]
     },
     "execution_count": 19,
     "metadata": {},
     "output_type": "execute_result"
    }
   ],
   "source": [
    "import napari\n",
    "viewer = napari.view_image(imgs_small, channel_axis=0, name=markers, visible=False)\n",
    "viewer.add_labels(mask_sti_small)"
   ]
  },
  {
   "cell_type": "markdown",
   "id": "8e613a89-2632-4fa2-8954-f1580e8416a6",
   "metadata": {
    "jp-MarkdownHeadingCollapsed": true,
    "tags": []
   },
   "source": [
    "# Dataset 3"
   ]
  },
  {
   "cell_type": "code",
   "execution_count": 18,
   "id": "5fe06aba-59ba-4f14-bcf4-ad396472174a",
   "metadata": {
    "tags": []
   },
   "outputs": [],
   "source": [
    "## Get imgs in hdf5 format\n",
    "\n",
    "# Define saving location\n",
    "h5_data = (Path().cwd().parents[0]).absolute() / 'data'/ 'GC Database' / f\"03_imgs.hdf5\"\n",
    "\n",
    "if h5_data.exists():\n",
    "    pass\n",
    "else:\n",
    "    # Read imgs \n",
    "    img_path = dataset_3 / 'DATASET-1' / 'TONSIL-1' / '10X' / 'OME_TIFF' / 'tonsil-1_10x.ome.tif'\n",
    "    imgs = io.imread(img_path)\n",
    "    \n",
    "    # Read markers\n",
    "    markers_path = dataset_3 / 'DATASET-1' / 'markers.csv'\n",
    "    df = pd.read_csv(markers_path)\n",
    "    markers = df.marker_name.tolist()\n",
    "\n",
    "    assert len(df) == len(imgs)\n",
    "\n",
    "    save_hdf5(h5_data, 'imgs', imgs, {\"labels\": markers})"
   ]
  },
  {
   "cell_type": "code",
   "execution_count": 20,
   "id": "9215ec47-3348-4093-a1cd-aff0408865e7",
   "metadata": {
    "tags": []
   },
   "outputs": [],
   "source": [
    "masks_1_folder = masks_folder / '03_cycif'\n",
    "masks = []\n",
    "coords = []\n",
    "\n",
    "mask_path = whole_mask_folder / '03.hdf5'\n",
    "\n",
    "if mask_path.exists():\n",
    "    with h5py.File(mask_path, \"r\") as f:\n",
    "        mask_sti = f['mask'][:]\n",
    "else:\n",
    "    for (dirpath, dirnames, filenames) in os.walk(masks_1_folder):\n",
    "        for name in tqdm(sorted(filenames)):\n",
    "            if 'tiff' not in name:\n",
    "                continue\n",
    "\n",
    "            # read mask\n",
    "            path = os.path.join(dirpath, name)\n",
    "            mask = io.imread(path)\n",
    "            mask = mask.astype(np.uint32)\n",
    "            \n",
    "            # If non cell in mask pass\n",
    "            if mask.max() == 0:\n",
    "                continue\n",
    "\n",
    "            # Get mask coords and size\n",
    "            info = name.split(' ')[1]\n",
    "            info = info.split('_')\n",
    "            row = int(info[1][2:])\n",
    "            col = int(info[0][2:])\n",
    "            size = int(info[2][2:])\n",
    "\n",
    "            masks.append(mask)\n",
    "            coords.append((row, col))\n",
    "\n",
    "    coords = np.array(coords)\n",
    "    max_coords = np.max(coords, axis=0)\n",
    "\n",
    "    mask_sti = np.zeros((max_coords[0]+size, max_coords[1]+size), np.uint32)\n",
    "    max_counter = 0\n",
    "    for i, coord in tqdm(enumerate(coords)):\n",
    "        mask = np.where(masks[i]>0, masks[i] + max_counter, 0)\n",
    "        mask_sti[coord[0]:coord[0]+size, coord[1]:coord[1]+size] = mask\n",
    "        max_counter = np.max(mask_sti)\n",
    "    mask_sti, _, _ = relabel_sequential(mask_sti)\n",
    "    save_hdf5(mask_path, 'mask', mask_sti)    "
   ]
  },
  {
   "cell_type": "code",
   "execution_count": 21,
   "id": "87f68a59-b4a6-4efc-96a8-f5b13149a3ff",
   "metadata": {},
   "outputs": [
    {
     "data": {
      "application/vnd.jupyter.widget-view+json": {
       "model_id": "d85338e169aa43479c4327d6a33d2a6d",
       "version_major": 2,
       "version_minor": 0
      },
      "text/plain": [
       "  0%|          | 0/55 [00:00<?, ?it/s]"
      ]
     },
     "metadata": {},
     "output_type": "display_data"
    }
   ],
   "source": [
    "# Create adata\n",
    "h5_data = (Path().cwd().parents[0]).absolute() / 'data'/ 'GC Database' / f\"03_imgs.hdf5\"\n",
    "masks = []\n",
    "coords = []\n",
    "cell_ids = []\n",
    "\n",
    "df_all = []\n",
    "centroids = []\n",
    "\n",
    "imgs, markers = get_imgs(h5_data, 'imgs')\n",
    "\n",
    "for (dirpath, dirnames, filenames) in os.walk(masks_1_folder):\n",
    "    for name in tqdm(sorted(filenames)):\n",
    "        if 'tiff' not in name:\n",
    "            continue\n",
    "        \n",
    "        # read mask\n",
    "        path = os.path.join(dirpath, name)\n",
    "        mask = io.imread(path)\n",
    "        \n",
    "        # If non cell in mask pass\n",
    "        if mask.max() == 0:\n",
    "            continue\n",
    "        \n",
    "        # Get spatial info\n",
    "        props = skimage.measure.regionprops_table(\n",
    "            mask, properties=[\"label\"]\n",
    "        )\n",
    "        cell_ids.append(np.array(props['label']))\n",
    "        \n",
    "\n",
    "        \n",
    "        # Get mask coords and size\n",
    "        info = name.split(' ')[1]\n",
    "        info = info.split('_')\n",
    "        row = int(info[1][2:])\n",
    "        col = int(info[0][2:])\n",
    "        size = int(info[2][2:])\n",
    "        \n",
    "        # Get corresponding multiplex images\n",
    "        imgs_small = imgs[:, row:row+size, col:col+size]\n",
    "        mask = mask_sti[row:row+size, col:col+size]\n",
    "        masks.append(mask)\n",
    "        coords.append((row, col))\n",
    "        \n",
    "        # Get single-cell \n",
    "        f_partial = partial(read_intensity_per_cell, mask=mask)\n",
    "        df_props = Parallel()(delayed(f_partial)(img, markers[i]) for i,img in enumerate(imgs_small))\n",
    "        \n",
    "        df_cell_intensity = reduce(\n",
    "            lambda left, right: pd.merge(left, right, on=[\"Cell_label\"]),\n",
    "            df_props,\n",
    "        )\n",
    "        df_cell_intensity[\"ROI\"] = len(masks)\n",
    "        df_all.append(df_cell_intensity)\n",
    "        \n",
    "        # Get spatial info\n",
    "        props = skimage.measure.regionprops_table(\n",
    "            mask, properties=[\"label\", \"centroid\"]\n",
    "        )\n",
    "        rows = props[\"centroid-0\"] + row\n",
    "        cols = props[\"centroid-1\"] + col \n",
    "        centroid = np.array(list(zip(cols, rows)))\n",
    "        centroids.append(centroid)\n"
   ]
  },
  {
   "cell_type": "code",
   "execution_count": 22,
   "id": "aabea6f6-b123-407b-9e6c-6e2934a8e66c",
   "metadata": {},
   "outputs": [
    {
     "name": "stderr",
     "output_type": "stream",
     "text": [
      "C:\\Users\\thu71\\AppData\\Local\\Temp\\ipykernel_17832\\1930917565.py:7: FutureWarning: X.dtype being converted to np.float32 from float64. In the next version of anndata (0.9) conversion will not be automatic. Pass dtype explicitly to avoid this warning. Pass `AnnData(X, dtype=X.dtype, ...)` to get the future behavour.\n",
      "  adata = sc.AnnData(df_intensity[markers].values)\n"
     ]
    }
   ],
   "source": [
    "# Append data\n",
    "df_intensity = pd.concat(df_all, ignore_index=True)\n",
    "cent = np.concatenate(centroids)\n",
    "cells_roi = np.concatenate(cell_ids)\n",
    "\n",
    "# Create annData from dataframe\n",
    "adata = sc.AnnData(df_intensity[markers].values)\n",
    "adata.var_names = markers  # add variable name\n",
    "\n",
    "# Add obs information\n",
    "adata.obs[\"ROI\"] = df_intensity.ROI.tolist()\n",
    "adata.obs[\"Cell\"] = df_intensity.Cell_label.tolist()\n",
    "adata.obs['Cell_ROI'] = cells_roi\n",
    "adata.obsm[\"spatial\"] = np.array(cent)\n",
    "\n",
    "path = (Path().cwd().parents[0]).absolute() / 'data'/ 'raw' / '03.h5ad'\n",
    "adata.write(path)"
   ]
  },
  {
   "cell_type": "markdown",
   "id": "e32a6a0a-a93e-480b-b103-e94b0d3c38b1",
   "metadata": {
    "tags": []
   },
   "source": [
    "# Dataset 5"
   ]
  },
  {
   "cell_type": "code",
   "execution_count": 7,
   "id": "f08610ef-0971-4882-ab9b-b8597bcd29a7",
   "metadata": {},
   "outputs": [],
   "source": [
    "## Get imgs in hdf5 format\n",
    "\n",
    "# Define saving location\n",
    "h5_data = (Path().cwd().parents[0]).absolute() / 'data'/ 'GC Database' / f\"05_imgs.hdf5\"\n",
    "\n",
    "if h5_data.exists():\n",
    "    pass\n",
    "else:\n",
    "    print('Reading images')\n",
    "    # Read imgs \n",
    "    img_path = dataset_5 / 'registration' / 'tnp_pilot_cycif.ome.tif'\n",
    "    imgs = io.imread(img_path)\n",
    "    \n",
    "    # Read markers\n",
    "    markers_path = dataset_5 / 'markers.csv'\n",
    "    df = pd.read_csv(markers_path, header = None)\n",
    "\n",
    "    assert len(df) == len(imgs)\n",
    "\n",
    "    markers = df.iloc[:,0].tolist()\n",
    "    \n",
    "    print('Saving images')\n",
    "    save_hdf5(h5_data, 'imgs', imgs, {\"labels\": markers})"
   ]
  },
  {
   "cell_type": "code",
   "execution_count": 8,
   "id": "79fa6cd7-db4c-4b00-a2b5-580a9c50c6ff",
   "metadata": {},
   "outputs": [],
   "source": [
    "masks_1_folder = masks_folder / '05_cycif'\n",
    "masks = []\n",
    "coords = []\n",
    "\n",
    "mask_path = whole_mask_folder / '05_v1.hdf5'\n",
    "\n",
    "if mask_path.exists():\n",
    "    with h5py.File(mask_path, \"r\") as f:\n",
    "        mask_sti = f['mask'][:]\n",
    "else:\n",
    "    for (dirpath, dirnames, filenames) in os.walk(masks_1_folder):\n",
    "        for name in tqdm(sorted(filenames)):\n",
    "            if 'tiff' not in name:\n",
    "                continue\n",
    "\n",
    "            # read mask\n",
    "            path = os.path.join(dirpath, name)\n",
    "            mask = io.imread(path)\n",
    "            mask = mask.astype(np.uint32)\n",
    "            \n",
    "            # If non cell in mask pass\n",
    "            if mask.max() == 0:\n",
    "                continue\n",
    "\n",
    "            # Get mask coords and size\n",
    "            info = name.split(' ')[4]\n",
    "            info = info.split('_')\n",
    "            row = int(info[1][2:])\n",
    "            col = int(info[0][2:])\n",
    "            size = int(info[2][2:])\n",
    "\n",
    "            masks.append(mask)\n",
    "            coords.append((row, col))\n",
    "\n",
    "    coords = np.array(coords)\n",
    "    max_coords = np.max(coords, axis=0)\n",
    "\n",
    "    mask_sti = np.zeros((max_coords[0]+size, max_coords[1]+size), np.uint32)\n",
    "    max_counter = 0\n",
    "    for i, coord in tqdm(enumerate(coords)):\n",
    "        mask = np.where(masks[i]>0, masks[i] + max_counter, 0)\n",
    "        mask_sti[coord[0]:coord[0]+size, coord[1]:coord[1]+size] = mask\n",
    "        max_counter = np.max(mask_sti)\n",
    "    mask_sti, _, _ = relabel_sequential(mask_sti)\n",
    "    save_hdf5(mask_path, 'mask', mask_sti)    "
   ]
  },
  {
   "cell_type": "code",
   "execution_count": 13,
   "id": "f2e0e815-d9e5-4779-a3d7-c1577e5c2673",
   "metadata": {},
   "outputs": [
    {
     "data": {
      "application/vnd.jupyter.widget-view+json": {
       "model_id": "9f028a79612140a59e51cd76561d186c",
       "version_major": 2,
       "version_minor": 0
      },
      "text/plain": [
       "  0%|          | 0/70 [00:00<?, ?it/s]"
      ]
     },
     "metadata": {},
     "output_type": "display_data"
    }
   ],
   "source": [
    "# Create adata\n",
    "h5_data = (Path().cwd().parents[0]).absolute() / 'data'/ 'GC Database' / f\"05_imgs.hdf5\"\n",
    "masks = []\n",
    "coords = []\n",
    "cell_ids = []\n",
    "\n",
    "df_all = []\n",
    "centroids = []\n",
    "\n",
    "imgs, markers = get_imgs(h5_data, 'imgs')\n",
    "\n",
    "for (dirpath, dirnames, filenames) in os.walk(masks_1_folder):\n",
    "    for name in tqdm(sorted(filenames)):\n",
    "        if 'tiff' not in name:\n",
    "            continue\n",
    "        \n",
    "        # read mask\n",
    "        path = os.path.join(dirpath, name)\n",
    "        mask = io.imread(path)\n",
    "        \n",
    "        # If non cell in mask pass\n",
    "        if mask.max() == 0:\n",
    "            continue\n",
    "        \n",
    "        # Get spatial info\n",
    "        props = skimage.measure.regionprops_table(\n",
    "            mask, properties=[\"label\"]\n",
    "        )\n",
    "        cell_ids.append(np.array(props['label']))\n",
    "        \n",
    "\n",
    "        # Get mask coords and size\n",
    "        info = name.split(' ')[4]\n",
    "        info = info.split('_')\n",
    "        row = int(info[1][2:])\n",
    "        col = int(info[0][2:])\n",
    "        size = int(info[2][2:])\n",
    "\n",
    "        # Get corresponding multiplex images\n",
    "        imgs_small = imgs[:, row:row+size, col:col+size]\n",
    "        mask = mask_sti[row:row+size, col:col+size]\n",
    "        masks.append(mask)\n",
    "        coords.append((row, col))\n",
    "        \n",
    "        # Get single-cell \n",
    "        f_partial = partial(read_intensity_per_cell, mask=mask)\n",
    "        df_props = Parallel()(delayed(f_partial)(img, markers[i]) for i,img in enumerate(imgs_small))\n",
    "        \n",
    "        df_cell_intensity = reduce(\n",
    "            lambda left, right: pd.merge(left, right, on=[\"Cell_label\"]),\n",
    "            df_props,\n",
    "        )\n",
    "        df_cell_intensity[\"ROI\"] = len(masks)\n",
    "        df_all.append(df_cell_intensity)\n",
    "        \n",
    "        # Get spatial info\n",
    "        props = skimage.measure.regionprops_table(\n",
    "            mask, properties=[\"label\", \"centroid\"]\n",
    "        )\n",
    "        rows = props[\"centroid-0\"] + row\n",
    "        cols = props[\"centroid-1\"] + col \n",
    "        centroid = np.array(list(zip(cols, rows)))\n",
    "        centroids.append(centroid)\n"
   ]
  },
  {
   "cell_type": "code",
   "execution_count": 15,
   "id": "ca24ae4e-9d1c-40c7-8c11-5af241bcb75a",
   "metadata": {},
   "outputs": [
    {
     "name": "stderr",
     "output_type": "stream",
     "text": [
      "C:\\Users\\thu71\\AppData\\Local\\Temp\\ipykernel_46796\\192837044.py:7: FutureWarning: X.dtype being converted to np.float32 from float64. In the next version of anndata (0.9) conversion will not be automatic. Pass dtype explicitly to avoid this warning. Pass `AnnData(X, dtype=X.dtype, ...)` to get the future behavour.\n",
      "  adata = sc.AnnData(df_intensity[markers].values)\n"
     ]
    }
   ],
   "source": [
    "# Append data\n",
    "df_intensity = pd.concat(df_all, ignore_index=True)\n",
    "cent = np.concatenate(centroids)\n",
    "cells_roi = np.concatenate(cell_ids)\n",
    "\n",
    "# Create annData from dataframe\n",
    "adata = sc.AnnData(df_intensity[markers].values)\n",
    "adata.var_names = markers  # add variable name\n",
    "\n",
    "# Add obs information\n",
    "adata.obs[\"ROI\"] = df_intensity.ROI.tolist()\n",
    "adata.obs[\"Cell\"] = df_intensity.Cell_label.tolist()\n",
    "adata.obs['Cell_ROI'] = cells_roi\n",
    "adata.obsm[\"spatial\"] = np.array(cent)\n",
    "\n",
    "path = (Path().cwd().parents[0]).absolute() / 'data'/ 'raw' / '05_v1.h5ad'\n",
    "adata.write(path)"
   ]
  },
  {
   "cell_type": "markdown",
   "id": "574cee65-2691-4d10-9e98-dc4e35719f2d",
   "metadata": {
    "jp-MarkdownHeadingCollapsed": true,
    "tags": []
   },
   "source": [
    "## Transform csv file for source"
   ]
  },
  {
   "cell_type": "code",
   "execution_count": 59,
   "id": "17b02d39-a7ad-4a46-bf97-d9c46ad63284",
   "metadata": {},
   "outputs": [
    {
     "name": "stdout",
     "output_type": "stream",
     "text": [
      "Index(['CellID', 'A488_cellMask', 'A555_cellMask', 'A647_cellMask',\n",
      "       'Hoechst2_cellMask', 'anti_NaKATPase_cellMask', 'anti_CD3_cellMask',\n",
      "       'anti_CD45RO_cellMask', 'Hoechst3_cellMask', 'Ki67_488_cellMask',\n",
      "       'Keratin_570_cellMask', 'aSMA_660_cellMask', 'Hoechst4_cellMask',\n",
      "       'CD8a_488_cellMask', 'CD4_570_cellMask', 'CD45_647_cellMask',\n",
      "       'Hoechst5_cellMask', 'CD20_488_cellMask', 'CD11c_555_cellMask',\n",
      "       'PD1_647_cellMask', 'Hoechst6_cellMask', 'CD68_488_cellMask',\n",
      "       'FOXP3_570_cellMask', 'PDL1_647_cellMask', 'Hoechst7_cellMask',\n",
      "       'CD163_488_cellMask', 'H3_PE_cellMask', 'CD31_647_cellMask',\n",
      "       'Hoechst8_cellMask', 'Ecad_488_cellMask', 'Vimentin_555_cellMask',\n",
      "       'Catenin_647_cellMask', 'Hoechst9_cellMask', 'LaminAC_488_cellMask',\n",
      "       'pH3_555_cellMask', 'H2ax_647_cellMask', 'X_centroid', 'Y_centroid',\n",
      "       'column_centroid', 'row_centroid', 'Area', 'MajorAxisLength',\n",
      "       'MinorAxisLength', 'Eccentricity', 'Solidity', 'Extent', 'Orientation'],\n",
      "      dtype='object')\n"
     ]
    }
   ],
   "source": [
    "csv_path = dataset_5 / 'quantification' / 'unmicst-tnp_pilot_cycif.csv'\n",
    "df = pd.read_csv(csv_path)\n",
    "\n",
    "print(df.columns)"
   ]
  },
  {
   "cell_type": "code",
   "execution_count": 60,
   "id": "77b934cb-9590-4b3e-aad3-d92a7c5d5fc1",
   "metadata": {},
   "outputs": [],
   "source": [
    "name = df.columns.tolist()\n",
    "name = [n.replace('_cellMask','') for n in name]"
   ]
  },
  {
   "cell_type": "code",
   "execution_count": 63,
   "id": "0c024a19-35eb-4b34-be4c-e47d1f58d37e",
   "metadata": {},
   "outputs": [],
   "source": [
    "protein_columns = ['A488_cellMask', 'A555_cellMask', 'A647_cellMask',\n",
    "       'Hoechst2_cellMask', 'anti_NaKATPase_cellMask', 'anti_CD3_cellMask',\n",
    "       'anti_CD45RO_cellMask', 'Hoechst3_cellMask', 'Ki67_488_cellMask',\n",
    "       'Keratin_570_cellMask', 'aSMA_660_cellMask', 'Hoechst4_cellMask',\n",
    "       'CD8a_488_cellMask', 'CD4_570_cellMask', 'CD45_647_cellMask',\n",
    "       'Hoechst5_cellMask', 'CD20_488_cellMask', 'CD11c_555_cellMask',\n",
    "       'PD1_647_cellMask', 'Hoechst6_cellMask', 'CD68_488_cellMask',\n",
    "       'FOXP3_570_cellMask', 'PDL1_647_cellMask', 'Hoechst7_cellMask',\n",
    "       'CD163_488_cellMask', 'H3_PE_cellMask', 'CD31_647_cellMask',\n",
    "       'Hoechst8_cellMask', 'Ecad_488_cellMask', 'Vimentin_555_cellMask',\n",
    "       'Catenin_647_cellMask', 'Hoechst9_cellMask', 'LaminAC_488_cellMask',\n",
    "       'pH3_555_cellMask', 'H2ax_647_cellMask']\n",
    "                   \n",
    "protein_name = ['A488', 'A555', 'A647', 'Hoechst2', 'anti_NaKATPase', 'anti_CD3', 'anti_CD45RO', 'Hoechst3', 'Ki67_488', \n",
    "                'Keratin_570', 'aSMA_660', 'Hoechst4', 'CD8a_488', 'CD4_570', 'CD45_647', 'Hoechst5', 'CD20_488', \n",
    "                'CD11c_555', 'PD1_647', 'Hoechst6', 'CD68_488', 'FOXP3_570', 'PDL1_647', 'Hoechst7', 'CD163_488', \n",
    "                'H3_PE', 'CD31_647', 'Hoechst8', 'Ecad_488', 'Vimentin_555', 'Catenin_647', 'Hoechst9', 'LaminAC_488', \n",
    "                'pH3_555', 'H2ax_647']\n",
    "\n",
    "meta_columns = ['CellID', 'Area', 'MajorAxisLength',\n",
    "       'MinorAxisLength', 'Eccentricity', 'Solidity', 'Extent', 'Orientation']\n",
    "\n",
    "meta = ['Cell', 'Area', 'MajorAxisLength',\n",
    "       'MinorAxisLength', 'Eccentricity', 'Solidity', 'Extent', 'Orientation']"
   ]
  },
  {
   "cell_type": "code",
   "execution_count": 64,
   "id": "b8993599-443e-438d-afcb-a8b8f864e164",
   "metadata": {},
   "outputs": [],
   "source": [
    "x = df['X_centroid'].to_numpy().astype(int)\n",
    "y = df['Y_centroid'].to_numpy().astype(int)\n",
    "\n",
    "spatial = np.vstack([x, y]).T"
   ]
  },
  {
   "cell_type": "code",
   "execution_count": 65,
   "id": "f0992df6-361f-42e8-a8b2-8e2eae797aae",
   "metadata": {},
   "outputs": [
    {
     "name": "stderr",
     "output_type": "stream",
     "text": [
      "C:\\Users\\thu71\\AppData\\Local\\Temp\\ipykernel_17832\\1349207622.py:1: FutureWarning: X.dtype being converted to np.float32 from float64. In the next version of anndata (0.9) conversion will not be automatic. Pass dtype explicitly to avoid this warning. Pass `AnnData(X, dtype=X.dtype, ...)` to get the future behavour.\n",
      "  adata = ad.AnnData(df[protein_columns].values)\n"
     ]
    }
   ],
   "source": [
    "adata = ad.AnnData(df[protein_columns].values)\n",
    "adata.var_names = protein_name\n",
    "adata.obs = df[meta_columns]\n",
    "adata.obs.columns = meta\n",
    "adata.obsm['spatial'] = spatial"
   ]
  },
  {
   "cell_type": "code",
   "execution_count": 66,
   "id": "cc97e573-390f-4600-a9d7-69a75e774999",
   "metadata": {},
   "outputs": [],
   "source": [
    "path = (Path().cwd().parents[0]).absolute() / 'data'/ 'raw' / '05.h5ad'\n",
    "adata.write(path)"
   ]
  },
  {
   "cell_type": "markdown",
   "id": "b5bc0a2f-b808-427e-b551-0c6f888a87d0",
   "metadata": {
    "tags": []
   },
   "source": [
    "### Save mask"
   ]
  },
  {
   "cell_type": "code",
   "execution_count": 69,
   "id": "547d8bfa-912e-41d2-9588-53aa6dab53a9",
   "metadata": {},
   "outputs": [],
   "source": [
    "import cv2"
   ]
  },
  {
   "cell_type": "code",
   "execution_count": 80,
   "id": "dc6b9905-bcde-4648-8034-71f42ed14634",
   "metadata": {},
   "outputs": [],
   "source": [
    "mask_path = r'Y:\\coskun-lab\\Thomas\\09_datasets\\05_MCMICRO\\TNP_pilot_cycif\\segmentation\\unmicst-TNP_pilot_cycif\\cellmask.tif'\n",
    "mask = io.imread(mask_path)\n",
    "\n",
    "mask_path = whole_mask_folder / '05.hdf5'\n",
    "save_hdf5(mask_path, 'mask', mask) "
   ]
  },
  {
   "cell_type": "markdown",
   "id": "a35fccdc-9b4d-43dc-8d1f-2bb9789c8069",
   "metadata": {
    "tags": []
   },
   "source": [
    "# Dataset 7"
   ]
  },
  {
   "cell_type": "code",
   "execution_count": 23,
   "id": "8889b84f-d0a3-4f6e-9dfb-4eaa8dff4e57",
   "metadata": {},
   "outputs": [],
   "source": [
    "## Get imgs in hdf5 format\n",
    "\n",
    "# Define saving location\n",
    "h5_data = (Path().cwd().parents[0]).absolute() / 'data'/ 'GC Database' / f\"07_imgs.hdf5\"\n",
    "\n",
    "if h5_data.exists():\n",
    "    pass\n",
    "else:\n",
    "    # Read markers\n",
    "    markers_path = dataset_7 / 'markers.csv'\n",
    "    df = pd.read_csv(markers_path)\n",
    "    \n",
    "    # Read imgs \n",
    "    img_folder = dataset_7 / 'ome-tiff'\n",
    "    ids = []\n",
    "    \n",
    "    for (dirpath, dirnames, filenames) in os.walk(img_folder):\n",
    "        for fname in sorted(filenames):\n",
    "            path = os.path.join(dirpath, fname)\n",
    "            imgs = io.imread(path)\n",
    "\n",
    "            img_id = fname.split('.')[0]\n",
    "            try:\n",
    "                markers = df[img_id].tolist()\n",
    "                markers = markers[:len(imgs)]\n",
    "            except:\n",
    "                continue\n",
    "\n",
    "            save_hdf5(h5_data, img_id, imgs, {\"labels\": markers})"
   ]
  },
  {
   "cell_type": "code",
   "execution_count": 24,
   "id": "49be75dc-ad97-42e9-9859-0bd812130d6c",
   "metadata": {
    "tags": []
   },
   "outputs": [
    {
     "data": {
      "application/vnd.jupyter.widget-view+json": {
       "model_id": "028aaac48a3041e6b9f8c19c02d8b60f",
       "version_major": 2,
       "version_minor": 0
      },
      "text/plain": [
       "  0%|          | 0/12 [00:00<?, ?it/s]"
      ]
     },
     "metadata": {},
     "output_type": "display_data"
    }
   ],
   "source": [
    "h5_data = (Path().cwd().parents[0]).absolute() / 'data'/ 'GC Database' / f\"07_imgs.hdf5\"\n",
    "with h5py.File(h5_data) as f:\n",
    "    datasets = list(f.keys())  # works like a dict\n",
    "\n",
    "for i, dataset in tqdm(enumerate(datasets), total=len(datasets)):\n",
    "    mask_path = whole_mask_folder / f'07_{dataset}.hdf5'\n",
    "    if mask_path.exists():\n",
    "        # with h5py.File(mask_path, \"r\") as f:\n",
    "        #     mask_sti = f['mask'][:]\n",
    "        pass\n",
    "    else:\n",
    "        masks_1_folder = masks_folder / f'07_{dataset}'\n",
    "        masks = []\n",
    "        coords = []\n",
    "        sizes = []\n",
    "        \n",
    "        for (dirpath, dirnames, filenames) in os.walk(masks_1_folder):\n",
    "            for name in tqdm(sorted(filenames)):\n",
    "                if 'tiff' not in name:\n",
    "                    continue\n",
    "\n",
    "                # read mask\n",
    "                path = os.path.join(dirpath, name)\n",
    "                mask = io.imread(path)\n",
    "                mask = mask.astype(np.uint32)\n",
    "\n",
    "                # If non cell in mask pass\n",
    "                if mask.max() == 0:\n",
    "                    continue\n",
    "\n",
    "                # Get mask coords and size\n",
    "                d, row, col, size = get_info_name(name)\n",
    "\n",
    "                masks.append(mask)\n",
    "                coords.append((row, col))\n",
    "                sizes.append(mask.shape)\n",
    "\n",
    "        coords = np.array(coords) // d\n",
    "        sizes = np.array(sizes)\n",
    "\n",
    "        max_coords = np.max(coords, axis=0)\n",
    "        sizes_r = sizes[np.argmax(coords, axis=0)[0]][0]\n",
    "        sizes_c = sizes[np.argmax(coords, axis=0)[0]][1]\n",
    "\n",
    "        mask_sti = np.zeros((max_coords[0]+sizes_r, max_coords[1]+sizes_c), np.uint32)\n",
    "        max_counter = 0\n",
    "        for i, coord in tqdm(enumerate(coords)):\n",
    "            mask = np.where(masks[i]>0, masks[i] + max_counter, 0)\n",
    "            s_r = sizes[i][0]\n",
    "            s_c = sizes[i][1]\n",
    "            mask_sti[coord[0]:coord[0]+ s_r, coord[1]:coord[1]+ s_c] = mask\n",
    "            max_counter = np.max(mask_sti)\n",
    "        mask_sti, _, _ = relabel_sequential(mask_sti)\n",
    "        save_hdf5(mask_path, 'mask', mask_sti)    "
   ]
  },
  {
   "cell_type": "code",
   "execution_count": 49,
   "id": "37592b12-acf6-4d59-a108-a9e010ae3c52",
   "metadata": {},
   "outputs": [
    {
     "data": {
      "application/vnd.jupyter.widget-view+json": {
       "model_id": "1497148a07ff4afca2599b3b6d406c14",
       "version_major": 2,
       "version_minor": 0
      },
      "text/plain": [
       "  0%|          | 0/12 [00:00<?, ?it/s]"
      ]
     },
     "metadata": {},
     "output_type": "display_data"
    },
    {
     "data": {
      "application/vnd.jupyter.widget-view+json": {
       "model_id": "e9972f09f23e41ec85f514b65b331220",
       "version_major": 2,
       "version_minor": 0
      },
      "text/plain": [
       "  0%|          | 0/24 [00:00<?, ?it/s]"
      ]
     },
     "metadata": {},
     "output_type": "display_data"
    },
    {
     "name": "stderr",
     "output_type": "stream",
     "text": [
      "C:\\Users\\thu71\\AppData\\Local\\Temp\\ipykernel_17832\\3513332648.py:86: FutureWarning: X.dtype being converted to np.float32 from float64. In the next version of anndata (0.9) conversion will not be automatic. Pass dtype explicitly to avoid this warning. Pass `AnnData(X, dtype=X.dtype, ...)` to get the future behavour.\n",
      "  adata = sc.AnnData(df_intensity[markers].values)\n"
     ]
    },
    {
     "data": {
      "application/vnd.jupyter.widget-view+json": {
       "model_id": "c0d9b4746b6b4c1dafacf56ae85c3b30",
       "version_major": 2,
       "version_minor": 0
      },
      "text/plain": [
       "  0%|          | 0/40 [00:00<?, ?it/s]"
      ]
     },
     "metadata": {},
     "output_type": "display_data"
    },
    {
     "data": {
      "application/vnd.jupyter.widget-view+json": {
       "model_id": "8ad99e0cae6d4199a910dcd10eed3a6e",
       "version_major": 2,
       "version_minor": 0
      },
      "text/plain": [
       "  0%|          | 0/30 [00:00<?, ?it/s]"
      ]
     },
     "metadata": {},
     "output_type": "display_data"
    },
    {
     "data": {
      "application/vnd.jupyter.widget-view+json": {
       "model_id": "9988749b6d914ed49cecf747fd56c932",
       "version_major": 2,
       "version_minor": 0
      },
      "text/plain": [
       "  0%|          | 0/29 [00:00<?, ?it/s]"
      ]
     },
     "metadata": {},
     "output_type": "display_data"
    },
    {
     "data": {
      "application/vnd.jupyter.widget-view+json": {
       "model_id": "9f049f692e8a46eda7ad70073c9dd2bf",
       "version_major": 2,
       "version_minor": 0
      },
      "text/plain": [
       "  0%|          | 0/23 [00:00<?, ?it/s]"
      ]
     },
     "metadata": {},
     "output_type": "display_data"
    },
    {
     "data": {
      "application/vnd.jupyter.widget-view+json": {
       "model_id": "01f6879f8fbc42bea4af1baba6ea9e7f",
       "version_major": 2,
       "version_minor": 0
      },
      "text/plain": [
       "  0%|          | 0/18 [00:00<?, ?it/s]"
      ]
     },
     "metadata": {},
     "output_type": "display_data"
    },
    {
     "data": {
      "application/vnd.jupyter.widget-view+json": {
       "model_id": "b867d2b51d534d5cac5d219caca450bb",
       "version_major": 2,
       "version_minor": 0
      },
      "text/plain": [
       "  0%|          | 0/72 [00:00<?, ?it/s]"
      ]
     },
     "metadata": {},
     "output_type": "display_data"
    },
    {
     "data": {
      "application/vnd.jupyter.widget-view+json": {
       "model_id": "d174b73c6d6f47df9d4ccb0f93d2ddf7",
       "version_major": 2,
       "version_minor": 0
      },
      "text/plain": [
       "  0%|          | 0/99 [00:00<?, ?it/s]"
      ]
     },
     "metadata": {},
     "output_type": "display_data"
    },
    {
     "data": {
      "application/vnd.jupyter.widget-view+json": {
       "model_id": "63da6f9cb21548bfb03cfac67f48d98f",
       "version_major": 2,
       "version_minor": 0
      },
      "text/plain": [
       "  0%|          | 0/86 [00:00<?, ?it/s]"
      ]
     },
     "metadata": {},
     "output_type": "display_data"
    },
    {
     "data": {
      "application/vnd.jupyter.widget-view+json": {
       "model_id": "c313067e50ad4f50a97d097927d1c7d7",
       "version_major": 2,
       "version_minor": 0
      },
      "text/plain": [
       "  0%|          | 0/54 [00:00<?, ?it/s]"
      ]
     },
     "metadata": {},
     "output_type": "display_data"
    },
    {
     "data": {
      "application/vnd.jupyter.widget-view+json": {
       "model_id": "0c81be47975a4c2980de08b43f7c477c",
       "version_major": 2,
       "version_minor": 0
      },
      "text/plain": [
       "  0%|          | 0/40 [00:00<?, ?it/s]"
      ]
     },
     "metadata": {},
     "output_type": "display_data"
    },
    {
     "data": {
      "application/vnd.jupyter.widget-view+json": {
       "model_id": "b4d4d8c477de4f1b8f4fa245a6d121c6",
       "version_major": 2,
       "version_minor": 0
      },
      "text/plain": [
       "  0%|          | 0/64 [00:00<?, ?it/s]"
      ]
     },
     "metadata": {},
     "output_type": "display_data"
    }
   ],
   "source": [
    "h5_data = (Path().cwd().parents[0]).absolute() / 'data'/ 'GC Database' / f\"07_imgs.hdf5\"\n",
    "with h5py.File(h5_data) as f:\n",
    "    datasets = list(f.keys())  # works like a dict\n",
    "\n",
    "adatas = []\n",
    "    \n",
    "for i, dataset in tqdm(enumerate(datasets), total=len(datasets)):\n",
    "    mask_path = whole_mask_folder / f'07_{dataset}.hdf5'\n",
    "    with h5py.File(mask_path, \"r\") as f:\n",
    "        mask_sti = f['mask'][:]\n",
    "        \n",
    "    masks_1_folder = masks_folder / f'07_{dataset}'\n",
    "    \n",
    "    masks = []\n",
    "    coords = []\n",
    "    sizes = []\n",
    "    cell_ids = []\n",
    "    \n",
    "    df_all = []\n",
    "    centroids = []\n",
    "\n",
    "    imgs, markers = get_imgs(h5_data, dataset)\n",
    "\n",
    "    for (dirpath, dirnames, filenames) in os.walk(masks_1_folder):\n",
    "        for name in tqdm(sorted(filenames)):\n",
    "            if 'tiff' not in name:\n",
    "                continue\n",
    "\n",
    "            # read mask\n",
    "            path = os.path.join(dirpath, name)\n",
    "            mask = io.imread(path)\n",
    "\n",
    "            # If non cell in mask pass\n",
    "            if mask.max() == 0:\n",
    "                continue\n",
    "\n",
    "            # Get spatial info\n",
    "            props = skimage.measure.regionprops_table(\n",
    "                mask, properties=[\"label\"]\n",
    "            )\n",
    "            cell_ids.append(np.array(props['label']))\n",
    "\n",
    "            # Get mask coords and size\n",
    "            d, row, col, size = get_info_name(name)\n",
    "            \n",
    "            # Get corresponding multiplex images\n",
    "            imgs_small = imgs[:, row:row+size[0], col:col+size[1]]\n",
    "            imgs_small = transform.resize(imgs_small, (len(imgs), mask.shape[0], mask.shape[1]), \n",
    "                                          anti_aliasing=True)\n",
    "            \n",
    "            size = mask.shape\n",
    "            row = row // d \n",
    "            col = col // d\n",
    "            \n",
    "            mask = mask_sti[row:row+size[0], col:col+size[1]]\n",
    "            sizes.append(mask.shape)\n",
    "            masks.append(mask)\n",
    "            coords.append((row, col))\n",
    "\n",
    "            # Get single-cell \n",
    "            f_partial = partial(read_intensity_per_cell, mask=mask)\n",
    "            df_props = Parallel()(delayed(f_partial)(img, markers[i]) for i,img in enumerate(imgs_small))\n",
    "\n",
    "            df_cell_intensity = reduce(\n",
    "                lambda left, right: pd.merge(left, right, on=[\"Cell_label\"]),\n",
    "                df_props,\n",
    "            )\n",
    "            df_cell_intensity[\"ROI\"] = len(masks)\n",
    "            df_all.append(df_cell_intensity)\n",
    "\n",
    "            # Get spatial info\n",
    "            props = skimage.measure.regionprops_table(\n",
    "                mask, properties=[\"label\", \"centroid\"]\n",
    "            )\n",
    "            rows = props[\"centroid-0\"] + row\n",
    "            cols = props[\"centroid-1\"] + col \n",
    "            centroid = np.array(list(zip(cols, rows)))\n",
    "            centroids.append(centroid)\n",
    "            \n",
    "    # Append data\n",
    "    df_intensity = pd.concat(df_all, ignore_index=True)\n",
    "    cent = np.concatenate(centroids)\n",
    "    cells_roi = np.concatenate(cell_ids)\n",
    "\n",
    "    # Create annData from dataframe\n",
    "    adata = sc.AnnData(df_intensity[markers].values)\n",
    "    adata.var_names = markers  # add variable name\n",
    "\n",
    "    # Add obs information\n",
    "    adata.obs[\"ROI\"] = df_intensity.ROI.tolist()\n",
    "    adata.obs[\"Cell\"] = df_intensity.Cell_label.tolist()\n",
    "    adata.obs['Cell_ROI'] = cells_roi\n",
    "    adata.obsm[\"spatial\"] = np.array(cent)\n",
    "    adata.obs['Dataset'] = dataset\n",
    "    adatas.append(adata)"
   ]
  },
  {
   "cell_type": "code",
   "execution_count": 50,
   "id": "57cc3017-f565-4180-ab45-861abfe8ebe7",
   "metadata": {},
   "outputs": [
    {
     "name": "stderr",
     "output_type": "stream",
     "text": [
      "C:\\Users\\thu71\\.conda\\envs\\thomas-env\\lib\\site-packages\\anndata\\_core\\anndata.py:1828: UserWarning: Observation names are not unique. To make them unique, call `.obs_names_make_unique`.\n",
      "  utils.warn_names_duplicates(\"obs\")\n"
     ]
    }
   ],
   "source": [
    "adata = ad.concat(adatas)\n",
    "\n",
    "path = (Path().cwd().parents[0]).absolute() / 'data'/ 'raw' / '07.h5ad'\n",
    "adata.write(path)"
   ]
  },
  {
   "cell_type": "markdown",
   "id": "dee88ce5-96b6-4157-97ed-7f0603f76c78",
   "metadata": {
    "tags": []
   },
   "source": [
    "# Dataset 8"
   ]
  },
  {
   "cell_type": "code",
   "execution_count": 51,
   "id": "ae5cf427-5643-4db9-abdc-06fa7b0d8375",
   "metadata": {},
   "outputs": [],
   "source": [
    "## Get imgs in hdf5 format\n",
    "\n",
    "# Define saving location\n",
    "h5_data = (Path().cwd().parents[0]).absolute() / 'data'/ 'GC Database' / f\"08_imgs.hdf5\"\n",
    "\n",
    "if h5_data.exists():\n",
    "    pass\n",
    "else:\n",
    "    # Read imgs \n",
    "    img_path = dataset_8 / 'raw' / 'ton_378_cropped.ome.tif' \n",
    "    imgs = io.imread(img_path)\n",
    "    \n",
    "    # Read markers\n",
    "    markers_path = dataset_8 / 'raw' / 'markers.csv'\n",
    "    df = pd.read_csv(markers_path)\n",
    "\n",
    "    assert len(df) == len(imgs)\n",
    "\n",
    "    markers = df.marker_name.tolist()\n",
    "\n",
    "    save_hdf5(h5_data, 'imgs', imgs, {\"labels\": markers})"
   ]
  },
  {
   "cell_type": "code",
   "execution_count": 52,
   "id": "67f7d06a-923e-4c16-87b5-fe919c960375",
   "metadata": {},
   "outputs": [],
   "source": [
    "masks_1_folder = masks_folder / '08_visinity'\n",
    "masks = []\n",
    "coords = []\n",
    "sizes = []\n",
    "\n",
    "mask_path = whole_mask_folder / '08.hdf5'\n",
    "\n",
    "if mask_path.exists():\n",
    "    with h5py.File(mask_path, \"r\") as f:\n",
    "        mask_sti = f['mask'][:]\n",
    "else:\n",
    "    for (dirpath, dirnames, filenames) in os.walk(masks_1_folder):\n",
    "        for name in tqdm(sorted(filenames)):\n",
    "            if 'tiff' not in name:\n",
    "                continue\n",
    "\n",
    "            # read mask\n",
    "            path = os.path.join(dirpath, name)\n",
    "            mask = io.imread(path)\n",
    "            mask = mask.astype(np.uint32)\n",
    "            \n",
    "            # If non cell in mask pass\n",
    "            if mask.max() == 0:\n",
    "                continue\n",
    "\n",
    "            ## Get mask coords and size\n",
    "            d, row, col, size = get_info_name(name)\n",
    "\n",
    "            masks.append(mask)\n",
    "            coords.append((row, col))\n",
    "            sizes.append(size)\n",
    "    coords = np.array(coords)\n",
    "    sizes = np.array(sizes)\n",
    "    \n",
    "    max_coords = np.max(coords, axis=0)\n",
    "    sizes_r = sizes[np.argmax(coords, axis=0)[0]][0]\n",
    "    sizes_c = sizes[np.argmax(coords, axis=0)[0]][1]\n",
    "\n",
    "    mask_sti = np.zeros((max_coords[0]+sizes_r, max_coords[1]+sizes_c), np.uint32)\n",
    "    max_counter = 0\n",
    "    for i, coord in tqdm(enumerate(coords)):\n",
    "        mask = np.where(masks[i]>0, masks[i] + max_counter, 0)\n",
    "        s_r = sizes[i][0]\n",
    "        s_c = sizes[i][1]\n",
    "        mask_sti[coord[0]:coord[0]+ s_r, coord[1]:coord[1]+ s_c] = mask\n",
    "        max_counter = np.max(mask_sti)\n",
    "    mask_sti, _, _ = relabel_sequential(mask_sti)\n",
    "    save_hdf5(mask_path, 'mask', mask_sti)    "
   ]
  },
  {
   "cell_type": "code",
   "execution_count": 56,
   "id": "8612db90-1348-401e-8d23-4d2a871b4baf",
   "metadata": {},
   "outputs": [
    {
     "data": {
      "application/vnd.jupyter.widget-view+json": {
       "model_id": "b4bf8e9780f544ddad12ef20f8cf535a",
       "version_major": 2,
       "version_minor": 0
      },
      "text/plain": [
       "  0%|          | 0/30 [00:00<?, ?it/s]"
      ]
     },
     "metadata": {},
     "output_type": "display_data"
    }
   ],
   "source": [
    "# Create adata\n",
    "h5_data = (Path().cwd().parents[0]).absolute() / 'data'/ 'GC Database' / f\"08_imgs.hdf5\"\n",
    "masks = []\n",
    "coords = []\n",
    "cell_ids = []\n",
    "\n",
    "df_all = []\n",
    "centroids = []\n",
    "\n",
    "imgs, markers = get_imgs(h5_data, 'imgs')\n",
    "\n",
    "for (dirpath, dirnames, filenames) in os.walk(masks_1_folder):\n",
    "    for name in tqdm(sorted(filenames)):\n",
    "        if 'tiff' not in name:\n",
    "            continue\n",
    "        \n",
    "        # read mask\n",
    "        path = os.path.join(dirpath, name)\n",
    "        mask = io.imread(path)\n",
    "        \n",
    "        # If non cell in mask pass\n",
    "        if mask.max() == 0:\n",
    "            continue\n",
    "            \n",
    "        # Get spatial info\n",
    "        props = skimage.measure.regionprops_table(\n",
    "            mask, properties=[\"label\"]\n",
    "        )\n",
    "        cell_ids.append(np.array(props['label']))\n",
    "        \n",
    "        # Get mask coords and size\n",
    "        d, row, col, size = get_info_name(name)\n",
    "        \n",
    "        # Get corresponding multiplex images\n",
    "        imgs_small = imgs[:, row:row+size[0], col:col+size[1]]\n",
    "        mask = mask_sti[row:row+size[0], col:col+size[1]]\n",
    "        masks.append(mask)\n",
    "        coords.append((row, col))\n",
    "        \n",
    "        # Get single-cell \n",
    "        f_partial = partial(read_intensity_per_cell, mask=mask)\n",
    "        df_props = Parallel()(delayed(f_partial)(img, markers[i]) for i,img in enumerate(imgs_small))\n",
    "        \n",
    "        df_cell_intensity = reduce(\n",
    "            lambda left, right: pd.merge(left, right, on=[\"Cell_label\"]),\n",
    "            df_props,\n",
    "        )\n",
    "        df_cell_intensity[\"ROI\"] = len(masks)\n",
    "        df_all.append(df_cell_intensity)\n",
    "        \n",
    "        # Get spatial info\n",
    "        props = skimage.measure.regionprops_table(\n",
    "            mask, properties=[\"label\", \"centroid\"]\n",
    "        )\n",
    "        rows = props[\"centroid-0\"] + row\n",
    "        cols = props[\"centroid-1\"] + col \n",
    "        centroid = np.array(list(zip(cols, rows)))\n",
    "        centroids.append(centroid)\n"
   ]
  },
  {
   "cell_type": "code",
   "execution_count": 57,
   "id": "b5dafc28-2ed3-4a33-8399-1474b3fc8e05",
   "metadata": {},
   "outputs": [
    {
     "name": "stderr",
     "output_type": "stream",
     "text": [
      "C:\\Users\\thu71\\AppData\\Local\\Temp\\ipykernel_17832\\1891392480.py:7: FutureWarning: X.dtype being converted to np.float32 from float64. In the next version of anndata (0.9) conversion will not be automatic. Pass dtype explicitly to avoid this warning. Pass `AnnData(X, dtype=X.dtype, ...)` to get the future behavour.\n",
      "  adata = sc.AnnData(df_intensity[markers].values)\n"
     ]
    }
   ],
   "source": [
    "# Append data\n",
    "df_intensity = pd.concat(df_all, ignore_index=True)\n",
    "cent = np.concatenate(centroids)\n",
    "cells_roi = np.concatenate(cell_ids)\n",
    "\n",
    "# Create annData from dataframe\n",
    "adata = sc.AnnData(df_intensity[markers].values)\n",
    "adata.var_names = markers  # add variable name\n",
    "\n",
    "# Add obs information\n",
    "adata.obs[\"ROI\"] = df_intensity.ROI.tolist()\n",
    "adata.obs[\"Cell\"] = df_intensity.Cell_label.tolist()\n",
    "adata.obs['Cell_ROI'] = cells_roi\n",
    "adata.obsm[\"spatial\"] = np.array(cent)\n",
    "\n",
    "path = (Path().cwd().parents[0]).absolute() / 'data'/ 'raw' / '08.h5ad'\n",
    "adata.write(path)"
   ]
  },
  {
   "cell_type": "code",
   "execution_count": null,
   "id": "137be8a8-5734-448a-be80-d8e0a87537b4",
   "metadata": {},
   "outputs": [],
   "source": []
  }
 ],
 "metadata": {
  "kernelspec": {
   "display_name": "torch_gpu2",
   "language": "python",
   "name": "torch_gpu2"
  },
  "language_info": {
   "codemirror_mode": {
    "name": "ipython",
    "version": 3
   },
   "file_extension": ".py",
   "mimetype": "text/x-python",
   "name": "python",
   "nbconvert_exporter": "python",
   "pygments_lexer": "ipython3",
   "version": "3.11.9"
  },
  "toc-showcode": false
 },
 "nbformat": 4,
 "nbformat_minor": 5
}
