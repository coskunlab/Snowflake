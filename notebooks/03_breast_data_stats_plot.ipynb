{
 "cells": [
  {
   "cell_type": "code",
   "execution_count": 22,
   "metadata": {},
   "outputs": [],
   "source": [
    "import os\n",
    "import re\n",
    "import sys\n",
    "from pathlib import Path\n",
    "\n",
    "import pandas as pd\n",
    "import scanpy as sc\n",
    "import anndata as ad"
   ]
  },
  {
   "cell_type": "code",
   "execution_count": 23,
   "metadata": {},
   "outputs": [],
   "source": [
    "#p_dir = (Path().cwd().parents[0]).absolute()\n",
    "p_dir = 'Y:\\\\coskun-lab\\\\Thomas\\\\11_snowflakes'\n",
    "\n",
    "module_path = str(p_dir + \"\\\\src\")\n",
    "\n",
    "if module_path not in sys.path:\n",
    "    sys.path.append(module_path)"
   ]
  },
  {
   "cell_type": "code",
   "execution_count": 24,
   "metadata": {},
   "outputs": [],
   "source": [
    "#data_dir = (Path().cwd().parents[0] / 'data').absolute()\n",
    "data_dir = (p_dir + '\\\\data')"
   ]
  },
  {
   "cell_type": "code",
   "execution_count": 25,
   "metadata": {},
   "outputs": [],
   "source": [
    "#spatial_omics_folder = (Path().cwd().parents[0]).absolute() / 'data' / 'spatial_omics_graph_external'\n",
    "spatial_omics_folder = p_dir + '\\\\data' + '\\\\spatial_omics_graph_external'\n",
    "#process_path = (Path().cwd().parents[0]).absolute() / 'data' / 'torch_graph_data'\n",
    "process_path = p_dir + '\\\\data' + '\\\\torch_graph_data'"
   ]
  },
  {
   "cell_type": "markdown",
   "metadata": {},
   "source": [
    "# Read data"
   ]
  },
  {
   "cell_type": "code",
   "execution_count": 26,
   "metadata": {},
   "outputs": [],
   "source": [
    "# Read all spadata info\n",
    "datasets = []\n",
    "paths = []\n",
    "path_rois = []\n",
    "\n",
    "# Loop through data\n",
    "for (dirpath, dirnames, filenames) in os.walk(spatial_omics_folder):\n",
    "    for name in sorted(filenames):\n",
    "        if 'hdf5' not in name:\n",
    "            continue\n",
    "         \n",
    "        # read adata\n",
    "        data_name = name.split('.')[0]\n",
    "        path = os.path.join(dirpath, name)\n",
    "        if 'roi' not in name:\n",
    "            datasets.append(data_name)\n",
    "            paths.append(os.path.join(dirpath, name))\n",
    "            path_rois.append(os.path.join(dirpath, data_name+'_roi.hdf5'))\n",
    "            \n",
    "df = pd.DataFrame({'Dataset': datasets, 'Path': paths, 'Path_ROI': path_rois})\n",
    "df = df[df.Dataset!= 'Covid_IMC_2']"
   ]
  },
  {
   "cell_type": "code",
   "execution_count": 27,
   "metadata": {},
   "outputs": [
    {
     "name": "stdout",
     "output_type": "stream",
     "text": [
      "Processing Data breast\n"
     ]
    },
    {
     "name": "stderr",
     "output_type": "stream",
     "text": [
      "C:\\Users\\eozturk7\\AppData\\Local\\miniconda3\\envs\\torch_gpu2\\Lib\\site-packages\\anndata\\_core\\aligned_df.py:67: ImplicitModificationWarning: Transforming to str index.\n",
      "  warnings.warn(\"Transforming to str index.\", ImplicitModificationWarning)\n"
     ]
    }
   ],
   "source": [
    "adata_dir = data_dir + '\\\\adata'\n",
    "adatas = []\n",
    "datasets = []\n",
    "\n",
    "# Loop through data\n",
    "for (dirpath, dirnames, filenames) in os.walk(adata_dir):\n",
    "    for name in sorted(filenames):\n",
    "        if 'h5ad' not in name:\n",
    "            continue\n",
    "        if name != 'breast.h5ad':\n",
    "            continue\n",
    "        \n",
    "        # read adata\n",
    "        data_name = name.split('.')[0]\n",
    "        print(f'Processing Data {data_name}')   \n",
    "        path = os.path.join(dirpath, name)\n",
    "        \n",
    "        adata = sc.read_h5ad(path)\n",
    "        adata.obs['Data'] = data_name\n",
    "        \n",
    "        if 'Dataset' in adata.obs:\n",
    "            for d in adata.obs.Dataset.unique():\n",
    "                a = adata[adata.obs.Dataset == d]\n",
    "                adatas.append(a)\n",
    "                datasets.append(data_name+f'_{d}')\n",
    "        else:\n",
    "            adatas.append(adata)\n",
    "            datasets.append(data_name)"
   ]
  },
  {
   "cell_type": "code",
   "execution_count": 28,
   "metadata": {},
   "outputs": [],
   "source": [
    "adata = ad.concat(adatas)"
   ]
  },
  {
   "cell_type": "code",
   "execution_count": 29,
   "metadata": {},
   "outputs": [
    {
     "data": {
      "text/html": [
       "<div>\n",
       "<style scoped>\n",
       "    .dataframe tbody tr th:only-of-type {\n",
       "        vertical-align: middle;\n",
       "    }\n",
       "\n",
       "    .dataframe tbody tr th {\n",
       "        vertical-align: top;\n",
       "    }\n",
       "\n",
       "    .dataframe thead th {\n",
       "        text-align: right;\n",
       "    }\n",
       "</style>\n",
       "<table border=\"1\" class=\"dataframe\">\n",
       "  <thead>\n",
       "    <tr style=\"text-align: right;\">\n",
       "      <th></th>\n",
       "      <th>metabricId</th>\n",
       "      <th>core_id</th>\n",
       "      <th>ImageNumber</th>\n",
       "      <th>ObjectNumber</th>\n",
       "      <th>Location_Center_X</th>\n",
       "      <th>Location_Center_Y</th>\n",
       "      <th>SOM_nodes</th>\n",
       "      <th>pg_cluster</th>\n",
       "      <th>description</th>\n",
       "      <th>Data</th>\n",
       "    </tr>\n",
       "  </thead>\n",
       "  <tbody>\n",
       "    <tr>\n",
       "      <th>0</th>\n",
       "      <td>MB-0000</td>\n",
       "      <td>1</td>\n",
       "      <td>527</td>\n",
       "      <td>1</td>\n",
       "      <td>161.83333</td>\n",
       "      <td>6.000000</td>\n",
       "      <td>6</td>\n",
       "      <td>24</td>\n",
       "      <td>Fibroblasts</td>\n",
       "      <td>breast</td>\n",
       "    </tr>\n",
       "    <tr>\n",
       "      <th>1</th>\n",
       "      <td>MB-0000</td>\n",
       "      <td>1</td>\n",
       "      <td>527</td>\n",
       "      <td>2</td>\n",
       "      <td>177.30435</td>\n",
       "      <td>15.539130</td>\n",
       "      <td>6</td>\n",
       "      <td>24</td>\n",
       "      <td>Fibroblasts</td>\n",
       "      <td>breast</td>\n",
       "    </tr>\n",
       "    <tr>\n",
       "      <th>2</th>\n",
       "      <td>MB-0000</td>\n",
       "      <td>1</td>\n",
       "      <td>527</td>\n",
       "      <td>3</td>\n",
       "      <td>293.51898</td>\n",
       "      <td>19.886076</td>\n",
       "      <td>6</td>\n",
       "      <td>24</td>\n",
       "      <td>Fibroblasts</td>\n",
       "      <td>breast</td>\n",
       "    </tr>\n",
       "    <tr>\n",
       "      <th>3</th>\n",
       "      <td>MB-0000</td>\n",
       "      <td>1</td>\n",
       "      <td>527</td>\n",
       "      <td>4</td>\n",
       "      <td>165.04347</td>\n",
       "      <td>22.210144</td>\n",
       "      <td>4</td>\n",
       "      <td>20</td>\n",
       "      <td>Fibroblasts CD68+</td>\n",
       "      <td>breast</td>\n",
       "    </tr>\n",
       "    <tr>\n",
       "      <th>4</th>\n",
       "      <td>MB-0000</td>\n",
       "      <td>1</td>\n",
       "      <td>527</td>\n",
       "      <td>5</td>\n",
       "      <td>108.88095</td>\n",
       "      <td>28.523809</td>\n",
       "      <td>6</td>\n",
       "      <td>24</td>\n",
       "      <td>Fibroblasts</td>\n",
       "      <td>breast</td>\n",
       "    </tr>\n",
       "    <tr>\n",
       "      <th>...</th>\n",
       "      <td>...</td>\n",
       "      <td>...</td>\n",
       "      <td>...</td>\n",
       "      <td>...</td>\n",
       "      <td>...</td>\n",
       "      <td>...</td>\n",
       "      <td>...</td>\n",
       "      <td>...</td>\n",
       "      <td>...</td>\n",
       "      <td>...</td>\n",
       "    </tr>\n",
       "    <tr>\n",
       "      <th>479839</th>\n",
       "      <td>MB-0921</td>\n",
       "      <td>1</td>\n",
       "      <td>381</td>\n",
       "      <td>2080</td>\n",
       "      <td>440.20001</td>\n",
       "      <td>582.400020</td>\n",
       "      <td>99</td>\n",
       "      <td>54</td>\n",
       "      <td>HR- CK7-</td>\n",
       "      <td>breast</td>\n",
       "    </tr>\n",
       "    <tr>\n",
       "      <th>479840</th>\n",
       "      <td>MB-0921</td>\n",
       "      <td>1</td>\n",
       "      <td>381</td>\n",
       "      <td>2081</td>\n",
       "      <td>447.57895</td>\n",
       "      <td>583.157900</td>\n",
       "      <td>83</td>\n",
       "      <td>28</td>\n",
       "      <td>HRlow CKlow</td>\n",
       "      <td>breast</td>\n",
       "    </tr>\n",
       "    <tr>\n",
       "      <th>479841</th>\n",
       "      <td>MB-0921</td>\n",
       "      <td>1</td>\n",
       "      <td>381</td>\n",
       "      <td>2082</td>\n",
       "      <td>403.16666</td>\n",
       "      <td>583.142880</td>\n",
       "      <td>67</td>\n",
       "      <td>45</td>\n",
       "      <td>HRlow CKlow</td>\n",
       "      <td>breast</td>\n",
       "    </tr>\n",
       "    <tr>\n",
       "      <th>479842</th>\n",
       "      <td>MB-0921</td>\n",
       "      <td>1</td>\n",
       "      <td>381</td>\n",
       "      <td>2083</td>\n",
       "      <td>308.53845</td>\n",
       "      <td>585.230770</td>\n",
       "      <td>20</td>\n",
       "      <td>21</td>\n",
       "      <td>Fibroblasts</td>\n",
       "      <td>breast</td>\n",
       "    </tr>\n",
       "    <tr>\n",
       "      <th>479843</th>\n",
       "      <td>MB-0921</td>\n",
       "      <td>1</td>\n",
       "      <td>381</td>\n",
       "      <td>2084</td>\n",
       "      <td>432.69696</td>\n",
       "      <td>585.272710</td>\n",
       "      <td>124</td>\n",
       "      <td>28</td>\n",
       "      <td>HRlow CKlow</td>\n",
       "      <td>breast</td>\n",
       "    </tr>\n",
       "  </tbody>\n",
       "</table>\n",
       "<p>479844 rows × 10 columns</p>\n",
       "</div>"
      ],
      "text/plain": [
       "       metabricId  core_id  ImageNumber  ObjectNumber  Location_Center_X  \\\n",
       "0         MB-0000        1          527             1          161.83333   \n",
       "1         MB-0000        1          527             2          177.30435   \n",
       "2         MB-0000        1          527             3          293.51898   \n",
       "3         MB-0000        1          527             4          165.04347   \n",
       "4         MB-0000        1          527             5          108.88095   \n",
       "...           ...      ...          ...           ...                ...   \n",
       "479839    MB-0921        1          381          2080          440.20001   \n",
       "479840    MB-0921        1          381          2081          447.57895   \n",
       "479841    MB-0921        1          381          2082          403.16666   \n",
       "479842    MB-0921        1          381          2083          308.53845   \n",
       "479843    MB-0921        1          381          2084          432.69696   \n",
       "\n",
       "        Location_Center_Y  SOM_nodes  pg_cluster        description    Data  \n",
       "0                6.000000          6          24        Fibroblasts  breast  \n",
       "1               15.539130          6          24        Fibroblasts  breast  \n",
       "2               19.886076          6          24        Fibroblasts  breast  \n",
       "3               22.210144          4          20  Fibroblasts CD68+  breast  \n",
       "4               28.523809          6          24        Fibroblasts  breast  \n",
       "...                   ...        ...         ...                ...     ...  \n",
       "479839         582.400020         99          54           HR- CK7-  breast  \n",
       "479840         583.157900         83          28        HRlow CKlow  breast  \n",
       "479841         583.142880         67          45        HRlow CKlow  breast  \n",
       "479842         585.230770         20          21        Fibroblasts  breast  \n",
       "479843         585.272710        124          28        HRlow CKlow  breast  \n",
       "\n",
       "[479844 rows x 10 columns]"
      ]
     },
     "execution_count": 29,
     "metadata": {},
     "output_type": "execute_result"
    }
   ],
   "source": [
    "adata.obs"
   ]
  },
  {
   "cell_type": "code",
   "execution_count": 16,
   "metadata": {
    "scrolled": true
   },
   "outputs": [
    {
     "ename": "KeyError",
     "evalue": "'Foll'",
     "output_type": "error",
     "traceback": [
      "\u001b[1;31m---------------------------------------------------------------------------\u001b[0m",
      "\u001b[1;31mKeyError\u001b[0m                                  Traceback (most recent call last)",
      "Cell \u001b[1;32mIn[16], line 2\u001b[0m\n\u001b[0;32m      1\u001b[0m \u001b[38;5;66;03m# Create foll dataframe\u001b[39;00m\n\u001b[1;32m----> 2\u001b[0m df_foll \u001b[38;5;241m=\u001b[39m pd\u001b[38;5;241m.\u001b[39mDataFrame(adata\u001b[38;5;241m.\u001b[39mobs\u001b[38;5;241m.\u001b[39mgroupby([\u001b[38;5;124m'\u001b[39m\u001b[38;5;124mData\u001b[39m\u001b[38;5;124m'\u001b[39m, \u001b[38;5;124m'\u001b[39m\u001b[38;5;124mFoll\u001b[39m\u001b[38;5;124m'\u001b[39m])\u001b[38;5;241m.\u001b[39msize())\u001b[38;5;241m.\u001b[39mreset_index()\n\u001b[0;32m      3\u001b[0m df_foll\u001b[38;5;241m.\u001b[39mcolumns \u001b[38;5;241m=\u001b[39m [\u001b[38;5;124m'\u001b[39m\u001b[38;5;124mDataset\u001b[39m\u001b[38;5;124m'\u001b[39m, \u001b[38;5;124m'\u001b[39m\u001b[38;5;124mFoll\u001b[39m\u001b[38;5;124m'\u001b[39m, \u001b[38;5;124m'\u001b[39m\u001b[38;5;124mNumber of cells\u001b[39m\u001b[38;5;124m'\u001b[39m]\n\u001b[0;32m      4\u001b[0m df_foll \u001b[38;5;241m=\u001b[39m df_foll[df_foll\u001b[38;5;241m.\u001b[39mFoll \u001b[38;5;241m>\u001b[39m \u001b[38;5;241m0\u001b[39m]\n",
      "File \u001b[1;32m~\\AppData\\Local\\miniconda3\\envs\\torch_gpu2\\Lib\\site-packages\\pandas\\core\\frame.py:9183\u001b[0m, in \u001b[0;36mDataFrame.groupby\u001b[1;34m(self, by, axis, level, as_index, sort, group_keys, observed, dropna)\u001b[0m\n\u001b[0;32m   9180\u001b[0m \u001b[38;5;28;01mif\u001b[39;00m level \u001b[38;5;129;01mis\u001b[39;00m \u001b[38;5;28;01mNone\u001b[39;00m \u001b[38;5;129;01mand\u001b[39;00m by \u001b[38;5;129;01mis\u001b[39;00m \u001b[38;5;28;01mNone\u001b[39;00m:\n\u001b[0;32m   9181\u001b[0m     \u001b[38;5;28;01mraise\u001b[39;00m \u001b[38;5;167;01mTypeError\u001b[39;00m(\u001b[38;5;124m\"\u001b[39m\u001b[38;5;124mYou have to supply one of \u001b[39m\u001b[38;5;124m'\u001b[39m\u001b[38;5;124mby\u001b[39m\u001b[38;5;124m'\u001b[39m\u001b[38;5;124m and \u001b[39m\u001b[38;5;124m'\u001b[39m\u001b[38;5;124mlevel\u001b[39m\u001b[38;5;124m'\u001b[39m\u001b[38;5;124m\"\u001b[39m)\n\u001b[1;32m-> 9183\u001b[0m \u001b[38;5;28;01mreturn\u001b[39;00m DataFrameGroupBy(\n\u001b[0;32m   9184\u001b[0m     obj\u001b[38;5;241m=\u001b[39m\u001b[38;5;28mself\u001b[39m,\n\u001b[0;32m   9185\u001b[0m     keys\u001b[38;5;241m=\u001b[39mby,\n\u001b[0;32m   9186\u001b[0m     axis\u001b[38;5;241m=\u001b[39maxis,\n\u001b[0;32m   9187\u001b[0m     level\u001b[38;5;241m=\u001b[39mlevel,\n\u001b[0;32m   9188\u001b[0m     as_index\u001b[38;5;241m=\u001b[39mas_index,\n\u001b[0;32m   9189\u001b[0m     sort\u001b[38;5;241m=\u001b[39msort,\n\u001b[0;32m   9190\u001b[0m     group_keys\u001b[38;5;241m=\u001b[39mgroup_keys,\n\u001b[0;32m   9191\u001b[0m     observed\u001b[38;5;241m=\u001b[39mobserved,\n\u001b[0;32m   9192\u001b[0m     dropna\u001b[38;5;241m=\u001b[39mdropna,\n\u001b[0;32m   9193\u001b[0m )\n",
      "File \u001b[1;32m~\\AppData\\Local\\miniconda3\\envs\\torch_gpu2\\Lib\\site-packages\\pandas\\core\\groupby\\groupby.py:1329\u001b[0m, in \u001b[0;36mGroupBy.__init__\u001b[1;34m(self, obj, keys, axis, level, grouper, exclusions, selection, as_index, sort, group_keys, observed, dropna)\u001b[0m\n\u001b[0;32m   1326\u001b[0m \u001b[38;5;28mself\u001b[39m\u001b[38;5;241m.\u001b[39mdropna \u001b[38;5;241m=\u001b[39m dropna\n\u001b[0;32m   1328\u001b[0m \u001b[38;5;28;01mif\u001b[39;00m grouper \u001b[38;5;129;01mis\u001b[39;00m \u001b[38;5;28;01mNone\u001b[39;00m:\n\u001b[1;32m-> 1329\u001b[0m     grouper, exclusions, obj \u001b[38;5;241m=\u001b[39m get_grouper(\n\u001b[0;32m   1330\u001b[0m         obj,\n\u001b[0;32m   1331\u001b[0m         keys,\n\u001b[0;32m   1332\u001b[0m         axis\u001b[38;5;241m=\u001b[39maxis,\n\u001b[0;32m   1333\u001b[0m         level\u001b[38;5;241m=\u001b[39mlevel,\n\u001b[0;32m   1334\u001b[0m         sort\u001b[38;5;241m=\u001b[39msort,\n\u001b[0;32m   1335\u001b[0m         observed\u001b[38;5;241m=\u001b[39m\u001b[38;5;28;01mFalse\u001b[39;00m \u001b[38;5;28;01mif\u001b[39;00m observed \u001b[38;5;129;01mis\u001b[39;00m lib\u001b[38;5;241m.\u001b[39mno_default \u001b[38;5;28;01melse\u001b[39;00m observed,\n\u001b[0;32m   1336\u001b[0m         dropna\u001b[38;5;241m=\u001b[39m\u001b[38;5;28mself\u001b[39m\u001b[38;5;241m.\u001b[39mdropna,\n\u001b[0;32m   1337\u001b[0m     )\n\u001b[0;32m   1339\u001b[0m \u001b[38;5;28;01mif\u001b[39;00m observed \u001b[38;5;129;01mis\u001b[39;00m lib\u001b[38;5;241m.\u001b[39mno_default:\n\u001b[0;32m   1340\u001b[0m     \u001b[38;5;28;01mif\u001b[39;00m \u001b[38;5;28many\u001b[39m(ping\u001b[38;5;241m.\u001b[39m_passed_categorical \u001b[38;5;28;01mfor\u001b[39;00m ping \u001b[38;5;129;01min\u001b[39;00m grouper\u001b[38;5;241m.\u001b[39mgroupings):\n",
      "File \u001b[1;32m~\\AppData\\Local\\miniconda3\\envs\\torch_gpu2\\Lib\\site-packages\\pandas\\core\\groupby\\grouper.py:1043\u001b[0m, in \u001b[0;36mget_grouper\u001b[1;34m(obj, key, axis, level, sort, observed, validate, dropna)\u001b[0m\n\u001b[0;32m   1041\u001b[0m         in_axis, level, gpr \u001b[38;5;241m=\u001b[39m \u001b[38;5;28;01mFalse\u001b[39;00m, gpr, \u001b[38;5;28;01mNone\u001b[39;00m\n\u001b[0;32m   1042\u001b[0m     \u001b[38;5;28;01melse\u001b[39;00m:\n\u001b[1;32m-> 1043\u001b[0m         \u001b[38;5;28;01mraise\u001b[39;00m \u001b[38;5;167;01mKeyError\u001b[39;00m(gpr)\n\u001b[0;32m   1044\u001b[0m \u001b[38;5;28;01melif\u001b[39;00m \u001b[38;5;28misinstance\u001b[39m(gpr, Grouper) \u001b[38;5;129;01mand\u001b[39;00m gpr\u001b[38;5;241m.\u001b[39mkey \u001b[38;5;129;01mis\u001b[39;00m \u001b[38;5;129;01mnot\u001b[39;00m \u001b[38;5;28;01mNone\u001b[39;00m:\n\u001b[0;32m   1045\u001b[0m     \u001b[38;5;66;03m# Add key to exclusions\u001b[39;00m\n\u001b[0;32m   1046\u001b[0m     exclusions\u001b[38;5;241m.\u001b[39madd(gpr\u001b[38;5;241m.\u001b[39mkey)\n",
      "\u001b[1;31mKeyError\u001b[0m: 'Foll'"
     ]
    }
   ],
   "source": [
    "# Create foll dataframe\n",
    "df_foll = pd.DataFrame(adata.obs.groupby(['Data', 'Foll']).size()).reset_index()\n",
    "df_foll.columns = ['Dataset', 'Foll', 'Number of cells']\n",
    "df_foll = df_foll[df_foll.Foll > 0]\n",
    "\n",
    "# Get tissue type mapping\n",
    "tissue_type = {k: 'Tonsil' for k in df_foll.Dataset.unique() if 'A' not in k}\n",
    "df_foll['Tissue'] = df_foll['Dataset'].apply(lambda x: tissue_type.get(x, 'Adenoid'))"
   ]
  },
  {
   "cell_type": "code",
   "execution_count": 38,
   "metadata": {
    "scrolled": true
   },
   "outputs": [
    {
     "data": {
      "image/png": "[encoded data removed]",
      "text/plain": [
       "<Figure size 600x300 with 1 Axes>"
      ]
     },
     "metadata": {},
     "output_type": "display_data"
    }
   ],
   "source": [
    "import matplotlib\n",
    "import matplotlib.pyplot as plt\n",
    "import seaborn as sns\n",
    "import numpy as np\n",
    "\n",
    "font = {'family' : 'monospace',\n",
    "        'weight' : 'bold',\n",
    "        'size'   : 10}\n",
    "\n",
    "matplotlib.rc('font', **font)\n",
    "\n",
    "#define data\n",
    "data = df.groupby('Tissue').size().values\n",
    "labels = df.groupby('Tissue').size().index.tolist()\n",
    "\n",
    "#define Seaborn color palette to use\n",
    "colors = sns.color_palette('pastel')[0:5]\n",
    "\n",
    "\n",
    "def absolute_value(val):\n",
    "    a  = np.round(val/100.*data.sum(), 0).astype(int)\n",
    "    return a\n",
    "\n",
    "#create pie chart\n",
    "fig, ax = plt.subplots(figsize=(6, 3), subplot_kw=dict(aspect=\"equal\"))\n",
    "wedges, texts, autotexts = ax.pie(data, labels = labels, colors = [ '#4994CE', '#F27420'], autopct=absolute_value, textprops=dict(color=\"w\"))\n",
    "ax.legend(wedges, labels,\n",
    "          title=\"Tissue\",\n",
    "          loc=\"center left\",\n",
    "          bbox_to_anchor=(1, 0, 0.5, 1))\n",
    "\n",
    "plt.show()\n"
   ]
  },
  {
   "cell_type": "code",
   "execution_count": 92,
   "metadata": {},
   "outputs": [
    {
     "data": {
      "image/png": "[encoded data removed]",
      "text/plain": [
       "<Figure size 600x300 with 1 Axes>"
      ]
     },
     "metadata": {},
     "output_type": "display_data"
    }
   ],
   "source": [
    "import matplotlib\n",
    "import matplotlib.pyplot as plt\n",
    "import seaborn as sns\n",
    "import numpy as np\n",
    "\n",
    "font = {'family' : 'monospace',\n",
    "        'weight' : 'bold',\n",
    "        'size'   : 10}\n",
    "\n",
    "matplotlib.rc('font', **font)\n",
    "\n",
    "#define data\n",
    "data = df_foll[df_foll.Dataset.str.contains('07')].groupby('Tissue').size().values\n",
    "labels = df_foll[df_foll.Dataset.str.contains('07')].groupby('Tissue').size().index.tolist()\n",
    "\n",
    "#define Seaborn color palette to use\n",
    "colors = sns.color_palette('pastel')[0:5]\n",
    "\n",
    "\n",
    "def absolute_value(val):\n",
    "    a  = np.round(val/100.*data.sum(), 0).astype(int)\n",
    "    return a\n",
    "\n",
    "#create pie chart\n",
    "fig, ax = plt.subplots(figsize=(6, 3), subplot_kw=dict(aspect=\"equal\"))\n",
    "wedges, texts, autotexts = ax.pie(data, labels = labels, colors = [ '#4994CE', '#F27420'], autopct=absolute_value, textprops=dict(color=\"w\"))\n",
    "\n",
    "plt.show()\n"
   ]
  },
  {
   "cell_type": "code",
   "execution_count": 96,
   "metadata": {},
   "outputs": [],
   "source": [
    "covid_map = {'07_A11': 'COVID+', '07_A18': 'COVID-', '07_A21': 'COVID-', '07_A22': 'COVID+',\n",
    "       '07_A6': 'COVID-', '07_A8': 'COVID+', '07_T18': 'COVID-', '07_T22': 'COVID+', '07_T3': 'COVID-', '07_T5': 'COVID+', '07_T6': 'COVID-',\n",
    "       '07_T8': 'COVID+'}\n",
    "\n",
    "df_foll['COVID'] = df_foll.Dataset.map(lambda x: covid_map.get(x,x))"
   ]
  },
  {
   "cell_type": "code",
   "execution_count": 99,
   "metadata": {},
   "outputs": [
    {
     "data": {
      "image/png": "[encoded data removed]",
      "text/plain": [
       "<Figure size 600x300 with 1 Axes>"
      ]
     },
     "metadata": {},
     "output_type": "display_data"
    }
   ],
   "source": [
    "import matplotlib\n",
    "import matplotlib.pyplot as plt\n",
    "import seaborn as sns\n",
    "import numpy as np\n",
    "\n",
    "font = {'family' : 'monospace',\n",
    "        'weight' : 'bold',\n",
    "        'size'   : 10}\n",
    "\n",
    "matplotlib.rc('font', **font)\n",
    "\n",
    "#define data\n",
    "data = df_foll[df_foll.Dataset.str.contains('07')].groupby('COVID').size().values\n",
    "labels = df_foll[df_foll.Dataset.str.contains('07')].groupby('COVID').size().index.tolist()\n",
    "\n",
    "#define Seaborn color palette to use\n",
    "colors = sns.color_palette('pastel')[0:5]\n",
    "\n",
    "\n",
    "def absolute_value(val):\n",
    "    a  = np.round(val/100.*data.sum(), 0).astype(int)\n",
    "    return a\n",
    "\n",
    "#create pie chart\n",
    "fig, ax = plt.subplots(figsize=(6, 3), subplot_kw=dict(aspect=\"equal\"))\n",
    "wedges, texts, autotexts = ax.pie(data, labels = labels, colors = ['#8A5988', '#449E9E'], autopct=absolute_value, textprops=dict(color=\"w\"))\n",
    "ax.legend(wedges, labels,\n",
    "          title=\"COVID\",\n",
    "          loc=\"center left\",\n",
    "          bbox_to_anchor=(1, 0, 0.5, 1))\n",
    "\n",
    "plt.show()\n"
   ]
  },
  {
   "cell_type": "markdown",
   "metadata": {},
   "source": [
    "### Stankey plot"
   ]
  },
  {
   "cell_type": "code",
   "execution_count": 100,
   "metadata": {},
   "outputs": [],
   "source": [
    "df_cov = df_foll[df_foll.Dataset.str.contains('07')].groupby(['Tissue', 'COVID']).size()"
   ]
  },
  {
   "cell_type": "code",
   "execution_count": 101,
   "metadata": {},
   "outputs": [
    {
     "data": {
      "text/plain": [
       "Tissue   COVID \n",
       "Adenoid  COVID+     58\n",
       "         COVID-     47\n",
       "Tonsil   COVID+    195\n",
       "         COVID-    142\n",
       "dtype: int64"
      ]
     },
     "execution_count": 101,
     "metadata": {},
     "output_type": "execute_result"
    }
   ],
   "source": [
    "df_cov"
   ]
  },
  {
   "cell_type": "code",
   "execution_count": 103,
   "metadata": {},
   "outputs": [
    {
     "data": {
      "text/html": [
       "        <script type=\"text/javascript\">\n",
       "        window.PlotlyConfig = {MathJaxConfig: 'local'};\n",
       "        if (window.MathJax && window.MathJax.Hub && window.MathJax.Hub.Config) {window.MathJax.Hub.Config({SVG: {font: \"STIX-Web\"}});}\n",
       "        if (typeof require !== 'undefined') {\n",
       "        require.undef(\"plotly\");\n",
       "        requirejs.config({\n",
       "            paths: {\n",
       "                'plotly': ['https://cdn.plot.ly/plotly-2.25.2.min']\n",
       "            }\n",
       "        });\n",
       "        require(['plotly'], function(Plotly) {\n",
       "            window._Plotly = Plotly;\n",
       "        });\n",
       "        }\n",
       "        </script>\n",
       "        "
      ]
     },
     "metadata": {},
     "output_type": "display_data"
    },
    {
     "data": {
      "application/vnd.plotly.v1+json": {
       "config": {
        "linkText": "Export to plot.ly",
        "plotlyServerURL": "https://plot.ly",
        "showLink": false
       },
       "data": [
        {
         "domain": {
          "x": [
           0,
           1
          ],
          "y": [
           0,
           1
          ]
         },
         "link": {
          "color": [
           "rgba(242, 116, 32, 0.75)",
           "rgba(242, 116, 32, 0.75)",
           "rgba(73, 148, 206, 0.75)",
           "rgba(73, 148, 206, 0.75)"
          ],
          "source": [
           0,
           0,
           1,
           1
          ],
          "target": [
           2,
           3,
           2,
           3
          ],
          "value": [
           195,
           142,
           58,
           47
          ]
         },
         "node": {
          "color": [
           "#F27420",
           "#4994CE",
           "#8A5988",
           "#449E9E"
          ],
          "label": [
           "Tonsil – 337",
           "Adenoid – 105",
           "253 – COVID+",
           "189 - COVID-"
          ],
          "line": {
           "color": "black",
           "width": 0
          },
          "pad": 10,
          "thickness": 30
         },
         "orientation": "h",
         "type": "sankey",
         "valueformat": ".0f"
        }
       ],
       "layout": {
        "font": {
         "color": "black",
         "size": 50
        },
        "height": 772,
        "title": "",
        "width": 1000
       }
      },
      "text/html": [
       "<div>                            <div id=\"195191b0-4609-4a27-baba-cb10d48a1128\" class=\"plotly-graph-div\" style=\"height:772px; width:1000px;\"></div>            <script type=\"text/javascript\">                require([\"plotly\"], function(Plotly) {                    window.PLOTLYENV=window.PLOTLYENV || {};                                    if (document.getElementById(\"195191b0-4609-4a27-baba-cb10d48a1128\")) {                    Plotly.newPlot(                        \"195191b0-4609-4a27-baba-cb10d48a1128\",                        [{\"type\":\"sankey\",\"domain\":{\"x\":[0,1],\"y\":[0,1]},\"orientation\":\"h\",\"valueformat\":\".0f\",\"node\":{\"pad\":10,\"thickness\":30,\"line\":{\"color\":\"black\",\"width\":0},\"label\":[\"Tonsil \\u2013 337\",\"Adenoid \\u2013 105\",\"253 \\u2013 COVID+\",\"189 - COVID-\"],\"color\":[\"#F27420\",\"#4994CE\",\"#8A5988\",\"#449E9E\"]},\"link\":{\"source\":[0,0,1,1],\"target\":[2,3,2,3],\"value\":[195,142,58,47],\"color\":[\"rgba(242, 116, 32, 0.75)\",\"rgba(242, 116, 32, 0.75)\",\"rgba(73, 148, 206, 0.75)\",\"rgba(73, 148, 206, 0.75)\"]}}],                        {\"title\":\"\",\"height\":772,\"width\":1000,\"font\":{\"size\":50,\"color\":\"black\"}},                        {\"responsive\": true}                    ).then(function(){\n",
       "                            \n",
       "var gd = document.getElementById('195191b0-4609-4a27-baba-cb10d48a1128');\n",
       "var x = new MutationObserver(function (mutations, observer) {{\n",
       "        var display = window.getComputedStyle(gd).display;\n",
       "        if (!display || display === 'none') {{\n",
       "            console.log([gd, 'removed!']);\n",
       "            Plotly.purge(gd);\n",
       "            observer.disconnect();\n",
       "        }}\n",
       "}});\n",
       "\n",
       "// Listen for the removal of the full notebook cells\n",
       "var notebookContainer = gd.closest('#notebook-container');\n",
       "if (notebookContainer) {{\n",
       "    x.observe(notebookContainer, {childList: true});\n",
       "}}\n",
       "\n",
       "// Listen for the clearing of the current output cell\n",
       "var outputEl = gd.closest('.output');\n",
       "if (outputEl) {{\n",
       "    x.observe(outputEl, {childList: true});\n",
       "}}\n",
       "\n",
       "                        })                };                });            </script>        </div>"
      ]
     },
     "metadata": {},
     "output_type": "display_data"
    }
   ],
   "source": [
    "import pandas as pd\n",
    "import numpy as np\n",
    "import plotly.graph_objs as go\n",
    "from plotly.offline import download_plotlyjs, init_notebook_mode, plot, iplot\n",
    "init_notebook_mode(connected=True)\n",
    "\n",
    "# Original data\n",
    "# data = [['Source','Target','Value','Color','Node, Label','Link Color'],\n",
    "#     [0,5,20,'#F27420','Remain+No – 28','rgba(253, 227, 212, 0.5)'],\n",
    "#     [0,6,3,'#4994CE','Leave+No – 16','rgba(242, 116, 32, 1)'],\n",
    "#     [0,7,5,'#FABC13','Remain+Yes – 21','rgba(253, 227, 212, 0.5)'],\n",
    "#     [1,5,14,'#7FC241','Leave+Yes – 14','rgba(219, 233, 246, 0.5)'],\n",
    "#     [1,6,1,'#D3D3D3','Didn’t vote in at least one referendum – 21','rgba(73, 148, 206, 1)'],\n",
    "#     [1,7,1,'#8A5988','46 – No','rgba(219, 233, 246,0.5)'],\n",
    "#     [2,5,3,'#449E9E','39 – Yes','rgba(250, 188, 19, 1)'],\n",
    "#     [2,6,17,'#D3D3D3','14 – Don’t know / would not vote','rgba(250, 188, 19, 0.5)'],\n",
    "#     [2,7,2,'','','rgba(250, 188, 19, 0.5)'],\n",
    "#     [3,5,3,'','','rgba(127, 194, 65, 1)'],\n",
    "#     [3,6,9,'','','rgba(127, 194, 65, 0.5)'],\n",
    "#     [3,7,2,'','','rgba(127, 194, 65, 0.5)'],\n",
    "#     [4,5,5,'','','rgba(211, 211, 211, 0.5)'],\n",
    "#     [4,6,9,'','','rgba(211, 211, 211, 0.5)'],\n",
    "#     [4,7,8,'','','rgba(211, 211, 211, 0.5)']\n",
    "#     ]\n",
    "\n",
    "data = [['Source','Target','Value','Color','Node, Label','Link Color'],\n",
    "    [0,2,195,'#F27420','Tonsil – 337', 'rgba(242, 116, 32, 0.75)'],\n",
    "    [0,3,142,'#4994CE','Adenoid – 105', 'rgba(242, 116, 32, 0.75)'],\n",
    "    [1,2,58,'#8A5988','253 – COVID+','rgba(73, 148, 206, 0.75)'],\n",
    "    [1,3,47,'#449E9E','189 - COVID-','rgba(73, 148, 206, 0.75)'],\n",
    "    ]\n",
    "\n",
    "headers = data.pop(0)\n",
    "df = pd.DataFrame(data, columns = headers)\n",
    "scottish_df = df\n",
    "\n",
    "data_trace = dict(\n",
    "    type='sankey',\n",
    "    domain = dict(\n",
    "      x =  [0,1],\n",
    "      y =  [0,1]\n",
    "    ),\n",
    "    orientation = \"h\",\n",
    "    valueformat = \".0f\",\n",
    "    node = dict(\n",
    "      pad = 10,\n",
    "      thickness = 30,\n",
    "      line = dict(\n",
    "        color = \"black\",\n",
    "        width = 0\n",
    "      ),\n",
    "      label =  scottish_df['Node, Label'].dropna(axis=0, how='any'),\n",
    "      color = scottish_df['Color']\n",
    "    ),\n",
    "    link = dict(\n",
    "      source = scottish_df['Source'].dropna(axis=0, how='any'),\n",
    "      target = scottish_df['Target'].dropna(axis=0, how='any'),\n",
    "      value = scottish_df['Value'].dropna(axis=0, how='any'),\n",
    "      color = scottish_df['Link Color'].dropna(axis=0, how='any'),\n",
    "  )\n",
    ")\n",
    "\n",
    "layout =  dict(\n",
    "    title = \"\",\n",
    "    height = 772,\n",
    "    width = 1000,\n",
    "    font = dict(\n",
    "      size = 50,\n",
    "      color=\"black\"\n",
    "    ),    \n",
    ")\n",
    "\n",
    "fig = dict(data=[data_trace], layout=layout)\n",
    "iplot(fig, validate=False)"
   ]
  },
  {
   "cell_type": "code",
   "execution_count": 63,
   "metadata": {},
   "outputs": [
    {
     "data": {
      "text/plain": [
       "(0                                  Remain+No – 28\n",
       " 1                                   Leave+No – 16\n",
       " 2                                 Remain+Yes – 21\n",
       " 3                                  Leave+Yes – 14\n",
       " 4     Didn’t vote in at least one referendum – 21\n",
       " 5                                         46 – No\n",
       " 6                                        39 – Yes\n",
       " 7                14 – Don’t know / would not vote\n",
       " 8                                                \n",
       " 9                                                \n",
       " 10                                               \n",
       " 11                                               \n",
       " 12                                               \n",
       " 13                                               \n",
       " 14                                               \n",
       " Name: Node, Label, dtype: object,)"
      ]
     },
     "execution_count": 63,
     "metadata": {},
     "output_type": "execute_result"
    }
   ],
   "source": [
    "scottish_df['Node, Label'].dropna(axis=0, how='any')"
   ]
  },
  {
   "cell_type": "code",
   "execution_count": 62,
   "metadata": {},
   "outputs": [
    {
     "data": {
      "text/html": [
       "<div>\n",
       "<style scoped>\n",
       "    .dataframe tbody tr th:only-of-type {\n",
       "        vertical-align: middle;\n",
       "    }\n",
       "\n",
       "    .dataframe tbody tr th {\n",
       "        vertical-align: top;\n",
       "    }\n",
       "\n",
       "    .dataframe thead th {\n",
       "        text-align: right;\n",
       "    }\n",
       "</style>\n",
       "<table border=\"1\" class=\"dataframe\">\n",
       "  <thead>\n",
       "    <tr style=\"text-align: right;\">\n",
       "      <th></th>\n",
       "      <th>Source</th>\n",
       "      <th>Target</th>\n",
       "      <th>Value</th>\n",
       "      <th>Color</th>\n",
       "      <th>Node, Label</th>\n",
       "      <th>Link Color</th>\n",
       "    </tr>\n",
       "  </thead>\n",
       "  <tbody>\n",
       "    <tr>\n",
       "      <th>0</th>\n",
       "      <td>0</td>\n",
       "      <td>5</td>\n",
       "      <td>20</td>\n",
       "      <td>#F27420</td>\n",
       "      <td>Remain+No – 28</td>\n",
       "      <td>rgba(253, 227, 212, 0.5)</td>\n",
       "    </tr>\n",
       "    <tr>\n",
       "      <th>1</th>\n",
       "      <td>0</td>\n",
       "      <td>6</td>\n",
       "      <td>3</td>\n",
       "      <td>#4994CE</td>\n",
       "      <td>Leave+No – 16</td>\n",
       "      <td>rgba(242, 116, 32, 1)</td>\n",
       "    </tr>\n",
       "    <tr>\n",
       "      <th>2</th>\n",
       "      <td>0</td>\n",
       "      <td>7</td>\n",
       "      <td>5</td>\n",
       "      <td>#FABC13</td>\n",
       "      <td>Remain+Yes – 21</td>\n",
       "      <td>rgba(253, 227, 212, 0.5)</td>\n",
       "    </tr>\n",
       "    <tr>\n",
       "      <th>3</th>\n",
       "      <td>1</td>\n",
       "      <td>5</td>\n",
       "      <td>14</td>\n",
       "      <td>#7FC241</td>\n",
       "      <td>Leave+Yes – 14</td>\n",
       "      <td>rgba(219, 233, 246, 0.5)</td>\n",
       "    </tr>\n",
       "    <tr>\n",
       "      <th>4</th>\n",
       "      <td>1</td>\n",
       "      <td>6</td>\n",
       "      <td>1</td>\n",
       "      <td>#D3D3D3</td>\n",
       "      <td>Didn’t vote in at least one referendum – 21</td>\n",
       "      <td>rgba(73, 148, 206, 1)</td>\n",
       "    </tr>\n",
       "    <tr>\n",
       "      <th>5</th>\n",
       "      <td>1</td>\n",
       "      <td>7</td>\n",
       "      <td>1</td>\n",
       "      <td>#8A5988</td>\n",
       "      <td>46 – No</td>\n",
       "      <td>rgba(219, 233, 246,0.5)</td>\n",
       "    </tr>\n",
       "    <tr>\n",
       "      <th>6</th>\n",
       "      <td>2</td>\n",
       "      <td>5</td>\n",
       "      <td>3</td>\n",
       "      <td>#449E9E</td>\n",
       "      <td>39 – Yes</td>\n",
       "      <td>rgba(250, 188, 19, 1)</td>\n",
       "    </tr>\n",
       "    <tr>\n",
       "      <th>7</th>\n",
       "      <td>2</td>\n",
       "      <td>6</td>\n",
       "      <td>17</td>\n",
       "      <td>#D3D3D3</td>\n",
       "      <td>14 – Don’t know / would not vote</td>\n",
       "      <td>rgba(250, 188, 19, 0.5)</td>\n",
       "    </tr>\n",
       "    <tr>\n",
       "      <th>8</th>\n",
       "      <td>2</td>\n",
       "      <td>7</td>\n",
       "      <td>2</td>\n",
       "      <td></td>\n",
       "      <td></td>\n",
       "      <td>rgba(250, 188, 19, 0.5)</td>\n",
       "    </tr>\n",
       "    <tr>\n",
       "      <th>9</th>\n",
       "      <td>3</td>\n",
       "      <td>5</td>\n",
       "      <td>3</td>\n",
       "      <td></td>\n",
       "      <td></td>\n",
       "      <td>rgba(127, 194, 65, 1)</td>\n",
       "    </tr>\n",
       "    <tr>\n",
       "      <th>10</th>\n",
       "      <td>3</td>\n",
       "      <td>6</td>\n",
       "      <td>9</td>\n",
       "      <td></td>\n",
       "      <td></td>\n",
       "      <td>rgba(127, 194, 65, 0.5)</td>\n",
       "    </tr>\n",
       "    <tr>\n",
       "      <th>11</th>\n",
       "      <td>3</td>\n",
       "      <td>7</td>\n",
       "      <td>2</td>\n",
       "      <td></td>\n",
       "      <td></td>\n",
       "      <td>rgba(127, 194, 65, 0.5)</td>\n",
       "    </tr>\n",
       "    <tr>\n",
       "      <th>12</th>\n",
       "      <td>4</td>\n",
       "      <td>5</td>\n",
       "      <td>5</td>\n",
       "      <td></td>\n",
       "      <td></td>\n",
       "      <td>rgba(211, 211, 211, 0.5)</td>\n",
       "    </tr>\n",
       "    <tr>\n",
       "      <th>13</th>\n",
       "      <td>4</td>\n",
       "      <td>6</td>\n",
       "      <td>9</td>\n",
       "      <td></td>\n",
       "      <td></td>\n",
       "      <td>rgba(211, 211, 211, 0.5)</td>\n",
       "    </tr>\n",
       "    <tr>\n",
       "      <th>14</th>\n",
       "      <td>4</td>\n",
       "      <td>7</td>\n",
       "      <td>8</td>\n",
       "      <td></td>\n",
       "      <td></td>\n",
       "      <td>rgba(211, 211, 211, 0.5)</td>\n",
       "    </tr>\n",
       "  </tbody>\n",
       "</table>\n",
       "</div>"
      ],
      "text/plain": [
       "    Source  Target  Value    Color  \\\n",
       "0        0       5     20  #F27420   \n",
       "1        0       6      3  #4994CE   \n",
       "2        0       7      5  #FABC13   \n",
       "3        1       5     14  #7FC241   \n",
       "4        1       6      1  #D3D3D3   \n",
       "5        1       7      1  #8A5988   \n",
       "6        2       5      3  #449E9E   \n",
       "7        2       6     17  #D3D3D3   \n",
       "8        2       7      2            \n",
       "9        3       5      3            \n",
       "10       3       6      9            \n",
       "11       3       7      2            \n",
       "12       4       5      5            \n",
       "13       4       6      9            \n",
       "14       4       7      8            \n",
       "\n",
       "                                    Node, Label                Link Color  \n",
       "0                                Remain+No – 28  rgba(253, 227, 212, 0.5)  \n",
       "1                                 Leave+No – 16     rgba(242, 116, 32, 1)  \n",
       "2                               Remain+Yes – 21  rgba(253, 227, 212, 0.5)  \n",
       "3                                Leave+Yes – 14  rgba(219, 233, 246, 0.5)  \n",
       "4   Didn’t vote in at least one referendum – 21     rgba(73, 148, 206, 1)  \n",
       "5                                       46 – No   rgba(219, 233, 246,0.5)  \n",
       "6                                      39 – Yes     rgba(250, 188, 19, 1)  \n",
       "7              14 – Don’t know / would not vote   rgba(250, 188, 19, 0.5)  \n",
       "8                                                 rgba(250, 188, 19, 0.5)  \n",
       "9                                                   rgba(127, 194, 65, 1)  \n",
       "10                                                rgba(127, 194, 65, 0.5)  \n",
       "11                                                rgba(127, 194, 65, 0.5)  \n",
       "12                                               rgba(211, 211, 211, 0.5)  \n",
       "13                                               rgba(211, 211, 211, 0.5)  \n",
       "14                                               rgba(211, 211, 211, 0.5)  "
      ]
     },
     "execution_count": 62,
     "metadata": {},
     "output_type": "execute_result"
    }
   ],
   "source": [
    "df"
   ]
  }
 ],
 "metadata": {
  "kernelspec": {
   "display_name": "torch_gpu2",
   "language": "python",
   "name": "torch_gpu2"
  },
  "language_info": {
   "codemirror_mode": {
    "name": "ipython",
    "version": 3
   },
   "file_extension": ".py",
   "mimetype": "text/x-python",
   "name": "python",
   "nbconvert_exporter": "python",
   "pygments_lexer": "ipython3",
   "version": "3.11.9"
  }
 },
 "nbformat": 4,
 "nbformat_minor": 4
}
