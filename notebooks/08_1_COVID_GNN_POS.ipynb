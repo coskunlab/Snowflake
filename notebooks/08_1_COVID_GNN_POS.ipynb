{
 "cells": [
  {
   "cell_type": "code",
   "execution_count": 1,
   "id": "a73248b4-05f2-4d7c-bacf-919d006b2a8d",
   "metadata": {},
   "outputs": [],
   "source": [
    "import os\n",
    "import sys\n",
    "from pathlib import Path\n",
    "\n",
    "import cv2\n",
    "import matplotlib.pyplot as plt\n",
    "import numpy as np\n",
    "import pandas as pd \n",
    "import skimage.io\n",
    "\n",
    "from collections import defaultdict\n",
    "from tqdm.auto import tqdm\n",
    "from joblib import Parallel, delayed\n",
    "import re\n",
    "import h5py\n",
    "import napari\n",
    "import tifffile as tiff\n",
    "import seaborn as sns\n",
    "import pickle\n",
    "\n",
    "import networkx as nx\n",
    "from sklearn.model_selection import train_test_split"
   ]
  },
  {
   "cell_type": "code",
   "execution_count": 2,
   "id": "9638e31f-073c-4338-9688-041ee5756a2b",
   "metadata": {},
   "outputs": [],
   "source": [
    "import torch_geometric.utils\n",
    "import torch"
   ]
  },
  {
   "cell_type": "code",
   "execution_count": 3,
   "id": "49994536-a495-4a20-b1ec-7b7e69c350a3",
   "metadata": {},
   "outputs": [],
   "source": [
    "%load_ext autoreload\n",
    "%autoreload 2"
   ]
  },
  {
   "cell_type": "code",
   "execution_count": 4,
   "id": "1a60e2a7-d373-4fd2-8b44-5d601683864b",
   "metadata": {},
   "outputs": [],
   "source": [
    "p_dir = (Path().cwd().parents[0]).absolute()\n",
    "\n",
    "module_path = str(p_dir / \"src\")\n",
    "\n",
    "if module_path not in sys.path:\n",
    "    sys.path.append(module_path)"
   ]
  },
  {
   "cell_type": "code",
   "execution_count": 5,
   "id": "93dfcd46-eb0a-44cc-acec-e7fc5ae61791",
   "metadata": {},
   "outputs": [],
   "source": [
    "data_dir = (Path().cwd().parents[0] / 'data').absolute()"
   ]
  },
  {
   "cell_type": "code",
   "execution_count": 6,
   "id": "8d7d1361-97c9-40c9-97c1-529b2cdcaf2c",
   "metadata": {},
   "outputs": [],
   "source": [
    "import graph\n",
    "import torch\n",
    "import torch_geometric.utils\n",
    "import networkx as nx\n",
    "import lightning.pytorch as pl\n",
    "import torch.utils.data as data\n",
    "\n",
    "spatial_omics_folder = (Path().cwd().parents[0]).absolute() / 'data' / 'spatial_omics_graph'\n",
    "process_path = (Path().cwd().parents[0]).absolute() / 'data' / 'torch_graph_data'"
   ]
  },
  {
   "cell_type": "markdown",
   "id": "5c75818e-cc5e-45f9-8b0a-5e99e783b72f",
   "metadata": {
    "tags": []
   },
   "source": [
    "# Create data loader"
   ]
  },
  {
   "cell_type": "code",
   "execution_count": 7,
   "id": "638f597c-a708-409f-a116-4e313488b722",
   "metadata": {},
   "outputs": [],
   "source": [
    "from torch_geometric.loader import DataLoader\n",
    "seed = torch.Generator().manual_seed(42)\n",
    "\n",
    "name = 'NIH_pos'\n",
    "\n",
    "# Crate dataset\n",
    "dataset = graph.GraphDatasetPos(process_path / name, process_path / name / 'info.csv', 2, y_name='covid')\n",
    "\n",
    "train_set, val_set, test_set = graph.train_test_val_split(dataset)\n",
    "\n",
    "# Create Dataloader\n",
    "train_loader = DataLoader(train_set, batch_size=32, shuffle=True)\n",
    "val_loader = DataLoader(val_set, batch_size=32, shuffle=True)\n",
    "test_loader = DataLoader(test_set, batch_size=32, shuffle=False)\n"
   ]
  },
  {
   "cell_type": "code",
   "execution_count": 8,
   "id": "e2877318-ab93-45f2-a989-e18217c7f21b",
   "metadata": {},
   "outputs": [
    {
     "name": "stdout",
     "output_type": "stream",
     "text": [
      "Dataset: GraphDatasetPos(442):\n",
      "======================\n",
      "Number of graphs: 442\n",
      "Number of features: 6\n",
      "Number of classes: 2\n"
     ]
    }
   ],
   "source": [
    "print(f'Dataset: {dataset}:')\n",
    "print('======================')\n",
    "print(f'Number of graphs: {len(dataset)}')\n",
    "print(f'Number of features: {dataset.num_features}')\n",
    "print(f'Number of classes: {dataset.nc}')"
   ]
  },
  {
   "cell_type": "code",
   "execution_count": 9,
   "id": "dd84613d-0701-4cbe-b09e-4fdf214173b3",
   "metadata": {},
   "outputs": [
    {
     "name": "stdout",
     "output_type": "stream",
     "text": [
      "Train set: 213, val set: 176, test set: 53\n"
     ]
    }
   ],
   "source": [
    "print(f'Train set: {len(train_set)}, val set: {len(test_set)}, test set: {len(val_set)}')"
   ]
  },
  {
   "cell_type": "code",
   "execution_count": 10,
   "id": "f7c0a7db-8a5e-450d-b986-962c775e27f5",
   "metadata": {},
   "outputs": [
    {
     "name": "stdout",
     "output_type": "stream",
     "text": [
      "Step 1:\n",
      "=======\n",
      "Number of graphs in the current batch: 32\n",
      "DataBatch(edge_index=[2, 653260], num_nodes=93748, x=[93748, 6], pos=[93748, 2], node_types=[93748], label=[32], covid=[32], train_mask=[93748], test_mask=[93748], edge_attr=[653260, 2], y=[32], name=[32], batch=[93748], ptr=[33])\n",
      "\n"
     ]
    }
   ],
   "source": [
    "for step, data in enumerate(test_loader):\n",
    "    print(f'Step {step + 1}:')\n",
    "    print('=======')\n",
    "    print(f'Number of graphs in the current batch: {data.num_graphs}')\n",
    "    print(data)\n",
    "    print()\n",
    "    data.label\n",
    "    break"
   ]
  },
  {
   "cell_type": "markdown",
   "id": "d9cef1cd-e8f4-49e4-9016-c7cc583d88a0",
   "metadata": {},
   "source": [
    "# Train network K Fold"
   ]
  },
  {
   "cell_type": "code",
   "execution_count": 11,
   "id": "5967902f-7f4c-4f57-bb90-077b54032122",
   "metadata": {},
   "outputs": [],
   "source": [
    "from lightning.pytorch.accelerators import find_usable_cuda_devices\n",
    "import wandb"
   ]
  },
  {
   "cell_type": "code",
   "execution_count": 12,
   "id": "e67c5394-7620-4f96-b5d3-bcc7f919da74",
   "metadata": {},
   "outputs": [],
   "source": [
    "from sklearn.model_selection import KFold, StratifiedKFold, ShuffleSplit, StratifiedShuffleSplit\n",
    "from torch.utils.data import SubsetRandomSampler"
   ]
  },
  {
   "cell_type": "code",
   "execution_count": 13,
   "id": "374e8eb0-1f96-4cbc-9d14-8384df35afaf",
   "metadata": {},
   "outputs": [],
   "source": [
    "# # Print K fold model number of samples and number of positive cases\n",
    "\n",
    "# k_folds = 5\n",
    "# kfold = KFold(n_splits=k_folds, shuffle=True, random_state=42)\n",
    "\n",
    "# for fold, (train_ids, valid_ids) in enumerate(kfold.split(dataset)):\n",
    "#     train_subset = dataset.index_select(train_ids.tolist())\n",
    "#     val_subset = dataset.index_select(valid_ids.tolist())\n",
    "    \n",
    "#     train_loader = DataLoader(train_subset, batch_size=32, shuffle=True)\n",
    "#     val_loader = DataLoader(val_subset, batch_size=32, shuffle=False)\n",
    "    \n",
    "#     train_positives = 0\n",
    "#     test_positives = 0\n",
    "#     for step, data in enumerate(train_loader):\n",
    "#         train_positives += np.sum(data.y.numpy())\n",
    "#     for step, data in enumerate(val_loader):\n",
    "#         test_positives += np.sum(data.y.numpy())\n",
    "        \n",
    "#     print(len(train_subset), train_positives, len(val_subset), test_positives)"
   ]
  },
  {
   "cell_type": "code",
   "execution_count": 14,
   "id": "23d369a5-1bb6-4cbe-a9e5-a9b58e219df0",
   "metadata": {},
   "outputs": [],
   "source": [
    "condition = '082923_Covid_pos'\n",
    "checkpoint_folder = (Path().cwd().parents[0]).absolute() / 'data' / \"saved_models\" / f\"Graph_GNNs_{condition}\" \n",
    "project_name = f'SF_{condition}'"
   ]
  },
  {
   "cell_type": "code",
   "execution_count": 15,
   "id": "62c8a3eb-6154-4b8b-8634-3ba79f05e31b",
   "metadata": {},
   "outputs": [
    {
     "name": "stderr",
     "output_type": "stream",
     "text": [
      "Global seed set to 42\n"
     ]
    }
   ],
   "source": [
    "AVAIL_GPUS = [0]\n",
    "\n",
    "# Setting the seed\n",
    "pl.seed_everything(42)\n",
    "\n",
    "NUM_LAYERS = 2\n",
    "HIDDEN_CHANNELS = 16\n",
    "pools = ['mean', 'max', 'attention', 'attention2']\n",
    "# pools = ['attention2']\n",
    "models = ['GAT', 'GINConv']\n",
    "# models = ['GINConv']\n",
    "epochs =100"
   ]
  },
  {
   "cell_type": "code",
   "execution_count": 16,
   "id": "6afddfc1-9f58-4598-8f1d-3b0ed6cbeb7b",
   "metadata": {},
   "outputs": [],
   "source": [
    "ys = [data.y.item() for data in dataset]"
   ]
  },
  {
   "cell_type": "code",
   "execution_count": 17,
   "id": "40684d85-d560-40b5-90ae-11c1bc5494c8",
   "metadata": {
    "collapsed": true,
    "jupyter": {
     "outputs_hidden": true
    },
    "tags": []
   },
   "outputs": [
    {
     "name": "stdout",
     "output_type": "stream",
     "text": [
      "Y:\\coskun-lab\\Thomas\\11_snowflakes\\data\\saved_models\\Graph_GNNs_082923_Covid_pos\\GAT_2_16_0\\mean\\GraphLevelGAT\\GraphLevelGAT.ckpt\n"
     ]
    },
    {
     "name": "stderr",
     "output_type": "stream",
     "text": [
      "Failed to detect the name of this notebook, you can set it manually with the WANDB_NOTEBOOK_NAME environment variable to enable code saving.\n",
      "\u001b[34m\u001b[1mwandb\u001b[0m: Currently logged in as: \u001b[33mthoomas\u001b[0m. Use \u001b[1m`wandb login --relogin`\u001b[0m to force relogin\n"
     ]
    },
    {
     "data": {
      "application/vnd.jupyter.widget-view+json": {
       "model_id": "4a5a78d7d6854c5f8ab99d9c8ef2438c",
       "version_major": 2,
       "version_minor": 0
      },
      "text/plain": [
       "VBox(children=(Label(value='Waiting for wandb.init()...\\r'), FloatProgress(value=0.016666666666666666, max=1.0…"
      ]
     },
     "metadata": {},
     "output_type": "display_data"
    },
    {
     "data": {
      "text/html": [
       "wandb version 0.15.9 is available!  To upgrade, please run:\n",
       " $ pip install wandb --upgrade"
      ],
      "text/plain": [
       "<IPython.core.display.HTML object>"
      ]
     },
     "metadata": {},
     "output_type": "display_data"
    },
    {
     "data": {
      "text/html": [
       "Tracking run with wandb version 0.14.0"
      ],
      "text/plain": [
       "<IPython.core.display.HTML object>"
      ]
     },
     "metadata": {},
     "output_type": "display_data"
    },
    {
     "data": {
      "text/html": [
       "Run data is saved locally in <code>Y:\\coskun-lab\\Thomas\\11_snowflakes\\notebooks\\wandb\\run-20230905_171631-yr20zood</code>"
      ],
      "text/plain": [
       "<IPython.core.display.HTML object>"
      ]
     },
     "metadata": {},
     "output_type": "display_data"
    },
    {
     "data": {
      "text/html": [
       "Syncing run <strong><a href='https://wandb.ai/thoomas/SF_082923_Covid_pos/runs/yr20zood' target=\"_blank\">GINConv_2_16_0</a></strong> to <a href='https://wandb.ai/thoomas/SF_082923_Covid_pos' target=\"_blank\">Weights & Biases</a> (<a href='https://wandb.me/run' target=\"_blank\">docs</a>)<br/>"
      ],
      "text/plain": [
       "<IPython.core.display.HTML object>"
      ]
     },
     "metadata": {},
     "output_type": "display_data"
    },
    {
     "data": {
      "text/html": [
       " View project at <a href='https://wandb.ai/thoomas/SF_082923_Covid_pos' target=\"_blank\">https://wandb.ai/thoomas/SF_082923_Covid_pos</a>"
      ],
      "text/plain": [
       "<IPython.core.display.HTML object>"
      ]
     },
     "metadata": {},
     "output_type": "display_data"
    },
    {
     "data": {
      "text/html": [
       " View run at <a href='https://wandb.ai/thoomas/SF_082923_Covid_pos/runs/yr20zood' target=\"_blank\">https://wandb.ai/thoomas/SF_082923_Covid_pos/runs/yr20zood</a>"
      ],
      "text/plain": [
       "<IPython.core.display.HTML object>"
      ]
     },
     "metadata": {},
     "output_type": "display_data"
    },
    {
     "name": "stderr",
     "output_type": "stream",
     "text": [
      "Global seed set to 42\n",
      "C:\\Users\\thu71\\Anaconda3\\envs\\snowflake\\lib\\site-packages\\pytorch_lightning\\loggers\\wandb.py:395: UserWarning: There is a wandb run already in progress and newly created instances of `WandbLogger` will reuse this run. If this is not desired, call `wandb.finish()` before instantiating `WandbLogger`.\n",
      "  rank_zero_warn(\n",
      "GPU available: True (cuda), used: True\n",
      "TPU available: False, using: 0 TPU cores\n",
      "IPU available: False, using: 0 IPUs\n",
      "HPU available: False, using: 0 HPUs\n",
      "Global seed set to 42\n",
      "LOCAL_RANK: 0 - CUDA_VISIBLE_DEVICES: [0,1]\n",
      "\n",
      "   | Name        | Type             | Params\n",
      "--------------------------------------------------\n",
      "0  | model       | GIN              | 1.0 K \n",
      "1  | fnn_layer   | Linear           | 272   \n",
      "2  | selu        | SELU             | 0     \n",
      "3  | head        | Linear           | 34    \n",
      "4  | loss_module | CrossEntropyLoss | 0     \n",
      "5  | train_acc   | BinaryAccuracy   | 0     \n",
      "6  | train_auroc | BinaryAUROC      | 0     \n",
      "7  | train_f1    | BinaryF1Score    | 0     \n",
      "8  | valid_acc   | BinaryAccuracy   | 0     \n",
      "9  | valid_auroc | BinaryAUROC      | 0     \n",
      "10 | valid_f1    | BinaryF1Score    | 0     \n",
      "--------------------------------------------------\n",
      "1.3 K     Trainable params\n",
      "0         Non-trainable params\n",
      "1.3 K     Total params\n",
      "0.005     Total estimated model params size (MB)\n",
      "C:\\Users\\thu71\\AppData\\Roaming\\Python\\Python39\\site-packages\\lightning\\pytorch\\trainer\\connectors\\data_connector.py:478: PossibleUserWarning: Your `val_dataloader`'s sampler has shuffling enabled, it is strongly recommended that you turn shuffling off for val/test dataloaders.\n",
      "  rank_zero_warn(\n",
      "C:\\Users\\thu71\\AppData\\Roaming\\Python\\Python39\\site-packages\\lightning\\pytorch\\trainer\\connectors\\data_connector.py:430: PossibleUserWarning: The dataloader, val_dataloader, does not have many workers which may be a bottleneck. Consider increasing the value of the `num_workers` argument` (try 48 which is the number of cpus on this machine) in the `DataLoader` init to improve performance.\n",
      "  rank_zero_warn(\n",
      "C:\\Users\\thu71\\AppData\\Roaming\\Python\\Python39\\site-packages\\lightning\\pytorch\\utilities\\data.py:77: UserWarning: Trying to infer the `batch_size` from an ambiguous collection. The batch size we found is 2. To avoid any miscalculations, use `self.log(..., batch_size=batch_size)`.\n",
      "  warning_cache.warn(\n",
      "C:\\Users\\thu71\\AppData\\Roaming\\Python\\Python39\\site-packages\\lightning\\pytorch\\trainer\\connectors\\data_connector.py:430: PossibleUserWarning: The dataloader, train_dataloader, does not have many workers which may be a bottleneck. Consider increasing the value of the `num_workers` argument` (try 48 which is the number of cpus on this machine) in the `DataLoader` init to improve performance.\n",
      "  rank_zero_warn(\n",
      "C:\\Users\\thu71\\AppData\\Roaming\\Python\\Python39\\site-packages\\lightning\\pytorch\\loops\\fit_loop.py:280: PossibleUserWarning: The number of training batches (3) is smaller than the logging interval Trainer(log_every_n_steps=10). Set a lower value for log_every_n_steps if you want to see logs for the training epoch.\n",
      "  rank_zero_warn(\n",
      "C:\\Users\\thu71\\Anaconda3\\envs\\snowflake\\lib\\site-packages\\torchmetrics\\utilities\\prints.py:36: UserWarning: No negative samples in targets, false positive value should be meaningless. Returning zero tensor in false positive score\n",
      "  warnings.warn(*args, **kwargs)\n",
      "C:\\Users\\thu71\\Anaconda3\\envs\\snowflake\\lib\\site-packages\\torchmetrics\\utilities\\prints.py:36: UserWarning: No positive samples in targets, true positive value should be meaningless. Returning zero tensor in true positive score\n",
      "  warnings.warn(*args, **kwargs)\n",
      "C:\\Users\\thu71\\Anaconda3\\envs\\snowflake\\lib\\site-packages\\torchmetrics\\utilities\\prints.py:36: UserWarning: No positive samples in targets, true positive value should be meaningless. Returning zero tensor in true positive score\n",
      "  warnings.warn(*args, **kwargs)\n",
      "C:\\Users\\thu71\\Anaconda3\\envs\\snowflake\\lib\\site-packages\\torchmetrics\\utilities\\prints.py:36: UserWarning: No negative samples in targets, false positive value should be meaningless. Returning zero tensor in false positive score\n",
      "  warnings.warn(*args, **kwargs)\n",
      "C:\\Users\\thu71\\Anaconda3\\envs\\snowflake\\lib\\site-packages\\torchmetrics\\utilities\\prints.py:36: UserWarning: No negative samples in targets, false positive value should be meaningless. Returning zero tensor in false positive score\n",
      "  warnings.warn(*args, **kwargs)\n",
      "`Trainer.fit` stopped: `max_epochs=100` reached.\n"
     ]
    },
    {
     "data": {
      "text/html": [
       "Waiting for W&B process to finish... <strong style=\"color:green\">(success).</strong>"
      ],
      "text/plain": [
       "<IPython.core.display.HTML object>"
      ]
     },
     "metadata": {},
     "output_type": "display_data"
    },
    {
     "data": {
      "application/vnd.jupyter.widget-view+json": {
       "model_id": "c41b869a7b9c40d59ebb9929cca3cf8f",
       "version_major": 2,
       "version_minor": 0
      },
      "text/plain": [
       "VBox(children=(Label(value='0.001 MB of 0.001 MB uploaded (0.000 MB deduped)\\r'), FloatProgress(value=1.0, max…"
      ]
     },
     "metadata": {},
     "output_type": "display_data"
    },
    {
     "data": {
      "text/html": [
       "<style>\n",
       "    table.wandb td:nth-child(1) { padding: 0 10px; text-align: left ; width: auto;} td:nth-child(2) {text-align: left ; width: 100%}\n",
       "    .wandb-row { display: flex; flex-direction: row; flex-wrap: wrap; justify-content: flex-start; width: 100% }\n",
       "    .wandb-col { display: flex; flex-direction: column; flex-basis: 100%; flex: 1; padding: 10px; }\n",
       "    </style>\n",
       "<div class=\"wandb-row\"><div class=\"wandb-col\"><h3>Run history:</h3><br/><table class=\"wandb\"><tr><td>epoch</td><td>▁▁▁▁▂▂▂▂▂▃▃▃▃▃▃▄▄▄▄▄▅▅▅▅▅▆▆▆▆▆▆▇▇▇▇▇████</td></tr><tr><td>lr-Adam</td><td>▁▁▁▁▁▁▁▁▁▁▁▁▁▁▁▁▁▁▁▁▁▁▁▁▁▁▁▁▁▁▁▁▁▁▁▁▁▁▁▁</td></tr><tr><td>train_acc</td><td>▁▄▅▅▆▆▅▆▆▇▆▇▇▇▇▇▇▇▇▇▇▇█▇▇▇███▇▇▇▇▇████▇█</td></tr><tr><td>train_auc</td><td>▁▄▆▆▇▇▆▇▇▇▇▇▇▇▇█▇▇▇▇█▇██████████████████</td></tr><tr><td>train_f1</td><td>▁▃▄▅▅▅▅▆▆▆▆▆▆▆▆▆▆▆▆▇▇▇▇▇▇▇███▇▇▇▇▇███▇▇▇</td></tr><tr><td>train_loss_epoch</td><td>█▆▄▄▃▃▄▃▃▃▂▂▂▃▃▂▂▃▃▂▂▂▁▁▂▁▁▁▁▂▂▂▁▂▁▁▁▂▂▁</td></tr><tr><td>train_loss_step</td><td>█▅▅▅▃▄▃▃▂▃▄▃▃▃▁▂▂▂▂▁▃▂▁▂▂▂▄▁▂▂</td></tr><tr><td>trainer/global_step</td><td>▁▁▁▂▁▂▂▂▃▃▃▃▃▃▄▄▄▄▅▃▄▄▅▅▆▄▄▄▆▇▇▅▅▅███▆▆▆</td></tr><tr><td>val_acc</td><td>▁▂▂▄▆▆▆▆▅▆▇▆▆▇▆▆▆▅▇▇▆▆▆▆▇▇▇▆▆█▆▇██▆▆▇▇▆▇</td></tr><tr><td>val_auc</td><td>▁▃▇▇▇▇▇▇▆▇▇▇▇▇▇▇▇▇▇▇▇▇▇▇▇██▇█▇▇▇████████</td></tr><tr><td>val_f1</td><td>▁▂▃▄▆▆▆▆▄▅▇▆▆▆▆▆▆▅▆▆▄▆▆▄▆▆▇▅▅█▅▆██▄▅▇▇▅▆</td></tr><tr><td>val_loss_epoch</td><td>▇█▅▃▄▄▆▃▆▃▄▃▃▂▅▂▂█▂▂▃▂▃▃▅▁▃▄▅▁▅▃▃▁▄▅▄▂▂▁</td></tr><tr><td>val_loss_step</td><td>▅▆▄▂▃▃▅▂▆▃▃▃▃▂▄▁▁█▂▂▃▁▂▃▅▁▃▃▅▁▆▃▃▁▃▅▅▁▁▁</td></tr></table><br/></div><div class=\"wandb-col\"><h3>Run summary:</h3><br/><table class=\"wandb\"><tr><td>epoch</td><td>99</td></tr><tr><td>lr-Adam</td><td>0.005</td></tr><tr><td>train_acc</td><td>0.93851</td></tr><tr><td>train_auc</td><td>0.96501</td></tr><tr><td>train_f1</td><td>0.94708</td></tr><tr><td>train_loss_epoch</td><td>0.37244</td></tr><tr><td>train_loss_step</td><td>0.38693</td></tr><tr><td>trainer/global_step</td><td>299</td></tr><tr><td>val_acc</td><td>0.83459</td></tr><tr><td>val_auc</td><td>0.90859</td></tr><tr><td>val_f1</td><td>0.85333</td></tr><tr><td>val_loss_epoch</td><td>0.40094</td></tr><tr><td>val_loss_step</td><td>0.31329</td></tr></table><br/></div></div>"
      ],
      "text/plain": [
       "<IPython.core.display.HTML object>"
      ]
     },
     "metadata": {},
     "output_type": "display_data"
    },
    {
     "data": {
      "text/html": [
       " View run <strong style=\"color:#cdcd00\">GINConv_2_16_0</strong> at: <a href='https://wandb.ai/thoomas/SF_082923_Covid_pos/runs/yr20zood' target=\"_blank\">https://wandb.ai/thoomas/SF_082923_Covid_pos/runs/yr20zood</a><br/>Synced 5 W&B file(s), 0 media file(s), 0 artifact file(s) and 0 other file(s)"
      ],
      "text/plain": [
       "<IPython.core.display.HTML object>"
      ]
     },
     "metadata": {},
     "output_type": "display_data"
    },
    {
     "data": {
      "text/html": [
       "Find logs at: <code>.\\wandb\\run-20230905_171631-yr20zood\\logs</code>"
      ],
      "text/plain": [
       "<IPython.core.display.HTML object>"
      ]
     },
     "metadata": {},
     "output_type": "display_data"
    },
    {
     "name": "stdout",
     "output_type": "stream",
     "text": [
      "Y:\\coskun-lab\\Thomas\\11_snowflakes\\data\\saved_models\\Graph_GNNs_082923_Covid_pos\\GAT_2_16_0\\max\\GraphLevelGAT\\GraphLevelGAT.ckpt\n",
      "Y:\\coskun-lab\\Thomas\\11_snowflakes\\data\\saved_models\\Graph_GNNs_082923_Covid_pos\\GINConv_2_16_0\\max\\GraphLevelGINConv\\GraphLevelGINConv.ckpt\n",
      "Y:\\coskun-lab\\Thomas\\11_snowflakes\\data\\saved_models\\Graph_GNNs_082923_Covid_pos\\GAT_2_16_0\\attention\\GraphLevelGAT\\GraphLevelGAT.ckpt\n",
      "Y:\\coskun-lab\\Thomas\\11_snowflakes\\data\\saved_models\\Graph_GNNs_082923_Covid_pos\\GINConv_2_16_0\\attention\\GraphLevelGINConv\\GraphLevelGINConv.ckpt\n",
      "Y:\\coskun-lab\\Thomas\\11_snowflakes\\data\\saved_models\\Graph_GNNs_082923_Covid_pos\\GAT_2_16_0\\attention2\\GraphLevelGAT\\GraphLevelGAT.ckpt\n",
      "Y:\\coskun-lab\\Thomas\\11_snowflakes\\data\\saved_models\\Graph_GNNs_082923_Covid_pos\\GINConv_2_16_0\\attention2\\GraphLevelGINConv\\GraphLevelGINConv.ckpt\n",
      "Y:\\coskun-lab\\Thomas\\11_snowflakes\\data\\saved_models\\Graph_GNNs_082923_Covid_pos\\GAT_2_16_1\\mean\\GraphLevelGAT\\GraphLevelGAT.ckpt\n"
     ]
    },
    {
     "data": {
      "application/vnd.jupyter.widget-view+json": {
       "model_id": "8514ae20b1624a8abb0114ac1c7c957e",
       "version_major": 2,
       "version_minor": 0
      },
      "text/plain": [
       "VBox(children=(Label(value='Waiting for wandb.init()...\\r'), FloatProgress(value=0.01693333333435779, max=1.0)…"
      ]
     },
     "metadata": {},
     "output_type": "display_data"
    },
    {
     "data": {
      "text/html": [
       "wandb version 0.15.9 is available!  To upgrade, please run:\n",
       " $ pip install wandb --upgrade"
      ],
      "text/plain": [
       "<IPython.core.display.HTML object>"
      ]
     },
     "metadata": {},
     "output_type": "display_data"
    },
    {
     "data": {
      "text/html": [
       "Tracking run with wandb version 0.14.0"
      ],
      "text/plain": [
       "<IPython.core.display.HTML object>"
      ]
     },
     "metadata": {},
     "output_type": "display_data"
    },
    {
     "data": {
      "text/html": [
       "Run data is saved locally in <code>Y:\\coskun-lab\\Thomas\\11_snowflakes\\notebooks\\wandb\\run-20230905_175030-5biub7nw</code>"
      ],
      "text/plain": [
       "<IPython.core.display.HTML object>"
      ]
     },
     "metadata": {},
     "output_type": "display_data"
    },
    {
     "data": {
      "text/html": [
       "Syncing run <strong><a href='https://wandb.ai/thoomas/SF_082923_Covid_pos/runs/5biub7nw' target=\"_blank\">GINConv_2_16_1</a></strong> to <a href='https://wandb.ai/thoomas/SF_082923_Covid_pos' target=\"_blank\">Weights & Biases</a> (<a href='https://wandb.me/run' target=\"_blank\">docs</a>)<br/>"
      ],
      "text/plain": [
       "<IPython.core.display.HTML object>"
      ]
     },
     "metadata": {},
     "output_type": "display_data"
    },
    {
     "data": {
      "text/html": [
       " View project at <a href='https://wandb.ai/thoomas/SF_082923_Covid_pos' target=\"_blank\">https://wandb.ai/thoomas/SF_082923_Covid_pos</a>"
      ],
      "text/plain": [
       "<IPython.core.display.HTML object>"
      ]
     },
     "metadata": {},
     "output_type": "display_data"
    },
    {
     "data": {
      "text/html": [
       " View run at <a href='https://wandb.ai/thoomas/SF_082923_Covid_pos/runs/5biub7nw' target=\"_blank\">https://wandb.ai/thoomas/SF_082923_Covid_pos/runs/5biub7nw</a>"
      ],
      "text/plain": [
       "<IPython.core.display.HTML object>"
      ]
     },
     "metadata": {},
     "output_type": "display_data"
    },
    {
     "name": "stderr",
     "output_type": "stream",
     "text": [
      "Global seed set to 42\n",
      "C:\\Users\\thu71\\Anaconda3\\envs\\snowflake\\lib\\site-packages\\pytorch_lightning\\loggers\\wandb.py:395: UserWarning: There is a wandb run already in progress and newly created instances of `WandbLogger` will reuse this run. If this is not desired, call `wandb.finish()` before instantiating `WandbLogger`.\n",
      "  rank_zero_warn(\n",
      "GPU available: True (cuda), used: True\n",
      "TPU available: False, using: 0 TPU cores\n",
      "IPU available: False, using: 0 IPUs\n",
      "HPU available: False, using: 0 HPUs\n",
      "Global seed set to 42\n",
      "LOCAL_RANK: 0 - CUDA_VISIBLE_DEVICES: [0,1]\n",
      "\n",
      "   | Name        | Type             | Params\n",
      "--------------------------------------------------\n",
      "0  | model       | GIN              | 1.0 K \n",
      "1  | fnn_layer   | Linear           | 272   \n",
      "2  | selu        | SELU             | 0     \n",
      "3  | head        | Linear           | 34    \n",
      "4  | loss_module | CrossEntropyLoss | 0     \n",
      "5  | train_acc   | BinaryAccuracy   | 0     \n",
      "6  | train_auroc | BinaryAUROC      | 0     \n",
      "7  | train_f1    | BinaryF1Score    | 0     \n",
      "8  | valid_acc   | BinaryAccuracy   | 0     \n",
      "9  | valid_auroc | BinaryAUROC      | 0     \n",
      "10 | valid_f1    | BinaryF1Score    | 0     \n",
      "--------------------------------------------------\n",
      "1.3 K     Trainable params\n",
      "0         Non-trainable params\n",
      "1.3 K     Total params\n",
      "0.005     Total estimated model params size (MB)\n",
      "C:\\Users\\thu71\\AppData\\Roaming\\Python\\Python39\\site-packages\\lightning\\pytorch\\trainer\\connectors\\data_connector.py:478: PossibleUserWarning: Your `val_dataloader`'s sampler has shuffling enabled, it is strongly recommended that you turn shuffling off for val/test dataloaders.\n",
      "  rank_zero_warn(\n",
      "C:\\Users\\thu71\\AppData\\Roaming\\Python\\Python39\\site-packages\\lightning\\pytorch\\trainer\\connectors\\data_connector.py:430: PossibleUserWarning: The dataloader, val_dataloader, does not have many workers which may be a bottleneck. Consider increasing the value of the `num_workers` argument` (try 48 which is the number of cpus on this machine) in the `DataLoader` init to improve performance.\n",
      "  rank_zero_warn(\n",
      "C:\\Users\\thu71\\AppData\\Roaming\\Python\\Python39\\site-packages\\lightning\\pytorch\\trainer\\connectors\\data_connector.py:430: PossibleUserWarning: The dataloader, train_dataloader, does not have many workers which may be a bottleneck. Consider increasing the value of the `num_workers` argument` (try 48 which is the number of cpus on this machine) in the `DataLoader` init to improve performance.\n",
      "  rank_zero_warn(\n",
      "C:\\Users\\thu71\\AppData\\Roaming\\Python\\Python39\\site-packages\\lightning\\pytorch\\loops\\fit_loop.py:280: PossibleUserWarning: The number of training batches (3) is smaller than the logging interval Trainer(log_every_n_steps=10). Set a lower value for log_every_n_steps if you want to see logs for the training epoch.\n",
      "  rank_zero_warn(\n",
      "C:\\Users\\thu71\\Anaconda3\\envs\\snowflake\\lib\\site-packages\\torchmetrics\\utilities\\prints.py:36: UserWarning: No negative samples in targets, false positive value should be meaningless. Returning zero tensor in false positive score\n",
      "  warnings.warn(*args, **kwargs)\n",
      "C:\\Users\\thu71\\Anaconda3\\envs\\snowflake\\lib\\site-packages\\torchmetrics\\utilities\\prints.py:36: UserWarning: No negative samples in targets, false positive value should be meaningless. Returning zero tensor in false positive score\n",
      "  warnings.warn(*args, **kwargs)\n",
      "C:\\Users\\thu71\\Anaconda3\\envs\\snowflake\\lib\\site-packages\\torchmetrics\\utilities\\prints.py:36: UserWarning: No negative samples in targets, false positive value should be meaningless. Returning zero tensor in false positive score\n",
      "  warnings.warn(*args, **kwargs)\n",
      "C:\\Users\\thu71\\Anaconda3\\envs\\snowflake\\lib\\site-packages\\torchmetrics\\utilities\\prints.py:36: UserWarning: No negative samples in targets, false positive value should be meaningless. Returning zero tensor in false positive score\n",
      "  warnings.warn(*args, **kwargs)\n",
      "C:\\Users\\thu71\\Anaconda3\\envs\\snowflake\\lib\\site-packages\\torchmetrics\\utilities\\prints.py:36: UserWarning: No negative samples in targets, false positive value should be meaningless. Returning zero tensor in false positive score\n",
      "  warnings.warn(*args, **kwargs)\n",
      "C:\\Users\\thu71\\Anaconda3\\envs\\snowflake\\lib\\site-packages\\torchmetrics\\utilities\\prints.py:36: UserWarning: No negative samples in targets, false positive value should be meaningless. Returning zero tensor in false positive score\n",
      "  warnings.warn(*args, **kwargs)\n",
      "C:\\Users\\thu71\\Anaconda3\\envs\\snowflake\\lib\\site-packages\\torchmetrics\\utilities\\prints.py:36: UserWarning: No positive samples in targets, true positive value should be meaningless. Returning zero tensor in true positive score\n",
      "  warnings.warn(*args, **kwargs)\n",
      "`Trainer.fit` stopped: `max_epochs=100` reached.\n"
     ]
    },
    {
     "data": {
      "text/html": [
       "Waiting for W&B process to finish... <strong style=\"color:green\">(success).</strong>"
      ],
      "text/plain": [
       "<IPython.core.display.HTML object>"
      ]
     },
     "metadata": {},
     "output_type": "display_data"
    },
    {
     "data": {
      "application/vnd.jupyter.widget-view+json": {
       "model_id": "2d98681f2e8f495ebfb321f7591b94a6",
       "version_major": 2,
       "version_minor": 0
      },
      "text/plain": [
       "VBox(children=(Label(value='0.001 MB of 0.001 MB uploaded (0.000 MB deduped)\\r'), FloatProgress(value=1.0, max…"
      ]
     },
     "metadata": {},
     "output_type": "display_data"
    },
    {
     "data": {
      "text/html": [
       "<style>\n",
       "    table.wandb td:nth-child(1) { padding: 0 10px; text-align: left ; width: auto;} td:nth-child(2) {text-align: left ; width: 100%}\n",
       "    .wandb-row { display: flex; flex-direction: row; flex-wrap: wrap; justify-content: flex-start; width: 100% }\n",
       "    .wandb-col { display: flex; flex-direction: column; flex-basis: 100%; flex: 1; padding: 10px; }\n",
       "    </style>\n",
       "<div class=\"wandb-row\"><div class=\"wandb-col\"><h3>Run history:</h3><br/><table class=\"wandb\"><tr><td>epoch</td><td>▁▁▁▁▂▂▂▂▂▃▃▃▃▃▃▄▄▄▄▄▅▅▅▅▅▆▆▆▆▆▆▇▇▇▇▇████</td></tr><tr><td>lr-Adam</td><td>▁▁▁▁▁▁▁▁▁▁▁▁▁▁▁▁▁▁▁▁▁▁▁▁▁▁▁▁▁▁▁▁▁▁▁▁▁▁▁▁</td></tr><tr><td>train_acc</td><td>▁▄▅▆▆▆▆▆▆▆▆▆▇▆▇▇▇▇▇▇▇▇▇▇▇▇▇▇▇▇▇▇▇▇█▇██▇▇</td></tr><tr><td>train_auc</td><td>▁▅▆▇▇▇▆▆▇▇▇▇▇▇▇▇▇▇▇▇▇▇▇▇▇███████████████</td></tr><tr><td>train_f1</td><td>▁▃▄▅▅▅▅▅▅▆▆▆▆▆▆▆▆▇▆▆▇▇▇▆▇▇▇▇▇▇▇▇▇▇▇▇██▇▇</td></tr><tr><td>train_loss_epoch</td><td>█▆▄▄▄▃▄▃▃▃▃▂▃▃▂▃▂▃▂▃▂▂▂▂▃▂▂▂▂▂▂▂▂▂▁▂▁▁▂▂</td></tr><tr><td>train_loss_step</td><td>█▅▄▄▃▄▅▅▄▄▃▅▃▂▆▃▃▃▂▄▃▂▂▂▂▂▂▁▁▃</td></tr><tr><td>trainer/global_step</td><td>▁▁▁▂▁▂▂▂▃▃▃▃▃▃▄▄▄▄▅▃▄▄▅▅▆▄▄▄▆▇▇▅▅▅███▆▆▆</td></tr><tr><td>val_acc</td><td>▁▂▂▃▅▅▇▅█▆▇▆▆▅▅▇▆▆▇▇▇█▇▇▇▇▇▇▇▆▇███▇▇▇█▇▇</td></tr><tr><td>val_auc</td><td>▁▄▄▄▄▄▅▂▅▅▆▆▆▃▇▇▅▇▇▇▇█▆███▆▇▆▅▆█▇▇▇▆▆▆▅▇</td></tr><tr><td>val_f1</td><td>▁▂▂▃▄▅▆▃█▅▆▆▆▅▅▆▅▆▇▇▇█▇▇▆▇▆▆▆▅▆███▆▇▆▇▇▇</td></tr><tr><td>val_loss_epoch</td><td>██▆█▄▅▂▃▂▇▄▂▁▇█▇▆▁▁▁▄▄▆▂▃▄▃▁▁▃▄█▃▁▁▂▁▆▄▂</td></tr><tr><td>val_loss_step</td><td>▅▆▄▆▄▅▂▂▂▆▄▂▁▇▇▇▆▁▁▁▄▄▆▂▄▄▃▁▂▂▄█▄▂▁▂▁▆▄▂</td></tr></table><br/></div><div class=\"wandb-col\"><h3>Run summary:</h3><br/><table class=\"wandb\"><tr><td>epoch</td><td>99</td></tr><tr><td>lr-Adam</td><td>0.005</td></tr><tr><td>train_acc</td><td>0.92233</td></tr><tr><td>train_auc</td><td>0.9621</td></tr><tr><td>train_f1</td><td>0.93182</td></tr><tr><td>train_loss_epoch</td><td>0.39367</td></tr><tr><td>train_loss_step</td><td>0.42401</td></tr><tr><td>trainer/global_step</td><td>299</td></tr><tr><td>val_acc</td><td>0.84962</td></tr><tr><td>val_auc</td><td>0.91297</td></tr><tr><td>val_f1</td><td>0.87013</td></tr><tr><td>val_loss_epoch</td><td>0.43121</td></tr><tr><td>val_loss_step</td><td>0.39082</td></tr></table><br/></div></div>"
      ],
      "text/plain": [
       "<IPython.core.display.HTML object>"
      ]
     },
     "metadata": {},
     "output_type": "display_data"
    },
    {
     "data": {
      "text/html": [
       " View run <strong style=\"color:#cdcd00\">GINConv_2_16_1</strong> at: <a href='https://wandb.ai/thoomas/SF_082923_Covid_pos/runs/5biub7nw' target=\"_blank\">https://wandb.ai/thoomas/SF_082923_Covid_pos/runs/5biub7nw</a><br/>Synced 5 W&B file(s), 0 media file(s), 0 artifact file(s) and 0 other file(s)"
      ],
      "text/plain": [
       "<IPython.core.display.HTML object>"
      ]
     },
     "metadata": {},
     "output_type": "display_data"
    },
    {
     "data": {
      "text/html": [
       "Find logs at: <code>.\\wandb\\run-20230905_175030-5biub7nw\\logs</code>"
      ],
      "text/plain": [
       "<IPython.core.display.HTML object>"
      ]
     },
     "metadata": {},
     "output_type": "display_data"
    },
    {
     "name": "stdout",
     "output_type": "stream",
     "text": [
      "Y:\\coskun-lab\\Thomas\\11_snowflakes\\data\\saved_models\\Graph_GNNs_082923_Covid_pos\\GAT_2_16_1\\max\\GraphLevelGAT\\GraphLevelGAT.ckpt\n",
      "Y:\\coskun-lab\\Thomas\\11_snowflakes\\data\\saved_models\\Graph_GNNs_082923_Covid_pos\\GINConv_2_16_1\\max\\GraphLevelGINConv\\GraphLevelGINConv.ckpt\n",
      "Y:\\coskun-lab\\Thomas\\11_snowflakes\\data\\saved_models\\Graph_GNNs_082923_Covid_pos\\GAT_2_16_1\\attention\\GraphLevelGAT\\GraphLevelGAT.ckpt\n",
      "Y:\\coskun-lab\\Thomas\\11_snowflakes\\data\\saved_models\\Graph_GNNs_082923_Covid_pos\\GINConv_2_16_1\\attention\\GraphLevelGINConv\\GraphLevelGINConv.ckpt\n",
      "Y:\\coskun-lab\\Thomas\\11_snowflakes\\data\\saved_models\\Graph_GNNs_082923_Covid_pos\\GAT_2_16_1\\attention2\\GraphLevelGAT\\GraphLevelGAT.ckpt\n",
      "Y:\\coskun-lab\\Thomas\\11_snowflakes\\data\\saved_models\\Graph_GNNs_082923_Covid_pos\\GINConv_2_16_1\\attention2\\GraphLevelGINConv\\GraphLevelGINConv.ckpt\n",
      "Y:\\coskun-lab\\Thomas\\11_snowflakes\\data\\saved_models\\Graph_GNNs_082923_Covid_pos\\GAT_2_16_2\\mean\\GraphLevelGAT\\GraphLevelGAT.ckpt\n"
     ]
    },
    {
     "data": {
      "application/vnd.jupyter.widget-view+json": {
       "model_id": "d7537adc7a2846d39d27ff7d952795b9",
       "version_major": 2,
       "version_minor": 0
      },
      "text/plain": [
       "VBox(children=(Label(value='Waiting for wandb.init()...\\r'), FloatProgress(value=0.016666666666666666, max=1.0…"
      ]
     },
     "metadata": {},
     "output_type": "display_data"
    },
    {
     "data": {
      "text/html": [
       "wandb version 0.15.9 is available!  To upgrade, please run:\n",
       " $ pip install wandb --upgrade"
      ],
      "text/plain": [
       "<IPython.core.display.HTML object>"
      ]
     },
     "metadata": {},
     "output_type": "display_data"
    },
    {
     "data": {
      "text/html": [
       "Tracking run with wandb version 0.14.0"
      ],
      "text/plain": [
       "<IPython.core.display.HTML object>"
      ]
     },
     "metadata": {},
     "output_type": "display_data"
    },
    {
     "data": {
      "text/html": [
       "Run data is saved locally in <code>Y:\\coskun-lab\\Thomas\\11_snowflakes\\notebooks\\wandb\\run-20230905_181939-5e1w0gtx</code>"
      ],
      "text/plain": [
       "<IPython.core.display.HTML object>"
      ]
     },
     "metadata": {},
     "output_type": "display_data"
    },
    {
     "data": {
      "text/html": [
       "Syncing run <strong><a href='https://wandb.ai/thoomas/SF_082923_Covid_pos/runs/5e1w0gtx' target=\"_blank\">GINConv_2_16_2</a></strong> to <a href='https://wandb.ai/thoomas/SF_082923_Covid_pos' target=\"_blank\">Weights & Biases</a> (<a href='https://wandb.me/run' target=\"_blank\">docs</a>)<br/>"
      ],
      "text/plain": [
       "<IPython.core.display.HTML object>"
      ]
     },
     "metadata": {},
     "output_type": "display_data"
    },
    {
     "data": {
      "text/html": [
       " View project at <a href='https://wandb.ai/thoomas/SF_082923_Covid_pos' target=\"_blank\">https://wandb.ai/thoomas/SF_082923_Covid_pos</a>"
      ],
      "text/plain": [
       "<IPython.core.display.HTML object>"
      ]
     },
     "metadata": {},
     "output_type": "display_data"
    },
    {
     "data": {
      "text/html": [
       " View run at <a href='https://wandb.ai/thoomas/SF_082923_Covid_pos/runs/5e1w0gtx' target=\"_blank\">https://wandb.ai/thoomas/SF_082923_Covid_pos/runs/5e1w0gtx</a>"
      ],
      "text/plain": [
       "<IPython.core.display.HTML object>"
      ]
     },
     "metadata": {},
     "output_type": "display_data"
    },
    {
     "name": "stderr",
     "output_type": "stream",
     "text": [
      "Global seed set to 42\n",
      "C:\\Users\\thu71\\Anaconda3\\envs\\snowflake\\lib\\site-packages\\pytorch_lightning\\loggers\\wandb.py:395: UserWarning: There is a wandb run already in progress and newly created instances of `WandbLogger` will reuse this run. If this is not desired, call `wandb.finish()` before instantiating `WandbLogger`.\n",
      "  rank_zero_warn(\n",
      "GPU available: True (cuda), used: True\n",
      "TPU available: False, using: 0 TPU cores\n",
      "IPU available: False, using: 0 IPUs\n",
      "HPU available: False, using: 0 HPUs\n",
      "Global seed set to 42\n",
      "LOCAL_RANK: 0 - CUDA_VISIBLE_DEVICES: [0,1]\n",
      "\n",
      "   | Name        | Type             | Params\n",
      "--------------------------------------------------\n",
      "0  | model       | GIN              | 1.0 K \n",
      "1  | fnn_layer   | Linear           | 272   \n",
      "2  | selu        | SELU             | 0     \n",
      "3  | head        | Linear           | 34    \n",
      "4  | loss_module | CrossEntropyLoss | 0     \n",
      "5  | train_acc   | BinaryAccuracy   | 0     \n",
      "6  | train_auroc | BinaryAUROC      | 0     \n",
      "7  | train_f1    | BinaryF1Score    | 0     \n",
      "8  | valid_acc   | BinaryAccuracy   | 0     \n",
      "9  | valid_auroc | BinaryAUROC      | 0     \n",
      "10 | valid_f1    | BinaryF1Score    | 0     \n",
      "--------------------------------------------------\n",
      "1.3 K     Trainable params\n",
      "0         Non-trainable params\n",
      "1.3 K     Total params\n",
      "0.005     Total estimated model params size (MB)\n",
      "C:\\Users\\thu71\\AppData\\Roaming\\Python\\Python39\\site-packages\\lightning\\pytorch\\trainer\\connectors\\data_connector.py:478: PossibleUserWarning: Your `val_dataloader`'s sampler has shuffling enabled, it is strongly recommended that you turn shuffling off for val/test dataloaders.\n",
      "  rank_zero_warn(\n",
      "C:\\Users\\thu71\\AppData\\Roaming\\Python\\Python39\\site-packages\\lightning\\pytorch\\trainer\\connectors\\data_connector.py:430: PossibleUserWarning: The dataloader, val_dataloader, does not have many workers which may be a bottleneck. Consider increasing the value of the `num_workers` argument` (try 48 which is the number of cpus on this machine) in the `DataLoader` init to improve performance.\n",
      "  rank_zero_warn(\n",
      "C:\\Users\\thu71\\AppData\\Roaming\\Python\\Python39\\site-packages\\lightning\\pytorch\\trainer\\connectors\\data_connector.py:430: PossibleUserWarning: The dataloader, train_dataloader, does not have many workers which may be a bottleneck. Consider increasing the value of the `num_workers` argument` (try 48 which is the number of cpus on this machine) in the `DataLoader` init to improve performance.\n",
      "  rank_zero_warn(\n",
      "C:\\Users\\thu71\\AppData\\Roaming\\Python\\Python39\\site-packages\\lightning\\pytorch\\loops\\fit_loop.py:280: PossibleUserWarning: The number of training batches (3) is smaller than the logging interval Trainer(log_every_n_steps=10). Set a lower value for log_every_n_steps if you want to see logs for the training epoch.\n",
      "  rank_zero_warn(\n",
      "C:\\Users\\thu71\\Anaconda3\\envs\\snowflake\\lib\\site-packages\\torchmetrics\\utilities\\prints.py:36: UserWarning: No negative samples in targets, false positive value should be meaningless. Returning zero tensor in false positive score\n",
      "  warnings.warn(*args, **kwargs)\n",
      "C:\\Users\\thu71\\Anaconda3\\envs\\snowflake\\lib\\site-packages\\torchmetrics\\utilities\\prints.py:36: UserWarning: No negative samples in targets, false positive value should be meaningless. Returning zero tensor in false positive score\n",
      "  warnings.warn(*args, **kwargs)\n",
      "C:\\Users\\thu71\\Anaconda3\\envs\\snowflake\\lib\\site-packages\\torchmetrics\\utilities\\prints.py:36: UserWarning: No negative samples in targets, false positive value should be meaningless. Returning zero tensor in false positive score\n",
      "  warnings.warn(*args, **kwargs)\n",
      "C:\\Users\\thu71\\Anaconda3\\envs\\snowflake\\lib\\site-packages\\torchmetrics\\utilities\\prints.py:36: UserWarning: No negative samples in targets, false positive value should be meaningless. Returning zero tensor in false positive score\n",
      "  warnings.warn(*args, **kwargs)\n",
      "C:\\Users\\thu71\\Anaconda3\\envs\\snowflake\\lib\\site-packages\\torchmetrics\\utilities\\prints.py:36: UserWarning: No negative samples in targets, false positive value should be meaningless. Returning zero tensor in false positive score\n",
      "  warnings.warn(*args, **kwargs)\n",
      "C:\\Users\\thu71\\Anaconda3\\envs\\snowflake\\lib\\site-packages\\torchmetrics\\utilities\\prints.py:36: UserWarning: No negative samples in targets, false positive value should be meaningless. Returning zero tensor in false positive score\n",
      "  warnings.warn(*args, **kwargs)\n",
      "C:\\Users\\thu71\\Anaconda3\\envs\\snowflake\\lib\\site-packages\\torchmetrics\\utilities\\prints.py:36: UserWarning: No negative samples in targets, false positive value should be meaningless. Returning zero tensor in false positive score\n",
      "  warnings.warn(*args, **kwargs)\n",
      "C:\\Users\\thu71\\Anaconda3\\envs\\snowflake\\lib\\site-packages\\torchmetrics\\utilities\\prints.py:36: UserWarning: No negative samples in targets, false positive value should be meaningless. Returning zero tensor in false positive score\n",
      "  warnings.warn(*args, **kwargs)\n",
      "`Trainer.fit` stopped: `max_epochs=100` reached.\n"
     ]
    },
    {
     "data": {
      "text/html": [
       "Waiting for W&B process to finish... <strong style=\"color:green\">(success).</strong>"
      ],
      "text/plain": [
       "<IPython.core.display.HTML object>"
      ]
     },
     "metadata": {},
     "output_type": "display_data"
    },
    {
     "data": {
      "application/vnd.jupyter.widget-view+json": {
       "model_id": "d6539abac3344a13aa3c4f4334de0bfd",
       "version_major": 2,
       "version_minor": 0
      },
      "text/plain": [
       "VBox(children=(Label(value='0.001 MB of 0.001 MB uploaded (0.000 MB deduped)\\r'), FloatProgress(value=1.0, max…"
      ]
     },
     "metadata": {},
     "output_type": "display_data"
    },
    {
     "data": {
      "text/html": [
       "<style>\n",
       "    table.wandb td:nth-child(1) { padding: 0 10px; text-align: left ; width: auto;} td:nth-child(2) {text-align: left ; width: 100%}\n",
       "    .wandb-row { display: flex; flex-direction: row; flex-wrap: wrap; justify-content: flex-start; width: 100% }\n",
       "    .wandb-col { display: flex; flex-direction: column; flex-basis: 100%; flex: 1; padding: 10px; }\n",
       "    </style>\n",
       "<div class=\"wandb-row\"><div class=\"wandb-col\"><h3>Run history:</h3><br/><table class=\"wandb\"><tr><td>epoch</td><td>▁▁▁▁▂▂▂▂▂▃▃▃▃▃▃▄▄▄▄▄▅▅▅▅▅▆▆▆▆▆▆▇▇▇▇▇████</td></tr><tr><td>lr-Adam</td><td>▁▁▁▁▁▁▁▁▁▁▁▁▁▁▁▁▁▁▁▁▁▁▁▁▁▁▁▁▁▁▁▁▁▁▁▁▁▁▁▁</td></tr><tr><td>train_acc</td><td>▁▃▅▆▅▅▆▆▆▇▇▇▇▇▆▇▇▇▇▇▇██▇████▇███████████</td></tr><tr><td>train_auc</td><td>▁▅▆▇▇▇▇▇▇▇▇▇▇▇▇█████▇███████████████████</td></tr><tr><td>train_f1</td><td>▁▃▄▅▅▅▆▆▅▆▇▇▇▆▆▇▇▇▇▇▇▇█▇▇███▇██▇████████</td></tr><tr><td>train_loss_epoch</td><td>█▆▅▄▄▄▃▃▃▃▃▂▃▂▂▂▂▂▂▂▂▂▁▂▂▁▁▁▂▁▁▂▁▁▂▁▁▁▁▁</td></tr><tr><td>train_loss_step</td><td>█▅▅▅▅▄▄▄▃▃▃▃▂▃▃▂▂▂▃▂▃▂▁▂▂▁▃▂▁▂</td></tr><tr><td>trainer/global_step</td><td>▁▁▁▂▁▂▂▂▃▃▃▃▃▃▄▄▄▄▅▃▄▄▅▅▆▄▄▄▆▇▇▅▅▅███▆▆▆</td></tr><tr><td>val_acc</td><td>▁▃▃▅▅▅▇▇▇▇▇▇█▇▇▇▇▇▇▆▆███▆▇▇█████▇█▇██▇▇█</td></tr><tr><td>val_auc</td><td>▁▂▅▆▆▆▆▇▆▆▆▇▇▆▇▇▇█▇▆▆█▇█▆▇▆██▇▇▇▆█▇▇█▆▇█</td></tr><tr><td>val_f1</td><td>▁▂▃▄▅▃▆▇▆▆▇▇█▆▇▇▇▇▇▄▆███▆▆▆▇█▇▇▇▇█▇▇█▇▇▇</td></tr><tr><td>val_loss_epoch</td><td>▇▇▄▄▂▆▄▄▂▃▄▁▂▂▄▆▂▃▄▅█▃▁▅▃▄▂▁▁▁▁▄▄▂▄▄▃▄▂▃</td></tr><tr><td>val_loss_step</td><td>▅▆▃▂▁▅▄▃▂▃▃▁▂▂▃▆▂▃▃▄█▃▁▆▃▄▁▁▁▁▁▄▃▂▄▄▃▄▂▃</td></tr></table><br/></div><div class=\"wandb-col\"><h3>Run summary:</h3><br/><table class=\"wandb\"><tr><td>epoch</td><td>99</td></tr><tr><td>lr-Adam</td><td>0.005</td></tr><tr><td>train_acc</td><td>0.95146</td></tr><tr><td>train_auc</td><td>0.96231</td></tr><tr><td>train_f1</td><td>0.95822</td></tr><tr><td>train_loss_epoch</td><td>0.37012</td></tr><tr><td>train_loss_step</td><td>0.37873</td></tr><tr><td>trainer/global_step</td><td>299</td></tr><tr><td>val_acc</td><td>0.87218</td></tr><tr><td>val_auc</td><td>0.92498</td></tr><tr><td>val_f1</td><td>0.88889</td></tr><tr><td>val_loss_epoch</td><td>0.47536</td></tr><tr><td>val_loss_step</td><td>0.51428</td></tr></table><br/></div></div>"
      ],
      "text/plain": [
       "<IPython.core.display.HTML object>"
      ]
     },
     "metadata": {},
     "output_type": "display_data"
    },
    {
     "data": {
      "text/html": [
       " View run <strong style=\"color:#cdcd00\">GINConv_2_16_2</strong> at: <a href='https://wandb.ai/thoomas/SF_082923_Covid_pos/runs/5e1w0gtx' target=\"_blank\">https://wandb.ai/thoomas/SF_082923_Covid_pos/runs/5e1w0gtx</a><br/>Synced 5 W&B file(s), 0 media file(s), 0 artifact file(s) and 0 other file(s)"
      ],
      "text/plain": [
       "<IPython.core.display.HTML object>"
      ]
     },
     "metadata": {},
     "output_type": "display_data"
    },
    {
     "data": {
      "text/html": [
       "Find logs at: <code>.\\wandb\\run-20230905_181939-5e1w0gtx\\logs</code>"
      ],
      "text/plain": [
       "<IPython.core.display.HTML object>"
      ]
     },
     "metadata": {},
     "output_type": "display_data"
    },
    {
     "name": "stdout",
     "output_type": "stream",
     "text": [
      "Y:\\coskun-lab\\Thomas\\11_snowflakes\\data\\saved_models\\Graph_GNNs_082923_Covid_pos\\GAT_2_16_2\\max\\GraphLevelGAT\\GraphLevelGAT.ckpt\n",
      "Y:\\coskun-lab\\Thomas\\11_snowflakes\\data\\saved_models\\Graph_GNNs_082923_Covid_pos\\GINConv_2_16_2\\max\\GraphLevelGINConv\\GraphLevelGINConv.ckpt\n",
      "Y:\\coskun-lab\\Thomas\\11_snowflakes\\data\\saved_models\\Graph_GNNs_082923_Covid_pos\\GAT_2_16_2\\attention\\GraphLevelGAT\\GraphLevelGAT.ckpt\n",
      "Y:\\coskun-lab\\Thomas\\11_snowflakes\\data\\saved_models\\Graph_GNNs_082923_Covid_pos\\GINConv_2_16_2\\attention\\GraphLevelGINConv\\GraphLevelGINConv.ckpt\n",
      "Y:\\coskun-lab\\Thomas\\11_snowflakes\\data\\saved_models\\Graph_GNNs_082923_Covid_pos\\GAT_2_16_2\\attention2\\GraphLevelGAT\\GraphLevelGAT.ckpt\n",
      "Y:\\coskun-lab\\Thomas\\11_snowflakes\\data\\saved_models\\Graph_GNNs_082923_Covid_pos\\GINConv_2_16_2\\attention2\\GraphLevelGINConv\\GraphLevelGINConv.ckpt\n",
      "Y:\\coskun-lab\\Thomas\\11_snowflakes\\data\\saved_models\\Graph_GNNs_082923_Covid_pos\\GAT_2_16_3\\mean\\GraphLevelGAT\\GraphLevelGAT.ckpt\n"
     ]
    },
    {
     "data": {
      "application/vnd.jupyter.widget-view+json": {
       "model_id": "7735993ddd2c4022a3d0f896a9906b37",
       "version_major": 2,
       "version_minor": 0
      },
      "text/plain": [
       "VBox(children=(Label(value='Waiting for wandb.init()...\\r'), FloatProgress(value=0.01693333333435779, max=1.0)…"
      ]
     },
     "metadata": {},
     "output_type": "display_data"
    },
    {
     "data": {
      "text/html": [
       "wandb version 0.15.9 is available!  To upgrade, please run:\n",
       " $ pip install wandb --upgrade"
      ],
      "text/plain": [
       "<IPython.core.display.HTML object>"
      ]
     },
     "metadata": {},
     "output_type": "display_data"
    },
    {
     "data": {
      "text/html": [
       "Tracking run with wandb version 0.14.0"
      ],
      "text/plain": [
       "<IPython.core.display.HTML object>"
      ]
     },
     "metadata": {},
     "output_type": "display_data"
    },
    {
     "data": {
      "text/html": [
       "Run data is saved locally in <code>Y:\\coskun-lab\\Thomas\\11_snowflakes\\notebooks\\wandb\\run-20230905_184953-6m2ilnc2</code>"
      ],
      "text/plain": [
       "<IPython.core.display.HTML object>"
      ]
     },
     "metadata": {},
     "output_type": "display_data"
    },
    {
     "data": {
      "text/html": [
       "Syncing run <strong><a href='https://wandb.ai/thoomas/SF_082923_Covid_pos/runs/6m2ilnc2' target=\"_blank\">GINConv_2_16_3</a></strong> to <a href='https://wandb.ai/thoomas/SF_082923_Covid_pos' target=\"_blank\">Weights & Biases</a> (<a href='https://wandb.me/run' target=\"_blank\">docs</a>)<br/>"
      ],
      "text/plain": [
       "<IPython.core.display.HTML object>"
      ]
     },
     "metadata": {},
     "output_type": "display_data"
    },
    {
     "data": {
      "text/html": [
       " View project at <a href='https://wandb.ai/thoomas/SF_082923_Covid_pos' target=\"_blank\">https://wandb.ai/thoomas/SF_082923_Covid_pos</a>"
      ],
      "text/plain": [
       "<IPython.core.display.HTML object>"
      ]
     },
     "metadata": {},
     "output_type": "display_data"
    },
    {
     "data": {
      "text/html": [
       " View run at <a href='https://wandb.ai/thoomas/SF_082923_Covid_pos/runs/6m2ilnc2' target=\"_blank\">https://wandb.ai/thoomas/SF_082923_Covid_pos/runs/6m2ilnc2</a>"
      ],
      "text/plain": [
       "<IPython.core.display.HTML object>"
      ]
     },
     "metadata": {},
     "output_type": "display_data"
    },
    {
     "name": "stderr",
     "output_type": "stream",
     "text": [
      "Global seed set to 42\n",
      "C:\\Users\\thu71\\Anaconda3\\envs\\snowflake\\lib\\site-packages\\pytorch_lightning\\loggers\\wandb.py:395: UserWarning: There is a wandb run already in progress and newly created instances of `WandbLogger` will reuse this run. If this is not desired, call `wandb.finish()` before instantiating `WandbLogger`.\n",
      "  rank_zero_warn(\n",
      "GPU available: True (cuda), used: True\n",
      "TPU available: False, using: 0 TPU cores\n",
      "IPU available: False, using: 0 IPUs\n",
      "HPU available: False, using: 0 HPUs\n",
      "Global seed set to 42\n",
      "LOCAL_RANK: 0 - CUDA_VISIBLE_DEVICES: [0,1]\n",
      "\n",
      "   | Name        | Type             | Params\n",
      "--------------------------------------------------\n",
      "0  | model       | GIN              | 1.0 K \n",
      "1  | fnn_layer   | Linear           | 272   \n",
      "2  | selu        | SELU             | 0     \n",
      "3  | head        | Linear           | 34    \n",
      "4  | loss_module | CrossEntropyLoss | 0     \n",
      "5  | train_acc   | BinaryAccuracy   | 0     \n",
      "6  | train_auroc | BinaryAUROC      | 0     \n",
      "7  | train_f1    | BinaryF1Score    | 0     \n",
      "8  | valid_acc   | BinaryAccuracy   | 0     \n",
      "9  | valid_auroc | BinaryAUROC      | 0     \n",
      "10 | valid_f1    | BinaryF1Score    | 0     \n",
      "--------------------------------------------------\n",
      "1.3 K     Trainable params\n",
      "0         Non-trainable params\n",
      "1.3 K     Total params\n",
      "0.005     Total estimated model params size (MB)\n",
      "C:\\Users\\thu71\\AppData\\Roaming\\Python\\Python39\\site-packages\\lightning\\pytorch\\trainer\\connectors\\data_connector.py:478: PossibleUserWarning: Your `val_dataloader`'s sampler has shuffling enabled, it is strongly recommended that you turn shuffling off for val/test dataloaders.\n",
      "  rank_zero_warn(\n",
      "C:\\Users\\thu71\\AppData\\Roaming\\Python\\Python39\\site-packages\\lightning\\pytorch\\trainer\\connectors\\data_connector.py:430: PossibleUserWarning: The dataloader, val_dataloader, does not have many workers which may be a bottleneck. Consider increasing the value of the `num_workers` argument` (try 48 which is the number of cpus on this machine) in the `DataLoader` init to improve performance.\n",
      "  rank_zero_warn(\n",
      "C:\\Users\\thu71\\AppData\\Roaming\\Python\\Python39\\site-packages\\lightning\\pytorch\\trainer\\connectors\\data_connector.py:430: PossibleUserWarning: The dataloader, train_dataloader, does not have many workers which may be a bottleneck. Consider increasing the value of the `num_workers` argument` (try 48 which is the number of cpus on this machine) in the `DataLoader` init to improve performance.\n",
      "  rank_zero_warn(\n",
      "C:\\Users\\thu71\\AppData\\Roaming\\Python\\Python39\\site-packages\\lightning\\pytorch\\loops\\fit_loop.py:280: PossibleUserWarning: The number of training batches (3) is smaller than the logging interval Trainer(log_every_n_steps=10). Set a lower value for log_every_n_steps if you want to see logs for the training epoch.\n",
      "  rank_zero_warn(\n",
      "C:\\Users\\thu71\\Anaconda3\\envs\\snowflake\\lib\\site-packages\\torchmetrics\\utilities\\prints.py:36: UserWarning: No negative samples in targets, false positive value should be meaningless. Returning zero tensor in false positive score\n",
      "  warnings.warn(*args, **kwargs)\n",
      "C:\\Users\\thu71\\Anaconda3\\envs\\snowflake\\lib\\site-packages\\torchmetrics\\utilities\\prints.py:36: UserWarning: No negative samples in targets, false positive value should be meaningless. Returning zero tensor in false positive score\n",
      "  warnings.warn(*args, **kwargs)\n",
      "C:\\Users\\thu71\\Anaconda3\\envs\\snowflake\\lib\\site-packages\\torchmetrics\\utilities\\prints.py:36: UserWarning: No positive samples in targets, true positive value should be meaningless. Returning zero tensor in true positive score\n",
      "  warnings.warn(*args, **kwargs)\n",
      "C:\\Users\\thu71\\Anaconda3\\envs\\snowflake\\lib\\site-packages\\torchmetrics\\utilities\\prints.py:36: UserWarning: No positive samples in targets, true positive value should be meaningless. Returning zero tensor in true positive score\n",
      "  warnings.warn(*args, **kwargs)\n",
      "C:\\Users\\thu71\\Anaconda3\\envs\\snowflake\\lib\\site-packages\\torchmetrics\\utilities\\prints.py:36: UserWarning: No negative samples in targets, false positive value should be meaningless. Returning zero tensor in false positive score\n",
      "  warnings.warn(*args, **kwargs)\n",
      "C:\\Users\\thu71\\Anaconda3\\envs\\snowflake\\lib\\site-packages\\torchmetrics\\utilities\\prints.py:36: UserWarning: No positive samples in targets, true positive value should be meaningless. Returning zero tensor in true positive score\n",
      "  warnings.warn(*args, **kwargs)\n",
      "C:\\Users\\thu71\\Anaconda3\\envs\\snowflake\\lib\\site-packages\\torchmetrics\\utilities\\prints.py:36: UserWarning: No negative samples in targets, false positive value should be meaningless. Returning zero tensor in false positive score\n",
      "  warnings.warn(*args, **kwargs)\n",
      "C:\\Users\\thu71\\Anaconda3\\envs\\snowflake\\lib\\site-packages\\torchmetrics\\utilities\\prints.py:36: UserWarning: No negative samples in targets, false positive value should be meaningless. Returning zero tensor in false positive score\n",
      "  warnings.warn(*args, **kwargs)\n",
      "`Trainer.fit` stopped: `max_epochs=100` reached.\n"
     ]
    },
    {
     "data": {
      "text/html": [
       "Waiting for W&B process to finish... <strong style=\"color:green\">(success).</strong>"
      ],
      "text/plain": [
       "<IPython.core.display.HTML object>"
      ]
     },
     "metadata": {},
     "output_type": "display_data"
    },
    {
     "data": {
      "text/html": [
       "<style>\n",
       "    table.wandb td:nth-child(1) { padding: 0 10px; text-align: left ; width: auto;} td:nth-child(2) {text-align: left ; width: 100%}\n",
       "    .wandb-row { display: flex; flex-direction: row; flex-wrap: wrap; justify-content: flex-start; width: 100% }\n",
       "    .wandb-col { display: flex; flex-direction: column; flex-basis: 100%; flex: 1; padding: 10px; }\n",
       "    </style>\n",
       "<div class=\"wandb-row\"><div class=\"wandb-col\"><h3>Run history:</h3><br/><table class=\"wandb\"><tr><td>epoch</td><td>▁▁▁▁▂▂▂▂▂▃▃▃▃▃▃▄▄▄▄▄▅▅▅▅▅▆▆▆▆▆▆▇▇▇▇▇████</td></tr><tr><td>lr-Adam</td><td>▁▁▁▁▁▁▁▁▁▁▁▁▁▁▁▁▁▁▁▁▁▁▁▁▁▁▁▁▁▁▁▁▁▁▁▁▁▁▁▁</td></tr><tr><td>train_acc</td><td>▁▃▅▅▅▆▆▆▆▆▇▇▇▇▆▇▇▇▇▇▇██▇▇▇▇▇▇▇█▇████████</td></tr><tr><td>train_auc</td><td>▁▄▆▆▇▇▇▇▇▇▇▇▇▇▇▇▇███████████████████████</td></tr><tr><td>train_f1</td><td>▁▂▄▄▅▅▅▅▆▆▆▆▆▆▆▆▆▇▇▇▇█▇▇▇▇▇▇▇▇▇▇█▇███▇▇█</td></tr><tr><td>train_loss_epoch</td><td>█▆▄▄▄▄▃▃▃▃▂▂▃▃▃▃▂▂▂▂▂▂▂▂▁▂▂▂▁▂▂▁▁▁▁▁▁▁▂▁</td></tr><tr><td>train_loss_step</td><td>█▇▄▅▆▄▄▅▅▄▅▄▃▂▂▂▃▂▂▂▃▃▃▃▂▂▃▁▂▁</td></tr><tr><td>trainer/global_step</td><td>▁▁▁▂▁▂▂▂▃▃▃▃▃▃▄▄▄▄▅▃▄▄▅▅▆▄▄▄▆▇▇▅▅▅███▆▆▆</td></tr><tr><td>val_acc</td><td>▁▂▂▃▄▅▅▅▆▆▆▆▆▇▆▇▇▇▇▇▇▇▇▇█▇▇▆███▇▇██▇▇▇█▇</td></tr><tr><td>val_auc</td><td>▁▂▄▅▆▆▆▆▇▇▇▇▇▇▇▇▇█▇█▇█▇▇█▇█▇██▇█████████</td></tr><tr><td>val_f1</td><td>▂▁▃▃▄▄▄▃▆▆▆▅▅▇▆▇▆▇▇▇▇▇▇▇█▇▆▅█▇█▇▇██▇▇▇█▆</td></tr><tr><td>val_loss_epoch</td><td>▆▆▅▄▅▄▆▂▂▄▅▅█▄▂▁▁▁▇▅▁▄▁▁▁▁▁▃▁▃▁▂▃▁▃▄▂▄▆▅</td></tr><tr><td>val_loss_step</td><td>▄▄▃▃▄▃▅▁▁▄▄▅█▃▂▁▁▁█▅▁▄▁▁▁▁▁▃▁▃▁▂▃▁▃▄▂▄▇▅</td></tr></table><br/></div><div class=\"wandb-col\"><h3>Run summary:</h3><br/><table class=\"wandb\"><tr><td>epoch</td><td>99</td></tr><tr><td>lr-Adam</td><td>0.005</td></tr><tr><td>train_acc</td><td>0.96764</td></tr><tr><td>train_auc</td><td>0.97357</td></tr><tr><td>train_f1</td><td>0.97191</td></tr><tr><td>train_loss_epoch</td><td>0.3451</td></tr><tr><td>train_loss_step</td><td>0.33473</td></tr><tr><td>trainer/global_step</td><td>299</td></tr><tr><td>val_acc</td><td>0.81955</td></tr><tr><td>val_auc</td><td>0.88804</td></tr><tr><td>val_f1</td><td>0.83562</td></tr><tr><td>val_loss_epoch</td><td>0.59238</td></tr><tr><td>val_loss_step</td><td>0.71501</td></tr></table><br/></div></div>"
      ],
      "text/plain": [
       "<IPython.core.display.HTML object>"
      ]
     },
     "metadata": {},
     "output_type": "display_data"
    },
    {
     "data": {
      "text/html": [
       " View run <strong style=\"color:#cdcd00\">GINConv_2_16_3</strong> at: <a href='https://wandb.ai/thoomas/SF_082923_Covid_pos/runs/6m2ilnc2' target=\"_blank\">https://wandb.ai/thoomas/SF_082923_Covid_pos/runs/6m2ilnc2</a><br/>Synced 5 W&B file(s), 0 media file(s), 0 artifact file(s) and 0 other file(s)"
      ],
      "text/plain": [
       "<IPython.core.display.HTML object>"
      ]
     },
     "metadata": {},
     "output_type": "display_data"
    },
    {
     "data": {
      "text/html": [
       "Find logs at: <code>.\\wandb\\run-20230905_184953-6m2ilnc2\\logs</code>"
      ],
      "text/plain": [
       "<IPython.core.display.HTML object>"
      ]
     },
     "metadata": {},
     "output_type": "display_data"
    },
    {
     "name": "stdout",
     "output_type": "stream",
     "text": [
      "Y:\\coskun-lab\\Thomas\\11_snowflakes\\data\\saved_models\\Graph_GNNs_082923_Covid_pos\\GAT_2_16_3\\max\\GraphLevelGAT\\GraphLevelGAT.ckpt\n",
      "Y:\\coskun-lab\\Thomas\\11_snowflakes\\data\\saved_models\\Graph_GNNs_082923_Covid_pos\\GINConv_2_16_3\\max\\GraphLevelGINConv\\GraphLevelGINConv.ckpt\n",
      "Y:\\coskun-lab\\Thomas\\11_snowflakes\\data\\saved_models\\Graph_GNNs_082923_Covid_pos\\GAT_2_16_3\\attention\\GraphLevelGAT\\GraphLevelGAT.ckpt\n",
      "Y:\\coskun-lab\\Thomas\\11_snowflakes\\data\\saved_models\\Graph_GNNs_082923_Covid_pos\\GINConv_2_16_3\\attention\\GraphLevelGINConv\\GraphLevelGINConv.ckpt\n",
      "Y:\\coskun-lab\\Thomas\\11_snowflakes\\data\\saved_models\\Graph_GNNs_082923_Covid_pos\\GAT_2_16_3\\attention2\\GraphLevelGAT\\GraphLevelGAT.ckpt\n",
      "Y:\\coskun-lab\\Thomas\\11_snowflakes\\data\\saved_models\\Graph_GNNs_082923_Covid_pos\\GINConv_2_16_3\\attention2\\GraphLevelGINConv\\GraphLevelGINConv.ckpt\n",
      "Y:\\coskun-lab\\Thomas\\11_snowflakes\\data\\saved_models\\Graph_GNNs_082923_Covid_pos\\GAT_2_16_4\\mean\\GraphLevelGAT\\GraphLevelGAT.ckpt\n"
     ]
    },
    {
     "data": {
      "application/vnd.jupyter.widget-view+json": {
       "model_id": "2ae04236a20840b386f15258f8aef889",
       "version_major": 2,
       "version_minor": 0
      },
      "text/plain": [
       "VBox(children=(Label(value='Waiting for wandb.init()...\\r'), FloatProgress(value=0.01693333333435779, max=1.0)…"
      ]
     },
     "metadata": {},
     "output_type": "display_data"
    },
    {
     "data": {
      "text/html": [
       "wandb version 0.15.9 is available!  To upgrade, please run:\n",
       " $ pip install wandb --upgrade"
      ],
      "text/plain": [
       "<IPython.core.display.HTML object>"
      ]
     },
     "metadata": {},
     "output_type": "display_data"
    },
    {
     "data": {
      "text/html": [
       "Tracking run with wandb version 0.14.0"
      ],
      "text/plain": [
       "<IPython.core.display.HTML object>"
      ]
     },
     "metadata": {},
     "output_type": "display_data"
    },
    {
     "data": {
      "text/html": [
       "Run data is saved locally in <code>Y:\\coskun-lab\\Thomas\\11_snowflakes\\notebooks\\wandb\\run-20230905_191804-aj7bzrew</code>"
      ],
      "text/plain": [
       "<IPython.core.display.HTML object>"
      ]
     },
     "metadata": {},
     "output_type": "display_data"
    },
    {
     "data": {
      "text/html": [
       "Syncing run <strong><a href='https://wandb.ai/thoomas/SF_082923_Covid_pos/runs/aj7bzrew' target=\"_blank\">GINConv_2_16_4</a></strong> to <a href='https://wandb.ai/thoomas/SF_082923_Covid_pos' target=\"_blank\">Weights & Biases</a> (<a href='https://wandb.me/run' target=\"_blank\">docs</a>)<br/>"
      ],
      "text/plain": [
       "<IPython.core.display.HTML object>"
      ]
     },
     "metadata": {},
     "output_type": "display_data"
    },
    {
     "data": {
      "text/html": [
       " View project at <a href='https://wandb.ai/thoomas/SF_082923_Covid_pos' target=\"_blank\">https://wandb.ai/thoomas/SF_082923_Covid_pos</a>"
      ],
      "text/plain": [
       "<IPython.core.display.HTML object>"
      ]
     },
     "metadata": {},
     "output_type": "display_data"
    },
    {
     "data": {
      "text/html": [
       " View run at <a href='https://wandb.ai/thoomas/SF_082923_Covid_pos/runs/aj7bzrew' target=\"_blank\">https://wandb.ai/thoomas/SF_082923_Covid_pos/runs/aj7bzrew</a>"
      ],
      "text/plain": [
       "<IPython.core.display.HTML object>"
      ]
     },
     "metadata": {},
     "output_type": "display_data"
    },
    {
     "name": "stderr",
     "output_type": "stream",
     "text": [
      "Global seed set to 42\n",
      "C:\\Users\\thu71\\Anaconda3\\envs\\snowflake\\lib\\site-packages\\pytorch_lightning\\loggers\\wandb.py:395: UserWarning: There is a wandb run already in progress and newly created instances of `WandbLogger` will reuse this run. If this is not desired, call `wandb.finish()` before instantiating `WandbLogger`.\n",
      "  rank_zero_warn(\n",
      "GPU available: True (cuda), used: True\n",
      "TPU available: False, using: 0 TPU cores\n",
      "IPU available: False, using: 0 IPUs\n",
      "HPU available: False, using: 0 HPUs\n",
      "Global seed set to 42\n",
      "LOCAL_RANK: 0 - CUDA_VISIBLE_DEVICES: [0,1]\n",
      "\n",
      "   | Name        | Type             | Params\n",
      "--------------------------------------------------\n",
      "0  | model       | GIN              | 1.0 K \n",
      "1  | fnn_layer   | Linear           | 272   \n",
      "2  | selu        | SELU             | 0     \n",
      "3  | head        | Linear           | 34    \n",
      "4  | loss_module | CrossEntropyLoss | 0     \n",
      "5  | train_acc   | BinaryAccuracy   | 0     \n",
      "6  | train_auroc | BinaryAUROC      | 0     \n",
      "7  | train_f1    | BinaryF1Score    | 0     \n",
      "8  | valid_acc   | BinaryAccuracy   | 0     \n",
      "9  | valid_auroc | BinaryAUROC      | 0     \n",
      "10 | valid_f1    | BinaryF1Score    | 0     \n",
      "--------------------------------------------------\n",
      "1.3 K     Trainable params\n",
      "0         Non-trainable params\n",
      "1.3 K     Total params\n",
      "0.005     Total estimated model params size (MB)\n",
      "C:\\Users\\thu71\\AppData\\Roaming\\Python\\Python39\\site-packages\\lightning\\pytorch\\trainer\\connectors\\data_connector.py:478: PossibleUserWarning: Your `val_dataloader`'s sampler has shuffling enabled, it is strongly recommended that you turn shuffling off for val/test dataloaders.\n",
      "  rank_zero_warn(\n",
      "C:\\Users\\thu71\\AppData\\Roaming\\Python\\Python39\\site-packages\\lightning\\pytorch\\trainer\\connectors\\data_connector.py:430: PossibleUserWarning: The dataloader, val_dataloader, does not have many workers which may be a bottleneck. Consider increasing the value of the `num_workers` argument` (try 48 which is the number of cpus on this machine) in the `DataLoader` init to improve performance.\n",
      "  rank_zero_warn(\n",
      "C:\\Users\\thu71\\AppData\\Roaming\\Python\\Python39\\site-packages\\lightning\\pytorch\\trainer\\connectors\\data_connector.py:430: PossibleUserWarning: The dataloader, train_dataloader, does not have many workers which may be a bottleneck. Consider increasing the value of the `num_workers` argument` (try 48 which is the number of cpus on this machine) in the `DataLoader` init to improve performance.\n",
      "  rank_zero_warn(\n",
      "C:\\Users\\thu71\\AppData\\Roaming\\Python\\Python39\\site-packages\\lightning\\pytorch\\loops\\fit_loop.py:280: PossibleUserWarning: The number of training batches (3) is smaller than the logging interval Trainer(log_every_n_steps=10). Set a lower value for log_every_n_steps if you want to see logs for the training epoch.\n",
      "  rank_zero_warn(\n",
      "C:\\Users\\thu71\\Anaconda3\\envs\\snowflake\\lib\\site-packages\\torchmetrics\\utilities\\prints.py:36: UserWarning: No negative samples in targets, false positive value should be meaningless. Returning zero tensor in false positive score\n",
      "  warnings.warn(*args, **kwargs)\n",
      "C:\\Users\\thu71\\Anaconda3\\envs\\snowflake\\lib\\site-packages\\torchmetrics\\utilities\\prints.py:36: UserWarning: No positive samples in targets, true positive value should be meaningless. Returning zero tensor in true positive score\n",
      "  warnings.warn(*args, **kwargs)\n",
      "C:\\Users\\thu71\\Anaconda3\\envs\\snowflake\\lib\\site-packages\\torchmetrics\\utilities\\prints.py:36: UserWarning: No negative samples in targets, false positive value should be meaningless. Returning zero tensor in false positive score\n",
      "  warnings.warn(*args, **kwargs)\n",
      "C:\\Users\\thu71\\Anaconda3\\envs\\snowflake\\lib\\site-packages\\torchmetrics\\utilities\\prints.py:36: UserWarning: No negative samples in targets, false positive value should be meaningless. Returning zero tensor in false positive score\n",
      "  warnings.warn(*args, **kwargs)\n",
      "`Trainer.fit` stopped: `max_epochs=100` reached.\n"
     ]
    },
    {
     "data": {
      "text/html": [
       "Waiting for W&B process to finish... <strong style=\"color:green\">(success).</strong>"
      ],
      "text/plain": [
       "<IPython.core.display.HTML object>"
      ]
     },
     "metadata": {},
     "output_type": "display_data"
    },
    {
     "data": {
      "application/vnd.jupyter.widget-view+json": {
       "model_id": "f2ff5f39dc5942009b97c404823277e6",
       "version_major": 2,
       "version_minor": 0
      },
      "text/plain": [
       "VBox(children=(Label(value='0.001 MB of 0.001 MB uploaded (0.000 MB deduped)\\r'), FloatProgress(value=1.0, max…"
      ]
     },
     "metadata": {},
     "output_type": "display_data"
    },
    {
     "data": {
      "text/html": [
       "<style>\n",
       "    table.wandb td:nth-child(1) { padding: 0 10px; text-align: left ; width: auto;} td:nth-child(2) {text-align: left ; width: 100%}\n",
       "    .wandb-row { display: flex; flex-direction: row; flex-wrap: wrap; justify-content: flex-start; width: 100% }\n",
       "    .wandb-col { display: flex; flex-direction: column; flex-basis: 100%; flex: 1; padding: 10px; }\n",
       "    </style>\n",
       "<div class=\"wandb-row\"><div class=\"wandb-col\"><h3>Run history:</h3><br/><table class=\"wandb\"><tr><td>epoch</td><td>▁▁▁▁▂▂▂▂▂▃▃▃▃▃▃▄▄▄▄▄▅▅▅▅▅▆▆▆▆▆▆▇▇▇▇▇████</td></tr><tr><td>lr-Adam</td><td>▁▁▁▁▁▁▁▁▁▁▁▁▁▁▁▁▁▁▁▁▁▁▁▁▁▁▁▁▁▁▁▁▁▁▁▁▁▁▁▁</td></tr><tr><td>train_acc</td><td>▁▃▅▅▆▆▆▆▇▇▆▆▇▇▇▇▇▇▇▇▇▇▇▇▇██▇██▇▇█▇█▇███▇</td></tr><tr><td>train_auc</td><td>▁▅▆▇▇▇▇▇▇▇▇▇▇▇▇█▇█▇█████████████████████</td></tr><tr><td>train_f1</td><td>▁▂▄▄▅▅▅▅▆▆▅▆▆▆▆▇▆▇▆▆▇▇▇▆▆▇█▇█▇▇▇▇▇▇▇█▇▇▇</td></tr><tr><td>train_loss_epoch</td><td>█▇▅▄▄▄▃▄▃▃▃▃▃▃▃▂▂▂▂▂▂▂▂▂▂▂▁▂▁▂▁▁▁▂▁▁▁▂▁▂</td></tr><tr><td>train_loss_step</td><td>█▆▄▄▅▅▃▄▅▄▃▃▃▂▁▂▁▁▁▂▃▂▂▂▃▂▁▂▂▂</td></tr><tr><td>trainer/global_step</td><td>▁▁▁▂▁▂▂▂▃▃▃▃▃▃▄▄▄▄▅▃▄▄▅▅▆▄▄▄▆▇▇▅▅▅███▆▆▆</td></tr><tr><td>val_acc</td><td>▁▄▃▄▅▆▆▅▅▆▆▆▆▆▅▆▆▅▇▆▅▇▇▇▇▇▇▇██▇▆▇██▇█▇▇▇</td></tr><tr><td>val_auc</td><td>▁▄▆▆▅▅▅▄▅▆▅▆▆▇▆▇▇▇▇▇▇█▇▇▇▇▇▇██▇▆▇▇█▇▇█▇█</td></tr><tr><td>val_f1</td><td>▁▄▃▄▅▆▅▄▃▄▅▅▅▆▄▅▆▅▆▆▅▇▇▆▇▇▇▆██▇▅▇██▆▇▇▇▇</td></tr><tr><td>val_loss_epoch</td><td>▇▇▅█▄▄▃▄▂▆▄▄▂▆▇▂▄▄▁▂▂▁▁▃▁▄▅▁▁▆▁█▁▁▄▂▂▁▁▂</td></tr><tr><td>val_loss_step</td><td>▅▆▄█▃▃▃▃▁▆▄▄▁▆▆▂▄▃▁▁▁▁▂▄▁▄▅▁▁▇▁█▁▁▅▂▂▁▁▂</td></tr></table><br/></div><div class=\"wandb-col\"><h3>Run summary:</h3><br/><table class=\"wandb\"><tr><td>epoch</td><td>99</td></tr><tr><td>lr-Adam</td><td>0.005</td></tr><tr><td>train_acc</td><td>0.9288</td></tr><tr><td>train_auc</td><td>0.96546</td></tr><tr><td>train_f1</td><td>0.93785</td></tr><tr><td>train_loss_epoch</td><td>0.38906</td></tr><tr><td>train_loss_step</td><td>0.39317</td></tr><tr><td>trainer/global_step</td><td>299</td></tr><tr><td>val_acc</td><td>0.87218</td></tr><tr><td>val_auc</td><td>0.93375</td></tr><tr><td>val_f1</td><td>0.88591</td></tr><tr><td>val_loss_epoch</td><td>0.39666</td></tr><tr><td>val_loss_step</td><td>0.35392</td></tr></table><br/></div></div>"
      ],
      "text/plain": [
       "<IPython.core.display.HTML object>"
      ]
     },
     "metadata": {},
     "output_type": "display_data"
    },
    {
     "data": {
      "text/html": [
       " View run <strong style=\"color:#cdcd00\">GINConv_2_16_4</strong> at: <a href='https://wandb.ai/thoomas/SF_082923_Covid_pos/runs/aj7bzrew' target=\"_blank\">https://wandb.ai/thoomas/SF_082923_Covid_pos/runs/aj7bzrew</a><br/>Synced 5 W&B file(s), 0 media file(s), 0 artifact file(s) and 0 other file(s)"
      ],
      "text/plain": [
       "<IPython.core.display.HTML object>"
      ]
     },
     "metadata": {},
     "output_type": "display_data"
    },
    {
     "data": {
      "text/html": [
       "Find logs at: <code>.\\wandb\\run-20230905_191804-aj7bzrew\\logs</code>"
      ],
      "text/plain": [
       "<IPython.core.display.HTML object>"
      ]
     },
     "metadata": {},
     "output_type": "display_data"
    },
    {
     "name": "stdout",
     "output_type": "stream",
     "text": [
      "Y:\\coskun-lab\\Thomas\\11_snowflakes\\data\\saved_models\\Graph_GNNs_082923_Covid_pos\\GAT_2_16_4\\max\\GraphLevelGAT\\GraphLevelGAT.ckpt\n",
      "Y:\\coskun-lab\\Thomas\\11_snowflakes\\data\\saved_models\\Graph_GNNs_082923_Covid_pos\\GINConv_2_16_4\\max\\GraphLevelGINConv\\GraphLevelGINConv.ckpt\n",
      "Y:\\coskun-lab\\Thomas\\11_snowflakes\\data\\saved_models\\Graph_GNNs_082923_Covid_pos\\GAT_2_16_4\\attention\\GraphLevelGAT\\GraphLevelGAT.ckpt\n",
      "Y:\\coskun-lab\\Thomas\\11_snowflakes\\data\\saved_models\\Graph_GNNs_082923_Covid_pos\\GINConv_2_16_4\\attention\\GraphLevelGINConv\\GraphLevelGINConv.ckpt\n",
      "Y:\\coskun-lab\\Thomas\\11_snowflakes\\data\\saved_models\\Graph_GNNs_082923_Covid_pos\\GAT_2_16_4\\attention2\\GraphLevelGAT\\GraphLevelGAT.ckpt\n",
      "Y:\\coskun-lab\\Thomas\\11_snowflakes\\data\\saved_models\\Graph_GNNs_082923_Covid_pos\\GINConv_2_16_4\\attention2\\GraphLevelGINConv\\GraphLevelGINConv.ckpt\n"
     ]
    }
   ],
   "source": [
    "# Print K fold model number of samples and number of positive cases\n",
    "\n",
    "k_folds = 5\n",
    "# kfold = KFold(n_splits=k_folds, shuffle=True, random_state=42)\n",
    "kfold = StratifiedShuffleSplit(n_splits=k_folds, test_size=0.3, random_state=0)\n",
    "\n",
    "for fold, (train_ids, valid_ids) in enumerate(kfold.split(dataset, ys)):\n",
    "    train_subset = dataset.index_select(train_ids.tolist())\n",
    "    val_subset = dataset.index_select(valid_ids.tolist())\n",
    "    \n",
    "    for pool in pools:\n",
    "        for model in models:\n",
    "            if model == 'GAT':\n",
    "                batch_size=64\n",
    "            else:\n",
    "                batch_size=128\n",
    "            # Path to the folder where the pretrained models are saved\n",
    "            CHECKPOINT_PATH = checkpoint_folder / f'{model}_{NUM_LAYERS}_{HIDDEN_CHANNELS}_{fold}' / pool\n",
    "            CHECKPOINT_PATH.mkdir(parents=True, exist_ok=True)\n",
    "\n",
    "            # Skip already trained kfold and pool\n",
    "            checkpoint = CHECKPOINT_PATH / f\"GraphLevel{model}\" / f\"GraphLevel{model}.ckpt\" \n",
    "            if checkpoint.exists():\n",
    "                print(checkpoint)\n",
    "                continue\n",
    "\n",
    "            # Run training\n",
    "            run = wandb.init(project=project_name, name=f'{model}_{NUM_LAYERS}_{HIDDEN_CHANNELS}_{fold}', \n",
    "                            group=f'{model}_{pool}')\n",
    "            graph.train_graph_classifier_kfold(model, \n",
    "                                                 train_subset, \n",
    "                                                 val_subset, \n",
    "                                                 dataset, \n",
    "                                                 CHECKPOINT_PATH, \n",
    "                                                 AVAIL_GPUS, \n",
    "                                                 hidden_channels=HIDDEN_CHANNELS, \n",
    "                                                 num_layers=NUM_LAYERS, \n",
    "                                                 epochs=epochs,\n",
    "                                                 batch_size=batch_size,\n",
    "                                                 graph_pooling=pool,\n",
    "                                                pos=True)\n",
    "            run.finish()\n"
   ]
  },
  {
   "cell_type": "code",
   "execution_count": null,
   "id": "2a29eb2b-4e2c-498d-9e0a-65bd30d87939",
   "metadata": {},
   "outputs": [],
   "source": []
  }
 ],
 "metadata": {
  "kernelspec": {
   "display_name": "Python [conda env:snowflake]",
   "language": "python",
   "name": "conda-env-snowflake-py"
  },
  "language_info": {
   "codemirror_mode": {
    "name": "ipython",
    "version": 3
   },
   "file_extension": ".py",
   "mimetype": "text/x-python",
   "name": "python",
   "nbconvert_exporter": "python",
   "pygments_lexer": "ipython3",
   "version": "3.9.16"
  }
 },
 "nbformat": 4,
 "nbformat_minor": 5
}
