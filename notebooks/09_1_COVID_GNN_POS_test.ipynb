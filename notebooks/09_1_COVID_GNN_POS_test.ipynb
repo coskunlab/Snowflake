{
 "cells": [
  {
   "cell_type": "code",
   "execution_count": 1,
   "id": "a73248b4-05f2-4d7c-bacf-919d006b2a8d",
   "metadata": {},
   "outputs": [],
   "source": [
    "import os\n",
    "import sys\n",
    "from pathlib import Path\n",
    "\n",
    "import cv2\n",
    "import matplotlib.pyplot as plt\n",
    "import numpy as np\n",
    "import pandas as pd \n",
    "import skimage.io\n",
    "\n",
    "from collections import defaultdict\n",
    "from tqdm.auto import tqdm\n",
    "from joblib import Parallel, delayed\n",
    "import re\n",
    "import h5py\n",
    "import napari\n",
    "import tifffile as tiff\n",
    "import seaborn as sns\n",
    "import pickle\n",
    "\n",
    "import networkx as nx\n",
    "from sklearn.model_selection import train_test_split"
   ]
  },
  {
   "cell_type": "code",
   "execution_count": 2,
   "id": "9638e31f-073c-4338-9688-041ee5756a2b",
   "metadata": {},
   "outputs": [],
   "source": [
    "import torch_geometric.utils\n",
    "import torch"
   ]
  },
  {
   "cell_type": "code",
   "execution_count": 3,
   "id": "49994536-a495-4a20-b1ec-7b7e69c350a3",
   "metadata": {},
   "outputs": [],
   "source": [
    "%load_ext autoreload\n",
    "%autoreload 2"
   ]
  },
  {
   "cell_type": "code",
   "execution_count": 4,
   "id": "1a60e2a7-d373-4fd2-8b44-5d601683864b",
   "metadata": {},
   "outputs": [],
   "source": [
    "p_dir = (Path().cwd().parents[0]).absolute()\n",
    "\n",
    "module_path = str(p_dir / \"src\")\n",
    "\n",
    "if module_path not in sys.path:\n",
    "    sys.path.append(module_path)"
   ]
  },
  {
   "cell_type": "code",
   "execution_count": 5,
   "id": "93dfcd46-eb0a-44cc-acec-e7fc5ae61791",
   "metadata": {},
   "outputs": [],
   "source": [
    "data_dir = (Path().cwd().parents[0] / 'data').absolute()"
   ]
  },
  {
   "cell_type": "code",
   "execution_count": 6,
   "id": "8d7d1361-97c9-40c9-97c1-529b2cdcaf2c",
   "metadata": {},
   "outputs": [],
   "source": [
    "import graph\n",
    "import torch\n",
    "import torch_geometric.utils\n",
    "import networkx as nx\n",
    "import lightning.pytorch as pl\n",
    "import torch.utils.data as data\n",
    "\n",
    "spatial_omics_folder = (Path().cwd().parents[0]).absolute() / 'data' / 'spatial_omics_graph'\n",
    "process_path = (Path().cwd().parents[0]).absolute() / 'data' / 'torch_graph_data'"
   ]
  },
  {
   "cell_type": "markdown",
   "id": "5c75818e-cc5e-45f9-8b0a-5e99e783b72f",
   "metadata": {
    "tags": []
   },
   "source": [
    "# Create data loader"
   ]
  },
  {
   "cell_type": "code",
   "execution_count": 7,
   "id": "638f597c-a708-409f-a116-4e313488b722",
   "metadata": {},
   "outputs": [],
   "source": [
    "from torch_geometric.loader import DataLoader\n",
    "seed = torch.Generator().manual_seed(42)\n",
    "\n",
    "name = 'NIH_pos'\n",
    "\n",
    "# Crate dataset\n",
    "dataset = graph.GraphDatasetPos(process_path / name, process_path / name / 'info.csv', 2, y_name='covid')\n",
    "\n",
    "train_set, val_set, test_set = graph.train_test_val_split(dataset)\n",
    "\n",
    "# Create Dataloader\n",
    "train_loader = DataLoader(train_set, batch_size=32, shuffle=True)\n",
    "val_loader = DataLoader(val_set, batch_size=32, shuffle=True)\n",
    "test_loader = DataLoader(test_set, batch_size=32, shuffle=False)\n"
   ]
  },
  {
   "cell_type": "code",
   "execution_count": 8,
   "id": "e2877318-ab93-45f2-a989-e18217c7f21b",
   "metadata": {},
   "outputs": [
    {
     "name": "stdout",
     "output_type": "stream",
     "text": [
      "Dataset: GraphDatasetPos(442):\n",
      "======================\n",
      "Number of graphs: 442\n",
      "Number of features: 6\n",
      "Number of classes: 2\n"
     ]
    }
   ],
   "source": [
    "print(f'Dataset: {dataset}:')\n",
    "print('======================')\n",
    "print(f'Number of graphs: {len(dataset)}')\n",
    "print(f'Number of features: {dataset.num_features}')\n",
    "print(f'Number of classes: {dataset.nc}')"
   ]
  },
  {
   "cell_type": "code",
   "execution_count": 9,
   "id": "dd84613d-0701-4cbe-b09e-4fdf214173b3",
   "metadata": {},
   "outputs": [
    {
     "name": "stdout",
     "output_type": "stream",
     "text": [
      "Train set: 213, val set: 176, test set: 53\n"
     ]
    }
   ],
   "source": [
    "print(f'Train set: {len(train_set)}, val set: {len(test_set)}, test set: {len(val_set)}')"
   ]
  },
  {
   "cell_type": "code",
   "execution_count": 10,
   "id": "f7c0a7db-8a5e-450d-b986-962c775e27f5",
   "metadata": {},
   "outputs": [
    {
     "name": "stdout",
     "output_type": "stream",
     "text": [
      "Step 1:\n",
      "=======\n",
      "Number of graphs in the current batch: 32\n",
      "DataBatch(edge_index=[2, 816522], num_nodes=117032, x=[117032, 6], pos=[117032, 2], node_types=[117032], label=[32], covid=[32], train_mask=[117032], test_mask=[117032], edge_attr=[816522, 2], y=[32], name=[32], batch=[117032], ptr=[33])\n",
      "\n"
     ]
    }
   ],
   "source": [
    "for step, data in enumerate(test_loader):\n",
    "    print(f'Step {step + 1}:')\n",
    "    print('=======')\n",
    "    print(f'Number of graphs in the current batch: {data.num_graphs}')\n",
    "    print(data)\n",
    "    print()\n",
    "    data.label\n",
    "    break"
   ]
  },
  {
   "cell_type": "markdown",
   "id": "d9cef1cd-e8f4-49e4-9016-c7cc583d88a0",
   "metadata": {},
   "source": [
    "# Train network K Fold"
   ]
  },
  {
   "cell_type": "code",
   "execution_count": 11,
   "id": "5967902f-7f4c-4f57-bb90-077b54032122",
   "metadata": {},
   "outputs": [],
   "source": [
    "from lightning.pytorch.accelerators import find_usable_cuda_devices\n",
    "import wandb"
   ]
  },
  {
   "cell_type": "code",
   "execution_count": 12,
   "id": "e67c5394-7620-4f96-b5d3-bcc7f919da74",
   "metadata": {},
   "outputs": [],
   "source": [
    "from sklearn.model_selection import KFold, StratifiedKFold, ShuffleSplit, StratifiedShuffleSplit\n",
    "from torch.utils.data import SubsetRandomSampler\n",
    "from sklearn.model_selection import train_test_split"
   ]
  },
  {
   "cell_type": "code",
   "execution_count": 13,
   "id": "374e8eb0-1f96-4cbc-9d14-8384df35afaf",
   "metadata": {},
   "outputs": [],
   "source": [
    "# # Print K fold model number of samples and number of positive cases\n",
    "\n",
    "# k_folds = 5\n",
    "# kfold = KFold(n_splits=k_folds, shuffle=True, random_state=42)\n",
    "\n",
    "# for fold, (train_ids, valid_ids) in enumerate(kfold.split(dataset)):\n",
    "#     train_subset = dataset.index_select(train_ids.tolist())\n",
    "#     val_subset = dataset.index_select(valid_ids.tolist())\n",
    "    \n",
    "#     train_loader = DataLoader(train_subset, batch_size=32, shuffle=True)\n",
    "#     val_loader = DataLoader(val_subset, batch_size=32, shuffle=False)\n",
    "    \n",
    "#     train_positives = 0\n",
    "#     test_positives = 0\n",
    "#     for step, data in enumerate(train_loader):\n",
    "#         train_positives += np.sum(data.y.numpy())\n",
    "#     for step, data in enumerate(val_loader):\n",
    "#         test_positives += np.sum(data.y.numpy())\n",
    "        \n",
    "#     print(len(train_subset), train_positives, len(val_subset), test_positives)"
   ]
  },
  {
   "cell_type": "code",
   "execution_count": 14,
   "id": "23d369a5-1bb6-4cbe-a9e5-a9b58e219df0",
   "metadata": {},
   "outputs": [],
   "source": [
    "condition = '030324_Covid_pos'\n",
    "checkpoint_folder = (Path().cwd().parents[0]).absolute() / 'data' / \"saved_models\" / f\"Graph_GNNs_{condition}\" \n",
    "project_name = f'SF_{condition}'"
   ]
  },
  {
   "cell_type": "code",
   "execution_count": 15,
   "id": "62c8a3eb-6154-4b8b-8634-3ba79f05e31b",
   "metadata": {},
   "outputs": [
    {
     "name": "stderr",
     "output_type": "stream",
     "text": [
      "Global seed set to 42\n"
     ]
    }
   ],
   "source": [
    "AVAIL_GPUS = [0]\n",
    "\n",
    "# Setting the seed\n",
    "pl.seed_everything(42)\n",
    "\n",
    "NUM_LAYERS = 2\n",
    "HIDDEN_CHANNELS = 16\n",
    "pools = ['mean', 'max', 'attention', 'attention2']\n",
    "# pools = ['attention2']\n",
    "models = ['GAT', 'GINConv']\n",
    "# models = ['GINConv']\n",
    "epochs = 50"
   ]
  },
  {
   "cell_type": "code",
   "execution_count": 16,
   "id": "6afddfc1-9f58-4598-8f1d-3b0ed6cbeb7b",
   "metadata": {},
   "outputs": [],
   "source": [
    "ys = [data.y.item() for data in dataset]"
   ]
  },
  {
   "cell_type": "code",
   "execution_count": 17,
   "id": "40684d85-d560-40b5-90ae-11c1bc5494c8",
   "metadata": {
    "collapsed": true,
    "jupyter": {
     "outputs_hidden": true
    },
    "tags": []
   },
   "outputs": [
    {
     "name": "stderr",
     "output_type": "stream",
     "text": [
      "Failed to detect the name of this notebook, you can set it manually with the WANDB_NOTEBOOK_NAME environment variable to enable code saving.\n",
      "\u001b[34m\u001b[1mwandb\u001b[0m: Currently logged in as: \u001b[33mthoomas\u001b[0m. Use \u001b[1m`wandb login --relogin`\u001b[0m to force relogin\n"
     ]
    },
    {
     "data": {
      "application/vnd.jupyter.widget-view+json": {
       "model_id": "82f8595bb631412fa78dff65e2a22811",
       "version_major": 2,
       "version_minor": 0
      },
      "text/plain": [
       "VBox(children=(Label(value='Waiting for wandb.init()...\\r'), FloatProgress(value=0.016916666666899498, max=1.0…"
      ]
     },
     "metadata": {},
     "output_type": "display_data"
    },
    {
     "data": {
      "text/html": [
       "wandb version 0.16.3 is available!  To upgrade, please run:\n",
       " $ pip install wandb --upgrade"
      ],
      "text/plain": [
       "<IPython.core.display.HTML object>"
      ]
     },
     "metadata": {},
     "output_type": "display_data"
    },
    {
     "data": {
      "text/html": [
       "Tracking run with wandb version 0.14.0"
      ],
      "text/plain": [
       "<IPython.core.display.HTML object>"
      ]
     },
     "metadata": {},
     "output_type": "display_data"
    },
    {
     "data": {
      "text/html": [
       "Run data is saved locally in <code>y:\\coskun-lab\\Thomas\\11_snowflakes\\notebooks\\wandb\\run-20240303_113917-jgqko4qu</code>"
      ],
      "text/plain": [
       "<IPython.core.display.HTML object>"
      ]
     },
     "metadata": {},
     "output_type": "display_data"
    },
    {
     "data": {
      "text/html": [
       "Syncing run <strong><a href='https://wandb.ai/thoomas/SF_030324_Covid_pos/runs/jgqko4qu' target=\"_blank\">GAT_2_16_0</a></strong> to <a href='https://wandb.ai/thoomas/SF_030324_Covid_pos' target=\"_blank\">Weights & Biases</a> (<a href='https://wandb.me/run' target=\"_blank\">docs</a>)<br/>"
      ],
      "text/plain": [
       "<IPython.core.display.HTML object>"
      ]
     },
     "metadata": {},
     "output_type": "display_data"
    },
    {
     "data": {
      "text/html": [
       " View project at <a href='https://wandb.ai/thoomas/SF_030324_Covid_pos' target=\"_blank\">https://wandb.ai/thoomas/SF_030324_Covid_pos</a>"
      ],
      "text/plain": [
       "<IPython.core.display.HTML object>"
      ]
     },
     "metadata": {},
     "output_type": "display_data"
    },
    {
     "data": {
      "text/html": [
       " View run at <a href='https://wandb.ai/thoomas/SF_030324_Covid_pos/runs/jgqko4qu' target=\"_blank\">https://wandb.ai/thoomas/SF_030324_Covid_pos/runs/jgqko4qu</a>"
      ],
      "text/plain": [
       "<IPython.core.display.HTML object>"
      ]
     },
     "metadata": {},
     "output_type": "display_data"
    },
    {
     "name": "stderr",
     "output_type": "stream",
     "text": [
      "Global seed set to 42\n",
      "C:\\Users\\thu71\\AppData\\Roaming\\Python\\Python39\\site-packages\\lightning\\pytorch\\loggers\\wandb.py:395: UserWarning: There is a wandb run already in progress and newly created instances of `WandbLogger` will reuse this run. If this is not desired, call `wandb.finish()` before instantiating `WandbLogger`.\n",
      "  rank_zero_warn(\n",
      "GPU available: True (cuda), used: True\n",
      "TPU available: False, using: 0 TPU cores\n",
      "IPU available: False, using: 0 IPUs\n",
      "HPU available: False, using: 0 HPUs\n",
      "Global seed set to 42\n",
      "LOCAL_RANK: 0 - CUDA_VISIBLE_DEVICES: [0,1]\n",
      "\n",
      "   | Name        | Type             | Params\n",
      "--------------------------------------------------\n",
      "0  | model       | GAT              | 5.1 K \n",
      "1  | fnn_layer   | Linear           | 272   \n",
      "2  | selu        | SELU             | 0     \n",
      "3  | head        | Linear           | 34    \n",
      "4  | loss_module | CrossEntropyLoss | 0     \n",
      "5  | train_acc   | BinaryAccuracy   | 0     \n",
      "6  | train_auroc | BinaryAUROC      | 0     \n",
      "7  | train_f1    | BinaryF1Score    | 0     \n",
      "8  | valid_acc   | BinaryAccuracy   | 0     \n",
      "9  | valid_auroc | BinaryAUROC      | 0     \n",
      "10 | valid_f1    | BinaryF1Score    | 0     \n",
      "11 | test_acc    | BinaryAccuracy   | 0     \n",
      "12 | test_auroc  | BinaryAUROC      | 0     \n",
      "13 | test_f1     | BinaryF1Score    | 0     \n",
      "--------------------------------------------------\n",
      "5.4 K     Trainable params\n",
      "0         Non-trainable params\n",
      "5.4 K     Total params\n",
      "0.022     Total estimated model params size (MB)\n",
      "C:\\Users\\thu71\\AppData\\Roaming\\Python\\Python39\\site-packages\\lightning\\pytorch\\trainer\\connectors\\data_connector.py:478: PossibleUserWarning: Your `val_dataloader`'s sampler has shuffling enabled, it is strongly recommended that you turn shuffling off for val/test dataloaders.\n",
      "  rank_zero_warn(\n",
      "C:\\Users\\thu71\\AppData\\Roaming\\Python\\Python39\\site-packages\\lightning\\pytorch\\trainer\\connectors\\data_connector.py:430: PossibleUserWarning: The dataloader, val_dataloader, does not have many workers which may be a bottleneck. Consider increasing the value of the `num_workers` argument` (try 48 which is the number of cpus on this machine) in the `DataLoader` init to improve performance.\n",
      "  rank_zero_warn(\n",
      "C:\\Users\\thu71\\AppData\\Roaming\\Python\\Python39\\site-packages\\lightning\\pytorch\\utilities\\data.py:77: UserWarning: Trying to infer the `batch_size` from an ambiguous collection. The batch size we found is 2. To avoid any miscalculations, use `self.log(..., batch_size=batch_size)`.\n",
      "  warning_cache.warn(\n",
      "C:\\Users\\thu71\\AppData\\Roaming\\Python\\Python39\\site-packages\\lightning\\pytorch\\trainer\\connectors\\data_connector.py:430: PossibleUserWarning: The dataloader, train_dataloader, does not have many workers which may be a bottleneck. Consider increasing the value of the `num_workers` argument` (try 48 which is the number of cpus on this machine) in the `DataLoader` init to improve performance.\n",
      "  rank_zero_warn(\n",
      "C:\\Users\\thu71\\AppData\\Roaming\\Python\\Python39\\site-packages\\lightning\\pytorch\\loops\\fit_loop.py:280: PossibleUserWarning: The number of training batches (4) is smaller than the logging interval Trainer(log_every_n_steps=10). Set a lower value for log_every_n_steps if you want to see logs for the training epoch.\n",
      "  rank_zero_warn(\n",
      "`Trainer.fit` stopped: `max_epochs=50` reached.\n",
      "LOCAL_RANK: 0 - CUDA_VISIBLE_DEVICES: [0,1]\n",
      "C:\\Users\\thu71\\AppData\\Roaming\\Python\\Python39\\site-packages\\lightning\\pytorch\\trainer\\connectors\\data_connector.py:478: PossibleUserWarning: Your `test_dataloader`'s sampler has shuffling enabled, it is strongly recommended that you turn shuffling off for val/test dataloaders.\n",
      "  rank_zero_warn(\n",
      "C:\\Users\\thu71\\AppData\\Roaming\\Python\\Python39\\site-packages\\lightning\\pytorch\\trainer\\connectors\\data_connector.py:430: PossibleUserWarning: The dataloader, test_dataloader, does not have many workers which may be a bottleneck. Consider increasing the value of the `num_workers` argument` (try 48 which is the number of cpus on this machine) in the `DataLoader` init to improve performance.\n",
      "  rank_zero_warn(\n"
     ]
    },
    {
     "name": "stdout",
     "output_type": "stream",
     "text": [
      "{'test_acc': tensor(0.8496), 'test_auc': tensor(0.9395), 'test_f1': tensor(0.8571)}\n"
     ]
    },
    {
     "data": {
      "text/html": [
       "Waiting for W&B process to finish... <strong style=\"color:green\">(success).</strong>"
      ],
      "text/plain": [
       "<IPython.core.display.HTML object>"
      ]
     },
     "metadata": {},
     "output_type": "display_data"
    },
    {
     "data": {
      "application/vnd.jupyter.widget-view+json": {
       "model_id": "5a22719b2e4c4650b7abc63837cefa32",
       "version_major": 2,
       "version_minor": 0
      },
      "text/plain": [
       "VBox(children=(Label(value='0.001 MB of 0.001 MB uploaded (0.000 MB deduped)\\r'), FloatProgress(value=1.0, max…"
      ]
     },
     "metadata": {},
     "output_type": "display_data"
    },
    {
     "data": {
      "text/html": [
       "<style>\n",
       "    table.wandb td:nth-child(1) { padding: 0 10px; text-align: left ; width: auto;} td:nth-child(2) {text-align: left ; width: 100%}\n",
       "    .wandb-row { display: flex; flex-direction: row; flex-wrap: wrap; justify-content: flex-start; width: 100% }\n",
       "    .wandb-col { display: flex; flex-direction: column; flex-basis: 100%; flex: 1; padding: 10px; }\n",
       "    </style>\n",
       "<div class=\"wandb-row\"><div class=\"wandb-col\"><h3>Run history:</h3><br/><table class=\"wandb\"><tr><td>epoch</td><td>▁▁▁▂▂▂▂▂▂▃▃▃▃▃▄▄▄▄▄▄▅▅▅▅▅▅▆▆▆▆▆▆▇▇▇▇▇███</td></tr><tr><td>lr-Adam</td><td>▁▁▁▁▁▁▁▁▁▁▁▁▁▁▁▁▁▁▁▁▁▁▁▁▁▁▁▁▁▁▁▁▁▁▁▁▁▁▁▁</td></tr><tr><td>test_acc</td><td>▁</td></tr><tr><td>test_auc</td><td>▁</td></tr><tr><td>test_f1</td><td>▁</td></tr><tr><td>train_acc</td><td>▁▂▃▃▄▄▄▄▅▅▅▅▅▆▅▆▆▇▇▆▇▇▇▇▇▇▇▇█▆▇▇█▇▇███▇▇</td></tr><tr><td>train_auc</td><td>▁▄▃▄▄▄▄▄▅▅▅▅▆▇▇▇▇▇▇▇█████████▇██████████</td></tr><tr><td>train_f1</td><td>▁▂▃▂▃▃▃▃▄▄▄▄▅▅▅▅▆▆▇▆▆▇▇▇▇▇▇▇▇▆▇▇▇▇▇██▇▇▇</td></tr><tr><td>train_loss_epoch</td><td>█▇▇▇▆▆▆▆▅▅▅▅▄▄▄▄▃▃▂▃▂▂▂▂▂▂▂▂▁▂▂▂▁▂▂▁▁▁▁▁</td></tr><tr><td>train_loss_step</td><td>███▆▆▆▅▅▃▂▁▁▁▁▁▃▂▂▂▃</td></tr><tr><td>trainer/global_step</td><td>▁▁▁▂▁▁▂▂▁▃▃▃▂▃▄▄▂▄▄▂▂▅▅▂▅▅▆▂▆▆▆▂▇▇▇▃▇███</td></tr><tr><td>val_acc</td><td>▃▂▁▂▄▄▅▅▄▄▄▅▄▄▄▄▅▅▄▅▅▅▄▅▅▄▅▇▇▇▅▅▆▆▆▇▆███</td></tr><tr><td>val_auc</td><td>▁▁▁▁▂▂▂▂▃▃▄▄▅▅▅▆▆▅▅▆▇▇▆▇▇▇▇▇▇▇▇▇▇▇▇█████</td></tr><tr><td>val_f1</td><td>▆▄▁▂▆▅▆▆▅▅▅▆▄▄▃▃▃▄▁▄▄▃▂▄▄▃▄▆▆▇▃▄▄▅▅▇▅██▇</td></tr><tr><td>val_loss_epoch</td><td>████▆▆▆▆▆▆▅▅▅▅▆▅▆▆▇▅▅▅▆▅▄▅▅▃▃▃▄▅▄▄▄▂▄▁▂▁</td></tr><tr><td>val_loss_step</td><td>████▆▆▆▆▆▆▅▅▅▅▆▅▆▆▇▅▅▅▆▅▄▅▅▃▃▃▄▅▄▄▄▂▄▁▂▁</td></tr></table><br/></div><div class=\"wandb-col\"><h3>Run summary:</h3><br/><table class=\"wandb\"><tr><td>epoch</td><td>50</td></tr><tr><td>lr-Adam</td><td>0.005</td></tr><tr><td>test_acc</td><td>0.84962</td></tr><tr><td>test_auc</td><td>0.93952</td></tr><tr><td>test_f1</td><td>0.85714</td></tr><tr><td>train_acc</td><td>0.92308</td></tr><tr><td>train_auc</td><td>0.98084</td></tr><tr><td>train_f1</td><td>0.93471</td></tr><tr><td>train_loss_epoch</td><td>0.39263</td></tr><tr><td>train_loss_step</td><td>0.45367</td></tr><tr><td>trainer/global_step</td><td>200</td></tr><tr><td>val_acc</td><td>0.79032</td></tr><tr><td>val_auc</td><td>0.92973</td></tr><tr><td>val_f1</td><td>0.80597</td></tr><tr><td>val_loss_epoch</td><td>0.48677</td></tr><tr><td>val_loss_step</td><td>0.48677</td></tr></table><br/></div></div>"
      ],
      "text/plain": [
       "<IPython.core.display.HTML object>"
      ]
     },
     "metadata": {},
     "output_type": "display_data"
    },
    {
     "data": {
      "text/html": [
       " View run <strong style=\"color:#cdcd00\">GAT_2_16_0</strong> at: <a href='https://wandb.ai/thoomas/SF_030324_Covid_pos/runs/jgqko4qu' target=\"_blank\">https://wandb.ai/thoomas/SF_030324_Covid_pos/runs/jgqko4qu</a><br/>Synced 6 W&B file(s), 0 media file(s), 0 artifact file(s) and 0 other file(s)"
      ],
      "text/plain": [
       "<IPython.core.display.HTML object>"
      ]
     },
     "metadata": {},
     "output_type": "display_data"
    },
    {
     "data": {
      "text/html": [
       "Find logs at: <code>.\\wandb\\run-20240303_113917-jgqko4qu\\logs</code>"
      ],
      "text/plain": [
       "<IPython.core.display.HTML object>"
      ]
     },
     "metadata": {},
     "output_type": "display_data"
    },
    {
     "data": {
      "application/vnd.jupyter.widget-view+json": {
       "model_id": "c59160d03fff49878e2dbe90dbf5442f",
       "version_major": 2,
       "version_minor": 0
      },
      "text/plain": [
       "VBox(children=(Label(value='Waiting for wandb.init()...\\r'), FloatProgress(value=0.01693333333338766, max=1.0)…"
      ]
     },
     "metadata": {},
     "output_type": "display_data"
    },
    {
     "data": {
      "text/html": [
       "wandb version 0.16.3 is available!  To upgrade, please run:\n",
       " $ pip install wandb --upgrade"
      ],
      "text/plain": [
       "<IPython.core.display.HTML object>"
      ]
     },
     "metadata": {},
     "output_type": "display_data"
    },
    {
     "data": {
      "text/html": [
       "Tracking run with wandb version 0.14.0"
      ],
      "text/plain": [
       "<IPython.core.display.HTML object>"
      ]
     },
     "metadata": {},
     "output_type": "display_data"
    },
    {
     "data": {
      "text/html": [
       "Run data is saved locally in <code>y:\\coskun-lab\\Thomas\\11_snowflakes\\notebooks\\wandb\\run-20240303_114551-r5sw3lh7</code>"
      ],
      "text/plain": [
       "<IPython.core.display.HTML object>"
      ]
     },
     "metadata": {},
     "output_type": "display_data"
    },
    {
     "data": {
      "text/html": [
       "Syncing run <strong><a href='https://wandb.ai/thoomas/SF_030324_Covid_pos/runs/r5sw3lh7' target=\"_blank\">GINConv_2_16_0</a></strong> to <a href='https://wandb.ai/thoomas/SF_030324_Covid_pos' target=\"_blank\">Weights & Biases</a> (<a href='https://wandb.me/run' target=\"_blank\">docs</a>)<br/>"
      ],
      "text/plain": [
       "<IPython.core.display.HTML object>"
      ]
     },
     "metadata": {},
     "output_type": "display_data"
    },
    {
     "data": {
      "text/html": [
       " View project at <a href='https://wandb.ai/thoomas/SF_030324_Covid_pos' target=\"_blank\">https://wandb.ai/thoomas/SF_030324_Covid_pos</a>"
      ],
      "text/plain": [
       "<IPython.core.display.HTML object>"
      ]
     },
     "metadata": {},
     "output_type": "display_data"
    },
    {
     "data": {
      "text/html": [
       " View run at <a href='https://wandb.ai/thoomas/SF_030324_Covid_pos/runs/r5sw3lh7' target=\"_blank\">https://wandb.ai/thoomas/SF_030324_Covid_pos/runs/r5sw3lh7</a>"
      ],
      "text/plain": [
       "<IPython.core.display.HTML object>"
      ]
     },
     "metadata": {},
     "output_type": "display_data"
    },
    {
     "name": "stderr",
     "output_type": "stream",
     "text": [
      "Global seed set to 42\n",
      "C:\\Users\\thu71\\AppData\\Roaming\\Python\\Python39\\site-packages\\lightning\\pytorch\\loggers\\wandb.py:395: UserWarning: There is a wandb run already in progress and newly created instances of `WandbLogger` will reuse this run. If this is not desired, call `wandb.finish()` before instantiating `WandbLogger`.\n",
      "  rank_zero_warn(\n",
      "GPU available: True (cuda), used: True\n",
      "TPU available: False, using: 0 TPU cores\n",
      "IPU available: False, using: 0 IPUs\n",
      "HPU available: False, using: 0 HPUs\n",
      "Global seed set to 42\n",
      "LOCAL_RANK: 0 - CUDA_VISIBLE_DEVICES: [0,1]\n",
      "\n",
      "   | Name        | Type             | Params\n",
      "--------------------------------------------------\n",
      "0  | model       | GIN              | 1.0 K \n",
      "1  | fnn_layer   | Linear           | 272   \n",
      "2  | selu        | SELU             | 0     \n",
      "3  | head        | Linear           | 34    \n",
      "4  | loss_module | CrossEntropyLoss | 0     \n",
      "5  | train_acc   | BinaryAccuracy   | 0     \n",
      "6  | train_auroc | BinaryAUROC      | 0     \n",
      "7  | train_f1    | BinaryF1Score    | 0     \n",
      "8  | valid_acc   | BinaryAccuracy   | 0     \n",
      "9  | valid_auroc | BinaryAUROC      | 0     \n",
      "10 | valid_f1    | BinaryF1Score    | 0     \n",
      "11 | test_acc    | BinaryAccuracy   | 0     \n",
      "12 | test_auroc  | BinaryAUROC      | 0     \n",
      "13 | test_f1     | BinaryF1Score    | 0     \n",
      "--------------------------------------------------\n",
      "1.3 K     Trainable params\n",
      "0         Non-trainable params\n",
      "1.3 K     Total params\n",
      "0.005     Total estimated model params size (MB)\n",
      "C:\\Users\\thu71\\AppData\\Roaming\\Python\\Python39\\site-packages\\lightning\\pytorch\\trainer\\connectors\\data_connector.py:478: PossibleUserWarning: Your `val_dataloader`'s sampler has shuffling enabled, it is strongly recommended that you turn shuffling off for val/test dataloaders.\n",
      "  rank_zero_warn(\n",
      "C:\\Users\\thu71\\AppData\\Roaming\\Python\\Python39\\site-packages\\lightning\\pytorch\\trainer\\connectors\\data_connector.py:430: PossibleUserWarning: The dataloader, val_dataloader, does not have many workers which may be a bottleneck. Consider increasing the value of the `num_workers` argument` (try 48 which is the number of cpus on this machine) in the `DataLoader` init to improve performance.\n",
      "  rank_zero_warn(\n",
      "C:\\Users\\thu71\\AppData\\Roaming\\Python\\Python39\\site-packages\\lightning\\pytorch\\trainer\\connectors\\data_connector.py:430: PossibleUserWarning: The dataloader, train_dataloader, does not have many workers which may be a bottleneck. Consider increasing the value of the `num_workers` argument` (try 48 which is the number of cpus on this machine) in the `DataLoader` init to improve performance.\n",
      "  rank_zero_warn(\n",
      "C:\\Users\\thu71\\AppData\\Roaming\\Python\\Python39\\site-packages\\lightning\\pytorch\\loops\\fit_loop.py:280: PossibleUserWarning: The number of training batches (2) is smaller than the logging interval Trainer(log_every_n_steps=10). Set a lower value for log_every_n_steps if you want to see logs for the training epoch.\n",
      "  rank_zero_warn(\n",
      "`Trainer.fit` stopped: `max_epochs=50` reached.\n",
      "LOCAL_RANK: 0 - CUDA_VISIBLE_DEVICES: [0,1]\n",
      "C:\\Users\\thu71\\AppData\\Roaming\\Python\\Python39\\site-packages\\lightning\\pytorch\\trainer\\connectors\\data_connector.py:478: PossibleUserWarning: Your `test_dataloader`'s sampler has shuffling enabled, it is strongly recommended that you turn shuffling off for val/test dataloaders.\n",
      "  rank_zero_warn(\n",
      "C:\\Users\\thu71\\AppData\\Roaming\\Python\\Python39\\site-packages\\lightning\\pytorch\\trainer\\connectors\\data_connector.py:430: PossibleUserWarning: The dataloader, test_dataloader, does not have many workers which may be a bottleneck. Consider increasing the value of the `num_workers` argument` (try 48 which is the number of cpus on this machine) in the `DataLoader` init to improve performance.\n",
      "  rank_zero_warn(\n"
     ]
    },
    {
     "name": "stdout",
     "output_type": "stream",
     "text": [
      "{'test_acc': tensor(0.7970), 'test_auc': tensor(0.8670), 'test_f1': tensor(0.8280)}\n"
     ]
    },
    {
     "data": {
      "text/html": [
       "Waiting for W&B process to finish... <strong style=\"color:green\">(success).</strong>"
      ],
      "text/plain": [
       "<IPython.core.display.HTML object>"
      ]
     },
     "metadata": {},
     "output_type": "display_data"
    },
    {
     "data": {
      "application/vnd.jupyter.widget-view+json": {
       "model_id": "26ecfcb92bc2481c946b9c7d74f048e7",
       "version_major": 2,
       "version_minor": 0
      },
      "text/plain": [
       "VBox(children=(Label(value='0.001 MB of 0.001 MB uploaded (0.000 MB deduped)\\r'), FloatProgress(value=1.0, max…"
      ]
     },
     "metadata": {},
     "output_type": "display_data"
    },
    {
     "data": {
      "text/html": [
       "<style>\n",
       "    table.wandb td:nth-child(1) { padding: 0 10px; text-align: left ; width: auto;} td:nth-child(2) {text-align: left ; width: 100%}\n",
       "    .wandb-row { display: flex; flex-direction: row; flex-wrap: wrap; justify-content: flex-start; width: 100% }\n",
       "    .wandb-col { display: flex; flex-direction: column; flex-basis: 100%; flex: 1; padding: 10px; }\n",
       "    </style>\n",
       "<div class=\"wandb-row\"><div class=\"wandb-col\"><h3>Run history:</h3><br/><table class=\"wandb\"><tr><td>epoch</td><td>▁▁▁▂▂▂▂▂▂▃▃▃▃▃▄▄▄▄▄▄▅▅▅▅▅▅▆▆▆▆▆▆▇▇▇▇▇███</td></tr><tr><td>lr-Adam</td><td>▁▁▁▁▁▁▁▁▁▁▁▁▁▁▁▁▁▁▁▁▁▁▁▁▁▁▁▁▁▁▁▁▁▁▁▁▁▁▁▁</td></tr><tr><td>test_acc</td><td>▁</td></tr><tr><td>test_auc</td><td>▁</td></tr><tr><td>test_f1</td><td>▁</td></tr><tr><td>train_acc</td><td>▁▃▄▄▅▆▆▆▇▇▇▇▇▇▇▇▇▇▇▇█▇▇▇█▇███▇█▇████████</td></tr><tr><td>train_auc</td><td>▁▄▄▅▆▇▇▇▇▇█▇▇▇▇██▇█▇████▇▇██████████████</td></tr><tr><td>train_f1</td><td>▁▂▃▃▄▅▅▆▆▆▆▇▇▇▇▇▇▇▇▆▇▇▇▇▇▇█▇▇▇█▇███▇████</td></tr><tr><td>train_loss_epoch</td><td>█▇▆▆▅▄▄▃▃▃▃▃▂▂▂▂▂▂▂▂▂▂▂▂▂▂▁▁▂▂▁▂▁▁▁▁▁▁▁▁</td></tr><tr><td>train_loss_step</td><td>█▄▄▃▂▃▂▁▃▁</td></tr><tr><td>trainer/global_step</td><td>▁▁▁▂▂▂▂▂▂▃▃▃▃▃▄▂▂▄▃▄▅▅▅▃▅▅▃▆▆▆▆▄▇▄▄▇████</td></tr><tr><td>val_acc</td><td>▄▁▂▄▅▆▆▆▆▆▆▆▆▆▆▇▆▆▇▆▇█▆▆▇▆▇▆▇▇▇▆▆▇▇▇▇▇▇▇</td></tr><tr><td>val_auc</td><td>▁▁▂▃▆▆▆▆▇▇▇▇▇▇▇▇██▇▇███▇▇▇▇▇██▇▇███▇██▇█</td></tr><tr><td>val_f1</td><td>▆▁▂▅▆▇▇▇▆▇▇▇▆▇▇█▇▇▇▆██▆▆▇▆▇▆██▇▆▆▇▇▆▇▇▇█</td></tr><tr><td>val_loss_epoch</td><td>██▇▆▅▄▄▄▃▃▂▂▃▃▂▂▂▂▂▂▁▁▂▂▂▂▂▂▁▁▂▂▂▁▁▂▁▂▁▁</td></tr><tr><td>val_loss_step</td><td>██▇▆▅▄▄▄▃▃▂▂▃▃▂▂▂▂▂▂▁▁▂▂▂▂▂▂▁▁▂▂▂▁▁▂▁▂▁▁</td></tr></table><br/></div><div class=\"wandb-col\"><h3>Run summary:</h3><br/><table class=\"wandb\"><tr><td>epoch</td><td>50</td></tr><tr><td>lr-Adam</td><td>0.005</td></tr><tr><td>test_acc</td><td>0.79699</td></tr><tr><td>test_auc</td><td>0.86704</td></tr><tr><td>test_f1</td><td>0.82803</td></tr><tr><td>train_acc</td><td>0.93117</td></tr><tr><td>train_auc</td><td>0.94085</td></tr><tr><td>train_f1</td><td>0.93907</td></tr><tr><td>train_loss_epoch</td><td>0.38394</td></tr><tr><td>train_loss_step</td><td>0.38732</td></tr><tr><td>trainer/global_step</td><td>100</td></tr><tr><td>val_acc</td><td>0.77419</td></tr><tr><td>val_auc</td><td>0.81243</td></tr><tr><td>val_f1</td><td>0.82051</td></tr><tr><td>val_loss_epoch</td><td>0.52877</td></tr><tr><td>val_loss_step</td><td>0.52877</td></tr></table><br/></div></div>"
      ],
      "text/plain": [
       "<IPython.core.display.HTML object>"
      ]
     },
     "metadata": {},
     "output_type": "display_data"
    },
    {
     "data": {
      "text/html": [
       " View run <strong style=\"color:#cdcd00\">GINConv_2_16_0</strong> at: <a href='https://wandb.ai/thoomas/SF_030324_Covid_pos/runs/r5sw3lh7' target=\"_blank\">https://wandb.ai/thoomas/SF_030324_Covid_pos/runs/r5sw3lh7</a><br/>Synced 6 W&B file(s), 0 media file(s), 0 artifact file(s) and 0 other file(s)"
      ],
      "text/plain": [
       "<IPython.core.display.HTML object>"
      ]
     },
     "metadata": {},
     "output_type": "display_data"
    },
    {
     "data": {
      "text/html": [
       "Find logs at: <code>.\\wandb\\run-20240303_114551-r5sw3lh7\\logs</code>"
      ],
      "text/plain": [
       "<IPython.core.display.HTML object>"
      ]
     },
     "metadata": {},
     "output_type": "display_data"
    },
    {
     "data": {
      "application/vnd.jupyter.widget-view+json": {
       "model_id": "dce33aaa750f4ef788eba3824a395a9b",
       "version_major": 2,
       "version_minor": 0
      },
      "text/plain": [
       "VBox(children=(Label(value='Waiting for wandb.init()...\\r'), FloatProgress(value=0.01691666666592937, max=1.0)…"
      ]
     },
     "metadata": {},
     "output_type": "display_data"
    },
    {
     "data": {
      "text/html": [
       "wandb version 0.16.3 is available!  To upgrade, please run:\n",
       " $ pip install wandb --upgrade"
      ],
      "text/plain": [
       "<IPython.core.display.HTML object>"
      ]
     },
     "metadata": {},
     "output_type": "display_data"
    },
    {
     "data": {
      "text/html": [
       "Tracking run with wandb version 0.14.0"
      ],
      "text/plain": [
       "<IPython.core.display.HTML object>"
      ]
     },
     "metadata": {},
     "output_type": "display_data"
    },
    {
     "data": {
      "text/html": [
       "Run data is saved locally in <code>y:\\coskun-lab\\Thomas\\11_snowflakes\\notebooks\\wandb\\run-20240303_115050-rqa4is1p</code>"
      ],
      "text/plain": [
       "<IPython.core.display.HTML object>"
      ]
     },
     "metadata": {},
     "output_type": "display_data"
    },
    {
     "data": {
      "text/html": [
       "Syncing run <strong><a href='https://wandb.ai/thoomas/SF_030324_Covid_pos/runs/rqa4is1p' target=\"_blank\">GAT_2_16_0</a></strong> to <a href='https://wandb.ai/thoomas/SF_030324_Covid_pos' target=\"_blank\">Weights & Biases</a> (<a href='https://wandb.me/run' target=\"_blank\">docs</a>)<br/>"
      ],
      "text/plain": [
       "<IPython.core.display.HTML object>"
      ]
     },
     "metadata": {},
     "output_type": "display_data"
    },
    {
     "data": {
      "text/html": [
       " View project at <a href='https://wandb.ai/thoomas/SF_030324_Covid_pos' target=\"_blank\">https://wandb.ai/thoomas/SF_030324_Covid_pos</a>"
      ],
      "text/plain": [
       "<IPython.core.display.HTML object>"
      ]
     },
     "metadata": {},
     "output_type": "display_data"
    },
    {
     "data": {
      "text/html": [
       " View run at <a href='https://wandb.ai/thoomas/SF_030324_Covid_pos/runs/rqa4is1p' target=\"_blank\">https://wandb.ai/thoomas/SF_030324_Covid_pos/runs/rqa4is1p</a>"
      ],
      "text/plain": [
       "<IPython.core.display.HTML object>"
      ]
     },
     "metadata": {},
     "output_type": "display_data"
    },
    {
     "name": "stderr",
     "output_type": "stream",
     "text": [
      "Global seed set to 42\n",
      "C:\\Users\\thu71\\AppData\\Roaming\\Python\\Python39\\site-packages\\lightning\\pytorch\\loggers\\wandb.py:395: UserWarning: There is a wandb run already in progress and newly created instances of `WandbLogger` will reuse this run. If this is not desired, call `wandb.finish()` before instantiating `WandbLogger`.\n",
      "  rank_zero_warn(\n",
      "GPU available: True (cuda), used: True\n",
      "TPU available: False, using: 0 TPU cores\n",
      "IPU available: False, using: 0 IPUs\n",
      "HPU available: False, using: 0 HPUs\n",
      "Global seed set to 42\n",
      "LOCAL_RANK: 0 - CUDA_VISIBLE_DEVICES: [0,1]\n",
      "\n",
      "   | Name        | Type             | Params\n",
      "--------------------------------------------------\n",
      "0  | model       | GAT              | 5.1 K \n",
      "1  | fnn_layer   | Linear           | 272   \n",
      "2  | selu        | SELU             | 0     \n",
      "3  | head        | Linear           | 34    \n",
      "4  | loss_module | CrossEntropyLoss | 0     \n",
      "5  | train_acc   | BinaryAccuracy   | 0     \n",
      "6  | train_auroc | BinaryAUROC      | 0     \n",
      "7  | train_f1    | BinaryF1Score    | 0     \n",
      "8  | valid_acc   | BinaryAccuracy   | 0     \n",
      "9  | valid_auroc | BinaryAUROC      | 0     \n",
      "10 | valid_f1    | BinaryF1Score    | 0     \n",
      "11 | test_acc    | BinaryAccuracy   | 0     \n",
      "12 | test_auroc  | BinaryAUROC      | 0     \n",
      "13 | test_f1     | BinaryF1Score    | 0     \n",
      "--------------------------------------------------\n",
      "5.4 K     Trainable params\n",
      "0         Non-trainable params\n",
      "5.4 K     Total params\n",
      "0.022     Total estimated model params size (MB)\n",
      "C:\\Users\\thu71\\AppData\\Roaming\\Python\\Python39\\site-packages\\lightning\\pytorch\\trainer\\connectors\\data_connector.py:478: PossibleUserWarning: Your `val_dataloader`'s sampler has shuffling enabled, it is strongly recommended that you turn shuffling off for val/test dataloaders.\n",
      "  rank_zero_warn(\n",
      "C:\\Users\\thu71\\AppData\\Roaming\\Python\\Python39\\site-packages\\lightning\\pytorch\\trainer\\connectors\\data_connector.py:430: PossibleUserWarning: The dataloader, val_dataloader, does not have many workers which may be a bottleneck. Consider increasing the value of the `num_workers` argument` (try 48 which is the number of cpus on this machine) in the `DataLoader` init to improve performance.\n",
      "  rank_zero_warn(\n",
      "C:\\Users\\thu71\\AppData\\Roaming\\Python\\Python39\\site-packages\\lightning\\pytorch\\trainer\\connectors\\data_connector.py:430: PossibleUserWarning: The dataloader, train_dataloader, does not have many workers which may be a bottleneck. Consider increasing the value of the `num_workers` argument` (try 48 which is the number of cpus on this machine) in the `DataLoader` init to improve performance.\n",
      "  rank_zero_warn(\n",
      "C:\\Users\\thu71\\AppData\\Roaming\\Python\\Python39\\site-packages\\lightning\\pytorch\\loops\\fit_loop.py:280: PossibleUserWarning: The number of training batches (4) is smaller than the logging interval Trainer(log_every_n_steps=10). Set a lower value for log_every_n_steps if you want to see logs for the training epoch.\n",
      "  rank_zero_warn(\n",
      "`Trainer.fit` stopped: `max_epochs=50` reached.\n",
      "LOCAL_RANK: 0 - CUDA_VISIBLE_DEVICES: [0,1]\n",
      "C:\\Users\\thu71\\AppData\\Roaming\\Python\\Python39\\site-packages\\lightning\\pytorch\\trainer\\connectors\\data_connector.py:478: PossibleUserWarning: Your `test_dataloader`'s sampler has shuffling enabled, it is strongly recommended that you turn shuffling off for val/test dataloaders.\n",
      "  rank_zero_warn(\n",
      "C:\\Users\\thu71\\AppData\\Roaming\\Python\\Python39\\site-packages\\lightning\\pytorch\\trainer\\connectors\\data_connector.py:430: PossibleUserWarning: The dataloader, test_dataloader, does not have many workers which may be a bottleneck. Consider increasing the value of the `num_workers` argument` (try 48 which is the number of cpus on this machine) in the `DataLoader` init to improve performance.\n",
      "  rank_zero_warn(\n"
     ]
    },
    {
     "name": "stdout",
     "output_type": "stream",
     "text": [
      "{'test_acc': tensor(0.5414), 'test_auc': tensor(0.8181), 'test_f1': tensor(0.3711)}\n"
     ]
    },
    {
     "data": {
      "text/html": [
       "Waiting for W&B process to finish... <strong style=\"color:green\">(success).</strong>"
      ],
      "text/plain": [
       "<IPython.core.display.HTML object>"
      ]
     },
     "metadata": {},
     "output_type": "display_data"
    },
    {
     "data": {
      "application/vnd.jupyter.widget-view+json": {
       "model_id": "aaed1da413d44e249985582b2ca49bbb",
       "version_major": 2,
       "version_minor": 0
      },
      "text/plain": [
       "VBox(children=(Label(value='0.001 MB of 0.001 MB uploaded (0.000 MB deduped)\\r'), FloatProgress(value=1.0, max…"
      ]
     },
     "metadata": {},
     "output_type": "display_data"
    },
    {
     "data": {
      "text/html": [
       "<style>\n",
       "    table.wandb td:nth-child(1) { padding: 0 10px; text-align: left ; width: auto;} td:nth-child(2) {text-align: left ; width: 100%}\n",
       "    .wandb-row { display: flex; flex-direction: row; flex-wrap: wrap; justify-content: flex-start; width: 100% }\n",
       "    .wandb-col { display: flex; flex-direction: column; flex-basis: 100%; flex: 1; padding: 10px; }\n",
       "    </style>\n",
       "<div class=\"wandb-row\"><div class=\"wandb-col\"><h3>Run history:</h3><br/><table class=\"wandb\"><tr><td>epoch</td><td>▁▁▁▂▂▂▂▂▂▃▃▃▃▃▄▄▄▄▄▄▅▅▅▅▅▅▆▆▆▆▆▆▇▇▇▇▇███</td></tr><tr><td>lr-Adam</td><td>▁▁▁▁▁▁▁▁▁▁▁▁▁▁▁▁▁▁▁▁▁▁▁▁▁▁▁▁▁▁▁▁▁▁▁▁▁▁▁▁</td></tr><tr><td>test_acc</td><td>▁</td></tr><tr><td>test_auc</td><td>▁</td></tr><tr><td>test_f1</td><td>▁</td></tr><tr><td>train_acc</td><td>▁▄▄▄▅▅▆▅▆▆▆▅▆▅▆▆▆▇▇▆▆▇▇▆▇▇▇▇▇▇▇▇█▇▇█████</td></tr><tr><td>train_auc</td><td>▁▄▄▅▅▆▆▆▆▆▆▆▆▇▇▇▇▇▇▇▇▇▇▇█▇▇▇█▇██████████</td></tr><tr><td>train_f1</td><td>▁▃▃▄▄▄▅▄▅▅▅▅▅▅▆▅▆▇▇▆▅▆▇▆▇▇▆▇▇▆▇▇█▇▇█▇███</td></tr><tr><td>train_loss_epoch</td><td>█▇▆▆▅▅▄▄▄▄▄▄▃▄▃▃▃▃▂▃▃▃▂▂▂▂▂▂▂▃▂▂▁▁▂▁▁▁▁▁</td></tr><tr><td>train_loss_step</td><td>██▇▄▆▆▅█▅▆▃▃▃▄▅▂▂▃▂▁</td></tr><tr><td>trainer/global_step</td><td>▁▁▁▂▁▁▂▂▁▃▃▃▂▃▄▄▂▄▄▂▂▅▅▂▅▅▆▂▆▆▆▂▇▇▇▃▇███</td></tr><tr><td>val_acc</td><td>▆███████▆█▆█▆▅▂▃▂▂▁▂▁▄▁▂▂▂▁▃▂▃▂▂▂▂▃▂▄▃▃▃</td></tr><tr><td>val_auc</td><td>▁▁▁▁▂▂▃▃▃▃▃▃▄▃▂▃▃▃▂▂▂▃▃▃▄▄▄▆▅▆▆▆▆▆█▇█▇▇▇</td></tr><tr><td>val_f1</td><td>▆███████▆▇▆▇▆▆▃▄▃▃▂▃▂▄▂▂▂▂▁▃▂▃▂▂▁▁▂▁▃▃▃▂</td></tr><tr><td>val_loss_epoch</td><td>▄▃▃▂▂▂▁▁▃▂▃▂▃▃▆▅▆▆▇▇█▆▇█▇██▆▇▆▆▆▇█▆█▅▆▆▆</td></tr><tr><td>val_loss_step</td><td>▄▃▃▂▂▂▁▁▃▂▃▂▃▃▆▅▆▆▇▇█▆▇█▇██▆▇▆▆▆▇█▆█▅▆▆▆</td></tr></table><br/></div><div class=\"wandb-col\"><h3>Run summary:</h3><br/><table class=\"wandb\"><tr><td>epoch</td><td>50</td></tr><tr><td>lr-Adam</td><td>0.005</td></tr><tr><td>test_acc</td><td>0.54135</td></tr><tr><td>test_auc</td><td>0.8181</td></tr><tr><td>test_f1</td><td>0.37113</td></tr><tr><td>train_acc</td><td>0.89879</td></tr><tr><td>train_auc</td><td>0.96482</td></tr><tr><td>train_f1</td><td>0.91228</td></tr><tr><td>train_loss_epoch</td><td>0.40883</td></tr><tr><td>train_loss_step</td><td>0.3878</td></tr><tr><td>trainer/global_step</td><td>200</td></tr><tr><td>val_acc</td><td>0.53226</td></tr><tr><td>val_auc</td><td>0.77081</td></tr><tr><td>val_f1</td><td>0.38298</td></tr><tr><td>val_loss_epoch</td><td>0.71651</td></tr><tr><td>val_loss_step</td><td>0.71651</td></tr></table><br/></div></div>"
      ],
      "text/plain": [
       "<IPython.core.display.HTML object>"
      ]
     },
     "metadata": {},
     "output_type": "display_data"
    },
    {
     "data": {
      "text/html": [
       " View run <strong style=\"color:#cdcd00\">GAT_2_16_0</strong> at: <a href='https://wandb.ai/thoomas/SF_030324_Covid_pos/runs/rqa4is1p' target=\"_blank\">https://wandb.ai/thoomas/SF_030324_Covid_pos/runs/rqa4is1p</a><br/>Synced 6 W&B file(s), 0 media file(s), 0 artifact file(s) and 0 other file(s)"
      ],
      "text/plain": [
       "<IPython.core.display.HTML object>"
      ]
     },
     "metadata": {},
     "output_type": "display_data"
    },
    {
     "data": {
      "text/html": [
       "Find logs at: <code>.\\wandb\\run-20240303_115050-rqa4is1p\\logs</code>"
      ],
      "text/plain": [
       "<IPython.core.display.HTML object>"
      ]
     },
     "metadata": {},
     "output_type": "display_data"
    },
    {
     "data": {
      "application/vnd.jupyter.widget-view+json": {
       "model_id": "537baa9f9dfe4d488d81a60a5a7db8aa",
       "version_major": 2,
       "version_minor": 0
      },
      "text/plain": [
       "VBox(children=(Label(value='Waiting for wandb.init()...\\r'), FloatProgress(value=0.01693333333338766, max=1.0)…"
      ]
     },
     "metadata": {},
     "output_type": "display_data"
    },
    {
     "data": {
      "text/html": [
       "wandb version 0.16.3 is available!  To upgrade, please run:\n",
       " $ pip install wandb --upgrade"
      ],
      "text/plain": [
       "<IPython.core.display.HTML object>"
      ]
     },
     "metadata": {},
     "output_type": "display_data"
    },
    {
     "data": {
      "text/html": [
       "Tracking run with wandb version 0.14.0"
      ],
      "text/plain": [
       "<IPython.core.display.HTML object>"
      ]
     },
     "metadata": {},
     "output_type": "display_data"
    },
    {
     "data": {
      "text/html": [
       "Run data is saved locally in <code>y:\\coskun-lab\\Thomas\\11_snowflakes\\notebooks\\wandb\\run-20240303_115617-7okgjgtv</code>"
      ],
      "text/plain": [
       "<IPython.core.display.HTML object>"
      ]
     },
     "metadata": {},
     "output_type": "display_data"
    },
    {
     "data": {
      "text/html": [
       "Syncing run <strong><a href='https://wandb.ai/thoomas/SF_030324_Covid_pos/runs/7okgjgtv' target=\"_blank\">GINConv_2_16_0</a></strong> to <a href='https://wandb.ai/thoomas/SF_030324_Covid_pos' target=\"_blank\">Weights & Biases</a> (<a href='https://wandb.me/run' target=\"_blank\">docs</a>)<br/>"
      ],
      "text/plain": [
       "<IPython.core.display.HTML object>"
      ]
     },
     "metadata": {},
     "output_type": "display_data"
    },
    {
     "data": {
      "text/html": [
       " View project at <a href='https://wandb.ai/thoomas/SF_030324_Covid_pos' target=\"_blank\">https://wandb.ai/thoomas/SF_030324_Covid_pos</a>"
      ],
      "text/plain": [
       "<IPython.core.display.HTML object>"
      ]
     },
     "metadata": {},
     "output_type": "display_data"
    },
    {
     "data": {
      "text/html": [
       " View run at <a href='https://wandb.ai/thoomas/SF_030324_Covid_pos/runs/7okgjgtv' target=\"_blank\">https://wandb.ai/thoomas/SF_030324_Covid_pos/runs/7okgjgtv</a>"
      ],
      "text/plain": [
       "<IPython.core.display.HTML object>"
      ]
     },
     "metadata": {},
     "output_type": "display_data"
    },
    {
     "name": "stderr",
     "output_type": "stream",
     "text": [
      "Global seed set to 42\n",
      "C:\\Users\\thu71\\AppData\\Roaming\\Python\\Python39\\site-packages\\lightning\\pytorch\\loggers\\wandb.py:395: UserWarning: There is a wandb run already in progress and newly created instances of `WandbLogger` will reuse this run. If this is not desired, call `wandb.finish()` before instantiating `WandbLogger`.\n",
      "  rank_zero_warn(\n",
      "GPU available: True (cuda), used: True\n",
      "TPU available: False, using: 0 TPU cores\n",
      "IPU available: False, using: 0 IPUs\n",
      "HPU available: False, using: 0 HPUs\n",
      "Global seed set to 42\n",
      "LOCAL_RANK: 0 - CUDA_VISIBLE_DEVICES: [0,1]\n",
      "\n",
      "   | Name        | Type             | Params\n",
      "--------------------------------------------------\n",
      "0  | model       | GIN              | 1.0 K \n",
      "1  | fnn_layer   | Linear           | 272   \n",
      "2  | selu        | SELU             | 0     \n",
      "3  | head        | Linear           | 34    \n",
      "4  | loss_module | CrossEntropyLoss | 0     \n",
      "5  | train_acc   | BinaryAccuracy   | 0     \n",
      "6  | train_auroc | BinaryAUROC      | 0     \n",
      "7  | train_f1    | BinaryF1Score    | 0     \n",
      "8  | valid_acc   | BinaryAccuracy   | 0     \n",
      "9  | valid_auroc | BinaryAUROC      | 0     \n",
      "10 | valid_f1    | BinaryF1Score    | 0     \n",
      "11 | test_acc    | BinaryAccuracy   | 0     \n",
      "12 | test_auroc  | BinaryAUROC      | 0     \n",
      "13 | test_f1     | BinaryF1Score    | 0     \n",
      "--------------------------------------------------\n",
      "1.3 K     Trainable params\n",
      "0         Non-trainable params\n",
      "1.3 K     Total params\n",
      "0.005     Total estimated model params size (MB)\n",
      "C:\\Users\\thu71\\AppData\\Roaming\\Python\\Python39\\site-packages\\lightning\\pytorch\\trainer\\connectors\\data_connector.py:478: PossibleUserWarning: Your `val_dataloader`'s sampler has shuffling enabled, it is strongly recommended that you turn shuffling off for val/test dataloaders.\n",
      "  rank_zero_warn(\n",
      "C:\\Users\\thu71\\AppData\\Roaming\\Python\\Python39\\site-packages\\lightning\\pytorch\\trainer\\connectors\\data_connector.py:430: PossibleUserWarning: The dataloader, val_dataloader, does not have many workers which may be a bottleneck. Consider increasing the value of the `num_workers` argument` (try 48 which is the number of cpus on this machine) in the `DataLoader` init to improve performance.\n",
      "  rank_zero_warn(\n",
      "C:\\Users\\thu71\\AppData\\Roaming\\Python\\Python39\\site-packages\\lightning\\pytorch\\trainer\\connectors\\data_connector.py:430: PossibleUserWarning: The dataloader, train_dataloader, does not have many workers which may be a bottleneck. Consider increasing the value of the `num_workers` argument` (try 48 which is the number of cpus on this machine) in the `DataLoader` init to improve performance.\n",
      "  rank_zero_warn(\n",
      "C:\\Users\\thu71\\AppData\\Roaming\\Python\\Python39\\site-packages\\lightning\\pytorch\\loops\\fit_loop.py:280: PossibleUserWarning: The number of training batches (2) is smaller than the logging interval Trainer(log_every_n_steps=10). Set a lower value for log_every_n_steps if you want to see logs for the training epoch.\n",
      "  rank_zero_warn(\n",
      "`Trainer.fit` stopped: `max_epochs=50` reached.\n",
      "LOCAL_RANK: 0 - CUDA_VISIBLE_DEVICES: [0,1]\n",
      "C:\\Users\\thu71\\AppData\\Roaming\\Python\\Python39\\site-packages\\lightning\\pytorch\\trainer\\connectors\\data_connector.py:478: PossibleUserWarning: Your `test_dataloader`'s sampler has shuffling enabled, it is strongly recommended that you turn shuffling off for val/test dataloaders.\n",
      "  rank_zero_warn(\n",
      "C:\\Users\\thu71\\AppData\\Roaming\\Python\\Python39\\site-packages\\lightning\\pytorch\\trainer\\connectors\\data_connector.py:430: PossibleUserWarning: The dataloader, test_dataloader, does not have many workers which may be a bottleneck. Consider increasing the value of the `num_workers` argument` (try 48 which is the number of cpus on this machine) in the `DataLoader` init to improve performance.\n",
      "  rank_zero_warn(\n"
     ]
    },
    {
     "name": "stdout",
     "output_type": "stream",
     "text": [
      "{'test_acc': tensor(0.7293), 'test_auc': tensor(0.8733), 'test_f1': tensor(0.7931)}\n"
     ]
    },
    {
     "data": {
      "text/html": [
       "Waiting for W&B process to finish... <strong style=\"color:green\">(success).</strong>"
      ],
      "text/plain": [
       "<IPython.core.display.HTML object>"
      ]
     },
     "metadata": {},
     "output_type": "display_data"
    },
    {
     "data": {
      "application/vnd.jupyter.widget-view+json": {
       "model_id": "ebfd8a5c9b3e4ea2b0fadf796a632fd3",
       "version_major": 2,
       "version_minor": 0
      },
      "text/plain": [
       "VBox(children=(Label(value='0.001 MB of 0.001 MB uploaded (0.000 MB deduped)\\r'), FloatProgress(value=1.0, max…"
      ]
     },
     "metadata": {},
     "output_type": "display_data"
    },
    {
     "data": {
      "text/html": [
       "<style>\n",
       "    table.wandb td:nth-child(1) { padding: 0 10px; text-align: left ; width: auto;} td:nth-child(2) {text-align: left ; width: 100%}\n",
       "    .wandb-row { display: flex; flex-direction: row; flex-wrap: wrap; justify-content: flex-start; width: 100% }\n",
       "    .wandb-col { display: flex; flex-direction: column; flex-basis: 100%; flex: 1; padding: 10px; }\n",
       "    </style>\n",
       "<div class=\"wandb-row\"><div class=\"wandb-col\"><h3>Run history:</h3><br/><table class=\"wandb\"><tr><td>epoch</td><td>▁▁▁▂▂▂▂▂▂▃▃▃▃▃▄▄▄▄▄▄▅▅▅▅▅▅▆▆▆▆▆▆▇▇▇▇▇███</td></tr><tr><td>lr-Adam</td><td>▁▁▁▁▁▁▁▁▁▁▁▁▁▁▁▁▁▁▁▁▁▁▁▁▁▁▁▁▁▁▁▁▁▁▁▁▁▁▁▁</td></tr><tr><td>test_acc</td><td>▁</td></tr><tr><td>test_auc</td><td>▁</td></tr><tr><td>test_f1</td><td>▁</td></tr><tr><td>train_acc</td><td>▁▄▅▅▅▆▆▆▆▆▆▆▆▇▇▇▇▇▇▇▇▇▇▇▇▇▇███▇██▇▇▇████</td></tr><tr><td>train_auc</td><td>▁▄▅▆▆▆▆▆▇▇▇▆▇▇▇▇▇▇▇▇▇▇▇▇▇▇▇▇██▇██▇██████</td></tr><tr><td>train_f1</td><td>▁▅▅▆▅▆▆▆▆▆▆▅▆▇▇▇▇▇▇▆█▇▇▇▇▇▇██████▇▇▇████</td></tr><tr><td>train_loss_epoch</td><td>█▆▅▄▄▄▄▃▃▃▃▃▃▂▃▂▃▂▂▃▂▂▂▂▂▂▂▁▁▁▂▁▁▂▂▂▁▁▁▁</td></tr><tr><td>train_loss_step</td><td>█▇▄▄▅▃▄▃▄▁</td></tr><tr><td>trainer/global_step</td><td>▁▁▁▂▂▂▂▂▂▃▃▃▃▃▄▂▂▄▃▄▅▅▅▃▅▅▃▆▆▆▆▄▇▄▄▇████</td></tr><tr><td>val_acc</td><td>▂▃▄▃▃▃▁▃▄▂▃▃▄▄▅▆▆▅▆▆▆█▇▇▆▅▆▆▆▄▃▆▄▅▆▆▅▆▆█</td></tr><tr><td>val_auc</td><td>▁▂▃▃▃▅▅▅▅▆▆▆▇▆▆▆▆▆▅▅▆▆▆▆▆▆▅▆▇▇▆▆▅▅▅▅▆▆▇█</td></tr><tr><td>val_f1</td><td>▁▁▄▃▂▂▂▃▄▃▄▅▆▅▅▅▆▅▅▅▅▆▅▅▄▃▄▄▅▃▂▅▂▃▅▄▃▃▅█</td></tr><tr><td>val_loss_epoch</td><td>██▆▅▆▅▄▅▄▄▄▄▄▄▃▃▃▃▃▄▃▃▂▂▃▃▄▃▂▂▃▃▃▃▄▄▃▂▁▁</td></tr><tr><td>val_loss_step</td><td>██▆▅▆▅▄▅▄▄▄▄▄▄▃▃▃▃▃▄▃▃▂▂▃▃▄▃▂▂▃▃▃▃▄▄▃▂▁▁</td></tr></table><br/></div><div class=\"wandb-col\"><h3>Run summary:</h3><br/><table class=\"wandb\"><tr><td>epoch</td><td>50</td></tr><tr><td>lr-Adam</td><td>0.005</td></tr><tr><td>test_acc</td><td>0.72932</td></tr><tr><td>test_auc</td><td>0.87327</td></tr><tr><td>test_f1</td><td>0.7931</td></tr><tr><td>train_acc</td><td>0.89474</td></tr><tr><td>train_auc</td><td>0.96415</td></tr><tr><td>train_f1</td><td>0.91156</td></tr><tr><td>train_loss_epoch</td><td>0.41656</td></tr><tr><td>train_loss_step</td><td>0.38768</td></tr><tr><td>trainer/global_step</td><td>100</td></tr><tr><td>val_acc</td><td>0.74194</td></tr><tr><td>val_auc</td><td>0.82378</td></tr><tr><td>val_f1</td><td>0.81395</td></tr><tr><td>val_loss_epoch</td><td>0.56374</td></tr><tr><td>val_loss_step</td><td>0.56374</td></tr></table><br/></div></div>"
      ],
      "text/plain": [
       "<IPython.core.display.HTML object>"
      ]
     },
     "metadata": {},
     "output_type": "display_data"
    },
    {
     "data": {
      "text/html": [
       " View run <strong style=\"color:#cdcd00\">GINConv_2_16_0</strong> at: <a href='https://wandb.ai/thoomas/SF_030324_Covid_pos/runs/7okgjgtv' target=\"_blank\">https://wandb.ai/thoomas/SF_030324_Covid_pos/runs/7okgjgtv</a><br/>Synced 6 W&B file(s), 0 media file(s), 0 artifact file(s) and 0 other file(s)"
      ],
      "text/plain": [
       "<IPython.core.display.HTML object>"
      ]
     },
     "metadata": {},
     "output_type": "display_data"
    },
    {
     "data": {
      "text/html": [
       "Find logs at: <code>.\\wandb\\run-20240303_115617-7okgjgtv\\logs</code>"
      ],
      "text/plain": [
       "<IPython.core.display.HTML object>"
      ]
     },
     "metadata": {},
     "output_type": "display_data"
    },
    {
     "data": {
      "application/vnd.jupyter.widget-view+json": {
       "model_id": "55ec9a649b84414c9b04f15a99b45df6",
       "version_major": 2,
       "version_minor": 0
      },
      "text/plain": [
       "VBox(children=(Label(value='Waiting for wandb.init()...\\r'), FloatProgress(value=0.01691666666592937, max=1.0)…"
      ]
     },
     "metadata": {},
     "output_type": "display_data"
    },
    {
     "data": {
      "text/html": [
       "wandb version 0.16.3 is available!  To upgrade, please run:\n",
       " $ pip install wandb --upgrade"
      ],
      "text/plain": [
       "<IPython.core.display.HTML object>"
      ]
     },
     "metadata": {},
     "output_type": "display_data"
    },
    {
     "data": {
      "text/html": [
       "Tracking run with wandb version 0.14.0"
      ],
      "text/plain": [
       "<IPython.core.display.HTML object>"
      ]
     },
     "metadata": {},
     "output_type": "display_data"
    },
    {
     "data": {
      "text/html": [
       "Run data is saved locally in <code>y:\\coskun-lab\\Thomas\\11_snowflakes\\notebooks\\wandb\\run-20240303_120125-ikx5pc62</code>"
      ],
      "text/plain": [
       "<IPython.core.display.HTML object>"
      ]
     },
     "metadata": {},
     "output_type": "display_data"
    },
    {
     "data": {
      "text/html": [
       "Syncing run <strong><a href='https://wandb.ai/thoomas/SF_030324_Covid_pos/runs/ikx5pc62' target=\"_blank\">GAT_2_16_0</a></strong> to <a href='https://wandb.ai/thoomas/SF_030324_Covid_pos' target=\"_blank\">Weights & Biases</a> (<a href='https://wandb.me/run' target=\"_blank\">docs</a>)<br/>"
      ],
      "text/plain": [
       "<IPython.core.display.HTML object>"
      ]
     },
     "metadata": {},
     "output_type": "display_data"
    },
    {
     "data": {
      "text/html": [
       " View project at <a href='https://wandb.ai/thoomas/SF_030324_Covid_pos' target=\"_blank\">https://wandb.ai/thoomas/SF_030324_Covid_pos</a>"
      ],
      "text/plain": [
       "<IPython.core.display.HTML object>"
      ]
     },
     "metadata": {},
     "output_type": "display_data"
    },
    {
     "data": {
      "text/html": [
       " View run at <a href='https://wandb.ai/thoomas/SF_030324_Covid_pos/runs/ikx5pc62' target=\"_blank\">https://wandb.ai/thoomas/SF_030324_Covid_pos/runs/ikx5pc62</a>"
      ],
      "text/plain": [
       "<IPython.core.display.HTML object>"
      ]
     },
     "metadata": {},
     "output_type": "display_data"
    },
    {
     "name": "stderr",
     "output_type": "stream",
     "text": [
      "Global seed set to 42\n",
      "C:\\Users\\thu71\\AppData\\Roaming\\Python\\Python39\\site-packages\\lightning\\pytorch\\loggers\\wandb.py:395: UserWarning: There is a wandb run already in progress and newly created instances of `WandbLogger` will reuse this run. If this is not desired, call `wandb.finish()` before instantiating `WandbLogger`.\n",
      "  rank_zero_warn(\n",
      "GPU available: True (cuda), used: True\n",
      "TPU available: False, using: 0 TPU cores\n",
      "IPU available: False, using: 0 IPUs\n",
      "HPU available: False, using: 0 HPUs\n",
      "Global seed set to 42\n",
      "c:\\Users\\thu71\\Anaconda3\\envs\\snowflake\\lib\\site-packages\\torch_geometric\\deprecation.py:12: UserWarning: 'nn.glob.GlobalAttention' is deprecated, use 'nn.aggr.AttentionalAggregation' instead\n",
      "  warnings.warn(out)\n",
      "LOCAL_RANK: 0 - CUDA_VISIBLE_DEVICES: [0,1]\n",
      "\n",
      "   | Name        | Type             | Params\n",
      "--------------------------------------------------\n",
      "0  | model       | GAT              | 5.1 K \n",
      "1  | fnn_layer   | Linear           | 272   \n",
      "2  | selu        | SELU             | 0     \n",
      "3  | head        | Linear           | 34    \n",
      "4  | loss_module | CrossEntropyLoss | 0     \n",
      "5  | train_acc   | BinaryAccuracy   | 0     \n",
      "6  | train_auroc | BinaryAUROC      | 0     \n",
      "7  | train_f1    | BinaryF1Score    | 0     \n",
      "8  | valid_acc   | BinaryAccuracy   | 0     \n",
      "9  | valid_auroc | BinaryAUROC      | 0     \n",
      "10 | valid_f1    | BinaryF1Score    | 0     \n",
      "11 | test_acc    | BinaryAccuracy   | 0     \n",
      "12 | test_auroc  | BinaryAUROC      | 0     \n",
      "13 | test_f1     | BinaryF1Score    | 0     \n",
      "14 | pool        | GlobalAttention  | 17    \n",
      "--------------------------------------------------\n",
      "5.4 K     Trainable params\n",
      "0         Non-trainable params\n",
      "5.4 K     Total params\n",
      "0.022     Total estimated model params size (MB)\n",
      "C:\\Users\\thu71\\AppData\\Roaming\\Python\\Python39\\site-packages\\lightning\\pytorch\\trainer\\connectors\\data_connector.py:478: PossibleUserWarning: Your `val_dataloader`'s sampler has shuffling enabled, it is strongly recommended that you turn shuffling off for val/test dataloaders.\n",
      "  rank_zero_warn(\n",
      "C:\\Users\\thu71\\AppData\\Roaming\\Python\\Python39\\site-packages\\lightning\\pytorch\\trainer\\connectors\\data_connector.py:430: PossibleUserWarning: The dataloader, val_dataloader, does not have many workers which may be a bottleneck. Consider increasing the value of the `num_workers` argument` (try 48 which is the number of cpus on this machine) in the `DataLoader` init to improve performance.\n",
      "  rank_zero_warn(\n",
      "C:\\Users\\thu71\\AppData\\Roaming\\Python\\Python39\\site-packages\\lightning\\pytorch\\trainer\\connectors\\data_connector.py:430: PossibleUserWarning: The dataloader, train_dataloader, does not have many workers which may be a bottleneck. Consider increasing the value of the `num_workers` argument` (try 48 which is the number of cpus on this machine) in the `DataLoader` init to improve performance.\n",
      "  rank_zero_warn(\n",
      "C:\\Users\\thu71\\AppData\\Roaming\\Python\\Python39\\site-packages\\lightning\\pytorch\\loops\\fit_loop.py:280: PossibleUserWarning: The number of training batches (4) is smaller than the logging interval Trainer(log_every_n_steps=10). Set a lower value for log_every_n_steps if you want to see logs for the training epoch.\n",
      "  rank_zero_warn(\n",
      "`Trainer.fit` stopped: `max_epochs=50` reached.\n",
      "LOCAL_RANK: 0 - CUDA_VISIBLE_DEVICES: [0,1]\n",
      "C:\\Users\\thu71\\AppData\\Roaming\\Python\\Python39\\site-packages\\lightning\\pytorch\\trainer\\connectors\\data_connector.py:478: PossibleUserWarning: Your `test_dataloader`'s sampler has shuffling enabled, it is strongly recommended that you turn shuffling off for val/test dataloaders.\n",
      "  rank_zero_warn(\n",
      "C:\\Users\\thu71\\AppData\\Roaming\\Python\\Python39\\site-packages\\lightning\\pytorch\\trainer\\connectors\\data_connector.py:430: PossibleUserWarning: The dataloader, test_dataloader, does not have many workers which may be a bottleneck. Consider increasing the value of the `num_workers` argument` (try 48 which is the number of cpus on this machine) in the `DataLoader` init to improve performance.\n",
      "  rank_zero_warn(\n"
     ]
    },
    {
     "name": "stdout",
     "output_type": "stream",
     "text": [
      "{'test_acc': tensor(0.7669), 'test_auc': tensor(0.8793), 'test_f1': tensor(0.7801)}\n"
     ]
    },
    {
     "data": {
      "text/html": [
       "Waiting for W&B process to finish... <strong style=\"color:green\">(success).</strong>"
      ],
      "text/plain": [
       "<IPython.core.display.HTML object>"
      ]
     },
     "metadata": {},
     "output_type": "display_data"
    },
    {
     "data": {
      "text/html": [
       "<style>\n",
       "    table.wandb td:nth-child(1) { padding: 0 10px; text-align: left ; width: auto;} td:nth-child(2) {text-align: left ; width: 100%}\n",
       "    .wandb-row { display: flex; flex-direction: row; flex-wrap: wrap; justify-content: flex-start; width: 100% }\n",
       "    .wandb-col { display: flex; flex-direction: column; flex-basis: 100%; flex: 1; padding: 10px; }\n",
       "    </style>\n",
       "<div class=\"wandb-row\"><div class=\"wandb-col\"><h3>Run history:</h3><br/><table class=\"wandb\"><tr><td>epoch</td><td>▁▁▁▂▂▂▂▂▂▃▃▃▃▃▄▄▄▄▄▄▅▅▅▅▅▅▆▆▆▆▆▆▇▇▇▇▇███</td></tr><tr><td>lr-Adam</td><td>▁▁▁▁▁▁▁▁▁▁▁▁▁▁▁▁▁▁▁▁▁▁▁▁▁▁▁▁▁▁▁▁▁▁▁▁▁▁▁▁</td></tr><tr><td>test_acc</td><td>▁</td></tr><tr><td>test_auc</td><td>▁</td></tr><tr><td>test_f1</td><td>▁</td></tr><tr><td>train_acc</td><td>▁▂▄▅▄▄▅▄▅▅▅▅▅▆▆▆▆▆▆▆▇▆▇▇▇▇▇▇▇██▇█▇█▇████</td></tr><tr><td>train_auc</td><td>▁▃▄▄▄▅▅▅▅▅▅▅▅▆▅▅▆▆▆▆▆▆▇▇▇▇▇▇█████▇██████</td></tr><tr><td>train_f1</td><td>▁▂▃▄▄▄▄▄▅▄▅▅▅▆▅▆▆▆▆▆▆▆▇▇▇▇▇▇▇██▇█▇█▇████</td></tr><tr><td>train_loss_epoch</td><td>█▇▆▆▆▅▅▅▄▅▄▄▅▄▄▄▃▃▃▃▃▃▃▂▂▃▂▂▂▂▁▂▁▂▂▂▁▁▁▁</td></tr><tr><td>train_loss_step</td><td>▇██▄▅▅▅▄▄▅▂▂▄▁▃▂▃▃▂▁</td></tr><tr><td>trainer/global_step</td><td>▁▁▁▂▁▁▂▂▁▃▃▃▂▃▄▄▂▄▄▂▂▅▅▂▅▅▆▂▆▆▆▂▇▇▇▃▇███</td></tr><tr><td>val_acc</td><td>▂▁▁▃▃▃▂▂▂▃▃▃▃▂▂▃▃▃▂▃▃▄▄▄▄▃▄▄▇▄▆▅▆▅▆▅▅▆█▆</td></tr><tr><td>val_auc</td><td>▁▁▁▁▂▂▂▂▂▂▂▂▃▃▃▃▃▄▄▄▄▅▅▆▆▆▆▆▇▇▇▇███▇▇▇██</td></tr><tr><td>val_f1</td><td>▃▁▁▄▄▄▃▃▂▃▄▃▄▂▂▄▃▃▂▃▃▄▃▃▄▃▄▄▆▂▆▃▆▃▆▃▃▆█▆</td></tr><tr><td>val_loss_epoch</td><td>██▇▇▇▇▇▇▇▇▆▆▆▇▆▆▆▅▆▅▅▄▅▅▄▅▄▄▂▄▂▄▂▄▂▄▃▂▁▂</td></tr><tr><td>val_loss_step</td><td>██▇▇▇▇▇▇▇▇▆▆▆▇▆▆▆▅▆▅▅▄▅▅▄▅▄▄▂▄▂▄▂▄▂▄▃▂▁▂</td></tr></table><br/></div><div class=\"wandb-col\"><h3>Run summary:</h3><br/><table class=\"wandb\"><tr><td>epoch</td><td>50</td></tr><tr><td>lr-Adam</td><td>0.005</td></tr><tr><td>test_acc</td><td>0.76692</td></tr><tr><td>test_auc</td><td>0.87927</td></tr><tr><td>test_f1</td><td>0.78014</td></tr><tr><td>train_acc</td><td>0.91498</td></tr><tr><td>train_auc</td><td>0.96188</td></tr><tr><td>train_f1</td><td>0.92527</td></tr><tr><td>train_loss_epoch</td><td>0.39871</td></tr><tr><td>train_loss_step</td><td>0.3941</td></tr><tr><td>trainer/global_step</td><td>200</td></tr><tr><td>val_acc</td><td>0.82258</td></tr><tr><td>val_auc</td><td>0.94054</td></tr><tr><td>val_f1</td><td>0.84058</td></tr><tr><td>val_loss_epoch</td><td>0.46505</td></tr><tr><td>val_loss_step</td><td>0.46505</td></tr></table><br/></div></div>"
      ],
      "text/plain": [
       "<IPython.core.display.HTML object>"
      ]
     },
     "metadata": {},
     "output_type": "display_data"
    },
    {
     "data": {
      "text/html": [
       " View run <strong style=\"color:#cdcd00\">GAT_2_16_0</strong> at: <a href='https://wandb.ai/thoomas/SF_030324_Covid_pos/runs/ikx5pc62' target=\"_blank\">https://wandb.ai/thoomas/SF_030324_Covid_pos/runs/ikx5pc62</a><br/>Synced 6 W&B file(s), 0 media file(s), 0 artifact file(s) and 0 other file(s)"
      ],
      "text/plain": [
       "<IPython.core.display.HTML object>"
      ]
     },
     "metadata": {},
     "output_type": "display_data"
    },
    {
     "data": {
      "text/html": [
       "Find logs at: <code>.\\wandb\\run-20240303_120125-ikx5pc62\\logs</code>"
      ],
      "text/plain": [
       "<IPython.core.display.HTML object>"
      ]
     },
     "metadata": {},
     "output_type": "display_data"
    },
    {
     "data": {
      "application/vnd.jupyter.widget-view+json": {
       "model_id": "9e479546416c4d86adb3c65ba718f685",
       "version_major": 2,
       "version_minor": 0
      },
      "text/plain": [
       "VBox(children=(Label(value='Waiting for wandb.init()...\\r'), FloatProgress(value=0.01693333333338766, max=1.0)…"
      ]
     },
     "metadata": {},
     "output_type": "display_data"
    },
    {
     "data": {
      "text/html": [
       "wandb version 0.16.3 is available!  To upgrade, please run:\n",
       " $ pip install wandb --upgrade"
      ],
      "text/plain": [
       "<IPython.core.display.HTML object>"
      ]
     },
     "metadata": {},
     "output_type": "display_data"
    },
    {
     "data": {
      "text/html": [
       "Tracking run with wandb version 0.14.0"
      ],
      "text/plain": [
       "<IPython.core.display.HTML object>"
      ]
     },
     "metadata": {},
     "output_type": "display_data"
    },
    {
     "data": {
      "text/html": [
       "Run data is saved locally in <code>y:\\coskun-lab\\Thomas\\11_snowflakes\\notebooks\\wandb\\run-20240303_120655-02t3gps5</code>"
      ],
      "text/plain": [
       "<IPython.core.display.HTML object>"
      ]
     },
     "metadata": {},
     "output_type": "display_data"
    },
    {
     "data": {
      "text/html": [
       "Syncing run <strong><a href='https://wandb.ai/thoomas/SF_030324_Covid_pos/runs/02t3gps5' target=\"_blank\">GINConv_2_16_0</a></strong> to <a href='https://wandb.ai/thoomas/SF_030324_Covid_pos' target=\"_blank\">Weights & Biases</a> (<a href='https://wandb.me/run' target=\"_blank\">docs</a>)<br/>"
      ],
      "text/plain": [
       "<IPython.core.display.HTML object>"
      ]
     },
     "metadata": {},
     "output_type": "display_data"
    },
    {
     "data": {
      "text/html": [
       " View project at <a href='https://wandb.ai/thoomas/SF_030324_Covid_pos' target=\"_blank\">https://wandb.ai/thoomas/SF_030324_Covid_pos</a>"
      ],
      "text/plain": [
       "<IPython.core.display.HTML object>"
      ]
     },
     "metadata": {},
     "output_type": "display_data"
    },
    {
     "data": {
      "text/html": [
       " View run at <a href='https://wandb.ai/thoomas/SF_030324_Covid_pos/runs/02t3gps5' target=\"_blank\">https://wandb.ai/thoomas/SF_030324_Covid_pos/runs/02t3gps5</a>"
      ],
      "text/plain": [
       "<IPython.core.display.HTML object>"
      ]
     },
     "metadata": {},
     "output_type": "display_data"
    },
    {
     "name": "stderr",
     "output_type": "stream",
     "text": [
      "Global seed set to 42\n",
      "C:\\Users\\thu71\\AppData\\Roaming\\Python\\Python39\\site-packages\\lightning\\pytorch\\loggers\\wandb.py:395: UserWarning: There is a wandb run already in progress and newly created instances of `WandbLogger` will reuse this run. If this is not desired, call `wandb.finish()` before instantiating `WandbLogger`.\n",
      "  rank_zero_warn(\n",
      "GPU available: True (cuda), used: True\n",
      "TPU available: False, using: 0 TPU cores\n",
      "IPU available: False, using: 0 IPUs\n",
      "HPU available: False, using: 0 HPUs\n",
      "Global seed set to 42\n",
      "c:\\Users\\thu71\\Anaconda3\\envs\\snowflake\\lib\\site-packages\\torch_geometric\\deprecation.py:12: UserWarning: 'nn.glob.GlobalAttention' is deprecated, use 'nn.aggr.AttentionalAggregation' instead\n",
      "  warnings.warn(out)\n",
      "LOCAL_RANK: 0 - CUDA_VISIBLE_DEVICES: [0,1]\n",
      "\n",
      "   | Name        | Type             | Params\n",
      "--------------------------------------------------\n",
      "0  | model       | GIN              | 1.0 K \n",
      "1  | fnn_layer   | Linear           | 272   \n",
      "2  | selu        | SELU             | 0     \n",
      "3  | head        | Linear           | 34    \n",
      "4  | loss_module | CrossEntropyLoss | 0     \n",
      "5  | train_acc   | BinaryAccuracy   | 0     \n",
      "6  | train_auroc | BinaryAUROC      | 0     \n",
      "7  | train_f1    | BinaryF1Score    | 0     \n",
      "8  | valid_acc   | BinaryAccuracy   | 0     \n",
      "9  | valid_auroc | BinaryAUROC      | 0     \n",
      "10 | valid_f1    | BinaryF1Score    | 0     \n",
      "11 | test_acc    | BinaryAccuracy   | 0     \n",
      "12 | test_auroc  | BinaryAUROC      | 0     \n",
      "13 | test_f1     | BinaryF1Score    | 0     \n",
      "14 | pool        | GlobalAttention  | 17    \n",
      "--------------------------------------------------\n",
      "1.3 K     Trainable params\n",
      "0         Non-trainable params\n",
      "1.3 K     Total params\n",
      "0.005     Total estimated model params size (MB)\n",
      "C:\\Users\\thu71\\AppData\\Roaming\\Python\\Python39\\site-packages\\lightning\\pytorch\\trainer\\connectors\\data_connector.py:478: PossibleUserWarning: Your `val_dataloader`'s sampler has shuffling enabled, it is strongly recommended that you turn shuffling off for val/test dataloaders.\n",
      "  rank_zero_warn(\n",
      "C:\\Users\\thu71\\AppData\\Roaming\\Python\\Python39\\site-packages\\lightning\\pytorch\\trainer\\connectors\\data_connector.py:430: PossibleUserWarning: The dataloader, val_dataloader, does not have many workers which may be a bottleneck. Consider increasing the value of the `num_workers` argument` (try 48 which is the number of cpus on this machine) in the `DataLoader` init to improve performance.\n",
      "  rank_zero_warn(\n",
      "C:\\Users\\thu71\\AppData\\Roaming\\Python\\Python39\\site-packages\\lightning\\pytorch\\trainer\\connectors\\data_connector.py:430: PossibleUserWarning: The dataloader, train_dataloader, does not have many workers which may be a bottleneck. Consider increasing the value of the `num_workers` argument` (try 48 which is the number of cpus on this machine) in the `DataLoader` init to improve performance.\n",
      "  rank_zero_warn(\n",
      "C:\\Users\\thu71\\AppData\\Roaming\\Python\\Python39\\site-packages\\lightning\\pytorch\\loops\\fit_loop.py:280: PossibleUserWarning: The number of training batches (2) is smaller than the logging interval Trainer(log_every_n_steps=10). Set a lower value for log_every_n_steps if you want to see logs for the training epoch.\n",
      "  rank_zero_warn(\n",
      "`Trainer.fit` stopped: `max_epochs=50` reached.\n",
      "LOCAL_RANK: 0 - CUDA_VISIBLE_DEVICES: [0,1]\n",
      "C:\\Users\\thu71\\AppData\\Roaming\\Python\\Python39\\site-packages\\lightning\\pytorch\\trainer\\connectors\\data_connector.py:478: PossibleUserWarning: Your `test_dataloader`'s sampler has shuffling enabled, it is strongly recommended that you turn shuffling off for val/test dataloaders.\n",
      "  rank_zero_warn(\n",
      "C:\\Users\\thu71\\AppData\\Roaming\\Python\\Python39\\site-packages\\lightning\\pytorch\\trainer\\connectors\\data_connector.py:430: PossibleUserWarning: The dataloader, test_dataloader, does not have many workers which may be a bottleneck. Consider increasing the value of the `num_workers` argument` (try 48 which is the number of cpus on this machine) in the `DataLoader` init to improve performance.\n",
      "  rank_zero_warn(\n"
     ]
    },
    {
     "name": "stdout",
     "output_type": "stream",
     "text": [
      "{'test_acc': tensor(0.8346), 'test_auc': tensor(0.9111), 'test_f1': tensor(0.8590)}\n"
     ]
    },
    {
     "data": {
      "text/html": [
       "Waiting for W&B process to finish... <strong style=\"color:green\">(success).</strong>"
      ],
      "text/plain": [
       "<IPython.core.display.HTML object>"
      ]
     },
     "metadata": {},
     "output_type": "display_data"
    },
    {
     "data": {
      "application/vnd.jupyter.widget-view+json": {
       "model_id": "faec77f3bb17459d8eaaddd4a429cf13",
       "version_major": 2,
       "version_minor": 0
      },
      "text/plain": [
       "VBox(children=(Label(value='0.001 MB of 0.001 MB uploaded (0.000 MB deduped)\\r'), FloatProgress(value=1.0, max…"
      ]
     },
     "metadata": {},
     "output_type": "display_data"
    },
    {
     "data": {
      "text/html": [
       "<style>\n",
       "    table.wandb td:nth-child(1) { padding: 0 10px; text-align: left ; width: auto;} td:nth-child(2) {text-align: left ; width: 100%}\n",
       "    .wandb-row { display: flex; flex-direction: row; flex-wrap: wrap; justify-content: flex-start; width: 100% }\n",
       "    .wandb-col { display: flex; flex-direction: column; flex-basis: 100%; flex: 1; padding: 10px; }\n",
       "    </style>\n",
       "<div class=\"wandb-row\"><div class=\"wandb-col\"><h3>Run history:</h3><br/><table class=\"wandb\"><tr><td>epoch</td><td>▁▁▁▂▂▂▂▂▂▃▃▃▃▃▄▄▄▄▄▄▅▅▅▅▅▅▆▆▆▆▆▆▇▇▇▇▇███</td></tr><tr><td>lr-Adam</td><td>▁▁▁▁▁▁▁▁▁▁▁▁▁▁▁▁▁▁▁▁▁▁▁▁▁▁▁▁▁▁▁▁▁▁▁▁▁▁▁▁</td></tr><tr><td>test_acc</td><td>▁</td></tr><tr><td>test_auc</td><td>▁</td></tr><tr><td>test_f1</td><td>▁</td></tr><tr><td>train_acc</td><td>▁▂▂▄▅▅▅▆▆▆▆▇▇▇▇▇▇▇▇▇▇▇█▇▇▇▇▇▇██▇▇▇▇█████</td></tr><tr><td>train_auc</td><td>▁▃▄▄▅▆▆▆▆▇▇▇▇▇▇▇▇▇▇█▇█▇▇████████████████</td></tr><tr><td>train_f1</td><td>▁▅▅▅▆▆▆▆▇▇▇▇▇▇▇▇▇▇▇▇█▇█▇██▇▇▇███▇█▇█████</td></tr><tr><td>train_loss_epoch</td><td>█▇▇▇▅▅▄▄▄▃▃▃▂▂▂▃▂▂▂▂▂▂▂▂▂▂▂▂▂▁▁▂▂▂▂▁▁▁▁▁</td></tr><tr><td>train_loss_step</td><td>█▅▄▃▄▁▁▂▁▁</td></tr><tr><td>trainer/global_step</td><td>▁▁▁▂▂▂▂▂▂▃▃▃▃▃▄▂▂▄▃▄▅▅▅▃▅▅▃▆▆▆▆▄▇▄▄▇████</td></tr><tr><td>val_acc</td><td>▁▃▇▇█▇█▇▆█▆▅▇▆▆▅▆▅▅▆▆▆▅▆▆▆▅▆▅▆▆▆██▇▆▇▆▇▇</td></tr><tr><td>val_auc</td><td>▁▃▂▂▄▅▅▅▅▆▆▆▇▇▇▆▇▆▇▇▇▇▆▆▇▇▇▆▅▆▇█▇▇█▇▇██▇</td></tr><tr><td>val_f1</td><td>▃▄▇▇█▇█▇▅▇▅▃▅▃▃▁▃▂▂▂▃▄▂▃▃▂▂▃▂▃▂▄▅▅▄▄▄▃▄▅</td></tr><tr><td>val_loss_epoch</td><td>█▇▇▆▄▃▃▃▂▂▂▂▂▂▃▄▃▄▃▃▃▃▄▃▄▃▃▄▄▃▃▂▂▂▂▂▂▁▁▃</td></tr><tr><td>val_loss_step</td><td>█▇▇▆▄▃▃▃▂▂▂▂▂▂▃▄▃▄▃▃▃▃▄▃▄▃▃▄▄▃▃▂▂▂▂▂▂▁▁▃</td></tr></table><br/></div><div class=\"wandb-col\"><h3>Run summary:</h3><br/><table class=\"wandb\"><tr><td>epoch</td><td>50</td></tr><tr><td>lr-Adam</td><td>0.005</td></tr><tr><td>test_acc</td><td>0.83459</td></tr><tr><td>test_auc</td><td>0.91113</td></tr><tr><td>test_f1</td><td>0.85897</td></tr><tr><td>train_acc</td><td>0.94737</td></tr><tr><td>train_auc</td><td>0.9717</td></tr><tr><td>train_f1</td><td>0.95341</td></tr><tr><td>train_loss_epoch</td><td>0.37076</td></tr><tr><td>train_loss_step</td><td>0.37006</td></tr><tr><td>trainer/global_step</td><td>100</td></tr><tr><td>val_acc</td><td>0.72581</td></tr><tr><td>val_auc</td><td>0.80162</td></tr><tr><td>val_f1</td><td>0.77333</td></tr><tr><td>val_loss_epoch</td><td>0.58554</td></tr><tr><td>val_loss_step</td><td>0.58554</td></tr></table><br/></div></div>"
      ],
      "text/plain": [
       "<IPython.core.display.HTML object>"
      ]
     },
     "metadata": {},
     "output_type": "display_data"
    },
    {
     "data": {
      "text/html": [
       " View run <strong style=\"color:#cdcd00\">GINConv_2_16_0</strong> at: <a href='https://wandb.ai/thoomas/SF_030324_Covid_pos/runs/02t3gps5' target=\"_blank\">https://wandb.ai/thoomas/SF_030324_Covid_pos/runs/02t3gps5</a><br/>Synced 6 W&B file(s), 0 media file(s), 0 artifact file(s) and 0 other file(s)"
      ],
      "text/plain": [
       "<IPython.core.display.HTML object>"
      ]
     },
     "metadata": {},
     "output_type": "display_data"
    },
    {
     "data": {
      "text/html": [
       "Find logs at: <code>.\\wandb\\run-20240303_120655-02t3gps5\\logs</code>"
      ],
      "text/plain": [
       "<IPython.core.display.HTML object>"
      ]
     },
     "metadata": {},
     "output_type": "display_data"
    },
    {
     "data": {
      "application/vnd.jupyter.widget-view+json": {
       "model_id": "bbaa02f2223d4ffea924741403249599",
       "version_major": 2,
       "version_minor": 0
      },
      "text/plain": [
       "VBox(children=(Label(value='Waiting for wandb.init()...\\r'), FloatProgress(value=0.01693333333338766, max=1.0)…"
      ]
     },
     "metadata": {},
     "output_type": "display_data"
    },
    {
     "data": {
      "text/html": [
       "wandb version 0.16.3 is available!  To upgrade, please run:\n",
       " $ pip install wandb --upgrade"
      ],
      "text/plain": [
       "<IPython.core.display.HTML object>"
      ]
     },
     "metadata": {},
     "output_type": "display_data"
    },
    {
     "data": {
      "text/html": [
       "Tracking run with wandb version 0.14.0"
      ],
      "text/plain": [
       "<IPython.core.display.HTML object>"
      ]
     },
     "metadata": {},
     "output_type": "display_data"
    },
    {
     "data": {
      "text/html": [
       "Run data is saved locally in <code>y:\\coskun-lab\\Thomas\\11_snowflakes\\notebooks\\wandb\\run-20240303_121210-uvsdlj3r</code>"
      ],
      "text/plain": [
       "<IPython.core.display.HTML object>"
      ]
     },
     "metadata": {},
     "output_type": "display_data"
    },
    {
     "data": {
      "text/html": [
       "Syncing run <strong><a href='https://wandb.ai/thoomas/SF_030324_Covid_pos/runs/uvsdlj3r' target=\"_blank\">GAT_2_16_0</a></strong> to <a href='https://wandb.ai/thoomas/SF_030324_Covid_pos' target=\"_blank\">Weights & Biases</a> (<a href='https://wandb.me/run' target=\"_blank\">docs</a>)<br/>"
      ],
      "text/plain": [
       "<IPython.core.display.HTML object>"
      ]
     },
     "metadata": {},
     "output_type": "display_data"
    },
    {
     "data": {
      "text/html": [
       " View project at <a href='https://wandb.ai/thoomas/SF_030324_Covid_pos' target=\"_blank\">https://wandb.ai/thoomas/SF_030324_Covid_pos</a>"
      ],
      "text/plain": [
       "<IPython.core.display.HTML object>"
      ]
     },
     "metadata": {},
     "output_type": "display_data"
    },
    {
     "data": {
      "text/html": [
       " View run at <a href='https://wandb.ai/thoomas/SF_030324_Covid_pos/runs/uvsdlj3r' target=\"_blank\">https://wandb.ai/thoomas/SF_030324_Covid_pos/runs/uvsdlj3r</a>"
      ],
      "text/plain": [
       "<IPython.core.display.HTML object>"
      ]
     },
     "metadata": {},
     "output_type": "display_data"
    },
    {
     "name": "stderr",
     "output_type": "stream",
     "text": [
      "Global seed set to 42\n",
      "C:\\Users\\thu71\\AppData\\Roaming\\Python\\Python39\\site-packages\\lightning\\pytorch\\loggers\\wandb.py:395: UserWarning: There is a wandb run already in progress and newly created instances of `WandbLogger` will reuse this run. If this is not desired, call `wandb.finish()` before instantiating `WandbLogger`.\n",
      "  rank_zero_warn(\n",
      "GPU available: True (cuda), used: True\n",
      "TPU available: False, using: 0 TPU cores\n",
      "IPU available: False, using: 0 IPUs\n",
      "HPU available: False, using: 0 HPUs\n",
      "Global seed set to 42\n",
      "LOCAL_RANK: 0 - CUDA_VISIBLE_DEVICES: [0,1]\n",
      "\n",
      "   | Name        | Type             | Params\n",
      "--------------------------------------------------\n",
      "0  | model       | GAT              | 5.1 K \n",
      "1  | fnn_layer   | Linear           | 272   \n",
      "2  | selu        | SELU             | 0     \n",
      "3  | head        | Linear           | 34    \n",
      "4  | loss_module | CrossEntropyLoss | 0     \n",
      "5  | train_acc   | BinaryAccuracy   | 0     \n",
      "6  | train_auroc | BinaryAUROC      | 0     \n",
      "7  | train_f1    | BinaryF1Score    | 0     \n",
      "8  | valid_acc   | BinaryAccuracy   | 0     \n",
      "9  | valid_auroc | BinaryAUROC      | 0     \n",
      "10 | valid_f1    | BinaryF1Score    | 0     \n",
      "11 | test_acc    | BinaryAccuracy   | 0     \n",
      "12 | test_auroc  | BinaryAUROC      | 0     \n",
      "13 | test_f1     | BinaryF1Score    | 0     \n",
      "14 | pool        | Attention_module | 281   \n",
      "--------------------------------------------------\n",
      "5.7 K     Trainable params\n",
      "0         Non-trainable params\n",
      "5.7 K     Total params\n",
      "0.023     Total estimated model params size (MB)\n",
      "C:\\Users\\thu71\\AppData\\Roaming\\Python\\Python39\\site-packages\\lightning\\pytorch\\trainer\\connectors\\data_connector.py:478: PossibleUserWarning: Your `val_dataloader`'s sampler has shuffling enabled, it is strongly recommended that you turn shuffling off for val/test dataloaders.\n",
      "  rank_zero_warn(\n",
      "C:\\Users\\thu71\\AppData\\Roaming\\Python\\Python39\\site-packages\\lightning\\pytorch\\trainer\\connectors\\data_connector.py:430: PossibleUserWarning: The dataloader, val_dataloader, does not have many workers which may be a bottleneck. Consider increasing the value of the `num_workers` argument` (try 48 which is the number of cpus on this machine) in the `DataLoader` init to improve performance.\n",
      "  rank_zero_warn(\n",
      "C:\\Users\\thu71\\AppData\\Roaming\\Python\\Python39\\site-packages\\lightning\\pytorch\\trainer\\connectors\\data_connector.py:430: PossibleUserWarning: The dataloader, train_dataloader, does not have many workers which may be a bottleneck. Consider increasing the value of the `num_workers` argument` (try 48 which is the number of cpus on this machine) in the `DataLoader` init to improve performance.\n",
      "  rank_zero_warn(\n",
      "C:\\Users\\thu71\\AppData\\Roaming\\Python\\Python39\\site-packages\\lightning\\pytorch\\loops\\fit_loop.py:280: PossibleUserWarning: The number of training batches (4) is smaller than the logging interval Trainer(log_every_n_steps=10). Set a lower value for log_every_n_steps if you want to see logs for the training epoch.\n",
      "  rank_zero_warn(\n",
      "`Trainer.fit` stopped: `max_epochs=50` reached.\n",
      "LOCAL_RANK: 0 - CUDA_VISIBLE_DEVICES: [0,1]\n",
      "C:\\Users\\thu71\\AppData\\Roaming\\Python\\Python39\\site-packages\\lightning\\pytorch\\trainer\\connectors\\data_connector.py:478: PossibleUserWarning: Your `test_dataloader`'s sampler has shuffling enabled, it is strongly recommended that you turn shuffling off for val/test dataloaders.\n",
      "  rank_zero_warn(\n",
      "C:\\Users\\thu71\\AppData\\Roaming\\Python\\Python39\\site-packages\\lightning\\pytorch\\trainer\\connectors\\data_connector.py:430: PossibleUserWarning: The dataloader, test_dataloader, does not have many workers which may be a bottleneck. Consider increasing the value of the `num_workers` argument` (try 48 which is the number of cpus on this machine) in the `DataLoader` init to improve performance.\n",
      "  rank_zero_warn(\n"
     ]
    },
    {
     "name": "stdout",
     "output_type": "stream",
     "text": [
      "{'test_acc': tensor(0.8271), 'test_auc': tensor(0.9444), 'test_f1': tensor(0.8321)}\n"
     ]
    },
    {
     "data": {
      "text/html": [
       "Waiting for W&B process to finish... <strong style=\"color:green\">(success).</strong>"
      ],
      "text/plain": [
       "<IPython.core.display.HTML object>"
      ]
     },
     "metadata": {},
     "output_type": "display_data"
    },
    {
     "data": {
      "application/vnd.jupyter.widget-view+json": {
       "model_id": "9c8b5fcbaacd44dc88d3e8421adaafa3",
       "version_major": 2,
       "version_minor": 0
      },
      "text/plain": [
       "VBox(children=(Label(value='0.001 MB of 0.001 MB uploaded (0.000 MB deduped)\\r'), FloatProgress(value=1.0, max…"
      ]
     },
     "metadata": {},
     "output_type": "display_data"
    },
    {
     "data": {
      "text/html": [
       "<style>\n",
       "    table.wandb td:nth-child(1) { padding: 0 10px; text-align: left ; width: auto;} td:nth-child(2) {text-align: left ; width: 100%}\n",
       "    .wandb-row { display: flex; flex-direction: row; flex-wrap: wrap; justify-content: flex-start; width: 100% }\n",
       "    .wandb-col { display: flex; flex-direction: column; flex-basis: 100%; flex: 1; padding: 10px; }\n",
       "    </style>\n",
       "<div class=\"wandb-row\"><div class=\"wandb-col\"><h3>Run history:</h3><br/><table class=\"wandb\"><tr><td>epoch</td><td>▁▁▁▂▂▂▂▂▂▃▃▃▃▃▄▄▄▄▄▄▅▅▅▅▅▅▆▆▆▆▆▆▇▇▇▇▇███</td></tr><tr><td>lr-Adam</td><td>▁▁▁▁▁▁▁▁▁▁▁▁▁▁▁▁▁▁▁▁▁▁▁▁▁▁▁▁▁▁▁▁▁▁▁▁▁▁▁▁</td></tr><tr><td>test_acc</td><td>▁</td></tr><tr><td>test_auc</td><td>▁</td></tr><tr><td>test_f1</td><td>▁</td></tr><tr><td>train_acc</td><td>▁▂▃▃▃▄▄▄▄▅▄▅▅▅▄▅▆▆▆▆▆▆▆▇▇▇▇▇▇▇▇▇▇████▇██</td></tr><tr><td>train_auc</td><td>▁▂▂▃▃▄▄▄▄▄▄▄▄▅▅▅▅▅▆▆▇▇▇▇▇▇▇▇████████████</td></tr><tr><td>train_f1</td><td>▁▁▁▂▂▃▃▃▄▄▃▄▄▄▄▅▅▅▅▆▆▆▆▆▇▆▆▆▇▇▇▆▇▇▇██▇██</td></tr><tr><td>train_loss_epoch</td><td>█▇▇▇▆▅▆▅▅▅▅▅▄▄▄▄▄▄▃▃▃▃▃▂▂▂▂▃▂▂▂▂▁▁▁▁▁▂▁▁</td></tr><tr><td>train_loss_step</td><td>█▆▇▅▅▄▃▅▅▃▄▂▂▂▂▁▂▂▂▂</td></tr><tr><td>trainer/global_step</td><td>▁▁▁▂▁▁▂▂▁▃▃▃▂▃▄▄▂▄▄▂▂▅▅▂▅▅▆▂▆▆▆▂▇▇▇▃▇███</td></tr><tr><td>val_acc</td><td>▃▁▁▂▃▃▃▂▃▃▃▃▂▃▃▃▃▃▃▃▃▃▃▆▆▅▅█▆▆▇▃▃▄▆▂▅▆▁▇</td></tr><tr><td>val_auc</td><td>▁▁▁▁▂▂▂▂▂▂▂▃▃▃▃▃▃▄▄▄▅▅▆▇▇▇▇█▇▇█▇▇▇▇▇█▇▇█</td></tr><tr><td>val_f1</td><td>▆▄▄▅▆▆▅▅▆▅▅▆▅▆▅▆▅▆▅▅▅▅▄▆▇▆▅█▆▇▇▃▄▄▆▂▅▆▁▇</td></tr><tr><td>val_loss_epoch</td><td>██▇▇▆▆▆▇▆▇▇▆▇▆▆▆▆▅▆▆▅▅▅▃▃▄▅▁▃▃▂▇▅▅▃▆▄▃█▂</td></tr><tr><td>val_loss_step</td><td>██▇▇▆▆▆▇▆▇▇▆▇▆▆▆▆▅▆▆▅▅▅▃▃▄▅▁▃▃▂▇▅▅▃▆▄▃█▂</td></tr></table><br/></div><div class=\"wandb-col\"><h3>Run summary:</h3><br/><table class=\"wandb\"><tr><td>epoch</td><td>50</td></tr><tr><td>lr-Adam</td><td>0.005</td></tr><tr><td>test_acc</td><td>0.82707</td></tr><tr><td>test_auc</td><td>0.94437</td></tr><tr><td>test_f1</td><td>0.83212</td></tr><tr><td>train_acc</td><td>0.93522</td></tr><tr><td>train_auc</td><td>0.98985</td></tr><tr><td>train_f1</td><td>0.94595</td></tr><tr><td>train_loss_epoch</td><td>0.38339</td></tr><tr><td>train_loss_step</td><td>0.41734</td></tr><tr><td>trainer/global_step</td><td>200</td></tr><tr><td>val_acc</td><td>0.82258</td></tr><tr><td>val_auc</td><td>0.94054</td></tr><tr><td>val_f1</td><td>0.83582</td></tr><tr><td>val_loss_epoch</td><td>0.48073</td></tr><tr><td>val_loss_step</td><td>0.48073</td></tr></table><br/></div></div>"
      ],
      "text/plain": [
       "<IPython.core.display.HTML object>"
      ]
     },
     "metadata": {},
     "output_type": "display_data"
    },
    {
     "data": {
      "text/html": [
       " View run <strong style=\"color:#cdcd00\">GAT_2_16_0</strong> at: <a href='https://wandb.ai/thoomas/SF_030324_Covid_pos/runs/uvsdlj3r' target=\"_blank\">https://wandb.ai/thoomas/SF_030324_Covid_pos/runs/uvsdlj3r</a><br/>Synced 6 W&B file(s), 0 media file(s), 0 artifact file(s) and 0 other file(s)"
      ],
      "text/plain": [
       "<IPython.core.display.HTML object>"
      ]
     },
     "metadata": {},
     "output_type": "display_data"
    },
    {
     "data": {
      "text/html": [
       "Find logs at: <code>.\\wandb\\run-20240303_121210-uvsdlj3r\\logs</code>"
      ],
      "text/plain": [
       "<IPython.core.display.HTML object>"
      ]
     },
     "metadata": {},
     "output_type": "display_data"
    },
    {
     "data": {
      "application/vnd.jupyter.widget-view+json": {
       "model_id": "e181e1bd58704a209bbe1f1914cd9aac",
       "version_major": 2,
       "version_minor": 0
      },
      "text/plain": [
       "VBox(children=(Label(value='Waiting for wandb.init()...\\r'), FloatProgress(value=0.016666666666666666, max=1.0…"
      ]
     },
     "metadata": {},
     "output_type": "display_data"
    },
    {
     "data": {
      "text/html": [
       "wandb version 0.16.3 is available!  To upgrade, please run:\n",
       " $ pip install wandb --upgrade"
      ],
      "text/plain": [
       "<IPython.core.display.HTML object>"
      ]
     },
     "metadata": {},
     "output_type": "display_data"
    },
    {
     "data": {
      "text/html": [
       "Tracking run with wandb version 0.14.0"
      ],
      "text/plain": [
       "<IPython.core.display.HTML object>"
      ]
     },
     "metadata": {},
     "output_type": "display_data"
    },
    {
     "data": {
      "text/html": [
       "Run data is saved locally in <code>y:\\coskun-lab\\Thomas\\11_snowflakes\\notebooks\\wandb\\run-20240303_121935-pc2vr9ni</code>"
      ],
      "text/plain": [
       "<IPython.core.display.HTML object>"
      ]
     },
     "metadata": {},
     "output_type": "display_data"
    },
    {
     "data": {
      "text/html": [
       "Syncing run <strong><a href='https://wandb.ai/thoomas/SF_030324_Covid_pos/runs/pc2vr9ni' target=\"_blank\">GINConv_2_16_0</a></strong> to <a href='https://wandb.ai/thoomas/SF_030324_Covid_pos' target=\"_blank\">Weights & Biases</a> (<a href='https://wandb.me/run' target=\"_blank\">docs</a>)<br/>"
      ],
      "text/plain": [
       "<IPython.core.display.HTML object>"
      ]
     },
     "metadata": {},
     "output_type": "display_data"
    },
    {
     "data": {
      "text/html": [
       " View project at <a href='https://wandb.ai/thoomas/SF_030324_Covid_pos' target=\"_blank\">https://wandb.ai/thoomas/SF_030324_Covid_pos</a>"
      ],
      "text/plain": [
       "<IPython.core.display.HTML object>"
      ]
     },
     "metadata": {},
     "output_type": "display_data"
    },
    {
     "data": {
      "text/html": [
       " View run at <a href='https://wandb.ai/thoomas/SF_030324_Covid_pos/runs/pc2vr9ni' target=\"_blank\">https://wandb.ai/thoomas/SF_030324_Covid_pos/runs/pc2vr9ni</a>"
      ],
      "text/plain": [
       "<IPython.core.display.HTML object>"
      ]
     },
     "metadata": {},
     "output_type": "display_data"
    },
    {
     "name": "stderr",
     "output_type": "stream",
     "text": [
      "Global seed set to 42\n",
      "C:\\Users\\thu71\\AppData\\Roaming\\Python\\Python39\\site-packages\\lightning\\pytorch\\loggers\\wandb.py:395: UserWarning: There is a wandb run already in progress and newly created instances of `WandbLogger` will reuse this run. If this is not desired, call `wandb.finish()` before instantiating `WandbLogger`.\n",
      "  rank_zero_warn(\n",
      "GPU available: True (cuda), used: True\n",
      "TPU available: False, using: 0 TPU cores\n",
      "IPU available: False, using: 0 IPUs\n",
      "HPU available: False, using: 0 HPUs\n",
      "Global seed set to 42\n",
      "LOCAL_RANK: 0 - CUDA_VISIBLE_DEVICES: [0,1]\n",
      "\n",
      "   | Name        | Type             | Params\n",
      "--------------------------------------------------\n",
      "0  | model       | GIN              | 1.0 K \n",
      "1  | fnn_layer   | Linear           | 272   \n",
      "2  | selu        | SELU             | 0     \n",
      "3  | head        | Linear           | 34    \n",
      "4  | loss_module | CrossEntropyLoss | 0     \n",
      "5  | train_acc   | BinaryAccuracy   | 0     \n",
      "6  | train_auroc | BinaryAUROC      | 0     \n",
      "7  | train_f1    | BinaryF1Score    | 0     \n",
      "8  | valid_acc   | BinaryAccuracy   | 0     \n",
      "9  | valid_auroc | BinaryAUROC      | 0     \n",
      "10 | valid_f1    | BinaryF1Score    | 0     \n",
      "11 | test_acc    | BinaryAccuracy   | 0     \n",
      "12 | test_auroc  | BinaryAUROC      | 0     \n",
      "13 | test_f1     | BinaryF1Score    | 0     \n",
      "14 | pool        | Attention_module | 281   \n",
      "--------------------------------------------------\n",
      "1.6 K     Trainable params\n",
      "0         Non-trainable params\n",
      "1.6 K     Total params\n",
      "0.006     Total estimated model params size (MB)\n",
      "C:\\Users\\thu71\\AppData\\Roaming\\Python\\Python39\\site-packages\\lightning\\pytorch\\trainer\\connectors\\data_connector.py:478: PossibleUserWarning: Your `val_dataloader`'s sampler has shuffling enabled, it is strongly recommended that you turn shuffling off for val/test dataloaders.\n",
      "  rank_zero_warn(\n",
      "C:\\Users\\thu71\\AppData\\Roaming\\Python\\Python39\\site-packages\\lightning\\pytorch\\trainer\\connectors\\data_connector.py:430: PossibleUserWarning: The dataloader, val_dataloader, does not have many workers which may be a bottleneck. Consider increasing the value of the `num_workers` argument` (try 48 which is the number of cpus on this machine) in the `DataLoader` init to improve performance.\n",
      "  rank_zero_warn(\n",
      "C:\\Users\\thu71\\AppData\\Roaming\\Python\\Python39\\site-packages\\lightning\\pytorch\\trainer\\connectors\\data_connector.py:430: PossibleUserWarning: The dataloader, train_dataloader, does not have many workers which may be a bottleneck. Consider increasing the value of the `num_workers` argument` (try 48 which is the number of cpus on this machine) in the `DataLoader` init to improve performance.\n",
      "  rank_zero_warn(\n",
      "C:\\Users\\thu71\\AppData\\Roaming\\Python\\Python39\\site-packages\\lightning\\pytorch\\loops\\fit_loop.py:280: PossibleUserWarning: The number of training batches (2) is smaller than the logging interval Trainer(log_every_n_steps=10). Set a lower value for log_every_n_steps if you want to see logs for the training epoch.\n",
      "  rank_zero_warn(\n",
      "`Trainer.fit` stopped: `max_epochs=50` reached.\n",
      "LOCAL_RANK: 0 - CUDA_VISIBLE_DEVICES: [0,1]\n",
      "C:\\Users\\thu71\\AppData\\Roaming\\Python\\Python39\\site-packages\\lightning\\pytorch\\trainer\\connectors\\data_connector.py:478: PossibleUserWarning: Your `test_dataloader`'s sampler has shuffling enabled, it is strongly recommended that you turn shuffling off for val/test dataloaders.\n",
      "  rank_zero_warn(\n",
      "C:\\Users\\thu71\\AppData\\Roaming\\Python\\Python39\\site-packages\\lightning\\pytorch\\trainer\\connectors\\data_connector.py:430: PossibleUserWarning: The dataloader, test_dataloader, does not have many workers which may be a bottleneck. Consider increasing the value of the `num_workers` argument` (try 48 which is the number of cpus on this machine) in the `DataLoader` init to improve performance.\n",
      "  rank_zero_warn(\n"
     ]
    },
    {
     "name": "stdout",
     "output_type": "stream",
     "text": [
      "{'test_acc': tensor(0.7820), 'test_auc': tensor(0.8719), 'test_f1': tensor(0.7972)}\n"
     ]
    },
    {
     "data": {
      "text/html": [
       "Waiting for W&B process to finish... <strong style=\"color:green\">(success).</strong>"
      ],
      "text/plain": [
       "<IPython.core.display.HTML object>"
      ]
     },
     "metadata": {},
     "output_type": "display_data"
    },
    {
     "data": {
      "application/vnd.jupyter.widget-view+json": {
       "model_id": "eeadd2ef9fd447e59aea4ef050844319",
       "version_major": 2,
       "version_minor": 0
      },
      "text/plain": [
       "VBox(children=(Label(value='0.001 MB of 0.001 MB uploaded (0.000 MB deduped)\\r'), FloatProgress(value=1.0, max…"
      ]
     },
     "metadata": {},
     "output_type": "display_data"
    },
    {
     "data": {
      "text/html": [
       "<style>\n",
       "    table.wandb td:nth-child(1) { padding: 0 10px; text-align: left ; width: auto;} td:nth-child(2) {text-align: left ; width: 100%}\n",
       "    .wandb-row { display: flex; flex-direction: row; flex-wrap: wrap; justify-content: flex-start; width: 100% }\n",
       "    .wandb-col { display: flex; flex-direction: column; flex-basis: 100%; flex: 1; padding: 10px; }\n",
       "    </style>\n",
       "<div class=\"wandb-row\"><div class=\"wandb-col\"><h3>Run history:</h3><br/><table class=\"wandb\"><tr><td>epoch</td><td>▁▁▁▂▂▂▂▂▂▃▃▃▃▃▄▄▄▄▄▄▅▅▅▅▅▅▆▆▆▆▆▆▇▇▇▇▇███</td></tr><tr><td>lr-Adam</td><td>▁▁▁▁▁▁▁▁▁▁▁▁▁▁▁▁▁▁▁▁▁▁▁▁▁▁▁▁▁▁▁▁▁▁▁▁▁▁▁▁</td></tr><tr><td>test_acc</td><td>▁</td></tr><tr><td>test_auc</td><td>▁</td></tr><tr><td>test_f1</td><td>▁</td></tr><tr><td>train_acc</td><td>▁▄▃▄▅▅▅▆▆▆▇▇▇▇▇▇▇▇▇▇███▇██████████▇█████</td></tr><tr><td>train_auc</td><td>▁▃▄▄▄▅▆▆▇▇▇▇▇▇▇▇▇███████████████████████</td></tr><tr><td>train_f1</td><td>▁▆▆▆▆▆▇▇▇▇▇▇▇▇▇▇████████████████████████</td></tr><tr><td>train_loss_epoch</td><td>█▇▇▆▆▅▅▄▄▃▃▃▃▂▂▂▂▂▂▂▂▁▂▁▁▁▁▁▁▁▁▁▁▁▂▁▁▁▁▁</td></tr><tr><td>train_loss_step</td><td>█▄▃▃▂▂▁▁▁▁</td></tr><tr><td>trainer/global_step</td><td>▁▁▁▂▂▂▂▂▂▃▃▃▃▃▄▂▂▄▃▄▅▅▅▃▅▅▃▆▆▆▆▄▇▄▄▇████</td></tr><tr><td>val_acc</td><td>▁▁▃▃▂▃▃▃▃▃▃▃▅▄▆▆▆▆▆▆▅▆▅▆▆▆▆▆▆▆█▆▄▅▆▆▅▆▆▃</td></tr><tr><td>val_auc</td><td>▁▃▂▂▂▃▅▆▆▆▇▇▇▇▇▇▇▇█▇▇██▇████▇▇██▇▇███▇▇▇</td></tr><tr><td>val_f1</td><td>▂▄▅▅▂▃▄▄▃▄▂▂▅▄▇▆▅▅▆▆▃▅▄▆▅▅▅▅▄▅█▅▂▃▆▅▄▅▆▁</td></tr><tr><td>val_loss_epoch</td><td>█▇▇▇▆▅▄▄▄▄▃▃▃▃▂▂▂▃▂▂▃▃▃▂▂▂▂▂▃▂▁▂▄▃▂▃▃▂▃▄</td></tr><tr><td>val_loss_step</td><td>█▇▇▇▆▅▄▄▄▄▃▃▃▃▂▂▂▃▂▂▃▃▃▂▂▂▂▂▃▂▁▂▄▃▂▃▃▂▃▄</td></tr></table><br/></div><div class=\"wandb-col\"><h3>Run summary:</h3><br/><table class=\"wandb\"><tr><td>epoch</td><td>50</td></tr><tr><td>lr-Adam</td><td>0.005</td></tr><tr><td>test_acc</td><td>0.78195</td></tr><tr><td>test_auc</td><td>0.87188</td></tr><tr><td>test_f1</td><td>0.7972</td></tr><tr><td>train_acc</td><td>0.93522</td></tr><tr><td>train_auc</td><td>0.95247</td></tr><tr><td>train_f1</td><td>0.94245</td></tr><tr><td>train_loss_epoch</td><td>0.38533</td></tr><tr><td>train_loss_step</td><td>0.39747</td></tr><tr><td>trainer/global_step</td><td>100</td></tr><tr><td>val_acc</td><td>0.69355</td></tr><tr><td>val_auc</td><td>0.78919</td></tr><tr><td>val_f1</td><td>0.72464</td></tr><tr><td>val_loss_epoch</td><td>0.59796</td></tr><tr><td>val_loss_step</td><td>0.59796</td></tr></table><br/></div></div>"
      ],
      "text/plain": [
       "<IPython.core.display.HTML object>"
      ]
     },
     "metadata": {},
     "output_type": "display_data"
    },
    {
     "data": {
      "text/html": [
       " View run <strong style=\"color:#cdcd00\">GINConv_2_16_0</strong> at: <a href='https://wandb.ai/thoomas/SF_030324_Covid_pos/runs/pc2vr9ni' target=\"_blank\">https://wandb.ai/thoomas/SF_030324_Covid_pos/runs/pc2vr9ni</a><br/>Synced 6 W&B file(s), 0 media file(s), 0 artifact file(s) and 0 other file(s)"
      ],
      "text/plain": [
       "<IPython.core.display.HTML object>"
      ]
     },
     "metadata": {},
     "output_type": "display_data"
    },
    {
     "data": {
      "text/html": [
       "Find logs at: <code>.\\wandb\\run-20240303_121935-pc2vr9ni\\logs</code>"
      ],
      "text/plain": [
       "<IPython.core.display.HTML object>"
      ]
     },
     "metadata": {},
     "output_type": "display_data"
    },
    {
     "data": {
      "application/vnd.jupyter.widget-view+json": {
       "model_id": "8b75eed6813f435694057aab5ec3303e",
       "version_major": 2,
       "version_minor": 0
      },
      "text/plain": [
       "VBox(children=(Label(value='Waiting for wandb.init()...\\r'), FloatProgress(value=0.016666666666666666, max=1.0…"
      ]
     },
     "metadata": {},
     "output_type": "display_data"
    },
    {
     "data": {
      "text/html": [
       "wandb version 0.16.3 is available!  To upgrade, please run:\n",
       " $ pip install wandb --upgrade"
      ],
      "text/plain": [
       "<IPython.core.display.HTML object>"
      ]
     },
     "metadata": {},
     "output_type": "display_data"
    },
    {
     "data": {
      "text/html": [
       "Tracking run with wandb version 0.14.0"
      ],
      "text/plain": [
       "<IPython.core.display.HTML object>"
      ]
     },
     "metadata": {},
     "output_type": "display_data"
    },
    {
     "data": {
      "text/html": [
       "Run data is saved locally in <code>y:\\coskun-lab\\Thomas\\11_snowflakes\\notebooks\\wandb\\run-20240303_122441-fe21c4kr</code>"
      ],
      "text/plain": [
       "<IPython.core.display.HTML object>"
      ]
     },
     "metadata": {},
     "output_type": "display_data"
    },
    {
     "data": {
      "text/html": [
       "Syncing run <strong><a href='https://wandb.ai/thoomas/SF_030324_Covid_pos/runs/fe21c4kr' target=\"_blank\">GAT_2_16_1</a></strong> to <a href='https://wandb.ai/thoomas/SF_030324_Covid_pos' target=\"_blank\">Weights & Biases</a> (<a href='https://wandb.me/run' target=\"_blank\">docs</a>)<br/>"
      ],
      "text/plain": [
       "<IPython.core.display.HTML object>"
      ]
     },
     "metadata": {},
     "output_type": "display_data"
    },
    {
     "data": {
      "text/html": [
       " View project at <a href='https://wandb.ai/thoomas/SF_030324_Covid_pos' target=\"_blank\">https://wandb.ai/thoomas/SF_030324_Covid_pos</a>"
      ],
      "text/plain": [
       "<IPython.core.display.HTML object>"
      ]
     },
     "metadata": {},
     "output_type": "display_data"
    },
    {
     "data": {
      "text/html": [
       " View run at <a href='https://wandb.ai/thoomas/SF_030324_Covid_pos/runs/fe21c4kr' target=\"_blank\">https://wandb.ai/thoomas/SF_030324_Covid_pos/runs/fe21c4kr</a>"
      ],
      "text/plain": [
       "<IPython.core.display.HTML object>"
      ]
     },
     "metadata": {},
     "output_type": "display_data"
    },
    {
     "name": "stderr",
     "output_type": "stream",
     "text": [
      "Global seed set to 42\n",
      "C:\\Users\\thu71\\AppData\\Roaming\\Python\\Python39\\site-packages\\lightning\\pytorch\\loggers\\wandb.py:395: UserWarning: There is a wandb run already in progress and newly created instances of `WandbLogger` will reuse this run. If this is not desired, call `wandb.finish()` before instantiating `WandbLogger`.\n",
      "  rank_zero_warn(\n",
      "GPU available: True (cuda), used: True\n",
      "TPU available: False, using: 0 TPU cores\n",
      "IPU available: False, using: 0 IPUs\n",
      "HPU available: False, using: 0 HPUs\n",
      "Global seed set to 42\n",
      "LOCAL_RANK: 0 - CUDA_VISIBLE_DEVICES: [0,1]\n",
      "\n",
      "   | Name        | Type             | Params\n",
      "--------------------------------------------------\n",
      "0  | model       | GAT              | 5.1 K \n",
      "1  | fnn_layer   | Linear           | 272   \n",
      "2  | selu        | SELU             | 0     \n",
      "3  | head        | Linear           | 34    \n",
      "4  | loss_module | CrossEntropyLoss | 0     \n",
      "5  | train_acc   | BinaryAccuracy   | 0     \n",
      "6  | train_auroc | BinaryAUROC      | 0     \n",
      "7  | train_f1    | BinaryF1Score    | 0     \n",
      "8  | valid_acc   | BinaryAccuracy   | 0     \n",
      "9  | valid_auroc | BinaryAUROC      | 0     \n",
      "10 | valid_f1    | BinaryF1Score    | 0     \n",
      "11 | test_acc    | BinaryAccuracy   | 0     \n",
      "12 | test_auroc  | BinaryAUROC      | 0     \n",
      "13 | test_f1     | BinaryF1Score    | 0     \n",
      "--------------------------------------------------\n",
      "5.4 K     Trainable params\n",
      "0         Non-trainable params\n",
      "5.4 K     Total params\n",
      "0.022     Total estimated model params size (MB)\n",
      "C:\\Users\\thu71\\AppData\\Roaming\\Python\\Python39\\site-packages\\lightning\\pytorch\\trainer\\connectors\\data_connector.py:478: PossibleUserWarning: Your `val_dataloader`'s sampler has shuffling enabled, it is strongly recommended that you turn shuffling off for val/test dataloaders.\n",
      "  rank_zero_warn(\n",
      "C:\\Users\\thu71\\AppData\\Roaming\\Python\\Python39\\site-packages\\lightning\\pytorch\\trainer\\connectors\\data_connector.py:430: PossibleUserWarning: The dataloader, val_dataloader, does not have many workers which may be a bottleneck. Consider increasing the value of the `num_workers` argument` (try 48 which is the number of cpus on this machine) in the `DataLoader` init to improve performance.\n",
      "  rank_zero_warn(\n",
      "C:\\Users\\thu71\\AppData\\Roaming\\Python\\Python39\\site-packages\\lightning\\pytorch\\trainer\\connectors\\data_connector.py:430: PossibleUserWarning: The dataloader, train_dataloader, does not have many workers which may be a bottleneck. Consider increasing the value of the `num_workers` argument` (try 48 which is the number of cpus on this machine) in the `DataLoader` init to improve performance.\n",
      "  rank_zero_warn(\n",
      "C:\\Users\\thu71\\AppData\\Roaming\\Python\\Python39\\site-packages\\lightning\\pytorch\\loops\\fit_loop.py:280: PossibleUserWarning: The number of training batches (4) is smaller than the logging interval Trainer(log_every_n_steps=10). Set a lower value for log_every_n_steps if you want to see logs for the training epoch.\n",
      "  rank_zero_warn(\n",
      "`Trainer.fit` stopped: `max_epochs=50` reached.\n",
      "LOCAL_RANK: 0 - CUDA_VISIBLE_DEVICES: [0,1]\n",
      "C:\\Users\\thu71\\AppData\\Roaming\\Python\\Python39\\site-packages\\lightning\\pytorch\\trainer\\connectors\\data_connector.py:478: PossibleUserWarning: Your `test_dataloader`'s sampler has shuffling enabled, it is strongly recommended that you turn shuffling off for val/test dataloaders.\n",
      "  rank_zero_warn(\n",
      "C:\\Users\\thu71\\AppData\\Roaming\\Python\\Python39\\site-packages\\lightning\\pytorch\\trainer\\connectors\\data_connector.py:430: PossibleUserWarning: The dataloader, test_dataloader, does not have many workers which may be a bottleneck. Consider increasing the value of the `num_workers` argument` (try 48 which is the number of cpus on this machine) in the `DataLoader` init to improve performance.\n",
      "  rank_zero_warn(\n"
     ]
    },
    {
     "name": "stdout",
     "output_type": "stream",
     "text": [
      "{'test_acc': tensor(0.8271), 'test_auc': tensor(0.9416), 'test_f1': tensor(0.8271)}\n"
     ]
    },
    {
     "data": {
      "text/html": [
       "Waiting for W&B process to finish... <strong style=\"color:green\">(success).</strong>"
      ],
      "text/plain": [
       "<IPython.core.display.HTML object>"
      ]
     },
     "metadata": {},
     "output_type": "display_data"
    },
    {
     "data": {
      "application/vnd.jupyter.widget-view+json": {
       "model_id": "1e1125e3c0e840439211c0fff1c5a8bd",
       "version_major": 2,
       "version_minor": 0
      },
      "text/plain": [
       "VBox(children=(Label(value='0.001 MB of 0.001 MB uploaded (0.000 MB deduped)\\r'), FloatProgress(value=1.0, max…"
      ]
     },
     "metadata": {},
     "output_type": "display_data"
    },
    {
     "data": {
      "text/html": [
       "<style>\n",
       "    table.wandb td:nth-child(1) { padding: 0 10px; text-align: left ; width: auto;} td:nth-child(2) {text-align: left ; width: 100%}\n",
       "    .wandb-row { display: flex; flex-direction: row; flex-wrap: wrap; justify-content: flex-start; width: 100% }\n",
       "    .wandb-col { display: flex; flex-direction: column; flex-basis: 100%; flex: 1; padding: 10px; }\n",
       "    </style>\n",
       "<div class=\"wandb-row\"><div class=\"wandb-col\"><h3>Run history:</h3><br/><table class=\"wandb\"><tr><td>epoch</td><td>▁▁▁▂▂▂▂▂▂▃▃▃▃▃▄▄▄▄▄▄▅▅▅▅▅▅▆▆▆▆▆▆▇▇▇▇▇███</td></tr><tr><td>lr-Adam</td><td>▁▁▁▁▁▁▁▁▁▁▁▁▁▁▁▁▁▁▁▁▁▁▁▁▁▁▁▁▁▁▁▁▁▁▁▁▁▁▁▁</td></tr><tr><td>test_acc</td><td>▁</td></tr><tr><td>test_auc</td><td>▁</td></tr><tr><td>test_f1</td><td>▁</td></tr><tr><td>train_acc</td><td>▁▂▂▂▃▃▄▄▄▄▅▅▆▆▇▇▇▇▇▇▇▇▇▇▇██▇▇▇█▇█████▇██</td></tr><tr><td>train_auc</td><td>▁▂▂▂▃▃▃▄▄▅▅▆▇▇▇▇▇▇▇▇▇▇▇█▇██▇████████████</td></tr><tr><td>train_f1</td><td>▁▃▄▃▃▄▄▅▅▅▅▄▆▆▇▇▇▇▇▇▇▇▇▇▇██▇▇▇█▇█████▇██</td></tr><tr><td>train_loss_epoch</td><td>███▇▇▇▆▆▆▆▅▅▄▄▃▃▃▂▃▃▂▂▂▂▂▂▂▂▂▂▁▂▁▁▁▁▁▁▁▁</td></tr><tr><td>train_loss_step</td><td>█▇█▆█▆▃▃▃▃▂▄▂▃▂▃▂▂▂▁</td></tr><tr><td>trainer/global_step</td><td>▁▁▁▂▁▁▂▂▁▃▃▃▂▃▄▄▂▄▄▂▂▅▅▂▅▅▆▂▆▆▆▂▇▇▇▃▇███</td></tr><tr><td>val_acc</td><td>▁▂▄▄▅▅▅▅▅▄▄▄▃▆▁▄▃▇▂▆▃▆▄▃▆▃▄▄▆▇▄▆▄▆▆▃▆▆█▇</td></tr><tr><td>val_auc</td><td>▁▁▂▁▂▂▂▂▃▄▄▅▆▆▅▆▇▇▇▇▇▇▇▇▇▇▇▇▇▇▇▇▇███████</td></tr><tr><td>val_f1</td><td>▆▆▇▆▇████▇▇▆▄▇▁▆▄█▂▇▄▇▅▃▇▃▅▅▆█▄▇▅▆▆▄▇▆██</td></tr><tr><td>val_loss_epoch</td><td>█▇▇▇▆▆▅▅▅▅▅▅▆▄█▃▅▂▇▃▅▃▅▆▃▆▅▄▄▂▅▃▅▃▄▅▃▄▁▂</td></tr><tr><td>val_loss_step</td><td>█▇▇▇▆▆▅▅▅▅▅▅▆▄█▃▅▂▇▃▅▃▅▆▃▆▅▄▄▂▅▃▅▃▄▅▃▄▁▂</td></tr></table><br/></div><div class=\"wandb-col\"><h3>Run summary:</h3><br/><table class=\"wandb\"><tr><td>epoch</td><td>50</td></tr><tr><td>lr-Adam</td><td>0.005</td></tr><tr><td>test_acc</td><td>0.82707</td></tr><tr><td>test_auc</td><td>0.9416</td></tr><tr><td>test_f1</td><td>0.82707</td></tr><tr><td>train_acc</td><td>0.91498</td></tr><tr><td>train_auc</td><td>0.97076</td></tr><tr><td>train_f1</td><td>0.92308</td></tr><tr><td>train_loss_epoch</td><td>0.39789</td></tr><tr><td>train_loss_step</td><td>0.34617</td></tr><tr><td>trainer/global_step</td><td>200</td></tr><tr><td>val_acc</td><td>0.79032</td></tr><tr><td>val_auc</td><td>0.91784</td></tr><tr><td>val_f1</td><td>0.8</td></tr><tr><td>val_loss_epoch</td><td>0.50823</td></tr><tr><td>val_loss_step</td><td>0.50823</td></tr></table><br/></div></div>"
      ],
      "text/plain": [
       "<IPython.core.display.HTML object>"
      ]
     },
     "metadata": {},
     "output_type": "display_data"
    },
    {
     "data": {
      "text/html": [
       " View run <strong style=\"color:#cdcd00\">GAT_2_16_1</strong> at: <a href='https://wandb.ai/thoomas/SF_030324_Covid_pos/runs/fe21c4kr' target=\"_blank\">https://wandb.ai/thoomas/SF_030324_Covid_pos/runs/fe21c4kr</a><br/>Synced 6 W&B file(s), 0 media file(s), 0 artifact file(s) and 0 other file(s)"
      ],
      "text/plain": [
       "<IPython.core.display.HTML object>"
      ]
     },
     "metadata": {},
     "output_type": "display_data"
    },
    {
     "data": {
      "text/html": [
       "Find logs at: <code>.\\wandb\\run-20240303_122441-fe21c4kr\\logs</code>"
      ],
      "text/plain": [
       "<IPython.core.display.HTML object>"
      ]
     },
     "metadata": {},
     "output_type": "display_data"
    },
    {
     "data": {
      "application/vnd.jupyter.widget-view+json": {
       "model_id": "9fcf39a6a3d642bc8ed77e20129494e2",
       "version_major": 2,
       "version_minor": 0
      },
      "text/plain": [
       "VBox(children=(Label(value='Waiting for wandb.init()...\\r'), FloatProgress(value=0.01693333333338766, max=1.0)…"
      ]
     },
     "metadata": {},
     "output_type": "display_data"
    },
    {
     "data": {
      "text/html": [
       "wandb version 0.16.3 is available!  To upgrade, please run:\n",
       " $ pip install wandb --upgrade"
      ],
      "text/plain": [
       "<IPython.core.display.HTML object>"
      ]
     },
     "metadata": {},
     "output_type": "display_data"
    },
    {
     "data": {
      "text/html": [
       "Tracking run with wandb version 0.14.0"
      ],
      "text/plain": [
       "<IPython.core.display.HTML object>"
      ]
     },
     "metadata": {},
     "output_type": "display_data"
    },
    {
     "data": {
      "text/html": [
       "Run data is saved locally in <code>y:\\coskun-lab\\Thomas\\11_snowflakes\\notebooks\\wandb\\run-20240303_151209-mw7hfw94</code>"
      ],
      "text/plain": [
       "<IPython.core.display.HTML object>"
      ]
     },
     "metadata": {},
     "output_type": "display_data"
    },
    {
     "data": {
      "text/html": [
       "Syncing run <strong><a href='https://wandb.ai/thoomas/SF_030324_Covid_pos/runs/mw7hfw94' target=\"_blank\">GINConv_2_16_1</a></strong> to <a href='https://wandb.ai/thoomas/SF_030324_Covid_pos' target=\"_blank\">Weights & Biases</a> (<a href='https://wandb.me/run' target=\"_blank\">docs</a>)<br/>"
      ],
      "text/plain": [
       "<IPython.core.display.HTML object>"
      ]
     },
     "metadata": {},
     "output_type": "display_data"
    },
    {
     "data": {
      "text/html": [
       " View project at <a href='https://wandb.ai/thoomas/SF_030324_Covid_pos' target=\"_blank\">https://wandb.ai/thoomas/SF_030324_Covid_pos</a>"
      ],
      "text/plain": [
       "<IPython.core.display.HTML object>"
      ]
     },
     "metadata": {},
     "output_type": "display_data"
    },
    {
     "data": {
      "text/html": [
       " View run at <a href='https://wandb.ai/thoomas/SF_030324_Covid_pos/runs/mw7hfw94' target=\"_blank\">https://wandb.ai/thoomas/SF_030324_Covid_pos/runs/mw7hfw94</a>"
      ],
      "text/plain": [
       "<IPython.core.display.HTML object>"
      ]
     },
     "metadata": {},
     "output_type": "display_data"
    },
    {
     "name": "stderr",
     "output_type": "stream",
     "text": [
      "Global seed set to 42\n",
      "C:\\Users\\thu71\\AppData\\Roaming\\Python\\Python39\\site-packages\\lightning\\pytorch\\loggers\\wandb.py:395: UserWarning: There is a wandb run already in progress and newly created instances of `WandbLogger` will reuse this run. If this is not desired, call `wandb.finish()` before instantiating `WandbLogger`.\n",
      "  rank_zero_warn(\n",
      "GPU available: True (cuda), used: True\n",
      "TPU available: False, using: 0 TPU cores\n",
      "IPU available: False, using: 0 IPUs\n",
      "HPU available: False, using: 0 HPUs\n",
      "Global seed set to 42\n",
      "LOCAL_RANK: 0 - CUDA_VISIBLE_DEVICES: [0,1]\n",
      "\n",
      "   | Name        | Type             | Params\n",
      "--------------------------------------------------\n",
      "0  | model       | GIN              | 1.0 K \n",
      "1  | fnn_layer   | Linear           | 272   \n",
      "2  | selu        | SELU             | 0     \n",
      "3  | head        | Linear           | 34    \n",
      "4  | loss_module | CrossEntropyLoss | 0     \n",
      "5  | train_acc   | BinaryAccuracy   | 0     \n",
      "6  | train_auroc | BinaryAUROC      | 0     \n",
      "7  | train_f1    | BinaryF1Score    | 0     \n",
      "8  | valid_acc   | BinaryAccuracy   | 0     \n",
      "9  | valid_auroc | BinaryAUROC      | 0     \n",
      "10 | valid_f1    | BinaryF1Score    | 0     \n",
      "11 | test_acc    | BinaryAccuracy   | 0     \n",
      "12 | test_auroc  | BinaryAUROC      | 0     \n",
      "13 | test_f1     | BinaryF1Score    | 0     \n",
      "--------------------------------------------------\n",
      "1.3 K     Trainable params\n",
      "0         Non-trainable params\n",
      "1.3 K     Total params\n",
      "0.005     Total estimated model params size (MB)\n",
      "C:\\Users\\thu71\\AppData\\Roaming\\Python\\Python39\\site-packages\\lightning\\pytorch\\trainer\\connectors\\data_connector.py:478: PossibleUserWarning: Your `val_dataloader`'s sampler has shuffling enabled, it is strongly recommended that you turn shuffling off for val/test dataloaders.\n",
      "  rank_zero_warn(\n",
      "C:\\Users\\thu71\\AppData\\Roaming\\Python\\Python39\\site-packages\\lightning\\pytorch\\trainer\\connectors\\data_connector.py:430: PossibleUserWarning: The dataloader, val_dataloader, does not have many workers which may be a bottleneck. Consider increasing the value of the `num_workers` argument` (try 48 which is the number of cpus on this machine) in the `DataLoader` init to improve performance.\n",
      "  rank_zero_warn(\n",
      "C:\\Users\\thu71\\AppData\\Roaming\\Python\\Python39\\site-packages\\lightning\\pytorch\\trainer\\connectors\\data_connector.py:430: PossibleUserWarning: The dataloader, train_dataloader, does not have many workers which may be a bottleneck. Consider increasing the value of the `num_workers` argument` (try 48 which is the number of cpus on this machine) in the `DataLoader` init to improve performance.\n",
      "  rank_zero_warn(\n",
      "C:\\Users\\thu71\\AppData\\Roaming\\Python\\Python39\\site-packages\\lightning\\pytorch\\loops\\fit_loop.py:280: PossibleUserWarning: The number of training batches (2) is smaller than the logging interval Trainer(log_every_n_steps=10). Set a lower value for log_every_n_steps if you want to see logs for the training epoch.\n",
      "  rank_zero_warn(\n",
      "`Trainer.fit` stopped: `max_epochs=50` reached.\n",
      "LOCAL_RANK: 0 - CUDA_VISIBLE_DEVICES: [0,1]\n",
      "C:\\Users\\thu71\\AppData\\Roaming\\Python\\Python39\\site-packages\\lightning\\pytorch\\trainer\\connectors\\data_connector.py:478: PossibleUserWarning: Your `test_dataloader`'s sampler has shuffling enabled, it is strongly recommended that you turn shuffling off for val/test dataloaders.\n",
      "  rank_zero_warn(\n",
      "C:\\Users\\thu71\\AppData\\Roaming\\Python\\Python39\\site-packages\\lightning\\pytorch\\trainer\\connectors\\data_connector.py:430: PossibleUserWarning: The dataloader, test_dataloader, does not have many workers which may be a bottleneck. Consider increasing the value of the `num_workers` argument` (try 48 which is the number of cpus on this machine) in the `DataLoader` init to improve performance.\n",
      "  rank_zero_warn(\n"
     ]
    },
    {
     "name": "stdout",
     "output_type": "stream",
     "text": [
      "{'test_acc': tensor(0.7744), 'test_auc': tensor(0.8763), 'test_f1': tensor(0.8214)}\n"
     ]
    },
    {
     "data": {
      "text/html": [
       "Waiting for W&B process to finish... <strong style=\"color:green\">(success).</strong>"
      ],
      "text/plain": [
       "<IPython.core.display.HTML object>"
      ]
     },
     "metadata": {},
     "output_type": "display_data"
    },
    {
     "data": {
      "application/vnd.jupyter.widget-view+json": {
       "model_id": "be3a67e8b8bf4a03b0d8ebd38bd64cca",
       "version_major": 2,
       "version_minor": 0
      },
      "text/plain": [
       "VBox(children=(Label(value='0.001 MB of 0.001 MB uploaded (0.000 MB deduped)\\r'), FloatProgress(value=1.0, max…"
      ]
     },
     "metadata": {},
     "output_type": "display_data"
    },
    {
     "data": {
      "text/html": [
       "<style>\n",
       "    table.wandb td:nth-child(1) { padding: 0 10px; text-align: left ; width: auto;} td:nth-child(2) {text-align: left ; width: 100%}\n",
       "    .wandb-row { display: flex; flex-direction: row; flex-wrap: wrap; justify-content: flex-start; width: 100% }\n",
       "    .wandb-col { display: flex; flex-direction: column; flex-basis: 100%; flex: 1; padding: 10px; }\n",
       "    </style>\n",
       "<div class=\"wandb-row\"><div class=\"wandb-col\"><h3>Run history:</h3><br/><table class=\"wandb\"><tr><td>epoch</td><td>▁▁▁▂▂▂▂▂▂▃▃▃▃▃▄▄▄▄▄▄▅▅▅▅▅▅▆▆▆▆▆▆▇▇▇▇▇███</td></tr><tr><td>lr-Adam</td><td>▁▁▁▁▁▁▁▁▁▁▁▁▁▁▁▁▁▁▁▁▁▁▁▁▁▁▁▁▁▁▁▁▁▁▁▁▁▁▁▁</td></tr><tr><td>test_acc</td><td>▁</td></tr><tr><td>test_auc</td><td>▁</td></tr><tr><td>test_f1</td><td>▁</td></tr><tr><td>train_acc</td><td>▁▂▄▅▅▆▆▆▆▇▇▇▇▇▇▇▇▇▇▇▇▇▇▇█▇▇▇▇██████▇█▇██</td></tr><tr><td>train_auc</td><td>▁▄▅▆▆▇▇▇▇▇▇▇▇▇▇▇▇▇▇▇▇▇█▇▇█▇█████████████</td></tr><tr><td>train_f1</td><td>▁▂▄▄▅▅▅▅▆▆▆▆▆▇▇▇▇▇▇▇▇▇▇▇▇▇▇▇▇▇▇████▇█▇██</td></tr><tr><td>train_loss_epoch</td><td>█▇▆▆▄▄▄▄▃▃▃▃▂▂▂▂▂▂▂▂▂▂▂▂▂▂▂▁▂▁▁▁▁▁▁▂▁▁▁▁</td></tr><tr><td>train_loss_step</td><td>█▄▃▅▂▁▃▃▂▂</td></tr><tr><td>trainer/global_step</td><td>▁▁▁▂▂▂▂▂▂▃▃▃▃▃▄▂▂▄▃▄▅▅▅▃▅▅▃▆▆▆▆▄▇▄▄▇████</td></tr><tr><td>val_acc</td><td>▁▃▅▄▃▃▃▃▃▄▅▆▆▆▆▇▇█▇▇▆▇▇▇▆▆▆▆▇▇▇▇▇▇▇████▇</td></tr><tr><td>val_auc</td><td>▁▂▂▂▅▅▆▆▇▇▆▇▅▅▆▆▆▇▆▆▆▇▇▇▆▆▇▇██▇▇▆▇██▇▇██</td></tr><tr><td>val_f1</td><td>▁▃▄▄▃▃▄▄▄▄▄▅▅▄▅▆▆▇▆▆▅▆▆▅▄▃▄▄▆▆▆▆▅▆▆▇█▇█▆</td></tr><tr><td>val_loss_epoch</td><td>█▇▇▇▇▇▇▆▅▅▄▄▃▃▃▃▃▃▃▃▃▃▂▃▃▄▃▃▂▂▂▃▃▂▂▂▁▁▁▂</td></tr><tr><td>val_loss_step</td><td>█▇▇▇▇▇▇▆▅▅▄▄▃▃▃▃▃▃▃▃▃▃▂▃▃▄▃▃▂▂▂▃▃▂▂▂▁▁▁▂</td></tr></table><br/></div><div class=\"wandb-col\"><h3>Run summary:</h3><br/><table class=\"wandb\"><tr><td>epoch</td><td>50</td></tr><tr><td>lr-Adam</td><td>0.005</td></tr><tr><td>test_acc</td><td>0.77444</td></tr><tr><td>test_auc</td><td>0.87627</td></tr><tr><td>test_f1</td><td>0.82143</td></tr><tr><td>train_acc</td><td>0.91903</td></tr><tr><td>train_auc</td><td>0.94549</td></tr><tr><td>train_f1</td><td>0.93056</td></tr><tr><td>train_loss_epoch</td><td>0.40178</td></tr><tr><td>train_loss_step</td><td>0.39291</td></tr><tr><td>trainer/global_step</td><td>100</td></tr><tr><td>val_acc</td><td>0.80645</td></tr><tr><td>val_auc</td><td>0.8973</td></tr><tr><td>val_f1</td><td>0.84615</td></tr><tr><td>val_loss_epoch</td><td>0.49549</td></tr><tr><td>val_loss_step</td><td>0.49549</td></tr></table><br/></div></div>"
      ],
      "text/plain": [
       "<IPython.core.display.HTML object>"
      ]
     },
     "metadata": {},
     "output_type": "display_data"
    },
    {
     "data": {
      "text/html": [
       " View run <strong style=\"color:#cdcd00\">GINConv_2_16_1</strong> at: <a href='https://wandb.ai/thoomas/SF_030324_Covid_pos/runs/mw7hfw94' target=\"_blank\">https://wandb.ai/thoomas/SF_030324_Covid_pos/runs/mw7hfw94</a><br/>Synced 6 W&B file(s), 0 media file(s), 0 artifact file(s) and 0 other file(s)"
      ],
      "text/plain": [
       "<IPython.core.display.HTML object>"
      ]
     },
     "metadata": {},
     "output_type": "display_data"
    },
    {
     "data": {
      "text/html": [
       "Find logs at: <code>.\\wandb\\run-20240303_151209-mw7hfw94\\logs</code>"
      ],
      "text/plain": [
       "<IPython.core.display.HTML object>"
      ]
     },
     "metadata": {},
     "output_type": "display_data"
    },
    {
     "data": {
      "application/vnd.jupyter.widget-view+json": {
       "model_id": "7773c838225c437280c8c2ea9e08596b",
       "version_major": 2,
       "version_minor": 0
      },
      "text/plain": [
       "VBox(children=(Label(value='Waiting for wandb.init()...\\r'), FloatProgress(value=0.016666666666666666, max=1.0…"
      ]
     },
     "metadata": {},
     "output_type": "display_data"
    },
    {
     "data": {
      "text/html": [
       "wandb version 0.16.3 is available!  To upgrade, please run:\n",
       " $ pip install wandb --upgrade"
      ],
      "text/plain": [
       "<IPython.core.display.HTML object>"
      ]
     },
     "metadata": {},
     "output_type": "display_data"
    },
    {
     "data": {
      "text/html": [
       "Tracking run with wandb version 0.14.0"
      ],
      "text/plain": [
       "<IPython.core.display.HTML object>"
      ]
     },
     "metadata": {},
     "output_type": "display_data"
    },
    {
     "data": {
      "text/html": [
       "Run data is saved locally in <code>y:\\coskun-lab\\Thomas\\11_snowflakes\\notebooks\\wandb\\run-20240303_151728-mkvz2c2j</code>"
      ],
      "text/plain": [
       "<IPython.core.display.HTML object>"
      ]
     },
     "metadata": {},
     "output_type": "display_data"
    },
    {
     "data": {
      "text/html": [
       "Syncing run <strong><a href='https://wandb.ai/thoomas/SF_030324_Covid_pos/runs/mkvz2c2j' target=\"_blank\">GAT_2_16_1</a></strong> to <a href='https://wandb.ai/thoomas/SF_030324_Covid_pos' target=\"_blank\">Weights & Biases</a> (<a href='https://wandb.me/run' target=\"_blank\">docs</a>)<br/>"
      ],
      "text/plain": [
       "<IPython.core.display.HTML object>"
      ]
     },
     "metadata": {},
     "output_type": "display_data"
    },
    {
     "data": {
      "text/html": [
       " View project at <a href='https://wandb.ai/thoomas/SF_030324_Covid_pos' target=\"_blank\">https://wandb.ai/thoomas/SF_030324_Covid_pos</a>"
      ],
      "text/plain": [
       "<IPython.core.display.HTML object>"
      ]
     },
     "metadata": {},
     "output_type": "display_data"
    },
    {
     "data": {
      "text/html": [
       " View run at <a href='https://wandb.ai/thoomas/SF_030324_Covid_pos/runs/mkvz2c2j' target=\"_blank\">https://wandb.ai/thoomas/SF_030324_Covid_pos/runs/mkvz2c2j</a>"
      ],
      "text/plain": [
       "<IPython.core.display.HTML object>"
      ]
     },
     "metadata": {},
     "output_type": "display_data"
    },
    {
     "name": "stderr",
     "output_type": "stream",
     "text": [
      "Global seed set to 42\n",
      "C:\\Users\\thu71\\AppData\\Roaming\\Python\\Python39\\site-packages\\lightning\\pytorch\\loggers\\wandb.py:395: UserWarning: There is a wandb run already in progress and newly created instances of `WandbLogger` will reuse this run. If this is not desired, call `wandb.finish()` before instantiating `WandbLogger`.\n",
      "  rank_zero_warn(\n",
      "GPU available: True (cuda), used: True\n",
      "TPU available: False, using: 0 TPU cores\n",
      "IPU available: False, using: 0 IPUs\n",
      "HPU available: False, using: 0 HPUs\n",
      "Global seed set to 42\n",
      "LOCAL_RANK: 0 - CUDA_VISIBLE_DEVICES: [0,1]\n",
      "\n",
      "   | Name        | Type             | Params\n",
      "--------------------------------------------------\n",
      "0  | model       | GAT              | 5.1 K \n",
      "1  | fnn_layer   | Linear           | 272   \n",
      "2  | selu        | SELU             | 0     \n",
      "3  | head        | Linear           | 34    \n",
      "4  | loss_module | CrossEntropyLoss | 0     \n",
      "5  | train_acc   | BinaryAccuracy   | 0     \n",
      "6  | train_auroc | BinaryAUROC      | 0     \n",
      "7  | train_f1    | BinaryF1Score    | 0     \n",
      "8  | valid_acc   | BinaryAccuracy   | 0     \n",
      "9  | valid_auroc | BinaryAUROC      | 0     \n",
      "10 | valid_f1    | BinaryF1Score    | 0     \n",
      "11 | test_acc    | BinaryAccuracy   | 0     \n",
      "12 | test_auroc  | BinaryAUROC      | 0     \n",
      "13 | test_f1     | BinaryF1Score    | 0     \n",
      "--------------------------------------------------\n",
      "5.4 K     Trainable params\n",
      "0         Non-trainable params\n",
      "5.4 K     Total params\n",
      "0.022     Total estimated model params size (MB)\n",
      "C:\\Users\\thu71\\AppData\\Roaming\\Python\\Python39\\site-packages\\lightning\\pytorch\\trainer\\connectors\\data_connector.py:478: PossibleUserWarning: Your `val_dataloader`'s sampler has shuffling enabled, it is strongly recommended that you turn shuffling off for val/test dataloaders.\n",
      "  rank_zero_warn(\n",
      "C:\\Users\\thu71\\AppData\\Roaming\\Python\\Python39\\site-packages\\lightning\\pytorch\\trainer\\connectors\\data_connector.py:430: PossibleUserWarning: The dataloader, val_dataloader, does not have many workers which may be a bottleneck. Consider increasing the value of the `num_workers` argument` (try 48 which is the number of cpus on this machine) in the `DataLoader` init to improve performance.\n",
      "  rank_zero_warn(\n",
      "C:\\Users\\thu71\\AppData\\Roaming\\Python\\Python39\\site-packages\\lightning\\pytorch\\trainer\\connectors\\data_connector.py:430: PossibleUserWarning: The dataloader, train_dataloader, does not have many workers which may be a bottleneck. Consider increasing the value of the `num_workers` argument` (try 48 which is the number of cpus on this machine) in the `DataLoader` init to improve performance.\n",
      "  rank_zero_warn(\n",
      "C:\\Users\\thu71\\AppData\\Roaming\\Python\\Python39\\site-packages\\lightning\\pytorch\\loops\\fit_loop.py:280: PossibleUserWarning: The number of training batches (4) is smaller than the logging interval Trainer(log_every_n_steps=10). Set a lower value for log_every_n_steps if you want to see logs for the training epoch.\n",
      "  rank_zero_warn(\n",
      "`Trainer.fit` stopped: `max_epochs=50` reached.\n",
      "LOCAL_RANK: 0 - CUDA_VISIBLE_DEVICES: [0,1]\n",
      "C:\\Users\\thu71\\AppData\\Roaming\\Python\\Python39\\site-packages\\lightning\\pytorch\\trainer\\connectors\\data_connector.py:478: PossibleUserWarning: Your `test_dataloader`'s sampler has shuffling enabled, it is strongly recommended that you turn shuffling off for val/test dataloaders.\n",
      "  rank_zero_warn(\n",
      "C:\\Users\\thu71\\AppData\\Roaming\\Python\\Python39\\site-packages\\lightning\\pytorch\\trainer\\connectors\\data_connector.py:430: PossibleUserWarning: The dataloader, test_dataloader, does not have many workers which may be a bottleneck. Consider increasing the value of the `num_workers` argument` (try 48 which is the number of cpus on this machine) in the `DataLoader` init to improve performance.\n",
      "  rank_zero_warn(\n"
     ]
    },
    {
     "name": "stdout",
     "output_type": "stream",
     "text": [
      "{'test_acc': tensor(0.8271), 'test_auc': tensor(0.8966), 'test_f1': tensor(0.8369)}\n"
     ]
    },
    {
     "data": {
      "text/html": [
       "Waiting for W&B process to finish... <strong style=\"color:green\">(success).</strong>"
      ],
      "text/plain": [
       "<IPython.core.display.HTML object>"
      ]
     },
     "metadata": {},
     "output_type": "display_data"
    },
    {
     "data": {
      "application/vnd.jupyter.widget-view+json": {
       "model_id": "10860e1fa4c34a84991b3317619f7500",
       "version_major": 2,
       "version_minor": 0
      },
      "text/plain": [
       "VBox(children=(Label(value='0.001 MB of 0.001 MB uploaded (0.000 MB deduped)\\r'), FloatProgress(value=1.0, max…"
      ]
     },
     "metadata": {},
     "output_type": "display_data"
    },
    {
     "data": {
      "text/html": [
       "<style>\n",
       "    table.wandb td:nth-child(1) { padding: 0 10px; text-align: left ; width: auto;} td:nth-child(2) {text-align: left ; width: 100%}\n",
       "    .wandb-row { display: flex; flex-direction: row; flex-wrap: wrap; justify-content: flex-start; width: 100% }\n",
       "    .wandb-col { display: flex; flex-direction: column; flex-basis: 100%; flex: 1; padding: 10px; }\n",
       "    </style>\n",
       "<div class=\"wandb-row\"><div class=\"wandb-col\"><h3>Run history:</h3><br/><table class=\"wandb\"><tr><td>epoch</td><td>▁▁▁▂▂▂▂▂▂▃▃▃▃▃▄▄▄▄▄▄▅▅▅▅▅▅▆▆▆▆▆▆▇▇▇▇▇███</td></tr><tr><td>lr-Adam</td><td>▁▁▁▁▁▁▁▁▁▁▁▁▁▁▁▁▁▁▁▁▁▁▁▁▁▁▁▁▁▁▁▁▁▁▁▁▁▁▁▁</td></tr><tr><td>test_acc</td><td>▁</td></tr><tr><td>test_auc</td><td>▁</td></tr><tr><td>test_f1</td><td>▁</td></tr><tr><td>train_acc</td><td>▁▂▃▃▄▄▄▅▅▅▆▆▆▆▆▆▆▆▆▆▆▇▆▇▇▇▇▆▆▇▇▇▇▇▇██▇██</td></tr><tr><td>train_auc</td><td>▁▂▃▄▅▅▅▆▆▆▇▇▇▇▇▇▇▇▇▇▇▇▇▇▇██▇▇█▇▇████████</td></tr><tr><td>train_f1</td><td>▁▃▄▄▄▄▄▅▅▅▆▆▆▆▆▆▆▆▆▆▅▆▆▆▇▇▇▆▆▇▇▆▇▇▇██▇██</td></tr><tr><td>train_loss_epoch</td><td>██▇▇▆▆▆▅▄▅▃▃▄▃▃▃▃▃▃▃▃▃▃▃▃▂▂▃▃▂▂▂▂▂▂▁▁▂▁▁</td></tr><tr><td>train_loss_step</td><td>█▇▇▄▄▃▄▃▃▄▃▂▂▃▂▃▃▂▁▁</td></tr><tr><td>trainer/global_step</td><td>▁▁▁▂▁▁▂▂▁▃▃▃▂▃▄▄▂▄▄▂▂▅▅▂▅▅▆▂▆▆▆▂▇▇▇▃▇███</td></tr><tr><td>val_acc</td><td>▃▄▅▃▄▄▄▅▆▆▅▆▄▆▅▅▃▄▁▆▃▅▄▄▅▅▅█▆▆▄▇▅▆▆▅▆▅▅▅</td></tr><tr><td>val_auc</td><td>▁▂▄▄▅▆▆▇██▇█▇▇▇▇▆▇▆▇▇▇▇▇▇▇▇▇▇▇▇█▇▇▇▇▇▇▇▇</td></tr><tr><td>val_f1</td><td>▆▆▇▄▅▄▅▆▆▆▅▆▅▇▆▅▃▅▁▆▃▆▄▄▅▅▆█▇▇▄▇▅▇▆▅▆▅▆▆</td></tr><tr><td>val_loss_epoch</td><td>██▇▇▆▅▅▄▄▃▄▃▄▃▃▄▅▄▆▂▄▂▃▄▃▃▂▁▁▁▄▁▄▁▂▃▁▂▂▂</td></tr><tr><td>val_loss_step</td><td>██▇▇▆▅▅▄▄▃▄▃▄▃▃▄▅▄▆▂▄▂▃▄▃▃▂▁▁▁▄▁▄▁▂▃▁▂▂▂</td></tr></table><br/></div><div class=\"wandb-col\"><h3>Run summary:</h3><br/><table class=\"wandb\"><tr><td>epoch</td><td>50</td></tr><tr><td>lr-Adam</td><td>0.005</td></tr><tr><td>test_acc</td><td>0.82707</td></tr><tr><td>test_auc</td><td>0.89658</td></tr><tr><td>test_f1</td><td>0.83688</td></tr><tr><td>train_acc</td><td>0.92308</td></tr><tr><td>train_auc</td><td>0.96762</td></tr><tr><td>train_f1</td><td>0.9338</td></tr><tr><td>train_loss_epoch</td><td>0.40392</td></tr><tr><td>train_loss_step</td><td>0.38137</td></tr><tr><td>trainer/global_step</td><td>200</td></tr><tr><td>val_acc</td><td>0.72581</td></tr><tr><td>val_auc</td><td>0.85622</td></tr><tr><td>val_f1</td><td>0.74627</td></tr><tr><td>val_loss_epoch</td><td>0.54739</td></tr><tr><td>val_loss_step</td><td>0.54739</td></tr></table><br/></div></div>"
      ],
      "text/plain": [
       "<IPython.core.display.HTML object>"
      ]
     },
     "metadata": {},
     "output_type": "display_data"
    },
    {
     "data": {
      "text/html": [
       " View run <strong style=\"color:#cdcd00\">GAT_2_16_1</strong> at: <a href='https://wandb.ai/thoomas/SF_030324_Covid_pos/runs/mkvz2c2j' target=\"_blank\">https://wandb.ai/thoomas/SF_030324_Covid_pos/runs/mkvz2c2j</a><br/>Synced 6 W&B file(s), 0 media file(s), 0 artifact file(s) and 0 other file(s)"
      ],
      "text/plain": [
       "<IPython.core.display.HTML object>"
      ]
     },
     "metadata": {},
     "output_type": "display_data"
    },
    {
     "data": {
      "text/html": [
       "Find logs at: <code>.\\wandb\\run-20240303_151728-mkvz2c2j\\logs</code>"
      ],
      "text/plain": [
       "<IPython.core.display.HTML object>"
      ]
     },
     "metadata": {},
     "output_type": "display_data"
    },
    {
     "data": {
      "application/vnd.jupyter.widget-view+json": {
       "model_id": "166f2869e7654f4bb4508c276cda5090",
       "version_major": 2,
       "version_minor": 0
      },
      "text/plain": [
       "VBox(children=(Label(value='Waiting for wandb.init()...\\r'), FloatProgress(value=0.016666666666666666, max=1.0…"
      ]
     },
     "metadata": {},
     "output_type": "display_data"
    },
    {
     "data": {
      "text/html": [
       "wandb version 0.16.3 is available!  To upgrade, please run:\n",
       " $ pip install wandb --upgrade"
      ],
      "text/plain": [
       "<IPython.core.display.HTML object>"
      ]
     },
     "metadata": {},
     "output_type": "display_data"
    },
    {
     "data": {
      "text/html": [
       "Tracking run with wandb version 0.14.0"
      ],
      "text/plain": [
       "<IPython.core.display.HTML object>"
      ]
     },
     "metadata": {},
     "output_type": "display_data"
    },
    {
     "data": {
      "text/html": [
       "Run data is saved locally in <code>y:\\coskun-lab\\Thomas\\11_snowflakes\\notebooks\\wandb\\run-20240303_190855-5tfoq50u</code>"
      ],
      "text/plain": [
       "<IPython.core.display.HTML object>"
      ]
     },
     "metadata": {},
     "output_type": "display_data"
    },
    {
     "data": {
      "text/html": [
       "Syncing run <strong><a href='https://wandb.ai/thoomas/SF_030324_Covid_pos/runs/5tfoq50u' target=\"_blank\">GINConv_2_16_1</a></strong> to <a href='https://wandb.ai/thoomas/SF_030324_Covid_pos' target=\"_blank\">Weights & Biases</a> (<a href='https://wandb.me/run' target=\"_blank\">docs</a>)<br/>"
      ],
      "text/plain": [
       "<IPython.core.display.HTML object>"
      ]
     },
     "metadata": {},
     "output_type": "display_data"
    },
    {
     "data": {
      "text/html": [
       " View project at <a href='https://wandb.ai/thoomas/SF_030324_Covid_pos' target=\"_blank\">https://wandb.ai/thoomas/SF_030324_Covid_pos</a>"
      ],
      "text/plain": [
       "<IPython.core.display.HTML object>"
      ]
     },
     "metadata": {},
     "output_type": "display_data"
    },
    {
     "data": {
      "text/html": [
       " View run at <a href='https://wandb.ai/thoomas/SF_030324_Covid_pos/runs/5tfoq50u' target=\"_blank\">https://wandb.ai/thoomas/SF_030324_Covid_pos/runs/5tfoq50u</a>"
      ],
      "text/plain": [
       "<IPython.core.display.HTML object>"
      ]
     },
     "metadata": {},
     "output_type": "display_data"
    },
    {
     "name": "stderr",
     "output_type": "stream",
     "text": [
      "Global seed set to 42\n",
      "C:\\Users\\thu71\\AppData\\Roaming\\Python\\Python39\\site-packages\\lightning\\pytorch\\loggers\\wandb.py:395: UserWarning: There is a wandb run already in progress and newly created instances of `WandbLogger` will reuse this run. If this is not desired, call `wandb.finish()` before instantiating `WandbLogger`.\n",
      "  rank_zero_warn(\n",
      "GPU available: True (cuda), used: True\n",
      "TPU available: False, using: 0 TPU cores\n",
      "IPU available: False, using: 0 IPUs\n",
      "HPU available: False, using: 0 HPUs\n",
      "Global seed set to 42\n",
      "LOCAL_RANK: 0 - CUDA_VISIBLE_DEVICES: [0,1]\n",
      "\n",
      "   | Name        | Type             | Params\n",
      "--------------------------------------------------\n",
      "0  | model       | GIN              | 1.0 K \n",
      "1  | fnn_layer   | Linear           | 272   \n",
      "2  | selu        | SELU             | 0     \n",
      "3  | head        | Linear           | 34    \n",
      "4  | loss_module | CrossEntropyLoss | 0     \n",
      "5  | train_acc   | BinaryAccuracy   | 0     \n",
      "6  | train_auroc | BinaryAUROC      | 0     \n",
      "7  | train_f1    | BinaryF1Score    | 0     \n",
      "8  | valid_acc   | BinaryAccuracy   | 0     \n",
      "9  | valid_auroc | BinaryAUROC      | 0     \n",
      "10 | valid_f1    | BinaryF1Score    | 0     \n",
      "11 | test_acc    | BinaryAccuracy   | 0     \n",
      "12 | test_auroc  | BinaryAUROC      | 0     \n",
      "13 | test_f1     | BinaryF1Score    | 0     \n",
      "--------------------------------------------------\n",
      "1.3 K     Trainable params\n",
      "0         Non-trainable params\n",
      "1.3 K     Total params\n",
      "0.005     Total estimated model params size (MB)\n",
      "C:\\Users\\thu71\\AppData\\Roaming\\Python\\Python39\\site-packages\\lightning\\pytorch\\trainer\\connectors\\data_connector.py:478: PossibleUserWarning: Your `val_dataloader`'s sampler has shuffling enabled, it is strongly recommended that you turn shuffling off for val/test dataloaders.\n",
      "  rank_zero_warn(\n",
      "C:\\Users\\thu71\\AppData\\Roaming\\Python\\Python39\\site-packages\\lightning\\pytorch\\trainer\\connectors\\data_connector.py:430: PossibleUserWarning: The dataloader, val_dataloader, does not have many workers which may be a bottleneck. Consider increasing the value of the `num_workers` argument` (try 48 which is the number of cpus on this machine) in the `DataLoader` init to improve performance.\n",
      "  rank_zero_warn(\n",
      "C:\\Users\\thu71\\AppData\\Roaming\\Python\\Python39\\site-packages\\lightning\\pytorch\\trainer\\connectors\\data_connector.py:430: PossibleUserWarning: The dataloader, train_dataloader, does not have many workers which may be a bottleneck. Consider increasing the value of the `num_workers` argument` (try 48 which is the number of cpus on this machine) in the `DataLoader` init to improve performance.\n",
      "  rank_zero_warn(\n",
      "C:\\Users\\thu71\\AppData\\Roaming\\Python\\Python39\\site-packages\\lightning\\pytorch\\loops\\fit_loop.py:280: PossibleUserWarning: The number of training batches (2) is smaller than the logging interval Trainer(log_every_n_steps=10). Set a lower value for log_every_n_steps if you want to see logs for the training epoch.\n",
      "  rank_zero_warn(\n",
      "`Trainer.fit` stopped: `max_epochs=50` reached.\n",
      "LOCAL_RANK: 0 - CUDA_VISIBLE_DEVICES: [0,1]\n",
      "C:\\Users\\thu71\\AppData\\Roaming\\Python\\Python39\\site-packages\\lightning\\pytorch\\trainer\\connectors\\data_connector.py:478: PossibleUserWarning: Your `test_dataloader`'s sampler has shuffling enabled, it is strongly recommended that you turn shuffling off for val/test dataloaders.\n",
      "  rank_zero_warn(\n",
      "C:\\Users\\thu71\\AppData\\Roaming\\Python\\Python39\\site-packages\\lightning\\pytorch\\trainer\\connectors\\data_connector.py:430: PossibleUserWarning: The dataloader, test_dataloader, does not have many workers which may be a bottleneck. Consider increasing the value of the `num_workers` argument` (try 48 which is the number of cpus on this machine) in the `DataLoader` init to improve performance.\n",
      "  rank_zero_warn(\n"
     ]
    },
    {
     "name": "stdout",
     "output_type": "stream",
     "text": [
      "{'test_acc': tensor(0.8120), 'test_auc': tensor(0.8783), 'test_f1': tensor(0.8366)}\n"
     ]
    },
    {
     "data": {
      "text/html": [
       "Waiting for W&B process to finish... <strong style=\"color:green\">(success).</strong>"
      ],
      "text/plain": [
       "<IPython.core.display.HTML object>"
      ]
     },
     "metadata": {},
     "output_type": "display_data"
    },
    {
     "data": {
      "application/vnd.jupyter.widget-view+json": {
       "model_id": "46fb5e0bb20c4f0f80235e49b5286b2e",
       "version_major": 2,
       "version_minor": 0
      },
      "text/plain": [
       "VBox(children=(Label(value='0.001 MB of 0.001 MB uploaded (0.000 MB deduped)\\r'), FloatProgress(value=1.0, max…"
      ]
     },
     "metadata": {},
     "output_type": "display_data"
    },
    {
     "data": {
      "text/html": [
       "<style>\n",
       "    table.wandb td:nth-child(1) { padding: 0 10px; text-align: left ; width: auto;} td:nth-child(2) {text-align: left ; width: 100%}\n",
       "    .wandb-row { display: flex; flex-direction: row; flex-wrap: wrap; justify-content: flex-start; width: 100% }\n",
       "    .wandb-col { display: flex; flex-direction: column; flex-basis: 100%; flex: 1; padding: 10px; }\n",
       "    </style>\n",
       "<div class=\"wandb-row\"><div class=\"wandb-col\"><h3>Run history:</h3><br/><table class=\"wandb\"><tr><td>epoch</td><td>▁▁▁▂▂▂▂▂▂▃▃▃▃▃▄▄▄▄▄▄▅▅▅▅▅▅▆▆▆▆▆▆▇▇▇▇▇███</td></tr><tr><td>lr-Adam</td><td>▁▁▁▁▁▁▁▁▁▁▁▁▁▁▁▁▁▁▁▁▁▁▁▁▁▁▁▁▁▁▁▁▁▁▁▁▁▁▁▁</td></tr><tr><td>test_acc</td><td>▁</td></tr><tr><td>test_auc</td><td>▁</td></tr><tr><td>test_f1</td><td>▁</td></tr><tr><td>train_acc</td><td>▁▄▄▄▆▅▆▆▇▇▇▇▇▇▇▇▇▇▇█▇██▇▇▇▇█▇██▇██▇▇████</td></tr><tr><td>train_auc</td><td>▁▄▅▅▆▆▇▇▇▇▇▇▇▇▇▇▇█▇▇▇██▇▇▇██████████████</td></tr><tr><td>train_f1</td><td>▁▅▄▄▆▅▆▆▇▇▇▇▆▇▇▇▇▇▆█▇██▇▇▇▇▇▇██▇██▇▇████</td></tr><tr><td>train_loss_epoch</td><td>█▆▆▅▄▄▄▃▃▃▃▂▃▂▂▂▂▂▃▂▂▁▁▂▂▂▂▂▂▁▁▁▁▁▂▁▁▁▁▁</td></tr><tr><td>train_loss_step</td><td>██▆▄▄▁▅▆▃▂</td></tr><tr><td>trainer/global_step</td><td>▁▁▁▂▂▂▂▂▂▃▃▃▃▃▄▂▂▄▃▄▅▅▅▃▅▅▃▆▆▆▆▄▇▄▄▇████</td></tr><tr><td>val_acc</td><td>▁▂▅▁▅▃▂▂▃▆▄▃▇▇█▇▆▇▆▅▅▇▇█▆▆▅█▅▆▆▅▅▆▅▅▅▆▅█</td></tr><tr><td>val_auc</td><td>▁▂▃▄▅▄▄▄▅▆▅▃▆▆▇▇▇▇▇▆▇▇█▇▇▇▇▇▆▆▇▇▆▇██▇▇▇▇</td></tr><tr><td>val_f1</td><td>▃▁▅▃▄▃▃▂▃▆▄▃▆▆█▇▆▇▆▅▆▇▇█▆▆▄█▆▆▅▄▆▆▄▄▅▆▅█</td></tr><tr><td>val_loss_epoch</td><td>█▇▇▇▆▆▆▆▅▄▄▄▃▂▁▁▂▂▂▂▂▂▁▂▃▂▂▂▂▁▂▃▃▃▂▁▂▂▂▁</td></tr><tr><td>val_loss_step</td><td>█▇▇▇▆▆▆▆▅▄▄▄▃▂▁▁▂▂▂▂▂▂▁▂▃▂▂▂▂▁▂▃▃▃▂▁▂▂▂▁</td></tr></table><br/></div><div class=\"wandb-col\"><h3>Run summary:</h3><br/><table class=\"wandb\"><tr><td>epoch</td><td>50</td></tr><tr><td>lr-Adam</td><td>0.005</td></tr><tr><td>test_acc</td><td>0.81203</td></tr><tr><td>test_auc</td><td>0.87835</td></tr><tr><td>test_f1</td><td>0.8366</td></tr><tr><td>train_acc</td><td>0.88259</td></tr><tr><td>train_auc</td><td>0.94199</td></tr><tr><td>train_f1</td><td>0.89606</td></tr><tr><td>train_loss_epoch</td><td>0.42124</td></tr><tr><td>train_loss_step</td><td>0.43016</td></tr><tr><td>trainer/global_step</td><td>100</td></tr><tr><td>val_acc</td><td>0.83871</td></tr><tr><td>val_auc</td><td>0.89297</td></tr><tr><td>val_f1</td><td>0.86842</td></tr><tr><td>val_loss_epoch</td><td>0.48063</td></tr><tr><td>val_loss_step</td><td>0.48063</td></tr></table><br/></div></div>"
      ],
      "text/plain": [
       "<IPython.core.display.HTML object>"
      ]
     },
     "metadata": {},
     "output_type": "display_data"
    },
    {
     "data": {
      "text/html": [
       " View run <strong style=\"color:#cdcd00\">GINConv_2_16_1</strong> at: <a href='https://wandb.ai/thoomas/SF_030324_Covid_pos/runs/5tfoq50u' target=\"_blank\">https://wandb.ai/thoomas/SF_030324_Covid_pos/runs/5tfoq50u</a><br/>Synced 6 W&B file(s), 0 media file(s), 0 artifact file(s) and 0 other file(s)"
      ],
      "text/plain": [
       "<IPython.core.display.HTML object>"
      ]
     },
     "metadata": {},
     "output_type": "display_data"
    },
    {
     "data": {
      "text/html": [
       "Find logs at: <code>.\\wandb\\run-20240303_190855-5tfoq50u\\logs</code>"
      ],
      "text/plain": [
       "<IPython.core.display.HTML object>"
      ]
     },
     "metadata": {},
     "output_type": "display_data"
    },
    {
     "data": {
      "application/vnd.jupyter.widget-view+json": {
       "model_id": "a1a7b31e06f64a49b9ed8dc105347ce6",
       "version_major": 2,
       "version_minor": 0
      },
      "text/plain": [
       "VBox(children=(Label(value='Waiting for wandb.init()...\\r'), FloatProgress(value=0.01693333333338766, max=1.0)…"
      ]
     },
     "metadata": {},
     "output_type": "display_data"
    },
    {
     "data": {
      "text/html": [
       "wandb version 0.16.3 is available!  To upgrade, please run:\n",
       " $ pip install wandb --upgrade"
      ],
      "text/plain": [
       "<IPython.core.display.HTML object>"
      ]
     },
     "metadata": {},
     "output_type": "display_data"
    },
    {
     "data": {
      "text/html": [
       "Tracking run with wandb version 0.14.0"
      ],
      "text/plain": [
       "<IPython.core.display.HTML object>"
      ]
     },
     "metadata": {},
     "output_type": "display_data"
    },
    {
     "data": {
      "text/html": [
       "Run data is saved locally in <code>y:\\coskun-lab\\Thomas\\11_snowflakes\\notebooks\\wandb\\run-20240303_191416-blvhzjic</code>"
      ],
      "text/plain": [
       "<IPython.core.display.HTML object>"
      ]
     },
     "metadata": {},
     "output_type": "display_data"
    },
    {
     "data": {
      "text/html": [
       "Syncing run <strong><a href='https://wandb.ai/thoomas/SF_030324_Covid_pos/runs/blvhzjic' target=\"_blank\">GAT_2_16_1</a></strong> to <a href='https://wandb.ai/thoomas/SF_030324_Covid_pos' target=\"_blank\">Weights & Biases</a> (<a href='https://wandb.me/run' target=\"_blank\">docs</a>)<br/>"
      ],
      "text/plain": [
       "<IPython.core.display.HTML object>"
      ]
     },
     "metadata": {},
     "output_type": "display_data"
    },
    {
     "data": {
      "text/html": [
       " View project at <a href='https://wandb.ai/thoomas/SF_030324_Covid_pos' target=\"_blank\">https://wandb.ai/thoomas/SF_030324_Covid_pos</a>"
      ],
      "text/plain": [
       "<IPython.core.display.HTML object>"
      ]
     },
     "metadata": {},
     "output_type": "display_data"
    },
    {
     "data": {
      "text/html": [
       " View run at <a href='https://wandb.ai/thoomas/SF_030324_Covid_pos/runs/blvhzjic' target=\"_blank\">https://wandb.ai/thoomas/SF_030324_Covid_pos/runs/blvhzjic</a>"
      ],
      "text/plain": [
       "<IPython.core.display.HTML object>"
      ]
     },
     "metadata": {},
     "output_type": "display_data"
    },
    {
     "name": "stderr",
     "output_type": "stream",
     "text": [
      "Global seed set to 42\n",
      "C:\\Users\\thu71\\AppData\\Roaming\\Python\\Python39\\site-packages\\lightning\\pytorch\\loggers\\wandb.py:395: UserWarning: There is a wandb run already in progress and newly created instances of `WandbLogger` will reuse this run. If this is not desired, call `wandb.finish()` before instantiating `WandbLogger`.\n",
      "  rank_zero_warn(\n",
      "GPU available: True (cuda), used: True\n",
      "TPU available: False, using: 0 TPU cores\n",
      "IPU available: False, using: 0 IPUs\n",
      "HPU available: False, using: 0 HPUs\n",
      "Global seed set to 42\n",
      "c:\\Users\\thu71\\Anaconda3\\envs\\snowflake\\lib\\site-packages\\torch_geometric\\deprecation.py:12: UserWarning: 'nn.glob.GlobalAttention' is deprecated, use 'nn.aggr.AttentionalAggregation' instead\n",
      "  warnings.warn(out)\n",
      "LOCAL_RANK: 0 - CUDA_VISIBLE_DEVICES: [0,1]\n",
      "\n",
      "   | Name        | Type             | Params\n",
      "--------------------------------------------------\n",
      "0  | model       | GAT              | 5.1 K \n",
      "1  | fnn_layer   | Linear           | 272   \n",
      "2  | selu        | SELU             | 0     \n",
      "3  | head        | Linear           | 34    \n",
      "4  | loss_module | CrossEntropyLoss | 0     \n",
      "5  | train_acc   | BinaryAccuracy   | 0     \n",
      "6  | train_auroc | BinaryAUROC      | 0     \n",
      "7  | train_f1    | BinaryF1Score    | 0     \n",
      "8  | valid_acc   | BinaryAccuracy   | 0     \n",
      "9  | valid_auroc | BinaryAUROC      | 0     \n",
      "10 | valid_f1    | BinaryF1Score    | 0     \n",
      "11 | test_acc    | BinaryAccuracy   | 0     \n",
      "12 | test_auroc  | BinaryAUROC      | 0     \n",
      "13 | test_f1     | BinaryF1Score    | 0     \n",
      "14 | pool        | GlobalAttention  | 17    \n",
      "--------------------------------------------------\n",
      "5.4 K     Trainable params\n",
      "0         Non-trainable params\n",
      "5.4 K     Total params\n",
      "0.022     Total estimated model params size (MB)\n",
      "C:\\Users\\thu71\\AppData\\Roaming\\Python\\Python39\\site-packages\\lightning\\pytorch\\trainer\\connectors\\data_connector.py:478: PossibleUserWarning: Your `val_dataloader`'s sampler has shuffling enabled, it is strongly recommended that you turn shuffling off for val/test dataloaders.\n",
      "  rank_zero_warn(\n",
      "C:\\Users\\thu71\\AppData\\Roaming\\Python\\Python39\\site-packages\\lightning\\pytorch\\trainer\\connectors\\data_connector.py:430: PossibleUserWarning: The dataloader, val_dataloader, does not have many workers which may be a bottleneck. Consider increasing the value of the `num_workers` argument` (try 48 which is the number of cpus on this machine) in the `DataLoader` init to improve performance.\n",
      "  rank_zero_warn(\n",
      "C:\\Users\\thu71\\AppData\\Roaming\\Python\\Python39\\site-packages\\lightning\\pytorch\\trainer\\connectors\\data_connector.py:430: PossibleUserWarning: The dataloader, train_dataloader, does not have many workers which may be a bottleneck. Consider increasing the value of the `num_workers` argument` (try 48 which is the number of cpus on this machine) in the `DataLoader` init to improve performance.\n",
      "  rank_zero_warn(\n",
      "C:\\Users\\thu71\\AppData\\Roaming\\Python\\Python39\\site-packages\\lightning\\pytorch\\loops\\fit_loop.py:280: PossibleUserWarning: The number of training batches (4) is smaller than the logging interval Trainer(log_every_n_steps=10). Set a lower value for log_every_n_steps if you want to see logs for the training epoch.\n",
      "  rank_zero_warn(\n",
      "`Trainer.fit` stopped: `max_epochs=50` reached.\n",
      "LOCAL_RANK: 0 - CUDA_VISIBLE_DEVICES: [0,1]\n",
      "C:\\Users\\thu71\\AppData\\Roaming\\Python\\Python39\\site-packages\\lightning\\pytorch\\trainer\\connectors\\data_connector.py:478: PossibleUserWarning: Your `test_dataloader`'s sampler has shuffling enabled, it is strongly recommended that you turn shuffling off for val/test dataloaders.\n",
      "  rank_zero_warn(\n",
      "C:\\Users\\thu71\\AppData\\Roaming\\Python\\Python39\\site-packages\\lightning\\pytorch\\trainer\\connectors\\data_connector.py:430: PossibleUserWarning: The dataloader, test_dataloader, does not have many workers which may be a bottleneck. Consider increasing the value of the `num_workers` argument` (try 48 which is the number of cpus on this machine) in the `DataLoader` init to improve performance.\n",
      "  rank_zero_warn(\n"
     ]
    },
    {
     "name": "stdout",
     "output_type": "stream",
     "text": [
      "{'test_acc': tensor(0.7669), 'test_auc': tensor(0.9377), 'test_f1': tensor(0.7520)}\n"
     ]
    },
    {
     "data": {
      "text/html": [
       "Waiting for W&B process to finish... <strong style=\"color:green\">(success).</strong>"
      ],
      "text/plain": [
       "<IPython.core.display.HTML object>"
      ]
     },
     "metadata": {},
     "output_type": "display_data"
    },
    {
     "data": {
      "application/vnd.jupyter.widget-view+json": {
       "model_id": "bb7a805447bf4ac98d624fbf5c292086",
       "version_major": 2,
       "version_minor": 0
      },
      "text/plain": [
       "VBox(children=(Label(value='0.001 MB of 0.001 MB uploaded (0.000 MB deduped)\\r'), FloatProgress(value=1.0, max…"
      ]
     },
     "metadata": {},
     "output_type": "display_data"
    },
    {
     "data": {
      "text/html": [
       "<style>\n",
       "    table.wandb td:nth-child(1) { padding: 0 10px; text-align: left ; width: auto;} td:nth-child(2) {text-align: left ; width: 100%}\n",
       "    .wandb-row { display: flex; flex-direction: row; flex-wrap: wrap; justify-content: flex-start; width: 100% }\n",
       "    .wandb-col { display: flex; flex-direction: column; flex-basis: 100%; flex: 1; padding: 10px; }\n",
       "    </style>\n",
       "<div class=\"wandb-row\"><div class=\"wandb-col\"><h3>Run history:</h3><br/><table class=\"wandb\"><tr><td>epoch</td><td>▁▁▁▂▂▂▂▂▂▃▃▃▃▃▄▄▄▄▄▄▅▅▅▅▅▅▆▆▆▆▆▆▇▇▇▇▇███</td></tr><tr><td>lr-Adam</td><td>▁▁▁▁▁▁▁▁▁▁▁▁▁▁▁▁▁▁▁▁▁▁▁▁▁▁▁▁▁▁▁▁▁▁▁▁▁▁▁▁</td></tr><tr><td>test_acc</td><td>▁</td></tr><tr><td>test_auc</td><td>▁</td></tr><tr><td>test_f1</td><td>▁</td></tr><tr><td>train_acc</td><td>▁▁▂▃▃▃▄▄▄▃▄▄▅▅▅▅▅▆▆▆▆▆▇▇▇▇▇▇█▇███▇███▇██</td></tr><tr><td>train_auc</td><td>▁▃▃▃▄▄▄▄▄▄▅▅▅▅▆▆▇▇▇▇▇▇▇█▇███████████████</td></tr><tr><td>train_f1</td><td>▁▂▂▃▂▃▃▃▃▂▄▄▄▄▅▄▅▅▆▆▆▆▆▇▆▇▇▇█▇▇▇█▇███▇██</td></tr><tr><td>train_loss_epoch</td><td>██▇▇▇▆▆▆▆▆▆▅▅▅▅▄▄▄▃▃▃▃▃▂▂▂▂▂▁▂▁▁▁▁▂▁▁▁▁▁</td></tr><tr><td>train_loss_step</td><td>█▇▆█▇▄▆▆▅▅▅▁▁▃▂▂▂▁▂▂</td></tr><tr><td>trainer/global_step</td><td>▁▁▁▂▁▁▂▂▁▃▃▃▂▃▄▄▂▄▄▂▂▅▅▂▅▅▆▂▆▆▆▂▇▇▇▃▇███</td></tr><tr><td>val_acc</td><td>▁▁▃▃▄▂▃▂▇▆▄▃▆▆▇▇▅▆▇▇█▁▆▅▆▆▅▆▇▅▅▅▅▆▆▃▃▃▆▄</td></tr><tr><td>val_auc</td><td>▁▂▂▂▂▂▂▂▃▃▃▃▃▄▅▅▆▇▇▇█▇█▇████████▇██▇▇▇▇▇</td></tr><tr><td>val_f1</td><td>▆▆▆▆▇▆▆▆█▇▇▆▇▇██▆▇▇▇█▁▆▅▆▆▆▆▇▆▆▆▆▆▆▃▄▄▆▄</td></tr><tr><td>val_loss_epoch</td><td>██▇▇▆▆▅▆▄▄▅▅▄▄▃▃▃▃▃▃▁▇▄▄▃▂▅▂▁▄▄▄▄▂▃▆▅▅▃▅</td></tr><tr><td>val_loss_step</td><td>██▇▇▆▆▅▆▄▄▅▅▄▄▃▃▃▃▃▃▁▇▄▄▃▂▅▂▁▄▄▄▄▂▃▆▅▅▃▅</td></tr></table><br/></div><div class=\"wandb-col\"><h3>Run summary:</h3><br/><table class=\"wandb\"><tr><td>epoch</td><td>50</td></tr><tr><td>lr-Adam</td><td>0.005</td></tr><tr><td>test_acc</td><td>0.76692</td></tr><tr><td>test_auc</td><td>0.93767</td></tr><tr><td>test_f1</td><td>0.752</td></tr><tr><td>train_acc</td><td>0.92308</td></tr><tr><td>train_auc</td><td>0.97744</td></tr><tr><td>train_f1</td><td>0.93141</td></tr><tr><td>train_loss_epoch</td><td>0.39095</td></tr><tr><td>train_loss_step</td><td>0.38672</td></tr><tr><td>trainer/global_step</td><td>200</td></tr><tr><td>val_acc</td><td>0.69355</td></tr><tr><td>val_auc</td><td>0.89622</td></tr><tr><td>val_f1</td><td>0.67797</td></tr><tr><td>val_loss_epoch</td><td>0.58536</td></tr><tr><td>val_loss_step</td><td>0.58536</td></tr></table><br/></div></div>"
      ],
      "text/plain": [
       "<IPython.core.display.HTML object>"
      ]
     },
     "metadata": {},
     "output_type": "display_data"
    },
    {
     "data": {
      "text/html": [
       " View run <strong style=\"color:#cdcd00\">GAT_2_16_1</strong> at: <a href='https://wandb.ai/thoomas/SF_030324_Covid_pos/runs/blvhzjic' target=\"_blank\">https://wandb.ai/thoomas/SF_030324_Covid_pos/runs/blvhzjic</a><br/>Synced 6 W&B file(s), 0 media file(s), 0 artifact file(s) and 0 other file(s)"
      ],
      "text/plain": [
       "<IPython.core.display.HTML object>"
      ]
     },
     "metadata": {},
     "output_type": "display_data"
    },
    {
     "data": {
      "text/html": [
       "Find logs at: <code>.\\wandb\\run-20240303_191416-blvhzjic\\logs</code>"
      ],
      "text/plain": [
       "<IPython.core.display.HTML object>"
      ]
     },
     "metadata": {},
     "output_type": "display_data"
    },
    {
     "data": {
      "application/vnd.jupyter.widget-view+json": {
       "model_id": "1c59782e997f4a9ea35335d885eacb6d",
       "version_major": 2,
       "version_minor": 0
      },
      "text/plain": [
       "VBox(children=(Label(value='Waiting for wandb.init()...\\r'), FloatProgress(value=0.016916666666899498, max=1.0…"
      ]
     },
     "metadata": {},
     "output_type": "display_data"
    },
    {
     "data": {
      "text/html": [
       "wandb version 0.16.3 is available!  To upgrade, please run:\n",
       " $ pip install wandb --upgrade"
      ],
      "text/plain": [
       "<IPython.core.display.HTML object>"
      ]
     },
     "metadata": {},
     "output_type": "display_data"
    },
    {
     "data": {
      "text/html": [
       "Tracking run with wandb version 0.14.0"
      ],
      "text/plain": [
       "<IPython.core.display.HTML object>"
      ]
     },
     "metadata": {},
     "output_type": "display_data"
    },
    {
     "data": {
      "text/html": [
       "Run data is saved locally in <code>y:\\coskun-lab\\Thomas\\11_snowflakes\\notebooks\\wandb\\run-20240303_194844-g6enighx</code>"
      ],
      "text/plain": [
       "<IPython.core.display.HTML object>"
      ]
     },
     "metadata": {},
     "output_type": "display_data"
    },
    {
     "data": {
      "text/html": [
       "Syncing run <strong><a href='https://wandb.ai/thoomas/SF_030324_Covid_pos/runs/g6enighx' target=\"_blank\">GINConv_2_16_1</a></strong> to <a href='https://wandb.ai/thoomas/SF_030324_Covid_pos' target=\"_blank\">Weights & Biases</a> (<a href='https://wandb.me/run' target=\"_blank\">docs</a>)<br/>"
      ],
      "text/plain": [
       "<IPython.core.display.HTML object>"
      ]
     },
     "metadata": {},
     "output_type": "display_data"
    },
    {
     "data": {
      "text/html": [
       " View project at <a href='https://wandb.ai/thoomas/SF_030324_Covid_pos' target=\"_blank\">https://wandb.ai/thoomas/SF_030324_Covid_pos</a>"
      ],
      "text/plain": [
       "<IPython.core.display.HTML object>"
      ]
     },
     "metadata": {},
     "output_type": "display_data"
    },
    {
     "data": {
      "text/html": [
       " View run at <a href='https://wandb.ai/thoomas/SF_030324_Covid_pos/runs/g6enighx' target=\"_blank\">https://wandb.ai/thoomas/SF_030324_Covid_pos/runs/g6enighx</a>"
      ],
      "text/plain": [
       "<IPython.core.display.HTML object>"
      ]
     },
     "metadata": {},
     "output_type": "display_data"
    },
    {
     "name": "stderr",
     "output_type": "stream",
     "text": [
      "Global seed set to 42\n",
      "C:\\Users\\thu71\\AppData\\Roaming\\Python\\Python39\\site-packages\\lightning\\pytorch\\loggers\\wandb.py:395: UserWarning: There is a wandb run already in progress and newly created instances of `WandbLogger` will reuse this run. If this is not desired, call `wandb.finish()` before instantiating `WandbLogger`.\n",
      "  rank_zero_warn(\n",
      "GPU available: True (cuda), used: True\n",
      "TPU available: False, using: 0 TPU cores\n",
      "IPU available: False, using: 0 IPUs\n",
      "HPU available: False, using: 0 HPUs\n",
      "Global seed set to 42\n",
      "c:\\Users\\thu71\\Anaconda3\\envs\\snowflake\\lib\\site-packages\\torch_geometric\\deprecation.py:12: UserWarning: 'nn.glob.GlobalAttention' is deprecated, use 'nn.aggr.AttentionalAggregation' instead\n",
      "  warnings.warn(out)\n",
      "LOCAL_RANK: 0 - CUDA_VISIBLE_DEVICES: [0,1]\n",
      "\n",
      "   | Name        | Type             | Params\n",
      "--------------------------------------------------\n",
      "0  | model       | GIN              | 1.0 K \n",
      "1  | fnn_layer   | Linear           | 272   \n",
      "2  | selu        | SELU             | 0     \n",
      "3  | head        | Linear           | 34    \n",
      "4  | loss_module | CrossEntropyLoss | 0     \n",
      "5  | train_acc   | BinaryAccuracy   | 0     \n",
      "6  | train_auroc | BinaryAUROC      | 0     \n",
      "7  | train_f1    | BinaryF1Score    | 0     \n",
      "8  | valid_acc   | BinaryAccuracy   | 0     \n",
      "9  | valid_auroc | BinaryAUROC      | 0     \n",
      "10 | valid_f1    | BinaryF1Score    | 0     \n",
      "11 | test_acc    | BinaryAccuracy   | 0     \n",
      "12 | test_auroc  | BinaryAUROC      | 0     \n",
      "13 | test_f1     | BinaryF1Score    | 0     \n",
      "14 | pool        | GlobalAttention  | 17    \n",
      "--------------------------------------------------\n",
      "1.3 K     Trainable params\n",
      "0         Non-trainable params\n",
      "1.3 K     Total params\n",
      "0.005     Total estimated model params size (MB)\n",
      "C:\\Users\\thu71\\AppData\\Roaming\\Python\\Python39\\site-packages\\lightning\\pytorch\\trainer\\connectors\\data_connector.py:478: PossibleUserWarning: Your `val_dataloader`'s sampler has shuffling enabled, it is strongly recommended that you turn shuffling off for val/test dataloaders.\n",
      "  rank_zero_warn(\n",
      "C:\\Users\\thu71\\AppData\\Roaming\\Python\\Python39\\site-packages\\lightning\\pytorch\\trainer\\connectors\\data_connector.py:430: PossibleUserWarning: The dataloader, val_dataloader, does not have many workers which may be a bottleneck. Consider increasing the value of the `num_workers` argument` (try 48 which is the number of cpus on this machine) in the `DataLoader` init to improve performance.\n",
      "  rank_zero_warn(\n",
      "C:\\Users\\thu71\\AppData\\Roaming\\Python\\Python39\\site-packages\\lightning\\pytorch\\trainer\\connectors\\data_connector.py:430: PossibleUserWarning: The dataloader, train_dataloader, does not have many workers which may be a bottleneck. Consider increasing the value of the `num_workers` argument` (try 48 which is the number of cpus on this machine) in the `DataLoader` init to improve performance.\n",
      "  rank_zero_warn(\n",
      "C:\\Users\\thu71\\AppData\\Roaming\\Python\\Python39\\site-packages\\lightning\\pytorch\\loops\\fit_loop.py:280: PossibleUserWarning: The number of training batches (2) is smaller than the logging interval Trainer(log_every_n_steps=10). Set a lower value for log_every_n_steps if you want to see logs for the training epoch.\n",
      "  rank_zero_warn(\n",
      "`Trainer.fit` stopped: `max_epochs=50` reached.\n",
      "LOCAL_RANK: 0 - CUDA_VISIBLE_DEVICES: [0,1]\n",
      "C:\\Users\\thu71\\AppData\\Roaming\\Python\\Python39\\site-packages\\lightning\\pytorch\\trainer\\connectors\\data_connector.py:478: PossibleUserWarning: Your `test_dataloader`'s sampler has shuffling enabled, it is strongly recommended that you turn shuffling off for val/test dataloaders.\n",
      "  rank_zero_warn(\n",
      "C:\\Users\\thu71\\AppData\\Roaming\\Python\\Python39\\site-packages\\lightning\\pytorch\\trainer\\connectors\\data_connector.py:430: PossibleUserWarning: The dataloader, test_dataloader, does not have many workers which may be a bottleneck. Consider increasing the value of the `num_workers` argument` (try 48 which is the number of cpus on this machine) in the `DataLoader` init to improve performance.\n",
      "  rank_zero_warn(\n"
     ]
    },
    {
     "name": "stdout",
     "output_type": "stream",
     "text": [
      "{'test_acc': tensor(0.8647), 'test_auc': tensor(0.9167), 'test_f1': tensor(0.8861)}\n"
     ]
    },
    {
     "data": {
      "text/html": [
       "Waiting for W&B process to finish... <strong style=\"color:green\">(success).</strong>"
      ],
      "text/plain": [
       "<IPython.core.display.HTML object>"
      ]
     },
     "metadata": {},
     "output_type": "display_data"
    },
    {
     "data": {
      "application/vnd.jupyter.widget-view+json": {
       "model_id": "e08e996c96644e21b3065e803dcc4eda",
       "version_major": 2,
       "version_minor": 0
      },
      "text/plain": [
       "VBox(children=(Label(value='0.001 MB of 0.001 MB uploaded (0.000 MB deduped)\\r'), FloatProgress(value=1.0, max…"
      ]
     },
     "metadata": {},
     "output_type": "display_data"
    },
    {
     "data": {
      "text/html": [
       "<style>\n",
       "    table.wandb td:nth-child(1) { padding: 0 10px; text-align: left ; width: auto;} td:nth-child(2) {text-align: left ; width: 100%}\n",
       "    .wandb-row { display: flex; flex-direction: row; flex-wrap: wrap; justify-content: flex-start; width: 100% }\n",
       "    .wandb-col { display: flex; flex-direction: column; flex-basis: 100%; flex: 1; padding: 10px; }\n",
       "    </style>\n",
       "<div class=\"wandb-row\"><div class=\"wandb-col\"><h3>Run history:</h3><br/><table class=\"wandb\"><tr><td>epoch</td><td>▁▁▁▂▂▂▂▂▂▃▃▃▃▃▄▄▄▄▄▄▅▅▅▅▅▅▆▆▆▆▆▆▇▇▇▇▇███</td></tr><tr><td>lr-Adam</td><td>▁▁▁▁▁▁▁▁▁▁▁▁▁▁▁▁▁▁▁▁▁▁▁▁▁▁▁▁▁▁▁▁▁▁▁▁▁▁▁▁</td></tr><tr><td>test_acc</td><td>▁</td></tr><tr><td>test_auc</td><td>▁</td></tr><tr><td>test_f1</td><td>▁</td></tr><tr><td>train_acc</td><td>▁▂▁▃▅▅▆▆▇▇▇▇▇██████████▇█▇██▇███████████</td></tr><tr><td>train_auc</td><td>▁▂▄▄▆▆▆▇▇▇▇▇█▇█▇███████▇████████████████</td></tr><tr><td>train_f1</td><td>▁▅▅▆▆▆▇▇▇▇█████████████▇████████████████</td></tr><tr><td>train_loss_epoch</td><td>█▇▇▇▅▅▄▄▃▃▂▂▂▂▂▂▁▁▁▁▁▁▁▂▁▁▁▁▂▁▁▂▂▁▁▁▁▁▁▁</td></tr><tr><td>train_loss_step</td><td>█▅▃▂▂▂▁▁▂▂</td></tr><tr><td>trainer/global_step</td><td>▁▁▁▂▂▂▂▂▂▃▃▃▃▃▄▂▂▄▃▄▅▅▅▃▅▅▃▆▆▆▆▄▇▄▄▇████</td></tr><tr><td>val_acc</td><td>▁▁▂▃▅▄▄▅▇█▇▆▇▅▆▇▇▇▇█▇▇▆▆▇▆▆▇▇▆▅▇▆▆▆▇▇▆█▇</td></tr><tr><td>val_auc</td><td>▃▂▁▁▅▅▆▆▇▇▇▇▆▆▇▇▇▇▇▇▇▇▇▆▇▇▇█▇▇▆▆▇▇▇██▇██</td></tr><tr><td>val_f1</td><td>▁▁▂▂▄▃▃▅▆▇▇▅▆▂▄▆▆▅▅▇▅▆▅▄▆▃▃▆▆▅▂▅▅▄▅▆▅▅█▇</td></tr><tr><td>val_loss_epoch</td><td>██▇▇▆▅▄▄▂▂▂▂▃▃▂▂▂▂▂▁▂▂▂▂▁▂▃▂▂▂▃▃▂▃▂▂▂▂▁▁</td></tr><tr><td>val_loss_step</td><td>██▇▇▆▅▄▄▂▂▂▂▃▃▂▂▂▂▂▁▂▂▂▂▁▂▃▂▂▂▃▃▂▃▂▂▂▂▁▁</td></tr></table><br/></div><div class=\"wandb-col\"><h3>Run summary:</h3><br/><table class=\"wandb\"><tr><td>epoch</td><td>50</td></tr><tr><td>lr-Adam</td><td>0.005</td></tr><tr><td>test_acc</td><td>0.86466</td></tr><tr><td>test_auc</td><td>0.91667</td></tr><tr><td>test_f1</td><td>0.88608</td></tr><tr><td>train_acc</td><td>0.90283</td></tr><tr><td>train_auc</td><td>0.94403</td></tr><tr><td>train_f1</td><td>0.91724</td></tr><tr><td>train_loss_epoch</td><td>0.40531</td></tr><tr><td>train_loss_step</td><td>0.42215</td></tr><tr><td>trainer/global_step</td><td>100</td></tr><tr><td>val_acc</td><td>0.82258</td></tr><tr><td>val_auc</td><td>0.90162</td></tr><tr><td>val_f1</td><td>0.85714</td></tr><tr><td>val_loss_epoch</td><td>0.48556</td></tr><tr><td>val_loss_step</td><td>0.48556</td></tr></table><br/></div></div>"
      ],
      "text/plain": [
       "<IPython.core.display.HTML object>"
      ]
     },
     "metadata": {},
     "output_type": "display_data"
    },
    {
     "data": {
      "text/html": [
       " View run <strong style=\"color:#cdcd00\">GINConv_2_16_1</strong> at: <a href='https://wandb.ai/thoomas/SF_030324_Covid_pos/runs/g6enighx' target=\"_blank\">https://wandb.ai/thoomas/SF_030324_Covid_pos/runs/g6enighx</a><br/>Synced 6 W&B file(s), 0 media file(s), 0 artifact file(s) and 0 other file(s)"
      ],
      "text/plain": [
       "<IPython.core.display.HTML object>"
      ]
     },
     "metadata": {},
     "output_type": "display_data"
    },
    {
     "data": {
      "text/html": [
       "Find logs at: <code>.\\wandb\\run-20240303_194844-g6enighx\\logs</code>"
      ],
      "text/plain": [
       "<IPython.core.display.HTML object>"
      ]
     },
     "metadata": {},
     "output_type": "display_data"
    },
    {
     "data": {
      "application/vnd.jupyter.widget-view+json": {
       "model_id": "e717e15675c94d7eaa65df180d00c216",
       "version_major": 2,
       "version_minor": 0
      },
      "text/plain": [
       "VBox(children=(Label(value='Waiting for wandb.init()...\\r'), FloatProgress(value=0.016666666666666666, max=1.0…"
      ]
     },
     "metadata": {},
     "output_type": "display_data"
    },
    {
     "data": {
      "text/html": [
       "wandb version 0.16.3 is available!  To upgrade, please run:\n",
       " $ pip install wandb --upgrade"
      ],
      "text/plain": [
       "<IPython.core.display.HTML object>"
      ]
     },
     "metadata": {},
     "output_type": "display_data"
    },
    {
     "data": {
      "text/html": [
       "Tracking run with wandb version 0.14.0"
      ],
      "text/plain": [
       "<IPython.core.display.HTML object>"
      ]
     },
     "metadata": {},
     "output_type": "display_data"
    },
    {
     "data": {
      "text/html": [
       "Run data is saved locally in <code>y:\\coskun-lab\\Thomas\\11_snowflakes\\notebooks\\wandb\\run-20240303_195350-tz7h8ud8</code>"
      ],
      "text/plain": [
       "<IPython.core.display.HTML object>"
      ]
     },
     "metadata": {},
     "output_type": "display_data"
    },
    {
     "data": {
      "text/html": [
       "Syncing run <strong><a href='https://wandb.ai/thoomas/SF_030324_Covid_pos/runs/tz7h8ud8' target=\"_blank\">GAT_2_16_1</a></strong> to <a href='https://wandb.ai/thoomas/SF_030324_Covid_pos' target=\"_blank\">Weights & Biases</a> (<a href='https://wandb.me/run' target=\"_blank\">docs</a>)<br/>"
      ],
      "text/plain": [
       "<IPython.core.display.HTML object>"
      ]
     },
     "metadata": {},
     "output_type": "display_data"
    },
    {
     "data": {
      "text/html": [
       " View project at <a href='https://wandb.ai/thoomas/SF_030324_Covid_pos' target=\"_blank\">https://wandb.ai/thoomas/SF_030324_Covid_pos</a>"
      ],
      "text/plain": [
       "<IPython.core.display.HTML object>"
      ]
     },
     "metadata": {},
     "output_type": "display_data"
    },
    {
     "data": {
      "text/html": [
       " View run at <a href='https://wandb.ai/thoomas/SF_030324_Covid_pos/runs/tz7h8ud8' target=\"_blank\">https://wandb.ai/thoomas/SF_030324_Covid_pos/runs/tz7h8ud8</a>"
      ],
      "text/plain": [
       "<IPython.core.display.HTML object>"
      ]
     },
     "metadata": {},
     "output_type": "display_data"
    },
    {
     "name": "stderr",
     "output_type": "stream",
     "text": [
      "Global seed set to 42\n",
      "C:\\Users\\thu71\\AppData\\Roaming\\Python\\Python39\\site-packages\\lightning\\pytorch\\loggers\\wandb.py:395: UserWarning: There is a wandb run already in progress and newly created instances of `WandbLogger` will reuse this run. If this is not desired, call `wandb.finish()` before instantiating `WandbLogger`.\n",
      "  rank_zero_warn(\n",
      "GPU available: True (cuda), used: True\n",
      "TPU available: False, using: 0 TPU cores\n",
      "IPU available: False, using: 0 IPUs\n",
      "HPU available: False, using: 0 HPUs\n",
      "Global seed set to 42\n",
      "LOCAL_RANK: 0 - CUDA_VISIBLE_DEVICES: [0,1]\n",
      "\n",
      "   | Name        | Type             | Params\n",
      "--------------------------------------------------\n",
      "0  | model       | GAT              | 5.1 K \n",
      "1  | fnn_layer   | Linear           | 272   \n",
      "2  | selu        | SELU             | 0     \n",
      "3  | head        | Linear           | 34    \n",
      "4  | loss_module | CrossEntropyLoss | 0     \n",
      "5  | train_acc   | BinaryAccuracy   | 0     \n",
      "6  | train_auroc | BinaryAUROC      | 0     \n",
      "7  | train_f1    | BinaryF1Score    | 0     \n",
      "8  | valid_acc   | BinaryAccuracy   | 0     \n",
      "9  | valid_auroc | BinaryAUROC      | 0     \n",
      "10 | valid_f1    | BinaryF1Score    | 0     \n",
      "11 | test_acc    | BinaryAccuracy   | 0     \n",
      "12 | test_auroc  | BinaryAUROC      | 0     \n",
      "13 | test_f1     | BinaryF1Score    | 0     \n",
      "14 | pool        | Attention_module | 281   \n",
      "--------------------------------------------------\n",
      "5.7 K     Trainable params\n",
      "0         Non-trainable params\n",
      "5.7 K     Total params\n",
      "0.023     Total estimated model params size (MB)\n",
      "C:\\Users\\thu71\\AppData\\Roaming\\Python\\Python39\\site-packages\\lightning\\pytorch\\trainer\\connectors\\data_connector.py:478: PossibleUserWarning: Your `val_dataloader`'s sampler has shuffling enabled, it is strongly recommended that you turn shuffling off for val/test dataloaders.\n",
      "  rank_zero_warn(\n",
      "C:\\Users\\thu71\\AppData\\Roaming\\Python\\Python39\\site-packages\\lightning\\pytorch\\trainer\\connectors\\data_connector.py:430: PossibleUserWarning: The dataloader, val_dataloader, does not have many workers which may be a bottleneck. Consider increasing the value of the `num_workers` argument` (try 48 which is the number of cpus on this machine) in the `DataLoader` init to improve performance.\n",
      "  rank_zero_warn(\n",
      "C:\\Users\\thu71\\AppData\\Roaming\\Python\\Python39\\site-packages\\lightning\\pytorch\\trainer\\connectors\\data_connector.py:430: PossibleUserWarning: The dataloader, train_dataloader, does not have many workers which may be a bottleneck. Consider increasing the value of the `num_workers` argument` (try 48 which is the number of cpus on this machine) in the `DataLoader` init to improve performance.\n",
      "  rank_zero_warn(\n",
      "C:\\Users\\thu71\\AppData\\Roaming\\Python\\Python39\\site-packages\\lightning\\pytorch\\loops\\fit_loop.py:280: PossibleUserWarning: The number of training batches (4) is smaller than the logging interval Trainer(log_every_n_steps=10). Set a lower value for log_every_n_steps if you want to see logs for the training epoch.\n",
      "  rank_zero_warn(\n",
      "`Trainer.fit` stopped: `max_epochs=50` reached.\n",
      "LOCAL_RANK: 0 - CUDA_VISIBLE_DEVICES: [0,1]\n",
      "C:\\Users\\thu71\\AppData\\Roaming\\Python\\Python39\\site-packages\\lightning\\pytorch\\trainer\\connectors\\data_connector.py:478: PossibleUserWarning: Your `test_dataloader`'s sampler has shuffling enabled, it is strongly recommended that you turn shuffling off for val/test dataloaders.\n",
      "  rank_zero_warn(\n",
      "C:\\Users\\thu71\\AppData\\Roaming\\Python\\Python39\\site-packages\\lightning\\pytorch\\trainer\\connectors\\data_connector.py:430: PossibleUserWarning: The dataloader, test_dataloader, does not have many workers which may be a bottleneck. Consider increasing the value of the `num_workers` argument` (try 48 which is the number of cpus on this machine) in the `DataLoader` init to improve performance.\n",
      "  rank_zero_warn(\n"
     ]
    },
    {
     "name": "stdout",
     "output_type": "stream",
     "text": [
      "{'test_acc': tensor(0.8947), 'test_auc': tensor(0.9598), 'test_f1': tensor(0.9028)}\n"
     ]
    },
    {
     "data": {
      "text/html": [
       "Waiting for W&B process to finish... <strong style=\"color:green\">(success).</strong>"
      ],
      "text/plain": [
       "<IPython.core.display.HTML object>"
      ]
     },
     "metadata": {},
     "output_type": "display_data"
    },
    {
     "data": {
      "application/vnd.jupyter.widget-view+json": {
       "model_id": "b743656c997d40a994e84736c2e796de",
       "version_major": 2,
       "version_minor": 0
      },
      "text/plain": [
       "VBox(children=(Label(value='0.001 MB of 0.001 MB uploaded (0.000 MB deduped)\\r'), FloatProgress(value=1.0, max…"
      ]
     },
     "metadata": {},
     "output_type": "display_data"
    },
    {
     "data": {
      "text/html": [
       "<style>\n",
       "    table.wandb td:nth-child(1) { padding: 0 10px; text-align: left ; width: auto;} td:nth-child(2) {text-align: left ; width: 100%}\n",
       "    .wandb-row { display: flex; flex-direction: row; flex-wrap: wrap; justify-content: flex-start; width: 100% }\n",
       "    .wandb-col { display: flex; flex-direction: column; flex-basis: 100%; flex: 1; padding: 10px; }\n",
       "    </style>\n",
       "<div class=\"wandb-row\"><div class=\"wandb-col\"><h3>Run history:</h3><br/><table class=\"wandb\"><tr><td>epoch</td><td>▁▁▁▂▂▂▂▂▂▃▃▃▃▃▄▄▄▄▄▄▅▅▅▅▅▅▆▆▆▆▆▆▇▇▇▇▇███</td></tr><tr><td>lr-Adam</td><td>▁▁▁▁▁▁▁▁▁▁▁▁▁▁▁▁▁▁▁▁▁▁▁▁▁▁▁▁▁▁▁▁▁▁▁▁▁▁▁▁</td></tr><tr><td>test_acc</td><td>▁</td></tr><tr><td>test_auc</td><td>▁</td></tr><tr><td>test_f1</td><td>▁</td></tr><tr><td>train_acc</td><td>▁▁▂▂▃▃▃▃▄▃▄▄▄▆▆▆▆▇▇▇▇▆▇▇▇▇▇▇▇▇████████▇█</td></tr><tr><td>train_auc</td><td>▁▁▂▂▃▃▃▄▅▄▅▅▆▇▇▇▇▇▇▇▇▇███▇▇█████████████</td></tr><tr><td>train_f1</td><td>▁▁▁▂▂▂▁▂▂▂▄▃▄▅▅▆▆▇▇▆▇▆▇▆▇▆▇▇▇▇▇███▇███▇█</td></tr><tr><td>train_loss_epoch</td><td>███▇▇▇▇▆▆▆▅▅▅▄▄▃▃▂▂▂▂▃▂▂▂▃▂▂▂▂▁▁▁▁▁▁▁▁▁▁</td></tr><tr><td>train_loss_step</td><td>█▇█▇▅▆▅▄▃▂▁▃▂▁▁▁▂▂▂▁</td></tr><tr><td>trainer/global_step</td><td>▁▁▁▂▁▁▂▂▁▃▃▃▂▃▄▄▂▄▄▂▂▅▅▂▅▅▆▂▆▆▆▂▇▇▇▃▇███</td></tr><tr><td>val_acc</td><td>▁▄▄▄▄▄▄▃▃▄▄▄▆▃▆▅▄▅▆▆██▄▇▆█▅▅▆▆▆▆▇▆▆▆▆▇▇█</td></tr><tr><td>val_auc</td><td>▁▁▁▁▂▂▂▂▃▄▄▅▆▆▇▆▇▇▇███▇█▇█▇▇██▇▇████▇███</td></tr><tr><td>val_f1</td><td>▄▅▅▅▅▅▅▅▄▅▅▄▆▁▆▄▃▅▅▅██▃▇▅█▄▄▅▅▅▆▇▆▆▅▆▇▇█</td></tr><tr><td>val_loss_epoch</td><td>██▇▇▆▆▆▆▆▅▅▅▄▆▄▅▄▄▃▃▂▁▅▁▄▁▅▄▃▄▄▃▂▃▃▃▃▂▂▂</td></tr><tr><td>val_loss_step</td><td>██▇▇▆▆▆▆▆▅▅▅▄▆▄▅▄▄▃▃▂▁▅▁▄▁▅▄▃▄▄▃▂▃▃▃▃▂▂▂</td></tr></table><br/></div><div class=\"wandb-col\"><h3>Run summary:</h3><br/><table class=\"wandb\"><tr><td>epoch</td><td>50</td></tr><tr><td>lr-Adam</td><td>0.005</td></tr><tr><td>test_acc</td><td>0.89474</td></tr><tr><td>test_auc</td><td>0.95983</td></tr><tr><td>test_f1</td><td>0.90278</td></tr><tr><td>train_acc</td><td>0.94332</td></tr><tr><td>train_auc</td><td>0.98945</td></tr><tr><td>train_f1</td><td>0.95139</td></tr><tr><td>train_loss_epoch</td><td>0.36691</td></tr><tr><td>train_loss_step</td><td>0.33985</td></tr><tr><td>trainer/global_step</td><td>200</td></tr><tr><td>val_acc</td><td>0.87097</td></tr><tr><td>val_auc</td><td>0.94378</td></tr><tr><td>val_f1</td><td>0.88571</td></tr><tr><td>val_loss_epoch</td><td>0.45247</td></tr><tr><td>val_loss_step</td><td>0.45247</td></tr></table><br/></div></div>"
      ],
      "text/plain": [
       "<IPython.core.display.HTML object>"
      ]
     },
     "metadata": {},
     "output_type": "display_data"
    },
    {
     "data": {
      "text/html": [
       " View run <strong style=\"color:#cdcd00\">GAT_2_16_1</strong> at: <a href='https://wandb.ai/thoomas/SF_030324_Covid_pos/runs/tz7h8ud8' target=\"_blank\">https://wandb.ai/thoomas/SF_030324_Covid_pos/runs/tz7h8ud8</a><br/>Synced 6 W&B file(s), 0 media file(s), 0 artifact file(s) and 0 other file(s)"
      ],
      "text/plain": [
       "<IPython.core.display.HTML object>"
      ]
     },
     "metadata": {},
     "output_type": "display_data"
    },
    {
     "data": {
      "text/html": [
       "Find logs at: <code>.\\wandb\\run-20240303_195350-tz7h8ud8\\logs</code>"
      ],
      "text/plain": [
       "<IPython.core.display.HTML object>"
      ]
     },
     "metadata": {},
     "output_type": "display_data"
    },
    {
     "data": {
      "application/vnd.jupyter.widget-view+json": {
       "model_id": "b6bce8e676104ea587a3b32b7d3849a2",
       "version_major": 2,
       "version_minor": 0
      },
      "text/plain": [
       "VBox(children=(Label(value='Waiting for wandb.init()...\\r'), FloatProgress(value=0.01693333333338766, max=1.0)…"
      ]
     },
     "metadata": {},
     "output_type": "display_data"
    },
    {
     "data": {
      "text/html": [
       "wandb version 0.16.3 is available!  To upgrade, please run:\n",
       " $ pip install wandb --upgrade"
      ],
      "text/plain": [
       "<IPython.core.display.HTML object>"
      ]
     },
     "metadata": {},
     "output_type": "display_data"
    },
    {
     "data": {
      "text/html": [
       "Tracking run with wandb version 0.14.0"
      ],
      "text/plain": [
       "<IPython.core.display.HTML object>"
      ]
     },
     "metadata": {},
     "output_type": "display_data"
    },
    {
     "data": {
      "text/html": [
       "Run data is saved locally in <code>y:\\coskun-lab\\Thomas\\11_snowflakes\\notebooks\\wandb\\run-20240303_200328-n5wce4dm</code>"
      ],
      "text/plain": [
       "<IPython.core.display.HTML object>"
      ]
     },
     "metadata": {},
     "output_type": "display_data"
    },
    {
     "data": {
      "text/html": [
       "Syncing run <strong><a href='https://wandb.ai/thoomas/SF_030324_Covid_pos/runs/n5wce4dm' target=\"_blank\">GINConv_2_16_1</a></strong> to <a href='https://wandb.ai/thoomas/SF_030324_Covid_pos' target=\"_blank\">Weights & Biases</a> (<a href='https://wandb.me/run' target=\"_blank\">docs</a>)<br/>"
      ],
      "text/plain": [
       "<IPython.core.display.HTML object>"
      ]
     },
     "metadata": {},
     "output_type": "display_data"
    },
    {
     "data": {
      "text/html": [
       " View project at <a href='https://wandb.ai/thoomas/SF_030324_Covid_pos' target=\"_blank\">https://wandb.ai/thoomas/SF_030324_Covid_pos</a>"
      ],
      "text/plain": [
       "<IPython.core.display.HTML object>"
      ]
     },
     "metadata": {},
     "output_type": "display_data"
    },
    {
     "data": {
      "text/html": [
       " View run at <a href='https://wandb.ai/thoomas/SF_030324_Covid_pos/runs/n5wce4dm' target=\"_blank\">https://wandb.ai/thoomas/SF_030324_Covid_pos/runs/n5wce4dm</a>"
      ],
      "text/plain": [
       "<IPython.core.display.HTML object>"
      ]
     },
     "metadata": {},
     "output_type": "display_data"
    },
    {
     "name": "stderr",
     "output_type": "stream",
     "text": [
      "Global seed set to 42\n",
      "C:\\Users\\thu71\\AppData\\Roaming\\Python\\Python39\\site-packages\\lightning\\pytorch\\loggers\\wandb.py:395: UserWarning: There is a wandb run already in progress and newly created instances of `WandbLogger` will reuse this run. If this is not desired, call `wandb.finish()` before instantiating `WandbLogger`.\n",
      "  rank_zero_warn(\n",
      "GPU available: True (cuda), used: True\n",
      "TPU available: False, using: 0 TPU cores\n",
      "IPU available: False, using: 0 IPUs\n",
      "HPU available: False, using: 0 HPUs\n",
      "Global seed set to 42\n",
      "LOCAL_RANK: 0 - CUDA_VISIBLE_DEVICES: [0,1]\n",
      "\n",
      "   | Name        | Type             | Params\n",
      "--------------------------------------------------\n",
      "0  | model       | GIN              | 1.0 K \n",
      "1  | fnn_layer   | Linear           | 272   \n",
      "2  | selu        | SELU             | 0     \n",
      "3  | head        | Linear           | 34    \n",
      "4  | loss_module | CrossEntropyLoss | 0     \n",
      "5  | train_acc   | BinaryAccuracy   | 0     \n",
      "6  | train_auroc | BinaryAUROC      | 0     \n",
      "7  | train_f1    | BinaryF1Score    | 0     \n",
      "8  | valid_acc   | BinaryAccuracy   | 0     \n",
      "9  | valid_auroc | BinaryAUROC      | 0     \n",
      "10 | valid_f1    | BinaryF1Score    | 0     \n",
      "11 | test_acc    | BinaryAccuracy   | 0     \n",
      "12 | test_auroc  | BinaryAUROC      | 0     \n",
      "13 | test_f1     | BinaryF1Score    | 0     \n",
      "14 | pool        | Attention_module | 281   \n",
      "--------------------------------------------------\n",
      "1.6 K     Trainable params\n",
      "0         Non-trainable params\n",
      "1.6 K     Total params\n",
      "0.006     Total estimated model params size (MB)\n",
      "C:\\Users\\thu71\\AppData\\Roaming\\Python\\Python39\\site-packages\\lightning\\pytorch\\trainer\\connectors\\data_connector.py:478: PossibleUserWarning: Your `val_dataloader`'s sampler has shuffling enabled, it is strongly recommended that you turn shuffling off for val/test dataloaders.\n",
      "  rank_zero_warn(\n",
      "C:\\Users\\thu71\\AppData\\Roaming\\Python\\Python39\\site-packages\\lightning\\pytorch\\trainer\\connectors\\data_connector.py:430: PossibleUserWarning: The dataloader, val_dataloader, does not have many workers which may be a bottleneck. Consider increasing the value of the `num_workers` argument` (try 48 which is the number of cpus on this machine) in the `DataLoader` init to improve performance.\n",
      "  rank_zero_warn(\n",
      "C:\\Users\\thu71\\AppData\\Roaming\\Python\\Python39\\site-packages\\lightning\\pytorch\\trainer\\connectors\\data_connector.py:430: PossibleUserWarning: The dataloader, train_dataloader, does not have many workers which may be a bottleneck. Consider increasing the value of the `num_workers` argument` (try 48 which is the number of cpus on this machine) in the `DataLoader` init to improve performance.\n",
      "  rank_zero_warn(\n",
      "C:\\Users\\thu71\\AppData\\Roaming\\Python\\Python39\\site-packages\\lightning\\pytorch\\loops\\fit_loop.py:280: PossibleUserWarning: The number of training batches (2) is smaller than the logging interval Trainer(log_every_n_steps=10). Set a lower value for log_every_n_steps if you want to see logs for the training epoch.\n",
      "  rank_zero_warn(\n",
      "`Trainer.fit` stopped: `max_epochs=50` reached.\n",
      "LOCAL_RANK: 0 - CUDA_VISIBLE_DEVICES: [0,1]\n",
      "C:\\Users\\thu71\\AppData\\Roaming\\Python\\Python39\\site-packages\\lightning\\pytorch\\trainer\\connectors\\data_connector.py:478: PossibleUserWarning: Your `test_dataloader`'s sampler has shuffling enabled, it is strongly recommended that you turn shuffling off for val/test dataloaders.\n",
      "  rank_zero_warn(\n",
      "C:\\Users\\thu71\\AppData\\Roaming\\Python\\Python39\\site-packages\\lightning\\pytorch\\trainer\\connectors\\data_connector.py:430: PossibleUserWarning: The dataloader, test_dataloader, does not have many workers which may be a bottleneck. Consider increasing the value of the `num_workers` argument` (try 48 which is the number of cpus on this machine) in the `DataLoader` init to improve performance.\n",
      "  rank_zero_warn(\n"
     ]
    },
    {
     "name": "stdout",
     "output_type": "stream",
     "text": [
      "{'test_acc': tensor(0.8346), 'test_auc': tensor(0.8772), 'test_f1': tensor(0.8625)}\n"
     ]
    },
    {
     "data": {
      "text/html": [
       "Waiting for W&B process to finish... <strong style=\"color:green\">(success).</strong>"
      ],
      "text/plain": [
       "<IPython.core.display.HTML object>"
      ]
     },
     "metadata": {},
     "output_type": "display_data"
    },
    {
     "data": {
      "application/vnd.jupyter.widget-view+json": {
       "model_id": "bf1f7921d8364868862480fa6e80f8a5",
       "version_major": 2,
       "version_minor": 0
      },
      "text/plain": [
       "VBox(children=(Label(value='0.001 MB of 0.001 MB uploaded (0.000 MB deduped)\\r'), FloatProgress(value=1.0, max…"
      ]
     },
     "metadata": {},
     "output_type": "display_data"
    },
    {
     "data": {
      "text/html": [
       "<style>\n",
       "    table.wandb td:nth-child(1) { padding: 0 10px; text-align: left ; width: auto;} td:nth-child(2) {text-align: left ; width: 100%}\n",
       "    .wandb-row { display: flex; flex-direction: row; flex-wrap: wrap; justify-content: flex-start; width: 100% }\n",
       "    .wandb-col { display: flex; flex-direction: column; flex-basis: 100%; flex: 1; padding: 10px; }\n",
       "    </style>\n",
       "<div class=\"wandb-row\"><div class=\"wandb-col\"><h3>Run history:</h3><br/><table class=\"wandb\"><tr><td>epoch</td><td>▁▁▁▂▂▂▂▂▂▃▃▃▃▃▄▄▄▄▄▄▅▅▅▅▅▅▆▆▆▆▆▆▇▇▇▇▇███</td></tr><tr><td>lr-Adam</td><td>▁▁▁▁▁▁▁▁▁▁▁▁▁▁▁▁▁▁▁▁▁▁▁▁▁▁▁▁▁▁▁▁▁▁▁▁▁▁▁▁</td></tr><tr><td>test_acc</td><td>▁</td></tr><tr><td>test_auc</td><td>▁</td></tr><tr><td>test_f1</td><td>▁</td></tr><tr><td>train_acc</td><td>▁▄▃▃▅▆▆▆▆▆▇▇▇▇▇▇█▇▇▇▇█▇▇████████████████</td></tr><tr><td>train_auc</td><td>▁▃▄▅▆▇▇▇▇▇▇▇▇███████████████████████████</td></tr><tr><td>train_f1</td><td>▁▆▆▆▇▇▇▇▇▇▇▇████████████████████████████</td></tr><tr><td>train_loss_epoch</td><td>█▇▇▇▆▅▅▄▃▃▃▃▂▂▂▂▂▂▂▂▂▂▂▂▂▂▂▁▁▁▁▁▁▁▁▁▁▁▁▁</td></tr><tr><td>train_loss_step</td><td>█▄▃▂▂▂▁▁▂▁</td></tr><tr><td>trainer/global_step</td><td>▁▁▁▂▂▂▂▂▂▃▃▃▃▃▄▂▂▄▃▄▅▅▅▃▅▅▃▆▆▆▆▄▇▄▄▇████</td></tr><tr><td>val_acc</td><td>▂▁▁▃▆██▆▆██▇██▇▆▇▆▆▆▆▆▄▄▇█▇▇▆██▆▇██▇▇▇▇█</td></tr><tr><td>val_auc</td><td>▁▄▅▅▆▆▆▇▇██▇▆▆▆▆▆▆▆▆▅▄▂▃▇▇▇▆▆▅▆▅▆▇▇▆▅▅▅▇</td></tr><tr><td>val_f1</td><td>▃▃▃▅▆██▇▆██▇▇▇▆▆▆▅▅▃▃▃▁▁▅▆▅▅▅▇▇▅▆▇▇▆▆▆▆▇</td></tr><tr><td>val_loss_epoch</td><td>██▇▇▆▅▄▃▂▂▁▁▂▁▂▂▂▂▂▃▄▄▅▄▂▂▂▃▃▂▂▃▂▁▁▂▃▃▂▁</td></tr><tr><td>val_loss_step</td><td>██▇▇▆▅▄▃▂▂▁▁▂▁▂▂▂▂▂▃▄▄▅▄▂▂▂▃▃▂▂▃▂▁▁▂▃▃▂▁</td></tr></table><br/></div><div class=\"wandb-col\"><h3>Run summary:</h3><br/><table class=\"wandb\"><tr><td>epoch</td><td>50</td></tr><tr><td>lr-Adam</td><td>0.005</td></tr><tr><td>test_acc</td><td>0.83459</td></tr><tr><td>test_auc</td><td>0.87719</td></tr><tr><td>test_f1</td><td>0.8625</td></tr><tr><td>train_acc</td><td>0.92308</td></tr><tr><td>train_auc</td><td>0.93338</td></tr><tr><td>train_f1</td><td>0.9338</td></tr><tr><td>train_loss_epoch</td><td>0.39174</td></tr><tr><td>train_loss_step</td><td>0.39886</td></tr><tr><td>trainer/global_step</td><td>100</td></tr><tr><td>val_acc</td><td>0.80645</td></tr><tr><td>val_auc</td><td>0.8973</td></tr><tr><td>val_f1</td><td>0.84615</td></tr><tr><td>val_loss_epoch</td><td>0.48875</td></tr><tr><td>val_loss_step</td><td>0.48875</td></tr></table><br/></div></div>"
      ],
      "text/plain": [
       "<IPython.core.display.HTML object>"
      ]
     },
     "metadata": {},
     "output_type": "display_data"
    },
    {
     "data": {
      "text/html": [
       " View run <strong style=\"color:#cdcd00\">GINConv_2_16_1</strong> at: <a href='https://wandb.ai/thoomas/SF_030324_Covid_pos/runs/n5wce4dm' target=\"_blank\">https://wandb.ai/thoomas/SF_030324_Covid_pos/runs/n5wce4dm</a><br/>Synced 6 W&B file(s), 0 media file(s), 0 artifact file(s) and 0 other file(s)"
      ],
      "text/plain": [
       "<IPython.core.display.HTML object>"
      ]
     },
     "metadata": {},
     "output_type": "display_data"
    },
    {
     "data": {
      "text/html": [
       "Find logs at: <code>.\\wandb\\run-20240303_200328-n5wce4dm\\logs</code>"
      ],
      "text/plain": [
       "<IPython.core.display.HTML object>"
      ]
     },
     "metadata": {},
     "output_type": "display_data"
    },
    {
     "data": {
      "application/vnd.jupyter.widget-view+json": {
       "model_id": "279c63c04ab3410e957460b19dfbdf0f",
       "version_major": 2,
       "version_minor": 0
      },
      "text/plain": [
       "VBox(children=(Label(value='Waiting for wandb.init()...\\r'), FloatProgress(value=0.016666666666666666, max=1.0…"
      ]
     },
     "metadata": {},
     "output_type": "display_data"
    },
    {
     "data": {
      "text/html": [
       "wandb version 0.16.3 is available!  To upgrade, please run:\n",
       " $ pip install wandb --upgrade"
      ],
      "text/plain": [
       "<IPython.core.display.HTML object>"
      ]
     },
     "metadata": {},
     "output_type": "display_data"
    },
    {
     "data": {
      "text/html": [
       "Tracking run with wandb version 0.14.0"
      ],
      "text/plain": [
       "<IPython.core.display.HTML object>"
      ]
     },
     "metadata": {},
     "output_type": "display_data"
    },
    {
     "data": {
      "text/html": [
       "Run data is saved locally in <code>y:\\coskun-lab\\Thomas\\11_snowflakes\\notebooks\\wandb\\run-20240303_200835-rrgy7p8r</code>"
      ],
      "text/plain": [
       "<IPython.core.display.HTML object>"
      ]
     },
     "metadata": {},
     "output_type": "display_data"
    },
    {
     "data": {
      "text/html": [
       "Syncing run <strong><a href='https://wandb.ai/thoomas/SF_030324_Covid_pos/runs/rrgy7p8r' target=\"_blank\">GAT_2_16_2</a></strong> to <a href='https://wandb.ai/thoomas/SF_030324_Covid_pos' target=\"_blank\">Weights & Biases</a> (<a href='https://wandb.me/run' target=\"_blank\">docs</a>)<br/>"
      ],
      "text/plain": [
       "<IPython.core.display.HTML object>"
      ]
     },
     "metadata": {},
     "output_type": "display_data"
    },
    {
     "data": {
      "text/html": [
       " View project at <a href='https://wandb.ai/thoomas/SF_030324_Covid_pos' target=\"_blank\">https://wandb.ai/thoomas/SF_030324_Covid_pos</a>"
      ],
      "text/plain": [
       "<IPython.core.display.HTML object>"
      ]
     },
     "metadata": {},
     "output_type": "display_data"
    },
    {
     "data": {
      "text/html": [
       " View run at <a href='https://wandb.ai/thoomas/SF_030324_Covid_pos/runs/rrgy7p8r' target=\"_blank\">https://wandb.ai/thoomas/SF_030324_Covid_pos/runs/rrgy7p8r</a>"
      ],
      "text/plain": [
       "<IPython.core.display.HTML object>"
      ]
     },
     "metadata": {},
     "output_type": "display_data"
    },
    {
     "name": "stderr",
     "output_type": "stream",
     "text": [
      "Global seed set to 42\n",
      "C:\\Users\\thu71\\AppData\\Roaming\\Python\\Python39\\site-packages\\lightning\\pytorch\\loggers\\wandb.py:395: UserWarning: There is a wandb run already in progress and newly created instances of `WandbLogger` will reuse this run. If this is not desired, call `wandb.finish()` before instantiating `WandbLogger`.\n",
      "  rank_zero_warn(\n",
      "GPU available: True (cuda), used: True\n",
      "TPU available: False, using: 0 TPU cores\n",
      "IPU available: False, using: 0 IPUs\n",
      "HPU available: False, using: 0 HPUs\n",
      "Global seed set to 42\n",
      "LOCAL_RANK: 0 - CUDA_VISIBLE_DEVICES: [0,1]\n",
      "\n",
      "   | Name        | Type             | Params\n",
      "--------------------------------------------------\n",
      "0  | model       | GAT              | 5.1 K \n",
      "1  | fnn_layer   | Linear           | 272   \n",
      "2  | selu        | SELU             | 0     \n",
      "3  | head        | Linear           | 34    \n",
      "4  | loss_module | CrossEntropyLoss | 0     \n",
      "5  | train_acc   | BinaryAccuracy   | 0     \n",
      "6  | train_auroc | BinaryAUROC      | 0     \n",
      "7  | train_f1    | BinaryF1Score    | 0     \n",
      "8  | valid_acc   | BinaryAccuracy   | 0     \n",
      "9  | valid_auroc | BinaryAUROC      | 0     \n",
      "10 | valid_f1    | BinaryF1Score    | 0     \n",
      "11 | test_acc    | BinaryAccuracy   | 0     \n",
      "12 | test_auroc  | BinaryAUROC      | 0     \n",
      "13 | test_f1     | BinaryF1Score    | 0     \n",
      "--------------------------------------------------\n",
      "5.4 K     Trainable params\n",
      "0         Non-trainable params\n",
      "5.4 K     Total params\n",
      "0.022     Total estimated model params size (MB)\n",
      "C:\\Users\\thu71\\AppData\\Roaming\\Python\\Python39\\site-packages\\lightning\\pytorch\\trainer\\connectors\\data_connector.py:478: PossibleUserWarning: Your `val_dataloader`'s sampler has shuffling enabled, it is strongly recommended that you turn shuffling off for val/test dataloaders.\n",
      "  rank_zero_warn(\n",
      "C:\\Users\\thu71\\AppData\\Roaming\\Python\\Python39\\site-packages\\lightning\\pytorch\\trainer\\connectors\\data_connector.py:430: PossibleUserWarning: The dataloader, val_dataloader, does not have many workers which may be a bottleneck. Consider increasing the value of the `num_workers` argument` (try 48 which is the number of cpus on this machine) in the `DataLoader` init to improve performance.\n",
      "  rank_zero_warn(\n",
      "C:\\Users\\thu71\\AppData\\Roaming\\Python\\Python39\\site-packages\\lightning\\pytorch\\trainer\\connectors\\data_connector.py:430: PossibleUserWarning: The dataloader, train_dataloader, does not have many workers which may be a bottleneck. Consider increasing the value of the `num_workers` argument` (try 48 which is the number of cpus on this machine) in the `DataLoader` init to improve performance.\n",
      "  rank_zero_warn(\n",
      "C:\\Users\\thu71\\AppData\\Roaming\\Python\\Python39\\site-packages\\lightning\\pytorch\\loops\\fit_loop.py:280: PossibleUserWarning: The number of training batches (4) is smaller than the logging interval Trainer(log_every_n_steps=10). Set a lower value for log_every_n_steps if you want to see logs for the training epoch.\n",
      "  rank_zero_warn(\n",
      "`Trainer.fit` stopped: `max_epochs=50` reached.\n",
      "LOCAL_RANK: 0 - CUDA_VISIBLE_DEVICES: [0,1]\n",
      "C:\\Users\\thu71\\AppData\\Roaming\\Python\\Python39\\site-packages\\lightning\\pytorch\\trainer\\connectors\\data_connector.py:478: PossibleUserWarning: Your `test_dataloader`'s sampler has shuffling enabled, it is strongly recommended that you turn shuffling off for val/test dataloaders.\n",
      "  rank_zero_warn(\n",
      "C:\\Users\\thu71\\AppData\\Roaming\\Python\\Python39\\site-packages\\lightning\\pytorch\\trainer\\connectors\\data_connector.py:430: PossibleUserWarning: The dataloader, test_dataloader, does not have many workers which may be a bottleneck. Consider increasing the value of the `num_workers` argument` (try 48 which is the number of cpus on this machine) in the `DataLoader` init to improve performance.\n",
      "  rank_zero_warn(\n"
     ]
    },
    {
     "name": "stdout",
     "output_type": "stream",
     "text": [
      "{'test_acc': tensor(0.8346), 'test_auc': tensor(0.9511), 'test_f1': tensor(0.8382)}\n"
     ]
    },
    {
     "data": {
      "text/html": [
       "Waiting for W&B process to finish... <strong style=\"color:green\">(success).</strong>"
      ],
      "text/plain": [
       "<IPython.core.display.HTML object>"
      ]
     },
     "metadata": {},
     "output_type": "display_data"
    },
    {
     "data": {
      "application/vnd.jupyter.widget-view+json": {
       "model_id": "b448f3147dfc4bd78c6256fe54a20040",
       "version_major": 2,
       "version_minor": 0
      },
      "text/plain": [
       "VBox(children=(Label(value='0.001 MB of 0.001 MB uploaded (0.000 MB deduped)\\r'), FloatProgress(value=1.0, max…"
      ]
     },
     "metadata": {},
     "output_type": "display_data"
    },
    {
     "data": {
      "text/html": [
       "<style>\n",
       "    table.wandb td:nth-child(1) { padding: 0 10px; text-align: left ; width: auto;} td:nth-child(2) {text-align: left ; width: 100%}\n",
       "    .wandb-row { display: flex; flex-direction: row; flex-wrap: wrap; justify-content: flex-start; width: 100% }\n",
       "    .wandb-col { display: flex; flex-direction: column; flex-basis: 100%; flex: 1; padding: 10px; }\n",
       "    </style>\n",
       "<div class=\"wandb-row\"><div class=\"wandb-col\"><h3>Run history:</h3><br/><table class=\"wandb\"><tr><td>epoch</td><td>▁▁▁▂▂▂▂▂▂▃▃▃▃▃▄▄▄▄▄▄▅▅▅▅▅▅▆▆▆▆▆▆▇▇▇▇▇███</td></tr><tr><td>lr-Adam</td><td>▁▁▁▁▁▁▁▁▁▁▁▁▁▁▁▁▁▁▁▁▁▁▁▁▁▁▁▁▁▁▁▁▁▁▁▁▁▁▁▁</td></tr><tr><td>test_acc</td><td>▁</td></tr><tr><td>test_auc</td><td>▁</td></tr><tr><td>test_f1</td><td>▁</td></tr><tr><td>train_acc</td><td>▁▁▁▂▃▃▃▃▄▄▄▄▄▆▅▅▆▆▇▆▇▇▇▇▇▇▇▇▇▇█▇▇▇▇▇████</td></tr><tr><td>train_auc</td><td>▁▁▂▂▂▃▃▃▄▄▅▅▅▆▆▆▇▇▇▇▇▇▇█▇███████████████</td></tr><tr><td>train_f1</td><td>▁▄▄▄▄▄▅▄▅▅▅▅▅▆▆▅▇▇▇▇▇▇▇▇▇▇▇▇▇▇█▇█▇██████</td></tr><tr><td>train_loss_epoch</td><td>███▇▇▇▆▆▆▆▆▆▅▄▄▄▃▃▃▃▂▃▃▂▂▂▂▂▂▂▁▂▁▂▁▁▁▁▁▁</td></tr><tr><td>train_loss_step</td><td>███▇█▅▆▅▃▅▂▂▂▁▁▂▂▃▁▃</td></tr><tr><td>trainer/global_step</td><td>▁▁▁▂▁▁▂▂▁▃▃▃▂▃▄▄▂▄▄▂▂▅▅▂▅▅▆▂▆▆▆▂▇▇▇▃▇███</td></tr><tr><td>val_acc</td><td>▁▃▃▁▃▄▃▅▆▅▅▆▅▆▆▅▄▇▅▆▄█▆▆▆▄▄▆▆▇▆▆▅▆█▆▆█▆█</td></tr><tr><td>val_auc</td><td>▁▂▂▂▃▃▃▃▄▅▅▅▆▇▇▇▇▇▇▇▇███▇▇▇▇████████████</td></tr><tr><td>val_f1</td><td>▃▅▄▁▄▆▅▅▆▆▅▆▅▅▅▄▂▆▄▅▂█▅▅▆▂▃▅▅▇▅▅▄▅█▅▅█▅█</td></tr><tr><td>val_loss_epoch</td><td>█▇▇▇▆▆▅▅▅▄▄▄▄▃▄▅▅▃▄▃▅▁▃▃▃▆▅▃▃▂▄▃▅▂▁▄▃▁▃▁</td></tr><tr><td>val_loss_step</td><td>█▇▇▇▆▆▅▅▅▄▄▄▄▃▄▅▅▃▄▃▅▁▃▃▃▆▅▃▃▂▄▃▅▂▁▄▃▁▃▁</td></tr></table><br/></div><div class=\"wandb-col\"><h3>Run summary:</h3><br/><table class=\"wandb\"><tr><td>epoch</td><td>50</td></tr><tr><td>lr-Adam</td><td>0.005</td></tr><tr><td>test_acc</td><td>0.83459</td></tr><tr><td>test_auc</td><td>0.95106</td></tr><tr><td>test_f1</td><td>0.83824</td></tr><tr><td>train_acc</td><td>0.91498</td></tr><tr><td>train_auc</td><td>0.95037</td></tr><tr><td>train_f1</td><td>0.92364</td></tr><tr><td>train_loss_epoch</td><td>0.4019</td></tr><tr><td>train_loss_step</td><td>0.42859</td></tr><tr><td>trainer/global_step</td><td>200</td></tr><tr><td>val_acc</td><td>0.87097</td></tr><tr><td>val_auc</td><td>0.98328</td></tr><tr><td>val_f1</td><td>0.88889</td></tr><tr><td>val_loss_epoch</td><td>0.43978</td></tr><tr><td>val_loss_step</td><td>0.43978</td></tr></table><br/></div></div>"
      ],
      "text/plain": [
       "<IPython.core.display.HTML object>"
      ]
     },
     "metadata": {},
     "output_type": "display_data"
    },
    {
     "data": {
      "text/html": [
       " View run <strong style=\"color:#cdcd00\">GAT_2_16_2</strong> at: <a href='https://wandb.ai/thoomas/SF_030324_Covid_pos/runs/rrgy7p8r' target=\"_blank\">https://wandb.ai/thoomas/SF_030324_Covid_pos/runs/rrgy7p8r</a><br/>Synced 6 W&B file(s), 0 media file(s), 0 artifact file(s) and 0 other file(s)"
      ],
      "text/plain": [
       "<IPython.core.display.HTML object>"
      ]
     },
     "metadata": {},
     "output_type": "display_data"
    },
    {
     "data": {
      "text/html": [
       "Find logs at: <code>.\\wandb\\run-20240303_200835-rrgy7p8r\\logs</code>"
      ],
      "text/plain": [
       "<IPython.core.display.HTML object>"
      ]
     },
     "metadata": {},
     "output_type": "display_data"
    },
    {
     "data": {
      "application/vnd.jupyter.widget-view+json": {
       "model_id": "e93074d02d4044a29c9cd88412ed24f0",
       "version_major": 2,
       "version_minor": 0
      },
      "text/plain": [
       "VBox(children=(Label(value='Waiting for wandb.init()...\\r'), FloatProgress(value=0.016666666666666666, max=1.0…"
      ]
     },
     "metadata": {},
     "output_type": "display_data"
    },
    {
     "data": {
      "text/html": [
       "wandb version 0.16.3 is available!  To upgrade, please run:\n",
       " $ pip install wandb --upgrade"
      ],
      "text/plain": [
       "<IPython.core.display.HTML object>"
      ]
     },
     "metadata": {},
     "output_type": "display_data"
    },
    {
     "data": {
      "text/html": [
       "Tracking run with wandb version 0.14.0"
      ],
      "text/plain": [
       "<IPython.core.display.HTML object>"
      ]
     },
     "metadata": {},
     "output_type": "display_data"
    },
    {
     "data": {
      "text/html": [
       "Run data is saved locally in <code>y:\\coskun-lab\\Thomas\\11_snowflakes\\notebooks\\wandb\\run-20240303_201420-m2dd8m7l</code>"
      ],
      "text/plain": [
       "<IPython.core.display.HTML object>"
      ]
     },
     "metadata": {},
     "output_type": "display_data"
    },
    {
     "data": {
      "text/html": [
       "Syncing run <strong><a href='https://wandb.ai/thoomas/SF_030324_Covid_pos/runs/m2dd8m7l' target=\"_blank\">GINConv_2_16_2</a></strong> to <a href='https://wandb.ai/thoomas/SF_030324_Covid_pos' target=\"_blank\">Weights & Biases</a> (<a href='https://wandb.me/run' target=\"_blank\">docs</a>)<br/>"
      ],
      "text/plain": [
       "<IPython.core.display.HTML object>"
      ]
     },
     "metadata": {},
     "output_type": "display_data"
    },
    {
     "data": {
      "text/html": [
       " View project at <a href='https://wandb.ai/thoomas/SF_030324_Covid_pos' target=\"_blank\">https://wandb.ai/thoomas/SF_030324_Covid_pos</a>"
      ],
      "text/plain": [
       "<IPython.core.display.HTML object>"
      ]
     },
     "metadata": {},
     "output_type": "display_data"
    },
    {
     "data": {
      "text/html": [
       " View run at <a href='https://wandb.ai/thoomas/SF_030324_Covid_pos/runs/m2dd8m7l' target=\"_blank\">https://wandb.ai/thoomas/SF_030324_Covid_pos/runs/m2dd8m7l</a>"
      ],
      "text/plain": [
       "<IPython.core.display.HTML object>"
      ]
     },
     "metadata": {},
     "output_type": "display_data"
    },
    {
     "name": "stderr",
     "output_type": "stream",
     "text": [
      "Global seed set to 42\n",
      "C:\\Users\\thu71\\AppData\\Roaming\\Python\\Python39\\site-packages\\lightning\\pytorch\\loggers\\wandb.py:395: UserWarning: There is a wandb run already in progress and newly created instances of `WandbLogger` will reuse this run. If this is not desired, call `wandb.finish()` before instantiating `WandbLogger`.\n",
      "  rank_zero_warn(\n",
      "GPU available: True (cuda), used: True\n",
      "TPU available: False, using: 0 TPU cores\n",
      "IPU available: False, using: 0 IPUs\n",
      "HPU available: False, using: 0 HPUs\n",
      "Global seed set to 42\n",
      "LOCAL_RANK: 0 - CUDA_VISIBLE_DEVICES: [0,1]\n",
      "\n",
      "   | Name        | Type             | Params\n",
      "--------------------------------------------------\n",
      "0  | model       | GIN              | 1.0 K \n",
      "1  | fnn_layer   | Linear           | 272   \n",
      "2  | selu        | SELU             | 0     \n",
      "3  | head        | Linear           | 34    \n",
      "4  | loss_module | CrossEntropyLoss | 0     \n",
      "5  | train_acc   | BinaryAccuracy   | 0     \n",
      "6  | train_auroc | BinaryAUROC      | 0     \n",
      "7  | train_f1    | BinaryF1Score    | 0     \n",
      "8  | valid_acc   | BinaryAccuracy   | 0     \n",
      "9  | valid_auroc | BinaryAUROC      | 0     \n",
      "10 | valid_f1    | BinaryF1Score    | 0     \n",
      "11 | test_acc    | BinaryAccuracy   | 0     \n",
      "12 | test_auroc  | BinaryAUROC      | 0     \n",
      "13 | test_f1     | BinaryF1Score    | 0     \n",
      "--------------------------------------------------\n",
      "1.3 K     Trainable params\n",
      "0         Non-trainable params\n",
      "1.3 K     Total params\n",
      "0.005     Total estimated model params size (MB)\n",
      "C:\\Users\\thu71\\AppData\\Roaming\\Python\\Python39\\site-packages\\lightning\\pytorch\\trainer\\connectors\\data_connector.py:478: PossibleUserWarning: Your `val_dataloader`'s sampler has shuffling enabled, it is strongly recommended that you turn shuffling off for val/test dataloaders.\n",
      "  rank_zero_warn(\n",
      "C:\\Users\\thu71\\AppData\\Roaming\\Python\\Python39\\site-packages\\lightning\\pytorch\\trainer\\connectors\\data_connector.py:430: PossibleUserWarning: The dataloader, val_dataloader, does not have many workers which may be a bottleneck. Consider increasing the value of the `num_workers` argument` (try 48 which is the number of cpus on this machine) in the `DataLoader` init to improve performance.\n",
      "  rank_zero_warn(\n",
      "C:\\Users\\thu71\\AppData\\Roaming\\Python\\Python39\\site-packages\\lightning\\pytorch\\trainer\\connectors\\data_connector.py:430: PossibleUserWarning: The dataloader, train_dataloader, does not have many workers which may be a bottleneck. Consider increasing the value of the `num_workers` argument` (try 48 which is the number of cpus on this machine) in the `DataLoader` init to improve performance.\n",
      "  rank_zero_warn(\n",
      "C:\\Users\\thu71\\AppData\\Roaming\\Python\\Python39\\site-packages\\lightning\\pytorch\\loops\\fit_loop.py:280: PossibleUserWarning: The number of training batches (2) is smaller than the logging interval Trainer(log_every_n_steps=10). Set a lower value for log_every_n_steps if you want to see logs for the training epoch.\n",
      "  rank_zero_warn(\n",
      "`Trainer.fit` stopped: `max_epochs=50` reached.\n",
      "LOCAL_RANK: 0 - CUDA_VISIBLE_DEVICES: [0,1]\n",
      "C:\\Users\\thu71\\AppData\\Roaming\\Python\\Python39\\site-packages\\lightning\\pytorch\\trainer\\connectors\\data_connector.py:478: PossibleUserWarning: Your `test_dataloader`'s sampler has shuffling enabled, it is strongly recommended that you turn shuffling off for val/test dataloaders.\n",
      "  rank_zero_warn(\n",
      "C:\\Users\\thu71\\AppData\\Roaming\\Python\\Python39\\site-packages\\lightning\\pytorch\\trainer\\connectors\\data_connector.py:430: PossibleUserWarning: The dataloader, test_dataloader, does not have many workers which may be a bottleneck. Consider increasing the value of the `num_workers` argument` (try 48 which is the number of cpus on this machine) in the `DataLoader` init to improve performance.\n",
      "  rank_zero_warn(\n"
     ]
    },
    {
     "name": "stdout",
     "output_type": "stream",
     "text": [
      "{'test_acc': tensor(0.8346), 'test_auc': tensor(0.9000), 'test_f1': tensor(0.8533)}\n"
     ]
    },
    {
     "data": {
      "text/html": [
       "Waiting for W&B process to finish... <strong style=\"color:green\">(success).</strong>"
      ],
      "text/plain": [
       "<IPython.core.display.HTML object>"
      ]
     },
     "metadata": {},
     "output_type": "display_data"
    },
    {
     "data": {
      "application/vnd.jupyter.widget-view+json": {
       "model_id": "cf39e567efc941b892ef58db83a7065b",
       "version_major": 2,
       "version_minor": 0
      },
      "text/plain": [
       "VBox(children=(Label(value='0.001 MB of 0.001 MB uploaded (0.000 MB deduped)\\r'), FloatProgress(value=1.0, max…"
      ]
     },
     "metadata": {},
     "output_type": "display_data"
    },
    {
     "data": {
      "text/html": [
       "<style>\n",
       "    table.wandb td:nth-child(1) { padding: 0 10px; text-align: left ; width: auto;} td:nth-child(2) {text-align: left ; width: 100%}\n",
       "    .wandb-row { display: flex; flex-direction: row; flex-wrap: wrap; justify-content: flex-start; width: 100% }\n",
       "    .wandb-col { display: flex; flex-direction: column; flex-basis: 100%; flex: 1; padding: 10px; }\n",
       "    </style>\n",
       "<div class=\"wandb-row\"><div class=\"wandb-col\"><h3>Run history:</h3><br/><table class=\"wandb\"><tr><td>epoch</td><td>▁▁▁▂▂▂▂▂▂▃▃▃▃▃▄▄▄▄▄▄▅▅▅▅▅▅▆▆▆▆▆▆▇▇▇▇▇███</td></tr><tr><td>lr-Adam</td><td>▁▁▁▁▁▁▁▁▁▁▁▁▁▁▁▁▁▁▁▁▁▁▁▁▁▁▁▁▁▁▁▁▁▁▁▁▁▁▁▁</td></tr><tr><td>test_acc</td><td>▁</td></tr><tr><td>test_auc</td><td>▁</td></tr><tr><td>test_f1</td><td>▁</td></tr><tr><td>train_acc</td><td>▁▂▃▃▄▄▅▆▆▆▆▆▆▇▆▇▆▆▇▆▇▇▇▇▇▇▇▇▇▇▇▇█▇▇▇██▇█</td></tr><tr><td>train_auc</td><td>▁▄▅▆▆▆▇▇▇▇▇▇▇▇▇▇▇▇▇▇▇▇██████████████████</td></tr><tr><td>train_f1</td><td>▁▃▃▄▄▄▄▅▅▅▆▆▆▆▆▆▆▆▇▆▇▇▇▇▇▇▇▇▇▇▇▇▇▇▇▆██▇█</td></tr><tr><td>train_loss_epoch</td><td>█▇▇▆▅▅▅▄▄▄▄▃▃▃▃▃▃▃▂▃▂▂▂▂▂▂▂▂▂▂▂▁▁▁▁▂▁▁▁▁</td></tr><tr><td>train_loss_step</td><td>█▆▅▄▃▂▂▂▁▁</td></tr><tr><td>trainer/global_step</td><td>▁▁▁▂▂▂▂▂▂▃▃▃▃▃▄▂▂▄▃▄▅▅▅▃▅▅▃▆▆▆▆▄▇▄▄▇████</td></tr><tr><td>val_acc</td><td>▃▁▃▂▆▅▃▃▃▄▄▆▆▆▆▆██▇▇▅▅████▅▄▅▆▆▅▄▆▆▆█▆▄█</td></tr><tr><td>val_auc</td><td>▁▃▃▄▅▆▇▇▇███▇▇▇▇███▇▆▇██▇▇▇▇███▇▇▇█▇█▇▆█</td></tr><tr><td>val_f1</td><td>▃▂▄▁▇▅▄▃▄▅▅▇▅▆▅▅▇▇▆▆▃▃▇▇▇▇▄▃▄▅▅▄▃▅▅▆█▆▃▇</td></tr><tr><td>val_loss_epoch</td><td>█▇▇▆▅▄▄▄▄▃▃▂▂▂▂▂▁▁▂▂▃▃▂▁▁▂▃▃▂▁▁▃▃▂▁▂▁▂▃▁</td></tr><tr><td>val_loss_step</td><td>█▇▇▆▅▄▄▄▄▃▃▂▂▂▂▂▁▁▂▂▃▃▂▁▁▂▃▃▂▁▁▃▃▂▁▂▁▂▃▁</td></tr></table><br/></div><div class=\"wandb-col\"><h3>Run summary:</h3><br/><table class=\"wandb\"><tr><td>epoch</td><td>50</td></tr><tr><td>lr-Adam</td><td>0.005</td></tr><tr><td>test_acc</td><td>0.83459</td></tr><tr><td>test_auc</td><td>0.90005</td></tr><tr><td>test_f1</td><td>0.85333</td></tr><tr><td>train_acc</td><td>0.93927</td></tr><tr><td>train_auc</td><td>0.94911</td></tr><tr><td>train_f1</td><td>0.94624</td></tr><tr><td>train_loss_epoch</td><td>0.38828</td></tr><tr><td>train_loss_step</td><td>0.38267</td></tr><tr><td>trainer/global_step</td><td>100</td></tr><tr><td>val_acc</td><td>0.85484</td></tr><tr><td>val_auc</td><td>0.9097</td></tr><tr><td>val_f1</td><td>0.87671</td></tr><tr><td>val_loss_epoch</td><td>0.46115</td></tr><tr><td>val_loss_step</td><td>0.46115</td></tr></table><br/></div></div>"
      ],
      "text/plain": [
       "<IPython.core.display.HTML object>"
      ]
     },
     "metadata": {},
     "output_type": "display_data"
    },
    {
     "data": {
      "text/html": [
       " View run <strong style=\"color:#cdcd00\">GINConv_2_16_2</strong> at: <a href='https://wandb.ai/thoomas/SF_030324_Covid_pos/runs/m2dd8m7l' target=\"_blank\">https://wandb.ai/thoomas/SF_030324_Covid_pos/runs/m2dd8m7l</a><br/>Synced 6 W&B file(s), 0 media file(s), 0 artifact file(s) and 0 other file(s)"
      ],
      "text/plain": [
       "<IPython.core.display.HTML object>"
      ]
     },
     "metadata": {},
     "output_type": "display_data"
    },
    {
     "data": {
      "text/html": [
       "Find logs at: <code>.\\wandb\\run-20240303_201420-m2dd8m7l\\logs</code>"
      ],
      "text/plain": [
       "<IPython.core.display.HTML object>"
      ]
     },
     "metadata": {},
     "output_type": "display_data"
    },
    {
     "data": {
      "application/vnd.jupyter.widget-view+json": {
       "model_id": "4f9c1ae49cab4083b4e2edccbf30e41d",
       "version_major": 2,
       "version_minor": 0
      },
      "text/plain": [
       "VBox(children=(Label(value='Waiting for wandb.init()...\\r'), FloatProgress(value=0.01693333333338766, max=1.0)…"
      ]
     },
     "metadata": {},
     "output_type": "display_data"
    },
    {
     "data": {
      "text/html": [
       "wandb version 0.16.3 is available!  To upgrade, please run:\n",
       " $ pip install wandb --upgrade"
      ],
      "text/plain": [
       "<IPython.core.display.HTML object>"
      ]
     },
     "metadata": {},
     "output_type": "display_data"
    },
    {
     "data": {
      "text/html": [
       "Tracking run with wandb version 0.14.0"
      ],
      "text/plain": [
       "<IPython.core.display.HTML object>"
      ]
     },
     "metadata": {},
     "output_type": "display_data"
    },
    {
     "data": {
      "text/html": [
       "Run data is saved locally in <code>y:\\coskun-lab\\Thomas\\11_snowflakes\\notebooks\\wandb\\run-20240303_201923-ow49l5a9</code>"
      ],
      "text/plain": [
       "<IPython.core.display.HTML object>"
      ]
     },
     "metadata": {},
     "output_type": "display_data"
    },
    {
     "data": {
      "text/html": [
       "Syncing run <strong><a href='https://wandb.ai/thoomas/SF_030324_Covid_pos/runs/ow49l5a9' target=\"_blank\">GAT_2_16_2</a></strong> to <a href='https://wandb.ai/thoomas/SF_030324_Covid_pos' target=\"_blank\">Weights & Biases</a> (<a href='https://wandb.me/run' target=\"_blank\">docs</a>)<br/>"
      ],
      "text/plain": [
       "<IPython.core.display.HTML object>"
      ]
     },
     "metadata": {},
     "output_type": "display_data"
    },
    {
     "data": {
      "text/html": [
       " View project at <a href='https://wandb.ai/thoomas/SF_030324_Covid_pos' target=\"_blank\">https://wandb.ai/thoomas/SF_030324_Covid_pos</a>"
      ],
      "text/plain": [
       "<IPython.core.display.HTML object>"
      ]
     },
     "metadata": {},
     "output_type": "display_data"
    },
    {
     "data": {
      "text/html": [
       " View run at <a href='https://wandb.ai/thoomas/SF_030324_Covid_pos/runs/ow49l5a9' target=\"_blank\">https://wandb.ai/thoomas/SF_030324_Covid_pos/runs/ow49l5a9</a>"
      ],
      "text/plain": [
       "<IPython.core.display.HTML object>"
      ]
     },
     "metadata": {},
     "output_type": "display_data"
    },
    {
     "name": "stderr",
     "output_type": "stream",
     "text": [
      "Global seed set to 42\n",
      "C:\\Users\\thu71\\AppData\\Roaming\\Python\\Python39\\site-packages\\lightning\\pytorch\\loggers\\wandb.py:395: UserWarning: There is a wandb run already in progress and newly created instances of `WandbLogger` will reuse this run. If this is not desired, call `wandb.finish()` before instantiating `WandbLogger`.\n",
      "  rank_zero_warn(\n",
      "GPU available: True (cuda), used: True\n",
      "TPU available: False, using: 0 TPU cores\n",
      "IPU available: False, using: 0 IPUs\n",
      "HPU available: False, using: 0 HPUs\n",
      "Global seed set to 42\n",
      "LOCAL_RANK: 0 - CUDA_VISIBLE_DEVICES: [0,1]\n",
      "\n",
      "   | Name        | Type             | Params\n",
      "--------------------------------------------------\n",
      "0  | model       | GAT              | 5.1 K \n",
      "1  | fnn_layer   | Linear           | 272   \n",
      "2  | selu        | SELU             | 0     \n",
      "3  | head        | Linear           | 34    \n",
      "4  | loss_module | CrossEntropyLoss | 0     \n",
      "5  | train_acc   | BinaryAccuracy   | 0     \n",
      "6  | train_auroc | BinaryAUROC      | 0     \n",
      "7  | train_f1    | BinaryF1Score    | 0     \n",
      "8  | valid_acc   | BinaryAccuracy   | 0     \n",
      "9  | valid_auroc | BinaryAUROC      | 0     \n",
      "10 | valid_f1    | BinaryF1Score    | 0     \n",
      "11 | test_acc    | BinaryAccuracy   | 0     \n",
      "12 | test_auroc  | BinaryAUROC      | 0     \n",
      "13 | test_f1     | BinaryF1Score    | 0     \n",
      "--------------------------------------------------\n",
      "5.4 K     Trainable params\n",
      "0         Non-trainable params\n",
      "5.4 K     Total params\n",
      "0.022     Total estimated model params size (MB)\n",
      "C:\\Users\\thu71\\AppData\\Roaming\\Python\\Python39\\site-packages\\lightning\\pytorch\\trainer\\connectors\\data_connector.py:478: PossibleUserWarning: Your `val_dataloader`'s sampler has shuffling enabled, it is strongly recommended that you turn shuffling off for val/test dataloaders.\n",
      "  rank_zero_warn(\n",
      "C:\\Users\\thu71\\AppData\\Roaming\\Python\\Python39\\site-packages\\lightning\\pytorch\\trainer\\connectors\\data_connector.py:430: PossibleUserWarning: The dataloader, val_dataloader, does not have many workers which may be a bottleneck. Consider increasing the value of the `num_workers` argument` (try 48 which is the number of cpus on this machine) in the `DataLoader` init to improve performance.\n",
      "  rank_zero_warn(\n",
      "C:\\Users\\thu71\\AppData\\Roaming\\Python\\Python39\\site-packages\\lightning\\pytorch\\trainer\\connectors\\data_connector.py:430: PossibleUserWarning: The dataloader, train_dataloader, does not have many workers which may be a bottleneck. Consider increasing the value of the `num_workers` argument` (try 48 which is the number of cpus on this machine) in the `DataLoader` init to improve performance.\n",
      "  rank_zero_warn(\n",
      "C:\\Users\\thu71\\AppData\\Roaming\\Python\\Python39\\site-packages\\lightning\\pytorch\\loops\\fit_loop.py:280: PossibleUserWarning: The number of training batches (4) is smaller than the logging interval Trainer(log_every_n_steps=10). Set a lower value for log_every_n_steps if you want to see logs for the training epoch.\n",
      "  rank_zero_warn(\n",
      "`Trainer.fit` stopped: `max_epochs=50` reached.\n",
      "LOCAL_RANK: 0 - CUDA_VISIBLE_DEVICES: [0,1]\n",
      "C:\\Users\\thu71\\AppData\\Roaming\\Python\\Python39\\site-packages\\lightning\\pytorch\\trainer\\connectors\\data_connector.py:478: PossibleUserWarning: Your `test_dataloader`'s sampler has shuffling enabled, it is strongly recommended that you turn shuffling off for val/test dataloaders.\n",
      "  rank_zero_warn(\n",
      "C:\\Users\\thu71\\AppData\\Roaming\\Python\\Python39\\site-packages\\lightning\\pytorch\\trainer\\connectors\\data_connector.py:430: PossibleUserWarning: The dataloader, test_dataloader, does not have many workers which may be a bottleneck. Consider increasing the value of the `num_workers` argument` (try 48 which is the number of cpus on this machine) in the `DataLoader` init to improve performance.\n",
      "  rank_zero_warn(\n"
     ]
    },
    {
     "name": "stdout",
     "output_type": "stream",
     "text": [
      "{'test_acc': tensor(0.7068), 'test_auc': tensor(0.9035), 'test_f1': tensor(0.6880)}\n"
     ]
    },
    {
     "data": {
      "text/html": [
       "Waiting for W&B process to finish... <strong style=\"color:green\">(success).</strong>"
      ],
      "text/plain": [
       "<IPython.core.display.HTML object>"
      ]
     },
     "metadata": {},
     "output_type": "display_data"
    },
    {
     "data": {
      "application/vnd.jupyter.widget-view+json": {
       "model_id": "31c43fe9a9ca4597a9055eee180ce535",
       "version_major": 2,
       "version_minor": 0
      },
      "text/plain": [
       "VBox(children=(Label(value='0.001 MB of 0.001 MB uploaded (0.000 MB deduped)\\r'), FloatProgress(value=1.0, max…"
      ]
     },
     "metadata": {},
     "output_type": "display_data"
    },
    {
     "data": {
      "text/html": [
       "<style>\n",
       "    table.wandb td:nth-child(1) { padding: 0 10px; text-align: left ; width: auto;} td:nth-child(2) {text-align: left ; width: 100%}\n",
       "    .wandb-row { display: flex; flex-direction: row; flex-wrap: wrap; justify-content: flex-start; width: 100% }\n",
       "    .wandb-col { display: flex; flex-direction: column; flex-basis: 100%; flex: 1; padding: 10px; }\n",
       "    </style>\n",
       "<div class=\"wandb-row\"><div class=\"wandb-col\"><h3>Run history:</h3><br/><table class=\"wandb\"><tr><td>epoch</td><td>▁▁▁▂▂▂▂▂▂▃▃▃▃▃▄▄▄▄▄▄▅▅▅▅▅▅▆▆▆▆▆▆▇▇▇▇▇███</td></tr><tr><td>lr-Adam</td><td>▁▁▁▁▁▁▁▁▁▁▁▁▁▁▁▁▁▁▁▁▁▁▁▁▁▁▁▁▁▁▁▁▁▁▁▁▁▁▁▁</td></tr><tr><td>test_acc</td><td>▁</td></tr><tr><td>test_auc</td><td>▁</td></tr><tr><td>test_f1</td><td>▁</td></tr><tr><td>train_acc</td><td>▁▃▃▄▄▄▅▅▅▆▆▅▆▆▆▆▆▆▇▇▇▆▆▇▇▇▇█▇▇▇▇████████</td></tr><tr><td>train_auc</td><td>▁▂▄▅▅▅▆▆▆▆▆▆▇▇▇▇▇▇▇▇▇▇▇▇▇█▇██▇▇█████████</td></tr><tr><td>train_f1</td><td>▁▅▅▅▅▆▆▆▆▆▆▆▆▆▇▆▇▇▇▇▇▇▇▇▇▇▇█▇█▇▇████████</td></tr><tr><td>train_loss_epoch</td><td>█▇▇▇▆▅▅▅▅▄▄▅▄▄▃▄▃▄▃▃▃▃▃▃▃▂▂▂▂▂▂▂▁▂▁▁▁▁▁▁</td></tr><tr><td>train_loss_step</td><td>█▇▇▆▇▅▅▇▄▃▃▂▃▁▃▃▂▃▂▂</td></tr><tr><td>trainer/global_step</td><td>▁▁▁▂▁▁▂▂▁▃▃▃▂▃▄▄▂▄▄▂▂▅▅▂▅▅▆▂▆▆▆▂▇▇▇▃▇███</td></tr><tr><td>val_acc</td><td>▁▄█▂▄▂▂▂▁▂▂▁▂▂▂▂▂▂▂▃▅▄▂▃▂▂▃▄▃▃▂▃▃▄▅▅▆▅▇▅</td></tr><tr><td>val_auc</td><td>▃▄▄▁▂▂▁▁▁▁▁▂▂▂▃▂▃▃▃▄▅▅▄▅▅▅▆▆▇█▇▇▆▆▇██▆▆▇</td></tr><tr><td>val_f1</td><td>▁▇█▃▅▃▃▃▃▃▃▃▃▃▄▃▄▄▄▄▆▅▃▄▃▃▄▅▄▄▂▄▄▅▆▆▇▆▇▆</td></tr><tr><td>val_loss_epoch</td><td>█▆▆▇▆▆▆▅▆▆▆▅▅▆▄▇▄▄▄▄▃▄█▅▇▇▄▄▆▅█▅▄▃▂▂▁▂▁▂</td></tr><tr><td>val_loss_step</td><td>█▆▆▇▆▆▆▅▆▆▆▅▅▆▄▇▄▄▄▄▃▄█▅▇▇▄▄▆▅█▅▄▃▂▂▁▂▁▂</td></tr></table><br/></div><div class=\"wandb-col\"><h3>Run summary:</h3><br/><table class=\"wandb\"><tr><td>epoch</td><td>50</td></tr><tr><td>lr-Adam</td><td>0.005</td></tr><tr><td>test_acc</td><td>0.70677</td></tr><tr><td>test_auc</td><td>0.90351</td></tr><tr><td>test_f1</td><td>0.688</td></tr><tr><td>train_acc</td><td>0.91903</td></tr><tr><td>train_auc</td><td>0.96676</td></tr><tr><td>train_f1</td><td>0.92481</td></tr><tr><td>train_loss_epoch</td><td>0.39563</td></tr><tr><td>train_loss_step</td><td>0.39613</td></tr><tr><td>trainer/global_step</td><td>200</td></tr><tr><td>val_acc</td><td>0.69355</td></tr><tr><td>val_auc</td><td>0.88294</td></tr><tr><td>val_f1</td><td>0.70769</td></tr><tr><td>val_loss_epoch</td><td>0.58107</td></tr><tr><td>val_loss_step</td><td>0.58107</td></tr></table><br/></div></div>"
      ],
      "text/plain": [
       "<IPython.core.display.HTML object>"
      ]
     },
     "metadata": {},
     "output_type": "display_data"
    },
    {
     "data": {
      "text/html": [
       " View run <strong style=\"color:#cdcd00\">GAT_2_16_2</strong> at: <a href='https://wandb.ai/thoomas/SF_030324_Covid_pos/runs/ow49l5a9' target=\"_blank\">https://wandb.ai/thoomas/SF_030324_Covid_pos/runs/ow49l5a9</a><br/>Synced 6 W&B file(s), 0 media file(s), 0 artifact file(s) and 0 other file(s)"
      ],
      "text/plain": [
       "<IPython.core.display.HTML object>"
      ]
     },
     "metadata": {},
     "output_type": "display_data"
    },
    {
     "data": {
      "text/html": [
       "Find logs at: <code>.\\wandb\\run-20240303_201923-ow49l5a9\\logs</code>"
      ],
      "text/plain": [
       "<IPython.core.display.HTML object>"
      ]
     },
     "metadata": {},
     "output_type": "display_data"
    },
    {
     "data": {
      "application/vnd.jupyter.widget-view+json": {
       "model_id": "3889a4ca50694c2b9d3fd1869b19e24a",
       "version_major": 2,
       "version_minor": 0
      },
      "text/plain": [
       "VBox(children=(Label(value='Waiting for wandb.init()...\\r'), FloatProgress(value=0.01693333333338766, max=1.0)…"
      ]
     },
     "metadata": {},
     "output_type": "display_data"
    },
    {
     "data": {
      "text/html": [
       "wandb version 0.16.3 is available!  To upgrade, please run:\n",
       " $ pip install wandb --upgrade"
      ],
      "text/plain": [
       "<IPython.core.display.HTML object>"
      ]
     },
     "metadata": {},
     "output_type": "display_data"
    },
    {
     "data": {
      "text/html": [
       "Tracking run with wandb version 0.14.0"
      ],
      "text/plain": [
       "<IPython.core.display.HTML object>"
      ]
     },
     "metadata": {},
     "output_type": "display_data"
    },
    {
     "data": {
      "text/html": [
       "Run data is saved locally in <code>y:\\coskun-lab\\Thomas\\11_snowflakes\\notebooks\\wandb\\run-20240303_202540-3smk52b0</code>"
      ],
      "text/plain": [
       "<IPython.core.display.HTML object>"
      ]
     },
     "metadata": {},
     "output_type": "display_data"
    },
    {
     "data": {
      "text/html": [
       "Syncing run <strong><a href='https://wandb.ai/thoomas/SF_030324_Covid_pos/runs/3smk52b0' target=\"_blank\">GINConv_2_16_2</a></strong> to <a href='https://wandb.ai/thoomas/SF_030324_Covid_pos' target=\"_blank\">Weights & Biases</a> (<a href='https://wandb.me/run' target=\"_blank\">docs</a>)<br/>"
      ],
      "text/plain": [
       "<IPython.core.display.HTML object>"
      ]
     },
     "metadata": {},
     "output_type": "display_data"
    },
    {
     "data": {
      "text/html": [
       " View project at <a href='https://wandb.ai/thoomas/SF_030324_Covid_pos' target=\"_blank\">https://wandb.ai/thoomas/SF_030324_Covid_pos</a>"
      ],
      "text/plain": [
       "<IPython.core.display.HTML object>"
      ]
     },
     "metadata": {},
     "output_type": "display_data"
    },
    {
     "data": {
      "text/html": [
       " View run at <a href='https://wandb.ai/thoomas/SF_030324_Covid_pos/runs/3smk52b0' target=\"_blank\">https://wandb.ai/thoomas/SF_030324_Covid_pos/runs/3smk52b0</a>"
      ],
      "text/plain": [
       "<IPython.core.display.HTML object>"
      ]
     },
     "metadata": {},
     "output_type": "display_data"
    },
    {
     "name": "stderr",
     "output_type": "stream",
     "text": [
      "Global seed set to 42\n",
      "C:\\Users\\thu71\\AppData\\Roaming\\Python\\Python39\\site-packages\\lightning\\pytorch\\loggers\\wandb.py:395: UserWarning: There is a wandb run already in progress and newly created instances of `WandbLogger` will reuse this run. If this is not desired, call `wandb.finish()` before instantiating `WandbLogger`.\n",
      "  rank_zero_warn(\n",
      "GPU available: True (cuda), used: True\n",
      "TPU available: False, using: 0 TPU cores\n",
      "IPU available: False, using: 0 IPUs\n",
      "HPU available: False, using: 0 HPUs\n",
      "Global seed set to 42\n",
      "LOCAL_RANK: 0 - CUDA_VISIBLE_DEVICES: [0,1]\n",
      "\n",
      "   | Name        | Type             | Params\n",
      "--------------------------------------------------\n",
      "0  | model       | GIN              | 1.0 K \n",
      "1  | fnn_layer   | Linear           | 272   \n",
      "2  | selu        | SELU             | 0     \n",
      "3  | head        | Linear           | 34    \n",
      "4  | loss_module | CrossEntropyLoss | 0     \n",
      "5  | train_acc   | BinaryAccuracy   | 0     \n",
      "6  | train_auroc | BinaryAUROC      | 0     \n",
      "7  | train_f1    | BinaryF1Score    | 0     \n",
      "8  | valid_acc   | BinaryAccuracy   | 0     \n",
      "9  | valid_auroc | BinaryAUROC      | 0     \n",
      "10 | valid_f1    | BinaryF1Score    | 0     \n",
      "11 | test_acc    | BinaryAccuracy   | 0     \n",
      "12 | test_auroc  | BinaryAUROC      | 0     \n",
      "13 | test_f1     | BinaryF1Score    | 0     \n",
      "--------------------------------------------------\n",
      "1.3 K     Trainable params\n",
      "0         Non-trainable params\n",
      "1.3 K     Total params\n",
      "0.005     Total estimated model params size (MB)\n",
      "C:\\Users\\thu71\\AppData\\Roaming\\Python\\Python39\\site-packages\\lightning\\pytorch\\trainer\\connectors\\data_connector.py:478: PossibleUserWarning: Your `val_dataloader`'s sampler has shuffling enabled, it is strongly recommended that you turn shuffling off for val/test dataloaders.\n",
      "  rank_zero_warn(\n",
      "C:\\Users\\thu71\\AppData\\Roaming\\Python\\Python39\\site-packages\\lightning\\pytorch\\trainer\\connectors\\data_connector.py:430: PossibleUserWarning: The dataloader, val_dataloader, does not have many workers which may be a bottleneck. Consider increasing the value of the `num_workers` argument` (try 48 which is the number of cpus on this machine) in the `DataLoader` init to improve performance.\n",
      "  rank_zero_warn(\n",
      "C:\\Users\\thu71\\AppData\\Roaming\\Python\\Python39\\site-packages\\lightning\\pytorch\\trainer\\connectors\\data_connector.py:430: PossibleUserWarning: The dataloader, train_dataloader, does not have many workers which may be a bottleneck. Consider increasing the value of the `num_workers` argument` (try 48 which is the number of cpus on this machine) in the `DataLoader` init to improve performance.\n",
      "  rank_zero_warn(\n",
      "C:\\Users\\thu71\\AppData\\Roaming\\Python\\Python39\\site-packages\\lightning\\pytorch\\loops\\fit_loop.py:280: PossibleUserWarning: The number of training batches (2) is smaller than the logging interval Trainer(log_every_n_steps=10). Set a lower value for log_every_n_steps if you want to see logs for the training epoch.\n",
      "  rank_zero_warn(\n",
      "`Trainer.fit` stopped: `max_epochs=50` reached.\n",
      "LOCAL_RANK: 0 - CUDA_VISIBLE_DEVICES: [0,1]\n",
      "C:\\Users\\thu71\\AppData\\Roaming\\Python\\Python39\\site-packages\\lightning\\pytorch\\trainer\\connectors\\data_connector.py:478: PossibleUserWarning: Your `test_dataloader`'s sampler has shuffling enabled, it is strongly recommended that you turn shuffling off for val/test dataloaders.\n",
      "  rank_zero_warn(\n",
      "C:\\Users\\thu71\\AppData\\Roaming\\Python\\Python39\\site-packages\\lightning\\pytorch\\trainer\\connectors\\data_connector.py:430: PossibleUserWarning: The dataloader, test_dataloader, does not have many workers which may be a bottleneck. Consider increasing the value of the `num_workers` argument` (try 48 which is the number of cpus on this machine) in the `DataLoader` init to improve performance.\n",
      "  rank_zero_warn(\n"
     ]
    },
    {
     "name": "stdout",
     "output_type": "stream",
     "text": [
      "{'test_acc': tensor(0.8195), 'test_auc': tensor(0.8924), 'test_f1': tensor(0.8400)}\n"
     ]
    },
    {
     "data": {
      "text/html": [
       "Waiting for W&B process to finish... <strong style=\"color:green\">(success).</strong>"
      ],
      "text/plain": [
       "<IPython.core.display.HTML object>"
      ]
     },
     "metadata": {},
     "output_type": "display_data"
    },
    {
     "data": {
      "application/vnd.jupyter.widget-view+json": {
       "model_id": "a545074b3f5548ba88b0e29709353149",
       "version_major": 2,
       "version_minor": 0
      },
      "text/plain": [
       "VBox(children=(Label(value='0.001 MB of 0.001 MB uploaded (0.000 MB deduped)\\r'), FloatProgress(value=1.0, max…"
      ]
     },
     "metadata": {},
     "output_type": "display_data"
    },
    {
     "data": {
      "text/html": [
       "<style>\n",
       "    table.wandb td:nth-child(1) { padding: 0 10px; text-align: left ; width: auto;} td:nth-child(2) {text-align: left ; width: 100%}\n",
       "    .wandb-row { display: flex; flex-direction: row; flex-wrap: wrap; justify-content: flex-start; width: 100% }\n",
       "    .wandb-col { display: flex; flex-direction: column; flex-basis: 100%; flex: 1; padding: 10px; }\n",
       "    </style>\n",
       "<div class=\"wandb-row\"><div class=\"wandb-col\"><h3>Run history:</h3><br/><table class=\"wandb\"><tr><td>epoch</td><td>▁▁▁▂▂▂▂▂▂▃▃▃▃▃▄▄▄▄▄▄▅▅▅▅▅▅▆▆▆▆▆▆▇▇▇▇▇███</td></tr><tr><td>lr-Adam</td><td>▁▁▁▁▁▁▁▁▁▁▁▁▁▁▁▁▁▁▁▁▁▁▁▁▁▁▁▁▁▁▁▁▁▁▁▁▁▁▁▁</td></tr><tr><td>test_acc</td><td>▁</td></tr><tr><td>test_auc</td><td>▁</td></tr><tr><td>test_f1</td><td>▁</td></tr><tr><td>train_acc</td><td>▁▁▃▄▄▄▅▅▅▅▅▆▆▆▆▆▆▇▇▆▇▇▇▇▇█▇▇▇█▇▇▇▇██████</td></tr><tr><td>train_auc</td><td>▁▄▄▅▅▅▆▅▆▆▆▆▆▆▇▇▆▇▇▆▇▇▇▇██▇▇████▇███████</td></tr><tr><td>train_f1</td><td>▁▃▃▃▄▅▄▄▅▅▅▆▅▆▆▆▆▆▇▆▆▇▇▇▇█▇▇▇█▇▇▇▇██████</td></tr><tr><td>train_loss_epoch</td><td>██▇▆▅▅▅▅▄▄▄▄▃▃▃▃▃▃▃▃▃▂▂▂▂▂▂▂▂▂▁▂▂▂▁▂▂▁▂▁</td></tr><tr><td>train_loss_step</td><td>█▇▆▄▄▃▃▂▁▁</td></tr><tr><td>trainer/global_step</td><td>▁▁▁▂▂▂▂▂▂▃▃▃▃▃▄▂▂▄▃▄▅▅▅▃▅▅▃▆▆▆▆▄▇▄▄▇████</td></tr><tr><td>val_acc</td><td>▁▃▇▅▄▆▆▅▆▅▇▇▇▇▇▇▇███▆▇█▇▆▇▇▇▆▆▆▇▇▇▇▇▆▇▇▆</td></tr><tr><td>val_auc</td><td>▁▃▂▇▆▆▆▅▆▆▇▇▆▇▇▇█▇▆▆████▇▆▇▇▇▆▆▆▇▇▇▇▇▇▇█</td></tr><tr><td>val_f1</td><td>▁▂▆▅▃▅▅▃▆▄▇▅▇▇▇▅▇██▇▄▇█▇▆▇▆▇▄▅▅▆▆▇▇▆▅▆▆▆</td></tr><tr><td>val_loss_epoch</td><td>█▇▇▆▅▄▄▄▃▃▂▂▂▂▁▁▁▁▁▁▁▁▁▁▂▂▁▂▂▂▂▁▁▁▁▁▂▁▁▁</td></tr><tr><td>val_loss_step</td><td>█▇▇▆▅▄▄▄▃▃▂▂▂▂▁▁▁▁▁▁▁▁▁▁▂▂▁▂▂▂▂▁▁▁▁▁▂▁▁▁</td></tr></table><br/></div><div class=\"wandb-col\"><h3>Run summary:</h3><br/><table class=\"wandb\"><tr><td>epoch</td><td>50</td></tr><tr><td>lr-Adam</td><td>0.005</td></tr><tr><td>test_acc</td><td>0.81955</td></tr><tr><td>test_auc</td><td>0.89243</td></tr><tr><td>test_f1</td><td>0.84</td></tr><tr><td>train_acc</td><td>0.90688</td></tr><tr><td>train_auc</td><td>0.96204</td></tr><tr><td>train_f1</td><td>0.91188</td></tr><tr><td>train_loss_epoch</td><td>0.41184</td></tr><tr><td>train_loss_step</td><td>0.40533</td></tr><tr><td>trainer/global_step</td><td>100</td></tr><tr><td>val_acc</td><td>0.79032</td></tr><tr><td>val_auc</td><td>0.90747</td></tr><tr><td>val_f1</td><td>0.83951</td></tr><tr><td>val_loss_epoch</td><td>0.48786</td></tr><tr><td>val_loss_step</td><td>0.48786</td></tr></table><br/></div></div>"
      ],
      "text/plain": [
       "<IPython.core.display.HTML object>"
      ]
     },
     "metadata": {},
     "output_type": "display_data"
    },
    {
     "data": {
      "text/html": [
       " View run <strong style=\"color:#cdcd00\">GINConv_2_16_2</strong> at: <a href='https://wandb.ai/thoomas/SF_030324_Covid_pos/runs/3smk52b0' target=\"_blank\">https://wandb.ai/thoomas/SF_030324_Covid_pos/runs/3smk52b0</a><br/>Synced 6 W&B file(s), 0 media file(s), 0 artifact file(s) and 0 other file(s)"
      ],
      "text/plain": [
       "<IPython.core.display.HTML object>"
      ]
     },
     "metadata": {},
     "output_type": "display_data"
    },
    {
     "data": {
      "text/html": [
       "Find logs at: <code>.\\wandb\\run-20240303_202540-3smk52b0\\logs</code>"
      ],
      "text/plain": [
       "<IPython.core.display.HTML object>"
      ]
     },
     "metadata": {},
     "output_type": "display_data"
    },
    {
     "data": {
      "application/vnd.jupyter.widget-view+json": {
       "model_id": "878cbe06b37a4e90b6f86d1e9ddc5d2e",
       "version_major": 2,
       "version_minor": 0
      },
      "text/plain": [
       "VBox(children=(Label(value='Waiting for wandb.init()...\\r'), FloatProgress(value=0.016666666666666666, max=1.0…"
      ]
     },
     "metadata": {},
     "output_type": "display_data"
    },
    {
     "data": {
      "text/html": [
       "wandb version 0.16.3 is available!  To upgrade, please run:\n",
       " $ pip install wandb --upgrade"
      ],
      "text/plain": [
       "<IPython.core.display.HTML object>"
      ]
     },
     "metadata": {},
     "output_type": "display_data"
    },
    {
     "data": {
      "text/html": [
       "Tracking run with wandb version 0.14.0"
      ],
      "text/plain": [
       "<IPython.core.display.HTML object>"
      ]
     },
     "metadata": {},
     "output_type": "display_data"
    },
    {
     "data": {
      "text/html": [
       "Run data is saved locally in <code>y:\\coskun-lab\\Thomas\\11_snowflakes\\notebooks\\wandb\\run-20240303_203044-wq8rhrxy</code>"
      ],
      "text/plain": [
       "<IPython.core.display.HTML object>"
      ]
     },
     "metadata": {},
     "output_type": "display_data"
    },
    {
     "data": {
      "text/html": [
       "Syncing run <strong><a href='https://wandb.ai/thoomas/SF_030324_Covid_pos/runs/wq8rhrxy' target=\"_blank\">GAT_2_16_2</a></strong> to <a href='https://wandb.ai/thoomas/SF_030324_Covid_pos' target=\"_blank\">Weights & Biases</a> (<a href='https://wandb.me/run' target=\"_blank\">docs</a>)<br/>"
      ],
      "text/plain": [
       "<IPython.core.display.HTML object>"
      ]
     },
     "metadata": {},
     "output_type": "display_data"
    },
    {
     "data": {
      "text/html": [
       " View project at <a href='https://wandb.ai/thoomas/SF_030324_Covid_pos' target=\"_blank\">https://wandb.ai/thoomas/SF_030324_Covid_pos</a>"
      ],
      "text/plain": [
       "<IPython.core.display.HTML object>"
      ]
     },
     "metadata": {},
     "output_type": "display_data"
    },
    {
     "data": {
      "text/html": [
       " View run at <a href='https://wandb.ai/thoomas/SF_030324_Covid_pos/runs/wq8rhrxy' target=\"_blank\">https://wandb.ai/thoomas/SF_030324_Covid_pos/runs/wq8rhrxy</a>"
      ],
      "text/plain": [
       "<IPython.core.display.HTML object>"
      ]
     },
     "metadata": {},
     "output_type": "display_data"
    },
    {
     "name": "stderr",
     "output_type": "stream",
     "text": [
      "Global seed set to 42\n",
      "C:\\Users\\thu71\\AppData\\Roaming\\Python\\Python39\\site-packages\\lightning\\pytorch\\loggers\\wandb.py:395: UserWarning: There is a wandb run already in progress and newly created instances of `WandbLogger` will reuse this run. If this is not desired, call `wandb.finish()` before instantiating `WandbLogger`.\n",
      "  rank_zero_warn(\n",
      "GPU available: True (cuda), used: True\n",
      "TPU available: False, using: 0 TPU cores\n",
      "IPU available: False, using: 0 IPUs\n",
      "HPU available: False, using: 0 HPUs\n",
      "Global seed set to 42\n",
      "c:\\Users\\thu71\\Anaconda3\\envs\\snowflake\\lib\\site-packages\\torch_geometric\\deprecation.py:12: UserWarning: 'nn.glob.GlobalAttention' is deprecated, use 'nn.aggr.AttentionalAggregation' instead\n",
      "  warnings.warn(out)\n",
      "LOCAL_RANK: 0 - CUDA_VISIBLE_DEVICES: [0,1]\n",
      "\n",
      "   | Name        | Type             | Params\n",
      "--------------------------------------------------\n",
      "0  | model       | GAT              | 5.1 K \n",
      "1  | fnn_layer   | Linear           | 272   \n",
      "2  | selu        | SELU             | 0     \n",
      "3  | head        | Linear           | 34    \n",
      "4  | loss_module | CrossEntropyLoss | 0     \n",
      "5  | train_acc   | BinaryAccuracy   | 0     \n",
      "6  | train_auroc | BinaryAUROC      | 0     \n",
      "7  | train_f1    | BinaryF1Score    | 0     \n",
      "8  | valid_acc   | BinaryAccuracy   | 0     \n",
      "9  | valid_auroc | BinaryAUROC      | 0     \n",
      "10 | valid_f1    | BinaryF1Score    | 0     \n",
      "11 | test_acc    | BinaryAccuracy   | 0     \n",
      "12 | test_auroc  | BinaryAUROC      | 0     \n",
      "13 | test_f1     | BinaryF1Score    | 0     \n",
      "14 | pool        | GlobalAttention  | 17    \n",
      "--------------------------------------------------\n",
      "5.4 K     Trainable params\n",
      "0         Non-trainable params\n",
      "5.4 K     Total params\n",
      "0.022     Total estimated model params size (MB)\n",
      "C:\\Users\\thu71\\AppData\\Roaming\\Python\\Python39\\site-packages\\lightning\\pytorch\\trainer\\connectors\\data_connector.py:478: PossibleUserWarning: Your `val_dataloader`'s sampler has shuffling enabled, it is strongly recommended that you turn shuffling off for val/test dataloaders.\n",
      "  rank_zero_warn(\n",
      "C:\\Users\\thu71\\AppData\\Roaming\\Python\\Python39\\site-packages\\lightning\\pytorch\\trainer\\connectors\\data_connector.py:430: PossibleUserWarning: The dataloader, val_dataloader, does not have many workers which may be a bottleneck. Consider increasing the value of the `num_workers` argument` (try 48 which is the number of cpus on this machine) in the `DataLoader` init to improve performance.\n",
      "  rank_zero_warn(\n",
      "C:\\Users\\thu71\\AppData\\Roaming\\Python\\Python39\\site-packages\\lightning\\pytorch\\trainer\\connectors\\data_connector.py:430: PossibleUserWarning: The dataloader, train_dataloader, does not have many workers which may be a bottleneck. Consider increasing the value of the `num_workers` argument` (try 48 which is the number of cpus on this machine) in the `DataLoader` init to improve performance.\n",
      "  rank_zero_warn(\n",
      "C:\\Users\\thu71\\AppData\\Roaming\\Python\\Python39\\site-packages\\lightning\\pytorch\\loops\\fit_loop.py:280: PossibleUserWarning: The number of training batches (4) is smaller than the logging interval Trainer(log_every_n_steps=10). Set a lower value for log_every_n_steps if you want to see logs for the training epoch.\n",
      "  rank_zero_warn(\n",
      "`Trainer.fit` stopped: `max_epochs=50` reached.\n",
      "LOCAL_RANK: 0 - CUDA_VISIBLE_DEVICES: [0,1]\n",
      "C:\\Users\\thu71\\AppData\\Roaming\\Python\\Python39\\site-packages\\lightning\\pytorch\\trainer\\connectors\\data_connector.py:478: PossibleUserWarning: Your `test_dataloader`'s sampler has shuffling enabled, it is strongly recommended that you turn shuffling off for val/test dataloaders.\n",
      "  rank_zero_warn(\n",
      "C:\\Users\\thu71\\AppData\\Roaming\\Python\\Python39\\site-packages\\lightning\\pytorch\\trainer\\connectors\\data_connector.py:430: PossibleUserWarning: The dataloader, test_dataloader, does not have many workers which may be a bottleneck. Consider increasing the value of the `num_workers` argument` (try 48 which is the number of cpus on this machine) in the `DataLoader` init to improve performance.\n",
      "  rank_zero_warn(\n"
     ]
    },
    {
     "name": "stdout",
     "output_type": "stream",
     "text": [
      "{'test_acc': tensor(0.5639), 'test_auc': tensor(0.9462), 'test_f1': tensor(0.3830)}\n"
     ]
    },
    {
     "data": {
      "text/html": [
       "Waiting for W&B process to finish... <strong style=\"color:green\">(success).</strong>"
      ],
      "text/plain": [
       "<IPython.core.display.HTML object>"
      ]
     },
     "metadata": {},
     "output_type": "display_data"
    },
    {
     "data": {
      "application/vnd.jupyter.widget-view+json": {
       "model_id": "77958f651c1f4b879c916621b2dbb427",
       "version_major": 2,
       "version_minor": 0
      },
      "text/plain": [
       "VBox(children=(Label(value='0.001 MB of 0.001 MB uploaded (0.000 MB deduped)\\r'), FloatProgress(value=1.0, max…"
      ]
     },
     "metadata": {},
     "output_type": "display_data"
    },
    {
     "data": {
      "text/html": [
       "<style>\n",
       "    table.wandb td:nth-child(1) { padding: 0 10px; text-align: left ; width: auto;} td:nth-child(2) {text-align: left ; width: 100%}\n",
       "    .wandb-row { display: flex; flex-direction: row; flex-wrap: wrap; justify-content: flex-start; width: 100% }\n",
       "    .wandb-col { display: flex; flex-direction: column; flex-basis: 100%; flex: 1; padding: 10px; }\n",
       "    </style>\n",
       "<div class=\"wandb-row\"><div class=\"wandb-col\"><h3>Run history:</h3><br/><table class=\"wandb\"><tr><td>epoch</td><td>▁▁▁▂▂▂▂▂▂▃▃▃▃▃▄▄▄▄▄▄▅▅▅▅▅▅▆▆▆▆▆▆▇▇▇▇▇███</td></tr><tr><td>lr-Adam</td><td>▁▁▁▁▁▁▁▁▁▁▁▁▁▁▁▁▁▁▁▁▁▁▁▁▁▁▁▁▁▁▁▁▁▁▁▁▁▁▁▁</td></tr><tr><td>test_acc</td><td>▁</td></tr><tr><td>test_auc</td><td>▁</td></tr><tr><td>test_f1</td><td>▁</td></tr><tr><td>train_acc</td><td>▁▃▃▃▄▄▄▅▅▅▅▅▅▅▅▆▆▆▆▆▇▇▇▇▇▇▇▇▇██▇▇███████</td></tr><tr><td>train_auc</td><td>▁▃▄▄▄▄▅▅▅▅▅▅▅▆▆▆▇▇▇▇▇▇▇▇▇███████████████</td></tr><tr><td>train_f1</td><td>▁▅▅▅▄▅▆▆▆▆▆▆▆▆▆▆▆▆▇▇▇▇▇▇▇█▇▇████████████</td></tr><tr><td>train_loss_epoch</td><td>██▇▇▇▆▆▆▆▆▆▆▅▅▅▅▄▄▄▃▄▃▃▃▃▂▃▂▂▂▂▂▂▂▁▁▂▂▂▁</td></tr><tr><td>train_loss_step</td><td>█▇█▆▅█▄▄▅▅▂▃▃▂▃▂▁▂▁▁</td></tr><tr><td>trainer/global_step</td><td>▁▁▁▂▁▁▂▂▁▃▃▃▂▃▄▄▂▄▄▂▂▅▅▂▅▅▆▂▆▆▆▂▇▇▇▃▇███</td></tr><tr><td>val_acc</td><td>▃▃▃▆▇▄▆▆▆▆▆▆▆▇▇█▇███▇██▆██▄▄▄▃▁▄▁▄▂▄▃▃▃▃</td></tr><tr><td>val_auc</td><td>▁▂▂▂▂▂▂▂▃▃▃▄▄▅▅▅▅▆▆▇▇▇▇▇▇▇▇▇████████████</td></tr><tr><td>val_f1</td><td>▇▇▇██▇██████▇███▇███▇██▆██▅▅▅▃▁▅▁▅▃▄▄▃▄▃</td></tr><tr><td>val_loss_epoch</td><td>▇▇▆▆▄▄▄▄▃▃▃▃▂▂▂▂▃▂▂▂▃▂▂▃▁▁▅▄▅▆█▅█▅▇▅▆▆▆▆</td></tr><tr><td>val_loss_step</td><td>▇▇▆▆▄▄▄▄▃▃▃▃▂▂▂▂▃▂▂▂▃▂▂▃▁▁▅▄▅▆█▅█▅▇▅▆▆▆▆</td></tr></table><br/></div><div class=\"wandb-col\"><h3>Run summary:</h3><br/><table class=\"wandb\"><tr><td>epoch</td><td>50</td></tr><tr><td>lr-Adam</td><td>0.005</td></tr><tr><td>test_acc</td><td>0.56391</td></tr><tr><td>test_auc</td><td>0.94621</td></tr><tr><td>test_f1</td><td>0.38298</td></tr><tr><td>train_acc</td><td>0.93927</td></tr><tr><td>train_auc</td><td>0.95838</td></tr><tr><td>train_f1</td><td>0.94585</td></tr><tr><td>train_loss_epoch</td><td>0.37682</td></tr><tr><td>train_loss_step</td><td>0.37046</td></tr><tr><td>trainer/global_step</td><td>200</td></tr><tr><td>val_acc</td><td>0.62903</td></tr><tr><td>val_auc</td><td>0.97101</td></tr><tr><td>val_f1</td><td>0.58182</td></tr><tr><td>val_loss_epoch</td><td>0.64324</td></tr><tr><td>val_loss_step</td><td>0.64324</td></tr></table><br/></div></div>"
      ],
      "text/plain": [
       "<IPython.core.display.HTML object>"
      ]
     },
     "metadata": {},
     "output_type": "display_data"
    },
    {
     "data": {
      "text/html": [
       " View run <strong style=\"color:#cdcd00\">GAT_2_16_2</strong> at: <a href='https://wandb.ai/thoomas/SF_030324_Covid_pos/runs/wq8rhrxy' target=\"_blank\">https://wandb.ai/thoomas/SF_030324_Covid_pos/runs/wq8rhrxy</a><br/>Synced 6 W&B file(s), 0 media file(s), 0 artifact file(s) and 0 other file(s)"
      ],
      "text/plain": [
       "<IPython.core.display.HTML object>"
      ]
     },
     "metadata": {},
     "output_type": "display_data"
    },
    {
     "data": {
      "text/html": [
       "Find logs at: <code>.\\wandb\\run-20240303_203044-wq8rhrxy\\logs</code>"
      ],
      "text/plain": [
       "<IPython.core.display.HTML object>"
      ]
     },
     "metadata": {},
     "output_type": "display_data"
    },
    {
     "data": {
      "application/vnd.jupyter.widget-view+json": {
       "model_id": "749c659e173f44dba4ff194969f6328a",
       "version_major": 2,
       "version_minor": 0
      },
      "text/plain": [
       "VBox(children=(Label(value='Waiting for wandb.init()...\\r'), FloatProgress(value=0.016916666666899498, max=1.0…"
      ]
     },
     "metadata": {},
     "output_type": "display_data"
    },
    {
     "data": {
      "text/html": [
       "wandb version 0.16.3 is available!  To upgrade, please run:\n",
       " $ pip install wandb --upgrade"
      ],
      "text/plain": [
       "<IPython.core.display.HTML object>"
      ]
     },
     "metadata": {},
     "output_type": "display_data"
    },
    {
     "data": {
      "text/html": [
       "Tracking run with wandb version 0.14.0"
      ],
      "text/plain": [
       "<IPython.core.display.HTML object>"
      ]
     },
     "metadata": {},
     "output_type": "display_data"
    },
    {
     "data": {
      "text/html": [
       "Run data is saved locally in <code>y:\\coskun-lab\\Thomas\\11_snowflakes\\notebooks\\wandb\\run-20240303_203557-z9m7tu4o</code>"
      ],
      "text/plain": [
       "<IPython.core.display.HTML object>"
      ]
     },
     "metadata": {},
     "output_type": "display_data"
    },
    {
     "data": {
      "text/html": [
       "Syncing run <strong><a href='https://wandb.ai/thoomas/SF_030324_Covid_pos/runs/z9m7tu4o' target=\"_blank\">GINConv_2_16_2</a></strong> to <a href='https://wandb.ai/thoomas/SF_030324_Covid_pos' target=\"_blank\">Weights & Biases</a> (<a href='https://wandb.me/run' target=\"_blank\">docs</a>)<br/>"
      ],
      "text/plain": [
       "<IPython.core.display.HTML object>"
      ]
     },
     "metadata": {},
     "output_type": "display_data"
    },
    {
     "data": {
      "text/html": [
       " View project at <a href='https://wandb.ai/thoomas/SF_030324_Covid_pos' target=\"_blank\">https://wandb.ai/thoomas/SF_030324_Covid_pos</a>"
      ],
      "text/plain": [
       "<IPython.core.display.HTML object>"
      ]
     },
     "metadata": {},
     "output_type": "display_data"
    },
    {
     "data": {
      "text/html": [
       " View run at <a href='https://wandb.ai/thoomas/SF_030324_Covid_pos/runs/z9m7tu4o' target=\"_blank\">https://wandb.ai/thoomas/SF_030324_Covid_pos/runs/z9m7tu4o</a>"
      ],
      "text/plain": [
       "<IPython.core.display.HTML object>"
      ]
     },
     "metadata": {},
     "output_type": "display_data"
    },
    {
     "name": "stderr",
     "output_type": "stream",
     "text": [
      "Global seed set to 42\n",
      "C:\\Users\\thu71\\AppData\\Roaming\\Python\\Python39\\site-packages\\lightning\\pytorch\\loggers\\wandb.py:395: UserWarning: There is a wandb run already in progress and newly created instances of `WandbLogger` will reuse this run. If this is not desired, call `wandb.finish()` before instantiating `WandbLogger`.\n",
      "  rank_zero_warn(\n",
      "GPU available: True (cuda), used: True\n",
      "TPU available: False, using: 0 TPU cores\n",
      "IPU available: False, using: 0 IPUs\n",
      "HPU available: False, using: 0 HPUs\n",
      "Global seed set to 42\n",
      "c:\\Users\\thu71\\Anaconda3\\envs\\snowflake\\lib\\site-packages\\torch_geometric\\deprecation.py:12: UserWarning: 'nn.glob.GlobalAttention' is deprecated, use 'nn.aggr.AttentionalAggregation' instead\n",
      "  warnings.warn(out)\n",
      "LOCAL_RANK: 0 - CUDA_VISIBLE_DEVICES: [0,1]\n",
      "\n",
      "   | Name        | Type             | Params\n",
      "--------------------------------------------------\n",
      "0  | model       | GIN              | 1.0 K \n",
      "1  | fnn_layer   | Linear           | 272   \n",
      "2  | selu        | SELU             | 0     \n",
      "3  | head        | Linear           | 34    \n",
      "4  | loss_module | CrossEntropyLoss | 0     \n",
      "5  | train_acc   | BinaryAccuracy   | 0     \n",
      "6  | train_auroc | BinaryAUROC      | 0     \n",
      "7  | train_f1    | BinaryF1Score    | 0     \n",
      "8  | valid_acc   | BinaryAccuracy   | 0     \n",
      "9  | valid_auroc | BinaryAUROC      | 0     \n",
      "10 | valid_f1    | BinaryF1Score    | 0     \n",
      "11 | test_acc    | BinaryAccuracy   | 0     \n",
      "12 | test_auroc  | BinaryAUROC      | 0     \n",
      "13 | test_f1     | BinaryF1Score    | 0     \n",
      "14 | pool        | GlobalAttention  | 17    \n",
      "--------------------------------------------------\n",
      "1.3 K     Trainable params\n",
      "0         Non-trainable params\n",
      "1.3 K     Total params\n",
      "0.005     Total estimated model params size (MB)\n",
      "C:\\Users\\thu71\\AppData\\Roaming\\Python\\Python39\\site-packages\\lightning\\pytorch\\trainer\\connectors\\data_connector.py:478: PossibleUserWarning: Your `val_dataloader`'s sampler has shuffling enabled, it is strongly recommended that you turn shuffling off for val/test dataloaders.\n",
      "  rank_zero_warn(\n",
      "C:\\Users\\thu71\\AppData\\Roaming\\Python\\Python39\\site-packages\\lightning\\pytorch\\trainer\\connectors\\data_connector.py:430: PossibleUserWarning: The dataloader, val_dataloader, does not have many workers which may be a bottleneck. Consider increasing the value of the `num_workers` argument` (try 48 which is the number of cpus on this machine) in the `DataLoader` init to improve performance.\n",
      "  rank_zero_warn(\n",
      "C:\\Users\\thu71\\AppData\\Roaming\\Python\\Python39\\site-packages\\lightning\\pytorch\\trainer\\connectors\\data_connector.py:430: PossibleUserWarning: The dataloader, train_dataloader, does not have many workers which may be a bottleneck. Consider increasing the value of the `num_workers` argument` (try 48 which is the number of cpus on this machine) in the `DataLoader` init to improve performance.\n",
      "  rank_zero_warn(\n",
      "C:\\Users\\thu71\\AppData\\Roaming\\Python\\Python39\\site-packages\\lightning\\pytorch\\loops\\fit_loop.py:280: PossibleUserWarning: The number of training batches (2) is smaller than the logging interval Trainer(log_every_n_steps=10). Set a lower value for log_every_n_steps if you want to see logs for the training epoch.\n",
      "  rank_zero_warn(\n",
      "`Trainer.fit` stopped: `max_epochs=50` reached.\n",
      "LOCAL_RANK: 0 - CUDA_VISIBLE_DEVICES: [0,1]\n",
      "C:\\Users\\thu71\\AppData\\Roaming\\Python\\Python39\\site-packages\\lightning\\pytorch\\trainer\\connectors\\data_connector.py:478: PossibleUserWarning: Your `test_dataloader`'s sampler has shuffling enabled, it is strongly recommended that you turn shuffling off for val/test dataloaders.\n",
      "  rank_zero_warn(\n",
      "C:\\Users\\thu71\\AppData\\Roaming\\Python\\Python39\\site-packages\\lightning\\pytorch\\trainer\\connectors\\data_connector.py:430: PossibleUserWarning: The dataloader, test_dataloader, does not have many workers which may be a bottleneck. Consider increasing the value of the `num_workers` argument` (try 48 which is the number of cpus on this machine) in the `DataLoader` init to improve performance.\n",
      "  rank_zero_warn(\n"
     ]
    },
    {
     "name": "stdout",
     "output_type": "stream",
     "text": [
      "{'test_acc': tensor(0.8571), 'test_auc': tensor(0.9164), 'test_f1': tensor(0.8774)}\n"
     ]
    },
    {
     "name": "stderr",
     "output_type": "stream",
     "text": [
      "c:\\Users\\thu71\\Anaconda3\\envs\\snowflake\\lib\\site-packages\\torchmetrics\\utilities\\prints.py:36: UserWarning: No negative samples in targets, false positive value should be meaningless. Returning zero tensor in false positive score\n",
      "  warnings.warn(*args, **kwargs)\n"
     ]
    },
    {
     "data": {
      "text/html": [
       "Waiting for W&B process to finish... <strong style=\"color:green\">(success).</strong>"
      ],
      "text/plain": [
       "<IPython.core.display.HTML object>"
      ]
     },
     "metadata": {},
     "output_type": "display_data"
    },
    {
     "data": {
      "application/vnd.jupyter.widget-view+json": {
       "model_id": "84910fe7edb74dbd83a57376a1e205e2",
       "version_major": 2,
       "version_minor": 0
      },
      "text/plain": [
       "VBox(children=(Label(value='0.001 MB of 0.001 MB uploaded (0.000 MB deduped)\\r'), FloatProgress(value=1.0, max…"
      ]
     },
     "metadata": {},
     "output_type": "display_data"
    },
    {
     "data": {
      "text/html": [
       "<style>\n",
       "    table.wandb td:nth-child(1) { padding: 0 10px; text-align: left ; width: auto;} td:nth-child(2) {text-align: left ; width: 100%}\n",
       "    .wandb-row { display: flex; flex-direction: row; flex-wrap: wrap; justify-content: flex-start; width: 100% }\n",
       "    .wandb-col { display: flex; flex-direction: column; flex-basis: 100%; flex: 1; padding: 10px; }\n",
       "    </style>\n",
       "<div class=\"wandb-row\"><div class=\"wandb-col\"><h3>Run history:</h3><br/><table class=\"wandb\"><tr><td>epoch</td><td>▁▁▁▂▂▂▂▂▂▃▃▃▃▃▄▄▄▄▄▄▅▅▅▅▅▅▆▆▆▆▆▆▇▇▇▇▇███</td></tr><tr><td>lr-Adam</td><td>▁▁▁▁▁▁▁▁▁▁▁▁▁▁▁▁▁▁▁▁▁▁▁▁▁▁▁▁▁▁▁▁▁▁▁▁▁▁▁▁</td></tr><tr><td>test_acc</td><td>▁</td></tr><tr><td>test_auc</td><td>▁</td></tr><tr><td>test_f1</td><td>▁</td></tr><tr><td>train_acc</td><td>▁▂▂▃▄▄▅▅▆▆▆▆▆▆▇▆▇▇▆▇▇▇▇▇▇▇█▇▇█▇█████████</td></tr><tr><td>train_auc</td><td>▁▂▄▄▅▆▆▇▇▇▇▇▇▇▇▇▇▇▇▇███████▇████████████</td></tr><tr><td>train_f1</td><td>▁▅▅▅▅▅▆▆▆▆▆▇▆▇▇▇▇▇▇▇█▇▇▇▇▇█▇▇███████████</td></tr><tr><td>train_loss_epoch</td><td>██▇▇▆▅▅▄▄▃▄▃▃▃▃▃▂▂▃▂▂▂▂▂▂▂▁▂▂▁▁▁▁▁▁▁▁▁▁▁</td></tr><tr><td>train_loss_step</td><td>█▅▅▄▂▃▁▂▃▂</td></tr><tr><td>trainer/global_step</td><td>▁▁▁▂▂▂▂▂▂▃▃▃▃▃▄▂▂▄▃▄▅▅▅▃▅▅▃▆▆▆▆▄▇▄▄▇████</td></tr><tr><td>val_acc</td><td>▁▁▂▃▃▅▅▅▅▆▆▅▆▇▇▇▇█▇▇███▆██▇██▇▇▇█▇███▇▇▇</td></tr><tr><td>val_auc</td><td>▁▃▃▃▅▆▇▇▇▇▇▇████████▇▇▇▇▇▇▇▇█▇▇██▇▇████▇</td></tr><tr><td>val_f1</td><td>▁▂▂▁▁▄▄▄▃▄▅▂▅▇▇▆▇█▇▇▇▇▇▆█▇▇█▇▇▆▇▇▇▇▇▇▆▇▇</td></tr><tr><td>val_loss_epoch</td><td>██▇▇▆▅▄▄▄▃▃▄▂▂▂▂▂▁▂▂▂▂▂▂▁▁▁▂▁▂▂▁▂▁▁▁▁▂▁▂</td></tr><tr><td>val_loss_step</td><td>██▇▇▆▅▄▄▄▃▃▄▂▂▂▂▂▁▂▂▂▂▂▂▁▁▁▂▁▂▂▁▂▁▁▁▁▂▁▂</td></tr></table><br/></div><div class=\"wandb-col\"><h3>Run summary:</h3><br/><table class=\"wandb\"><tr><td>epoch</td><td>50</td></tr><tr><td>lr-Adam</td><td>0.005</td></tr><tr><td>test_acc</td><td>0.85714</td></tr><tr><td>test_auc</td><td>0.91644</td></tr><tr><td>test_f1</td><td>0.87742</td></tr><tr><td>train_acc</td><td>0.92308</td></tr><tr><td>train_auc</td><td>0.95818</td></tr><tr><td>train_f1</td><td>0.92937</td></tr><tr><td>train_loss_epoch</td><td>0.39159</td></tr><tr><td>train_loss_step</td><td>0.39062</td></tr><tr><td>trainer/global_step</td><td>100</td></tr><tr><td>val_acc</td><td>0.87097</td></tr><tr><td>val_auc</td><td>0.90524</td></tr><tr><td>val_f1</td><td>0.9</td></tr><tr><td>val_loss_epoch</td><td>0.4555</td></tr><tr><td>val_loss_step</td><td>0.4555</td></tr></table><br/></div></div>"
      ],
      "text/plain": [
       "<IPython.core.display.HTML object>"
      ]
     },
     "metadata": {},
     "output_type": "display_data"
    },
    {
     "data": {
      "text/html": [
       " View run <strong style=\"color:#cdcd00\">GINConv_2_16_2</strong> at: <a href='https://wandb.ai/thoomas/SF_030324_Covid_pos/runs/z9m7tu4o' target=\"_blank\">https://wandb.ai/thoomas/SF_030324_Covid_pos/runs/z9m7tu4o</a><br/>Synced 6 W&B file(s), 0 media file(s), 0 artifact file(s) and 0 other file(s)"
      ],
      "text/plain": [
       "<IPython.core.display.HTML object>"
      ]
     },
     "metadata": {},
     "output_type": "display_data"
    },
    {
     "data": {
      "text/html": [
       "Find logs at: <code>.\\wandb\\run-20240303_203557-z9m7tu4o\\logs</code>"
      ],
      "text/plain": [
       "<IPython.core.display.HTML object>"
      ]
     },
     "metadata": {},
     "output_type": "display_data"
    },
    {
     "data": {
      "application/vnd.jupyter.widget-view+json": {
       "model_id": "80d8a03d5f514bf899deaeebae98bf52",
       "version_major": 2,
       "version_minor": 0
      },
      "text/plain": [
       "VBox(children=(Label(value='Waiting for wandb.init()...\\r'), FloatProgress(value=0.016666666666666666, max=1.0…"
      ]
     },
     "metadata": {},
     "output_type": "display_data"
    },
    {
     "data": {
      "text/html": [
       "wandb version 0.16.3 is available!  To upgrade, please run:\n",
       " $ pip install wandb --upgrade"
      ],
      "text/plain": [
       "<IPython.core.display.HTML object>"
      ]
     },
     "metadata": {},
     "output_type": "display_data"
    },
    {
     "data": {
      "text/html": [
       "Tracking run with wandb version 0.14.0"
      ],
      "text/plain": [
       "<IPython.core.display.HTML object>"
      ]
     },
     "metadata": {},
     "output_type": "display_data"
    },
    {
     "data": {
      "text/html": [
       "Run data is saved locally in <code>y:\\coskun-lab\\Thomas\\11_snowflakes\\notebooks\\wandb\\run-20240303_204101-vev2mdqc</code>"
      ],
      "text/plain": [
       "<IPython.core.display.HTML object>"
      ]
     },
     "metadata": {},
     "output_type": "display_data"
    },
    {
     "data": {
      "text/html": [
       "Syncing run <strong><a href='https://wandb.ai/thoomas/SF_030324_Covid_pos/runs/vev2mdqc' target=\"_blank\">GAT_2_16_2</a></strong> to <a href='https://wandb.ai/thoomas/SF_030324_Covid_pos' target=\"_blank\">Weights & Biases</a> (<a href='https://wandb.me/run' target=\"_blank\">docs</a>)<br/>"
      ],
      "text/plain": [
       "<IPython.core.display.HTML object>"
      ]
     },
     "metadata": {},
     "output_type": "display_data"
    },
    {
     "data": {
      "text/html": [
       " View project at <a href='https://wandb.ai/thoomas/SF_030324_Covid_pos' target=\"_blank\">https://wandb.ai/thoomas/SF_030324_Covid_pos</a>"
      ],
      "text/plain": [
       "<IPython.core.display.HTML object>"
      ]
     },
     "metadata": {},
     "output_type": "display_data"
    },
    {
     "data": {
      "text/html": [
       " View run at <a href='https://wandb.ai/thoomas/SF_030324_Covid_pos/runs/vev2mdqc' target=\"_blank\">https://wandb.ai/thoomas/SF_030324_Covid_pos/runs/vev2mdqc</a>"
      ],
      "text/plain": [
       "<IPython.core.display.HTML object>"
      ]
     },
     "metadata": {},
     "output_type": "display_data"
    },
    {
     "name": "stderr",
     "output_type": "stream",
     "text": [
      "Global seed set to 42\n",
      "C:\\Users\\thu71\\AppData\\Roaming\\Python\\Python39\\site-packages\\lightning\\pytorch\\loggers\\wandb.py:395: UserWarning: There is a wandb run already in progress and newly created instances of `WandbLogger` will reuse this run. If this is not desired, call `wandb.finish()` before instantiating `WandbLogger`.\n",
      "  rank_zero_warn(\n",
      "GPU available: True (cuda), used: True\n",
      "TPU available: False, using: 0 TPU cores\n",
      "IPU available: False, using: 0 IPUs\n",
      "HPU available: False, using: 0 HPUs\n",
      "Global seed set to 42\n",
      "LOCAL_RANK: 0 - CUDA_VISIBLE_DEVICES: [0,1]\n",
      "\n",
      "   | Name        | Type             | Params\n",
      "--------------------------------------------------\n",
      "0  | model       | GAT              | 5.1 K \n",
      "1  | fnn_layer   | Linear           | 272   \n",
      "2  | selu        | SELU             | 0     \n",
      "3  | head        | Linear           | 34    \n",
      "4  | loss_module | CrossEntropyLoss | 0     \n",
      "5  | train_acc   | BinaryAccuracy   | 0     \n",
      "6  | train_auroc | BinaryAUROC      | 0     \n",
      "7  | train_f1    | BinaryF1Score    | 0     \n",
      "8  | valid_acc   | BinaryAccuracy   | 0     \n",
      "9  | valid_auroc | BinaryAUROC      | 0     \n",
      "10 | valid_f1    | BinaryF1Score    | 0     \n",
      "11 | test_acc    | BinaryAccuracy   | 0     \n",
      "12 | test_auroc  | BinaryAUROC      | 0     \n",
      "13 | test_f1     | BinaryF1Score    | 0     \n",
      "14 | pool        | Attention_module | 281   \n",
      "--------------------------------------------------\n",
      "5.7 K     Trainable params\n",
      "0         Non-trainable params\n",
      "5.7 K     Total params\n",
      "0.023     Total estimated model params size (MB)\n",
      "C:\\Users\\thu71\\AppData\\Roaming\\Python\\Python39\\site-packages\\lightning\\pytorch\\trainer\\connectors\\data_connector.py:478: PossibleUserWarning: Your `val_dataloader`'s sampler has shuffling enabled, it is strongly recommended that you turn shuffling off for val/test dataloaders.\n",
      "  rank_zero_warn(\n",
      "C:\\Users\\thu71\\AppData\\Roaming\\Python\\Python39\\site-packages\\lightning\\pytorch\\trainer\\connectors\\data_connector.py:430: PossibleUserWarning: The dataloader, val_dataloader, does not have many workers which may be a bottleneck. Consider increasing the value of the `num_workers` argument` (try 48 which is the number of cpus on this machine) in the `DataLoader` init to improve performance.\n",
      "  rank_zero_warn(\n",
      "C:\\Users\\thu71\\AppData\\Roaming\\Python\\Python39\\site-packages\\lightning\\pytorch\\trainer\\connectors\\data_connector.py:430: PossibleUserWarning: The dataloader, train_dataloader, does not have many workers which may be a bottleneck. Consider increasing the value of the `num_workers` argument` (try 48 which is the number of cpus on this machine) in the `DataLoader` init to improve performance.\n",
      "  rank_zero_warn(\n",
      "C:\\Users\\thu71\\AppData\\Roaming\\Python\\Python39\\site-packages\\lightning\\pytorch\\loops\\fit_loop.py:280: PossibleUserWarning: The number of training batches (4) is smaller than the logging interval Trainer(log_every_n_steps=10). Set a lower value for log_every_n_steps if you want to see logs for the training epoch.\n",
      "  rank_zero_warn(\n",
      "`Trainer.fit` stopped: `max_epochs=50` reached.\n",
      "LOCAL_RANK: 0 - CUDA_VISIBLE_DEVICES: [0,1]\n",
      "C:\\Users\\thu71\\AppData\\Roaming\\Python\\Python39\\site-packages\\lightning\\pytorch\\trainer\\connectors\\data_connector.py:478: PossibleUserWarning: Your `test_dataloader`'s sampler has shuffling enabled, it is strongly recommended that you turn shuffling off for val/test dataloaders.\n",
      "  rank_zero_warn(\n",
      "C:\\Users\\thu71\\AppData\\Roaming\\Python\\Python39\\site-packages\\lightning\\pytorch\\trainer\\connectors\\data_connector.py:430: PossibleUserWarning: The dataloader, test_dataloader, does not have many workers which may be a bottleneck. Consider increasing the value of the `num_workers` argument` (try 48 which is the number of cpus on this machine) in the `DataLoader` init to improve performance.\n",
      "  rank_zero_warn(\n"
     ]
    },
    {
     "name": "stdout",
     "output_type": "stream",
     "text": [
      "{'test_acc': tensor(0.6617), 'test_auc': tensor(0.9665), 'test_f1': tensor(0.5794)}\n"
     ]
    },
    {
     "data": {
      "text/html": [
       "Waiting for W&B process to finish... <strong style=\"color:green\">(success).</strong>"
      ],
      "text/plain": [
       "<IPython.core.display.HTML object>"
      ]
     },
     "metadata": {},
     "output_type": "display_data"
    },
    {
     "data": {
      "application/vnd.jupyter.widget-view+json": {
       "model_id": "acb4135e36b643f0b8b7b530977f93af",
       "version_major": 2,
       "version_minor": 0
      },
      "text/plain": [
       "VBox(children=(Label(value='0.001 MB of 0.001 MB uploaded (0.000 MB deduped)\\r'), FloatProgress(value=1.0, max…"
      ]
     },
     "metadata": {},
     "output_type": "display_data"
    },
    {
     "data": {
      "text/html": [
       "<style>\n",
       "    table.wandb td:nth-child(1) { padding: 0 10px; text-align: left ; width: auto;} td:nth-child(2) {text-align: left ; width: 100%}\n",
       "    .wandb-row { display: flex; flex-direction: row; flex-wrap: wrap; justify-content: flex-start; width: 100% }\n",
       "    .wandb-col { display: flex; flex-direction: column; flex-basis: 100%; flex: 1; padding: 10px; }\n",
       "    </style>\n",
       "<div class=\"wandb-row\"><div class=\"wandb-col\"><h3>Run history:</h3><br/><table class=\"wandb\"><tr><td>epoch</td><td>▁▁▁▂▂▂▂▂▂▃▃▃▃▃▄▄▄▄▄▄▅▅▅▅▅▅▆▆▆▆▆▆▇▇▇▇▇███</td></tr><tr><td>lr-Adam</td><td>▁▁▁▁▁▁▁▁▁▁▁▁▁▁▁▁▁▁▁▁▁▁▁▁▁▁▁▁▁▁▁▁▁▁▁▁▁▁▁▁</td></tr><tr><td>test_acc</td><td>▁</td></tr><tr><td>test_auc</td><td>▁</td></tr><tr><td>test_f1</td><td>▁</td></tr><tr><td>train_acc</td><td>▁▁▂▂▃▃▃▃▄▄▅▅▅▅▆▆▆▇▇▇▇▇▇▇▇████▇▇██▇▇▇████</td></tr><tr><td>train_auc</td><td>▁▂▃▃▃▄▄▄▅▅▆▆▇▆▇▇▇▇█▇████████████████████</td></tr><tr><td>train_f1</td><td>▁▁▂▁▂▂▂▂▃▃▄▄▄▃▅▅▅▆▆▆▆▆▇▇▇▇▇▇▇▇▇██▇▇▇▇▇██</td></tr><tr><td>train_loss_epoch</td><td>███▇▇▇▆▆▆▅▅▄▄▄▃▄▃▃▂▂▂▂▂▂▁▂▁▁▁▂▂▁▁▂▂▂▁▁▁▁</td></tr><tr><td>train_loss_step</td><td>█▇▇▅▅▄▃▄▃▃▁▃▂▂▂▂▁▃▁▁</td></tr><tr><td>trainer/global_step</td><td>▁▁▁▂▁▁▂▂▁▃▃▃▂▃▄▄▂▄▄▂▂▅▅▂▅▅▆▂▆▆▆▂▇▇▇▃▇███</td></tr><tr><td>val_acc</td><td>▄▅▅▆▇▆▇▇▇▆█▆▆▅█▆▆▅▄▄▂▁▅▂▃▁▁▂▃▃▆▁▇▃▂▆▂▅▄▆</td></tr><tr><td>val_auc</td><td>▂▁▁▂▃▃▃▃▅▆▆▇▇▇▇▇▇▇██▇▇██████████████▇███</td></tr><tr><td>val_f1</td><td>▇▇▇▇█▇███▇█▆▆▅█▆▆▅▄▄▂▁▅▂▃▁▁▂▃▃▇▁▇▃▂▇▂▆▄▆</td></tr><tr><td>val_loss_epoch</td><td>▆▆▅▄▃▃▂▂▂▁▁▃▃▅▁▃▃▃▄▄▇█▄█▆▇█▇▆▆▂█▁▆▇▂▇▄▅▃</td></tr><tr><td>val_loss_step</td><td>▆▆▅▄▃▃▂▂▂▁▁▃▃▅▁▃▃▃▄▄▇█▄█▆▇█▇▆▆▂█▁▆▇▂▇▄▅▃</td></tr></table><br/></div><div class=\"wandb-col\"><h3>Run summary:</h3><br/><table class=\"wandb\"><tr><td>epoch</td><td>50</td></tr><tr><td>lr-Adam</td><td>0.005</td></tr><tr><td>test_acc</td><td>0.66165</td></tr><tr><td>test_auc</td><td>0.96653</td></tr><tr><td>test_f1</td><td>0.57944</td></tr><tr><td>train_acc</td><td>0.95547</td></tr><tr><td>train_auc</td><td>0.97497</td></tr><tr><td>train_f1</td><td>0.96057</td></tr><tr><td>train_loss_epoch</td><td>0.36534</td></tr><tr><td>train_loss_step</td><td>0.37411</td></tr><tr><td>trainer/global_step</td><td>200</td></tr><tr><td>val_acc</td><td>0.72581</td></tr><tr><td>val_auc</td><td>0.94983</td></tr><tr><td>val_f1</td><td>0.73016</td></tr><tr><td>val_loss_epoch</td><td>0.5777</td></tr><tr><td>val_loss_step</td><td>0.5777</td></tr></table><br/></div></div>"
      ],
      "text/plain": [
       "<IPython.core.display.HTML object>"
      ]
     },
     "metadata": {},
     "output_type": "display_data"
    },
    {
     "data": {
      "text/html": [
       " View run <strong style=\"color:#cdcd00\">GAT_2_16_2</strong> at: <a href='https://wandb.ai/thoomas/SF_030324_Covid_pos/runs/vev2mdqc' target=\"_blank\">https://wandb.ai/thoomas/SF_030324_Covid_pos/runs/vev2mdqc</a><br/>Synced 6 W&B file(s), 0 media file(s), 0 artifact file(s) and 0 other file(s)"
      ],
      "text/plain": [
       "<IPython.core.display.HTML object>"
      ]
     },
     "metadata": {},
     "output_type": "display_data"
    },
    {
     "data": {
      "text/html": [
       "Find logs at: <code>.\\wandb\\run-20240303_204101-vev2mdqc\\logs</code>"
      ],
      "text/plain": [
       "<IPython.core.display.HTML object>"
      ]
     },
     "metadata": {},
     "output_type": "display_data"
    },
    {
     "data": {
      "application/vnd.jupyter.widget-view+json": {
       "model_id": "eea7b1ba7587437cbee3a5a59df3b67c",
       "version_major": 2,
       "version_minor": 0
      },
      "text/plain": [
       "VBox(children=(Label(value='Waiting for wandb.init()...\\r'), FloatProgress(value=0.01691666666592937, max=1.0)…"
      ]
     },
     "metadata": {},
     "output_type": "display_data"
    },
    {
     "data": {
      "text/html": [
       "wandb version 0.16.3 is available!  To upgrade, please run:\n",
       " $ pip install wandb --upgrade"
      ],
      "text/plain": [
       "<IPython.core.display.HTML object>"
      ]
     },
     "metadata": {},
     "output_type": "display_data"
    },
    {
     "data": {
      "text/html": [
       "Tracking run with wandb version 0.14.0"
      ],
      "text/plain": [
       "<IPython.core.display.HTML object>"
      ]
     },
     "metadata": {},
     "output_type": "display_data"
    },
    {
     "data": {
      "text/html": [
       "Run data is saved locally in <code>y:\\coskun-lab\\Thomas\\11_snowflakes\\notebooks\\wandb\\run-20240303_204636-g33gioz2</code>"
      ],
      "text/plain": [
       "<IPython.core.display.HTML object>"
      ]
     },
     "metadata": {},
     "output_type": "display_data"
    },
    {
     "data": {
      "text/html": [
       "Syncing run <strong><a href='https://wandb.ai/thoomas/SF_030324_Covid_pos/runs/g33gioz2' target=\"_blank\">GINConv_2_16_2</a></strong> to <a href='https://wandb.ai/thoomas/SF_030324_Covid_pos' target=\"_blank\">Weights & Biases</a> (<a href='https://wandb.me/run' target=\"_blank\">docs</a>)<br/>"
      ],
      "text/plain": [
       "<IPython.core.display.HTML object>"
      ]
     },
     "metadata": {},
     "output_type": "display_data"
    },
    {
     "data": {
      "text/html": [
       " View project at <a href='https://wandb.ai/thoomas/SF_030324_Covid_pos' target=\"_blank\">https://wandb.ai/thoomas/SF_030324_Covid_pos</a>"
      ],
      "text/plain": [
       "<IPython.core.display.HTML object>"
      ]
     },
     "metadata": {},
     "output_type": "display_data"
    },
    {
     "data": {
      "text/html": [
       " View run at <a href='https://wandb.ai/thoomas/SF_030324_Covid_pos/runs/g33gioz2' target=\"_blank\">https://wandb.ai/thoomas/SF_030324_Covid_pos/runs/g33gioz2</a>"
      ],
      "text/plain": [
       "<IPython.core.display.HTML object>"
      ]
     },
     "metadata": {},
     "output_type": "display_data"
    },
    {
     "name": "stderr",
     "output_type": "stream",
     "text": [
      "Global seed set to 42\n",
      "C:\\Users\\thu71\\AppData\\Roaming\\Python\\Python39\\site-packages\\lightning\\pytorch\\loggers\\wandb.py:395: UserWarning: There is a wandb run already in progress and newly created instances of `WandbLogger` will reuse this run. If this is not desired, call `wandb.finish()` before instantiating `WandbLogger`.\n",
      "  rank_zero_warn(\n",
      "GPU available: True (cuda), used: True\n",
      "TPU available: False, using: 0 TPU cores\n",
      "IPU available: False, using: 0 IPUs\n",
      "HPU available: False, using: 0 HPUs\n",
      "Global seed set to 42\n",
      "LOCAL_RANK: 0 - CUDA_VISIBLE_DEVICES: [0,1]\n",
      "\n",
      "   | Name        | Type             | Params\n",
      "--------------------------------------------------\n",
      "0  | model       | GIN              | 1.0 K \n",
      "1  | fnn_layer   | Linear           | 272   \n",
      "2  | selu        | SELU             | 0     \n",
      "3  | head        | Linear           | 34    \n",
      "4  | loss_module | CrossEntropyLoss | 0     \n",
      "5  | train_acc   | BinaryAccuracy   | 0     \n",
      "6  | train_auroc | BinaryAUROC      | 0     \n",
      "7  | train_f1    | BinaryF1Score    | 0     \n",
      "8  | valid_acc   | BinaryAccuracy   | 0     \n",
      "9  | valid_auroc | BinaryAUROC      | 0     \n",
      "10 | valid_f1    | BinaryF1Score    | 0     \n",
      "11 | test_acc    | BinaryAccuracy   | 0     \n",
      "12 | test_auroc  | BinaryAUROC      | 0     \n",
      "13 | test_f1     | BinaryF1Score    | 0     \n",
      "14 | pool        | Attention_module | 281   \n",
      "--------------------------------------------------\n",
      "1.6 K     Trainable params\n",
      "0         Non-trainable params\n",
      "1.6 K     Total params\n",
      "0.006     Total estimated model params size (MB)\n",
      "C:\\Users\\thu71\\AppData\\Roaming\\Python\\Python39\\site-packages\\lightning\\pytorch\\trainer\\connectors\\data_connector.py:478: PossibleUserWarning: Your `val_dataloader`'s sampler has shuffling enabled, it is strongly recommended that you turn shuffling off for val/test dataloaders.\n",
      "  rank_zero_warn(\n",
      "C:\\Users\\thu71\\AppData\\Roaming\\Python\\Python39\\site-packages\\lightning\\pytorch\\trainer\\connectors\\data_connector.py:430: PossibleUserWarning: The dataloader, val_dataloader, does not have many workers which may be a bottleneck. Consider increasing the value of the `num_workers` argument` (try 48 which is the number of cpus on this machine) in the `DataLoader` init to improve performance.\n",
      "  rank_zero_warn(\n",
      "C:\\Users\\thu71\\AppData\\Roaming\\Python\\Python39\\site-packages\\lightning\\pytorch\\trainer\\connectors\\data_connector.py:430: PossibleUserWarning: The dataloader, train_dataloader, does not have many workers which may be a bottleneck. Consider increasing the value of the `num_workers` argument` (try 48 which is the number of cpus on this machine) in the `DataLoader` init to improve performance.\n",
      "  rank_zero_warn(\n",
      "C:\\Users\\thu71\\AppData\\Roaming\\Python\\Python39\\site-packages\\lightning\\pytorch\\loops\\fit_loop.py:280: PossibleUserWarning: The number of training batches (2) is smaller than the logging interval Trainer(log_every_n_steps=10). Set a lower value for log_every_n_steps if you want to see logs for the training epoch.\n",
      "  rank_zero_warn(\n",
      "`Trainer.fit` stopped: `max_epochs=50` reached.\n",
      "LOCAL_RANK: 0 - CUDA_VISIBLE_DEVICES: [0,1]\n",
      "C:\\Users\\thu71\\AppData\\Roaming\\Python\\Python39\\site-packages\\lightning\\pytorch\\trainer\\connectors\\data_connector.py:478: PossibleUserWarning: Your `test_dataloader`'s sampler has shuffling enabled, it is strongly recommended that you turn shuffling off for val/test dataloaders.\n",
      "  rank_zero_warn(\n",
      "C:\\Users\\thu71\\AppData\\Roaming\\Python\\Python39\\site-packages\\lightning\\pytorch\\trainer\\connectors\\data_connector.py:430: PossibleUserWarning: The dataloader, test_dataloader, does not have many workers which may be a bottleneck. Consider increasing the value of the `num_workers` argument` (try 48 which is the number of cpus on this machine) in the `DataLoader` init to improve performance.\n",
      "  rank_zero_warn(\n"
     ]
    },
    {
     "name": "stdout",
     "output_type": "stream",
     "text": [
      "{'test_acc': tensor(0.8120), 'test_auc': tensor(0.9056), 'test_f1': tensor(0.8201)}\n"
     ]
    },
    {
     "name": "stderr",
     "output_type": "stream",
     "text": [
      "c:\\Users\\thu71\\Anaconda3\\envs\\snowflake\\lib\\site-packages\\torchmetrics\\utilities\\prints.py:36: UserWarning: No negative samples in targets, false positive value should be meaningless. Returning zero tensor in false positive score\n",
      "  warnings.warn(*args, **kwargs)\n"
     ]
    },
    {
     "data": {
      "text/html": [
       "Waiting for W&B process to finish... <strong style=\"color:green\">(success).</strong>"
      ],
      "text/plain": [
       "<IPython.core.display.HTML object>"
      ]
     },
     "metadata": {},
     "output_type": "display_data"
    },
    {
     "data": {
      "application/vnd.jupyter.widget-view+json": {
       "model_id": "12efc0c26ceb4287ab1c10faaeed99c1",
       "version_major": 2,
       "version_minor": 0
      },
      "text/plain": [
       "VBox(children=(Label(value='0.001 MB of 0.001 MB uploaded (0.000 MB deduped)\\r'), FloatProgress(value=1.0, max…"
      ]
     },
     "metadata": {},
     "output_type": "display_data"
    },
    {
     "data": {
      "text/html": [
       "<style>\n",
       "    table.wandb td:nth-child(1) { padding: 0 10px; text-align: left ; width: auto;} td:nth-child(2) {text-align: left ; width: 100%}\n",
       "    .wandb-row { display: flex; flex-direction: row; flex-wrap: wrap; justify-content: flex-start; width: 100% }\n",
       "    .wandb-col { display: flex; flex-direction: column; flex-basis: 100%; flex: 1; padding: 10px; }\n",
       "    </style>\n",
       "<div class=\"wandb-row\"><div class=\"wandb-col\"><h3>Run history:</h3><br/><table class=\"wandb\"><tr><td>epoch</td><td>▁▁▁▂▂▂▂▂▂▃▃▃▃▃▄▄▄▄▄▄▅▅▅▅▅▅▆▆▆▆▆▆▇▇▇▇▇███</td></tr><tr><td>lr-Adam</td><td>▁▁▁▁▁▁▁▁▁▁▁▁▁▁▁▁▁▁▁▁▁▁▁▁▁▁▁▁▁▁▁▁▁▁▁▁▁▁▁▁</td></tr><tr><td>test_acc</td><td>▁</td></tr><tr><td>test_auc</td><td>▁</td></tr><tr><td>test_f1</td><td>▁</td></tr><tr><td>train_acc</td><td>▁▃▃▃▅▆▆▆▆▆▆▇▇▇▇▇▇▇▇▇▇▇██████████▇██▇████</td></tr><tr><td>train_auc</td><td>▁▃▅▅▆▆▆▇▇▇▇▇▇▇▇▇▇▇▇▇▇███████████████████</td></tr><tr><td>train_f1</td><td>▁▆▆▆▇▇▇▇▇▇▇▇▇▇▇██▇██████████████████████</td></tr><tr><td>train_loss_epoch</td><td>█▇▇▇▆▅▅▄▄▃▃▃▃▃▃▂▂▂▂▂▂▂▂▂▂▂▁▁▁▁▁▁▂▁▁▂▁▂▁▁</td></tr><tr><td>train_loss_step</td><td>█▅▃▃▃▂▂▂▁▂</td></tr><tr><td>trainer/global_step</td><td>▁▁▁▂▂▂▂▂▂▃▃▃▃▃▄▂▂▄▃▄▅▅▅▃▅▅▃▆▆▆▆▄▇▄▄▇████</td></tr><tr><td>val_acc</td><td>▁▂▂▅▄▄▅▇▇███▅▆▇▇▆▇▇▇▆▆▇▇▆▆▇▇▅▇█▇▆▇██▆▆▇█</td></tr><tr><td>val_auc</td><td>▁▂▄▅▆▆▆▇▇▇▇▇▇▇▇█████████▇███▇▇▇█▇▇█▇▇▇▇▇</td></tr><tr><td>val_f1</td><td>▁▃▃▅▃▃▄▆▇▇██▄▅▆▆▅▆▆▅▄▅▆▆▅▅▆▆▄▆▇▆▅▆▇▇▅▅▆█</td></tr><tr><td>val_loss_epoch</td><td>██▇▇▇▆▅▄▂▂▁▁▂▂▁▁▂▂▂▂▃▂▁▁▂▂▁▂▃▂▁▁▂▂▁▁▂▂▂▁</td></tr><tr><td>val_loss_step</td><td>██▇▇▇▆▅▄▂▂▁▁▂▂▁▁▂▂▂▂▃▂▁▁▂▂▁▂▃▂▁▁▂▂▁▁▂▂▂▁</td></tr></table><br/></div><div class=\"wandb-col\"><h3>Run summary:</h3><br/><table class=\"wandb\"><tr><td>epoch</td><td>50</td></tr><tr><td>lr-Adam</td><td>0.005</td></tr><tr><td>test_acc</td><td>0.81203</td></tr><tr><td>test_auc</td><td>0.90559</td></tr><tr><td>test_f1</td><td>0.82014</td></tr><tr><td>train_acc</td><td>0.89879</td></tr><tr><td>train_auc</td><td>0.93149</td></tr><tr><td>train_f1</td><td>0.91039</td></tr><tr><td>train_loss_epoch</td><td>0.41549</td></tr><tr><td>train_loss_step</td><td>0.41084</td></tr><tr><td>trainer/global_step</td><td>100</td></tr><tr><td>val_acc</td><td>0.87097</td></tr><tr><td>val_auc</td><td>0.9097</td></tr><tr><td>val_f1</td><td>0.89474</td></tr><tr><td>val_loss_epoch</td><td>0.46548</td></tr><tr><td>val_loss_step</td><td>0.46548</td></tr></table><br/></div></div>"
      ],
      "text/plain": [
       "<IPython.core.display.HTML object>"
      ]
     },
     "metadata": {},
     "output_type": "display_data"
    },
    {
     "data": {
      "text/html": [
       " View run <strong style=\"color:#cdcd00\">GINConv_2_16_2</strong> at: <a href='https://wandb.ai/thoomas/SF_030324_Covid_pos/runs/g33gioz2' target=\"_blank\">https://wandb.ai/thoomas/SF_030324_Covid_pos/runs/g33gioz2</a><br/>Synced 6 W&B file(s), 0 media file(s), 0 artifact file(s) and 0 other file(s)"
      ],
      "text/plain": [
       "<IPython.core.display.HTML object>"
      ]
     },
     "metadata": {},
     "output_type": "display_data"
    },
    {
     "data": {
      "text/html": [
       "Find logs at: <code>.\\wandb\\run-20240303_204636-g33gioz2\\logs</code>"
      ],
      "text/plain": [
       "<IPython.core.display.HTML object>"
      ]
     },
     "metadata": {},
     "output_type": "display_data"
    },
    {
     "data": {
      "application/vnd.jupyter.widget-view+json": {
       "model_id": "e0c5f3a2adf74d39b547d7ccd6fdff22",
       "version_major": 2,
       "version_minor": 0
      },
      "text/plain": [
       "VBox(children=(Label(value='Waiting for wandb.init()...\\r'), FloatProgress(value=0.016666666666666666, max=1.0…"
      ]
     },
     "metadata": {},
     "output_type": "display_data"
    },
    {
     "data": {
      "text/html": [
       "wandb version 0.16.3 is available!  To upgrade, please run:\n",
       " $ pip install wandb --upgrade"
      ],
      "text/plain": [
       "<IPython.core.display.HTML object>"
      ]
     },
     "metadata": {},
     "output_type": "display_data"
    },
    {
     "data": {
      "text/html": [
       "Tracking run with wandb version 0.14.0"
      ],
      "text/plain": [
       "<IPython.core.display.HTML object>"
      ]
     },
     "metadata": {},
     "output_type": "display_data"
    },
    {
     "data": {
      "text/html": [
       "Run data is saved locally in <code>y:\\coskun-lab\\Thomas\\11_snowflakes\\notebooks\\wandb\\run-20240303_205150-spy4lgg4</code>"
      ],
      "text/plain": [
       "<IPython.core.display.HTML object>"
      ]
     },
     "metadata": {},
     "output_type": "display_data"
    },
    {
     "data": {
      "text/html": [
       "Syncing run <strong><a href='https://wandb.ai/thoomas/SF_030324_Covid_pos/runs/spy4lgg4' target=\"_blank\">GAT_2_16_3</a></strong> to <a href='https://wandb.ai/thoomas/SF_030324_Covid_pos' target=\"_blank\">Weights & Biases</a> (<a href='https://wandb.me/run' target=\"_blank\">docs</a>)<br/>"
      ],
      "text/plain": [
       "<IPython.core.display.HTML object>"
      ]
     },
     "metadata": {},
     "output_type": "display_data"
    },
    {
     "data": {
      "text/html": [
       " View project at <a href='https://wandb.ai/thoomas/SF_030324_Covid_pos' target=\"_blank\">https://wandb.ai/thoomas/SF_030324_Covid_pos</a>"
      ],
      "text/plain": [
       "<IPython.core.display.HTML object>"
      ]
     },
     "metadata": {},
     "output_type": "display_data"
    },
    {
     "data": {
      "text/html": [
       " View run at <a href='https://wandb.ai/thoomas/SF_030324_Covid_pos/runs/spy4lgg4' target=\"_blank\">https://wandb.ai/thoomas/SF_030324_Covid_pos/runs/spy4lgg4</a>"
      ],
      "text/plain": [
       "<IPython.core.display.HTML object>"
      ]
     },
     "metadata": {},
     "output_type": "display_data"
    },
    {
     "name": "stderr",
     "output_type": "stream",
     "text": [
      "Global seed set to 42\n",
      "C:\\Users\\thu71\\AppData\\Roaming\\Python\\Python39\\site-packages\\lightning\\pytorch\\loggers\\wandb.py:395: UserWarning: There is a wandb run already in progress and newly created instances of `WandbLogger` will reuse this run. If this is not desired, call `wandb.finish()` before instantiating `WandbLogger`.\n",
      "  rank_zero_warn(\n",
      "GPU available: True (cuda), used: True\n",
      "TPU available: False, using: 0 TPU cores\n",
      "IPU available: False, using: 0 IPUs\n",
      "HPU available: False, using: 0 HPUs\n",
      "Global seed set to 42\n",
      "LOCAL_RANK: 0 - CUDA_VISIBLE_DEVICES: [0,1]\n",
      "\n",
      "   | Name        | Type             | Params\n",
      "--------------------------------------------------\n",
      "0  | model       | GAT              | 5.1 K \n",
      "1  | fnn_layer   | Linear           | 272   \n",
      "2  | selu        | SELU             | 0     \n",
      "3  | head        | Linear           | 34    \n",
      "4  | loss_module | CrossEntropyLoss | 0     \n",
      "5  | train_acc   | BinaryAccuracy   | 0     \n",
      "6  | train_auroc | BinaryAUROC      | 0     \n",
      "7  | train_f1    | BinaryF1Score    | 0     \n",
      "8  | valid_acc   | BinaryAccuracy   | 0     \n",
      "9  | valid_auroc | BinaryAUROC      | 0     \n",
      "10 | valid_f1    | BinaryF1Score    | 0     \n",
      "11 | test_acc    | BinaryAccuracy   | 0     \n",
      "12 | test_auroc  | BinaryAUROC      | 0     \n",
      "13 | test_f1     | BinaryF1Score    | 0     \n",
      "--------------------------------------------------\n",
      "5.4 K     Trainable params\n",
      "0         Non-trainable params\n",
      "5.4 K     Total params\n",
      "0.022     Total estimated model params size (MB)\n",
      "C:\\Users\\thu71\\AppData\\Roaming\\Python\\Python39\\site-packages\\lightning\\pytorch\\trainer\\connectors\\data_connector.py:478: PossibleUserWarning: Your `val_dataloader`'s sampler has shuffling enabled, it is strongly recommended that you turn shuffling off for val/test dataloaders.\n",
      "  rank_zero_warn(\n",
      "C:\\Users\\thu71\\AppData\\Roaming\\Python\\Python39\\site-packages\\lightning\\pytorch\\trainer\\connectors\\data_connector.py:430: PossibleUserWarning: The dataloader, val_dataloader, does not have many workers which may be a bottleneck. Consider increasing the value of the `num_workers` argument` (try 48 which is the number of cpus on this machine) in the `DataLoader` init to improve performance.\n",
      "  rank_zero_warn(\n",
      "C:\\Users\\thu71\\AppData\\Roaming\\Python\\Python39\\site-packages\\lightning\\pytorch\\trainer\\connectors\\data_connector.py:430: PossibleUserWarning: The dataloader, train_dataloader, does not have many workers which may be a bottleneck. Consider increasing the value of the `num_workers` argument` (try 48 which is the number of cpus on this machine) in the `DataLoader` init to improve performance.\n",
      "  rank_zero_warn(\n",
      "C:\\Users\\thu71\\AppData\\Roaming\\Python\\Python39\\site-packages\\lightning\\pytorch\\loops\\fit_loop.py:280: PossibleUserWarning: The number of training batches (4) is smaller than the logging interval Trainer(log_every_n_steps=10). Set a lower value for log_every_n_steps if you want to see logs for the training epoch.\n",
      "  rank_zero_warn(\n",
      "`Trainer.fit` stopped: `max_epochs=50` reached.\n",
      "LOCAL_RANK: 0 - CUDA_VISIBLE_DEVICES: [0,1]\n",
      "C:\\Users\\thu71\\AppData\\Roaming\\Python\\Python39\\site-packages\\lightning\\pytorch\\trainer\\connectors\\data_connector.py:478: PossibleUserWarning: Your `test_dataloader`'s sampler has shuffling enabled, it is strongly recommended that you turn shuffling off for val/test dataloaders.\n",
      "  rank_zero_warn(\n",
      "C:\\Users\\thu71\\AppData\\Roaming\\Python\\Python39\\site-packages\\lightning\\pytorch\\trainer\\connectors\\data_connector.py:430: PossibleUserWarning: The dataloader, test_dataloader, does not have many workers which may be a bottleneck. Consider increasing the value of the `num_workers` argument` (try 48 which is the number of cpus on this machine) in the `DataLoader` init to improve performance.\n",
      "  rank_zero_warn(\n"
     ]
    },
    {
     "name": "stdout",
     "output_type": "stream",
     "text": [
      "{'test_acc': tensor(0.8647), 'test_auc': tensor(0.8964), 'test_f1': tensor(0.8816)}\n"
     ]
    },
    {
     "data": {
      "text/html": [
       "Waiting for W&B process to finish... <strong style=\"color:green\">(success).</strong>"
      ],
      "text/plain": [
       "<IPython.core.display.HTML object>"
      ]
     },
     "metadata": {},
     "output_type": "display_data"
    },
    {
     "data": {
      "application/vnd.jupyter.widget-view+json": {
       "model_id": "564cd685a84a40b589afbef727af473d",
       "version_major": 2,
       "version_minor": 0
      },
      "text/plain": [
       "VBox(children=(Label(value='0.001 MB of 0.001 MB uploaded (0.000 MB deduped)\\r'), FloatProgress(value=1.0, max…"
      ]
     },
     "metadata": {},
     "output_type": "display_data"
    },
    {
     "data": {
      "text/html": [
       "<style>\n",
       "    table.wandb td:nth-child(1) { padding: 0 10px; text-align: left ; width: auto;} td:nth-child(2) {text-align: left ; width: 100%}\n",
       "    .wandb-row { display: flex; flex-direction: row; flex-wrap: wrap; justify-content: flex-start; width: 100% }\n",
       "    .wandb-col { display: flex; flex-direction: column; flex-basis: 100%; flex: 1; padding: 10px; }\n",
       "    </style>\n",
       "<div class=\"wandb-row\"><div class=\"wandb-col\"><h3>Run history:</h3><br/><table class=\"wandb\"><tr><td>epoch</td><td>▁▁▁▂▂▂▂▂▂▃▃▃▃▃▄▄▄▄▄▄▅▅▅▅▅▅▆▆▆▆▆▆▇▇▇▇▇███</td></tr><tr><td>lr-Adam</td><td>▁▁▁▁▁▁▁▁▁▁▁▁▁▁▁▁▁▁▁▁▁▁▁▁▁▁▁▁▁▁▁▁▁▁▁▁▁▁▁▁</td></tr><tr><td>test_acc</td><td>▁</td></tr><tr><td>test_auc</td><td>▁</td></tr><tr><td>test_f1</td><td>▁</td></tr><tr><td>train_acc</td><td>▁▃▄▄▄▄▄▄▅▅▅▅▆▆▆▆▆▆▆▆▇▇▇▇▇▇▇▇███▇██▇█▇█▇█</td></tr><tr><td>train_auc</td><td>▁▃▃▄▄▄▄▅▅▅▅▆▆▆▆▇▇▇▇▇███████████▇████████</td></tr><tr><td>train_f1</td><td>▁▃▃▃▄▄▃▄▄▅▅▅▅▅▅▆▅▅▆▆▇▇▇▇▇▇▇▇███▇██▇█▇█▇▇</td></tr><tr><td>train_loss_epoch</td><td>█▇▇▆▆▆▆▅▅▄▄▄▄▄▄▃▃▃▃▃▂▂▂▂▂▂▂▂▁▁▁▂▁▁▂▁▂▁▂▂</td></tr><tr><td>train_loss_step</td><td>█▇█▇▇▃▅▆▄▄▃▂▂▃▂▂▄▃▁▂</td></tr><tr><td>trainer/global_step</td><td>▁▁▁▂▁▁▂▂▁▃▃▃▂▃▄▄▂▄▄▂▂▅▅▂▅▅▆▂▆▆▆▂▇▇▇▃▇███</td></tr><tr><td>val_acc</td><td>▁▁▁▂▂▁▂▂▂▂▂▂▄▄▅▄▃▄▄▆▃▆▃▅▆▆▆▆▆▆▆▄▆▆▅█▅███</td></tr><tr><td>val_auc</td><td>▁▁▂▂▂▃▃▃▄▄▄▄▅▅▅▅▆▆▆▇▇▇▇▇▇▇▇█▇▇████▇█████</td></tr><tr><td>val_f1</td><td>▃▂▁▃▃▃▄▄▄▄▃▃▄▄▅▄▂▄▃▅▂▅▂▄▅▅▅▆▅▅▅▃▅▅▄█▄███</td></tr><tr><td>val_loss_epoch</td><td>███▇▆▆▆▆▅▅▅▅▅▅▅▄▅▄▅▄▅▄▄▄▄▃▃▃▃▃▃▄▃▃▄▂▃▁▁▁</td></tr><tr><td>val_loss_step</td><td>███▇▆▆▆▆▅▅▅▅▅▅▅▄▅▄▅▄▅▄▄▄▄▃▃▃▃▃▃▄▃▃▄▂▃▁▁▁</td></tr></table><br/></div><div class=\"wandb-col\"><h3>Run summary:</h3><br/><table class=\"wandb\"><tr><td>epoch</td><td>50</td></tr><tr><td>lr-Adam</td><td>0.005</td></tr><tr><td>test_acc</td><td>0.86466</td></tr><tr><td>test_auc</td><td>0.89635</td></tr><tr><td>test_f1</td><td>0.88158</td></tr><tr><td>train_acc</td><td>0.89879</td></tr><tr><td>train_auc</td><td>0.95342</td></tr><tr><td>train_f1</td><td>0.90566</td></tr><tr><td>train_loss_epoch</td><td>0.41634</td></tr><tr><td>train_loss_step</td><td>0.40499</td></tr><tr><td>trainer/global_step</td><td>200</td></tr><tr><td>val_acc</td><td>0.8871</td></tr><tr><td>val_auc</td><td>0.94773</td></tr><tr><td>val_f1</td><td>0.90909</td></tr><tr><td>val_loss_epoch</td><td>0.43452</td></tr><tr><td>val_loss_step</td><td>0.43452</td></tr></table><br/></div></div>"
      ],
      "text/plain": [
       "<IPython.core.display.HTML object>"
      ]
     },
     "metadata": {},
     "output_type": "display_data"
    },
    {
     "data": {
      "text/html": [
       " View run <strong style=\"color:#cdcd00\">GAT_2_16_3</strong> at: <a href='https://wandb.ai/thoomas/SF_030324_Covid_pos/runs/spy4lgg4' target=\"_blank\">https://wandb.ai/thoomas/SF_030324_Covid_pos/runs/spy4lgg4</a><br/>Synced 6 W&B file(s), 0 media file(s), 0 artifact file(s) and 0 other file(s)"
      ],
      "text/plain": [
       "<IPython.core.display.HTML object>"
      ]
     },
     "metadata": {},
     "output_type": "display_data"
    },
    {
     "data": {
      "text/html": [
       "Find logs at: <code>.\\wandb\\run-20240303_205150-spy4lgg4\\logs</code>"
      ],
      "text/plain": [
       "<IPython.core.display.HTML object>"
      ]
     },
     "metadata": {},
     "output_type": "display_data"
    },
    {
     "data": {
      "application/vnd.jupyter.widget-view+json": {
       "model_id": "65501ca2dcff43f687e978a9adabdee3",
       "version_major": 2,
       "version_minor": 0
      },
      "text/plain": [
       "VBox(children=(Label(value='Waiting for wandb.init()...\\r'), FloatProgress(value=0.016666666666666666, max=1.0…"
      ]
     },
     "metadata": {},
     "output_type": "display_data"
    },
    {
     "data": {
      "text/html": [
       "wandb version 0.16.3 is available!  To upgrade, please run:\n",
       " $ pip install wandb --upgrade"
      ],
      "text/plain": [
       "<IPython.core.display.HTML object>"
      ]
     },
     "metadata": {},
     "output_type": "display_data"
    },
    {
     "data": {
      "text/html": [
       "Tracking run with wandb version 0.14.0"
      ],
      "text/plain": [
       "<IPython.core.display.HTML object>"
      ]
     },
     "metadata": {},
     "output_type": "display_data"
    },
    {
     "data": {
      "text/html": [
       "Run data is saved locally in <code>y:\\coskun-lab\\Thomas\\11_snowflakes\\notebooks\\wandb\\run-20240303_205705-t5e9pmhg</code>"
      ],
      "text/plain": [
       "<IPython.core.display.HTML object>"
      ]
     },
     "metadata": {},
     "output_type": "display_data"
    },
    {
     "data": {
      "text/html": [
       "Syncing run <strong><a href='https://wandb.ai/thoomas/SF_030324_Covid_pos/runs/t5e9pmhg' target=\"_blank\">GINConv_2_16_3</a></strong> to <a href='https://wandb.ai/thoomas/SF_030324_Covid_pos' target=\"_blank\">Weights & Biases</a> (<a href='https://wandb.me/run' target=\"_blank\">docs</a>)<br/>"
      ],
      "text/plain": [
       "<IPython.core.display.HTML object>"
      ]
     },
     "metadata": {},
     "output_type": "display_data"
    },
    {
     "data": {
      "text/html": [
       " View project at <a href='https://wandb.ai/thoomas/SF_030324_Covid_pos' target=\"_blank\">https://wandb.ai/thoomas/SF_030324_Covid_pos</a>"
      ],
      "text/plain": [
       "<IPython.core.display.HTML object>"
      ]
     },
     "metadata": {},
     "output_type": "display_data"
    },
    {
     "data": {
      "text/html": [
       " View run at <a href='https://wandb.ai/thoomas/SF_030324_Covid_pos/runs/t5e9pmhg' target=\"_blank\">https://wandb.ai/thoomas/SF_030324_Covid_pos/runs/t5e9pmhg</a>"
      ],
      "text/plain": [
       "<IPython.core.display.HTML object>"
      ]
     },
     "metadata": {},
     "output_type": "display_data"
    },
    {
     "name": "stderr",
     "output_type": "stream",
     "text": [
      "Global seed set to 42\n",
      "C:\\Users\\thu71\\AppData\\Roaming\\Python\\Python39\\site-packages\\lightning\\pytorch\\loggers\\wandb.py:395: UserWarning: There is a wandb run already in progress and newly created instances of `WandbLogger` will reuse this run. If this is not desired, call `wandb.finish()` before instantiating `WandbLogger`.\n",
      "  rank_zero_warn(\n",
      "GPU available: True (cuda), used: True\n",
      "TPU available: False, using: 0 TPU cores\n",
      "IPU available: False, using: 0 IPUs\n",
      "HPU available: False, using: 0 HPUs\n",
      "Global seed set to 42\n",
      "LOCAL_RANK: 0 - CUDA_VISIBLE_DEVICES: [0,1]\n",
      "\n",
      "   | Name        | Type             | Params\n",
      "--------------------------------------------------\n",
      "0  | model       | GIN              | 1.0 K \n",
      "1  | fnn_layer   | Linear           | 272   \n",
      "2  | selu        | SELU             | 0     \n",
      "3  | head        | Linear           | 34    \n",
      "4  | loss_module | CrossEntropyLoss | 0     \n",
      "5  | train_acc   | BinaryAccuracy   | 0     \n",
      "6  | train_auroc | BinaryAUROC      | 0     \n",
      "7  | train_f1    | BinaryF1Score    | 0     \n",
      "8  | valid_acc   | BinaryAccuracy   | 0     \n",
      "9  | valid_auroc | BinaryAUROC      | 0     \n",
      "10 | valid_f1    | BinaryF1Score    | 0     \n",
      "11 | test_acc    | BinaryAccuracy   | 0     \n",
      "12 | test_auroc  | BinaryAUROC      | 0     \n",
      "13 | test_f1     | BinaryF1Score    | 0     \n",
      "--------------------------------------------------\n",
      "1.3 K     Trainable params\n",
      "0         Non-trainable params\n",
      "1.3 K     Total params\n",
      "0.005     Total estimated model params size (MB)\n",
      "C:\\Users\\thu71\\AppData\\Roaming\\Python\\Python39\\site-packages\\lightning\\pytorch\\trainer\\connectors\\data_connector.py:478: PossibleUserWarning: Your `val_dataloader`'s sampler has shuffling enabled, it is strongly recommended that you turn shuffling off for val/test dataloaders.\n",
      "  rank_zero_warn(\n",
      "C:\\Users\\thu71\\AppData\\Roaming\\Python\\Python39\\site-packages\\lightning\\pytorch\\trainer\\connectors\\data_connector.py:430: PossibleUserWarning: The dataloader, val_dataloader, does not have many workers which may be a bottleneck. Consider increasing the value of the `num_workers` argument` (try 48 which is the number of cpus on this machine) in the `DataLoader` init to improve performance.\n",
      "  rank_zero_warn(\n",
      "C:\\Users\\thu71\\AppData\\Roaming\\Python\\Python39\\site-packages\\lightning\\pytorch\\trainer\\connectors\\data_connector.py:430: PossibleUserWarning: The dataloader, train_dataloader, does not have many workers which may be a bottleneck. Consider increasing the value of the `num_workers` argument` (try 48 which is the number of cpus on this machine) in the `DataLoader` init to improve performance.\n",
      "  rank_zero_warn(\n",
      "C:\\Users\\thu71\\AppData\\Roaming\\Python\\Python39\\site-packages\\lightning\\pytorch\\loops\\fit_loop.py:280: PossibleUserWarning: The number of training batches (2) is smaller than the logging interval Trainer(log_every_n_steps=10). Set a lower value for log_every_n_steps if you want to see logs for the training epoch.\n",
      "  rank_zero_warn(\n",
      "`Trainer.fit` stopped: `max_epochs=50` reached.\n",
      "LOCAL_RANK: 0 - CUDA_VISIBLE_DEVICES: [0,1]\n",
      "C:\\Users\\thu71\\AppData\\Roaming\\Python\\Python39\\site-packages\\lightning\\pytorch\\trainer\\connectors\\data_connector.py:478: PossibleUserWarning: Your `test_dataloader`'s sampler has shuffling enabled, it is strongly recommended that you turn shuffling off for val/test dataloaders.\n",
      "  rank_zero_warn(\n",
      "C:\\Users\\thu71\\AppData\\Roaming\\Python\\Python39\\site-packages\\lightning\\pytorch\\trainer\\connectors\\data_connector.py:430: PossibleUserWarning: The dataloader, test_dataloader, does not have many workers which may be a bottleneck. Consider increasing the value of the `num_workers` argument` (try 48 which is the number of cpus on this machine) in the `DataLoader` init to improve performance.\n",
      "  rank_zero_warn(\n"
     ]
    },
    {
     "name": "stdout",
     "output_type": "stream",
     "text": [
      "{'test_acc': tensor(0.7820), 'test_auc': tensor(0.8419), 'test_f1': tensor(0.8105)}\n"
     ]
    },
    {
     "data": {
      "text/html": [
       "Waiting for W&B process to finish... <strong style=\"color:green\">(success).</strong>"
      ],
      "text/plain": [
       "<IPython.core.display.HTML object>"
      ]
     },
     "metadata": {},
     "output_type": "display_data"
    },
    {
     "data": {
      "application/vnd.jupyter.widget-view+json": {
       "model_id": "dccd3498976749cdaee106ea6e3ff8b2",
       "version_major": 2,
       "version_minor": 0
      },
      "text/plain": [
       "VBox(children=(Label(value='0.001 MB of 0.001 MB uploaded (0.000 MB deduped)\\r'), FloatProgress(value=1.0, max…"
      ]
     },
     "metadata": {},
     "output_type": "display_data"
    },
    {
     "data": {
      "text/html": [
       "<style>\n",
       "    table.wandb td:nth-child(1) { padding: 0 10px; text-align: left ; width: auto;} td:nth-child(2) {text-align: left ; width: 100%}\n",
       "    .wandb-row { display: flex; flex-direction: row; flex-wrap: wrap; justify-content: flex-start; width: 100% }\n",
       "    .wandb-col { display: flex; flex-direction: column; flex-basis: 100%; flex: 1; padding: 10px; }\n",
       "    </style>\n",
       "<div class=\"wandb-row\"><div class=\"wandb-col\"><h3>Run history:</h3><br/><table class=\"wandb\"><tr><td>epoch</td><td>▁▁▁▂▂▂▂▂▂▃▃▃▃▃▄▄▄▄▄▄▅▅▅▅▅▅▆▆▆▆▆▆▇▇▇▇▇███</td></tr><tr><td>lr-Adam</td><td>▁▁▁▁▁▁▁▁▁▁▁▁▁▁▁▁▁▁▁▁▁▁▁▁▁▁▁▁▁▁▁▁▁▁▁▁▁▁▁▁</td></tr><tr><td>test_acc</td><td>▁</td></tr><tr><td>test_auc</td><td>▁</td></tr><tr><td>test_f1</td><td>▁</td></tr><tr><td>train_acc</td><td>▁▂▃▄▅▅▅▆▆▆▇▇▇▇▇▇▇▇▇▇▇█▇▇▇█▇██▇█▇▇▇██████</td></tr><tr><td>train_auc</td><td>▁▄▅▆▆▇▇▇▇▇▇▇█▇▇██▇████████▇█████████████</td></tr><tr><td>train_f1</td><td>▁▂▃▃▄▄▅▅▆▆▆▆▇▇▆▇▆▆▇▇▇█▇▇▇▇▆█▇▇█▇▇▆██████</td></tr><tr><td>train_loss_epoch</td><td>█▇▆▅▄▄▄▃▃▃▃▃▂▂▂▂▂▂▂▂▂▂▂▂▂▁▂▂▂▂▂▂▂▂▁▁▁▁▁▁</td></tr><tr><td>train_loss_step</td><td>█▅▃▃▂▁▅▂▁▁</td></tr><tr><td>trainer/global_step</td><td>▁▁▁▂▂▂▂▂▂▃▃▃▃▃▄▂▂▄▃▄▅▅▅▃▅▅▃▆▆▆▆▄▇▄▄▇████</td></tr><tr><td>val_acc</td><td>▃▁▂▁▄▄▄▄▄▆▆▆▇▇▇▆▆▆▇▇▆▇▇▇▇█▇▇▇█▇▇█▇▇▇████</td></tr><tr><td>val_auc</td><td>▁▁▂▄▅▆▇▇▇█▇▇▇▇▇▇▇▇▇▇▇▇▇▇█▇▇▇█▇▇▇██▇▇████</td></tr><tr><td>val_f1</td><td>▃▁▂▁▄▅▅▅▅▆▆▇▇▇▇▆▅▆▇▇▆▇▇▇▇█▇▇██▇▇█▇▇▇████</td></tr><tr><td>val_loss_epoch</td><td>█▇▇▆▅▅▅▅▃▃▃▂▂▂▂▂▃▂▂▂▂▂▂▂▁▁▁▂▁▁▂▂▁▁▂▂▁▁▁▁</td></tr><tr><td>val_loss_step</td><td>█▇▇▆▅▅▅▅▃▃▃▂▂▂▂▂▃▂▂▂▂▂▂▂▁▁▁▂▁▁▂▂▁▁▂▂▁▁▁▁</td></tr></table><br/></div><div class=\"wandb-col\"><h3>Run summary:</h3><br/><table class=\"wandb\"><tr><td>epoch</td><td>50</td></tr><tr><td>lr-Adam</td><td>0.005</td></tr><tr><td>test_acc</td><td>0.78195</td></tr><tr><td>test_auc</td><td>0.84187</td></tr><tr><td>test_f1</td><td>0.81046</td></tr><tr><td>train_acc</td><td>0.91498</td></tr><tr><td>train_auc</td><td>0.95113</td></tr><tr><td>train_f1</td><td>0.92527</td></tr><tr><td>train_loss_epoch</td><td>0.39998</td></tr><tr><td>train_loss_step</td><td>0.41129</td></tr><tr><td>trainer/global_step</td><td>100</td></tr><tr><td>val_acc</td><td>0.83871</td></tr><tr><td>val_auc</td><td>0.89318</td></tr><tr><td>val_f1</td><td>0.88095</td></tr><tr><td>val_loss_epoch</td><td>0.47044</td></tr><tr><td>val_loss_step</td><td>0.47044</td></tr></table><br/></div></div>"
      ],
      "text/plain": [
       "<IPython.core.display.HTML object>"
      ]
     },
     "metadata": {},
     "output_type": "display_data"
    },
    {
     "data": {
      "text/html": [
       " View run <strong style=\"color:#cdcd00\">GINConv_2_16_3</strong> at: <a href='https://wandb.ai/thoomas/SF_030324_Covid_pos/runs/t5e9pmhg' target=\"_blank\">https://wandb.ai/thoomas/SF_030324_Covid_pos/runs/t5e9pmhg</a><br/>Synced 6 W&B file(s), 0 media file(s), 0 artifact file(s) and 0 other file(s)"
      ],
      "text/plain": [
       "<IPython.core.display.HTML object>"
      ]
     },
     "metadata": {},
     "output_type": "display_data"
    },
    {
     "data": {
      "text/html": [
       "Find logs at: <code>.\\wandb\\run-20240303_205705-t5e9pmhg\\logs</code>"
      ],
      "text/plain": [
       "<IPython.core.display.HTML object>"
      ]
     },
     "metadata": {},
     "output_type": "display_data"
    },
    {
     "data": {
      "application/vnd.jupyter.widget-view+json": {
       "model_id": "38b1295c2aa0482290311964a7d2a229",
       "version_major": 2,
       "version_minor": 0
      },
      "text/plain": [
       "VBox(children=(Label(value='Waiting for wandb.init()...\\r'), FloatProgress(value=0.01693333333338766, max=1.0)…"
      ]
     },
     "metadata": {},
     "output_type": "display_data"
    },
    {
     "data": {
      "text/html": [
       "wandb version 0.16.3 is available!  To upgrade, please run:\n",
       " $ pip install wandb --upgrade"
      ],
      "text/plain": [
       "<IPython.core.display.HTML object>"
      ]
     },
     "metadata": {},
     "output_type": "display_data"
    },
    {
     "data": {
      "text/html": [
       "Tracking run with wandb version 0.14.0"
      ],
      "text/plain": [
       "<IPython.core.display.HTML object>"
      ]
     },
     "metadata": {},
     "output_type": "display_data"
    },
    {
     "data": {
      "text/html": [
       "Run data is saved locally in <code>y:\\coskun-lab\\Thomas\\11_snowflakes\\notebooks\\wandb\\run-20240303_210208-upvxx3a6</code>"
      ],
      "text/plain": [
       "<IPython.core.display.HTML object>"
      ]
     },
     "metadata": {},
     "output_type": "display_data"
    },
    {
     "data": {
      "text/html": [
       "Syncing run <strong><a href='https://wandb.ai/thoomas/SF_030324_Covid_pos/runs/upvxx3a6' target=\"_blank\">GAT_2_16_3</a></strong> to <a href='https://wandb.ai/thoomas/SF_030324_Covid_pos' target=\"_blank\">Weights & Biases</a> (<a href='https://wandb.me/run' target=\"_blank\">docs</a>)<br/>"
      ],
      "text/plain": [
       "<IPython.core.display.HTML object>"
      ]
     },
     "metadata": {},
     "output_type": "display_data"
    },
    {
     "data": {
      "text/html": [
       " View project at <a href='https://wandb.ai/thoomas/SF_030324_Covid_pos' target=\"_blank\">https://wandb.ai/thoomas/SF_030324_Covid_pos</a>"
      ],
      "text/plain": [
       "<IPython.core.display.HTML object>"
      ]
     },
     "metadata": {},
     "output_type": "display_data"
    },
    {
     "data": {
      "text/html": [
       " View run at <a href='https://wandb.ai/thoomas/SF_030324_Covid_pos/runs/upvxx3a6' target=\"_blank\">https://wandb.ai/thoomas/SF_030324_Covid_pos/runs/upvxx3a6</a>"
      ],
      "text/plain": [
       "<IPython.core.display.HTML object>"
      ]
     },
     "metadata": {},
     "output_type": "display_data"
    },
    {
     "name": "stderr",
     "output_type": "stream",
     "text": [
      "Global seed set to 42\n",
      "C:\\Users\\thu71\\AppData\\Roaming\\Python\\Python39\\site-packages\\lightning\\pytorch\\loggers\\wandb.py:395: UserWarning: There is a wandb run already in progress and newly created instances of `WandbLogger` will reuse this run. If this is not desired, call `wandb.finish()` before instantiating `WandbLogger`.\n",
      "  rank_zero_warn(\n",
      "GPU available: True (cuda), used: True\n",
      "TPU available: False, using: 0 TPU cores\n",
      "IPU available: False, using: 0 IPUs\n",
      "HPU available: False, using: 0 HPUs\n",
      "Global seed set to 42\n",
      "LOCAL_RANK: 0 - CUDA_VISIBLE_DEVICES: [0,1]\n",
      "\n",
      "   | Name        | Type             | Params\n",
      "--------------------------------------------------\n",
      "0  | model       | GAT              | 5.1 K \n",
      "1  | fnn_layer   | Linear           | 272   \n",
      "2  | selu        | SELU             | 0     \n",
      "3  | head        | Linear           | 34    \n",
      "4  | loss_module | CrossEntropyLoss | 0     \n",
      "5  | train_acc   | BinaryAccuracy   | 0     \n",
      "6  | train_auroc | BinaryAUROC      | 0     \n",
      "7  | train_f1    | BinaryF1Score    | 0     \n",
      "8  | valid_acc   | BinaryAccuracy   | 0     \n",
      "9  | valid_auroc | BinaryAUROC      | 0     \n",
      "10 | valid_f1    | BinaryF1Score    | 0     \n",
      "11 | test_acc    | BinaryAccuracy   | 0     \n",
      "12 | test_auroc  | BinaryAUROC      | 0     \n",
      "13 | test_f1     | BinaryF1Score    | 0     \n",
      "--------------------------------------------------\n",
      "5.4 K     Trainable params\n",
      "0         Non-trainable params\n",
      "5.4 K     Total params\n",
      "0.022     Total estimated model params size (MB)\n",
      "C:\\Users\\thu71\\AppData\\Roaming\\Python\\Python39\\site-packages\\lightning\\pytorch\\trainer\\connectors\\data_connector.py:478: PossibleUserWarning: Your `val_dataloader`'s sampler has shuffling enabled, it is strongly recommended that you turn shuffling off for val/test dataloaders.\n",
      "  rank_zero_warn(\n",
      "C:\\Users\\thu71\\AppData\\Roaming\\Python\\Python39\\site-packages\\lightning\\pytorch\\trainer\\connectors\\data_connector.py:430: PossibleUserWarning: The dataloader, val_dataloader, does not have many workers which may be a bottleneck. Consider increasing the value of the `num_workers` argument` (try 48 which is the number of cpus on this machine) in the `DataLoader` init to improve performance.\n",
      "  rank_zero_warn(\n",
      "C:\\Users\\thu71\\AppData\\Roaming\\Python\\Python39\\site-packages\\lightning\\pytorch\\trainer\\connectors\\data_connector.py:430: PossibleUserWarning: The dataloader, train_dataloader, does not have many workers which may be a bottleneck. Consider increasing the value of the `num_workers` argument` (try 48 which is the number of cpus on this machine) in the `DataLoader` init to improve performance.\n",
      "  rank_zero_warn(\n",
      "C:\\Users\\thu71\\AppData\\Roaming\\Python\\Python39\\site-packages\\lightning\\pytorch\\loops\\fit_loop.py:280: PossibleUserWarning: The number of training batches (4) is smaller than the logging interval Trainer(log_every_n_steps=10). Set a lower value for log_every_n_steps if you want to see logs for the training epoch.\n",
      "  rank_zero_warn(\n",
      "`Trainer.fit` stopped: `max_epochs=50` reached.\n",
      "LOCAL_RANK: 0 - CUDA_VISIBLE_DEVICES: [0,1]\n",
      "C:\\Users\\thu71\\AppData\\Roaming\\Python\\Python39\\site-packages\\lightning\\pytorch\\trainer\\connectors\\data_connector.py:478: PossibleUserWarning: Your `test_dataloader`'s sampler has shuffling enabled, it is strongly recommended that you turn shuffling off for val/test dataloaders.\n",
      "  rank_zero_warn(\n",
      "C:\\Users\\thu71\\AppData\\Roaming\\Python\\Python39\\site-packages\\lightning\\pytorch\\trainer\\connectors\\data_connector.py:430: PossibleUserWarning: The dataloader, test_dataloader, does not have many workers which may be a bottleneck. Consider increasing the value of the `num_workers` argument` (try 48 which is the number of cpus on this machine) in the `DataLoader` init to improve performance.\n",
      "  rank_zero_warn(\n"
     ]
    },
    {
     "name": "stdout",
     "output_type": "stream",
     "text": [
      "{'test_acc': tensor(0.5263), 'test_auc': tensor(0.7528), 'test_f1': tensor(0.4000)}\n"
     ]
    },
    {
     "data": {
      "text/html": [
       "Waiting for W&B process to finish... <strong style=\"color:green\">(success).</strong>"
      ],
      "text/plain": [
       "<IPython.core.display.HTML object>"
      ]
     },
     "metadata": {},
     "output_type": "display_data"
    },
    {
     "data": {
      "application/vnd.jupyter.widget-view+json": {
       "model_id": "83405da2de764fea8dae157e95883112",
       "version_major": 2,
       "version_minor": 0
      },
      "text/plain": [
       "VBox(children=(Label(value='0.001 MB of 0.001 MB uploaded (0.000 MB deduped)\\r'), FloatProgress(value=1.0, max…"
      ]
     },
     "metadata": {},
     "output_type": "display_data"
    },
    {
     "data": {
      "text/html": [
       "<style>\n",
       "    table.wandb td:nth-child(1) { padding: 0 10px; text-align: left ; width: auto;} td:nth-child(2) {text-align: left ; width: 100%}\n",
       "    .wandb-row { display: flex; flex-direction: row; flex-wrap: wrap; justify-content: flex-start; width: 100% }\n",
       "    .wandb-col { display: flex; flex-direction: column; flex-basis: 100%; flex: 1; padding: 10px; }\n",
       "    </style>\n",
       "<div class=\"wandb-row\"><div class=\"wandb-col\"><h3>Run history:</h3><br/><table class=\"wandb\"><tr><td>epoch</td><td>▁▁▁▂▂▂▂▂▂▃▃▃▃▃▄▄▄▄▄▄▅▅▅▅▅▅▆▆▆▆▆▆▇▇▇▇▇███</td></tr><tr><td>lr-Adam</td><td>▁▁▁▁▁▁▁▁▁▁▁▁▁▁▁▁▁▁▁▁▁▁▁▁▁▁▁▁▁▁▁▁▁▁▁▁▁▁▁▁</td></tr><tr><td>test_acc</td><td>▁</td></tr><tr><td>test_auc</td><td>▁</td></tr><tr><td>test_f1</td><td>▁</td></tr><tr><td>train_acc</td><td>▁▄▅▅▅▆▅▆▅▅▅▆▆▆▆▆▇█▆▆▇▇██▇▇█████▇███▇▇███</td></tr><tr><td>train_auc</td><td>▁▄▅▅▆▆▅▆▆▆▆▆▇▆▇▇▇▇▇▇▇▇▇█▇▇█████▇████████</td></tr><tr><td>train_f1</td><td>▁▃▅▄▅▅▄▆▅▅▄▅▆▆▆▆▇█▆▆▇▇▇▇▆▇█▇██▇▇██▇▇▇▇██</td></tr><tr><td>train_loss_epoch</td><td>█▇▆▅▄▄▅▄▄▄▄▄▃▃▃▃▃▂▃▃▂▂▂▂▂▂▁▂▂▁▂▂▂▁▂▂▂▂▂▁</td></tr><tr><td>train_loss_step</td><td>█▆▆▇▇▃▄▅▄▁▃▃▂▃▃▃▂▅▂▂</td></tr><tr><td>trainer/global_step</td><td>▁▁▁▂▁▁▂▂▁▃▃▃▂▃▄▄▂▄▄▂▂▅▅▂▅▅▆▂▆▆▆▂▇▇▇▃▇███</td></tr><tr><td>val_acc</td><td>▁▇▆█▅▆▇▅▇▇▇█▇▇█▇▆▅▆▆▅▇▆▇▃▅▅▄▅▂▃▄▄▆▁▅▁▂▅▃</td></tr><tr><td>val_auc</td><td>▁▃▃▃▃▄▄▄▅▄▄▅▅▅▆▆▆▆▆▆▆▇▇▇▆▆▇▇▇▇▇▇▇█▇█▇███</td></tr><tr><td>val_f1</td><td>▂█▆█▅▇▇▆█▇▇█▇▇█▇▆▅▆▇▅▇▆▇▄▅▅▅▅▃▃▄▅▆▁▅▁▃▅▃</td></tr><tr><td>val_loss_epoch</td><td>▆▅▅▄▄▃▃▄▂▃▂▁▂▂▂▂▃▄▃▂▄▂▃▃▅▅▄▅▃▆▅▅▅▃▇▄█▆▄▆</td></tr><tr><td>val_loss_step</td><td>▆▅▅▄▄▃▃▄▂▃▂▁▂▂▂▂▃▄▃▂▄▂▃▃▅▅▄▅▃▆▅▅▅▃▇▄█▆▄▆</td></tr></table><br/></div><div class=\"wandb-col\"><h3>Run summary:</h3><br/><table class=\"wandb\"><tr><td>epoch</td><td>50</td></tr><tr><td>lr-Adam</td><td>0.005</td></tr><tr><td>test_acc</td><td>0.52632</td></tr><tr><td>test_auc</td><td>0.75277</td></tr><tr><td>test_f1</td><td>0.4</td></tr><tr><td>train_acc</td><td>0.87449</td></tr><tr><td>train_auc</td><td>0.93948</td></tr><tr><td>train_f1</td><td>0.88645</td></tr><tr><td>train_loss_epoch</td><td>0.43068</td></tr><tr><td>train_loss_step</td><td>0.43192</td></tr><tr><td>trainer/global_step</td><td>200</td></tr><tr><td>val_acc</td><td>0.54839</td></tr><tr><td>val_auc</td><td>0.80114</td></tr><tr><td>val_f1</td><td>0.51724</td></tr><tr><td>val_loss_epoch</td><td>0.69121</td></tr><tr><td>val_loss_step</td><td>0.69121</td></tr></table><br/></div></div>"
      ],
      "text/plain": [
       "<IPython.core.display.HTML object>"
      ]
     },
     "metadata": {},
     "output_type": "display_data"
    },
    {
     "data": {
      "text/html": [
       " View run <strong style=\"color:#cdcd00\">GAT_2_16_3</strong> at: <a href='https://wandb.ai/thoomas/SF_030324_Covid_pos/runs/upvxx3a6' target=\"_blank\">https://wandb.ai/thoomas/SF_030324_Covid_pos/runs/upvxx3a6</a><br/>Synced 6 W&B file(s), 0 media file(s), 0 artifact file(s) and 0 other file(s)"
      ],
      "text/plain": [
       "<IPython.core.display.HTML object>"
      ]
     },
     "metadata": {},
     "output_type": "display_data"
    },
    {
     "data": {
      "text/html": [
       "Find logs at: <code>.\\wandb\\run-20240303_210208-upvxx3a6\\logs</code>"
      ],
      "text/plain": [
       "<IPython.core.display.HTML object>"
      ]
     },
     "metadata": {},
     "output_type": "display_data"
    },
    {
     "data": {
      "application/vnd.jupyter.widget-view+json": {
       "model_id": "5cc35967eb0a47e58eb5ba8fed04f901",
       "version_major": 2,
       "version_minor": 0
      },
      "text/plain": [
       "VBox(children=(Label(value='Waiting for wandb.init()...\\r'), FloatProgress(value=0.016666666666666666, max=1.0…"
      ]
     },
     "metadata": {},
     "output_type": "display_data"
    },
    {
     "data": {
      "text/html": [
       "wandb version 0.16.3 is available!  To upgrade, please run:\n",
       " $ pip install wandb --upgrade"
      ],
      "text/plain": [
       "<IPython.core.display.HTML object>"
      ]
     },
     "metadata": {},
     "output_type": "display_data"
    },
    {
     "data": {
      "text/html": [
       "Tracking run with wandb version 0.14.0"
      ],
      "text/plain": [
       "<IPython.core.display.HTML object>"
      ]
     },
     "metadata": {},
     "output_type": "display_data"
    },
    {
     "data": {
      "text/html": [
       "Run data is saved locally in <code>y:\\coskun-lab\\Thomas\\11_snowflakes\\notebooks\\wandb\\run-20240303_210955-vahj1p01</code>"
      ],
      "text/plain": [
       "<IPython.core.display.HTML object>"
      ]
     },
     "metadata": {},
     "output_type": "display_data"
    },
    {
     "data": {
      "text/html": [
       "Syncing run <strong><a href='https://wandb.ai/thoomas/SF_030324_Covid_pos/runs/vahj1p01' target=\"_blank\">GINConv_2_16_3</a></strong> to <a href='https://wandb.ai/thoomas/SF_030324_Covid_pos' target=\"_blank\">Weights & Biases</a> (<a href='https://wandb.me/run' target=\"_blank\">docs</a>)<br/>"
      ],
      "text/plain": [
       "<IPython.core.display.HTML object>"
      ]
     },
     "metadata": {},
     "output_type": "display_data"
    },
    {
     "data": {
      "text/html": [
       " View project at <a href='https://wandb.ai/thoomas/SF_030324_Covid_pos' target=\"_blank\">https://wandb.ai/thoomas/SF_030324_Covid_pos</a>"
      ],
      "text/plain": [
       "<IPython.core.display.HTML object>"
      ]
     },
     "metadata": {},
     "output_type": "display_data"
    },
    {
     "data": {
      "text/html": [
       " View run at <a href='https://wandb.ai/thoomas/SF_030324_Covid_pos/runs/vahj1p01' target=\"_blank\">https://wandb.ai/thoomas/SF_030324_Covid_pos/runs/vahj1p01</a>"
      ],
      "text/plain": [
       "<IPython.core.display.HTML object>"
      ]
     },
     "metadata": {},
     "output_type": "display_data"
    },
    {
     "name": "stderr",
     "output_type": "stream",
     "text": [
      "Global seed set to 42\n",
      "C:\\Users\\thu71\\AppData\\Roaming\\Python\\Python39\\site-packages\\lightning\\pytorch\\loggers\\wandb.py:395: UserWarning: There is a wandb run already in progress and newly created instances of `WandbLogger` will reuse this run. If this is not desired, call `wandb.finish()` before instantiating `WandbLogger`.\n",
      "  rank_zero_warn(\n",
      "GPU available: True (cuda), used: True\n",
      "TPU available: False, using: 0 TPU cores\n",
      "IPU available: False, using: 0 IPUs\n",
      "HPU available: False, using: 0 HPUs\n",
      "Global seed set to 42\n",
      "LOCAL_RANK: 0 - CUDA_VISIBLE_DEVICES: [0,1]\n",
      "\n",
      "   | Name        | Type             | Params\n",
      "--------------------------------------------------\n",
      "0  | model       | GIN              | 1.0 K \n",
      "1  | fnn_layer   | Linear           | 272   \n",
      "2  | selu        | SELU             | 0     \n",
      "3  | head        | Linear           | 34    \n",
      "4  | loss_module | CrossEntropyLoss | 0     \n",
      "5  | train_acc   | BinaryAccuracy   | 0     \n",
      "6  | train_auroc | BinaryAUROC      | 0     \n",
      "7  | train_f1    | BinaryF1Score    | 0     \n",
      "8  | valid_acc   | BinaryAccuracy   | 0     \n",
      "9  | valid_auroc | BinaryAUROC      | 0     \n",
      "10 | valid_f1    | BinaryF1Score    | 0     \n",
      "11 | test_acc    | BinaryAccuracy   | 0     \n",
      "12 | test_auroc  | BinaryAUROC      | 0     \n",
      "13 | test_f1     | BinaryF1Score    | 0     \n",
      "--------------------------------------------------\n",
      "1.3 K     Trainable params\n",
      "0         Non-trainable params\n",
      "1.3 K     Total params\n",
      "0.005     Total estimated model params size (MB)\n",
      "C:\\Users\\thu71\\AppData\\Roaming\\Python\\Python39\\site-packages\\lightning\\pytorch\\trainer\\connectors\\data_connector.py:478: PossibleUserWarning: Your `val_dataloader`'s sampler has shuffling enabled, it is strongly recommended that you turn shuffling off for val/test dataloaders.\n",
      "  rank_zero_warn(\n",
      "C:\\Users\\thu71\\AppData\\Roaming\\Python\\Python39\\site-packages\\lightning\\pytorch\\trainer\\connectors\\data_connector.py:430: PossibleUserWarning: The dataloader, val_dataloader, does not have many workers which may be a bottleneck. Consider increasing the value of the `num_workers` argument` (try 48 which is the number of cpus on this machine) in the `DataLoader` init to improve performance.\n",
      "  rank_zero_warn(\n",
      "C:\\Users\\thu71\\AppData\\Roaming\\Python\\Python39\\site-packages\\lightning\\pytorch\\trainer\\connectors\\data_connector.py:430: PossibleUserWarning: The dataloader, train_dataloader, does not have many workers which may be a bottleneck. Consider increasing the value of the `num_workers` argument` (try 48 which is the number of cpus on this machine) in the `DataLoader` init to improve performance.\n",
      "  rank_zero_warn(\n",
      "C:\\Users\\thu71\\AppData\\Roaming\\Python\\Python39\\site-packages\\lightning\\pytorch\\loops\\fit_loop.py:280: PossibleUserWarning: The number of training batches (2) is smaller than the logging interval Trainer(log_every_n_steps=10). Set a lower value for log_every_n_steps if you want to see logs for the training epoch.\n",
      "  rank_zero_warn(\n",
      "`Trainer.fit` stopped: `max_epochs=50` reached.\n",
      "LOCAL_RANK: 0 - CUDA_VISIBLE_DEVICES: [0,1]\n",
      "C:\\Users\\thu71\\AppData\\Roaming\\Python\\Python39\\site-packages\\lightning\\pytorch\\trainer\\connectors\\data_connector.py:478: PossibleUserWarning: Your `test_dataloader`'s sampler has shuffling enabled, it is strongly recommended that you turn shuffling off for val/test dataloaders.\n",
      "  rank_zero_warn(\n",
      "C:\\Users\\thu71\\AppData\\Roaming\\Python\\Python39\\site-packages\\lightning\\pytorch\\trainer\\connectors\\data_connector.py:430: PossibleUserWarning: The dataloader, test_dataloader, does not have many workers which may be a bottleneck. Consider increasing the value of the `num_workers` argument` (try 48 which is the number of cpus on this machine) in the `DataLoader` init to improve performance.\n",
      "  rank_zero_warn(\n"
     ]
    },
    {
     "name": "stdout",
     "output_type": "stream",
     "text": [
      "{'test_acc': tensor(0.7744), 'test_auc': tensor(0.8696), 'test_f1': tensor(0.8125)}\n"
     ]
    },
    {
     "data": {
      "text/html": [
       "Waiting for W&B process to finish... <strong style=\"color:green\">(success).</strong>"
      ],
      "text/plain": [
       "<IPython.core.display.HTML object>"
      ]
     },
     "metadata": {},
     "output_type": "display_data"
    },
    {
     "data": {
      "application/vnd.jupyter.widget-view+json": {
       "model_id": "8688312854a1495d9ab69eaac593d818",
       "version_major": 2,
       "version_minor": 0
      },
      "text/plain": [
       "VBox(children=(Label(value='0.001 MB of 0.001 MB uploaded (0.000 MB deduped)\\r'), FloatProgress(value=1.0, max…"
      ]
     },
     "metadata": {},
     "output_type": "display_data"
    },
    {
     "data": {
      "text/html": [
       "<style>\n",
       "    table.wandb td:nth-child(1) { padding: 0 10px; text-align: left ; width: auto;} td:nth-child(2) {text-align: left ; width: 100%}\n",
       "    .wandb-row { display: flex; flex-direction: row; flex-wrap: wrap; justify-content: flex-start; width: 100% }\n",
       "    .wandb-col { display: flex; flex-direction: column; flex-basis: 100%; flex: 1; padding: 10px; }\n",
       "    </style>\n",
       "<div class=\"wandb-row\"><div class=\"wandb-col\"><h3>Run history:</h3><br/><table class=\"wandb\"><tr><td>epoch</td><td>▁▁▁▂▂▂▂▂▂▃▃▃▃▃▄▄▄▄▄▄▅▅▅▅▅▅▆▆▆▆▆▆▇▇▇▇▇███</td></tr><tr><td>lr-Adam</td><td>▁▁▁▁▁▁▁▁▁▁▁▁▁▁▁▁▁▁▁▁▁▁▁▁▁▁▁▁▁▁▁▁▁▁▁▁▁▁▁▁</td></tr><tr><td>test_acc</td><td>▁</td></tr><tr><td>test_auc</td><td>▁</td></tr><tr><td>test_f1</td><td>▁</td></tr><tr><td>train_acc</td><td>▁▄▃▄▄▄▄▄▅▆▅▅▅▆▅▆▆▆▇▇▇▆▇▇▇▇▇██▇█▇▇██████▇</td></tr><tr><td>train_auc</td><td>▁▅▄▅▅▆▆▆▆▆▆▆▆▇▇▇▇▇▇▇▇▇▇▇▇██████▇████████</td></tr><tr><td>train_f1</td><td>▁▄▃▄▄▄▅▄▅▆▆▆▅▆▅▆▆▆▇▇▇▆▇▇▆▇▇██▇█▇▇██████▇</td></tr><tr><td>train_loss_epoch</td><td>█▆▆▅▅▄▄▄▄▄▄▄▃▃▃▃▃▃▂▂▂▂▂▂▂▂▂▁▂▂▁▂▂▁▁▁▁▁▂▂</td></tr><tr><td>train_loss_step</td><td>█▅▄▅▄▂▅▂▂▁</td></tr><tr><td>trainer/global_step</td><td>▁▁▁▂▂▂▂▂▂▃▃▃▃▃▄▂▂▄▃▄▅▅▅▃▅▅▃▆▆▆▆▄▇▄▄▇████</td></tr><tr><td>val_acc</td><td>▃▁▄▄▄▄▅▄▄▅▅▅▅▅▅▆▆▆▅▆▆▆▇▇▇▇▇▇█▇█▇▇▇█▇▇███</td></tr><tr><td>val_auc</td><td>▁▁▄▅▆▇▇▆▆▆▆▆▇▆▇▆▆▆▆▇▇▆▇▇▇▇▇▇▇▇▇▇▇▇█▇████</td></tr><tr><td>val_f1</td><td>▄▁▅▅▅▅▆▅▅▆▆▆▆▆▆▆▆▆▆▆▆▆▇▇▇▇▇▇█▇█▇▇▇█▇▇███</td></tr><tr><td>val_loss_epoch</td><td>██▆▅▅▄▄▄▄▄▄▄▄▄▃▃▃▃▃▃▂▂▂▂▂▂▂▂▂▂▂▂▂▂▂▂▂▁▁▁</td></tr><tr><td>val_loss_step</td><td>██▆▅▅▄▄▄▄▄▄▄▄▄▃▃▃▃▃▃▂▂▂▂▂▂▂▂▂▂▂▂▂▂▂▂▂▁▁▁</td></tr></table><br/></div><div class=\"wandb-col\"><h3>Run summary:</h3><br/><table class=\"wandb\"><tr><td>epoch</td><td>50</td></tr><tr><td>lr-Adam</td><td>0.005</td></tr><tr><td>test_acc</td><td>0.77444</td></tr><tr><td>test_auc</td><td>0.86958</td></tr><tr><td>test_f1</td><td>0.8125</td></tr><tr><td>train_acc</td><td>0.87045</td></tr><tr><td>train_auc</td><td>0.93975</td></tr><tr><td>train_f1</td><td>0.875</td></tr><tr><td>train_loss_epoch</td><td>0.44028</td></tr><tr><td>train_loss_step</td><td>0.40284</td></tr><tr><td>trainer/global_step</td><td>100</td></tr><tr><td>val_acc</td><td>0.85484</td></tr><tr><td>val_auc</td><td>0.9125</td></tr><tr><td>val_f1</td><td>0.88889</td></tr><tr><td>val_loss_epoch</td><td>0.45848</td></tr><tr><td>val_loss_step</td><td>0.45848</td></tr></table><br/></div></div>"
      ],
      "text/plain": [
       "<IPython.core.display.HTML object>"
      ]
     },
     "metadata": {},
     "output_type": "display_data"
    },
    {
     "data": {
      "text/html": [
       " View run <strong style=\"color:#cdcd00\">GINConv_2_16_3</strong> at: <a href='https://wandb.ai/thoomas/SF_030324_Covid_pos/runs/vahj1p01' target=\"_blank\">https://wandb.ai/thoomas/SF_030324_Covid_pos/runs/vahj1p01</a><br/>Synced 6 W&B file(s), 0 media file(s), 0 artifact file(s) and 0 other file(s)"
      ],
      "text/plain": [
       "<IPython.core.display.HTML object>"
      ]
     },
     "metadata": {},
     "output_type": "display_data"
    },
    {
     "data": {
      "text/html": [
       "Find logs at: <code>.\\wandb\\run-20240303_210955-vahj1p01\\logs</code>"
      ],
      "text/plain": [
       "<IPython.core.display.HTML object>"
      ]
     },
     "metadata": {},
     "output_type": "display_data"
    },
    {
     "data": {
      "application/vnd.jupyter.widget-view+json": {
       "model_id": "0ac4b97fd0f748728c5c79ea2a28e6f9",
       "version_major": 2,
       "version_minor": 0
      },
      "text/plain": [
       "VBox(children=(Label(value='Waiting for wandb.init()...\\r'), FloatProgress(value=0.01693333333338766, max=1.0)…"
      ]
     },
     "metadata": {},
     "output_type": "display_data"
    },
    {
     "data": {
      "text/html": [
       "wandb version 0.16.3 is available!  To upgrade, please run:\n",
       " $ pip install wandb --upgrade"
      ],
      "text/plain": [
       "<IPython.core.display.HTML object>"
      ]
     },
     "metadata": {},
     "output_type": "display_data"
    },
    {
     "data": {
      "text/html": [
       "Tracking run with wandb version 0.14.0"
      ],
      "text/plain": [
       "<IPython.core.display.HTML object>"
      ]
     },
     "metadata": {},
     "output_type": "display_data"
    },
    {
     "data": {
      "text/html": [
       "Run data is saved locally in <code>y:\\coskun-lab\\Thomas\\11_snowflakes\\notebooks\\wandb\\run-20240303_211504-4v7vy64s</code>"
      ],
      "text/plain": [
       "<IPython.core.display.HTML object>"
      ]
     },
     "metadata": {},
     "output_type": "display_data"
    },
    {
     "data": {
      "text/html": [
       "Syncing run <strong><a href='https://wandb.ai/thoomas/SF_030324_Covid_pos/runs/4v7vy64s' target=\"_blank\">GAT_2_16_3</a></strong> to <a href='https://wandb.ai/thoomas/SF_030324_Covid_pos' target=\"_blank\">Weights & Biases</a> (<a href='https://wandb.me/run' target=\"_blank\">docs</a>)<br/>"
      ],
      "text/plain": [
       "<IPython.core.display.HTML object>"
      ]
     },
     "metadata": {},
     "output_type": "display_data"
    },
    {
     "data": {
      "text/html": [
       " View project at <a href='https://wandb.ai/thoomas/SF_030324_Covid_pos' target=\"_blank\">https://wandb.ai/thoomas/SF_030324_Covid_pos</a>"
      ],
      "text/plain": [
       "<IPython.core.display.HTML object>"
      ]
     },
     "metadata": {},
     "output_type": "display_data"
    },
    {
     "data": {
      "text/html": [
       " View run at <a href='https://wandb.ai/thoomas/SF_030324_Covid_pos/runs/4v7vy64s' target=\"_blank\">https://wandb.ai/thoomas/SF_030324_Covid_pos/runs/4v7vy64s</a>"
      ],
      "text/plain": [
       "<IPython.core.display.HTML object>"
      ]
     },
     "metadata": {},
     "output_type": "display_data"
    },
    {
     "name": "stderr",
     "output_type": "stream",
     "text": [
      "Global seed set to 42\n",
      "C:\\Users\\thu71\\AppData\\Roaming\\Python\\Python39\\site-packages\\lightning\\pytorch\\loggers\\wandb.py:395: UserWarning: There is a wandb run already in progress and newly created instances of `WandbLogger` will reuse this run. If this is not desired, call `wandb.finish()` before instantiating `WandbLogger`.\n",
      "  rank_zero_warn(\n",
      "GPU available: True (cuda), used: True\n",
      "TPU available: False, using: 0 TPU cores\n",
      "IPU available: False, using: 0 IPUs\n",
      "HPU available: False, using: 0 HPUs\n",
      "Global seed set to 42\n",
      "c:\\Users\\thu71\\Anaconda3\\envs\\snowflake\\lib\\site-packages\\torch_geometric\\deprecation.py:12: UserWarning: 'nn.glob.GlobalAttention' is deprecated, use 'nn.aggr.AttentionalAggregation' instead\n",
      "  warnings.warn(out)\n",
      "LOCAL_RANK: 0 - CUDA_VISIBLE_DEVICES: [0,1]\n",
      "\n",
      "   | Name        | Type             | Params\n",
      "--------------------------------------------------\n",
      "0  | model       | GAT              | 5.1 K \n",
      "1  | fnn_layer   | Linear           | 272   \n",
      "2  | selu        | SELU             | 0     \n",
      "3  | head        | Linear           | 34    \n",
      "4  | loss_module | CrossEntropyLoss | 0     \n",
      "5  | train_acc   | BinaryAccuracy   | 0     \n",
      "6  | train_auroc | BinaryAUROC      | 0     \n",
      "7  | train_f1    | BinaryF1Score    | 0     \n",
      "8  | valid_acc   | BinaryAccuracy   | 0     \n",
      "9  | valid_auroc | BinaryAUROC      | 0     \n",
      "10 | valid_f1    | BinaryF1Score    | 0     \n",
      "11 | test_acc    | BinaryAccuracy   | 0     \n",
      "12 | test_auroc  | BinaryAUROC      | 0     \n",
      "13 | test_f1     | BinaryF1Score    | 0     \n",
      "14 | pool        | GlobalAttention  | 17    \n",
      "--------------------------------------------------\n",
      "5.4 K     Trainable params\n",
      "0         Non-trainable params\n",
      "5.4 K     Total params\n",
      "0.022     Total estimated model params size (MB)\n",
      "C:\\Users\\thu71\\AppData\\Roaming\\Python\\Python39\\site-packages\\lightning\\pytorch\\trainer\\connectors\\data_connector.py:478: PossibleUserWarning: Your `val_dataloader`'s sampler has shuffling enabled, it is strongly recommended that you turn shuffling off for val/test dataloaders.\n",
      "  rank_zero_warn(\n",
      "C:\\Users\\thu71\\AppData\\Roaming\\Python\\Python39\\site-packages\\lightning\\pytorch\\trainer\\connectors\\data_connector.py:430: PossibleUserWarning: The dataloader, val_dataloader, does not have many workers which may be a bottleneck. Consider increasing the value of the `num_workers` argument` (try 48 which is the number of cpus on this machine) in the `DataLoader` init to improve performance.\n",
      "  rank_zero_warn(\n",
      "C:\\Users\\thu71\\AppData\\Roaming\\Python\\Python39\\site-packages\\lightning\\pytorch\\trainer\\connectors\\data_connector.py:430: PossibleUserWarning: The dataloader, train_dataloader, does not have many workers which may be a bottleneck. Consider increasing the value of the `num_workers` argument` (try 48 which is the number of cpus on this machine) in the `DataLoader` init to improve performance.\n",
      "  rank_zero_warn(\n",
      "C:\\Users\\thu71\\AppData\\Roaming\\Python\\Python39\\site-packages\\lightning\\pytorch\\loops\\fit_loop.py:280: PossibleUserWarning: The number of training batches (4) is smaller than the logging interval Trainer(log_every_n_steps=10). Set a lower value for log_every_n_steps if you want to see logs for the training epoch.\n",
      "  rank_zero_warn(\n",
      "`Trainer.fit` stopped: `max_epochs=50` reached.\n",
      "LOCAL_RANK: 0 - CUDA_VISIBLE_DEVICES: [0,1]\n",
      "C:\\Users\\thu71\\AppData\\Roaming\\Python\\Python39\\site-packages\\lightning\\pytorch\\trainer\\connectors\\data_connector.py:478: PossibleUserWarning: Your `test_dataloader`'s sampler has shuffling enabled, it is strongly recommended that you turn shuffling off for val/test dataloaders.\n",
      "  rank_zero_warn(\n",
      "C:\\Users\\thu71\\AppData\\Roaming\\Python\\Python39\\site-packages\\lightning\\pytorch\\trainer\\connectors\\data_connector.py:430: PossibleUserWarning: The dataloader, test_dataloader, does not have many workers which may be a bottleneck. Consider increasing the value of the `num_workers` argument` (try 48 which is the number of cpus on this machine) in the `DataLoader` init to improve performance.\n",
      "  rank_zero_warn(\n"
     ]
    },
    {
     "name": "stdout",
     "output_type": "stream",
     "text": [
      "{'test_acc': tensor(0.7143), 'test_auc': tensor(0.7862), 'test_f1': tensor(0.7324)}\n"
     ]
    },
    {
     "data": {
      "text/html": [
       "Waiting for W&B process to finish... <strong style=\"color:green\">(success).</strong>"
      ],
      "text/plain": [
       "<IPython.core.display.HTML object>"
      ]
     },
     "metadata": {},
     "output_type": "display_data"
    },
    {
     "data": {
      "application/vnd.jupyter.widget-view+json": {
       "model_id": "9fd4b173ba9b4fff81fa7d5692935f4d",
       "version_major": 2,
       "version_minor": 0
      },
      "text/plain": [
       "VBox(children=(Label(value='0.001 MB of 0.001 MB uploaded (0.000 MB deduped)\\r'), FloatProgress(value=1.0, max…"
      ]
     },
     "metadata": {},
     "output_type": "display_data"
    },
    {
     "data": {
      "text/html": [
       "<style>\n",
       "    table.wandb td:nth-child(1) { padding: 0 10px; text-align: left ; width: auto;} td:nth-child(2) {text-align: left ; width: 100%}\n",
       "    .wandb-row { display: flex; flex-direction: row; flex-wrap: wrap; justify-content: flex-start; width: 100% }\n",
       "    .wandb-col { display: flex; flex-direction: column; flex-basis: 100%; flex: 1; padding: 10px; }\n",
       "    </style>\n",
       "<div class=\"wandb-row\"><div class=\"wandb-col\"><h3>Run history:</h3><br/><table class=\"wandb\"><tr><td>epoch</td><td>▁▁▁▂▂▂▂▂▂▃▃▃▃▃▄▄▄▄▄▄▅▅▅▅▅▅▆▆▆▆▆▆▇▇▇▇▇███</td></tr><tr><td>lr-Adam</td><td>▁▁▁▁▁▁▁▁▁▁▁▁▁▁▁▁▁▁▁▁▁▁▁▁▁▁▁▁▁▁▁▁▁▁▁▁▁▁▁▁</td></tr><tr><td>test_acc</td><td>▁</td></tr><tr><td>test_auc</td><td>▁</td></tr><tr><td>test_f1</td><td>▁</td></tr><tr><td>train_acc</td><td>▁▃▄▄▆▆▅▆▆▆▆▆▆▆▆▇▇▆▇▇▆▇▇▇▇▇▇▆▇▇▇▇▇▇▇▇████</td></tr><tr><td>train_auc</td><td>▁▃▄▄▅▅▅▆▆▆▆▆▆▆▆▆▆▆▆▆▆▇▇▇▇▇▇▆▇▇▇▇▇███████</td></tr><tr><td>train_f1</td><td>▁▄▃▄▅▅▅▆▆▅▆▆▆▆▆▇▇▆▆▆▆▇▇▇▇▇▇▆▇▇▇▇▇▇▇▇████</td></tr><tr><td>train_loss_epoch</td><td>█▇▆▆▅▄▄▃▃▄▄▄▃▃▃▃▃▃▃▃▃▂▂▂▂▂▂▃▂▂▂▂▂▂▂▁▁▁▁▁</td></tr><tr><td>train_loss_step</td><td>█▇▆▇▆▄▅▄▅▄▃▂▄▃▃▃▁▄▁▄</td></tr><tr><td>trainer/global_step</td><td>▁▁▁▂▁▁▂▂▁▃▃▃▂▃▄▄▂▄▄▂▂▅▅▂▅▅▆▂▆▆▆▂▇▇▇▃▇███</td></tr><tr><td>val_acc</td><td>▁▂▃▂▂▂▂▂▂▂▃▂▂▃▃▄▅▅▅▄▅▅▅▅▅▇▇▇▅▆▇▆█▇▇▅▆▆█▆</td></tr><tr><td>val_auc</td><td>▁▂▂▂▃▃▃▄▄▄▄▄▄▄▄▄▄▅▅▅▅▅▅▆▆▆▆▆▆▆▆▆▇▇▇▇▇▇██</td></tr><tr><td>val_f1</td><td>▂▁▂▃▃▃▂▃▃▂▄▂▃▄▃▄▅▅▄▃▆▄▆▅▅▇▆▇▄▅▇▅█▆▆▃▄▄▇▄</td></tr><tr><td>val_loss_epoch</td><td>██▇▆▅▅▅▆▅▅▆▅▅▅▅▄▄▄▄▄▃▃▃▃▃▃▃▂▃▂▂▂▁▁▂▂▂▂▁▂</td></tr><tr><td>val_loss_step</td><td>██▇▆▅▅▅▆▅▅▆▅▅▅▅▄▄▄▄▄▃▃▃▃▃▃▃▂▃▂▂▂▁▁▂▂▂▂▁▂</td></tr></table><br/></div><div class=\"wandb-col\"><h3>Run summary:</h3><br/><table class=\"wandb\"><tr><td>epoch</td><td>50</td></tr><tr><td>lr-Adam</td><td>0.005</td></tr><tr><td>test_acc</td><td>0.71429</td></tr><tr><td>test_auc</td><td>0.78624</td></tr><tr><td>test_f1</td><td>0.73239</td></tr><tr><td>train_acc</td><td>0.8502</td></tr><tr><td>train_auc</td><td>0.91062</td></tr><tr><td>train_f1</td><td>0.86738</td></tr><tr><td>train_loss_epoch</td><td>0.45758</td></tr><tr><td>train_loss_step</td><td>0.5043</td></tr><tr><td>trainer/global_step</td><td>200</td></tr><tr><td>val_acc</td><td>0.75806</td></tr><tr><td>val_auc</td><td>0.89091</td></tr><tr><td>val_f1</td><td>0.8</td></tr><tr><td>val_loss_epoch</td><td>0.53232</td></tr><tr><td>val_loss_step</td><td>0.53232</td></tr></table><br/></div></div>"
      ],
      "text/plain": [
       "<IPython.core.display.HTML object>"
      ]
     },
     "metadata": {},
     "output_type": "display_data"
    },
    {
     "data": {
      "text/html": [
       " View run <strong style=\"color:#cdcd00\">GAT_2_16_3</strong> at: <a href='https://wandb.ai/thoomas/SF_030324_Covid_pos/runs/4v7vy64s' target=\"_blank\">https://wandb.ai/thoomas/SF_030324_Covid_pos/runs/4v7vy64s</a><br/>Synced 6 W&B file(s), 0 media file(s), 0 artifact file(s) and 0 other file(s)"
      ],
      "text/plain": [
       "<IPython.core.display.HTML object>"
      ]
     },
     "metadata": {},
     "output_type": "display_data"
    },
    {
     "data": {
      "text/html": [
       "Find logs at: <code>.\\wandb\\run-20240303_211504-4v7vy64s\\logs</code>"
      ],
      "text/plain": [
       "<IPython.core.display.HTML object>"
      ]
     },
     "metadata": {},
     "output_type": "display_data"
    },
    {
     "data": {
      "application/vnd.jupyter.widget-view+json": {
       "model_id": "cea0fa35998b4b3da47e505540926542",
       "version_major": 2,
       "version_minor": 0
      },
      "text/plain": [
       "VBox(children=(Label(value='Waiting for wandb.init()...\\r'), FloatProgress(value=0.016666666666666666, max=1.0…"
      ]
     },
     "metadata": {},
     "output_type": "display_data"
    },
    {
     "data": {
      "text/html": [
       "wandb version 0.16.3 is available!  To upgrade, please run:\n",
       " $ pip install wandb --upgrade"
      ],
      "text/plain": [
       "<IPython.core.display.HTML object>"
      ]
     },
     "metadata": {},
     "output_type": "display_data"
    },
    {
     "data": {
      "text/html": [
       "Tracking run with wandb version 0.14.0"
      ],
      "text/plain": [
       "<IPython.core.display.HTML object>"
      ]
     },
     "metadata": {},
     "output_type": "display_data"
    },
    {
     "data": {
      "text/html": [
       "Run data is saved locally in <code>y:\\coskun-lab\\Thomas\\11_snowflakes\\notebooks\\wandb\\run-20240303_212022-jb2rk4dw</code>"
      ],
      "text/plain": [
       "<IPython.core.display.HTML object>"
      ]
     },
     "metadata": {},
     "output_type": "display_data"
    },
    {
     "data": {
      "text/html": [
       "Syncing run <strong><a href='https://wandb.ai/thoomas/SF_030324_Covid_pos/runs/jb2rk4dw' target=\"_blank\">GINConv_2_16_3</a></strong> to <a href='https://wandb.ai/thoomas/SF_030324_Covid_pos' target=\"_blank\">Weights & Biases</a> (<a href='https://wandb.me/run' target=\"_blank\">docs</a>)<br/>"
      ],
      "text/plain": [
       "<IPython.core.display.HTML object>"
      ]
     },
     "metadata": {},
     "output_type": "display_data"
    },
    {
     "data": {
      "text/html": [
       " View project at <a href='https://wandb.ai/thoomas/SF_030324_Covid_pos' target=\"_blank\">https://wandb.ai/thoomas/SF_030324_Covid_pos</a>"
      ],
      "text/plain": [
       "<IPython.core.display.HTML object>"
      ]
     },
     "metadata": {},
     "output_type": "display_data"
    },
    {
     "data": {
      "text/html": [
       " View run at <a href='https://wandb.ai/thoomas/SF_030324_Covid_pos/runs/jb2rk4dw' target=\"_blank\">https://wandb.ai/thoomas/SF_030324_Covid_pos/runs/jb2rk4dw</a>"
      ],
      "text/plain": [
       "<IPython.core.display.HTML object>"
      ]
     },
     "metadata": {},
     "output_type": "display_data"
    },
    {
     "name": "stderr",
     "output_type": "stream",
     "text": [
      "Global seed set to 42\n",
      "C:\\Users\\thu71\\AppData\\Roaming\\Python\\Python39\\site-packages\\lightning\\pytorch\\loggers\\wandb.py:395: UserWarning: There is a wandb run already in progress and newly created instances of `WandbLogger` will reuse this run. If this is not desired, call `wandb.finish()` before instantiating `WandbLogger`.\n",
      "  rank_zero_warn(\n",
      "GPU available: True (cuda), used: True\n",
      "TPU available: False, using: 0 TPU cores\n",
      "IPU available: False, using: 0 IPUs\n",
      "HPU available: False, using: 0 HPUs\n",
      "Global seed set to 42\n",
      "c:\\Users\\thu71\\Anaconda3\\envs\\snowflake\\lib\\site-packages\\torch_geometric\\deprecation.py:12: UserWarning: 'nn.glob.GlobalAttention' is deprecated, use 'nn.aggr.AttentionalAggregation' instead\n",
      "  warnings.warn(out)\n",
      "LOCAL_RANK: 0 - CUDA_VISIBLE_DEVICES: [0,1]\n",
      "\n",
      "   | Name        | Type             | Params\n",
      "--------------------------------------------------\n",
      "0  | model       | GIN              | 1.0 K \n",
      "1  | fnn_layer   | Linear           | 272   \n",
      "2  | selu        | SELU             | 0     \n",
      "3  | head        | Linear           | 34    \n",
      "4  | loss_module | CrossEntropyLoss | 0     \n",
      "5  | train_acc   | BinaryAccuracy   | 0     \n",
      "6  | train_auroc | BinaryAUROC      | 0     \n",
      "7  | train_f1    | BinaryF1Score    | 0     \n",
      "8  | valid_acc   | BinaryAccuracy   | 0     \n",
      "9  | valid_auroc | BinaryAUROC      | 0     \n",
      "10 | valid_f1    | BinaryF1Score    | 0     \n",
      "11 | test_acc    | BinaryAccuracy   | 0     \n",
      "12 | test_auroc  | BinaryAUROC      | 0     \n",
      "13 | test_f1     | BinaryF1Score    | 0     \n",
      "14 | pool        | GlobalAttention  | 17    \n",
      "--------------------------------------------------\n",
      "1.3 K     Trainable params\n",
      "0         Non-trainable params\n",
      "1.3 K     Total params\n",
      "0.005     Total estimated model params size (MB)\n",
      "C:\\Users\\thu71\\AppData\\Roaming\\Python\\Python39\\site-packages\\lightning\\pytorch\\trainer\\connectors\\data_connector.py:478: PossibleUserWarning: Your `val_dataloader`'s sampler has shuffling enabled, it is strongly recommended that you turn shuffling off for val/test dataloaders.\n",
      "  rank_zero_warn(\n",
      "C:\\Users\\thu71\\AppData\\Roaming\\Python\\Python39\\site-packages\\lightning\\pytorch\\trainer\\connectors\\data_connector.py:430: PossibleUserWarning: The dataloader, val_dataloader, does not have many workers which may be a bottleneck. Consider increasing the value of the `num_workers` argument` (try 48 which is the number of cpus on this machine) in the `DataLoader` init to improve performance.\n",
      "  rank_zero_warn(\n",
      "C:\\Users\\thu71\\AppData\\Roaming\\Python\\Python39\\site-packages\\lightning\\pytorch\\trainer\\connectors\\data_connector.py:430: PossibleUserWarning: The dataloader, train_dataloader, does not have many workers which may be a bottleneck. Consider increasing the value of the `num_workers` argument` (try 48 which is the number of cpus on this machine) in the `DataLoader` init to improve performance.\n",
      "  rank_zero_warn(\n",
      "C:\\Users\\thu71\\AppData\\Roaming\\Python\\Python39\\site-packages\\lightning\\pytorch\\loops\\fit_loop.py:280: PossibleUserWarning: The number of training batches (2) is smaller than the logging interval Trainer(log_every_n_steps=10). Set a lower value for log_every_n_steps if you want to see logs for the training epoch.\n",
      "  rank_zero_warn(\n",
      "`Trainer.fit` stopped: `max_epochs=50` reached.\n",
      "LOCAL_RANK: 0 - CUDA_VISIBLE_DEVICES: [0,1]\n",
      "C:\\Users\\thu71\\AppData\\Roaming\\Python\\Python39\\site-packages\\lightning\\pytorch\\trainer\\connectors\\data_connector.py:478: PossibleUserWarning: Your `test_dataloader`'s sampler has shuffling enabled, it is strongly recommended that you turn shuffling off for val/test dataloaders.\n",
      "  rank_zero_warn(\n",
      "C:\\Users\\thu71\\AppData\\Roaming\\Python\\Python39\\site-packages\\lightning\\pytorch\\trainer\\connectors\\data_connector.py:430: PossibleUserWarning: The dataloader, test_dataloader, does not have many workers which may be a bottleneck. Consider increasing the value of the `num_workers` argument` (try 48 which is the number of cpus on this machine) in the `DataLoader` init to improve performance.\n",
      "  rank_zero_warn(\n"
     ]
    },
    {
     "name": "stdout",
     "output_type": "stream",
     "text": [
      "{'test_acc': tensor(0.8195), 'test_auc': tensor(0.8920), 'test_f1': tensor(0.8481)}\n"
     ]
    },
    {
     "data": {
      "text/html": [
       "Waiting for W&B process to finish... <strong style=\"color:green\">(success).</strong>"
      ],
      "text/plain": [
       "<IPython.core.display.HTML object>"
      ]
     },
     "metadata": {},
     "output_type": "display_data"
    },
    {
     "data": {
      "application/vnd.jupyter.widget-view+json": {
       "model_id": "e0b52594413042389d2ebb07a88e9631",
       "version_major": 2,
       "version_minor": 0
      },
      "text/plain": [
       "VBox(children=(Label(value='0.001 MB of 0.001 MB uploaded (0.000 MB deduped)\\r'), FloatProgress(value=1.0, max…"
      ]
     },
     "metadata": {},
     "output_type": "display_data"
    },
    {
     "data": {
      "text/html": [
       "<style>\n",
       "    table.wandb td:nth-child(1) { padding: 0 10px; text-align: left ; width: auto;} td:nth-child(2) {text-align: left ; width: 100%}\n",
       "    .wandb-row { display: flex; flex-direction: row; flex-wrap: wrap; justify-content: flex-start; width: 100% }\n",
       "    .wandb-col { display: flex; flex-direction: column; flex-basis: 100%; flex: 1; padding: 10px; }\n",
       "    </style>\n",
       "<div class=\"wandb-row\"><div class=\"wandb-col\"><h3>Run history:</h3><br/><table class=\"wandb\"><tr><td>epoch</td><td>▁▁▁▂▂▂▂▂▂▃▃▃▃▃▄▄▄▄▄▄▅▅▅▅▅▅▆▆▆▆▆▆▇▇▇▇▇███</td></tr><tr><td>lr-Adam</td><td>▁▁▁▁▁▁▁▁▁▁▁▁▁▁▁▁▁▁▁▁▁▁▁▁▁▁▁▁▁▁▁▁▁▁▁▁▁▁▁▁</td></tr><tr><td>test_acc</td><td>▁</td></tr><tr><td>test_auc</td><td>▁</td></tr><tr><td>test_f1</td><td>▁</td></tr><tr><td>train_acc</td><td>▁▂▃▄▅▆▆▆▆▆▇▇▇▇▇▇██▇▇█▇▇██████▇▇█████████</td></tr><tr><td>train_auc</td><td>▁▄▅▅▆▆▇▇▇▇▇▇▇▇██████████████████████████</td></tr><tr><td>train_f1</td><td>▁▅▅▅▆▆▆▆▇▇▇█▇▇█▇██▇██▇▇█████████████████</td></tr><tr><td>train_loss_epoch</td><td>█▇▇▆▅▄▄▄▃▃▂▂▂▂▂▂▂▂▂▁▂▂▂▁▁▁▁▁▁▁▁▁▁▁▁▁▁▁▁▁</td></tr><tr><td>train_loss_step</td><td>█▄▃▂▁▃▁▃▂▂</td></tr><tr><td>trainer/global_step</td><td>▁▁▁▂▂▂▂▂▂▃▃▃▃▃▄▂▂▄▃▄▅▅▅▃▅▅▃▆▆▆▆▄▇▄▄▇████</td></tr><tr><td>val_acc</td><td>▁▃▂▁▃▄▄▅▄▄▅▅▅▅▅▆▅▅▇▆▆▇▆▆▇▆▇▇▆▆█▇▇▇████▅▇</td></tr><tr><td>val_auc</td><td>▂▁▁▁▃▅▅▆▅▆▅▅▆▆▆▇▅▆▆▇▆▆▆▆▇▇▇▇▇██▇███████▇</td></tr><tr><td>val_f1</td><td>▄▅▂▁▄▅▄▅▄▄▄▅▅▆▅▆▅▅▆▆▆▆▅▆▆▆▇▇▆▇█▇▇▇████▃▇</td></tr><tr><td>val_loss_epoch</td><td>████▆▆▅▅▄▄▅▄▄▄▄▃▄▄▃▃▃▃▃▃▂▂▂▂▃▂▂▂▃▁▁▁▁▂▄▂</td></tr><tr><td>val_loss_step</td><td>████▆▆▅▅▄▄▅▄▄▄▄▃▄▄▃▃▃▃▃▃▂▂▂▂▃▂▂▂▃▁▁▁▁▂▄▂</td></tr></table><br/></div><div class=\"wandb-col\"><h3>Run summary:</h3><br/><table class=\"wandb\"><tr><td>epoch</td><td>50</td></tr><tr><td>lr-Adam</td><td>0.005</td></tr><tr><td>test_acc</td><td>0.81955</td></tr><tr><td>test_auc</td><td>0.89197</td></tr><tr><td>test_f1</td><td>0.8481</td></tr><tr><td>train_acc</td><td>0.92713</td></tr><tr><td>train_auc</td><td>0.9706</td></tr><tr><td>train_f1</td><td>0.93478</td></tr><tr><td>train_loss_epoch</td><td>0.39354</td></tr><tr><td>train_loss_step</td><td>0.4082</td></tr><tr><td>trainer/global_step</td><td>100</td></tr><tr><td>val_acc</td><td>0.83871</td></tr><tr><td>val_auc</td><td>0.92727</td></tr><tr><td>val_f1</td><td>0.88095</td></tr><tr><td>val_loss_epoch</td><td>0.46857</td></tr><tr><td>val_loss_step</td><td>0.46857</td></tr></table><br/></div></div>"
      ],
      "text/plain": [
       "<IPython.core.display.HTML object>"
      ]
     },
     "metadata": {},
     "output_type": "display_data"
    },
    {
     "data": {
      "text/html": [
       " View run <strong style=\"color:#cdcd00\">GINConv_2_16_3</strong> at: <a href='https://wandb.ai/thoomas/SF_030324_Covid_pos/runs/jb2rk4dw' target=\"_blank\">https://wandb.ai/thoomas/SF_030324_Covid_pos/runs/jb2rk4dw</a><br/>Synced 6 W&B file(s), 0 media file(s), 0 artifact file(s) and 0 other file(s)"
      ],
      "text/plain": [
       "<IPython.core.display.HTML object>"
      ]
     },
     "metadata": {},
     "output_type": "display_data"
    },
    {
     "data": {
      "text/html": [
       "Find logs at: <code>.\\wandb\\run-20240303_212022-jb2rk4dw\\logs</code>"
      ],
      "text/plain": [
       "<IPython.core.display.HTML object>"
      ]
     },
     "metadata": {},
     "output_type": "display_data"
    },
    {
     "data": {
      "application/vnd.jupyter.widget-view+json": {
       "model_id": "f1d4100dd9aa4792a42d44b49c412493",
       "version_major": 2,
       "version_minor": 0
      },
      "text/plain": [
       "VBox(children=(Label(value='Waiting for wandb.init()...\\r'), FloatProgress(value=0.01693333333338766, max=1.0)…"
      ]
     },
     "metadata": {},
     "output_type": "display_data"
    },
    {
     "data": {
      "text/html": [
       "wandb version 0.16.3 is available!  To upgrade, please run:\n",
       " $ pip install wandb --upgrade"
      ],
      "text/plain": [
       "<IPython.core.display.HTML object>"
      ]
     },
     "metadata": {},
     "output_type": "display_data"
    },
    {
     "data": {
      "text/html": [
       "Tracking run with wandb version 0.14.0"
      ],
      "text/plain": [
       "<IPython.core.display.HTML object>"
      ]
     },
     "metadata": {},
     "output_type": "display_data"
    },
    {
     "data": {
      "text/html": [
       "Run data is saved locally in <code>y:\\coskun-lab\\Thomas\\11_snowflakes\\notebooks\\wandb\\run-20240303_212526-a61xczp2</code>"
      ],
      "text/plain": [
       "<IPython.core.display.HTML object>"
      ]
     },
     "metadata": {},
     "output_type": "display_data"
    },
    {
     "data": {
      "text/html": [
       "Syncing run <strong><a href='https://wandb.ai/thoomas/SF_030324_Covid_pos/runs/a61xczp2' target=\"_blank\">GAT_2_16_3</a></strong> to <a href='https://wandb.ai/thoomas/SF_030324_Covid_pos' target=\"_blank\">Weights & Biases</a> (<a href='https://wandb.me/run' target=\"_blank\">docs</a>)<br/>"
      ],
      "text/plain": [
       "<IPython.core.display.HTML object>"
      ]
     },
     "metadata": {},
     "output_type": "display_data"
    },
    {
     "data": {
      "text/html": [
       " View project at <a href='https://wandb.ai/thoomas/SF_030324_Covid_pos' target=\"_blank\">https://wandb.ai/thoomas/SF_030324_Covid_pos</a>"
      ],
      "text/plain": [
       "<IPython.core.display.HTML object>"
      ]
     },
     "metadata": {},
     "output_type": "display_data"
    },
    {
     "data": {
      "text/html": [
       " View run at <a href='https://wandb.ai/thoomas/SF_030324_Covid_pos/runs/a61xczp2' target=\"_blank\">https://wandb.ai/thoomas/SF_030324_Covid_pos/runs/a61xczp2</a>"
      ],
      "text/plain": [
       "<IPython.core.display.HTML object>"
      ]
     },
     "metadata": {},
     "output_type": "display_data"
    },
    {
     "name": "stderr",
     "output_type": "stream",
     "text": [
      "Global seed set to 42\n",
      "C:\\Users\\thu71\\AppData\\Roaming\\Python\\Python39\\site-packages\\lightning\\pytorch\\loggers\\wandb.py:395: UserWarning: There is a wandb run already in progress and newly created instances of `WandbLogger` will reuse this run. If this is not desired, call `wandb.finish()` before instantiating `WandbLogger`.\n",
      "  rank_zero_warn(\n",
      "GPU available: True (cuda), used: True\n",
      "TPU available: False, using: 0 TPU cores\n",
      "IPU available: False, using: 0 IPUs\n",
      "HPU available: False, using: 0 HPUs\n",
      "Global seed set to 42\n",
      "LOCAL_RANK: 0 - CUDA_VISIBLE_DEVICES: [0,1]\n",
      "\n",
      "   | Name        | Type             | Params\n",
      "--------------------------------------------------\n",
      "0  | model       | GAT              | 5.1 K \n",
      "1  | fnn_layer   | Linear           | 272   \n",
      "2  | selu        | SELU             | 0     \n",
      "3  | head        | Linear           | 34    \n",
      "4  | loss_module | CrossEntropyLoss | 0     \n",
      "5  | train_acc   | BinaryAccuracy   | 0     \n",
      "6  | train_auroc | BinaryAUROC      | 0     \n",
      "7  | train_f1    | BinaryF1Score    | 0     \n",
      "8  | valid_acc   | BinaryAccuracy   | 0     \n",
      "9  | valid_auroc | BinaryAUROC      | 0     \n",
      "10 | valid_f1    | BinaryF1Score    | 0     \n",
      "11 | test_acc    | BinaryAccuracy   | 0     \n",
      "12 | test_auroc  | BinaryAUROC      | 0     \n",
      "13 | test_f1     | BinaryF1Score    | 0     \n",
      "14 | pool        | Attention_module | 281   \n",
      "--------------------------------------------------\n",
      "5.7 K     Trainable params\n",
      "0         Non-trainable params\n",
      "5.7 K     Total params\n",
      "0.023     Total estimated model params size (MB)\n",
      "C:\\Users\\thu71\\AppData\\Roaming\\Python\\Python39\\site-packages\\lightning\\pytorch\\trainer\\connectors\\data_connector.py:478: PossibleUserWarning: Your `val_dataloader`'s sampler has shuffling enabled, it is strongly recommended that you turn shuffling off for val/test dataloaders.\n",
      "  rank_zero_warn(\n",
      "C:\\Users\\thu71\\AppData\\Roaming\\Python\\Python39\\site-packages\\lightning\\pytorch\\trainer\\connectors\\data_connector.py:430: PossibleUserWarning: The dataloader, val_dataloader, does not have many workers which may be a bottleneck. Consider increasing the value of the `num_workers` argument` (try 48 which is the number of cpus on this machine) in the `DataLoader` init to improve performance.\n",
      "  rank_zero_warn(\n",
      "C:\\Users\\thu71\\AppData\\Roaming\\Python\\Python39\\site-packages\\lightning\\pytorch\\trainer\\connectors\\data_connector.py:430: PossibleUserWarning: The dataloader, train_dataloader, does not have many workers which may be a bottleneck. Consider increasing the value of the `num_workers` argument` (try 48 which is the number of cpus on this machine) in the `DataLoader` init to improve performance.\n",
      "  rank_zero_warn(\n",
      "C:\\Users\\thu71\\AppData\\Roaming\\Python\\Python39\\site-packages\\lightning\\pytorch\\loops\\fit_loop.py:280: PossibleUserWarning: The number of training batches (4) is smaller than the logging interval Trainer(log_every_n_steps=10). Set a lower value for log_every_n_steps if you want to see logs for the training epoch.\n",
      "  rank_zero_warn(\n",
      "`Trainer.fit` stopped: `max_epochs=50` reached.\n",
      "LOCAL_RANK: 0 - CUDA_VISIBLE_DEVICES: [0,1]\n",
      "C:\\Users\\thu71\\AppData\\Roaming\\Python\\Python39\\site-packages\\lightning\\pytorch\\trainer\\connectors\\data_connector.py:478: PossibleUserWarning: Your `test_dataloader`'s sampler has shuffling enabled, it is strongly recommended that you turn shuffling off for val/test dataloaders.\n",
      "  rank_zero_warn(\n",
      "C:\\Users\\thu71\\AppData\\Roaming\\Python\\Python39\\site-packages\\lightning\\pytorch\\trainer\\connectors\\data_connector.py:430: PossibleUserWarning: The dataloader, test_dataloader, does not have many workers which may be a bottleneck. Consider increasing the value of the `num_workers` argument` (try 48 which is the number of cpus on this machine) in the `DataLoader` init to improve performance.\n",
      "  rank_zero_warn(\n"
     ]
    },
    {
     "name": "stdout",
     "output_type": "stream",
     "text": [
      "{'test_acc': tensor(0.8120), 'test_auc': tensor(0.8982), 'test_f1': tensor(0.8120)}\n"
     ]
    },
    {
     "data": {
      "text/html": [
       "Waiting for W&B process to finish... <strong style=\"color:green\">(success).</strong>"
      ],
      "text/plain": [
       "<IPython.core.display.HTML object>"
      ]
     },
     "metadata": {},
     "output_type": "display_data"
    },
    {
     "data": {
      "application/vnd.jupyter.widget-view+json": {
       "model_id": "b06d78d0b6f04d2fadaa1e68b75e3559",
       "version_major": 2,
       "version_minor": 0
      },
      "text/plain": [
       "VBox(children=(Label(value='0.001 MB of 0.001 MB uploaded (0.000 MB deduped)\\r'), FloatProgress(value=1.0, max…"
      ]
     },
     "metadata": {},
     "output_type": "display_data"
    },
    {
     "data": {
      "text/html": [
       "<style>\n",
       "    table.wandb td:nth-child(1) { padding: 0 10px; text-align: left ; width: auto;} td:nth-child(2) {text-align: left ; width: 100%}\n",
       "    .wandb-row { display: flex; flex-direction: row; flex-wrap: wrap; justify-content: flex-start; width: 100% }\n",
       "    .wandb-col { display: flex; flex-direction: column; flex-basis: 100%; flex: 1; padding: 10px; }\n",
       "    </style>\n",
       "<div class=\"wandb-row\"><div class=\"wandb-col\"><h3>Run history:</h3><br/><table class=\"wandb\"><tr><td>epoch</td><td>▁▁▁▂▂▂▂▂▂▃▃▃▃▃▄▄▄▄▄▄▅▅▅▅▅▅▆▆▆▆▆▆▇▇▇▇▇███</td></tr><tr><td>lr-Adam</td><td>▁▁▁▁▁▁▁▁▁▁▁▁▁▁▁▁▁▁▁▁▁▁▁▁▁▁▁▁▁▁▁▁▁▁▁▁▁▁▁▁</td></tr><tr><td>test_acc</td><td>▁</td></tr><tr><td>test_auc</td><td>▁</td></tr><tr><td>test_f1</td><td>▁</td></tr><tr><td>train_acc</td><td>▁▁▂▂▃▄▃▄▅▄▄▄▅▅▄▅▅▅▅▅▅▅▅▅▅▆▆▆▆▆▆▇▇▇▇▇▇█▇█</td></tr><tr><td>train_auc</td><td>▁▂▂▂▃▄▃▄▄▄▄▄▄▄▄▅▅▅▅▅▆▅▅▆▆▆▆▆▇▇▇▇▇▇██████</td></tr><tr><td>train_f1</td><td>▁▂▁▁▂▃▃▃▄▃▄▄▄▄▃▄▄▄▅▄▅▄▄▅▄▅▅▆▅▆▅▆▇▇▇▇▇█▇█</td></tr><tr><td>train_loss_epoch</td><td>█▇▇▇▆▅▆▅▄▅▅▄▄▄▅▄▄▄▄▄▄▄▄▄▄▃▃▃▃▃▃▂▂▂▂▂▁▁▂▁</td></tr><tr><td>train_loss_step</td><td>██▇▄▆▅▇▆▄▅▄▆▆▄▃▂▃▁▂▂</td></tr><tr><td>trainer/global_step</td><td>▁▁▁▂▁▁▂▂▁▃▃▃▂▃▄▄▂▄▄▂▂▅▅▂▅▅▆▂▆▆▆▂▇▇▇▃▇███</td></tr><tr><td>val_acc</td><td>▁▁▃▃▃▄▃▃▃▃▃▃▃▃▃▃▄▄▅▃▃▄▅▆▆▅▇▅█▇▆█▇█▆▅▆▆▅▇</td></tr><tr><td>val_auc</td><td>▁▂▂▂▃▃▃▃▄▄▄▄▄▄▄▄▅▅▅▅▅▅▅▅▅▅▆▆▇▇▇█████████</td></tr><tr><td>val_f1</td><td>▁▁▃▄▂▄▃▃▃▂▃▃▃▃▃▃▄▄▄▃▃▃▅▇▆▅▇▃▇▅▅▇▅█▃▂▃▃▁▆</td></tr><tr><td>val_loss_epoch</td><td>██▇▆▆▆▆▆▆▆▆▆▆▆▆▅▅▅▅▅▅▄▄▄▃▃▃▄▂▂▁▂▂▁▃▃▃▂▄▁</td></tr><tr><td>val_loss_step</td><td>██▇▆▆▆▆▆▆▆▆▆▆▆▆▅▅▅▅▅▅▄▄▄▃▃▃▄▂▂▁▂▂▁▃▃▃▂▄▁</td></tr></table><br/></div><div class=\"wandb-col\"><h3>Run summary:</h3><br/><table class=\"wandb\"><tr><td>epoch</td><td>50</td></tr><tr><td>lr-Adam</td><td>0.005</td></tr><tr><td>test_acc</td><td>0.81203</td></tr><tr><td>test_auc</td><td>0.8982</td></tr><tr><td>test_f1</td><td>0.81203</td></tr><tr><td>train_acc</td><td>0.93522</td></tr><tr><td>train_auc</td><td>0.97784</td></tr><tr><td>train_f1</td><td>0.94366</td></tr><tr><td>train_loss_epoch</td><td>0.38762</td></tr><tr><td>train_loss_step</td><td>0.39992</td></tr><tr><td>trainer/global_step</td><td>200</td></tr><tr><td>val_acc</td><td>0.80645</td></tr><tr><td>val_auc</td><td>0.93295</td></tr><tr><td>val_f1</td><td>0.83333</td></tr><tr><td>val_loss_epoch</td><td>0.49344</td></tr><tr><td>val_loss_step</td><td>0.49344</td></tr></table><br/></div></div>"
      ],
      "text/plain": [
       "<IPython.core.display.HTML object>"
      ]
     },
     "metadata": {},
     "output_type": "display_data"
    },
    {
     "data": {
      "text/html": [
       " View run <strong style=\"color:#cdcd00\">GAT_2_16_3</strong> at: <a href='https://wandb.ai/thoomas/SF_030324_Covid_pos/runs/a61xczp2' target=\"_blank\">https://wandb.ai/thoomas/SF_030324_Covid_pos/runs/a61xczp2</a><br/>Synced 6 W&B file(s), 0 media file(s), 0 artifact file(s) and 0 other file(s)"
      ],
      "text/plain": [
       "<IPython.core.display.HTML object>"
      ]
     },
     "metadata": {},
     "output_type": "display_data"
    },
    {
     "data": {
      "text/html": [
       "Find logs at: <code>.\\wandb\\run-20240303_212526-a61xczp2\\logs</code>"
      ],
      "text/plain": [
       "<IPython.core.display.HTML object>"
      ]
     },
     "metadata": {},
     "output_type": "display_data"
    },
    {
     "data": {
      "application/vnd.jupyter.widget-view+json": {
       "model_id": "e6feda358820494a8570118f5523da68",
       "version_major": 2,
       "version_minor": 0
      },
      "text/plain": [
       "VBox(children=(Label(value='Waiting for wandb.init()...\\r'), FloatProgress(value=0.016916666666899498, max=1.0…"
      ]
     },
     "metadata": {},
     "output_type": "display_data"
    },
    {
     "data": {
      "text/html": [
       "wandb version 0.16.3 is available!  To upgrade, please run:\n",
       " $ pip install wandb --upgrade"
      ],
      "text/plain": [
       "<IPython.core.display.HTML object>"
      ]
     },
     "metadata": {},
     "output_type": "display_data"
    },
    {
     "data": {
      "text/html": [
       "Tracking run with wandb version 0.14.0"
      ],
      "text/plain": [
       "<IPython.core.display.HTML object>"
      ]
     },
     "metadata": {},
     "output_type": "display_data"
    },
    {
     "data": {
      "text/html": [
       "Run data is saved locally in <code>y:\\coskun-lab\\Thomas\\11_snowflakes\\notebooks\\wandb\\run-20240303_213154-vrlutgkx</code>"
      ],
      "text/plain": [
       "<IPython.core.display.HTML object>"
      ]
     },
     "metadata": {},
     "output_type": "display_data"
    },
    {
     "data": {
      "text/html": [
       "Syncing run <strong><a href='https://wandb.ai/thoomas/SF_030324_Covid_pos/runs/vrlutgkx' target=\"_blank\">GINConv_2_16_3</a></strong> to <a href='https://wandb.ai/thoomas/SF_030324_Covid_pos' target=\"_blank\">Weights & Biases</a> (<a href='https://wandb.me/run' target=\"_blank\">docs</a>)<br/>"
      ],
      "text/plain": [
       "<IPython.core.display.HTML object>"
      ]
     },
     "metadata": {},
     "output_type": "display_data"
    },
    {
     "data": {
      "text/html": [
       " View project at <a href='https://wandb.ai/thoomas/SF_030324_Covid_pos' target=\"_blank\">https://wandb.ai/thoomas/SF_030324_Covid_pos</a>"
      ],
      "text/plain": [
       "<IPython.core.display.HTML object>"
      ]
     },
     "metadata": {},
     "output_type": "display_data"
    },
    {
     "data": {
      "text/html": [
       " View run at <a href='https://wandb.ai/thoomas/SF_030324_Covid_pos/runs/vrlutgkx' target=\"_blank\">https://wandb.ai/thoomas/SF_030324_Covid_pos/runs/vrlutgkx</a>"
      ],
      "text/plain": [
       "<IPython.core.display.HTML object>"
      ]
     },
     "metadata": {},
     "output_type": "display_data"
    },
    {
     "name": "stderr",
     "output_type": "stream",
     "text": [
      "Global seed set to 42\n",
      "C:\\Users\\thu71\\AppData\\Roaming\\Python\\Python39\\site-packages\\lightning\\pytorch\\loggers\\wandb.py:395: UserWarning: There is a wandb run already in progress and newly created instances of `WandbLogger` will reuse this run. If this is not desired, call `wandb.finish()` before instantiating `WandbLogger`.\n",
      "  rank_zero_warn(\n",
      "GPU available: True (cuda), used: True\n",
      "TPU available: False, using: 0 TPU cores\n",
      "IPU available: False, using: 0 IPUs\n",
      "HPU available: False, using: 0 HPUs\n",
      "Global seed set to 42\n",
      "LOCAL_RANK: 0 - CUDA_VISIBLE_DEVICES: [0,1]\n",
      "\n",
      "   | Name        | Type             | Params\n",
      "--------------------------------------------------\n",
      "0  | model       | GIN              | 1.0 K \n",
      "1  | fnn_layer   | Linear           | 272   \n",
      "2  | selu        | SELU             | 0     \n",
      "3  | head        | Linear           | 34    \n",
      "4  | loss_module | CrossEntropyLoss | 0     \n",
      "5  | train_acc   | BinaryAccuracy   | 0     \n",
      "6  | train_auroc | BinaryAUROC      | 0     \n",
      "7  | train_f1    | BinaryF1Score    | 0     \n",
      "8  | valid_acc   | BinaryAccuracy   | 0     \n",
      "9  | valid_auroc | BinaryAUROC      | 0     \n",
      "10 | valid_f1    | BinaryF1Score    | 0     \n",
      "11 | test_acc    | BinaryAccuracy   | 0     \n",
      "12 | test_auroc  | BinaryAUROC      | 0     \n",
      "13 | test_f1     | BinaryF1Score    | 0     \n",
      "14 | pool        | Attention_module | 281   \n",
      "--------------------------------------------------\n",
      "1.6 K     Trainable params\n",
      "0         Non-trainable params\n",
      "1.6 K     Total params\n",
      "0.006     Total estimated model params size (MB)\n",
      "C:\\Users\\thu71\\AppData\\Roaming\\Python\\Python39\\site-packages\\lightning\\pytorch\\trainer\\connectors\\data_connector.py:478: PossibleUserWarning: Your `val_dataloader`'s sampler has shuffling enabled, it is strongly recommended that you turn shuffling off for val/test dataloaders.\n",
      "  rank_zero_warn(\n",
      "C:\\Users\\thu71\\AppData\\Roaming\\Python\\Python39\\site-packages\\lightning\\pytorch\\trainer\\connectors\\data_connector.py:430: PossibleUserWarning: The dataloader, val_dataloader, does not have many workers which may be a bottleneck. Consider increasing the value of the `num_workers` argument` (try 48 which is the number of cpus on this machine) in the `DataLoader` init to improve performance.\n",
      "  rank_zero_warn(\n",
      "C:\\Users\\thu71\\AppData\\Roaming\\Python\\Python39\\site-packages\\lightning\\pytorch\\trainer\\connectors\\data_connector.py:430: PossibleUserWarning: The dataloader, train_dataloader, does not have many workers which may be a bottleneck. Consider increasing the value of the `num_workers` argument` (try 48 which is the number of cpus on this machine) in the `DataLoader` init to improve performance.\n",
      "  rank_zero_warn(\n",
      "C:\\Users\\thu71\\AppData\\Roaming\\Python\\Python39\\site-packages\\lightning\\pytorch\\loops\\fit_loop.py:280: PossibleUserWarning: The number of training batches (2) is smaller than the logging interval Trainer(log_every_n_steps=10). Set a lower value for log_every_n_steps if you want to see logs for the training epoch.\n",
      "  rank_zero_warn(\n",
      "`Trainer.fit` stopped: `max_epochs=50` reached.\n",
      "LOCAL_RANK: 0 - CUDA_VISIBLE_DEVICES: [0,1]\n",
      "C:\\Users\\thu71\\AppData\\Roaming\\Python\\Python39\\site-packages\\lightning\\pytorch\\trainer\\connectors\\data_connector.py:478: PossibleUserWarning: Your `test_dataloader`'s sampler has shuffling enabled, it is strongly recommended that you turn shuffling off for val/test dataloaders.\n",
      "  rank_zero_warn(\n",
      "C:\\Users\\thu71\\AppData\\Roaming\\Python\\Python39\\site-packages\\lightning\\pytorch\\trainer\\connectors\\data_connector.py:430: PossibleUserWarning: The dataloader, test_dataloader, does not have many workers which may be a bottleneck. Consider increasing the value of the `num_workers` argument` (try 48 which is the number of cpus on this machine) in the `DataLoader` init to improve performance.\n",
      "  rank_zero_warn(\n"
     ]
    },
    {
     "name": "stdout",
     "output_type": "stream",
     "text": [
      "{'test_acc': tensor(0.7744), 'test_auc': tensor(0.8426), 'test_f1': tensor(0.7917)}\n"
     ]
    },
    {
     "data": {
      "text/html": [
       "Waiting for W&B process to finish... <strong style=\"color:green\">(success).</strong>"
      ],
      "text/plain": [
       "<IPython.core.display.HTML object>"
      ]
     },
     "metadata": {},
     "output_type": "display_data"
    },
    {
     "data": {
      "application/vnd.jupyter.widget-view+json": {
       "model_id": "75784958d6364ae684dfe6dd8244e27e",
       "version_major": 2,
       "version_minor": 0
      },
      "text/plain": [
       "VBox(children=(Label(value='0.001 MB of 0.001 MB uploaded (0.000 MB deduped)\\r'), FloatProgress(value=1.0, max…"
      ]
     },
     "metadata": {},
     "output_type": "display_data"
    },
    {
     "data": {
      "text/html": [
       "<style>\n",
       "    table.wandb td:nth-child(1) { padding: 0 10px; text-align: left ; width: auto;} td:nth-child(2) {text-align: left ; width: 100%}\n",
       "    .wandb-row { display: flex; flex-direction: row; flex-wrap: wrap; justify-content: flex-start; width: 100% }\n",
       "    .wandb-col { display: flex; flex-direction: column; flex-basis: 100%; flex: 1; padding: 10px; }\n",
       "    </style>\n",
       "<div class=\"wandb-row\"><div class=\"wandb-col\"><h3>Run history:</h3><br/><table class=\"wandb\"><tr><td>epoch</td><td>▁▁▁▂▂▂▂▂▂▃▃▃▃▃▄▄▄▄▄▄▅▅▅▅▅▅▆▆▆▆▆▆▇▇▇▇▇███</td></tr><tr><td>lr-Adam</td><td>▁▁▁▁▁▁▁▁▁▁▁▁▁▁▁▁▁▁▁▁▁▁▁▁▁▁▁▁▁▁▁▁▁▁▁▁▁▁▁▁</td></tr><tr><td>test_acc</td><td>▁</td></tr><tr><td>test_auc</td><td>▁</td></tr><tr><td>test_f1</td><td>▁</td></tr><tr><td>train_acc</td><td>▁▄▃▃▅▆▆▆▆▆▆▇▆▇▇▇▇▇▇▇▇▇▇▇▇▇▇▇▇▇▇█▇▇▇█▇███</td></tr><tr><td>train_auc</td><td>▁▃▄▅▆▇▇▇▇▇▇▇▇▇▇▇▇▇██████████████████████</td></tr><tr><td>train_f1</td><td>▁▆▆▆▇▇▇▇▇▇▇▇▇▇▇▇▇▇▇██████████████▇██████</td></tr><tr><td>train_loss_epoch</td><td>█▇▇▆▅▅▄▄▃▃▃▃▃▃▂▃▂▂▂▂▂▂▂▂▂▂▂▂▂▂▂▁▁▂▁▁▂▁▁▁</td></tr><tr><td>train_loss_step</td><td>█▅▄▃▂▄▂▂▁▁</td></tr><tr><td>trainer/global_step</td><td>▁▁▁▂▂▂▂▂▂▃▃▃▃▃▄▂▂▄▃▄▅▅▅▃▅▅▃▆▆▆▆▄▇▄▄▇████</td></tr><tr><td>val_acc</td><td>▁▂▂▃▄▅▄▅▅▄▄▅▅▄▅▆▇▆▇▇▆▇▆▇▅▇▇█▇▆▇▇▇█▇▇▆▆▆█</td></tr><tr><td>val_auc</td><td>▁▂▁▂▅▅▆▆▆▆▆▆▇▇▇▇▇▇▇▇▇▇▇▇▇▇▇▇▇▇▇████▇▇▇▇█</td></tr><tr><td>val_f1</td><td>▁▄▃▄▃▄▄▅▅▄▄▅▅▄▅▅▆▆▆▇▆▆▅▆▄▆▇█▆▅▆▇▇▇▇▇▆▆▅█</td></tr><tr><td>val_loss_epoch</td><td>██▇▇▇▆▅▄▃▃▄▄▃▃▃▂▂▂▂▂▂▂▂▃▃▂▂▂▂▃▂▁▁▁▁▂▂▃▃▁</td></tr><tr><td>val_loss_step</td><td>██▇▇▇▆▅▄▃▃▄▄▃▃▃▂▂▂▂▂▂▂▂▃▃▂▂▂▂▃▂▁▁▁▁▂▂▃▃▁</td></tr></table><br/></div><div class=\"wandb-col\"><h3>Run summary:</h3><br/><table class=\"wandb\"><tr><td>epoch</td><td>50</td></tr><tr><td>lr-Adam</td><td>0.005</td></tr><tr><td>test_acc</td><td>0.77444</td></tr><tr><td>test_auc</td><td>0.84257</td></tr><tr><td>test_f1</td><td>0.79167</td></tr><tr><td>train_acc</td><td>0.92713</td></tr><tr><td>train_auc</td><td>0.9647</td></tr><tr><td>train_f1</td><td>0.93571</td></tr><tr><td>train_loss_epoch</td><td>0.38326</td></tr><tr><td>train_loss_step</td><td>0.38108</td></tr><tr><td>trainer/global_step</td><td>100</td></tr><tr><td>val_acc</td><td>0.87097</td></tr><tr><td>val_auc</td><td>0.90227</td></tr><tr><td>val_f1</td><td>0.9</td></tr><tr><td>val_loss_epoch</td><td>0.45429</td></tr><tr><td>val_loss_step</td><td>0.45429</td></tr></table><br/></div></div>"
      ],
      "text/plain": [
       "<IPython.core.display.HTML object>"
      ]
     },
     "metadata": {},
     "output_type": "display_data"
    },
    {
     "data": {
      "text/html": [
       " View run <strong style=\"color:#cdcd00\">GINConv_2_16_3</strong> at: <a href='https://wandb.ai/thoomas/SF_030324_Covid_pos/runs/vrlutgkx' target=\"_blank\">https://wandb.ai/thoomas/SF_030324_Covid_pos/runs/vrlutgkx</a><br/>Synced 6 W&B file(s), 0 media file(s), 0 artifact file(s) and 0 other file(s)"
      ],
      "text/plain": [
       "<IPython.core.display.HTML object>"
      ]
     },
     "metadata": {},
     "output_type": "display_data"
    },
    {
     "data": {
      "text/html": [
       "Find logs at: <code>.\\wandb\\run-20240303_213154-vrlutgkx\\logs</code>"
      ],
      "text/plain": [
       "<IPython.core.display.HTML object>"
      ]
     },
     "metadata": {},
     "output_type": "display_data"
    },
    {
     "data": {
      "application/vnd.jupyter.widget-view+json": {
       "model_id": "d242406de6fd4bf4a2bddb5612947bab",
       "version_major": 2,
       "version_minor": 0
      },
      "text/plain": [
       "VBox(children=(Label(value='Waiting for wandb.init()...\\r'), FloatProgress(value=0.016666666666666666, max=1.0…"
      ]
     },
     "metadata": {},
     "output_type": "display_data"
    },
    {
     "data": {
      "text/html": [
       "wandb version 0.16.3 is available!  To upgrade, please run:\n",
       " $ pip install wandb --upgrade"
      ],
      "text/plain": [
       "<IPython.core.display.HTML object>"
      ]
     },
     "metadata": {},
     "output_type": "display_data"
    },
    {
     "data": {
      "text/html": [
       "Tracking run with wandb version 0.14.0"
      ],
      "text/plain": [
       "<IPython.core.display.HTML object>"
      ]
     },
     "metadata": {},
     "output_type": "display_data"
    },
    {
     "data": {
      "text/html": [
       "Run data is saved locally in <code>y:\\coskun-lab\\Thomas\\11_snowflakes\\notebooks\\wandb\\run-20240303_213659-lvqn2zfe</code>"
      ],
      "text/plain": [
       "<IPython.core.display.HTML object>"
      ]
     },
     "metadata": {},
     "output_type": "display_data"
    },
    {
     "data": {
      "text/html": [
       "Syncing run <strong><a href='https://wandb.ai/thoomas/SF_030324_Covid_pos/runs/lvqn2zfe' target=\"_blank\">GAT_2_16_4</a></strong> to <a href='https://wandb.ai/thoomas/SF_030324_Covid_pos' target=\"_blank\">Weights & Biases</a> (<a href='https://wandb.me/run' target=\"_blank\">docs</a>)<br/>"
      ],
      "text/plain": [
       "<IPython.core.display.HTML object>"
      ]
     },
     "metadata": {},
     "output_type": "display_data"
    },
    {
     "data": {
      "text/html": [
       " View project at <a href='https://wandb.ai/thoomas/SF_030324_Covid_pos' target=\"_blank\">https://wandb.ai/thoomas/SF_030324_Covid_pos</a>"
      ],
      "text/plain": [
       "<IPython.core.display.HTML object>"
      ]
     },
     "metadata": {},
     "output_type": "display_data"
    },
    {
     "data": {
      "text/html": [
       " View run at <a href='https://wandb.ai/thoomas/SF_030324_Covid_pos/runs/lvqn2zfe' target=\"_blank\">https://wandb.ai/thoomas/SF_030324_Covid_pos/runs/lvqn2zfe</a>"
      ],
      "text/plain": [
       "<IPython.core.display.HTML object>"
      ]
     },
     "metadata": {},
     "output_type": "display_data"
    },
    {
     "name": "stderr",
     "output_type": "stream",
     "text": [
      "Global seed set to 42\n",
      "C:\\Users\\thu71\\AppData\\Roaming\\Python\\Python39\\site-packages\\lightning\\pytorch\\loggers\\wandb.py:395: UserWarning: There is a wandb run already in progress and newly created instances of `WandbLogger` will reuse this run. If this is not desired, call `wandb.finish()` before instantiating `WandbLogger`.\n",
      "  rank_zero_warn(\n",
      "GPU available: True (cuda), used: True\n",
      "TPU available: False, using: 0 TPU cores\n",
      "IPU available: False, using: 0 IPUs\n",
      "HPU available: False, using: 0 HPUs\n",
      "Global seed set to 42\n",
      "LOCAL_RANK: 0 - CUDA_VISIBLE_DEVICES: [0,1]\n",
      "\n",
      "   | Name        | Type             | Params\n",
      "--------------------------------------------------\n",
      "0  | model       | GAT              | 5.1 K \n",
      "1  | fnn_layer   | Linear           | 272   \n",
      "2  | selu        | SELU             | 0     \n",
      "3  | head        | Linear           | 34    \n",
      "4  | loss_module | CrossEntropyLoss | 0     \n",
      "5  | train_acc   | BinaryAccuracy   | 0     \n",
      "6  | train_auroc | BinaryAUROC      | 0     \n",
      "7  | train_f1    | BinaryF1Score    | 0     \n",
      "8  | valid_acc   | BinaryAccuracy   | 0     \n",
      "9  | valid_auroc | BinaryAUROC      | 0     \n",
      "10 | valid_f1    | BinaryF1Score    | 0     \n",
      "11 | test_acc    | BinaryAccuracy   | 0     \n",
      "12 | test_auroc  | BinaryAUROC      | 0     \n",
      "13 | test_f1     | BinaryF1Score    | 0     \n",
      "--------------------------------------------------\n",
      "5.4 K     Trainable params\n",
      "0         Non-trainable params\n",
      "5.4 K     Total params\n",
      "0.022     Total estimated model params size (MB)\n",
      "C:\\Users\\thu71\\AppData\\Roaming\\Python\\Python39\\site-packages\\lightning\\pytorch\\trainer\\connectors\\data_connector.py:478: PossibleUserWarning: Your `val_dataloader`'s sampler has shuffling enabled, it is strongly recommended that you turn shuffling off for val/test dataloaders.\n",
      "  rank_zero_warn(\n",
      "C:\\Users\\thu71\\AppData\\Roaming\\Python\\Python39\\site-packages\\lightning\\pytorch\\trainer\\connectors\\data_connector.py:430: PossibleUserWarning: The dataloader, val_dataloader, does not have many workers which may be a bottleneck. Consider increasing the value of the `num_workers` argument` (try 48 which is the number of cpus on this machine) in the `DataLoader` init to improve performance.\n",
      "  rank_zero_warn(\n",
      "C:\\Users\\thu71\\AppData\\Roaming\\Python\\Python39\\site-packages\\lightning\\pytorch\\trainer\\connectors\\data_connector.py:430: PossibleUserWarning: The dataloader, train_dataloader, does not have many workers which may be a bottleneck. Consider increasing the value of the `num_workers` argument` (try 48 which is the number of cpus on this machine) in the `DataLoader` init to improve performance.\n",
      "  rank_zero_warn(\n",
      "C:\\Users\\thu71\\AppData\\Roaming\\Python\\Python39\\site-packages\\lightning\\pytorch\\loops\\fit_loop.py:280: PossibleUserWarning: The number of training batches (4) is smaller than the logging interval Trainer(log_every_n_steps=10). Set a lower value for log_every_n_steps if you want to see logs for the training epoch.\n",
      "  rank_zero_warn(\n",
      "`Trainer.fit` stopped: `max_epochs=50` reached.\n",
      "LOCAL_RANK: 0 - CUDA_VISIBLE_DEVICES: [0,1]\n",
      "C:\\Users\\thu71\\AppData\\Roaming\\Python\\Python39\\site-packages\\lightning\\pytorch\\trainer\\connectors\\data_connector.py:478: PossibleUserWarning: Your `test_dataloader`'s sampler has shuffling enabled, it is strongly recommended that you turn shuffling off for val/test dataloaders.\n",
      "  rank_zero_warn(\n",
      "C:\\Users\\thu71\\AppData\\Roaming\\Python\\Python39\\site-packages\\lightning\\pytorch\\trainer\\connectors\\data_connector.py:430: PossibleUserWarning: The dataloader, test_dataloader, does not have many workers which may be a bottleneck. Consider increasing the value of the `num_workers` argument` (try 48 which is the number of cpus on this machine) in the `DataLoader` init to improve performance.\n",
      "  rank_zero_warn(\n"
     ]
    },
    {
     "name": "stdout",
     "output_type": "stream",
     "text": [
      "{'test_acc': tensor(0.7895), 'test_auc': tensor(0.9626), 'test_f1': tensor(0.7846)}\n"
     ]
    },
    {
     "data": {
      "text/html": [
       "Waiting for W&B process to finish... <strong style=\"color:green\">(success).</strong>"
      ],
      "text/plain": [
       "<IPython.core.display.HTML object>"
      ]
     },
     "metadata": {},
     "output_type": "display_data"
    },
    {
     "data": {
      "application/vnd.jupyter.widget-view+json": {
       "model_id": "e38e5f74207947a7b388fd393747f3b0",
       "version_major": 2,
       "version_minor": 0
      },
      "text/plain": [
       "VBox(children=(Label(value='0.001 MB of 0.001 MB uploaded (0.000 MB deduped)\\r'), FloatProgress(value=1.0, max…"
      ]
     },
     "metadata": {},
     "output_type": "display_data"
    },
    {
     "data": {
      "text/html": [
       "<style>\n",
       "    table.wandb td:nth-child(1) { padding: 0 10px; text-align: left ; width: auto;} td:nth-child(2) {text-align: left ; width: 100%}\n",
       "    .wandb-row { display: flex; flex-direction: row; flex-wrap: wrap; justify-content: flex-start; width: 100% }\n",
       "    .wandb-col { display: flex; flex-direction: column; flex-basis: 100%; flex: 1; padding: 10px; }\n",
       "    </style>\n",
       "<div class=\"wandb-row\"><div class=\"wandb-col\"><h3>Run history:</h3><br/><table class=\"wandb\"><tr><td>epoch</td><td>▁▁▁▂▂▂▂▂▂▃▃▃▃▃▄▄▄▄▄▄▅▅▅▅▅▅▆▆▆▆▆▆▇▇▇▇▇███</td></tr><tr><td>lr-Adam</td><td>▁▁▁▁▁▁▁▁▁▁▁▁▁▁▁▁▁▁▁▁▁▁▁▁▁▁▁▁▁▁▁▁▁▁▁▁▁▁▁▁</td></tr><tr><td>test_acc</td><td>▁</td></tr><tr><td>test_auc</td><td>▁</td></tr><tr><td>test_f1</td><td>▁</td></tr><tr><td>train_acc</td><td>▁▁▂▃▂▃▃▃▃▄▅▅▆▆▇▆▆▇▇█▇▇█▇▇▇▇▇█▇██▇▇██████</td></tr><tr><td>train_auc</td><td>▁▃▃▃▃▃▃▃▄▅▅▆▆▇▇▇▇██████████▇████▇███████</td></tr><tr><td>train_f1</td><td>▁▂▂▂▂▃▃▃▃▄▄▄▅▆▆▆▆▇▇█▇▇▇▆▇▇▇▆▇▇██▇▇██▇█▇█</td></tr><tr><td>train_loss_epoch</td><td>██▇▇▇▇▇▇▆▆▅▅▄▃▃▃▂▂▂▂▂▁▁▂▂▁▂▂▁▁▁▁▂▂▁▁▁▁▁▁</td></tr><tr><td>train_loss_step</td><td>▇█▇█▅█▄▂▂▂▂▃▂▁▁▃▁▄▁▁</td></tr><tr><td>trainer/global_step</td><td>▁▁▁▂▁▁▂▂▁▃▃▃▂▃▄▄▂▄▄▂▂▅▅▂▅▅▆▂▆▆▆▂▇▇▇▃▇███</td></tr><tr><td>val_acc</td><td>▁▁▄▅▄▅▅▆▆▆▆▇▆▆▆▆▇▇▇▇▇▇▆█▆▇▆▇▇█▆▇▆█▇▆█▆█▇</td></tr><tr><td>val_auc</td><td>▁▁▁▁▂▂▂▂▃▃▄▄▅▆▆▆▆▆▇▇▆▇▇▇▇▇▇███████▇▇▇▇██</td></tr><tr><td>val_f1</td><td>▅▅▆▆▇▇▇███▇█▄▄▃▄▄▄▄▅▄▆▃▇▂▅▂▅▆█▃▆▁█▄▃▇▃█▆</td></tr><tr><td>val_loss_epoch</td><td>██▇▇▇▆▆▆▅▅▄▃▃▃▄▃▃▃▃▂▃▂▃▁▃▂▄▂▃▁▃▂▄▁▃▃▂▃▁▁</td></tr><tr><td>val_loss_step</td><td>██▇▇▇▆▆▆▅▅▄▃▃▃▄▃▃▃▃▂▃▂▃▁▃▂▄▂▃▁▃▂▄▁▃▃▂▃▁▁</td></tr></table><br/></div><div class=\"wandb-col\"><h3>Run summary:</h3><br/><table class=\"wandb\"><tr><td>epoch</td><td>50</td></tr><tr><td>lr-Adam</td><td>0.005</td></tr><tr><td>test_acc</td><td>0.78947</td></tr><tr><td>test_auc</td><td>0.9626</td></tr><tr><td>test_f1</td><td>0.78462</td></tr><tr><td>train_acc</td><td>0.93117</td></tr><tr><td>train_auc</td><td>0.97871</td></tr><tr><td>train_f1</td><td>0.94389</td></tr><tr><td>train_loss_epoch</td><td>0.39168</td></tr><tr><td>train_loss_step</td><td>0.39296</td></tr><tr><td>trainer/global_step</td><td>200</td></tr><tr><td>val_acc</td><td>0.74194</td></tr><tr><td>val_auc</td><td>0.91327</td></tr><tr><td>val_f1</td><td>0.66667</td></tr><tr><td>val_loss_epoch</td><td>0.53902</td></tr><tr><td>val_loss_step</td><td>0.53902</td></tr></table><br/></div></div>"
      ],
      "text/plain": [
       "<IPython.core.display.HTML object>"
      ]
     },
     "metadata": {},
     "output_type": "display_data"
    },
    {
     "data": {
      "text/html": [
       " View run <strong style=\"color:#cdcd00\">GAT_2_16_4</strong> at: <a href='https://wandb.ai/thoomas/SF_030324_Covid_pos/runs/lvqn2zfe' target=\"_blank\">https://wandb.ai/thoomas/SF_030324_Covid_pos/runs/lvqn2zfe</a><br/>Synced 6 W&B file(s), 0 media file(s), 0 artifact file(s) and 0 other file(s)"
      ],
      "text/plain": [
       "<IPython.core.display.HTML object>"
      ]
     },
     "metadata": {},
     "output_type": "display_data"
    },
    {
     "data": {
      "text/html": [
       "Find logs at: <code>.\\wandb\\run-20240303_213659-lvqn2zfe\\logs</code>"
      ],
      "text/plain": [
       "<IPython.core.display.HTML object>"
      ]
     },
     "metadata": {},
     "output_type": "display_data"
    },
    {
     "data": {
      "application/vnd.jupyter.widget-view+json": {
       "model_id": "a78418fb39ec441895140cd7c6661ea6",
       "version_major": 2,
       "version_minor": 0
      },
      "text/plain": [
       "VBox(children=(Label(value='Waiting for wandb.init()...\\r'), FloatProgress(value=0.016666666666666666, max=1.0…"
      ]
     },
     "metadata": {},
     "output_type": "display_data"
    },
    {
     "data": {
      "text/html": [
       "wandb version 0.16.3 is available!  To upgrade, please run:\n",
       " $ pip install wandb --upgrade"
      ],
      "text/plain": [
       "<IPython.core.display.HTML object>"
      ]
     },
     "metadata": {},
     "output_type": "display_data"
    },
    {
     "data": {
      "text/html": [
       "Tracking run with wandb version 0.14.0"
      ],
      "text/plain": [
       "<IPython.core.display.HTML object>"
      ]
     },
     "metadata": {},
     "output_type": "display_data"
    },
    {
     "data": {
      "text/html": [
       "Run data is saved locally in <code>y:\\coskun-lab\\Thomas\\11_snowflakes\\notebooks\\wandb\\run-20240303_215645-35d1ebzx</code>"
      ],
      "text/plain": [
       "<IPython.core.display.HTML object>"
      ]
     },
     "metadata": {},
     "output_type": "display_data"
    },
    {
     "data": {
      "text/html": [
       "Syncing run <strong><a href='https://wandb.ai/thoomas/SF_030324_Covid_pos/runs/35d1ebzx' target=\"_blank\">GINConv_2_16_4</a></strong> to <a href='https://wandb.ai/thoomas/SF_030324_Covid_pos' target=\"_blank\">Weights & Biases</a> (<a href='https://wandb.me/run' target=\"_blank\">docs</a>)<br/>"
      ],
      "text/plain": [
       "<IPython.core.display.HTML object>"
      ]
     },
     "metadata": {},
     "output_type": "display_data"
    },
    {
     "data": {
      "text/html": [
       " View project at <a href='https://wandb.ai/thoomas/SF_030324_Covid_pos' target=\"_blank\">https://wandb.ai/thoomas/SF_030324_Covid_pos</a>"
      ],
      "text/plain": [
       "<IPython.core.display.HTML object>"
      ]
     },
     "metadata": {},
     "output_type": "display_data"
    },
    {
     "data": {
      "text/html": [
       " View run at <a href='https://wandb.ai/thoomas/SF_030324_Covid_pos/runs/35d1ebzx' target=\"_blank\">https://wandb.ai/thoomas/SF_030324_Covid_pos/runs/35d1ebzx</a>"
      ],
      "text/plain": [
       "<IPython.core.display.HTML object>"
      ]
     },
     "metadata": {},
     "output_type": "display_data"
    },
    {
     "name": "stderr",
     "output_type": "stream",
     "text": [
      "Global seed set to 42\n",
      "C:\\Users\\thu71\\AppData\\Roaming\\Python\\Python39\\site-packages\\lightning\\pytorch\\loggers\\wandb.py:395: UserWarning: There is a wandb run already in progress and newly created instances of `WandbLogger` will reuse this run. If this is not desired, call `wandb.finish()` before instantiating `WandbLogger`.\n",
      "  rank_zero_warn(\n",
      "GPU available: True (cuda), used: True\n",
      "TPU available: False, using: 0 TPU cores\n",
      "IPU available: False, using: 0 IPUs\n",
      "HPU available: False, using: 0 HPUs\n",
      "Global seed set to 42\n",
      "LOCAL_RANK: 0 - CUDA_VISIBLE_DEVICES: [0,1]\n",
      "\n",
      "   | Name        | Type             | Params\n",
      "--------------------------------------------------\n",
      "0  | model       | GIN              | 1.0 K \n",
      "1  | fnn_layer   | Linear           | 272   \n",
      "2  | selu        | SELU             | 0     \n",
      "3  | head        | Linear           | 34    \n",
      "4  | loss_module | CrossEntropyLoss | 0     \n",
      "5  | train_acc   | BinaryAccuracy   | 0     \n",
      "6  | train_auroc | BinaryAUROC      | 0     \n",
      "7  | train_f1    | BinaryF1Score    | 0     \n",
      "8  | valid_acc   | BinaryAccuracy   | 0     \n",
      "9  | valid_auroc | BinaryAUROC      | 0     \n",
      "10 | valid_f1    | BinaryF1Score    | 0     \n",
      "11 | test_acc    | BinaryAccuracy   | 0     \n",
      "12 | test_auroc  | BinaryAUROC      | 0     \n",
      "13 | test_f1     | BinaryF1Score    | 0     \n",
      "--------------------------------------------------\n",
      "1.3 K     Trainable params\n",
      "0         Non-trainable params\n",
      "1.3 K     Total params\n",
      "0.005     Total estimated model params size (MB)\n",
      "C:\\Users\\thu71\\AppData\\Roaming\\Python\\Python39\\site-packages\\lightning\\pytorch\\trainer\\connectors\\data_connector.py:478: PossibleUserWarning: Your `val_dataloader`'s sampler has shuffling enabled, it is strongly recommended that you turn shuffling off for val/test dataloaders.\n",
      "  rank_zero_warn(\n",
      "C:\\Users\\thu71\\AppData\\Roaming\\Python\\Python39\\site-packages\\lightning\\pytorch\\trainer\\connectors\\data_connector.py:430: PossibleUserWarning: The dataloader, val_dataloader, does not have many workers which may be a bottleneck. Consider increasing the value of the `num_workers` argument` (try 48 which is the number of cpus on this machine) in the `DataLoader` init to improve performance.\n",
      "  rank_zero_warn(\n",
      "C:\\Users\\thu71\\AppData\\Roaming\\Python\\Python39\\site-packages\\lightning\\pytorch\\trainer\\connectors\\data_connector.py:430: PossibleUserWarning: The dataloader, train_dataloader, does not have many workers which may be a bottleneck. Consider increasing the value of the `num_workers` argument` (try 48 which is the number of cpus on this machine) in the `DataLoader` init to improve performance.\n",
      "  rank_zero_warn(\n",
      "C:\\Users\\thu71\\AppData\\Roaming\\Python\\Python39\\site-packages\\lightning\\pytorch\\loops\\fit_loop.py:280: PossibleUserWarning: The number of training batches (2) is smaller than the logging interval Trainer(log_every_n_steps=10). Set a lower value for log_every_n_steps if you want to see logs for the training epoch.\n",
      "  rank_zero_warn(\n",
      "`Trainer.fit` stopped: `max_epochs=50` reached.\n",
      "LOCAL_RANK: 0 - CUDA_VISIBLE_DEVICES: [0,1]\n",
      "C:\\Users\\thu71\\AppData\\Roaming\\Python\\Python39\\site-packages\\lightning\\pytorch\\trainer\\connectors\\data_connector.py:478: PossibleUserWarning: Your `test_dataloader`'s sampler has shuffling enabled, it is strongly recommended that you turn shuffling off for val/test dataloaders.\n",
      "  rank_zero_warn(\n",
      "C:\\Users\\thu71\\AppData\\Roaming\\Python\\Python39\\site-packages\\lightning\\pytorch\\trainer\\connectors\\data_connector.py:430: PossibleUserWarning: The dataloader, test_dataloader, does not have many workers which may be a bottleneck. Consider increasing the value of the `num_workers` argument` (try 48 which is the number of cpus on this machine) in the `DataLoader` init to improve performance.\n",
      "  rank_zero_warn(\n"
     ]
    },
    {
     "name": "stdout",
     "output_type": "stream",
     "text": [
      "{'test_acc': tensor(0.8496), 'test_auc': tensor(0.9019), 'test_f1': tensor(0.8780)}\n"
     ]
    },
    {
     "data": {
      "text/html": [
       "Waiting for W&B process to finish... <strong style=\"color:green\">(success).</strong>"
      ],
      "text/plain": [
       "<IPython.core.display.HTML object>"
      ]
     },
     "metadata": {},
     "output_type": "display_data"
    },
    {
     "data": {
      "application/vnd.jupyter.widget-view+json": {
       "model_id": "0595baf31458479d808cae10895d1d2c",
       "version_major": 2,
       "version_minor": 0
      },
      "text/plain": [
       "VBox(children=(Label(value='0.001 MB of 0.001 MB uploaded (0.000 MB deduped)\\r'), FloatProgress(value=1.0, max…"
      ]
     },
     "metadata": {},
     "output_type": "display_data"
    },
    {
     "data": {
      "text/html": [
       "<style>\n",
       "    table.wandb td:nth-child(1) { padding: 0 10px; text-align: left ; width: auto;} td:nth-child(2) {text-align: left ; width: 100%}\n",
       "    .wandb-row { display: flex; flex-direction: row; flex-wrap: wrap; justify-content: flex-start; width: 100% }\n",
       "    .wandb-col { display: flex; flex-direction: column; flex-basis: 100%; flex: 1; padding: 10px; }\n",
       "    </style>\n",
       "<div class=\"wandb-row\"><div class=\"wandb-col\"><h3>Run history:</h3><br/><table class=\"wandb\"><tr><td>epoch</td><td>▁▁▁▂▂▂▂▂▂▃▃▃▃▃▄▄▄▄▄▄▅▅▅▅▅▅▆▆▆▆▆▆▇▇▇▇▇███</td></tr><tr><td>lr-Adam</td><td>▁▁▁▁▁▁▁▁▁▁▁▁▁▁▁▁▁▁▁▁▁▁▁▁▁▁▁▁▁▁▁▁▁▁▁▁▁▁▁▁</td></tr><tr><td>test_acc</td><td>▁</td></tr><tr><td>test_auc</td><td>▁</td></tr><tr><td>test_f1</td><td>▁</td></tr><tr><td>train_acc</td><td>▁▁▂▄▅▅▅▆▆▆▆▇▆▇▇▆▇▇▆▇▇▇▇▇██▇▇▇▇▇▇▇▇█▇████</td></tr><tr><td>train_auc</td><td>▁▃▄▅▆▇▆▇▇▇▇▇▇██▇▇███████████████████████</td></tr><tr><td>train_f1</td><td>▁▁▂▃▄▄▄▅▅▆▆▆▆▆▆▆▇▇▆▆▆▇▇▇▇▇▇▇▆▇▇▇▇▇▇▇▇███</td></tr><tr><td>train_loss_epoch</td><td>█▇▇▆▅▅▄▄▃▃▃▃▃▂▂▂▂▂▂▂▂▂▂▂▁▁▂▂▂▂▁▂▂▂▁▂▁▁▁▁</td></tr><tr><td>train_loss_step</td><td>█▄▄▃▄▃▁▄▂▂</td></tr><tr><td>trainer/global_step</td><td>▁▁▁▂▂▂▂▂▂▃▃▃▃▃▄▂▂▄▃▄▅▅▅▃▅▅▃▆▆▆▆▄▇▄▄▇████</td></tr><tr><td>val_acc</td><td>▁▁▅▆▂▃▃▃▄▄▅▅▆▇▇█▇▇▇▇▇▇▇██▇▇▇██▆▇▆███▇▇██</td></tr><tr><td>val_auc</td><td>▁▃▄▆▆▅▅▆▆▆▇▇▇▇▇▇▆▇▇▇▅▅▇▇▇▅▅▆▆▆▅▅▆▇██▆▆▆▇</td></tr><tr><td>val_f1</td><td>▁▁▅▆▂▃▃▃▄▄▅▅▆▇▇█▆▅▅▅▆▆▅▇▇▅▅▅▇▇▅▆▆█▇█▆▆█▇</td></tr><tr><td>val_loss_epoch</td><td>█▇▆▆▇▆▆▆▆▅▄▄▃▂▂▂▃▂▂▂▃▂▂▂▂▂▃▃▂▂▂▃▃▂▁▁▂▂▂▂</td></tr><tr><td>val_loss_step</td><td>█▇▆▆▇▆▆▆▆▅▄▄▃▂▂▂▃▂▂▂▃▂▂▂▂▂▃▃▂▂▂▃▃▂▁▁▂▂▂▂</td></tr></table><br/></div><div class=\"wandb-col\"><h3>Run summary:</h3><br/><table class=\"wandb\"><tr><td>epoch</td><td>50</td></tr><tr><td>lr-Adam</td><td>0.005</td></tr><tr><td>test_acc</td><td>0.84962</td></tr><tr><td>test_auc</td><td>0.90189</td></tr><tr><td>test_f1</td><td>0.87805</td></tr><tr><td>train_acc</td><td>0.91498</td></tr><tr><td>train_auc</td><td>0.93759</td></tr><tr><td>train_f1</td><td>0.92977</td></tr><tr><td>train_loss_epoch</td><td>0.40291</td></tr><tr><td>train_loss_step</td><td>0.41909</td></tr><tr><td>trainer/global_step</td><td>100</td></tr><tr><td>val_acc</td><td>0.79032</td></tr><tr><td>val_auc</td><td>0.82759</td></tr><tr><td>val_f1</td><td>0.79365</td></tr><tr><td>val_loss_epoch</td><td>0.5241</td></tr><tr><td>val_loss_step</td><td>0.5241</td></tr></table><br/></div></div>"
      ],
      "text/plain": [
       "<IPython.core.display.HTML object>"
      ]
     },
     "metadata": {},
     "output_type": "display_data"
    },
    {
     "data": {
      "text/html": [
       " View run <strong style=\"color:#cdcd00\">GINConv_2_16_4</strong> at: <a href='https://wandb.ai/thoomas/SF_030324_Covid_pos/runs/35d1ebzx' target=\"_blank\">https://wandb.ai/thoomas/SF_030324_Covid_pos/runs/35d1ebzx</a><br/>Synced 6 W&B file(s), 0 media file(s), 0 artifact file(s) and 0 other file(s)"
      ],
      "text/plain": [
       "<IPython.core.display.HTML object>"
      ]
     },
     "metadata": {},
     "output_type": "display_data"
    },
    {
     "data": {
      "text/html": [
       "Find logs at: <code>.\\wandb\\run-20240303_215645-35d1ebzx\\logs</code>"
      ],
      "text/plain": [
       "<IPython.core.display.HTML object>"
      ]
     },
     "metadata": {},
     "output_type": "display_data"
    },
    {
     "data": {
      "application/vnd.jupyter.widget-view+json": {
       "model_id": "7ff5fdfd9dd54b1d934a07651caf2bca",
       "version_major": 2,
       "version_minor": 0
      },
      "text/plain": [
       "VBox(children=(Label(value='Waiting for wandb.init()...\\r'), FloatProgress(value=0.016666666666666666, max=1.0…"
      ]
     },
     "metadata": {},
     "output_type": "display_data"
    },
    {
     "data": {
      "text/html": [
       "wandb version 0.16.3 is available!  To upgrade, please run:\n",
       " $ pip install wandb --upgrade"
      ],
      "text/plain": [
       "<IPython.core.display.HTML object>"
      ]
     },
     "metadata": {},
     "output_type": "display_data"
    },
    {
     "data": {
      "text/html": [
       "Tracking run with wandb version 0.14.0"
      ],
      "text/plain": [
       "<IPython.core.display.HTML object>"
      ]
     },
     "metadata": {},
     "output_type": "display_data"
    },
    {
     "data": {
      "text/html": [
       "Run data is saved locally in <code>y:\\coskun-lab\\Thomas\\11_snowflakes\\notebooks\\wandb\\run-20240303_220153-30ez1pjt</code>"
      ],
      "text/plain": [
       "<IPython.core.display.HTML object>"
      ]
     },
     "metadata": {},
     "output_type": "display_data"
    },
    {
     "data": {
      "text/html": [
       "Syncing run <strong><a href='https://wandb.ai/thoomas/SF_030324_Covid_pos/runs/30ez1pjt' target=\"_blank\">GAT_2_16_4</a></strong> to <a href='https://wandb.ai/thoomas/SF_030324_Covid_pos' target=\"_blank\">Weights & Biases</a> (<a href='https://wandb.me/run' target=\"_blank\">docs</a>)<br/>"
      ],
      "text/plain": [
       "<IPython.core.display.HTML object>"
      ]
     },
     "metadata": {},
     "output_type": "display_data"
    },
    {
     "data": {
      "text/html": [
       " View project at <a href='https://wandb.ai/thoomas/SF_030324_Covid_pos' target=\"_blank\">https://wandb.ai/thoomas/SF_030324_Covid_pos</a>"
      ],
      "text/plain": [
       "<IPython.core.display.HTML object>"
      ]
     },
     "metadata": {},
     "output_type": "display_data"
    },
    {
     "data": {
      "text/html": [
       " View run at <a href='https://wandb.ai/thoomas/SF_030324_Covid_pos/runs/30ez1pjt' target=\"_blank\">https://wandb.ai/thoomas/SF_030324_Covid_pos/runs/30ez1pjt</a>"
      ],
      "text/plain": [
       "<IPython.core.display.HTML object>"
      ]
     },
     "metadata": {},
     "output_type": "display_data"
    },
    {
     "name": "stderr",
     "output_type": "stream",
     "text": [
      "Global seed set to 42\n",
      "C:\\Users\\thu71\\AppData\\Roaming\\Python\\Python39\\site-packages\\lightning\\pytorch\\loggers\\wandb.py:395: UserWarning: There is a wandb run already in progress and newly created instances of `WandbLogger` will reuse this run. If this is not desired, call `wandb.finish()` before instantiating `WandbLogger`.\n",
      "  rank_zero_warn(\n",
      "GPU available: True (cuda), used: True\n",
      "TPU available: False, using: 0 TPU cores\n",
      "IPU available: False, using: 0 IPUs\n",
      "HPU available: False, using: 0 HPUs\n",
      "Global seed set to 42\n",
      "LOCAL_RANK: 0 - CUDA_VISIBLE_DEVICES: [0,1]\n",
      "\n",
      "   | Name        | Type             | Params\n",
      "--------------------------------------------------\n",
      "0  | model       | GAT              | 5.1 K \n",
      "1  | fnn_layer   | Linear           | 272   \n",
      "2  | selu        | SELU             | 0     \n",
      "3  | head        | Linear           | 34    \n",
      "4  | loss_module | CrossEntropyLoss | 0     \n",
      "5  | train_acc   | BinaryAccuracy   | 0     \n",
      "6  | train_auroc | BinaryAUROC      | 0     \n",
      "7  | train_f1    | BinaryF1Score    | 0     \n",
      "8  | valid_acc   | BinaryAccuracy   | 0     \n",
      "9  | valid_auroc | BinaryAUROC      | 0     \n",
      "10 | valid_f1    | BinaryF1Score    | 0     \n",
      "11 | test_acc    | BinaryAccuracy   | 0     \n",
      "12 | test_auroc  | BinaryAUROC      | 0     \n",
      "13 | test_f1     | BinaryF1Score    | 0     \n",
      "--------------------------------------------------\n",
      "5.4 K     Trainable params\n",
      "0         Non-trainable params\n",
      "5.4 K     Total params\n",
      "0.022     Total estimated model params size (MB)\n",
      "C:\\Users\\thu71\\AppData\\Roaming\\Python\\Python39\\site-packages\\lightning\\pytorch\\trainer\\connectors\\data_connector.py:478: PossibleUserWarning: Your `val_dataloader`'s sampler has shuffling enabled, it is strongly recommended that you turn shuffling off for val/test dataloaders.\n",
      "  rank_zero_warn(\n",
      "C:\\Users\\thu71\\AppData\\Roaming\\Python\\Python39\\site-packages\\lightning\\pytorch\\trainer\\connectors\\data_connector.py:430: PossibleUserWarning: The dataloader, val_dataloader, does not have many workers which may be a bottleneck. Consider increasing the value of the `num_workers` argument` (try 48 which is the number of cpus on this machine) in the `DataLoader` init to improve performance.\n",
      "  rank_zero_warn(\n",
      "C:\\Users\\thu71\\AppData\\Roaming\\Python\\Python39\\site-packages\\lightning\\pytorch\\trainer\\connectors\\data_connector.py:430: PossibleUserWarning: The dataloader, train_dataloader, does not have many workers which may be a bottleneck. Consider increasing the value of the `num_workers` argument` (try 48 which is the number of cpus on this machine) in the `DataLoader` init to improve performance.\n",
      "  rank_zero_warn(\n",
      "C:\\Users\\thu71\\AppData\\Roaming\\Python\\Python39\\site-packages\\lightning\\pytorch\\loops\\fit_loop.py:280: PossibleUserWarning: The number of training batches (4) is smaller than the logging interval Trainer(log_every_n_steps=10). Set a lower value for log_every_n_steps if you want to see logs for the training epoch.\n",
      "  rank_zero_warn(\n",
      "`Trainer.fit` stopped: `max_epochs=50` reached.\n",
      "LOCAL_RANK: 0 - CUDA_VISIBLE_DEVICES: [0,1]\n",
      "C:\\Users\\thu71\\AppData\\Roaming\\Python\\Python39\\site-packages\\lightning\\pytorch\\trainer\\connectors\\data_connector.py:478: PossibleUserWarning: Your `test_dataloader`'s sampler has shuffling enabled, it is strongly recommended that you turn shuffling off for val/test dataloaders.\n",
      "  rank_zero_warn(\n",
      "C:\\Users\\thu71\\AppData\\Roaming\\Python\\Python39\\site-packages\\lightning\\pytorch\\trainer\\connectors\\data_connector.py:430: PossibleUserWarning: The dataloader, test_dataloader, does not have many workers which may be a bottleneck. Consider increasing the value of the `num_workers` argument` (try 48 which is the number of cpus on this machine) in the `DataLoader` init to improve performance.\n",
      "  rank_zero_warn(\n"
     ]
    },
    {
     "name": "stdout",
     "output_type": "stream",
     "text": [
      "{'test_acc': tensor(0.4962), 'test_auc': tensor(0.8710), 'test_f1': tensor(0.2118)}\n"
     ]
    },
    {
     "data": {
      "text/html": [
       "Waiting for W&B process to finish... <strong style=\"color:green\">(success).</strong>"
      ],
      "text/plain": [
       "<IPython.core.display.HTML object>"
      ]
     },
     "metadata": {},
     "output_type": "display_data"
    },
    {
     "data": {
      "text/html": [
       "<style>\n",
       "    table.wandb td:nth-child(1) { padding: 0 10px; text-align: left ; width: auto;} td:nth-child(2) {text-align: left ; width: 100%}\n",
       "    .wandb-row { display: flex; flex-direction: row; flex-wrap: wrap; justify-content: flex-start; width: 100% }\n",
       "    .wandb-col { display: flex; flex-direction: column; flex-basis: 100%; flex: 1; padding: 10px; }\n",
       "    </style>\n",
       "<div class=\"wandb-row\"><div class=\"wandb-col\"><h3>Run history:</h3><br/><table class=\"wandb\"><tr><td>epoch</td><td>▁▁▁▂▂▂▂▂▂▃▃▃▃▃▄▄▄▄▄▄▅▅▅▅▅▅▆▆▆▆▆▆▇▇▇▇▇███</td></tr><tr><td>lr-Adam</td><td>▁▁▁▁▁▁▁▁▁▁▁▁▁▁▁▁▁▁▁▁▁▁▁▁▁▁▁▁▁▁▁▁▁▁▁▁▁▁▁▁</td></tr><tr><td>test_acc</td><td>▁</td></tr><tr><td>test_auc</td><td>▁</td></tr><tr><td>test_f1</td><td>▁</td></tr><tr><td>train_acc</td><td>▁▂▃▄▃▄▅▄▅▅▅▅▅▅▆▅▆▆▆▆▆▇▆▆▇▇▆▆▇▇▇▇▇▇██▇█▇█</td></tr><tr><td>train_auc</td><td>▁▃▄▅▅▅▆▆▆▆▆▆▆▇▇▇▇▇▇▇▇▇▇▇██▇▇█▇██████████</td></tr><tr><td>train_f1</td><td>▁▃▃▄▃▃▄▄▅▅▅▅▅▅▅▅▆▆▅▆▆▆▆▅▆▆▆▆▆▇▇▇▇▇██▇▇▇█</td></tr><tr><td>train_loss_epoch</td><td>█▇▇▇▆▆▅▅▅▅▄▄▄▄▄▄▄▃▃▃▃▃▃▃▂▂▃▃▂▂▂▂▂▂▁▁▁▁▁▁</td></tr><tr><td>train_loss_step</td><td>██▇▆▄▇▅▄▅▄▃▅▆▃▃▃▁▃▃▃</td></tr><tr><td>trainer/global_step</td><td>▁▁▁▂▁▁▂▂▁▃▃▃▂▃▄▄▂▄▄▂▂▅▅▂▅▅▆▂▆▆▆▂▇▇▇▃▇███</td></tr><tr><td>val_acc</td><td>▁▁▇▆▇▇█▇█████▆█▆▆▆▇▆▆▇▅▅▅▇▇▅▆▆▅▆▅▆▅▅▅▅▅▅</td></tr><tr><td>val_auc</td><td>▁▄▅▅▅▅▅▅▆▆▆▆▆▆▇▆▇▆▇▇▇▇▇▇▇█▇▇██████▇███▇▇</td></tr><tr><td>val_f1</td><td>▇▇██▇▇█▇█▇▇▆▆▄▆▃▄▃▄▃▄▄▂▂▂▅▄▂▃▃▂▃▂▅▁▂▁▃▃▂</td></tr><tr><td>val_loss_epoch</td><td>█▇▆▅▄▃▃▃▂▁▁▁▁▂▁▃▂▅▁▃▂▂▄▃▅▁▂▆▂▂▃▃▃▁▆▄▅▃▄▅</td></tr><tr><td>val_loss_step</td><td>█▇▆▅▄▃▃▃▂▁▁▁▁▂▁▃▂▅▁▃▂▂▄▃▅▁▂▆▂▂▃▃▃▁▆▄▅▃▄▅</td></tr></table><br/></div><div class=\"wandb-col\"><h3>Run summary:</h3><br/><table class=\"wandb\"><tr><td>epoch</td><td>50</td></tr><tr><td>lr-Adam</td><td>0.005</td></tr><tr><td>test_acc</td><td>0.49624</td></tr><tr><td>test_auc</td><td>0.87096</td></tr><tr><td>test_f1</td><td>0.21176</td></tr><tr><td>train_acc</td><td>0.91498</td></tr><tr><td>train_auc</td><td>0.96369</td></tr><tr><td>train_f1</td><td>0.93023</td></tr><tr><td>train_loss_epoch</td><td>0.40792</td></tr><tr><td>train_loss_step</td><td>0.458</td></tr><tr><td>trainer/global_step</td><td>200</td></tr><tr><td>val_acc</td><td>0.6129</td></tr><tr><td>val_auc</td><td>0.86102</td></tr><tr><td>val_f1</td><td>0.29412</td></tr><tr><td>val_loss_epoch</td><td>0.65658</td></tr><tr><td>val_loss_step</td><td>0.65658</td></tr></table><br/></div></div>"
      ],
      "text/plain": [
       "<IPython.core.display.HTML object>"
      ]
     },
     "metadata": {},
     "output_type": "display_data"
    },
    {
     "data": {
      "text/html": [
       " View run <strong style=\"color:#cdcd00\">GAT_2_16_4</strong> at: <a href='https://wandb.ai/thoomas/SF_030324_Covid_pos/runs/30ez1pjt' target=\"_blank\">https://wandb.ai/thoomas/SF_030324_Covid_pos/runs/30ez1pjt</a><br/>Synced 6 W&B file(s), 0 media file(s), 0 artifact file(s) and 0 other file(s)"
      ],
      "text/plain": [
       "<IPython.core.display.HTML object>"
      ]
     },
     "metadata": {},
     "output_type": "display_data"
    },
    {
     "data": {
      "text/html": [
       "Find logs at: <code>.\\wandb\\run-20240303_220153-30ez1pjt\\logs</code>"
      ],
      "text/plain": [
       "<IPython.core.display.HTML object>"
      ]
     },
     "metadata": {},
     "output_type": "display_data"
    },
    {
     "data": {
      "application/vnd.jupyter.widget-view+json": {
       "model_id": "a3d76ed26ad842a58a55e170db9bce26",
       "version_major": 2,
       "version_minor": 0
      },
      "text/plain": [
       "VBox(children=(Label(value='Waiting for wandb.init()...\\r'), FloatProgress(value=0.016666666666666666, max=1.0…"
      ]
     },
     "metadata": {},
     "output_type": "display_data"
    },
    {
     "data": {
      "text/html": [
       "wandb version 0.16.3 is available!  To upgrade, please run:\n",
       " $ pip install wandb --upgrade"
      ],
      "text/plain": [
       "<IPython.core.display.HTML object>"
      ]
     },
     "metadata": {},
     "output_type": "display_data"
    },
    {
     "data": {
      "text/html": [
       "Tracking run with wandb version 0.14.0"
      ],
      "text/plain": [
       "<IPython.core.display.HTML object>"
      ]
     },
     "metadata": {},
     "output_type": "display_data"
    },
    {
     "data": {
      "text/html": [
       "Run data is saved locally in <code>y:\\coskun-lab\\Thomas\\11_snowflakes\\notebooks\\wandb\\run-20240304_044835-i2xkjka6</code>"
      ],
      "text/plain": [
       "<IPython.core.display.HTML object>"
      ]
     },
     "metadata": {},
     "output_type": "display_data"
    },
    {
     "data": {
      "text/html": [
       "Syncing run <strong><a href='https://wandb.ai/thoomas/SF_030324_Covid_pos/runs/i2xkjka6' target=\"_blank\">GINConv_2_16_4</a></strong> to <a href='https://wandb.ai/thoomas/SF_030324_Covid_pos' target=\"_blank\">Weights & Biases</a> (<a href='https://wandb.me/run' target=\"_blank\">docs</a>)<br/>"
      ],
      "text/plain": [
       "<IPython.core.display.HTML object>"
      ]
     },
     "metadata": {},
     "output_type": "display_data"
    },
    {
     "data": {
      "text/html": [
       " View project at <a href='https://wandb.ai/thoomas/SF_030324_Covid_pos' target=\"_blank\">https://wandb.ai/thoomas/SF_030324_Covid_pos</a>"
      ],
      "text/plain": [
       "<IPython.core.display.HTML object>"
      ]
     },
     "metadata": {},
     "output_type": "display_data"
    },
    {
     "data": {
      "text/html": [
       " View run at <a href='https://wandb.ai/thoomas/SF_030324_Covid_pos/runs/i2xkjka6' target=\"_blank\">https://wandb.ai/thoomas/SF_030324_Covid_pos/runs/i2xkjka6</a>"
      ],
      "text/plain": [
       "<IPython.core.display.HTML object>"
      ]
     },
     "metadata": {},
     "output_type": "display_data"
    },
    {
     "name": "stderr",
     "output_type": "stream",
     "text": [
      "Global seed set to 42\n",
      "C:\\Users\\thu71\\AppData\\Roaming\\Python\\Python39\\site-packages\\lightning\\pytorch\\loggers\\wandb.py:395: UserWarning: There is a wandb run already in progress and newly created instances of `WandbLogger` will reuse this run. If this is not desired, call `wandb.finish()` before instantiating `WandbLogger`.\n",
      "  rank_zero_warn(\n",
      "GPU available: True (cuda), used: True\n",
      "TPU available: False, using: 0 TPU cores\n",
      "IPU available: False, using: 0 IPUs\n",
      "HPU available: False, using: 0 HPUs\n",
      "Global seed set to 42\n",
      "LOCAL_RANK: 0 - CUDA_VISIBLE_DEVICES: [0,1]\n",
      "\n",
      "   | Name        | Type             | Params\n",
      "--------------------------------------------------\n",
      "0  | model       | GIN              | 1.0 K \n",
      "1  | fnn_layer   | Linear           | 272   \n",
      "2  | selu        | SELU             | 0     \n",
      "3  | head        | Linear           | 34    \n",
      "4  | loss_module | CrossEntropyLoss | 0     \n",
      "5  | train_acc   | BinaryAccuracy   | 0     \n",
      "6  | train_auroc | BinaryAUROC      | 0     \n",
      "7  | train_f1    | BinaryF1Score    | 0     \n",
      "8  | valid_acc   | BinaryAccuracy   | 0     \n",
      "9  | valid_auroc | BinaryAUROC      | 0     \n",
      "10 | valid_f1    | BinaryF1Score    | 0     \n",
      "11 | test_acc    | BinaryAccuracy   | 0     \n",
      "12 | test_auroc  | BinaryAUROC      | 0     \n",
      "13 | test_f1     | BinaryF1Score    | 0     \n",
      "--------------------------------------------------\n",
      "1.3 K     Trainable params\n",
      "0         Non-trainable params\n",
      "1.3 K     Total params\n",
      "0.005     Total estimated model params size (MB)\n",
      "C:\\Users\\thu71\\AppData\\Roaming\\Python\\Python39\\site-packages\\lightning\\pytorch\\trainer\\connectors\\data_connector.py:478: PossibleUserWarning: Your `val_dataloader`'s sampler has shuffling enabled, it is strongly recommended that you turn shuffling off for val/test dataloaders.\n",
      "  rank_zero_warn(\n",
      "C:\\Users\\thu71\\AppData\\Roaming\\Python\\Python39\\site-packages\\lightning\\pytorch\\trainer\\connectors\\data_connector.py:430: PossibleUserWarning: The dataloader, val_dataloader, does not have many workers which may be a bottleneck. Consider increasing the value of the `num_workers` argument` (try 48 which is the number of cpus on this machine) in the `DataLoader` init to improve performance.\n",
      "  rank_zero_warn(\n",
      "C:\\Users\\thu71\\AppData\\Roaming\\Python\\Python39\\site-packages\\lightning\\pytorch\\trainer\\connectors\\data_connector.py:430: PossibleUserWarning: The dataloader, train_dataloader, does not have many workers which may be a bottleneck. Consider increasing the value of the `num_workers` argument` (try 48 which is the number of cpus on this machine) in the `DataLoader` init to improve performance.\n",
      "  rank_zero_warn(\n",
      "C:\\Users\\thu71\\AppData\\Roaming\\Python\\Python39\\site-packages\\lightning\\pytorch\\loops\\fit_loop.py:280: PossibleUserWarning: The number of training batches (2) is smaller than the logging interval Trainer(log_every_n_steps=10). Set a lower value for log_every_n_steps if you want to see logs for the training epoch.\n",
      "  rank_zero_warn(\n",
      "`Trainer.fit` stopped: `max_epochs=50` reached.\n",
      "LOCAL_RANK: 0 - CUDA_VISIBLE_DEVICES: [0,1]\n",
      "C:\\Users\\thu71\\AppData\\Roaming\\Python\\Python39\\site-packages\\lightning\\pytorch\\trainer\\connectors\\data_connector.py:478: PossibleUserWarning: Your `test_dataloader`'s sampler has shuffling enabled, it is strongly recommended that you turn shuffling off for val/test dataloaders.\n",
      "  rank_zero_warn(\n",
      "C:\\Users\\thu71\\AppData\\Roaming\\Python\\Python39\\site-packages\\lightning\\pytorch\\trainer\\connectors\\data_connector.py:430: PossibleUserWarning: The dataloader, test_dataloader, does not have many workers which may be a bottleneck. Consider increasing the value of the `num_workers` argument` (try 48 which is the number of cpus on this machine) in the `DataLoader` init to improve performance.\n",
      "  rank_zero_warn(\n"
     ]
    },
    {
     "name": "stdout",
     "output_type": "stream",
     "text": [
      "{'test_acc': tensor(0.8271), 'test_auc': tensor(0.8929), 'test_f1': tensor(0.8456)}\n"
     ]
    },
    {
     "data": {
      "text/html": [
       "Waiting for W&B process to finish... <strong style=\"color:green\">(success).</strong>"
      ],
      "text/plain": [
       "<IPython.core.display.HTML object>"
      ]
     },
     "metadata": {},
     "output_type": "display_data"
    },
    {
     "data": {
      "application/vnd.jupyter.widget-view+json": {
       "model_id": "fbaf894a2d0847ad8c6389fa40e9b822",
       "version_major": 2,
       "version_minor": 0
      },
      "text/plain": [
       "VBox(children=(Label(value='0.001 MB of 0.001 MB uploaded (0.000 MB deduped)\\r'), FloatProgress(value=1.0, max…"
      ]
     },
     "metadata": {},
     "output_type": "display_data"
    },
    {
     "data": {
      "text/html": [
       "<style>\n",
       "    table.wandb td:nth-child(1) { padding: 0 10px; text-align: left ; width: auto;} td:nth-child(2) {text-align: left ; width: 100%}\n",
       "    .wandb-row { display: flex; flex-direction: row; flex-wrap: wrap; justify-content: flex-start; width: 100% }\n",
       "    .wandb-col { display: flex; flex-direction: column; flex-basis: 100%; flex: 1; padding: 10px; }\n",
       "    </style>\n",
       "<div class=\"wandb-row\"><div class=\"wandb-col\"><h3>Run history:</h3><br/><table class=\"wandb\"><tr><td>epoch</td><td>▁▁▁▂▂▂▂▂▂▃▃▃▃▃▄▄▄▄▄▄▅▅▅▅▅▅▆▆▆▆▆▆▇▇▇▇▇███</td></tr><tr><td>lr-Adam</td><td>▁▁▁▁▁▁▁▁▁▁▁▁▁▁▁▁▁▁▁▁▁▁▁▁▁▁▁▁▁▁▁▁▁▁▁▁▁▁▁▁</td></tr><tr><td>test_acc</td><td>▁</td></tr><tr><td>test_auc</td><td>▁</td></tr><tr><td>test_f1</td><td>▁</td></tr><tr><td>train_acc</td><td>▁▂▃▄▃▄▄▅▄▅▅▅▆▆▆▆▅▆▆▆▆▇▇▇▇▇▇▇▇█▇▇▇██▇█▇▇█</td></tr><tr><td>train_auc</td><td>▁▃▂▄▅▅▅▅▆▆▅▆▆▆▆▆▇▇▆▇▇▇▇▇▇█▇▇▇█▇█████████</td></tr><tr><td>train_f1</td><td>▁▄▃▄▄▄▄▄▅▅▅▅▆▆▅▆▆▆▆▆▆▆▇▇▇▇▇▇▇▇▇▇▇██▇▇▇▇█</td></tr><tr><td>train_loss_epoch</td><td>█▇▇▆▅▅▆▅▅▄▄▄▄▃▃▃▃▃▃▃▃▂▂▂▂▂▃▂▂▂▂▁▂▁▁▁▁▁▁▁</td></tr><tr><td>train_loss_step</td><td>█▄▅▆▆▂▂▁▂▂</td></tr><tr><td>trainer/global_step</td><td>▁▁▁▂▂▂▂▂▂▃▃▃▃▃▄▂▂▄▃▄▅▅▅▃▅▅▃▆▆▆▆▄▇▄▄▇████</td></tr><tr><td>val_acc</td><td>▁▅▅▄▃▄▅▃▃▅▆▃▃▆▆▆▆▆▆▆▇██▇▇▆▆▆▆▆▆▇▆▆▆▆▇▅▆▇</td></tr><tr><td>val_auc</td><td>▃▁▂▃▄▄▄▃▃▅▆▆▆▇█▇▅▅▅▄▆▇▇▆▅▄▄▄▅▅▆▆▆▆▅▅▇▇▇█</td></tr><tr><td>val_f1</td><td>▁▄▃▃▂▂▄▂▃▄▆▃▃▆▇▆▆▅▄▇▆▇█▇▆▄▅▅▅▅▆█▆▆▆▆▇▅▅▇</td></tr><tr><td>val_loss_epoch</td><td>█▆▅▆▆▅▅▆▇▅▄▆▇▄▃▃▄▃▃▄▂▁▁▂▃▃▄▃▃▄▃▂▃▃▃▃▂▄▃▁</td></tr><tr><td>val_loss_step</td><td>█▆▅▆▆▅▅▆▇▅▄▆▇▄▃▃▄▃▃▄▂▁▁▂▃▃▄▃▃▄▃▂▃▃▃▃▂▄▃▁</td></tr></table><br/></div><div class=\"wandb-col\"><h3>Run summary:</h3><br/><table class=\"wandb\"><tr><td>epoch</td><td>50</td></tr><tr><td>lr-Adam</td><td>0.005</td></tr><tr><td>test_acc</td><td>0.82707</td></tr><tr><td>test_auc</td><td>0.89289</td></tr><tr><td>test_f1</td><td>0.84564</td></tr><tr><td>train_acc</td><td>0.89474</td></tr><tr><td>train_auc</td><td>0.96171</td></tr><tr><td>train_f1</td><td>0.91034</td></tr><tr><td>train_loss_epoch</td><td>0.42271</td></tr><tr><td>train_loss_step</td><td>0.44519</td></tr><tr><td>trainer/global_step</td><td>100</td></tr><tr><td>val_acc</td><td>0.77419</td></tr><tr><td>val_auc</td><td>0.88192</td></tr><tr><td>val_f1</td><td>0.77419</td></tr><tr><td>val_loss_epoch</td><td>0.5111</td></tr><tr><td>val_loss_step</td><td>0.5111</td></tr></table><br/></div></div>"
      ],
      "text/plain": [
       "<IPython.core.display.HTML object>"
      ]
     },
     "metadata": {},
     "output_type": "display_data"
    },
    {
     "data": {
      "text/html": [
       " View run <strong style=\"color:#cdcd00\">GINConv_2_16_4</strong> at: <a href='https://wandb.ai/thoomas/SF_030324_Covid_pos/runs/i2xkjka6' target=\"_blank\">https://wandb.ai/thoomas/SF_030324_Covid_pos/runs/i2xkjka6</a><br/>Synced 6 W&B file(s), 0 media file(s), 0 artifact file(s) and 0 other file(s)"
      ],
      "text/plain": [
       "<IPython.core.display.HTML object>"
      ]
     },
     "metadata": {},
     "output_type": "display_data"
    },
    {
     "data": {
      "text/html": [
       "Find logs at: <code>.\\wandb\\run-20240304_044835-i2xkjka6\\logs</code>"
      ],
      "text/plain": [
       "<IPython.core.display.HTML object>"
      ]
     },
     "metadata": {},
     "output_type": "display_data"
    },
    {
     "data": {
      "application/vnd.jupyter.widget-view+json": {
       "model_id": "c373b71793f74f74bb7ea6db0627421e",
       "version_major": 2,
       "version_minor": 0
      },
      "text/plain": [
       "VBox(children=(Label(value='Waiting for wandb.init()...\\r'), FloatProgress(value=0.016666666666666666, max=1.0…"
      ]
     },
     "metadata": {},
     "output_type": "display_data"
    },
    {
     "data": {
      "text/html": [
       "wandb version 0.16.3 is available!  To upgrade, please run:\n",
       " $ pip install wandb --upgrade"
      ],
      "text/plain": [
       "<IPython.core.display.HTML object>"
      ]
     },
     "metadata": {},
     "output_type": "display_data"
    },
    {
     "data": {
      "text/html": [
       "Tracking run with wandb version 0.14.0"
      ],
      "text/plain": [
       "<IPython.core.display.HTML object>"
      ]
     },
     "metadata": {},
     "output_type": "display_data"
    },
    {
     "data": {
      "text/html": [
       "Run data is saved locally in <code>y:\\coskun-lab\\Thomas\\11_snowflakes\\notebooks\\wandb\\run-20240304_045412-0akyhvqi</code>"
      ],
      "text/plain": [
       "<IPython.core.display.HTML object>"
      ]
     },
     "metadata": {},
     "output_type": "display_data"
    },
    {
     "data": {
      "text/html": [
       "Syncing run <strong><a href='https://wandb.ai/thoomas/SF_030324_Covid_pos/runs/0akyhvqi' target=\"_blank\">GAT_2_16_4</a></strong> to <a href='https://wandb.ai/thoomas/SF_030324_Covid_pos' target=\"_blank\">Weights & Biases</a> (<a href='https://wandb.me/run' target=\"_blank\">docs</a>)<br/>"
      ],
      "text/plain": [
       "<IPython.core.display.HTML object>"
      ]
     },
     "metadata": {},
     "output_type": "display_data"
    },
    {
     "data": {
      "text/html": [
       " View project at <a href='https://wandb.ai/thoomas/SF_030324_Covid_pos' target=\"_blank\">https://wandb.ai/thoomas/SF_030324_Covid_pos</a>"
      ],
      "text/plain": [
       "<IPython.core.display.HTML object>"
      ]
     },
     "metadata": {},
     "output_type": "display_data"
    },
    {
     "data": {
      "text/html": [
       " View run at <a href='https://wandb.ai/thoomas/SF_030324_Covid_pos/runs/0akyhvqi' target=\"_blank\">https://wandb.ai/thoomas/SF_030324_Covid_pos/runs/0akyhvqi</a>"
      ],
      "text/plain": [
       "<IPython.core.display.HTML object>"
      ]
     },
     "metadata": {},
     "output_type": "display_data"
    },
    {
     "name": "stderr",
     "output_type": "stream",
     "text": [
      "Global seed set to 42\n",
      "C:\\Users\\thu71\\AppData\\Roaming\\Python\\Python39\\site-packages\\lightning\\pytorch\\loggers\\wandb.py:395: UserWarning: There is a wandb run already in progress and newly created instances of `WandbLogger` will reuse this run. If this is not desired, call `wandb.finish()` before instantiating `WandbLogger`.\n",
      "  rank_zero_warn(\n",
      "GPU available: True (cuda), used: True\n",
      "TPU available: False, using: 0 TPU cores\n",
      "IPU available: False, using: 0 IPUs\n",
      "HPU available: False, using: 0 HPUs\n",
      "Global seed set to 42\n",
      "c:\\Users\\thu71\\Anaconda3\\envs\\snowflake\\lib\\site-packages\\torch_geometric\\deprecation.py:12: UserWarning: 'nn.glob.GlobalAttention' is deprecated, use 'nn.aggr.AttentionalAggregation' instead\n",
      "  warnings.warn(out)\n",
      "LOCAL_RANK: 0 - CUDA_VISIBLE_DEVICES: [0,1]\n",
      "\n",
      "   | Name        | Type             | Params\n",
      "--------------------------------------------------\n",
      "0  | model       | GAT              | 5.1 K \n",
      "1  | fnn_layer   | Linear           | 272   \n",
      "2  | selu        | SELU             | 0     \n",
      "3  | head        | Linear           | 34    \n",
      "4  | loss_module | CrossEntropyLoss | 0     \n",
      "5  | train_acc   | BinaryAccuracy   | 0     \n",
      "6  | train_auroc | BinaryAUROC      | 0     \n",
      "7  | train_f1    | BinaryF1Score    | 0     \n",
      "8  | valid_acc   | BinaryAccuracy   | 0     \n",
      "9  | valid_auroc | BinaryAUROC      | 0     \n",
      "10 | valid_f1    | BinaryF1Score    | 0     \n",
      "11 | test_acc    | BinaryAccuracy   | 0     \n",
      "12 | test_auroc  | BinaryAUROC      | 0     \n",
      "13 | test_f1     | BinaryF1Score    | 0     \n",
      "14 | pool        | GlobalAttention  | 17    \n",
      "--------------------------------------------------\n",
      "5.4 K     Trainable params\n",
      "0         Non-trainable params\n",
      "5.4 K     Total params\n",
      "0.022     Total estimated model params size (MB)\n",
      "C:\\Users\\thu71\\AppData\\Roaming\\Python\\Python39\\site-packages\\lightning\\pytorch\\trainer\\connectors\\data_connector.py:478: PossibleUserWarning: Your `val_dataloader`'s sampler has shuffling enabled, it is strongly recommended that you turn shuffling off for val/test dataloaders.\n",
      "  rank_zero_warn(\n",
      "C:\\Users\\thu71\\AppData\\Roaming\\Python\\Python39\\site-packages\\lightning\\pytorch\\trainer\\connectors\\data_connector.py:430: PossibleUserWarning: The dataloader, val_dataloader, does not have many workers which may be a bottleneck. Consider increasing the value of the `num_workers` argument` (try 48 which is the number of cpus on this machine) in the `DataLoader` init to improve performance.\n",
      "  rank_zero_warn(\n",
      "C:\\Users\\thu71\\AppData\\Roaming\\Python\\Python39\\site-packages\\lightning\\pytorch\\trainer\\connectors\\data_connector.py:430: PossibleUserWarning: The dataloader, train_dataloader, does not have many workers which may be a bottleneck. Consider increasing the value of the `num_workers` argument` (try 48 which is the number of cpus on this machine) in the `DataLoader` init to improve performance.\n",
      "  rank_zero_warn(\n",
      "C:\\Users\\thu71\\AppData\\Roaming\\Python\\Python39\\site-packages\\lightning\\pytorch\\loops\\fit_loop.py:280: PossibleUserWarning: The number of training batches (4) is smaller than the logging interval Trainer(log_every_n_steps=10). Set a lower value for log_every_n_steps if you want to see logs for the training epoch.\n",
      "  rank_zero_warn(\n",
      "`Trainer.fit` stopped: `max_epochs=50` reached.\n",
      "LOCAL_RANK: 0 - CUDA_VISIBLE_DEVICES: [0,1]\n",
      "C:\\Users\\thu71\\AppData\\Roaming\\Python\\Python39\\site-packages\\lightning\\pytorch\\trainer\\connectors\\data_connector.py:478: PossibleUserWarning: Your `test_dataloader`'s sampler has shuffling enabled, it is strongly recommended that you turn shuffling off for val/test dataloaders.\n",
      "  rank_zero_warn(\n",
      "C:\\Users\\thu71\\AppData\\Roaming\\Python\\Python39\\site-packages\\lightning\\pytorch\\trainer\\connectors\\data_connector.py:430: PossibleUserWarning: The dataloader, test_dataloader, does not have many workers which may be a bottleneck. Consider increasing the value of the `num_workers` argument` (try 48 which is the number of cpus on this machine) in the `DataLoader` init to improve performance.\n",
      "  rank_zero_warn(\n"
     ]
    },
    {
     "name": "stdout",
     "output_type": "stream",
     "text": [
      "{'test_acc': tensor(0.6541), 'test_auc': tensor(0.9469), 'test_f1': tensor(0.5741)}\n"
     ]
    },
    {
     "data": {
      "text/html": [
       "Waiting for W&B process to finish... <strong style=\"color:green\">(success).</strong>"
      ],
      "text/plain": [
       "<IPython.core.display.HTML object>"
      ]
     },
     "metadata": {},
     "output_type": "display_data"
    },
    {
     "data": {
      "application/vnd.jupyter.widget-view+json": {
       "model_id": "6345f20ad0b04c109f88a298f840aafd",
       "version_major": 2,
       "version_minor": 0
      },
      "text/plain": [
       "VBox(children=(Label(value='0.001 MB of 0.001 MB uploaded (0.000 MB deduped)\\r'), FloatProgress(value=1.0, max…"
      ]
     },
     "metadata": {},
     "output_type": "display_data"
    },
    {
     "data": {
      "text/html": [
       "<style>\n",
       "    table.wandb td:nth-child(1) { padding: 0 10px; text-align: left ; width: auto;} td:nth-child(2) {text-align: left ; width: 100%}\n",
       "    .wandb-row { display: flex; flex-direction: row; flex-wrap: wrap; justify-content: flex-start; width: 100% }\n",
       "    .wandb-col { display: flex; flex-direction: column; flex-basis: 100%; flex: 1; padding: 10px; }\n",
       "    </style>\n",
       "<div class=\"wandb-row\"><div class=\"wandb-col\"><h3>Run history:</h3><br/><table class=\"wandb\"><tr><td>epoch</td><td>▁▁▁▂▂▂▂▂▂▃▃▃▃▃▄▄▄▄▄▄▅▅▅▅▅▅▆▆▆▆▆▆▇▇▇▇▇███</td></tr><tr><td>lr-Adam</td><td>▁▁▁▁▁▁▁▁▁▁▁▁▁▁▁▁▁▁▁▁▁▁▁▁▁▁▁▁▁▁▁▁▁▁▁▁▁▁▁▁</td></tr><tr><td>test_acc</td><td>▁</td></tr><tr><td>test_auc</td><td>▁</td></tr><tr><td>test_f1</td><td>▁</td></tr><tr><td>train_acc</td><td>▁▁▁▂▂▂▃▃▃▄▄▃▄▄▅▅▆▆▆▆▇▇▇▇██▇▇▆▇▇▇██▇█████</td></tr><tr><td>train_auc</td><td>▁▂▃▂▃▃▃▄▄▄▄▄▅▅▅▆▇▇▇█▇▇██████████████████</td></tr><tr><td>train_f1</td><td>▁▂▂▁▃▂▃▃▂▄▄▃▄▄▄▅▆▆▆▆▆▆▇▇▇█▇▆▆▆▇▇██▇███▇▇</td></tr><tr><td>train_loss_epoch</td><td>██▇█▇▇▇▆▆▆▆▆▅▅▅▄▃▃▃▂▃▃▂▂▂▁▂▂▃▂▂▂▁▁▁▁▁▁▁▁</td></tr><tr><td>train_loss_step</td><td>█▇▇█▆▆▄▄▂▃▄▃▃▆▁▂▃▁▁▁</td></tr><tr><td>trainer/global_step</td><td>▁▁▁▂▁▁▂▂▁▃▃▃▂▃▄▄▂▄▄▂▂▅▅▂▅▅▆▂▆▆▆▂▇▇▇▃▇███</td></tr><tr><td>val_acc</td><td>▁▁▃▅▃▄▅▅▆▄▆▆▇▇▇▇▇▇▇▇▇▇█▇▇█▇▆▆▆█▆▇▆▆█▇▇▆▅</td></tr><tr><td>val_auc</td><td>▁▂▂▂▃▃▃▄▄▄▄▄▅▅▅▆▆▇▇▇▇▇▇▇████████████████</td></tr><tr><td>val_f1</td><td>▅▅▅▆▆▆▆▇▇▆▇▇█▇█▇▇▆▇▅▆▆▇▆▅▇▆▄▃▃▇▄▆▄▄▇▆▆▄▁</td></tr><tr><td>val_loss_epoch</td><td>██▇▆▇▆▆▆▆▆▅▄▄▃▄▃▂▂▂▃▂▃▂▂▃▁▂▂▄▄▁▃▁▃▃▂▂▂▃▅</td></tr><tr><td>val_loss_step</td><td>██▇▆▇▆▆▆▆▆▅▄▄▃▄▃▂▂▂▃▂▃▂▂▃▁▂▂▄▄▁▃▁▃▃▂▂▂▃▅</td></tr></table><br/></div><div class=\"wandb-col\"><h3>Run summary:</h3><br/><table class=\"wandb\"><tr><td>epoch</td><td>50</td></tr><tr><td>lr-Adam</td><td>0.005</td></tr><tr><td>test_acc</td><td>0.65414</td></tr><tr><td>test_auc</td><td>0.94691</td></tr><tr><td>test_f1</td><td>0.57407</td></tr><tr><td>train_acc</td><td>0.91093</td></tr><tr><td>train_auc</td><td>0.95748</td></tr><tr><td>train_f1</td><td>0.92466</td></tr><tr><td>train_loss_epoch</td><td>0.40208</td></tr><tr><td>train_loss_step</td><td>0.37303</td></tr><tr><td>trainer/global_step</td><td>200</td></tr><tr><td>val_acc</td><td>0.66129</td></tr><tr><td>val_auc</td><td>0.88088</td></tr><tr><td>val_f1</td><td>0.4878</td></tr><tr><td>val_loss_epoch</td><td>0.61805</td></tr><tr><td>val_loss_step</td><td>0.61805</td></tr></table><br/></div></div>"
      ],
      "text/plain": [
       "<IPython.core.display.HTML object>"
      ]
     },
     "metadata": {},
     "output_type": "display_data"
    },
    {
     "data": {
      "text/html": [
       " View run <strong style=\"color:#cdcd00\">GAT_2_16_4</strong> at: <a href='https://wandb.ai/thoomas/SF_030324_Covid_pos/runs/0akyhvqi' target=\"_blank\">https://wandb.ai/thoomas/SF_030324_Covid_pos/runs/0akyhvqi</a><br/>Synced 6 W&B file(s), 0 media file(s), 0 artifact file(s) and 0 other file(s)"
      ],
      "text/plain": [
       "<IPython.core.display.HTML object>"
      ]
     },
     "metadata": {},
     "output_type": "display_data"
    },
    {
     "data": {
      "text/html": [
       "Find logs at: <code>.\\wandb\\run-20240304_045412-0akyhvqi\\logs</code>"
      ],
      "text/plain": [
       "<IPython.core.display.HTML object>"
      ]
     },
     "metadata": {},
     "output_type": "display_data"
    },
    {
     "data": {
      "application/vnd.jupyter.widget-view+json": {
       "model_id": "048c67e37005433a9e4bbc760c629095",
       "version_major": 2,
       "version_minor": 0
      },
      "text/plain": [
       "VBox(children=(Label(value='Waiting for wandb.init()...\\r'), FloatProgress(value=0.016666666666666666, max=1.0…"
      ]
     },
     "metadata": {},
     "output_type": "display_data"
    },
    {
     "data": {
      "text/html": [
       "wandb version 0.16.3 is available!  To upgrade, please run:\n",
       " $ pip install wandb --upgrade"
      ],
      "text/plain": [
       "<IPython.core.display.HTML object>"
      ]
     },
     "metadata": {},
     "output_type": "display_data"
    },
    {
     "data": {
      "text/html": [
       "Tracking run with wandb version 0.14.0"
      ],
      "text/plain": [
       "<IPython.core.display.HTML object>"
      ]
     },
     "metadata": {},
     "output_type": "display_data"
    },
    {
     "data": {
      "text/html": [
       "Run data is saved locally in <code>y:\\coskun-lab\\Thomas\\11_snowflakes\\notebooks\\wandb\\run-20240304_051007-sn2t57u7</code>"
      ],
      "text/plain": [
       "<IPython.core.display.HTML object>"
      ]
     },
     "metadata": {},
     "output_type": "display_data"
    },
    {
     "data": {
      "text/html": [
       "Syncing run <strong><a href='https://wandb.ai/thoomas/SF_030324_Covid_pos/runs/sn2t57u7' target=\"_blank\">GINConv_2_16_4</a></strong> to <a href='https://wandb.ai/thoomas/SF_030324_Covid_pos' target=\"_blank\">Weights & Biases</a> (<a href='https://wandb.me/run' target=\"_blank\">docs</a>)<br/>"
      ],
      "text/plain": [
       "<IPython.core.display.HTML object>"
      ]
     },
     "metadata": {},
     "output_type": "display_data"
    },
    {
     "data": {
      "text/html": [
       " View project at <a href='https://wandb.ai/thoomas/SF_030324_Covid_pos' target=\"_blank\">https://wandb.ai/thoomas/SF_030324_Covid_pos</a>"
      ],
      "text/plain": [
       "<IPython.core.display.HTML object>"
      ]
     },
     "metadata": {},
     "output_type": "display_data"
    },
    {
     "data": {
      "text/html": [
       " View run at <a href='https://wandb.ai/thoomas/SF_030324_Covid_pos/runs/sn2t57u7' target=\"_blank\">https://wandb.ai/thoomas/SF_030324_Covid_pos/runs/sn2t57u7</a>"
      ],
      "text/plain": [
       "<IPython.core.display.HTML object>"
      ]
     },
     "metadata": {},
     "output_type": "display_data"
    },
    {
     "name": "stderr",
     "output_type": "stream",
     "text": [
      "Global seed set to 42\n",
      "C:\\Users\\thu71\\AppData\\Roaming\\Python\\Python39\\site-packages\\lightning\\pytorch\\loggers\\wandb.py:395: UserWarning: There is a wandb run already in progress and newly created instances of `WandbLogger` will reuse this run. If this is not desired, call `wandb.finish()` before instantiating `WandbLogger`.\n",
      "  rank_zero_warn(\n",
      "GPU available: True (cuda), used: True\n",
      "TPU available: False, using: 0 TPU cores\n",
      "IPU available: False, using: 0 IPUs\n",
      "HPU available: False, using: 0 HPUs\n",
      "Global seed set to 42\n",
      "c:\\Users\\thu71\\Anaconda3\\envs\\snowflake\\lib\\site-packages\\torch_geometric\\deprecation.py:12: UserWarning: 'nn.glob.GlobalAttention' is deprecated, use 'nn.aggr.AttentionalAggregation' instead\n",
      "  warnings.warn(out)\n",
      "LOCAL_RANK: 0 - CUDA_VISIBLE_DEVICES: [0,1]\n",
      "\n",
      "   | Name        | Type             | Params\n",
      "--------------------------------------------------\n",
      "0  | model       | GIN              | 1.0 K \n",
      "1  | fnn_layer   | Linear           | 272   \n",
      "2  | selu        | SELU             | 0     \n",
      "3  | head        | Linear           | 34    \n",
      "4  | loss_module | CrossEntropyLoss | 0     \n",
      "5  | train_acc   | BinaryAccuracy   | 0     \n",
      "6  | train_auroc | BinaryAUROC      | 0     \n",
      "7  | train_f1    | BinaryF1Score    | 0     \n",
      "8  | valid_acc   | BinaryAccuracy   | 0     \n",
      "9  | valid_auroc | BinaryAUROC      | 0     \n",
      "10 | valid_f1    | BinaryF1Score    | 0     \n",
      "11 | test_acc    | BinaryAccuracy   | 0     \n",
      "12 | test_auroc  | BinaryAUROC      | 0     \n",
      "13 | test_f1     | BinaryF1Score    | 0     \n",
      "14 | pool        | GlobalAttention  | 17    \n",
      "--------------------------------------------------\n",
      "1.3 K     Trainable params\n",
      "0         Non-trainable params\n",
      "1.3 K     Total params\n",
      "0.005     Total estimated model params size (MB)\n",
      "C:\\Users\\thu71\\AppData\\Roaming\\Python\\Python39\\site-packages\\lightning\\pytorch\\trainer\\connectors\\data_connector.py:478: PossibleUserWarning: Your `val_dataloader`'s sampler has shuffling enabled, it is strongly recommended that you turn shuffling off for val/test dataloaders.\n",
      "  rank_zero_warn(\n",
      "C:\\Users\\thu71\\AppData\\Roaming\\Python\\Python39\\site-packages\\lightning\\pytorch\\trainer\\connectors\\data_connector.py:430: PossibleUserWarning: The dataloader, val_dataloader, does not have many workers which may be a bottleneck. Consider increasing the value of the `num_workers` argument` (try 48 which is the number of cpus on this machine) in the `DataLoader` init to improve performance.\n",
      "  rank_zero_warn(\n",
      "C:\\Users\\thu71\\AppData\\Roaming\\Python\\Python39\\site-packages\\lightning\\pytorch\\trainer\\connectors\\data_connector.py:430: PossibleUserWarning: The dataloader, train_dataloader, does not have many workers which may be a bottleneck. Consider increasing the value of the `num_workers` argument` (try 48 which is the number of cpus on this machine) in the `DataLoader` init to improve performance.\n",
      "  rank_zero_warn(\n",
      "C:\\Users\\thu71\\AppData\\Roaming\\Python\\Python39\\site-packages\\lightning\\pytorch\\loops\\fit_loop.py:280: PossibleUserWarning: The number of training batches (2) is smaller than the logging interval Trainer(log_every_n_steps=10). Set a lower value for log_every_n_steps if you want to see logs for the training epoch.\n",
      "  rank_zero_warn(\n",
      "`Trainer.fit` stopped: `max_epochs=50` reached.\n",
      "LOCAL_RANK: 0 - CUDA_VISIBLE_DEVICES: [0,1]\n",
      "C:\\Users\\thu71\\AppData\\Roaming\\Python\\Python39\\site-packages\\lightning\\pytorch\\trainer\\connectors\\data_connector.py:478: PossibleUserWarning: Your `test_dataloader`'s sampler has shuffling enabled, it is strongly recommended that you turn shuffling off for val/test dataloaders.\n",
      "  rank_zero_warn(\n",
      "C:\\Users\\thu71\\AppData\\Roaming\\Python\\Python39\\site-packages\\lightning\\pytorch\\trainer\\connectors\\data_connector.py:430: PossibleUserWarning: The dataloader, test_dataloader, does not have many workers which may be a bottleneck. Consider increasing the value of the `num_workers` argument` (try 48 which is the number of cpus on this machine) in the `DataLoader` init to improve performance.\n",
      "  rank_zero_warn(\n"
     ]
    },
    {
     "name": "stdout",
     "output_type": "stream",
     "text": [
      "{'test_acc': tensor(0.8571), 'test_auc': tensor(0.9253), 'test_f1': tensor(0.8774)}\n"
     ]
    },
    {
     "data": {
      "text/html": [
       "Waiting for W&B process to finish... <strong style=\"color:green\">(success).</strong>"
      ],
      "text/plain": [
       "<IPython.core.display.HTML object>"
      ]
     },
     "metadata": {},
     "output_type": "display_data"
    },
    {
     "data": {
      "application/vnd.jupyter.widget-view+json": {
       "model_id": "d19b10f49e774ad2b62c4b590d6c7a88",
       "version_major": 2,
       "version_minor": 0
      },
      "text/plain": [
       "VBox(children=(Label(value='0.001 MB of 0.001 MB uploaded (0.000 MB deduped)\\r'), FloatProgress(value=1.0, max…"
      ]
     },
     "metadata": {},
     "output_type": "display_data"
    },
    {
     "data": {
      "text/html": [
       "<style>\n",
       "    table.wandb td:nth-child(1) { padding: 0 10px; text-align: left ; width: auto;} td:nth-child(2) {text-align: left ; width: 100%}\n",
       "    .wandb-row { display: flex; flex-direction: row; flex-wrap: wrap; justify-content: flex-start; width: 100% }\n",
       "    .wandb-col { display: flex; flex-direction: column; flex-basis: 100%; flex: 1; padding: 10px; }\n",
       "    </style>\n",
       "<div class=\"wandb-row\"><div class=\"wandb-col\"><h3>Run history:</h3><br/><table class=\"wandb\"><tr><td>epoch</td><td>▁▁▁▂▂▂▂▂▂▃▃▃▃▃▄▄▄▄▄▄▅▅▅▅▅▅▆▆▆▆▆▆▇▇▇▇▇███</td></tr><tr><td>lr-Adam</td><td>▁▁▁▁▁▁▁▁▁▁▁▁▁▁▁▁▁▁▁▁▁▁▁▁▁▁▁▁▁▁▁▁▁▁▁▁▁▁▁▁</td></tr><tr><td>test_acc</td><td>▁</td></tr><tr><td>test_auc</td><td>▁</td></tr><tr><td>test_f1</td><td>▁</td></tr><tr><td>train_acc</td><td>▁▃▃▃▄▅▅▅▆▆▆▇▇▇▇▇▇▇▇██▇█▇▇██▇▇▇▇▇▇██▇▇███</td></tr><tr><td>train_auc</td><td>▁▂▃▄▄▅▆▆▇▇▇▇▇█▇▇█████████████▇██████████</td></tr><tr><td>train_f1</td><td>▁▅▅▅▆▆▆▆▇▇▇▇▇▇▇▇▇████▇█▇▇██▇▇▇▇▇███▇▇███</td></tr><tr><td>train_loss_epoch</td><td>█▇▇▇▆▆▅▅▄▃▃▃▃▂▂▂▂▂▂▂▁▂▁▂▂▂▂▂▂▂▂▂▂▁▁▂▂▁▁▁</td></tr><tr><td>train_loss_step</td><td>█▅▃▃▂▂▂▃▂▁</td></tr><tr><td>trainer/global_step</td><td>▁▁▁▂▂▂▂▂▂▃▃▃▃▃▄▂▂▄▃▄▅▅▅▃▅▅▃▆▆▆▆▄▇▄▄▇████</td></tr><tr><td>val_acc</td><td>▁▁▁▂▄▄▄▅▅▆▇▆▇▆▆▇▇█▆▆▇█▇▇█▇▆▇▇▇▇██▆▆▆▇▆▅▇</td></tr><tr><td>val_auc</td><td>▁▄▅▅▆▆▆▇▇▇▇▇▇▇▇█▇▇█▇█▇▇▇▇█▇▇▇████▇▇▇▇▇▇█</td></tr><tr><td>val_f1</td><td>▁▁▁▁▄▄▃▅▄▅▆▅▆▄▅▆▅▇▅▅▇█▇▇█▆▅▆▇▇▇▇█▆▅▅▇▅▅▆</td></tr><tr><td>val_loss_epoch</td><td>███▇▆▆▆▅▄▄▃▃▃▃▃▂▂▂▂▃▁▂▂▃▁▃▃▂▂▂▁▁▁▃▄▄▂▄▄▂</td></tr><tr><td>val_loss_step</td><td>███▇▆▆▆▅▄▄▃▃▃▃▃▂▂▂▂▃▁▂▂▃▁▃▃▂▂▂▁▁▁▃▄▄▂▄▄▂</td></tr></table><br/></div><div class=\"wandb-col\"><h3>Run summary:</h3><br/><table class=\"wandb\"><tr><td>epoch</td><td>50</td></tr><tr><td>lr-Adam</td><td>0.005</td></tr><tr><td>test_acc</td><td>0.85714</td></tr><tr><td>test_auc</td><td>0.92532</td></tr><tr><td>test_f1</td><td>0.87742</td></tr><tr><td>train_acc</td><td>0.93927</td></tr><tr><td>train_auc</td><td>0.96168</td></tr><tr><td>train_f1</td><td>0.94949</td></tr><tr><td>train_loss_epoch</td><td>0.38223</td></tr><tr><td>train_loss_step</td><td>0.3603</td></tr><tr><td>trainer/global_step</td><td>100</td></tr><tr><td>val_acc</td><td>0.79032</td></tr><tr><td>val_auc</td><td>0.88192</td></tr><tr><td>val_f1</td><td>0.8</td></tr><tr><td>val_loss_epoch</td><td>0.49695</td></tr><tr><td>val_loss_step</td><td>0.49695</td></tr></table><br/></div></div>"
      ],
      "text/plain": [
       "<IPython.core.display.HTML object>"
      ]
     },
     "metadata": {},
     "output_type": "display_data"
    },
    {
     "data": {
      "text/html": [
       " View run <strong style=\"color:#cdcd00\">GINConv_2_16_4</strong> at: <a href='https://wandb.ai/thoomas/SF_030324_Covid_pos/runs/sn2t57u7' target=\"_blank\">https://wandb.ai/thoomas/SF_030324_Covid_pos/runs/sn2t57u7</a><br/>Synced 6 W&B file(s), 0 media file(s), 0 artifact file(s) and 0 other file(s)"
      ],
      "text/plain": [
       "<IPython.core.display.HTML object>"
      ]
     },
     "metadata": {},
     "output_type": "display_data"
    },
    {
     "data": {
      "text/html": [
       "Find logs at: <code>.\\wandb\\run-20240304_051007-sn2t57u7\\logs</code>"
      ],
      "text/plain": [
       "<IPython.core.display.HTML object>"
      ]
     },
     "metadata": {},
     "output_type": "display_data"
    },
    {
     "data": {
      "application/vnd.jupyter.widget-view+json": {
       "model_id": "97d021b98b1c4cd6ad809a55692d232e",
       "version_major": 2,
       "version_minor": 0
      },
      "text/plain": [
       "VBox(children=(Label(value='Waiting for wandb.init()...\\r'), FloatProgress(value=0.016916666666899498, max=1.0…"
      ]
     },
     "metadata": {},
     "output_type": "display_data"
    },
    {
     "data": {
      "text/html": [
       "wandb version 0.16.3 is available!  To upgrade, please run:\n",
       " $ pip install wandb --upgrade"
      ],
      "text/plain": [
       "<IPython.core.display.HTML object>"
      ]
     },
     "metadata": {},
     "output_type": "display_data"
    },
    {
     "data": {
      "text/html": [
       "Tracking run with wandb version 0.14.0"
      ],
      "text/plain": [
       "<IPython.core.display.HTML object>"
      ]
     },
     "metadata": {},
     "output_type": "display_data"
    },
    {
     "data": {
      "text/html": [
       "Run data is saved locally in <code>y:\\coskun-lab\\Thomas\\11_snowflakes\\notebooks\\wandb\\run-20240304_051515-bg64ff0f</code>"
      ],
      "text/plain": [
       "<IPython.core.display.HTML object>"
      ]
     },
     "metadata": {},
     "output_type": "display_data"
    },
    {
     "data": {
      "text/html": [
       "Syncing run <strong><a href='https://wandb.ai/thoomas/SF_030324_Covid_pos/runs/bg64ff0f' target=\"_blank\">GAT_2_16_4</a></strong> to <a href='https://wandb.ai/thoomas/SF_030324_Covid_pos' target=\"_blank\">Weights & Biases</a> (<a href='https://wandb.me/run' target=\"_blank\">docs</a>)<br/>"
      ],
      "text/plain": [
       "<IPython.core.display.HTML object>"
      ]
     },
     "metadata": {},
     "output_type": "display_data"
    },
    {
     "data": {
      "text/html": [
       " View project at <a href='https://wandb.ai/thoomas/SF_030324_Covid_pos' target=\"_blank\">https://wandb.ai/thoomas/SF_030324_Covid_pos</a>"
      ],
      "text/plain": [
       "<IPython.core.display.HTML object>"
      ]
     },
     "metadata": {},
     "output_type": "display_data"
    },
    {
     "data": {
      "text/html": [
       " View run at <a href='https://wandb.ai/thoomas/SF_030324_Covid_pos/runs/bg64ff0f' target=\"_blank\">https://wandb.ai/thoomas/SF_030324_Covid_pos/runs/bg64ff0f</a>"
      ],
      "text/plain": [
       "<IPython.core.display.HTML object>"
      ]
     },
     "metadata": {},
     "output_type": "display_data"
    },
    {
     "name": "stderr",
     "output_type": "stream",
     "text": [
      "Global seed set to 42\n",
      "C:\\Users\\thu71\\AppData\\Roaming\\Python\\Python39\\site-packages\\lightning\\pytorch\\loggers\\wandb.py:395: UserWarning: There is a wandb run already in progress and newly created instances of `WandbLogger` will reuse this run. If this is not desired, call `wandb.finish()` before instantiating `WandbLogger`.\n",
      "  rank_zero_warn(\n",
      "GPU available: True (cuda), used: True\n",
      "TPU available: False, using: 0 TPU cores\n",
      "IPU available: False, using: 0 IPUs\n",
      "HPU available: False, using: 0 HPUs\n",
      "Global seed set to 42\n",
      "LOCAL_RANK: 0 - CUDA_VISIBLE_DEVICES: [0,1]\n",
      "\n",
      "   | Name        | Type             | Params\n",
      "--------------------------------------------------\n",
      "0  | model       | GAT              | 5.1 K \n",
      "1  | fnn_layer   | Linear           | 272   \n",
      "2  | selu        | SELU             | 0     \n",
      "3  | head        | Linear           | 34    \n",
      "4  | loss_module | CrossEntropyLoss | 0     \n",
      "5  | train_acc   | BinaryAccuracy   | 0     \n",
      "6  | train_auroc | BinaryAUROC      | 0     \n",
      "7  | train_f1    | BinaryF1Score    | 0     \n",
      "8  | valid_acc   | BinaryAccuracy   | 0     \n",
      "9  | valid_auroc | BinaryAUROC      | 0     \n",
      "10 | valid_f1    | BinaryF1Score    | 0     \n",
      "11 | test_acc    | BinaryAccuracy   | 0     \n",
      "12 | test_auroc  | BinaryAUROC      | 0     \n",
      "13 | test_f1     | BinaryF1Score    | 0     \n",
      "14 | pool        | Attention_module | 281   \n",
      "--------------------------------------------------\n",
      "5.7 K     Trainable params\n",
      "0         Non-trainable params\n",
      "5.7 K     Total params\n",
      "0.023     Total estimated model params size (MB)\n",
      "C:\\Users\\thu71\\AppData\\Roaming\\Python\\Python39\\site-packages\\lightning\\pytorch\\trainer\\connectors\\data_connector.py:478: PossibleUserWarning: Your `val_dataloader`'s sampler has shuffling enabled, it is strongly recommended that you turn shuffling off for val/test dataloaders.\n",
      "  rank_zero_warn(\n",
      "C:\\Users\\thu71\\AppData\\Roaming\\Python\\Python39\\site-packages\\lightning\\pytorch\\trainer\\connectors\\data_connector.py:430: PossibleUserWarning: The dataloader, val_dataloader, does not have many workers which may be a bottleneck. Consider increasing the value of the `num_workers` argument` (try 48 which is the number of cpus on this machine) in the `DataLoader` init to improve performance.\n",
      "  rank_zero_warn(\n",
      "C:\\Users\\thu71\\AppData\\Roaming\\Python\\Python39\\site-packages\\lightning\\pytorch\\trainer\\connectors\\data_connector.py:430: PossibleUserWarning: The dataloader, train_dataloader, does not have many workers which may be a bottleneck. Consider increasing the value of the `num_workers` argument` (try 48 which is the number of cpus on this machine) in the `DataLoader` init to improve performance.\n",
      "  rank_zero_warn(\n",
      "C:\\Users\\thu71\\AppData\\Roaming\\Python\\Python39\\site-packages\\lightning\\pytorch\\loops\\fit_loop.py:280: PossibleUserWarning: The number of training batches (4) is smaller than the logging interval Trainer(log_every_n_steps=10). Set a lower value for log_every_n_steps if you want to see logs for the training epoch.\n",
      "  rank_zero_warn(\n",
      "`Trainer.fit` stopped: `max_epochs=50` reached.\n",
      "LOCAL_RANK: 0 - CUDA_VISIBLE_DEVICES: [0,1]\n",
      "C:\\Users\\thu71\\AppData\\Roaming\\Python\\Python39\\site-packages\\lightning\\pytorch\\trainer\\connectors\\data_connector.py:478: PossibleUserWarning: Your `test_dataloader`'s sampler has shuffling enabled, it is strongly recommended that you turn shuffling off for val/test dataloaders.\n",
      "  rank_zero_warn(\n",
      "C:\\Users\\thu71\\AppData\\Roaming\\Python\\Python39\\site-packages\\lightning\\pytorch\\trainer\\connectors\\data_connector.py:430: PossibleUserWarning: The dataloader, test_dataloader, does not have many workers which may be a bottleneck. Consider increasing the value of the `num_workers` argument` (try 48 which is the number of cpus on this machine) in the `DataLoader` init to improve performance.\n",
      "  rank_zero_warn(\n"
     ]
    },
    {
     "name": "stdout",
     "output_type": "stream",
     "text": [
      "{'test_acc': tensor(0.8872), 'test_auc': tensor(0.9808), 'test_f1': tensor(0.8905)}\n"
     ]
    },
    {
     "data": {
      "text/html": [
       "Waiting for W&B process to finish... <strong style=\"color:green\">(success).</strong>"
      ],
      "text/plain": [
       "<IPython.core.display.HTML object>"
      ]
     },
     "metadata": {},
     "output_type": "display_data"
    },
    {
     "data": {
      "application/vnd.jupyter.widget-view+json": {
       "model_id": "f9b66669cb934028aabd4060d3cd5b94",
       "version_major": 2,
       "version_minor": 0
      },
      "text/plain": [
       "VBox(children=(Label(value='0.001 MB of 0.001 MB uploaded (0.000 MB deduped)\\r'), FloatProgress(value=1.0, max…"
      ]
     },
     "metadata": {},
     "output_type": "display_data"
    },
    {
     "data": {
      "text/html": [
       "<style>\n",
       "    table.wandb td:nth-child(1) { padding: 0 10px; text-align: left ; width: auto;} td:nth-child(2) {text-align: left ; width: 100%}\n",
       "    .wandb-row { display: flex; flex-direction: row; flex-wrap: wrap; justify-content: flex-start; width: 100% }\n",
       "    .wandb-col { display: flex; flex-direction: column; flex-basis: 100%; flex: 1; padding: 10px; }\n",
       "    </style>\n",
       "<div class=\"wandb-row\"><div class=\"wandb-col\"><h3>Run history:</h3><br/><table class=\"wandb\"><tr><td>epoch</td><td>▁▁▁▂▂▂▂▂▂▃▃▃▃▃▄▄▄▄▄▄▅▅▅▅▅▅▆▆▆▆▆▆▇▇▇▇▇███</td></tr><tr><td>lr-Adam</td><td>▁▁▁▁▁▁▁▁▁▁▁▁▁▁▁▁▁▁▁▁▁▁▁▁▁▁▁▁▁▁▁▁▁▁▁▁▁▁▁▁</td></tr><tr><td>test_acc</td><td>▁</td></tr><tr><td>test_auc</td><td>▁</td></tr><tr><td>test_f1</td><td>▁</td></tr><tr><td>train_acc</td><td>▁▁▁▂▃▃▃▃▃▄▃▄▄▄▅▆▆▆▅▆▇▆▇▆▇▇▇▇▇▇██▇▇██████</td></tr><tr><td>train_auc</td><td>▁▃▃▃▃▄▃▄▄▅▅▅▆▆▇▇▇▇▇▇██▇▇████████████████</td></tr><tr><td>train_f1</td><td>▁▁▁▁▂▂▂▂▂▃▂▃▄▃▅▆▆▆▅▅▇▅▆▅▇▆▇▆▇▇█▇▇▇▇████▇</td></tr><tr><td>train_loss_epoch</td><td>██▇▇▇▇▇▆▆▆▆▅▅▅▄▃▃▃▃▃▂▃▂▃▂▂▂▂▂▂▁▁▂▂▁▁▁▁▁▁</td></tr><tr><td>train_loss_step</td><td>██▇▇▆▆▄▆▄▅▂▁▃▂▂▁▂▁▁▁</td></tr><tr><td>trainer/global_step</td><td>▁▁▁▂▁▁▂▂▁▃▃▃▂▃▄▄▂▄▄▂▂▅▅▂▅▅▆▂▆▆▆▂▇▇▇▃▇███</td></tr><tr><td>val_acc</td><td>▁▂▄▄▄▄▄▄▅▅▅▅▅▆▆▅▅▆▅▆▅▆▆▅▆▅▇▇▆▅▆▇▇▇▇▇███▇</td></tr><tr><td>val_auc</td><td>▁▂▂▂▃▃▃▃▃▄▄▄▅▅▆▆▇▇▇▇▇▇▇▇▇▇▇█▇▇▇▇████████</td></tr><tr><td>val_f1</td><td>▂▃▄▃▄▄▄▄▄▄▅▄▄▅▄▂▃▅▃▃▁▅▄▁▄▁▅▆▃▂▄▆▆▇▆▆██▇▅</td></tr><tr><td>val_loss_epoch</td><td>██▇▇▇▆▆▇▆▅▅▅▅▄▄▄▄▃▄▄▅▃▃▅▃▄▂▂▃▄▃▂▂▂▂▂▁▁▁▂</td></tr><tr><td>val_loss_step</td><td>██▇▇▇▆▆▇▆▅▅▅▅▄▄▄▄▃▄▄▅▃▃▅▃▄▂▂▃▄▃▂▂▂▂▂▁▁▁▂</td></tr></table><br/></div><div class=\"wandb-col\"><h3>Run summary:</h3><br/><table class=\"wandb\"><tr><td>epoch</td><td>50</td></tr><tr><td>lr-Adam</td><td>0.005</td></tr><tr><td>test_acc</td><td>0.88722</td></tr><tr><td>test_auc</td><td>0.98084</td></tr><tr><td>test_f1</td><td>0.89051</td></tr><tr><td>train_acc</td><td>0.93927</td></tr><tr><td>train_auc</td><td>0.98403</td></tr><tr><td>train_f1</td><td>0.95017</td></tr><tr><td>train_loss_epoch</td><td>0.36982</td></tr><tr><td>train_loss_step</td><td>0.36091</td></tr><tr><td>trainer/global_step</td><td>200</td></tr><tr><td>val_acc</td><td>0.80645</td></tr><tr><td>val_auc</td><td>0.94253</td></tr><tr><td>val_f1</td><td>0.76</td></tr><tr><td>val_loss_epoch</td><td>0.4826</td></tr><tr><td>val_loss_step</td><td>0.4826</td></tr></table><br/></div></div>"
      ],
      "text/plain": [
       "<IPython.core.display.HTML object>"
      ]
     },
     "metadata": {},
     "output_type": "display_data"
    },
    {
     "data": {
      "text/html": [
       " View run <strong style=\"color:#cdcd00\">GAT_2_16_4</strong> at: <a href='https://wandb.ai/thoomas/SF_030324_Covid_pos/runs/bg64ff0f' target=\"_blank\">https://wandb.ai/thoomas/SF_030324_Covid_pos/runs/bg64ff0f</a><br/>Synced 6 W&B file(s), 0 media file(s), 0 artifact file(s) and 0 other file(s)"
      ],
      "text/plain": [
       "<IPython.core.display.HTML object>"
      ]
     },
     "metadata": {},
     "output_type": "display_data"
    },
    {
     "data": {
      "text/html": [
       "Find logs at: <code>.\\wandb\\run-20240304_051515-bg64ff0f\\logs</code>"
      ],
      "text/plain": [
       "<IPython.core.display.HTML object>"
      ]
     },
     "metadata": {},
     "output_type": "display_data"
    },
    {
     "data": {
      "application/vnd.jupyter.widget-view+json": {
       "model_id": "06a14d75d5c94145a09678d2c9a3b704",
       "version_major": 2,
       "version_minor": 0
      },
      "text/plain": [
       "VBox(children=(Label(value='Waiting for wandb.init()...\\r'), FloatProgress(value=0.016666666666666666, max=1.0…"
      ]
     },
     "metadata": {},
     "output_type": "display_data"
    },
    {
     "data": {
      "text/html": [
       "wandb version 0.16.3 is available!  To upgrade, please run:\n",
       " $ pip install wandb --upgrade"
      ],
      "text/plain": [
       "<IPython.core.display.HTML object>"
      ]
     },
     "metadata": {},
     "output_type": "display_data"
    },
    {
     "data": {
      "text/html": [
       "Tracking run with wandb version 0.14.0"
      ],
      "text/plain": [
       "<IPython.core.display.HTML object>"
      ]
     },
     "metadata": {},
     "output_type": "display_data"
    },
    {
     "data": {
      "text/html": [
       "Run data is saved locally in <code>y:\\coskun-lab\\Thomas\\11_snowflakes\\notebooks\\wandb\\run-20240304_064606-uls8gc0p</code>"
      ],
      "text/plain": [
       "<IPython.core.display.HTML object>"
      ]
     },
     "metadata": {},
     "output_type": "display_data"
    },
    {
     "data": {
      "text/html": [
       "Syncing run <strong><a href='https://wandb.ai/thoomas/SF_030324_Covid_pos/runs/uls8gc0p' target=\"_blank\">GINConv_2_16_4</a></strong> to <a href='https://wandb.ai/thoomas/SF_030324_Covid_pos' target=\"_blank\">Weights & Biases</a> (<a href='https://wandb.me/run' target=\"_blank\">docs</a>)<br/>"
      ],
      "text/plain": [
       "<IPython.core.display.HTML object>"
      ]
     },
     "metadata": {},
     "output_type": "display_data"
    },
    {
     "data": {
      "text/html": [
       " View project at <a href='https://wandb.ai/thoomas/SF_030324_Covid_pos' target=\"_blank\">https://wandb.ai/thoomas/SF_030324_Covid_pos</a>"
      ],
      "text/plain": [
       "<IPython.core.display.HTML object>"
      ]
     },
     "metadata": {},
     "output_type": "display_data"
    },
    {
     "data": {
      "text/html": [
       " View run at <a href='https://wandb.ai/thoomas/SF_030324_Covid_pos/runs/uls8gc0p' target=\"_blank\">https://wandb.ai/thoomas/SF_030324_Covid_pos/runs/uls8gc0p</a>"
      ],
      "text/plain": [
       "<IPython.core.display.HTML object>"
      ]
     },
     "metadata": {},
     "output_type": "display_data"
    },
    {
     "name": "stderr",
     "output_type": "stream",
     "text": [
      "Global seed set to 42\n",
      "C:\\Users\\thu71\\AppData\\Roaming\\Python\\Python39\\site-packages\\lightning\\pytorch\\loggers\\wandb.py:395: UserWarning: There is a wandb run already in progress and newly created instances of `WandbLogger` will reuse this run. If this is not desired, call `wandb.finish()` before instantiating `WandbLogger`.\n",
      "  rank_zero_warn(\n",
      "GPU available: True (cuda), used: True\n",
      "TPU available: False, using: 0 TPU cores\n",
      "IPU available: False, using: 0 IPUs\n",
      "HPU available: False, using: 0 HPUs\n",
      "Global seed set to 42\n",
      "LOCAL_RANK: 0 - CUDA_VISIBLE_DEVICES: [0,1]\n",
      "\n",
      "   | Name        | Type             | Params\n",
      "--------------------------------------------------\n",
      "0  | model       | GIN              | 1.0 K \n",
      "1  | fnn_layer   | Linear           | 272   \n",
      "2  | selu        | SELU             | 0     \n",
      "3  | head        | Linear           | 34    \n",
      "4  | loss_module | CrossEntropyLoss | 0     \n",
      "5  | train_acc   | BinaryAccuracy   | 0     \n",
      "6  | train_auroc | BinaryAUROC      | 0     \n",
      "7  | train_f1    | BinaryF1Score    | 0     \n",
      "8  | valid_acc   | BinaryAccuracy   | 0     \n",
      "9  | valid_auroc | BinaryAUROC      | 0     \n",
      "10 | valid_f1    | BinaryF1Score    | 0     \n",
      "11 | test_acc    | BinaryAccuracy   | 0     \n",
      "12 | test_auroc  | BinaryAUROC      | 0     \n",
      "13 | test_f1     | BinaryF1Score    | 0     \n",
      "14 | pool        | Attention_module | 281   \n",
      "--------------------------------------------------\n",
      "1.6 K     Trainable params\n",
      "0         Non-trainable params\n",
      "1.6 K     Total params\n",
      "0.006     Total estimated model params size (MB)\n",
      "C:\\Users\\thu71\\AppData\\Roaming\\Python\\Python39\\site-packages\\lightning\\pytorch\\trainer\\connectors\\data_connector.py:478: PossibleUserWarning: Your `val_dataloader`'s sampler has shuffling enabled, it is strongly recommended that you turn shuffling off for val/test dataloaders.\n",
      "  rank_zero_warn(\n",
      "C:\\Users\\thu71\\AppData\\Roaming\\Python\\Python39\\site-packages\\lightning\\pytorch\\trainer\\connectors\\data_connector.py:430: PossibleUserWarning: The dataloader, val_dataloader, does not have many workers which may be a bottleneck. Consider increasing the value of the `num_workers` argument` (try 48 which is the number of cpus on this machine) in the `DataLoader` init to improve performance.\n",
      "  rank_zero_warn(\n",
      "C:\\Users\\thu71\\AppData\\Roaming\\Python\\Python39\\site-packages\\lightning\\pytorch\\trainer\\connectors\\data_connector.py:430: PossibleUserWarning: The dataloader, train_dataloader, does not have many workers which may be a bottleneck. Consider increasing the value of the `num_workers` argument` (try 48 which is the number of cpus on this machine) in the `DataLoader` init to improve performance.\n",
      "  rank_zero_warn(\n",
      "C:\\Users\\thu71\\AppData\\Roaming\\Python\\Python39\\site-packages\\lightning\\pytorch\\loops\\fit_loop.py:280: PossibleUserWarning: The number of training batches (2) is smaller than the logging interval Trainer(log_every_n_steps=10). Set a lower value for log_every_n_steps if you want to see logs for the training epoch.\n",
      "  rank_zero_warn(\n",
      "`Trainer.fit` stopped: `max_epochs=50` reached.\n",
      "LOCAL_RANK: 0 - CUDA_VISIBLE_DEVICES: [0,1]\n",
      "C:\\Users\\thu71\\AppData\\Roaming\\Python\\Python39\\site-packages\\lightning\\pytorch\\trainer\\connectors\\data_connector.py:478: PossibleUserWarning: Your `test_dataloader`'s sampler has shuffling enabled, it is strongly recommended that you turn shuffling off for val/test dataloaders.\n",
      "  rank_zero_warn(\n",
      "C:\\Users\\thu71\\AppData\\Roaming\\Python\\Python39\\site-packages\\lightning\\pytorch\\trainer\\connectors\\data_connector.py:430: PossibleUserWarning: The dataloader, test_dataloader, does not have many workers which may be a bottleneck. Consider increasing the value of the `num_workers` argument` (try 48 which is the number of cpus on this machine) in the `DataLoader` init to improve performance.\n",
      "  rank_zero_warn(\n"
     ]
    },
    {
     "name": "stdout",
     "output_type": "stream",
     "text": [
      "{'test_acc': tensor(0.8271), 'test_auc': tensor(0.8936), 'test_f1': tensor(0.8414)}\n"
     ]
    },
    {
     "data": {
      "text/html": [
       "Waiting for W&B process to finish... <strong style=\"color:green\">(success).</strong>"
      ],
      "text/plain": [
       "<IPython.core.display.HTML object>"
      ]
     },
     "metadata": {},
     "output_type": "display_data"
    },
    {
     "data": {
      "application/vnd.jupyter.widget-view+json": {
       "model_id": "38273298276b45d0b51ebae8a8a1c850",
       "version_major": 2,
       "version_minor": 0
      },
      "text/plain": [
       "VBox(children=(Label(value='0.001 MB of 0.001 MB uploaded (0.000 MB deduped)\\r'), FloatProgress(value=1.0, max…"
      ]
     },
     "metadata": {},
     "output_type": "display_data"
    },
    {
     "data": {
      "text/html": [
       "<style>\n",
       "    table.wandb td:nth-child(1) { padding: 0 10px; text-align: left ; width: auto;} td:nth-child(2) {text-align: left ; width: 100%}\n",
       "    .wandb-row { display: flex; flex-direction: row; flex-wrap: wrap; justify-content: flex-start; width: 100% }\n",
       "    .wandb-col { display: flex; flex-direction: column; flex-basis: 100%; flex: 1; padding: 10px; }\n",
       "    </style>\n",
       "<div class=\"wandb-row\"><div class=\"wandb-col\"><h3>Run history:</h3><br/><table class=\"wandb\"><tr><td>epoch</td><td>▁▁▁▂▂▂▂▂▂▃▃▃▃▃▄▄▄▄▄▄▅▅▅▅▅▅▆▆▆▆▆▆▇▇▇▇▇███</td></tr><tr><td>lr-Adam</td><td>▁▁▁▁▁▁▁▁▁▁▁▁▁▁▁▁▁▁▁▁▁▁▁▁▁▁▁▁▁▁▁▁▁▁▁▁▁▁▁▁</td></tr><tr><td>test_acc</td><td>▁</td></tr><tr><td>test_auc</td><td>▁</td></tr><tr><td>test_f1</td><td>▁</td></tr><tr><td>train_acc</td><td>▁▃▃▃▄▅▆▆▆▆▆▇▇▇▇▇▇▇▇▇▇█▇███▇▇██▇█████████</td></tr><tr><td>train_auc</td><td>▁▂▃▄▄▅▆▇▇▇▇▇▇▇▇▇▇▇██████████████████████</td></tr><tr><td>train_f1</td><td>▁▆▆▆▆▇▇▇▇▇▇▇▇▇▇█████████████████████████</td></tr><tr><td>train_loss_epoch</td><td>█▇▇▆▆▆▅▅▄▄▃▃▃▂▃▂▂▂▂▂▂▂▂▂▂▁▂▂▁▂▂▁▁▁▁▁▁▁▁▁</td></tr><tr><td>train_loss_step</td><td>█▅▄▃▃▂▂▂▂▁</td></tr><tr><td>trainer/global_step</td><td>▁▁▁▂▂▂▂▂▂▃▃▃▃▃▄▂▂▄▃▄▅▅▅▃▅▅▃▆▆▆▆▄▇▄▄▇████</td></tr><tr><td>val_acc</td><td>▂▁▁▁▄▅▇▇▇▆▆▆▇▇▇▇▇▇▇▇▇▇▇▇▆▇▇▇█▇▇▇▇█▇█▇▇▇▇</td></tr><tr><td>val_auc</td><td>▁▂▄▄▆▆▇▇▇▇▇▇███████████▇▇██▇██▇▇███▇█▇▇█</td></tr><tr><td>val_f1</td><td>▂▁▁▁▅▄█▇▇▆▅▆▇▇▇▇▄▅▆▄▅▄▅▅▂▅▄▇▇▅▇▇▇▇▇█▅▆▆▅</td></tr><tr><td>val_loss_epoch</td><td>▇███▆▆▅▅▄▃▃▃▃▂▁▂▂▂▂▂▂▂▂▂▃▂▂▂▁▂▂▂▂▂▁▂▂▂▁▂</td></tr><tr><td>val_loss_step</td><td>▇███▆▆▅▅▄▃▃▃▃▂▁▂▂▂▂▂▂▂▂▂▃▂▂▂▁▂▂▂▂▂▁▂▂▂▁▂</td></tr></table><br/></div><div class=\"wandb-col\"><h3>Run summary:</h3><br/><table class=\"wandb\"><tr><td>epoch</td><td>50</td></tr><tr><td>lr-Adam</td><td>0.005</td></tr><tr><td>test_acc</td><td>0.82707</td></tr><tr><td>test_auc</td><td>0.89358</td></tr><tr><td>test_f1</td><td>0.84138</td></tr><tr><td>train_acc</td><td>0.92713</td></tr><tr><td>train_auc</td><td>0.94243</td></tr><tr><td>train_f1</td><td>0.94</td></tr><tr><td>train_loss_epoch</td><td>0.38719</td></tr><tr><td>train_loss_step</td><td>0.37834</td></tr><tr><td>trainer/global_step</td><td>100</td></tr><tr><td>val_acc</td><td>0.74194</td></tr><tr><td>val_auc</td><td>0.82968</td></tr><tr><td>val_f1</td><td>0.72414</td></tr><tr><td>val_loss_epoch</td><td>0.56498</td></tr><tr><td>val_loss_step</td><td>0.56498</td></tr></table><br/></div></div>"
      ],
      "text/plain": [
       "<IPython.core.display.HTML object>"
      ]
     },
     "metadata": {},
     "output_type": "display_data"
    },
    {
     "data": {
      "text/html": [
       " View run <strong style=\"color:#cdcd00\">GINConv_2_16_4</strong> at: <a href='https://wandb.ai/thoomas/SF_030324_Covid_pos/runs/uls8gc0p' target=\"_blank\">https://wandb.ai/thoomas/SF_030324_Covid_pos/runs/uls8gc0p</a><br/>Synced 6 W&B file(s), 0 media file(s), 0 artifact file(s) and 0 other file(s)"
      ],
      "text/plain": [
       "<IPython.core.display.HTML object>"
      ]
     },
     "metadata": {},
     "output_type": "display_data"
    },
    {
     "data": {
      "text/html": [
       "Find logs at: <code>.\\wandb\\run-20240304_064606-uls8gc0p\\logs</code>"
      ],
      "text/plain": [
       "<IPython.core.display.HTML object>"
      ]
     },
     "metadata": {},
     "output_type": "display_data"
    }
   ],
   "source": [
    "# Print K fold model number of samples and number of positive cases\n",
    "\n",
    "k_folds = 5\n",
    "# kfold = KFold(n_splits=k_folds, shuffle=True, random_state=42)\n",
    "kfold = StratifiedShuffleSplit(n_splits=k_folds, test_size=0.3, random_state=0)\n",
    "val_size = 0.2\n",
    "\n",
    "for fold, (train_ids, test_ids) in enumerate(kfold.split(dataset, ys)):\n",
    "    # train_subset = dataset.index_select(train_ids.tolist())\n",
    "    test_subset = dataset.index_select(test_ids.tolist())\n",
    "    \n",
    "    train_ids, valid_ids = train_test_split(train_ids, test_size = val_size, random_state=0)\n",
    "    train_subset = dataset.index_select(train_ids.tolist())\n",
    "    val_subset = dataset.index_select(valid_ids.tolist())\n",
    "    \n",
    "    for pool in pools:\n",
    "        for model in models:\n",
    "            if model == 'GAT':\n",
    "                batch_size=64\n",
    "            else:\n",
    "                batch_size=128\n",
    "            # Path to the folder where the pretrained models are saved\n",
    "            CHECKPOINT_PATH = checkpoint_folder / f'{model}_{NUM_LAYERS}_{HIDDEN_CHANNELS}_{fold}' / pool\n",
    "            CHECKPOINT_PATH.mkdir(parents=True, exist_ok=True)\n",
    "\n",
    "            # Skip already trained kfold and pool\n",
    "            checkpoint = CHECKPOINT_PATH / f\"GraphLevel{model}\" / f\"GraphLevel{model}.ckpt\" \n",
    "            if checkpoint.exists():\n",
    "                print(checkpoint)\n",
    "                continue\n",
    "\n",
    "            # Run training\n",
    "            run = wandb.init(project=project_name, name=f'{model}_{NUM_LAYERS}_{HIDDEN_CHANNELS}_{fold}', \n",
    "                            group=f'{model}_{pool}')\n",
    "            graph.train_graph_classifier_kfold(model, \n",
    "                                                 train_subset, \n",
    "                                                 val_subset, \n",
    "                                                 test_subset,\n",
    "                                                 dataset, \n",
    "                                                 CHECKPOINT_PATH, \n",
    "                                                 AVAIL_GPUS, \n",
    "                                                 hidden_channels=HIDDEN_CHANNELS, \n",
    "                                                 num_layers=NUM_LAYERS, \n",
    "                                                 epochs=epochs,\n",
    "                                                 batch_size=batch_size,\n",
    "                                                 graph_pooling=pool,\n",
    "                                                pos=True)\n",
    "            run.finish()\n"
   ]
  },
  {
   "cell_type": "code",
   "execution_count": null,
   "id": "2a29eb2b-4e2c-498d-9e0a-65bd30d87939",
   "metadata": {},
   "outputs": [],
   "source": []
  }
 ],
 "metadata": {
  "kernelspec": {
   "display_name": "snowflake",
   "language": "python",
   "name": "python3"
  },
  "language_info": {
   "codemirror_mode": {
    "name": "ipython",
    "version": 3
   },
   "file_extension": ".py",
   "mimetype": "text/x-python",
   "name": "python",
   "nbconvert_exporter": "python",
   "pygments_lexer": "ipython3",
   "version": "3.9.16"
  }
 },
 "nbformat": 4,
 "nbformat_minor": 5
}
