{
 "cells": [
  {
   "cell_type": "code",
   "execution_count": 1,
   "id": "5f00ddbd-7553-4046-9053-9365d6757dfc",
   "metadata": {},
   "outputs": [],
   "source": [
    "import os\n",
    "import re\n",
    "import sys\n",
    "from pathlib import Path\n",
    "\n",
    "import h5py\n",
    "import matplotlib.pyplot as plt\n",
    "import numpy as np\n",
    "import pandas as pd\n",
    "import scanpy as sc\n",
    "import skimage\n",
    "import squidpy as sq\n",
    "from skimage import io\n",
    "from sklearn import preprocessing\n",
    "from tqdm.notebook import tqdm, trange\n",
    "import anndata as ad\n",
    "from skimage import exposure, measure, morphology, util\n",
    "import cv2 "
   ]
  },
  {
   "cell_type": "code",
   "execution_count": 2,
   "id": "62760cda-9585-473d-9b2e-a7fa3f596966",
   "metadata": {},
   "outputs": [],
   "source": [
    "p_dir = (Path().cwd().parents[0].parents[0]).absolute()\n",
    "data_dir = p_dir / \"09_datasets\""
   ]
  },
  {
   "cell_type": "code",
   "execution_count": 3,
   "id": "00987a87-080f-4700-afa9-57eaba91dd46",
   "metadata": {},
   "outputs": [],
   "source": [
    "dataset_1 = data_dir / '01_codex_data'\n",
    "dataset_2 = data_dir / '02_tissue_architecture'\n",
    "dataset_3 = data_dir / '03_Sci_Data_Cycif' \n",
    "dataset_5 = data_dir / '05_MCMICRO' / 'TNP_pilot_cycif' "
   ]
  },
  {
   "cell_type": "code",
   "execution_count": 4,
   "id": "3360a5d6-5258-4ca5-b6bb-8d932def51f9",
   "metadata": {},
   "outputs": [],
   "source": [
    "manual_path = data_dir / 'exported' / 'manual' "
   ]
  },
  {
   "cell_type": "code",
   "execution_count": 5,
   "id": "93a56004-adc5-478c-bb7e-aab292a655c4",
   "metadata": {
    "tags": []
   },
   "outputs": [],
   "source": [
    "# Quality control of mask\n",
    "def match_gc_foll(mask_gc, mask_foll):\n",
    "    '''\n",
    "    Function to check if cell masks contain nuclei\n",
    "    '''\n",
    "    # Label foll mask\n",
    "    foll = measure.label(mask_foll).astype(np.uint16)\n",
    "    # Label gc mask inside foll mask\n",
    "    gc = np.where(mask_gc > 0, foll, 0).astype(np.uint16)\n",
    "    # Get mantel zone\n",
    "    non_gc = cv2.subtract(foll, gc)\n",
    "    \n",
    "    return foll, gc, non_gc\n",
    "\n",
    "\n",
    "def contrast_streching(img, q_min=0.5, q_max=99.5):\n",
    "    p2, p98 = np.percentile(img, (q_min, q_max))\n",
    "    img = exposure.rescale_intensity(img, in_range=(p2, p98), out_range=(0, 255)).astype(np.uint8)\n",
    "    return img"
   ]
  },
  {
   "cell_type": "markdown",
   "id": "ac5e1791-b5a0-46ca-a0ac-3a208dce858f",
   "metadata": {
    "jp-MarkdownHeadingCollapsed": true,
    "tags": []
   },
   "source": [
    "# 01_Codex\n",
    "\n",
    "Manually segmented all follicle and GC regions. Read both mask and assign same label to matching follicle and GC "
   ]
  },
  {
   "cell_type": "code",
   "execution_count": 6,
   "id": "b5a379f7-9e23-4f2e-8bd2-77dfebd8b3f6",
   "metadata": {},
   "outputs": [],
   "source": [
    "foll_mask_path = manual_path / '01_foll.png'\n",
    "GC_mask_path = manual_path / '01_GC.png'\n",
    "\n",
    "foll_mask = cv2.imread(str(foll_mask_path), cv2.IMREAD_GRAYSCALE)\n",
    "foll_mask = cv2.bitwise_not(foll_mask)\n",
    "\n",
    "GC_mask = cv2.imread(str(GC_mask_path), cv2.IMREAD_GRAYSCALE)\n",
    "GC_mask = cv2.bitwise_not(GC_mask)"
   ]
  },
  {
   "cell_type": "code",
   "execution_count": 7,
   "id": "3432cdb0-4b6c-4f48-9ecf-23eae1d0e22f",
   "metadata": {},
   "outputs": [],
   "source": [
    "foll, gc, non_gc = match_gc_foll(GC_mask, foll_mask)"
   ]
  },
  {
   "cell_type": "code",
   "execution_count": 8,
   "id": "da8b63f0-67b8-4568-9630-27795f40c315",
   "metadata": {},
   "outputs": [
    {
     "name": "stdout",
     "output_type": "stream",
     "text": [
      "88 85\n"
     ]
    }
   ],
   "source": [
    "print(len(np.unique(foll))-1, len(np.unique(gc))-1)"
   ]
  },
  {
   "cell_type": "code",
   "execution_count": 9,
   "id": "ed393cc6-6812-4489-af58-577abf18c368",
   "metadata": {},
   "outputs": [],
   "source": [
    "# import napari\n",
    "\n",
    "# napari.view_image(np.stack([foll, gc, non_gc]))"
   ]
  },
  {
   "cell_type": "code",
   "execution_count": 10,
   "id": "ea2468e4-ac99-4689-bd25-4e7058d8f06f",
   "metadata": {},
   "outputs": [
    {
     "name": "stderr",
     "output_type": "stream",
     "text": [
      "C:\\Users\\thu71\\AppData\\Local\\Temp\\ipykernel_40436\\2009186643.py:2: UserWarning: \\\\bme-retromaster.ad.gatech.edu\\labs5\\coskun-lab\\Thomas\\09_datasets\\exported\\foll_masks\\01_GC.png is a low contrast image\n",
      "  io.imsave(img_path, gc)\n",
      "C:\\Users\\thu71\\AppData\\Local\\Temp\\ipykernel_40436\\2009186643.py:4: UserWarning: \\\\bme-retromaster.ad.gatech.edu\\labs5\\coskun-lab\\Thomas\\09_datasets\\exported\\foll_masks\\01_foll.png is a low contrast image\n",
      "  io.imsave(img_path, foll)\n",
      "C:\\Users\\thu71\\AppData\\Local\\Temp\\ipykernel_40436\\2009186643.py:6: UserWarning: \\\\bme-retromaster.ad.gatech.edu\\labs5\\coskun-lab\\Thomas\\09_datasets\\exported\\foll_masks\\01_nongc.png is a low contrast image\n",
      "  io.imsave(img_path, non_gc)\n"
     ]
    }
   ],
   "source": [
    "img_path = data_dir / 'exported' / 'foll_masks' / '01_GC.png'\n",
    "io.imsave(img_path, gc)\n",
    "img_path = data_dir / 'exported' / 'foll_masks' / '01_foll.png'\n",
    "io.imsave(img_path, foll)\n",
    "img_path = data_dir / 'exported' / 'foll_masks' / '01_nongc.png'\n",
    "io.imsave(img_path, non_gc)"
   ]
  },
  {
   "cell_type": "markdown",
   "id": "8b41945d-9afb-4c07-89fd-1f958653dc80",
   "metadata": {
    "tags": []
   },
   "source": [
    "# 03 Cycif\n",
    "\n",
    "Automated segmentation of GC regions combined with manual segmentation of follicle regions"
   ]
  },
  {
   "cell_type": "markdown",
   "id": "0df845d1-4808-4692-9d4e-5d9f5370b8cf",
   "metadata": {
    "tags": []
   },
   "source": [
    "## Segment GC region by looking at combined marker expression"
   ]
  },
  {
   "cell_type": "code",
   "execution_count": 12,
   "id": "559b81e1-e276-4916-8f23-7c86ad74a303",
   "metadata": {
    "tags": []
   },
   "outputs": [],
   "source": [
    "foll_mask_path = manual_path / '03_foll.png'\n",
    "foll_mask = cv2.imread(str(foll_mask_path), cv2.IMREAD_GRAYSCALE)\n",
    "foll_mask = cv2.bitwise_not(foll_mask)"
   ]
  },
  {
   "cell_type": "code",
   "execution_count": 13,
   "id": "a17eb767-fa8e-47e6-9a64-f19e4fa5f326",
   "metadata": {},
   "outputs": [],
   "source": [
    "img_path = data_dir / 'exported' / 'GC' / '03_GC.ome.tif'\n",
    "img = io.imread(img_path, as_gray=True)\n",
    "img = util.invert(img)\n",
    "img = contrast_streching(img)\n",
    "img = cv2.blur(img,(15,15))"
   ]
  },
  {
   "cell_type": "code",
   "execution_count": 14,
   "id": "500ed3f8-e9b0-4b3e-be0e-3615b8208865",
   "metadata": {},
   "outputs": [],
   "source": [
    "res = cv2.bitwise_and(img,img,mask = foll_mask)"
   ]
  },
  {
   "cell_type": "code",
   "execution_count": null,
   "id": "a123794d-59c3-4c79-838f-564344182f2e",
   "metadata": {},
   "outputs": [],
   "source": [
    "img_mask = res>155\n",
    "img_mask = morphology.binary_closing(img_mask, morphology.square(15))\n",
    "img_mask = morphology.binary_opening(img_mask, morphology.square(7))"
   ]
  },
  {
   "cell_type": "code",
   "execution_count": null,
   "id": "c6f7c51e-6f6c-4ec4-80bd-c258c6df5058",
   "metadata": {},
   "outputs": [],
   "source": [
    "img_mask_filtered = morphology.remove_small_holes(img_mask, 5000)\n",
    "img_mask_filtered = morphology.remove_small_objects(img_mask_filtered, 2000)"
   ]
  },
  {
   "cell_type": "code",
   "execution_count": null,
   "id": "e862b5f6-3db4-406c-93be-5951c0f103d0",
   "metadata": {},
   "outputs": [],
   "source": [
    "# import napari\n",
    "# viewer = napari.view_image(res)\n",
    "# viewer.add_image(img_mask)\n",
    "# viewer.add_image(img_mask_filtered)"
   ]
  },
  {
   "cell_type": "code",
   "execution_count": 155,
   "id": "646e1fbd-1c55-44af-b70c-c2e36469a66a",
   "metadata": {},
   "outputs": [
    {
     "name": "stderr",
     "output_type": "stream",
     "text": [
      "C:\\Users\\thu71\\AppData\\Local\\Temp\\ipykernel_21040\\1073505967.py:2: UserWarning: \\\\bme-retromaster.ad.gatech.edu\\labs5\\coskun-lab\\Thomas\\09_datasets\\exported\\GC\\03_GC.tif is a boolean image: setting True to 255 and False to 0. To silence this warning, please convert the image using img_as_ubyte.\n",
      "  io.imsave(img_path, img_mask_filtered)\n"
     ]
    }
   ],
   "source": [
    "img_path = data_dir / 'exported' / 'GC' / '03_GC.tif'\n",
    "io.imsave(img_path, img_mask_filtered)"
   ]
  },
  {
   "cell_type": "markdown",
   "id": "42ee3bf4-18f9-43d5-95b3-5a16364506a3",
   "metadata": {
    "tags": []
   },
   "source": [
    "## Match Follicle and GC regions"
   ]
  },
  {
   "cell_type": "code",
   "execution_count": 6,
   "id": "becbbc0a-5e67-4100-bc39-9977e48357b8",
   "metadata": {},
   "outputs": [],
   "source": [
    "from skimage.measure import find_contours, approximate_polygon, subdivide_polygon \n",
    "from skimage.draw import polygon"
   ]
  },
  {
   "cell_type": "code",
   "execution_count": 7,
   "id": "5fcb9285-3bec-4fa8-9f52-ff6f01fa7a2d",
   "metadata": {},
   "outputs": [],
   "source": [
    "foll_mask_path = manual_path / '03_foll.png'\n",
    "GC_mask_path = manual_path / '03_GC.tif'\n",
    "\n",
    "foll_mask = cv2.imread(str(foll_mask_path), cv2.IMREAD_GRAYSCALE)\n",
    "foll_mask = cv2.bitwise_not(foll_mask)\n",
    "\n",
    "GC_mask = cv2.imread(str(GC_mask_path), cv2.IMREAD_GRAYSCALE)\n",
    "GC_mask = cv2.GaussianBlur(GC_mask, (0,0), sigmaX=10, sigmaY=10, borderType = cv2.BORDER_DEFAULT)\n"
   ]
  },
  {
   "cell_type": "code",
   "execution_count": 8,
   "id": "b6844b44-f544-4771-ac28-594b050b437a",
   "metadata": {},
   "outputs": [],
   "source": [
    "foll, gc, non_gc = match_gc_foll(GC_mask, foll_mask)"
   ]
  },
  {
   "cell_type": "code",
   "execution_count": 9,
   "id": "7f42be5d-6883-4d5d-8766-a7bb62ee6cc5",
   "metadata": {},
   "outputs": [
    {
     "name": "stdout",
     "output_type": "stream",
     "text": [
      "271 190\n"
     ]
    }
   ],
   "source": [
    "print(len(np.unique(foll))-1, len(np.unique(gc))-1)"
   ]
  },
  {
   "cell_type": "code",
   "execution_count": 10,
   "id": "374bba8e-2209-41b3-a997-d0cc2da51bed",
   "metadata": {},
   "outputs": [
    {
     "data": {
      "text/plain": [
       "Viewer(axes=Axes(visible=False, labels=True, colored=True, dashed=False, arrows=True), camera=Camera(center=(0.0, 5277.0, 7494.0), zoom=0.048062529606821405, angles=(0.0, 0.0, 90.0), perspective=0.0, interactive=True), cursor=Cursor(position=(1.0, 1.0, 0.0), scaled=True, size=1, style=<CursorStyle.STANDARD: 'standard'>), dims=Dims(ndim=3, ndisplay=2, last_used=0, range=((0.0, 3.0, 1.0), (0.0, 10555.0, 1.0), (0.0, 14989.0, 1.0)), current_step=(1, 5277, 7494), order=(0, 1, 2), axis_labels=('0', '1', '2')), grid=GridCanvas(stride=1, shape=(-1, -1), enabled=False), layers=[<Image layer 'Image' at 0x213138575b0>], scale_bar=ScaleBar(visible=False, colored=False, ticks=True, position=<Position.BOTTOM_RIGHT: 'bottom_right'>, font_size=10, unit=None), text_overlay=TextOverlay(visible=False, color=(0.5, 0.5, 0.5, 1.0), font_size=10, position=<TextOverlayPosition.TOP_LEFT: 'top_left'>, text=''), overlays=Overlays(interaction_box=InteractionBox(points=None, show=False, show_handle=False, show_vertices=False, selection_box_drag=None, selection_box_final=None, transform_start=<napari.utils.transforms.transforms.Affine object at 0x00000213614B8F70>, transform_drag=<napari.utils.transforms.transforms.Affine object at 0x00000213614B8FD0>, transform_final=<napari.utils.transforms.transforms.Affine object at 0x00000213614B9030>, transform=<napari.utils.transforms.transforms.Affine object at 0x00000213614B9090>, allow_new_selection=True, selected_vertex=None)), help='', status='Ready', tooltip=Tooltip(visible=False, text=''), theme='dark', title='napari', mouse_move_callbacks=[<function InteractionBoxMouseBindings.initialize_mouse_events.<locals>.mouse_move at 0x0000021308D8E950>], mouse_drag_callbacks=[<function InteractionBoxMouseBindings.initialize_mouse_events.<locals>.mouse_drag at 0x0000021308D8E830>], mouse_double_click_callbacks=[], mouse_wheel_callbacks=[<function dims_scroll at 0x0000021360EB2C20>], _persisted_mouse_event={}, _mouse_drag_gen={}, _mouse_wheel_gen={}, keymap={'Shift': <function InteractionBoxMouseBindings.initialize_key_events.<locals>.hold_to_lock_aspect_ratio at 0x0000021308D8E680>, 'Control-Shift-R': <function InteractionBoxMouseBindings._reset_active_layer_affine at 0x0000021308D4AE60>, 'Control-Shift-A': <function InteractionBoxMouseBindings._transform_active_layer at 0x0000021308D485E0>})"
      ]
     },
     "execution_count": 10,
     "metadata": {},
     "output_type": "execute_result"
    }
   ],
   "source": [
    "# import napari\n",
    "\n",
    "# napari.view_image(np.stack([foll, gc, non_gc]))"
   ]
  },
  {
   "cell_type": "code",
   "execution_count": 11,
   "id": "949b2e16-c4d1-4e47-8706-f998c99a9265",
   "metadata": {},
   "outputs": [
    {
     "name": "stderr",
     "output_type": "stream",
     "text": [
      "C:\\Users\\thu71\\AppData\\Local\\Temp\\ipykernel_51076\\1535520330.py:2: UserWarning: \\\\bme-retromaster.ad.gatech.edu\\labs5\\coskun-lab\\Thomas\\09_datasets\\exported\\foll_masks\\03_GC.png is a low contrast image\n",
      "  io.imsave(img_path, gc)\n",
      "C:\\Users\\thu71\\AppData\\Local\\Temp\\ipykernel_51076\\1535520330.py:4: UserWarning: \\\\bme-retromaster.ad.gatech.edu\\labs5\\coskun-lab\\Thomas\\09_datasets\\exported\\foll_masks\\03_foll.png is a low contrast image\n",
      "  io.imsave(img_path, foll)\n",
      "C:\\Users\\thu71\\AppData\\Local\\Temp\\ipykernel_51076\\1535520330.py:6: UserWarning: \\\\bme-retromaster.ad.gatech.edu\\labs5\\coskun-lab\\Thomas\\09_datasets\\exported\\foll_masks\\03_nongc.png is a low contrast image\n",
      "  io.imsave(img_path, non_gc)\n"
     ]
    }
   ],
   "source": [
    "img_path = data_dir / 'exported' / 'foll_masks' / '03_GC.png'\n",
    "io.imsave(img_path, gc)\n",
    "img_path = data_dir / 'exported' / 'foll_masks' / '03_foll.png'\n",
    "io.imsave(img_path, foll)\n",
    "img_path = data_dir / 'exported' / 'foll_masks' / '03_nongc.png'\n",
    "io.imsave(img_path, non_gc)"
   ]
  },
  {
   "cell_type": "code",
   "execution_count": 32,
   "id": "8fa99bb6-5454-4179-aa89-b4f426291322",
   "metadata": {},
   "outputs": [],
   "source": [
    "# cc = find_contours(blur, 200)\n",
    "\n",
    "# cc_smooth = []\n",
    "# for contour in cc:\n",
    "#     cc_smooth.append(subdivide_polygon(contour, degree=2))\n",
    "    \n",
    "# mask1 = np.zeros(GC_mask.shape)\n",
    "# for contour in cc:\n",
    "#     rr, cc = polygon(contour[:, 0], contour[:, 1], mask1.shape)\n",
    "#     mask1[rr, cc] = 255    "
   ]
  },
  {
   "cell_type": "markdown",
   "id": "417fa7a4-9b03-4f46-833e-db3bf6f2a4d4",
   "metadata": {
    "tags": []
   },
   "source": [
    "# 05 Cycif\n",
    "\n",
    "Manually segmented all follicle and GC regions. Read both mask and assign same label to matching follicle and GC "
   ]
  },
  {
   "cell_type": "code",
   "execution_count": 12,
   "id": "083c0e01-956b-4f64-aad5-34d8e26d5d84",
   "metadata": {},
   "outputs": [],
   "source": [
    "foll_mask_path = manual_path / '05_foll.png'\n",
    "GC_mask_path = manual_path / '05_GC.png'\n",
    "\n",
    "foll_mask = cv2.imread(str(foll_mask_path), cv2.IMREAD_GRAYSCALE)\n",
    "foll_mask = cv2.bitwise_not(foll_mask)\n",
    "\n",
    "GC_mask = cv2.imread(str(GC_mask_path), cv2.IMREAD_GRAYSCALE)\n",
    "GC_mask = cv2.bitwise_not(GC_mask)"
   ]
  },
  {
   "cell_type": "code",
   "execution_count": 13,
   "id": "1d00a753-e4c9-443a-9145-89949b3bed36",
   "metadata": {},
   "outputs": [],
   "source": [
    "foll, gc, non_gc = match_gc_foll(GC_mask, foll_mask)"
   ]
  },
  {
   "cell_type": "code",
   "execution_count": 14,
   "id": "cdd096d5-57e7-4303-9d5b-d277d618da97",
   "metadata": {},
   "outputs": [
    {
     "name": "stdout",
     "output_type": "stream",
     "text": [
      "92 90\n"
     ]
    }
   ],
   "source": [
    "print(len(np.unique(foll))-1, len(np.unique(gc))-1)"
   ]
  },
  {
   "cell_type": "code",
   "execution_count": 15,
   "id": "a33cda1c-2f42-49c1-a8a7-2774457b4d8e",
   "metadata": {},
   "outputs": [],
   "source": [
    "# import napari\n",
    "\n",
    "# napari.view_image(np.stack([foll, gc, non_gc]))"
   ]
  },
  {
   "cell_type": "code",
   "execution_count": 17,
   "id": "bad60619-a5a9-4ac5-b65c-561d11106801",
   "metadata": {},
   "outputs": [
    {
     "name": "stderr",
     "output_type": "stream",
     "text": [
      "C:\\Users\\thu71\\AppData\\Local\\Temp\\ipykernel_51076\\3602864885.py:2: UserWarning: \\\\bme-retromaster.ad.gatech.edu\\labs5\\coskun-lab\\Thomas\\09_datasets\\exported\\foll_masks\\05_GC.png is a low contrast image\n",
      "  io.imsave(img_path, gc)\n",
      "C:\\Users\\thu71\\AppData\\Local\\Temp\\ipykernel_51076\\3602864885.py:4: UserWarning: \\\\bme-retromaster.ad.gatech.edu\\labs5\\coskun-lab\\Thomas\\09_datasets\\exported\\foll_masks\\05_foll.png is a low contrast image\n",
      "  io.imsave(img_path, foll)\n",
      "C:\\Users\\thu71\\AppData\\Local\\Temp\\ipykernel_51076\\3602864885.py:6: UserWarning: \\\\bme-retromaster.ad.gatech.edu\\labs5\\coskun-lab\\Thomas\\09_datasets\\exported\\foll_masks\\05_nongc.png is a low contrast image\n",
      "  io.imsave(img_path, non_gc)\n"
     ]
    }
   ],
   "source": [
    "img_path = data_dir / 'exported' / 'foll_masks' / '05_GC.png'\n",
    "io.imsave(img_path, gc)\n",
    "img_path = data_dir / 'exported' / 'foll_masks' / '05_foll.png'\n",
    "io.imsave(img_path, foll)\n",
    "img_path = data_dir / 'exported' / 'foll_masks' / '05_nongc.png'\n",
    "io.imsave(img_path, non_gc)"
   ]
  },
  {
   "cell_type": "markdown",
   "id": "b3e9d121-60eb-4a07-852f-5634c9efa86c",
   "metadata": {
    "tags": []
   },
   "source": [
    "# 07 NIH"
   ]
  },
  {
   "cell_type": "code",
   "execution_count": 11,
   "id": "a9fa6950-f0a4-4b42-b0d9-a2f68349da8b",
   "metadata": {
    "collapsed": true,
    "jupyter": {
     "outputs_hidden": true
    },
    "tags": []
   },
   "outputs": [
    {
     "data": {
      "application/vnd.jupyter.widget-view+json": {
       "model_id": "1c41742c07d549b79ab5c8b4695cd3fc",
       "version_major": 2,
       "version_minor": 0
      },
      "text/plain": [
       "  0%|          | 0/12 [00:00<?, ?it/s]"
      ]
     },
     "metadata": {},
     "output_type": "display_data"
    },
    {
     "name": "stdout",
     "output_type": "stream",
     "text": [
      "56 52\n"
     ]
    },
    {
     "name": "stderr",
     "output_type": "stream",
     "text": [
      "C:\\Users\\thu71\\AppData\\Local\\Temp\\ipykernel_32412\\3815802243.py:18: UserWarning: \\\\bme-retromaster.ad.gatech.edu\\labs5\\coskun-lab\\Thomas\\09_datasets\\exported\\foll_masks\\07_T3_GC.png is a low contrast image\n",
      "  io.imsave(img_path, gc)\n",
      "C:\\Users\\thu71\\AppData\\Local\\Temp\\ipykernel_32412\\3815802243.py:20: UserWarning: \\\\bme-retromaster.ad.gatech.edu\\labs5\\coskun-lab\\Thomas\\09_datasets\\exported\\foll_masks\\07_T3_foll.png is a low contrast image\n",
      "  io.imsave(img_path, foll)\n",
      "C:\\Users\\thu71\\AppData\\Local\\Temp\\ipykernel_32412\\3815802243.py:22: UserWarning: \\\\bme-retromaster.ad.gatech.edu\\labs5\\coskun-lab\\Thomas\\09_datasets\\exported\\foll_masks\\07_T3_nongc.png is a low contrast image\n",
      "  io.imsave(img_path, non_gc)\n"
     ]
    },
    {
     "name": "stdout",
     "output_type": "stream",
     "text": [
      "45 39\n"
     ]
    },
    {
     "name": "stderr",
     "output_type": "stream",
     "text": [
      "C:\\Users\\thu71\\AppData\\Local\\Temp\\ipykernel_32412\\3815802243.py:18: UserWarning: \\\\bme-retromaster.ad.gatech.edu\\labs5\\coskun-lab\\Thomas\\09_datasets\\exported\\foll_masks\\07_T5_GC.png is a low contrast image\n",
      "  io.imsave(img_path, gc)\n",
      "C:\\Users\\thu71\\AppData\\Local\\Temp\\ipykernel_32412\\3815802243.py:20: UserWarning: \\\\bme-retromaster.ad.gatech.edu\\labs5\\coskun-lab\\Thomas\\09_datasets\\exported\\foll_masks\\07_T5_foll.png is a low contrast image\n",
      "  io.imsave(img_path, foll)\n",
      "C:\\Users\\thu71\\AppData\\Local\\Temp\\ipykernel_32412\\3815802243.py:22: UserWarning: \\\\bme-retromaster.ad.gatech.edu\\labs5\\coskun-lab\\Thomas\\09_datasets\\exported\\foll_masks\\07_T5_nongc.png is a low contrast image\n",
      "  io.imsave(img_path, non_gc)\n"
     ]
    },
    {
     "name": "stdout",
     "output_type": "stream",
     "text": [
      "22 19\n"
     ]
    },
    {
     "name": "stderr",
     "output_type": "stream",
     "text": [
      "C:\\Users\\thu71\\AppData\\Local\\Temp\\ipykernel_32412\\3815802243.py:18: UserWarning: \\\\bme-retromaster.ad.gatech.edu\\labs5\\coskun-lab\\Thomas\\09_datasets\\exported\\foll_masks\\07_T6_GC.png is a low contrast image\n",
      "  io.imsave(img_path, gc)\n",
      "C:\\Users\\thu71\\AppData\\Local\\Temp\\ipykernel_32412\\3815802243.py:20: UserWarning: \\\\bme-retromaster.ad.gatech.edu\\labs5\\coskun-lab\\Thomas\\09_datasets\\exported\\foll_masks\\07_T6_foll.png is a low contrast image\n",
      "  io.imsave(img_path, foll)\n",
      "C:\\Users\\thu71\\AppData\\Local\\Temp\\ipykernel_32412\\3815802243.py:22: UserWarning: \\\\bme-retromaster.ad.gatech.edu\\labs5\\coskun-lab\\Thomas\\09_datasets\\exported\\foll_masks\\07_T6_nongc.png is a low contrast image\n",
      "  io.imsave(img_path, non_gc)\n"
     ]
    },
    {
     "name": "stdout",
     "output_type": "stream",
     "text": [
      "67 62\n"
     ]
    },
    {
     "name": "stderr",
     "output_type": "stream",
     "text": [
      "C:\\Users\\thu71\\AppData\\Local\\Temp\\ipykernel_32412\\3815802243.py:18: UserWarning: \\\\bme-retromaster.ad.gatech.edu\\labs5\\coskun-lab\\Thomas\\09_datasets\\exported\\foll_masks\\07_T8_GC.png is a low contrast image\n",
      "  io.imsave(img_path, gc)\n",
      "C:\\Users\\thu71\\AppData\\Local\\Temp\\ipykernel_32412\\3815802243.py:20: UserWarning: \\\\bme-retromaster.ad.gatech.edu\\labs5\\coskun-lab\\Thomas\\09_datasets\\exported\\foll_masks\\07_T8_foll.png is a low contrast image\n",
      "  io.imsave(img_path, foll)\n",
      "C:\\Users\\thu71\\AppData\\Local\\Temp\\ipykernel_32412\\3815802243.py:22: UserWarning: \\\\bme-retromaster.ad.gatech.edu\\labs5\\coskun-lab\\Thomas\\09_datasets\\exported\\foll_masks\\07_T8_nongc.png is a low contrast image\n",
      "  io.imsave(img_path, non_gc)\n"
     ]
    },
    {
     "name": "stdout",
     "output_type": "stream",
     "text": [
      "64 59\n"
     ]
    },
    {
     "name": "stderr",
     "output_type": "stream",
     "text": [
      "C:\\Users\\thu71\\AppData\\Local\\Temp\\ipykernel_32412\\3815802243.py:18: UserWarning: \\\\bme-retromaster.ad.gatech.edu\\labs5\\coskun-lab\\Thomas\\09_datasets\\exported\\foll_masks\\07_T18_GC.png is a low contrast image\n",
      "  io.imsave(img_path, gc)\n",
      "C:\\Users\\thu71\\AppData\\Local\\Temp\\ipykernel_32412\\3815802243.py:20: UserWarning: \\\\bme-retromaster.ad.gatech.edu\\labs5\\coskun-lab\\Thomas\\09_datasets\\exported\\foll_masks\\07_T18_foll.png is a low contrast image\n",
      "  io.imsave(img_path, foll)\n",
      "C:\\Users\\thu71\\AppData\\Local\\Temp\\ipykernel_32412\\3815802243.py:22: UserWarning: \\\\bme-retromaster.ad.gatech.edu\\labs5\\coskun-lab\\Thomas\\09_datasets\\exported\\foll_masks\\07_T18_nongc.png is a low contrast image\n",
      "  io.imsave(img_path, non_gc)\n"
     ]
    },
    {
     "name": "stdout",
     "output_type": "stream",
     "text": [
      "83 60\n"
     ]
    },
    {
     "name": "stderr",
     "output_type": "stream",
     "text": [
      "C:\\Users\\thu71\\AppData\\Local\\Temp\\ipykernel_32412\\3815802243.py:18: UserWarning: \\\\bme-retromaster.ad.gatech.edu\\labs5\\coskun-lab\\Thomas\\09_datasets\\exported\\foll_masks\\07_T22_GC.png is a low contrast image\n",
      "  io.imsave(img_path, gc)\n",
      "C:\\Users\\thu71\\AppData\\Local\\Temp\\ipykernel_32412\\3815802243.py:20: UserWarning: \\\\bme-retromaster.ad.gatech.edu\\labs5\\coskun-lab\\Thomas\\09_datasets\\exported\\foll_masks\\07_T22_foll.png is a low contrast image\n",
      "  io.imsave(img_path, foll)\n",
      "C:\\Users\\thu71\\AppData\\Local\\Temp\\ipykernel_32412\\3815802243.py:22: UserWarning: \\\\bme-retromaster.ad.gatech.edu\\labs5\\coskun-lab\\Thomas\\09_datasets\\exported\\foll_masks\\07_T22_nongc.png is a low contrast image\n",
      "  io.imsave(img_path, non_gc)\n"
     ]
    },
    {
     "name": "stdout",
     "output_type": "stream",
     "text": [
      "8 6\n"
     ]
    },
    {
     "name": "stderr",
     "output_type": "stream",
     "text": [
      "C:\\Users\\thu71\\AppData\\Local\\Temp\\ipykernel_32412\\3815802243.py:18: UserWarning: \\\\bme-retromaster.ad.gatech.edu\\labs5\\coskun-lab\\Thomas\\09_datasets\\exported\\foll_masks\\07_A6_GC.png is a low contrast image\n",
      "  io.imsave(img_path, gc)\n",
      "C:\\Users\\thu71\\AppData\\Local\\Temp\\ipykernel_32412\\3815802243.py:20: UserWarning: \\\\bme-retromaster.ad.gatech.edu\\labs5\\coskun-lab\\Thomas\\09_datasets\\exported\\foll_masks\\07_A6_foll.png is a low contrast image\n",
      "  io.imsave(img_path, foll)\n",
      "C:\\Users\\thu71\\AppData\\Local\\Temp\\ipykernel_32412\\3815802243.py:22: UserWarning: \\\\bme-retromaster.ad.gatech.edu\\labs5\\coskun-lab\\Thomas\\09_datasets\\exported\\foll_masks\\07_A6_nongc.png is a low contrast image\n",
      "  io.imsave(img_path, non_gc)\n"
     ]
    },
    {
     "name": "stdout",
     "output_type": "stream",
     "text": [
      "17 17\n"
     ]
    },
    {
     "name": "stderr",
     "output_type": "stream",
     "text": [
      "C:\\Users\\thu71\\AppData\\Local\\Temp\\ipykernel_32412\\3815802243.py:18: UserWarning: \\\\bme-retromaster.ad.gatech.edu\\labs5\\coskun-lab\\Thomas\\09_datasets\\exported\\foll_masks\\07_A8_GC.png is a low contrast image\n",
      "  io.imsave(img_path, gc)\n",
      "C:\\Users\\thu71\\AppData\\Local\\Temp\\ipykernel_32412\\3815802243.py:20: UserWarning: \\\\bme-retromaster.ad.gatech.edu\\labs5\\coskun-lab\\Thomas\\09_datasets\\exported\\foll_masks\\07_A8_foll.png is a low contrast image\n",
      "  io.imsave(img_path, foll)\n",
      "C:\\Users\\thu71\\AppData\\Local\\Temp\\ipykernel_32412\\3815802243.py:22: UserWarning: \\\\bme-retromaster.ad.gatech.edu\\labs5\\coskun-lab\\Thomas\\09_datasets\\exported\\foll_masks\\07_A8_nongc.png is a low contrast image\n",
      "  io.imsave(img_path, non_gc)\n"
     ]
    },
    {
     "name": "stdout",
     "output_type": "stream",
     "text": [
      "13 9\n"
     ]
    },
    {
     "name": "stderr",
     "output_type": "stream",
     "text": [
      "C:\\Users\\thu71\\AppData\\Local\\Temp\\ipykernel_32412\\3815802243.py:18: UserWarning: \\\\bme-retromaster.ad.gatech.edu\\labs5\\coskun-lab\\Thomas\\09_datasets\\exported\\foll_masks\\07_A11_GC.png is a low contrast image\n",
      "  io.imsave(img_path, gc)\n",
      "C:\\Users\\thu71\\AppData\\Local\\Temp\\ipykernel_32412\\3815802243.py:20: UserWarning: \\\\bme-retromaster.ad.gatech.edu\\labs5\\coskun-lab\\Thomas\\09_datasets\\exported\\foll_masks\\07_A11_foll.png is a low contrast image\n",
      "  io.imsave(img_path, foll)\n",
      "C:\\Users\\thu71\\AppData\\Local\\Temp\\ipykernel_32412\\3815802243.py:22: UserWarning: \\\\bme-retromaster.ad.gatech.edu\\labs5\\coskun-lab\\Thomas\\09_datasets\\exported\\foll_masks\\07_A11_nongc.png is a low contrast image\n",
      "  io.imsave(img_path, non_gc)\n"
     ]
    },
    {
     "name": "stdout",
     "output_type": "stream",
     "text": [
      "25 25\n"
     ]
    },
    {
     "name": "stderr",
     "output_type": "stream",
     "text": [
      "C:\\Users\\thu71\\AppData\\Local\\Temp\\ipykernel_32412\\3815802243.py:18: UserWarning: \\\\bme-retromaster.ad.gatech.edu\\labs5\\coskun-lab\\Thomas\\09_datasets\\exported\\foll_masks\\07_A18_GC.png is a low contrast image\n",
      "  io.imsave(img_path, gc)\n",
      "C:\\Users\\thu71\\AppData\\Local\\Temp\\ipykernel_32412\\3815802243.py:20: UserWarning: \\\\bme-retromaster.ad.gatech.edu\\labs5\\coskun-lab\\Thomas\\09_datasets\\exported\\foll_masks\\07_A18_foll.png is a low contrast image\n",
      "  io.imsave(img_path, foll)\n",
      "C:\\Users\\thu71\\AppData\\Local\\Temp\\ipykernel_32412\\3815802243.py:22: UserWarning: \\\\bme-retromaster.ad.gatech.edu\\labs5\\coskun-lab\\Thomas\\09_datasets\\exported\\foll_masks\\07_A18_nongc.png is a low contrast image\n",
      "  io.imsave(img_path, non_gc)\n"
     ]
    },
    {
     "name": "stdout",
     "output_type": "stream",
     "text": [
      "14 10\n"
     ]
    },
    {
     "name": "stderr",
     "output_type": "stream",
     "text": [
      "C:\\Users\\thu71\\AppData\\Local\\Temp\\ipykernel_32412\\3815802243.py:18: UserWarning: \\\\bme-retromaster.ad.gatech.edu\\labs5\\coskun-lab\\Thomas\\09_datasets\\exported\\foll_masks\\07_A21_GC.png is a low contrast image\n",
      "  io.imsave(img_path, gc)\n",
      "C:\\Users\\thu71\\AppData\\Local\\Temp\\ipykernel_32412\\3815802243.py:20: UserWarning: \\\\bme-retromaster.ad.gatech.edu\\labs5\\coskun-lab\\Thomas\\09_datasets\\exported\\foll_masks\\07_A21_foll.png is a low contrast image\n",
      "  io.imsave(img_path, foll)\n",
      "C:\\Users\\thu71\\AppData\\Local\\Temp\\ipykernel_32412\\3815802243.py:22: UserWarning: \\\\bme-retromaster.ad.gatech.edu\\labs5\\coskun-lab\\Thomas\\09_datasets\\exported\\foll_masks\\07_A21_nongc.png is a low contrast image\n",
      "  io.imsave(img_path, non_gc)\n"
     ]
    },
    {
     "name": "stdout",
     "output_type": "stream",
     "text": [
      "28 28\n"
     ]
    },
    {
     "name": "stderr",
     "output_type": "stream",
     "text": [
      "C:\\Users\\thu71\\AppData\\Local\\Temp\\ipykernel_32412\\3815802243.py:18: UserWarning: \\\\bme-retromaster.ad.gatech.edu\\labs5\\coskun-lab\\Thomas\\09_datasets\\exported\\foll_masks\\07_A22_GC.png is a low contrast image\n",
      "  io.imsave(img_path, gc)\n",
      "C:\\Users\\thu71\\AppData\\Local\\Temp\\ipykernel_32412\\3815802243.py:20: UserWarning: \\\\bme-retromaster.ad.gatech.edu\\labs5\\coskun-lab\\Thomas\\09_datasets\\exported\\foll_masks\\07_A22_foll.png is a low contrast image\n",
      "  io.imsave(img_path, foll)\n",
      "C:\\Users\\thu71\\AppData\\Local\\Temp\\ipykernel_32412\\3815802243.py:22: UserWarning: \\\\bme-retromaster.ad.gatech.edu\\labs5\\coskun-lab\\Thomas\\09_datasets\\exported\\foll_masks\\07_A22_nongc.png is a low contrast image\n",
      "  io.imsave(img_path, non_gc)\n"
     ]
    }
   ],
   "source": [
    "name_pattern = ['07_T3', '07_T5', '07_T6', '07_T8' ,'07_T18', '07_T22', \n",
    "                '07_A6', '07_A8', '07_A11', '07_A18', '07_A21', '07_A22',]\n",
    "\n",
    "for name in tqdm(name_pattern):\n",
    "    foll_mask_path = manual_path / f'{name}_foll.png'\n",
    "    GC_mask_path = manual_path / f'{name}_GC.png'\n",
    "\n",
    "    foll_mask = cv2.imread(str(foll_mask_path), cv2.IMREAD_GRAYSCALE)\n",
    "    foll_mask = cv2.bitwise_not(foll_mask)\n",
    "\n",
    "    GC_mask = cv2.imread(str(GC_mask_path), cv2.IMREAD_GRAYSCALE)\n",
    "    GC_mask = cv2.bitwise_not(GC_mask)\n",
    "\n",
    "    foll, gc, non_gc = match_gc_foll(GC_mask, foll_mask)\n",
    "    print(len(np.unique(foll))-1, len(np.unique(gc))-1)\n",
    "    \n",
    "    img_path = data_dir / 'exported' / 'foll_masks' / f'{name}_GC.png'\n",
    "    io.imsave(img_path, gc)\n",
    "    img_path = data_dir / 'exported' / 'foll_masks' / f'{name}_foll.png'\n",
    "    io.imsave(img_path, foll)\n",
    "    img_path = data_dir / 'exported' / 'foll_masks' / f'{name}_nongc.png'\n",
    "    io.imsave(img_path, non_gc)"
   ]
  },
  {
   "cell_type": "markdown",
   "id": "ec2f635c-25fb-48fc-8377-d14592266f64",
   "metadata": {
    "tags": []
   },
   "source": [
    "# 08_visinity"
   ]
  },
  {
   "cell_type": "code",
   "execution_count": 6,
   "id": "f15e7669-335c-493d-9310-06585834b0b7",
   "metadata": {},
   "outputs": [],
   "source": [
    "foll_mask_path = manual_path / '08_foll.png'\n",
    "GC_mask_path = manual_path / '08_GC.png'\n",
    "\n",
    "foll_mask = cv2.imread(str(foll_mask_path), cv2.IMREAD_GRAYSCALE)\n",
    "foll_mask = cv2.bitwise_not(foll_mask)\n",
    "\n",
    "GC_mask = cv2.imread(str(GC_mask_path), cv2.IMREAD_GRAYSCALE)\n",
    "GC_mask = cv2.bitwise_not(GC_mask)"
   ]
  },
  {
   "cell_type": "code",
   "execution_count": 7,
   "id": "a89e1ae5-743d-44ad-aed5-5c0590c59957",
   "metadata": {},
   "outputs": [],
   "source": [
    "foll, gc, non_gc = match_gc_foll(GC_mask, foll_mask)"
   ]
  },
  {
   "cell_type": "code",
   "execution_count": 8,
   "id": "bcf8f3c1-e632-4aee-ac06-fd66cbedfa38",
   "metadata": {},
   "outputs": [
    {
     "name": "stdout",
     "output_type": "stream",
     "text": [
      "40 22\n"
     ]
    }
   ],
   "source": [
    "print(len(np.unique(foll))-1, len(np.unique(gc))-1)"
   ]
  },
  {
   "cell_type": "code",
   "execution_count": 9,
   "id": "6df67e08-6a6a-4461-80fe-ad10a4a42123",
   "metadata": {},
   "outputs": [],
   "source": [
    "# import napari\n",
    "\n",
    "# napari.view_image(np.stack([foll, gc, non_gc]))"
   ]
  },
  {
   "cell_type": "code",
   "execution_count": 10,
   "id": "64de4240-b8ae-49b0-ad5a-81c56c74abfd",
   "metadata": {},
   "outputs": [
    {
     "name": "stderr",
     "output_type": "stream",
     "text": [
      "C:\\Users\\thu71\\AppData\\Local\\Temp\\ipykernel_32412\\921922722.py:2: UserWarning: \\\\bme-retromaster.ad.gatech.edu\\labs5\\coskun-lab\\Thomas\\09_datasets\\exported\\foll_masks\\08_GC.png is a low contrast image\n",
      "  io.imsave(img_path, gc)\n",
      "C:\\Users\\thu71\\AppData\\Local\\Temp\\ipykernel_32412\\921922722.py:4: UserWarning: \\\\bme-retromaster.ad.gatech.edu\\labs5\\coskun-lab\\Thomas\\09_datasets\\exported\\foll_masks\\08_foll.png is a low contrast image\n",
      "  io.imsave(img_path, foll)\n",
      "C:\\Users\\thu71\\AppData\\Local\\Temp\\ipykernel_32412\\921922722.py:6: UserWarning: \\\\bme-retromaster.ad.gatech.edu\\labs5\\coskun-lab\\Thomas\\09_datasets\\exported\\foll_masks\\08_nongc.png is a low contrast image\n",
      "  io.imsave(img_path, non_gc)\n"
     ]
    }
   ],
   "source": [
    "img_path = data_dir / 'exported' / 'foll_masks' / '08_GC.png'\n",
    "io.imsave(img_path, gc)\n",
    "img_path = data_dir / 'exported' / 'foll_masks' / '08_foll.png'\n",
    "io.imsave(img_path, foll)\n",
    "img_path = data_dir / 'exported' / 'foll_masks' / '08_nongc.png'\n",
    "io.imsave(img_path, non_gc)"
   ]
  },
  {
   "cell_type": "markdown",
   "id": "994a28f5-de45-4e68-9ef9-fbdc72f13d5c",
   "metadata": {
    "tags": []
   },
   "source": [
    "# Our data"
   ]
  },
  {
   "cell_type": "code",
   "execution_count": 8,
   "id": "0b5266de-7757-4710-8e42-f2bf04ed450c",
   "metadata": {},
   "outputs": [
    {
     "data": {
      "application/vnd.jupyter.widget-view+json": {
       "model_id": "b4bb952e528a4007bc21bf5fce183339",
       "version_major": 2,
       "version_minor": 0
      },
      "text/plain": [
       "  0%|          | 0/4 [00:00<?, ?it/s]"
      ]
     },
     "metadata": {},
     "output_type": "display_data"
    },
    {
     "name": "stdout",
     "output_type": "stream",
     "text": [
      "14 1\n"
     ]
    },
    {
     "name": "stderr",
     "output_type": "stream",
     "text": [
      "C:\\Users\\thu71\\AppData\\Local\\Temp\\ipykernel_77948\\4009400999.py:17: UserWarning: \\\\bme-retromaster.ad.gatech.edu\\labs5\\coskun-lab\\Thomas\\09_datasets\\exported\\foll_masks\\00_LA_GC.png is a low contrast image\n",
      "  io.imsave(img_path, gc)\n",
      "C:\\Users\\thu71\\AppData\\Local\\Temp\\ipykernel_77948\\4009400999.py:19: UserWarning: \\\\bme-retromaster.ad.gatech.edu\\labs5\\coskun-lab\\Thomas\\09_datasets\\exported\\foll_masks\\00_LA_foll.png is a low contrast image\n",
      "  io.imsave(img_path, foll)\n",
      "C:\\Users\\thu71\\AppData\\Local\\Temp\\ipykernel_77948\\4009400999.py:21: UserWarning: \\\\bme-retromaster.ad.gatech.edu\\labs5\\coskun-lab\\Thomas\\09_datasets\\exported\\foll_masks\\00_LA_nongc.png is a low contrast image\n",
      "  io.imsave(img_path, non_gc)\n"
     ]
    },
    {
     "name": "stdout",
     "output_type": "stream",
     "text": [
      "18 8\n"
     ]
    },
    {
     "name": "stderr",
     "output_type": "stream",
     "text": [
      "C:\\Users\\thu71\\AppData\\Local\\Temp\\ipykernel_77948\\4009400999.py:17: UserWarning: \\\\bme-retromaster.ad.gatech.edu\\labs5\\coskun-lab\\Thomas\\09_datasets\\exported\\foll_masks\\00_LE_GC.png is a low contrast image\n",
      "  io.imsave(img_path, gc)\n",
      "C:\\Users\\thu71\\AppData\\Local\\Temp\\ipykernel_77948\\4009400999.py:19: UserWarning: \\\\bme-retromaster.ad.gatech.edu\\labs5\\coskun-lab\\Thomas\\09_datasets\\exported\\foll_masks\\00_LE_foll.png is a low contrast image\n",
      "  io.imsave(img_path, foll)\n",
      "C:\\Users\\thu71\\AppData\\Local\\Temp\\ipykernel_77948\\4009400999.py:21: UserWarning: \\\\bme-retromaster.ad.gatech.edu\\labs5\\coskun-lab\\Thomas\\09_datasets\\exported\\foll_masks\\00_LE_nongc.png is a low contrast image\n",
      "  io.imsave(img_path, non_gc)\n"
     ]
    },
    {
     "name": "stdout",
     "output_type": "stream",
     "text": [
      "23 18\n"
     ]
    },
    {
     "name": "stderr",
     "output_type": "stream",
     "text": [
      "C:\\Users\\thu71\\AppData\\Local\\Temp\\ipykernel_77948\\4009400999.py:17: UserWarning: \\\\bme-retromaster.ad.gatech.edu\\labs5\\coskun-lab\\Thomas\\09_datasets\\exported\\foll_masks\\00_TA_GC.png is a low contrast image\n",
      "  io.imsave(img_path, gc)\n",
      "C:\\Users\\thu71\\AppData\\Local\\Temp\\ipykernel_77948\\4009400999.py:19: UserWarning: \\\\bme-retromaster.ad.gatech.edu\\labs5\\coskun-lab\\Thomas\\09_datasets\\exported\\foll_masks\\00_TA_foll.png is a low contrast image\n",
      "  io.imsave(img_path, foll)\n",
      "C:\\Users\\thu71\\AppData\\Local\\Temp\\ipykernel_77948\\4009400999.py:21: UserWarning: \\\\bme-retromaster.ad.gatech.edu\\labs5\\coskun-lab\\Thomas\\09_datasets\\exported\\foll_masks\\00_TA_nongc.png is a low contrast image\n",
      "  io.imsave(img_path, non_gc)\n"
     ]
    },
    {
     "name": "stdout",
     "output_type": "stream",
     "text": [
      "20 16\n"
     ]
    },
    {
     "name": "stderr",
     "output_type": "stream",
     "text": [
      "C:\\Users\\thu71\\AppData\\Local\\Temp\\ipykernel_77948\\4009400999.py:17: UserWarning: \\\\bme-retromaster.ad.gatech.edu\\labs5\\coskun-lab\\Thomas\\09_datasets\\exported\\foll_masks\\00_TE_GC.png is a low contrast image\n",
      "  io.imsave(img_path, gc)\n",
      "C:\\Users\\thu71\\AppData\\Local\\Temp\\ipykernel_77948\\4009400999.py:19: UserWarning: \\\\bme-retromaster.ad.gatech.edu\\labs5\\coskun-lab\\Thomas\\09_datasets\\exported\\foll_masks\\00_TE_foll.png is a low contrast image\n",
      "  io.imsave(img_path, foll)\n",
      "C:\\Users\\thu71\\AppData\\Local\\Temp\\ipykernel_77948\\4009400999.py:21: UserWarning: \\\\bme-retromaster.ad.gatech.edu\\labs5\\coskun-lab\\Thomas\\09_datasets\\exported\\foll_masks\\00_TE_nongc.png is a low contrast image\n",
      "  io.imsave(img_path, non_gc)\n"
     ]
    }
   ],
   "source": [
    "name_pattern = ['00_LA', '00_LE', '00_TA', '00_TE']\n",
    "\n",
    "for name in tqdm(name_pattern):\n",
    "    foll_mask_path = manual_path / f'{name}_foll.png'\n",
    "    GC_mask_path = manual_path / f'{name}_GC.png'\n",
    "\n",
    "    foll_mask = cv2.imread(str(foll_mask_path), cv2.IMREAD_GRAYSCALE)\n",
    "    foll_mask = cv2.bitwise_not(foll_mask)\n",
    "\n",
    "    GC_mask = cv2.imread(str(GC_mask_path), cv2.IMREAD_GRAYSCALE)\n",
    "    GC_mask = cv2.bitwise_not(GC_mask)\n",
    "\n",
    "    foll, gc, non_gc = match_gc_foll(GC_mask, foll_mask)\n",
    "    print(len(np.unique(foll))-1, len(np.unique(gc))-1)\n",
    "    \n",
    "    img_path = data_dir / 'exported' / 'foll_masks' / f'{name}_GC.png'\n",
    "    io.imsave(img_path, gc)\n",
    "    img_path = data_dir / 'exported' / 'foll_masks' / f'{name}_foll.png'\n",
    "    io.imsave(img_path, foll)\n",
    "    img_path = data_dir / 'exported' / 'foll_masks' / f'{name}_nongc.png'\n",
    "    io.imsave(img_path, non_gc)"
   ]
  },
  {
   "cell_type": "code",
   "execution_count": null,
   "id": "1ff85504-b0af-4a1a-aea0-1e5b9d79992e",
   "metadata": {},
   "outputs": [],
   "source": []
  }
 ],
 "metadata": {
  "kernelspec": {
   "display_name": "Python [conda env:.conda-scanpy]",
   "language": "python",
   "name": "conda-env-.conda-scanpy-py"
  },
  "language_info": {
   "codemirror_mode": {
    "name": "ipython",
    "version": 3
   },
   "file_extension": ".py",
   "mimetype": "text/x-python",
   "name": "python",
   "nbconvert_exporter": "python",
   "pygments_lexer": "ipython3",
   "version": "3.10.5"
  }
 },
 "nbformat": 4,
 "nbformat_minor": 5
}
