{
 "cells": [
  {
   "cell_type": "code",
   "execution_count": 9,
   "id": "7d09a679-d2cf-4904-b48b-22f71261756d",
   "metadata": {},
   "outputs": [],
   "source": [
    "import os\n",
    "import sys\n",
    "from pathlib import Path\n",
    "\n",
    "import cv2\n",
    "import matplotlib.pyplot as plt\n",
    "import numpy as np\n",
    "import pandas as pd \n",
    "import skimage.io\n",
    "\n",
    "from collections import defaultdict\n",
    "from tqdm.auto import tqdm\n",
    "from joblib import Parallel, delayed\n",
    "import re\n",
    "import h5py\n",
    "import napari\n",
    "import tifffile as tiff\n",
    "import seaborn as sns\n",
    "import pickle\n",
    "\n",
    "import networkx as nx\n",
    "from sklearn.model_selection import train_test_split"
   ]
  },
  {
   "cell_type": "code",
   "execution_count": 10,
   "id": "b7790469-4bf9-43de-92a5-797e77da4ee1",
   "metadata": {},
   "outputs": [],
   "source": [
    "import torch_geometric.utils\n",
    "import torch"
   ]
  },
  {
   "cell_type": "code",
   "execution_count": 11,
   "id": "73a6828e-4e20-4823-9ad9-6cdde1214633",
   "metadata": {},
   "outputs": [
    {
     "name": "stdout",
     "output_type": "stream",
     "text": [
      "The autoreload extension is already loaded. To reload it, use:\n",
      "  %reload_ext autoreload\n"
     ]
    }
   ],
   "source": [
    "%load_ext autoreload\n",
    "%autoreload 2"
   ]
  },
  {
   "cell_type": "code",
   "execution_count": 12,
   "id": "874e1b2b-29a2-452c-827e-b2c3f91582da",
   "metadata": {},
   "outputs": [],
   "source": [
    "p_dir = (Path().cwd().parents[0]).absolute()\n",
    "\n",
    "module_path = str(p_dir / \"src\")\n",
    "\n",
    "if module_path not in sys.path:\n",
    "    sys.path.append(module_path)"
   ]
  },
  {
   "cell_type": "code",
   "execution_count": 13,
   "id": "2c6a33dd-33c7-40fe-9bf6-c8e760b8f435",
   "metadata": {},
   "outputs": [],
   "source": [
    "data_dir = (Path().cwd().parents[0] / 'data').absolute()"
   ]
  },
  {
   "cell_type": "code",
   "execution_count": 14,
   "id": "de7cc367-d98c-4307-9941-79c681c02b6d",
   "metadata": {},
   "outputs": [],
   "source": [
    "import graph\n",
    "import torch\n",
    "import torch_geometric.utils\n",
    "import networkx as nx\n",
    "import lightning.pytorch as pl\n",
    "import torch.utils.data as data\n",
    "\n",
    "spatial_omics_folder = (Path().cwd().parents[0]).absolute() / 'data' / 'spatial_omics_graph'\n",
    "process_path = (Path().cwd().parents[0]).absolute() / 'data' / 'torch_graph_data'"
   ]
  },
  {
   "cell_type": "markdown",
   "id": "1b529ce4-973c-4b4c-b54c-5a93c2c383b7",
   "metadata": {
    "tags": []
   },
   "source": [
    "# Create data loader"
   ]
  },
  {
   "cell_type": "code",
   "execution_count": 15,
   "id": "36f1d74c-afce-4aaf-8ff3-627239dad280",
   "metadata": {},
   "outputs": [],
   "source": [
    "from torch_geometric.loader import DataLoader\n",
    "seed = torch.Generator().manual_seed(42)\n",
    "\n",
    "name = 'NIH'\n",
    "\n",
    "# Crate dataset\n",
    "dataset = graph.GraphDataset(process_path / name, process_path / name / 'info.csv', 2, y_name='covid')\n",
    "\n",
    "train_set, val_set, test_set = graph.train_test_val_split(dataset)\n",
    "\n",
    "# Create Dataloader\n",
    "train_loader = DataLoader(train_set, batch_size=32, shuffle=True)\n",
    "val_loader = DataLoader(val_set, batch_size=32, shuffle=True)\n",
    "test_loader = DataLoader(test_set, batch_size=32, shuffle=False)\n"
   ]
  },
  {
   "cell_type": "code",
   "execution_count": 16,
   "id": "693e1fc9-fb2b-4b84-ba8b-a7070fe4bcd1",
   "metadata": {},
   "outputs": [
    {
     "name": "stdout",
     "output_type": "stream",
     "text": [
      "Dataset: GraphDataset(442):\n",
      "======================\n",
      "Number of graphs: 442\n",
      "Number of features: 5\n",
      "Number of classes: 2\n"
     ]
    }
   ],
   "source": [
    "print(f'Dataset: {dataset}:')\n",
    "print('======================')\n",
    "print(f'Number of graphs: {len(dataset)}')\n",
    "print(f'Number of features: {dataset.num_features}')\n",
    "print(f'Number of classes: {dataset.nc}')"
   ]
  },
  {
   "cell_type": "code",
   "execution_count": 17,
   "id": "d7c069c5-6f39-4d1e-9941-1f56e913240c",
   "metadata": {},
   "outputs": [
    {
     "name": "stdout",
     "output_type": "stream",
     "text": [
      "Train set: 213, val set: 176, test set: 53\n"
     ]
    }
   ],
   "source": [
    "print(f'Train set: {len(train_set)}, val set: {len(test_set)}, test set: {len(val_set)}')"
   ]
  },
  {
   "cell_type": "code",
   "execution_count": 18,
   "id": "f816ef8e-9578-4bb6-9857-6423efd65d2e",
   "metadata": {},
   "outputs": [
    {
     "name": "stdout",
     "output_type": "stream",
     "text": [
      "Step 1:\n",
      "=======\n",
      "Number of graphs in the current batch: 32\n",
      "DataBatch(edge_index=[2, 803505], num_nodes=115775, x=[115775, 5], pos=[115775, 2], node_types=[115775], label=[32], covid=[32], train_mask=[115775], test_mask=[115775], y=[32], name=[32], batch=[115775], ptr=[33])\n",
      "\n"
     ]
    }
   ],
   "source": [
    "for step, data in enumerate(test_loader):\n",
    "    print(f'Step {step + 1}:')\n",
    "    print('=======')\n",
    "    print(f'Number of graphs in the current batch: {data.num_graphs}')\n",
    "    print(data)\n",
    "    print()\n",
    "    data.label\n",
    "    break"
   ]
  },
  {
   "cell_type": "markdown",
   "id": "b65971db-5076-4455-9ffa-fbbd03b4de38",
   "metadata": {},
   "source": [
    "# Train network K Fold"
   ]
  },
  {
   "cell_type": "code",
   "execution_count": 19,
   "id": "4918a0c0-03d1-4545-a7d6-e171950cf14b",
   "metadata": {},
   "outputs": [],
   "source": [
    "from lightning.pytorch.accelerators import find_usable_cuda_devices\n",
    "import wandb"
   ]
  },
  {
   "cell_type": "code",
   "execution_count": 20,
   "id": "e89f1304-c744-4028-8cd4-e39b31e2ff23",
   "metadata": {},
   "outputs": [],
   "source": [
    "from sklearn.model_selection import KFold, StratifiedKFold, ShuffleSplit, StratifiedShuffleSplit\n",
    "from torch.utils.data import SubsetRandomSampler"
   ]
  },
  {
   "cell_type": "code",
   "execution_count": 21,
   "id": "416b9cc3-e483-416e-9534-7f1ae49c7933",
   "metadata": {},
   "outputs": [],
   "source": [
    "# # Print K fold model number of samples and number of positive cases\n",
    "\n",
    "# k_folds = 5\n",
    "# kfold = KFold(n_splits=k_folds, shuffle=True, random_state=42)\n",
    "\n",
    "# for fold, (train_ids, valid_ids) in enumerate(kfold.split(dataset)):\n",
    "#     train_subset = dataset.index_select(train_ids.tolist())\n",
    "#     val_subset = dataset.index_select(valid_ids.tolist())\n",
    "    \n",
    "#     train_loader = DataLoader(train_subset, batch_size=32, shuffle=True)\n",
    "#     val_loader = DataLoader(val_subset, batch_size=32, shuffle=False)\n",
    "    \n",
    "#     train_positives = 0\n",
    "#     test_positives = 0\n",
    "#     for step, data in enumerate(train_loader):\n",
    "#         train_positives += np.sum(data.y.numpy())\n",
    "#     for step, data in enumerate(val_loader):\n",
    "#         test_positives += np.sum(data.y.numpy())\n",
    "        \n",
    "#     print(len(train_subset), train_positives, len(val_subset), test_positives)"
   ]
  },
  {
   "cell_type": "code",
   "execution_count": 22,
   "id": "fbe86592-69e8-4a7d-829f-6c87d251ae6b",
   "metadata": {},
   "outputs": [],
   "source": [
    "condition = '082423_Covid'\n",
    "checkpoint_folder = (Path().cwd().parents[0]).absolute() / 'data' / \"saved_models\" / f\"Graph_GNNs_{condition}\" \n",
    "project_name = f'SF_{condition}'"
   ]
  },
  {
   "cell_type": "code",
   "execution_count": 23,
   "id": "fa7b36a3-1fec-4c98-96c2-2624dade218c",
   "metadata": {},
   "outputs": [
    {
     "name": "stderr",
     "output_type": "stream",
     "text": [
      "Global seed set to 42\n"
     ]
    }
   ],
   "source": [
    "AVAIL_GPUS = [0]\n",
    "\n",
    "# Setting the seed\n",
    "pl.seed_everything(42)\n",
    "\n",
    "NUM_LAYERS = 2\n",
    "HIDDEN_CHANNELS = 16\n",
    "pools = ['mean', 'max', 'attention', 'attention2']\n",
    "models = ['MLP']\n",
    "epochs = 100"
   ]
  },
  {
   "cell_type": "code",
   "execution_count": 25,
   "id": "9c53327a-7ed9-4245-8fcf-3e842b12b0cb",
   "metadata": {},
   "outputs": [],
   "source": [
    "ys = [data.y.item() for data in dataset]"
   ]
  },
  {
   "cell_type": "code",
   "execution_count": 26,
   "id": "f95a4de4-d501-4328-9593-95643a3ada5d",
   "metadata": {
    "tags": []
   },
   "outputs": [
    {
     "name": "stderr",
     "output_type": "stream",
     "text": [
      "Failed to detect the name of this notebook, you can set it manually with the WANDB_NOTEBOOK_NAME environment variable to enable code saving.\n",
      "\u001b[34m\u001b[1mwandb\u001b[0m: Currently logged in as: \u001b[33mthoomas\u001b[0m. Use \u001b[1m`wandb login --relogin`\u001b[0m to force relogin\n"
     ]
    },
    {
     "data": {
      "application/vnd.jupyter.widget-view+json": {
       "model_id": "2d35972c586e43cca6a7810c3212717f",
       "version_major": 2,
       "version_minor": 0
      },
      "text/plain": [
       "VBox(children=(Label(value='Waiting for wandb.init()...\\r'), FloatProgress(value=0.016933333333334608, max=1.0…"
      ]
     },
     "metadata": {},
     "output_type": "display_data"
    },
    {
     "data": {
      "text/html": [
       "wandb version 0.15.8 is available!  To upgrade, please run:\n",
       " $ pip install wandb --upgrade"
      ],
      "text/plain": [
       "<IPython.core.display.HTML object>"
      ]
     },
     "metadata": {},
     "output_type": "display_data"
    },
    {
     "data": {
      "text/html": [
       "Tracking run with wandb version 0.14.0"
      ],
      "text/plain": [
       "<IPython.core.display.HTML object>"
      ]
     },
     "metadata": {},
     "output_type": "display_data"
    },
    {
     "data": {
      "text/html": [
       "Run data is saved locally in <code>Y:\\coskun-lab\\Thomas\\11_snowflakes\\notebooks\\wandb\\run-20230824_114314-hsw48gb7</code>"
      ],
      "text/plain": [
       "<IPython.core.display.HTML object>"
      ]
     },
     "metadata": {},
     "output_type": "display_data"
    },
    {
     "data": {
      "text/html": [
       "Syncing run <strong><a href='https://wandb.ai/thoomas/SF_082423_Covid/runs/hsw48gb7' target=\"_blank\">MLP_2_16_0</a></strong> to <a href='https://wandb.ai/thoomas/SF_082423_Covid' target=\"_blank\">Weights & Biases</a> (<a href='https://wandb.me/run' target=\"_blank\">docs</a>)<br/>"
      ],
      "text/plain": [
       "<IPython.core.display.HTML object>"
      ]
     },
     "metadata": {},
     "output_type": "display_data"
    },
    {
     "data": {
      "text/html": [
       " View project at <a href='https://wandb.ai/thoomas/SF_082423_Covid' target=\"_blank\">https://wandb.ai/thoomas/SF_082423_Covid</a>"
      ],
      "text/plain": [
       "<IPython.core.display.HTML object>"
      ]
     },
     "metadata": {},
     "output_type": "display_data"
    },
    {
     "data": {
      "text/html": [
       " View run at <a href='https://wandb.ai/thoomas/SF_082423_Covid/runs/hsw48gb7' target=\"_blank\">https://wandb.ai/thoomas/SF_082423_Covid/runs/hsw48gb7</a>"
      ],
      "text/plain": [
       "<IPython.core.display.HTML object>"
      ]
     },
     "metadata": {},
     "output_type": "display_data"
    },
    {
     "name": "stderr",
     "output_type": "stream",
     "text": [
      "Global seed set to 42\n",
      "C:\\Users\\thu71\\Anaconda3\\envs\\snowflake\\lib\\site-packages\\pytorch_lightning\\loggers\\wandb.py:395: UserWarning: There is a wandb run already in progress and newly created instances of `WandbLogger` will reuse this run. If this is not desired, call `wandb.finish()` before instantiating `WandbLogger`.\n",
      "  rank_zero_warn(\n",
      "GPU available: True (cuda), used: True\n",
      "TPU available: False, using: 0 TPU cores\n",
      "IPU available: False, using: 0 IPUs\n",
      "HPU available: False, using: 0 HPUs\n",
      "Global seed set to 42\n",
      "LOCAL_RANK: 0 - CUDA_VISIBLE_DEVICES: [0,1]\n",
      "\n",
      "   | Name        | Type             | Params\n",
      "--------------------------------------------------\n",
      "0  | model       | MLPModel         | 368   \n",
      "1  | fnn_layer   | Linear           | 272   \n",
      "2  | selu        | SELU             | 0     \n",
      "3  | head        | Linear           | 34    \n",
      "4  | loss_module | CrossEntropyLoss | 0     \n",
      "5  | train_acc   | BinaryAccuracy   | 0     \n",
      "6  | train_auroc | BinaryAUROC      | 0     \n",
      "7  | train_f1    | BinaryF1Score    | 0     \n",
      "8  | valid_acc   | BinaryAccuracy   | 0     \n",
      "9  | valid_auroc | BinaryAUROC      | 0     \n",
      "10 | valid_f1    | BinaryF1Score    | 0     \n",
      "--------------------------------------------------\n",
      "674       Trainable params\n",
      "0         Non-trainable params\n",
      "674       Total params\n",
      "0.003     Total estimated model params size (MB)\n",
      "C:\\Users\\thu71\\AppData\\Roaming\\Python\\Python39\\site-packages\\lightning\\pytorch\\trainer\\connectors\\data_connector.py:478: PossibleUserWarning: Your `val_dataloader`'s sampler has shuffling enabled, it is strongly recommended that you turn shuffling off for val/test dataloaders.\n",
      "  rank_zero_warn(\n",
      "C:\\Users\\thu71\\AppData\\Roaming\\Python\\Python39\\site-packages\\lightning\\pytorch\\trainer\\connectors\\data_connector.py:430: PossibleUserWarning: The dataloader, val_dataloader, does not have many workers which may be a bottleneck. Consider increasing the value of the `num_workers` argument` (try 48 which is the number of cpus on this machine) in the `DataLoader` init to improve performance.\n",
      "  rank_zero_warn(\n",
      "C:\\Users\\thu71\\AppData\\Roaming\\Python\\Python39\\site-packages\\lightning\\pytorch\\utilities\\data.py:77: UserWarning: Trying to infer the `batch_size` from an ambiguous collection. The batch size we found is 2. To avoid any miscalculations, use `self.log(..., batch_size=batch_size)`.\n",
      "  warning_cache.warn(\n",
      "C:\\Users\\thu71\\AppData\\Roaming\\Python\\Python39\\site-packages\\lightning\\pytorch\\trainer\\connectors\\data_connector.py:430: PossibleUserWarning: The dataloader, train_dataloader, does not have many workers which may be a bottleneck. Consider increasing the value of the `num_workers` argument` (try 48 which is the number of cpus on this machine) in the `DataLoader` init to improve performance.\n",
      "  rank_zero_warn(\n",
      "C:\\Users\\thu71\\AppData\\Roaming\\Python\\Python39\\site-packages\\lightning\\pytorch\\loops\\fit_loop.py:280: PossibleUserWarning: The number of training batches (1) is smaller than the logging interval Trainer(log_every_n_steps=10). Set a lower value for log_every_n_steps if you want to see logs for the training epoch.\n",
      "  rank_zero_warn(\n",
      "`Trainer.fit` stopped: `max_epochs=100` reached.\n"
     ]
    },
    {
     "data": {
      "text/html": [
       "Waiting for W&B process to finish... <strong style=\"color:green\">(success).</strong>"
      ],
      "text/plain": [
       "<IPython.core.display.HTML object>"
      ]
     },
     "metadata": {},
     "output_type": "display_data"
    },
    {
     "data": {
      "application/vnd.jupyter.widget-view+json": {
       "model_id": "22ea90aff3a44e08a98286199423add3",
       "version_major": 2,
       "version_minor": 0
      },
      "text/plain": [
       "VBox(children=(Label(value='0.001 MB of 0.001 MB uploaded (0.000 MB deduped)\\r'), FloatProgress(value=1.0, max…"
      ]
     },
     "metadata": {},
     "output_type": "display_data"
    },
    {
     "data": {
      "text/html": [
       "<style>\n",
       "    table.wandb td:nth-child(1) { padding: 0 10px; text-align: left ; width: auto;} td:nth-child(2) {text-align: left ; width: 100%}\n",
       "    .wandb-row { display: flex; flex-direction: row; flex-wrap: wrap; justify-content: flex-start; width: 100% }\n",
       "    .wandb-col { display: flex; flex-direction: column; flex-basis: 100%; flex: 1; padding: 10px; }\n",
       "    </style>\n",
       "<div class=\"wandb-row\"><div class=\"wandb-col\"><h3>Run history:</h3><br/><table class=\"wandb\"><tr><td>epoch</td><td>▁▁▁▂▂▂▂▂▂▃▃▃▃▃▄▄▄▄▄▄▅▅▅▅▅▅▆▆▆▆▆▇▇▇▇▇████</td></tr><tr><td>lr-Adam</td><td>▁▁▁▁▁▁▁▁▁▁▁▁▁▁▁▁▁▁▁▁▁▁▁▁▁▁▁▁▁▁▁▁▁▁▁▁▁▁▁▁</td></tr><tr><td>train_acc</td><td>▁▁▃▃▃▄▅▅▅▅▅▅▅▅▅▆▆▆▆▆▆▆▆▆▇▇▇▇▇▇▇▇▇█▇▇████</td></tr><tr><td>train_auc</td><td>▃▂▁▂▄▄▄▄▄▄▄▅▅▅▅▅▅▅▅▅▅▅▆▆▆▆▆▇▇▇██████████</td></tr><tr><td>train_f1</td><td>▁▂▇▇▇▇▇▇▇▇▇▇▇▇▇▇▇▇▇▇▇▇▇▇████████████████</td></tr><tr><td>train_loss_epoch</td><td>█▇▇▆▆▆▆▅▅▅▅▅▅▄▄▄▄▄▄▄▄▃▃▃▃▃▃▂▂▂▂▂▂▁▂▁▁▁▁▁</td></tr><tr><td>train_loss_step</td><td>█▇▆▅▄▄▃▂▁▁</td></tr><tr><td>trainer/global_step</td><td>▁▁▁▁▂▂▂▂▂▃▃▃▃▃▄▄▄▄▄▄▅▅▅▅▅▅▆▆▆▆▆▇▇▇▇▇▇███</td></tr><tr><td>val_acc</td><td>▁▁▃▄▄▅▃▃▄▄▄▅▄▄▄▅▅▅▅▅▅▅▅▆▅▆▆▆▆▇▇▇▇▇▇█████</td></tr><tr><td>val_auc</td><td>▁▁▁▁▂▂▂▂▂▂▂▂▂▂▂▂▃▃▃▃▃▃▄▄▄▅▅▅▆▆▇▇▇▇▇█████</td></tr><tr><td>val_f1</td><td>▁▃▇▇▇▇▆▆▆▇▇▇▇▆▇▇▇▇▇▇▇▇▇▇▇▇▇▇▇███████████</td></tr><tr><td>val_loss_epoch</td><td>█▇▆▆▆▆▆▆▆▆▆▆▆▆▆▆▆▆▅▅▅▅▅▄▄▄▄▃▃▃▂▂▂▂▂▁▁▁▁▁</td></tr><tr><td>val_loss_step</td><td>█▇▆▆▆▆▆▆▆▆▆▆▆▆▆▆▆▆▅▅▅▅▅▄▄▄▄▃▃▃▂▂▂▂▂▁▁▁▁▁</td></tr></table><br/></div><div class=\"wandb-col\"><h3>Run summary:</h3><br/><table class=\"wandb\"><tr><td>epoch</td><td>99</td></tr><tr><td>lr-Adam</td><td>0.005</td></tr><tr><td>train_acc</td><td>0.86731</td></tr><tr><td>train_auc</td><td>0.9102</td></tr><tr><td>train_f1</td><td>0.88949</td></tr><tr><td>train_loss_epoch</td><td>0.45908</td></tr><tr><td>train_loss_step</td><td>0.45908</td></tr><tr><td>trainer/global_step</td><td>99</td></tr><tr><td>val_acc</td><td>0.82707</td></tr><tr><td>val_auc</td><td>0.91043</td></tr><tr><td>val_f1</td><td>0.84354</td></tr><tr><td>val_loss_epoch</td><td>0.48693</td></tr><tr><td>val_loss_step</td><td>0.48693</td></tr></table><br/></div></div>"
      ],
      "text/plain": [
       "<IPython.core.display.HTML object>"
      ]
     },
     "metadata": {},
     "output_type": "display_data"
    },
    {
     "data": {
      "text/html": [
       " View run <strong style=\"color:#cdcd00\">MLP_2_16_0</strong> at: <a href='https://wandb.ai/thoomas/SF_082423_Covid/runs/hsw48gb7' target=\"_blank\">https://wandb.ai/thoomas/SF_082423_Covid/runs/hsw48gb7</a><br/>Synced 5 W&B file(s), 0 media file(s), 0 artifact file(s) and 0 other file(s)"
      ],
      "text/plain": [
       "<IPython.core.display.HTML object>"
      ]
     },
     "metadata": {},
     "output_type": "display_data"
    },
    {
     "data": {
      "text/html": [
       "Find logs at: <code>.\\wandb\\run-20230824_114314-hsw48gb7\\logs</code>"
      ],
      "text/plain": [
       "<IPython.core.display.HTML object>"
      ]
     },
     "metadata": {},
     "output_type": "display_data"
    },
    {
     "data": {
      "application/vnd.jupyter.widget-view+json": {
       "model_id": "865876966a4c45f093391529cf974fca",
       "version_major": 2,
       "version_minor": 0
      },
      "text/plain": [
       "VBox(children=(Label(value='Waiting for wandb.init()...\\r'), FloatProgress(value=0.016916666666664543, max=1.0…"
      ]
     },
     "metadata": {},
     "output_type": "display_data"
    },
    {
     "data": {
      "text/html": [
       "wandb version 0.15.8 is available!  To upgrade, please run:\n",
       " $ pip install wandb --upgrade"
      ],
      "text/plain": [
       "<IPython.core.display.HTML object>"
      ]
     },
     "metadata": {},
     "output_type": "display_data"
    },
    {
     "data": {
      "text/html": [
       "Tracking run with wandb version 0.14.0"
      ],
      "text/plain": [
       "<IPython.core.display.HTML object>"
      ]
     },
     "metadata": {},
     "output_type": "display_data"
    },
    {
     "data": {
      "text/html": [
       "Run data is saved locally in <code>Y:\\coskun-lab\\Thomas\\11_snowflakes\\notebooks\\wandb\\run-20230824_115709-ez8qmdj2</code>"
      ],
      "text/plain": [
       "<IPython.core.display.HTML object>"
      ]
     },
     "metadata": {},
     "output_type": "display_data"
    },
    {
     "data": {
      "text/html": [
       "Syncing run <strong><a href='https://wandb.ai/thoomas/SF_082423_Covid/runs/ez8qmdj2' target=\"_blank\">MLP_2_16_0</a></strong> to <a href='https://wandb.ai/thoomas/SF_082423_Covid' target=\"_blank\">Weights & Biases</a> (<a href='https://wandb.me/run' target=\"_blank\">docs</a>)<br/>"
      ],
      "text/plain": [
       "<IPython.core.display.HTML object>"
      ]
     },
     "metadata": {},
     "output_type": "display_data"
    },
    {
     "data": {
      "text/html": [
       " View project at <a href='https://wandb.ai/thoomas/SF_082423_Covid' target=\"_blank\">https://wandb.ai/thoomas/SF_082423_Covid</a>"
      ],
      "text/plain": [
       "<IPython.core.display.HTML object>"
      ]
     },
     "metadata": {},
     "output_type": "display_data"
    },
    {
     "data": {
      "text/html": [
       " View run at <a href='https://wandb.ai/thoomas/SF_082423_Covid/runs/ez8qmdj2' target=\"_blank\">https://wandb.ai/thoomas/SF_082423_Covid/runs/ez8qmdj2</a>"
      ],
      "text/plain": [
       "<IPython.core.display.HTML object>"
      ]
     },
     "metadata": {},
     "output_type": "display_data"
    },
    {
     "name": "stderr",
     "output_type": "stream",
     "text": [
      "Global seed set to 42\n",
      "C:\\Users\\thu71\\Anaconda3\\envs\\snowflake\\lib\\site-packages\\pytorch_lightning\\loggers\\wandb.py:395: UserWarning: There is a wandb run already in progress and newly created instances of `WandbLogger` will reuse this run. If this is not desired, call `wandb.finish()` before instantiating `WandbLogger`.\n",
      "  rank_zero_warn(\n",
      "GPU available: True (cuda), used: True\n",
      "TPU available: False, using: 0 TPU cores\n",
      "IPU available: False, using: 0 IPUs\n",
      "HPU available: False, using: 0 HPUs\n",
      "Global seed set to 42\n",
      "LOCAL_RANK: 0 - CUDA_VISIBLE_DEVICES: [0,1]\n",
      "\n",
      "   | Name        | Type             | Params\n",
      "--------------------------------------------------\n",
      "0  | model       | MLPModel         | 368   \n",
      "1  | fnn_layer   | Linear           | 272   \n",
      "2  | selu        | SELU             | 0     \n",
      "3  | head        | Linear           | 34    \n",
      "4  | loss_module | CrossEntropyLoss | 0     \n",
      "5  | train_acc   | BinaryAccuracy   | 0     \n",
      "6  | train_auroc | BinaryAUROC      | 0     \n",
      "7  | train_f1    | BinaryF1Score    | 0     \n",
      "8  | valid_acc   | BinaryAccuracy   | 0     \n",
      "9  | valid_auroc | BinaryAUROC      | 0     \n",
      "10 | valid_f1    | BinaryF1Score    | 0     \n",
      "--------------------------------------------------\n",
      "674       Trainable params\n",
      "0         Non-trainable params\n",
      "674       Total params\n",
      "0.003     Total estimated model params size (MB)\n",
      "C:\\Users\\thu71\\AppData\\Roaming\\Python\\Python39\\site-packages\\lightning\\pytorch\\trainer\\connectors\\data_connector.py:478: PossibleUserWarning: Your `val_dataloader`'s sampler has shuffling enabled, it is strongly recommended that you turn shuffling off for val/test dataloaders.\n",
      "  rank_zero_warn(\n",
      "C:\\Users\\thu71\\AppData\\Roaming\\Python\\Python39\\site-packages\\lightning\\pytorch\\trainer\\connectors\\data_connector.py:430: PossibleUserWarning: The dataloader, val_dataloader, does not have many workers which may be a bottleneck. Consider increasing the value of the `num_workers` argument` (try 48 which is the number of cpus on this machine) in the `DataLoader` init to improve performance.\n",
      "  rank_zero_warn(\n",
      "C:\\Users\\thu71\\AppData\\Roaming\\Python\\Python39\\site-packages\\lightning\\pytorch\\trainer\\connectors\\data_connector.py:430: PossibleUserWarning: The dataloader, train_dataloader, does not have many workers which may be a bottleneck. Consider increasing the value of the `num_workers` argument` (try 48 which is the number of cpus on this machine) in the `DataLoader` init to improve performance.\n",
      "  rank_zero_warn(\n",
      "C:\\Users\\thu71\\AppData\\Roaming\\Python\\Python39\\site-packages\\lightning\\pytorch\\loops\\fit_loop.py:280: PossibleUserWarning: The number of training batches (1) is smaller than the logging interval Trainer(log_every_n_steps=10). Set a lower value for log_every_n_steps if you want to see logs for the training epoch.\n",
      "  rank_zero_warn(\n",
      "`Trainer.fit` stopped: `max_epochs=100` reached.\n"
     ]
    },
    {
     "data": {
      "text/html": [
       "Waiting for W&B process to finish... <strong style=\"color:green\">(success).</strong>"
      ],
      "text/plain": [
       "<IPython.core.display.HTML object>"
      ]
     },
     "metadata": {},
     "output_type": "display_data"
    },
    {
     "data": {
      "application/vnd.jupyter.widget-view+json": {
       "model_id": "81eb29f4cc344c50944355120ed8a087",
       "version_major": 2,
       "version_minor": 0
      },
      "text/plain": [
       "VBox(children=(Label(value='0.001 MB of 0.001 MB uploaded (0.000 MB deduped)\\r'), FloatProgress(value=1.0, max…"
      ]
     },
     "metadata": {},
     "output_type": "display_data"
    },
    {
     "data": {
      "text/html": [
       "<style>\n",
       "    table.wandb td:nth-child(1) { padding: 0 10px; text-align: left ; width: auto;} td:nth-child(2) {text-align: left ; width: 100%}\n",
       "    .wandb-row { display: flex; flex-direction: row; flex-wrap: wrap; justify-content: flex-start; width: 100% }\n",
       "    .wandb-col { display: flex; flex-direction: column; flex-basis: 100%; flex: 1; padding: 10px; }\n",
       "    </style>\n",
       "<div class=\"wandb-row\"><div class=\"wandb-col\"><h3>Run history:</h3><br/><table class=\"wandb\"><tr><td>epoch</td><td>▁▁▁▂▂▂▂▂▂▃▃▃▃▃▄▄▄▄▄▄▅▅▅▅▅▅▆▆▆▆▆▇▇▇▇▇████</td></tr><tr><td>lr-Adam</td><td>▁▁▁▁▁▁▁▁▁▁▁▁▁▁▁▁▁▁▁▁▁▁▁▁▁▁▁▁▁▁▁▁▁▁▁▁▁▁▁▁</td></tr><tr><td>train_acc</td><td>▁▁▁▁▂▃▂▄▄▅▅▅▆▆▅▆▆▆▇▇▆▇▇▇▇▆▇▇▆▇▇▇▇▇▇███▇█</td></tr><tr><td>train_auc</td><td>▁▂▂▃▄▄▅▆▆▆▇▆▇▆▆▇▇▇▇▇▇▇▇▇▇▇▇█▇▇█▇▇███████</td></tr><tr><td>train_f1</td><td>▄▄▄▄▁▄▂▃▅▄▅▅▅▆▅▆▆▆▇▇▆▇▇▇▇▇▇▇▇▇▇▆▇▇▇███▇▇</td></tr><tr><td>train_loss_epoch</td><td>███▇▆▅▅▄▄▃▃▄▃▃▄▃▃▃▂▂▂▂▂▂▂▂▂▂▂▂▁▂▂▁▁▁▁▁▁▁</td></tr><tr><td>train_loss_step</td><td>█▅▄▃▃▃▂▂▁▁</td></tr><tr><td>trainer/global_step</td><td>▁▁▁▁▂▂▂▂▂▃▃▃▃▃▄▄▄▄▄▄▅▅▅▅▅▅▆▆▆▆▆▇▇▇▇▇▇███</td></tr><tr><td>val_acc</td><td>▄▄▂▁▁▂▂▂▃▃▄▇▆▇██████▇██▆▆█▇▇▇▆▅▇▆▅▇▅▅▆▅▄</td></tr><tr><td>val_auc</td><td>▁▂▂▂▃▃▄▄▅▅▆▆▆▇▇▇▇▇▇▇▇▇▇▇▇█▇▇████████▇█▇▇</td></tr><tr><td>val_f1</td><td>██▃▁▂▂▂▄▅▄▆▇▇██████████▇▇██▇▇▇▆▇▇▆▇▆▆▇▆▅</td></tr><tr><td>val_loss_epoch</td><td>▄▄▅██▆▇▆▄▅▃▂▃▂▂▂▁▁▁▁▂▁▁▂▂▁▁▂▁▂▃▂▂▃▁▂▃▂▃▄</td></tr><tr><td>val_loss_step</td><td>▄▄▅██▆▇▆▄▅▃▂▃▂▂▂▁▁▁▁▂▁▁▂▂▁▁▂▁▂▃▂▂▃▁▂▃▂▃▄</td></tr></table><br/></div><div class=\"wandb-col\"><h3>Run summary:</h3><br/><table class=\"wandb\"><tr><td>epoch</td><td>99</td></tr><tr><td>lr-Adam</td><td>0.005</td></tr><tr><td>train_acc</td><td>0.81553</td></tr><tr><td>train_auc</td><td>0.87091</td></tr><tr><td>train_f1</td><td>0.83853</td></tr><tr><td>train_loss_epoch</td><td>0.49958</td></tr><tr><td>train_loss_step</td><td>0.49958</td></tr><tr><td>trainer/global_step</td><td>99</td></tr><tr><td>val_acc</td><td>0.52632</td></tr><tr><td>val_auc</td><td>0.74861</td></tr><tr><td>val_f1</td><td>0.41121</td></tr><tr><td>val_loss_epoch</td><td>0.68147</td></tr><tr><td>val_loss_step</td><td>0.68147</td></tr></table><br/></div></div>"
      ],
      "text/plain": [
       "<IPython.core.display.HTML object>"
      ]
     },
     "metadata": {},
     "output_type": "display_data"
    },
    {
     "data": {
      "text/html": [
       " View run <strong style=\"color:#cdcd00\">MLP_2_16_0</strong> at: <a href='https://wandb.ai/thoomas/SF_082423_Covid/runs/ez8qmdj2' target=\"_blank\">https://wandb.ai/thoomas/SF_082423_Covid/runs/ez8qmdj2</a><br/>Synced 5 W&B file(s), 0 media file(s), 0 artifact file(s) and 0 other file(s)"
      ],
      "text/plain": [
       "<IPython.core.display.HTML object>"
      ]
     },
     "metadata": {},
     "output_type": "display_data"
    },
    {
     "data": {
      "text/html": [
       "Find logs at: <code>.\\wandb\\run-20230824_115709-ez8qmdj2\\logs</code>"
      ],
      "text/plain": [
       "<IPython.core.display.HTML object>"
      ]
     },
     "metadata": {},
     "output_type": "display_data"
    },
    {
     "data": {
      "application/vnd.jupyter.widget-view+json": {
       "model_id": "d7c688e9559f42918cb9c328e5cafc73",
       "version_major": 2,
       "version_minor": 0
      },
      "text/plain": [
       "VBox(children=(Label(value='Waiting for wandb.init()...\\r'), FloatProgress(value=0.017183333333332485, max=1.0…"
      ]
     },
     "metadata": {},
     "output_type": "display_data"
    },
    {
     "data": {
      "text/html": [
       "wandb version 0.15.8 is available!  To upgrade, please run:\n",
       " $ pip install wandb --upgrade"
      ],
      "text/plain": [
       "<IPython.core.display.HTML object>"
      ]
     },
     "metadata": {},
     "output_type": "display_data"
    },
    {
     "data": {
      "text/html": [
       "Tracking run with wandb version 0.14.0"
      ],
      "text/plain": [
       "<IPython.core.display.HTML object>"
      ]
     },
     "metadata": {},
     "output_type": "display_data"
    },
    {
     "data": {
      "text/html": [
       "Run data is saved locally in <code>Y:\\coskun-lab\\Thomas\\11_snowflakes\\notebooks\\wandb\\run-20230824_121201-07edrmzg</code>"
      ],
      "text/plain": [
       "<IPython.core.display.HTML object>"
      ]
     },
     "metadata": {},
     "output_type": "display_data"
    },
    {
     "data": {
      "text/html": [
       "Syncing run <strong><a href='https://wandb.ai/thoomas/SF_082423_Covid/runs/07edrmzg' target=\"_blank\">MLP_2_16_0</a></strong> to <a href='https://wandb.ai/thoomas/SF_082423_Covid' target=\"_blank\">Weights & Biases</a> (<a href='https://wandb.me/run' target=\"_blank\">docs</a>)<br/>"
      ],
      "text/plain": [
       "<IPython.core.display.HTML object>"
      ]
     },
     "metadata": {},
     "output_type": "display_data"
    },
    {
     "data": {
      "text/html": [
       " View project at <a href='https://wandb.ai/thoomas/SF_082423_Covid' target=\"_blank\">https://wandb.ai/thoomas/SF_082423_Covid</a>"
      ],
      "text/plain": [
       "<IPython.core.display.HTML object>"
      ]
     },
     "metadata": {},
     "output_type": "display_data"
    },
    {
     "data": {
      "text/html": [
       " View run at <a href='https://wandb.ai/thoomas/SF_082423_Covid/runs/07edrmzg' target=\"_blank\">https://wandb.ai/thoomas/SF_082423_Covid/runs/07edrmzg</a>"
      ],
      "text/plain": [
       "<IPython.core.display.HTML object>"
      ]
     },
     "metadata": {},
     "output_type": "display_data"
    },
    {
     "name": "stderr",
     "output_type": "stream",
     "text": [
      "Global seed set to 42\n",
      "C:\\Users\\thu71\\Anaconda3\\envs\\snowflake\\lib\\site-packages\\pytorch_lightning\\loggers\\wandb.py:395: UserWarning: There is a wandb run already in progress and newly created instances of `WandbLogger` will reuse this run. If this is not desired, call `wandb.finish()` before instantiating `WandbLogger`.\n",
      "  rank_zero_warn(\n",
      "GPU available: True (cuda), used: True\n",
      "TPU available: False, using: 0 TPU cores\n",
      "IPU available: False, using: 0 IPUs\n",
      "HPU available: False, using: 0 HPUs\n",
      "Global seed set to 42\n",
      "C:\\Users\\thu71\\Anaconda3\\envs\\snowflake\\lib\\site-packages\\torch_geometric\\deprecation.py:12: UserWarning: 'nn.glob.GlobalAttention' is deprecated, use 'nn.aggr.AttentionalAggregation' instead\n",
      "  warnings.warn(out)\n",
      "LOCAL_RANK: 0 - CUDA_VISIBLE_DEVICES: [0,1]\n",
      "\n",
      "   | Name        | Type             | Params\n",
      "--------------------------------------------------\n",
      "0  | model       | MLPModel         | 368   \n",
      "1  | fnn_layer   | Linear           | 272   \n",
      "2  | selu        | SELU             | 0     \n",
      "3  | head        | Linear           | 34    \n",
      "4  | loss_module | CrossEntropyLoss | 0     \n",
      "5  | train_acc   | BinaryAccuracy   | 0     \n",
      "6  | train_auroc | BinaryAUROC      | 0     \n",
      "7  | train_f1    | BinaryF1Score    | 0     \n",
      "8  | valid_acc   | BinaryAccuracy   | 0     \n",
      "9  | valid_auroc | BinaryAUROC      | 0     \n",
      "10 | valid_f1    | BinaryF1Score    | 0     \n",
      "11 | pool        | GlobalAttention  | 17    \n",
      "--------------------------------------------------\n",
      "691       Trainable params\n",
      "0         Non-trainable params\n",
      "691       Total params\n",
      "0.003     Total estimated model params size (MB)\n",
      "C:\\Users\\thu71\\AppData\\Roaming\\Python\\Python39\\site-packages\\lightning\\pytorch\\trainer\\connectors\\data_connector.py:478: PossibleUserWarning: Your `val_dataloader`'s sampler has shuffling enabled, it is strongly recommended that you turn shuffling off for val/test dataloaders.\n",
      "  rank_zero_warn(\n",
      "C:\\Users\\thu71\\AppData\\Roaming\\Python\\Python39\\site-packages\\lightning\\pytorch\\trainer\\connectors\\data_connector.py:430: PossibleUserWarning: The dataloader, val_dataloader, does not have many workers which may be a bottleneck. Consider increasing the value of the `num_workers` argument` (try 48 which is the number of cpus on this machine) in the `DataLoader` init to improve performance.\n",
      "  rank_zero_warn(\n",
      "C:\\Users\\thu71\\AppData\\Roaming\\Python\\Python39\\site-packages\\lightning\\pytorch\\trainer\\connectors\\data_connector.py:430: PossibleUserWarning: The dataloader, train_dataloader, does not have many workers which may be a bottleneck. Consider increasing the value of the `num_workers` argument` (try 48 which is the number of cpus on this machine) in the `DataLoader` init to improve performance.\n",
      "  rank_zero_warn(\n",
      "C:\\Users\\thu71\\AppData\\Roaming\\Python\\Python39\\site-packages\\lightning\\pytorch\\loops\\fit_loop.py:280: PossibleUserWarning: The number of training batches (1) is smaller than the logging interval Trainer(log_every_n_steps=10). Set a lower value for log_every_n_steps if you want to see logs for the training epoch.\n",
      "  rank_zero_warn(\n",
      "`Trainer.fit` stopped: `max_epochs=100` reached.\n"
     ]
    },
    {
     "data": {
      "text/html": [
       "Waiting for W&B process to finish... <strong style=\"color:green\">(success).</strong>"
      ],
      "text/plain": [
       "<IPython.core.display.HTML object>"
      ]
     },
     "metadata": {},
     "output_type": "display_data"
    },
    {
     "data": {
      "application/vnd.jupyter.widget-view+json": {
       "model_id": "cb0d5ddd26dd4d0c871e2d2b27ea6044",
       "version_major": 2,
       "version_minor": 0
      },
      "text/plain": [
       "VBox(children=(Label(value='0.001 MB of 0.001 MB uploaded (0.000 MB deduped)\\r'), FloatProgress(value=1.0, max…"
      ]
     },
     "metadata": {},
     "output_type": "display_data"
    },
    {
     "data": {
      "text/html": [
       "<style>\n",
       "    table.wandb td:nth-child(1) { padding: 0 10px; text-align: left ; width: auto;} td:nth-child(2) {text-align: left ; width: 100%}\n",
       "    .wandb-row { display: flex; flex-direction: row; flex-wrap: wrap; justify-content: flex-start; width: 100% }\n",
       "    .wandb-col { display: flex; flex-direction: column; flex-basis: 100%; flex: 1; padding: 10px; }\n",
       "    </style>\n",
       "<div class=\"wandb-row\"><div class=\"wandb-col\"><h3>Run history:</h3><br/><table class=\"wandb\"><tr><td>epoch</td><td>▁▁▁▂▂▂▂▂▂▃▃▃▃▃▄▄▄▄▄▄▅▅▅▅▅▅▆▆▆▆▆▇▇▇▇▇████</td></tr><tr><td>lr-Adam</td><td>▁▁▁▁▁▁▁▁▁▁▁▁▁▁▁▁▁▁▁▁▁▁▁▁▁▁▁▁▁▁▁▁▁▁▁▁▁▁▁▁</td></tr><tr><td>train_acc</td><td>▁▄▅▆▅▆▆▇▆▆▇▇▇▇▆▇▇▇▇▇▇▇▇▇▇█▇▇▇█▇▇█▇████▇█</td></tr><tr><td>train_auc</td><td>▁▄▆▆▆▆▇▇▇▇▇▇▇▇▇█▇▇█▇▇█████▇█████████████</td></tr><tr><td>train_f1</td><td>▁▅▆▆▆▇▇▇▇▇▇▇▇▇▇▇▇▇▇▇▇▇▇▇▇█▇█▇█▇▇██████▇█</td></tr><tr><td>train_loss_epoch</td><td>█▇▅▅▄▄▄▃▄▃▃▃▃▃▃▂▃▂▂▂▂▂▂▂▂▁▂▂▂▁▂▂▁▂▁▁▁▂▁▁</td></tr><tr><td>train_loss_step</td><td>█▆▄▃▃▃▃▂▂▁</td></tr><tr><td>trainer/global_step</td><td>▁▁▁▁▂▂▂▂▂▃▃▃▃▃▄▄▄▄▄▄▅▅▅▅▅▅▆▆▆▆▆▇▇▇▇▇▇███</td></tr><tr><td>val_acc</td><td>▁▂▃▃▃▃▃▃▃▃▃▄▄▅▆▇▇█▇▇▇▅▄▆▆▃▄▇▇▆▆███▇▆████</td></tr><tr><td>val_auc</td><td>▁▂▃▃▄▄▄▄▅▅▅▅▅▅▅▅▅▅▅▆▆▆▆▆▇▆▇▇▇▇▇▇█▇▇▇████</td></tr><tr><td>val_f1</td><td>▂▆▇▇▇▇▇▇▇▇▇▇▇█████▇▇▇▅▄▆▅▁▃▇▇▅▅▇▇▇▆▅▇▇▆▇</td></tr><tr><td>val_loss_epoch</td><td>█▇▇▆▇▇▇▇▇▇▇▆▆▅▄▄▃▃▃▃▃▄▅▄▄▆▅▃▃▄▄▂▁▁▃▃▂▁▂▁</td></tr><tr><td>val_loss_step</td><td>█▇▇▆▇▇▇▇▇▇▇▆▆▅▄▄▃▃▃▃▃▄▅▄▄▆▅▃▃▄▄▂▁▁▃▃▂▁▂▁</td></tr></table><br/></div><div class=\"wandb-col\"><h3>Run summary:</h3><br/><table class=\"wandb\"><tr><td>epoch</td><td>99</td></tr><tr><td>lr-Adam</td><td>0.005</td></tr><tr><td>train_acc</td><td>0.8479</td></tr><tr><td>train_auc</td><td>0.91159</td></tr><tr><td>train_f1</td><td>0.87052</td></tr><tr><td>train_loss_epoch</td><td>0.45442</td></tr><tr><td>train_loss_step</td><td>0.45442</td></tr><tr><td>trainer/global_step</td><td>99</td></tr><tr><td>val_acc</td><td>0.71429</td></tr><tr><td>val_auc</td><td>0.8548</td></tr><tr><td>val_f1</td><td>0.70769</td></tr><tr><td>val_loss_epoch</td><td>0.58401</td></tr><tr><td>val_loss_step</td><td>0.58401</td></tr></table><br/></div></div>"
      ],
      "text/plain": [
       "<IPython.core.display.HTML object>"
      ]
     },
     "metadata": {},
     "output_type": "display_data"
    },
    {
     "data": {
      "text/html": [
       " View run <strong style=\"color:#cdcd00\">MLP_2_16_0</strong> at: <a href='https://wandb.ai/thoomas/SF_082423_Covid/runs/07edrmzg' target=\"_blank\">https://wandb.ai/thoomas/SF_082423_Covid/runs/07edrmzg</a><br/>Synced 5 W&B file(s), 0 media file(s), 0 artifact file(s) and 0 other file(s)"
      ],
      "text/plain": [
       "<IPython.core.display.HTML object>"
      ]
     },
     "metadata": {},
     "output_type": "display_data"
    },
    {
     "data": {
      "text/html": [
       "Find logs at: <code>.\\wandb\\run-20230824_121201-07edrmzg\\logs</code>"
      ],
      "text/plain": [
       "<IPython.core.display.HTML object>"
      ]
     },
     "metadata": {},
     "output_type": "display_data"
    },
    {
     "data": {
      "application/vnd.jupyter.widget-view+json": {
       "model_id": "adc5ecb86c7247d0a474a70d13f29ed8",
       "version_major": 2,
       "version_minor": 0
      },
      "text/plain": [
       "VBox(children=(Label(value='Waiting for wandb.init()...\\r'), FloatProgress(value=0.016666666666666666, max=1.0…"
      ]
     },
     "metadata": {},
     "output_type": "display_data"
    },
    {
     "data": {
      "text/html": [
       "wandb version 0.15.8 is available!  To upgrade, please run:\n",
       " $ pip install wandb --upgrade"
      ],
      "text/plain": [
       "<IPython.core.display.HTML object>"
      ]
     },
     "metadata": {},
     "output_type": "display_data"
    },
    {
     "data": {
      "text/html": [
       "Tracking run with wandb version 0.14.0"
      ],
      "text/plain": [
       "<IPython.core.display.HTML object>"
      ]
     },
     "metadata": {},
     "output_type": "display_data"
    },
    {
     "data": {
      "text/html": [
       "Run data is saved locally in <code>Y:\\coskun-lab\\Thomas\\11_snowflakes\\notebooks\\wandb\\run-20230824_122606-uhutzlhk</code>"
      ],
      "text/plain": [
       "<IPython.core.display.HTML object>"
      ]
     },
     "metadata": {},
     "output_type": "display_data"
    },
    {
     "data": {
      "text/html": [
       "Syncing run <strong><a href='https://wandb.ai/thoomas/SF_082423_Covid/runs/uhutzlhk' target=\"_blank\">MLP_2_16_0</a></strong> to <a href='https://wandb.ai/thoomas/SF_082423_Covid' target=\"_blank\">Weights & Biases</a> (<a href='https://wandb.me/run' target=\"_blank\">docs</a>)<br/>"
      ],
      "text/plain": [
       "<IPython.core.display.HTML object>"
      ]
     },
     "metadata": {},
     "output_type": "display_data"
    },
    {
     "data": {
      "text/html": [
       " View project at <a href='https://wandb.ai/thoomas/SF_082423_Covid' target=\"_blank\">https://wandb.ai/thoomas/SF_082423_Covid</a>"
      ],
      "text/plain": [
       "<IPython.core.display.HTML object>"
      ]
     },
     "metadata": {},
     "output_type": "display_data"
    },
    {
     "data": {
      "text/html": [
       " View run at <a href='https://wandb.ai/thoomas/SF_082423_Covid/runs/uhutzlhk' target=\"_blank\">https://wandb.ai/thoomas/SF_082423_Covid/runs/uhutzlhk</a>"
      ],
      "text/plain": [
       "<IPython.core.display.HTML object>"
      ]
     },
     "metadata": {},
     "output_type": "display_data"
    },
    {
     "name": "stderr",
     "output_type": "stream",
     "text": [
      "Global seed set to 42\n",
      "C:\\Users\\thu71\\Anaconda3\\envs\\snowflake\\lib\\site-packages\\pytorch_lightning\\loggers\\wandb.py:395: UserWarning: There is a wandb run already in progress and newly created instances of `WandbLogger` will reuse this run. If this is not desired, call `wandb.finish()` before instantiating `WandbLogger`.\n",
      "  rank_zero_warn(\n",
      "GPU available: True (cuda), used: True\n",
      "TPU available: False, using: 0 TPU cores\n",
      "IPU available: False, using: 0 IPUs\n",
      "HPU available: False, using: 0 HPUs\n",
      "Global seed set to 42\n",
      "LOCAL_RANK: 0 - CUDA_VISIBLE_DEVICES: [0,1]\n",
      "\n",
      "   | Name        | Type             | Params\n",
      "--------------------------------------------------\n",
      "0  | model       | MLPModel         | 368   \n",
      "1  | fnn_layer   | Linear           | 272   \n",
      "2  | selu        | SELU             | 0     \n",
      "3  | head        | Linear           | 34    \n",
      "4  | loss_module | CrossEntropyLoss | 0     \n",
      "5  | train_acc   | BinaryAccuracy   | 0     \n",
      "6  | train_auroc | BinaryAUROC      | 0     \n",
      "7  | train_f1    | BinaryF1Score    | 0     \n",
      "8  | valid_acc   | BinaryAccuracy   | 0     \n",
      "9  | valid_auroc | BinaryAUROC      | 0     \n",
      "10 | valid_f1    | BinaryF1Score    | 0     \n",
      "11 | pool        | Attention_module | 281   \n",
      "--------------------------------------------------\n",
      "955       Trainable params\n",
      "0         Non-trainable params\n",
      "955       Total params\n",
      "0.004     Total estimated model params size (MB)\n",
      "C:\\Users\\thu71\\AppData\\Roaming\\Python\\Python39\\site-packages\\lightning\\pytorch\\trainer\\connectors\\data_connector.py:478: PossibleUserWarning: Your `val_dataloader`'s sampler has shuffling enabled, it is strongly recommended that you turn shuffling off for val/test dataloaders.\n",
      "  rank_zero_warn(\n",
      "C:\\Users\\thu71\\AppData\\Roaming\\Python\\Python39\\site-packages\\lightning\\pytorch\\trainer\\connectors\\data_connector.py:430: PossibleUserWarning: The dataloader, val_dataloader, does not have many workers which may be a bottleneck. Consider increasing the value of the `num_workers` argument` (try 48 which is the number of cpus on this machine) in the `DataLoader` init to improve performance.\n",
      "  rank_zero_warn(\n",
      "C:\\Users\\thu71\\AppData\\Roaming\\Python\\Python39\\site-packages\\lightning\\pytorch\\trainer\\connectors\\data_connector.py:430: PossibleUserWarning: The dataloader, train_dataloader, does not have many workers which may be a bottleneck. Consider increasing the value of the `num_workers` argument` (try 48 which is the number of cpus on this machine) in the `DataLoader` init to improve performance.\n",
      "  rank_zero_warn(\n",
      "C:\\Users\\thu71\\AppData\\Roaming\\Python\\Python39\\site-packages\\lightning\\pytorch\\loops\\fit_loop.py:280: PossibleUserWarning: The number of training batches (1) is smaller than the logging interval Trainer(log_every_n_steps=10). Set a lower value for log_every_n_steps if you want to see logs for the training epoch.\n",
      "  rank_zero_warn(\n",
      "`Trainer.fit` stopped: `max_epochs=100` reached.\n"
     ]
    },
    {
     "data": {
      "text/html": [
       "Waiting for W&B process to finish... <strong style=\"color:green\">(success).</strong>"
      ],
      "text/plain": [
       "<IPython.core.display.HTML object>"
      ]
     },
     "metadata": {},
     "output_type": "display_data"
    },
    {
     "data": {
      "application/vnd.jupyter.widget-view+json": {
       "model_id": "26d840a5da8e4975ab71380ffc10d060",
       "version_major": 2,
       "version_minor": 0
      },
      "text/plain": [
       "VBox(children=(Label(value='0.001 MB of 0.001 MB uploaded (0.000 MB deduped)\\r'), FloatProgress(value=1.0, max…"
      ]
     },
     "metadata": {},
     "output_type": "display_data"
    },
    {
     "data": {
      "text/html": [
       "<style>\n",
       "    table.wandb td:nth-child(1) { padding: 0 10px; text-align: left ; width: auto;} td:nth-child(2) {text-align: left ; width: 100%}\n",
       "    .wandb-row { display: flex; flex-direction: row; flex-wrap: wrap; justify-content: flex-start; width: 100% }\n",
       "    .wandb-col { display: flex; flex-direction: column; flex-basis: 100%; flex: 1; padding: 10px; }\n",
       "    </style>\n",
       "<div class=\"wandb-row\"><div class=\"wandb-col\"><h3>Run history:</h3><br/><table class=\"wandb\"><tr><td>epoch</td><td>▁▁▁▂▂▂▂▂▂▃▃▃▃▃▄▄▄▄▄▄▅▅▅▅▅▅▆▆▆▆▆▇▇▇▇▇████</td></tr><tr><td>lr-Adam</td><td>▁▁▁▁▁▁▁▁▁▁▁▁▁▁▁▁▁▁▁▁▁▁▁▁▁▁▁▁▁▁▁▁▁▁▁▁▁▁▁▁</td></tr><tr><td>train_acc</td><td>▁▄▄▅▅▅▅▅▆▆▆▆▆▆▇▇▇▇▇▇▇█▇▇▇▇▇▇▇██▇▇█▇█████</td></tr><tr><td>train_auc</td><td>▁▂▂▂▂▂▂▃▃▃▃▄▄▄▅▅▆▆▆▆▆▇▆▇▇▇▇▇▇▇▇▇███▇████</td></tr><tr><td>train_f1</td><td>▁▇▇▇▇▇▇▇▇▇▇▇▇▇▇▇████████████████████████</td></tr><tr><td>train_loss_epoch</td><td>█▇▇▇▆▆▆▅▅▅▅▄▄▄▄▃▃▃▃▂▂▂▂▂▂▂▂▂▂▂▁▂▂▁▂▁▁▁▁▁</td></tr><tr><td>train_loss_step</td><td>█▆▅▄▂▃▂▂▁▁</td></tr><tr><td>trainer/global_step</td><td>▁▁▁▁▂▂▂▂▂▃▃▃▃▃▄▄▄▄▄▄▅▅▅▅▅▅▆▆▆▆▆▇▇▇▇▇▇███</td></tr><tr><td>val_acc</td><td>▂▁▁▃▃▃▄▄▄▅▄▅▅▇▆▇▇▇██▇▇▅▅▄▅▆▅▄▇▃▄▆▆▇▇▅▇▄▇</td></tr><tr><td>val_auc</td><td>▂▁▁▂▂▂▂▂▂▂▂▃▃▃▄▄▄▄▄▄▄▄▄▅▅▅▅▅▅▆▅▆▆▆▇▇▇█▇█</td></tr><tr><td>val_f1</td><td>▂▆▅▅▆▆▆▆▆▇▇▇▇████▇██▆▇▅▅▄▄▅▅▃▆▁▃▅▄▆▅▃▅▁▅</td></tr><tr><td>val_loss_epoch</td><td>█▇▇▆▆▆▅▅▅▄▄▄▃▃▃▂▂▂▁▁▂▂▃▃▄▃▂▂▄▁▅▃▂▃▁▂▃▂▄▂</td></tr><tr><td>val_loss_step</td><td>█▇▇▆▆▆▅▅▅▄▄▄▃▃▃▂▂▂▁▁▂▂▃▃▄▃▂▂▄▁▅▃▂▃▁▂▃▂▄▂</td></tr></table><br/></div><div class=\"wandb-col\"><h3>Run summary:</h3><br/><table class=\"wandb\"><tr><td>epoch</td><td>99</td></tr><tr><td>lr-Adam</td><td>0.005</td></tr><tr><td>train_acc</td><td>0.87379</td></tr><tr><td>train_auc</td><td>0.95172</td></tr><tr><td>train_f1</td><td>0.89197</td></tr><tr><td>train_loss_epoch</td><td>0.42936</td></tr><tr><td>train_loss_step</td><td>0.42936</td></tr><tr><td>trainer/global_step</td><td>99</td></tr><tr><td>val_acc</td><td>0.7218</td></tr><tr><td>val_auc</td><td>0.86057</td></tr><tr><td>val_f1</td><td>0.71756</td></tr><tr><td>val_loss_epoch</td><td>0.58157</td></tr><tr><td>val_loss_step</td><td>0.58157</td></tr></table><br/></div></div>"
      ],
      "text/plain": [
       "<IPython.core.display.HTML object>"
      ]
     },
     "metadata": {},
     "output_type": "display_data"
    },
    {
     "data": {
      "text/html": [
       " View run <strong style=\"color:#cdcd00\">MLP_2_16_0</strong> at: <a href='https://wandb.ai/thoomas/SF_082423_Covid/runs/uhutzlhk' target=\"_blank\">https://wandb.ai/thoomas/SF_082423_Covid/runs/uhutzlhk</a><br/>Synced 5 W&B file(s), 0 media file(s), 0 artifact file(s) and 0 other file(s)"
      ],
      "text/plain": [
       "<IPython.core.display.HTML object>"
      ]
     },
     "metadata": {},
     "output_type": "display_data"
    },
    {
     "data": {
      "text/html": [
       "Find logs at: <code>.\\wandb\\run-20230824_122606-uhutzlhk\\logs</code>"
      ],
      "text/plain": [
       "<IPython.core.display.HTML object>"
      ]
     },
     "metadata": {},
     "output_type": "display_data"
    },
    {
     "data": {
      "application/vnd.jupyter.widget-view+json": {
       "model_id": "463d20d02f9e44cc84cd9cb6a69020b3",
       "version_major": 2,
       "version_minor": 0
      },
      "text/plain": [
       "VBox(children=(Label(value='Waiting for wandb.init()...\\r'), FloatProgress(value=0.016933333333342186, max=1.0…"
      ]
     },
     "metadata": {},
     "output_type": "display_data"
    },
    {
     "data": {
      "text/html": [
       "wandb version 0.15.8 is available!  To upgrade, please run:\n",
       " $ pip install wandb --upgrade"
      ],
      "text/plain": [
       "<IPython.core.display.HTML object>"
      ]
     },
     "metadata": {},
     "output_type": "display_data"
    },
    {
     "data": {
      "text/html": [
       "Tracking run with wandb version 0.14.0"
      ],
      "text/plain": [
       "<IPython.core.display.HTML object>"
      ]
     },
     "metadata": {},
     "output_type": "display_data"
    },
    {
     "data": {
      "text/html": [
       "Run data is saved locally in <code>Y:\\coskun-lab\\Thomas\\11_snowflakes\\notebooks\\wandb\\run-20230824_123916-5lx1d0ee</code>"
      ],
      "text/plain": [
       "<IPython.core.display.HTML object>"
      ]
     },
     "metadata": {},
     "output_type": "display_data"
    },
    {
     "data": {
      "text/html": [
       "Syncing run <strong><a href='https://wandb.ai/thoomas/SF_082423_Covid/runs/5lx1d0ee' target=\"_blank\">MLP_2_16_1</a></strong> to <a href='https://wandb.ai/thoomas/SF_082423_Covid' target=\"_blank\">Weights & Biases</a> (<a href='https://wandb.me/run' target=\"_blank\">docs</a>)<br/>"
      ],
      "text/plain": [
       "<IPython.core.display.HTML object>"
      ]
     },
     "metadata": {},
     "output_type": "display_data"
    },
    {
     "data": {
      "text/html": [
       " View project at <a href='https://wandb.ai/thoomas/SF_082423_Covid' target=\"_blank\">https://wandb.ai/thoomas/SF_082423_Covid</a>"
      ],
      "text/plain": [
       "<IPython.core.display.HTML object>"
      ]
     },
     "metadata": {},
     "output_type": "display_data"
    },
    {
     "data": {
      "text/html": [
       " View run at <a href='https://wandb.ai/thoomas/SF_082423_Covid/runs/5lx1d0ee' target=\"_blank\">https://wandb.ai/thoomas/SF_082423_Covid/runs/5lx1d0ee</a>"
      ],
      "text/plain": [
       "<IPython.core.display.HTML object>"
      ]
     },
     "metadata": {},
     "output_type": "display_data"
    },
    {
     "name": "stderr",
     "output_type": "stream",
     "text": [
      "Global seed set to 42\n",
      "C:\\Users\\thu71\\Anaconda3\\envs\\snowflake\\lib\\site-packages\\pytorch_lightning\\loggers\\wandb.py:395: UserWarning: There is a wandb run already in progress and newly created instances of `WandbLogger` will reuse this run. If this is not desired, call `wandb.finish()` before instantiating `WandbLogger`.\n",
      "  rank_zero_warn(\n",
      "GPU available: True (cuda), used: True\n",
      "TPU available: False, using: 0 TPU cores\n",
      "IPU available: False, using: 0 IPUs\n",
      "HPU available: False, using: 0 HPUs\n",
      "Global seed set to 42\n",
      "LOCAL_RANK: 0 - CUDA_VISIBLE_DEVICES: [0,1]\n",
      "\n",
      "   | Name        | Type             | Params\n",
      "--------------------------------------------------\n",
      "0  | model       | MLPModel         | 368   \n",
      "1  | fnn_layer   | Linear           | 272   \n",
      "2  | selu        | SELU             | 0     \n",
      "3  | head        | Linear           | 34    \n",
      "4  | loss_module | CrossEntropyLoss | 0     \n",
      "5  | train_acc   | BinaryAccuracy   | 0     \n",
      "6  | train_auroc | BinaryAUROC      | 0     \n",
      "7  | train_f1    | BinaryF1Score    | 0     \n",
      "8  | valid_acc   | BinaryAccuracy   | 0     \n",
      "9  | valid_auroc | BinaryAUROC      | 0     \n",
      "10 | valid_f1    | BinaryF1Score    | 0     \n",
      "--------------------------------------------------\n",
      "674       Trainable params\n",
      "0         Non-trainable params\n",
      "674       Total params\n",
      "0.003     Total estimated model params size (MB)\n",
      "C:\\Users\\thu71\\AppData\\Roaming\\Python\\Python39\\site-packages\\lightning\\pytorch\\trainer\\connectors\\data_connector.py:478: PossibleUserWarning: Your `val_dataloader`'s sampler has shuffling enabled, it is strongly recommended that you turn shuffling off for val/test dataloaders.\n",
      "  rank_zero_warn(\n",
      "C:\\Users\\thu71\\AppData\\Roaming\\Python\\Python39\\site-packages\\lightning\\pytorch\\trainer\\connectors\\data_connector.py:430: PossibleUserWarning: The dataloader, val_dataloader, does not have many workers which may be a bottleneck. Consider increasing the value of the `num_workers` argument` (try 48 which is the number of cpus on this machine) in the `DataLoader` init to improve performance.\n",
      "  rank_zero_warn(\n",
      "C:\\Users\\thu71\\AppData\\Roaming\\Python\\Python39\\site-packages\\lightning\\pytorch\\trainer\\connectors\\data_connector.py:430: PossibleUserWarning: The dataloader, train_dataloader, does not have many workers which may be a bottleneck. Consider increasing the value of the `num_workers` argument` (try 48 which is the number of cpus on this machine) in the `DataLoader` init to improve performance.\n",
      "  rank_zero_warn(\n",
      "C:\\Users\\thu71\\AppData\\Roaming\\Python\\Python39\\site-packages\\lightning\\pytorch\\loops\\fit_loop.py:280: PossibleUserWarning: The number of training batches (1) is smaller than the logging interval Trainer(log_every_n_steps=10). Set a lower value for log_every_n_steps if you want to see logs for the training epoch.\n",
      "  rank_zero_warn(\n",
      "`Trainer.fit` stopped: `max_epochs=100` reached.\n"
     ]
    },
    {
     "data": {
      "text/html": [
       "Waiting for W&B process to finish... <strong style=\"color:green\">(success).</strong>"
      ],
      "text/plain": [
       "<IPython.core.display.HTML object>"
      ]
     },
     "metadata": {},
     "output_type": "display_data"
    },
    {
     "data": {
      "application/vnd.jupyter.widget-view+json": {
       "model_id": "5309e792eacb4cd8b98ce8fe7487a151",
       "version_major": 2,
       "version_minor": 0
      },
      "text/plain": [
       "VBox(children=(Label(value='0.001 MB of 0.001 MB uploaded (0.000 MB deduped)\\r'), FloatProgress(value=1.0, max…"
      ]
     },
     "metadata": {},
     "output_type": "display_data"
    },
    {
     "data": {
      "text/html": [
       "<style>\n",
       "    table.wandb td:nth-child(1) { padding: 0 10px; text-align: left ; width: auto;} td:nth-child(2) {text-align: left ; width: 100%}\n",
       "    .wandb-row { display: flex; flex-direction: row; flex-wrap: wrap; justify-content: flex-start; width: 100% }\n",
       "    .wandb-col { display: flex; flex-direction: column; flex-basis: 100%; flex: 1; padding: 10px; }\n",
       "    </style>\n",
       "<div class=\"wandb-row\"><div class=\"wandb-col\"><h3>Run history:</h3><br/><table class=\"wandb\"><tr><td>epoch</td><td>▁▁▁▂▂▂▂▂▂▃▃▃▃▃▄▄▄▄▄▄▅▅▅▅▅▅▆▆▆▆▆▇▇▇▇▇████</td></tr><tr><td>lr-Adam</td><td>▁▁▁▁▁▁▁▁▁▁▁▁▁▁▁▁▁▁▁▁▁▁▁▁▁▁▁▁▁▁▁▁▁▁▁▁▁▁▁▁</td></tr><tr><td>train_acc</td><td>▁▁▃▃▃▃▄▅▄▅▅▅▅▅▅▅▅▅▅▆▆▆▆▆▆▇▇▇▇▇▇▇████████</td></tr><tr><td>train_auc</td><td>▃▂▁▁▂▃▄▄▄▄▄▄▄▄▄▄▄▅▅▅▅▅▅▆▆▆▇▇████████████</td></tr><tr><td>train_f1</td><td>▁▂▇▇▇▇▇▇▇▇▇▇▇▇▇▇▇▇▇▇▇▇▇▇▇▇██████████████</td></tr><tr><td>train_loss_epoch</td><td>█▇▇▇▆▆▆▆▆▆▆▆▅▅▅▅▅▅▅▅▄▄▄▄▄▃▃▃▂▂▂▂▂▁▁▁▁▁▁▁</td></tr><tr><td>train_loss_step</td><td>█▇▇▆▅▄▃▂▁▁</td></tr><tr><td>trainer/global_step</td><td>▁▁▁▁▂▂▂▂▂▃▃▃▃▃▄▄▄▄▄▄▅▅▅▅▅▅▆▆▆▆▆▇▇▇▇▇▇███</td></tr><tr><td>val_acc</td><td>▁▂▃▃▃▄▅▅▆▆▅▆▆▆▆▆▆▆▇▇▇▇▇▇▇▇▇▇▇▇██▇███████</td></tr><tr><td>val_auc</td><td>▄▂▁▁▃▄▄▄▄▅▅▅▅▅▅▅▅▅▅▆▆▆▆▇▇▇██████████████</td></tr><tr><td>val_f1</td><td>▁▄▇▇▇▇▇▇▇▇▇▇▇▇▇▇▇███████████████████████</td></tr><tr><td>val_loss_epoch</td><td>█▇▇▇▆▆▆▆▅▅▅▅▅▄▄▄▄▄▄▃▃▃▃▂▂▂▂▂▁▁▁▁▁▁▁▁▁▁▁▁</td></tr><tr><td>val_loss_step</td><td>█▇▇▇▆▆▆▆▅▅▅▅▅▄▄▄▄▄▄▃▃▃▃▂▂▂▂▂▁▁▁▁▁▁▁▁▁▁▁▁</td></tr></table><br/></div><div class=\"wandb-col\"><h3>Run summary:</h3><br/><table class=\"wandb\"><tr><td>epoch</td><td>99</td></tr><tr><td>lr-Adam</td><td>0.005</td></tr><tr><td>train_acc</td><td>0.8835</td></tr><tr><td>train_auc</td><td>0.9272</td></tr><tr><td>train_f1</td><td>0.9027</td></tr><tr><td>train_loss_epoch</td><td>0.4416</td></tr><tr><td>train_loss_step</td><td>0.4416</td></tr><tr><td>trainer/global_step</td><td>99</td></tr><tr><td>val_acc</td><td>0.83459</td></tr><tr><td>val_auc</td><td>0.91136</td></tr><tr><td>val_f1</td><td>0.84058</td></tr><tr><td>val_loss_epoch</td><td>0.49017</td></tr><tr><td>val_loss_step</td><td>0.49017</td></tr></table><br/></div></div>"
      ],
      "text/plain": [
       "<IPython.core.display.HTML object>"
      ]
     },
     "metadata": {},
     "output_type": "display_data"
    },
    {
     "data": {
      "text/html": [
       " View run <strong style=\"color:#cdcd00\">MLP_2_16_1</strong> at: <a href='https://wandb.ai/thoomas/SF_082423_Covid/runs/5lx1d0ee' target=\"_blank\">https://wandb.ai/thoomas/SF_082423_Covid/runs/5lx1d0ee</a><br/>Synced 5 W&B file(s), 0 media file(s), 0 artifact file(s) and 0 other file(s)"
      ],
      "text/plain": [
       "<IPython.core.display.HTML object>"
      ]
     },
     "metadata": {},
     "output_type": "display_data"
    },
    {
     "data": {
      "text/html": [
       "Find logs at: <code>.\\wandb\\run-20230824_123916-5lx1d0ee\\logs</code>"
      ],
      "text/plain": [
       "<IPython.core.display.HTML object>"
      ]
     },
     "metadata": {},
     "output_type": "display_data"
    },
    {
     "data": {
      "application/vnd.jupyter.widget-view+json": {
       "model_id": "618d99781cce4acfb65ad22b2b89a28a",
       "version_major": 2,
       "version_minor": 0
      },
      "text/plain": [
       "VBox(children=(Label(value='Waiting for wandb.init()...\\r'), FloatProgress(value=0.017200000000002547, max=1.0…"
      ]
     },
     "metadata": {},
     "output_type": "display_data"
    },
    {
     "data": {
      "text/html": [
       "wandb version 0.15.8 is available!  To upgrade, please run:\n",
       " $ pip install wandb --upgrade"
      ],
      "text/plain": [
       "<IPython.core.display.HTML object>"
      ]
     },
     "metadata": {},
     "output_type": "display_data"
    },
    {
     "data": {
      "text/html": [
       "Tracking run with wandb version 0.14.0"
      ],
      "text/plain": [
       "<IPython.core.display.HTML object>"
      ]
     },
     "metadata": {},
     "output_type": "display_data"
    },
    {
     "data": {
      "text/html": [
       "Run data is saved locally in <code>Y:\\coskun-lab\\Thomas\\11_snowflakes\\notebooks\\wandb\\run-20230824_125228-wmwk4so9</code>"
      ],
      "text/plain": [
       "<IPython.core.display.HTML object>"
      ]
     },
     "metadata": {},
     "output_type": "display_data"
    },
    {
     "data": {
      "text/html": [
       "Syncing run <strong><a href='https://wandb.ai/thoomas/SF_082423_Covid/runs/wmwk4so9' target=\"_blank\">MLP_2_16_1</a></strong> to <a href='https://wandb.ai/thoomas/SF_082423_Covid' target=\"_blank\">Weights & Biases</a> (<a href='https://wandb.me/run' target=\"_blank\">docs</a>)<br/>"
      ],
      "text/plain": [
       "<IPython.core.display.HTML object>"
      ]
     },
     "metadata": {},
     "output_type": "display_data"
    },
    {
     "data": {
      "text/html": [
       " View project at <a href='https://wandb.ai/thoomas/SF_082423_Covid' target=\"_blank\">https://wandb.ai/thoomas/SF_082423_Covid</a>"
      ],
      "text/plain": [
       "<IPython.core.display.HTML object>"
      ]
     },
     "metadata": {},
     "output_type": "display_data"
    },
    {
     "data": {
      "text/html": [
       " View run at <a href='https://wandb.ai/thoomas/SF_082423_Covid/runs/wmwk4so9' target=\"_blank\">https://wandb.ai/thoomas/SF_082423_Covid/runs/wmwk4so9</a>"
      ],
      "text/plain": [
       "<IPython.core.display.HTML object>"
      ]
     },
     "metadata": {},
     "output_type": "display_data"
    },
    {
     "name": "stderr",
     "output_type": "stream",
     "text": [
      "Global seed set to 42\n",
      "C:\\Users\\thu71\\Anaconda3\\envs\\snowflake\\lib\\site-packages\\pytorch_lightning\\loggers\\wandb.py:395: UserWarning: There is a wandb run already in progress and newly created instances of `WandbLogger` will reuse this run. If this is not desired, call `wandb.finish()` before instantiating `WandbLogger`.\n",
      "  rank_zero_warn(\n",
      "GPU available: True (cuda), used: True\n",
      "TPU available: False, using: 0 TPU cores\n",
      "IPU available: False, using: 0 IPUs\n",
      "HPU available: False, using: 0 HPUs\n",
      "Global seed set to 42\n",
      "LOCAL_RANK: 0 - CUDA_VISIBLE_DEVICES: [0,1]\n",
      "\n",
      "   | Name        | Type             | Params\n",
      "--------------------------------------------------\n",
      "0  | model       | MLPModel         | 368   \n",
      "1  | fnn_layer   | Linear           | 272   \n",
      "2  | selu        | SELU             | 0     \n",
      "3  | head        | Linear           | 34    \n",
      "4  | loss_module | CrossEntropyLoss | 0     \n",
      "5  | train_acc   | BinaryAccuracy   | 0     \n",
      "6  | train_auroc | BinaryAUROC      | 0     \n",
      "7  | train_f1    | BinaryF1Score    | 0     \n",
      "8  | valid_acc   | BinaryAccuracy   | 0     \n",
      "9  | valid_auroc | BinaryAUROC      | 0     \n",
      "10 | valid_f1    | BinaryF1Score    | 0     \n",
      "--------------------------------------------------\n",
      "674       Trainable params\n",
      "0         Non-trainable params\n",
      "674       Total params\n",
      "0.003     Total estimated model params size (MB)\n",
      "C:\\Users\\thu71\\AppData\\Roaming\\Python\\Python39\\site-packages\\lightning\\pytorch\\trainer\\connectors\\data_connector.py:478: PossibleUserWarning: Your `val_dataloader`'s sampler has shuffling enabled, it is strongly recommended that you turn shuffling off for val/test dataloaders.\n",
      "  rank_zero_warn(\n",
      "C:\\Users\\thu71\\AppData\\Roaming\\Python\\Python39\\site-packages\\lightning\\pytorch\\trainer\\connectors\\data_connector.py:430: PossibleUserWarning: The dataloader, val_dataloader, does not have many workers which may be a bottleneck. Consider increasing the value of the `num_workers` argument` (try 48 which is the number of cpus on this machine) in the `DataLoader` init to improve performance.\n",
      "  rank_zero_warn(\n",
      "C:\\Users\\thu71\\AppData\\Roaming\\Python\\Python39\\site-packages\\lightning\\pytorch\\trainer\\connectors\\data_connector.py:430: PossibleUserWarning: The dataloader, train_dataloader, does not have many workers which may be a bottleneck. Consider increasing the value of the `num_workers` argument` (try 48 which is the number of cpus on this machine) in the `DataLoader` init to improve performance.\n",
      "  rank_zero_warn(\n",
      "C:\\Users\\thu71\\AppData\\Roaming\\Python\\Python39\\site-packages\\lightning\\pytorch\\loops\\fit_loop.py:280: PossibleUserWarning: The number of training batches (1) is smaller than the logging interval Trainer(log_every_n_steps=10). Set a lower value for log_every_n_steps if you want to see logs for the training epoch.\n",
      "  rank_zero_warn(\n",
      "`Trainer.fit` stopped: `max_epochs=100` reached.\n"
     ]
    },
    {
     "data": {
      "text/html": [
       "Waiting for W&B process to finish... <strong style=\"color:green\">(success).</strong>"
      ],
      "text/plain": [
       "<IPython.core.display.HTML object>"
      ]
     },
     "metadata": {},
     "output_type": "display_data"
    },
    {
     "data": {
      "application/vnd.jupyter.widget-view+json": {
       "model_id": "4f7d26cc1687434d8d140d04c3abcad5",
       "version_major": 2,
       "version_minor": 0
      },
      "text/plain": [
       "VBox(children=(Label(value='0.001 MB of 0.001 MB uploaded (0.000 MB deduped)\\r'), FloatProgress(value=1.0, max…"
      ]
     },
     "metadata": {},
     "output_type": "display_data"
    },
    {
     "data": {
      "text/html": [
       "<style>\n",
       "    table.wandb td:nth-child(1) { padding: 0 10px; text-align: left ; width: auto;} td:nth-child(2) {text-align: left ; width: 100%}\n",
       "    .wandb-row { display: flex; flex-direction: row; flex-wrap: wrap; justify-content: flex-start; width: 100% }\n",
       "    .wandb-col { display: flex; flex-direction: column; flex-basis: 100%; flex: 1; padding: 10px; }\n",
       "    </style>\n",
       "<div class=\"wandb-row\"><div class=\"wandb-col\"><h3>Run history:</h3><br/><table class=\"wandb\"><tr><td>epoch</td><td>▁▁▁▂▂▂▂▂▂▃▃▃▃▃▄▄▄▄▄▄▅▅▅▅▅▅▆▆▆▆▆▇▇▇▇▇████</td></tr><tr><td>lr-Adam</td><td>▁▁▁▁▁▁▁▁▁▁▁▁▁▁▁▁▁▁▁▁▁▁▁▁▁▁▁▁▁▁▁▁▁▁▁▁▁▁▁▁</td></tr><tr><td>train_acc</td><td>▁▁▁▁▁▁▂▂▃▄▄▅▅▄▅▅▆▅▆▅▆▆▆▇▅▇▇▆▆▇█▇▇▆▇▇▇▇▇█</td></tr><tr><td>train_auc</td><td>▁▂▂▂▂▃▄▃▄▅▅▆▆▅▆▆▆▆▆▆▇▇▇▇▆▇▇▇▇▇██▇▇▇█████</td></tr><tr><td>train_f1</td><td>▄▄▄▄▄▁▄▄▃▅▅▅▅▅▅▅▆▆▆▅▆▆▆▇▅▇▇▇▆▇█▇▆▇▇▇█▇▇█</td></tr><tr><td>train_loss_epoch</td><td>████▇▆▆▆▅▅▅▄▄▄▄▃▃▄▃▃▃▃▃▂▃▂▂▂▂▂▁▂▂▂▂▂▂▁▁▁</td></tr><tr><td>train_loss_step</td><td>█▆▄▄▃▂▂▁▁▁</td></tr><tr><td>trainer/global_step</td><td>▁▁▁▁▂▂▂▂▂▃▃▃▃▃▄▄▄▄▄▄▅▅▅▅▅▅▆▆▆▆▆▇▇▇▇▇▇███</td></tr><tr><td>val_acc</td><td>▄▄▄▄▁▁▁▁▁▂▃▃▄▅▅▄▆▅▆▆▆▆▆▆▇▆▆▆▆▆▇▆▆█▇▇█▇▇▇</td></tr><tr><td>val_auc</td><td>▁▁▂▃▃▄▄▅▅▅▆▆▆▆▆▆▆▆▆▆▇▇▇▇▇▇▇▇▇███████████</td></tr><tr><td>val_f1</td><td>▇▇▇▇▁▁▂▂▂▂▃▃▅▆▆▆▇▇▇▇▇▇▇▇▇▇▇▇▇▇█▇▇█▇▇███▇</td></tr><tr><td>val_loss_epoch</td><td>▅▅▅▅▇█▇▇▇▅▅▅▄▄▃▄▃▃▃▃▃▃▃▃▂▂▂▂▂▂▂▂▂▁▂▂▁▁▁▂</td></tr><tr><td>val_loss_step</td><td>▅▅▅▅▇█▇▇▇▅▅▅▄▄▃▄▃▃▃▃▃▃▃▃▂▂▂▂▂▂▂▂▂▁▂▂▁▁▁▂</td></tr></table><br/></div><div class=\"wandb-col\"><h3>Run summary:</h3><br/><table class=\"wandb\"><tr><td>epoch</td><td>99</td></tr><tr><td>lr-Adam</td><td>0.005</td></tr><tr><td>train_acc</td><td>0.83495</td></tr><tr><td>train_auc</td><td>0.90622</td></tr><tr><td>train_f1</td><td>0.86614</td></tr><tr><td>train_loss_epoch</td><td>0.47531</td></tr><tr><td>train_loss_step</td><td>0.47531</td></tr><tr><td>trainer/global_step</td><td>99</td></tr><tr><td>val_acc</td><td>0.72932</td></tr><tr><td>val_auc</td><td>0.91551</td></tr><tr><td>val_f1</td><td>0.70492</td></tr><tr><td>val_loss_epoch</td><td>0.57271</td></tr><tr><td>val_loss_step</td><td>0.57271</td></tr></table><br/></div></div>"
      ],
      "text/plain": [
       "<IPython.core.display.HTML object>"
      ]
     },
     "metadata": {},
     "output_type": "display_data"
    },
    {
     "data": {
      "text/html": [
       " View run <strong style=\"color:#cdcd00\">MLP_2_16_1</strong> at: <a href='https://wandb.ai/thoomas/SF_082423_Covid/runs/wmwk4so9' target=\"_blank\">https://wandb.ai/thoomas/SF_082423_Covid/runs/wmwk4so9</a><br/>Synced 5 W&B file(s), 0 media file(s), 0 artifact file(s) and 0 other file(s)"
      ],
      "text/plain": [
       "<IPython.core.display.HTML object>"
      ]
     },
     "metadata": {},
     "output_type": "display_data"
    },
    {
     "data": {
      "text/html": [
       "Find logs at: <code>.\\wandb\\run-20230824_125228-wmwk4so9\\logs</code>"
      ],
      "text/plain": [
       "<IPython.core.display.HTML object>"
      ]
     },
     "metadata": {},
     "output_type": "display_data"
    },
    {
     "data": {
      "application/vnd.jupyter.widget-view+json": {
       "model_id": "3a6d24354ef64886a6b5c2cd630109d5",
       "version_major": 2,
       "version_minor": 0
      },
      "text/plain": [
       "VBox(children=(Label(value='Waiting for wandb.init()...\\r'), FloatProgress(value=0.016916666666672124, max=1.0…"
      ]
     },
     "metadata": {},
     "output_type": "display_data"
    },
    {
     "data": {
      "text/html": [
       "wandb version 0.15.8 is available!  To upgrade, please run:\n",
       " $ pip install wandb --upgrade"
      ],
      "text/plain": [
       "<IPython.core.display.HTML object>"
      ]
     },
     "metadata": {},
     "output_type": "display_data"
    },
    {
     "data": {
      "text/html": [
       "Tracking run with wandb version 0.14.0"
      ],
      "text/plain": [
       "<IPython.core.display.HTML object>"
      ]
     },
     "metadata": {},
     "output_type": "display_data"
    },
    {
     "data": {
      "text/html": [
       "Run data is saved locally in <code>Y:\\coskun-lab\\Thomas\\11_snowflakes\\notebooks\\wandb\\run-20230824_130559-7wjph8v4</code>"
      ],
      "text/plain": [
       "<IPython.core.display.HTML object>"
      ]
     },
     "metadata": {},
     "output_type": "display_data"
    },
    {
     "data": {
      "text/html": [
       "Syncing run <strong><a href='https://wandb.ai/thoomas/SF_082423_Covid/runs/7wjph8v4' target=\"_blank\">MLP_2_16_1</a></strong> to <a href='https://wandb.ai/thoomas/SF_082423_Covid' target=\"_blank\">Weights & Biases</a> (<a href='https://wandb.me/run' target=\"_blank\">docs</a>)<br/>"
      ],
      "text/plain": [
       "<IPython.core.display.HTML object>"
      ]
     },
     "metadata": {},
     "output_type": "display_data"
    },
    {
     "data": {
      "text/html": [
       " View project at <a href='https://wandb.ai/thoomas/SF_082423_Covid' target=\"_blank\">https://wandb.ai/thoomas/SF_082423_Covid</a>"
      ],
      "text/plain": [
       "<IPython.core.display.HTML object>"
      ]
     },
     "metadata": {},
     "output_type": "display_data"
    },
    {
     "data": {
      "text/html": [
       " View run at <a href='https://wandb.ai/thoomas/SF_082423_Covid/runs/7wjph8v4' target=\"_blank\">https://wandb.ai/thoomas/SF_082423_Covid/runs/7wjph8v4</a>"
      ],
      "text/plain": [
       "<IPython.core.display.HTML object>"
      ]
     },
     "metadata": {},
     "output_type": "display_data"
    },
    {
     "name": "stderr",
     "output_type": "stream",
     "text": [
      "Global seed set to 42\n",
      "C:\\Users\\thu71\\Anaconda3\\envs\\snowflake\\lib\\site-packages\\pytorch_lightning\\loggers\\wandb.py:395: UserWarning: There is a wandb run already in progress and newly created instances of `WandbLogger` will reuse this run. If this is not desired, call `wandb.finish()` before instantiating `WandbLogger`.\n",
      "  rank_zero_warn(\n",
      "GPU available: True (cuda), used: True\n",
      "TPU available: False, using: 0 TPU cores\n",
      "IPU available: False, using: 0 IPUs\n",
      "HPU available: False, using: 0 HPUs\n",
      "Global seed set to 42\n",
      "C:\\Users\\thu71\\Anaconda3\\envs\\snowflake\\lib\\site-packages\\torch_geometric\\deprecation.py:12: UserWarning: 'nn.glob.GlobalAttention' is deprecated, use 'nn.aggr.AttentionalAggregation' instead\n",
      "  warnings.warn(out)\n",
      "LOCAL_RANK: 0 - CUDA_VISIBLE_DEVICES: [0,1]\n",
      "\n",
      "   | Name        | Type             | Params\n",
      "--------------------------------------------------\n",
      "0  | model       | MLPModel         | 368   \n",
      "1  | fnn_layer   | Linear           | 272   \n",
      "2  | selu        | SELU             | 0     \n",
      "3  | head        | Linear           | 34    \n",
      "4  | loss_module | CrossEntropyLoss | 0     \n",
      "5  | train_acc   | BinaryAccuracy   | 0     \n",
      "6  | train_auroc | BinaryAUROC      | 0     \n",
      "7  | train_f1    | BinaryF1Score    | 0     \n",
      "8  | valid_acc   | BinaryAccuracy   | 0     \n",
      "9  | valid_auroc | BinaryAUROC      | 0     \n",
      "10 | valid_f1    | BinaryF1Score    | 0     \n",
      "11 | pool        | GlobalAttention  | 17    \n",
      "--------------------------------------------------\n",
      "691       Trainable params\n",
      "0         Non-trainable params\n",
      "691       Total params\n",
      "0.003     Total estimated model params size (MB)\n",
      "C:\\Users\\thu71\\AppData\\Roaming\\Python\\Python39\\site-packages\\lightning\\pytorch\\trainer\\connectors\\data_connector.py:478: PossibleUserWarning: Your `val_dataloader`'s sampler has shuffling enabled, it is strongly recommended that you turn shuffling off for val/test dataloaders.\n",
      "  rank_zero_warn(\n",
      "C:\\Users\\thu71\\AppData\\Roaming\\Python\\Python39\\site-packages\\lightning\\pytorch\\trainer\\connectors\\data_connector.py:430: PossibleUserWarning: The dataloader, val_dataloader, does not have many workers which may be a bottleneck. Consider increasing the value of the `num_workers` argument` (try 48 which is the number of cpus on this machine) in the `DataLoader` init to improve performance.\n",
      "  rank_zero_warn(\n",
      "C:\\Users\\thu71\\AppData\\Roaming\\Python\\Python39\\site-packages\\lightning\\pytorch\\trainer\\connectors\\data_connector.py:430: PossibleUserWarning: The dataloader, train_dataloader, does not have many workers which may be a bottleneck. Consider increasing the value of the `num_workers` argument` (try 48 which is the number of cpus on this machine) in the `DataLoader` init to improve performance.\n",
      "  rank_zero_warn(\n",
      "C:\\Users\\thu71\\AppData\\Roaming\\Python\\Python39\\site-packages\\lightning\\pytorch\\loops\\fit_loop.py:280: PossibleUserWarning: The number of training batches (1) is smaller than the logging interval Trainer(log_every_n_steps=10). Set a lower value for log_every_n_steps if you want to see logs for the training epoch.\n",
      "  rank_zero_warn(\n",
      "`Trainer.fit` stopped: `max_epochs=100` reached.\n"
     ]
    },
    {
     "data": {
      "text/html": [
       "Waiting for W&B process to finish... <strong style=\"color:green\">(success).</strong>"
      ],
      "text/plain": [
       "<IPython.core.display.HTML object>"
      ]
     },
     "metadata": {},
     "output_type": "display_data"
    },
    {
     "data": {
      "application/vnd.jupyter.widget-view+json": {
       "model_id": "3514f7a0735e4e038a0f86233d7581c6",
       "version_major": 2,
       "version_minor": 0
      },
      "text/plain": [
       "VBox(children=(Label(value='0.001 MB of 0.001 MB uploaded (0.000 MB deduped)\\r'), FloatProgress(value=1.0, max…"
      ]
     },
     "metadata": {},
     "output_type": "display_data"
    },
    {
     "data": {
      "text/html": [
       "<style>\n",
       "    table.wandb td:nth-child(1) { padding: 0 10px; text-align: left ; width: auto;} td:nth-child(2) {text-align: left ; width: 100%}\n",
       "    .wandb-row { display: flex; flex-direction: row; flex-wrap: wrap; justify-content: flex-start; width: 100% }\n",
       "    .wandb-col { display: flex; flex-direction: column; flex-basis: 100%; flex: 1; padding: 10px; }\n",
       "    </style>\n",
       "<div class=\"wandb-row\"><div class=\"wandb-col\"><h3>Run history:</h3><br/><table class=\"wandb\"><tr><td>epoch</td><td>▁▁▁▂▂▂▂▂▂▃▃▃▃▃▄▄▄▄▄▄▅▅▅▅▅▅▆▆▆▆▆▇▇▇▇▇████</td></tr><tr><td>lr-Adam</td><td>▁▁▁▁▁▁▁▁▁▁▁▁▁▁▁▁▁▁▁▁▁▁▁▁▁▁▁▁▁▁▁▁▁▁▁▁▁▁▁▁</td></tr><tr><td>train_acc</td><td>▁▃▅▅▅▅▅▆▆▆▆▆▆▇▇▆▇▇▇▆▇▇█▇█▇▇▇▇▇█▇█████▇█▇</td></tr><tr><td>train_auc</td><td>▁▃▅▅▅▅▆▆▆▆▆▆▇▇▇▇▇▇▇▇█▇█████▇▇██▇████████</td></tr><tr><td>train_f1</td><td>▁▅▆▆▆▆▆▆▆▇▇▇▇▇▇▇▇▇▇▆▇▇█▇█▇██▇▇▇▇██▇██▇█▇</td></tr><tr><td>train_loss_epoch</td><td>█▇▆▅▅▅▄▄▄▄▄▄▃▃▂▃▃▂▂▂▂▂▂▂▂▂▂▂▂▂▂▂▁▁▁▁▁▂▁▁</td></tr><tr><td>train_loss_step</td><td>█▆▅▄▂▂▁▂▁▂</td></tr><tr><td>trainer/global_step</td><td>▁▁▁▁▂▂▂▂▂▃▃▃▃▃▄▄▄▄▄▄▅▅▅▅▅▅▆▆▆▆▆▇▇▇▇▇▇███</td></tr><tr><td>val_acc</td><td>▁▂▃▃▃▃▄▅▄▅▆▆▆▅▄▄▃▃▃▃▃▃▃▃▃▃▄▄▄▄▄▅▇▆▆▇▆▇▇█</td></tr><tr><td>val_auc</td><td>▁▂▃▄▅▆▆▆▆▆▆▆▆▇▇▇▇▇▇▇▇▇██████████████████</td></tr><tr><td>val_f1</td><td>▃▅▆▆▆▆▇▇▇▇▇▇▆▅▄▃▁▁▂▂▁▂▂▂▂▁▃▃▃▄▃▅▇▆▆█▆▇▇█</td></tr><tr><td>val_loss_epoch</td><td>█▇▇▇▆▆▅▅▅▅▅▄▄▅▅▅▆▆▅▅▆▅▅▆▅▆▄▅▄▄▄▃▂▂▂▂▂▂▁▁</td></tr><tr><td>val_loss_step</td><td>█▇▇▇▆▆▅▅▅▅▅▄▄▅▅▅▆▆▅▅▆▅▅▆▅▆▄▅▄▄▄▃▂▂▂▂▂▂▁▁</td></tr></table><br/></div><div class=\"wandb-col\"><h3>Run summary:</h3><br/><table class=\"wandb\"><tr><td>epoch</td><td>99</td></tr><tr><td>lr-Adam</td><td>0.005</td></tr><tr><td>train_acc</td><td>0.80906</td></tr><tr><td>train_auc</td><td>0.88341</td></tr><tr><td>train_f1</td><td>0.82799</td></tr><tr><td>train_loss_epoch</td><td>0.48187</td></tr><tr><td>train_loss_step</td><td>0.48187</td></tr><tr><td>trainer/global_step</td><td>99</td></tr><tr><td>val_acc</td><td>0.84211</td></tr><tr><td>val_auc</td><td>0.93398</td></tr><tr><td>val_f1</td><td>0.85315</td></tr><tr><td>val_loss_epoch</td><td>0.52896</td></tr><tr><td>val_loss_step</td><td>0.52896</td></tr></table><br/></div></div>"
      ],
      "text/plain": [
       "<IPython.core.display.HTML object>"
      ]
     },
     "metadata": {},
     "output_type": "display_data"
    },
    {
     "data": {
      "text/html": [
       " View run <strong style=\"color:#cdcd00\">MLP_2_16_1</strong> at: <a href='https://wandb.ai/thoomas/SF_082423_Covid/runs/7wjph8v4' target=\"_blank\">https://wandb.ai/thoomas/SF_082423_Covid/runs/7wjph8v4</a><br/>Synced 5 W&B file(s), 0 media file(s), 0 artifact file(s) and 0 other file(s)"
      ],
      "text/plain": [
       "<IPython.core.display.HTML object>"
      ]
     },
     "metadata": {},
     "output_type": "display_data"
    },
    {
     "data": {
      "text/html": [
       "Find logs at: <code>.\\wandb\\run-20230824_130559-7wjph8v4\\logs</code>"
      ],
      "text/plain": [
       "<IPython.core.display.HTML object>"
      ]
     },
     "metadata": {},
     "output_type": "display_data"
    },
    {
     "data": {
      "application/vnd.jupyter.widget-view+json": {
       "model_id": "f340b7ec98914b7fb26864f7d188953b",
       "version_major": 2,
       "version_minor": 0
      },
      "text/plain": [
       "VBox(children=(Label(value='Waiting for wandb.init()...\\r'), FloatProgress(value=0.016933333333327028, max=1.0…"
      ]
     },
     "metadata": {},
     "output_type": "display_data"
    },
    {
     "data": {
      "text/html": [
       "wandb version 0.15.8 is available!  To upgrade, please run:\n",
       " $ pip install wandb --upgrade"
      ],
      "text/plain": [
       "<IPython.core.display.HTML object>"
      ]
     },
     "metadata": {},
     "output_type": "display_data"
    },
    {
     "data": {
      "text/html": [
       "Tracking run with wandb version 0.14.0"
      ],
      "text/plain": [
       "<IPython.core.display.HTML object>"
      ]
     },
     "metadata": {},
     "output_type": "display_data"
    },
    {
     "data": {
      "text/html": [
       "Run data is saved locally in <code>Y:\\coskun-lab\\Thomas\\11_snowflakes\\notebooks\\wandb\\run-20230824_131902-pd4xu1mx</code>"
      ],
      "text/plain": [
       "<IPython.core.display.HTML object>"
      ]
     },
     "metadata": {},
     "output_type": "display_data"
    },
    {
     "data": {
      "text/html": [
       "Syncing run <strong><a href='https://wandb.ai/thoomas/SF_082423_Covid/runs/pd4xu1mx' target=\"_blank\">MLP_2_16_1</a></strong> to <a href='https://wandb.ai/thoomas/SF_082423_Covid' target=\"_blank\">Weights & Biases</a> (<a href='https://wandb.me/run' target=\"_blank\">docs</a>)<br/>"
      ],
      "text/plain": [
       "<IPython.core.display.HTML object>"
      ]
     },
     "metadata": {},
     "output_type": "display_data"
    },
    {
     "data": {
      "text/html": [
       " View project at <a href='https://wandb.ai/thoomas/SF_082423_Covid' target=\"_blank\">https://wandb.ai/thoomas/SF_082423_Covid</a>"
      ],
      "text/plain": [
       "<IPython.core.display.HTML object>"
      ]
     },
     "metadata": {},
     "output_type": "display_data"
    },
    {
     "data": {
      "text/html": [
       " View run at <a href='https://wandb.ai/thoomas/SF_082423_Covid/runs/pd4xu1mx' target=\"_blank\">https://wandb.ai/thoomas/SF_082423_Covid/runs/pd4xu1mx</a>"
      ],
      "text/plain": [
       "<IPython.core.display.HTML object>"
      ]
     },
     "metadata": {},
     "output_type": "display_data"
    },
    {
     "name": "stderr",
     "output_type": "stream",
     "text": [
      "Global seed set to 42\n",
      "C:\\Users\\thu71\\Anaconda3\\envs\\snowflake\\lib\\site-packages\\pytorch_lightning\\loggers\\wandb.py:395: UserWarning: There is a wandb run already in progress and newly created instances of `WandbLogger` will reuse this run. If this is not desired, call `wandb.finish()` before instantiating `WandbLogger`.\n",
      "  rank_zero_warn(\n",
      "GPU available: True (cuda), used: True\n",
      "TPU available: False, using: 0 TPU cores\n",
      "IPU available: False, using: 0 IPUs\n",
      "HPU available: False, using: 0 HPUs\n",
      "Global seed set to 42\n",
      "LOCAL_RANK: 0 - CUDA_VISIBLE_DEVICES: [0,1]\n",
      "\n",
      "   | Name        | Type             | Params\n",
      "--------------------------------------------------\n",
      "0  | model       | MLPModel         | 368   \n",
      "1  | fnn_layer   | Linear           | 272   \n",
      "2  | selu        | SELU             | 0     \n",
      "3  | head        | Linear           | 34    \n",
      "4  | loss_module | CrossEntropyLoss | 0     \n",
      "5  | train_acc   | BinaryAccuracy   | 0     \n",
      "6  | train_auroc | BinaryAUROC      | 0     \n",
      "7  | train_f1    | BinaryF1Score    | 0     \n",
      "8  | valid_acc   | BinaryAccuracy   | 0     \n",
      "9  | valid_auroc | BinaryAUROC      | 0     \n",
      "10 | valid_f1    | BinaryF1Score    | 0     \n",
      "11 | pool        | Attention_module | 281   \n",
      "--------------------------------------------------\n",
      "955       Trainable params\n",
      "0         Non-trainable params\n",
      "955       Total params\n",
      "0.004     Total estimated model params size (MB)\n",
      "C:\\Users\\thu71\\AppData\\Roaming\\Python\\Python39\\site-packages\\lightning\\pytorch\\trainer\\connectors\\data_connector.py:478: PossibleUserWarning: Your `val_dataloader`'s sampler has shuffling enabled, it is strongly recommended that you turn shuffling off for val/test dataloaders.\n",
      "  rank_zero_warn(\n",
      "C:\\Users\\thu71\\AppData\\Roaming\\Python\\Python39\\site-packages\\lightning\\pytorch\\trainer\\connectors\\data_connector.py:430: PossibleUserWarning: The dataloader, val_dataloader, does not have many workers which may be a bottleneck. Consider increasing the value of the `num_workers` argument` (try 48 which is the number of cpus on this machine) in the `DataLoader` init to improve performance.\n",
      "  rank_zero_warn(\n",
      "C:\\Users\\thu71\\AppData\\Roaming\\Python\\Python39\\site-packages\\lightning\\pytorch\\trainer\\connectors\\data_connector.py:430: PossibleUserWarning: The dataloader, train_dataloader, does not have many workers which may be a bottleneck. Consider increasing the value of the `num_workers` argument` (try 48 which is the number of cpus on this machine) in the `DataLoader` init to improve performance.\n",
      "  rank_zero_warn(\n",
      "C:\\Users\\thu71\\AppData\\Roaming\\Python\\Python39\\site-packages\\lightning\\pytorch\\loops\\fit_loop.py:280: PossibleUserWarning: The number of training batches (1) is smaller than the logging interval Trainer(log_every_n_steps=10). Set a lower value for log_every_n_steps if you want to see logs for the training epoch.\n",
      "  rank_zero_warn(\n",
      "`Trainer.fit` stopped: `max_epochs=100` reached.\n"
     ]
    },
    {
     "data": {
      "text/html": [
       "Waiting for W&B process to finish... <strong style=\"color:green\">(success).</strong>"
      ],
      "text/plain": [
       "<IPython.core.display.HTML object>"
      ]
     },
     "metadata": {},
     "output_type": "display_data"
    },
    {
     "data": {
      "text/html": [
       "<style>\n",
       "    table.wandb td:nth-child(1) { padding: 0 10px; text-align: left ; width: auto;} td:nth-child(2) {text-align: left ; width: 100%}\n",
       "    .wandb-row { display: flex; flex-direction: row; flex-wrap: wrap; justify-content: flex-start; width: 100% }\n",
       "    .wandb-col { display: flex; flex-direction: column; flex-basis: 100%; flex: 1; padding: 10px; }\n",
       "    </style>\n",
       "<div class=\"wandb-row\"><div class=\"wandb-col\"><h3>Run history:</h3><br/><table class=\"wandb\"><tr><td>epoch</td><td>▁▁▁▂▂▂▂▂▂▃▃▃▃▃▄▄▄▄▄▄▅▅▅▅▅▅▆▆▆▆▆▇▇▇▇▇████</td></tr><tr><td>lr-Adam</td><td>▁▁▁▁▁▁▁▁▁▁▁▁▁▁▁▁▁▁▁▁▁▁▁▁▁▁▁▁▁▁▁▁▁▁▁▁▁▁▁▁</td></tr><tr><td>train_acc</td><td>▁▃▃▃▅▅▄▅▅▅▅▅▅▆▆▆▆▆▆▇▇▇▇▇▇█▇▇▇▇▇▇███▇███▇</td></tr><tr><td>train_auc</td><td>▁▁▂▂▂▂▃▃▃▃▃▄▄▄▅▅▆▇▇▇▇▇▇▇▇███████████████</td></tr><tr><td>train_f1</td><td>▁▆▆▆▇▇▇▇▇▇▇▇▇▇▇▇▇▇▇█████████████████████</td></tr><tr><td>train_loss_epoch</td><td>██▇▇▇▆▆▆▆▆▅▅▅▄▄▄▄▃▃▃▂▂▂▂▂▂▂▁▂▂▂▂▁▂▁▂▁▁▂▂</td></tr><tr><td>train_loss_step</td><td>█▇▆▄▂▂▁▁▁▁</td></tr><tr><td>trainer/global_step</td><td>▁▁▁▁▂▂▂▂▂▃▃▃▃▃▄▄▄▄▄▄▅▅▅▅▅▅▆▆▆▆▆▇▇▇▇▇▇███</td></tr><tr><td>val_acc</td><td>▅▄▄▆▇▇▇▇██▇████▇▆▆▃▁▁▁▂▂▂▂▁▂▂▂▂▂▁▂▁▂▂▂▃▃</td></tr><tr><td>val_auc</td><td>▂▁▄▄▅▅▅▅▅▅▆▆▆▆▆▆▆▇▇▇▇██▇▇█████▇█████████</td></tr><tr><td>val_f1</td><td>▇▇▇████████████▇▇▆▄▁▁▁▂▂▂▂▁▂▂▂▂▂▂▂▂▂▃▃▃▄</td></tr><tr><td>val_loss_epoch</td><td>▅▅▄▄▃▃▃▂▂▂▁▁▁▁▁▂▃▃▄▆▇▇▆▆▇▇█▇▇▇▇▆▇▆▇▇▇▆▅▅</td></tr><tr><td>val_loss_step</td><td>▅▅▄▄▃▃▃▂▂▂▁▁▁▁▁▂▃▃▄▆▇▇▆▆▇▇█▇▇▇▇▆▇▆▇▇▇▆▅▅</td></tr></table><br/></div><div class=\"wandb-col\"><h3>Run summary:</h3><br/><table class=\"wandb\"><tr><td>epoch</td><td>99</td></tr><tr><td>lr-Adam</td><td>0.005</td></tr><tr><td>train_acc</td><td>0.87379</td></tr><tr><td>train_auc</td><td>0.93479</td></tr><tr><td>train_f1</td><td>0.88889</td></tr><tr><td>train_loss_epoch</td><td>0.43948</td></tr><tr><td>train_loss_step</td><td>0.43948</td></tr><tr><td>trainer/global_step</td><td>99</td></tr><tr><td>val_acc</td><td>0.55639</td></tr><tr><td>val_auc</td><td>0.90951</td></tr><tr><td>val_f1</td><td>0.37895</td></tr><tr><td>val_loss_epoch</td><td>0.69644</td></tr><tr><td>val_loss_step</td><td>0.69644</td></tr></table><br/></div></div>"
      ],
      "text/plain": [
       "<IPython.core.display.HTML object>"
      ]
     },
     "metadata": {},
     "output_type": "display_data"
    },
    {
     "data": {
      "text/html": [
       " View run <strong style=\"color:#cdcd00\">MLP_2_16_1</strong> at: <a href='https://wandb.ai/thoomas/SF_082423_Covid/runs/pd4xu1mx' target=\"_blank\">https://wandb.ai/thoomas/SF_082423_Covid/runs/pd4xu1mx</a><br/>Synced 5 W&B file(s), 0 media file(s), 0 artifact file(s) and 0 other file(s)"
      ],
      "text/plain": [
       "<IPython.core.display.HTML object>"
      ]
     },
     "metadata": {},
     "output_type": "display_data"
    },
    {
     "data": {
      "text/html": [
       "Find logs at: <code>.\\wandb\\run-20230824_131902-pd4xu1mx\\logs</code>"
      ],
      "text/plain": [
       "<IPython.core.display.HTML object>"
      ]
     },
     "metadata": {},
     "output_type": "display_data"
    },
    {
     "data": {
      "application/vnd.jupyter.widget-view+json": {
       "model_id": "35843dac7cc24042bd90be1d54201c47",
       "version_major": 2,
       "version_minor": 0
      },
      "text/plain": [
       "VBox(children=(Label(value='Waiting for wandb.init()...\\r'), FloatProgress(value=0.016933333333327028, max=1.0…"
      ]
     },
     "metadata": {},
     "output_type": "display_data"
    },
    {
     "data": {
      "text/html": [
       "wandb version 0.15.8 is available!  To upgrade, please run:\n",
       " $ pip install wandb --upgrade"
      ],
      "text/plain": [
       "<IPython.core.display.HTML object>"
      ]
     },
     "metadata": {},
     "output_type": "display_data"
    },
    {
     "data": {
      "text/html": [
       "Tracking run with wandb version 0.14.0"
      ],
      "text/plain": [
       "<IPython.core.display.HTML object>"
      ]
     },
     "metadata": {},
     "output_type": "display_data"
    },
    {
     "data": {
      "text/html": [
       "Run data is saved locally in <code>Y:\\coskun-lab\\Thomas\\11_snowflakes\\notebooks\\wandb\\run-20230824_133219-2z9fdik5</code>"
      ],
      "text/plain": [
       "<IPython.core.display.HTML object>"
      ]
     },
     "metadata": {},
     "output_type": "display_data"
    },
    {
     "data": {
      "text/html": [
       "Syncing run <strong><a href='https://wandb.ai/thoomas/SF_082423_Covid/runs/2z9fdik5' target=\"_blank\">MLP_2_16_2</a></strong> to <a href='https://wandb.ai/thoomas/SF_082423_Covid' target=\"_blank\">Weights & Biases</a> (<a href='https://wandb.me/run' target=\"_blank\">docs</a>)<br/>"
      ],
      "text/plain": [
       "<IPython.core.display.HTML object>"
      ]
     },
     "metadata": {},
     "output_type": "display_data"
    },
    {
     "data": {
      "text/html": [
       " View project at <a href='https://wandb.ai/thoomas/SF_082423_Covid' target=\"_blank\">https://wandb.ai/thoomas/SF_082423_Covid</a>"
      ],
      "text/plain": [
       "<IPython.core.display.HTML object>"
      ]
     },
     "metadata": {},
     "output_type": "display_data"
    },
    {
     "data": {
      "text/html": [
       " View run at <a href='https://wandb.ai/thoomas/SF_082423_Covid/runs/2z9fdik5' target=\"_blank\">https://wandb.ai/thoomas/SF_082423_Covid/runs/2z9fdik5</a>"
      ],
      "text/plain": [
       "<IPython.core.display.HTML object>"
      ]
     },
     "metadata": {},
     "output_type": "display_data"
    },
    {
     "name": "stderr",
     "output_type": "stream",
     "text": [
      "Global seed set to 42\n",
      "C:\\Users\\thu71\\Anaconda3\\envs\\snowflake\\lib\\site-packages\\pytorch_lightning\\loggers\\wandb.py:395: UserWarning: There is a wandb run already in progress and newly created instances of `WandbLogger` will reuse this run. If this is not desired, call `wandb.finish()` before instantiating `WandbLogger`.\n",
      "  rank_zero_warn(\n",
      "GPU available: True (cuda), used: True\n",
      "TPU available: False, using: 0 TPU cores\n",
      "IPU available: False, using: 0 IPUs\n",
      "HPU available: False, using: 0 HPUs\n",
      "Global seed set to 42\n",
      "LOCAL_RANK: 0 - CUDA_VISIBLE_DEVICES: [0,1]\n",
      "\n",
      "   | Name        | Type             | Params\n",
      "--------------------------------------------------\n",
      "0  | model       | MLPModel         | 368   \n",
      "1  | fnn_layer   | Linear           | 272   \n",
      "2  | selu        | SELU             | 0     \n",
      "3  | head        | Linear           | 34    \n",
      "4  | loss_module | CrossEntropyLoss | 0     \n",
      "5  | train_acc   | BinaryAccuracy   | 0     \n",
      "6  | train_auroc | BinaryAUROC      | 0     \n",
      "7  | train_f1    | BinaryF1Score    | 0     \n",
      "8  | valid_acc   | BinaryAccuracy   | 0     \n",
      "9  | valid_auroc | BinaryAUROC      | 0     \n",
      "10 | valid_f1    | BinaryF1Score    | 0     \n",
      "--------------------------------------------------\n",
      "674       Trainable params\n",
      "0         Non-trainable params\n",
      "674       Total params\n",
      "0.003     Total estimated model params size (MB)\n",
      "C:\\Users\\thu71\\AppData\\Roaming\\Python\\Python39\\site-packages\\lightning\\pytorch\\trainer\\connectors\\data_connector.py:478: PossibleUserWarning: Your `val_dataloader`'s sampler has shuffling enabled, it is strongly recommended that you turn shuffling off for val/test dataloaders.\n",
      "  rank_zero_warn(\n",
      "C:\\Users\\thu71\\AppData\\Roaming\\Python\\Python39\\site-packages\\lightning\\pytorch\\trainer\\connectors\\data_connector.py:430: PossibleUserWarning: The dataloader, val_dataloader, does not have many workers which may be a bottleneck. Consider increasing the value of the `num_workers` argument` (try 48 which is the number of cpus on this machine) in the `DataLoader` init to improve performance.\n",
      "  rank_zero_warn(\n",
      "C:\\Users\\thu71\\AppData\\Roaming\\Python\\Python39\\site-packages\\lightning\\pytorch\\trainer\\connectors\\data_connector.py:430: PossibleUserWarning: The dataloader, train_dataloader, does not have many workers which may be a bottleneck. Consider increasing the value of the `num_workers` argument` (try 48 which is the number of cpus on this machine) in the `DataLoader` init to improve performance.\n",
      "  rank_zero_warn(\n",
      "C:\\Users\\thu71\\AppData\\Roaming\\Python\\Python39\\site-packages\\lightning\\pytorch\\loops\\fit_loop.py:280: PossibleUserWarning: The number of training batches (1) is smaller than the logging interval Trainer(log_every_n_steps=10). Set a lower value for log_every_n_steps if you want to see logs for the training epoch.\n",
      "  rank_zero_warn(\n",
      "`Trainer.fit` stopped: `max_epochs=100` reached.\n"
     ]
    },
    {
     "data": {
      "text/html": [
       "Waiting for W&B process to finish... <strong style=\"color:green\">(success).</strong>"
      ],
      "text/plain": [
       "<IPython.core.display.HTML object>"
      ]
     },
     "metadata": {},
     "output_type": "display_data"
    },
    {
     "data": {
      "application/vnd.jupyter.widget-view+json": {
       "model_id": "e4edc5e1c4b44cd0ba66bb58589b0b5d",
       "version_major": 2,
       "version_minor": 0
      },
      "text/plain": [
       "VBox(children=(Label(value='0.001 MB of 0.001 MB uploaded (0.000 MB deduped)\\r'), FloatProgress(value=1.0, max…"
      ]
     },
     "metadata": {},
     "output_type": "display_data"
    },
    {
     "data": {
      "text/html": [
       "<style>\n",
       "    table.wandb td:nth-child(1) { padding: 0 10px; text-align: left ; width: auto;} td:nth-child(2) {text-align: left ; width: 100%}\n",
       "    .wandb-row { display: flex; flex-direction: row; flex-wrap: wrap; justify-content: flex-start; width: 100% }\n",
       "    .wandb-col { display: flex; flex-direction: column; flex-basis: 100%; flex: 1; padding: 10px; }\n",
       "    </style>\n",
       "<div class=\"wandb-row\"><div class=\"wandb-col\"><h3>Run history:</h3><br/><table class=\"wandb\"><tr><td>epoch</td><td>▁▁▁▂▂▂▂▂▂▃▃▃▃▃▄▄▄▄▄▄▅▅▅▅▅▅▆▆▆▆▆▇▇▇▇▇████</td></tr><tr><td>lr-Adam</td><td>▁▁▁▁▁▁▁▁▁▁▁▁▁▁▁▁▁▁▁▁▁▁▁▁▁▁▁▁▁▁▁▁▁▁▁▁▁▁▁▁</td></tr><tr><td>train_acc</td><td>▁▁▃▃▃▃▄▄▅▅▅▅▅▅▅▅▅▅▆▆▆▆▆▆▇▇▇▇▇▇██████████</td></tr><tr><td>train_auc</td><td>▃▂▁▁▂▃▄▄▄▄▄▄▄▅▅▅▅▅▅▅▆▆▆▆▇▇▇█████████████</td></tr><tr><td>train_f1</td><td>▁▂▇▇▇▇▇▇▇▇▇▇▇▇▇▇▇▇▇▇▇▇▇▇████████████████</td></tr><tr><td>train_loss_epoch</td><td>█▇▇▇▆▆▆▆▆▆▆▆▅▅▅▅▅▅▄▄▄▄▄▃▃▃▃▂▂▂▂▂▂▁▁▁▁▁▁▁</td></tr><tr><td>train_loss_step</td><td>█▇▇▆▅▄▃▂▁▁</td></tr><tr><td>trainer/global_step</td><td>▁▁▁▁▂▂▂▂▂▃▃▃▃▃▄▄▄▄▄▄▅▅▅▅▅▅▆▆▆▆▆▇▇▇▇▇▇███</td></tr><tr><td>val_acc</td><td>▁▃▄▄▄▄▆▆▅▆▆▇▆▆▆▆▆▆▆▆▇▆▆▆▆▇▇▇████████████</td></tr><tr><td>val_auc</td><td>▃▃▁▁▃▃▃▃▃▃▃▃▃▄▄▄▄▄▄▄▅▅▅▅▆▆▇▇▇▇▇█████████</td></tr><tr><td>val_f1</td><td>▁▄▇▇▇▇█▇▇▇███▇▇▇▇▇▇▇█▇▇▇▇▇▇█████████████</td></tr><tr><td>val_loss_epoch</td><td>█▆▆▆▆▆▆▆▅▅▅▅▅▄▄▄▄▄▄▄▄▃▃▃▃▃▃▂▂▂▁▁▂▂▁▁▂▁▂▁</td></tr><tr><td>val_loss_step</td><td>█▆▆▆▆▆▆▆▅▅▅▅▅▄▄▄▄▄▄▄▄▃▃▃▃▃▃▂▂▂▁▁▂▂▁▁▂▁▂▁</td></tr></table><br/></div><div class=\"wandb-col\"><h3>Run summary:</h3><br/><table class=\"wandb\"><tr><td>epoch</td><td>99</td></tr><tr><td>lr-Adam</td><td>0.005</td></tr><tr><td>train_acc</td><td>0.86408</td></tr><tr><td>train_auc</td><td>0.92373</td></tr><tr><td>train_f1</td><td>0.8877</td></tr><tr><td>train_loss_epoch</td><td>0.44616</td></tr><tr><td>train_loss_step</td><td>0.44616</td></tr><tr><td>trainer/global_step</td><td>99</td></tr><tr><td>val_acc</td><td>0.77444</td></tr><tr><td>val_auc</td><td>0.9042</td></tr><tr><td>val_f1</td><td>0.77612</td></tr><tr><td>val_loss_epoch</td><td>0.52328</td></tr><tr><td>val_loss_step</td><td>0.52328</td></tr></table><br/></div></div>"
      ],
      "text/plain": [
       "<IPython.core.display.HTML object>"
      ]
     },
     "metadata": {},
     "output_type": "display_data"
    },
    {
     "data": {
      "text/html": [
       " View run <strong style=\"color:#cdcd00\">MLP_2_16_2</strong> at: <a href='https://wandb.ai/thoomas/SF_082423_Covid/runs/2z9fdik5' target=\"_blank\">https://wandb.ai/thoomas/SF_082423_Covid/runs/2z9fdik5</a><br/>Synced 5 W&B file(s), 0 media file(s), 0 artifact file(s) and 0 other file(s)"
      ],
      "text/plain": [
       "<IPython.core.display.HTML object>"
      ]
     },
     "metadata": {},
     "output_type": "display_data"
    },
    {
     "data": {
      "text/html": [
       "Find logs at: <code>.\\wandb\\run-20230824_133219-2z9fdik5\\logs</code>"
      ],
      "text/plain": [
       "<IPython.core.display.HTML object>"
      ]
     },
     "metadata": {},
     "output_type": "display_data"
    },
    {
     "data": {
      "application/vnd.jupyter.widget-view+json": {
       "model_id": "1ea33619b549430b8efa5be3a401b0f9",
       "version_major": 2,
       "version_minor": 0
      },
      "text/plain": [
       "VBox(children=(Label(value='Waiting for wandb.init()...\\r'), FloatProgress(value=0.016933333333327028, max=1.0…"
      ]
     },
     "metadata": {},
     "output_type": "display_data"
    },
    {
     "data": {
      "text/html": [
       "wandb version 0.15.8 is available!  To upgrade, please run:\n",
       " $ pip install wandb --upgrade"
      ],
      "text/plain": [
       "<IPython.core.display.HTML object>"
      ]
     },
     "metadata": {},
     "output_type": "display_data"
    },
    {
     "data": {
      "text/html": [
       "Tracking run with wandb version 0.14.0"
      ],
      "text/plain": [
       "<IPython.core.display.HTML object>"
      ]
     },
     "metadata": {},
     "output_type": "display_data"
    },
    {
     "data": {
      "text/html": [
       "Run data is saved locally in <code>Y:\\coskun-lab\\Thomas\\11_snowflakes\\notebooks\\wandb\\run-20230824_134539-c8asbcmu</code>"
      ],
      "text/plain": [
       "<IPython.core.display.HTML object>"
      ]
     },
     "metadata": {},
     "output_type": "display_data"
    },
    {
     "data": {
      "text/html": [
       "Syncing run <strong><a href='https://wandb.ai/thoomas/SF_082423_Covid/runs/c8asbcmu' target=\"_blank\">MLP_2_16_2</a></strong> to <a href='https://wandb.ai/thoomas/SF_082423_Covid' target=\"_blank\">Weights & Biases</a> (<a href='https://wandb.me/run' target=\"_blank\">docs</a>)<br/>"
      ],
      "text/plain": [
       "<IPython.core.display.HTML object>"
      ]
     },
     "metadata": {},
     "output_type": "display_data"
    },
    {
     "data": {
      "text/html": [
       " View project at <a href='https://wandb.ai/thoomas/SF_082423_Covid' target=\"_blank\">https://wandb.ai/thoomas/SF_082423_Covid</a>"
      ],
      "text/plain": [
       "<IPython.core.display.HTML object>"
      ]
     },
     "metadata": {},
     "output_type": "display_data"
    },
    {
     "data": {
      "text/html": [
       " View run at <a href='https://wandb.ai/thoomas/SF_082423_Covid/runs/c8asbcmu' target=\"_blank\">https://wandb.ai/thoomas/SF_082423_Covid/runs/c8asbcmu</a>"
      ],
      "text/plain": [
       "<IPython.core.display.HTML object>"
      ]
     },
     "metadata": {},
     "output_type": "display_data"
    },
    {
     "name": "stderr",
     "output_type": "stream",
     "text": [
      "Global seed set to 42\n",
      "C:\\Users\\thu71\\Anaconda3\\envs\\snowflake\\lib\\site-packages\\pytorch_lightning\\loggers\\wandb.py:395: UserWarning: There is a wandb run already in progress and newly created instances of `WandbLogger` will reuse this run. If this is not desired, call `wandb.finish()` before instantiating `WandbLogger`.\n",
      "  rank_zero_warn(\n",
      "GPU available: True (cuda), used: True\n",
      "TPU available: False, using: 0 TPU cores\n",
      "IPU available: False, using: 0 IPUs\n",
      "HPU available: False, using: 0 HPUs\n",
      "Global seed set to 42\n",
      "LOCAL_RANK: 0 - CUDA_VISIBLE_DEVICES: [0,1]\n",
      "\n",
      "   | Name        | Type             | Params\n",
      "--------------------------------------------------\n",
      "0  | model       | MLPModel         | 368   \n",
      "1  | fnn_layer   | Linear           | 272   \n",
      "2  | selu        | SELU             | 0     \n",
      "3  | head        | Linear           | 34    \n",
      "4  | loss_module | CrossEntropyLoss | 0     \n",
      "5  | train_acc   | BinaryAccuracy   | 0     \n",
      "6  | train_auroc | BinaryAUROC      | 0     \n",
      "7  | train_f1    | BinaryF1Score    | 0     \n",
      "8  | valid_acc   | BinaryAccuracy   | 0     \n",
      "9  | valid_auroc | BinaryAUROC      | 0     \n",
      "10 | valid_f1    | BinaryF1Score    | 0     \n",
      "--------------------------------------------------\n",
      "674       Trainable params\n",
      "0         Non-trainable params\n",
      "674       Total params\n",
      "0.003     Total estimated model params size (MB)\n",
      "C:\\Users\\thu71\\AppData\\Roaming\\Python\\Python39\\site-packages\\lightning\\pytorch\\trainer\\connectors\\data_connector.py:478: PossibleUserWarning: Your `val_dataloader`'s sampler has shuffling enabled, it is strongly recommended that you turn shuffling off for val/test dataloaders.\n",
      "  rank_zero_warn(\n",
      "C:\\Users\\thu71\\AppData\\Roaming\\Python\\Python39\\site-packages\\lightning\\pytorch\\trainer\\connectors\\data_connector.py:430: PossibleUserWarning: The dataloader, val_dataloader, does not have many workers which may be a bottleneck. Consider increasing the value of the `num_workers` argument` (try 48 which is the number of cpus on this machine) in the `DataLoader` init to improve performance.\n",
      "  rank_zero_warn(\n",
      "C:\\Users\\thu71\\AppData\\Roaming\\Python\\Python39\\site-packages\\lightning\\pytorch\\trainer\\connectors\\data_connector.py:430: PossibleUserWarning: The dataloader, train_dataloader, does not have many workers which may be a bottleneck. Consider increasing the value of the `num_workers` argument` (try 48 which is the number of cpus on this machine) in the `DataLoader` init to improve performance.\n",
      "  rank_zero_warn(\n",
      "C:\\Users\\thu71\\AppData\\Roaming\\Python\\Python39\\site-packages\\lightning\\pytorch\\loops\\fit_loop.py:280: PossibleUserWarning: The number of training batches (1) is smaller than the logging interval Trainer(log_every_n_steps=10). Set a lower value for log_every_n_steps if you want to see logs for the training epoch.\n",
      "  rank_zero_warn(\n",
      "`Trainer.fit` stopped: `max_epochs=100` reached.\n"
     ]
    },
    {
     "data": {
      "text/html": [
       "Waiting for W&B process to finish... <strong style=\"color:green\">(success).</strong>"
      ],
      "text/plain": [
       "<IPython.core.display.HTML object>"
      ]
     },
     "metadata": {},
     "output_type": "display_data"
    },
    {
     "data": {
      "application/vnd.jupyter.widget-view+json": {
       "model_id": "e88b4a88bd584da0908a3ba57f282cc3",
       "version_major": 2,
       "version_minor": 0
      },
      "text/plain": [
       "VBox(children=(Label(value='0.001 MB of 0.001 MB uploaded (0.000 MB deduped)\\r'), FloatProgress(value=1.0, max…"
      ]
     },
     "metadata": {},
     "output_type": "display_data"
    },
    {
     "data": {
      "text/html": [
       "<style>\n",
       "    table.wandb td:nth-child(1) { padding: 0 10px; text-align: left ; width: auto;} td:nth-child(2) {text-align: left ; width: 100%}\n",
       "    .wandb-row { display: flex; flex-direction: row; flex-wrap: wrap; justify-content: flex-start; width: 100% }\n",
       "    .wandb-col { display: flex; flex-direction: column; flex-basis: 100%; flex: 1; padding: 10px; }\n",
       "    </style>\n",
       "<div class=\"wandb-row\"><div class=\"wandb-col\"><h3>Run history:</h3><br/><table class=\"wandb\"><tr><td>epoch</td><td>▁▁▁▂▂▂▂▂▂▃▃▃▃▃▄▄▄▄▄▄▅▅▅▅▅▅▆▆▆▆▆▇▇▇▇▇████</td></tr><tr><td>lr-Adam</td><td>▁▁▁▁▁▁▁▁▁▁▁▁▁▁▁▁▁▁▁▁▁▁▁▁▁▁▁▁▁▁▁▁▁▁▁▁▁▁▁▁</td></tr><tr><td>train_acc</td><td>▂▂▁▂▂▃▃▄▅▄▄▅▅▅▅▅▆▆▇▆▆▇▇▇▆▇▆▇▇▆▇▇▇██████▇</td></tr><tr><td>train_auc</td><td>▂▁▁▂▃▃▅▅▅▅▅▅▅▆▆▆▆▆▇▆▇▇▆▇▇▇▇▇▇██▇▇███████</td></tr><tr><td>train_f1</td><td>▄▄▁▃▃▃▄▄▄▄▅▅▅▆▅▅▆▆▇▆▆▇▆▇▆▇▇▇▇▆▇▇▇██▇███▇</td></tr><tr><td>train_loss_epoch</td><td>██▇▇▆▆▅▅▄▅▄▄▄▄▄▄▃▃▃▃▃▂▃▂▃▂▂▂▂▂▁▂▂▁▁▁▁▁▁▂</td></tr><tr><td>train_loss_step</td><td>█▇▅▄▄▃▃▂▁▂</td></tr><tr><td>trainer/global_step</td><td>▁▁▁▁▂▂▂▂▂▃▃▃▃▃▄▄▄▄▄▄▅▅▅▅▅▅▆▆▆▆▆▇▇▇▇▇▇███</td></tr><tr><td>val_acc</td><td>▇▁▁▁▁▁▁▁▃▃▂▃▅▅▅▆▅▅▅▆▇▆▆▆▄▅▅▄▄▇▇▅██▅▆▇▆▆▇</td></tr><tr><td>val_auc</td><td>▁▃▃▄▄▅▅▅▅▅▆▆▆▆▆▆▆▇▇▇▇▇▇▇▇▇█▇▇███████████</td></tr><tr><td>val_f1</td><td>█▁▁▁▁▁▂▂▂▃▂▃▄▄▄▄▄▄▄▄▅▄▄▄▃▃▄▃▃▄▄▄▅▅▄▄▄▄▄▄</td></tr><tr><td>val_loss_epoch</td><td>▂▅█▇▇▆▆▆▅▄▅▄▃▄▄▂▃▃▃▂▂▂▂▂▃▄▂▃▃▂▂▃▁▁▃▂▂▂▂▁</td></tr><tr><td>val_loss_step</td><td>▂▅█▇▇▆▆▆▅▄▅▄▃▄▄▂▃▃▃▂▂▂▂▂▃▄▂▃▃▂▂▃▁▁▃▂▂▂▂▁</td></tr></table><br/></div><div class=\"wandb-col\"><h3>Run summary:</h3><br/><table class=\"wandb\"><tr><td>epoch</td><td>99</td></tr><tr><td>lr-Adam</td><td>0.005</td></tr><tr><td>train_acc</td><td>0.79935</td></tr><tr><td>train_auc</td><td>0.89047</td></tr><tr><td>train_f1</td><td>0.83243</td></tr><tr><td>train_loss_epoch</td><td>0.49697</td></tr><tr><td>train_loss_step</td><td>0.49697</td></tr><tr><td>trainer/global_step</td><td>99</td></tr><tr><td>val_acc</td><td>0.5188</td></tr><tr><td>val_auc</td><td>0.9162</td></tr><tr><td>val_f1</td><td>0.30435</td></tr><tr><td>val_loss_epoch</td><td>0.66951</td></tr><tr><td>val_loss_step</td><td>0.66951</td></tr></table><br/></div></div>"
      ],
      "text/plain": [
       "<IPython.core.display.HTML object>"
      ]
     },
     "metadata": {},
     "output_type": "display_data"
    },
    {
     "data": {
      "text/html": [
       " View run <strong style=\"color:#cdcd00\">MLP_2_16_2</strong> at: <a href='https://wandb.ai/thoomas/SF_082423_Covid/runs/c8asbcmu' target=\"_blank\">https://wandb.ai/thoomas/SF_082423_Covid/runs/c8asbcmu</a><br/>Synced 5 W&B file(s), 0 media file(s), 0 artifact file(s) and 0 other file(s)"
      ],
      "text/plain": [
       "<IPython.core.display.HTML object>"
      ]
     },
     "metadata": {},
     "output_type": "display_data"
    },
    {
     "data": {
      "text/html": [
       "Find logs at: <code>.\\wandb\\run-20230824_134539-c8asbcmu\\logs</code>"
      ],
      "text/plain": [
       "<IPython.core.display.HTML object>"
      ]
     },
     "metadata": {},
     "output_type": "display_data"
    },
    {
     "data": {
      "application/vnd.jupyter.widget-view+json": {
       "model_id": "7ff5e9e7bfb847dea338a444b075fca7",
       "version_major": 2,
       "version_minor": 0
      },
      "text/plain": [
       "VBox(children=(Label(value='Waiting for wandb.init()...\\r'), FloatProgress(value=0.016933333333327028, max=1.0…"
      ]
     },
     "metadata": {},
     "output_type": "display_data"
    },
    {
     "data": {
      "text/html": [
       "wandb version 0.15.8 is available!  To upgrade, please run:\n",
       " $ pip install wandb --upgrade"
      ],
      "text/plain": [
       "<IPython.core.display.HTML object>"
      ]
     },
     "metadata": {},
     "output_type": "display_data"
    },
    {
     "data": {
      "text/html": [
       "Tracking run with wandb version 0.14.0"
      ],
      "text/plain": [
       "<IPython.core.display.HTML object>"
      ]
     },
     "metadata": {},
     "output_type": "display_data"
    },
    {
     "data": {
      "text/html": [
       "Run data is saved locally in <code>Y:\\coskun-lab\\Thomas\\11_snowflakes\\notebooks\\wandb\\run-20230824_135831-usfl7ucs</code>"
      ],
      "text/plain": [
       "<IPython.core.display.HTML object>"
      ]
     },
     "metadata": {},
     "output_type": "display_data"
    },
    {
     "data": {
      "text/html": [
       "Syncing run <strong><a href='https://wandb.ai/thoomas/SF_082423_Covid/runs/usfl7ucs' target=\"_blank\">MLP_2_16_2</a></strong> to <a href='https://wandb.ai/thoomas/SF_082423_Covid' target=\"_blank\">Weights & Biases</a> (<a href='https://wandb.me/run' target=\"_blank\">docs</a>)<br/>"
      ],
      "text/plain": [
       "<IPython.core.display.HTML object>"
      ]
     },
     "metadata": {},
     "output_type": "display_data"
    },
    {
     "data": {
      "text/html": [
       " View project at <a href='https://wandb.ai/thoomas/SF_082423_Covid' target=\"_blank\">https://wandb.ai/thoomas/SF_082423_Covid</a>"
      ],
      "text/plain": [
       "<IPython.core.display.HTML object>"
      ]
     },
     "metadata": {},
     "output_type": "display_data"
    },
    {
     "data": {
      "text/html": [
       " View run at <a href='https://wandb.ai/thoomas/SF_082423_Covid/runs/usfl7ucs' target=\"_blank\">https://wandb.ai/thoomas/SF_082423_Covid/runs/usfl7ucs</a>"
      ],
      "text/plain": [
       "<IPython.core.display.HTML object>"
      ]
     },
     "metadata": {},
     "output_type": "display_data"
    },
    {
     "name": "stderr",
     "output_type": "stream",
     "text": [
      "Global seed set to 42\n",
      "C:\\Users\\thu71\\Anaconda3\\envs\\snowflake\\lib\\site-packages\\pytorch_lightning\\loggers\\wandb.py:395: UserWarning: There is a wandb run already in progress and newly created instances of `WandbLogger` will reuse this run. If this is not desired, call `wandb.finish()` before instantiating `WandbLogger`.\n",
      "  rank_zero_warn(\n",
      "GPU available: True (cuda), used: True\n",
      "TPU available: False, using: 0 TPU cores\n",
      "IPU available: False, using: 0 IPUs\n",
      "HPU available: False, using: 0 HPUs\n",
      "Global seed set to 42\n",
      "C:\\Users\\thu71\\Anaconda3\\envs\\snowflake\\lib\\site-packages\\torch_geometric\\deprecation.py:12: UserWarning: 'nn.glob.GlobalAttention' is deprecated, use 'nn.aggr.AttentionalAggregation' instead\n",
      "  warnings.warn(out)\n",
      "LOCAL_RANK: 0 - CUDA_VISIBLE_DEVICES: [0,1]\n",
      "\n",
      "   | Name        | Type             | Params\n",
      "--------------------------------------------------\n",
      "0  | model       | MLPModel         | 368   \n",
      "1  | fnn_layer   | Linear           | 272   \n",
      "2  | selu        | SELU             | 0     \n",
      "3  | head        | Linear           | 34    \n",
      "4  | loss_module | CrossEntropyLoss | 0     \n",
      "5  | train_acc   | BinaryAccuracy   | 0     \n",
      "6  | train_auroc | BinaryAUROC      | 0     \n",
      "7  | train_f1    | BinaryF1Score    | 0     \n",
      "8  | valid_acc   | BinaryAccuracy   | 0     \n",
      "9  | valid_auroc | BinaryAUROC      | 0     \n",
      "10 | valid_f1    | BinaryF1Score    | 0     \n",
      "11 | pool        | GlobalAttention  | 17    \n",
      "--------------------------------------------------\n",
      "691       Trainable params\n",
      "0         Non-trainable params\n",
      "691       Total params\n",
      "0.003     Total estimated model params size (MB)\n",
      "C:\\Users\\thu71\\AppData\\Roaming\\Python\\Python39\\site-packages\\lightning\\pytorch\\trainer\\connectors\\data_connector.py:478: PossibleUserWarning: Your `val_dataloader`'s sampler has shuffling enabled, it is strongly recommended that you turn shuffling off for val/test dataloaders.\n",
      "  rank_zero_warn(\n",
      "C:\\Users\\thu71\\AppData\\Roaming\\Python\\Python39\\site-packages\\lightning\\pytorch\\trainer\\connectors\\data_connector.py:430: PossibleUserWarning: The dataloader, val_dataloader, does not have many workers which may be a bottleneck. Consider increasing the value of the `num_workers` argument` (try 48 which is the number of cpus on this machine) in the `DataLoader` init to improve performance.\n",
      "  rank_zero_warn(\n",
      "C:\\Users\\thu71\\AppData\\Roaming\\Python\\Python39\\site-packages\\lightning\\pytorch\\trainer\\connectors\\data_connector.py:430: PossibleUserWarning: The dataloader, train_dataloader, does not have many workers which may be a bottleneck. Consider increasing the value of the `num_workers` argument` (try 48 which is the number of cpus on this machine) in the `DataLoader` init to improve performance.\n",
      "  rank_zero_warn(\n",
      "C:\\Users\\thu71\\AppData\\Roaming\\Python\\Python39\\site-packages\\lightning\\pytorch\\loops\\fit_loop.py:280: PossibleUserWarning: The number of training batches (1) is smaller than the logging interval Trainer(log_every_n_steps=10). Set a lower value for log_every_n_steps if you want to see logs for the training epoch.\n",
      "  rank_zero_warn(\n",
      "`Trainer.fit` stopped: `max_epochs=100` reached.\n"
     ]
    },
    {
     "data": {
      "text/html": [
       "Waiting for W&B process to finish... <strong style=\"color:green\">(success).</strong>"
      ],
      "text/plain": [
       "<IPython.core.display.HTML object>"
      ]
     },
     "metadata": {},
     "output_type": "display_data"
    },
    {
     "data": {
      "application/vnd.jupyter.widget-view+json": {
       "model_id": "654b51b561164a5fa7fbaf8c13bf2c2f",
       "version_major": 2,
       "version_minor": 0
      },
      "text/plain": [
       "VBox(children=(Label(value='0.001 MB of 0.001 MB uploaded (0.000 MB deduped)\\r'), FloatProgress(value=1.0, max…"
      ]
     },
     "metadata": {},
     "output_type": "display_data"
    },
    {
     "data": {
      "text/html": [
       "<style>\n",
       "    table.wandb td:nth-child(1) { padding: 0 10px; text-align: left ; width: auto;} td:nth-child(2) {text-align: left ; width: 100%}\n",
       "    .wandb-row { display: flex; flex-direction: row; flex-wrap: wrap; justify-content: flex-start; width: 100% }\n",
       "    .wandb-col { display: flex; flex-direction: column; flex-basis: 100%; flex: 1; padding: 10px; }\n",
       "    </style>\n",
       "<div class=\"wandb-row\"><div class=\"wandb-col\"><h3>Run history:</h3><br/><table class=\"wandb\"><tr><td>epoch</td><td>▁▁▁▂▂▂▂▂▂▃▃▃▃▃▄▄▄▄▄▄▅▅▅▅▅▅▆▆▆▆▆▇▇▇▇▇████</td></tr><tr><td>lr-Adam</td><td>▁▁▁▁▁▁▁▁▁▁▁▁▁▁▁▁▁▁▁▁▁▁▁▁▁▁▁▁▁▁▁▁▁▁▁▁▁▁▁▁</td></tr><tr><td>train_acc</td><td>▁▂▅▄▅▄▅▅▅▆▅▆▇▆▇▇▇▇▇▇▇▇▇███▇▇▇█████▇█▇███</td></tr><tr><td>train_auc</td><td>▁▂▅▄▅▅▆▆▇▇▆▇▇▇▇▇▇▇▇▇▇▇▇█▇▇▇▇▇▇█▇█▇█▇▇███</td></tr><tr><td>train_f1</td><td>▁▄▅▅▆▅▅▆▆▇▆▇▇▆▇▇▇▇▇▇▇▇▇▇▇██▇▇█████▇█████</td></tr><tr><td>train_loss_epoch</td><td>█▇▆▆▅▅▅▄▄▃▄▃▃▃▂▂▂▂▂▃▂▃▂▂▂▂▂▂▂▁▁▂▁▂▂▁▂▁▁▁</td></tr><tr><td>train_loss_step</td><td>█▆▄▃▃▃▁▁▁▁</td></tr><tr><td>trainer/global_step</td><td>▁▁▁▁▂▂▂▂▂▃▃▃▃▃▄▄▄▄▄▄▅▅▅▅▅▅▆▆▆▆▆▇▇▇▇▇▇███</td></tr><tr><td>val_acc</td><td>▁▂▃▅▄▆▆▆▇▇▇▇▆▆▅▄▄▄▄▄▄▄▅▅▅▆▆▆▆▆▆▆▇▆▆▇█▇▇█</td></tr><tr><td>val_auc</td><td>▁▂▄▅▆▆▆▆▆▆▆▆▇▇▇▇▇▇▇█████████████████████</td></tr><tr><td>val_f1</td><td>▁▅▅▇▇█████▇▇▆▅▄▂▂▂▁▂▁▂▄▃▃▅▆▅▅▆▄▅▆▅▅▇▇▆▇█</td></tr><tr><td>val_loss_epoch</td><td>█▇▇▆▆▅▅▅▄▄▄▄▄▄▅▆▆▆▆▅▆▅▄▅▅▃▃▄▃▃▄▃▂▃▃▂▂▂▂▁</td></tr><tr><td>val_loss_step</td><td>█▇▇▆▆▅▅▅▄▄▄▄▄▄▅▆▆▆▆▅▆▅▄▅▅▃▃▄▃▃▄▃▂▃▃▂▂▂▂▁</td></tr></table><br/></div><div class=\"wandb-col\"><h3>Run summary:</h3><br/><table class=\"wandb\"><tr><td>epoch</td><td>99</td></tr><tr><td>lr-Adam</td><td>0.005</td></tr><tr><td>train_acc</td><td>0.8479</td></tr><tr><td>train_auc</td><td>0.91063</td></tr><tr><td>train_f1</td><td>0.86908</td></tr><tr><td>train_loss_epoch</td><td>0.45656</td></tr><tr><td>train_loss_step</td><td>0.45656</td></tr><tr><td>trainer/global_step</td><td>99</td></tr><tr><td>val_acc</td><td>0.78195</td></tr><tr><td>val_auc</td><td>0.92013</td></tr><tr><td>val_f1</td><td>0.77519</td></tr><tr><td>val_loss_epoch</td><td>0.53775</td></tr><tr><td>val_loss_step</td><td>0.53775</td></tr></table><br/></div></div>"
      ],
      "text/plain": [
       "<IPython.core.display.HTML object>"
      ]
     },
     "metadata": {},
     "output_type": "display_data"
    },
    {
     "data": {
      "text/html": [
       " View run <strong style=\"color:#cdcd00\">MLP_2_16_2</strong> at: <a href='https://wandb.ai/thoomas/SF_082423_Covid/runs/usfl7ucs' target=\"_blank\">https://wandb.ai/thoomas/SF_082423_Covid/runs/usfl7ucs</a><br/>Synced 5 W&B file(s), 0 media file(s), 0 artifact file(s) and 0 other file(s)"
      ],
      "text/plain": [
       "<IPython.core.display.HTML object>"
      ]
     },
     "metadata": {},
     "output_type": "display_data"
    },
    {
     "data": {
      "text/html": [
       "Find logs at: <code>.\\wandb\\run-20230824_135831-usfl7ucs\\logs</code>"
      ],
      "text/plain": [
       "<IPython.core.display.HTML object>"
      ]
     },
     "metadata": {},
     "output_type": "display_data"
    },
    {
     "data": {
      "application/vnd.jupyter.widget-view+json": {
       "model_id": "822d46f2a05c4b0fa5097ff344aa78a7",
       "version_major": 2,
       "version_minor": 0
      },
      "text/plain": [
       "VBox(children=(Label(value='Waiting for wandb.init()...\\r'), FloatProgress(value=0.016933333333327028, max=1.0…"
      ]
     },
     "metadata": {},
     "output_type": "display_data"
    },
    {
     "data": {
      "text/html": [
       "wandb version 0.15.8 is available!  To upgrade, please run:\n",
       " $ pip install wandb --upgrade"
      ],
      "text/plain": [
       "<IPython.core.display.HTML object>"
      ]
     },
     "metadata": {},
     "output_type": "display_data"
    },
    {
     "data": {
      "text/html": [
       "Tracking run with wandb version 0.14.0"
      ],
      "text/plain": [
       "<IPython.core.display.HTML object>"
      ]
     },
     "metadata": {},
     "output_type": "display_data"
    },
    {
     "data": {
      "text/html": [
       "Run data is saved locally in <code>Y:\\coskun-lab\\Thomas\\11_snowflakes\\notebooks\\wandb\\run-20230824_141148-nrwvbkzp</code>"
      ],
      "text/plain": [
       "<IPython.core.display.HTML object>"
      ]
     },
     "metadata": {},
     "output_type": "display_data"
    },
    {
     "data": {
      "text/html": [
       "Syncing run <strong><a href='https://wandb.ai/thoomas/SF_082423_Covid/runs/nrwvbkzp' target=\"_blank\">MLP_2_16_2</a></strong> to <a href='https://wandb.ai/thoomas/SF_082423_Covid' target=\"_blank\">Weights & Biases</a> (<a href='https://wandb.me/run' target=\"_blank\">docs</a>)<br/>"
      ],
      "text/plain": [
       "<IPython.core.display.HTML object>"
      ]
     },
     "metadata": {},
     "output_type": "display_data"
    },
    {
     "data": {
      "text/html": [
       " View project at <a href='https://wandb.ai/thoomas/SF_082423_Covid' target=\"_blank\">https://wandb.ai/thoomas/SF_082423_Covid</a>"
      ],
      "text/plain": [
       "<IPython.core.display.HTML object>"
      ]
     },
     "metadata": {},
     "output_type": "display_data"
    },
    {
     "data": {
      "text/html": [
       " View run at <a href='https://wandb.ai/thoomas/SF_082423_Covid/runs/nrwvbkzp' target=\"_blank\">https://wandb.ai/thoomas/SF_082423_Covid/runs/nrwvbkzp</a>"
      ],
      "text/plain": [
       "<IPython.core.display.HTML object>"
      ]
     },
     "metadata": {},
     "output_type": "display_data"
    },
    {
     "name": "stderr",
     "output_type": "stream",
     "text": [
      "Global seed set to 42\n",
      "C:\\Users\\thu71\\Anaconda3\\envs\\snowflake\\lib\\site-packages\\pytorch_lightning\\loggers\\wandb.py:395: UserWarning: There is a wandb run already in progress and newly created instances of `WandbLogger` will reuse this run. If this is not desired, call `wandb.finish()` before instantiating `WandbLogger`.\n",
      "  rank_zero_warn(\n",
      "GPU available: True (cuda), used: True\n",
      "TPU available: False, using: 0 TPU cores\n",
      "IPU available: False, using: 0 IPUs\n",
      "HPU available: False, using: 0 HPUs\n",
      "Global seed set to 42\n",
      "LOCAL_RANK: 0 - CUDA_VISIBLE_DEVICES: [0,1]\n",
      "\n",
      "   | Name        | Type             | Params\n",
      "--------------------------------------------------\n",
      "0  | model       | MLPModel         | 368   \n",
      "1  | fnn_layer   | Linear           | 272   \n",
      "2  | selu        | SELU             | 0     \n",
      "3  | head        | Linear           | 34    \n",
      "4  | loss_module | CrossEntropyLoss | 0     \n",
      "5  | train_acc   | BinaryAccuracy   | 0     \n",
      "6  | train_auroc | BinaryAUROC      | 0     \n",
      "7  | train_f1    | BinaryF1Score    | 0     \n",
      "8  | valid_acc   | BinaryAccuracy   | 0     \n",
      "9  | valid_auroc | BinaryAUROC      | 0     \n",
      "10 | valid_f1    | BinaryF1Score    | 0     \n",
      "11 | pool        | Attention_module | 281   \n",
      "--------------------------------------------------\n",
      "955       Trainable params\n",
      "0         Non-trainable params\n",
      "955       Total params\n",
      "0.004     Total estimated model params size (MB)\n",
      "C:\\Users\\thu71\\AppData\\Roaming\\Python\\Python39\\site-packages\\lightning\\pytorch\\trainer\\connectors\\data_connector.py:478: PossibleUserWarning: Your `val_dataloader`'s sampler has shuffling enabled, it is strongly recommended that you turn shuffling off for val/test dataloaders.\n",
      "  rank_zero_warn(\n",
      "C:\\Users\\thu71\\AppData\\Roaming\\Python\\Python39\\site-packages\\lightning\\pytorch\\trainer\\connectors\\data_connector.py:430: PossibleUserWarning: The dataloader, val_dataloader, does not have many workers which may be a bottleneck. Consider increasing the value of the `num_workers` argument` (try 48 which is the number of cpus on this machine) in the `DataLoader` init to improve performance.\n",
      "  rank_zero_warn(\n",
      "C:\\Users\\thu71\\AppData\\Roaming\\Python\\Python39\\site-packages\\lightning\\pytorch\\trainer\\connectors\\data_connector.py:430: PossibleUserWarning: The dataloader, train_dataloader, does not have many workers which may be a bottleneck. Consider increasing the value of the `num_workers` argument` (try 48 which is the number of cpus on this machine) in the `DataLoader` init to improve performance.\n",
      "  rank_zero_warn(\n",
      "C:\\Users\\thu71\\AppData\\Roaming\\Python\\Python39\\site-packages\\lightning\\pytorch\\loops\\fit_loop.py:280: PossibleUserWarning: The number of training batches (1) is smaller than the logging interval Trainer(log_every_n_steps=10). Set a lower value for log_every_n_steps if you want to see logs for the training epoch.\n",
      "  rank_zero_warn(\n",
      "`Trainer.fit` stopped: `max_epochs=100` reached.\n"
     ]
    },
    {
     "data": {
      "text/html": [
       "Waiting for W&B process to finish... <strong style=\"color:green\">(success).</strong>"
      ],
      "text/plain": [
       "<IPython.core.display.HTML object>"
      ]
     },
     "metadata": {},
     "output_type": "display_data"
    },
    {
     "data": {
      "application/vnd.jupyter.widget-view+json": {
       "model_id": "cf4180e116434cbb952ced4f6bbabbbf",
       "version_major": 2,
       "version_minor": 0
      },
      "text/plain": [
       "VBox(children=(Label(value='0.001 MB of 0.001 MB uploaded (0.000 MB deduped)\\r'), FloatProgress(value=1.0, max…"
      ]
     },
     "metadata": {},
     "output_type": "display_data"
    },
    {
     "data": {
      "text/html": [
       "<style>\n",
       "    table.wandb td:nth-child(1) { padding: 0 10px; text-align: left ; width: auto;} td:nth-child(2) {text-align: left ; width: 100%}\n",
       "    .wandb-row { display: flex; flex-direction: row; flex-wrap: wrap; justify-content: flex-start; width: 100% }\n",
       "    .wandb-col { display: flex; flex-direction: column; flex-basis: 100%; flex: 1; padding: 10px; }\n",
       "    </style>\n",
       "<div class=\"wandb-row\"><div class=\"wandb-col\"><h3>Run history:</h3><br/><table class=\"wandb\"><tr><td>epoch</td><td>▁▁▁▂▂▂▂▂▂▃▃▃▃▃▄▄▄▄▄▄▅▅▅▅▅▅▆▆▆▆▆▇▇▇▇▇████</td></tr><tr><td>lr-Adam</td><td>▁▁▁▁▁▁▁▁▁▁▁▁▁▁▁▁▁▁▁▁▁▁▁▁▁▁▁▁▁▁▁▁▁▁▁▁▁▁▁▁</td></tr><tr><td>train_acc</td><td>▁▃▃▃▄▄▅▅▅▅▅▅▆▆▆▇▇▇▇▇▇▇▇▇▇███▇▇▇████▇████</td></tr><tr><td>train_auc</td><td>▁▂▃▃▃▃▃▃▃▄▄▅▅▆▆▆▇▇▇▇▇▇█▇▇▇███▇▇█████████</td></tr><tr><td>train_f1</td><td>▁▇▇▇▇▇▇▇▇▇▇▇▇▇▇▇▇███████████████████████</td></tr><tr><td>train_loss_epoch</td><td>█▇▇▇▇▆▆▆▆▅▅▅▅▄▄▃▃▃▃▂▃▂▂▂▂▂▂▁▂▂▂▁▁▁▁▂▁▁▁▁</td></tr><tr><td>train_loss_step</td><td>█▇▅▄▃▂▁▁▁▁</td></tr><tr><td>trainer/global_step</td><td>▁▁▁▁▂▂▂▂▂▃▃▃▃▃▄▄▄▄▄▄▅▅▅▅▅▅▆▆▆▆▆▇▇▇▇▇▇███</td></tr><tr><td>val_acc</td><td>▆▄▅▇▇██▇██▇▇███▇▆▅▃▃▂▁▁▁▁▂▂▃▃▃▃▃▃▂▂▂▃▃▂▂</td></tr><tr><td>val_auc</td><td>▄▁▃▄▄▄▄▄▄▅▅▅▅▆▆▆▆▇▇▇▇▇▇█▇███████████████</td></tr><tr><td>val_f1</td><td>▇█████████▇██▇▇▇▆▅▄▃▃▁▁▁▁▂▂▃▃▃▃▃▃▂▂▂▃▃▂▂</td></tr><tr><td>val_loss_epoch</td><td>▄▄▃▃▂▂▂▂▁▁▁▁▁▁▁▂▂▄▄▅▆▆▇▇█▇▇▆▇▇▇▇▇▇▇▇▇▇▇▇</td></tr><tr><td>val_loss_step</td><td>▄▄▃▃▂▂▂▂▁▁▁▁▁▁▁▂▂▄▄▅▆▆▇▇█▇▇▆▇▇▇▇▇▇▇▇▇▇▇▇</td></tr></table><br/></div><div class=\"wandb-col\"><h3>Run summary:</h3><br/><table class=\"wandb\"><tr><td>epoch</td><td>99</td></tr><tr><td>lr-Adam</td><td>0.005</td></tr><tr><td>train_acc</td><td>0.88997</td></tr><tr><td>train_auc</td><td>0.93683</td></tr><tr><td>train_f1</td><td>0.90341</td></tr><tr><td>train_loss_epoch</td><td>0.42504</td></tr><tr><td>train_loss_step</td><td>0.42504</td></tr><tr><td>trainer/global_step</td><td>99</td></tr><tr><td>val_acc</td><td>0.4812</td></tr><tr><td>val_auc</td><td>0.90097</td></tr><tr><td>val_f1</td><td>0.16867</td></tr><tr><td>val_loss_epoch</td><td>0.79751</td></tr><tr><td>val_loss_step</td><td>0.79751</td></tr></table><br/></div></div>"
      ],
      "text/plain": [
       "<IPython.core.display.HTML object>"
      ]
     },
     "metadata": {},
     "output_type": "display_data"
    },
    {
     "data": {
      "text/html": [
       " View run <strong style=\"color:#cdcd00\">MLP_2_16_2</strong> at: <a href='https://wandb.ai/thoomas/SF_082423_Covid/runs/nrwvbkzp' target=\"_blank\">https://wandb.ai/thoomas/SF_082423_Covid/runs/nrwvbkzp</a><br/>Synced 5 W&B file(s), 0 media file(s), 0 artifact file(s) and 0 other file(s)"
      ],
      "text/plain": [
       "<IPython.core.display.HTML object>"
      ]
     },
     "metadata": {},
     "output_type": "display_data"
    },
    {
     "data": {
      "text/html": [
       "Find logs at: <code>.\\wandb\\run-20230824_141148-nrwvbkzp\\logs</code>"
      ],
      "text/plain": [
       "<IPython.core.display.HTML object>"
      ]
     },
     "metadata": {},
     "output_type": "display_data"
    },
    {
     "data": {
      "application/vnd.jupyter.widget-view+json": {
       "model_id": "5fb434b1fc69461a95db7632d51a2abd",
       "version_major": 2,
       "version_minor": 0
      },
      "text/plain": [
       "VBox(children=(Label(value='Waiting for wandb.init()...\\r'), FloatProgress(value=0.016666666666666666, max=1.0…"
      ]
     },
     "metadata": {},
     "output_type": "display_data"
    },
    {
     "data": {
      "text/html": [
       "wandb version 0.15.8 is available!  To upgrade, please run:\n",
       " $ pip install wandb --upgrade"
      ],
      "text/plain": [
       "<IPython.core.display.HTML object>"
      ]
     },
     "metadata": {},
     "output_type": "display_data"
    },
    {
     "data": {
      "text/html": [
       "Tracking run with wandb version 0.14.0"
      ],
      "text/plain": [
       "<IPython.core.display.HTML object>"
      ]
     },
     "metadata": {},
     "output_type": "display_data"
    },
    {
     "data": {
      "text/html": [
       "Run data is saved locally in <code>Y:\\coskun-lab\\Thomas\\11_snowflakes\\notebooks\\wandb\\run-20230824_142515-dwjhsdpz</code>"
      ],
      "text/plain": [
       "<IPython.core.display.HTML object>"
      ]
     },
     "metadata": {},
     "output_type": "display_data"
    },
    {
     "data": {
      "text/html": [
       "Syncing run <strong><a href='https://wandb.ai/thoomas/SF_082423_Covid/runs/dwjhsdpz' target=\"_blank\">MLP_2_16_3</a></strong> to <a href='https://wandb.ai/thoomas/SF_082423_Covid' target=\"_blank\">Weights & Biases</a> (<a href='https://wandb.me/run' target=\"_blank\">docs</a>)<br/>"
      ],
      "text/plain": [
       "<IPython.core.display.HTML object>"
      ]
     },
     "metadata": {},
     "output_type": "display_data"
    },
    {
     "data": {
      "text/html": [
       " View project at <a href='https://wandb.ai/thoomas/SF_082423_Covid' target=\"_blank\">https://wandb.ai/thoomas/SF_082423_Covid</a>"
      ],
      "text/plain": [
       "<IPython.core.display.HTML object>"
      ]
     },
     "metadata": {},
     "output_type": "display_data"
    },
    {
     "data": {
      "text/html": [
       " View run at <a href='https://wandb.ai/thoomas/SF_082423_Covid/runs/dwjhsdpz' target=\"_blank\">https://wandb.ai/thoomas/SF_082423_Covid/runs/dwjhsdpz</a>"
      ],
      "text/plain": [
       "<IPython.core.display.HTML object>"
      ]
     },
     "metadata": {},
     "output_type": "display_data"
    },
    {
     "name": "stderr",
     "output_type": "stream",
     "text": [
      "Global seed set to 42\n",
      "C:\\Users\\thu71\\Anaconda3\\envs\\snowflake\\lib\\site-packages\\pytorch_lightning\\loggers\\wandb.py:395: UserWarning: There is a wandb run already in progress and newly created instances of `WandbLogger` will reuse this run. If this is not desired, call `wandb.finish()` before instantiating `WandbLogger`.\n",
      "  rank_zero_warn(\n",
      "GPU available: True (cuda), used: True\n",
      "TPU available: False, using: 0 TPU cores\n",
      "IPU available: False, using: 0 IPUs\n",
      "HPU available: False, using: 0 HPUs\n",
      "Global seed set to 42\n",
      "LOCAL_RANK: 0 - CUDA_VISIBLE_DEVICES: [0,1]\n",
      "\n",
      "   | Name        | Type             | Params\n",
      "--------------------------------------------------\n",
      "0  | model       | MLPModel         | 368   \n",
      "1  | fnn_layer   | Linear           | 272   \n",
      "2  | selu        | SELU             | 0     \n",
      "3  | head        | Linear           | 34    \n",
      "4  | loss_module | CrossEntropyLoss | 0     \n",
      "5  | train_acc   | BinaryAccuracy   | 0     \n",
      "6  | train_auroc | BinaryAUROC      | 0     \n",
      "7  | train_f1    | BinaryF1Score    | 0     \n",
      "8  | valid_acc   | BinaryAccuracy   | 0     \n",
      "9  | valid_auroc | BinaryAUROC      | 0     \n",
      "10 | valid_f1    | BinaryF1Score    | 0     \n",
      "--------------------------------------------------\n",
      "674       Trainable params\n",
      "0         Non-trainable params\n",
      "674       Total params\n",
      "0.003     Total estimated model params size (MB)\n",
      "C:\\Users\\thu71\\AppData\\Roaming\\Python\\Python39\\site-packages\\lightning\\pytorch\\trainer\\connectors\\data_connector.py:478: PossibleUserWarning: Your `val_dataloader`'s sampler has shuffling enabled, it is strongly recommended that you turn shuffling off for val/test dataloaders.\n",
      "  rank_zero_warn(\n",
      "C:\\Users\\thu71\\AppData\\Roaming\\Python\\Python39\\site-packages\\lightning\\pytorch\\trainer\\connectors\\data_connector.py:430: PossibleUserWarning: The dataloader, val_dataloader, does not have many workers which may be a bottleneck. Consider increasing the value of the `num_workers` argument` (try 48 which is the number of cpus on this machine) in the `DataLoader` init to improve performance.\n",
      "  rank_zero_warn(\n",
      "C:\\Users\\thu71\\AppData\\Roaming\\Python\\Python39\\site-packages\\lightning\\pytorch\\trainer\\connectors\\data_connector.py:430: PossibleUserWarning: The dataloader, train_dataloader, does not have many workers which may be a bottleneck. Consider increasing the value of the `num_workers` argument` (try 48 which is the number of cpus on this machine) in the `DataLoader` init to improve performance.\n",
      "  rank_zero_warn(\n",
      "C:\\Users\\thu71\\AppData\\Roaming\\Python\\Python39\\site-packages\\lightning\\pytorch\\loops\\fit_loop.py:280: PossibleUserWarning: The number of training batches (1) is smaller than the logging interval Trainer(log_every_n_steps=10). Set a lower value for log_every_n_steps if you want to see logs for the training epoch.\n",
      "  rank_zero_warn(\n",
      "`Trainer.fit` stopped: `max_epochs=100` reached.\n"
     ]
    },
    {
     "data": {
      "text/html": [
       "Waiting for W&B process to finish... <strong style=\"color:green\">(success).</strong>"
      ],
      "text/plain": [
       "<IPython.core.display.HTML object>"
      ]
     },
     "metadata": {},
     "output_type": "display_data"
    },
    {
     "data": {
      "application/vnd.jupyter.widget-view+json": {
       "model_id": "0385d39cee62443da32b805ffab0b615",
       "version_major": 2,
       "version_minor": 0
      },
      "text/plain": [
       "VBox(children=(Label(value='0.001 MB of 0.001 MB uploaded (0.000 MB deduped)\\r'), FloatProgress(value=1.0, max…"
      ]
     },
     "metadata": {},
     "output_type": "display_data"
    },
    {
     "data": {
      "text/html": [
       "<style>\n",
       "    table.wandb td:nth-child(1) { padding: 0 10px; text-align: left ; width: auto;} td:nth-child(2) {text-align: left ; width: 100%}\n",
       "    .wandb-row { display: flex; flex-direction: row; flex-wrap: wrap; justify-content: flex-start; width: 100% }\n",
       "    .wandb-col { display: flex; flex-direction: column; flex-basis: 100%; flex: 1; padding: 10px; }\n",
       "    </style>\n",
       "<div class=\"wandb-row\"><div class=\"wandb-col\"><h3>Run history:</h3><br/><table class=\"wandb\"><tr><td>epoch</td><td>▁▁▁▂▂▂▂▂▂▃▃▃▃▃▄▄▄▄▄▄▅▅▅▅▅▅▆▆▆▆▆▇▇▇▇▇████</td></tr><tr><td>lr-Adam</td><td>▁▁▁▁▁▁▁▁▁▁▁▁▁▁▁▁▁▁▁▁▁▁▁▁▁▁▁▁▁▁▁▁▁▁▁▁▁▁▁▁</td></tr><tr><td>train_acc</td><td>▁▁▃▃▃▄▅▅▅▅▅▅▅▅▅▅▅▆▆▆▆▆▆▆▇▇▇▇▇▇▇▇█▇▇█████</td></tr><tr><td>train_auc</td><td>▄▂▁▂▄▄▄▄▄▅▅▅▅▅▅▅▅▅▅▅▆▆▆▆▆▇▇▇▇▇██████████</td></tr><tr><td>train_f1</td><td>▁▂▇▇▇▇▇▇▇▇▇▇▇▇▇▇▇▇▇▇▇▇▇▇████████████████</td></tr><tr><td>train_loss_epoch</td><td>█▇▇▇▆▆▆▆▆▅▅▅▅▅▅▅▄▄▄▄▄▄▄▃▃▃▃▃▂▂▂▂▂▂▁▁▁▁▁▁</td></tr><tr><td>train_loss_step</td><td>█▇▆▅▅▄▃▂▁▁</td></tr><tr><td>trainer/global_step</td><td>▁▁▁▁▂▂▂▂▂▃▃▃▃▃▄▄▄▄▄▄▅▅▅▅▅▅▆▆▆▆▆▇▇▇▇▇▇███</td></tr><tr><td>val_acc</td><td>▁▂▃▄▅▅▄▄▄▅▅▅▅▅▅▅▅▅▅▆▆▆▆▇▇▇▇▇▇▆▆▆▇▇▇█▇▇██</td></tr><tr><td>val_auc</td><td>▁▁▂▂▂▂▂▂▂▂▂▂▂▂▂▂▃▃▃▃▃▄▄▄▅▅▆▆▆▆▆▆▆▇▇▇▇███</td></tr><tr><td>val_f1</td><td>▁▃▇▇▇▇▆▆▇▇▇▇▇▇▇▇▇▇▇▇▇█▇██████▇▇▇████████</td></tr><tr><td>val_loss_epoch</td><td>█▆▆▆▅▆▆▆▆▆▅▅▅▅▅▅▅▅▅▅▄▄▄▄▃▃▃▃▃▃▃▂▂▂▂▂▂▁▁▁</td></tr><tr><td>val_loss_step</td><td>█▆▆▆▅▆▆▆▆▆▅▅▅▅▅▅▅▅▅▅▄▄▄▄▃▃▃▃▃▃▃▂▂▂▂▂▂▁▁▁</td></tr></table><br/></div><div class=\"wandb-col\"><h3>Run summary:</h3><br/><table class=\"wandb\"><tr><td>epoch</td><td>99</td></tr><tr><td>lr-Adam</td><td>0.005</td></tr><tr><td>train_acc</td><td>0.88673</td></tr><tr><td>train_auc</td><td>0.93088</td></tr><tr><td>train_f1</td><td>0.90358</td></tr><tr><td>train_loss_epoch</td><td>0.43629</td></tr><tr><td>train_loss_step</td><td>0.43629</td></tr><tr><td>trainer/global_step</td><td>99</td></tr><tr><td>val_acc</td><td>0.78195</td></tr><tr><td>val_auc</td><td>0.85572</td></tr><tr><td>val_f1</td><td>0.8</td></tr><tr><td>val_loss_epoch</td><td>0.52657</td></tr><tr><td>val_loss_step</td><td>0.52657</td></tr></table><br/></div></div>"
      ],
      "text/plain": [
       "<IPython.core.display.HTML object>"
      ]
     },
     "metadata": {},
     "output_type": "display_data"
    },
    {
     "data": {
      "text/html": [
       " View run <strong style=\"color:#cdcd00\">MLP_2_16_3</strong> at: <a href='https://wandb.ai/thoomas/SF_082423_Covid/runs/dwjhsdpz' target=\"_blank\">https://wandb.ai/thoomas/SF_082423_Covid/runs/dwjhsdpz</a><br/>Synced 5 W&B file(s), 0 media file(s), 0 artifact file(s) and 0 other file(s)"
      ],
      "text/plain": [
       "<IPython.core.display.HTML object>"
      ]
     },
     "metadata": {},
     "output_type": "display_data"
    },
    {
     "data": {
      "text/html": [
       "Find logs at: <code>.\\wandb\\run-20230824_142515-dwjhsdpz\\logs</code>"
      ],
      "text/plain": [
       "<IPython.core.display.HTML object>"
      ]
     },
     "metadata": {},
     "output_type": "display_data"
    },
    {
     "data": {
      "application/vnd.jupyter.widget-view+json": {
       "model_id": "50345297e94c41abbc5c8558c9db6ebe",
       "version_major": 2,
       "version_minor": 0
      },
      "text/plain": [
       "VBox(children=(Label(value='Waiting for wandb.init()...\\r'), FloatProgress(value=0.016916666666656966, max=1.0…"
      ]
     },
     "metadata": {},
     "output_type": "display_data"
    },
    {
     "data": {
      "text/html": [
       "wandb version 0.15.8 is available!  To upgrade, please run:\n",
       " $ pip install wandb --upgrade"
      ],
      "text/plain": [
       "<IPython.core.display.HTML object>"
      ]
     },
     "metadata": {},
     "output_type": "display_data"
    },
    {
     "data": {
      "text/html": [
       "Tracking run with wandb version 0.14.0"
      ],
      "text/plain": [
       "<IPython.core.display.HTML object>"
      ]
     },
     "metadata": {},
     "output_type": "display_data"
    },
    {
     "data": {
      "text/html": [
       "Run data is saved locally in <code>Y:\\coskun-lab\\Thomas\\11_snowflakes\\notebooks\\wandb\\run-20230824_143956-x0q62vnv</code>"
      ],
      "text/plain": [
       "<IPython.core.display.HTML object>"
      ]
     },
     "metadata": {},
     "output_type": "display_data"
    },
    {
     "data": {
      "text/html": [
       "Syncing run <strong><a href='https://wandb.ai/thoomas/SF_082423_Covid/runs/x0q62vnv' target=\"_blank\">MLP_2_16_3</a></strong> to <a href='https://wandb.ai/thoomas/SF_082423_Covid' target=\"_blank\">Weights & Biases</a> (<a href='https://wandb.me/run' target=\"_blank\">docs</a>)<br/>"
      ],
      "text/plain": [
       "<IPython.core.display.HTML object>"
      ]
     },
     "metadata": {},
     "output_type": "display_data"
    },
    {
     "data": {
      "text/html": [
       " View project at <a href='https://wandb.ai/thoomas/SF_082423_Covid' target=\"_blank\">https://wandb.ai/thoomas/SF_082423_Covid</a>"
      ],
      "text/plain": [
       "<IPython.core.display.HTML object>"
      ]
     },
     "metadata": {},
     "output_type": "display_data"
    },
    {
     "data": {
      "text/html": [
       " View run at <a href='https://wandb.ai/thoomas/SF_082423_Covid/runs/x0q62vnv' target=\"_blank\">https://wandb.ai/thoomas/SF_082423_Covid/runs/x0q62vnv</a>"
      ],
      "text/plain": [
       "<IPython.core.display.HTML object>"
      ]
     },
     "metadata": {},
     "output_type": "display_data"
    },
    {
     "name": "stderr",
     "output_type": "stream",
     "text": [
      "Global seed set to 42\n",
      "C:\\Users\\thu71\\Anaconda3\\envs\\snowflake\\lib\\site-packages\\pytorch_lightning\\loggers\\wandb.py:395: UserWarning: There is a wandb run already in progress and newly created instances of `WandbLogger` will reuse this run. If this is not desired, call `wandb.finish()` before instantiating `WandbLogger`.\n",
      "  rank_zero_warn(\n",
      "GPU available: True (cuda), used: True\n",
      "TPU available: False, using: 0 TPU cores\n",
      "IPU available: False, using: 0 IPUs\n",
      "HPU available: False, using: 0 HPUs\n",
      "Global seed set to 42\n",
      "LOCAL_RANK: 0 - CUDA_VISIBLE_DEVICES: [0,1]\n",
      "\n",
      "   | Name        | Type             | Params\n",
      "--------------------------------------------------\n",
      "0  | model       | MLPModel         | 368   \n",
      "1  | fnn_layer   | Linear           | 272   \n",
      "2  | selu        | SELU             | 0     \n",
      "3  | head        | Linear           | 34    \n",
      "4  | loss_module | CrossEntropyLoss | 0     \n",
      "5  | train_acc   | BinaryAccuracy   | 0     \n",
      "6  | train_auroc | BinaryAUROC      | 0     \n",
      "7  | train_f1    | BinaryF1Score    | 0     \n",
      "8  | valid_acc   | BinaryAccuracy   | 0     \n",
      "9  | valid_auroc | BinaryAUROC      | 0     \n",
      "10 | valid_f1    | BinaryF1Score    | 0     \n",
      "--------------------------------------------------\n",
      "674       Trainable params\n",
      "0         Non-trainable params\n",
      "674       Total params\n",
      "0.003     Total estimated model params size (MB)\n",
      "C:\\Users\\thu71\\AppData\\Roaming\\Python\\Python39\\site-packages\\lightning\\pytorch\\trainer\\connectors\\data_connector.py:478: PossibleUserWarning: Your `val_dataloader`'s sampler has shuffling enabled, it is strongly recommended that you turn shuffling off for val/test dataloaders.\n",
      "  rank_zero_warn(\n",
      "C:\\Users\\thu71\\AppData\\Roaming\\Python\\Python39\\site-packages\\lightning\\pytorch\\trainer\\connectors\\data_connector.py:430: PossibleUserWarning: The dataloader, val_dataloader, does not have many workers which may be a bottleneck. Consider increasing the value of the `num_workers` argument` (try 48 which is the number of cpus on this machine) in the `DataLoader` init to improve performance.\n",
      "  rank_zero_warn(\n",
      "C:\\Users\\thu71\\AppData\\Roaming\\Python\\Python39\\site-packages\\lightning\\pytorch\\trainer\\connectors\\data_connector.py:430: PossibleUserWarning: The dataloader, train_dataloader, does not have many workers which may be a bottleneck. Consider increasing the value of the `num_workers` argument` (try 48 which is the number of cpus on this machine) in the `DataLoader` init to improve performance.\n",
      "  rank_zero_warn(\n",
      "C:\\Users\\thu71\\AppData\\Roaming\\Python\\Python39\\site-packages\\lightning\\pytorch\\loops\\fit_loop.py:280: PossibleUserWarning: The number of training batches (1) is smaller than the logging interval Trainer(log_every_n_steps=10). Set a lower value for log_every_n_steps if you want to see logs for the training epoch.\n",
      "  rank_zero_warn(\n",
      "`Trainer.fit` stopped: `max_epochs=100` reached.\n"
     ]
    },
    {
     "data": {
      "text/html": [
       "Waiting for W&B process to finish... <strong style=\"color:green\">(success).</strong>"
      ],
      "text/plain": [
       "<IPython.core.display.HTML object>"
      ]
     },
     "metadata": {},
     "output_type": "display_data"
    },
    {
     "data": {
      "application/vnd.jupyter.widget-view+json": {
       "model_id": "b75ca7afb08f4d879f1809e38600a98f",
       "version_major": 2,
       "version_minor": 0
      },
      "text/plain": [
       "VBox(children=(Label(value='0.001 MB of 0.001 MB uploaded (0.000 MB deduped)\\r'), FloatProgress(value=1.0, max…"
      ]
     },
     "metadata": {},
     "output_type": "display_data"
    },
    {
     "data": {
      "text/html": [
       "<style>\n",
       "    table.wandb td:nth-child(1) { padding: 0 10px; text-align: left ; width: auto;} td:nth-child(2) {text-align: left ; width: 100%}\n",
       "    .wandb-row { display: flex; flex-direction: row; flex-wrap: wrap; justify-content: flex-start; width: 100% }\n",
       "    .wandb-col { display: flex; flex-direction: column; flex-basis: 100%; flex: 1; padding: 10px; }\n",
       "    </style>\n",
       "<div class=\"wandb-row\"><div class=\"wandb-col\"><h3>Run history:</h3><br/><table class=\"wandb\"><tr><td>epoch</td><td>▁▁▁▂▂▂▂▂▂▃▃▃▃▃▄▄▄▄▄▄▅▅▅▅▅▅▆▆▆▆▆▇▇▇▇▇████</td></tr><tr><td>lr-Adam</td><td>▁▁▁▁▁▁▁▁▁▁▁▁▁▁▁▁▁▁▁▁▁▁▁▁▁▁▁▁▁▁▁▁▁▁▁▁▁▁▁▁</td></tr><tr><td>train_acc</td><td>▂▂▂▁▃▂▅▄▅▅▅▅▆▆▆▆▆▇▆▇▇▇▇▇▇▇▇▇█▇▇▇▇▇██▇███</td></tr><tr><td>train_auc</td><td>▁▂▂▃▄▄▆▆▆▆▆▆▇▇▆▇▇▇▇▇▇▇▇▇▇▇▇▇█▇▇█▇███████</td></tr><tr><td>train_f1</td><td>▅▅▅▁▅▄▅▅▅▆▆▆▆▆▆▆▇▇▆▇▇▇▇▇▇▇█▇█▇▇▇▇▇██▇███</td></tr><tr><td>train_loss_epoch</td><td>███▇▆▆▄▅▄▄▄▄▃▃▄▃▃▃▃▂▃▂▂▂▂▂▂▂▂▂▂▂▂▂▁▁▂▁▁▁</td></tr><tr><td>train_loss_step</td><td>█▅▄▄▃▃▂▂▂▁</td></tr><tr><td>trainer/global_step</td><td>▁▁▁▁▂▂▂▂▂▃▃▃▃▃▄▄▄▄▄▄▅▅▅▅▅▅▆▆▆▆▆▇▇▇▇▇▇███</td></tr><tr><td>val_acc</td><td>▅▃▁▁▁▁▂▂▂▂▃▃▅▅▅▆▇▅▆▆▅▆▇▆▆▇▇▇▆▆▇▇▆▆▇▇▇▇▇█</td></tr><tr><td>val_auc</td><td>▁▂▁▁▂▂▃▃▄▄▄▅▅▅▅▆▆▅▅▅▅▆▆▆▆▆▆▆▆▆▇▇▆▇▇▇██▇█</td></tr><tr><td>val_f1</td><td>█▆▁▁▁▁▂▂▃▄▄▅▆▆▆▇█▆▇▇▇▇█▇▇▇▇▇▇▇▇▇▇▇█▇██▇█</td></tr><tr><td>val_loss_epoch</td><td>▄▄▇█▇▇▇▆▆▅▅▄▄▃▃▃▃▃▃▃▃▃▂▃▃▂▂▂▂▂▂▂▃▂▂▂▁▁▂▁</td></tr><tr><td>val_loss_step</td><td>▄▄▇█▇▇▇▆▆▅▅▄▄▃▃▃▃▃▃▃▃▃▂▃▃▂▂▂▂▂▂▂▃▂▂▂▁▁▂▁</td></tr></table><br/></div><div class=\"wandb-col\"><h3>Run summary:</h3><br/><table class=\"wandb\"><tr><td>epoch</td><td>99</td></tr><tr><td>lr-Adam</td><td>0.005</td></tr><tr><td>train_acc</td><td>0.83495</td></tr><tr><td>train_auc</td><td>0.9099</td></tr><tr><td>train_f1</td><td>0.8595</td></tr><tr><td>train_loss_epoch</td><td>0.46839</td></tr><tr><td>train_loss_step</td><td>0.46839</td></tr><tr><td>trainer/global_step</td><td>99</td></tr><tr><td>val_acc</td><td>0.72932</td></tr><tr><td>val_auc</td><td>0.80702</td></tr><tr><td>val_f1</td><td>0.75</td></tr><tr><td>val_loss_epoch</td><td>0.57904</td></tr><tr><td>val_loss_step</td><td>0.57904</td></tr></table><br/></div></div>"
      ],
      "text/plain": [
       "<IPython.core.display.HTML object>"
      ]
     },
     "metadata": {},
     "output_type": "display_data"
    },
    {
     "data": {
      "text/html": [
       " View run <strong style=\"color:#cdcd00\">MLP_2_16_3</strong> at: <a href='https://wandb.ai/thoomas/SF_082423_Covid/runs/x0q62vnv' target=\"_blank\">https://wandb.ai/thoomas/SF_082423_Covid/runs/x0q62vnv</a><br/>Synced 5 W&B file(s), 0 media file(s), 0 artifact file(s) and 0 other file(s)"
      ],
      "text/plain": [
       "<IPython.core.display.HTML object>"
      ]
     },
     "metadata": {},
     "output_type": "display_data"
    },
    {
     "data": {
      "text/html": [
       "Find logs at: <code>.\\wandb\\run-20230824_143956-x0q62vnv\\logs</code>"
      ],
      "text/plain": [
       "<IPython.core.display.HTML object>"
      ]
     },
     "metadata": {},
     "output_type": "display_data"
    },
    {
     "data": {
      "application/vnd.jupyter.widget-view+json": {
       "model_id": "de9850fe3a104f91a14e99769ac8435d",
       "version_major": 2,
       "version_minor": 0
      },
      "text/plain": [
       "VBox(children=(Label(value='Waiting for wandb.init()...\\r'), FloatProgress(value=0.01719999999998739, max=1.0)…"
      ]
     },
     "metadata": {},
     "output_type": "display_data"
    },
    {
     "data": {
      "text/html": [
       "wandb version 0.15.8 is available!  To upgrade, please run:\n",
       " $ pip install wandb --upgrade"
      ],
      "text/plain": [
       "<IPython.core.display.HTML object>"
      ]
     },
     "metadata": {},
     "output_type": "display_data"
    },
    {
     "data": {
      "text/html": [
       "Tracking run with wandb version 0.14.0"
      ],
      "text/plain": [
       "<IPython.core.display.HTML object>"
      ]
     },
     "metadata": {},
     "output_type": "display_data"
    },
    {
     "data": {
      "text/html": [
       "Run data is saved locally in <code>Y:\\coskun-lab\\Thomas\\11_snowflakes\\notebooks\\wandb\\run-20230824_145454-hey9rr6n</code>"
      ],
      "text/plain": [
       "<IPython.core.display.HTML object>"
      ]
     },
     "metadata": {},
     "output_type": "display_data"
    },
    {
     "data": {
      "text/html": [
       "Syncing run <strong><a href='https://wandb.ai/thoomas/SF_082423_Covid/runs/hey9rr6n' target=\"_blank\">MLP_2_16_3</a></strong> to <a href='https://wandb.ai/thoomas/SF_082423_Covid' target=\"_blank\">Weights & Biases</a> (<a href='https://wandb.me/run' target=\"_blank\">docs</a>)<br/>"
      ],
      "text/plain": [
       "<IPython.core.display.HTML object>"
      ]
     },
     "metadata": {},
     "output_type": "display_data"
    },
    {
     "data": {
      "text/html": [
       " View project at <a href='https://wandb.ai/thoomas/SF_082423_Covid' target=\"_blank\">https://wandb.ai/thoomas/SF_082423_Covid</a>"
      ],
      "text/plain": [
       "<IPython.core.display.HTML object>"
      ]
     },
     "metadata": {},
     "output_type": "display_data"
    },
    {
     "data": {
      "text/html": [
       " View run at <a href='https://wandb.ai/thoomas/SF_082423_Covid/runs/hey9rr6n' target=\"_blank\">https://wandb.ai/thoomas/SF_082423_Covid/runs/hey9rr6n</a>"
      ],
      "text/plain": [
       "<IPython.core.display.HTML object>"
      ]
     },
     "metadata": {},
     "output_type": "display_data"
    },
    {
     "name": "stderr",
     "output_type": "stream",
     "text": [
      "Global seed set to 42\n",
      "C:\\Users\\thu71\\Anaconda3\\envs\\snowflake\\lib\\site-packages\\pytorch_lightning\\loggers\\wandb.py:395: UserWarning: There is a wandb run already in progress and newly created instances of `WandbLogger` will reuse this run. If this is not desired, call `wandb.finish()` before instantiating `WandbLogger`.\n",
      "  rank_zero_warn(\n",
      "GPU available: True (cuda), used: True\n",
      "TPU available: False, using: 0 TPU cores\n",
      "IPU available: False, using: 0 IPUs\n",
      "HPU available: False, using: 0 HPUs\n",
      "Global seed set to 42\n",
      "C:\\Users\\thu71\\Anaconda3\\envs\\snowflake\\lib\\site-packages\\torch_geometric\\deprecation.py:12: UserWarning: 'nn.glob.GlobalAttention' is deprecated, use 'nn.aggr.AttentionalAggregation' instead\n",
      "  warnings.warn(out)\n",
      "LOCAL_RANK: 0 - CUDA_VISIBLE_DEVICES: [0,1]\n",
      "\n",
      "   | Name        | Type             | Params\n",
      "--------------------------------------------------\n",
      "0  | model       | MLPModel         | 368   \n",
      "1  | fnn_layer   | Linear           | 272   \n",
      "2  | selu        | SELU             | 0     \n",
      "3  | head        | Linear           | 34    \n",
      "4  | loss_module | CrossEntropyLoss | 0     \n",
      "5  | train_acc   | BinaryAccuracy   | 0     \n",
      "6  | train_auroc | BinaryAUROC      | 0     \n",
      "7  | train_f1    | BinaryF1Score    | 0     \n",
      "8  | valid_acc   | BinaryAccuracy   | 0     \n",
      "9  | valid_auroc | BinaryAUROC      | 0     \n",
      "10 | valid_f1    | BinaryF1Score    | 0     \n",
      "11 | pool        | GlobalAttention  | 17    \n",
      "--------------------------------------------------\n",
      "691       Trainable params\n",
      "0         Non-trainable params\n",
      "691       Total params\n",
      "0.003     Total estimated model params size (MB)\n",
      "C:\\Users\\thu71\\AppData\\Roaming\\Python\\Python39\\site-packages\\lightning\\pytorch\\trainer\\connectors\\data_connector.py:478: PossibleUserWarning: Your `val_dataloader`'s sampler has shuffling enabled, it is strongly recommended that you turn shuffling off for val/test dataloaders.\n",
      "  rank_zero_warn(\n",
      "C:\\Users\\thu71\\AppData\\Roaming\\Python\\Python39\\site-packages\\lightning\\pytorch\\trainer\\connectors\\data_connector.py:430: PossibleUserWarning: The dataloader, val_dataloader, does not have many workers which may be a bottleneck. Consider increasing the value of the `num_workers` argument` (try 48 which is the number of cpus on this machine) in the `DataLoader` init to improve performance.\n",
      "  rank_zero_warn(\n",
      "C:\\Users\\thu71\\AppData\\Roaming\\Python\\Python39\\site-packages\\lightning\\pytorch\\trainer\\connectors\\data_connector.py:430: PossibleUserWarning: The dataloader, train_dataloader, does not have many workers which may be a bottleneck. Consider increasing the value of the `num_workers` argument` (try 48 which is the number of cpus on this machine) in the `DataLoader` init to improve performance.\n",
      "  rank_zero_warn(\n",
      "C:\\Users\\thu71\\AppData\\Roaming\\Python\\Python39\\site-packages\\lightning\\pytorch\\loops\\fit_loop.py:280: PossibleUserWarning: The number of training batches (1) is smaller than the logging interval Trainer(log_every_n_steps=10). Set a lower value for log_every_n_steps if you want to see logs for the training epoch.\n",
      "  rank_zero_warn(\n",
      "`Trainer.fit` stopped: `max_epochs=100` reached.\n"
     ]
    },
    {
     "data": {
      "text/html": [
       "Waiting for W&B process to finish... <strong style=\"color:green\">(success).</strong>"
      ],
      "text/plain": [
       "<IPython.core.display.HTML object>"
      ]
     },
     "metadata": {},
     "output_type": "display_data"
    },
    {
     "data": {
      "application/vnd.jupyter.widget-view+json": {
       "model_id": "410bd045a2b14613a4c10b63f8d7e71b",
       "version_major": 2,
       "version_minor": 0
      },
      "text/plain": [
       "VBox(children=(Label(value='0.001 MB of 0.001 MB uploaded (0.000 MB deduped)\\r'), FloatProgress(value=1.0, max…"
      ]
     },
     "metadata": {},
     "output_type": "display_data"
    },
    {
     "data": {
      "text/html": [
       "<style>\n",
       "    table.wandb td:nth-child(1) { padding: 0 10px; text-align: left ; width: auto;} td:nth-child(2) {text-align: left ; width: 100%}\n",
       "    .wandb-row { display: flex; flex-direction: row; flex-wrap: wrap; justify-content: flex-start; width: 100% }\n",
       "    .wandb-col { display: flex; flex-direction: column; flex-basis: 100%; flex: 1; padding: 10px; }\n",
       "    </style>\n",
       "<div class=\"wandb-row\"><div class=\"wandb-col\"><h3>Run history:</h3><br/><table class=\"wandb\"><tr><td>epoch</td><td>▁▁▁▂▂▂▂▂▂▃▃▃▃▃▄▄▄▄▄▄▅▅▅▅▅▅▆▆▆▆▆▇▇▇▇▇████</td></tr><tr><td>lr-Adam</td><td>▁▁▁▁▁▁▁▁▁▁▁▁▁▁▁▁▁▁▁▁▁▁▁▁▁▁▁▁▁▁▁▁▁▁▁▁▁▁▁▁</td></tr><tr><td>train_acc</td><td>▁▄▅▅▅▆▆▆▆▆▇▇▆▇▇▇▇▇▇▇▇▇▇▇▇▇█▇▇██▇█▇▇▇▇███</td></tr><tr><td>train_auc</td><td>▁▄▅▅▅▆▆▆▇▇▇▇▇▇█▇▇▇▇▇▇▇▇█████████████████</td></tr><tr><td>train_f1</td><td>▁▅▆▆▆▆▇▆▇▇▇▇▇▇▇▇▇▇▇▇▇▇▇▇▇██▇███▇█▇██▇███</td></tr><tr><td>train_loss_epoch</td><td>█▇▆▅▅▄▄▄▃▃▃▃▃▃▂▂▂▂▃▂▂▂▂▂▂▂▁▂▂▂▁▂▁▂▁▁▁▁▁▁</td></tr><tr><td>train_loss_step</td><td>█▅▄▃▃▃▂▂▂▁</td></tr><tr><td>trainer/global_step</td><td>▁▁▁▁▂▂▂▂▂▃▃▃▃▃▄▄▄▄▄▄▅▅▅▅▅▅▆▆▆▆▆▇▇▇▇▇▇███</td></tr><tr><td>val_acc</td><td>▁▃▄▄▄▄▄▄▄▄▄▅▅▅▅▅▅▆▇▇▆▇█▇████████▇▇▇▇▇▇▇▇</td></tr><tr><td>val_auc</td><td>▁▂▃▄▄▅▅▅▅▅▅▅▅▅▅▆▆▆▆▆▇▆▆▇▇▇▇▇▇▇██████████</td></tr><tr><td>val_f1</td><td>▁▆▇▇▇▇▇▇▇▇▇▇▇▇▇▇▇▇████▇█████▇██▇▆▇▇▆▆▆▆▆</td></tr><tr><td>val_loss_epoch</td><td>█▇▇▇▇▇██▇▇▇▆▆▅▄▄▄▃▃▃▃▃▃▂▂▂▂▂▂▂▁▂▃▂▁▂▂▃▂▂</td></tr><tr><td>val_loss_step</td><td>█▇▇▇▇▇██▇▇▇▆▆▅▄▄▄▃▃▃▃▃▃▂▂▂▂▂▂▂▁▂▃▂▁▂▂▃▂▂</td></tr></table><br/></div><div class=\"wandb-col\"><h3>Run summary:</h3><br/><table class=\"wandb\"><tr><td>epoch</td><td>99</td></tr><tr><td>lr-Adam</td><td>0.005</td></tr><tr><td>train_acc</td><td>0.85761</td></tr><tr><td>train_auc</td><td>0.8967</td></tr><tr><td>train_f1</td><td>0.87978</td></tr><tr><td>train_loss_epoch</td><td>0.45572</td></tr><tr><td>train_loss_step</td><td>0.45572</td></tr><tr><td>trainer/global_step</td><td>99</td></tr><tr><td>val_acc</td><td>0.71429</td></tr><tr><td>val_auc</td><td>0.84741</td></tr><tr><td>val_f1</td><td>0.69355</td></tr><tr><td>val_loss_epoch</td><td>0.5926</td></tr><tr><td>val_loss_step</td><td>0.5926</td></tr></table><br/></div></div>"
      ],
      "text/plain": [
       "<IPython.core.display.HTML object>"
      ]
     },
     "metadata": {},
     "output_type": "display_data"
    },
    {
     "data": {
      "text/html": [
       " View run <strong style=\"color:#cdcd00\">MLP_2_16_3</strong> at: <a href='https://wandb.ai/thoomas/SF_082423_Covid/runs/hey9rr6n' target=\"_blank\">https://wandb.ai/thoomas/SF_082423_Covid/runs/hey9rr6n</a><br/>Synced 5 W&B file(s), 0 media file(s), 0 artifact file(s) and 0 other file(s)"
      ],
      "text/plain": [
       "<IPython.core.display.HTML object>"
      ]
     },
     "metadata": {},
     "output_type": "display_data"
    },
    {
     "data": {
      "text/html": [
       "Find logs at: <code>.\\wandb\\run-20230824_145454-hey9rr6n\\logs</code>"
      ],
      "text/plain": [
       "<IPython.core.display.HTML object>"
      ]
     },
     "metadata": {},
     "output_type": "display_data"
    },
    {
     "data": {
      "application/vnd.jupyter.widget-view+json": {
       "model_id": "a7a52031067845a98d478327a6d4caa8",
       "version_major": 2,
       "version_minor": 0
      },
      "text/plain": [
       "VBox(children=(Label(value='Waiting for wandb.init()...\\r'), FloatProgress(value=0.016916666666656966, max=1.0…"
      ]
     },
     "metadata": {},
     "output_type": "display_data"
    },
    {
     "data": {
      "text/html": [
       "wandb version 0.15.8 is available!  To upgrade, please run:\n",
       " $ pip install wandb --upgrade"
      ],
      "text/plain": [
       "<IPython.core.display.HTML object>"
      ]
     },
     "metadata": {},
     "output_type": "display_data"
    },
    {
     "data": {
      "text/html": [
       "Tracking run with wandb version 0.14.0"
      ],
      "text/plain": [
       "<IPython.core.display.HTML object>"
      ]
     },
     "metadata": {},
     "output_type": "display_data"
    },
    {
     "data": {
      "text/html": [
       "Run data is saved locally in <code>Y:\\coskun-lab\\Thomas\\11_snowflakes\\notebooks\\wandb\\run-20230824_150820-xv4lqi0k</code>"
      ],
      "text/plain": [
       "<IPython.core.display.HTML object>"
      ]
     },
     "metadata": {},
     "output_type": "display_data"
    },
    {
     "data": {
      "text/html": [
       "Syncing run <strong><a href='https://wandb.ai/thoomas/SF_082423_Covid/runs/xv4lqi0k' target=\"_blank\">MLP_2_16_3</a></strong> to <a href='https://wandb.ai/thoomas/SF_082423_Covid' target=\"_blank\">Weights & Biases</a> (<a href='https://wandb.me/run' target=\"_blank\">docs</a>)<br/>"
      ],
      "text/plain": [
       "<IPython.core.display.HTML object>"
      ]
     },
     "metadata": {},
     "output_type": "display_data"
    },
    {
     "data": {
      "text/html": [
       " View project at <a href='https://wandb.ai/thoomas/SF_082423_Covid' target=\"_blank\">https://wandb.ai/thoomas/SF_082423_Covid</a>"
      ],
      "text/plain": [
       "<IPython.core.display.HTML object>"
      ]
     },
     "metadata": {},
     "output_type": "display_data"
    },
    {
     "data": {
      "text/html": [
       " View run at <a href='https://wandb.ai/thoomas/SF_082423_Covid/runs/xv4lqi0k' target=\"_blank\">https://wandb.ai/thoomas/SF_082423_Covid/runs/xv4lqi0k</a>"
      ],
      "text/plain": [
       "<IPython.core.display.HTML object>"
      ]
     },
     "metadata": {},
     "output_type": "display_data"
    },
    {
     "name": "stderr",
     "output_type": "stream",
     "text": [
      "Global seed set to 42\n",
      "C:\\Users\\thu71\\Anaconda3\\envs\\snowflake\\lib\\site-packages\\pytorch_lightning\\loggers\\wandb.py:395: UserWarning: There is a wandb run already in progress and newly created instances of `WandbLogger` will reuse this run. If this is not desired, call `wandb.finish()` before instantiating `WandbLogger`.\n",
      "  rank_zero_warn(\n",
      "GPU available: True (cuda), used: True\n",
      "TPU available: False, using: 0 TPU cores\n",
      "IPU available: False, using: 0 IPUs\n",
      "HPU available: False, using: 0 HPUs\n",
      "Global seed set to 42\n",
      "LOCAL_RANK: 0 - CUDA_VISIBLE_DEVICES: [0,1]\n",
      "\n",
      "   | Name        | Type             | Params\n",
      "--------------------------------------------------\n",
      "0  | model       | MLPModel         | 368   \n",
      "1  | fnn_layer   | Linear           | 272   \n",
      "2  | selu        | SELU             | 0     \n",
      "3  | head        | Linear           | 34    \n",
      "4  | loss_module | CrossEntropyLoss | 0     \n",
      "5  | train_acc   | BinaryAccuracy   | 0     \n",
      "6  | train_auroc | BinaryAUROC      | 0     \n",
      "7  | train_f1    | BinaryF1Score    | 0     \n",
      "8  | valid_acc   | BinaryAccuracy   | 0     \n",
      "9  | valid_auroc | BinaryAUROC      | 0     \n",
      "10 | valid_f1    | BinaryF1Score    | 0     \n",
      "11 | pool        | Attention_module | 281   \n",
      "--------------------------------------------------\n",
      "955       Trainable params\n",
      "0         Non-trainable params\n",
      "955       Total params\n",
      "0.004     Total estimated model params size (MB)\n",
      "C:\\Users\\thu71\\AppData\\Roaming\\Python\\Python39\\site-packages\\lightning\\pytorch\\trainer\\connectors\\data_connector.py:478: PossibleUserWarning: Your `val_dataloader`'s sampler has shuffling enabled, it is strongly recommended that you turn shuffling off for val/test dataloaders.\n",
      "  rank_zero_warn(\n",
      "C:\\Users\\thu71\\AppData\\Roaming\\Python\\Python39\\site-packages\\lightning\\pytorch\\trainer\\connectors\\data_connector.py:430: PossibleUserWarning: The dataloader, val_dataloader, does not have many workers which may be a bottleneck. Consider increasing the value of the `num_workers` argument` (try 48 which is the number of cpus on this machine) in the `DataLoader` init to improve performance.\n",
      "  rank_zero_warn(\n",
      "C:\\Users\\thu71\\AppData\\Roaming\\Python\\Python39\\site-packages\\lightning\\pytorch\\trainer\\connectors\\data_connector.py:430: PossibleUserWarning: The dataloader, train_dataloader, does not have many workers which may be a bottleneck. Consider increasing the value of the `num_workers` argument` (try 48 which is the number of cpus on this machine) in the `DataLoader` init to improve performance.\n",
      "  rank_zero_warn(\n",
      "C:\\Users\\thu71\\AppData\\Roaming\\Python\\Python39\\site-packages\\lightning\\pytorch\\loops\\fit_loop.py:280: PossibleUserWarning: The number of training batches (1) is smaller than the logging interval Trainer(log_every_n_steps=10). Set a lower value for log_every_n_steps if you want to see logs for the training epoch.\n",
      "  rank_zero_warn(\n",
      "`Trainer.fit` stopped: `max_epochs=100` reached.\n"
     ]
    },
    {
     "data": {
      "text/html": [
       "Waiting for W&B process to finish... <strong style=\"color:green\">(success).</strong>"
      ],
      "text/plain": [
       "<IPython.core.display.HTML object>"
      ]
     },
     "metadata": {},
     "output_type": "display_data"
    },
    {
     "data": {
      "application/vnd.jupyter.widget-view+json": {
       "model_id": "e74587c6862c4d798c78b89aa8424796",
       "version_major": 2,
       "version_minor": 0
      },
      "text/plain": [
       "VBox(children=(Label(value='0.001 MB of 0.001 MB uploaded (0.000 MB deduped)\\r'), FloatProgress(value=1.0, max…"
      ]
     },
     "metadata": {},
     "output_type": "display_data"
    },
    {
     "data": {
      "text/html": [
       "<style>\n",
       "    table.wandb td:nth-child(1) { padding: 0 10px; text-align: left ; width: auto;} td:nth-child(2) {text-align: left ; width: 100%}\n",
       "    .wandb-row { display: flex; flex-direction: row; flex-wrap: wrap; justify-content: flex-start; width: 100% }\n",
       "    .wandb-col { display: flex; flex-direction: column; flex-basis: 100%; flex: 1; padding: 10px; }\n",
       "    </style>\n",
       "<div class=\"wandb-row\"><div class=\"wandb-col\"><h3>Run history:</h3><br/><table class=\"wandb\"><tr><td>epoch</td><td>▁▁▁▂▂▂▂▂▂▃▃▃▃▃▄▄▄▄▄▄▅▅▅▅▅▅▆▆▆▆▆▇▇▇▇▇████</td></tr><tr><td>lr-Adam</td><td>▁▁▁▁▁▁▁▁▁▁▁▁▁▁▁▁▁▁▁▁▁▁▁▁▁▁▁▁▁▁▁▁▁▁▁▁▁▁▁▁</td></tr><tr><td>train_acc</td><td>▁▄▄▅▆▆▆▆▆▆▆▆▆▆▇▇▇▇▇▇▇▇▇▇▇▇██████████████</td></tr><tr><td>train_auc</td><td>▁▃▂▂▃▃▃▃▄▄▄▄▅▅▅▅▆▆▆▇▇▇▇▇▇▇█▇▇▇██▇██████▇</td></tr><tr><td>train_f1</td><td>▁▇▇▇▇▇▇▇▇▇▇▇▇▇▇▇█▇▇█████████████████████</td></tr><tr><td>train_loss_epoch</td><td>█▇▇▆▆▆▅▅▄▄▄▄▄▃▃▃▃▃▃▂▂▂▂▂▂▂▁▂▁▂▁▁▂▁▁▂▁▁▁▁</td></tr><tr><td>train_loss_step</td><td>█▆▅▄▃▂▁▂▂▂</td></tr><tr><td>trainer/global_step</td><td>▁▁▁▁▂▂▂▂▂▃▃▃▃▃▄▄▄▄▄▄▅▅▅▅▅▅▆▆▆▆▆▇▇▇▇▇▇███</td></tr><tr><td>val_acc</td><td>▁▂▂▃▃▄▄▅▅▅▅▅▆▆▇▇▇▇▇▇▇▆▃▃▂▆▅▇▅▇▅▅▇▅█▇▆█▆▇</td></tr><tr><td>val_auc</td><td>▁▁▁▂▂▂▂▂▂▃▃▃▄▄▄▄▅▅▅▅▅▅▅▅▆▇▇▇▇▇▇▇█▇██▇█▇█</td></tr><tr><td>val_f1</td><td>▁▆▆▅▆▆▆▇▇▇▇▇▇▇████▇▇▆▅▂▃▁▅▄▆▄▆▄▄▆▃▇▅▄▇▅▆</td></tr><tr><td>val_loss_epoch</td><td>█▇▇▇▇▇▆▆▆▆▅▅▅▄▄▃▃▃▃▃▄▅▆▆▆▃▅▂▅▃▄▄▃▅▁▃▅▁▄▂</td></tr><tr><td>val_loss_step</td><td>█▇▇▇▇▇▆▆▆▆▅▅▅▄▄▃▃▃▃▃▄▅▆▆▆▃▅▂▅▃▄▄▃▅▁▃▅▁▄▂</td></tr></table><br/></div><div class=\"wandb-col\"><h3>Run summary:</h3><br/><table class=\"wandb\"><tr><td>epoch</td><td>99</td></tr><tr><td>lr-Adam</td><td>0.005</td></tr><tr><td>train_acc</td><td>0.86408</td></tr><tr><td>train_auc</td><td>0.92005</td></tr><tr><td>train_f1</td><td>0.87791</td></tr><tr><td>train_loss_epoch</td><td>0.45021</td></tr><tr><td>train_loss_step</td><td>0.45021</td></tr><tr><td>trainer/global_step</td><td>99</td></tr><tr><td>val_acc</td><td>0.69925</td></tr><tr><td>val_auc</td><td>0.83056</td></tr><tr><td>val_f1</td><td>0.71014</td></tr><tr><td>val_loss_epoch</td><td>0.57821</td></tr><tr><td>val_loss_step</td><td>0.57821</td></tr></table><br/></div></div>"
      ],
      "text/plain": [
       "<IPython.core.display.HTML object>"
      ]
     },
     "metadata": {},
     "output_type": "display_data"
    },
    {
     "data": {
      "text/html": [
       " View run <strong style=\"color:#cdcd00\">MLP_2_16_3</strong> at: <a href='https://wandb.ai/thoomas/SF_082423_Covid/runs/xv4lqi0k' target=\"_blank\">https://wandb.ai/thoomas/SF_082423_Covid/runs/xv4lqi0k</a><br/>Synced 5 W&B file(s), 0 media file(s), 0 artifact file(s) and 0 other file(s)"
      ],
      "text/plain": [
       "<IPython.core.display.HTML object>"
      ]
     },
     "metadata": {},
     "output_type": "display_data"
    },
    {
     "data": {
      "text/html": [
       "Find logs at: <code>.\\wandb\\run-20230824_150820-xv4lqi0k\\logs</code>"
      ],
      "text/plain": [
       "<IPython.core.display.HTML object>"
      ]
     },
     "metadata": {},
     "output_type": "display_data"
    },
    {
     "data": {
      "application/vnd.jupyter.widget-view+json": {
       "model_id": "333e83a86e88429c9998ec16b1178980",
       "version_major": 2,
       "version_minor": 0
      },
      "text/plain": [
       "VBox(children=(Label(value='Waiting for wandb.init()...\\r'), FloatProgress(value=0.016933333333327028, max=1.0…"
      ]
     },
     "metadata": {},
     "output_type": "display_data"
    },
    {
     "data": {
      "text/html": [
       "wandb version 0.15.8 is available!  To upgrade, please run:\n",
       " $ pip install wandb --upgrade"
      ],
      "text/plain": [
       "<IPython.core.display.HTML object>"
      ]
     },
     "metadata": {},
     "output_type": "display_data"
    },
    {
     "data": {
      "text/html": [
       "Tracking run with wandb version 0.14.0"
      ],
      "text/plain": [
       "<IPython.core.display.HTML object>"
      ]
     },
     "metadata": {},
     "output_type": "display_data"
    },
    {
     "data": {
      "text/html": [
       "Run data is saved locally in <code>Y:\\coskun-lab\\Thomas\\11_snowflakes\\notebooks\\wandb\\run-20230824_152215-agssba0b</code>"
      ],
      "text/plain": [
       "<IPython.core.display.HTML object>"
      ]
     },
     "metadata": {},
     "output_type": "display_data"
    },
    {
     "data": {
      "text/html": [
       "Syncing run <strong><a href='https://wandb.ai/thoomas/SF_082423_Covid/runs/agssba0b' target=\"_blank\">MLP_2_16_4</a></strong> to <a href='https://wandb.ai/thoomas/SF_082423_Covid' target=\"_blank\">Weights & Biases</a> (<a href='https://wandb.me/run' target=\"_blank\">docs</a>)<br/>"
      ],
      "text/plain": [
       "<IPython.core.display.HTML object>"
      ]
     },
     "metadata": {},
     "output_type": "display_data"
    },
    {
     "data": {
      "text/html": [
       " View project at <a href='https://wandb.ai/thoomas/SF_082423_Covid' target=\"_blank\">https://wandb.ai/thoomas/SF_082423_Covid</a>"
      ],
      "text/plain": [
       "<IPython.core.display.HTML object>"
      ]
     },
     "metadata": {},
     "output_type": "display_data"
    },
    {
     "data": {
      "text/html": [
       " View run at <a href='https://wandb.ai/thoomas/SF_082423_Covid/runs/agssba0b' target=\"_blank\">https://wandb.ai/thoomas/SF_082423_Covid/runs/agssba0b</a>"
      ],
      "text/plain": [
       "<IPython.core.display.HTML object>"
      ]
     },
     "metadata": {},
     "output_type": "display_data"
    },
    {
     "name": "stderr",
     "output_type": "stream",
     "text": [
      "Global seed set to 42\n",
      "C:\\Users\\thu71\\Anaconda3\\envs\\snowflake\\lib\\site-packages\\pytorch_lightning\\loggers\\wandb.py:395: UserWarning: There is a wandb run already in progress and newly created instances of `WandbLogger` will reuse this run. If this is not desired, call `wandb.finish()` before instantiating `WandbLogger`.\n",
      "  rank_zero_warn(\n",
      "GPU available: True (cuda), used: True\n",
      "TPU available: False, using: 0 TPU cores\n",
      "IPU available: False, using: 0 IPUs\n",
      "HPU available: False, using: 0 HPUs\n",
      "Global seed set to 42\n",
      "LOCAL_RANK: 0 - CUDA_VISIBLE_DEVICES: [0,1]\n",
      "\n",
      "   | Name        | Type             | Params\n",
      "--------------------------------------------------\n",
      "0  | model       | MLPModel         | 368   \n",
      "1  | fnn_layer   | Linear           | 272   \n",
      "2  | selu        | SELU             | 0     \n",
      "3  | head        | Linear           | 34    \n",
      "4  | loss_module | CrossEntropyLoss | 0     \n",
      "5  | train_acc   | BinaryAccuracy   | 0     \n",
      "6  | train_auroc | BinaryAUROC      | 0     \n",
      "7  | train_f1    | BinaryF1Score    | 0     \n",
      "8  | valid_acc   | BinaryAccuracy   | 0     \n",
      "9  | valid_auroc | BinaryAUROC      | 0     \n",
      "10 | valid_f1    | BinaryF1Score    | 0     \n",
      "--------------------------------------------------\n",
      "674       Trainable params\n",
      "0         Non-trainable params\n",
      "674       Total params\n",
      "0.003     Total estimated model params size (MB)\n",
      "C:\\Users\\thu71\\AppData\\Roaming\\Python\\Python39\\site-packages\\lightning\\pytorch\\trainer\\connectors\\data_connector.py:478: PossibleUserWarning: Your `val_dataloader`'s sampler has shuffling enabled, it is strongly recommended that you turn shuffling off for val/test dataloaders.\n",
      "  rank_zero_warn(\n",
      "C:\\Users\\thu71\\AppData\\Roaming\\Python\\Python39\\site-packages\\lightning\\pytorch\\trainer\\connectors\\data_connector.py:430: PossibleUserWarning: The dataloader, val_dataloader, does not have many workers which may be a bottleneck. Consider increasing the value of the `num_workers` argument` (try 48 which is the number of cpus on this machine) in the `DataLoader` init to improve performance.\n",
      "  rank_zero_warn(\n",
      "C:\\Users\\thu71\\AppData\\Roaming\\Python\\Python39\\site-packages\\lightning\\pytorch\\trainer\\connectors\\data_connector.py:430: PossibleUserWarning: The dataloader, train_dataloader, does not have many workers which may be a bottleneck. Consider increasing the value of the `num_workers` argument` (try 48 which is the number of cpus on this machine) in the `DataLoader` init to improve performance.\n",
      "  rank_zero_warn(\n",
      "C:\\Users\\thu71\\AppData\\Roaming\\Python\\Python39\\site-packages\\lightning\\pytorch\\loops\\fit_loop.py:280: PossibleUserWarning: The number of training batches (1) is smaller than the logging interval Trainer(log_every_n_steps=10). Set a lower value for log_every_n_steps if you want to see logs for the training epoch.\n",
      "  rank_zero_warn(\n",
      "`Trainer.fit` stopped: `max_epochs=100` reached.\n"
     ]
    },
    {
     "data": {
      "text/html": [
       "Waiting for W&B process to finish... <strong style=\"color:green\">(success).</strong>"
      ],
      "text/plain": [
       "<IPython.core.display.HTML object>"
      ]
     },
     "metadata": {},
     "output_type": "display_data"
    },
    {
     "data": {
      "application/vnd.jupyter.widget-view+json": {
       "model_id": "8ebc3229a6324fe6868d51d2a16cb2cb",
       "version_major": 2,
       "version_minor": 0
      },
      "text/plain": [
       "VBox(children=(Label(value='0.001 MB of 0.001 MB uploaded (0.000 MB deduped)\\r'), FloatProgress(value=1.0, max…"
      ]
     },
     "metadata": {},
     "output_type": "display_data"
    },
    {
     "data": {
      "text/html": [
       "<style>\n",
       "    table.wandb td:nth-child(1) { padding: 0 10px; text-align: left ; width: auto;} td:nth-child(2) {text-align: left ; width: 100%}\n",
       "    .wandb-row { display: flex; flex-direction: row; flex-wrap: wrap; justify-content: flex-start; width: 100% }\n",
       "    .wandb-col { display: flex; flex-direction: column; flex-basis: 100%; flex: 1; padding: 10px; }\n",
       "    </style>\n",
       "<div class=\"wandb-row\"><div class=\"wandb-col\"><h3>Run history:</h3><br/><table class=\"wandb\"><tr><td>epoch</td><td>▁▁▁▂▂▂▂▂▂▃▃▃▃▃▄▄▄▄▄▄▅▅▅▅▅▅▆▆▆▆▆▇▇▇▇▇████</td></tr><tr><td>lr-Adam</td><td>▁▁▁▁▁▁▁▁▁▁▁▁▁▁▁▁▁▁▁▁▁▁▁▁▁▁▁▁▁▁▁▁▁▁▁▁▁▁▁▁</td></tr><tr><td>train_acc</td><td>▁▁▃▃▃▃▅▅▅▅▅▄▅▅▅▅▅▅▅▅▆▆▆▆▆▆▇▇▇▇▇▇▇▇▇▇████</td></tr><tr><td>train_auc</td><td>▃▂▁▁▃▃▄▄▄▄▄▄▄▄▄▄▄▄▅▅▅▅▅▆▆▆▆▇▇▇▇█████████</td></tr><tr><td>train_f1</td><td>▁▂▇▇▇▇▇▇▇▇▇▇▇▇▇▇▇▇▇▇▇▇▇▇▇▇█▇████████████</td></tr><tr><td>train_loss_epoch</td><td>█▇▇▇▆▆▆▆▆▆▆▅▅▅▅▅▅▅▅▅▄▄▄▄▄▃▃▃▃▃▂▂▂▂▂▁▁▁▁▁</td></tr><tr><td>train_loss_step</td><td>█▇▇▆▅▄▃▂▁▁</td></tr><tr><td>trainer/global_step</td><td>▁▁▁▁▂▂▂▂▂▃▃▃▃▃▄▄▄▄▄▄▅▅▅▅▅▅▆▆▆▆▆▇▇▇▇▇▇███</td></tr><tr><td>val_acc</td><td>▁▂▃▃▄▅▅▄▅▆▆▆▆▆▆▆▆▆▆▆▆▇▇▇▇▇▇▇▇▇████▇▇█▇▇▇</td></tr><tr><td>val_auc</td><td>▃▂▁▂▃▃▃▃▃▃▃▃▄▄▄▄▄▄▄▄▅▅▅▅▆▆▇▇▇▇▇▇████████</td></tr><tr><td>val_f1</td><td>▁▄▇▇▇▇▇▆▇▇▇▇▇▇▇▇▇▇▇▇▇█▇████▇█▇██████████</td></tr><tr><td>val_loss_epoch</td><td>█▇▆▆▆▆▆▆▅▅▅▅▅▅▅▄▄▄▄▄▃▃▃▃▃▂▂▂▂▂▁▁▁▁▁▁▁▂▁▁</td></tr><tr><td>val_loss_step</td><td>█▇▆▆▆▆▆▆▅▅▅▅▅▅▅▄▄▄▄▄▃▃▃▃▃▂▂▂▂▂▁▁▁▁▁▁▁▂▁▁</td></tr></table><br/></div><div class=\"wandb-col\"><h3>Run summary:</h3><br/><table class=\"wandb\"><tr><td>epoch</td><td>99</td></tr><tr><td>lr-Adam</td><td>0.005</td></tr><tr><td>train_acc</td><td>0.87055</td></tr><tr><td>train_auc</td><td>0.9162</td></tr><tr><td>train_f1</td><td>0.8913</td></tr><tr><td>train_loss_epoch</td><td>0.45316</td></tr><tr><td>train_loss_step</td><td>0.45316</td></tr><tr><td>trainer/global_step</td><td>99</td></tr><tr><td>val_acc</td><td>0.79699</td></tr><tr><td>val_auc</td><td>0.93906</td></tr><tr><td>val_f1</td><td>0.80292</td></tr><tr><td>val_loss_epoch</td><td>0.48295</td></tr><tr><td>val_loss_step</td><td>0.48295</td></tr></table><br/></div></div>"
      ],
      "text/plain": [
       "<IPython.core.display.HTML object>"
      ]
     },
     "metadata": {},
     "output_type": "display_data"
    },
    {
     "data": {
      "text/html": [
       " View run <strong style=\"color:#cdcd00\">MLP_2_16_4</strong> at: <a href='https://wandb.ai/thoomas/SF_082423_Covid/runs/agssba0b' target=\"_blank\">https://wandb.ai/thoomas/SF_082423_Covid/runs/agssba0b</a><br/>Synced 5 W&B file(s), 0 media file(s), 0 artifact file(s) and 0 other file(s)"
      ],
      "text/plain": [
       "<IPython.core.display.HTML object>"
      ]
     },
     "metadata": {},
     "output_type": "display_data"
    },
    {
     "data": {
      "text/html": [
       "Find logs at: <code>.\\wandb\\run-20230824_152215-agssba0b\\logs</code>"
      ],
      "text/plain": [
       "<IPython.core.display.HTML object>"
      ]
     },
     "metadata": {},
     "output_type": "display_data"
    },
    {
     "data": {
      "application/vnd.jupyter.widget-view+json": {
       "model_id": "2de622ac1c1d4c0d8e1007ec9075f5ca",
       "version_major": 2,
       "version_minor": 0
      },
      "text/plain": [
       "VBox(children=(Label(value='Waiting for wandb.init()...\\r'), FloatProgress(value=0.016916666666656966, max=1.0…"
      ]
     },
     "metadata": {},
     "output_type": "display_data"
    },
    {
     "data": {
      "text/html": [
       "wandb version 0.15.8 is available!  To upgrade, please run:\n",
       " $ pip install wandb --upgrade"
      ],
      "text/plain": [
       "<IPython.core.display.HTML object>"
      ]
     },
     "metadata": {},
     "output_type": "display_data"
    },
    {
     "data": {
      "text/html": [
       "Tracking run with wandb version 0.14.0"
      ],
      "text/plain": [
       "<IPython.core.display.HTML object>"
      ]
     },
     "metadata": {},
     "output_type": "display_data"
    },
    {
     "data": {
      "text/html": [
       "Run data is saved locally in <code>Y:\\coskun-lab\\Thomas\\11_snowflakes\\notebooks\\wandb\\run-20230824_153535-e4rcasph</code>"
      ],
      "text/plain": [
       "<IPython.core.display.HTML object>"
      ]
     },
     "metadata": {},
     "output_type": "display_data"
    },
    {
     "data": {
      "text/html": [
       "Syncing run <strong><a href='https://wandb.ai/thoomas/SF_082423_Covid/runs/e4rcasph' target=\"_blank\">MLP_2_16_4</a></strong> to <a href='https://wandb.ai/thoomas/SF_082423_Covid' target=\"_blank\">Weights & Biases</a> (<a href='https://wandb.me/run' target=\"_blank\">docs</a>)<br/>"
      ],
      "text/plain": [
       "<IPython.core.display.HTML object>"
      ]
     },
     "metadata": {},
     "output_type": "display_data"
    },
    {
     "data": {
      "text/html": [
       " View project at <a href='https://wandb.ai/thoomas/SF_082423_Covid' target=\"_blank\">https://wandb.ai/thoomas/SF_082423_Covid</a>"
      ],
      "text/plain": [
       "<IPython.core.display.HTML object>"
      ]
     },
     "metadata": {},
     "output_type": "display_data"
    },
    {
     "data": {
      "text/html": [
       " View run at <a href='https://wandb.ai/thoomas/SF_082423_Covid/runs/e4rcasph' target=\"_blank\">https://wandb.ai/thoomas/SF_082423_Covid/runs/e4rcasph</a>"
      ],
      "text/plain": [
       "<IPython.core.display.HTML object>"
      ]
     },
     "metadata": {},
     "output_type": "display_data"
    },
    {
     "name": "stderr",
     "output_type": "stream",
     "text": [
      "Global seed set to 42\n",
      "C:\\Users\\thu71\\Anaconda3\\envs\\snowflake\\lib\\site-packages\\pytorch_lightning\\loggers\\wandb.py:395: UserWarning: There is a wandb run already in progress and newly created instances of `WandbLogger` will reuse this run. If this is not desired, call `wandb.finish()` before instantiating `WandbLogger`.\n",
      "  rank_zero_warn(\n",
      "GPU available: True (cuda), used: True\n",
      "TPU available: False, using: 0 TPU cores\n",
      "IPU available: False, using: 0 IPUs\n",
      "HPU available: False, using: 0 HPUs\n",
      "Global seed set to 42\n",
      "LOCAL_RANK: 0 - CUDA_VISIBLE_DEVICES: [0,1]\n",
      "\n",
      "   | Name        | Type             | Params\n",
      "--------------------------------------------------\n",
      "0  | model       | MLPModel         | 368   \n",
      "1  | fnn_layer   | Linear           | 272   \n",
      "2  | selu        | SELU             | 0     \n",
      "3  | head        | Linear           | 34    \n",
      "4  | loss_module | CrossEntropyLoss | 0     \n",
      "5  | train_acc   | BinaryAccuracy   | 0     \n",
      "6  | train_auroc | BinaryAUROC      | 0     \n",
      "7  | train_f1    | BinaryF1Score    | 0     \n",
      "8  | valid_acc   | BinaryAccuracy   | 0     \n",
      "9  | valid_auroc | BinaryAUROC      | 0     \n",
      "10 | valid_f1    | BinaryF1Score    | 0     \n",
      "--------------------------------------------------\n",
      "674       Trainable params\n",
      "0         Non-trainable params\n",
      "674       Total params\n",
      "0.003     Total estimated model params size (MB)\n",
      "C:\\Users\\thu71\\AppData\\Roaming\\Python\\Python39\\site-packages\\lightning\\pytorch\\trainer\\connectors\\data_connector.py:478: PossibleUserWarning: Your `val_dataloader`'s sampler has shuffling enabled, it is strongly recommended that you turn shuffling off for val/test dataloaders.\n",
      "  rank_zero_warn(\n",
      "C:\\Users\\thu71\\AppData\\Roaming\\Python\\Python39\\site-packages\\lightning\\pytorch\\trainer\\connectors\\data_connector.py:430: PossibleUserWarning: The dataloader, val_dataloader, does not have many workers which may be a bottleneck. Consider increasing the value of the `num_workers` argument` (try 48 which is the number of cpus on this machine) in the `DataLoader` init to improve performance.\n",
      "  rank_zero_warn(\n",
      "C:\\Users\\thu71\\AppData\\Roaming\\Python\\Python39\\site-packages\\lightning\\pytorch\\trainer\\connectors\\data_connector.py:430: PossibleUserWarning: The dataloader, train_dataloader, does not have many workers which may be a bottleneck. Consider increasing the value of the `num_workers` argument` (try 48 which is the number of cpus on this machine) in the `DataLoader` init to improve performance.\n",
      "  rank_zero_warn(\n",
      "C:\\Users\\thu71\\AppData\\Roaming\\Python\\Python39\\site-packages\\lightning\\pytorch\\loops\\fit_loop.py:280: PossibleUserWarning: The number of training batches (1) is smaller than the logging interval Trainer(log_every_n_steps=10). Set a lower value for log_every_n_steps if you want to see logs for the training epoch.\n",
      "  rank_zero_warn(\n",
      "`Trainer.fit` stopped: `max_epochs=100` reached.\n"
     ]
    },
    {
     "data": {
      "text/html": [
       "Waiting for W&B process to finish... <strong style=\"color:green\">(success).</strong>"
      ],
      "text/plain": [
       "<IPython.core.display.HTML object>"
      ]
     },
     "metadata": {},
     "output_type": "display_data"
    },
    {
     "data": {
      "application/vnd.jupyter.widget-view+json": {
       "model_id": "da2a9dc2908948849dbc0adf68a1ee06",
       "version_major": 2,
       "version_minor": 0
      },
      "text/plain": [
       "VBox(children=(Label(value='0.001 MB of 0.001 MB uploaded (0.000 MB deduped)\\r'), FloatProgress(value=1.0, max…"
      ]
     },
     "metadata": {},
     "output_type": "display_data"
    },
    {
     "data": {
      "text/html": [
       "<style>\n",
       "    table.wandb td:nth-child(1) { padding: 0 10px; text-align: left ; width: auto;} td:nth-child(2) {text-align: left ; width: 100%}\n",
       "    .wandb-row { display: flex; flex-direction: row; flex-wrap: wrap; justify-content: flex-start; width: 100% }\n",
       "    .wandb-col { display: flex; flex-direction: column; flex-basis: 100%; flex: 1; padding: 10px; }\n",
       "    </style>\n",
       "<div class=\"wandb-row\"><div class=\"wandb-col\"><h3>Run history:</h3><br/><table class=\"wandb\"><tr><td>epoch</td><td>▁▁▁▂▂▂▂▂▂▃▃▃▃▃▄▄▄▄▄▄▅▅▅▅▅▅▆▆▆▆▆▇▇▇▇▇████</td></tr><tr><td>lr-Adam</td><td>▁▁▁▁▁▁▁▁▁▁▁▁▁▁▁▁▁▁▁▁▁▁▁▁▁▁▁▁▁▁▁▁▁▁▁▁▁▁▁▁</td></tr><tr><td>train_acc</td><td>▁▁▁▁▁▁▃▂▂▂▄▄▄▅▅▄▆▅▆▆▆▆▆▆▆▅▆▇▇▇▆▇▇▇▇▇█▇██</td></tr><tr><td>train_auc</td><td>▁▁▂▂▃▄▄▄▄▅▅▆▅▆▆▆▆▆▆▆▇▇▇▇▇▇▇█▇▇▇█▇██▇█▇██</td></tr><tr><td>train_f1</td><td>▄▄▄▄▄▁▄▄▂▂▅▅▄▆▆▄▆▅▆▆▆▆▆▇▆▅▆▇▇▇▆█▇▇█▆█▇██</td></tr><tr><td>train_loss_epoch</td><td>████▇▆▅▆▆▅▅▄▄▄▄▄▃▃▃▃▃▃▂▃▃▂▃▂▂▂▂▁▂▁▁▂▁▂▁▁</td></tr><tr><td>train_loss_step</td><td>█▆▄▄▃▃▂▂▁▁</td></tr><tr><td>trainer/global_step</td><td>▁▁▁▁▂▂▂▂▂▃▃▃▃▃▄▄▄▄▄▄▅▅▅▅▅▅▆▆▆▆▆▇▇▇▇▇▇███</td></tr><tr><td>val_acc</td><td>▅▅▅▅▁▁▁▁▁▁▂▂▃▄▃▄▅▅▆▇▇▇▇▆▆▅▅▅▇▅▇▇▅▇▆▇████</td></tr><tr><td>val_auc</td><td>▁▁▃▃▄▄▅▅▅▅▅▅▆▆▆▆▆▆▇▇▇▇▇▇▇▇▇▇▇▇▇▇▇███████</td></tr><tr><td>val_f1</td><td>███▆▁▁▁▁▁▂▂▂▄▅▄▄▅▆▆▆▇▆▇▆▆▅▅▆▆▅▆▆▅▆▆▆▇▇▇▇</td></tr><tr><td>val_loss_epoch</td><td>▄▄▃▃▇█▇▆▇▆▄▅▄▃▄▄▂▂▂▁▁▂▁▂▂▂▂▂▁▂▁▁▃▁▂▂▁▁▁▁</td></tr><tr><td>val_loss_step</td><td>▄▄▃▃▇█▇▆▇▆▄▅▄▃▄▄▂▂▂▁▁▂▁▂▂▂▂▂▁▂▁▁▃▁▂▂▁▁▁▁</td></tr></table><br/></div><div class=\"wandb-col\"><h3>Run summary:</h3><br/><table class=\"wandb\"><tr><td>epoch</td><td>99</td></tr><tr><td>lr-Adam</td><td>0.005</td></tr><tr><td>train_acc</td><td>0.81553</td></tr><tr><td>train_auc</td><td>0.86869</td></tr><tr><td>train_f1</td><td>0.84211</td></tr><tr><td>train_loss_epoch</td><td>0.5082</td></tr><tr><td>train_loss_step</td><td>0.5082</td></tr><tr><td>trainer/global_step</td><td>99</td></tr><tr><td>val_acc</td><td>0.67669</td></tr><tr><td>val_auc</td><td>0.89174</td></tr><tr><td>val_f1</td><td>0.61947</td></tr><tr><td>val_loss_epoch</td><td>0.6116</td></tr><tr><td>val_loss_step</td><td>0.6116</td></tr></table><br/></div></div>"
      ],
      "text/plain": [
       "<IPython.core.display.HTML object>"
      ]
     },
     "metadata": {},
     "output_type": "display_data"
    },
    {
     "data": {
      "text/html": [
       " View run <strong style=\"color:#cdcd00\">MLP_2_16_4</strong> at: <a href='https://wandb.ai/thoomas/SF_082423_Covid/runs/e4rcasph' target=\"_blank\">https://wandb.ai/thoomas/SF_082423_Covid/runs/e4rcasph</a><br/>Synced 5 W&B file(s), 0 media file(s), 0 artifact file(s) and 0 other file(s)"
      ],
      "text/plain": [
       "<IPython.core.display.HTML object>"
      ]
     },
     "metadata": {},
     "output_type": "display_data"
    },
    {
     "data": {
      "text/html": [
       "Find logs at: <code>.\\wandb\\run-20230824_153535-e4rcasph\\logs</code>"
      ],
      "text/plain": [
       "<IPython.core.display.HTML object>"
      ]
     },
     "metadata": {},
     "output_type": "display_data"
    },
    {
     "data": {
      "application/vnd.jupyter.widget-view+json": {
       "model_id": "bcabc9dcbc0647bb9f698fb9cd549620",
       "version_major": 2,
       "version_minor": 0
      },
      "text/plain": [
       "VBox(children=(Label(value='Waiting for wandb.init()...\\r'), FloatProgress(value=0.016666666666666666, max=1.0…"
      ]
     },
     "metadata": {},
     "output_type": "display_data"
    },
    {
     "data": {
      "text/html": [
       "wandb version 0.15.8 is available!  To upgrade, please run:\n",
       " $ pip install wandb --upgrade"
      ],
      "text/plain": [
       "<IPython.core.display.HTML object>"
      ]
     },
     "metadata": {},
     "output_type": "display_data"
    },
    {
     "data": {
      "text/html": [
       "Tracking run with wandb version 0.14.0"
      ],
      "text/plain": [
       "<IPython.core.display.HTML object>"
      ]
     },
     "metadata": {},
     "output_type": "display_data"
    },
    {
     "data": {
      "text/html": [
       "Run data is saved locally in <code>Y:\\coskun-lab\\Thomas\\11_snowflakes\\notebooks\\wandb\\run-20230824_154908-a7cfokef</code>"
      ],
      "text/plain": [
       "<IPython.core.display.HTML object>"
      ]
     },
     "metadata": {},
     "output_type": "display_data"
    },
    {
     "data": {
      "text/html": [
       "Syncing run <strong><a href='https://wandb.ai/thoomas/SF_082423_Covid/runs/a7cfokef' target=\"_blank\">MLP_2_16_4</a></strong> to <a href='https://wandb.ai/thoomas/SF_082423_Covid' target=\"_blank\">Weights & Biases</a> (<a href='https://wandb.me/run' target=\"_blank\">docs</a>)<br/>"
      ],
      "text/plain": [
       "<IPython.core.display.HTML object>"
      ]
     },
     "metadata": {},
     "output_type": "display_data"
    },
    {
     "data": {
      "text/html": [
       " View project at <a href='https://wandb.ai/thoomas/SF_082423_Covid' target=\"_blank\">https://wandb.ai/thoomas/SF_082423_Covid</a>"
      ],
      "text/plain": [
       "<IPython.core.display.HTML object>"
      ]
     },
     "metadata": {},
     "output_type": "display_data"
    },
    {
     "data": {
      "text/html": [
       " View run at <a href='https://wandb.ai/thoomas/SF_082423_Covid/runs/a7cfokef' target=\"_blank\">https://wandb.ai/thoomas/SF_082423_Covid/runs/a7cfokef</a>"
      ],
      "text/plain": [
       "<IPython.core.display.HTML object>"
      ]
     },
     "metadata": {},
     "output_type": "display_data"
    },
    {
     "name": "stderr",
     "output_type": "stream",
     "text": [
      "Global seed set to 42\n",
      "C:\\Users\\thu71\\Anaconda3\\envs\\snowflake\\lib\\site-packages\\pytorch_lightning\\loggers\\wandb.py:395: UserWarning: There is a wandb run already in progress and newly created instances of `WandbLogger` will reuse this run. If this is not desired, call `wandb.finish()` before instantiating `WandbLogger`.\n",
      "  rank_zero_warn(\n",
      "GPU available: True (cuda), used: True\n",
      "TPU available: False, using: 0 TPU cores\n",
      "IPU available: False, using: 0 IPUs\n",
      "HPU available: False, using: 0 HPUs\n",
      "Global seed set to 42\n",
      "C:\\Users\\thu71\\Anaconda3\\envs\\snowflake\\lib\\site-packages\\torch_geometric\\deprecation.py:12: UserWarning: 'nn.glob.GlobalAttention' is deprecated, use 'nn.aggr.AttentionalAggregation' instead\n",
      "  warnings.warn(out)\n",
      "LOCAL_RANK: 0 - CUDA_VISIBLE_DEVICES: [0,1]\n",
      "\n",
      "   | Name        | Type             | Params\n",
      "--------------------------------------------------\n",
      "0  | model       | MLPModel         | 368   \n",
      "1  | fnn_layer   | Linear           | 272   \n",
      "2  | selu        | SELU             | 0     \n",
      "3  | head        | Linear           | 34    \n",
      "4  | loss_module | CrossEntropyLoss | 0     \n",
      "5  | train_acc   | BinaryAccuracy   | 0     \n",
      "6  | train_auroc | BinaryAUROC      | 0     \n",
      "7  | train_f1    | BinaryF1Score    | 0     \n",
      "8  | valid_acc   | BinaryAccuracy   | 0     \n",
      "9  | valid_auroc | BinaryAUROC      | 0     \n",
      "10 | valid_f1    | BinaryF1Score    | 0     \n",
      "11 | pool        | GlobalAttention  | 17    \n",
      "--------------------------------------------------\n",
      "691       Trainable params\n",
      "0         Non-trainable params\n",
      "691       Total params\n",
      "0.003     Total estimated model params size (MB)\n",
      "C:\\Users\\thu71\\AppData\\Roaming\\Python\\Python39\\site-packages\\lightning\\pytorch\\trainer\\connectors\\data_connector.py:478: PossibleUserWarning: Your `val_dataloader`'s sampler has shuffling enabled, it is strongly recommended that you turn shuffling off for val/test dataloaders.\n",
      "  rank_zero_warn(\n",
      "C:\\Users\\thu71\\AppData\\Roaming\\Python\\Python39\\site-packages\\lightning\\pytorch\\trainer\\connectors\\data_connector.py:430: PossibleUserWarning: The dataloader, val_dataloader, does not have many workers which may be a bottleneck. Consider increasing the value of the `num_workers` argument` (try 48 which is the number of cpus on this machine) in the `DataLoader` init to improve performance.\n",
      "  rank_zero_warn(\n",
      "C:\\Users\\thu71\\AppData\\Roaming\\Python\\Python39\\site-packages\\lightning\\pytorch\\trainer\\connectors\\data_connector.py:430: PossibleUserWarning: The dataloader, train_dataloader, does not have many workers which may be a bottleneck. Consider increasing the value of the `num_workers` argument` (try 48 which is the number of cpus on this machine) in the `DataLoader` init to improve performance.\n",
      "  rank_zero_warn(\n",
      "C:\\Users\\thu71\\AppData\\Roaming\\Python\\Python39\\site-packages\\lightning\\pytorch\\loops\\fit_loop.py:280: PossibleUserWarning: The number of training batches (1) is smaller than the logging interval Trainer(log_every_n_steps=10). Set a lower value for log_every_n_steps if you want to see logs for the training epoch.\n",
      "  rank_zero_warn(\n",
      "`Trainer.fit` stopped: `max_epochs=100` reached.\n"
     ]
    },
    {
     "data": {
      "text/html": [
       "Waiting for W&B process to finish... <strong style=\"color:green\">(success).</strong>"
      ],
      "text/plain": [
       "<IPython.core.display.HTML object>"
      ]
     },
     "metadata": {},
     "output_type": "display_data"
    },
    {
     "data": {
      "application/vnd.jupyter.widget-view+json": {
       "model_id": "16063e4813a9434d8f20c9cb7aa29cce",
       "version_major": 2,
       "version_minor": 0
      },
      "text/plain": [
       "VBox(children=(Label(value='0.001 MB of 0.001 MB uploaded (0.000 MB deduped)\\r'), FloatProgress(value=1.0, max…"
      ]
     },
     "metadata": {},
     "output_type": "display_data"
    },
    {
     "data": {
      "text/html": [
       "<style>\n",
       "    table.wandb td:nth-child(1) { padding: 0 10px; text-align: left ; width: auto;} td:nth-child(2) {text-align: left ; width: 100%}\n",
       "    .wandb-row { display: flex; flex-direction: row; flex-wrap: wrap; justify-content: flex-start; width: 100% }\n",
       "    .wandb-col { display: flex; flex-direction: column; flex-basis: 100%; flex: 1; padding: 10px; }\n",
       "    </style>\n",
       "<div class=\"wandb-row\"><div class=\"wandb-col\"><h3>Run history:</h3><br/><table class=\"wandb\"><tr><td>epoch</td><td>▁▁▁▂▂▂▂▂▂▃▃▃▃▃▄▄▄▄▄▄▅▅▅▅▅▅▆▆▆▆▆▇▇▇▇▇████</td></tr><tr><td>lr-Adam</td><td>▁▁▁▁▁▁▁▁▁▁▁▁▁▁▁▁▁▁▁▁▁▁▁▁▁▁▁▁▁▁▁▁▁▁▁▁▁▁▁▁</td></tr><tr><td>train_acc</td><td>▁▂▄▅▄▅▅▅▅▆▆▆▆▆▆▆▇▆▆▇▆▆▇▇▇█▇▇▇▇▇▇▆█▇▇▇▇▇▇</td></tr><tr><td>train_auc</td><td>▁▂▄▄▅▅▅▆▆▆▆▆▇▆▇▇▇▆▇▇▇▇▇▇▇█▇▇█▇█▇▇██▇▇███</td></tr><tr><td>train_f1</td><td>▁▄▅▆▆▅▆▆▆▇▆▆▇▆▆▆▇▆▇▇▆▇▇▇▇█▇▇▇▇█▇▇██▇▇██▇</td></tr><tr><td>train_loss_epoch</td><td>█▇▆▆▅▅▅▄▅▄▄▄▃▄▃▃▃▃▃▃▃▃▃▂▂▂▂▂▂▂▂▂▂▁▂▃▂▂▂▂</td></tr><tr><td>train_loss_step</td><td>█▅▄▃▃▂▂▂▁▁</td></tr><tr><td>trainer/global_step</td><td>▁▁▁▁▂▂▂▂▂▃▃▃▃▃▄▄▄▄▄▄▅▅▅▅▅▅▆▆▆▆▆▇▇▇▇▇▇███</td></tr><tr><td>val_acc</td><td>▁▃▃▃▃▃▃▃▄▅▆▆▇▆▆▆▆▅▅▄▅▅▄▅▆▄▆█▆▅▇▇▆▆▇▆▆██▆</td></tr><tr><td>val_auc</td><td>▁▂▄▅▅▅▆▅▆▆▆▆▆▆▆▇▇▇▇▇▇▇▇█████████████████</td></tr><tr><td>val_f1</td><td>▁▅▆▆▆▆▆▆▇▇▇▇█▆▆▇▆▅▄▃▄▅▂▄▆▃▅▇▆▅▇▇▅▅▆▅▆██▆</td></tr><tr><td>val_loss_epoch</td><td>█▇▇▇▆▆▆▆▅▅▄▄▄▄▄▃▄▄▄▅▄▄▄▃▃▄▃▂▃▃▂▂▂▃▂▂▂▁▁▂</td></tr><tr><td>val_loss_step</td><td>█▇▇▇▆▆▆▆▅▅▄▄▄▄▄▃▄▄▄▅▄▄▄▃▃▄▃▂▃▃▂▂▂▃▂▂▂▁▁▂</td></tr></table><br/></div><div class=\"wandb-col\"><h3>Run summary:</h3><br/><table class=\"wandb\"><tr><td>epoch</td><td>99</td></tr><tr><td>lr-Adam</td><td>0.005</td></tr><tr><td>train_acc</td><td>0.81553</td></tr><tr><td>train_auc</td><td>0.88581</td></tr><tr><td>train_f1</td><td>0.83668</td></tr><tr><td>train_loss_epoch</td><td>0.48576</td></tr><tr><td>train_loss_step</td><td>0.48576</td></tr><tr><td>trainer/global_step</td><td>99</td></tr><tr><td>val_acc</td><td>0.72932</td></tr><tr><td>val_auc</td><td>0.92475</td></tr><tr><td>val_f1</td><td>0.70492</td></tr><tr><td>val_loss_epoch</td><td>0.54844</td></tr><tr><td>val_loss_step</td><td>0.54844</td></tr></table><br/></div></div>"
      ],
      "text/plain": [
       "<IPython.core.display.HTML object>"
      ]
     },
     "metadata": {},
     "output_type": "display_data"
    },
    {
     "data": {
      "text/html": [
       " View run <strong style=\"color:#cdcd00\">MLP_2_16_4</strong> at: <a href='https://wandb.ai/thoomas/SF_082423_Covid/runs/a7cfokef' target=\"_blank\">https://wandb.ai/thoomas/SF_082423_Covid/runs/a7cfokef</a><br/>Synced 5 W&B file(s), 0 media file(s), 0 artifact file(s) and 0 other file(s)"
      ],
      "text/plain": [
       "<IPython.core.display.HTML object>"
      ]
     },
     "metadata": {},
     "output_type": "display_data"
    },
    {
     "data": {
      "text/html": [
       "Find logs at: <code>.\\wandb\\run-20230824_154908-a7cfokef\\logs</code>"
      ],
      "text/plain": [
       "<IPython.core.display.HTML object>"
      ]
     },
     "metadata": {},
     "output_type": "display_data"
    },
    {
     "data": {
      "application/vnd.jupyter.widget-view+json": {
       "model_id": "750b58d5b41244889c81b7f0feae1e34",
       "version_major": 2,
       "version_minor": 0
      },
      "text/plain": [
       "VBox(children=(Label(value='Waiting for wandb.init()...\\r'), FloatProgress(value=0.016916666666656966, max=1.0…"
      ]
     },
     "metadata": {},
     "output_type": "display_data"
    },
    {
     "data": {
      "text/html": [
       "wandb version 0.15.8 is available!  To upgrade, please run:\n",
       " $ pip install wandb --upgrade"
      ],
      "text/plain": [
       "<IPython.core.display.HTML object>"
      ]
     },
     "metadata": {},
     "output_type": "display_data"
    },
    {
     "data": {
      "text/html": [
       "Tracking run with wandb version 0.14.0"
      ],
      "text/plain": [
       "<IPython.core.display.HTML object>"
      ]
     },
     "metadata": {},
     "output_type": "display_data"
    },
    {
     "data": {
      "text/html": [
       "Run data is saved locally in <code>Y:\\coskun-lab\\Thomas\\11_snowflakes\\notebooks\\wandb\\run-20230824_160224-hdvms6zw</code>"
      ],
      "text/plain": [
       "<IPython.core.display.HTML object>"
      ]
     },
     "metadata": {},
     "output_type": "display_data"
    },
    {
     "data": {
      "text/html": [
       "Syncing run <strong><a href='https://wandb.ai/thoomas/SF_082423_Covid/runs/hdvms6zw' target=\"_blank\">MLP_2_16_4</a></strong> to <a href='https://wandb.ai/thoomas/SF_082423_Covid' target=\"_blank\">Weights & Biases</a> (<a href='https://wandb.me/run' target=\"_blank\">docs</a>)<br/>"
      ],
      "text/plain": [
       "<IPython.core.display.HTML object>"
      ]
     },
     "metadata": {},
     "output_type": "display_data"
    },
    {
     "data": {
      "text/html": [
       " View project at <a href='https://wandb.ai/thoomas/SF_082423_Covid' target=\"_blank\">https://wandb.ai/thoomas/SF_082423_Covid</a>"
      ],
      "text/plain": [
       "<IPython.core.display.HTML object>"
      ]
     },
     "metadata": {},
     "output_type": "display_data"
    },
    {
     "data": {
      "text/html": [
       " View run at <a href='https://wandb.ai/thoomas/SF_082423_Covid/runs/hdvms6zw' target=\"_blank\">https://wandb.ai/thoomas/SF_082423_Covid/runs/hdvms6zw</a>"
      ],
      "text/plain": [
       "<IPython.core.display.HTML object>"
      ]
     },
     "metadata": {},
     "output_type": "display_data"
    },
    {
     "name": "stderr",
     "output_type": "stream",
     "text": [
      "Global seed set to 42\n",
      "C:\\Users\\thu71\\Anaconda3\\envs\\snowflake\\lib\\site-packages\\pytorch_lightning\\loggers\\wandb.py:395: UserWarning: There is a wandb run already in progress and newly created instances of `WandbLogger` will reuse this run. If this is not desired, call `wandb.finish()` before instantiating `WandbLogger`.\n",
      "  rank_zero_warn(\n",
      "GPU available: True (cuda), used: True\n",
      "TPU available: False, using: 0 TPU cores\n",
      "IPU available: False, using: 0 IPUs\n",
      "HPU available: False, using: 0 HPUs\n",
      "Global seed set to 42\n",
      "LOCAL_RANK: 0 - CUDA_VISIBLE_DEVICES: [0,1]\n",
      "\n",
      "   | Name        | Type             | Params\n",
      "--------------------------------------------------\n",
      "0  | model       | MLPModel         | 368   \n",
      "1  | fnn_layer   | Linear           | 272   \n",
      "2  | selu        | SELU             | 0     \n",
      "3  | head        | Linear           | 34    \n",
      "4  | loss_module | CrossEntropyLoss | 0     \n",
      "5  | train_acc   | BinaryAccuracy   | 0     \n",
      "6  | train_auroc | BinaryAUROC      | 0     \n",
      "7  | train_f1    | BinaryF1Score    | 0     \n",
      "8  | valid_acc   | BinaryAccuracy   | 0     \n",
      "9  | valid_auroc | BinaryAUROC      | 0     \n",
      "10 | valid_f1    | BinaryF1Score    | 0     \n",
      "11 | pool        | Attention_module | 281   \n",
      "--------------------------------------------------\n",
      "955       Trainable params\n",
      "0         Non-trainable params\n",
      "955       Total params\n",
      "0.004     Total estimated model params size (MB)\n",
      "C:\\Users\\thu71\\AppData\\Roaming\\Python\\Python39\\site-packages\\lightning\\pytorch\\trainer\\connectors\\data_connector.py:478: PossibleUserWarning: Your `val_dataloader`'s sampler has shuffling enabled, it is strongly recommended that you turn shuffling off for val/test dataloaders.\n",
      "  rank_zero_warn(\n",
      "C:\\Users\\thu71\\AppData\\Roaming\\Python\\Python39\\site-packages\\lightning\\pytorch\\trainer\\connectors\\data_connector.py:430: PossibleUserWarning: The dataloader, val_dataloader, does not have many workers which may be a bottleneck. Consider increasing the value of the `num_workers` argument` (try 48 which is the number of cpus on this machine) in the `DataLoader` init to improve performance.\n",
      "  rank_zero_warn(\n",
      "C:\\Users\\thu71\\AppData\\Roaming\\Python\\Python39\\site-packages\\lightning\\pytorch\\trainer\\connectors\\data_connector.py:430: PossibleUserWarning: The dataloader, train_dataloader, does not have many workers which may be a bottleneck. Consider increasing the value of the `num_workers` argument` (try 48 which is the number of cpus on this machine) in the `DataLoader` init to improve performance.\n",
      "  rank_zero_warn(\n",
      "C:\\Users\\thu71\\AppData\\Roaming\\Python\\Python39\\site-packages\\lightning\\pytorch\\loops\\fit_loop.py:280: PossibleUserWarning: The number of training batches (1) is smaller than the logging interval Trainer(log_every_n_steps=10). Set a lower value for log_every_n_steps if you want to see logs for the training epoch.\n",
      "  rank_zero_warn(\n",
      "`Trainer.fit` stopped: `max_epochs=100` reached.\n"
     ]
    },
    {
     "data": {
      "text/html": [
       "Waiting for W&B process to finish... <strong style=\"color:green\">(success).</strong>"
      ],
      "text/plain": [
       "<IPython.core.display.HTML object>"
      ]
     },
     "metadata": {},
     "output_type": "display_data"
    },
    {
     "data": {
      "application/vnd.jupyter.widget-view+json": {
       "model_id": "774bdf5b6d0446b897e537af5e4cedb7",
       "version_major": 2,
       "version_minor": 0
      },
      "text/plain": [
       "VBox(children=(Label(value='0.001 MB of 0.001 MB uploaded (0.000 MB deduped)\\r'), FloatProgress(value=1.0, max…"
      ]
     },
     "metadata": {},
     "output_type": "display_data"
    },
    {
     "data": {
      "text/html": [
       "<style>\n",
       "    table.wandb td:nth-child(1) { padding: 0 10px; text-align: left ; width: auto;} td:nth-child(2) {text-align: left ; width: 100%}\n",
       "    .wandb-row { display: flex; flex-direction: row; flex-wrap: wrap; justify-content: flex-start; width: 100% }\n",
       "    .wandb-col { display: flex; flex-direction: column; flex-basis: 100%; flex: 1; padding: 10px; }\n",
       "    </style>\n",
       "<div class=\"wandb-row\"><div class=\"wandb-col\"><h3>Run history:</h3><br/><table class=\"wandb\"><tr><td>epoch</td><td>▁▁▁▂▂▂▂▂▂▃▃▃▃▃▄▄▄▄▄▄▅▅▅▅▅▅▆▆▆▆▆▇▇▇▇▇████</td></tr><tr><td>lr-Adam</td><td>▁▁▁▁▁▁▁▁▁▁▁▁▁▁▁▁▁▁▁▁▁▁▁▁▁▁▁▁▁▁▁▁▁▁▁▁▁▁▁▁</td></tr><tr><td>train_acc</td><td>▁▃▃▄▄▅▄▅▅▅▅▅▅▆▆▆▇▇▇▇▇█▇█▇██▇█▇██████████</td></tr><tr><td>train_auc</td><td>▁▁▂▂▂▂▃▃▃▃▃▄▄▄▅▆▆▆▇▇▇▇██▇██▇█▇██████████</td></tr><tr><td>train_f1</td><td>▁▇▇▇▆▇▇▇▇▇▇▇▇▇▇▇▇▇██████████████████████</td></tr><tr><td>train_loss_epoch</td><td>██▇▇▇▆▆▆▆▆▅▅▅▄▄▄▃▃▃▂▂▂▂▂▂▁▂▂▁▂▁▂▁▁▂▁▁▁▁▁</td></tr><tr><td>train_loss_step</td><td>█▇▆▄▃▂▂▂▁▁</td></tr><tr><td>trainer/global_step</td><td>▁▁▁▁▂▂▂▂▂▃▃▃▃▃▄▄▄▄▄▄▅▅▅▅▅▅▆▆▆▆▆▇▇▇▇▇▇███</td></tr><tr><td>val_acc</td><td>▅▃▅█▇█▇▇█████▇▇▅▅▄▃▂▂▂▂▂▁▁▁▁▂▂▂▃▂▃▂▃▂▃▂▄</td></tr><tr><td>val_auc</td><td>▁▁▂▂▃▃▃▃▄▄▄▄▄▅▅▅▅▅▅▅▆▆▆▆▆▆▇▇▇▇▇███▇▇▇█▇█</td></tr><tr><td>val_f1</td><td>▆▇▇███████████▇▆▆▅▄▃▃▂▂▂▁▁▁▁▂▃▂▃▂▃▂▃▃▄▂▄</td></tr><tr><td>val_loss_epoch</td><td>▅▄▄▃▃▂▂▂▁▁▁▁▁▁▁▂▂▄▅▆▆▆▆▇████▇▆▇▅▇▆▇▆▆▅▇▅</td></tr><tr><td>val_loss_step</td><td>▅▄▄▃▃▂▂▂▁▁▁▁▁▁▁▂▂▄▅▆▆▆▆▇████▇▆▇▅▇▆▇▆▆▅▇▅</td></tr></table><br/></div><div class=\"wandb-col\"><h3>Run summary:</h3><br/><table class=\"wandb\"><tr><td>epoch</td><td>99</td></tr><tr><td>lr-Adam</td><td>0.005</td></tr><tr><td>train_acc</td><td>0.88026</td></tr><tr><td>train_auc</td><td>0.94389</td></tr><tr><td>train_f1</td><td>0.89863</td></tr><tr><td>train_loss_epoch</td><td>0.43061</td></tr><tr><td>train_loss_step</td><td>0.43061</td></tr><tr><td>trainer/global_step</td><td>99</td></tr><tr><td>val_acc</td><td>0.58647</td></tr><tr><td>val_auc</td><td>0.89312</td></tr><tr><td>val_f1</td><td>0.45545</td></tr><tr><td>val_loss_epoch</td><td>0.69014</td></tr><tr><td>val_loss_step</td><td>0.69014</td></tr></table><br/></div></div>"
      ],
      "text/plain": [
       "<IPython.core.display.HTML object>"
      ]
     },
     "metadata": {},
     "output_type": "display_data"
    },
    {
     "data": {
      "text/html": [
       " View run <strong style=\"color:#cdcd00\">MLP_2_16_4</strong> at: <a href='https://wandb.ai/thoomas/SF_082423_Covid/runs/hdvms6zw' target=\"_blank\">https://wandb.ai/thoomas/SF_082423_Covid/runs/hdvms6zw</a><br/>Synced 5 W&B file(s), 0 media file(s), 0 artifact file(s) and 0 other file(s)"
      ],
      "text/plain": [
       "<IPython.core.display.HTML object>"
      ]
     },
     "metadata": {},
     "output_type": "display_data"
    },
    {
     "data": {
      "text/html": [
       "Find logs at: <code>.\\wandb\\run-20230824_160224-hdvms6zw\\logs</code>"
      ],
      "text/plain": [
       "<IPython.core.display.HTML object>"
      ]
     },
     "metadata": {},
     "output_type": "display_data"
    }
   ],
   "source": [
    "# Print K fold model number of samples and number of positive cases\n",
    "\n",
    "k_folds = 5\n",
    "# kfold = KFold(n_splits=k_folds, shuffle=True, random_state=42)\n",
    "kfold = StratifiedShuffleSplit(n_splits=k_folds, test_size=0.3, random_state=0)\n",
    "\n",
    "for fold, (train_ids, valid_ids) in enumerate(kfold.split(dataset, ys)):\n",
    "    train_subset = dataset.index_select(train_ids.tolist())\n",
    "    val_subset = dataset.index_select(valid_ids.tolist())\n",
    "    \n",
    "    for pool in pools:\n",
    "        for model in models:\n",
    "            # Path to the folder where the pretrained models are saved\n",
    "            CHECKPOINT_PATH = checkpoint_folder / f'{model}_{NUM_LAYERS}_{HIDDEN_CHANNELS}_{fold}' / pool\n",
    "            CHECKPOINT_PATH.mkdir(parents=True, exist_ok=True)\n",
    "\n",
    "            # Skip already trained kfold and pool\n",
    "            checkpoint = CHECKPOINT_PATH / f\"GraphLevel{model}\" / f\"GraphLevel{model}.ckpt\" \n",
    "            if checkpoint.exists():\n",
    "                print(checkpoint)\n",
    "                continue\n",
    "\n",
    "            # Run training\n",
    "            run = wandb.init(project=project_name, name=f'{model}_{NUM_LAYERS}_{HIDDEN_CHANNELS}_{fold}', \n",
    "                            group=f'{model}_{pool}')\n",
    "            graph.train_graph_classifier_kfold(model, \n",
    "                                                 train_subset, \n",
    "                                                 val_subset, \n",
    "                                                 dataset, \n",
    "                                                 CHECKPOINT_PATH, \n",
    "                                                 AVAIL_GPUS, \n",
    "                                                 hidden_channels=HIDDEN_CHANNELS, \n",
    "                                                 num_layers=NUM_LAYERS, \n",
    "                                                 epochs=epochs,\n",
    "                                                 batch_size=1024,\n",
    "                                                 graph_pooling=pool)\n",
    "            run.finish()"
   ]
  },
  {
   "cell_type": "code",
   "execution_count": null,
   "id": "6d682322-5234-4328-9eeb-01ca4a59f4b5",
   "metadata": {},
   "outputs": [],
   "source": []
  }
 ],
 "metadata": {
  "kernelspec": {
   "display_name": "Python [conda env:snowflake]",
   "language": "python",
   "name": "conda-env-snowflake-py"
  },
  "language_info": {
   "codemirror_mode": {
    "name": "ipython",
    "version": 3
   },
   "file_extension": ".py",
   "mimetype": "text/x-python",
   "name": "python",
   "nbconvert_exporter": "python",
   "pygments_lexer": "ipython3",
   "version": "3.9.16"
  }
 },
 "nbformat": 4,
 "nbformat_minor": 5
}
