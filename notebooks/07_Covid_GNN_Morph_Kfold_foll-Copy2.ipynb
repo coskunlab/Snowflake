{
 "cells": [
  {
   "cell_type": "code",
   "execution_count": 1,
   "id": "0247c074-b220-4b09-a90c-1d53c9f00a52",
   "metadata": {},
   "outputs": [],
   "source": [
    "import os\n",
    "import re\n",
    "import sys\n",
    "from pathlib import Path\n",
    "\n",
    "import h5py\n",
    "import matplotlib.pyplot as plt\n",
    "import numpy as np\n",
    "import pandas as pd\n",
    "import skimage\n",
    "from skimage import io\n",
    "from sklearn import preprocessing\n",
    "from tqdm.notebook import tqdm, trange\n",
    "import cv2\n",
    "from sklearn.model_selection import train_test_split\n",
    "import seaborn as sns"
   ]
  },
  {
   "cell_type": "code",
   "execution_count": 2,
   "id": "a74a433b-63c7-46b3-a938-8b4584bb2d63",
   "metadata": {},
   "outputs": [],
   "source": [
    "# # Import spatial omics library\n",
    "# import athena as ath\n",
    "# from spatialOmics import SpatialOmics\n",
    "\n",
    "# # import default graph builder parameters\n",
    "# from athena.graph_builder.constants import GRAPH_BUILDER_DEFAULT_PARAMS"
   ]
  },
  {
   "cell_type": "code",
   "execution_count": 3,
   "id": "b279b1a4-1739-42a1-8d9e-a7c49b976e6e",
   "metadata": {},
   "outputs": [],
   "source": [
    "d_dir = (Path().cwd().parents[0].parents[0]).absolute()\n",
    "data_dir = d_dir / \"09_datasets\"\n",
    "\n",
    "p_dir = (Path().cwd().parents[0]).absolute()"
   ]
  },
  {
   "cell_type": "code",
   "execution_count": 4,
   "id": "8ae1ea5a-e6da-48fe-a609-173c5fcbb42e",
   "metadata": {},
   "outputs": [],
   "source": [
    "%load_ext autoreload\n",
    "%autoreload 2\n",
    "\n",
    "module_path = str(p_dir / \"src\")\n",
    "\n",
    "if module_path not in sys.path:\n",
    "    sys.path.append(module_path)\n"
   ]
  },
  {
   "cell_type": "code",
   "execution_count": 5,
   "id": "84319f5d-8717-45f8-bc44-6a1321905222",
   "metadata": {},
   "outputs": [],
   "source": [
    "import graph\n",
    "import torch\n",
    "import torch_geometric.utils\n",
    "import networkx as nx\n",
    "import lightning.pytorch as pl\n",
    "import torch.utils.data as data\n",
    "\n",
    "spatial_omics_folder = (Path().cwd().parents[0]).absolute() / 'data' / 'spatial_omics_graph'\n",
    "process_path = (Path().cwd().parents[0]).absolute() / 'data' / 'torch_graph_data'\n",
    "morph_path = (Path().cwd().parents[0]).absolute() / 'data' / 'morph' / 'outlinePCA.pkl'"
   ]
  },
  {
   "cell_type": "markdown",
   "id": "1c8c3e67-8407-46cf-9f27-5420d401e8ae",
   "metadata": {
    "tags": []
   },
   "source": [
    "# Create data loader"
   ]
  },
  {
   "cell_type": "code",
   "execution_count": 6,
   "id": "bea63464",
   "metadata": {},
   "outputs": [],
   "source": [
    "import graph\n",
    "import torch"
   ]
  },
  {
   "cell_type": "code",
   "execution_count": 7,
   "id": "6f7f9fbf-af33-4f0f-94b0-ce345fc8c4c2",
   "metadata": {},
   "outputs": [],
   "source": [
    "from torch_geometric.loader import DataLoader\n",
    "seed = torch.Generator().manual_seed(42)\n",
    "\n",
    "name = 'NIH'\n",
    "\n",
    "# Crate dataset\n",
    "dataset = graph.GraphDatasetMorph(process_path / name, morph_path, process_path / name / 'info.csv', 2, y_name='covid')\n",
    "\n",
    "train_set, val_set, test_set = graph.train_test_val_split(dataset)\n",
    "\n",
    "# Create Dataloader\n",
    "train_loader = DataLoader(train_set, batch_size=32, shuffle=True)\n",
    "val_loader = DataLoader(val_set, batch_size=32, shuffle=True)\n",
    "test_loader = DataLoader(test_set, batch_size=32, shuffle=False)\n"
   ]
  },
  {
   "cell_type": "code",
   "execution_count": 8,
   "id": "d076fd9b-5d82-46dd-999e-4a3a6ac32fe0",
   "metadata": {},
   "outputs": [
    {
     "name": "stdout",
     "output_type": "stream",
     "text": [
      "Dataset: GraphDatasetMorph(442):\n",
      "======================\n",
      "Number of graphs: 442\n",
      "Number of features: 5\n",
      "Number of classes: 2\n"
     ]
    }
   ],
   "source": [
    "print(f'Dataset: {dataset}:')\n",
    "print('======================')\n",
    "print(f'Number of graphs: {len(dataset)}')\n",
    "print(f'Number of features: {dataset.num_features}')\n",
    "print(f'Number of classes: {dataset.nc}')"
   ]
  },
  {
   "cell_type": "code",
   "execution_count": 9,
   "id": "c215697d-363f-45f6-b561-800d2a8db3e8",
   "metadata": {},
   "outputs": [
    {
     "name": "stdout",
     "output_type": "stream",
     "text": [
      "Train set: 213, val set: 176, val set: 53\n"
     ]
    }
   ],
   "source": [
    "print(f'Train set: {len(train_set)}, val set: {len(test_set)}, val set: {len(val_set)}')"
   ]
  },
  {
   "cell_type": "code",
   "execution_count": 10,
   "id": "439ea1cb-f87e-4bb8-83e1-453647eae5de",
   "metadata": {
    "tags": []
   },
   "outputs": [
    {
     "name": "stdout",
     "output_type": "stream",
     "text": [
      "Step 1:\n",
      "=======\n",
      "Number of graphs in the current batch: 32\n",
      "DataBatch(edge_index=[2, 685682], num_nodes=98544, x=[98544, 5], pos=[98544, 2], node_types=[98544], label=[32], covid=[32], train_mask=[98544], test_mask=[98544], y=[32], name=[32], features=[32, 34], features_names=[32], batch=[98544], ptr=[33])\n",
      "\n"
     ]
    }
   ],
   "source": [
    "for step, data in enumerate(test_loader):\n",
    "    print(f'Step {step + 1}:')\n",
    "    print('=======')\n",
    "    print(f'Number of graphs in the current batch: {data.num_graphs}')\n",
    "    print(data)\n",
    "    print()\n",
    "    data.label\n",
    "    break"
   ]
  },
  {
   "cell_type": "code",
   "execution_count": 11,
   "id": "f2e342c6-3c47-4c9a-82c4-ce6b1c1c29c4",
   "metadata": {},
   "outputs": [
    {
     "data": {
      "text/plain": [
       "34"
      ]
     },
     "execution_count": 11,
     "metadata": {},
     "output_type": "execute_result"
    }
   ],
   "source": [
    "len(dataset[0].features[0])"
   ]
  },
  {
   "cell_type": "markdown",
   "id": "7cdfb7d5-9ec0-44b8-8ee1-af2532a61d6b",
   "metadata": {
    "tags": []
   },
   "source": [
    "# Train network K Fold"
   ]
  },
  {
   "cell_type": "code",
   "execution_count": 12,
   "id": "e9951d9a-9c8d-49e3-b6ba-449669e900b1",
   "metadata": {},
   "outputs": [],
   "source": [
    "from lightning.pytorch.accelerators import find_usable_cuda_devices\n",
    "import wandb"
   ]
  },
  {
   "cell_type": "code",
   "execution_count": 13,
   "id": "47b587a5-af10-4600-9dc2-891ad923c2af",
   "metadata": {},
   "outputs": [],
   "source": [
    "from sklearn.model_selection import KFold, StratifiedKFold, ShuffleSplit, StratifiedShuffleSplit\n",
    "from torch.utils.data import SubsetRandomSampler"
   ]
  },
  {
   "cell_type": "code",
   "execution_count": 14,
   "id": "dcc6f99a",
   "metadata": {},
   "outputs": [],
   "source": [
    "ys = [data.y.item() for data in dataset]"
   ]
  },
  {
   "cell_type": "code",
   "execution_count": 15,
   "id": "3263ef3c-9a03-4b76-b476-75f3901374e7",
   "metadata": {},
   "outputs": [],
   "source": [
    "# # Print K fold model number of samples and number of positive cases\n",
    "\n",
    "# k_folds = 5\n",
    "# kfold = StratifiedShuffleSplit(n_splits=k_folds, test_size=0.3, random_state=0)\n",
    "\n",
    "# for fold, (train_ids, valid_ids) in enumerate(kfold.split(dataset, ys)):\n",
    "#     train_subset = dataset.index_select(train_ids.tolist())\n",
    "#     val_subset = dataset.index_select(valid_ids.tolist())\n",
    "    \n",
    "#     train_loader = DataLoader(train_subset, batch_size=32, shuffle=True)\n",
    "#     val_loader = DataLoader(val_subset, batch_size=32, shuffle=False)\n",
    "    \n",
    "#     train_positives = 0\n",
    "#     test_positives = 0\n",
    "#     for step, data in enumerate(train_loader):\n",
    "#         train_positives += np.sum(data.y.numpy())\n",
    "#     for step, data in enumerate(val_loader):\n",
    "#         test_positives += np.sum(data.y.numpy())\n",
    "        \n",
    "#     print(len(train_subset), train_positives, len(val_subset), test_positives)"
   ]
  },
  {
   "cell_type": "code",
   "execution_count": 16,
   "id": "e85ccfab-112f-4ac3-9f25-93fc7ebbbb98",
   "metadata": {},
   "outputs": [],
   "source": [
    "condition = '082423_Covid'\n",
    "checkpoint_folder = (Path().cwd().parents[0]).absolute() / 'data' / \"saved_models\" / f\"Graph_GNNs_moprh_{condition}\" \n",
    "project_name = f'SF_{condition}'"
   ]
  },
  {
   "cell_type": "code",
   "execution_count": 17,
   "id": "e6d0a76d-a649-497b-a848-0a43a7d860f5",
   "metadata": {},
   "outputs": [
    {
     "name": "stderr",
     "output_type": "stream",
     "text": [
      "Global seed set to 42\n"
     ]
    }
   ],
   "source": [
    "AVAIL_GPUS = [0]\n",
    "\n",
    "# Setting the seed\n",
    "pl.seed_everything(42)\n",
    "\n",
    "NUM_LAYERS = 2\n",
    "HIDDEN_CHANNELS = 16\n",
    "# pools = ['mean', 'max', 'attention', 'attention2']\n",
    "# models = ['GCN', 'GraphConv', 'GAT', 'GINConv', 'SAGEConv']\n",
    "# pools = ['mean', 'max', 'attention2']\n",
    "pools = ['attention']\n",
    "models = ['GCN', 'GraphConv', 'GINConv']\n",
    "epochs = 100"
   ]
  },
  {
   "cell_type": "code",
   "execution_count": 19,
   "id": "c3908184-60cd-4d11-9bd3-44897ded1790",
   "metadata": {
    "tags": []
   },
   "outputs": [
    {
     "name": "stderr",
     "output_type": "stream",
     "text": [
      "Failed to detect the name of this notebook, you can set it manually with the WANDB_NOTEBOOK_NAME environment variable to enable code saving.\n",
      "\u001b[34m\u001b[1mwandb\u001b[0m: Currently logged in as: \u001b[33mthoomas\u001b[0m. Use \u001b[1m`wandb login --relogin`\u001b[0m to force relogin\n"
     ]
    },
    {
     "data": {
      "application/vnd.jupyter.widget-view+json": {
       "model_id": "e025a43129c74b248392bd8ebb4e2a75",
       "version_major": 2,
       "version_minor": 0
      },
      "text/plain": [
       "VBox(children=(Label(value='Waiting for wandb.init()...\\r'), FloatProgress(value=0.01693333333338766, max=1.0)…"
      ]
     },
     "metadata": {},
     "output_type": "display_data"
    },
    {
     "data": {
      "text/html": [
       "wandb version 0.15.8 is available!  To upgrade, please run:\n",
       " $ pip install wandb --upgrade"
      ],
      "text/plain": [
       "<IPython.core.display.HTML object>"
      ]
     },
     "metadata": {},
     "output_type": "display_data"
    },
    {
     "data": {
      "text/html": [
       "Tracking run with wandb version 0.14.0"
      ],
      "text/plain": [
       "<IPython.core.display.HTML object>"
      ]
     },
     "metadata": {},
     "output_type": "display_data"
    },
    {
     "data": {
      "text/html": [
       "Run data is saved locally in <code>Y:\\coskun-lab\\Thomas\\11_snowflakes\\notebooks\\wandb\\run-20230828_110752-er3m9l2l</code>"
      ],
      "text/plain": [
       "<IPython.core.display.HTML object>"
      ]
     },
     "metadata": {},
     "output_type": "display_data"
    },
    {
     "data": {
      "text/html": [
       "Syncing run <strong><a href='https://wandb.ai/thoomas/SF_082423_Covid/runs/er3m9l2l' target=\"_blank\">GCN_2_16_0_moprh</a></strong> to <a href='https://wandb.ai/thoomas/SF_082423_Covid' target=\"_blank\">Weights & Biases</a> (<a href='https://wandb.me/run' target=\"_blank\">docs</a>)<br/>"
      ],
      "text/plain": [
       "<IPython.core.display.HTML object>"
      ]
     },
     "metadata": {},
     "output_type": "display_data"
    },
    {
     "data": {
      "text/html": [
       " View project at <a href='https://wandb.ai/thoomas/SF_082423_Covid' target=\"_blank\">https://wandb.ai/thoomas/SF_082423_Covid</a>"
      ],
      "text/plain": [
       "<IPython.core.display.HTML object>"
      ]
     },
     "metadata": {},
     "output_type": "display_data"
    },
    {
     "data": {
      "text/html": [
       " View run at <a href='https://wandb.ai/thoomas/SF_082423_Covid/runs/er3m9l2l' target=\"_blank\">https://wandb.ai/thoomas/SF_082423_Covid/runs/er3m9l2l</a>"
      ],
      "text/plain": [
       "<IPython.core.display.HTML object>"
      ]
     },
     "metadata": {},
     "output_type": "display_data"
    },
    {
     "name": "stderr",
     "output_type": "stream",
     "text": [
      "Global seed set to 42\n",
      "C:\\Users\\thu71\\Anaconda3\\envs\\snowflake\\lib\\site-packages\\pytorch_lightning\\loggers\\wandb.py:395: UserWarning: There is a wandb run already in progress and newly created instances of `WandbLogger` will reuse this run. If this is not desired, call `wandb.finish()` before instantiating `WandbLogger`.\n",
      "  rank_zero_warn(\n",
      "GPU available: True (cuda), used: True\n",
      "TPU available: False, using: 0 TPU cores\n",
      "IPU available: False, using: 0 IPUs\n",
      "HPU available: False, using: 0 HPUs\n",
      "Global seed set to 42\n"
     ]
    },
    {
     "name": "stdout",
     "output_type": "stream",
     "text": [
      "Training with Morphological features\n"
     ]
    },
    {
     "name": "stderr",
     "output_type": "stream",
     "text": [
      "C:\\Users\\thu71\\Anaconda3\\envs\\snowflake\\lib\\site-packages\\torch_geometric\\deprecation.py:12: UserWarning: 'nn.glob.GlobalAttention' is deprecated, use 'nn.aggr.AttentionalAggregation' instead\n",
      "  warnings.warn(out)\n",
      "LOCAL_RANK: 0 - CUDA_VISIBLE_DEVICES: [0,1]\n",
      "\n",
      "   | Name           | Type             | Params\n",
      "-----------------------------------------------------\n",
      "0  | feat_embedding | Sequential       | 832   \n",
      "1  | model          | GNNModel         | 400   \n",
      "2  | head           | BilinearFusion   | 19.6 K\n",
      "3  | pred           | Linear           | 34    \n",
      "4  | fnn_layer      | Linear           | 272   \n",
      "5  | selu           | SELU             | 0     \n",
      "6  | loss_module    | CrossEntropyLoss | 0     \n",
      "7  | train_acc      | BinaryAccuracy   | 0     \n",
      "8  | train_auroc    | BinaryAUROC      | 0     \n",
      "9  | train_f1       | BinaryF1Score    | 0     \n",
      "10 | valid_acc      | BinaryAccuracy   | 0     \n",
      "11 | valid_auroc    | BinaryAUROC      | 0     \n",
      "12 | valid_f1       | BinaryF1Score    | 0     \n",
      "13 | pool           | GlobalAttention  | 17    \n",
      "-----------------------------------------------------\n",
      "21.2 K    Trainable params\n",
      "0         Non-trainable params\n",
      "21.2 K    Total params\n",
      "0.085     Total estimated model params size (MB)\n",
      "C:\\Users\\thu71\\AppData\\Roaming\\Python\\Python39\\site-packages\\lightning\\pytorch\\trainer\\connectors\\data_connector.py:478: PossibleUserWarning: Your `val_dataloader`'s sampler has shuffling enabled, it is strongly recommended that you turn shuffling off for val/test dataloaders.\n",
      "  rank_zero_warn(\n",
      "C:\\Users\\thu71\\AppData\\Roaming\\Python\\Python39\\site-packages\\lightning\\pytorch\\trainer\\connectors\\data_connector.py:430: PossibleUserWarning: The dataloader, val_dataloader, does not have many workers which may be a bottleneck. Consider increasing the value of the `num_workers` argument` (try 48 which is the number of cpus on this machine) in the `DataLoader` init to improve performance.\n",
      "  rank_zero_warn(\n",
      "C:\\Users\\thu71\\AppData\\Roaming\\Python\\Python39\\site-packages\\lightning\\pytorch\\utilities\\data.py:77: UserWarning: Trying to infer the `batch_size` from an ambiguous collection. The batch size we found is 2. To avoid any miscalculations, use `self.log(..., batch_size=batch_size)`.\n",
      "  warning_cache.warn(\n",
      "C:\\Users\\thu71\\AppData\\Roaming\\Python\\Python39\\site-packages\\lightning\\pytorch\\trainer\\connectors\\data_connector.py:430: PossibleUserWarning: The dataloader, train_dataloader, does not have many workers which may be a bottleneck. Consider increasing the value of the `num_workers` argument` (try 48 which is the number of cpus on this machine) in the `DataLoader` init to improve performance.\n",
      "  rank_zero_warn(\n",
      "C:\\Users\\thu71\\AppData\\Roaming\\Python\\Python39\\site-packages\\lightning\\pytorch\\loops\\fit_loop.py:280: PossibleUserWarning: The number of training batches (5) is smaller than the logging interval Trainer(log_every_n_steps=10). Set a lower value for log_every_n_steps if you want to see logs for the training epoch.\n",
      "  rank_zero_warn(\n",
      "C:\\Users\\thu71\\Anaconda3\\envs\\snowflake\\lib\\site-packages\\torchmetrics\\utilities\\prints.py:36: UserWarning: No negative samples in targets, false positive value should be meaningless. Returning zero tensor in false positive score\n",
      "  warnings.warn(*args, **kwargs)\n",
      "C:\\Users\\thu71\\Anaconda3\\envs\\snowflake\\lib\\site-packages\\torchmetrics\\utilities\\prints.py:36: UserWarning: No positive samples in targets, true positive value should be meaningless. Returning zero tensor in true positive score\n",
      "  warnings.warn(*args, **kwargs)\n",
      "C:\\Users\\thu71\\Anaconda3\\envs\\snowflake\\lib\\site-packages\\torchmetrics\\utilities\\prints.py:36: UserWarning: No negative samples in targets, false positive value should be meaningless. Returning zero tensor in false positive score\n",
      "  warnings.warn(*args, **kwargs)\n",
      "C:\\Users\\thu71\\Anaconda3\\envs\\snowflake\\lib\\site-packages\\torchmetrics\\utilities\\prints.py:36: UserWarning: No negative samples in targets, false positive value should be meaningless. Returning zero tensor in false positive score\n",
      "  warnings.warn(*args, **kwargs)\n",
      "`Trainer.fit` stopped: `max_epochs=100` reached.\n"
     ]
    },
    {
     "data": {
      "text/html": [
       "Waiting for W&B process to finish... <strong style=\"color:green\">(success).</strong>"
      ],
      "text/plain": [
       "<IPython.core.display.HTML object>"
      ]
     },
     "metadata": {},
     "output_type": "display_data"
    },
    {
     "data": {
      "application/vnd.jupyter.widget-view+json": {
       "model_id": "32e91677025f4704b5e7f5258af03788",
       "version_major": 2,
       "version_minor": 0
      },
      "text/plain": [
       "VBox(children=(Label(value='0.001 MB of 0.001 MB uploaded (0.000 MB deduped)\\r'), FloatProgress(value=1.0, max…"
      ]
     },
     "metadata": {},
     "output_type": "display_data"
    },
    {
     "data": {
      "text/html": [
       "<style>\n",
       "    table.wandb td:nth-child(1) { padding: 0 10px; text-align: left ; width: auto;} td:nth-child(2) {text-align: left ; width: 100%}\n",
       "    .wandb-row { display: flex; flex-direction: row; flex-wrap: wrap; justify-content: flex-start; width: 100% }\n",
       "    .wandb-col { display: flex; flex-direction: column; flex-basis: 100%; flex: 1; padding: 10px; }\n",
       "    </style>\n",
       "<div class=\"wandb-row\"><div class=\"wandb-col\"><h3>Run history:</h3><br/><table class=\"wandb\"><tr><td>epoch</td><td>▁▁▁▁▂▂▂▂▂▃▃▃▃▃▃▄▄▄▄▄▅▅▅▅▅▅▆▆▆▆▆▇▇▇▇▇▇███</td></tr><tr><td>lr-Adam</td><td>▁▁▁▁▁▁▁▁▁▁▁▁▁▁▁▁▁▁▁▁▁▁▁▁▁▁▁▁▁▁▁▁▁▁▁▁▁▁▁▁</td></tr><tr><td>train_acc</td><td>▁▄▄▅▅▆▆▇▇▇▇▇▇▇█▇█▇▇▇▇▇▇▇▇██████████▇██▇▇</td></tr><tr><td>train_auc</td><td>▁▃▅▅▆▆▇▇▇▇▇█▇▇▇█▇█▇▇██▇▇▇▇█▇▇▇▇▇▇▇▇▇█▇▇█</td></tr><tr><td>train_f1</td><td>▁▃▃▄▄▅▆▆▆▆▆▆▇▆▇▇▇▇▇▅▆▇▇▇▇▇▇▇██▇█▇▇▇▇██▇▆</td></tr><tr><td>train_loss_epoch</td><td>█▇▅▅▄▃▃▂▂▃▂▂▂▂▂▂▂▂▂▃▂▃▂▂▂▁▁▁▁▁▂▁▁▁▁▂▁▁▂▂</td></tr><tr><td>train_loss_step</td><td>█▇█▇▄▇▃▃▄▅▃▃▄▅▄▄▃▃▅▃▆▅▅▆▆▄▅▄▁▄▄▄▅▄▅▇▆▅▅▂</td></tr><tr><td>trainer/global_step</td><td>▁▁▁▁▂▁▂▂▂▂▃▂▃▃▂▄▃▄▃▄▃▅▃▅▄▆▄▆▄▆▄▇▇▅▇▅█▅█▅</td></tr><tr><td>val_acc</td><td>▃▁▄▅▅▇▆▇▇▇▆▇▇█▆▆▆▆▇▇▇▇█▇▇▇█▇▇▆▇▇▇██▆▆▇▇▆</td></tr><tr><td>val_auc</td><td>▁▃▄▅▅▆▇▆███████▇▇▇▇█▇▇▇▇▇▇█▆▆▇▆▆▆▆▆▇▆▆▆▇</td></tr><tr><td>val_f1</td><td>▇▁▅▅▅▆▆▆▇▆▆▇▆▇▇▇▅▅▇▇▇▇█▇▇▇█▇▇▇█▇▇██▆▆▇▇▆</td></tr><tr><td>val_loss_epoch</td><td>▆█▄▄▄▅▆▄▃▃▃▄▁▃▃▅▄▅▄▃▆▁▄▅▃▅▁▆▃▂▃▆▃▃▃▃▅▃▄▂</td></tr><tr><td>val_loss_step</td><td>▆▆▆▄▅▅█▄▄▅▄▅▅▄▄▅▅▆▅▅▄▅▅▅▅▆▅▄▄▅▄▄▅▄▅▅▆▄▅▁</td></tr></table><br/></div><div class=\"wandb-col\"><h3>Run summary:</h3><br/><table class=\"wandb\"><tr><td>epoch</td><td>99</td></tr><tr><td>lr-Adam</td><td>0.005</td></tr><tr><td>train_acc</td><td>0.77994</td></tr><tr><td>train_auc</td><td>0.83656</td></tr><tr><td>train_f1</td><td>0.81915</td></tr><tr><td>train_loss_epoch</td><td>0.52083</td></tr><tr><td>train_loss_step</td><td>0.42583</td></tr><tr><td>trainer/global_step</td><td>499</td></tr><tr><td>val_acc</td><td>0.68421</td></tr><tr><td>val_auc</td><td>0.74573</td></tr><tr><td>val_f1</td><td>0.73418</td></tr><tr><td>val_loss_epoch</td><td>0.52667</td></tr><tr><td>val_loss_step</td><td>0.31337</td></tr></table><br/></div></div>"
      ],
      "text/plain": [
       "<IPython.core.display.HTML object>"
      ]
     },
     "metadata": {},
     "output_type": "display_data"
    },
    {
     "data": {
      "text/html": [
       " View run <strong style=\"color:#cdcd00\">GCN_2_16_0_moprh</strong> at: <a href='https://wandb.ai/thoomas/SF_082423_Covid/runs/er3m9l2l' target=\"_blank\">https://wandb.ai/thoomas/SF_082423_Covid/runs/er3m9l2l</a><br/>Synced 5 W&B file(s), 0 media file(s), 0 artifact file(s) and 0 other file(s)"
      ],
      "text/plain": [
       "<IPython.core.display.HTML object>"
      ]
     },
     "metadata": {},
     "output_type": "display_data"
    },
    {
     "data": {
      "text/html": [
       "Find logs at: <code>.\\wandb\\run-20230828_110752-er3m9l2l\\logs</code>"
      ],
      "text/plain": [
       "<IPython.core.display.HTML object>"
      ]
     },
     "metadata": {},
     "output_type": "display_data"
    },
    {
     "data": {
      "application/vnd.jupyter.widget-view+json": {
       "model_id": "48907808e12c47c8bf52a5c5aeaa3947",
       "version_major": 2,
       "version_minor": 0
      },
      "text/plain": [
       "VBox(children=(Label(value='Waiting for wandb.init()...\\r'), FloatProgress(value=0.016916666666899498, max=1.0…"
      ]
     },
     "metadata": {},
     "output_type": "display_data"
    },
    {
     "data": {
      "text/html": [
       "wandb version 0.15.8 is available!  To upgrade, please run:\n",
       " $ pip install wandb --upgrade"
      ],
      "text/plain": [
       "<IPython.core.display.HTML object>"
      ]
     },
     "metadata": {},
     "output_type": "display_data"
    },
    {
     "data": {
      "text/html": [
       "Tracking run with wandb version 0.14.0"
      ],
      "text/plain": [
       "<IPython.core.display.HTML object>"
      ]
     },
     "metadata": {},
     "output_type": "display_data"
    },
    {
     "data": {
      "text/html": [
       "Run data is saved locally in <code>Y:\\coskun-lab\\Thomas\\11_snowflakes\\notebooks\\wandb\\run-20230828_132746-bgyswhee</code>"
      ],
      "text/plain": [
       "<IPython.core.display.HTML object>"
      ]
     },
     "metadata": {},
     "output_type": "display_data"
    },
    {
     "data": {
      "text/html": [
       "Syncing run <strong><a href='https://wandb.ai/thoomas/SF_082423_Covid/runs/bgyswhee' target=\"_blank\">GraphConv_2_16_0_moprh</a></strong> to <a href='https://wandb.ai/thoomas/SF_082423_Covid' target=\"_blank\">Weights & Biases</a> (<a href='https://wandb.me/run' target=\"_blank\">docs</a>)<br/>"
      ],
      "text/plain": [
       "<IPython.core.display.HTML object>"
      ]
     },
     "metadata": {},
     "output_type": "display_data"
    },
    {
     "data": {
      "text/html": [
       " View project at <a href='https://wandb.ai/thoomas/SF_082423_Covid' target=\"_blank\">https://wandb.ai/thoomas/SF_082423_Covid</a>"
      ],
      "text/plain": [
       "<IPython.core.display.HTML object>"
      ]
     },
     "metadata": {},
     "output_type": "display_data"
    },
    {
     "data": {
      "text/html": [
       " View run at <a href='https://wandb.ai/thoomas/SF_082423_Covid/runs/bgyswhee' target=\"_blank\">https://wandb.ai/thoomas/SF_082423_Covid/runs/bgyswhee</a>"
      ],
      "text/plain": [
       "<IPython.core.display.HTML object>"
      ]
     },
     "metadata": {},
     "output_type": "display_data"
    },
    {
     "name": "stderr",
     "output_type": "stream",
     "text": [
      "Global seed set to 42\n",
      "C:\\Users\\thu71\\Anaconda3\\envs\\snowflake\\lib\\site-packages\\pytorch_lightning\\loggers\\wandb.py:395: UserWarning: There is a wandb run already in progress and newly created instances of `WandbLogger` will reuse this run. If this is not desired, call `wandb.finish()` before instantiating `WandbLogger`.\n",
      "  rank_zero_warn(\n",
      "GPU available: True (cuda), used: True\n",
      "TPU available: False, using: 0 TPU cores\n",
      "IPU available: False, using: 0 IPUs\n",
      "HPU available: False, using: 0 HPUs\n",
      "Global seed set to 42\n"
     ]
    },
    {
     "name": "stdout",
     "output_type": "stream",
     "text": [
      "Training with Morphological features\n"
     ]
    },
    {
     "name": "stderr",
     "output_type": "stream",
     "text": [
      "C:\\Users\\thu71\\Anaconda3\\envs\\snowflake\\lib\\site-packages\\torch_geometric\\deprecation.py:12: UserWarning: 'nn.glob.GlobalAttention' is deprecated, use 'nn.aggr.AttentionalAggregation' instead\n",
      "  warnings.warn(out)\n",
      "LOCAL_RANK: 0 - CUDA_VISIBLE_DEVICES: [0,1]\n",
      "\n",
      "   | Name           | Type             | Params\n",
      "-----------------------------------------------------\n",
      "0  | feat_embedding | Sequential       | 832   \n",
      "1  | model          | GNNModel         | 736   \n",
      "2  | head           | BilinearFusion   | 19.6 K\n",
      "3  | pred           | Linear           | 34    \n",
      "4  | fnn_layer      | Linear           | 272   \n",
      "5  | selu           | SELU             | 0     \n",
      "6  | loss_module    | CrossEntropyLoss | 0     \n",
      "7  | train_acc      | BinaryAccuracy   | 0     \n",
      "8  | train_auroc    | BinaryAUROC      | 0     \n",
      "9  | train_f1       | BinaryF1Score    | 0     \n",
      "10 | valid_acc      | BinaryAccuracy   | 0     \n",
      "11 | valid_auroc    | BinaryAUROC      | 0     \n",
      "12 | valid_f1       | BinaryF1Score    | 0     \n",
      "13 | pool           | GlobalAttention  | 17    \n",
      "-----------------------------------------------------\n",
      "21.5 K    Trainable params\n",
      "0         Non-trainable params\n",
      "21.5 K    Total params\n",
      "0.086     Total estimated model params size (MB)\n",
      "C:\\Users\\thu71\\AppData\\Roaming\\Python\\Python39\\site-packages\\lightning\\pytorch\\trainer\\connectors\\data_connector.py:478: PossibleUserWarning: Your `val_dataloader`'s sampler has shuffling enabled, it is strongly recommended that you turn shuffling off for val/test dataloaders.\n",
      "  rank_zero_warn(\n",
      "C:\\Users\\thu71\\AppData\\Roaming\\Python\\Python39\\site-packages\\lightning\\pytorch\\trainer\\connectors\\data_connector.py:430: PossibleUserWarning: The dataloader, val_dataloader, does not have many workers which may be a bottleneck. Consider increasing the value of the `num_workers` argument` (try 48 which is the number of cpus on this machine) in the `DataLoader` init to improve performance.\n",
      "  rank_zero_warn(\n",
      "C:\\Users\\thu71\\AppData\\Roaming\\Python\\Python39\\site-packages\\lightning\\pytorch\\trainer\\connectors\\data_connector.py:430: PossibleUserWarning: The dataloader, train_dataloader, does not have many workers which may be a bottleneck. Consider increasing the value of the `num_workers` argument` (try 48 which is the number of cpus on this machine) in the `DataLoader` init to improve performance.\n",
      "  rank_zero_warn(\n",
      "C:\\Users\\thu71\\AppData\\Roaming\\Python\\Python39\\site-packages\\lightning\\pytorch\\loops\\fit_loop.py:280: PossibleUserWarning: The number of training batches (5) is smaller than the logging interval Trainer(log_every_n_steps=10). Set a lower value for log_every_n_steps if you want to see logs for the training epoch.\n",
      "  rank_zero_warn(\n",
      "C:\\Users\\thu71\\Anaconda3\\envs\\snowflake\\lib\\site-packages\\torchmetrics\\utilities\\prints.py:36: UserWarning: No positive samples in targets, true positive value should be meaningless. Returning zero tensor in true positive score\n",
      "  warnings.warn(*args, **kwargs)\n",
      "C:\\Users\\thu71\\Anaconda3\\envs\\snowflake\\lib\\site-packages\\torchmetrics\\utilities\\prints.py:36: UserWarning: No negative samples in targets, false positive value should be meaningless. Returning zero tensor in false positive score\n",
      "  warnings.warn(*args, **kwargs)\n",
      "C:\\Users\\thu71\\Anaconda3\\envs\\snowflake\\lib\\site-packages\\torchmetrics\\utilities\\prints.py:36: UserWarning: No negative samples in targets, false positive value should be meaningless. Returning zero tensor in false positive score\n",
      "  warnings.warn(*args, **kwargs)\n",
      "C:\\Users\\thu71\\Anaconda3\\envs\\snowflake\\lib\\site-packages\\torchmetrics\\utilities\\prints.py:36: UserWarning: No positive samples in targets, true positive value should be meaningless. Returning zero tensor in true positive score\n",
      "  warnings.warn(*args, **kwargs)\n",
      "C:\\Users\\thu71\\Anaconda3\\envs\\snowflake\\lib\\site-packages\\torchmetrics\\utilities\\prints.py:36: UserWarning: No negative samples in targets, false positive value should be meaningless. Returning zero tensor in false positive score\n",
      "  warnings.warn(*args, **kwargs)\n",
      "`Trainer.fit` stopped: `max_epochs=100` reached.\n"
     ]
    },
    {
     "data": {
      "text/html": [
       "Waiting for W&B process to finish... <strong style=\"color:green\">(success).</strong>"
      ],
      "text/plain": [
       "<IPython.core.display.HTML object>"
      ]
     },
     "metadata": {},
     "output_type": "display_data"
    },
    {
     "data": {
      "application/vnd.jupyter.widget-view+json": {
       "model_id": "35891cddc28040808c1a1ba9b2f10919",
       "version_major": 2,
       "version_minor": 0
      },
      "text/plain": [
       "VBox(children=(Label(value='0.001 MB of 0.001 MB uploaded (0.000 MB deduped)\\r'), FloatProgress(value=1.0, max…"
      ]
     },
     "metadata": {},
     "output_type": "display_data"
    },
    {
     "data": {
      "text/html": [
       "<style>\n",
       "    table.wandb td:nth-child(1) { padding: 0 10px; text-align: left ; width: auto;} td:nth-child(2) {text-align: left ; width: 100%}\n",
       "    .wandb-row { display: flex; flex-direction: row; flex-wrap: wrap; justify-content: flex-start; width: 100% }\n",
       "    .wandb-col { display: flex; flex-direction: column; flex-basis: 100%; flex: 1; padding: 10px; }\n",
       "    </style>\n",
       "<div class=\"wandb-row\"><div class=\"wandb-col\"><h3>Run history:</h3><br/><table class=\"wandb\"><tr><td>epoch</td><td>▁▁▁▁▂▂▂▂▂▃▃▃▃▃▃▄▄▄▄▄▅▅▅▅▅▅▆▆▆▆▆▇▇▇▇▇▇███</td></tr><tr><td>lr-Adam</td><td>▁▁▁▁▁▁▁▁▁▁▁▁▁▁▁▁▁▁▁▁▁▁▁▁▁▁▁▁▁▁▁▁▁▁▁▁▁▁▁▁</td></tr><tr><td>train_acc</td><td>▁▄▄▄▅▅▅▆▆▆▆▆▇▇▇▆▇▇▇▆▇▇▇▇▇█▇█▇▇▇███▇▇▇███</td></tr><tr><td>train_auc</td><td>▁▅▅▅▆▆▆▆▇▇▇▇▇█▇▇▇▇█▇▇█▇█▇█▇█▇▇█████▇▇███</td></tr><tr><td>train_f1</td><td>▁▃▃▃▄▃▄▅▅▅▅▄▆▇▇▆▆▅▇▅▇▇▇▇▆▇▇█▆▇▇███▆▇▇█▇▇</td></tr><tr><td>train_loss_epoch</td><td>█▅▅▅▄▄▄▄▃▄▃▃▃▂▂▃▂▂▂▃▂▂▂▂▂▁▂▂▂▂▂▁▁▁▂▂▂▁▁▁</td></tr><tr><td>train_loss_step</td><td>██▅▃▆▆▅▂▃▃▆▅▂▂▃▆▁▃▂▃▃▄▃▄▂▄▅▂▄▂▃▁▁▁▃▃▄▂▄▃</td></tr><tr><td>trainer/global_step</td><td>▁▁▁▁▂▁▂▂▂▂▃▂▃▃▂▄▃▄▃▄▃▅▃▅▄▆▄▆▄▆▄▇▇▅▇▅█▅█▅</td></tr><tr><td>val_acc</td><td>▁▃▃▄▄▅▅▃▄▄▄▅▆██▆▇█▇▅▆▇▆▇▅▆▇▅▆▆▅▆▇█▇▅▄▆▆▆</td></tr><tr><td>val_auc</td><td>▁▄▃▄▅▅▆▅▅▆▆▇▇▇▇▇▇██▇▇▇██▇▆▇▇▆▇▆▆██▇▇▆▇▆▇</td></tr><tr><td>val_f1</td><td>▄▁▁▃▄▄▅▄▄▄▅▆▆▇▇▆▇▇▇▅▆▇▇▇▆▆▇▆▆▆▅▆▇█▇▆▆▆▆▆</td></tr><tr><td>val_loss_epoch</td><td>▇▅▆▃▄▄█▅▇▄▂▅▅▁▂▄▃▂▂▆▁▃▁▃▆▃▅▄█▄▄▂▂▄▃▄▅▃▄▂</td></tr><tr><td>val_loss_step</td><td>▄▄▅▁▄▄▇▄▄▃▃▅▄▄▃▄▃▃▄▄▃▃▁▄▄▃▄▄█▃▇▄▄▅▄▃▃▄▄▁</td></tr></table><br/></div><div class=\"wandb-col\"><h3>Run summary:</h3><br/><table class=\"wandb\"><tr><td>epoch</td><td>99</td></tr><tr><td>lr-Adam</td><td>0.005</td></tr><tr><td>train_acc</td><td>0.86731</td></tr><tr><td>train_auc</td><td>0.93077</td></tr><tr><td>train_f1</td><td>0.88385</td></tr><tr><td>train_loss_epoch</td><td>0.43892</td></tr><tr><td>train_loss_step</td><td>0.4556</td></tr><tr><td>trainer/global_step</td><td>499</td></tr><tr><td>val_acc</td><td>0.73684</td></tr><tr><td>val_auc</td><td>0.81729</td></tr><tr><td>val_f1</td><td>0.79532</td></tr><tr><td>val_loss_epoch</td><td>0.49197</td></tr><tr><td>val_loss_step</td><td>0.32143</td></tr></table><br/></div></div>"
      ],
      "text/plain": [
       "<IPython.core.display.HTML object>"
      ]
     },
     "metadata": {},
     "output_type": "display_data"
    },
    {
     "data": {
      "text/html": [
       " View run <strong style=\"color:#cdcd00\">GraphConv_2_16_0_moprh</strong> at: <a href='https://wandb.ai/thoomas/SF_082423_Covid/runs/bgyswhee' target=\"_blank\">https://wandb.ai/thoomas/SF_082423_Covid/runs/bgyswhee</a><br/>Synced 5 W&B file(s), 0 media file(s), 0 artifact file(s) and 0 other file(s)"
      ],
      "text/plain": [
       "<IPython.core.display.HTML object>"
      ]
     },
     "metadata": {},
     "output_type": "display_data"
    },
    {
     "data": {
      "text/html": [
       "Find logs at: <code>.\\wandb\\run-20230828_132746-bgyswhee\\logs</code>"
      ],
      "text/plain": [
       "<IPython.core.display.HTML object>"
      ]
     },
     "metadata": {},
     "output_type": "display_data"
    },
    {
     "data": {
      "application/vnd.jupyter.widget-view+json": {
       "model_id": "fb04cb61856d49c69df9c75c664500da",
       "version_major": 2,
       "version_minor": 0
      },
      "text/plain": [
       "VBox(children=(Label(value='Waiting for wandb.init()...\\r'), FloatProgress(value=0.016666666666666666, max=1.0…"
      ]
     },
     "metadata": {},
     "output_type": "display_data"
    },
    {
     "data": {
      "text/html": [
       "wandb version 0.15.8 is available!  To upgrade, please run:\n",
       " $ pip install wandb --upgrade"
      ],
      "text/plain": [
       "<IPython.core.display.HTML object>"
      ]
     },
     "metadata": {},
     "output_type": "display_data"
    },
    {
     "data": {
      "text/html": [
       "Tracking run with wandb version 0.14.0"
      ],
      "text/plain": [
       "<IPython.core.display.HTML object>"
      ]
     },
     "metadata": {},
     "output_type": "display_data"
    },
    {
     "data": {
      "text/html": [
       "Run data is saved locally in <code>Y:\\coskun-lab\\Thomas\\11_snowflakes\\notebooks\\wandb\\run-20230828_141117-xcok0zu9</code>"
      ],
      "text/plain": [
       "<IPython.core.display.HTML object>"
      ]
     },
     "metadata": {},
     "output_type": "display_data"
    },
    {
     "data": {
      "text/html": [
       "Syncing run <strong><a href='https://wandb.ai/thoomas/SF_082423_Covid/runs/xcok0zu9' target=\"_blank\">GINConv_2_16_0_moprh</a></strong> to <a href='https://wandb.ai/thoomas/SF_082423_Covid' target=\"_blank\">Weights & Biases</a> (<a href='https://wandb.me/run' target=\"_blank\">docs</a>)<br/>"
      ],
      "text/plain": [
       "<IPython.core.display.HTML object>"
      ]
     },
     "metadata": {},
     "output_type": "display_data"
    },
    {
     "data": {
      "text/html": [
       " View project at <a href='https://wandb.ai/thoomas/SF_082423_Covid' target=\"_blank\">https://wandb.ai/thoomas/SF_082423_Covid</a>"
      ],
      "text/plain": [
       "<IPython.core.display.HTML object>"
      ]
     },
     "metadata": {},
     "output_type": "display_data"
    },
    {
     "data": {
      "text/html": [
       " View run at <a href='https://wandb.ai/thoomas/SF_082423_Covid/runs/xcok0zu9' target=\"_blank\">https://wandb.ai/thoomas/SF_082423_Covid/runs/xcok0zu9</a>"
      ],
      "text/plain": [
       "<IPython.core.display.HTML object>"
      ]
     },
     "metadata": {},
     "output_type": "display_data"
    },
    {
     "name": "stderr",
     "output_type": "stream",
     "text": [
      "Global seed set to 42\n",
      "C:\\Users\\thu71\\Anaconda3\\envs\\snowflake\\lib\\site-packages\\pytorch_lightning\\loggers\\wandb.py:395: UserWarning: There is a wandb run already in progress and newly created instances of `WandbLogger` will reuse this run. If this is not desired, call `wandb.finish()` before instantiating `WandbLogger`.\n",
      "  rank_zero_warn(\n",
      "GPU available: True (cuda), used: True\n",
      "TPU available: False, using: 0 TPU cores\n",
      "IPU available: False, using: 0 IPUs\n",
      "HPU available: False, using: 0 HPUs\n",
      "Global seed set to 42\n",
      "C:\\Users\\thu71\\Anaconda3\\envs\\snowflake\\lib\\site-packages\\torch_geometric\\deprecation.py:12: UserWarning: 'nn.glob.GlobalAttention' is deprecated, use 'nn.aggr.AttentionalAggregation' instead\n",
      "  warnings.warn(out)\n",
      "LOCAL_RANK: 0 - CUDA_VISIBLE_DEVICES: [0,1]\n",
      "\n",
      "   | Name           | Type             | Params\n",
      "-----------------------------------------------------\n",
      "0  | feat_embedding | Sequential       | 832   \n",
      "1  | model          | GIN              | 1.0 K \n",
      "2  | head           | BilinearFusion   | 19.6 K\n",
      "3  | pred           | Linear           | 34    \n",
      "4  | fnn_layer      | Linear           | 272   \n",
      "5  | selu           | SELU             | 0     \n",
      "6  | loss_module    | CrossEntropyLoss | 0     \n",
      "7  | train_acc      | BinaryAccuracy   | 0     \n",
      "8  | train_auroc    | BinaryAUROC      | 0     \n",
      "9  | train_f1       | BinaryF1Score    | 0     \n",
      "10 | valid_acc      | BinaryAccuracy   | 0     \n",
      "11 | valid_auroc    | BinaryAUROC      | 0     \n",
      "12 | valid_f1       | BinaryF1Score    | 0     \n",
      "13 | pool           | GlobalAttention  | 17    \n",
      "-----------------------------------------------------\n",
      "21.8 K    Trainable params\n",
      "0         Non-trainable params\n",
      "21.8 K    Total params\n",
      "0.087     Total estimated model params size (MB)\n",
      "C:\\Users\\thu71\\AppData\\Roaming\\Python\\Python39\\site-packages\\lightning\\pytorch\\trainer\\connectors\\data_connector.py:478: PossibleUserWarning: Your `val_dataloader`'s sampler has shuffling enabled, it is strongly recommended that you turn shuffling off for val/test dataloaders.\n",
      "  rank_zero_warn(\n",
      "C:\\Users\\thu71\\AppData\\Roaming\\Python\\Python39\\site-packages\\lightning\\pytorch\\trainer\\connectors\\data_connector.py:430: PossibleUserWarning: The dataloader, val_dataloader, does not have many workers which may be a bottleneck. Consider increasing the value of the `num_workers` argument` (try 48 which is the number of cpus on this machine) in the `DataLoader` init to improve performance.\n",
      "  rank_zero_warn(\n"
     ]
    },
    {
     "name": "stdout",
     "output_type": "stream",
     "text": [
      "Training with Morphological features\n"
     ]
    },
    {
     "name": "stderr",
     "output_type": "stream",
     "text": [
      "C:\\Users\\thu71\\AppData\\Roaming\\Python\\Python39\\site-packages\\lightning\\pytorch\\trainer\\connectors\\data_connector.py:430: PossibleUserWarning: The dataloader, train_dataloader, does not have many workers which may be a bottleneck. Consider increasing the value of the `num_workers` argument` (try 48 which is the number of cpus on this machine) in the `DataLoader` init to improve performance.\n",
      "  rank_zero_warn(\n",
      "C:\\Users\\thu71\\AppData\\Roaming\\Python\\Python39\\site-packages\\lightning\\pytorch\\loops\\fit_loop.py:280: PossibleUserWarning: The number of training batches (5) is smaller than the logging interval Trainer(log_every_n_steps=10). Set a lower value for log_every_n_steps if you want to see logs for the training epoch.\n",
      "  rank_zero_warn(\n",
      "C:\\Users\\thu71\\Anaconda3\\envs\\snowflake\\lib\\site-packages\\torchmetrics\\utilities\\prints.py:36: UserWarning: No negative samples in targets, false positive value should be meaningless. Returning zero tensor in false positive score\n",
      "  warnings.warn(*args, **kwargs)\n",
      "C:\\Users\\thu71\\Anaconda3\\envs\\snowflake\\lib\\site-packages\\torchmetrics\\utilities\\prints.py:36: UserWarning: No negative samples in targets, false positive value should be meaningless. Returning zero tensor in false positive score\n",
      "  warnings.warn(*args, **kwargs)\n",
      "C:\\Users\\thu71\\Anaconda3\\envs\\snowflake\\lib\\site-packages\\torchmetrics\\utilities\\prints.py:36: UserWarning: No negative samples in targets, false positive value should be meaningless. Returning zero tensor in false positive score\n",
      "  warnings.warn(*args, **kwargs)\n",
      "C:\\Users\\thu71\\Anaconda3\\envs\\snowflake\\lib\\site-packages\\torchmetrics\\utilities\\prints.py:36: UserWarning: No positive samples in targets, true positive value should be meaningless. Returning zero tensor in true positive score\n",
      "  warnings.warn(*args, **kwargs)\n",
      "C:\\Users\\thu71\\Anaconda3\\envs\\snowflake\\lib\\site-packages\\torchmetrics\\utilities\\prints.py:36: UserWarning: No negative samples in targets, false positive value should be meaningless. Returning zero tensor in false positive score\n",
      "  warnings.warn(*args, **kwargs)\n",
      "C:\\Users\\thu71\\Anaconda3\\envs\\snowflake\\lib\\site-packages\\torchmetrics\\utilities\\prints.py:36: UserWarning: No negative samples in targets, false positive value should be meaningless. Returning zero tensor in false positive score\n",
      "  warnings.warn(*args, **kwargs)\n",
      "C:\\Users\\thu71\\Anaconda3\\envs\\snowflake\\lib\\site-packages\\torchmetrics\\utilities\\prints.py:36: UserWarning: No positive samples in targets, true positive value should be meaningless. Returning zero tensor in true positive score\n",
      "  warnings.warn(*args, **kwargs)\n",
      "C:\\Users\\thu71\\Anaconda3\\envs\\snowflake\\lib\\site-packages\\torchmetrics\\utilities\\prints.py:36: UserWarning: No negative samples in targets, false positive value should be meaningless. Returning zero tensor in false positive score\n",
      "  warnings.warn(*args, **kwargs)\n",
      "C:\\Users\\thu71\\Anaconda3\\envs\\snowflake\\lib\\site-packages\\torchmetrics\\utilities\\prints.py:36: UserWarning: No negative samples in targets, false positive value should be meaningless. Returning zero tensor in false positive score\n",
      "  warnings.warn(*args, **kwargs)\n",
      "C:\\Users\\thu71\\Anaconda3\\envs\\snowflake\\lib\\site-packages\\torchmetrics\\utilities\\prints.py:36: UserWarning: No positive samples in targets, true positive value should be meaningless. Returning zero tensor in true positive score\n",
      "  warnings.warn(*args, **kwargs)\n",
      "C:\\Users\\thu71\\Anaconda3\\envs\\snowflake\\lib\\site-packages\\torchmetrics\\utilities\\prints.py:36: UserWarning: No positive samples in targets, true positive value should be meaningless. Returning zero tensor in true positive score\n",
      "  warnings.warn(*args, **kwargs)\n",
      "`Trainer.fit` stopped: `max_epochs=100` reached.\n"
     ]
    },
    {
     "data": {
      "text/html": [
       "Waiting for W&B process to finish... <strong style=\"color:green\">(success).</strong>"
      ],
      "text/plain": [
       "<IPython.core.display.HTML object>"
      ]
     },
     "metadata": {},
     "output_type": "display_data"
    },
    {
     "data": {
      "application/vnd.jupyter.widget-view+json": {
       "model_id": "7f09616aa1024242be511edfa6e1967f",
       "version_major": 2,
       "version_minor": 0
      },
      "text/plain": [
       "VBox(children=(Label(value='0.001 MB of 0.001 MB uploaded (0.000 MB deduped)\\r'), FloatProgress(value=1.0, max…"
      ]
     },
     "metadata": {},
     "output_type": "display_data"
    },
    {
     "data": {
      "text/html": [
       "<style>\n",
       "    table.wandb td:nth-child(1) { padding: 0 10px; text-align: left ; width: auto;} td:nth-child(2) {text-align: left ; width: 100%}\n",
       "    .wandb-row { display: flex; flex-direction: row; flex-wrap: wrap; justify-content: flex-start; width: 100% }\n",
       "    .wandb-col { display: flex; flex-direction: column; flex-basis: 100%; flex: 1; padding: 10px; }\n",
       "    </style>\n",
       "<div class=\"wandb-row\"><div class=\"wandb-col\"><h3>Run history:</h3><br/><table class=\"wandb\"><tr><td>epoch</td><td>▁▁▁▁▂▂▂▂▂▃▃▃▃▃▃▄▄▄▄▄▅▅▅▅▅▅▆▆▆▆▆▇▇▇▇▇▇███</td></tr><tr><td>lr-Adam</td><td>▁▁▁▁▁▁▁▁▁▁▁▁▁▁▁▁▁▁▁▁▁▁▁▁▁▁▁▁▁▁▁▁▁▁▁▁▁▁▁▁</td></tr><tr><td>train_acc</td><td>▁▁▅▅▅▅▆▆▆▇▇▇▇▇▇▇▇▇▇▇█▇▇▇█▇▇█▇▇▇▇▇▇██████</td></tr><tr><td>train_auc</td><td>▁▃▅▆▆▇▇▇▇▇▇██▇████████▇█████▇▇██████████</td></tr><tr><td>train_f1</td><td>▁▁▄▄▄▅▅▅▅▇▆▆▇▆▇▆▇▇▇▇▇▆▇▇█▇▇█▇▆▇▇▆▇██████</td></tr><tr><td>train_loss_epoch</td><td>██▅▅▄▄▃▃▃▂▂▂▂▂▂▂▂▂▂▁▁▂▂▂▁▂▂▁▂▂▂▂▂▂▁▁▁▁▁▁</td></tr><tr><td>train_loss_step</td><td>█▇▅▆▅▄▃▄▄▃▃▃▂▂▂▁▂▃▄▂▃▃▂▂▃▃▃▃▃▃▃▁▄▂▁▅▂▁▂▂</td></tr><tr><td>trainer/global_step</td><td>▁▁▁▁▂▁▂▂▂▂▃▂▃▃▂▄▃▄▃▄▃▅▃▅▄▆▄▆▄▆▄▇▇▅▇▅█▅█▅</td></tr><tr><td>val_acc</td><td>▁▁▄▅▅▆▄▆▆▆▇▆▅▇▆▆▆▇▆▇▇▆▇▆▇▇▇██▆▆█▆▇▇▇▆▇█▇</td></tr><tr><td>val_auc</td><td>▁▂▄▅▆▇▆▇▇▆▇▇▆▇▇▇▇▇▇█▇▇▇▇▇▇▇▇▇▇▇█▇▇█▇▇▇██</td></tr><tr><td>val_f1</td><td>▂▂▃▄▄▅▁▅▄▄▆▆▂▆▅▅▅▆▅▇▆▆▆▅▆▇▇██▆▆▇▅▇▆▆▅▆█▆</td></tr><tr><td>val_loss_epoch</td><td>▇█▇▄▄▃▄▅▃▂▂▃▄▁▃▃█▃▄▃▃▃▅▃▃▁▁▂▂▃▂▂▄▁▃▂▇▃▁▁</td></tr><tr><td>val_loss_step</td><td>▅▅▅▃▃▄▃▄▃▁▃▃▄▂▃▃▃▃▄▃▃▃▆▃▃▁▃▃▃▃▃▂▃▁▃▃█▃▃▁</td></tr></table><br/></div><div class=\"wandb-col\"><h3>Run summary:</h3><br/><table class=\"wandb\"><tr><td>epoch</td><td>99</td></tr><tr><td>lr-Adam</td><td>0.005</td></tr><tr><td>train_acc</td><td>0.90939</td></tr><tr><td>train_auc</td><td>0.95014</td></tr><tr><td>train_f1</td><td>0.92222</td></tr><tr><td>train_loss_epoch</td><td>0.39904</td></tr><tr><td>train_loss_step</td><td>0.41958</td></tr><tr><td>trainer/global_step</td><td>499</td></tr><tr><td>val_acc</td><td>0.81955</td></tr><tr><td>val_auc</td><td>0.89358</td></tr><tr><td>val_f1</td><td>0.83784</td></tr><tr><td>val_loss_epoch</td><td>0.4464</td></tr><tr><td>val_loss_step</td><td>0.35135</td></tr></table><br/></div></div>"
      ],
      "text/plain": [
       "<IPython.core.display.HTML object>"
      ]
     },
     "metadata": {},
     "output_type": "display_data"
    },
    {
     "data": {
      "text/html": [
       " View run <strong style=\"color:#cdcd00\">GINConv_2_16_0_moprh</strong> at: <a href='https://wandb.ai/thoomas/SF_082423_Covid/runs/xcok0zu9' target=\"_blank\">https://wandb.ai/thoomas/SF_082423_Covid/runs/xcok0zu9</a><br/>Synced 5 W&B file(s), 0 media file(s), 0 artifact file(s) and 0 other file(s)"
      ],
      "text/plain": [
       "<IPython.core.display.HTML object>"
      ]
     },
     "metadata": {},
     "output_type": "display_data"
    },
    {
     "data": {
      "text/html": [
       "Find logs at: <code>.\\wandb\\run-20230828_141117-xcok0zu9\\logs</code>"
      ],
      "text/plain": [
       "<IPython.core.display.HTML object>"
      ]
     },
     "metadata": {},
     "output_type": "display_data"
    },
    {
     "data": {
      "application/vnd.jupyter.widget-view+json": {
       "model_id": "f7cd2bc07a944732902b83877f8e7f60",
       "version_major": 2,
       "version_minor": 0
      },
      "text/plain": [
       "VBox(children=(Label(value='Waiting for wandb.init()...\\r'), FloatProgress(value=0.016916666666899498, max=1.0…"
      ]
     },
     "metadata": {},
     "output_type": "display_data"
    },
    {
     "data": {
      "text/html": [
       "wandb version 0.15.8 is available!  To upgrade, please run:\n",
       " $ pip install wandb --upgrade"
      ],
      "text/plain": [
       "<IPython.core.display.HTML object>"
      ]
     },
     "metadata": {},
     "output_type": "display_data"
    },
    {
     "data": {
      "text/html": [
       "Tracking run with wandb version 0.14.0"
      ],
      "text/plain": [
       "<IPython.core.display.HTML object>"
      ]
     },
     "metadata": {},
     "output_type": "display_data"
    },
    {
     "data": {
      "text/html": [
       "Run data is saved locally in <code>Y:\\coskun-lab\\Thomas\\11_snowflakes\\notebooks\\wandb\\run-20230828_144643-qd0g7z2k</code>"
      ],
      "text/plain": [
       "<IPython.core.display.HTML object>"
      ]
     },
     "metadata": {},
     "output_type": "display_data"
    },
    {
     "data": {
      "text/html": [
       "Syncing run <strong><a href='https://wandb.ai/thoomas/SF_082423_Covid/runs/qd0g7z2k' target=\"_blank\">GCN_2_16_1_moprh</a></strong> to <a href='https://wandb.ai/thoomas/SF_082423_Covid' target=\"_blank\">Weights & Biases</a> (<a href='https://wandb.me/run' target=\"_blank\">docs</a>)<br/>"
      ],
      "text/plain": [
       "<IPython.core.display.HTML object>"
      ]
     },
     "metadata": {},
     "output_type": "display_data"
    },
    {
     "data": {
      "text/html": [
       " View project at <a href='https://wandb.ai/thoomas/SF_082423_Covid' target=\"_blank\">https://wandb.ai/thoomas/SF_082423_Covid</a>"
      ],
      "text/plain": [
       "<IPython.core.display.HTML object>"
      ]
     },
     "metadata": {},
     "output_type": "display_data"
    },
    {
     "data": {
      "text/html": [
       " View run at <a href='https://wandb.ai/thoomas/SF_082423_Covid/runs/qd0g7z2k' target=\"_blank\">https://wandb.ai/thoomas/SF_082423_Covid/runs/qd0g7z2k</a>"
      ],
      "text/plain": [
       "<IPython.core.display.HTML object>"
      ]
     },
     "metadata": {},
     "output_type": "display_data"
    },
    {
     "name": "stderr",
     "output_type": "stream",
     "text": [
      "Global seed set to 42\n",
      "C:\\Users\\thu71\\Anaconda3\\envs\\snowflake\\lib\\site-packages\\pytorch_lightning\\loggers\\wandb.py:395: UserWarning: There is a wandb run already in progress and newly created instances of `WandbLogger` will reuse this run. If this is not desired, call `wandb.finish()` before instantiating `WandbLogger`.\n",
      "  rank_zero_warn(\n",
      "GPU available: True (cuda), used: True\n",
      "TPU available: False, using: 0 TPU cores\n",
      "IPU available: False, using: 0 IPUs\n",
      "HPU available: False, using: 0 HPUs\n",
      "Global seed set to 42\n",
      "C:\\Users\\thu71\\Anaconda3\\envs\\snowflake\\lib\\site-packages\\torch_geometric\\deprecation.py:12: UserWarning: 'nn.glob.GlobalAttention' is deprecated, use 'nn.aggr.AttentionalAggregation' instead\n",
      "  warnings.warn(out)\n",
      "LOCAL_RANK: 0 - CUDA_VISIBLE_DEVICES: [0,1]\n",
      "\n",
      "   | Name           | Type             | Params\n",
      "-----------------------------------------------------\n",
      "0  | feat_embedding | Sequential       | 832   \n",
      "1  | model          | GNNModel         | 400   \n",
      "2  | head           | BilinearFusion   | 19.6 K\n",
      "3  | pred           | Linear           | 34    \n",
      "4  | fnn_layer      | Linear           | 272   \n",
      "5  | selu           | SELU             | 0     \n",
      "6  | loss_module    | CrossEntropyLoss | 0     \n",
      "7  | train_acc      | BinaryAccuracy   | 0     \n",
      "8  | train_auroc    | BinaryAUROC      | 0     \n",
      "9  | train_f1       | BinaryF1Score    | 0     \n",
      "10 | valid_acc      | BinaryAccuracy   | 0     \n",
      "11 | valid_auroc    | BinaryAUROC      | 0     \n",
      "12 | valid_f1       | BinaryF1Score    | 0     \n",
      "13 | pool           | GlobalAttention  | 17    \n",
      "-----------------------------------------------------\n",
      "21.2 K    Trainable params\n",
      "0         Non-trainable params\n",
      "21.2 K    Total params\n",
      "0.085     Total estimated model params size (MB)\n"
     ]
    },
    {
     "name": "stdout",
     "output_type": "stream",
     "text": [
      "Training with Morphological features\n"
     ]
    },
    {
     "name": "stderr",
     "output_type": "stream",
     "text": [
      "C:\\Users\\thu71\\AppData\\Roaming\\Python\\Python39\\site-packages\\lightning\\pytorch\\trainer\\connectors\\data_connector.py:478: PossibleUserWarning: Your `val_dataloader`'s sampler has shuffling enabled, it is strongly recommended that you turn shuffling off for val/test dataloaders.\n",
      "  rank_zero_warn(\n",
      "C:\\Users\\thu71\\AppData\\Roaming\\Python\\Python39\\site-packages\\lightning\\pytorch\\trainer\\connectors\\data_connector.py:430: PossibleUserWarning: The dataloader, val_dataloader, does not have many workers which may be a bottleneck. Consider increasing the value of the `num_workers` argument` (try 48 which is the number of cpus on this machine) in the `DataLoader` init to improve performance.\n",
      "  rank_zero_warn(\n",
      "C:\\Users\\thu71\\AppData\\Roaming\\Python\\Python39\\site-packages\\lightning\\pytorch\\trainer\\connectors\\data_connector.py:430: PossibleUserWarning: The dataloader, train_dataloader, does not have many workers which may be a bottleneck. Consider increasing the value of the `num_workers` argument` (try 48 which is the number of cpus on this machine) in the `DataLoader` init to improve performance.\n",
      "  rank_zero_warn(\n",
      "C:\\Users\\thu71\\AppData\\Roaming\\Python\\Python39\\site-packages\\lightning\\pytorch\\loops\\fit_loop.py:280: PossibleUserWarning: The number of training batches (5) is smaller than the logging interval Trainer(log_every_n_steps=10). Set a lower value for log_every_n_steps if you want to see logs for the training epoch.\n",
      "  rank_zero_warn(\n",
      "C:\\Users\\thu71\\Anaconda3\\envs\\snowflake\\lib\\site-packages\\torchmetrics\\utilities\\prints.py:36: UserWarning: No negative samples in targets, false positive value should be meaningless. Returning zero tensor in false positive score\n",
      "  warnings.warn(*args, **kwargs)\n",
      "C:\\Users\\thu71\\Anaconda3\\envs\\snowflake\\lib\\site-packages\\torchmetrics\\utilities\\prints.py:36: UserWarning: No negative samples in targets, false positive value should be meaningless. Returning zero tensor in false positive score\n",
      "  warnings.warn(*args, **kwargs)\n",
      "C:\\Users\\thu71\\Anaconda3\\envs\\snowflake\\lib\\site-packages\\torchmetrics\\utilities\\prints.py:36: UserWarning: No negative samples in targets, false positive value should be meaningless. Returning zero tensor in false positive score\n",
      "  warnings.warn(*args, **kwargs)\n",
      "C:\\Users\\thu71\\Anaconda3\\envs\\snowflake\\lib\\site-packages\\torchmetrics\\utilities\\prints.py:36: UserWarning: No negative samples in targets, false positive value should be meaningless. Returning zero tensor in false positive score\n",
      "  warnings.warn(*args, **kwargs)\n",
      "C:\\Users\\thu71\\Anaconda3\\envs\\snowflake\\lib\\site-packages\\torchmetrics\\utilities\\prints.py:36: UserWarning: No negative samples in targets, false positive value should be meaningless. Returning zero tensor in false positive score\n",
      "  warnings.warn(*args, **kwargs)\n",
      "C:\\Users\\thu71\\Anaconda3\\envs\\snowflake\\lib\\site-packages\\torchmetrics\\utilities\\prints.py:36: UserWarning: No positive samples in targets, true positive value should be meaningless. Returning zero tensor in true positive score\n",
      "  warnings.warn(*args, **kwargs)\n",
      "C:\\Users\\thu71\\Anaconda3\\envs\\snowflake\\lib\\site-packages\\torchmetrics\\utilities\\prints.py:36: UserWarning: No negative samples in targets, false positive value should be meaningless. Returning zero tensor in false positive score\n",
      "  warnings.warn(*args, **kwargs)\n",
      "`Trainer.fit` stopped: `max_epochs=100` reached.\n"
     ]
    },
    {
     "data": {
      "text/html": [
       "Waiting for W&B process to finish... <strong style=\"color:green\">(success).</strong>"
      ],
      "text/plain": [
       "<IPython.core.display.HTML object>"
      ]
     },
     "metadata": {},
     "output_type": "display_data"
    },
    {
     "data": {
      "text/html": [
       "<style>\n",
       "    table.wandb td:nth-child(1) { padding: 0 10px; text-align: left ; width: auto;} td:nth-child(2) {text-align: left ; width: 100%}\n",
       "    .wandb-row { display: flex; flex-direction: row; flex-wrap: wrap; justify-content: flex-start; width: 100% }\n",
       "    .wandb-col { display: flex; flex-direction: column; flex-basis: 100%; flex: 1; padding: 10px; }\n",
       "    </style>\n",
       "<div class=\"wandb-row\"><div class=\"wandb-col\"><h3>Run history:</h3><br/><table class=\"wandb\"><tr><td>epoch</td><td>▁▁▁▁▂▂▂▂▂▃▃▃▃▃▃▄▄▄▄▄▅▅▅▅▅▅▆▆▆▆▆▇▇▇▇▇▇███</td></tr><tr><td>lr-Adam</td><td>▁▁▁▁▁▁▁▁▁▁▁▁▁▁▁▁▁▁▁▁▁▁▁▁▁▁▁▁▁▁▁▁▁▁▁▁▁▁▁▁</td></tr><tr><td>train_acc</td><td>▁▃▄▄▅▅▆▆▆▇▆▇▇▇▇██▇▇▇▆▇▇█▇▇██▇███▇▇████▇▇</td></tr><tr><td>train_auc</td><td>▁▃▄▅▅▅▆▆▇▇▆▇▇▇▇████▇▇▇███▇██▇███████████</td></tr><tr><td>train_f1</td><td>▁▂▃▄▅▅▆▅▆▆▆▆▇▆▆██▇▇▇▆▆▇▇▇▇██▇▇██▇▇██▇▇▇▇</td></tr><tr><td>train_loss_epoch</td><td>█▇▆▅▅▄▄▄▃▃▄▃▂▃▃▁▁▁▁▃▃▂▂▁▂▂▁▁▂▂▁▁▁▂▁▁▁▁▂▂</td></tr><tr><td>train_loss_step</td><td>██▆▆▆▅▃█▅▃▆▄▃▃▄▄▃▂▃▆▃▆▄▃▄▄▂▅▃▃▅▃▃▄▁▃▂▃▃▃</td></tr><tr><td>trainer/global_step</td><td>▁▁▁▁▂▁▂▂▂▂▃▂▃▃▂▄▃▄▃▄▃▅▃▅▄▆▄▆▄▆▄▇▇▅▇▅█▅█▅</td></tr><tr><td>val_acc</td><td>▁▅▅▅▇▇▄▇▆▆▄▇▆▇▇▆▆▄▆▅▄▇▆▆▅▇▇▇▆█▇▇▇▇█▇▇▇▇▇</td></tr><tr><td>val_auc</td><td>▃▃▅▅▅▆▃▆▅▅▁▅▆▇▇▆▆▅▇▇▅▆▆▆▆█▆▇▅█▇▆▇▇▇▇▇██▇</td></tr><tr><td>val_f1</td><td>▃▅▅▅▇▇▄▆▆▆▄▇▆▇▇▆▆▁▅▄▄▆▆▆▄▆█▇▆█▇▇▆▇▇▆▇▆▆█</td></tr><tr><td>val_loss_epoch</td><td>█▇▇▄▂▄▅▂▄▂█▆▅▃▃▄▅▅▅▇▃▄▃▂▄▃▁▃▄▃▄▁▁▁▁▁▃▁▁▁</td></tr><tr><td>val_loss_step</td><td>▇▆▅▄▆▅▅▆▅▄▇█▄▄▄▅▃▅▅▄▇▄▄▆▄▆▄▄▄▃▅▅▄▂▄▄▅▄▃▁</td></tr></table><br/></div><div class=\"wandb-col\"><h3>Run summary:</h3><br/><table class=\"wandb\"><tr><td>epoch</td><td>99</td></tr><tr><td>lr-Adam</td><td>0.005</td></tr><tr><td>train_acc</td><td>0.82524</td></tr><tr><td>train_auc</td><td>0.90483</td></tr><tr><td>train_f1</td><td>0.86294</td></tr><tr><td>train_loss_epoch</td><td>0.48504</td></tr><tr><td>train_loss_step</td><td>0.49271</td></tr><tr><td>trainer/global_step</td><td>499</td></tr><tr><td>val_acc</td><td>0.81203</td></tr><tr><td>val_auc</td><td>0.88897</td></tr><tr><td>val_f1</td><td>0.84472</td></tr><tr><td>val_loss_epoch</td><td>0.44162</td></tr><tr><td>val_loss_step</td><td>0.31329</td></tr></table><br/></div></div>"
      ],
      "text/plain": [
       "<IPython.core.display.HTML object>"
      ]
     },
     "metadata": {},
     "output_type": "display_data"
    },
    {
     "data": {
      "text/html": [
       " View run <strong style=\"color:#cdcd00\">GCN_2_16_1_moprh</strong> at: <a href='https://wandb.ai/thoomas/SF_082423_Covid/runs/qd0g7z2k' target=\"_blank\">https://wandb.ai/thoomas/SF_082423_Covid/runs/qd0g7z2k</a><br/>Synced 5 W&B file(s), 0 media file(s), 0 artifact file(s) and 0 other file(s)"
      ],
      "text/plain": [
       "<IPython.core.display.HTML object>"
      ]
     },
     "metadata": {},
     "output_type": "display_data"
    },
    {
     "data": {
      "text/html": [
       "Find logs at: <code>.\\wandb\\run-20230828_144643-qd0g7z2k\\logs</code>"
      ],
      "text/plain": [
       "<IPython.core.display.HTML object>"
      ]
     },
     "metadata": {},
     "output_type": "display_data"
    },
    {
     "data": {
      "application/vnd.jupyter.widget-view+json": {
       "model_id": "0d23c1514f654743986ea15cd7c12f5b",
       "version_major": 2,
       "version_minor": 0
      },
      "text/plain": [
       "VBox(children=(Label(value='Waiting for wandb.init()...\\r'), FloatProgress(value=0.01693333333338766, max=1.0)…"
      ]
     },
     "metadata": {},
     "output_type": "display_data"
    },
    {
     "data": {
      "text/html": [
       "wandb version 0.15.8 is available!  To upgrade, please run:\n",
       " $ pip install wandb --upgrade"
      ],
      "text/plain": [
       "<IPython.core.display.HTML object>"
      ]
     },
     "metadata": {},
     "output_type": "display_data"
    },
    {
     "data": {
      "text/html": [
       "Tracking run with wandb version 0.14.0"
      ],
      "text/plain": [
       "<IPython.core.display.HTML object>"
      ]
     },
     "metadata": {},
     "output_type": "display_data"
    },
    {
     "data": {
      "text/html": [
       "Run data is saved locally in <code>Y:\\coskun-lab\\Thomas\\11_snowflakes\\notebooks\\wandb\\run-20230828_152324-nuehg4zf</code>"
      ],
      "text/plain": [
       "<IPython.core.display.HTML object>"
      ]
     },
     "metadata": {},
     "output_type": "display_data"
    },
    {
     "data": {
      "text/html": [
       "Syncing run <strong><a href='https://wandb.ai/thoomas/SF_082423_Covid/runs/nuehg4zf' target=\"_blank\">GraphConv_2_16_1_moprh</a></strong> to <a href='https://wandb.ai/thoomas/SF_082423_Covid' target=\"_blank\">Weights & Biases</a> (<a href='https://wandb.me/run' target=\"_blank\">docs</a>)<br/>"
      ],
      "text/plain": [
       "<IPython.core.display.HTML object>"
      ]
     },
     "metadata": {},
     "output_type": "display_data"
    },
    {
     "data": {
      "text/html": [
       " View project at <a href='https://wandb.ai/thoomas/SF_082423_Covid' target=\"_blank\">https://wandb.ai/thoomas/SF_082423_Covid</a>"
      ],
      "text/plain": [
       "<IPython.core.display.HTML object>"
      ]
     },
     "metadata": {},
     "output_type": "display_data"
    },
    {
     "data": {
      "text/html": [
       " View run at <a href='https://wandb.ai/thoomas/SF_082423_Covid/runs/nuehg4zf' target=\"_blank\">https://wandb.ai/thoomas/SF_082423_Covid/runs/nuehg4zf</a>"
      ],
      "text/plain": [
       "<IPython.core.display.HTML object>"
      ]
     },
     "metadata": {},
     "output_type": "display_data"
    },
    {
     "name": "stderr",
     "output_type": "stream",
     "text": [
      "Global seed set to 42\n",
      "C:\\Users\\thu71\\Anaconda3\\envs\\snowflake\\lib\\site-packages\\pytorch_lightning\\loggers\\wandb.py:395: UserWarning: There is a wandb run already in progress and newly created instances of `WandbLogger` will reuse this run. If this is not desired, call `wandb.finish()` before instantiating `WandbLogger`.\n",
      "  rank_zero_warn(\n",
      "GPU available: True (cuda), used: True\n",
      "TPU available: False, using: 0 TPU cores\n",
      "IPU available: False, using: 0 IPUs\n",
      "HPU available: False, using: 0 HPUs\n",
      "Global seed set to 42\n",
      "C:\\Users\\thu71\\Anaconda3\\envs\\snowflake\\lib\\site-packages\\torch_geometric\\deprecation.py:12: UserWarning: 'nn.glob.GlobalAttention' is deprecated, use 'nn.aggr.AttentionalAggregation' instead\n",
      "  warnings.warn(out)\n",
      "LOCAL_RANK: 0 - CUDA_VISIBLE_DEVICES: [0,1]\n",
      "\n",
      "   | Name           | Type             | Params\n",
      "-----------------------------------------------------\n",
      "0  | feat_embedding | Sequential       | 832   \n",
      "1  | model          | GNNModel         | 736   \n",
      "2  | head           | BilinearFusion   | 19.6 K\n",
      "3  | pred           | Linear           | 34    \n",
      "4  | fnn_layer      | Linear           | 272   \n",
      "5  | selu           | SELU             | 0     \n",
      "6  | loss_module    | CrossEntropyLoss | 0     \n",
      "7  | train_acc      | BinaryAccuracy   | 0     \n",
      "8  | train_auroc    | BinaryAUROC      | 0     \n",
      "9  | train_f1       | BinaryF1Score    | 0     \n",
      "10 | valid_acc      | BinaryAccuracy   | 0     \n",
      "11 | valid_auroc    | BinaryAUROC      | 0     \n",
      "12 | valid_f1       | BinaryF1Score    | 0     \n",
      "13 | pool           | GlobalAttention  | 17    \n",
      "-----------------------------------------------------\n",
      "21.5 K    Trainable params\n",
      "0         Non-trainable params\n",
      "21.5 K    Total params\n",
      "0.086     Total estimated model params size (MB)\n"
     ]
    },
    {
     "name": "stdout",
     "output_type": "stream",
     "text": [
      "Training with Morphological features\n"
     ]
    },
    {
     "name": "stderr",
     "output_type": "stream",
     "text": [
      "C:\\Users\\thu71\\AppData\\Roaming\\Python\\Python39\\site-packages\\lightning\\pytorch\\trainer\\connectors\\data_connector.py:478: PossibleUserWarning: Your `val_dataloader`'s sampler has shuffling enabled, it is strongly recommended that you turn shuffling off for val/test dataloaders.\n",
      "  rank_zero_warn(\n",
      "C:\\Users\\thu71\\AppData\\Roaming\\Python\\Python39\\site-packages\\lightning\\pytorch\\trainer\\connectors\\data_connector.py:430: PossibleUserWarning: The dataloader, val_dataloader, does not have many workers which may be a bottleneck. Consider increasing the value of the `num_workers` argument` (try 48 which is the number of cpus on this machine) in the `DataLoader` init to improve performance.\n",
      "  rank_zero_warn(\n",
      "C:\\Users\\thu71\\AppData\\Roaming\\Python\\Python39\\site-packages\\lightning\\pytorch\\trainer\\connectors\\data_connector.py:430: PossibleUserWarning: The dataloader, train_dataloader, does not have many workers which may be a bottleneck. Consider increasing the value of the `num_workers` argument` (try 48 which is the number of cpus on this machine) in the `DataLoader` init to improve performance.\n",
      "  rank_zero_warn(\n",
      "C:\\Users\\thu71\\AppData\\Roaming\\Python\\Python39\\site-packages\\lightning\\pytorch\\loops\\fit_loop.py:280: PossibleUserWarning: The number of training batches (5) is smaller than the logging interval Trainer(log_every_n_steps=10). Set a lower value for log_every_n_steps if you want to see logs for the training epoch.\n",
      "  rank_zero_warn(\n",
      "C:\\Users\\thu71\\Anaconda3\\envs\\snowflake\\lib\\site-packages\\torchmetrics\\utilities\\prints.py:36: UserWarning: No negative samples in targets, false positive value should be meaningless. Returning zero tensor in false positive score\n",
      "  warnings.warn(*args, **kwargs)\n",
      "C:\\Users\\thu71\\Anaconda3\\envs\\snowflake\\lib\\site-packages\\torchmetrics\\utilities\\prints.py:36: UserWarning: No negative samples in targets, false positive value should be meaningless. Returning zero tensor in false positive score\n",
      "  warnings.warn(*args, **kwargs)\n",
      "C:\\Users\\thu71\\Anaconda3\\envs\\snowflake\\lib\\site-packages\\torchmetrics\\utilities\\prints.py:36: UserWarning: No negative samples in targets, false positive value should be meaningless. Returning zero tensor in false positive score\n",
      "  warnings.warn(*args, **kwargs)\n",
      "C:\\Users\\thu71\\Anaconda3\\envs\\snowflake\\lib\\site-packages\\torchmetrics\\utilities\\prints.py:36: UserWarning: No negative samples in targets, false positive value should be meaningless. Returning zero tensor in false positive score\n",
      "  warnings.warn(*args, **kwargs)\n",
      "C:\\Users\\thu71\\Anaconda3\\envs\\snowflake\\lib\\site-packages\\torchmetrics\\utilities\\prints.py:36: UserWarning: No negative samples in targets, false positive value should be meaningless. Returning zero tensor in false positive score\n",
      "  warnings.warn(*args, **kwargs)\n",
      "C:\\Users\\thu71\\Anaconda3\\envs\\snowflake\\lib\\site-packages\\torchmetrics\\utilities\\prints.py:36: UserWarning: No negative samples in targets, false positive value should be meaningless. Returning zero tensor in false positive score\n",
      "  warnings.warn(*args, **kwargs)\n",
      "C:\\Users\\thu71\\Anaconda3\\envs\\snowflake\\lib\\site-packages\\torchmetrics\\utilities\\prints.py:36: UserWarning: No negative samples in targets, false positive value should be meaningless. Returning zero tensor in false positive score\n",
      "  warnings.warn(*args, **kwargs)\n",
      "`Trainer.fit` stopped: `max_epochs=100` reached.\n"
     ]
    },
    {
     "data": {
      "text/html": [
       "Waiting for W&B process to finish... <strong style=\"color:green\">(success).</strong>"
      ],
      "text/plain": [
       "<IPython.core.display.HTML object>"
      ]
     },
     "metadata": {},
     "output_type": "display_data"
    },
    {
     "data": {
      "application/vnd.jupyter.widget-view+json": {
       "model_id": "0eaeec6d1fb44cd2bbfcf7bcc2f8f03f",
       "version_major": 2,
       "version_minor": 0
      },
      "text/plain": [
       "VBox(children=(Label(value='0.001 MB of 0.001 MB uploaded (0.000 MB deduped)\\r'), FloatProgress(value=1.0, max…"
      ]
     },
     "metadata": {},
     "output_type": "display_data"
    },
    {
     "data": {
      "text/html": [
       "<style>\n",
       "    table.wandb td:nth-child(1) { padding: 0 10px; text-align: left ; width: auto;} td:nth-child(2) {text-align: left ; width: 100%}\n",
       "    .wandb-row { display: flex; flex-direction: row; flex-wrap: wrap; justify-content: flex-start; width: 100% }\n",
       "    .wandb-col { display: flex; flex-direction: column; flex-basis: 100%; flex: 1; padding: 10px; }\n",
       "    </style>\n",
       "<div class=\"wandb-row\"><div class=\"wandb-col\"><h3>Run history:</h3><br/><table class=\"wandb\"><tr><td>epoch</td><td>▁▁▁▁▂▂▂▂▂▃▃▃▃▃▃▄▄▄▄▄▅▅▅▅▅▅▆▆▆▆▆▇▇▇▇▇▇███</td></tr><tr><td>lr-Adam</td><td>▁▁▁▁▁▁▁▁▁▁▁▁▁▁▁▁▁▁▁▁▁▁▁▁▁▁▁▁▁▁▁▁▁▁▁▁▁▁▁▁</td></tr><tr><td>train_acc</td><td>▁▃▄▄▅▅▅▆▄▅▆▆▆▆▆▇▆▆▆▇▇▇▇▇▇▆▇▆▆▆▇▇▇▇▇▇▇██▇</td></tr><tr><td>train_auc</td><td>▁▅▅▆▆▆▆▇▆▇▇▇▇▇▇▇▇▇▇▇▇▇██▇▇▇▇▇█▇█████████</td></tr><tr><td>train_f1</td><td>▁▁▂▂▃▄▄▃▁▄▅▆▆▅▆▆▄▆▆▆▇▆▆▆▆▆▆▆▆▅▆▇▇▇▇▇▇▇█▇</td></tr><tr><td>train_loss_epoch</td><td>█▆▅▅▄▄▄▄▅▄▃▃▃▃▃▃▃▃▂▂▂▂▂▂▃▂▂▂▂▂▂▂▂▂▁▂▂▂▁▂</td></tr><tr><td>train_loss_step</td><td>█▆▅▆▅▅▆▂▅▄▃▂▆▄▄▂▅▄▃▃▄▄▅▅▃▃▃▃▄▁▆▃▅▄▃▁▃▄▄▄</td></tr><tr><td>trainer/global_step</td><td>▁▁▁▁▂▁▂▂▂▂▃▂▃▃▂▄▃▄▃▄▃▅▃▅▄▆▄▆▄▆▄▇▇▅▇▅█▅█▅</td></tr><tr><td>val_acc</td><td>▁▅▆▇▇▆▅▅▇▇▇▆▇▆▆▅▇▆▇▇▇▇█▇▆▇▇█▇▇▇▆█▆▇▇▆▇▆▅</td></tr><tr><td>val_auc</td><td>▁▃▂▅▆▅▃▃▇▇▆▅▆▆▅▅▆▅▆▆▆▅▆▇▂▅▆▇▅▅▅▅▇▃▄▆▄█▅▄</td></tr><tr><td>val_f1</td><td>▁▄▅▆▆▅▄▄▆▅▇▅▇▆▆▅▇▆▇▇▆▆▇▇▅▇▇█▆▆▇▅▇▅▆▆▅▇▅▅</td></tr><tr><td>val_loss_epoch</td><td>█▅▄▂▄▂▆▄▂▅▄▃▄▃▃▆▃▃▅▃▃▂▃▁▆▄▇▁▄▂▁▄▁▃▄▄▂▂▅▆</td></tr><tr><td>val_loss_step</td><td>▆▅▆▁▄▅█▆▇▁▄▃▄▅▁▄▄▃▅▄▅▄▄▅▄▅▅▄▅▄▅▄▄▁▆▄▁▅▅█</td></tr></table><br/></div><div class=\"wandb-col\"><h3>Run summary:</h3><br/><table class=\"wandb\"><tr><td>epoch</td><td>99</td></tr><tr><td>lr-Adam</td><td>0.005</td></tr><tr><td>train_acc</td><td>0.85113</td></tr><tr><td>train_auc</td><td>0.91016</td></tr><tr><td>train_f1</td><td>0.87701</td></tr><tr><td>train_loss_epoch</td><td>0.46531</td></tr><tr><td>train_loss_step</td><td>0.49682</td></tr><tr><td>trainer/global_step</td><td>499</td></tr><tr><td>val_acc</td><td>0.73684</td></tr><tr><td>val_auc</td><td>0.8638</td></tr><tr><td>val_f1</td><td>0.80447</td></tr><tr><td>val_loss_epoch</td><td>0.59966</td></tr><tr><td>val_loss_step</td><td>0.68112</td></tr></table><br/></div></div>"
      ],
      "text/plain": [
       "<IPython.core.display.HTML object>"
      ]
     },
     "metadata": {},
     "output_type": "display_data"
    },
    {
     "data": {
      "text/html": [
       " View run <strong style=\"color:#cdcd00\">GraphConv_2_16_1_moprh</strong> at: <a href='https://wandb.ai/thoomas/SF_082423_Covid/runs/nuehg4zf' target=\"_blank\">https://wandb.ai/thoomas/SF_082423_Covid/runs/nuehg4zf</a><br/>Synced 5 W&B file(s), 0 media file(s), 0 artifact file(s) and 0 other file(s)"
      ],
      "text/plain": [
       "<IPython.core.display.HTML object>"
      ]
     },
     "metadata": {},
     "output_type": "display_data"
    },
    {
     "data": {
      "text/html": [
       "Find logs at: <code>.\\wandb\\run-20230828_152324-nuehg4zf\\logs</code>"
      ],
      "text/plain": [
       "<IPython.core.display.HTML object>"
      ]
     },
     "metadata": {},
     "output_type": "display_data"
    },
    {
     "data": {
      "application/vnd.jupyter.widget-view+json": {
       "model_id": "c333a94aaa944622b5a4b614931bc95d",
       "version_major": 2,
       "version_minor": 0
      },
      "text/plain": [
       "VBox(children=(Label(value='Waiting for wandb.init()...\\r'), FloatProgress(value=0.01693333333338766, max=1.0)…"
      ]
     },
     "metadata": {},
     "output_type": "display_data"
    },
    {
     "data": {
      "text/html": [
       "wandb version 0.15.8 is available!  To upgrade, please run:\n",
       " $ pip install wandb --upgrade"
      ],
      "text/plain": [
       "<IPython.core.display.HTML object>"
      ]
     },
     "metadata": {},
     "output_type": "display_data"
    },
    {
     "data": {
      "text/html": [
       "Tracking run with wandb version 0.14.0"
      ],
      "text/plain": [
       "<IPython.core.display.HTML object>"
      ]
     },
     "metadata": {},
     "output_type": "display_data"
    },
    {
     "data": {
      "text/html": [
       "Run data is saved locally in <code>Y:\\coskun-lab\\Thomas\\11_snowflakes\\notebooks\\wandb\\run-20230828_155852-8fiat1p5</code>"
      ],
      "text/plain": [
       "<IPython.core.display.HTML object>"
      ]
     },
     "metadata": {},
     "output_type": "display_data"
    },
    {
     "data": {
      "text/html": [
       "Syncing run <strong><a href='https://wandb.ai/thoomas/SF_082423_Covid/runs/8fiat1p5' target=\"_blank\">GINConv_2_16_1_moprh</a></strong> to <a href='https://wandb.ai/thoomas/SF_082423_Covid' target=\"_blank\">Weights & Biases</a> (<a href='https://wandb.me/run' target=\"_blank\">docs</a>)<br/>"
      ],
      "text/plain": [
       "<IPython.core.display.HTML object>"
      ]
     },
     "metadata": {},
     "output_type": "display_data"
    },
    {
     "data": {
      "text/html": [
       " View project at <a href='https://wandb.ai/thoomas/SF_082423_Covid' target=\"_blank\">https://wandb.ai/thoomas/SF_082423_Covid</a>"
      ],
      "text/plain": [
       "<IPython.core.display.HTML object>"
      ]
     },
     "metadata": {},
     "output_type": "display_data"
    },
    {
     "data": {
      "text/html": [
       " View run at <a href='https://wandb.ai/thoomas/SF_082423_Covid/runs/8fiat1p5' target=\"_blank\">https://wandb.ai/thoomas/SF_082423_Covid/runs/8fiat1p5</a>"
      ],
      "text/plain": [
       "<IPython.core.display.HTML object>"
      ]
     },
     "metadata": {},
     "output_type": "display_data"
    },
    {
     "name": "stderr",
     "output_type": "stream",
     "text": [
      "Global seed set to 42\n",
      "C:\\Users\\thu71\\Anaconda3\\envs\\snowflake\\lib\\site-packages\\pytorch_lightning\\loggers\\wandb.py:395: UserWarning: There is a wandb run already in progress and newly created instances of `WandbLogger` will reuse this run. If this is not desired, call `wandb.finish()` before instantiating `WandbLogger`.\n",
      "  rank_zero_warn(\n",
      "GPU available: True (cuda), used: True\n",
      "TPU available: False, using: 0 TPU cores\n",
      "IPU available: False, using: 0 IPUs\n",
      "HPU available: False, using: 0 HPUs\n",
      "Global seed set to 42\n",
      "C:\\Users\\thu71\\Anaconda3\\envs\\snowflake\\lib\\site-packages\\torch_geometric\\deprecation.py:12: UserWarning: 'nn.glob.GlobalAttention' is deprecated, use 'nn.aggr.AttentionalAggregation' instead\n",
      "  warnings.warn(out)\n",
      "LOCAL_RANK: 0 - CUDA_VISIBLE_DEVICES: [0,1]\n",
      "\n",
      "   | Name           | Type             | Params\n",
      "-----------------------------------------------------\n",
      "0  | feat_embedding | Sequential       | 832   \n",
      "1  | model          | GIN              | 1.0 K \n",
      "2  | head           | BilinearFusion   | 19.6 K\n",
      "3  | pred           | Linear           | 34    \n",
      "4  | fnn_layer      | Linear           | 272   \n",
      "5  | selu           | SELU             | 0     \n",
      "6  | loss_module    | CrossEntropyLoss | 0     \n",
      "7  | train_acc      | BinaryAccuracy   | 0     \n",
      "8  | train_auroc    | BinaryAUROC      | 0     \n",
      "9  | train_f1       | BinaryF1Score    | 0     \n",
      "10 | valid_acc      | BinaryAccuracy   | 0     \n",
      "11 | valid_auroc    | BinaryAUROC      | 0     \n",
      "12 | valid_f1       | BinaryF1Score    | 0     \n",
      "13 | pool           | GlobalAttention  | 17    \n",
      "-----------------------------------------------------\n",
      "21.8 K    Trainable params\n",
      "0         Non-trainable params\n",
      "21.8 K    Total params\n",
      "0.087     Total estimated model params size (MB)\n"
     ]
    },
    {
     "name": "stdout",
     "output_type": "stream",
     "text": [
      "Training with Morphological features\n"
     ]
    },
    {
     "name": "stderr",
     "output_type": "stream",
     "text": [
      "C:\\Users\\thu71\\AppData\\Roaming\\Python\\Python39\\site-packages\\lightning\\pytorch\\trainer\\connectors\\data_connector.py:478: PossibleUserWarning: Your `val_dataloader`'s sampler has shuffling enabled, it is strongly recommended that you turn shuffling off for val/test dataloaders.\n",
      "  rank_zero_warn(\n",
      "C:\\Users\\thu71\\AppData\\Roaming\\Python\\Python39\\site-packages\\lightning\\pytorch\\trainer\\connectors\\data_connector.py:430: PossibleUserWarning: The dataloader, val_dataloader, does not have many workers which may be a bottleneck. Consider increasing the value of the `num_workers` argument` (try 48 which is the number of cpus on this machine) in the `DataLoader` init to improve performance.\n",
      "  rank_zero_warn(\n",
      "C:\\Users\\thu71\\AppData\\Roaming\\Python\\Python39\\site-packages\\lightning\\pytorch\\trainer\\connectors\\data_connector.py:430: PossibleUserWarning: The dataloader, train_dataloader, does not have many workers which may be a bottleneck. Consider increasing the value of the `num_workers` argument` (try 48 which is the number of cpus on this machine) in the `DataLoader` init to improve performance.\n",
      "  rank_zero_warn(\n",
      "C:\\Users\\thu71\\AppData\\Roaming\\Python\\Python39\\site-packages\\lightning\\pytorch\\loops\\fit_loop.py:280: PossibleUserWarning: The number of training batches (5) is smaller than the logging interval Trainer(log_every_n_steps=10). Set a lower value for log_every_n_steps if you want to see logs for the training epoch.\n",
      "  rank_zero_warn(\n",
      "C:\\Users\\thu71\\Anaconda3\\envs\\snowflake\\lib\\site-packages\\torchmetrics\\utilities\\prints.py:36: UserWarning: No negative samples in targets, false positive value should be meaningless. Returning zero tensor in false positive score\n",
      "  warnings.warn(*args, **kwargs)\n",
      "C:\\Users\\thu71\\Anaconda3\\envs\\snowflake\\lib\\site-packages\\torchmetrics\\utilities\\prints.py:36: UserWarning: No negative samples in targets, false positive value should be meaningless. Returning zero tensor in false positive score\n",
      "  warnings.warn(*args, **kwargs)\n",
      "C:\\Users\\thu71\\Anaconda3\\envs\\snowflake\\lib\\site-packages\\torchmetrics\\utilities\\prints.py:36: UserWarning: No negative samples in targets, false positive value should be meaningless. Returning zero tensor in false positive score\n",
      "  warnings.warn(*args, **kwargs)\n",
      "C:\\Users\\thu71\\Anaconda3\\envs\\snowflake\\lib\\site-packages\\torchmetrics\\utilities\\prints.py:36: UserWarning: No negative samples in targets, false positive value should be meaningless. Returning zero tensor in false positive score\n",
      "  warnings.warn(*args, **kwargs)\n",
      "C:\\Users\\thu71\\Anaconda3\\envs\\snowflake\\lib\\site-packages\\torchmetrics\\utilities\\prints.py:36: UserWarning: No positive samples in targets, true positive value should be meaningless. Returning zero tensor in true positive score\n",
      "  warnings.warn(*args, **kwargs)\n",
      "C:\\Users\\thu71\\Anaconda3\\envs\\snowflake\\lib\\site-packages\\torchmetrics\\utilities\\prints.py:36: UserWarning: No positive samples in targets, true positive value should be meaningless. Returning zero tensor in true positive score\n",
      "  warnings.warn(*args, **kwargs)\n",
      "C:\\Users\\thu71\\Anaconda3\\envs\\snowflake\\lib\\site-packages\\torchmetrics\\utilities\\prints.py:36: UserWarning: No negative samples in targets, false positive value should be meaningless. Returning zero tensor in false positive score\n",
      "  warnings.warn(*args, **kwargs)\n",
      "C:\\Users\\thu71\\Anaconda3\\envs\\snowflake\\lib\\site-packages\\torchmetrics\\utilities\\prints.py:36: UserWarning: No negative samples in targets, false positive value should be meaningless. Returning zero tensor in false positive score\n",
      "  warnings.warn(*args, **kwargs)\n",
      "`Trainer.fit` stopped: `max_epochs=100` reached.\n"
     ]
    },
    {
     "data": {
      "text/html": [
       "Waiting for W&B process to finish... <strong style=\"color:green\">(success).</strong>"
      ],
      "text/plain": [
       "<IPython.core.display.HTML object>"
      ]
     },
     "metadata": {},
     "output_type": "display_data"
    },
    {
     "data": {
      "application/vnd.jupyter.widget-view+json": {
       "model_id": "9de321381d3240608b5c60abb274d6aa",
       "version_major": 2,
       "version_minor": 0
      },
      "text/plain": [
       "VBox(children=(Label(value='0.001 MB of 0.001 MB uploaded (0.000 MB deduped)\\r'), FloatProgress(value=1.0, max…"
      ]
     },
     "metadata": {},
     "output_type": "display_data"
    },
    {
     "data": {
      "text/html": [
       "<style>\n",
       "    table.wandb td:nth-child(1) { padding: 0 10px; text-align: left ; width: auto;} td:nth-child(2) {text-align: left ; width: 100%}\n",
       "    .wandb-row { display: flex; flex-direction: row; flex-wrap: wrap; justify-content: flex-start; width: 100% }\n",
       "    .wandb-col { display: flex; flex-direction: column; flex-basis: 100%; flex: 1; padding: 10px; }\n",
       "    </style>\n",
       "<div class=\"wandb-row\"><div class=\"wandb-col\"><h3>Run history:</h3><br/><table class=\"wandb\"><tr><td>epoch</td><td>▁▁▁▁▂▂▂▂▂▃▃▃▃▃▃▄▄▄▄▄▅▅▅▅▅▅▆▆▆▆▆▇▇▇▇▇▇███</td></tr><tr><td>lr-Adam</td><td>▁▁▁▁▁▁▁▁▁▁▁▁▁▁▁▁▁▁▁▁▁▁▁▁▁▁▁▁▁▁▁▁▁▁▁▁▁▁▁▁</td></tr><tr><td>train_acc</td><td>▁▁▃▄▅▆▇▇▆▆▇▆▇▇▇▇▆▇▇▇▇▆▇██▇█▇▇██▇▆███▇▇██</td></tr><tr><td>train_auc</td><td>▁▃▄▅▆▇▇▇▇▇▇▇▇▇▇▇▇▇██▇▇▇█▇███▇█▇█▇███▇███</td></tr><tr><td>train_f1</td><td>▁▂▃▄▅▅▆▆▆▆▆▆▆▇▇▆▆▇▇▆▆▅▆██▇█▇▇██▇▆███▇▇▇█</td></tr><tr><td>train_loss_epoch</td><td>██▆▅▄▃▃▃▃▃▃▃▂▂▂▂▃▂▂▂▃▃▃▁▂▂▁▂▂▁▁▂▃▁▁▁▂▂▂▁</td></tr><tr><td>train_loss_step</td><td>██▆▇▅▃▄▄▄▃▃▅▄▄▂▃▃▃▂▃▃▃▅▃▃▃▂▅▃▁▄▂▅▃▃▁▅▃▃▁</td></tr><tr><td>trainer/global_step</td><td>▁▁▁▁▂▁▂▂▂▂▃▂▃▃▂▄▃▄▃▄▃▅▃▅▄▆▄▆▄▆▄▇▇▅▇▅█▅█▅</td></tr><tr><td>val_acc</td><td>▁▁▄▆▆▄▆▆▅▆▄▆▆▇▄▅▅▅▆▇▄▅▇▇▇▇▇▇▇█▇▇▆▆▇▇█▇██</td></tr><tr><td>val_auc</td><td>▁▇▇██▆███▇▇▇▇▇▇▆▇█▇█▆▇▇███▇▇█▇▇▇▇▇▇▇█▇▇█</td></tr><tr><td>val_f1</td><td>▃▃▄▆▆▅▆▆▃▆▂▆▅▆▁▅▅▄▇▇▄▄▇▇▆▇▇▇▇▇▆▆▅▇▇▇█▇██</td></tr><tr><td>val_loss_epoch</td><td>▇█▆▃▄▇▄▂▄▄▃▅▂▄█▄█▄▅▃▅▅▂▃▁▃▁▁▅▂▄▃▆▃▂▆▃▃▃▃</td></tr><tr><td>val_loss_step</td><td>▆▆▅▂▅▄▄▅▄▆▅▅▅▄█▅▃▃▅▄▃▄▂▃▄▄▃▄▆▃▁▄▃▃▃▄▄▃▃▃</td></tr></table><br/></div><div class=\"wandb-col\"><h3>Run summary:</h3><br/><table class=\"wandb\"><tr><td>epoch</td><td>99</td></tr><tr><td>lr-Adam</td><td>0.005</td></tr><tr><td>train_acc</td><td>0.90291</td></tr><tr><td>train_auc</td><td>0.93477</td></tr><tr><td>train_f1</td><td>0.91477</td></tr><tr><td>train_loss_epoch</td><td>0.41073</td></tr><tr><td>train_loss_step</td><td>0.35075</td></tr><tr><td>trainer/global_step</td><td>499</td></tr><tr><td>val_acc</td><td>0.84211</td></tr><tr><td>val_auc</td><td>0.8578</td></tr><tr><td>val_f1</td><td>0.86275</td></tr><tr><td>val_loss_epoch</td><td>0.48708</td></tr><tr><td>val_loss_step</td><td>0.51422</td></tr></table><br/></div></div>"
      ],
      "text/plain": [
       "<IPython.core.display.HTML object>"
      ]
     },
     "metadata": {},
     "output_type": "display_data"
    },
    {
     "data": {
      "text/html": [
       " View run <strong style=\"color:#cdcd00\">GINConv_2_16_1_moprh</strong> at: <a href='https://wandb.ai/thoomas/SF_082423_Covid/runs/8fiat1p5' target=\"_blank\">https://wandb.ai/thoomas/SF_082423_Covid/runs/8fiat1p5</a><br/>Synced 5 W&B file(s), 0 media file(s), 0 artifact file(s) and 0 other file(s)"
      ],
      "text/plain": [
       "<IPython.core.display.HTML object>"
      ]
     },
     "metadata": {},
     "output_type": "display_data"
    },
    {
     "data": {
      "text/html": [
       "Find logs at: <code>.\\wandb\\run-20230828_155852-8fiat1p5\\logs</code>"
      ],
      "text/plain": [
       "<IPython.core.display.HTML object>"
      ]
     },
     "metadata": {},
     "output_type": "display_data"
    },
    {
     "data": {
      "application/vnd.jupyter.widget-view+json": {
       "model_id": "3b552fc0d3144d0f8a0f799d07e7f9d1",
       "version_major": 2,
       "version_minor": 0
      },
      "text/plain": [
       "VBox(children=(Label(value='Waiting for wandb.init()...\\r'), FloatProgress(value=0.01693333333338766, max=1.0)…"
      ]
     },
     "metadata": {},
     "output_type": "display_data"
    },
    {
     "data": {
      "text/html": [
       "wandb version 0.15.8 is available!  To upgrade, please run:\n",
       " $ pip install wandb --upgrade"
      ],
      "text/plain": [
       "<IPython.core.display.HTML object>"
      ]
     },
     "metadata": {},
     "output_type": "display_data"
    },
    {
     "data": {
      "text/html": [
       "Tracking run with wandb version 0.14.0"
      ],
      "text/plain": [
       "<IPython.core.display.HTML object>"
      ]
     },
     "metadata": {},
     "output_type": "display_data"
    },
    {
     "data": {
      "text/html": [
       "Run data is saved locally in <code>Y:\\coskun-lab\\Thomas\\11_snowflakes\\notebooks\\wandb\\run-20230828_163547-nghtkfew</code>"
      ],
      "text/plain": [
       "<IPython.core.display.HTML object>"
      ]
     },
     "metadata": {},
     "output_type": "display_data"
    },
    {
     "data": {
      "text/html": [
       "Syncing run <strong><a href='https://wandb.ai/thoomas/SF_082423_Covid/runs/nghtkfew' target=\"_blank\">GCN_2_16_2_moprh</a></strong> to <a href='https://wandb.ai/thoomas/SF_082423_Covid' target=\"_blank\">Weights & Biases</a> (<a href='https://wandb.me/run' target=\"_blank\">docs</a>)<br/>"
      ],
      "text/plain": [
       "<IPython.core.display.HTML object>"
      ]
     },
     "metadata": {},
     "output_type": "display_data"
    },
    {
     "data": {
      "text/html": [
       " View project at <a href='https://wandb.ai/thoomas/SF_082423_Covid' target=\"_blank\">https://wandb.ai/thoomas/SF_082423_Covid</a>"
      ],
      "text/plain": [
       "<IPython.core.display.HTML object>"
      ]
     },
     "metadata": {},
     "output_type": "display_data"
    },
    {
     "data": {
      "text/html": [
       " View run at <a href='https://wandb.ai/thoomas/SF_082423_Covid/runs/nghtkfew' target=\"_blank\">https://wandb.ai/thoomas/SF_082423_Covid/runs/nghtkfew</a>"
      ],
      "text/plain": [
       "<IPython.core.display.HTML object>"
      ]
     },
     "metadata": {},
     "output_type": "display_data"
    },
    {
     "name": "stderr",
     "output_type": "stream",
     "text": [
      "Global seed set to 42\n",
      "C:\\Users\\thu71\\Anaconda3\\envs\\snowflake\\lib\\site-packages\\pytorch_lightning\\loggers\\wandb.py:395: UserWarning: There is a wandb run already in progress and newly created instances of `WandbLogger` will reuse this run. If this is not desired, call `wandb.finish()` before instantiating `WandbLogger`.\n",
      "  rank_zero_warn(\n",
      "GPU available: True (cuda), used: True\n",
      "TPU available: False, using: 0 TPU cores\n",
      "IPU available: False, using: 0 IPUs\n",
      "HPU available: False, using: 0 HPUs\n",
      "Global seed set to 42\n",
      "C:\\Users\\thu71\\Anaconda3\\envs\\snowflake\\lib\\site-packages\\torch_geometric\\deprecation.py:12: UserWarning: 'nn.glob.GlobalAttention' is deprecated, use 'nn.aggr.AttentionalAggregation' instead\n",
      "  warnings.warn(out)\n",
      "LOCAL_RANK: 0 - CUDA_VISIBLE_DEVICES: [0,1]\n",
      "\n",
      "   | Name           | Type             | Params\n",
      "-----------------------------------------------------\n",
      "0  | feat_embedding | Sequential       | 832   \n",
      "1  | model          | GNNModel         | 400   \n",
      "2  | head           | BilinearFusion   | 19.6 K\n",
      "3  | pred           | Linear           | 34    \n",
      "4  | fnn_layer      | Linear           | 272   \n",
      "5  | selu           | SELU             | 0     \n",
      "6  | loss_module    | CrossEntropyLoss | 0     \n",
      "7  | train_acc      | BinaryAccuracy   | 0     \n",
      "8  | train_auroc    | BinaryAUROC      | 0     \n",
      "9  | train_f1       | BinaryF1Score    | 0     \n",
      "10 | valid_acc      | BinaryAccuracy   | 0     \n",
      "11 | valid_auroc    | BinaryAUROC      | 0     \n",
      "12 | valid_f1       | BinaryF1Score    | 0     \n",
      "13 | pool           | GlobalAttention  | 17    \n",
      "-----------------------------------------------------\n",
      "21.2 K    Trainable params\n",
      "0         Non-trainable params\n",
      "21.2 K    Total params\n",
      "0.085     Total estimated model params size (MB)\n"
     ]
    },
    {
     "name": "stdout",
     "output_type": "stream",
     "text": [
      "Training with Morphological features\n"
     ]
    },
    {
     "name": "stderr",
     "output_type": "stream",
     "text": [
      "C:\\Users\\thu71\\AppData\\Roaming\\Python\\Python39\\site-packages\\lightning\\pytorch\\trainer\\connectors\\data_connector.py:478: PossibleUserWarning: Your `val_dataloader`'s sampler has shuffling enabled, it is strongly recommended that you turn shuffling off for val/test dataloaders.\n",
      "  rank_zero_warn(\n",
      "C:\\Users\\thu71\\AppData\\Roaming\\Python\\Python39\\site-packages\\lightning\\pytorch\\trainer\\connectors\\data_connector.py:430: PossibleUserWarning: The dataloader, val_dataloader, does not have many workers which may be a bottleneck. Consider increasing the value of the `num_workers` argument` (try 48 which is the number of cpus on this machine) in the `DataLoader` init to improve performance.\n",
      "  rank_zero_warn(\n",
      "C:\\Users\\thu71\\AppData\\Roaming\\Python\\Python39\\site-packages\\lightning\\pytorch\\trainer\\connectors\\data_connector.py:430: PossibleUserWarning: The dataloader, train_dataloader, does not have many workers which may be a bottleneck. Consider increasing the value of the `num_workers` argument` (try 48 which is the number of cpus on this machine) in the `DataLoader` init to improve performance.\n",
      "  rank_zero_warn(\n",
      "C:\\Users\\thu71\\AppData\\Roaming\\Python\\Python39\\site-packages\\lightning\\pytorch\\loops\\fit_loop.py:280: PossibleUserWarning: The number of training batches (5) is smaller than the logging interval Trainer(log_every_n_steps=10). Set a lower value for log_every_n_steps if you want to see logs for the training epoch.\n",
      "  rank_zero_warn(\n",
      "C:\\Users\\thu71\\Anaconda3\\envs\\snowflake\\lib\\site-packages\\torchmetrics\\utilities\\prints.py:36: UserWarning: No negative samples in targets, false positive value should be meaningless. Returning zero tensor in false positive score\n",
      "  warnings.warn(*args, **kwargs)\n",
      "C:\\Users\\thu71\\Anaconda3\\envs\\snowflake\\lib\\site-packages\\torchmetrics\\utilities\\prints.py:36: UserWarning: No positive samples in targets, true positive value should be meaningless. Returning zero tensor in true positive score\n",
      "  warnings.warn(*args, **kwargs)\n",
      "C:\\Users\\thu71\\Anaconda3\\envs\\snowflake\\lib\\site-packages\\torchmetrics\\utilities\\prints.py:36: UserWarning: No negative samples in targets, false positive value should be meaningless. Returning zero tensor in false positive score\n",
      "  warnings.warn(*args, **kwargs)\n",
      "C:\\Users\\thu71\\Anaconda3\\envs\\snowflake\\lib\\site-packages\\torchmetrics\\utilities\\prints.py:36: UserWarning: No negative samples in targets, false positive value should be meaningless. Returning zero tensor in false positive score\n",
      "  warnings.warn(*args, **kwargs)\n",
      "C:\\Users\\thu71\\Anaconda3\\envs\\snowflake\\lib\\site-packages\\torchmetrics\\utilities\\prints.py:36: UserWarning: No negative samples in targets, false positive value should be meaningless. Returning zero tensor in false positive score\n",
      "  warnings.warn(*args, **kwargs)\n",
      "C:\\Users\\thu71\\Anaconda3\\envs\\snowflake\\lib\\site-packages\\torchmetrics\\utilities\\prints.py:36: UserWarning: No negative samples in targets, false positive value should be meaningless. Returning zero tensor in false positive score\n",
      "  warnings.warn(*args, **kwargs)\n",
      "C:\\Users\\thu71\\Anaconda3\\envs\\snowflake\\lib\\site-packages\\torchmetrics\\utilities\\prints.py:36: UserWarning: No negative samples in targets, false positive value should be meaningless. Returning zero tensor in false positive score\n",
      "  warnings.warn(*args, **kwargs)\n",
      "C:\\Users\\thu71\\Anaconda3\\envs\\snowflake\\lib\\site-packages\\torchmetrics\\utilities\\prints.py:36: UserWarning: No negative samples in targets, false positive value should be meaningless. Returning zero tensor in false positive score\n",
      "  warnings.warn(*args, **kwargs)\n",
      "C:\\Users\\thu71\\Anaconda3\\envs\\snowflake\\lib\\site-packages\\torchmetrics\\utilities\\prints.py:36: UserWarning: No negative samples in targets, false positive value should be meaningless. Returning zero tensor in false positive score\n",
      "  warnings.warn(*args, **kwargs)\n",
      "C:\\Users\\thu71\\Anaconda3\\envs\\snowflake\\lib\\site-packages\\torchmetrics\\utilities\\prints.py:36: UserWarning: No negative samples in targets, false positive value should be meaningless. Returning zero tensor in false positive score\n",
      "  warnings.warn(*args, **kwargs)\n",
      "C:\\Users\\thu71\\Anaconda3\\envs\\snowflake\\lib\\site-packages\\torchmetrics\\utilities\\prints.py:36: UserWarning: No negative samples in targets, false positive value should be meaningless. Returning zero tensor in false positive score\n",
      "  warnings.warn(*args, **kwargs)\n",
      "C:\\Users\\thu71\\Anaconda3\\envs\\snowflake\\lib\\site-packages\\torchmetrics\\utilities\\prints.py:36: UserWarning: No negative samples in targets, false positive value should be meaningless. Returning zero tensor in false positive score\n",
      "  warnings.warn(*args, **kwargs)\n",
      "C:\\Users\\thu71\\Anaconda3\\envs\\snowflake\\lib\\site-packages\\torchmetrics\\utilities\\prints.py:36: UserWarning: No negative samples in targets, false positive value should be meaningless. Returning zero tensor in false positive score\n",
      "  warnings.warn(*args, **kwargs)\n",
      "`Trainer.fit` stopped: `max_epochs=100` reached.\n"
     ]
    },
    {
     "data": {
      "text/html": [
       "Waiting for W&B process to finish... <strong style=\"color:green\">(success).</strong>"
      ],
      "text/plain": [
       "<IPython.core.display.HTML object>"
      ]
     },
     "metadata": {},
     "output_type": "display_data"
    },
    {
     "data": {
      "application/vnd.jupyter.widget-view+json": {
       "model_id": "01ed5b3b3d694c2ab7eff69c86e595b7",
       "version_major": 2,
       "version_minor": 0
      },
      "text/plain": [
       "VBox(children=(Label(value='0.001 MB of 0.001 MB uploaded (0.000 MB deduped)\\r'), FloatProgress(value=1.0, max…"
      ]
     },
     "metadata": {},
     "output_type": "display_data"
    },
    {
     "data": {
      "text/html": [
       "<style>\n",
       "    table.wandb td:nth-child(1) { padding: 0 10px; text-align: left ; width: auto;} td:nth-child(2) {text-align: left ; width: 100%}\n",
       "    .wandb-row { display: flex; flex-direction: row; flex-wrap: wrap; justify-content: flex-start; width: 100% }\n",
       "    .wandb-col { display: flex; flex-direction: column; flex-basis: 100%; flex: 1; padding: 10px; }\n",
       "    </style>\n",
       "<div class=\"wandb-row\"><div class=\"wandb-col\"><h3>Run history:</h3><br/><table class=\"wandb\"><tr><td>epoch</td><td>▁▁▁▁▂▂▂▂▂▃▃▃▃▃▃▄▄▄▄▄▅▅▅▅▅▅▆▆▆▆▆▇▇▇▇▇▇███</td></tr><tr><td>lr-Adam</td><td>▁▁▁▁▁▁▁▁▁▁▁▁▁▁▁▁▁▁▁▁▁▁▁▁▁▁▁▁▁▁▁▁▁▁▁▁▁▁▁▁</td></tr><tr><td>train_acc</td><td>▁▂▄▅▅▅▅▅▅▆▆▆▆▆▇▆▆▆▇▇▆▇▇▇▇▇▇▆▇▇▇█▇▇▇██▇█▇</td></tr><tr><td>train_auc</td><td>▁▃▅▆▆▆▇▇▆▇▇▇▇▇▇▇▇▇▇▇▇▇▇▇▇███████████████</td></tr><tr><td>train_f1</td><td>▁▃▃▄▄▄▄▄▄▅▄▅▅▅▅▄▆▅▆▇▅▇▆▇▆▇▆▆▇▇▇▇▇▇▇██▇█▇</td></tr><tr><td>train_loss_epoch</td><td>█▇▅▄▄▄▄▄▄▃▄▄▃▃▃▃▃▃▃▂▃▂▂▂▂▂▂▃▂▂▂▁▂▁▁▁▁▂▁▂</td></tr><tr><td>train_loss_step</td><td>█▇▅▃▅▄▅▅▄▆▄▆▃▃▄▂▃▄▂▂▂▄▂▃▃▃▄▄▃▄▁▃▂▃▃▂▃▄▂▃</td></tr><tr><td>trainer/global_step</td><td>▁▁▁▁▂▁▂▂▂▂▃▂▃▃▂▄▃▄▃▄▃▅▃▅▄▆▄▆▄▆▄▇▇▅▇▅█▅█▅</td></tr><tr><td>val_acc</td><td>▁▃▅▅▆▅▅▅▅▅▅▆▅▇▇▆▆▆▅▆▅▇▅▆▅▆▇▆█▇▇▇█▇█▇█▇▇▆</td></tr><tr><td>val_auc</td><td>▁▄▆▅▇▅▅▆▆▆▆▇▇█▇███▇▇▇███▇▇███████▇█▇█▇▇▇</td></tr><tr><td>val_f1</td><td>▃▅▃▄▄▄▂▃▃▄▃▅▄▅▆▃▄▃▄▅▃▇▁▄▂▅▆▃█▇▇▆█▅█▇█▇▇▄</td></tr><tr><td>val_loss_epoch</td><td>█▇▆▅▄▄▃▅▃▄▅▅▃▄▃▆▅▄▃▃▄▁▆▂█▄▄▅▆▃▁▄▃▃▃▂▃▃▅▅</td></tr><tr><td>val_loss_step</td><td>▅▅▄▄▄▅▂▄▄▇▄▅▄▃▄▄▄▃▃▃▃▄▅▄▃▄▄▄█▄▁▃▃▃▃▄▄▄▃▆</td></tr></table><br/></div><div class=\"wandb-col\"><h3>Run summary:</h3><br/><table class=\"wandb\"><tr><td>epoch</td><td>99</td></tr><tr><td>lr-Adam</td><td>0.005</td></tr><tr><td>train_acc</td><td>0.8479</td></tr><tr><td>train_auc</td><td>0.90888</td></tr><tr><td>train_f1</td><td>0.86053</td></tr><tr><td>train_loss_epoch</td><td>0.47108</td></tr><tr><td>train_loss_step</td><td>0.46671</td></tr><tr><td>trainer/global_step</td><td>499</td></tr><tr><td>val_acc</td><td>0.74436</td></tr><tr><td>val_auc</td><td>0.81914</td></tr><tr><td>val_f1</td><td>0.74627</td></tr><tr><td>val_loss_epoch</td><td>0.59842</td></tr><tr><td>val_loss_step</td><td>0.69512</td></tr></table><br/></div></div>"
      ],
      "text/plain": [
       "<IPython.core.display.HTML object>"
      ]
     },
     "metadata": {},
     "output_type": "display_data"
    },
    {
     "data": {
      "text/html": [
       " View run <strong style=\"color:#cdcd00\">GCN_2_16_2_moprh</strong> at: <a href='https://wandb.ai/thoomas/SF_082423_Covid/runs/nghtkfew' target=\"_blank\">https://wandb.ai/thoomas/SF_082423_Covid/runs/nghtkfew</a><br/>Synced 5 W&B file(s), 0 media file(s), 0 artifact file(s) and 0 other file(s)"
      ],
      "text/plain": [
       "<IPython.core.display.HTML object>"
      ]
     },
     "metadata": {},
     "output_type": "display_data"
    },
    {
     "data": {
      "text/html": [
       "Find logs at: <code>.\\wandb\\run-20230828_163547-nghtkfew\\logs</code>"
      ],
      "text/plain": [
       "<IPython.core.display.HTML object>"
      ]
     },
     "metadata": {},
     "output_type": "display_data"
    },
    {
     "data": {
      "application/vnd.jupyter.widget-view+json": {
       "model_id": "ef1dd76b59114213a271d78c8c3aeb42",
       "version_major": 2,
       "version_minor": 0
      },
      "text/plain": [
       "VBox(children=(Label(value='Waiting for wandb.init()...\\r'), FloatProgress(value=0.016666666666666666, max=1.0…"
      ]
     },
     "metadata": {},
     "output_type": "display_data"
    },
    {
     "data": {
      "text/html": [
       "wandb version 0.15.9 is available!  To upgrade, please run:\n",
       " $ pip install wandb --upgrade"
      ],
      "text/plain": [
       "<IPython.core.display.HTML object>"
      ]
     },
     "metadata": {},
     "output_type": "display_data"
    },
    {
     "data": {
      "text/html": [
       "Tracking run with wandb version 0.14.0"
      ],
      "text/plain": [
       "<IPython.core.display.HTML object>"
      ]
     },
     "metadata": {},
     "output_type": "display_data"
    },
    {
     "data": {
      "text/html": [
       "Run data is saved locally in <code>Y:\\coskun-lab\\Thomas\\11_snowflakes\\notebooks\\wandb\\run-20230828_171217-b8gch15m</code>"
      ],
      "text/plain": [
       "<IPython.core.display.HTML object>"
      ]
     },
     "metadata": {},
     "output_type": "display_data"
    },
    {
     "data": {
      "text/html": [
       "Syncing run <strong><a href='https://wandb.ai/thoomas/SF_082423_Covid/runs/b8gch15m' target=\"_blank\">GraphConv_2_16_2_moprh</a></strong> to <a href='https://wandb.ai/thoomas/SF_082423_Covid' target=\"_blank\">Weights & Biases</a> (<a href='https://wandb.me/run' target=\"_blank\">docs</a>)<br/>"
      ],
      "text/plain": [
       "<IPython.core.display.HTML object>"
      ]
     },
     "metadata": {},
     "output_type": "display_data"
    },
    {
     "data": {
      "text/html": [
       " View project at <a href='https://wandb.ai/thoomas/SF_082423_Covid' target=\"_blank\">https://wandb.ai/thoomas/SF_082423_Covid</a>"
      ],
      "text/plain": [
       "<IPython.core.display.HTML object>"
      ]
     },
     "metadata": {},
     "output_type": "display_data"
    },
    {
     "data": {
      "text/html": [
       " View run at <a href='https://wandb.ai/thoomas/SF_082423_Covid/runs/b8gch15m' target=\"_blank\">https://wandb.ai/thoomas/SF_082423_Covid/runs/b8gch15m</a>"
      ],
      "text/plain": [
       "<IPython.core.display.HTML object>"
      ]
     },
     "metadata": {},
     "output_type": "display_data"
    },
    {
     "name": "stderr",
     "output_type": "stream",
     "text": [
      "Global seed set to 42\n",
      "C:\\Users\\thu71\\Anaconda3\\envs\\snowflake\\lib\\site-packages\\pytorch_lightning\\loggers\\wandb.py:395: UserWarning: There is a wandb run already in progress and newly created instances of `WandbLogger` will reuse this run. If this is not desired, call `wandb.finish()` before instantiating `WandbLogger`.\n",
      "  rank_zero_warn(\n",
      "GPU available: True (cuda), used: True\n",
      "TPU available: False, using: 0 TPU cores\n",
      "IPU available: False, using: 0 IPUs\n",
      "HPU available: False, using: 0 HPUs\n",
      "Global seed set to 42\n",
      "C:\\Users\\thu71\\Anaconda3\\envs\\snowflake\\lib\\site-packages\\torch_geometric\\deprecation.py:12: UserWarning: 'nn.glob.GlobalAttention' is deprecated, use 'nn.aggr.AttentionalAggregation' instead\n",
      "  warnings.warn(out)\n",
      "LOCAL_RANK: 0 - CUDA_VISIBLE_DEVICES: [0,1]\n",
      "\n",
      "   | Name           | Type             | Params\n",
      "-----------------------------------------------------\n",
      "0  | feat_embedding | Sequential       | 832   \n",
      "1  | model          | GNNModel         | 736   \n",
      "2  | head           | BilinearFusion   | 19.6 K\n",
      "3  | pred           | Linear           | 34    \n",
      "4  | fnn_layer      | Linear           | 272   \n",
      "5  | selu           | SELU             | 0     \n",
      "6  | loss_module    | CrossEntropyLoss | 0     \n",
      "7  | train_acc      | BinaryAccuracy   | 0     \n",
      "8  | train_auroc    | BinaryAUROC      | 0     \n",
      "9  | train_f1       | BinaryF1Score    | 0     \n",
      "10 | valid_acc      | BinaryAccuracy   | 0     \n",
      "11 | valid_auroc    | BinaryAUROC      | 0     \n",
      "12 | valid_f1       | BinaryF1Score    | 0     \n",
      "13 | pool           | GlobalAttention  | 17    \n",
      "-----------------------------------------------------\n",
      "21.5 K    Trainable params\n",
      "0         Non-trainable params\n",
      "21.5 K    Total params\n",
      "0.086     Total estimated model params size (MB)\n",
      "C:\\Users\\thu71\\AppData\\Roaming\\Python\\Python39\\site-packages\\lightning\\pytorch\\trainer\\connectors\\data_connector.py:478: PossibleUserWarning: Your `val_dataloader`'s sampler has shuffling enabled, it is strongly recommended that you turn shuffling off for val/test dataloaders.\n",
      "  rank_zero_warn(\n",
      "C:\\Users\\thu71\\AppData\\Roaming\\Python\\Python39\\site-packages\\lightning\\pytorch\\trainer\\connectors\\data_connector.py:430: PossibleUserWarning: The dataloader, val_dataloader, does not have many workers which may be a bottleneck. Consider increasing the value of the `num_workers` argument` (try 48 which is the number of cpus on this machine) in the `DataLoader` init to improve performance.\n",
      "  rank_zero_warn(\n"
     ]
    },
    {
     "name": "stdout",
     "output_type": "stream",
     "text": [
      "Training with Morphological features\n"
     ]
    },
    {
     "name": "stderr",
     "output_type": "stream",
     "text": [
      "C:\\Users\\thu71\\AppData\\Roaming\\Python\\Python39\\site-packages\\lightning\\pytorch\\trainer\\connectors\\data_connector.py:430: PossibleUserWarning: The dataloader, train_dataloader, does not have many workers which may be a bottleneck. Consider increasing the value of the `num_workers` argument` (try 48 which is the number of cpus on this machine) in the `DataLoader` init to improve performance.\n",
      "  rank_zero_warn(\n",
      "C:\\Users\\thu71\\AppData\\Roaming\\Python\\Python39\\site-packages\\lightning\\pytorch\\loops\\fit_loop.py:280: PossibleUserWarning: The number of training batches (5) is smaller than the logging interval Trainer(log_every_n_steps=10). Set a lower value for log_every_n_steps if you want to see logs for the training epoch.\n",
      "  rank_zero_warn(\n",
      "C:\\Users\\thu71\\Anaconda3\\envs\\snowflake\\lib\\site-packages\\torchmetrics\\utilities\\prints.py:36: UserWarning: No negative samples in targets, false positive value should be meaningless. Returning zero tensor in false positive score\n",
      "  warnings.warn(*args, **kwargs)\n",
      "C:\\Users\\thu71\\Anaconda3\\envs\\snowflake\\lib\\site-packages\\torchmetrics\\utilities\\prints.py:36: UserWarning: No negative samples in targets, false positive value should be meaningless. Returning zero tensor in false positive score\n",
      "  warnings.warn(*args, **kwargs)\n",
      "C:\\Users\\thu71\\Anaconda3\\envs\\snowflake\\lib\\site-packages\\torchmetrics\\utilities\\prints.py:36: UserWarning: No negative samples in targets, false positive value should be meaningless. Returning zero tensor in false positive score\n",
      "  warnings.warn(*args, **kwargs)\n",
      "C:\\Users\\thu71\\Anaconda3\\envs\\snowflake\\lib\\site-packages\\torchmetrics\\utilities\\prints.py:36: UserWarning: No negative samples in targets, false positive value should be meaningless. Returning zero tensor in false positive score\n",
      "  warnings.warn(*args, **kwargs)\n",
      "C:\\Users\\thu71\\Anaconda3\\envs\\snowflake\\lib\\site-packages\\torchmetrics\\utilities\\prints.py:36: UserWarning: No negative samples in targets, false positive value should be meaningless. Returning zero tensor in false positive score\n",
      "  warnings.warn(*args, **kwargs)\n",
      "C:\\Users\\thu71\\Anaconda3\\envs\\snowflake\\lib\\site-packages\\torchmetrics\\utilities\\prints.py:36: UserWarning: No negative samples in targets, false positive value should be meaningless. Returning zero tensor in false positive score\n",
      "  warnings.warn(*args, **kwargs)\n",
      "C:\\Users\\thu71\\Anaconda3\\envs\\snowflake\\lib\\site-packages\\torchmetrics\\utilities\\prints.py:36: UserWarning: No negative samples in targets, false positive value should be meaningless. Returning zero tensor in false positive score\n",
      "  warnings.warn(*args, **kwargs)\n",
      "C:\\Users\\thu71\\Anaconda3\\envs\\snowflake\\lib\\site-packages\\torchmetrics\\utilities\\prints.py:36: UserWarning: No negative samples in targets, false positive value should be meaningless. Returning zero tensor in false positive score\n",
      "  warnings.warn(*args, **kwargs)\n",
      "C:\\Users\\thu71\\Anaconda3\\envs\\snowflake\\lib\\site-packages\\torchmetrics\\utilities\\prints.py:36: UserWarning: No negative samples in targets, false positive value should be meaningless. Returning zero tensor in false positive score\n",
      "  warnings.warn(*args, **kwargs)\n",
      "`Trainer.fit` stopped: `max_epochs=100` reached.\n"
     ]
    },
    {
     "data": {
      "text/html": [
       "Waiting for W&B process to finish... <strong style=\"color:green\">(success).</strong>"
      ],
      "text/plain": [
       "<IPython.core.display.HTML object>"
      ]
     },
     "metadata": {},
     "output_type": "display_data"
    },
    {
     "data": {
      "application/vnd.jupyter.widget-view+json": {
       "model_id": "7dbe515cac0d488c9533b7308d6b65fa",
       "version_major": 2,
       "version_minor": 0
      },
      "text/plain": [
       "VBox(children=(Label(value='0.001 MB of 0.001 MB uploaded (0.000 MB deduped)\\r'), FloatProgress(value=1.0, max…"
      ]
     },
     "metadata": {},
     "output_type": "display_data"
    },
    {
     "data": {
      "text/html": [
       "<style>\n",
       "    table.wandb td:nth-child(1) { padding: 0 10px; text-align: left ; width: auto;} td:nth-child(2) {text-align: left ; width: 100%}\n",
       "    .wandb-row { display: flex; flex-direction: row; flex-wrap: wrap; justify-content: flex-start; width: 100% }\n",
       "    .wandb-col { display: flex; flex-direction: column; flex-basis: 100%; flex: 1; padding: 10px; }\n",
       "    </style>\n",
       "<div class=\"wandb-row\"><div class=\"wandb-col\"><h3>Run history:</h3><br/><table class=\"wandb\"><tr><td>epoch</td><td>▁▁▁▁▂▂▂▂▂▃▃▃▃▃▃▄▄▄▄▄▅▅▅▅▅▅▆▆▆▆▆▇▇▇▇▇▇███</td></tr><tr><td>lr-Adam</td><td>▁▁▁▁▁▁▁▁▁▁▁▁▁▁▁▁▁▁▁▁▁▁▁▁▁▁▁▁▁▁▁▁▁▁▁▁▁▁▁▁</td></tr><tr><td>train_acc</td><td>▁▃▅▅▅▅▆▆▇▆▇▆▆▇▇▇▆▇▇▇▇▇▆▇▇▇▇▇▇▇▇▇▇▇█▇▇▇▇▇</td></tr><tr><td>train_auc</td><td>▁▄▆▆▆▆▆▇▇▆▇▆▇▇▇▇▇▇▇▇▇▇▇▇▇▇████▇▇▇██▇██▇█</td></tr><tr><td>train_f1</td><td>▁▂▂▃▄▃▄▄▅▅▆▅▅▆▆▇▅▇▆▆▇▇▅▆▆▆▇▇▇▇▇▇▇▇█▆▇▇▇▇</td></tr><tr><td>train_loss_epoch</td><td>█▆▄▄▄▄▄▃▃▃▂▃▃▂▂▂▃▂▂▃▂▂▃▂▂▂▂▂▂▁▂▂▁▂▁▂▂▂▂▂</td></tr><tr><td>train_loss_step</td><td>█▅▆▇▄▇▆▄▅▆▆▂▄▄▆▄▃▃▄▄▅▂▄▃▃▄▅▁▄▂▅▃▂▃▂▄▄▆▃▅</td></tr><tr><td>trainer/global_step</td><td>▁▁▁▁▂▁▂▂▂▂▃▂▃▃▂▄▃▄▃▄▃▅▃▅▄▆▄▆▄▆▄▇▇▅▇▅█▅█▅</td></tr><tr><td>val_acc</td><td>▁▄▅▅▅▅▆▆▆▅▇▇██▇▇▇██▇▇▇▇▇██▇▇▇▇▇█▇▇▇▇█▆▇▇</td></tr><tr><td>val_auc</td><td>▁▅▇▆▇▇█▇▇██▇██▇▇█▇███▇██▇▇█▇█▇▇██▇█▇█▇▇▇</td></tr><tr><td>val_f1</td><td>▂▁▃▂▂▁▃▅▅▂▅▆▇█▇▇▅▇▇▅▅▆▅▆██▆▆▆▆▆▇▅▆▆▇█▄▆▆</td></tr><tr><td>val_loss_epoch</td><td>█▅▅▃▄▆▃▄▂▄▃▁▁▅▁▃▂▁▅▂▂▄▅▆▃▁▂▃▆▄▃▃▅▂▃▁▃▄▃▃</td></tr><tr><td>val_loss_step</td><td>▅▅▅▂▄▅▃▄▅▄▃▁▃▄▁▃▄▁▄▄▄▄▆▄▃▁▃▄█▄▅▃▄▂▃▃▄▅▄▄</td></tr></table><br/></div><div class=\"wandb-col\"><h3>Run summary:</h3><br/><table class=\"wandb\"><tr><td>epoch</td><td>99</td></tr><tr><td>lr-Adam</td><td>0.005</td></tr><tr><td>train_acc</td><td>0.85437</td></tr><tr><td>train_auc</td><td>0.90817</td></tr><tr><td>train_f1</td><td>0.87324</td></tr><tr><td>train_loss_epoch</td><td>0.45611</td></tr><tr><td>train_loss_step</td><td>0.52762</td></tr><tr><td>trainer/global_step</td><td>499</td></tr><tr><td>val_acc</td><td>0.78947</td></tr><tr><td>val_auc</td><td>0.83103</td></tr><tr><td>val_f1</td><td>0.80822</td></tr><tr><td>val_loss_epoch</td><td>0.5127</td></tr><tr><td>val_loss_step</td><td>0.51453</td></tr></table><br/></div></div>"
      ],
      "text/plain": [
       "<IPython.core.display.HTML object>"
      ]
     },
     "metadata": {},
     "output_type": "display_data"
    },
    {
     "data": {
      "text/html": [
       " View run <strong style=\"color:#cdcd00\">GraphConv_2_16_2_moprh</strong> at: <a href='https://wandb.ai/thoomas/SF_082423_Covid/runs/b8gch15m' target=\"_blank\">https://wandb.ai/thoomas/SF_082423_Covid/runs/b8gch15m</a><br/>Synced 5 W&B file(s), 0 media file(s), 0 artifact file(s) and 0 other file(s)"
      ],
      "text/plain": [
       "<IPython.core.display.HTML object>"
      ]
     },
     "metadata": {},
     "output_type": "display_data"
    },
    {
     "data": {
      "text/html": [
       "Find logs at: <code>.\\wandb\\run-20230828_171217-b8gch15m\\logs</code>"
      ],
      "text/plain": [
       "<IPython.core.display.HTML object>"
      ]
     },
     "metadata": {},
     "output_type": "display_data"
    },
    {
     "data": {
      "application/vnd.jupyter.widget-view+json": {
       "model_id": "9b88b6bba43e4caebf40d3af0d01b834",
       "version_major": 2,
       "version_minor": 0
      },
      "text/plain": [
       "VBox(children=(Label(value='Waiting for wandb.init()...\\r'), FloatProgress(value=0.01693333333338766, max=1.0)…"
      ]
     },
     "metadata": {},
     "output_type": "display_data"
    },
    {
     "data": {
      "text/html": [
       "wandb version 0.15.9 is available!  To upgrade, please run:\n",
       " $ pip install wandb --upgrade"
      ],
      "text/plain": [
       "<IPython.core.display.HTML object>"
      ]
     },
     "metadata": {},
     "output_type": "display_data"
    },
    {
     "data": {
      "text/html": [
       "Tracking run with wandb version 0.14.0"
      ],
      "text/plain": [
       "<IPython.core.display.HTML object>"
      ]
     },
     "metadata": {},
     "output_type": "display_data"
    },
    {
     "data": {
      "text/html": [
       "Run data is saved locally in <code>Y:\\coskun-lab\\Thomas\\11_snowflakes\\notebooks\\wandb\\run-20230828_175143-n1cl4w8w</code>"
      ],
      "text/plain": [
       "<IPython.core.display.HTML object>"
      ]
     },
     "metadata": {},
     "output_type": "display_data"
    },
    {
     "data": {
      "text/html": [
       "Syncing run <strong><a href='https://wandb.ai/thoomas/SF_082423_Covid/runs/n1cl4w8w' target=\"_blank\">GINConv_2_16_2_moprh</a></strong> to <a href='https://wandb.ai/thoomas/SF_082423_Covid' target=\"_blank\">Weights & Biases</a> (<a href='https://wandb.me/run' target=\"_blank\">docs</a>)<br/>"
      ],
      "text/plain": [
       "<IPython.core.display.HTML object>"
      ]
     },
     "metadata": {},
     "output_type": "display_data"
    },
    {
     "data": {
      "text/html": [
       " View project at <a href='https://wandb.ai/thoomas/SF_082423_Covid' target=\"_blank\">https://wandb.ai/thoomas/SF_082423_Covid</a>"
      ],
      "text/plain": [
       "<IPython.core.display.HTML object>"
      ]
     },
     "metadata": {},
     "output_type": "display_data"
    },
    {
     "data": {
      "text/html": [
       " View run at <a href='https://wandb.ai/thoomas/SF_082423_Covid/runs/n1cl4w8w' target=\"_blank\">https://wandb.ai/thoomas/SF_082423_Covid/runs/n1cl4w8w</a>"
      ],
      "text/plain": [
       "<IPython.core.display.HTML object>"
      ]
     },
     "metadata": {},
     "output_type": "display_data"
    },
    {
     "name": "stderr",
     "output_type": "stream",
     "text": [
      "Global seed set to 42\n",
      "C:\\Users\\thu71\\Anaconda3\\envs\\snowflake\\lib\\site-packages\\pytorch_lightning\\loggers\\wandb.py:395: UserWarning: There is a wandb run already in progress and newly created instances of `WandbLogger` will reuse this run. If this is not desired, call `wandb.finish()` before instantiating `WandbLogger`.\n",
      "  rank_zero_warn(\n",
      "GPU available: True (cuda), used: True\n",
      "TPU available: False, using: 0 TPU cores\n",
      "IPU available: False, using: 0 IPUs\n",
      "HPU available: False, using: 0 HPUs\n",
      "Global seed set to 42\n",
      "C:\\Users\\thu71\\Anaconda3\\envs\\snowflake\\lib\\site-packages\\torch_geometric\\deprecation.py:12: UserWarning: 'nn.glob.GlobalAttention' is deprecated, use 'nn.aggr.AttentionalAggregation' instead\n",
      "  warnings.warn(out)\n",
      "LOCAL_RANK: 0 - CUDA_VISIBLE_DEVICES: [0,1]\n",
      "\n",
      "   | Name           | Type             | Params\n",
      "-----------------------------------------------------\n",
      "0  | feat_embedding | Sequential       | 832   \n",
      "1  | model          | GIN              | 1.0 K \n",
      "2  | head           | BilinearFusion   | 19.6 K\n",
      "3  | pred           | Linear           | 34    \n",
      "4  | fnn_layer      | Linear           | 272   \n",
      "5  | selu           | SELU             | 0     \n",
      "6  | loss_module    | CrossEntropyLoss | 0     \n",
      "7  | train_acc      | BinaryAccuracy   | 0     \n",
      "8  | train_auroc    | BinaryAUROC      | 0     \n",
      "9  | train_f1       | BinaryF1Score    | 0     \n",
      "10 | valid_acc      | BinaryAccuracy   | 0     \n",
      "11 | valid_auroc    | BinaryAUROC      | 0     \n",
      "12 | valid_f1       | BinaryF1Score    | 0     \n",
      "13 | pool           | GlobalAttention  | 17    \n",
      "-----------------------------------------------------\n",
      "21.8 K    Trainable params\n",
      "0         Non-trainable params\n",
      "21.8 K    Total params\n",
      "0.087     Total estimated model params size (MB)\n"
     ]
    },
    {
     "name": "stdout",
     "output_type": "stream",
     "text": [
      "Training with Morphological features\n"
     ]
    },
    {
     "name": "stderr",
     "output_type": "stream",
     "text": [
      "C:\\Users\\thu71\\AppData\\Roaming\\Python\\Python39\\site-packages\\lightning\\pytorch\\trainer\\connectors\\data_connector.py:478: PossibleUserWarning: Your `val_dataloader`'s sampler has shuffling enabled, it is strongly recommended that you turn shuffling off for val/test dataloaders.\n",
      "  rank_zero_warn(\n",
      "C:\\Users\\thu71\\AppData\\Roaming\\Python\\Python39\\site-packages\\lightning\\pytorch\\trainer\\connectors\\data_connector.py:430: PossibleUserWarning: The dataloader, val_dataloader, does not have many workers which may be a bottleneck. Consider increasing the value of the `num_workers` argument` (try 48 which is the number of cpus on this machine) in the `DataLoader` init to improve performance.\n",
      "  rank_zero_warn(\n",
      "C:\\Users\\thu71\\AppData\\Roaming\\Python\\Python39\\site-packages\\lightning\\pytorch\\trainer\\connectors\\data_connector.py:430: PossibleUserWarning: The dataloader, train_dataloader, does not have many workers which may be a bottleneck. Consider increasing the value of the `num_workers` argument` (try 48 which is the number of cpus on this machine) in the `DataLoader` init to improve performance.\n",
      "  rank_zero_warn(\n",
      "C:\\Users\\thu71\\AppData\\Roaming\\Python\\Python39\\site-packages\\lightning\\pytorch\\loops\\fit_loop.py:280: PossibleUserWarning: The number of training batches (5) is smaller than the logging interval Trainer(log_every_n_steps=10). Set a lower value for log_every_n_steps if you want to see logs for the training epoch.\n",
      "  rank_zero_warn(\n",
      "C:\\Users\\thu71\\Anaconda3\\envs\\snowflake\\lib\\site-packages\\torchmetrics\\utilities\\prints.py:36: UserWarning: No negative samples in targets, false positive value should be meaningless. Returning zero tensor in false positive score\n",
      "  warnings.warn(*args, **kwargs)\n",
      "C:\\Users\\thu71\\Anaconda3\\envs\\snowflake\\lib\\site-packages\\torchmetrics\\utilities\\prints.py:36: UserWarning: No negative samples in targets, false positive value should be meaningless. Returning zero tensor in false positive score\n",
      "  warnings.warn(*args, **kwargs)\n",
      "C:\\Users\\thu71\\Anaconda3\\envs\\snowflake\\lib\\site-packages\\torchmetrics\\utilities\\prints.py:36: UserWarning: No negative samples in targets, false positive value should be meaningless. Returning zero tensor in false positive score\n",
      "  warnings.warn(*args, **kwargs)\n",
      "C:\\Users\\thu71\\Anaconda3\\envs\\snowflake\\lib\\site-packages\\torchmetrics\\utilities\\prints.py:36: UserWarning: No negative samples in targets, false positive value should be meaningless. Returning zero tensor in false positive score\n",
      "  warnings.warn(*args, **kwargs)\n",
      "C:\\Users\\thu71\\Anaconda3\\envs\\snowflake\\lib\\site-packages\\torchmetrics\\utilities\\prints.py:36: UserWarning: No positive samples in targets, true positive value should be meaningless. Returning zero tensor in true positive score\n",
      "  warnings.warn(*args, **kwargs)\n",
      "`Trainer.fit` stopped: `max_epochs=100` reached.\n"
     ]
    },
    {
     "data": {
      "text/html": [
       "Waiting for W&B process to finish... <strong style=\"color:green\">(success).</strong>"
      ],
      "text/plain": [
       "<IPython.core.display.HTML object>"
      ]
     },
     "metadata": {},
     "output_type": "display_data"
    },
    {
     "data": {
      "application/vnd.jupyter.widget-view+json": {
       "model_id": "114ec5b96f5c4f8dac1a2f313f2f3d26",
       "version_major": 2,
       "version_minor": 0
      },
      "text/plain": [
       "VBox(children=(Label(value='0.001 MB of 0.001 MB uploaded (0.000 MB deduped)\\r'), FloatProgress(value=1.0, max…"
      ]
     },
     "metadata": {},
     "output_type": "display_data"
    },
    {
     "data": {
      "text/html": [
       "<style>\n",
       "    table.wandb td:nth-child(1) { padding: 0 10px; text-align: left ; width: auto;} td:nth-child(2) {text-align: left ; width: 100%}\n",
       "    .wandb-row { display: flex; flex-direction: row; flex-wrap: wrap; justify-content: flex-start; width: 100% }\n",
       "    .wandb-col { display: flex; flex-direction: column; flex-basis: 100%; flex: 1; padding: 10px; }\n",
       "    </style>\n",
       "<div class=\"wandb-row\"><div class=\"wandb-col\"><h3>Run history:</h3><br/><table class=\"wandb\"><tr><td>epoch</td><td>▁▁▁▁▂▂▂▂▂▃▃▃▃▃▃▄▄▄▄▄▅▅▅▅▅▅▆▆▆▆▆▇▇▇▇▇▇███</td></tr><tr><td>lr-Adam</td><td>▁▁▁▁▁▁▁▁▁▁▁▁▁▁▁▁▁▁▁▁▁▁▁▁▁▁▁▁▁▁▁▁▁▁▁▁▁▁▁▁</td></tr><tr><td>train_acc</td><td>▁▁▄▄▆▆▇▆▆▆▇▇▇▆▇▇▇▇▇▇▆▇▇▇▇██▇█▇▇███▇▇█▇▇█</td></tr><tr><td>train_auc</td><td>▁▂▅▆▇▇▇▆▇▇▇▇▇▇██████▇█▇███████████▇█████</td></tr><tr><td>train_f1</td><td>▁▂▃▄▅▅▆▅▅▆▇▆▆▆▇▇▇▆▇▇▅▇▆▇▇██▇▇▇▇███▆▇▇▇▇█</td></tr><tr><td>train_loss_epoch</td><td>██▆▅▄▄▃▄▃▃▂▂▂▃▂▂▂▂▂▂▃▂▃▂▂▁▁▂▂▂▂▁▁▁▂▂▂▂▂▂</td></tr><tr><td>train_loss_step</td><td>█▇▇▄▄▅▄▅▄▃▄▄▅▃▄▅▅▃▄▂▃▃▅▄▃▂▂▃▃▄▃▅▁▂▂▃▃▂▃▅</td></tr><tr><td>trainer/global_step</td><td>▁▁▁▁▂▁▂▂▂▂▃▂▃▃▂▄▃▄▃▄▃▅▃▅▄▆▄▆▄▆▄▇▇▅▇▅█▅█▅</td></tr><tr><td>val_acc</td><td>▁▁▆▇▇▇█▇▅▆█▅▅▇▅▆▆▇▇▅▅▆▇▆▇▆▇▇▆▇▇▇▇▆▆▇▆▆▇▆</td></tr><tr><td>val_auc</td><td>▁▃▇▇▇▇██▇▇█▇▇▇█▇▇▇▇▇▇▇██████▇▇▇██▇██████</td></tr><tr><td>val_f1</td><td>▁▁▅▇▆▇█▇▂▅█▃▂▆▂▃▅▅▆▂▂▄▆▄▆▄▆▆▃▆▅▅▅▃▄▅▃▃▅▃</td></tr><tr><td>val_loss_epoch</td><td>██▃▃▃▅▂▂▅▃▁▂▄▃▂▅▅▃▃▇▅▅▃▂▁▂▅▁▆▅▆▂▃▄▄▁▅▆▁▄</td></tr><tr><td>val_loss_step</td><td>▆▆▄▃▃▃▄▄▅▂▂▂▄▃▁▄▃▄▄▅▄▄▄▄▄▁▃▅█▃▆▃▄▄▃▄▆▃▄▄</td></tr></table><br/></div><div class=\"wandb-col\"><h3>Run summary:</h3><br/><table class=\"wandb\"><tr><td>epoch</td><td>99</td></tr><tr><td>lr-Adam</td><td>0.005</td></tr><tr><td>train_acc</td><td>0.89644</td></tr><tr><td>train_auc</td><td>0.94123</td></tr><tr><td>train_f1</td><td>0.90698</td></tr><tr><td>train_loss_epoch</td><td>0.42364</td></tr><tr><td>train_loss_step</td><td>0.51643</td></tr><tr><td>trainer/global_step</td><td>499</td></tr><tr><td>val_acc</td><td>0.76692</td></tr><tr><td>val_auc</td><td>0.90212</td></tr><tr><td>val_f1</td><td>0.76692</td></tr><tr><td>val_loss_epoch</td><td>0.51925</td></tr><tr><td>val_loss_step</td><td>0.51269</td></tr></table><br/></div></div>"
      ],
      "text/plain": [
       "<IPython.core.display.HTML object>"
      ]
     },
     "metadata": {},
     "output_type": "display_data"
    },
    {
     "data": {
      "text/html": [
       " View run <strong style=\"color:#cdcd00\">GINConv_2_16_2_moprh</strong> at: <a href='https://wandb.ai/thoomas/SF_082423_Covid/runs/n1cl4w8w' target=\"_blank\">https://wandb.ai/thoomas/SF_082423_Covid/runs/n1cl4w8w</a><br/>Synced 5 W&B file(s), 0 media file(s), 0 artifact file(s) and 0 other file(s)"
      ],
      "text/plain": [
       "<IPython.core.display.HTML object>"
      ]
     },
     "metadata": {},
     "output_type": "display_data"
    },
    {
     "data": {
      "text/html": [
       "Find logs at: <code>.\\wandb\\run-20230828_175143-n1cl4w8w\\logs</code>"
      ],
      "text/plain": [
       "<IPython.core.display.HTML object>"
      ]
     },
     "metadata": {},
     "output_type": "display_data"
    },
    {
     "data": {
      "application/vnd.jupyter.widget-view+json": {
       "model_id": "3e43cfb88d3342eab8a5129a61a9873c",
       "version_major": 2,
       "version_minor": 0
      },
      "text/plain": [
       "VBox(children=(Label(value='Waiting for wandb.init()...\\r'), FloatProgress(value=0.01693333333338766, max=1.0)…"
      ]
     },
     "metadata": {},
     "output_type": "display_data"
    },
    {
     "data": {
      "text/html": [
       "wandb version 0.15.9 is available!  To upgrade, please run:\n",
       " $ pip install wandb --upgrade"
      ],
      "text/plain": [
       "<IPython.core.display.HTML object>"
      ]
     },
     "metadata": {},
     "output_type": "display_data"
    },
    {
     "data": {
      "text/html": [
       "Tracking run with wandb version 0.14.0"
      ],
      "text/plain": [
       "<IPython.core.display.HTML object>"
      ]
     },
     "metadata": {},
     "output_type": "display_data"
    },
    {
     "data": {
      "text/html": [
       "Run data is saved locally in <code>Y:\\coskun-lab\\Thomas\\11_snowflakes\\notebooks\\wandb\\run-20230828_183324-g3kcea7r</code>"
      ],
      "text/plain": [
       "<IPython.core.display.HTML object>"
      ]
     },
     "metadata": {},
     "output_type": "display_data"
    },
    {
     "data": {
      "text/html": [
       "Syncing run <strong><a href='https://wandb.ai/thoomas/SF_082423_Covid/runs/g3kcea7r' target=\"_blank\">GCN_2_16_3_moprh</a></strong> to <a href='https://wandb.ai/thoomas/SF_082423_Covid' target=\"_blank\">Weights & Biases</a> (<a href='https://wandb.me/run' target=\"_blank\">docs</a>)<br/>"
      ],
      "text/plain": [
       "<IPython.core.display.HTML object>"
      ]
     },
     "metadata": {},
     "output_type": "display_data"
    },
    {
     "data": {
      "text/html": [
       " View project at <a href='https://wandb.ai/thoomas/SF_082423_Covid' target=\"_blank\">https://wandb.ai/thoomas/SF_082423_Covid</a>"
      ],
      "text/plain": [
       "<IPython.core.display.HTML object>"
      ]
     },
     "metadata": {},
     "output_type": "display_data"
    },
    {
     "data": {
      "text/html": [
       " View run at <a href='https://wandb.ai/thoomas/SF_082423_Covid/runs/g3kcea7r' target=\"_blank\">https://wandb.ai/thoomas/SF_082423_Covid/runs/g3kcea7r</a>"
      ],
      "text/plain": [
       "<IPython.core.display.HTML object>"
      ]
     },
     "metadata": {},
     "output_type": "display_data"
    },
    {
     "name": "stderr",
     "output_type": "stream",
     "text": [
      "Global seed set to 42\n",
      "C:\\Users\\thu71\\Anaconda3\\envs\\snowflake\\lib\\site-packages\\pytorch_lightning\\loggers\\wandb.py:395: UserWarning: There is a wandb run already in progress and newly created instances of `WandbLogger` will reuse this run. If this is not desired, call `wandb.finish()` before instantiating `WandbLogger`.\n",
      "  rank_zero_warn(\n",
      "GPU available: True (cuda), used: True\n",
      "TPU available: False, using: 0 TPU cores\n",
      "IPU available: False, using: 0 IPUs\n",
      "HPU available: False, using: 0 HPUs\n",
      "Global seed set to 42\n",
      "C:\\Users\\thu71\\Anaconda3\\envs\\snowflake\\lib\\site-packages\\torch_geometric\\deprecation.py:12: UserWarning: 'nn.glob.GlobalAttention' is deprecated, use 'nn.aggr.AttentionalAggregation' instead\n",
      "  warnings.warn(out)\n",
      "LOCAL_RANK: 0 - CUDA_VISIBLE_DEVICES: [0,1]\n",
      "\n",
      "   | Name           | Type             | Params\n",
      "-----------------------------------------------------\n",
      "0  | feat_embedding | Sequential       | 832   \n",
      "1  | model          | GNNModel         | 400   \n",
      "2  | head           | BilinearFusion   | 19.6 K\n",
      "3  | pred           | Linear           | 34    \n",
      "4  | fnn_layer      | Linear           | 272   \n",
      "5  | selu           | SELU             | 0     \n",
      "6  | loss_module    | CrossEntropyLoss | 0     \n",
      "7  | train_acc      | BinaryAccuracy   | 0     \n",
      "8  | train_auroc    | BinaryAUROC      | 0     \n",
      "9  | train_f1       | BinaryF1Score    | 0     \n",
      "10 | valid_acc      | BinaryAccuracy   | 0     \n",
      "11 | valid_auroc    | BinaryAUROC      | 0     \n",
      "12 | valid_f1       | BinaryF1Score    | 0     \n",
      "13 | pool           | GlobalAttention  | 17    \n",
      "-----------------------------------------------------\n",
      "21.2 K    Trainable params\n",
      "0         Non-trainable params\n",
      "21.2 K    Total params\n",
      "0.085     Total estimated model params size (MB)\n",
      "C:\\Users\\thu71\\AppData\\Roaming\\Python\\Python39\\site-packages\\lightning\\pytorch\\trainer\\connectors\\data_connector.py:478: PossibleUserWarning: Your `val_dataloader`'s sampler has shuffling enabled, it is strongly recommended that you turn shuffling off for val/test dataloaders.\n",
      "  rank_zero_warn(\n",
      "C:\\Users\\thu71\\AppData\\Roaming\\Python\\Python39\\site-packages\\lightning\\pytorch\\trainer\\connectors\\data_connector.py:430: PossibleUserWarning: The dataloader, val_dataloader, does not have many workers which may be a bottleneck. Consider increasing the value of the `num_workers` argument` (try 48 which is the number of cpus on this machine) in the `DataLoader` init to improve performance.\n",
      "  rank_zero_warn(\n"
     ]
    },
    {
     "name": "stdout",
     "output_type": "stream",
     "text": [
      "Training with Morphological features\n"
     ]
    },
    {
     "name": "stderr",
     "output_type": "stream",
     "text": [
      "C:\\Users\\thu71\\AppData\\Roaming\\Python\\Python39\\site-packages\\lightning\\pytorch\\trainer\\connectors\\data_connector.py:430: PossibleUserWarning: The dataloader, train_dataloader, does not have many workers which may be a bottleneck. Consider increasing the value of the `num_workers` argument` (try 48 which is the number of cpus on this machine) in the `DataLoader` init to improve performance.\n",
      "  rank_zero_warn(\n",
      "C:\\Users\\thu71\\AppData\\Roaming\\Python\\Python39\\site-packages\\lightning\\pytorch\\loops\\fit_loop.py:280: PossibleUserWarning: The number of training batches (5) is smaller than the logging interval Trainer(log_every_n_steps=10). Set a lower value for log_every_n_steps if you want to see logs for the training epoch.\n",
      "  rank_zero_warn(\n",
      "C:\\Users\\thu71\\Anaconda3\\envs\\snowflake\\lib\\site-packages\\torchmetrics\\utilities\\prints.py:36: UserWarning: No negative samples in targets, false positive value should be meaningless. Returning zero tensor in false positive score\n",
      "  warnings.warn(*args, **kwargs)\n",
      "C:\\Users\\thu71\\Anaconda3\\envs\\snowflake\\lib\\site-packages\\torchmetrics\\utilities\\prints.py:36: UserWarning: No negative samples in targets, false positive value should be meaningless. Returning zero tensor in false positive score\n",
      "  warnings.warn(*args, **kwargs)\n",
      "C:\\Users\\thu71\\Anaconda3\\envs\\snowflake\\lib\\site-packages\\torchmetrics\\utilities\\prints.py:36: UserWarning: No negative samples in targets, false positive value should be meaningless. Returning zero tensor in false positive score\n",
      "  warnings.warn(*args, **kwargs)\n",
      "C:\\Users\\thu71\\Anaconda3\\envs\\snowflake\\lib\\site-packages\\torchmetrics\\utilities\\prints.py:36: UserWarning: No positive samples in targets, true positive value should be meaningless. Returning zero tensor in true positive score\n",
      "  warnings.warn(*args, **kwargs)\n",
      "C:\\Users\\thu71\\Anaconda3\\envs\\snowflake\\lib\\site-packages\\torchmetrics\\utilities\\prints.py:36: UserWarning: No negative samples in targets, false positive value should be meaningless. Returning zero tensor in false positive score\n",
      "  warnings.warn(*args, **kwargs)\n",
      "C:\\Users\\thu71\\Anaconda3\\envs\\snowflake\\lib\\site-packages\\torchmetrics\\utilities\\prints.py:36: UserWarning: No positive samples in targets, true positive value should be meaningless. Returning zero tensor in true positive score\n",
      "  warnings.warn(*args, **kwargs)\n",
      "C:\\Users\\thu71\\Anaconda3\\envs\\snowflake\\lib\\site-packages\\torchmetrics\\utilities\\prints.py:36: UserWarning: No negative samples in targets, false positive value should be meaningless. Returning zero tensor in false positive score\n",
      "  warnings.warn(*args, **kwargs)\n",
      "C:\\Users\\thu71\\Anaconda3\\envs\\snowflake\\lib\\site-packages\\torchmetrics\\utilities\\prints.py:36: UserWarning: No negative samples in targets, false positive value should be meaningless. Returning zero tensor in false positive score\n",
      "  warnings.warn(*args, **kwargs)\n",
      "`Trainer.fit` stopped: `max_epochs=100` reached.\n"
     ]
    },
    {
     "data": {
      "text/html": [
       "Waiting for W&B process to finish... <strong style=\"color:green\">(success).</strong>"
      ],
      "text/plain": [
       "<IPython.core.display.HTML object>"
      ]
     },
     "metadata": {},
     "output_type": "display_data"
    },
    {
     "data": {
      "application/vnd.jupyter.widget-view+json": {
       "model_id": "c738b7996b074ae4a976b6a7e834cf5b",
       "version_major": 2,
       "version_minor": 0
      },
      "text/plain": [
       "VBox(children=(Label(value='0.001 MB of 0.001 MB uploaded (0.000 MB deduped)\\r'), FloatProgress(value=1.0, max…"
      ]
     },
     "metadata": {},
     "output_type": "display_data"
    },
    {
     "data": {
      "text/html": [
       "<style>\n",
       "    table.wandb td:nth-child(1) { padding: 0 10px; text-align: left ; width: auto;} td:nth-child(2) {text-align: left ; width: 100%}\n",
       "    .wandb-row { display: flex; flex-direction: row; flex-wrap: wrap; justify-content: flex-start; width: 100% }\n",
       "    .wandb-col { display: flex; flex-direction: column; flex-basis: 100%; flex: 1; padding: 10px; }\n",
       "    </style>\n",
       "<div class=\"wandb-row\"><div class=\"wandb-col\"><h3>Run history:</h3><br/><table class=\"wandb\"><tr><td>epoch</td><td>▁▁▁▁▂▂▂▂▂▃▃▃▃▃▃▄▄▄▄▄▅▅▅▅▅▅▆▆▆▆▆▇▇▇▇▇▇███</td></tr><tr><td>lr-Adam</td><td>▁▁▁▁▁▁▁▁▁▁▁▁▁▁▁▁▁▁▁▁▁▁▁▁▁▁▁▁▁▁▁▁▁▁▁▁▁▁▁▁</td></tr><tr><td>train_acc</td><td>▁▃▅▆▆▆▆▆▇▇▇▇▇▇▇▇▇▇▇▇▇▇▇▇████▇██▇█▇██▇▇▇▇</td></tr><tr><td>train_auc</td><td>▁▄▆▇▇▇█▇▇▇█▇█▇▇▆▇▇▇▇▇█▇▆▇▇▇▇▇▇▇█▇███▇█▇█</td></tr><tr><td>train_f1</td><td>▁▃▅▆▆▆▆▅▆▇▆▇▇▆▇▇▇▇▇▇▆▇▇▇▇▇▇▇▇██▆█▇▇█▇▇▇▇</td></tr><tr><td>train_loss_epoch</td><td>█▇▄▃▃▃▃▃▂▂▂▂▂▂▂▂▂▂▂▂▃▂▁▂▁▁▁▁▁▁▁▂▁▁▁▁▂▂▂▂</td></tr><tr><td>train_loss_step</td><td>█▅▆▄▂▃▅▂▄▅▆▄▆▄▃▃▄▄▃▂▂▄▃▃▅▂▃▃▂▁▅▃▃▂▃▆▃▅▂▄</td></tr><tr><td>trainer/global_step</td><td>▁▁▁▁▂▁▂▂▂▂▃▂▃▃▂▄▃▄▃▄▃▅▃▅▄▆▄▆▄▆▄▇▇▅▇▅█▅█▅</td></tr><tr><td>val_acc</td><td>▄▁▃▅▄▅▆▅▅▆▅▅▆▆▇█▅▆▆▇▇▆▇▇▇▇▇▇▇▇█▆▇▆▇▇▇▇▄█</td></tr><tr><td>val_auc</td><td>▁▁▂▃▄▅▆▅▄▅▅▆▆▆▅▄▅▄▅▅▄▅▅▅▆▅▅▆▆▆▆█▆▇▅▇▆█▅█</td></tr><tr><td>val_f1</td><td>▇▁▄▅▄▆▇▅▆▆▅▅▇▇▇█▆▇▆▇▇▇▇▇█▇▇▇▇▇▇▇▇▇▇▇▇▇▅▇</td></tr><tr><td>val_loss_epoch</td><td>▆▆▅▆▇▅▁▄▅▄▄▃▃▁▇▃▂▅▃▄▃▅▃▃▅▄▇▃▆▅▄▃▃▁▃▆▅▄▅█</td></tr><tr><td>val_loss_step</td><td>▄▄▄▅▄▄▁▄▄▃▄▃▃▄▆▄▄▅▄▄▄▄▃▄▄▄▃▄▆▄▃▄▃▁▅▄▅▄▄█</td></tr></table><br/></div><div class=\"wandb-col\"><h3>Run summary:</h3><br/><table class=\"wandb\"><tr><td>epoch</td><td>99</td></tr><tr><td>lr-Adam</td><td>0.005</td></tr><tr><td>train_acc</td><td>0.80906</td></tr><tr><td>train_auc</td><td>0.83729</td></tr><tr><td>train_f1</td><td>0.84595</td></tr><tr><td>train_loss_epoch</td><td>0.50231</td></tr><tr><td>train_loss_step</td><td>0.53186</td></tr><tr><td>trainer/global_step</td><td>499</td></tr><tr><td>val_acc</td><td>0.71429</td></tr><tr><td>val_auc</td><td>0.7545</td></tr><tr><td>val_f1</td><td>0.73611</td></tr><tr><td>val_loss_epoch</td><td>0.75826</td></tr><tr><td>val_loss_step</td><td>1.09803</td></tr></table><br/></div></div>"
      ],
      "text/plain": [
       "<IPython.core.display.HTML object>"
      ]
     },
     "metadata": {},
     "output_type": "display_data"
    },
    {
     "data": {
      "text/html": [
       " View run <strong style=\"color:#cdcd00\">GCN_2_16_3_moprh</strong> at: <a href='https://wandb.ai/thoomas/SF_082423_Covid/runs/g3kcea7r' target=\"_blank\">https://wandb.ai/thoomas/SF_082423_Covid/runs/g3kcea7r</a><br/>Synced 5 W&B file(s), 0 media file(s), 0 artifact file(s) and 0 other file(s)"
      ],
      "text/plain": [
       "<IPython.core.display.HTML object>"
      ]
     },
     "metadata": {},
     "output_type": "display_data"
    },
    {
     "data": {
      "text/html": [
       "Find logs at: <code>.\\wandb\\run-20230828_183324-g3kcea7r\\logs</code>"
      ],
      "text/plain": [
       "<IPython.core.display.HTML object>"
      ]
     },
     "metadata": {},
     "output_type": "display_data"
    },
    {
     "data": {
      "application/vnd.jupyter.widget-view+json": {
       "model_id": "2660bf5d7865425fa9fed5c60e2c6c2b",
       "version_major": 2,
       "version_minor": 0
      },
      "text/plain": [
       "VBox(children=(Label(value='Waiting for wandb.init()...\\r'), FloatProgress(value=0.016666666666666666, max=1.0…"
      ]
     },
     "metadata": {},
     "output_type": "display_data"
    },
    {
     "data": {
      "text/html": [
       "wandb version 0.15.9 is available!  To upgrade, please run:\n",
       " $ pip install wandb --upgrade"
      ],
      "text/plain": [
       "<IPython.core.display.HTML object>"
      ]
     },
     "metadata": {},
     "output_type": "display_data"
    },
    {
     "data": {
      "text/html": [
       "Tracking run with wandb version 0.14.0"
      ],
      "text/plain": [
       "<IPython.core.display.HTML object>"
      ]
     },
     "metadata": {},
     "output_type": "display_data"
    },
    {
     "data": {
      "text/html": [
       "Run data is saved locally in <code>Y:\\coskun-lab\\Thomas\\11_snowflakes\\notebooks\\wandb\\run-20230828_191255-5ntagexc</code>"
      ],
      "text/plain": [
       "<IPython.core.display.HTML object>"
      ]
     },
     "metadata": {},
     "output_type": "display_data"
    },
    {
     "data": {
      "text/html": [
       "Syncing run <strong><a href='https://wandb.ai/thoomas/SF_082423_Covid/runs/5ntagexc' target=\"_blank\">GraphConv_2_16_3_moprh</a></strong> to <a href='https://wandb.ai/thoomas/SF_082423_Covid' target=\"_blank\">Weights & Biases</a> (<a href='https://wandb.me/run' target=\"_blank\">docs</a>)<br/>"
      ],
      "text/plain": [
       "<IPython.core.display.HTML object>"
      ]
     },
     "metadata": {},
     "output_type": "display_data"
    },
    {
     "data": {
      "text/html": [
       " View project at <a href='https://wandb.ai/thoomas/SF_082423_Covid' target=\"_blank\">https://wandb.ai/thoomas/SF_082423_Covid</a>"
      ],
      "text/plain": [
       "<IPython.core.display.HTML object>"
      ]
     },
     "metadata": {},
     "output_type": "display_data"
    },
    {
     "data": {
      "text/html": [
       " View run at <a href='https://wandb.ai/thoomas/SF_082423_Covid/runs/5ntagexc' target=\"_blank\">https://wandb.ai/thoomas/SF_082423_Covid/runs/5ntagexc</a>"
      ],
      "text/plain": [
       "<IPython.core.display.HTML object>"
      ]
     },
     "metadata": {},
     "output_type": "display_data"
    },
    {
     "name": "stderr",
     "output_type": "stream",
     "text": [
      "Global seed set to 42\n",
      "C:\\Users\\thu71\\Anaconda3\\envs\\snowflake\\lib\\site-packages\\pytorch_lightning\\loggers\\wandb.py:395: UserWarning: There is a wandb run already in progress and newly created instances of `WandbLogger` will reuse this run. If this is not desired, call `wandb.finish()` before instantiating `WandbLogger`.\n",
      "  rank_zero_warn(\n",
      "GPU available: True (cuda), used: True\n",
      "TPU available: False, using: 0 TPU cores\n",
      "IPU available: False, using: 0 IPUs\n",
      "HPU available: False, using: 0 HPUs\n",
      "Global seed set to 42\n",
      "C:\\Users\\thu71\\Anaconda3\\envs\\snowflake\\lib\\site-packages\\torch_geometric\\deprecation.py:12: UserWarning: 'nn.glob.GlobalAttention' is deprecated, use 'nn.aggr.AttentionalAggregation' instead\n",
      "  warnings.warn(out)\n",
      "LOCAL_RANK: 0 - CUDA_VISIBLE_DEVICES: [0,1]\n",
      "\n",
      "   | Name           | Type             | Params\n",
      "-----------------------------------------------------\n",
      "0  | feat_embedding | Sequential       | 832   \n",
      "1  | model          | GNNModel         | 736   \n",
      "2  | head           | BilinearFusion   | 19.6 K\n",
      "3  | pred           | Linear           | 34    \n",
      "4  | fnn_layer      | Linear           | 272   \n",
      "5  | selu           | SELU             | 0     \n",
      "6  | loss_module    | CrossEntropyLoss | 0     \n",
      "7  | train_acc      | BinaryAccuracy   | 0     \n",
      "8  | train_auroc    | BinaryAUROC      | 0     \n",
      "9  | train_f1       | BinaryF1Score    | 0     \n",
      "10 | valid_acc      | BinaryAccuracy   | 0     \n",
      "11 | valid_auroc    | BinaryAUROC      | 0     \n",
      "12 | valid_f1       | BinaryF1Score    | 0     \n",
      "13 | pool           | GlobalAttention  | 17    \n",
      "-----------------------------------------------------\n",
      "21.5 K    Trainable params\n",
      "0         Non-trainable params\n",
      "21.5 K    Total params\n",
      "0.086     Total estimated model params size (MB)\n"
     ]
    },
    {
     "name": "stdout",
     "output_type": "stream",
     "text": [
      "Training with Morphological features\n"
     ]
    },
    {
     "name": "stderr",
     "output_type": "stream",
     "text": [
      "C:\\Users\\thu71\\AppData\\Roaming\\Python\\Python39\\site-packages\\lightning\\pytorch\\trainer\\connectors\\data_connector.py:478: PossibleUserWarning: Your `val_dataloader`'s sampler has shuffling enabled, it is strongly recommended that you turn shuffling off for val/test dataloaders.\n",
      "  rank_zero_warn(\n",
      "C:\\Users\\thu71\\AppData\\Roaming\\Python\\Python39\\site-packages\\lightning\\pytorch\\trainer\\connectors\\data_connector.py:430: PossibleUserWarning: The dataloader, val_dataloader, does not have many workers which may be a bottleneck. Consider increasing the value of the `num_workers` argument` (try 48 which is the number of cpus on this machine) in the `DataLoader` init to improve performance.\n",
      "  rank_zero_warn(\n",
      "C:\\Users\\thu71\\AppData\\Roaming\\Python\\Python39\\site-packages\\lightning\\pytorch\\trainer\\connectors\\data_connector.py:430: PossibleUserWarning: The dataloader, train_dataloader, does not have many workers which may be a bottleneck. Consider increasing the value of the `num_workers` argument` (try 48 which is the number of cpus on this machine) in the `DataLoader` init to improve performance.\n",
      "  rank_zero_warn(\n",
      "C:\\Users\\thu71\\AppData\\Roaming\\Python\\Python39\\site-packages\\lightning\\pytorch\\loops\\fit_loop.py:280: PossibleUserWarning: The number of training batches (5) is smaller than the logging interval Trainer(log_every_n_steps=10). Set a lower value for log_every_n_steps if you want to see logs for the training epoch.\n",
      "  rank_zero_warn(\n",
      "C:\\Users\\thu71\\Anaconda3\\envs\\snowflake\\lib\\site-packages\\torchmetrics\\utilities\\prints.py:36: UserWarning: No negative samples in targets, false positive value should be meaningless. Returning zero tensor in false positive score\n",
      "  warnings.warn(*args, **kwargs)\n",
      "C:\\Users\\thu71\\Anaconda3\\envs\\snowflake\\lib\\site-packages\\torchmetrics\\utilities\\prints.py:36: UserWarning: No positive samples in targets, true positive value should be meaningless. Returning zero tensor in true positive score\n",
      "  warnings.warn(*args, **kwargs)\n",
      "C:\\Users\\thu71\\Anaconda3\\envs\\snowflake\\lib\\site-packages\\torchmetrics\\utilities\\prints.py:36: UserWarning: No positive samples in targets, true positive value should be meaningless. Returning zero tensor in true positive score\n",
      "  warnings.warn(*args, **kwargs)\n",
      "C:\\Users\\thu71\\Anaconda3\\envs\\snowflake\\lib\\site-packages\\torchmetrics\\utilities\\prints.py:36: UserWarning: No negative samples in targets, false positive value should be meaningless. Returning zero tensor in false positive score\n",
      "  warnings.warn(*args, **kwargs)\n",
      "C:\\Users\\thu71\\Anaconda3\\envs\\snowflake\\lib\\site-packages\\torchmetrics\\utilities\\prints.py:36: UserWarning: No negative samples in targets, false positive value should be meaningless. Returning zero tensor in false positive score\n",
      "  warnings.warn(*args, **kwargs)\n",
      "C:\\Users\\thu71\\Anaconda3\\envs\\snowflake\\lib\\site-packages\\torchmetrics\\utilities\\prints.py:36: UserWarning: No negative samples in targets, false positive value should be meaningless. Returning zero tensor in false positive score\n",
      "  warnings.warn(*args, **kwargs)\n",
      "C:\\Users\\thu71\\Anaconda3\\envs\\snowflake\\lib\\site-packages\\torchmetrics\\utilities\\prints.py:36: UserWarning: No negative samples in targets, false positive value should be meaningless. Returning zero tensor in false positive score\n",
      "  warnings.warn(*args, **kwargs)\n",
      "C:\\Users\\thu71\\Anaconda3\\envs\\snowflake\\lib\\site-packages\\torchmetrics\\utilities\\prints.py:36: UserWarning: No negative samples in targets, false positive value should be meaningless. Returning zero tensor in false positive score\n",
      "  warnings.warn(*args, **kwargs)\n",
      "`Trainer.fit` stopped: `max_epochs=100` reached.\n"
     ]
    },
    {
     "data": {
      "text/html": [
       "Waiting for W&B process to finish... <strong style=\"color:green\">(success).</strong>"
      ],
      "text/plain": [
       "<IPython.core.display.HTML object>"
      ]
     },
     "metadata": {},
     "output_type": "display_data"
    },
    {
     "data": {
      "application/vnd.jupyter.widget-view+json": {
       "model_id": "22fb230f83874e9ebd184e1e40107faf",
       "version_major": 2,
       "version_minor": 0
      },
      "text/plain": [
       "VBox(children=(Label(value='0.001 MB of 0.001 MB uploaded (0.000 MB deduped)\\r'), FloatProgress(value=1.0, max…"
      ]
     },
     "metadata": {},
     "output_type": "display_data"
    },
    {
     "data": {
      "text/html": [
       "<style>\n",
       "    table.wandb td:nth-child(1) { padding: 0 10px; text-align: left ; width: auto;} td:nth-child(2) {text-align: left ; width: 100%}\n",
       "    .wandb-row { display: flex; flex-direction: row; flex-wrap: wrap; justify-content: flex-start; width: 100% }\n",
       "    .wandb-col { display: flex; flex-direction: column; flex-basis: 100%; flex: 1; padding: 10px; }\n",
       "    </style>\n",
       "<div class=\"wandb-row\"><div class=\"wandb-col\"><h3>Run history:</h3><br/><table class=\"wandb\"><tr><td>epoch</td><td>▁▁▁▁▂▂▂▂▂▃▃▃▃▃▃▄▄▄▄▄▅▅▅▅▅▅▆▆▆▆▆▇▇▇▇▇▇███</td></tr><tr><td>lr-Adam</td><td>▁▁▁▁▁▁▁▁▁▁▁▁▁▁▁▁▁▁▁▁▁▁▁▁▁▁▁▁▁▁▁▁▁▁▁▁▁▁▁▁</td></tr><tr><td>train_acc</td><td>▁▄▅▅▅▆▅▅▆▆▆▆▇▇▆▇▇▇▇▇▇▇▇██▇▇▇▆█████▇▇██▇█</td></tr><tr><td>train_auc</td><td>▁▅▆▆▆▇▇▇▇▇▇▇▇▇▇▇█▇█▇▇▇▇█████▇███████▇███</td></tr><tr><td>train_f1</td><td>▁▃▄▄▃▄▃▄▅▅▅▆▆▆▅▆▇▇▇▆▇▇▅▇▇▇▇▇▄█▇▇██▇▆▇█▇█</td></tr><tr><td>train_loss_epoch</td><td>█▅▄▄▄▄▄▄▃▃▃▃▃▂▃▂▂▂▂▂▂▂▃▁▁▂▂▂▃▂▂▁▁▁▂▂▁▁▂▁</td></tr><tr><td>train_loss_step</td><td>█▇▆▇▄▆▇▆▄▄▅▄▄▅▅▄▃▂▄▁█▃▅▃▄▅▃▅▄▁▃▃▂▂▄▆▄▃▅▂</td></tr><tr><td>trainer/global_step</td><td>▁▁▁▁▂▁▂▂▂▂▃▂▃▃▂▄▃▄▃▄▃▅▃▅▄▆▄▆▄▆▄▇▇▅▇▅█▅█▅</td></tr><tr><td>val_acc</td><td>▁▁▂▄▄▄▃▄▅▅▇▅▅▇▇█▆▇▇▃▇▇▇███▆▅▆▇▇▇▇▇▆▆▇▆▇▇</td></tr><tr><td>val_auc</td><td>▂▁▂▄▄▄▄▅▆▆▆▇▆▇█▇▇██▆▇▆▆▇▇█▅▇▅▇▇▇▆▇▆▆▇▇▆▇</td></tr><tr><td>val_f1</td><td>▆▁▃▆▆▄▂▆▅▅▆▆▇▇█▇▇▇█▆▆▇▇██▇▅▇▅▇▇▇▇█▇▇▇▇▇█</td></tr><tr><td>val_loss_epoch</td><td>▄▆▄█▄▆▅▅▄▅▁▅▅▇▃▂▅▅▂▅▄▃▃▅▁▃▄▂▂▄▂▄▅▂▄▃▂▄▁▂</td></tr><tr><td>val_loss_step</td><td>▄▄▄█▃▄▄▃▄▁▄▆▄▃▃▃▄▆▃▃▃▄▃▃▃▄▃▃▁▄▄▃▃▂▃▃▃▃▃▃</td></tr></table><br/></div><div class=\"wandb-col\"><h3>Run summary:</h3><br/><table class=\"wandb\"><tr><td>epoch</td><td>99</td></tr><tr><td>lr-Adam</td><td>0.005</td></tr><tr><td>train_acc</td><td>0.88026</td></tr><tr><td>train_auc</td><td>0.92118</td></tr><tr><td>train_f1</td><td>0.89973</td></tr><tr><td>train_loss_epoch</td><td>0.43791</td></tr><tr><td>train_loss_step</td><td>0.40501</td></tr><tr><td>trainer/global_step</td><td>499</td></tr><tr><td>val_acc</td><td>0.75188</td></tr><tr><td>val_auc</td><td>0.81764</td></tr><tr><td>val_f1</td><td>0.79755</td></tr><tr><td>val_loss_epoch</td><td>0.53962</td></tr><tr><td>val_loss_step</td><td>0.51628</td></tr></table><br/></div></div>"
      ],
      "text/plain": [
       "<IPython.core.display.HTML object>"
      ]
     },
     "metadata": {},
     "output_type": "display_data"
    },
    {
     "data": {
      "text/html": [
       " View run <strong style=\"color:#cdcd00\">GraphConv_2_16_3_moprh</strong> at: <a href='https://wandb.ai/thoomas/SF_082423_Covid/runs/5ntagexc' target=\"_blank\">https://wandb.ai/thoomas/SF_082423_Covid/runs/5ntagexc</a><br/>Synced 5 W&B file(s), 0 media file(s), 0 artifact file(s) and 0 other file(s)"
      ],
      "text/plain": [
       "<IPython.core.display.HTML object>"
      ]
     },
     "metadata": {},
     "output_type": "display_data"
    },
    {
     "data": {
      "text/html": [
       "Find logs at: <code>.\\wandb\\run-20230828_191255-5ntagexc\\logs</code>"
      ],
      "text/plain": [
       "<IPython.core.display.HTML object>"
      ]
     },
     "metadata": {},
     "output_type": "display_data"
    },
    {
     "data": {
      "application/vnd.jupyter.widget-view+json": {
       "model_id": "1480ac3701e64d90887c2587ba4247f1",
       "version_major": 2,
       "version_minor": 0
      },
      "text/plain": [
       "VBox(children=(Label(value='Waiting for wandb.init()...\\r'), FloatProgress(value=0.016916666666899498, max=1.0…"
      ]
     },
     "metadata": {},
     "output_type": "display_data"
    },
    {
     "data": {
      "text/html": [
       "wandb version 0.15.9 is available!  To upgrade, please run:\n",
       " $ pip install wandb --upgrade"
      ],
      "text/plain": [
       "<IPython.core.display.HTML object>"
      ]
     },
     "metadata": {},
     "output_type": "display_data"
    },
    {
     "data": {
      "text/html": [
       "Tracking run with wandb version 0.14.0"
      ],
      "text/plain": [
       "<IPython.core.display.HTML object>"
      ]
     },
     "metadata": {},
     "output_type": "display_data"
    },
    {
     "data": {
      "text/html": [
       "Run data is saved locally in <code>Y:\\coskun-lab\\Thomas\\11_snowflakes\\notebooks\\wandb\\run-20230828_195409-mmpenqoj</code>"
      ],
      "text/plain": [
       "<IPython.core.display.HTML object>"
      ]
     },
     "metadata": {},
     "output_type": "display_data"
    },
    {
     "data": {
      "text/html": [
       "Syncing run <strong><a href='https://wandb.ai/thoomas/SF_082423_Covid/runs/mmpenqoj' target=\"_blank\">GINConv_2_16_3_moprh</a></strong> to <a href='https://wandb.ai/thoomas/SF_082423_Covid' target=\"_blank\">Weights & Biases</a> (<a href='https://wandb.me/run' target=\"_blank\">docs</a>)<br/>"
      ],
      "text/plain": [
       "<IPython.core.display.HTML object>"
      ]
     },
     "metadata": {},
     "output_type": "display_data"
    },
    {
     "data": {
      "text/html": [
       " View project at <a href='https://wandb.ai/thoomas/SF_082423_Covid' target=\"_blank\">https://wandb.ai/thoomas/SF_082423_Covid</a>"
      ],
      "text/plain": [
       "<IPython.core.display.HTML object>"
      ]
     },
     "metadata": {},
     "output_type": "display_data"
    },
    {
     "data": {
      "text/html": [
       " View run at <a href='https://wandb.ai/thoomas/SF_082423_Covid/runs/mmpenqoj' target=\"_blank\">https://wandb.ai/thoomas/SF_082423_Covid/runs/mmpenqoj</a>"
      ],
      "text/plain": [
       "<IPython.core.display.HTML object>"
      ]
     },
     "metadata": {},
     "output_type": "display_data"
    },
    {
     "name": "stderr",
     "output_type": "stream",
     "text": [
      "Global seed set to 42\n",
      "C:\\Users\\thu71\\Anaconda3\\envs\\snowflake\\lib\\site-packages\\pytorch_lightning\\loggers\\wandb.py:395: UserWarning: There is a wandb run already in progress and newly created instances of `WandbLogger` will reuse this run. If this is not desired, call `wandb.finish()` before instantiating `WandbLogger`.\n",
      "  rank_zero_warn(\n",
      "GPU available: True (cuda), used: True\n",
      "TPU available: False, using: 0 TPU cores\n",
      "IPU available: False, using: 0 IPUs\n",
      "HPU available: False, using: 0 HPUs\n",
      "Global seed set to 42\n",
      "C:\\Users\\thu71\\Anaconda3\\envs\\snowflake\\lib\\site-packages\\torch_geometric\\deprecation.py:12: UserWarning: 'nn.glob.GlobalAttention' is deprecated, use 'nn.aggr.AttentionalAggregation' instead\n",
      "  warnings.warn(out)\n",
      "LOCAL_RANK: 0 - CUDA_VISIBLE_DEVICES: [0,1]\n",
      "\n",
      "   | Name           | Type             | Params\n",
      "-----------------------------------------------------\n",
      "0  | feat_embedding | Sequential       | 832   \n",
      "1  | model          | GIN              | 1.0 K \n",
      "2  | head           | BilinearFusion   | 19.6 K\n",
      "3  | pred           | Linear           | 34    \n",
      "4  | fnn_layer      | Linear           | 272   \n",
      "5  | selu           | SELU             | 0     \n",
      "6  | loss_module    | CrossEntropyLoss | 0     \n",
      "7  | train_acc      | BinaryAccuracy   | 0     \n",
      "8  | train_auroc    | BinaryAUROC      | 0     \n",
      "9  | train_f1       | BinaryF1Score    | 0     \n",
      "10 | valid_acc      | BinaryAccuracy   | 0     \n",
      "11 | valid_auroc    | BinaryAUROC      | 0     \n",
      "12 | valid_f1       | BinaryF1Score    | 0     \n",
      "13 | pool           | GlobalAttention  | 17    \n",
      "-----------------------------------------------------\n",
      "21.8 K    Trainable params\n",
      "0         Non-trainable params\n",
      "21.8 K    Total params\n",
      "0.087     Total estimated model params size (MB)\n"
     ]
    },
    {
     "name": "stdout",
     "output_type": "stream",
     "text": [
      "Training with Morphological features\n"
     ]
    },
    {
     "name": "stderr",
     "output_type": "stream",
     "text": [
      "C:\\Users\\thu71\\AppData\\Roaming\\Python\\Python39\\site-packages\\lightning\\pytorch\\trainer\\connectors\\data_connector.py:478: PossibleUserWarning: Your `val_dataloader`'s sampler has shuffling enabled, it is strongly recommended that you turn shuffling off for val/test dataloaders.\n",
      "  rank_zero_warn(\n",
      "C:\\Users\\thu71\\AppData\\Roaming\\Python\\Python39\\site-packages\\lightning\\pytorch\\trainer\\connectors\\data_connector.py:430: PossibleUserWarning: The dataloader, val_dataloader, does not have many workers which may be a bottleneck. Consider increasing the value of the `num_workers` argument` (try 48 which is the number of cpus on this machine) in the `DataLoader` init to improve performance.\n",
      "  rank_zero_warn(\n",
      "C:\\Users\\thu71\\AppData\\Roaming\\Python\\Python39\\site-packages\\lightning\\pytorch\\trainer\\connectors\\data_connector.py:430: PossibleUserWarning: The dataloader, train_dataloader, does not have many workers which may be a bottleneck. Consider increasing the value of the `num_workers` argument` (try 48 which is the number of cpus on this machine) in the `DataLoader` init to improve performance.\n",
      "  rank_zero_warn(\n",
      "C:\\Users\\thu71\\AppData\\Roaming\\Python\\Python39\\site-packages\\lightning\\pytorch\\loops\\fit_loop.py:280: PossibleUserWarning: The number of training batches (5) is smaller than the logging interval Trainer(log_every_n_steps=10). Set a lower value for log_every_n_steps if you want to see logs for the training epoch.\n",
      "  rank_zero_warn(\n",
      "C:\\Users\\thu71\\Anaconda3\\envs\\snowflake\\lib\\site-packages\\torchmetrics\\utilities\\prints.py:36: UserWarning: No negative samples in targets, false positive value should be meaningless. Returning zero tensor in false positive score\n",
      "  warnings.warn(*args, **kwargs)\n",
      "C:\\Users\\thu71\\Anaconda3\\envs\\snowflake\\lib\\site-packages\\torchmetrics\\utilities\\prints.py:36: UserWarning: No negative samples in targets, false positive value should be meaningless. Returning zero tensor in false positive score\n",
      "  warnings.warn(*args, **kwargs)\n",
      "C:\\Users\\thu71\\Anaconda3\\envs\\snowflake\\lib\\site-packages\\torchmetrics\\utilities\\prints.py:36: UserWarning: No negative samples in targets, false positive value should be meaningless. Returning zero tensor in false positive score\n",
      "  warnings.warn(*args, **kwargs)\n",
      "C:\\Users\\thu71\\Anaconda3\\envs\\snowflake\\lib\\site-packages\\torchmetrics\\utilities\\prints.py:36: UserWarning: No positive samples in targets, true positive value should be meaningless. Returning zero tensor in true positive score\n",
      "  warnings.warn(*args, **kwargs)\n",
      "C:\\Users\\thu71\\Anaconda3\\envs\\snowflake\\lib\\site-packages\\torchmetrics\\utilities\\prints.py:36: UserWarning: No negative samples in targets, false positive value should be meaningless. Returning zero tensor in false positive score\n",
      "  warnings.warn(*args, **kwargs)\n",
      "C:\\Users\\thu71\\Anaconda3\\envs\\snowflake\\lib\\site-packages\\torchmetrics\\utilities\\prints.py:36: UserWarning: No negative samples in targets, false positive value should be meaningless. Returning zero tensor in false positive score\n",
      "  warnings.warn(*args, **kwargs)\n",
      "C:\\Users\\thu71\\Anaconda3\\envs\\snowflake\\lib\\site-packages\\torchmetrics\\utilities\\prints.py:36: UserWarning: No positive samples in targets, true positive value should be meaningless. Returning zero tensor in true positive score\n",
      "  warnings.warn(*args, **kwargs)\n",
      "`Trainer.fit` stopped: `max_epochs=100` reached.\n"
     ]
    },
    {
     "data": {
      "text/html": [
       "Waiting for W&B process to finish... <strong style=\"color:green\">(success).</strong>"
      ],
      "text/plain": [
       "<IPython.core.display.HTML object>"
      ]
     },
     "metadata": {},
     "output_type": "display_data"
    },
    {
     "data": {
      "application/vnd.jupyter.widget-view+json": {
       "model_id": "c546a2334a2c48ae8eae7b71387b42cf",
       "version_major": 2,
       "version_minor": 0
      },
      "text/plain": [
       "VBox(children=(Label(value='0.001 MB of 0.001 MB uploaded (0.000 MB deduped)\\r'), FloatProgress(value=1.0, max…"
      ]
     },
     "metadata": {},
     "output_type": "display_data"
    },
    {
     "data": {
      "text/html": [
       "<style>\n",
       "    table.wandb td:nth-child(1) { padding: 0 10px; text-align: left ; width: auto;} td:nth-child(2) {text-align: left ; width: 100%}\n",
       "    .wandb-row { display: flex; flex-direction: row; flex-wrap: wrap; justify-content: flex-start; width: 100% }\n",
       "    .wandb-col { display: flex; flex-direction: column; flex-basis: 100%; flex: 1; padding: 10px; }\n",
       "    </style>\n",
       "<div class=\"wandb-row\"><div class=\"wandb-col\"><h3>Run history:</h3><br/><table class=\"wandb\"><tr><td>epoch</td><td>▁▁▁▁▂▂▂▂▂▃▃▃▃▃▃▄▄▄▄▄▅▅▅▅▅▅▆▆▆▆▆▇▇▇▇▇▇███</td></tr><tr><td>lr-Adam</td><td>▁▁▁▁▁▁▁▁▁▁▁▁▁▁▁▁▁▁▁▁▁▁▁▁▁▁▁▁▁▁▁▁▁▁▁▁▁▁▁▁</td></tr><tr><td>train_acc</td><td>▁▁▄▄▅▆▅▆▆▄▆▆▆▆▆▇▆▇▇▇▇▇▇█▇▇▇▇▇▇▇▇▇▇▇▇██▇▇</td></tr><tr><td>train_auc</td><td>▁▃▆▆▇▇▇▇▇▅▇▇▇▇▇█▇███▇▇█████████████████▇</td></tr><tr><td>train_f1</td><td>▁▁▃▃▄▄▄▅▅▄▆▅▆▅▆▆▆▆▇▇▆▆▇█▇▇▇▇▇▇▇▇▇▇▇▇██▆▇</td></tr><tr><td>train_loss_epoch</td><td>██▅▅▄▄▄▃▃▅▃▃▃▃▃▂▂▂▂▂▂▃▂▁▂▂▂▂▂▂▁▂▂▂▂▂▁▁▂▂</td></tr><tr><td>train_loss_step</td><td>█▇▇▆▄▅▅▄▅▄▄▄▄▃▄▄▄▂▃▂▂▄▃▂▃▃▃▁▃▃▃▄▄▃▃▁▃▃▄▃</td></tr><tr><td>trainer/global_step</td><td>▁▁▁▁▂▁▂▂▂▂▃▂▃▃▂▄▃▄▃▄▃▅▃▅▄▆▄▆▄▆▄▇▇▅▇▅█▅█▅</td></tr><tr><td>val_acc</td><td>▁▁▃▄▅▂▅▆▆▅▆▆▅▆▂▇▇▆▇▇▃▆▇▇▇▆▆▇▇███▇▇▇███▇▆</td></tr><tr><td>val_auc</td><td>▁▁▂▂▅▃▄▆▅▄▆▅▆▆▄▇▇▇▇▇▅▆▇▇█▇▆▆▇██▇▆▆▇█▇▇▇▇</td></tr><tr><td>val_f1</td><td>▅▅▅▆▆▁▆▇▆▆▆▆▆▆▁▇▇▆▇▇▂▆▇▇█▆▆▇▇███▇▆▇███▇▆</td></tr><tr><td>val_loss_epoch</td><td>▇█▆█▄▅▅▂▄▄▄▆▆▄▅▁▃▂▃▃▆▄▂▃▃▂▄▃▁▁▁▁▂▂▃▃▁▁▂▂</td></tr><tr><td>val_loss_step</td><td>▆▆▅█▄▄▅▄▅▆▄▇▄▄▁▄▄▁▃▃▅▄▃▄▄▁▄▃▁▃▆▃▃▁▃▃▁▃▄▁</td></tr></table><br/></div><div class=\"wandb-col\"><h3>Run summary:</h3><br/><table class=\"wandb\"><tr><td>epoch</td><td>99</td></tr><tr><td>lr-Adam</td><td>0.005</td></tr><tr><td>train_acc</td><td>0.87702</td></tr><tr><td>train_auc</td><td>0.91466</td></tr><tr><td>train_f1</td><td>0.89017</td></tr><tr><td>train_loss_epoch</td><td>0.43416</td></tr><tr><td>train_loss_step</td><td>0.43138</td></tr><tr><td>trainer/global_step</td><td>499</td></tr><tr><td>val_acc</td><td>0.7594</td></tr><tr><td>val_auc</td><td>0.84707</td></tr><tr><td>val_f1</td><td>0.78378</td></tr><tr><td>val_loss_epoch</td><td>0.47352</td></tr><tr><td>val_loss_step</td><td>0.31329</td></tr></table><br/></div></div>"
      ],
      "text/plain": [
       "<IPython.core.display.HTML object>"
      ]
     },
     "metadata": {},
     "output_type": "display_data"
    },
    {
     "data": {
      "text/html": [
       " View run <strong style=\"color:#cdcd00\">GINConv_2_16_3_moprh</strong> at: <a href='https://wandb.ai/thoomas/SF_082423_Covid/runs/mmpenqoj' target=\"_blank\">https://wandb.ai/thoomas/SF_082423_Covid/runs/mmpenqoj</a><br/>Synced 5 W&B file(s), 0 media file(s), 0 artifact file(s) and 0 other file(s)"
      ],
      "text/plain": [
       "<IPython.core.display.HTML object>"
      ]
     },
     "metadata": {},
     "output_type": "display_data"
    },
    {
     "data": {
      "text/html": [
       "Find logs at: <code>.\\wandb\\run-20230828_195409-mmpenqoj\\logs</code>"
      ],
      "text/plain": [
       "<IPython.core.display.HTML object>"
      ]
     },
     "metadata": {},
     "output_type": "display_data"
    },
    {
     "data": {
      "application/vnd.jupyter.widget-view+json": {
       "model_id": "8474f5b09c3a45dc849ad92d53f52422",
       "version_major": 2,
       "version_minor": 0
      },
      "text/plain": [
       "VBox(children=(Label(value='Waiting for wandb.init()...\\r'), FloatProgress(value=0.016666666666666666, max=1.0…"
      ]
     },
     "metadata": {},
     "output_type": "display_data"
    },
    {
     "data": {
      "text/html": [
       "wandb version 0.15.9 is available!  To upgrade, please run:\n",
       " $ pip install wandb --upgrade"
      ],
      "text/plain": [
       "<IPython.core.display.HTML object>"
      ]
     },
     "metadata": {},
     "output_type": "display_data"
    },
    {
     "data": {
      "text/html": [
       "Tracking run with wandb version 0.14.0"
      ],
      "text/plain": [
       "<IPython.core.display.HTML object>"
      ]
     },
     "metadata": {},
     "output_type": "display_data"
    },
    {
     "data": {
      "text/html": [
       "Run data is saved locally in <code>Y:\\coskun-lab\\Thomas\\11_snowflakes\\notebooks\\wandb\\run-20230828_202817-ns9ll6hf</code>"
      ],
      "text/plain": [
       "<IPython.core.display.HTML object>"
      ]
     },
     "metadata": {},
     "output_type": "display_data"
    },
    {
     "data": {
      "text/html": [
       "Syncing run <strong><a href='https://wandb.ai/thoomas/SF_082423_Covid/runs/ns9ll6hf' target=\"_blank\">GCN_2_16_4_moprh</a></strong> to <a href='https://wandb.ai/thoomas/SF_082423_Covid' target=\"_blank\">Weights & Biases</a> (<a href='https://wandb.me/run' target=\"_blank\">docs</a>)<br/>"
      ],
      "text/plain": [
       "<IPython.core.display.HTML object>"
      ]
     },
     "metadata": {},
     "output_type": "display_data"
    },
    {
     "data": {
      "text/html": [
       " View project at <a href='https://wandb.ai/thoomas/SF_082423_Covid' target=\"_blank\">https://wandb.ai/thoomas/SF_082423_Covid</a>"
      ],
      "text/plain": [
       "<IPython.core.display.HTML object>"
      ]
     },
     "metadata": {},
     "output_type": "display_data"
    },
    {
     "data": {
      "text/html": [
       " View run at <a href='https://wandb.ai/thoomas/SF_082423_Covid/runs/ns9ll6hf' target=\"_blank\">https://wandb.ai/thoomas/SF_082423_Covid/runs/ns9ll6hf</a>"
      ],
      "text/plain": [
       "<IPython.core.display.HTML object>"
      ]
     },
     "metadata": {},
     "output_type": "display_data"
    },
    {
     "name": "stderr",
     "output_type": "stream",
     "text": [
      "Global seed set to 42\n",
      "C:\\Users\\thu71\\Anaconda3\\envs\\snowflake\\lib\\site-packages\\pytorch_lightning\\loggers\\wandb.py:395: UserWarning: There is a wandb run already in progress and newly created instances of `WandbLogger` will reuse this run. If this is not desired, call `wandb.finish()` before instantiating `WandbLogger`.\n",
      "  rank_zero_warn(\n",
      "GPU available: True (cuda), used: True\n",
      "TPU available: False, using: 0 TPU cores\n",
      "IPU available: False, using: 0 IPUs\n",
      "HPU available: False, using: 0 HPUs\n",
      "Global seed set to 42\n",
      "C:\\Users\\thu71\\Anaconda3\\envs\\snowflake\\lib\\site-packages\\torch_geometric\\deprecation.py:12: UserWarning: 'nn.glob.GlobalAttention' is deprecated, use 'nn.aggr.AttentionalAggregation' instead\n",
      "  warnings.warn(out)\n",
      "LOCAL_RANK: 0 - CUDA_VISIBLE_DEVICES: [0,1]\n",
      "\n",
      "   | Name           | Type             | Params\n",
      "-----------------------------------------------------\n",
      "0  | feat_embedding | Sequential       | 832   \n",
      "1  | model          | GNNModel         | 400   \n",
      "2  | head           | BilinearFusion   | 19.6 K\n",
      "3  | pred           | Linear           | 34    \n",
      "4  | fnn_layer      | Linear           | 272   \n",
      "5  | selu           | SELU             | 0     \n",
      "6  | loss_module    | CrossEntropyLoss | 0     \n",
      "7  | train_acc      | BinaryAccuracy   | 0     \n",
      "8  | train_auroc    | BinaryAUROC      | 0     \n",
      "9  | train_f1       | BinaryF1Score    | 0     \n",
      "10 | valid_acc      | BinaryAccuracy   | 0     \n",
      "11 | valid_auroc    | BinaryAUROC      | 0     \n",
      "12 | valid_f1       | BinaryF1Score    | 0     \n",
      "13 | pool           | GlobalAttention  | 17    \n",
      "-----------------------------------------------------\n",
      "21.2 K    Trainable params\n",
      "0         Non-trainable params\n",
      "21.2 K    Total params\n",
      "0.085     Total estimated model params size (MB)\n"
     ]
    },
    {
     "name": "stdout",
     "output_type": "stream",
     "text": [
      "Training with Morphological features\n"
     ]
    },
    {
     "name": "stderr",
     "output_type": "stream",
     "text": [
      "C:\\Users\\thu71\\AppData\\Roaming\\Python\\Python39\\site-packages\\lightning\\pytorch\\trainer\\connectors\\data_connector.py:478: PossibleUserWarning: Your `val_dataloader`'s sampler has shuffling enabled, it is strongly recommended that you turn shuffling off for val/test dataloaders.\n",
      "  rank_zero_warn(\n",
      "C:\\Users\\thu71\\AppData\\Roaming\\Python\\Python39\\site-packages\\lightning\\pytorch\\trainer\\connectors\\data_connector.py:430: PossibleUserWarning: The dataloader, val_dataloader, does not have many workers which may be a bottleneck. Consider increasing the value of the `num_workers` argument` (try 48 which is the number of cpus on this machine) in the `DataLoader` init to improve performance.\n",
      "  rank_zero_warn(\n",
      "C:\\Users\\thu71\\AppData\\Roaming\\Python\\Python39\\site-packages\\lightning\\pytorch\\trainer\\connectors\\data_connector.py:430: PossibleUserWarning: The dataloader, train_dataloader, does not have many workers which may be a bottleneck. Consider increasing the value of the `num_workers` argument` (try 48 which is the number of cpus on this machine) in the `DataLoader` init to improve performance.\n",
      "  rank_zero_warn(\n",
      "C:\\Users\\thu71\\AppData\\Roaming\\Python\\Python39\\site-packages\\lightning\\pytorch\\loops\\fit_loop.py:280: PossibleUserWarning: The number of training batches (5) is smaller than the logging interval Trainer(log_every_n_steps=10). Set a lower value for log_every_n_steps if you want to see logs for the training epoch.\n",
      "  rank_zero_warn(\n",
      "C:\\Users\\thu71\\Anaconda3\\envs\\snowflake\\lib\\site-packages\\torchmetrics\\utilities\\prints.py:36: UserWarning: No negative samples in targets, false positive value should be meaningless. Returning zero tensor in false positive score\n",
      "  warnings.warn(*args, **kwargs)\n",
      "C:\\Users\\thu71\\Anaconda3\\envs\\snowflake\\lib\\site-packages\\torchmetrics\\utilities\\prints.py:36: UserWarning: No negative samples in targets, false positive value should be meaningless. Returning zero tensor in false positive score\n",
      "  warnings.warn(*args, **kwargs)\n",
      "C:\\Users\\thu71\\Anaconda3\\envs\\snowflake\\lib\\site-packages\\torchmetrics\\utilities\\prints.py:36: UserWarning: No negative samples in targets, false positive value should be meaningless. Returning zero tensor in false positive score\n",
      "  warnings.warn(*args, **kwargs)\n",
      "C:\\Users\\thu71\\Anaconda3\\envs\\snowflake\\lib\\site-packages\\torchmetrics\\utilities\\prints.py:36: UserWarning: No negative samples in targets, false positive value should be meaningless. Returning zero tensor in false positive score\n",
      "  warnings.warn(*args, **kwargs)\n",
      "C:\\Users\\thu71\\Anaconda3\\envs\\snowflake\\lib\\site-packages\\torchmetrics\\utilities\\prints.py:36: UserWarning: No negative samples in targets, false positive value should be meaningless. Returning zero tensor in false positive score\n",
      "  warnings.warn(*args, **kwargs)\n",
      "`Trainer.fit` stopped: `max_epochs=100` reached.\n"
     ]
    },
    {
     "data": {
      "text/html": [
       "Waiting for W&B process to finish... <strong style=\"color:green\">(success).</strong>"
      ],
      "text/plain": [
       "<IPython.core.display.HTML object>"
      ]
     },
     "metadata": {},
     "output_type": "display_data"
    },
    {
     "data": {
      "application/vnd.jupyter.widget-view+json": {
       "model_id": "c95e12355c434a2dac3aeb712d205451",
       "version_major": 2,
       "version_minor": 0
      },
      "text/plain": [
       "VBox(children=(Label(value='0.001 MB of 0.001 MB uploaded (0.000 MB deduped)\\r'), FloatProgress(value=1.0, max…"
      ]
     },
     "metadata": {},
     "output_type": "display_data"
    },
    {
     "data": {
      "text/html": [
       "<style>\n",
       "    table.wandb td:nth-child(1) { padding: 0 10px; text-align: left ; width: auto;} td:nth-child(2) {text-align: left ; width: 100%}\n",
       "    .wandb-row { display: flex; flex-direction: row; flex-wrap: wrap; justify-content: flex-start; width: 100% }\n",
       "    .wandb-col { display: flex; flex-direction: column; flex-basis: 100%; flex: 1; padding: 10px; }\n",
       "    </style>\n",
       "<div class=\"wandb-row\"><div class=\"wandb-col\"><h3>Run history:</h3><br/><table class=\"wandb\"><tr><td>epoch</td><td>▁▁▁▁▂▂▂▂▂▃▃▃▃▃▃▄▄▄▄▄▅▅▅▅▅▅▆▆▆▆▆▇▇▇▇▇▇███</td></tr><tr><td>lr-Adam</td><td>▁▁▁▁▁▁▁▁▁▁▁▁▁▁▁▁▁▁▁▁▁▁▁▁▁▁▁▁▁▁▁▁▁▁▁▁▁▁▁▁</td></tr><tr><td>train_acc</td><td>▁▂▄▄▄▄▄▅▆▆▆▆▇▇▆▆▇▇▇▆▆▇▇▆▇▇█▇▇█▇█▇█████▇█</td></tr><tr><td>train_auc</td><td>▁▃▄▄▅▅▅▆▇▇▇▇▇▇▇▇▇▇▇▇▇▇▇▇▇▇██▇▇▇█████████</td></tr><tr><td>train_f1</td><td>▁▂▃▂▄▄▄▅▅▆▅▆▆▆▄▅▇▇▇▄▅▇▇▅█▇█▇▇▇▇█▇███▇█▇█</td></tr><tr><td>train_loss_epoch</td><td>█▇▆▆▅▅▅▄▄▃▃▃▃▃▃▃▂▂▂▄▃▂▂▃▂▂▂▁▂▂▂▂▂▁▁▁▁▁▂▁</td></tr><tr><td>train_loss_step</td><td>██▆▇▅▇▆▆▄▅▅▅▅▄▆▃▄▃▃▇▃▃▄▄▃▃▃▅▃▄▂▂▃▃▁▅▁▁▃▃</td></tr><tr><td>trainer/global_step</td><td>▁▁▁▁▂▁▂▂▂▂▃▂▃▃▂▄▃▄▃▄▃▅▃▅▄▆▄▆▄▆▄▇▇▅▇▅█▅█▅</td></tr><tr><td>val_acc</td><td>▁▃▆▅▅▆▆▆▆▆▅▅▅▇▆▆▇▇▇▇▇█▆▆▇▆▇▇▇▇▇▇▇▇▇▇▇▆█▇</td></tr><tr><td>val_auc</td><td>▁▃▄▅▅▅▆▆▇▇▇▇▇█▇▇▇█▆███▇██▇███▇█▇████████</td></tr><tr><td>val_f1</td><td>▃▁▆▄▅▅▆▅▅▆▄▄▄▇▅▆▆▇▆▇▇█▄▅▆▅▇▆▇▇▇▇▇▆▆▆▇▆█▇</td></tr><tr><td>val_loss_epoch</td><td>█▇▅▃▃▂▄▄▂▅▅▂▂▁▂▂▅▁▄▁▁▁▅▄▅▂▃▁▄▃▃▃▂▂▃▁▂▃▄▃</td></tr><tr><td>val_loss_step</td><td>▇█▆▁▅▄▆▅▃█▄▁▅▅▁▄▄▁▄▃▃▃▇▅▄▂▃▄▇▃▁▄▄▂▄▃▂▄▄▆</td></tr></table><br/></div><div class=\"wandb-col\"><h3>Run summary:</h3><br/><table class=\"wandb\"><tr><td>epoch</td><td>99</td></tr><tr><td>lr-Adam</td><td>0.005</td></tr><tr><td>train_acc</td><td>0.84466</td></tr><tr><td>train_auc</td><td>0.89873</td></tr><tr><td>train_f1</td><td>0.86667</td></tr><tr><td>train_loss_epoch</td><td>0.46898</td></tr><tr><td>train_loss_step</td><td>0.4755</td></tr><tr><td>trainer/global_step</td><td>499</td></tr><tr><td>val_acc</td><td>0.81955</td></tr><tr><td>val_auc</td><td>0.88435</td></tr><tr><td>val_f1</td><td>0.84615</td></tr><tr><td>val_loss_epoch</td><td>0.51746</td></tr><tr><td>val_loss_step</td><td>0.59659</td></tr></table><br/></div></div>"
      ],
      "text/plain": [
       "<IPython.core.display.HTML object>"
      ]
     },
     "metadata": {},
     "output_type": "display_data"
    },
    {
     "data": {
      "text/html": [
       " View run <strong style=\"color:#cdcd00\">GCN_2_16_4_moprh</strong> at: <a href='https://wandb.ai/thoomas/SF_082423_Covid/runs/ns9ll6hf' target=\"_blank\">https://wandb.ai/thoomas/SF_082423_Covid/runs/ns9ll6hf</a><br/>Synced 5 W&B file(s), 0 media file(s), 0 artifact file(s) and 0 other file(s)"
      ],
      "text/plain": [
       "<IPython.core.display.HTML object>"
      ]
     },
     "metadata": {},
     "output_type": "display_data"
    },
    {
     "data": {
      "text/html": [
       "Find logs at: <code>.\\wandb\\run-20230828_202817-ns9ll6hf\\logs</code>"
      ],
      "text/plain": [
       "<IPython.core.display.HTML object>"
      ]
     },
     "metadata": {},
     "output_type": "display_data"
    },
    {
     "data": {
      "application/vnd.jupyter.widget-view+json": {
       "model_id": "d9db44b5950f492587f4e13934a3e4aa",
       "version_major": 2,
       "version_minor": 0
      },
      "text/plain": [
       "VBox(children=(Label(value='Waiting for wandb.init()...\\r'), FloatProgress(value=0.016916666666899498, max=1.0…"
      ]
     },
     "metadata": {},
     "output_type": "display_data"
    },
    {
     "data": {
      "text/html": [
       "wandb version 0.15.9 is available!  To upgrade, please run:\n",
       " $ pip install wandb --upgrade"
      ],
      "text/plain": [
       "<IPython.core.display.HTML object>"
      ]
     },
     "metadata": {},
     "output_type": "display_data"
    },
    {
     "data": {
      "text/html": [
       "Tracking run with wandb version 0.14.0"
      ],
      "text/plain": [
       "<IPython.core.display.HTML object>"
      ]
     },
     "metadata": {},
     "output_type": "display_data"
    },
    {
     "data": {
      "text/html": [
       "Run data is saved locally in <code>Y:\\coskun-lab\\Thomas\\11_snowflakes\\notebooks\\wandb\\run-20230828_210308-an7r5dff</code>"
      ],
      "text/plain": [
       "<IPython.core.display.HTML object>"
      ]
     },
     "metadata": {},
     "output_type": "display_data"
    },
    {
     "data": {
      "text/html": [
       "Syncing run <strong><a href='https://wandb.ai/thoomas/SF_082423_Covid/runs/an7r5dff' target=\"_blank\">GraphConv_2_16_4_moprh</a></strong> to <a href='https://wandb.ai/thoomas/SF_082423_Covid' target=\"_blank\">Weights & Biases</a> (<a href='https://wandb.me/run' target=\"_blank\">docs</a>)<br/>"
      ],
      "text/plain": [
       "<IPython.core.display.HTML object>"
      ]
     },
     "metadata": {},
     "output_type": "display_data"
    },
    {
     "data": {
      "text/html": [
       " View project at <a href='https://wandb.ai/thoomas/SF_082423_Covid' target=\"_blank\">https://wandb.ai/thoomas/SF_082423_Covid</a>"
      ],
      "text/plain": [
       "<IPython.core.display.HTML object>"
      ]
     },
     "metadata": {},
     "output_type": "display_data"
    },
    {
     "data": {
      "text/html": [
       " View run at <a href='https://wandb.ai/thoomas/SF_082423_Covid/runs/an7r5dff' target=\"_blank\">https://wandb.ai/thoomas/SF_082423_Covid/runs/an7r5dff</a>"
      ],
      "text/plain": [
       "<IPython.core.display.HTML object>"
      ]
     },
     "metadata": {},
     "output_type": "display_data"
    },
    {
     "name": "stderr",
     "output_type": "stream",
     "text": [
      "Global seed set to 42\n",
      "C:\\Users\\thu71\\Anaconda3\\envs\\snowflake\\lib\\site-packages\\pytorch_lightning\\loggers\\wandb.py:395: UserWarning: There is a wandb run already in progress and newly created instances of `WandbLogger` will reuse this run. If this is not desired, call `wandb.finish()` before instantiating `WandbLogger`.\n",
      "  rank_zero_warn(\n",
      "GPU available: True (cuda), used: True\n",
      "TPU available: False, using: 0 TPU cores\n",
      "IPU available: False, using: 0 IPUs\n",
      "HPU available: False, using: 0 HPUs\n",
      "Global seed set to 42\n",
      "C:\\Users\\thu71\\Anaconda3\\envs\\snowflake\\lib\\site-packages\\torch_geometric\\deprecation.py:12: UserWarning: 'nn.glob.GlobalAttention' is deprecated, use 'nn.aggr.AttentionalAggregation' instead\n",
      "  warnings.warn(out)\n",
      "LOCAL_RANK: 0 - CUDA_VISIBLE_DEVICES: [0,1]\n"
     ]
    },
    {
     "name": "stdout",
     "output_type": "stream",
     "text": [
      "Training with Morphological features\n"
     ]
    },
    {
     "name": "stderr",
     "output_type": "stream",
     "text": [
      "\n",
      "   | Name           | Type             | Params\n",
      "-----------------------------------------------------\n",
      "0  | feat_embedding | Sequential       | 832   \n",
      "1  | model          | GNNModel         | 736   \n",
      "2  | head           | BilinearFusion   | 19.6 K\n",
      "3  | pred           | Linear           | 34    \n",
      "4  | fnn_layer      | Linear           | 272   \n",
      "5  | selu           | SELU             | 0     \n",
      "6  | loss_module    | CrossEntropyLoss | 0     \n",
      "7  | train_acc      | BinaryAccuracy   | 0     \n",
      "8  | train_auroc    | BinaryAUROC      | 0     \n",
      "9  | train_f1       | BinaryF1Score    | 0     \n",
      "10 | valid_acc      | BinaryAccuracy   | 0     \n",
      "11 | valid_auroc    | BinaryAUROC      | 0     \n",
      "12 | valid_f1       | BinaryF1Score    | 0     \n",
      "13 | pool           | GlobalAttention  | 17    \n",
      "-----------------------------------------------------\n",
      "21.5 K    Trainable params\n",
      "0         Non-trainable params\n",
      "21.5 K    Total params\n",
      "0.086     Total estimated model params size (MB)\n",
      "C:\\Users\\thu71\\AppData\\Roaming\\Python\\Python39\\site-packages\\lightning\\pytorch\\trainer\\connectors\\data_connector.py:478: PossibleUserWarning: Your `val_dataloader`'s sampler has shuffling enabled, it is strongly recommended that you turn shuffling off for val/test dataloaders.\n",
      "  rank_zero_warn(\n",
      "C:\\Users\\thu71\\AppData\\Roaming\\Python\\Python39\\site-packages\\lightning\\pytorch\\trainer\\connectors\\data_connector.py:430: PossibleUserWarning: The dataloader, val_dataloader, does not have many workers which may be a bottleneck. Consider increasing the value of the `num_workers` argument` (try 48 which is the number of cpus on this machine) in the `DataLoader` init to improve performance.\n",
      "  rank_zero_warn(\n",
      "C:\\Users\\thu71\\AppData\\Roaming\\Python\\Python39\\site-packages\\lightning\\pytorch\\trainer\\connectors\\data_connector.py:430: PossibleUserWarning: The dataloader, train_dataloader, does not have many workers which may be a bottleneck. Consider increasing the value of the `num_workers` argument` (try 48 which is the number of cpus on this machine) in the `DataLoader` init to improve performance.\n",
      "  rank_zero_warn(\n",
      "C:\\Users\\thu71\\AppData\\Roaming\\Python\\Python39\\site-packages\\lightning\\pytorch\\loops\\fit_loop.py:280: PossibleUserWarning: The number of training batches (5) is smaller than the logging interval Trainer(log_every_n_steps=10). Set a lower value for log_every_n_steps if you want to see logs for the training epoch.\n",
      "  rank_zero_warn(\n",
      "C:\\Users\\thu71\\Anaconda3\\envs\\snowflake\\lib\\site-packages\\torchmetrics\\utilities\\prints.py:36: UserWarning: No negative samples in targets, false positive value should be meaningless. Returning zero tensor in false positive score\n",
      "  warnings.warn(*args, **kwargs)\n",
      "`Trainer.fit` stopped: `max_epochs=100` reached.\n"
     ]
    },
    {
     "data": {
      "text/html": [
       "Waiting for W&B process to finish... <strong style=\"color:green\">(success).</strong>"
      ],
      "text/plain": [
       "<IPython.core.display.HTML object>"
      ]
     },
     "metadata": {},
     "output_type": "display_data"
    },
    {
     "data": {
      "application/vnd.jupyter.widget-view+json": {
       "model_id": "2079f47e3bbe43fba309a5a987f3e898",
       "version_major": 2,
       "version_minor": 0
      },
      "text/plain": [
       "VBox(children=(Label(value='0.001 MB of 0.001 MB uploaded (0.000 MB deduped)\\r'), FloatProgress(value=1.0, max…"
      ]
     },
     "metadata": {},
     "output_type": "display_data"
    },
    {
     "data": {
      "text/html": [
       "<style>\n",
       "    table.wandb td:nth-child(1) { padding: 0 10px; text-align: left ; width: auto;} td:nth-child(2) {text-align: left ; width: 100%}\n",
       "    .wandb-row { display: flex; flex-direction: row; flex-wrap: wrap; justify-content: flex-start; width: 100% }\n",
       "    .wandb-col { display: flex; flex-direction: column; flex-basis: 100%; flex: 1; padding: 10px; }\n",
       "    </style>\n",
       "<div class=\"wandb-row\"><div class=\"wandb-col\"><h3>Run history:</h3><br/><table class=\"wandb\"><tr><td>epoch</td><td>▁▁▁▁▂▂▂▂▂▃▃▃▃▃▃▄▄▄▄▄▅▅▅▅▅▅▆▆▆▆▆▇▇▇▇▇▇███</td></tr><tr><td>lr-Adam</td><td>▁▁▁▁▁▁▁▁▁▁▁▁▁▁▁▁▁▁▁▁▁▁▁▁▁▁▁▁▁▁▁▁▁▁▁▁▁▁▁▁</td></tr><tr><td>train_acc</td><td>▁▃▄▅▅▅▅▅▆▆▆▇▆▆▇▆▆█▆▇▇▇▇▆▇█▇███▇█▇▇█▇█▇█▇</td></tr><tr><td>train_auc</td><td>▁▅▅▆▆▇▇▇▇▇▇▇▇▇▇▇▇█▇▇██▇█▇███▇█▇██▇██████</td></tr><tr><td>train_f1</td><td>▁▂▁▂▃▃▃▃▄▃▄▆▅▅▆▆▅▇▅▆▇▇▆▅▇█▇▇▇▇▆▇▇▇█▇█▇█▇</td></tr><tr><td>train_loss_epoch</td><td>█▆▆▅▅▄▄▄▃▃▃▃▃▃▃▃▃▂▃▂▂▂▂▂▂▂▂▂▂▁▃▂▂▂▂▂▁▂▁▂</td></tr><tr><td>train_loss_step</td><td>▇▆▆█▆▅▄▆▆▄▅▆▅▆▆▇▅▅▄▃▃▄▁▄▃▄▄▃▃▂▄▃▃▃▅▃▃▃▁▃</td></tr><tr><td>trainer/global_step</td><td>▁▁▁▁▂▁▂▂▂▂▃▂▃▃▂▄▃▄▃▄▃▅▃▅▄▆▄▆▄▆▄▇▇▅▇▅█▅█▅</td></tr><tr><td>val_acc</td><td>▁▆▆▅▆▆▆▆▇▆▆▆▆▇▇▆▇▇▇▇█▆▇▇█▇▇▇▇▇▇▇▇▇▇▇██▇▇</td></tr><tr><td>val_auc</td><td>▁▅▆▆▆▆▇▇▇▇▇▇▇███▇█▇▇▇▇▇▇█▇█▇▇▇▆███████▇▇</td></tr><tr><td>val_f1</td><td>▁▄▄▃▅▅▅▄▅▅▅▅▅▇▇▄▆▇▅▇▇▅▇▇█▇▇▆▆▅▆▇▇▆▆▆▇▇▇▇</td></tr><tr><td>val_loss_epoch</td><td>█▄▄▄▄▆▂▃▂▄▂▃▂▃▄▄▃▁▂▂▂▃▂▅▁▃▃▃▄▄▄▃▃▇▁▂▃▁▂▃</td></tr><tr><td>val_loss_step</td><td>▄▄▄▃▄▃▁▃▃▄▃▃▃▃▃▃▃▁▃▃▃▃▂▃▃▃▂▃▃▃▃▃▃█▃▃▃▃▂▃</td></tr></table><br/></div><div class=\"wandb-col\"><h3>Run summary:</h3><br/><table class=\"wandb\"><tr><td>epoch</td><td>99</td></tr><tr><td>lr-Adam</td><td>0.005</td></tr><tr><td>train_acc</td><td>0.80906</td></tr><tr><td>train_auc</td><td>0.89368</td></tr><tr><td>train_f1</td><td>0.84675</td></tr><tr><td>train_loss_epoch</td><td>0.49344</td></tr><tr><td>train_loss_step</td><td>0.46724</td></tr><tr><td>trainer/global_step</td><td>499</td></tr><tr><td>val_acc</td><td>0.84211</td></tr><tr><td>val_auc</td><td>0.88089</td></tr><tr><td>val_f1</td><td>0.87117</td></tr><tr><td>val_loss_epoch</td><td>0.46227</td></tr><tr><td>val_loss_step</td><td>0.44881</td></tr></table><br/></div></div>"
      ],
      "text/plain": [
       "<IPython.core.display.HTML object>"
      ]
     },
     "metadata": {},
     "output_type": "display_data"
    },
    {
     "data": {
      "text/html": [
       " View run <strong style=\"color:#cdcd00\">GraphConv_2_16_4_moprh</strong> at: <a href='https://wandb.ai/thoomas/SF_082423_Covid/runs/an7r5dff' target=\"_blank\">https://wandb.ai/thoomas/SF_082423_Covid/runs/an7r5dff</a><br/>Synced 5 W&B file(s), 0 media file(s), 0 artifact file(s) and 0 other file(s)"
      ],
      "text/plain": [
       "<IPython.core.display.HTML object>"
      ]
     },
     "metadata": {},
     "output_type": "display_data"
    },
    {
     "data": {
      "text/html": [
       "Find logs at: <code>.\\wandb\\run-20230828_210308-an7r5dff\\logs</code>"
      ],
      "text/plain": [
       "<IPython.core.display.HTML object>"
      ]
     },
     "metadata": {},
     "output_type": "display_data"
    },
    {
     "data": {
      "application/vnd.jupyter.widget-view+json": {
       "model_id": "8cbe0f3156fc48009af0ce19bf092075",
       "version_major": 2,
       "version_minor": 0
      },
      "text/plain": [
       "VBox(children=(Label(value='Waiting for wandb.init()...\\r'), FloatProgress(value=0.016916666666899498, max=1.0…"
      ]
     },
     "metadata": {},
     "output_type": "display_data"
    },
    {
     "data": {
      "text/html": [
       "wandb version 0.15.9 is available!  To upgrade, please run:\n",
       " $ pip install wandb --upgrade"
      ],
      "text/plain": [
       "<IPython.core.display.HTML object>"
      ]
     },
     "metadata": {},
     "output_type": "display_data"
    },
    {
     "data": {
      "text/html": [
       "Tracking run with wandb version 0.14.0"
      ],
      "text/plain": [
       "<IPython.core.display.HTML object>"
      ]
     },
     "metadata": {},
     "output_type": "display_data"
    },
    {
     "data": {
      "text/html": [
       "Run data is saved locally in <code>Y:\\coskun-lab\\Thomas\\11_snowflakes\\notebooks\\wandb\\run-20230828_213745-q1vrw2qz</code>"
      ],
      "text/plain": [
       "<IPython.core.display.HTML object>"
      ]
     },
     "metadata": {},
     "output_type": "display_data"
    },
    {
     "data": {
      "text/html": [
       "Syncing run <strong><a href='https://wandb.ai/thoomas/SF_082423_Covid/runs/q1vrw2qz' target=\"_blank\">GINConv_2_16_4_moprh</a></strong> to <a href='https://wandb.ai/thoomas/SF_082423_Covid' target=\"_blank\">Weights & Biases</a> (<a href='https://wandb.me/run' target=\"_blank\">docs</a>)<br/>"
      ],
      "text/plain": [
       "<IPython.core.display.HTML object>"
      ]
     },
     "metadata": {},
     "output_type": "display_data"
    },
    {
     "data": {
      "text/html": [
       " View project at <a href='https://wandb.ai/thoomas/SF_082423_Covid' target=\"_blank\">https://wandb.ai/thoomas/SF_082423_Covid</a>"
      ],
      "text/plain": [
       "<IPython.core.display.HTML object>"
      ]
     },
     "metadata": {},
     "output_type": "display_data"
    },
    {
     "data": {
      "text/html": [
       " View run at <a href='https://wandb.ai/thoomas/SF_082423_Covid/runs/q1vrw2qz' target=\"_blank\">https://wandb.ai/thoomas/SF_082423_Covid/runs/q1vrw2qz</a>"
      ],
      "text/plain": [
       "<IPython.core.display.HTML object>"
      ]
     },
     "metadata": {},
     "output_type": "display_data"
    },
    {
     "name": "stderr",
     "output_type": "stream",
     "text": [
      "Global seed set to 42\n",
      "C:\\Users\\thu71\\Anaconda3\\envs\\snowflake\\lib\\site-packages\\pytorch_lightning\\loggers\\wandb.py:395: UserWarning: There is a wandb run already in progress and newly created instances of `WandbLogger` will reuse this run. If this is not desired, call `wandb.finish()` before instantiating `WandbLogger`.\n",
      "  rank_zero_warn(\n",
      "GPU available: True (cuda), used: True\n",
      "TPU available: False, using: 0 TPU cores\n",
      "IPU available: False, using: 0 IPUs\n",
      "HPU available: False, using: 0 HPUs\n",
      "Global seed set to 42\n",
      "C:\\Users\\thu71\\Anaconda3\\envs\\snowflake\\lib\\site-packages\\torch_geometric\\deprecation.py:12: UserWarning: 'nn.glob.GlobalAttention' is deprecated, use 'nn.aggr.AttentionalAggregation' instead\n",
      "  warnings.warn(out)\n",
      "LOCAL_RANK: 0 - CUDA_VISIBLE_DEVICES: [0,1]\n",
      "\n",
      "   | Name           | Type             | Params\n",
      "-----------------------------------------------------\n",
      "0  | feat_embedding | Sequential       | 832   \n",
      "1  | model          | GIN              | 1.0 K \n",
      "2  | head           | BilinearFusion   | 19.6 K\n",
      "3  | pred           | Linear           | 34    \n",
      "4  | fnn_layer      | Linear           | 272   \n",
      "5  | selu           | SELU             | 0     \n",
      "6  | loss_module    | CrossEntropyLoss | 0     \n",
      "7  | train_acc      | BinaryAccuracy   | 0     \n",
      "8  | train_auroc    | BinaryAUROC      | 0     \n",
      "9  | train_f1       | BinaryF1Score    | 0     \n",
      "10 | valid_acc      | BinaryAccuracy   | 0     \n",
      "11 | valid_auroc    | BinaryAUROC      | 0     \n",
      "12 | valid_f1       | BinaryF1Score    | 0     \n",
      "13 | pool           | GlobalAttention  | 17    \n",
      "-----------------------------------------------------\n",
      "21.8 K    Trainable params\n",
      "0         Non-trainable params\n",
      "21.8 K    Total params\n",
      "0.087     Total estimated model params size (MB)\n"
     ]
    },
    {
     "name": "stdout",
     "output_type": "stream",
     "text": [
      "Training with Morphological features\n"
     ]
    },
    {
     "name": "stderr",
     "output_type": "stream",
     "text": [
      "C:\\Users\\thu71\\AppData\\Roaming\\Python\\Python39\\site-packages\\lightning\\pytorch\\trainer\\connectors\\data_connector.py:478: PossibleUserWarning: Your `val_dataloader`'s sampler has shuffling enabled, it is strongly recommended that you turn shuffling off for val/test dataloaders.\n",
      "  rank_zero_warn(\n",
      "C:\\Users\\thu71\\AppData\\Roaming\\Python\\Python39\\site-packages\\lightning\\pytorch\\trainer\\connectors\\data_connector.py:430: PossibleUserWarning: The dataloader, val_dataloader, does not have many workers which may be a bottleneck. Consider increasing the value of the `num_workers` argument` (try 48 which is the number of cpus on this machine) in the `DataLoader` init to improve performance.\n",
      "  rank_zero_warn(\n",
      "C:\\Users\\thu71\\AppData\\Roaming\\Python\\Python39\\site-packages\\lightning\\pytorch\\trainer\\connectors\\data_connector.py:430: PossibleUserWarning: The dataloader, train_dataloader, does not have many workers which may be a bottleneck. Consider increasing the value of the `num_workers` argument` (try 48 which is the number of cpus on this machine) in the `DataLoader` init to improve performance.\n",
      "  rank_zero_warn(\n",
      "C:\\Users\\thu71\\AppData\\Roaming\\Python\\Python39\\site-packages\\lightning\\pytorch\\loops\\fit_loop.py:280: PossibleUserWarning: The number of training batches (5) is smaller than the logging interval Trainer(log_every_n_steps=10). Set a lower value for log_every_n_steps if you want to see logs for the training epoch.\n",
      "  rank_zero_warn(\n",
      "C:\\Users\\thu71\\Anaconda3\\envs\\snowflake\\lib\\site-packages\\torchmetrics\\utilities\\prints.py:36: UserWarning: No negative samples in targets, false positive value should be meaningless. Returning zero tensor in false positive score\n",
      "  warnings.warn(*args, **kwargs)\n",
      "C:\\Users\\thu71\\Anaconda3\\envs\\snowflake\\lib\\site-packages\\torchmetrics\\utilities\\prints.py:36: UserWarning: No negative samples in targets, false positive value should be meaningless. Returning zero tensor in false positive score\n",
      "  warnings.warn(*args, **kwargs)\n",
      "C:\\Users\\thu71\\Anaconda3\\envs\\snowflake\\lib\\site-packages\\torchmetrics\\utilities\\prints.py:36: UserWarning: No negative samples in targets, false positive value should be meaningless. Returning zero tensor in false positive score\n",
      "  warnings.warn(*args, **kwargs)\n",
      "C:\\Users\\thu71\\Anaconda3\\envs\\snowflake\\lib\\site-packages\\torchmetrics\\utilities\\prints.py:36: UserWarning: No negative samples in targets, false positive value should be meaningless. Returning zero tensor in false positive score\n",
      "  warnings.warn(*args, **kwargs)\n",
      "C:\\Users\\thu71\\Anaconda3\\envs\\snowflake\\lib\\site-packages\\torchmetrics\\utilities\\prints.py:36: UserWarning: No negative samples in targets, false positive value should be meaningless. Returning zero tensor in false positive score\n",
      "  warnings.warn(*args, **kwargs)\n",
      "C:\\Users\\thu71\\Anaconda3\\envs\\snowflake\\lib\\site-packages\\torchmetrics\\utilities\\prints.py:36: UserWarning: No positive samples in targets, true positive value should be meaningless. Returning zero tensor in true positive score\n",
      "  warnings.warn(*args, **kwargs)\n",
      "C:\\Users\\thu71\\Anaconda3\\envs\\snowflake\\lib\\site-packages\\torchmetrics\\utilities\\prints.py:36: UserWarning: No negative samples in targets, false positive value should be meaningless. Returning zero tensor in false positive score\n",
      "  warnings.warn(*args, **kwargs)\n",
      "C:\\Users\\thu71\\Anaconda3\\envs\\snowflake\\lib\\site-packages\\torchmetrics\\utilities\\prints.py:36: UserWarning: No positive samples in targets, true positive value should be meaningless. Returning zero tensor in true positive score\n",
      "  warnings.warn(*args, **kwargs)\n",
      "C:\\Users\\thu71\\Anaconda3\\envs\\snowflake\\lib\\site-packages\\torchmetrics\\utilities\\prints.py:36: UserWarning: No negative samples in targets, false positive value should be meaningless. Returning zero tensor in false positive score\n",
      "  warnings.warn(*args, **kwargs)\n",
      "`Trainer.fit` stopped: `max_epochs=100` reached.\n"
     ]
    },
    {
     "data": {
      "text/html": [
       "Waiting for W&B process to finish... <strong style=\"color:green\">(success).</strong>"
      ],
      "text/plain": [
       "<IPython.core.display.HTML object>"
      ]
     },
     "metadata": {},
     "output_type": "display_data"
    },
    {
     "data": {
      "application/vnd.jupyter.widget-view+json": {
       "model_id": "2f8bac3770334ac5895f96cf116f4b7b",
       "version_major": 2,
       "version_minor": 0
      },
      "text/plain": [
       "VBox(children=(Label(value='0.001 MB of 0.001 MB uploaded (0.000 MB deduped)\\r'), FloatProgress(value=1.0, max…"
      ]
     },
     "metadata": {},
     "output_type": "display_data"
    },
    {
     "data": {
      "text/html": [
       "<style>\n",
       "    table.wandb td:nth-child(1) { padding: 0 10px; text-align: left ; width: auto;} td:nth-child(2) {text-align: left ; width: 100%}\n",
       "    .wandb-row { display: flex; flex-direction: row; flex-wrap: wrap; justify-content: flex-start; width: 100% }\n",
       "    .wandb-col { display: flex; flex-direction: column; flex-basis: 100%; flex: 1; padding: 10px; }\n",
       "    </style>\n",
       "<div class=\"wandb-row\"><div class=\"wandb-col\"><h3>Run history:</h3><br/><table class=\"wandb\"><tr><td>epoch</td><td>▁▁▁▁▂▂▂▂▂▃▃▃▃▃▃▄▄▄▄▄▅▅▅▅▅▅▆▆▆▆▆▇▇▇▇▇▇███</td></tr><tr><td>lr-Adam</td><td>▁▁▁▁▁▁▁▁▁▁▁▁▁▁▁▁▁▁▁▁▁▁▁▁▁▁▁▁▁▁▁▁▁▁▁▁▁▁▁▁</td></tr><tr><td>train_acc</td><td>▁▁▄▄▅▆▆▆▆▆▅▆▇▆▇▇▇▆▇▆▇▇▇▇▇▇▇▇██████▇▇████</td></tr><tr><td>train_auc</td><td>▁▂▅▅▆▇▇▇▇▇▆▇▇▇▇█▇▇▇█▇▇███▇▇███████▇█████</td></tr><tr><td>train_f1</td><td>▁▁▂▃▄▄▅▄▅▅▅▅▇▅▇▆▆▅▆▆▆▇▇▇▇▇▆▇▇███▇█▇▇████</td></tr><tr><td>train_loss_epoch</td><td>██▆▅▅▄▄▄▃▃▄▃▃▃▂▃▃▃▃▃▂▂▂▂▂▂▂▂▂▂▂▁▂▁▂▂▁▁▁▁</td></tr><tr><td>train_loss_step</td><td>█▇▇▇▄▄▄▂▅▆▃▄▃▃▃▂▄▄▂▄▂▅▄▃▅▂▃▅▂▄▄▃▂▃▂▂▂▃▁▃</td></tr><tr><td>trainer/global_step</td><td>▁▁▁▁▂▁▂▂▂▂▃▂▃▃▂▄▃▄▃▄▃▅▃▅▄▆▄▆▄▆▄▇▇▅▇▅█▅█▅</td></tr><tr><td>val_acc</td><td>▁▁▆▆▆▇▆▇▆█▇▆█▆▇█▄▅▇▇▆▆▇█▇▇▇██▆█▇▇▇▆▇▇█▇█</td></tr><tr><td>val_auc</td><td>▁▄▅▆▆▆▆▆▆▇▇▆█▆▇█▆█▇▆▇▇▆█▇▇▇██▇█▇█▇▇▇▇▇▆█</td></tr><tr><td>val_f1</td><td>▃▃▆▆▆▆▅▆▆▇▆▆█▆▆█▁▆▆▇▇▅▆█▇▇▇██▆█▆▇▇▅▇▇█▆▇</td></tr><tr><td>val_loss_epoch</td><td>██▃▅▃▂▃▃▅▂▂▂▃▅▂▁█▄▃▂▂▅▄▃▄▄▃▂▂▄▁▂▁▄▅▃▁▁▂▃</td></tr><tr><td>val_loss_step</td><td>██▇█▅▆▂▅▄▅▅▁▃▅▁▄▅▄▄▅▅▅▇▃▃▆▃▃▄▆▁▄▄█▅▄▁▄▄▆</td></tr></table><br/></div><div class=\"wandb-col\"><h3>Run summary:</h3><br/><table class=\"wandb\"><tr><td>epoch</td><td>99</td></tr><tr><td>lr-Adam</td><td>0.005</td></tr><tr><td>train_acc</td><td>0.90939</td></tr><tr><td>train_auc</td><td>0.9429</td></tr><tr><td>train_f1</td><td>0.92135</td></tr><tr><td>train_loss_epoch</td><td>0.40434</td></tr><tr><td>train_loss_step</td><td>0.43835</td></tr><tr><td>trainer/global_step</td><td>499</td></tr><tr><td>val_acc</td><td>0.84962</td></tr><tr><td>val_auc</td><td>0.92452</td></tr><tr><td>val_f1</td><td>0.87013</td></tr><tr><td>val_loss_epoch</td><td>0.48687</td></tr><tr><td>val_loss_step</td><td>0.56082</td></tr></table><br/></div></div>"
      ],
      "text/plain": [
       "<IPython.core.display.HTML object>"
      ]
     },
     "metadata": {},
     "output_type": "display_data"
    },
    {
     "data": {
      "text/html": [
       " View run <strong style=\"color:#cdcd00\">GINConv_2_16_4_moprh</strong> at: <a href='https://wandb.ai/thoomas/SF_082423_Covid/runs/q1vrw2qz' target=\"_blank\">https://wandb.ai/thoomas/SF_082423_Covid/runs/q1vrw2qz</a><br/>Synced 5 W&B file(s), 0 media file(s), 0 artifact file(s) and 0 other file(s)"
      ],
      "text/plain": [
       "<IPython.core.display.HTML object>"
      ]
     },
     "metadata": {},
     "output_type": "display_data"
    },
    {
     "data": {
      "text/html": [
       "Find logs at: <code>.\\wandb\\run-20230828_213745-q1vrw2qz\\logs</code>"
      ],
      "text/plain": [
       "<IPython.core.display.HTML object>"
      ]
     },
     "metadata": {},
     "output_type": "display_data"
    }
   ],
   "source": [
    "# Print K fold model number of samples and number of positive cases\n",
    "\n",
    "k_folds = 5\n",
    "# kfold = KFold(n_splits=k_folds, shuffle=True, random_state=42)\n",
    "kfold = StratifiedShuffleSplit(n_splits=k_folds, test_size=0.3, random_state=0)\n",
    "fusion_mode = 'bilinear'\n",
    "# fusion_mode = 'concat'\n",
    "\n",
    "for fold, (train_ids, valid_ids) in enumerate(kfold.split(dataset, ys)):\n",
    "    train_subset = dataset.index_select(train_ids.tolist())\n",
    "    val_subset = dataset.index_select(valid_ids.tolist())\n",
    "    \n",
    "    for pool in pools:\n",
    "        for model in models:\n",
    "            if model == 'GAT':\n",
    "                batch_size=64\n",
    "            else:\n",
    "                batch_size=64\n",
    "            # Path to the folder where the pretrained models are saved\n",
    "            CHECKPOINT_PATH = checkpoint_folder / f'{model}_{NUM_LAYERS}_{HIDDEN_CHANNELS}_{fold}_moprh_{fusion_mode}' / pool\n",
    "            CHECKPOINT_PATH.mkdir(parents=True, exist_ok=True)\n",
    "\n",
    "            # Skip already trained kfold and pool\n",
    "            checkpoint = CHECKPOINT_PATH / f\"GraphLevel{model}\" / f\"GraphLevel{model}.ckpt\" \n",
    "            if checkpoint.exists():\n",
    "                print(checkpoint)\n",
    "                continue\n",
    "\n",
    "            # Run training\n",
    "            run = wandb.init(project=project_name, name=f'{model}_{NUM_LAYERS}_{HIDDEN_CHANNELS}_{fold}_moprh', \n",
    "                            group=f'{model}_{pool}_moprh_{fusion_mode}')\n",
    "            graph.train_graph_classifier_kfold(model, \n",
    "                                                 train_subset, \n",
    "                                                 val_subset, \n",
    "                                                 dataset, \n",
    "                                                 CHECKPOINT_PATH, \n",
    "                                                 AVAIL_GPUS, \n",
    "                                                 hidden_channels=HIDDEN_CHANNELS, \n",
    "                                                 num_layers=NUM_LAYERS, \n",
    "                                                 epochs=epochs,\n",
    "                                                 morph=True,\n",
    "                                                 fusion = fusion_mode,\n",
    "                                                 batch_size=batch_size,\n",
    "                                                 graph_pooling=pool)\n",
    "            run.finish()\n"
   ]
  },
  {
   "cell_type": "code",
   "execution_count": null,
   "id": "fc615dfc-7b37-4861-b20a-9cc44d845103",
   "metadata": {},
   "outputs": [],
   "source": []
  }
 ],
 "metadata": {
  "kernelspec": {
   "display_name": "Python [conda env:snowflake]",
   "language": "python",
   "name": "conda-env-snowflake-py"
  },
  "language_info": {
   "codemirror_mode": {
    "name": "ipython",
    "version": 3
   },
   "file_extension": ".py",
   "mimetype": "text/x-python",
   "name": "python",
   "nbconvert_exporter": "python",
   "pygments_lexer": "ipython3",
   "version": "3.9.16"
  }
 },
 "nbformat": 4,
 "nbformat_minor": 5
}
