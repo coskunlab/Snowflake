{
 "cells": [
  {
   "cell_type": "code",
   "execution_count": 1,
   "id": "0247c074-b220-4b09-a90c-1d53c9f00a52",
   "metadata": {},
   "outputs": [],
   "source": [
    "import os\n",
    "import re\n",
    "import sys\n",
    "from pathlib import Path\n",
    "\n",
    "import h5py\n",
    "import matplotlib.pyplot as plt\n",
    "import numpy as np\n",
    "import pandas as pd\n",
    "import scanpy as sc\n",
    "import skimage\n",
    "from skimage import io\n",
    "from sklearn import preprocessing\n",
    "from tqdm.notebook import tqdm, trange\n",
    "import anndata as ad\n",
    "import cv2\n",
    "import scanorama\n",
    "from sklearn.model_selection import train_test_split\n",
    "import seaborn as sns"
   ]
  },
  {
   "cell_type": "code",
   "execution_count": 2,
   "id": "a74a433b-63c7-46b3-a938-8b4584bb2d63",
   "metadata": {},
   "outputs": [],
   "source": [
    "# Import spatial omics library\n",
    "import athena as ath\n",
    "from spatialOmics import SpatialOmics\n",
    "\n",
    "# import default graph builder parameters\n",
    "from athena.graph_builder.constants import GRAPH_BUILDER_DEFAULT_PARAMS"
   ]
  },
  {
   "cell_type": "code",
   "execution_count": 3,
   "id": "b279b1a4-1739-42a1-8d9e-a7c49b976e6e",
   "metadata": {},
   "outputs": [],
   "source": [
    "d_dir = (Path().cwd().parents[0].parents[0]).absolute()\n",
    "data_dir = d_dir / \"09_datasets\"\n",
    "\n",
    "p_dir = (Path().cwd().parents[0]).absolute()"
   ]
  },
  {
   "cell_type": "code",
   "execution_count": 4,
   "id": "8ae1ea5a-e6da-48fe-a609-173c5fcbb42e",
   "metadata": {},
   "outputs": [],
   "source": [
    "%load_ext autoreload\n",
    "%autoreload 2\n",
    "\n",
    "module_path = str(p_dir / \"src\")\n",
    "\n",
    "if module_path not in sys.path:\n",
    "    sys.path.append(module_path)\n"
   ]
  },
  {
   "cell_type": "code",
   "execution_count": 5,
   "id": "84319f5d-8717-45f8-bc44-6a1321905222",
   "metadata": {},
   "outputs": [],
   "source": [
    "import graph\n",
    "import torch\n",
    "import torch_geometric.utils\n",
    "import networkx as nx\n",
    "import lightning.pytorch as pl\n",
    "import torch.utils.data as data\n",
    "\n",
    "spatial_omics_folder = (Path().cwd().parents[0]).absolute() / 'data' / 'spatial_omics_graph'\n",
    "process_path = (Path().cwd().parents[0]).absolute() / 'data' / 'torch_graph_data'\n",
    "morph_path = (Path().cwd().parents[0]).absolute() / 'data' / 'morph' / 'outlinePCA.pkl'"
   ]
  },
  {
   "cell_type": "markdown",
   "id": "1c8c3e67-8407-46cf-9f27-5420d401e8ae",
   "metadata": {
    "tags": []
   },
   "source": [
    "# Create data loader"
   ]
  },
  {
   "cell_type": "code",
   "execution_count": 6,
   "id": "6f7f9fbf-af33-4f0f-94b0-ce345fc8c4c2",
   "metadata": {},
   "outputs": [],
   "source": [
    "from torch_geometric.loader import DataLoader\n",
    "seed = torch.Generator().manual_seed(42)\n",
    "\n",
    "name = 'NIH'\n",
    "\n",
    "# Crate dataset\n",
    "dataset = graph.GraphDatasetMorph(process_path / name, morph_path, process_path / name / 'info.csv', 2, y_name='covid')\n",
    "\n",
    "train_set, val_set, test_set = graph.train_test_val_split(dataset)\n",
    "\n",
    "# Create Dataloader\n",
    "train_loader = DataLoader(train_set, batch_size=32, shuffle=True)\n",
    "val_loader = DataLoader(val_set, batch_size=32, shuffle=True)\n",
    "test_loader = DataLoader(test_set, batch_size=32, shuffle=False)\n"
   ]
  },
  {
   "cell_type": "code",
   "execution_count": 7,
   "id": "d076fd9b-5d82-46dd-999e-4a3a6ac32fe0",
   "metadata": {},
   "outputs": [
    {
     "name": "stdout",
     "output_type": "stream",
     "text": [
      "Dataset: GraphDatasetMorph(442):\n",
      "======================\n",
      "Number of graphs: 442\n",
      "Number of features: 5\n",
      "Number of classes: 2\n"
     ]
    }
   ],
   "source": [
    "print(f'Dataset: {dataset}:')\n",
    "print('======================')\n",
    "print(f'Number of graphs: {len(dataset)}')\n",
    "print(f'Number of features: {dataset.num_features}')\n",
    "print(f'Number of classes: {dataset.nc}')"
   ]
  },
  {
   "cell_type": "code",
   "execution_count": 8,
   "id": "c215697d-363f-45f6-b561-800d2a8db3e8",
   "metadata": {},
   "outputs": [
    {
     "name": "stdout",
     "output_type": "stream",
     "text": [
      "Train set: 213, val set: 176, val set: 53\n"
     ]
    }
   ],
   "source": [
    "print(f'Train set: {len(train_set)}, val set: {len(test_set)}, val set: {len(val_set)}')"
   ]
  },
  {
   "cell_type": "code",
   "execution_count": 9,
   "id": "439ea1cb-f87e-4bb8-83e1-453647eae5de",
   "metadata": {
    "tags": []
   },
   "outputs": [
    {
     "name": "stdout",
     "output_type": "stream",
     "text": [
      "Step 1:\n",
      "=======\n",
      "Number of graphs in the current batch: 32\n",
      "DataBatch(edge_index=[2, 887767], num_nodes=127015, x=[127015, 5], pos=[127015, 2], node_types=[127015], label=[32], covid=[32], train_mask=[127015], test_mask=[127015], y=[32], name=[32], features=[32, 34], features_names=[32], batch=[127015], ptr=[33])\n",
      "\n"
     ]
    }
   ],
   "source": [
    "for step, data in enumerate(test_loader):\n",
    "    print(f'Step {step + 1}:')\n",
    "    print('=======')\n",
    "    print(f'Number of graphs in the current batch: {data.num_graphs}')\n",
    "    print(data)\n",
    "    print()\n",
    "    data.label\n",
    "    break"
   ]
  },
  {
   "cell_type": "markdown",
   "id": "7cdfb7d5-9ec0-44b8-8ee1-af2532a61d6b",
   "metadata": {},
   "source": [
    "# Train network K Fold"
   ]
  },
  {
   "cell_type": "code",
   "execution_count": 10,
   "id": "e9951d9a-9c8d-49e3-b6ba-449669e900b1",
   "metadata": {},
   "outputs": [],
   "source": [
    "from lightning.pytorch.accelerators import find_usable_cuda_devices\n",
    "import wandb"
   ]
  },
  {
   "cell_type": "code",
   "execution_count": 11,
   "id": "47b587a5-af10-4600-9dc2-891ad923c2af",
   "metadata": {},
   "outputs": [],
   "source": [
    "from sklearn.model_selection import KFold, StratifiedKFold, StratifiedShuffleSplit\n",
    "from torch.utils.data import SubsetRandomSampler"
   ]
  },
  {
   "cell_type": "code",
   "execution_count": 12,
   "id": "3263ef3c-9a03-4b76-b476-75f3901374e7",
   "metadata": {},
   "outputs": [],
   "source": [
    "# # Print K fold model number of samples and number of positive cases\n",
    "\n",
    "# k_folds = 5\n",
    "# kfold = KFold(n_splits=k_folds, shuffle=True, random_state=42)\n",
    "\n",
    "# for fold, (train_ids, valid_ids) in enumerate(kfold.split(dataset)):\n",
    "#     train_subset = dataset.index_select(train_ids.tolist())\n",
    "#     val_subset = dataset.index_select(valid_ids.tolist())\n",
    "    \n",
    "#     train_loader = DataLoader(train_subset, batch_size=32, shuffle=True)\n",
    "#     val_loader = DataLoader(val_subset, batch_size=32, shuffle=False)\n",
    "    \n",
    "#     train_positives = 0\n",
    "#     test_positives = 0\n",
    "#     for step, data in enumerate(train_loader):\n",
    "#         train_positives += np.sum(data.y.numpy())\n",
    "#     for step, data in enumerate(val_loader):\n",
    "#         test_positives += np.sum(data.y.numpy())\n",
    "        \n",
    "#     print(len(train_subset), train_positives, len(val_subset), test_positives)"
   ]
  },
  {
   "cell_type": "code",
   "execution_count": 13,
   "id": "e85ccfab-112f-4ac3-9f25-93fc7ebbbb98",
   "metadata": {},
   "outputs": [],
   "source": [
    "condition = '082423_Covid'\n",
    "checkpoint_folder = (Path().cwd().parents[0]).absolute() / 'data' / \"saved_models\" / f\"Graph_GNNs_moprh_{condition}\" \n",
    "project_name = f'SF_{condition}'"
   ]
  },
  {
   "cell_type": "code",
   "execution_count": 14,
   "id": "e6d0a76d-a649-497b-a848-0a43a7d860f5",
   "metadata": {},
   "outputs": [
    {
     "name": "stderr",
     "output_type": "stream",
     "text": [
      "INFO: Global seed set to 42\n",
      "INFO:lightning.fabric.utilities.seed:Global seed set to 42\n"
     ]
    }
   ],
   "source": [
    "AVAIL_GPUS = [0]\n",
    "\n",
    "# Setting the seed\n",
    "pl.seed_everything(42)\n",
    "\n",
    "NUM_LAYERS = 2\n",
    "HIDDEN_CHANNELS = 16\n",
    "# pools = ['mean', 'sum', 'max', 'attention', 'attention2']\n",
    "# models = ['GCN', 'GraphConv', 'GAT', 'GINConv', 'SAGEConv']\n",
    "pools = ['mean', 'max', 'attention', 'attention2']\n",
    "models = ['MLP']\n",
    "epochs = 100"
   ]
  },
  {
   "cell_type": "code",
   "execution_count": 15,
   "id": "724f9396-6b4b-442f-8bbb-a6350b02050e",
   "metadata": {},
   "outputs": [],
   "source": [
    "ys = [data.y.item() for data in dataset]"
   ]
  },
  {
   "cell_type": "code",
   "execution_count": 16,
   "id": "c3908184-60cd-4d11-9bd3-44897ded1790",
   "metadata": {
    "collapsed": true,
    "jupyter": {
     "outputs_hidden": true
    },
    "tags": []
   },
   "outputs": [
    {
     "name": "stderr",
     "output_type": "stream",
     "text": [
      "ERROR:wandb.jupyter:Failed to detect the name of this notebook, you can set it manually with the WANDB_NOTEBOOK_NAME environment variable to enable code saving.\n",
      "\u001b[34m\u001b[1mwandb\u001b[0m: Currently logged in as: \u001b[33mthoomas\u001b[0m. Use \u001b[1m`wandb login --relogin`\u001b[0m to force relogin\n"
     ]
    },
    {
     "data": {
      "application/vnd.jupyter.widget-view+json": {
       "model_id": "b723e2bc5ca04bfa81ecbaa849f0ced2",
       "version_major": 2,
       "version_minor": 0
      },
      "text/plain": [
       "VBox(children=(Label(value='Waiting for wandb.init()...\\r'), FloatProgress(value=0.016666666666666666, max=1.0…"
      ]
     },
     "metadata": {},
     "output_type": "display_data"
    },
    {
     "data": {
      "text/html": [
       "wandb version 0.15.8 is available!  To upgrade, please run:\n",
       " $ pip install wandb --upgrade"
      ],
      "text/plain": [
       "<IPython.core.display.HTML object>"
      ]
     },
     "metadata": {},
     "output_type": "display_data"
    },
    {
     "data": {
      "text/html": [
       "Tracking run with wandb version 0.14.0"
      ],
      "text/plain": [
       "<IPython.core.display.HTML object>"
      ]
     },
     "metadata": {},
     "output_type": "display_data"
    },
    {
     "data": {
      "text/html": [
       "Run data is saved locally in <code>Y:\\coskun-lab\\Thomas\\11_snowflakes\\notebooks\\wandb\\run-20230826_002148-3uu7a9b9</code>"
      ],
      "text/plain": [
       "<IPython.core.display.HTML object>"
      ]
     },
     "metadata": {},
     "output_type": "display_data"
    },
    {
     "data": {
      "text/html": [
       "Syncing run <strong><a href='https://wandb.ai/thoomas/SF_082423_Covid/runs/3uu7a9b9' target=\"_blank\">MLP_2_16_0_moprh</a></strong> to <a href='https://wandb.ai/thoomas/SF_082423_Covid' target=\"_blank\">Weights & Biases</a> (<a href='https://wandb.me/run' target=\"_blank\">docs</a>)<br/>"
      ],
      "text/plain": [
       "<IPython.core.display.HTML object>"
      ]
     },
     "metadata": {},
     "output_type": "display_data"
    },
    {
     "data": {
      "text/html": [
       " View project at <a href='https://wandb.ai/thoomas/SF_082423_Covid' target=\"_blank\">https://wandb.ai/thoomas/SF_082423_Covid</a>"
      ],
      "text/plain": [
       "<IPython.core.display.HTML object>"
      ]
     },
     "metadata": {},
     "output_type": "display_data"
    },
    {
     "data": {
      "text/html": [
       " View run at <a href='https://wandb.ai/thoomas/SF_082423_Covid/runs/3uu7a9b9' target=\"_blank\">https://wandb.ai/thoomas/SF_082423_Covid/runs/3uu7a9b9</a>"
      ],
      "text/plain": [
       "<IPython.core.display.HTML object>"
      ]
     },
     "metadata": {},
     "output_type": "display_data"
    },
    {
     "name": "stderr",
     "output_type": "stream",
     "text": [
      "INFO: Global seed set to 42\n",
      "INFO:lightning.fabric.utilities.seed:Global seed set to 42\n",
      "C:\\Users\\thu71\\Anaconda3\\envs\\snowflake\\lib\\site-packages\\pytorch_lightning\\loggers\\wandb.py:395: UserWarning: There is a wandb run already in progress and newly created instances of `WandbLogger` will reuse this run. If this is not desired, call `wandb.finish()` before instantiating `WandbLogger`.\n",
      "  rank_zero_warn(\n",
      "INFO: GPU available: True (cuda), used: True\n",
      "INFO:lightning.pytorch.utilities.rank_zero:GPU available: True (cuda), used: True\n",
      "INFO: TPU available: False, using: 0 TPU cores\n",
      "INFO:lightning.pytorch.utilities.rank_zero:TPU available: False, using: 0 TPU cores\n",
      "INFO: IPU available: False, using: 0 IPUs\n",
      "INFO:lightning.pytorch.utilities.rank_zero:IPU available: False, using: 0 IPUs\n",
      "INFO: HPU available: False, using: 0 HPUs\n",
      "INFO:lightning.pytorch.utilities.rank_zero:HPU available: False, using: 0 HPUs\n",
      "INFO: Global seed set to 42\n",
      "INFO:lightning.fabric.utilities.seed:Global seed set to 42\n"
     ]
    },
    {
     "name": "stdout",
     "output_type": "stream",
     "text": [
      "Training with Morphological features\n"
     ]
    },
    {
     "name": "stderr",
     "output_type": "stream",
     "text": [
      "INFO: LOCAL_RANK: 0 - CUDA_VISIBLE_DEVICES: [0,1]\n",
      "INFO:lightning.pytorch.accelerators.cuda:LOCAL_RANK: 0 - CUDA_VISIBLE_DEVICES: [0,1]\n",
      "INFO: \n",
      "   | Name           | Type             | Params\n",
      "-----------------------------------------------------\n",
      "0  | feat_embedding | Sequential       | 832   \n",
      "1  | model          | MLPModel         | 368   \n",
      "2  | head           | Sequential       | 562   \n",
      "3  | fnn_layer      | Linear           | 272   \n",
      "4  | selu           | SELU             | 0     \n",
      "5  | loss_module    | CrossEntropyLoss | 0     \n",
      "6  | train_acc      | BinaryAccuracy   | 0     \n",
      "7  | train_auroc    | BinaryAUROC      | 0     \n",
      "8  | train_f1       | BinaryF1Score    | 0     \n",
      "9  | valid_acc      | BinaryAccuracy   | 0     \n",
      "10 | valid_auroc    | BinaryAUROC      | 0     \n",
      "11 | valid_f1       | BinaryF1Score    | 0     \n",
      "-----------------------------------------------------\n",
      "2.0 K     Trainable params\n",
      "0         Non-trainable params\n",
      "2.0 K     Total params\n",
      "0.008     Total estimated model params size (MB)\n",
      "INFO:lightning.pytorch.callbacks.model_summary:\n",
      "   | Name           | Type             | Params\n",
      "-----------------------------------------------------\n",
      "0  | feat_embedding | Sequential       | 832   \n",
      "1  | model          | MLPModel         | 368   \n",
      "2  | head           | Sequential       | 562   \n",
      "3  | fnn_layer      | Linear           | 272   \n",
      "4  | selu           | SELU             | 0     \n",
      "5  | loss_module    | CrossEntropyLoss | 0     \n",
      "6  | train_acc      | BinaryAccuracy   | 0     \n",
      "7  | train_auroc    | BinaryAUROC      | 0     \n",
      "8  | train_f1       | BinaryF1Score    | 0     \n",
      "9  | valid_acc      | BinaryAccuracy   | 0     \n",
      "10 | valid_auroc    | BinaryAUROC      | 0     \n",
      "11 | valid_f1       | BinaryF1Score    | 0     \n",
      "-----------------------------------------------------\n",
      "2.0 K     Trainable params\n",
      "0         Non-trainable params\n",
      "2.0 K     Total params\n",
      "0.008     Total estimated model params size (MB)\n",
      "C:\\Users\\thu71\\AppData\\Roaming\\Python\\Python39\\site-packages\\lightning\\pytorch\\trainer\\connectors\\data_connector.py:478: PossibleUserWarning: Your `val_dataloader`'s sampler has shuffling enabled, it is strongly recommended that you turn shuffling off for val/test dataloaders.\n",
      "  rank_zero_warn(\n",
      "C:\\Users\\thu71\\AppData\\Roaming\\Python\\Python39\\site-packages\\lightning\\pytorch\\trainer\\connectors\\data_connector.py:430: PossibleUserWarning: The dataloader, val_dataloader, does not have many workers which may be a bottleneck. Consider increasing the value of the `num_workers` argument` (try 48 which is the number of cpus on this machine) in the `DataLoader` init to improve performance.\n",
      "  rank_zero_warn(\n",
      "C:\\Users\\thu71\\AppData\\Roaming\\Python\\Python39\\site-packages\\lightning\\pytorch\\utilities\\data.py:77: UserWarning: Trying to infer the `batch_size` from an ambiguous collection. The batch size we found is 2. To avoid any miscalculations, use `self.log(..., batch_size=batch_size)`.\n",
      "  warning_cache.warn(\n",
      "C:\\Users\\thu71\\AppData\\Roaming\\Python\\Python39\\site-packages\\lightning\\pytorch\\trainer\\connectors\\data_connector.py:430: PossibleUserWarning: The dataloader, train_dataloader, does not have many workers which may be a bottleneck. Consider increasing the value of the `num_workers` argument` (try 48 which is the number of cpus on this machine) in the `DataLoader` init to improve performance.\n",
      "  rank_zero_warn(\n",
      "C:\\Users\\thu71\\AppData\\Roaming\\Python\\Python39\\site-packages\\lightning\\pytorch\\loops\\fit_loop.py:280: PossibleUserWarning: The number of training batches (3) is smaller than the logging interval Trainer(log_every_n_steps=10). Set a lower value for log_every_n_steps if you want to see logs for the training epoch.\n",
      "  rank_zero_warn(\n",
      "C:\\Users\\thu71\\Anaconda3\\envs\\snowflake\\lib\\site-packages\\torchmetrics\\utilities\\prints.py:36: UserWarning: No negative samples in targets, false positive value should be meaningless. Returning zero tensor in false positive score\n",
      "  warnings.warn(*args, **kwargs)\n",
      "C:\\Users\\thu71\\Anaconda3\\envs\\snowflake\\lib\\site-packages\\torchmetrics\\utilities\\prints.py:36: UserWarning: No negative samples in targets, false positive value should be meaningless. Returning zero tensor in false positive score\n",
      "  warnings.warn(*args, **kwargs)\n",
      "C:\\Users\\thu71\\Anaconda3\\envs\\snowflake\\lib\\site-packages\\torchmetrics\\utilities\\prints.py:36: UserWarning: No negative samples in targets, false positive value should be meaningless. Returning zero tensor in false positive score\n",
      "  warnings.warn(*args, **kwargs)\n",
      "C:\\Users\\thu71\\Anaconda3\\envs\\snowflake\\lib\\site-packages\\torchmetrics\\utilities\\prints.py:36: UserWarning: No positive samples in targets, true positive value should be meaningless. Returning zero tensor in true positive score\n",
      "  warnings.warn(*args, **kwargs)\n",
      "C:\\Users\\thu71\\Anaconda3\\envs\\snowflake\\lib\\site-packages\\torchmetrics\\utilities\\prints.py:36: UserWarning: No positive samples in targets, true positive value should be meaningless. Returning zero tensor in true positive score\n",
      "  warnings.warn(*args, **kwargs)\n",
      "C:\\Users\\thu71\\Anaconda3\\envs\\snowflake\\lib\\site-packages\\torchmetrics\\utilities\\prints.py:36: UserWarning: No negative samples in targets, false positive value should be meaningless. Returning zero tensor in false positive score\n",
      "  warnings.warn(*args, **kwargs)\n",
      "C:\\Users\\thu71\\Anaconda3\\envs\\snowflake\\lib\\site-packages\\torchmetrics\\utilities\\prints.py:36: UserWarning: No negative samples in targets, false positive value should be meaningless. Returning zero tensor in false positive score\n",
      "  warnings.warn(*args, **kwargs)\n",
      "C:\\Users\\thu71\\Anaconda3\\envs\\snowflake\\lib\\site-packages\\torchmetrics\\utilities\\prints.py:36: UserWarning: No negative samples in targets, false positive value should be meaningless. Returning zero tensor in false positive score\n",
      "  warnings.warn(*args, **kwargs)\n",
      "C:\\Users\\thu71\\Anaconda3\\envs\\snowflake\\lib\\site-packages\\torchmetrics\\utilities\\prints.py:36: UserWarning: No positive samples in targets, true positive value should be meaningless. Returning zero tensor in true positive score\n",
      "  warnings.warn(*args, **kwargs)\n",
      "INFO: `Trainer.fit` stopped: `max_epochs=100` reached.\n",
      "INFO:lightning.pytorch.utilities.rank_zero:`Trainer.fit` stopped: `max_epochs=100` reached.\n"
     ]
    },
    {
     "data": {
      "text/html": [
       "Waiting for W&B process to finish... <strong style=\"color:green\">(success).</strong>"
      ],
      "text/plain": [
       "<IPython.core.display.HTML object>"
      ]
     },
     "metadata": {},
     "output_type": "display_data"
    },
    {
     "data": {
      "application/vnd.jupyter.widget-view+json": {
       "model_id": "858b5c18795a4e79b07e3428f770b66f",
       "version_major": 2,
       "version_minor": 0
      },
      "text/plain": [
       "VBox(children=(Label(value='0.001 MB of 0.001 MB uploaded (0.000 MB deduped)\\r'), FloatProgress(value=1.0, max…"
      ]
     },
     "metadata": {},
     "output_type": "display_data"
    },
    {
     "data": {
      "text/html": [
       "<style>\n",
       "    table.wandb td:nth-child(1) { padding: 0 10px; text-align: left ; width: auto;} td:nth-child(2) {text-align: left ; width: 100%}\n",
       "    .wandb-row { display: flex; flex-direction: row; flex-wrap: wrap; justify-content: flex-start; width: 100% }\n",
       "    .wandb-col { display: flex; flex-direction: column; flex-basis: 100%; flex: 1; padding: 10px; }\n",
       "    </style>\n",
       "<div class=\"wandb-row\"><div class=\"wandb-col\"><h3>Run history:</h3><br/><table class=\"wandb\"><tr><td>epoch</td><td>▁▁▁▁▂▂▂▂▂▃▃▃▃▃▃▄▄▄▄▄▅▅▅▅▅▆▆▆▆▆▆▇▇▇▇▇████</td></tr><tr><td>lr-Adam</td><td>▁▁▁▁▁▁▁▁▁▁▁▁▁▁▁▁▁▁▁▁▁▁▁▁▁▁▁▁▁▁▁▁▁▁▁▁▁▁▁▁</td></tr><tr><td>train_acc</td><td>▁▁▂▂▃▃▃▃▄▄▄▄▄▅▅▆▆▆▇▇▇▇█▇▇▇▇█▇▇▇▇█▇▇▇▇█▇▇</td></tr><tr><td>train_auc</td><td>▁▁▂▃▄▄▄▄▄▅▅▅▅▅▅▆▆▆▆▇▇█▇█▇████████▇█▇████</td></tr><tr><td>train_f1</td><td>▁▂▂▃▃▃▃▂▄▄▃▄▄▄▄▆▅▅▆▇▇▇▇▇▆▇▇█▇▇▇▇█▇▇▆▇█▇▇</td></tr><tr><td>train_loss_epoch</td><td>████▇▇▇▇▆▆▆▅▅▅▅▄▄▄▄▃▃▂▂▂▃▂▂▂▂▃▂▂▂▂▂▂▂▁▂▂</td></tr><tr><td>train_loss_step</td><td>▇▇█▇▆▄▆▆█▄▅▅▅▃▂▂▃▄▂▃▁▂▃▃▄▃▃▂▂▂</td></tr><tr><td>trainer/global_step</td><td>▁▁▁▂▁▂▂▂▃▃▃▃▃▃▄▄▄▄▅▃▄▄▅▅▆▄▄▄▆▇▇▅▅▅███▆▆▆</td></tr><tr><td>val_acc</td><td>▁▁▁▁▂▂▂▂▂▂▂▃▃▃▄▄▄▅▅▆▅▇▆▇▆▆█▇▇▇▇▇▇▆▇▆█▆▇▇</td></tr><tr><td>val_auc</td><td>▁▂▃▃▃▃▂▃▃▃▃▃▃▄▄▄▅▅▆▇▇███▇████████▇██████</td></tr><tr><td>val_f1</td><td>▃▃▃▃▂▂▁▁▃▃▁▃▂▂▃▅▄▅▅▆▅▆▆▇▅▆█▆▆▇▇▇▇▄▇▄█▅▇▆</td></tr><tr><td>val_loss_epoch</td><td>▅▅▅▅▅▄▆▇▄▆▅▄█▆▅▄▆▆▂▂▂▂▄▂▃▄▂▃▄▁▂▁▁▃▁▄▃▃▁▁</td></tr><tr><td>val_loss_step</td><td>▄▄▄▄▄▃▅▆▃▅▃▃█▆▅▄▇▆▁▁▂▂▄▂▃▄▃▃▄▁▃▁▁▂▁▄▄▃▁▁</td></tr></table><br/></div><div class=\"wandb-col\"><h3>Run summary:</h3><br/><table class=\"wandb\"><tr><td>epoch</td><td>99</td></tr><tr><td>lr-Adam</td><td>0.005</td></tr><tr><td>train_acc</td><td>0.83819</td></tr><tr><td>train_auc</td><td>0.90866</td></tr><tr><td>train_f1</td><td>0.85294</td></tr><tr><td>train_loss_epoch</td><td>0.46998</td></tr><tr><td>train_loss_step</td><td>0.46806</td></tr><tr><td>trainer/global_step</td><td>299</td></tr><tr><td>val_acc</td><td>0.82707</td></tr><tr><td>val_auc</td><td>0.92359</td></tr><tr><td>val_f1</td><td>0.83212</td></tr><tr><td>val_loss_epoch</td><td>0.40977</td></tr><tr><td>val_loss_step</td><td>0.33181</td></tr></table><br/></div></div>"
      ],
      "text/plain": [
       "<IPython.core.display.HTML object>"
      ]
     },
     "metadata": {},
     "output_type": "display_data"
    },
    {
     "data": {
      "text/html": [
       " View run <strong style=\"color:#cdcd00\">MLP_2_16_0_moprh</strong> at: <a href='https://wandb.ai/thoomas/SF_082423_Covid/runs/3uu7a9b9' target=\"_blank\">https://wandb.ai/thoomas/SF_082423_Covid/runs/3uu7a9b9</a><br/>Synced 5 W&B file(s), 0 media file(s), 0 artifact file(s) and 0 other file(s)"
      ],
      "text/plain": [
       "<IPython.core.display.HTML object>"
      ]
     },
     "metadata": {},
     "output_type": "display_data"
    },
    {
     "data": {
      "text/html": [
       "Find logs at: <code>.\\wandb\\run-20230826_002148-3uu7a9b9\\logs</code>"
      ],
      "text/plain": [
       "<IPython.core.display.HTML object>"
      ]
     },
     "metadata": {},
     "output_type": "display_data"
    },
    {
     "data": {
      "application/vnd.jupyter.widget-view+json": {
       "model_id": "5881db9b159f47629da5418fe1fa3ff2",
       "version_major": 2,
       "version_minor": 0
      },
      "text/plain": [
       "VBox(children=(Label(value='Waiting for wandb.init()...\\r'), FloatProgress(value=0.016666666666666666, max=1.0…"
      ]
     },
     "metadata": {},
     "output_type": "display_data"
    },
    {
     "data": {
      "text/html": [
       "wandb version 0.15.8 is available!  To upgrade, please run:\n",
       " $ pip install wandb --upgrade"
      ],
      "text/plain": [
       "<IPython.core.display.HTML object>"
      ]
     },
     "metadata": {},
     "output_type": "display_data"
    },
    {
     "data": {
      "text/html": [
       "Tracking run with wandb version 0.14.0"
      ],
      "text/plain": [
       "<IPython.core.display.HTML object>"
      ]
     },
     "metadata": {},
     "output_type": "display_data"
    },
    {
     "data": {
      "text/html": [
       "Run data is saved locally in <code>Y:\\coskun-lab\\Thomas\\11_snowflakes\\notebooks\\wandb\\run-20230826_004656-5trzopkz</code>"
      ],
      "text/plain": [
       "<IPython.core.display.HTML object>"
      ]
     },
     "metadata": {},
     "output_type": "display_data"
    },
    {
     "data": {
      "text/html": [
       "Syncing run <strong><a href='https://wandb.ai/thoomas/SF_082423_Covid/runs/5trzopkz' target=\"_blank\">MLP_2_16_0_moprh</a></strong> to <a href='https://wandb.ai/thoomas/SF_082423_Covid' target=\"_blank\">Weights & Biases</a> (<a href='https://wandb.me/run' target=\"_blank\">docs</a>)<br/>"
      ],
      "text/plain": [
       "<IPython.core.display.HTML object>"
      ]
     },
     "metadata": {},
     "output_type": "display_data"
    },
    {
     "data": {
      "text/html": [
       " View project at <a href='https://wandb.ai/thoomas/SF_082423_Covid' target=\"_blank\">https://wandb.ai/thoomas/SF_082423_Covid</a>"
      ],
      "text/plain": [
       "<IPython.core.display.HTML object>"
      ]
     },
     "metadata": {},
     "output_type": "display_data"
    },
    {
     "data": {
      "text/html": [
       " View run at <a href='https://wandb.ai/thoomas/SF_082423_Covid/runs/5trzopkz' target=\"_blank\">https://wandb.ai/thoomas/SF_082423_Covid/runs/5trzopkz</a>"
      ],
      "text/plain": [
       "<IPython.core.display.HTML object>"
      ]
     },
     "metadata": {},
     "output_type": "display_data"
    },
    {
     "name": "stderr",
     "output_type": "stream",
     "text": [
      "INFO: Global seed set to 42\n",
      "INFO:lightning.fabric.utilities.seed:Global seed set to 42\n",
      "C:\\Users\\thu71\\Anaconda3\\envs\\snowflake\\lib\\site-packages\\pytorch_lightning\\loggers\\wandb.py:395: UserWarning: There is a wandb run already in progress and newly created instances of `WandbLogger` will reuse this run. If this is not desired, call `wandb.finish()` before instantiating `WandbLogger`.\n",
      "  rank_zero_warn(\n",
      "INFO: GPU available: True (cuda), used: True\n",
      "INFO:lightning.pytorch.utilities.rank_zero:GPU available: True (cuda), used: True\n",
      "INFO: TPU available: False, using: 0 TPU cores\n",
      "INFO:lightning.pytorch.utilities.rank_zero:TPU available: False, using: 0 TPU cores\n",
      "INFO: IPU available: False, using: 0 IPUs\n",
      "INFO:lightning.pytorch.utilities.rank_zero:IPU available: False, using: 0 IPUs\n",
      "INFO: HPU available: False, using: 0 HPUs\n",
      "INFO:lightning.pytorch.utilities.rank_zero:HPU available: False, using: 0 HPUs\n",
      "INFO: Global seed set to 42\n",
      "INFO:lightning.fabric.utilities.seed:Global seed set to 42\n",
      "INFO: LOCAL_RANK: 0 - CUDA_VISIBLE_DEVICES: [0,1]\n",
      "INFO:lightning.pytorch.accelerators.cuda:LOCAL_RANK: 0 - CUDA_VISIBLE_DEVICES: [0,1]\n",
      "INFO: \n",
      "   | Name           | Type             | Params\n",
      "-----------------------------------------------------\n",
      "0  | feat_embedding | Sequential       | 832   \n",
      "1  | model          | MLPModel         | 368   \n",
      "2  | head           | Sequential       | 562   \n",
      "3  | fnn_layer      | Linear           | 272   \n",
      "4  | selu           | SELU             | 0     \n",
      "5  | loss_module    | CrossEntropyLoss | 0     \n",
      "6  | train_acc      | BinaryAccuracy   | 0     \n",
      "7  | train_auroc    | BinaryAUROC      | 0     \n",
      "8  | train_f1       | BinaryF1Score    | 0     \n",
      "9  | valid_acc      | BinaryAccuracy   | 0     \n",
      "10 | valid_auroc    | BinaryAUROC      | 0     \n",
      "11 | valid_f1       | BinaryF1Score    | 0     \n",
      "-----------------------------------------------------\n",
      "2.0 K     Trainable params\n",
      "0         Non-trainable params\n",
      "2.0 K     Total params\n",
      "0.008     Total estimated model params size (MB)\n",
      "INFO:lightning.pytorch.callbacks.model_summary:\n",
      "   | Name           | Type             | Params\n",
      "-----------------------------------------------------\n",
      "0  | feat_embedding | Sequential       | 832   \n",
      "1  | model          | MLPModel         | 368   \n",
      "2  | head           | Sequential       | 562   \n",
      "3  | fnn_layer      | Linear           | 272   \n",
      "4  | selu           | SELU             | 0     \n",
      "5  | loss_module    | CrossEntropyLoss | 0     \n",
      "6  | train_acc      | BinaryAccuracy   | 0     \n",
      "7  | train_auroc    | BinaryAUROC      | 0     \n",
      "8  | train_f1       | BinaryF1Score    | 0     \n",
      "9  | valid_acc      | BinaryAccuracy   | 0     \n",
      "10 | valid_auroc    | BinaryAUROC      | 0     \n",
      "11 | valid_f1       | BinaryF1Score    | 0     \n",
      "-----------------------------------------------------\n",
      "2.0 K     Trainable params\n",
      "0         Non-trainable params\n",
      "2.0 K     Total params\n",
      "0.008     Total estimated model params size (MB)\n"
     ]
    },
    {
     "name": "stdout",
     "output_type": "stream",
     "text": [
      "Training with Morphological features\n"
     ]
    },
    {
     "name": "stderr",
     "output_type": "stream",
     "text": [
      "C:\\Users\\thu71\\AppData\\Roaming\\Python\\Python39\\site-packages\\lightning\\pytorch\\trainer\\connectors\\data_connector.py:478: PossibleUserWarning: Your `val_dataloader`'s sampler has shuffling enabled, it is strongly recommended that you turn shuffling off for val/test dataloaders.\n",
      "  rank_zero_warn(\n",
      "C:\\Users\\thu71\\AppData\\Roaming\\Python\\Python39\\site-packages\\lightning\\pytorch\\trainer\\connectors\\data_connector.py:430: PossibleUserWarning: The dataloader, val_dataloader, does not have many workers which may be a bottleneck. Consider increasing the value of the `num_workers` argument` (try 48 which is the number of cpus on this machine) in the `DataLoader` init to improve performance.\n",
      "  rank_zero_warn(\n",
      "C:\\Users\\thu71\\AppData\\Roaming\\Python\\Python39\\site-packages\\lightning\\pytorch\\trainer\\connectors\\data_connector.py:430: PossibleUserWarning: The dataloader, train_dataloader, does not have many workers which may be a bottleneck. Consider increasing the value of the `num_workers` argument` (try 48 which is the number of cpus on this machine) in the `DataLoader` init to improve performance.\n",
      "  rank_zero_warn(\n",
      "C:\\Users\\thu71\\AppData\\Roaming\\Python\\Python39\\site-packages\\lightning\\pytorch\\loops\\fit_loop.py:280: PossibleUserWarning: The number of training batches (3) is smaller than the logging interval Trainer(log_every_n_steps=10). Set a lower value for log_every_n_steps if you want to see logs for the training epoch.\n",
      "  rank_zero_warn(\n",
      "C:\\Users\\thu71\\Anaconda3\\envs\\snowflake\\lib\\site-packages\\torchmetrics\\utilities\\prints.py:36: UserWarning: No negative samples in targets, false positive value should be meaningless. Returning zero tensor in false positive score\n",
      "  warnings.warn(*args, **kwargs)\n",
      "C:\\Users\\thu71\\Anaconda3\\envs\\snowflake\\lib\\site-packages\\torchmetrics\\utilities\\prints.py:36: UserWarning: No negative samples in targets, false positive value should be meaningless. Returning zero tensor in false positive score\n",
      "  warnings.warn(*args, **kwargs)\n",
      "C:\\Users\\thu71\\Anaconda3\\envs\\snowflake\\lib\\site-packages\\torchmetrics\\utilities\\prints.py:36: UserWarning: No negative samples in targets, false positive value should be meaningless. Returning zero tensor in false positive score\n",
      "  warnings.warn(*args, **kwargs)\n",
      "C:\\Users\\thu71\\Anaconda3\\envs\\snowflake\\lib\\site-packages\\torchmetrics\\utilities\\prints.py:36: UserWarning: No positive samples in targets, true positive value should be meaningless. Returning zero tensor in true positive score\n",
      "  warnings.warn(*args, **kwargs)\n",
      "C:\\Users\\thu71\\Anaconda3\\envs\\snowflake\\lib\\site-packages\\torchmetrics\\utilities\\prints.py:36: UserWarning: No positive samples in targets, true positive value should be meaningless. Returning zero tensor in true positive score\n",
      "  warnings.warn(*args, **kwargs)\n",
      "C:\\Users\\thu71\\Anaconda3\\envs\\snowflake\\lib\\site-packages\\torchmetrics\\utilities\\prints.py:36: UserWarning: No negative samples in targets, false positive value should be meaningless. Returning zero tensor in false positive score\n",
      "  warnings.warn(*args, **kwargs)\n",
      "C:\\Users\\thu71\\Anaconda3\\envs\\snowflake\\lib\\site-packages\\torchmetrics\\utilities\\prints.py:36: UserWarning: No negative samples in targets, false positive value should be meaningless. Returning zero tensor in false positive score\n",
      "  warnings.warn(*args, **kwargs)\n",
      "C:\\Users\\thu71\\Anaconda3\\envs\\snowflake\\lib\\site-packages\\torchmetrics\\utilities\\prints.py:36: UserWarning: No negative samples in targets, false positive value should be meaningless. Returning zero tensor in false positive score\n",
      "  warnings.warn(*args, **kwargs)\n",
      "C:\\Users\\thu71\\Anaconda3\\envs\\snowflake\\lib\\site-packages\\torchmetrics\\utilities\\prints.py:36: UserWarning: No positive samples in targets, true positive value should be meaningless. Returning zero tensor in true positive score\n",
      "  warnings.warn(*args, **kwargs)\n",
      "INFO: `Trainer.fit` stopped: `max_epochs=100` reached.\n",
      "INFO:lightning.pytorch.utilities.rank_zero:`Trainer.fit` stopped: `max_epochs=100` reached.\n"
     ]
    },
    {
     "data": {
      "text/html": [
       "Waiting for W&B process to finish... <strong style=\"color:green\">(success).</strong>"
      ],
      "text/plain": [
       "<IPython.core.display.HTML object>"
      ]
     },
     "metadata": {},
     "output_type": "display_data"
    },
    {
     "data": {
      "application/vnd.jupyter.widget-view+json": {
       "model_id": "4c210c170d604e6bafaeeb5d3337e005",
       "version_major": 2,
       "version_minor": 0
      },
      "text/plain": [
       "VBox(children=(Label(value='0.001 MB of 0.001 MB uploaded (0.000 MB deduped)\\r'), FloatProgress(value=1.0, max…"
      ]
     },
     "metadata": {},
     "output_type": "display_data"
    },
    {
     "data": {
      "text/html": [
       "<style>\n",
       "    table.wandb td:nth-child(1) { padding: 0 10px; text-align: left ; width: auto;} td:nth-child(2) {text-align: left ; width: 100%}\n",
       "    .wandb-row { display: flex; flex-direction: row; flex-wrap: wrap; justify-content: flex-start; width: 100% }\n",
       "    .wandb-col { display: flex; flex-direction: column; flex-basis: 100%; flex: 1; padding: 10px; }\n",
       "    </style>\n",
       "<div class=\"wandb-row\"><div class=\"wandb-col\"><h3>Run history:</h3><br/><table class=\"wandb\"><tr><td>epoch</td><td>▁▁▁▁▂▂▂▂▂▃▃▃▃▃▃▄▄▄▄▄▅▅▅▅▅▆▆▆▆▆▆▇▇▇▇▇████</td></tr><tr><td>lr-Adam</td><td>▁▁▁▁▁▁▁▁▁▁▁▁▁▁▁▁▁▁▁▁▁▁▁▁▁▁▁▁▁▁▁▁▁▁▁▁▁▁▁▁</td></tr><tr><td>train_acc</td><td>▁▂▂▂▃▂▄▄▃▄▄▅▃▅▅▆▇▆▆▆▇▅▆▆▇▆▇█▇▆▇▆▇███▇█▅▇</td></tr><tr><td>train_auc</td><td>▁▁▁▃▃▂▂▄▄▄▄▆▄▅▅▆▆▅▆▆▆▆▆▆▆▇▇▇▇▆▇▇▇██▇▇█▇█</td></tr><tr><td>train_f1</td><td>▁▃▃▄▄▃▄▅▃▄▃▅▃▅▅▆▆▅▆▅▆▄▆▅▇▆▇█▆▅▇▆▇█▇▇▇█▄█</td></tr><tr><td>train_loss_epoch</td><td>███▇▇▇▇▆▇▇▆▅▆▅▅▄▄▅▅▄▅▄▅▄▄▃▃▃▄▄▃▃▃▂▁▂▄▂▄▂</td></tr><tr><td>train_loss_step</td><td>▆▆▇▇▅▅▅▅█▄▆▄▄▃▂▅▃▃▃▂▂▃▃▅▃▁▇▂▄▂</td></tr><tr><td>trainer/global_step</td><td>▁▁▁▂▁▂▂▂▃▃▃▃▃▃▄▄▄▄▅▃▄▄▅▅▆▄▄▄▆▇▇▅▅▅███▆▆▆</td></tr><tr><td>val_acc</td><td>▁▁▁▁▁▁▁▁▄▃▄▃▅▅▅▅▆▄▆▄▅▅▅▄▇▆▄▅▇▆▅▆▆▇█▆▇█▆▇</td></tr><tr><td>val_auc</td><td>▁▂▃▄▆▆▆▆▆▆▆▆▆▆▆▆▆▆▆▆▆▇▇▇▇▇▆▇▇██▇▇▇▇██▇██</td></tr><tr><td>val_f1</td><td>▁▁▁▁▁▁▁▁▄▄▃▂▄▁▁▂▄▃▄▂▃▄▃▂▆▅▁▄▇▇▅▄▆▇█▆▆▆▃▆</td></tr><tr><td>val_loss_epoch</td><td>█▆▇▇█▇██▇▆▆▅█▇▆▇██▆▂▃█▆▆▅▆▃█▅▃▄▂▆▂▁▁▄▂▃▅</td></tr><tr><td>val_loss_step</td><td>▆▅▆▆▆▅▇▆▅▅▅▄▇▆▅▆▇▇▅▂▂▇▆▆▄▆▂█▅▃▄▁▆▁▁▁▄▂▃▅</td></tr></table><br/></div><div class=\"wandb-col\"><h3>Run summary:</h3><br/><table class=\"wandb\"><tr><td>epoch</td><td>99</td></tr><tr><td>lr-Adam</td><td>0.005</td></tr><tr><td>train_acc</td><td>0.72168</td></tr><tr><td>train_auc</td><td>0.77842</td></tr><tr><td>train_f1</td><td>0.79024</td></tr><tr><td>train_loss_epoch</td><td>0.5758</td></tr><tr><td>train_loss_step</td><td>0.56089</td></tr><tr><td>trainer/global_step</td><td>299</td></tr><tr><td>val_acc</td><td>0.7218</td></tr><tr><td>val_auc</td><td>0.81025</td></tr><tr><td>val_f1</td><td>0.77019</td></tr><tr><td>val_loss_epoch</td><td>0.62089</td></tr><tr><td>val_loss_step</td><td>0.66368</td></tr></table><br/></div></div>"
      ],
      "text/plain": [
       "<IPython.core.display.HTML object>"
      ]
     },
     "metadata": {},
     "output_type": "display_data"
    },
    {
     "data": {
      "text/html": [
       " View run <strong style=\"color:#cdcd00\">MLP_2_16_0_moprh</strong> at: <a href='https://wandb.ai/thoomas/SF_082423_Covid/runs/5trzopkz' target=\"_blank\">https://wandb.ai/thoomas/SF_082423_Covid/runs/5trzopkz</a><br/>Synced 5 W&B file(s), 0 media file(s), 0 artifact file(s) and 0 other file(s)"
      ],
      "text/plain": [
       "<IPython.core.display.HTML object>"
      ]
     },
     "metadata": {},
     "output_type": "display_data"
    },
    {
     "data": {
      "text/html": [
       "Find logs at: <code>.\\wandb\\run-20230826_004656-5trzopkz\\logs</code>"
      ],
      "text/plain": [
       "<IPython.core.display.HTML object>"
      ]
     },
     "metadata": {},
     "output_type": "display_data"
    },
    {
     "data": {
      "application/vnd.jupyter.widget-view+json": {
       "model_id": "1930cce78e9e4bb59b2d7f3fd940b619",
       "version_major": 2,
       "version_minor": 0
      },
      "text/plain": [
       "VBox(children=(Label(value='Waiting for wandb.init()...\\r'), FloatProgress(value=0.016916666666899498, max=1.0…"
      ]
     },
     "metadata": {},
     "output_type": "display_data"
    },
    {
     "data": {
      "text/html": [
       "wandb version 0.15.8 is available!  To upgrade, please run:\n",
       " $ pip install wandb --upgrade"
      ],
      "text/plain": [
       "<IPython.core.display.HTML object>"
      ]
     },
     "metadata": {},
     "output_type": "display_data"
    },
    {
     "data": {
      "text/html": [
       "Tracking run with wandb version 0.14.0"
      ],
      "text/plain": [
       "<IPython.core.display.HTML object>"
      ]
     },
     "metadata": {},
     "output_type": "display_data"
    },
    {
     "data": {
      "text/html": [
       "Run data is saved locally in <code>Y:\\coskun-lab\\Thomas\\11_snowflakes\\notebooks\\wandb\\run-20230826_011218-salzvb8q</code>"
      ],
      "text/plain": [
       "<IPython.core.display.HTML object>"
      ]
     },
     "metadata": {},
     "output_type": "display_data"
    },
    {
     "data": {
      "text/html": [
       "Syncing run <strong><a href='https://wandb.ai/thoomas/SF_082423_Covid/runs/salzvb8q' target=\"_blank\">MLP_2_16_0_moprh</a></strong> to <a href='https://wandb.ai/thoomas/SF_082423_Covid' target=\"_blank\">Weights & Biases</a> (<a href='https://wandb.me/run' target=\"_blank\">docs</a>)<br/>"
      ],
      "text/plain": [
       "<IPython.core.display.HTML object>"
      ]
     },
     "metadata": {},
     "output_type": "display_data"
    },
    {
     "data": {
      "text/html": [
       " View project at <a href='https://wandb.ai/thoomas/SF_082423_Covid' target=\"_blank\">https://wandb.ai/thoomas/SF_082423_Covid</a>"
      ],
      "text/plain": [
       "<IPython.core.display.HTML object>"
      ]
     },
     "metadata": {},
     "output_type": "display_data"
    },
    {
     "data": {
      "text/html": [
       " View run at <a href='https://wandb.ai/thoomas/SF_082423_Covid/runs/salzvb8q' target=\"_blank\">https://wandb.ai/thoomas/SF_082423_Covid/runs/salzvb8q</a>"
      ],
      "text/plain": [
       "<IPython.core.display.HTML object>"
      ]
     },
     "metadata": {},
     "output_type": "display_data"
    },
    {
     "name": "stderr",
     "output_type": "stream",
     "text": [
      "INFO: Global seed set to 42\n",
      "INFO:lightning.fabric.utilities.seed:Global seed set to 42\n",
      "C:\\Users\\thu71\\Anaconda3\\envs\\snowflake\\lib\\site-packages\\pytorch_lightning\\loggers\\wandb.py:395: UserWarning: There is a wandb run already in progress and newly created instances of `WandbLogger` will reuse this run. If this is not desired, call `wandb.finish()` before instantiating `WandbLogger`.\n",
      "  rank_zero_warn(\n",
      "INFO: GPU available: True (cuda), used: True\n",
      "INFO:lightning.pytorch.utilities.rank_zero:GPU available: True (cuda), used: True\n",
      "INFO: TPU available: False, using: 0 TPU cores\n",
      "INFO:lightning.pytorch.utilities.rank_zero:TPU available: False, using: 0 TPU cores\n",
      "INFO: IPU available: False, using: 0 IPUs\n",
      "INFO:lightning.pytorch.utilities.rank_zero:IPU available: False, using: 0 IPUs\n",
      "INFO: HPU available: False, using: 0 HPUs\n",
      "INFO:lightning.pytorch.utilities.rank_zero:HPU available: False, using: 0 HPUs\n",
      "INFO: Global seed set to 42\n",
      "INFO:lightning.fabric.utilities.seed:Global seed set to 42\n",
      "C:\\Users\\thu71\\Anaconda3\\envs\\snowflake\\lib\\site-packages\\torch_geometric\\deprecation.py:12: UserWarning: 'nn.glob.GlobalAttention' is deprecated, use 'nn.aggr.AttentionalAggregation' instead\n",
      "  warnings.warn(out)\n",
      "INFO: LOCAL_RANK: 0 - CUDA_VISIBLE_DEVICES: [0,1]\n",
      "INFO:lightning.pytorch.accelerators.cuda:LOCAL_RANK: 0 - CUDA_VISIBLE_DEVICES: [0,1]\n",
      "INFO: \n",
      "   | Name           | Type             | Params\n",
      "-----------------------------------------------------\n",
      "0  | feat_embedding | Sequential       | 832   \n",
      "1  | model          | MLPModel         | 368   \n",
      "2  | head           | Sequential       | 562   \n",
      "3  | fnn_layer      | Linear           | 272   \n",
      "4  | selu           | SELU             | 0     \n",
      "5  | loss_module    | CrossEntropyLoss | 0     \n",
      "6  | train_acc      | BinaryAccuracy   | 0     \n",
      "7  | train_auroc    | BinaryAUROC      | 0     \n",
      "8  | train_f1       | BinaryF1Score    | 0     \n",
      "9  | valid_acc      | BinaryAccuracy   | 0     \n",
      "10 | valid_auroc    | BinaryAUROC      | 0     \n",
      "11 | valid_f1       | BinaryF1Score    | 0     \n",
      "12 | pool           | GlobalAttention  | 17    \n",
      "-----------------------------------------------------\n",
      "2.1 K     Trainable params\n",
      "0         Non-trainable params\n",
      "2.1 K     Total params\n",
      "0.008     Total estimated model params size (MB)\n",
      "INFO:lightning.pytorch.callbacks.model_summary:\n",
      "   | Name           | Type             | Params\n",
      "-----------------------------------------------------\n",
      "0  | feat_embedding | Sequential       | 832   \n",
      "1  | model          | MLPModel         | 368   \n",
      "2  | head           | Sequential       | 562   \n",
      "3  | fnn_layer      | Linear           | 272   \n",
      "4  | selu           | SELU             | 0     \n",
      "5  | loss_module    | CrossEntropyLoss | 0     \n",
      "6  | train_acc      | BinaryAccuracy   | 0     \n",
      "7  | train_auroc    | BinaryAUROC      | 0     \n",
      "8  | train_f1       | BinaryF1Score    | 0     \n",
      "9  | valid_acc      | BinaryAccuracy   | 0     \n",
      "10 | valid_auroc    | BinaryAUROC      | 0     \n",
      "11 | valid_f1       | BinaryF1Score    | 0     \n",
      "12 | pool           | GlobalAttention  | 17    \n",
      "-----------------------------------------------------\n",
      "2.1 K     Trainable params\n",
      "0         Non-trainable params\n",
      "2.1 K     Total params\n",
      "0.008     Total estimated model params size (MB)\n",
      "C:\\Users\\thu71\\AppData\\Roaming\\Python\\Python39\\site-packages\\lightning\\pytorch\\trainer\\connectors\\data_connector.py:478: PossibleUserWarning: Your `val_dataloader`'s sampler has shuffling enabled, it is strongly recommended that you turn shuffling off for val/test dataloaders.\n",
      "  rank_zero_warn(\n",
      "C:\\Users\\thu71\\AppData\\Roaming\\Python\\Python39\\site-packages\\lightning\\pytorch\\trainer\\connectors\\data_connector.py:430: PossibleUserWarning: The dataloader, val_dataloader, does not have many workers which may be a bottleneck. Consider increasing the value of the `num_workers` argument` (try 48 which is the number of cpus on this machine) in the `DataLoader` init to improve performance.\n",
      "  rank_zero_warn(\n"
     ]
    },
    {
     "name": "stdout",
     "output_type": "stream",
     "text": [
      "Training with Morphological features\n"
     ]
    },
    {
     "name": "stderr",
     "output_type": "stream",
     "text": [
      "C:\\Users\\thu71\\AppData\\Roaming\\Python\\Python39\\site-packages\\lightning\\pytorch\\trainer\\connectors\\data_connector.py:430: PossibleUserWarning: The dataloader, train_dataloader, does not have many workers which may be a bottleneck. Consider increasing the value of the `num_workers` argument` (try 48 which is the number of cpus on this machine) in the `DataLoader` init to improve performance.\n",
      "  rank_zero_warn(\n",
      "C:\\Users\\thu71\\AppData\\Roaming\\Python\\Python39\\site-packages\\lightning\\pytorch\\loops\\fit_loop.py:280: PossibleUserWarning: The number of training batches (3) is smaller than the logging interval Trainer(log_every_n_steps=10). Set a lower value for log_every_n_steps if you want to see logs for the training epoch.\n",
      "  rank_zero_warn(\n",
      "C:\\Users\\thu71\\Anaconda3\\envs\\snowflake\\lib\\site-packages\\torchmetrics\\utilities\\prints.py:36: UserWarning: No negative samples in targets, false positive value should be meaningless. Returning zero tensor in false positive score\n",
      "  warnings.warn(*args, **kwargs)\n",
      "C:\\Users\\thu71\\Anaconda3\\envs\\snowflake\\lib\\site-packages\\torchmetrics\\utilities\\prints.py:36: UserWarning: No positive samples in targets, true positive value should be meaningless. Returning zero tensor in true positive score\n",
      "  warnings.warn(*args, **kwargs)\n",
      "C:\\Users\\thu71\\Anaconda3\\envs\\snowflake\\lib\\site-packages\\torchmetrics\\utilities\\prints.py:36: UserWarning: No negative samples in targets, false positive value should be meaningless. Returning zero tensor in false positive score\n",
      "  warnings.warn(*args, **kwargs)\n",
      "C:\\Users\\thu71\\Anaconda3\\envs\\snowflake\\lib\\site-packages\\torchmetrics\\utilities\\prints.py:36: UserWarning: No positive samples in targets, true positive value should be meaningless. Returning zero tensor in true positive score\n",
      "  warnings.warn(*args, **kwargs)\n",
      "C:\\Users\\thu71\\Anaconda3\\envs\\snowflake\\lib\\site-packages\\torchmetrics\\utilities\\prints.py:36: UserWarning: No positive samples in targets, true positive value should be meaningless. Returning zero tensor in true positive score\n",
      "  warnings.warn(*args, **kwargs)\n",
      "C:\\Users\\thu71\\Anaconda3\\envs\\snowflake\\lib\\site-packages\\torchmetrics\\utilities\\prints.py:36: UserWarning: No negative samples in targets, false positive value should be meaningless. Returning zero tensor in false positive score\n",
      "  warnings.warn(*args, **kwargs)\n",
      "C:\\Users\\thu71\\Anaconda3\\envs\\snowflake\\lib\\site-packages\\torchmetrics\\utilities\\prints.py:36: UserWarning: No negative samples in targets, false positive value should be meaningless. Returning zero tensor in false positive score\n",
      "  warnings.warn(*args, **kwargs)\n",
      "INFO: `Trainer.fit` stopped: `max_epochs=100` reached.\n",
      "INFO:lightning.pytorch.utilities.rank_zero:`Trainer.fit` stopped: `max_epochs=100` reached.\n"
     ]
    },
    {
     "data": {
      "text/html": [
       "Waiting for W&B process to finish... <strong style=\"color:green\">(success).</strong>"
      ],
      "text/plain": [
       "<IPython.core.display.HTML object>"
      ]
     },
     "metadata": {},
     "output_type": "display_data"
    },
    {
     "data": {
      "application/vnd.jupyter.widget-view+json": {
       "model_id": "b195b450922c4972b20241a73f8eb2b3",
       "version_major": 2,
       "version_minor": 0
      },
      "text/plain": [
       "VBox(children=(Label(value='0.001 MB of 0.001 MB uploaded (0.000 MB deduped)\\r'), FloatProgress(value=1.0, max…"
      ]
     },
     "metadata": {},
     "output_type": "display_data"
    },
    {
     "data": {
      "text/html": [
       "<style>\n",
       "    table.wandb td:nth-child(1) { padding: 0 10px; text-align: left ; width: auto;} td:nth-child(2) {text-align: left ; width: 100%}\n",
       "    .wandb-row { display: flex; flex-direction: row; flex-wrap: wrap; justify-content: flex-start; width: 100% }\n",
       "    .wandb-col { display: flex; flex-direction: column; flex-basis: 100%; flex: 1; padding: 10px; }\n",
       "    </style>\n",
       "<div class=\"wandb-row\"><div class=\"wandb-col\"><h3>Run history:</h3><br/><table class=\"wandb\"><tr><td>epoch</td><td>▁▁▁▁▂▂▂▂▂▃▃▃▃▃▃▄▄▄▄▄▅▅▅▅▅▆▆▆▆▆▆▇▇▇▇▇████</td></tr><tr><td>lr-Adam</td><td>▁▁▁▁▁▁▁▁▁▁▁▁▁▁▁▁▁▁▁▁▁▁▁▁▁▁▁▁▁▁▁▁▁▁▁▁▁▁▁▁</td></tr><tr><td>train_acc</td><td>▁▂▂▂▃▃▄▄▄▅▄▅▄▅▅▅▅▆▆▅▆▆▆▆▆▇█▇█▇▇▇▇████▆▇▇</td></tr><tr><td>train_auc</td><td>▁▂▃▄▄▅▄▅▅▅▅▅▅▅▆▅▆▆▆▆▇▇█▇▇▇▇████▇███████▇</td></tr><tr><td>train_f1</td><td>▁▂▂▂▂▄▂▄▃▅▃▄▄▃▄▅▅▅▆▄▆▆▆▆▆▇█▇█▇▇▇▆▇█▇█▄▇▇</td></tr><tr><td>train_loss_epoch</td><td>███▇▇▆▆▅▅▅▅▄▆▅▄▄▄▄▃▄▃▃▂▂▃▂▁▁▁▁▁▁▂▁▁▁▁▃▂▂</td></tr><tr><td>train_loss_step</td><td>██▆▇▄▇▅▆▅▅▄▅▄▃▃▃▁▃▂▁▃▁▂▃▁▁▅▃▂▂</td></tr><tr><td>trainer/global_step</td><td>▁▁▁▂▁▂▂▂▃▃▃▃▃▃▄▄▄▄▅▃▄▄▅▅▆▄▄▄▆▇▇▅▅▅███▆▆▆</td></tr><tr><td>val_acc</td><td>▁▁▁▃▄▂▂▂▂▂▂▃▂▂▂▃▃▄▄▆▅▇▇█▇▆▇▆▇▅▇▆▇▅▅█▄▅▅▇</td></tr><tr><td>val_auc</td><td>▁▃▄▄▄▄▅▅▅▅▅▅▅▅▅▅▅▆▆▆▆▆▆▇▇▇▇▇▇▇██████▇█▇█</td></tr><tr><td>val_f1</td><td>▅▅▄▅▅▅▅▅▅▅▅▅▅▅▅▅▅▆▆▆▆▇▇█▆▆▇▆▆▄▆▅▆▃▃▇▁▄▃▇</td></tr><tr><td>val_loss_epoch</td><td>▆▆▆▅▆▄▅▃▇▃▆▄█▆▄█▅▅▆▃▆▁▁▄▃▄▁▆▃▂▅▄▅▅▄▃▆▃▂▄</td></tr><tr><td>val_loss_step</td><td>▅▆▆▅▆▃▅▂▆▁▆▃█▅▃█▄▄▆▃▇▁▁▅▃▅▁▇▃▂▆▅▆▅▄▃▅▃▁▅</td></tr></table><br/></div><div class=\"wandb-col\"><h3>Run summary:</h3><br/><table class=\"wandb\"><tr><td>epoch</td><td>99</td></tr><tr><td>lr-Adam</td><td>0.005</td></tr><tr><td>train_acc</td><td>0.82201</td></tr><tr><td>train_auc</td><td>0.87941</td></tr><tr><td>train_f1</td><td>0.84932</td></tr><tr><td>train_loss_epoch</td><td>0.48875</td></tr><tr><td>train_loss_step</td><td>0.48678</td></tr><tr><td>trainer/global_step</td><td>299</td></tr><tr><td>val_acc</td><td>0.7594</td></tr><tr><td>val_auc</td><td>0.82572</td></tr><tr><td>val_f1</td><td>0.78667</td></tr><tr><td>val_loss_epoch</td><td>0.60799</td></tr><tr><td>val_loss_step</td><td>0.67491</td></tr></table><br/></div></div>"
      ],
      "text/plain": [
       "<IPython.core.display.HTML object>"
      ]
     },
     "metadata": {},
     "output_type": "display_data"
    },
    {
     "data": {
      "text/html": [
       " View run <strong style=\"color:#cdcd00\">MLP_2_16_0_moprh</strong> at: <a href='https://wandb.ai/thoomas/SF_082423_Covid/runs/salzvb8q' target=\"_blank\">https://wandb.ai/thoomas/SF_082423_Covid/runs/salzvb8q</a><br/>Synced 5 W&B file(s), 0 media file(s), 0 artifact file(s) and 0 other file(s)"
      ],
      "text/plain": [
       "<IPython.core.display.HTML object>"
      ]
     },
     "metadata": {},
     "output_type": "display_data"
    },
    {
     "data": {
      "text/html": [
       "Find logs at: <code>.\\wandb\\run-20230826_011218-salzvb8q\\logs</code>"
      ],
      "text/plain": [
       "<IPython.core.display.HTML object>"
      ]
     },
     "metadata": {},
     "output_type": "display_data"
    },
    {
     "data": {
      "application/vnd.jupyter.widget-view+json": {
       "model_id": "a62999f9184d4f968a3648af59fc1ce5",
       "version_major": 2,
       "version_minor": 0
      },
      "text/plain": [
       "VBox(children=(Label(value='Waiting for wandb.init()...\\r'), FloatProgress(value=0.016666666666666666, max=1.0…"
      ]
     },
     "metadata": {},
     "output_type": "display_data"
    },
    {
     "data": {
      "text/html": [
       "wandb version 0.15.8 is available!  To upgrade, please run:\n",
       " $ pip install wandb --upgrade"
      ],
      "text/plain": [
       "<IPython.core.display.HTML object>"
      ]
     },
     "metadata": {},
     "output_type": "display_data"
    },
    {
     "data": {
      "text/html": [
       "Tracking run with wandb version 0.14.0"
      ],
      "text/plain": [
       "<IPython.core.display.HTML object>"
      ]
     },
     "metadata": {},
     "output_type": "display_data"
    },
    {
     "data": {
      "text/html": [
       "Run data is saved locally in <code>Y:\\coskun-lab\\Thomas\\11_snowflakes\\notebooks\\wandb\\run-20230826_013756-9wu9y4gy</code>"
      ],
      "text/plain": [
       "<IPython.core.display.HTML object>"
      ]
     },
     "metadata": {},
     "output_type": "display_data"
    },
    {
     "data": {
      "text/html": [
       "Syncing run <strong><a href='https://wandb.ai/thoomas/SF_082423_Covid/runs/9wu9y4gy' target=\"_blank\">MLP_2_16_0_moprh</a></strong> to <a href='https://wandb.ai/thoomas/SF_082423_Covid' target=\"_blank\">Weights & Biases</a> (<a href='https://wandb.me/run' target=\"_blank\">docs</a>)<br/>"
      ],
      "text/plain": [
       "<IPython.core.display.HTML object>"
      ]
     },
     "metadata": {},
     "output_type": "display_data"
    },
    {
     "data": {
      "text/html": [
       " View project at <a href='https://wandb.ai/thoomas/SF_082423_Covid' target=\"_blank\">https://wandb.ai/thoomas/SF_082423_Covid</a>"
      ],
      "text/plain": [
       "<IPython.core.display.HTML object>"
      ]
     },
     "metadata": {},
     "output_type": "display_data"
    },
    {
     "data": {
      "text/html": [
       " View run at <a href='https://wandb.ai/thoomas/SF_082423_Covid/runs/9wu9y4gy' target=\"_blank\">https://wandb.ai/thoomas/SF_082423_Covid/runs/9wu9y4gy</a>"
      ],
      "text/plain": [
       "<IPython.core.display.HTML object>"
      ]
     },
     "metadata": {},
     "output_type": "display_data"
    },
    {
     "name": "stderr",
     "output_type": "stream",
     "text": [
      "INFO: Global seed set to 42\n",
      "INFO:lightning.fabric.utilities.seed:Global seed set to 42\n",
      "C:\\Users\\thu71\\Anaconda3\\envs\\snowflake\\lib\\site-packages\\pytorch_lightning\\loggers\\wandb.py:395: UserWarning: There is a wandb run already in progress and newly created instances of `WandbLogger` will reuse this run. If this is not desired, call `wandb.finish()` before instantiating `WandbLogger`.\n",
      "  rank_zero_warn(\n",
      "INFO: GPU available: True (cuda), used: True\n",
      "INFO:lightning.pytorch.utilities.rank_zero:GPU available: True (cuda), used: True\n",
      "INFO: TPU available: False, using: 0 TPU cores\n",
      "INFO:lightning.pytorch.utilities.rank_zero:TPU available: False, using: 0 TPU cores\n",
      "INFO: IPU available: False, using: 0 IPUs\n",
      "INFO:lightning.pytorch.utilities.rank_zero:IPU available: False, using: 0 IPUs\n",
      "INFO: HPU available: False, using: 0 HPUs\n",
      "INFO:lightning.pytorch.utilities.rank_zero:HPU available: False, using: 0 HPUs\n",
      "INFO: Global seed set to 42\n",
      "INFO:lightning.fabric.utilities.seed:Global seed set to 42\n",
      "INFO: LOCAL_RANK: 0 - CUDA_VISIBLE_DEVICES: [0,1]\n",
      "INFO:lightning.pytorch.accelerators.cuda:LOCAL_RANK: 0 - CUDA_VISIBLE_DEVICES: [0,1]\n",
      "INFO: \n",
      "   | Name           | Type             | Params\n",
      "-----------------------------------------------------\n",
      "0  | feat_embedding | Sequential       | 832   \n",
      "1  | model          | MLPModel         | 368   \n",
      "2  | head           | Sequential       | 562   \n",
      "3  | fnn_layer      | Linear           | 272   \n",
      "4  | selu           | SELU             | 0     \n",
      "5  | loss_module    | CrossEntropyLoss | 0     \n",
      "6  | train_acc      | BinaryAccuracy   | 0     \n",
      "7  | train_auroc    | BinaryAUROC      | 0     \n",
      "8  | train_f1       | BinaryF1Score    | 0     \n",
      "9  | valid_acc      | BinaryAccuracy   | 0     \n",
      "10 | valid_auroc    | BinaryAUROC      | 0     \n",
      "11 | valid_f1       | BinaryF1Score    | 0     \n",
      "12 | pool           | Attention_module | 281   \n",
      "-----------------------------------------------------\n",
      "2.3 K     Trainable params\n",
      "0         Non-trainable params\n",
      "2.3 K     Total params\n",
      "0.009     Total estimated model params size (MB)\n",
      "INFO:lightning.pytorch.callbacks.model_summary:\n",
      "   | Name           | Type             | Params\n",
      "-----------------------------------------------------\n",
      "0  | feat_embedding | Sequential       | 832   \n",
      "1  | model          | MLPModel         | 368   \n",
      "2  | head           | Sequential       | 562   \n",
      "3  | fnn_layer      | Linear           | 272   \n",
      "4  | selu           | SELU             | 0     \n",
      "5  | loss_module    | CrossEntropyLoss | 0     \n",
      "6  | train_acc      | BinaryAccuracy   | 0     \n",
      "7  | train_auroc    | BinaryAUROC      | 0     \n",
      "8  | train_f1       | BinaryF1Score    | 0     \n",
      "9  | valid_acc      | BinaryAccuracy   | 0     \n",
      "10 | valid_auroc    | BinaryAUROC      | 0     \n",
      "11 | valid_f1       | BinaryF1Score    | 0     \n",
      "12 | pool           | Attention_module | 281   \n",
      "-----------------------------------------------------\n",
      "2.3 K     Trainable params\n",
      "0         Non-trainable params\n",
      "2.3 K     Total params\n",
      "0.009     Total estimated model params size (MB)\n",
      "C:\\Users\\thu71\\AppData\\Roaming\\Python\\Python39\\site-packages\\lightning\\pytorch\\trainer\\connectors\\data_connector.py:478: PossibleUserWarning: Your `val_dataloader`'s sampler has shuffling enabled, it is strongly recommended that you turn shuffling off for val/test dataloaders.\n",
      "  rank_zero_warn(\n",
      "C:\\Users\\thu71\\AppData\\Roaming\\Python\\Python39\\site-packages\\lightning\\pytorch\\trainer\\connectors\\data_connector.py:430: PossibleUserWarning: The dataloader, val_dataloader, does not have many workers which may be a bottleneck. Consider increasing the value of the `num_workers` argument` (try 48 which is the number of cpus on this machine) in the `DataLoader` init to improve performance.\n",
      "  rank_zero_warn(\n"
     ]
    },
    {
     "name": "stdout",
     "output_type": "stream",
     "text": [
      "Training with Morphological features\n"
     ]
    },
    {
     "name": "stderr",
     "output_type": "stream",
     "text": [
      "C:\\Users\\thu71\\AppData\\Roaming\\Python\\Python39\\site-packages\\lightning\\pytorch\\trainer\\connectors\\data_connector.py:430: PossibleUserWarning: The dataloader, train_dataloader, does not have many workers which may be a bottleneck. Consider increasing the value of the `num_workers` argument` (try 48 which is the number of cpus on this machine) in the `DataLoader` init to improve performance.\n",
      "  rank_zero_warn(\n",
      "C:\\Users\\thu71\\AppData\\Roaming\\Python\\Python39\\site-packages\\lightning\\pytorch\\loops\\fit_loop.py:280: PossibleUserWarning: The number of training batches (3) is smaller than the logging interval Trainer(log_every_n_steps=10). Set a lower value for log_every_n_steps if you want to see logs for the training epoch.\n",
      "  rank_zero_warn(\n",
      "C:\\Users\\thu71\\Anaconda3\\envs\\snowflake\\lib\\site-packages\\torchmetrics\\utilities\\prints.py:36: UserWarning: No negative samples in targets, false positive value should be meaningless. Returning zero tensor in false positive score\n",
      "  warnings.warn(*args, **kwargs)\n",
      "C:\\Users\\thu71\\Anaconda3\\envs\\snowflake\\lib\\site-packages\\torchmetrics\\utilities\\prints.py:36: UserWarning: No negative samples in targets, false positive value should be meaningless. Returning zero tensor in false positive score\n",
      "  warnings.warn(*args, **kwargs)\n",
      "C:\\Users\\thu71\\Anaconda3\\envs\\snowflake\\lib\\site-packages\\torchmetrics\\utilities\\prints.py:36: UserWarning: No positive samples in targets, true positive value should be meaningless. Returning zero tensor in true positive score\n",
      "  warnings.warn(*args, **kwargs)\n",
      "C:\\Users\\thu71\\Anaconda3\\envs\\snowflake\\lib\\site-packages\\torchmetrics\\utilities\\prints.py:36: UserWarning: No negative samples in targets, false positive value should be meaningless. Returning zero tensor in false positive score\n",
      "  warnings.warn(*args, **kwargs)\n",
      "C:\\Users\\thu71\\Anaconda3\\envs\\snowflake\\lib\\site-packages\\torchmetrics\\utilities\\prints.py:36: UserWarning: No negative samples in targets, false positive value should be meaningless. Returning zero tensor in false positive score\n",
      "  warnings.warn(*args, **kwargs)\n",
      "C:\\Users\\thu71\\Anaconda3\\envs\\snowflake\\lib\\site-packages\\torchmetrics\\utilities\\prints.py:36: UserWarning: No positive samples in targets, true positive value should be meaningless. Returning zero tensor in true positive score\n",
      "  warnings.warn(*args, **kwargs)\n",
      "C:\\Users\\thu71\\Anaconda3\\envs\\snowflake\\lib\\site-packages\\torchmetrics\\utilities\\prints.py:36: UserWarning: No negative samples in targets, false positive value should be meaningless. Returning zero tensor in false positive score\n",
      "  warnings.warn(*args, **kwargs)\n",
      "INFO: `Trainer.fit` stopped: `max_epochs=100` reached.\n",
      "INFO:lightning.pytorch.utilities.rank_zero:`Trainer.fit` stopped: `max_epochs=100` reached.\n"
     ]
    },
    {
     "data": {
      "text/html": [
       "Waiting for W&B process to finish... <strong style=\"color:green\">(success).</strong>"
      ],
      "text/plain": [
       "<IPython.core.display.HTML object>"
      ]
     },
     "metadata": {},
     "output_type": "display_data"
    },
    {
     "data": {
      "application/vnd.jupyter.widget-view+json": {
       "model_id": "c2dacb7771474937a2a0d702c5f618e3",
       "version_major": 2,
       "version_minor": 0
      },
      "text/plain": [
       "VBox(children=(Label(value='0.001 MB of 0.001 MB uploaded (0.000 MB deduped)\\r'), FloatProgress(value=1.0, max…"
      ]
     },
     "metadata": {},
     "output_type": "display_data"
    },
    {
     "data": {
      "text/html": [
       "<style>\n",
       "    table.wandb td:nth-child(1) { padding: 0 10px; text-align: left ; width: auto;} td:nth-child(2) {text-align: left ; width: 100%}\n",
       "    .wandb-row { display: flex; flex-direction: row; flex-wrap: wrap; justify-content: flex-start; width: 100% }\n",
       "    .wandb-col { display: flex; flex-direction: column; flex-basis: 100%; flex: 1; padding: 10px; }\n",
       "    </style>\n",
       "<div class=\"wandb-row\"><div class=\"wandb-col\"><h3>Run history:</h3><br/><table class=\"wandb\"><tr><td>epoch</td><td>▁▁▁▁▂▂▂▂▂▃▃▃▃▃▃▄▄▄▄▄▅▅▅▅▅▆▆▆▆▆▆▇▇▇▇▇████</td></tr><tr><td>lr-Adam</td><td>▁▁▁▁▁▁▁▁▁▁▁▁▁▁▁▁▁▁▁▁▁▁▁▁▁▁▁▁▁▁▁▁▁▁▁▁▁▁▁▁</td></tr><tr><td>train_acc</td><td>▁▂▂▂▃▃▄▅▅▅▅▅▅▆▅▅▆▆▆▆▆▇▇▇▇▇█▇██▇█▇▇▇▇████</td></tr><tr><td>train_auc</td><td>▁▃▃▂▄▄▅▅▅▅▆▅▆▆▆▅▆▆▆▆▆▆▇▆▇▇▇▇▇▇▇█▇▇▇▇████</td></tr><tr><td>train_f1</td><td>▁▃▃▃▃▃▄▄▅▄▅▄▅▅▅▄▆▅▆▅▆▇▇▇▇▇▇▇▇▇▇█▇▇▇████▇</td></tr><tr><td>train_loss_epoch</td><td>█▇██▇▇▇▆▅▆▅▅▄▄▅▅▄▄▄▄▃▃▃▂▂▃▂▂▂▂▂▂▂▂▂▂▂▁▂▂</td></tr><tr><td>train_loss_step</td><td>██▇▆▅▅▃▅▆▅▃▄▄▄▃▄▃▂▂▂▂▂▃▂▂▃▃▂▁▂</td></tr><tr><td>trainer/global_step</td><td>▁▁▁▂▁▂▂▂▃▃▃▃▃▃▄▄▄▄▅▃▄▄▅▅▆▄▄▄▆▇▇▅▅▅███▆▆▆</td></tr><tr><td>val_acc</td><td>▁▁▁▁▄▃▄▄▄▄▃▃▃▄▂▅▃▅▃▆▄▆▆▆▆▆▇▆▇▇▇▇▇▆▇▇▇███</td></tr><tr><td>val_auc</td><td>▁▂▂▃▄▄▄▄▄▅▅▅▅▅▅▅▅▅▆▅▆▆▆▆▆▆▆▆▇▇▇▇▇█▇▇████</td></tr><tr><td>val_f1</td><td>▂▂▂▁▁▂▃▃▄▃▂▃▃▃▂▄▃▄▃▅▄▅▆▆▆▆▇▅▇▇▆▆▆▆▇▇▇██▇</td></tr><tr><td>val_loss_epoch</td><td>▆▆▆▅▅▅▅█▆▂▆▇▅▄▆▂▄▃▄▅▇▃▁▁▂▁▆▃▂▁▅▂█▄▄▃▁▃▂▂</td></tr><tr><td>val_loss_step</td><td>▄▄▄▄▄▃▄▇▅▁▄▆▄▃▄▁▂▃▃▄▆▃▁▁▂▁▆▃▂▁▄▂█▄▄▃▁▃▂▃</td></tr></table><br/></div><div class=\"wandb-col\"><h3>Run summary:</h3><br/><table class=\"wandb\"><tr><td>epoch</td><td>99</td></tr><tr><td>lr-Adam</td><td>0.005</td></tr><tr><td>train_acc</td><td>0.83819</td></tr><tr><td>train_auc</td><td>0.89188</td></tr><tr><td>train_f1</td><td>0.86486</td></tr><tr><td>train_loss_epoch</td><td>0.47064</td></tr><tr><td>train_loss_step</td><td>0.48178</td></tr><tr><td>trainer/global_step</td><td>299</td></tr><tr><td>val_acc</td><td>0.80451</td></tr><tr><td>val_auc</td><td>0.8862</td></tr><tr><td>val_f1</td><td>0.84337</td></tr><tr><td>val_loss_epoch</td><td>0.4934</td></tr><tr><td>val_loss_step</td><td>0.4871</td></tr></table><br/></div></div>"
      ],
      "text/plain": [
       "<IPython.core.display.HTML object>"
      ]
     },
     "metadata": {},
     "output_type": "display_data"
    },
    {
     "data": {
      "text/html": [
       " View run <strong style=\"color:#cdcd00\">MLP_2_16_0_moprh</strong> at: <a href='https://wandb.ai/thoomas/SF_082423_Covid/runs/9wu9y4gy' target=\"_blank\">https://wandb.ai/thoomas/SF_082423_Covid/runs/9wu9y4gy</a><br/>Synced 5 W&B file(s), 0 media file(s), 0 artifact file(s) and 0 other file(s)"
      ],
      "text/plain": [
       "<IPython.core.display.HTML object>"
      ]
     },
     "metadata": {},
     "output_type": "display_data"
    },
    {
     "data": {
      "text/html": [
       "Find logs at: <code>.\\wandb\\run-20230826_013756-9wu9y4gy\\logs</code>"
      ],
      "text/plain": [
       "<IPython.core.display.HTML object>"
      ]
     },
     "metadata": {},
     "output_type": "display_data"
    },
    {
     "data": {
      "application/vnd.jupyter.widget-view+json": {
       "model_id": "514e9293ead1419abfd0534308128959",
       "version_major": 2,
       "version_minor": 0
      },
      "text/plain": [
       "VBox(children=(Label(value='Waiting for wandb.init()...\\r'), FloatProgress(value=0.01693333333338766, max=1.0)…"
      ]
     },
     "metadata": {},
     "output_type": "display_data"
    },
    {
     "data": {
      "text/html": [
       "wandb version 0.15.8 is available!  To upgrade, please run:\n",
       " $ pip install wandb --upgrade"
      ],
      "text/plain": [
       "<IPython.core.display.HTML object>"
      ]
     },
     "metadata": {},
     "output_type": "display_data"
    },
    {
     "data": {
      "text/html": [
       "Tracking run with wandb version 0.14.0"
      ],
      "text/plain": [
       "<IPython.core.display.HTML object>"
      ]
     },
     "metadata": {},
     "output_type": "display_data"
    },
    {
     "data": {
      "text/html": [
       "Run data is saved locally in <code>Y:\\coskun-lab\\Thomas\\11_snowflakes\\notebooks\\wandb\\run-20230826_020332-qtgirq75</code>"
      ],
      "text/plain": [
       "<IPython.core.display.HTML object>"
      ]
     },
     "metadata": {},
     "output_type": "display_data"
    },
    {
     "data": {
      "text/html": [
       "Syncing run <strong><a href='https://wandb.ai/thoomas/SF_082423_Covid/runs/qtgirq75' target=\"_blank\">MLP_2_16_1_moprh</a></strong> to <a href='https://wandb.ai/thoomas/SF_082423_Covid' target=\"_blank\">Weights & Biases</a> (<a href='https://wandb.me/run' target=\"_blank\">docs</a>)<br/>"
      ],
      "text/plain": [
       "<IPython.core.display.HTML object>"
      ]
     },
     "metadata": {},
     "output_type": "display_data"
    },
    {
     "data": {
      "text/html": [
       " View project at <a href='https://wandb.ai/thoomas/SF_082423_Covid' target=\"_blank\">https://wandb.ai/thoomas/SF_082423_Covid</a>"
      ],
      "text/plain": [
       "<IPython.core.display.HTML object>"
      ]
     },
     "metadata": {},
     "output_type": "display_data"
    },
    {
     "data": {
      "text/html": [
       " View run at <a href='https://wandb.ai/thoomas/SF_082423_Covid/runs/qtgirq75' target=\"_blank\">https://wandb.ai/thoomas/SF_082423_Covid/runs/qtgirq75</a>"
      ],
      "text/plain": [
       "<IPython.core.display.HTML object>"
      ]
     },
     "metadata": {},
     "output_type": "display_data"
    },
    {
     "name": "stderr",
     "output_type": "stream",
     "text": [
      "INFO: Global seed set to 42\n",
      "INFO:lightning.fabric.utilities.seed:Global seed set to 42\n",
      "C:\\Users\\thu71\\Anaconda3\\envs\\snowflake\\lib\\site-packages\\pytorch_lightning\\loggers\\wandb.py:395: UserWarning: There is a wandb run already in progress and newly created instances of `WandbLogger` will reuse this run. If this is not desired, call `wandb.finish()` before instantiating `WandbLogger`.\n",
      "  rank_zero_warn(\n",
      "INFO: GPU available: True (cuda), used: True\n",
      "INFO:lightning.pytorch.utilities.rank_zero:GPU available: True (cuda), used: True\n",
      "INFO: TPU available: False, using: 0 TPU cores\n",
      "INFO:lightning.pytorch.utilities.rank_zero:TPU available: False, using: 0 TPU cores\n",
      "INFO: IPU available: False, using: 0 IPUs\n",
      "INFO:lightning.pytorch.utilities.rank_zero:IPU available: False, using: 0 IPUs\n",
      "INFO: HPU available: False, using: 0 HPUs\n",
      "INFO:lightning.pytorch.utilities.rank_zero:HPU available: False, using: 0 HPUs\n",
      "INFO: Global seed set to 42\n",
      "INFO:lightning.fabric.utilities.seed:Global seed set to 42\n"
     ]
    },
    {
     "name": "stdout",
     "output_type": "stream",
     "text": [
      "Training with Morphological features\n"
     ]
    },
    {
     "name": "stderr",
     "output_type": "stream",
     "text": [
      "INFO: LOCAL_RANK: 0 - CUDA_VISIBLE_DEVICES: [0,1]\n",
      "INFO:lightning.pytorch.accelerators.cuda:LOCAL_RANK: 0 - CUDA_VISIBLE_DEVICES: [0,1]\n",
      "INFO: \n",
      "   | Name           | Type             | Params\n",
      "-----------------------------------------------------\n",
      "0  | feat_embedding | Sequential       | 832   \n",
      "1  | model          | MLPModel         | 368   \n",
      "2  | head           | Sequential       | 562   \n",
      "3  | fnn_layer      | Linear           | 272   \n",
      "4  | selu           | SELU             | 0     \n",
      "5  | loss_module    | CrossEntropyLoss | 0     \n",
      "6  | train_acc      | BinaryAccuracy   | 0     \n",
      "7  | train_auroc    | BinaryAUROC      | 0     \n",
      "8  | train_f1       | BinaryF1Score    | 0     \n",
      "9  | valid_acc      | BinaryAccuracy   | 0     \n",
      "10 | valid_auroc    | BinaryAUROC      | 0     \n",
      "11 | valid_f1       | BinaryF1Score    | 0     \n",
      "-----------------------------------------------------\n",
      "2.0 K     Trainable params\n",
      "0         Non-trainable params\n",
      "2.0 K     Total params\n",
      "0.008     Total estimated model params size (MB)\n",
      "INFO:lightning.pytorch.callbacks.model_summary:\n",
      "   | Name           | Type             | Params\n",
      "-----------------------------------------------------\n",
      "0  | feat_embedding | Sequential       | 832   \n",
      "1  | model          | MLPModel         | 368   \n",
      "2  | head           | Sequential       | 562   \n",
      "3  | fnn_layer      | Linear           | 272   \n",
      "4  | selu           | SELU             | 0     \n",
      "5  | loss_module    | CrossEntropyLoss | 0     \n",
      "6  | train_acc      | BinaryAccuracy   | 0     \n",
      "7  | train_auroc    | BinaryAUROC      | 0     \n",
      "8  | train_f1       | BinaryF1Score    | 0     \n",
      "9  | valid_acc      | BinaryAccuracy   | 0     \n",
      "10 | valid_auroc    | BinaryAUROC      | 0     \n",
      "11 | valid_f1       | BinaryF1Score    | 0     \n",
      "-----------------------------------------------------\n",
      "2.0 K     Trainable params\n",
      "0         Non-trainable params\n",
      "2.0 K     Total params\n",
      "0.008     Total estimated model params size (MB)\n",
      "C:\\Users\\thu71\\AppData\\Roaming\\Python\\Python39\\site-packages\\lightning\\pytorch\\trainer\\connectors\\data_connector.py:478: PossibleUserWarning: Your `val_dataloader`'s sampler has shuffling enabled, it is strongly recommended that you turn shuffling off for val/test dataloaders.\n",
      "  rank_zero_warn(\n",
      "C:\\Users\\thu71\\AppData\\Roaming\\Python\\Python39\\site-packages\\lightning\\pytorch\\trainer\\connectors\\data_connector.py:430: PossibleUserWarning: The dataloader, val_dataloader, does not have many workers which may be a bottleneck. Consider increasing the value of the `num_workers` argument` (try 48 which is the number of cpus on this machine) in the `DataLoader` init to improve performance.\n",
      "  rank_zero_warn(\n",
      "C:\\Users\\thu71\\AppData\\Roaming\\Python\\Python39\\site-packages\\lightning\\pytorch\\trainer\\connectors\\data_connector.py:430: PossibleUserWarning: The dataloader, train_dataloader, does not have many workers which may be a bottleneck. Consider increasing the value of the `num_workers` argument` (try 48 which is the number of cpus on this machine) in the `DataLoader` init to improve performance.\n",
      "  rank_zero_warn(\n",
      "C:\\Users\\thu71\\AppData\\Roaming\\Python\\Python39\\site-packages\\lightning\\pytorch\\loops\\fit_loop.py:280: PossibleUserWarning: The number of training batches (3) is smaller than the logging interval Trainer(log_every_n_steps=10). Set a lower value for log_every_n_steps if you want to see logs for the training epoch.\n",
      "  rank_zero_warn(\n",
      "C:\\Users\\thu71\\Anaconda3\\envs\\snowflake\\lib\\site-packages\\torchmetrics\\utilities\\prints.py:36: UserWarning: No negative samples in targets, false positive value should be meaningless. Returning zero tensor in false positive score\n",
      "  warnings.warn(*args, **kwargs)\n",
      "C:\\Users\\thu71\\Anaconda3\\envs\\snowflake\\lib\\site-packages\\torchmetrics\\utilities\\prints.py:36: UserWarning: No negative samples in targets, false positive value should be meaningless. Returning zero tensor in false positive score\n",
      "  warnings.warn(*args, **kwargs)\n",
      "C:\\Users\\thu71\\Anaconda3\\envs\\snowflake\\lib\\site-packages\\torchmetrics\\utilities\\prints.py:36: UserWarning: No negative samples in targets, false positive value should be meaningless. Returning zero tensor in false positive score\n",
      "  warnings.warn(*args, **kwargs)\n",
      "C:\\Users\\thu71\\Anaconda3\\envs\\snowflake\\lib\\site-packages\\torchmetrics\\utilities\\prints.py:36: UserWarning: No negative samples in targets, false positive value should be meaningless. Returning zero tensor in false positive score\n",
      "  warnings.warn(*args, **kwargs)\n",
      "INFO: `Trainer.fit` stopped: `max_epochs=100` reached.\n",
      "INFO:lightning.pytorch.utilities.rank_zero:`Trainer.fit` stopped: `max_epochs=100` reached.\n"
     ]
    },
    {
     "data": {
      "text/html": [
       "Waiting for W&B process to finish... <strong style=\"color:green\">(success).</strong>"
      ],
      "text/plain": [
       "<IPython.core.display.HTML object>"
      ]
     },
     "metadata": {},
     "output_type": "display_data"
    },
    {
     "data": {
      "text/html": [
       "<style>\n",
       "    table.wandb td:nth-child(1) { padding: 0 10px; text-align: left ; width: auto;} td:nth-child(2) {text-align: left ; width: 100%}\n",
       "    .wandb-row { display: flex; flex-direction: row; flex-wrap: wrap; justify-content: flex-start; width: 100% }\n",
       "    .wandb-col { display: flex; flex-direction: column; flex-basis: 100%; flex: 1; padding: 10px; }\n",
       "    </style>\n",
       "<div class=\"wandb-row\"><div class=\"wandb-col\"><h3>Run history:</h3><br/><table class=\"wandb\"><tr><td>epoch</td><td>▁▁▁▁▂▂▂▂▂▃▃▃▃▃▃▄▄▄▄▄▅▅▅▅▅▆▆▆▆▆▆▇▇▇▇▇████</td></tr><tr><td>lr-Adam</td><td>▁▁▁▁▁▁▁▁▁▁▁▁▁▁▁▁▁▁▁▁▁▁▁▁▁▁▁▁▁▁▁▁▁▁▁▁▁▁▁▁</td></tr><tr><td>train_acc</td><td>▁▁▁▁▁▂▂▂▂▃▃▃▄▅▆▆▇▆▇▆▇▇▇█▇▇▇▇██▇██▇██████</td></tr><tr><td>train_auc</td><td>▂▁▂▂▃▃▄▄▄▄▅▅▅▅▆▇▇▇▇▇▇▇█▇▇██▇▇███████████</td></tr><tr><td>train_f1</td><td>▁▁▂▂▁▂▂▃▂▃▃▃▄▄▅▆▆▅▇▆▇▇▇▇▇▇▇▇██▇█▇▇██████</td></tr><tr><td>train_loss_epoch</td><td>█████▇▇▇▇▆▆▇▅▅▄▃▃▃▃▂▂▂▂▂▁▂▁▂▂▂▂▁▁▂▁▁▁▁▁▁</td></tr><tr><td>train_loss_step</td><td>▇█▇▇▇▆▆▆▅▆▅▃▃▂▃▃▃▂▂▂▃▁▂▁▂▁▃▂▂▂</td></tr><tr><td>trainer/global_step</td><td>▁▁▁▂▁▂▂▂▃▃▃▃▃▃▄▄▄▄▅▃▄▄▅▅▆▄▄▄▆▇▇▅▅▅███▆▆▆</td></tr><tr><td>val_acc</td><td>▁▁▁▁▃▄▅▄▅▄▅▅▅▆▇▇▆▇▇▇█▇▇▇▇█████▇███▇████▇</td></tr><tr><td>val_auc</td><td>▁▂▃▄▄▄▄▄▄▄▅▅▆▆▇▇▇▇▇▇▇▇▇▇▇███████████████</td></tr><tr><td>val_f1</td><td>▁▁▁▁▂▃▃▃▅▁▄▄▅▅▇▇▅▇▆▇█▆▇▇▆██▇█▇▅▇▇▇▆▆▇▇▇▅</td></tr><tr><td>val_loss_epoch</td><td>█▇███▇▆▆▄▅▅▄▄▆▂▁▆▄▃▃▅▁▇▄▄▁▃▂▇▂▂▄▃▄▃▆▂▃▅▂</td></tr><tr><td>val_loss_step</td><td>▅▅▆▆▆▆▅▄▃▄▄▃▃▆▂▁▆▅▃▃▅▁█▄▅▂▃▂█▂▂▄▃▄▄▇▂▃▆▂</td></tr></table><br/></div><div class=\"wandb-col\"><h3>Run summary:</h3><br/><table class=\"wandb\"><tr><td>epoch</td><td>99</td></tr><tr><td>lr-Adam</td><td>0.005</td></tr><tr><td>train_acc</td><td>0.85761</td></tr><tr><td>train_auc</td><td>0.9123</td></tr><tr><td>train_f1</td><td>0.87778</td></tr><tr><td>train_loss_epoch</td><td>0.45183</td></tr><tr><td>train_loss_step</td><td>0.45551</td></tr><tr><td>trainer/global_step</td><td>299</td></tr><tr><td>val_acc</td><td>0.80451</td></tr><tr><td>val_auc</td><td>0.9379</td></tr><tr><td>val_f1</td><td>0.80303</td></tr><tr><td>val_loss_epoch</td><td>0.46697</td></tr><tr><td>val_loss_step</td><td>0.43692</td></tr></table><br/></div></div>"
      ],
      "text/plain": [
       "<IPython.core.display.HTML object>"
      ]
     },
     "metadata": {},
     "output_type": "display_data"
    },
    {
     "data": {
      "text/html": [
       " View run <strong style=\"color:#cdcd00\">MLP_2_16_1_moprh</strong> at: <a href='https://wandb.ai/thoomas/SF_082423_Covid/runs/qtgirq75' target=\"_blank\">https://wandb.ai/thoomas/SF_082423_Covid/runs/qtgirq75</a><br/>Synced 5 W&B file(s), 0 media file(s), 0 artifact file(s) and 0 other file(s)"
      ],
      "text/plain": [
       "<IPython.core.display.HTML object>"
      ]
     },
     "metadata": {},
     "output_type": "display_data"
    },
    {
     "data": {
      "text/html": [
       "Find logs at: <code>.\\wandb\\run-20230826_020332-qtgirq75\\logs</code>"
      ],
      "text/plain": [
       "<IPython.core.display.HTML object>"
      ]
     },
     "metadata": {},
     "output_type": "display_data"
    },
    {
     "data": {
      "application/vnd.jupyter.widget-view+json": {
       "model_id": "d59f6a0568d6432a942a42adbe33243e",
       "version_major": 2,
       "version_minor": 0
      },
      "text/plain": [
       "VBox(children=(Label(value='Waiting for wandb.init()...\\r'), FloatProgress(value=0.016916666666414434, max=1.0…"
      ]
     },
     "metadata": {},
     "output_type": "display_data"
    },
    {
     "data": {
      "text/html": [
       "wandb version 0.15.8 is available!  To upgrade, please run:\n",
       " $ pip install wandb --upgrade"
      ],
      "text/plain": [
       "<IPython.core.display.HTML object>"
      ]
     },
     "metadata": {},
     "output_type": "display_data"
    },
    {
     "data": {
      "text/html": [
       "Tracking run with wandb version 0.14.0"
      ],
      "text/plain": [
       "<IPython.core.display.HTML object>"
      ]
     },
     "metadata": {},
     "output_type": "display_data"
    },
    {
     "data": {
      "text/html": [
       "Run data is saved locally in <code>Y:\\coskun-lab\\Thomas\\11_snowflakes\\notebooks\\wandb\\run-20230826_022850-ic5j89g9</code>"
      ],
      "text/plain": [
       "<IPython.core.display.HTML object>"
      ]
     },
     "metadata": {},
     "output_type": "display_data"
    },
    {
     "data": {
      "text/html": [
       "Syncing run <strong><a href='https://wandb.ai/thoomas/SF_082423_Covid/runs/ic5j89g9' target=\"_blank\">MLP_2_16_1_moprh</a></strong> to <a href='https://wandb.ai/thoomas/SF_082423_Covid' target=\"_blank\">Weights & Biases</a> (<a href='https://wandb.me/run' target=\"_blank\">docs</a>)<br/>"
      ],
      "text/plain": [
       "<IPython.core.display.HTML object>"
      ]
     },
     "metadata": {},
     "output_type": "display_data"
    },
    {
     "data": {
      "text/html": [
       " View project at <a href='https://wandb.ai/thoomas/SF_082423_Covid' target=\"_blank\">https://wandb.ai/thoomas/SF_082423_Covid</a>"
      ],
      "text/plain": [
       "<IPython.core.display.HTML object>"
      ]
     },
     "metadata": {},
     "output_type": "display_data"
    },
    {
     "data": {
      "text/html": [
       " View run at <a href='https://wandb.ai/thoomas/SF_082423_Covid/runs/ic5j89g9' target=\"_blank\">https://wandb.ai/thoomas/SF_082423_Covid/runs/ic5j89g9</a>"
      ],
      "text/plain": [
       "<IPython.core.display.HTML object>"
      ]
     },
     "metadata": {},
     "output_type": "display_data"
    },
    {
     "name": "stderr",
     "output_type": "stream",
     "text": [
      "INFO: Global seed set to 42\n",
      "INFO:lightning.fabric.utilities.seed:Global seed set to 42\n",
      "C:\\Users\\thu71\\Anaconda3\\envs\\snowflake\\lib\\site-packages\\pytorch_lightning\\loggers\\wandb.py:395: UserWarning: There is a wandb run already in progress and newly created instances of `WandbLogger` will reuse this run. If this is not desired, call `wandb.finish()` before instantiating `WandbLogger`.\n",
      "  rank_zero_warn(\n",
      "INFO: GPU available: True (cuda), used: True\n",
      "INFO:lightning.pytorch.utilities.rank_zero:GPU available: True (cuda), used: True\n",
      "INFO: TPU available: False, using: 0 TPU cores\n",
      "INFO:lightning.pytorch.utilities.rank_zero:TPU available: False, using: 0 TPU cores\n",
      "INFO: IPU available: False, using: 0 IPUs\n",
      "INFO:lightning.pytorch.utilities.rank_zero:IPU available: False, using: 0 IPUs\n",
      "INFO: HPU available: False, using: 0 HPUs\n",
      "INFO:lightning.pytorch.utilities.rank_zero:HPU available: False, using: 0 HPUs\n",
      "INFO: Global seed set to 42\n",
      "INFO:lightning.fabric.utilities.seed:Global seed set to 42\n",
      "INFO: LOCAL_RANK: 0 - CUDA_VISIBLE_DEVICES: [0,1]\n",
      "INFO:lightning.pytorch.accelerators.cuda:LOCAL_RANK: 0 - CUDA_VISIBLE_DEVICES: [0,1]\n",
      "INFO: \n",
      "   | Name           | Type             | Params\n",
      "-----------------------------------------------------\n",
      "0  | feat_embedding | Sequential       | 832   \n",
      "1  | model          | MLPModel         | 368   \n",
      "2  | head           | Sequential       | 562   \n",
      "3  | fnn_layer      | Linear           | 272   \n",
      "4  | selu           | SELU             | 0     \n",
      "5  | loss_module    | CrossEntropyLoss | 0     \n",
      "6  | train_acc      | BinaryAccuracy   | 0     \n",
      "7  | train_auroc    | BinaryAUROC      | 0     \n",
      "8  | train_f1       | BinaryF1Score    | 0     \n",
      "9  | valid_acc      | BinaryAccuracy   | 0     \n",
      "10 | valid_auroc    | BinaryAUROC      | 0     \n",
      "11 | valid_f1       | BinaryF1Score    | 0     \n",
      "-----------------------------------------------------\n",
      "2.0 K     Trainable params\n",
      "0         Non-trainable params\n",
      "2.0 K     Total params\n",
      "0.008     Total estimated model params size (MB)\n",
      "INFO:lightning.pytorch.callbacks.model_summary:\n",
      "   | Name           | Type             | Params\n",
      "-----------------------------------------------------\n",
      "0  | feat_embedding | Sequential       | 832   \n",
      "1  | model          | MLPModel         | 368   \n",
      "2  | head           | Sequential       | 562   \n",
      "3  | fnn_layer      | Linear           | 272   \n",
      "4  | selu           | SELU             | 0     \n",
      "5  | loss_module    | CrossEntropyLoss | 0     \n",
      "6  | train_acc      | BinaryAccuracy   | 0     \n",
      "7  | train_auroc    | BinaryAUROC      | 0     \n",
      "8  | train_f1       | BinaryF1Score    | 0     \n",
      "9  | valid_acc      | BinaryAccuracy   | 0     \n",
      "10 | valid_auroc    | BinaryAUROC      | 0     \n",
      "11 | valid_f1       | BinaryF1Score    | 0     \n",
      "-----------------------------------------------------\n",
      "2.0 K     Trainable params\n",
      "0         Non-trainable params\n",
      "2.0 K     Total params\n",
      "0.008     Total estimated model params size (MB)\n",
      "C:\\Users\\thu71\\AppData\\Roaming\\Python\\Python39\\site-packages\\lightning\\pytorch\\trainer\\connectors\\data_connector.py:478: PossibleUserWarning: Your `val_dataloader`'s sampler has shuffling enabled, it is strongly recommended that you turn shuffling off for val/test dataloaders.\n",
      "  rank_zero_warn(\n",
      "C:\\Users\\thu71\\AppData\\Roaming\\Python\\Python39\\site-packages\\lightning\\pytorch\\trainer\\connectors\\data_connector.py:430: PossibleUserWarning: The dataloader, val_dataloader, does not have many workers which may be a bottleneck. Consider increasing the value of the `num_workers` argument` (try 48 which is the number of cpus on this machine) in the `DataLoader` init to improve performance.\n",
      "  rank_zero_warn(\n"
     ]
    },
    {
     "name": "stdout",
     "output_type": "stream",
     "text": [
      "Training with Morphological features\n"
     ]
    },
    {
     "name": "stderr",
     "output_type": "stream",
     "text": [
      "C:\\Users\\thu71\\AppData\\Roaming\\Python\\Python39\\site-packages\\lightning\\pytorch\\trainer\\connectors\\data_connector.py:430: PossibleUserWarning: The dataloader, train_dataloader, does not have many workers which may be a bottleneck. Consider increasing the value of the `num_workers` argument` (try 48 which is the number of cpus on this machine) in the `DataLoader` init to improve performance.\n",
      "  rank_zero_warn(\n",
      "C:\\Users\\thu71\\AppData\\Roaming\\Python\\Python39\\site-packages\\lightning\\pytorch\\loops\\fit_loop.py:280: PossibleUserWarning: The number of training batches (3) is smaller than the logging interval Trainer(log_every_n_steps=10). Set a lower value for log_every_n_steps if you want to see logs for the training epoch.\n",
      "  rank_zero_warn(\n",
      "C:\\Users\\thu71\\Anaconda3\\envs\\snowflake\\lib\\site-packages\\torchmetrics\\utilities\\prints.py:36: UserWarning: No negative samples in targets, false positive value should be meaningless. Returning zero tensor in false positive score\n",
      "  warnings.warn(*args, **kwargs)\n",
      "C:\\Users\\thu71\\Anaconda3\\envs\\snowflake\\lib\\site-packages\\torchmetrics\\utilities\\prints.py:36: UserWarning: No negative samples in targets, false positive value should be meaningless. Returning zero tensor in false positive score\n",
      "  warnings.warn(*args, **kwargs)\n",
      "C:\\Users\\thu71\\Anaconda3\\envs\\snowflake\\lib\\site-packages\\torchmetrics\\utilities\\prints.py:36: UserWarning: No negative samples in targets, false positive value should be meaningless. Returning zero tensor in false positive score\n",
      "  warnings.warn(*args, **kwargs)\n",
      "C:\\Users\\thu71\\Anaconda3\\envs\\snowflake\\lib\\site-packages\\torchmetrics\\utilities\\prints.py:36: UserWarning: No negative samples in targets, false positive value should be meaningless. Returning zero tensor in false positive score\n",
      "  warnings.warn(*args, **kwargs)\n",
      "INFO: `Trainer.fit` stopped: `max_epochs=100` reached.\n",
      "INFO:lightning.pytorch.utilities.rank_zero:`Trainer.fit` stopped: `max_epochs=100` reached.\n"
     ]
    },
    {
     "data": {
      "text/html": [
       "Waiting for W&B process to finish... <strong style=\"color:green\">(success).</strong>"
      ],
      "text/plain": [
       "<IPython.core.display.HTML object>"
      ]
     },
     "metadata": {},
     "output_type": "display_data"
    },
    {
     "data": {
      "application/vnd.jupyter.widget-view+json": {
       "model_id": "43f416da56eb4effa505742a307331de",
       "version_major": 2,
       "version_minor": 0
      },
      "text/plain": [
       "VBox(children=(Label(value='0.001 MB of 0.001 MB uploaded (0.000 MB deduped)\\r'), FloatProgress(value=1.0, max…"
      ]
     },
     "metadata": {},
     "output_type": "display_data"
    },
    {
     "data": {
      "text/html": [
       "<style>\n",
       "    table.wandb td:nth-child(1) { padding: 0 10px; text-align: left ; width: auto;} td:nth-child(2) {text-align: left ; width: 100%}\n",
       "    .wandb-row { display: flex; flex-direction: row; flex-wrap: wrap; justify-content: flex-start; width: 100% }\n",
       "    .wandb-col { display: flex; flex-direction: column; flex-basis: 100%; flex: 1; padding: 10px; }\n",
       "    </style>\n",
       "<div class=\"wandb-row\"><div class=\"wandb-col\"><h3>Run history:</h3><br/><table class=\"wandb\"><tr><td>epoch</td><td>▁▁▁▁▂▂▂▂▂▃▃▃▃▃▃▄▄▄▄▄▅▅▅▅▅▆▆▆▆▆▆▇▇▇▇▇████</td></tr><tr><td>lr-Adam</td><td>▁▁▁▁▁▁▁▁▁▁▁▁▁▁▁▁▁▁▁▁▁▁▁▁▁▁▁▁▁▁▁▁▁▁▁▁▁▁▁▁</td></tr><tr><td>train_acc</td><td>▁▁▂▂▂▂▁▂▁▃▂▁▄▃▃▃▃▄▄▅▅▄▄▆▆▆▄▅▆▆▆▅▇▅▇▆█▆▇▇</td></tr><tr><td>train_auc</td><td>▁▁▂▂▂▃▂▃▃▄▃▃▄▄▅▅▄▆▅▆▆▆▆▆▆▆▆▆▇▇▆▆▇▆▇▇█▇█▇</td></tr><tr><td>train_f1</td><td>▂▂▃▃▃▃▃▃▂▄▂▁▄▃▃▄▃▄▃▅▄▄▃▆▅▆▃▅▅▆▆▅▇▅▆▆█▇▆▇</td></tr><tr><td>train_loss_epoch</td><td>▇█▇▇█▇▇▇▇▆▆▇▆▆▅▅▆▅▅▄▄▄▅▄▃▄▄▄▃▃▃▃▂▃▂▃▁▂▂▂</td></tr><tr><td>train_loss_step</td><td>▇█▆▆▇▇▆▆▅▇▆▄▄▄▅▄▅▅▃▄▄▃▄▄▃▂▁▄▂▃</td></tr><tr><td>trainer/global_step</td><td>▁▁▁▂▁▂▂▂▃▃▃▃▃▃▄▄▄▄▅▃▄▄▅▅▆▄▄▄▆▇▇▅▅▅███▆▆▆</td></tr><tr><td>val_acc</td><td>▁▁▁▁▁▁▁▁▁▁▃▃▃▃▆▇▄▇▇▇█▇▆▇▇▇▇▄▇▆▅▆▇▇▆█▇▆█▇</td></tr><tr><td>val_auc</td><td>▁▁▂▂▄▅▄▄▄▄▅▅▄▅▆▇▇▇▇▇▇▇▇▇▇▇▇▆▇▇▇▇▇▇██████</td></tr><tr><td>val_f1</td><td>▂▂▂▂▂▂▂▂▁▁▂▃▂▃▄▆▄▆▅▆▇▅▄▇▆▇▆▄▇▆▄▆▇▇▆█▇▆█▇</td></tr><tr><td>val_loss_epoch</td><td>█▇███▇▇▇▆▇▇▇▇▆▇▅▆▆▆▅▄▃▄▆▄▂▇▃▅▇▅▄▅▃▅▄▅▁▄▃</td></tr><tr><td>val_loss_step</td><td>▇▆▇▇▇▇▆▆▅▆▆▆▆▆▆▅▅▆▆▄▄▃▃▇▄▃█▃▆█▆▅▆▄▆▄▆▁▄▃</td></tr></table><br/></div><div class=\"wandb-col\"><h3>Run summary:</h3><br/><table class=\"wandb\"><tr><td>epoch</td><td>99</td></tr><tr><td>lr-Adam</td><td>0.005</td></tr><tr><td>train_acc</td><td>0.78964</td></tr><tr><td>train_auc</td><td>0.84446</td></tr><tr><td>train_f1</td><td>0.82192</td></tr><tr><td>train_loss_epoch</td><td>0.51874</td></tr><tr><td>train_loss_step</td><td>0.52842</td></tr><tr><td>trainer/global_step</td><td>299</td></tr><tr><td>val_acc</td><td>0.80451</td></tr><tr><td>val_auc</td><td>0.92175</td></tr><tr><td>val_f1</td><td>0.84706</td></tr><tr><td>val_loss_epoch</td><td>0.52382</td></tr><tr><td>val_loss_step</td><td>0.50355</td></tr></table><br/></div></div>"
      ],
      "text/plain": [
       "<IPython.core.display.HTML object>"
      ]
     },
     "metadata": {},
     "output_type": "display_data"
    },
    {
     "data": {
      "text/html": [
       " View run <strong style=\"color:#cdcd00\">MLP_2_16_1_moprh</strong> at: <a href='https://wandb.ai/thoomas/SF_082423_Covid/runs/ic5j89g9' target=\"_blank\">https://wandb.ai/thoomas/SF_082423_Covid/runs/ic5j89g9</a><br/>Synced 5 W&B file(s), 0 media file(s), 0 artifact file(s) and 0 other file(s)"
      ],
      "text/plain": [
       "<IPython.core.display.HTML object>"
      ]
     },
     "metadata": {},
     "output_type": "display_data"
    },
    {
     "data": {
      "text/html": [
       "Find logs at: <code>.\\wandb\\run-20230826_022850-ic5j89g9\\logs</code>"
      ],
      "text/plain": [
       "<IPython.core.display.HTML object>"
      ]
     },
     "metadata": {},
     "output_type": "display_data"
    },
    {
     "data": {
      "application/vnd.jupyter.widget-view+json": {
       "model_id": "b832efbbb11f48ac89e9c3506d67a3a2",
       "version_major": 2,
       "version_minor": 0
      },
      "text/plain": [
       "VBox(children=(Label(value='Waiting for wandb.init()...\\r'), FloatProgress(value=0.016666666666666666, max=1.0…"
      ]
     },
     "metadata": {},
     "output_type": "display_data"
    },
    {
     "data": {
      "text/html": [
       "wandb version 0.15.8 is available!  To upgrade, please run:\n",
       " $ pip install wandb --upgrade"
      ],
      "text/plain": [
       "<IPython.core.display.HTML object>"
      ]
     },
     "metadata": {},
     "output_type": "display_data"
    },
    {
     "data": {
      "text/html": [
       "Tracking run with wandb version 0.14.0"
      ],
      "text/plain": [
       "<IPython.core.display.HTML object>"
      ]
     },
     "metadata": {},
     "output_type": "display_data"
    },
    {
     "data": {
      "text/html": [
       "Run data is saved locally in <code>Y:\\coskun-lab\\Thomas\\11_snowflakes\\notebooks\\wandb\\run-20230826_030309-kn6pwaex</code>"
      ],
      "text/plain": [
       "<IPython.core.display.HTML object>"
      ]
     },
     "metadata": {},
     "output_type": "display_data"
    },
    {
     "data": {
      "text/html": [
       "Syncing run <strong><a href='https://wandb.ai/thoomas/SF_082423_Covid/runs/kn6pwaex' target=\"_blank\">MLP_2_16_1_moprh</a></strong> to <a href='https://wandb.ai/thoomas/SF_082423_Covid' target=\"_blank\">Weights & Biases</a> (<a href='https://wandb.me/run' target=\"_blank\">docs</a>)<br/>"
      ],
      "text/plain": [
       "<IPython.core.display.HTML object>"
      ]
     },
     "metadata": {},
     "output_type": "display_data"
    },
    {
     "data": {
      "text/html": [
       " View project at <a href='https://wandb.ai/thoomas/SF_082423_Covid' target=\"_blank\">https://wandb.ai/thoomas/SF_082423_Covid</a>"
      ],
      "text/plain": [
       "<IPython.core.display.HTML object>"
      ]
     },
     "metadata": {},
     "output_type": "display_data"
    },
    {
     "data": {
      "text/html": [
       " View run at <a href='https://wandb.ai/thoomas/SF_082423_Covid/runs/kn6pwaex' target=\"_blank\">https://wandb.ai/thoomas/SF_082423_Covid/runs/kn6pwaex</a>"
      ],
      "text/plain": [
       "<IPython.core.display.HTML object>"
      ]
     },
     "metadata": {},
     "output_type": "display_data"
    },
    {
     "name": "stderr",
     "output_type": "stream",
     "text": [
      "INFO: Global seed set to 42\n",
      "INFO:lightning.fabric.utilities.seed:Global seed set to 42\n",
      "C:\\Users\\thu71\\Anaconda3\\envs\\snowflake\\lib\\site-packages\\pytorch_lightning\\loggers\\wandb.py:395: UserWarning: There is a wandb run already in progress and newly created instances of `WandbLogger` will reuse this run. If this is not desired, call `wandb.finish()` before instantiating `WandbLogger`.\n",
      "  rank_zero_warn(\n",
      "INFO: GPU available: True (cuda), used: True\n",
      "INFO:lightning.pytorch.utilities.rank_zero:GPU available: True (cuda), used: True\n",
      "INFO: TPU available: False, using: 0 TPU cores\n",
      "INFO:lightning.pytorch.utilities.rank_zero:TPU available: False, using: 0 TPU cores\n",
      "INFO: IPU available: False, using: 0 IPUs\n",
      "INFO:lightning.pytorch.utilities.rank_zero:IPU available: False, using: 0 IPUs\n",
      "INFO: HPU available: False, using: 0 HPUs\n",
      "INFO:lightning.pytorch.utilities.rank_zero:HPU available: False, using: 0 HPUs\n",
      "INFO: Global seed set to 42\n",
      "INFO:lightning.fabric.utilities.seed:Global seed set to 42\n",
      "C:\\Users\\thu71\\Anaconda3\\envs\\snowflake\\lib\\site-packages\\torch_geometric\\deprecation.py:12: UserWarning: 'nn.glob.GlobalAttention' is deprecated, use 'nn.aggr.AttentionalAggregation' instead\n",
      "  warnings.warn(out)\n",
      "INFO: LOCAL_RANK: 0 - CUDA_VISIBLE_DEVICES: [0,1]\n",
      "INFO:lightning.pytorch.accelerators.cuda:LOCAL_RANK: 0 - CUDA_VISIBLE_DEVICES: [0,1]\n",
      "INFO: \n",
      "   | Name           | Type             | Params\n",
      "-----------------------------------------------------\n",
      "0  | feat_embedding | Sequential       | 832   \n",
      "1  | model          | MLPModel         | 368   \n",
      "2  | head           | Sequential       | 562   \n",
      "3  | fnn_layer      | Linear           | 272   \n",
      "4  | selu           | SELU             | 0     \n",
      "5  | loss_module    | CrossEntropyLoss | 0     \n",
      "6  | train_acc      | BinaryAccuracy   | 0     \n",
      "7  | train_auroc    | BinaryAUROC      | 0     \n",
      "8  | train_f1       | BinaryF1Score    | 0     \n",
      "9  | valid_acc      | BinaryAccuracy   | 0     \n",
      "10 | valid_auroc    | BinaryAUROC      | 0     \n",
      "11 | valid_f1       | BinaryF1Score    | 0     \n",
      "12 | pool           | GlobalAttention  | 17    \n",
      "-----------------------------------------------------\n",
      "2.1 K     Trainable params\n",
      "0         Non-trainable params\n",
      "2.1 K     Total params\n",
      "0.008     Total estimated model params size (MB)\n",
      "INFO:lightning.pytorch.callbacks.model_summary:\n",
      "   | Name           | Type             | Params\n",
      "-----------------------------------------------------\n",
      "0  | feat_embedding | Sequential       | 832   \n",
      "1  | model          | MLPModel         | 368   \n",
      "2  | head           | Sequential       | 562   \n",
      "3  | fnn_layer      | Linear           | 272   \n",
      "4  | selu           | SELU             | 0     \n",
      "5  | loss_module    | CrossEntropyLoss | 0     \n",
      "6  | train_acc      | BinaryAccuracy   | 0     \n",
      "7  | train_auroc    | BinaryAUROC      | 0     \n",
      "8  | train_f1       | BinaryF1Score    | 0     \n",
      "9  | valid_acc      | BinaryAccuracy   | 0     \n",
      "10 | valid_auroc    | BinaryAUROC      | 0     \n",
      "11 | valid_f1       | BinaryF1Score    | 0     \n",
      "12 | pool           | GlobalAttention  | 17    \n",
      "-----------------------------------------------------\n",
      "2.1 K     Trainable params\n",
      "0         Non-trainable params\n",
      "2.1 K     Total params\n",
      "0.008     Total estimated model params size (MB)\n",
      "C:\\Users\\thu71\\AppData\\Roaming\\Python\\Python39\\site-packages\\lightning\\pytorch\\trainer\\connectors\\data_connector.py:478: PossibleUserWarning: Your `val_dataloader`'s sampler has shuffling enabled, it is strongly recommended that you turn shuffling off for val/test dataloaders.\n",
      "  rank_zero_warn(\n",
      "C:\\Users\\thu71\\AppData\\Roaming\\Python\\Python39\\site-packages\\lightning\\pytorch\\trainer\\connectors\\data_connector.py:430: PossibleUserWarning: The dataloader, val_dataloader, does not have many workers which may be a bottleneck. Consider increasing the value of the `num_workers` argument` (try 48 which is the number of cpus on this machine) in the `DataLoader` init to improve performance.\n",
      "  rank_zero_warn(\n"
     ]
    },
    {
     "name": "stdout",
     "output_type": "stream",
     "text": [
      "Training with Morphological features\n"
     ]
    },
    {
     "name": "stderr",
     "output_type": "stream",
     "text": [
      "C:\\Users\\thu71\\AppData\\Roaming\\Python\\Python39\\site-packages\\lightning\\pytorch\\trainer\\connectors\\data_connector.py:430: PossibleUserWarning: The dataloader, train_dataloader, does not have many workers which may be a bottleneck. Consider increasing the value of the `num_workers` argument` (try 48 which is the number of cpus on this machine) in the `DataLoader` init to improve performance.\n",
      "  rank_zero_warn(\n",
      "C:\\Users\\thu71\\AppData\\Roaming\\Python\\Python39\\site-packages\\lightning\\pytorch\\loops\\fit_loop.py:280: PossibleUserWarning: The number of training batches (3) is smaller than the logging interval Trainer(log_every_n_steps=10). Set a lower value for log_every_n_steps if you want to see logs for the training epoch.\n",
      "  rank_zero_warn(\n",
      "C:\\Users\\thu71\\Anaconda3\\envs\\snowflake\\lib\\site-packages\\torchmetrics\\utilities\\prints.py:36: UserWarning: No negative samples in targets, false positive value should be meaningless. Returning zero tensor in false positive score\n",
      "  warnings.warn(*args, **kwargs)\n",
      "C:\\Users\\thu71\\Anaconda3\\envs\\snowflake\\lib\\site-packages\\torchmetrics\\utilities\\prints.py:36: UserWarning: No negative samples in targets, false positive value should be meaningless. Returning zero tensor in false positive score\n",
      "  warnings.warn(*args, **kwargs)\n",
      "C:\\Users\\thu71\\Anaconda3\\envs\\snowflake\\lib\\site-packages\\torchmetrics\\utilities\\prints.py:36: UserWarning: No negative samples in targets, false positive value should be meaningless. Returning zero tensor in false positive score\n",
      "  warnings.warn(*args, **kwargs)\n",
      "C:\\Users\\thu71\\Anaconda3\\envs\\snowflake\\lib\\site-packages\\torchmetrics\\utilities\\prints.py:36: UserWarning: No negative samples in targets, false positive value should be meaningless. Returning zero tensor in false positive score\n",
      "  warnings.warn(*args, **kwargs)\n",
      "C:\\Users\\thu71\\Anaconda3\\envs\\snowflake\\lib\\site-packages\\torchmetrics\\utilities\\prints.py:36: UserWarning: No negative samples in targets, false positive value should be meaningless. Returning zero tensor in false positive score\n",
      "  warnings.warn(*args, **kwargs)\n",
      "C:\\Users\\thu71\\Anaconda3\\envs\\snowflake\\lib\\site-packages\\torchmetrics\\utilities\\prints.py:36: UserWarning: No positive samples in targets, true positive value should be meaningless. Returning zero tensor in true positive score\n",
      "  warnings.warn(*args, **kwargs)\n",
      "C:\\Users\\thu71\\Anaconda3\\envs\\snowflake\\lib\\site-packages\\torchmetrics\\utilities\\prints.py:36: UserWarning: No negative samples in targets, false positive value should be meaningless. Returning zero tensor in false positive score\n",
      "  warnings.warn(*args, **kwargs)\n",
      "C:\\Users\\thu71\\Anaconda3\\envs\\snowflake\\lib\\site-packages\\torchmetrics\\utilities\\prints.py:36: UserWarning: No negative samples in targets, false positive value should be meaningless. Returning zero tensor in false positive score\n",
      "  warnings.warn(*args, **kwargs)\n",
      "C:\\Users\\thu71\\Anaconda3\\envs\\snowflake\\lib\\site-packages\\torchmetrics\\utilities\\prints.py:36: UserWarning: No negative samples in targets, false positive value should be meaningless. Returning zero tensor in false positive score\n",
      "  warnings.warn(*args, **kwargs)\n",
      "INFO: `Trainer.fit` stopped: `max_epochs=100` reached.\n",
      "INFO:lightning.pytorch.utilities.rank_zero:`Trainer.fit` stopped: `max_epochs=100` reached.\n"
     ]
    },
    {
     "data": {
      "text/html": [
       "Waiting for W&B process to finish... <strong style=\"color:green\">(success).</strong>"
      ],
      "text/plain": [
       "<IPython.core.display.HTML object>"
      ]
     },
     "metadata": {},
     "output_type": "display_data"
    },
    {
     "data": {
      "application/vnd.jupyter.widget-view+json": {
       "model_id": "bc3316121dab4d31b44bb0e90fbe6025",
       "version_major": 2,
       "version_minor": 0
      },
      "text/plain": [
       "VBox(children=(Label(value='0.001 MB of 0.001 MB uploaded (0.000 MB deduped)\\r'), FloatProgress(value=1.0, max…"
      ]
     },
     "metadata": {},
     "output_type": "display_data"
    },
    {
     "data": {
      "text/html": [
       "<style>\n",
       "    table.wandb td:nth-child(1) { padding: 0 10px; text-align: left ; width: auto;} td:nth-child(2) {text-align: left ; width: 100%}\n",
       "    .wandb-row { display: flex; flex-direction: row; flex-wrap: wrap; justify-content: flex-start; width: 100% }\n",
       "    .wandb-col { display: flex; flex-direction: column; flex-basis: 100%; flex: 1; padding: 10px; }\n",
       "    </style>\n",
       "<div class=\"wandb-row\"><div class=\"wandb-col\"><h3>Run history:</h3><br/><table class=\"wandb\"><tr><td>epoch</td><td>▁▁▁▁▂▂▂▂▂▃▃▃▃▃▃▄▄▄▄▄▅▅▅▅▅▆▆▆▆▆▆▇▇▇▇▇████</td></tr><tr><td>lr-Adam</td><td>▁▁▁▁▁▁▁▁▁▁▁▁▁▁▁▁▁▁▁▁▁▁▁▁▁▁▁▁▁▁▁▁▁▁▁▁▁▁▁▁</td></tr><tr><td>train_acc</td><td>▂▁▁▂▂▃▃▅▄▄▄▄▅▅▄▅▅▅▅▅▅▇▆▇▇▇██▅▆▇▆█▇█▇▆██▇</td></tr><tr><td>train_auc</td><td>▁▂▁▃▃▃▄▅▄▄▅▄▄▅▄▅▅▅▆▆▇▇▇▇▇▇██▆▇▇▇█▇██▇███</td></tr><tr><td>train_f1</td><td>▁▂▁▂▂▂▃▄▄▃▄▂▅▅▄▄▅▄▅▄▅▇▆▇▇▇█▇▁▆▆▆▇▇▇▇▅██▇</td></tr><tr><td>train_loss_epoch</td><td>███▇▇▇▇▅▆▅▅▆▅▅▅▄▅▅▄▄▄▂▃▂▂▂▁▁▅▂▂▃▁▂▁▂▃▁▁▂</td></tr><tr><td>train_loss_step</td><td>██▇█▇█▅▅▅▅▅▆▅▄▄▃▄▃▃▃▄▃▃▁▂▃▂▂▂▄</td></tr><tr><td>trainer/global_step</td><td>▁▁▁▂▁▂▂▂▃▃▃▃▃▃▄▄▄▄▅▃▄▄▅▅▆▄▄▄▆▇▇▅▅▅███▆▆▆</td></tr><tr><td>val_acc</td><td>▁▁▁▁▁▃▁▁▂▂▂▂▂▁▂▂▂▃▃▃▄▆▇█▇▇▅▇▆█▇▆▅▅▆█▆█▆▆</td></tr><tr><td>val_auc</td><td>▁▃▄▅▅▅▅▅▅▅▅▆▆▆▆▆▇▇▇▇▇███████████████████</td></tr><tr><td>val_f1</td><td>▂▂▂▂▂▃▂▂▃▂▃▃▃▂▃▃▃▃▃▃▄▆▇█▇▆▂▅▃█▅▅▁▁▄█▅█▃▅</td></tr><tr><td>val_loss_epoch</td><td>▅▅▅▅▅▄▄▇▄▃▅▆█▅▆▅▄▄▆▅▃▃▂▂▁▂▃▃▃▃▂▄▆▅▂▁▃▂▃▁</td></tr><tr><td>val_loss_step</td><td>▄▅▄▅▄▃▃▆▃▁▄▅█▄▆▄▃▄▆▅▃▃▃▂▁▂▃▃▃▄▂▄▆▆▁▂▃▂▄▁</td></tr></table><br/></div><div class=\"wandb-col\"><h3>Run summary:</h3><br/><table class=\"wandb\"><tr><td>epoch</td><td>99</td></tr><tr><td>lr-Adam</td><td>0.005</td></tr><tr><td>train_acc</td><td>0.81553</td></tr><tr><td>train_auc</td><td>0.88561</td></tr><tr><td>train_f1</td><td>0.848</td></tr><tr><td>train_loss_epoch</td><td>0.48991</td></tr><tr><td>train_loss_step</td><td>0.53295</td></tr><tr><td>trainer/global_step</td><td>299</td></tr><tr><td>val_acc</td><td>0.81203</td></tr><tr><td>val_auc</td><td>0.93375</td></tr><tr><td>val_f1</td><td>0.81752</td></tr><tr><td>val_loss_epoch</td><td>0.42721</td></tr><tr><td>val_loss_step</td><td>0.37147</td></tr></table><br/></div></div>"
      ],
      "text/plain": [
       "<IPython.core.display.HTML object>"
      ]
     },
     "metadata": {},
     "output_type": "display_data"
    },
    {
     "data": {
      "text/html": [
       " View run <strong style=\"color:#cdcd00\">MLP_2_16_1_moprh</strong> at: <a href='https://wandb.ai/thoomas/SF_082423_Covid/runs/kn6pwaex' target=\"_blank\">https://wandb.ai/thoomas/SF_082423_Covid/runs/kn6pwaex</a><br/>Synced 5 W&B file(s), 0 media file(s), 0 artifact file(s) and 0 other file(s)"
      ],
      "text/plain": [
       "<IPython.core.display.HTML object>"
      ]
     },
     "metadata": {},
     "output_type": "display_data"
    },
    {
     "data": {
      "text/html": [
       "Find logs at: <code>.\\wandb\\run-20230826_030309-kn6pwaex\\logs</code>"
      ],
      "text/plain": [
       "<IPython.core.display.HTML object>"
      ]
     },
     "metadata": {},
     "output_type": "display_data"
    },
    {
     "data": {
      "application/vnd.jupyter.widget-view+json": {
       "model_id": "2f72258eeb764ba19bb8c6ad33553d8b",
       "version_major": 2,
       "version_minor": 0
      },
      "text/plain": [
       "VBox(children=(Label(value='Waiting for wandb.init()...\\r'), FloatProgress(value=0.016916666666899498, max=1.0…"
      ]
     },
     "metadata": {},
     "output_type": "display_data"
    },
    {
     "data": {
      "text/html": [
       "wandb version 0.15.8 is available!  To upgrade, please run:\n",
       " $ pip install wandb --upgrade"
      ],
      "text/plain": [
       "<IPython.core.display.HTML object>"
      ]
     },
     "metadata": {},
     "output_type": "display_data"
    },
    {
     "data": {
      "text/html": [
       "Tracking run with wandb version 0.14.0"
      ],
      "text/plain": [
       "<IPython.core.display.HTML object>"
      ]
     },
     "metadata": {},
     "output_type": "display_data"
    },
    {
     "data": {
      "text/html": [
       "Run data is saved locally in <code>Y:\\coskun-lab\\Thomas\\11_snowflakes\\notebooks\\wandb\\run-20230826_034218-dxfz3qgv</code>"
      ],
      "text/plain": [
       "<IPython.core.display.HTML object>"
      ]
     },
     "metadata": {},
     "output_type": "display_data"
    },
    {
     "data": {
      "text/html": [
       "Syncing run <strong><a href='https://wandb.ai/thoomas/SF_082423_Covid/runs/dxfz3qgv' target=\"_blank\">MLP_2_16_1_moprh</a></strong> to <a href='https://wandb.ai/thoomas/SF_082423_Covid' target=\"_blank\">Weights & Biases</a> (<a href='https://wandb.me/run' target=\"_blank\">docs</a>)<br/>"
      ],
      "text/plain": [
       "<IPython.core.display.HTML object>"
      ]
     },
     "metadata": {},
     "output_type": "display_data"
    },
    {
     "data": {
      "text/html": [
       " View project at <a href='https://wandb.ai/thoomas/SF_082423_Covid' target=\"_blank\">https://wandb.ai/thoomas/SF_082423_Covid</a>"
      ],
      "text/plain": [
       "<IPython.core.display.HTML object>"
      ]
     },
     "metadata": {},
     "output_type": "display_data"
    },
    {
     "data": {
      "text/html": [
       " View run at <a href='https://wandb.ai/thoomas/SF_082423_Covid/runs/dxfz3qgv' target=\"_blank\">https://wandb.ai/thoomas/SF_082423_Covid/runs/dxfz3qgv</a>"
      ],
      "text/plain": [
       "<IPython.core.display.HTML object>"
      ]
     },
     "metadata": {},
     "output_type": "display_data"
    },
    {
     "name": "stderr",
     "output_type": "stream",
     "text": [
      "INFO: Global seed set to 42\n",
      "INFO:lightning.fabric.utilities.seed:Global seed set to 42\n",
      "C:\\Users\\thu71\\Anaconda3\\envs\\snowflake\\lib\\site-packages\\pytorch_lightning\\loggers\\wandb.py:395: UserWarning: There is a wandb run already in progress and newly created instances of `WandbLogger` will reuse this run. If this is not desired, call `wandb.finish()` before instantiating `WandbLogger`.\n",
      "  rank_zero_warn(\n",
      "INFO: GPU available: True (cuda), used: True\n",
      "INFO:lightning.pytorch.utilities.rank_zero:GPU available: True (cuda), used: True\n",
      "INFO: TPU available: False, using: 0 TPU cores\n",
      "INFO:lightning.pytorch.utilities.rank_zero:TPU available: False, using: 0 TPU cores\n",
      "INFO: IPU available: False, using: 0 IPUs\n",
      "INFO:lightning.pytorch.utilities.rank_zero:IPU available: False, using: 0 IPUs\n",
      "INFO: HPU available: False, using: 0 HPUs\n",
      "INFO:lightning.pytorch.utilities.rank_zero:HPU available: False, using: 0 HPUs\n",
      "INFO: Global seed set to 42\n",
      "INFO:lightning.fabric.utilities.seed:Global seed set to 42\n",
      "INFO: LOCAL_RANK: 0 - CUDA_VISIBLE_DEVICES: [0,1]\n",
      "INFO:lightning.pytorch.accelerators.cuda:LOCAL_RANK: 0 - CUDA_VISIBLE_DEVICES: [0,1]\n",
      "INFO: \n",
      "   | Name           | Type             | Params\n",
      "-----------------------------------------------------\n",
      "0  | feat_embedding | Sequential       | 832   \n",
      "1  | model          | MLPModel         | 368   \n",
      "2  | head           | Sequential       | 562   \n",
      "3  | fnn_layer      | Linear           | 272   \n",
      "4  | selu           | SELU             | 0     \n",
      "5  | loss_module    | CrossEntropyLoss | 0     \n",
      "6  | train_acc      | BinaryAccuracy   | 0     \n",
      "7  | train_auroc    | BinaryAUROC      | 0     \n",
      "8  | train_f1       | BinaryF1Score    | 0     \n",
      "9  | valid_acc      | BinaryAccuracy   | 0     \n",
      "10 | valid_auroc    | BinaryAUROC      | 0     \n",
      "11 | valid_f1       | BinaryF1Score    | 0     \n",
      "12 | pool           | Attention_module | 281   \n",
      "-----------------------------------------------------\n",
      "2.3 K     Trainable params\n",
      "0         Non-trainable params\n",
      "2.3 K     Total params\n",
      "0.009     Total estimated model params size (MB)\n",
      "INFO:lightning.pytorch.callbacks.model_summary:\n",
      "   | Name           | Type             | Params\n",
      "-----------------------------------------------------\n",
      "0  | feat_embedding | Sequential       | 832   \n",
      "1  | model          | MLPModel         | 368   \n",
      "2  | head           | Sequential       | 562   \n",
      "3  | fnn_layer      | Linear           | 272   \n",
      "4  | selu           | SELU             | 0     \n",
      "5  | loss_module    | CrossEntropyLoss | 0     \n",
      "6  | train_acc      | BinaryAccuracy   | 0     \n",
      "7  | train_auroc    | BinaryAUROC      | 0     \n",
      "8  | train_f1       | BinaryF1Score    | 0     \n",
      "9  | valid_acc      | BinaryAccuracy   | 0     \n",
      "10 | valid_auroc    | BinaryAUROC      | 0     \n",
      "11 | valid_f1       | BinaryF1Score    | 0     \n",
      "12 | pool           | Attention_module | 281   \n",
      "-----------------------------------------------------\n",
      "2.3 K     Trainable params\n",
      "0         Non-trainable params\n",
      "2.3 K     Total params\n",
      "0.009     Total estimated model params size (MB)\n"
     ]
    },
    {
     "name": "stdout",
     "output_type": "stream",
     "text": [
      "Training with Morphological features\n"
     ]
    },
    {
     "name": "stderr",
     "output_type": "stream",
     "text": [
      "C:\\Users\\thu71\\AppData\\Roaming\\Python\\Python39\\site-packages\\lightning\\pytorch\\trainer\\connectors\\data_connector.py:478: PossibleUserWarning: Your `val_dataloader`'s sampler has shuffling enabled, it is strongly recommended that you turn shuffling off for val/test dataloaders.\n",
      "  rank_zero_warn(\n",
      "C:\\Users\\thu71\\AppData\\Roaming\\Python\\Python39\\site-packages\\lightning\\pytorch\\trainer\\connectors\\data_connector.py:430: PossibleUserWarning: The dataloader, val_dataloader, does not have many workers which may be a bottleneck. Consider increasing the value of the `num_workers` argument` (try 48 which is the number of cpus on this machine) in the `DataLoader` init to improve performance.\n",
      "  rank_zero_warn(\n",
      "C:\\Users\\thu71\\AppData\\Roaming\\Python\\Python39\\site-packages\\lightning\\pytorch\\trainer\\connectors\\data_connector.py:430: PossibleUserWarning: The dataloader, train_dataloader, does not have many workers which may be a bottleneck. Consider increasing the value of the `num_workers` argument` (try 48 which is the number of cpus on this machine) in the `DataLoader` init to improve performance.\n",
      "  rank_zero_warn(\n",
      "C:\\Users\\thu71\\AppData\\Roaming\\Python\\Python39\\site-packages\\lightning\\pytorch\\loops\\fit_loop.py:280: PossibleUserWarning: The number of training batches (3) is smaller than the logging interval Trainer(log_every_n_steps=10). Set a lower value for log_every_n_steps if you want to see logs for the training epoch.\n",
      "  rank_zero_warn(\n",
      "C:\\Users\\thu71\\Anaconda3\\envs\\snowflake\\lib\\site-packages\\torchmetrics\\utilities\\prints.py:36: UserWarning: No positive samples in targets, true positive value should be meaningless. Returning zero tensor in true positive score\n",
      "  warnings.warn(*args, **kwargs)\n",
      "C:\\Users\\thu71\\Anaconda3\\envs\\snowflake\\lib\\site-packages\\torchmetrics\\utilities\\prints.py:36: UserWarning: No negative samples in targets, false positive value should be meaningless. Returning zero tensor in false positive score\n",
      "  warnings.warn(*args, **kwargs)\n",
      "C:\\Users\\thu71\\Anaconda3\\envs\\snowflake\\lib\\site-packages\\torchmetrics\\utilities\\prints.py:36: UserWarning: No negative samples in targets, false positive value should be meaningless. Returning zero tensor in false positive score\n",
      "  warnings.warn(*args, **kwargs)\n",
      "C:\\Users\\thu71\\Anaconda3\\envs\\snowflake\\lib\\site-packages\\torchmetrics\\utilities\\prints.py:36: UserWarning: No negative samples in targets, false positive value should be meaningless. Returning zero tensor in false positive score\n",
      "  warnings.warn(*args, **kwargs)\n",
      "C:\\Users\\thu71\\Anaconda3\\envs\\snowflake\\lib\\site-packages\\torchmetrics\\utilities\\prints.py:36: UserWarning: No negative samples in targets, false positive value should be meaningless. Returning zero tensor in false positive score\n",
      "  warnings.warn(*args, **kwargs)\n",
      "C:\\Users\\thu71\\Anaconda3\\envs\\snowflake\\lib\\site-packages\\torchmetrics\\utilities\\prints.py:36: UserWarning: No negative samples in targets, false positive value should be meaningless. Returning zero tensor in false positive score\n",
      "  warnings.warn(*args, **kwargs)\n",
      "C:\\Users\\thu71\\Anaconda3\\envs\\snowflake\\lib\\site-packages\\torchmetrics\\utilities\\prints.py:36: UserWarning: No negative samples in targets, false positive value should be meaningless. Returning zero tensor in false positive score\n",
      "  warnings.warn(*args, **kwargs)\n",
      "C:\\Users\\thu71\\Anaconda3\\envs\\snowflake\\lib\\site-packages\\torchmetrics\\utilities\\prints.py:36: UserWarning: No negative samples in targets, false positive value should be meaningless. Returning zero tensor in false positive score\n",
      "  warnings.warn(*args, **kwargs)\n",
      "C:\\Users\\thu71\\Anaconda3\\envs\\snowflake\\lib\\site-packages\\torchmetrics\\utilities\\prints.py:36: UserWarning: No positive samples in targets, true positive value should be meaningless. Returning zero tensor in true positive score\n",
      "  warnings.warn(*args, **kwargs)\n",
      "C:\\Users\\thu71\\Anaconda3\\envs\\snowflake\\lib\\site-packages\\torchmetrics\\utilities\\prints.py:36: UserWarning: No negative samples in targets, false positive value should be meaningless. Returning zero tensor in false positive score\n",
      "  warnings.warn(*args, **kwargs)\n",
      "C:\\Users\\thu71\\Anaconda3\\envs\\snowflake\\lib\\site-packages\\torchmetrics\\utilities\\prints.py:36: UserWarning: No negative samples in targets, false positive value should be meaningless. Returning zero tensor in false positive score\n",
      "  warnings.warn(*args, **kwargs)\n",
      "INFO: `Trainer.fit` stopped: `max_epochs=100` reached.\n",
      "INFO:lightning.pytorch.utilities.rank_zero:`Trainer.fit` stopped: `max_epochs=100` reached.\n"
     ]
    },
    {
     "data": {
      "text/html": [
       "Waiting for W&B process to finish... <strong style=\"color:green\">(success).</strong>"
      ],
      "text/plain": [
       "<IPython.core.display.HTML object>"
      ]
     },
     "metadata": {},
     "output_type": "display_data"
    },
    {
     "data": {
      "application/vnd.jupyter.widget-view+json": {
       "model_id": "900bd96c7f784b2498c3daa347abe8b4",
       "version_major": 2,
       "version_minor": 0
      },
      "text/plain": [
       "VBox(children=(Label(value='0.001 MB of 0.001 MB uploaded (0.000 MB deduped)\\r'), FloatProgress(value=1.0, max…"
      ]
     },
     "metadata": {},
     "output_type": "display_data"
    },
    {
     "data": {
      "text/html": [
       "<style>\n",
       "    table.wandb td:nth-child(1) { padding: 0 10px; text-align: left ; width: auto;} td:nth-child(2) {text-align: left ; width: 100%}\n",
       "    .wandb-row { display: flex; flex-direction: row; flex-wrap: wrap; justify-content: flex-start; width: 100% }\n",
       "    .wandb-col { display: flex; flex-direction: column; flex-basis: 100%; flex: 1; padding: 10px; }\n",
       "    </style>\n",
       "<div class=\"wandb-row\"><div class=\"wandb-col\"><h3>Run history:</h3><br/><table class=\"wandb\"><tr><td>epoch</td><td>▁▁▁▁▂▂▂▂▂▃▃▃▃▃▃▄▄▄▄▄▅▅▅▅▅▆▆▆▆▆▆▇▇▇▇▇████</td></tr><tr><td>lr-Adam</td><td>▁▁▁▁▁▁▁▁▁▁▁▁▁▁▁▁▁▁▁▁▁▁▁▁▁▁▁▁▁▁▁▁▁▁▁▁▁▁▁▁</td></tr><tr><td>train_acc</td><td>▁▂▂▂▃▂▄▃▄▄▄▄▅▄▅▅▆▅▅▆▇▇▆▇▇▇▇█▇█▇▆▇███▇█▇█</td></tr><tr><td>train_auc</td><td>▁▂▃▂▃▃▄▄▅▅▅▅▅▅▅▅▅▅▆▆▆▆▇▇▇▇█▇▇█▇█████████</td></tr><tr><td>train_f1</td><td>▁▂▂▂▃▂▃▂▄▃▄▄▄▄▄▅▅▄▅▆▆▆▆▇▆▆▇▇▇█▇▅▇▇██▇█▇▇</td></tr><tr><td>train_loss_epoch</td><td>█████▇▇▇▆▆▆▅▆▆▅▄▅▅▄▄▃▄▃▂▃▂▂▂▂▁▃▃▂▂▁▁▁▁▂▁</td></tr><tr><td>train_loss_step</td><td>███▇▇▇▅▅▆▅▆▄▆▅▃▄▄▄▃▃▃▃▄▃▃▄▃▃▄▁</td></tr><tr><td>trainer/global_step</td><td>▁▁▁▂▁▂▂▂▃▃▃▃▃▃▄▄▄▄▅▃▄▄▅▅▆▄▄▄▆▇▇▅▅▅███▆▆▆</td></tr><tr><td>val_acc</td><td>▁▁▁▁▄▅▃▅▄▄▄▄▅▄▅▆▄▅▆▆▇▇▇▇▇▇▇▇▇█▆▇██▇▇██▇▇</td></tr><tr><td>val_auc</td><td>▁▃▄▅▅▅▅▅▆▆▆▆▆▆▆▇▇▇▇▇▇▇▇▇████████████████</td></tr><tr><td>val_f1</td><td>▁▁▁▁▃▄▂▅▄▃▄▄▅▄▄▅▄▅▅▆▇▇▇▇▇▇▇▇▇█▅▆█▇▇▇▇█▇▇</td></tr><tr><td>val_loss_epoch</td><td>█▇█▇▇▇█▇▃▃▇▃▇▅▃▃▇▆▆▅▄▃▃▂▃▁▃▃▃▆▃▂▁▁▄▁▂▁▄▅</td></tr><tr><td>val_loss_step</td><td>▇▆▇▆▆▇█▇▁▁█▂█▄▁▂▇▇▇▆▅▃▄▂▄▁▃▃▄█▂▂▁▁▆▁▂▁▄▆</td></tr></table><br/></div><div class=\"wandb-col\"><h3>Run summary:</h3><br/><table class=\"wandb\"><tr><td>epoch</td><td>99</td></tr><tr><td>lr-Adam</td><td>0.005</td></tr><tr><td>train_acc</td><td>0.85437</td></tr><tr><td>train_auc</td><td>0.89948</td></tr><tr><td>train_f1</td><td>0.87936</td></tr><tr><td>train_loss_epoch</td><td>0.44181</td></tr><tr><td>train_loss_step</td><td>0.37996</td></tr><tr><td>trainer/global_step</td><td>299</td></tr><tr><td>val_acc</td><td>0.82707</td></tr><tr><td>val_auc</td><td>0.91043</td></tr><tr><td>val_f1</td><td>0.86391</td></tr><tr><td>val_loss_epoch</td><td>0.56304</td></tr><tr><td>val_loss_step</td><td>0.6553</td></tr></table><br/></div></div>"
      ],
      "text/plain": [
       "<IPython.core.display.HTML object>"
      ]
     },
     "metadata": {},
     "output_type": "display_data"
    },
    {
     "data": {
      "text/html": [
       " View run <strong style=\"color:#cdcd00\">MLP_2_16_1_moprh</strong> at: <a href='https://wandb.ai/thoomas/SF_082423_Covid/runs/dxfz3qgv' target=\"_blank\">https://wandb.ai/thoomas/SF_082423_Covid/runs/dxfz3qgv</a><br/>Synced 5 W&B file(s), 0 media file(s), 0 artifact file(s) and 0 other file(s)"
      ],
      "text/plain": [
       "<IPython.core.display.HTML object>"
      ]
     },
     "metadata": {},
     "output_type": "display_data"
    },
    {
     "data": {
      "text/html": [
       "Find logs at: <code>.\\wandb\\run-20230826_034218-dxfz3qgv\\logs</code>"
      ],
      "text/plain": [
       "<IPython.core.display.HTML object>"
      ]
     },
     "metadata": {},
     "output_type": "display_data"
    },
    {
     "data": {
      "application/vnd.jupyter.widget-view+json": {
       "model_id": "44c475afb4e5407a877d62ebb9bf836b",
       "version_major": 2,
       "version_minor": 0
      },
      "text/plain": [
       "VBox(children=(Label(value='Waiting for wandb.init()...\\r'), FloatProgress(value=0.016916666666899498, max=1.0…"
      ]
     },
     "metadata": {},
     "output_type": "display_data"
    },
    {
     "data": {
      "text/html": [
       "wandb version 0.15.8 is available!  To upgrade, please run:\n",
       " $ pip install wandb --upgrade"
      ],
      "text/plain": [
       "<IPython.core.display.HTML object>"
      ]
     },
     "metadata": {},
     "output_type": "display_data"
    },
    {
     "data": {
      "text/html": [
       "Tracking run with wandb version 0.14.0"
      ],
      "text/plain": [
       "<IPython.core.display.HTML object>"
      ]
     },
     "metadata": {},
     "output_type": "display_data"
    },
    {
     "data": {
      "text/html": [
       "Run data is saved locally in <code>Y:\\coskun-lab\\Thomas\\11_snowflakes\\notebooks\\wandb\\run-20230826_042027-a6ibwqij</code>"
      ],
      "text/plain": [
       "<IPython.core.display.HTML object>"
      ]
     },
     "metadata": {},
     "output_type": "display_data"
    },
    {
     "data": {
      "text/html": [
       "Syncing run <strong><a href='https://wandb.ai/thoomas/SF_082423_Covid/runs/a6ibwqij' target=\"_blank\">MLP_2_16_2_moprh</a></strong> to <a href='https://wandb.ai/thoomas/SF_082423_Covid' target=\"_blank\">Weights & Biases</a> (<a href='https://wandb.me/run' target=\"_blank\">docs</a>)<br/>"
      ],
      "text/plain": [
       "<IPython.core.display.HTML object>"
      ]
     },
     "metadata": {},
     "output_type": "display_data"
    },
    {
     "data": {
      "text/html": [
       " View project at <a href='https://wandb.ai/thoomas/SF_082423_Covid' target=\"_blank\">https://wandb.ai/thoomas/SF_082423_Covid</a>"
      ],
      "text/plain": [
       "<IPython.core.display.HTML object>"
      ]
     },
     "metadata": {},
     "output_type": "display_data"
    },
    {
     "data": {
      "text/html": [
       " View run at <a href='https://wandb.ai/thoomas/SF_082423_Covid/runs/a6ibwqij' target=\"_blank\">https://wandb.ai/thoomas/SF_082423_Covid/runs/a6ibwqij</a>"
      ],
      "text/plain": [
       "<IPython.core.display.HTML object>"
      ]
     },
     "metadata": {},
     "output_type": "display_data"
    },
    {
     "name": "stderr",
     "output_type": "stream",
     "text": [
      "INFO: Global seed set to 42\n",
      "INFO:lightning.fabric.utilities.seed:Global seed set to 42\n",
      "C:\\Users\\thu71\\Anaconda3\\envs\\snowflake\\lib\\site-packages\\pytorch_lightning\\loggers\\wandb.py:395: UserWarning: There is a wandb run already in progress and newly created instances of `WandbLogger` will reuse this run. If this is not desired, call `wandb.finish()` before instantiating `WandbLogger`.\n",
      "  rank_zero_warn(\n",
      "INFO: GPU available: True (cuda), used: True\n",
      "INFO:lightning.pytorch.utilities.rank_zero:GPU available: True (cuda), used: True\n",
      "INFO: TPU available: False, using: 0 TPU cores\n",
      "INFO:lightning.pytorch.utilities.rank_zero:TPU available: False, using: 0 TPU cores\n",
      "INFO: IPU available: False, using: 0 IPUs\n",
      "INFO:lightning.pytorch.utilities.rank_zero:IPU available: False, using: 0 IPUs\n",
      "INFO: HPU available: False, using: 0 HPUs\n",
      "INFO:lightning.pytorch.utilities.rank_zero:HPU available: False, using: 0 HPUs\n",
      "INFO: Global seed set to 42\n",
      "INFO:lightning.fabric.utilities.seed:Global seed set to 42\n",
      "INFO: LOCAL_RANK: 0 - CUDA_VISIBLE_DEVICES: [0,1]\n",
      "INFO:lightning.pytorch.accelerators.cuda:LOCAL_RANK: 0 - CUDA_VISIBLE_DEVICES: [0,1]\n",
      "INFO: \n",
      "   | Name           | Type             | Params\n",
      "-----------------------------------------------------\n",
      "0  | feat_embedding | Sequential       | 832   \n",
      "1  | model          | MLPModel         | 368   \n",
      "2  | head           | Sequential       | 562   \n",
      "3  | fnn_layer      | Linear           | 272   \n",
      "4  | selu           | SELU             | 0     \n",
      "5  | loss_module    | CrossEntropyLoss | 0     \n",
      "6  | train_acc      | BinaryAccuracy   | 0     \n",
      "7  | train_auroc    | BinaryAUROC      | 0     \n",
      "8  | train_f1       | BinaryF1Score    | 0     \n",
      "9  | valid_acc      | BinaryAccuracy   | 0     \n",
      "10 | valid_auroc    | BinaryAUROC      | 0     \n",
      "11 | valid_f1       | BinaryF1Score    | 0     \n",
      "-----------------------------------------------------\n",
      "2.0 K     Trainable params\n",
      "0         Non-trainable params\n",
      "2.0 K     Total params\n",
      "0.008     Total estimated model params size (MB)\n",
      "INFO:lightning.pytorch.callbacks.model_summary:\n",
      "   | Name           | Type             | Params\n",
      "-----------------------------------------------------\n",
      "0  | feat_embedding | Sequential       | 832   \n",
      "1  | model          | MLPModel         | 368   \n",
      "2  | head           | Sequential       | 562   \n",
      "3  | fnn_layer      | Linear           | 272   \n",
      "4  | selu           | SELU             | 0     \n",
      "5  | loss_module    | CrossEntropyLoss | 0     \n",
      "6  | train_acc      | BinaryAccuracy   | 0     \n",
      "7  | train_auroc    | BinaryAUROC      | 0     \n",
      "8  | train_f1       | BinaryF1Score    | 0     \n",
      "9  | valid_acc      | BinaryAccuracy   | 0     \n",
      "10 | valid_auroc    | BinaryAUROC      | 0     \n",
      "11 | valid_f1       | BinaryF1Score    | 0     \n",
      "-----------------------------------------------------\n",
      "2.0 K     Trainable params\n",
      "0         Non-trainable params\n",
      "2.0 K     Total params\n",
      "0.008     Total estimated model params size (MB)\n",
      "C:\\Users\\thu71\\AppData\\Roaming\\Python\\Python39\\site-packages\\lightning\\pytorch\\trainer\\connectors\\data_connector.py:478: PossibleUserWarning: Your `val_dataloader`'s sampler has shuffling enabled, it is strongly recommended that you turn shuffling off for val/test dataloaders.\n",
      "  rank_zero_warn(\n",
      "C:\\Users\\thu71\\AppData\\Roaming\\Python\\Python39\\site-packages\\lightning\\pytorch\\trainer\\connectors\\data_connector.py:430: PossibleUserWarning: The dataloader, val_dataloader, does not have many workers which may be a bottleneck. Consider increasing the value of the `num_workers` argument` (try 48 which is the number of cpus on this machine) in the `DataLoader` init to improve performance.\n",
      "  rank_zero_warn(\n"
     ]
    },
    {
     "name": "stdout",
     "output_type": "stream",
     "text": [
      "Training with Morphological features\n"
     ]
    },
    {
     "name": "stderr",
     "output_type": "stream",
     "text": [
      "C:\\Users\\thu71\\AppData\\Roaming\\Python\\Python39\\site-packages\\lightning\\pytorch\\trainer\\connectors\\data_connector.py:430: PossibleUserWarning: The dataloader, train_dataloader, does not have many workers which may be a bottleneck. Consider increasing the value of the `num_workers` argument` (try 48 which is the number of cpus on this machine) in the `DataLoader` init to improve performance.\n",
      "  rank_zero_warn(\n",
      "C:\\Users\\thu71\\AppData\\Roaming\\Python\\Python39\\site-packages\\lightning\\pytorch\\loops\\fit_loop.py:280: PossibleUserWarning: The number of training batches (3) is smaller than the logging interval Trainer(log_every_n_steps=10). Set a lower value for log_every_n_steps if you want to see logs for the training epoch.\n",
      "  rank_zero_warn(\n",
      "C:\\Users\\thu71\\Anaconda3\\envs\\snowflake\\lib\\site-packages\\torchmetrics\\utilities\\prints.py:36: UserWarning: No negative samples in targets, false positive value should be meaningless. Returning zero tensor in false positive score\n",
      "  warnings.warn(*args, **kwargs)\n",
      "C:\\Users\\thu71\\Anaconda3\\envs\\snowflake\\lib\\site-packages\\torchmetrics\\utilities\\prints.py:36: UserWarning: No negative samples in targets, false positive value should be meaningless. Returning zero tensor in false positive score\n",
      "  warnings.warn(*args, **kwargs)\n",
      "C:\\Users\\thu71\\Anaconda3\\envs\\snowflake\\lib\\site-packages\\torchmetrics\\utilities\\prints.py:36: UserWarning: No negative samples in targets, false positive value should be meaningless. Returning zero tensor in false positive score\n",
      "  warnings.warn(*args, **kwargs)\n",
      "C:\\Users\\thu71\\Anaconda3\\envs\\snowflake\\lib\\site-packages\\torchmetrics\\utilities\\prints.py:36: UserWarning: No negative samples in targets, false positive value should be meaningless. Returning zero tensor in false positive score\n",
      "  warnings.warn(*args, **kwargs)\n",
      "C:\\Users\\thu71\\Anaconda3\\envs\\snowflake\\lib\\site-packages\\torchmetrics\\utilities\\prints.py:36: UserWarning: No negative samples in targets, false positive value should be meaningless. Returning zero tensor in false positive score\n",
      "  warnings.warn(*args, **kwargs)\n",
      "C:\\Users\\thu71\\Anaconda3\\envs\\snowflake\\lib\\site-packages\\torchmetrics\\utilities\\prints.py:36: UserWarning: No negative samples in targets, false positive value should be meaningless. Returning zero tensor in false positive score\n",
      "  warnings.warn(*args, **kwargs)\n",
      "INFO: `Trainer.fit` stopped: `max_epochs=100` reached.\n",
      "INFO:lightning.pytorch.utilities.rank_zero:`Trainer.fit` stopped: `max_epochs=100` reached.\n"
     ]
    },
    {
     "data": {
      "text/html": [
       "Waiting for W&B process to finish... <strong style=\"color:green\">(success).</strong>"
      ],
      "text/plain": [
       "<IPython.core.display.HTML object>"
      ]
     },
     "metadata": {},
     "output_type": "display_data"
    },
    {
     "data": {
      "application/vnd.jupyter.widget-view+json": {
       "model_id": "1795969799304da986a7cbd09632c055",
       "version_major": 2,
       "version_minor": 0
      },
      "text/plain": [
       "VBox(children=(Label(value='0.001 MB of 0.001 MB uploaded (0.000 MB deduped)\\r'), FloatProgress(value=1.0, max…"
      ]
     },
     "metadata": {},
     "output_type": "display_data"
    },
    {
     "data": {
      "text/html": [
       "<style>\n",
       "    table.wandb td:nth-child(1) { padding: 0 10px; text-align: left ; width: auto;} td:nth-child(2) {text-align: left ; width: 100%}\n",
       "    .wandb-row { display: flex; flex-direction: row; flex-wrap: wrap; justify-content: flex-start; width: 100% }\n",
       "    .wandb-col { display: flex; flex-direction: column; flex-basis: 100%; flex: 1; padding: 10px; }\n",
       "    </style>\n",
       "<div class=\"wandb-row\"><div class=\"wandb-col\"><h3>Run history:</h3><br/><table class=\"wandb\"><tr><td>epoch</td><td>▁▁▁▁▂▂▂▂▂▃▃▃▃▃▃▄▄▄▄▄▅▅▅▅▅▆▆▆▆▆▆▇▇▇▇▇████</td></tr><tr><td>lr-Adam</td><td>▁▁▁▁▁▁▁▁▁▁▁▁▁▁▁▁▁▁▁▁▁▁▁▁▁▁▁▁▁▁▁▁▁▁▁▁▁▁▁▁</td></tr><tr><td>train_acc</td><td>▁▂▂▁▂▂▂▃▂▃▃▄▄▄▅▆▆▆▇▇▇▇▇█▇▇▇███████▇█████</td></tr><tr><td>train_auc</td><td>▁▂▁▂▂▃▃▃▃▄▄▄▄▅▆▆▇▇▇▇▇▇██████████████████</td></tr><tr><td>train_f1</td><td>▁▂▂▂▂▂▃▃▂▃▂▃▄▃▄▅▅▆▆▇▇▇▇█▇▇▇▇█▇████▇█████</td></tr><tr><td>train_loss_epoch</td><td>██████▇▇▇▇▇▇▆▆▅▅▄▄▃▃▂▃▂▂▂▂▂▂▂▂▂▂▂▂▂▂▂▁▁▂</td></tr><tr><td>train_loss_step</td><td>███▇▇▇▆▅▆▆▆▅▄▃▄▂▃▄▂▂▁▃▂▁▂▂▃▃▂▃</td></tr><tr><td>trainer/global_step</td><td>▁▁▁▂▁▂▂▂▃▃▃▃▃▃▄▄▄▄▅▃▄▄▅▅▆▄▄▄▆▇▇▅▅▅███▆▆▆</td></tr><tr><td>val_acc</td><td>▁▁▁▁▁▃▅▆▄▅▄▅▅▄▇▆▇████▇▆▇▆▆▅▇▆▇▆▇▇▅▄█▄▇▇▆</td></tr><tr><td>val_auc</td><td>▁▃▃▃▃▄▃▃▃▃▃▄▄▄▅▆▆▇▇▇▇▇▇▇▇▇▇▇▇▇██████▇███</td></tr><tr><td>val_f1</td><td>▆▆▆▆▆▆▇▇▅▆▅▆▇▄▇▄▆█▇▇▇▆▅▆▄▄▃▆▅▆▄▆▆▃▁▇▁▆▆▄</td></tr><tr><td>val_loss_epoch</td><td>▆▆▆▆▆▅▄▅▅▄▅▄▅▅▇▃▅▂▄▃▅▅▃▃▃▅▃▇▁▃▃▆▃▆▅▆█▃▄▆</td></tr><tr><td>val_loss_step</td><td>▅▅▅▆▆▄▄▅▅▄▅▄▅▅▇▃▆▃▅▄▅▆▃▄▄▆▃█▁▃▃▆▄▆▄▇█▃▅▆</td></tr></table><br/></div><div class=\"wandb-col\"><h3>Run summary:</h3><br/><table class=\"wandb\"><tr><td>epoch</td><td>99</td></tr><tr><td>lr-Adam</td><td>0.005</td></tr><tr><td>train_acc</td><td>0.87379</td></tr><tr><td>train_auc</td><td>0.92799</td></tr><tr><td>train_f1</td><td>0.89014</td></tr><tr><td>train_loss_epoch</td><td>0.44515</td></tr><tr><td>train_loss_step</td><td>0.46536</td></tr><tr><td>trainer/global_step</td><td>299</td></tr><tr><td>val_acc</td><td>0.71429</td></tr><tr><td>val_auc</td><td>0.90074</td></tr><tr><td>val_f1</td><td>0.67797</td></tr><tr><td>val_loss_epoch</td><td>0.65042</td></tr><tr><td>val_loss_step</td><td>0.71797</td></tr></table><br/></div></div>"
      ],
      "text/plain": [
       "<IPython.core.display.HTML object>"
      ]
     },
     "metadata": {},
     "output_type": "display_data"
    },
    {
     "data": {
      "text/html": [
       " View run <strong style=\"color:#cdcd00\">MLP_2_16_2_moprh</strong> at: <a href='https://wandb.ai/thoomas/SF_082423_Covid/runs/a6ibwqij' target=\"_blank\">https://wandb.ai/thoomas/SF_082423_Covid/runs/a6ibwqij</a><br/>Synced 5 W&B file(s), 0 media file(s), 0 artifact file(s) and 0 other file(s)"
      ],
      "text/plain": [
       "<IPython.core.display.HTML object>"
      ]
     },
     "metadata": {},
     "output_type": "display_data"
    },
    {
     "data": {
      "text/html": [
       "Find logs at: <code>.\\wandb\\run-20230826_042027-a6ibwqij\\logs</code>"
      ],
      "text/plain": [
       "<IPython.core.display.HTML object>"
      ]
     },
     "metadata": {},
     "output_type": "display_data"
    },
    {
     "data": {
      "application/vnd.jupyter.widget-view+json": {
       "model_id": "e81a60fb8bf64c9dbe401ea652896bd5",
       "version_major": 2,
       "version_minor": 0
      },
      "text/plain": [
       "VBox(children=(Label(value='Waiting for wandb.init()...\\r'), FloatProgress(value=0.016666666666666666, max=1.0…"
      ]
     },
     "metadata": {},
     "output_type": "display_data"
    },
    {
     "data": {
      "text/html": [
       "wandb version 0.15.8 is available!  To upgrade, please run:\n",
       " $ pip install wandb --upgrade"
      ],
      "text/plain": [
       "<IPython.core.display.HTML object>"
      ]
     },
     "metadata": {},
     "output_type": "display_data"
    },
    {
     "data": {
      "text/html": [
       "Tracking run with wandb version 0.14.0"
      ],
      "text/plain": [
       "<IPython.core.display.HTML object>"
      ]
     },
     "metadata": {},
     "output_type": "display_data"
    },
    {
     "data": {
      "text/html": [
       "Run data is saved locally in <code>Y:\\coskun-lab\\Thomas\\11_snowflakes\\notebooks\\wandb\\run-20230826_050000-n28a82xw</code>"
      ],
      "text/plain": [
       "<IPython.core.display.HTML object>"
      ]
     },
     "metadata": {},
     "output_type": "display_data"
    },
    {
     "data": {
      "text/html": [
       "Syncing run <strong><a href='https://wandb.ai/thoomas/SF_082423_Covid/runs/n28a82xw' target=\"_blank\">MLP_2_16_2_moprh</a></strong> to <a href='https://wandb.ai/thoomas/SF_082423_Covid' target=\"_blank\">Weights & Biases</a> (<a href='https://wandb.me/run' target=\"_blank\">docs</a>)<br/>"
      ],
      "text/plain": [
       "<IPython.core.display.HTML object>"
      ]
     },
     "metadata": {},
     "output_type": "display_data"
    },
    {
     "data": {
      "text/html": [
       " View project at <a href='https://wandb.ai/thoomas/SF_082423_Covid' target=\"_blank\">https://wandb.ai/thoomas/SF_082423_Covid</a>"
      ],
      "text/plain": [
       "<IPython.core.display.HTML object>"
      ]
     },
     "metadata": {},
     "output_type": "display_data"
    },
    {
     "data": {
      "text/html": [
       " View run at <a href='https://wandb.ai/thoomas/SF_082423_Covid/runs/n28a82xw' target=\"_blank\">https://wandb.ai/thoomas/SF_082423_Covid/runs/n28a82xw</a>"
      ],
      "text/plain": [
       "<IPython.core.display.HTML object>"
      ]
     },
     "metadata": {},
     "output_type": "display_data"
    },
    {
     "name": "stderr",
     "output_type": "stream",
     "text": [
      "INFO: Global seed set to 42\n",
      "INFO:lightning.fabric.utilities.seed:Global seed set to 42\n",
      "C:\\Users\\thu71\\Anaconda3\\envs\\snowflake\\lib\\site-packages\\pytorch_lightning\\loggers\\wandb.py:395: UserWarning: There is a wandb run already in progress and newly created instances of `WandbLogger` will reuse this run. If this is not desired, call `wandb.finish()` before instantiating `WandbLogger`.\n",
      "  rank_zero_warn(\n",
      "INFO: GPU available: True (cuda), used: True\n",
      "INFO:lightning.pytorch.utilities.rank_zero:GPU available: True (cuda), used: True\n",
      "INFO: TPU available: False, using: 0 TPU cores\n",
      "INFO:lightning.pytorch.utilities.rank_zero:TPU available: False, using: 0 TPU cores\n",
      "INFO: IPU available: False, using: 0 IPUs\n",
      "INFO:lightning.pytorch.utilities.rank_zero:IPU available: False, using: 0 IPUs\n",
      "INFO: HPU available: False, using: 0 HPUs\n",
      "INFO:lightning.pytorch.utilities.rank_zero:HPU available: False, using: 0 HPUs\n",
      "INFO: Global seed set to 42\n",
      "INFO:lightning.fabric.utilities.seed:Global seed set to 42\n",
      "INFO: LOCAL_RANK: 0 - CUDA_VISIBLE_DEVICES: [0,1]\n",
      "INFO:lightning.pytorch.accelerators.cuda:LOCAL_RANK: 0 - CUDA_VISIBLE_DEVICES: [0,1]\n",
      "INFO: \n",
      "   | Name           | Type             | Params\n",
      "-----------------------------------------------------\n",
      "0  | feat_embedding | Sequential       | 832   \n",
      "1  | model          | MLPModel         | 368   \n",
      "2  | head           | Sequential       | 562   \n",
      "3  | fnn_layer      | Linear           | 272   \n",
      "4  | selu           | SELU             | 0     \n",
      "5  | loss_module    | CrossEntropyLoss | 0     \n",
      "6  | train_acc      | BinaryAccuracy   | 0     \n",
      "7  | train_auroc    | BinaryAUROC      | 0     \n",
      "8  | train_f1       | BinaryF1Score    | 0     \n",
      "9  | valid_acc      | BinaryAccuracy   | 0     \n",
      "10 | valid_auroc    | BinaryAUROC      | 0     \n",
      "11 | valid_f1       | BinaryF1Score    | 0     \n",
      "-----------------------------------------------------\n",
      "2.0 K     Trainable params\n",
      "0         Non-trainable params\n",
      "2.0 K     Total params\n",
      "0.008     Total estimated model params size (MB)\n",
      "INFO:lightning.pytorch.callbacks.model_summary:\n",
      "   | Name           | Type             | Params\n",
      "-----------------------------------------------------\n",
      "0  | feat_embedding | Sequential       | 832   \n",
      "1  | model          | MLPModel         | 368   \n",
      "2  | head           | Sequential       | 562   \n",
      "3  | fnn_layer      | Linear           | 272   \n",
      "4  | selu           | SELU             | 0     \n",
      "5  | loss_module    | CrossEntropyLoss | 0     \n",
      "6  | train_acc      | BinaryAccuracy   | 0     \n",
      "7  | train_auroc    | BinaryAUROC      | 0     \n",
      "8  | train_f1       | BinaryF1Score    | 0     \n",
      "9  | valid_acc      | BinaryAccuracy   | 0     \n",
      "10 | valid_auroc    | BinaryAUROC      | 0     \n",
      "11 | valid_f1       | BinaryF1Score    | 0     \n",
      "-----------------------------------------------------\n",
      "2.0 K     Trainable params\n",
      "0         Non-trainable params\n",
      "2.0 K     Total params\n",
      "0.008     Total estimated model params size (MB)\n"
     ]
    },
    {
     "name": "stdout",
     "output_type": "stream",
     "text": [
      "Training with Morphological features\n"
     ]
    },
    {
     "name": "stderr",
     "output_type": "stream",
     "text": [
      "C:\\Users\\thu71\\AppData\\Roaming\\Python\\Python39\\site-packages\\lightning\\pytorch\\trainer\\connectors\\data_connector.py:478: PossibleUserWarning: Your `val_dataloader`'s sampler has shuffling enabled, it is strongly recommended that you turn shuffling off for val/test dataloaders.\n",
      "  rank_zero_warn(\n",
      "C:\\Users\\thu71\\AppData\\Roaming\\Python\\Python39\\site-packages\\lightning\\pytorch\\trainer\\connectors\\data_connector.py:430: PossibleUserWarning: The dataloader, val_dataloader, does not have many workers which may be a bottleneck. Consider increasing the value of the `num_workers` argument` (try 48 which is the number of cpus on this machine) in the `DataLoader` init to improve performance.\n",
      "  rank_zero_warn(\n",
      "C:\\Users\\thu71\\AppData\\Roaming\\Python\\Python39\\site-packages\\lightning\\pytorch\\trainer\\connectors\\data_connector.py:430: PossibleUserWarning: The dataloader, train_dataloader, does not have many workers which may be a bottleneck. Consider increasing the value of the `num_workers` argument` (try 48 which is the number of cpus on this machine) in the `DataLoader` init to improve performance.\n",
      "  rank_zero_warn(\n",
      "C:\\Users\\thu71\\AppData\\Roaming\\Python\\Python39\\site-packages\\lightning\\pytorch\\loops\\fit_loop.py:280: PossibleUserWarning: The number of training batches (3) is smaller than the logging interval Trainer(log_every_n_steps=10). Set a lower value for log_every_n_steps if you want to see logs for the training epoch.\n",
      "  rank_zero_warn(\n",
      "C:\\Users\\thu71\\Anaconda3\\envs\\snowflake\\lib\\site-packages\\torchmetrics\\utilities\\prints.py:36: UserWarning: No negative samples in targets, false positive value should be meaningless. Returning zero tensor in false positive score\n",
      "  warnings.warn(*args, **kwargs)\n",
      "C:\\Users\\thu71\\Anaconda3\\envs\\snowflake\\lib\\site-packages\\torchmetrics\\utilities\\prints.py:36: UserWarning: No negative samples in targets, false positive value should be meaningless. Returning zero tensor in false positive score\n",
      "  warnings.warn(*args, **kwargs)\n",
      "C:\\Users\\thu71\\Anaconda3\\envs\\snowflake\\lib\\site-packages\\torchmetrics\\utilities\\prints.py:36: UserWarning: No negative samples in targets, false positive value should be meaningless. Returning zero tensor in false positive score\n",
      "  warnings.warn(*args, **kwargs)\n",
      "C:\\Users\\thu71\\Anaconda3\\envs\\snowflake\\lib\\site-packages\\torchmetrics\\utilities\\prints.py:36: UserWarning: No negative samples in targets, false positive value should be meaningless. Returning zero tensor in false positive score\n",
      "  warnings.warn(*args, **kwargs)\n",
      "C:\\Users\\thu71\\Anaconda3\\envs\\snowflake\\lib\\site-packages\\torchmetrics\\utilities\\prints.py:36: UserWarning: No negative samples in targets, false positive value should be meaningless. Returning zero tensor in false positive score\n",
      "  warnings.warn(*args, **kwargs)\n",
      "C:\\Users\\thu71\\Anaconda3\\envs\\snowflake\\lib\\site-packages\\torchmetrics\\utilities\\prints.py:36: UserWarning: No negative samples in targets, false positive value should be meaningless. Returning zero tensor in false positive score\n",
      "  warnings.warn(*args, **kwargs)\n",
      "INFO: `Trainer.fit` stopped: `max_epochs=100` reached.\n",
      "INFO:lightning.pytorch.utilities.rank_zero:`Trainer.fit` stopped: `max_epochs=100` reached.\n"
     ]
    },
    {
     "data": {
      "text/html": [
       "Waiting for W&B process to finish... <strong style=\"color:green\">(success).</strong>"
      ],
      "text/plain": [
       "<IPython.core.display.HTML object>"
      ]
     },
     "metadata": {},
     "output_type": "display_data"
    },
    {
     "data": {
      "application/vnd.jupyter.widget-view+json": {
       "model_id": "6ebf8efa21d244798f6352b23408c164",
       "version_major": 2,
       "version_minor": 0
      },
      "text/plain": [
       "VBox(children=(Label(value='0.001 MB of 0.001 MB uploaded (0.000 MB deduped)\\r'), FloatProgress(value=1.0, max…"
      ]
     },
     "metadata": {},
     "output_type": "display_data"
    },
    {
     "data": {
      "text/html": [
       "<style>\n",
       "    table.wandb td:nth-child(1) { padding: 0 10px; text-align: left ; width: auto;} td:nth-child(2) {text-align: left ; width: 100%}\n",
       "    .wandb-row { display: flex; flex-direction: row; flex-wrap: wrap; justify-content: flex-start; width: 100% }\n",
       "    .wandb-col { display: flex; flex-direction: column; flex-basis: 100%; flex: 1; padding: 10px; }\n",
       "    </style>\n",
       "<div class=\"wandb-row\"><div class=\"wandb-col\"><h3>Run history:</h3><br/><table class=\"wandb\"><tr><td>epoch</td><td>▁▁▁▁▂▂▂▂▂▃▃▃▃▃▃▄▄▄▄▄▅▅▅▅▅▆▆▆▆▆▆▇▇▇▇▇████</td></tr><tr><td>lr-Adam</td><td>▁▁▁▁▁▁▁▁▁▁▁▁▁▁▁▁▁▁▁▁▁▁▁▁▁▁▁▁▁▁▁▁▁▁▁▁▁▁▁▁</td></tr><tr><td>train_acc</td><td>▁▂▂▂▂▂▂▂▂▂▃▄▃▃▄▃▄▃▃▄▄▄▅▅▅▆▆▆▆▆▆▇▇▆██▇███</td></tr><tr><td>train_auc</td><td>▁▂▂▃▂▂▄▃▃▃▃▅▄▄▄▅▅▄▅▅▅▅▆▆▆▇▆▇▆▇▇▇▇▇█▇▇██▇</td></tr><tr><td>train_f1</td><td>▁▂▃▃▃▃▃▄▃▃▃▅▃▃▃▃▄▂▃▂▄▂▅▅▅▆▆▆▅▅▆▇▇▅██▆██▇</td></tr><tr><td>train_loss_epoch</td><td>█▇█▇█▇▇▇▇▇▇▆▆▇▆▆▅▆▆▆▆▅▅▅▅▃▄▃▄▃▃▃▂▃▁▂▂▁▁▁</td></tr><tr><td>train_loss_step</td><td>██████▇▇▇▆▇▆▇▆▇▅▄▇▄▅▃▄▅▂▄▁▃▂▂▁</td></tr><tr><td>trainer/global_step</td><td>▁▁▁▂▁▂▂▂▃▃▃▃▃▃▄▄▄▄▅▃▄▄▅▅▆▄▄▄▆▇▇▅▅▅███▆▆▆</td></tr><tr><td>val_acc</td><td>▁▁▁▁▁▁▁▁▁▁▁▂▃▅▅▄▇▇▅▆▆█▄▆█▅▄▄▂▃▂▂▂▃▃▂▃▂▄▄</td></tr><tr><td>val_auc</td><td>▁▂▃▃▃▃▄▄▃▄▄▅▅▆▆▆▇▇▇▇▇▇▆▇█████████▇███▇▇▇</td></tr><tr><td>val_f1</td><td>▆▆▆▆▆▆▆▆▆▆▆▇▇▇▇▇██▇█▇█▇▇█▅▄▄▂▃▁▂▂▃▃▂▃▁▄▄</td></tr><tr><td>val_loss_epoch</td><td>▅▅▅▅▅▅▅▄▅▅▄▅▄▅▃▃▃▄▄▂▃▃▂▂▄▄▁▄▃▂▄▅▄█▂█▃▄▁▅</td></tr><tr><td>val_loss_step</td><td>▄▄▄▄▄▄▄▄▄▄▄▄▄▄▃▂▃▄▄▂▃▄▂▂▄▄▁▄▂▂▃▄▄█▂█▃▃▁▅</td></tr></table><br/></div><div class=\"wandb-col\"><h3>Run summary:</h3><br/><table class=\"wandb\"><tr><td>epoch</td><td>99</td></tr><tr><td>lr-Adam</td><td>0.005</td></tr><tr><td>train_acc</td><td>0.82201</td></tr><tr><td>train_auc</td><td>0.86439</td></tr><tr><td>train_f1</td><td>0.8468</td></tr><tr><td>train_loss_epoch</td><td>0.48411</td></tr><tr><td>train_loss_step</td><td>0.44613</td></tr><tr><td>trainer/global_step</td><td>299</td></tr><tr><td>val_acc</td><td>0.66165</td></tr><tr><td>val_auc</td><td>0.89658</td></tr><tr><td>val_f1</td><td>0.60177</td></tr><tr><td>val_loss_epoch</td><td>0.66001</td></tr><tr><td>val_loss_step</td><td>0.73799</td></tr></table><br/></div></div>"
      ],
      "text/plain": [
       "<IPython.core.display.HTML object>"
      ]
     },
     "metadata": {},
     "output_type": "display_data"
    },
    {
     "data": {
      "text/html": [
       " View run <strong style=\"color:#cdcd00\">MLP_2_16_2_moprh</strong> at: <a href='https://wandb.ai/thoomas/SF_082423_Covid/runs/n28a82xw' target=\"_blank\">https://wandb.ai/thoomas/SF_082423_Covid/runs/n28a82xw</a><br/>Synced 5 W&B file(s), 0 media file(s), 0 artifact file(s) and 0 other file(s)"
      ],
      "text/plain": [
       "<IPython.core.display.HTML object>"
      ]
     },
     "metadata": {},
     "output_type": "display_data"
    },
    {
     "data": {
      "text/html": [
       "Find logs at: <code>.\\wandb\\run-20230826_050000-n28a82xw\\logs</code>"
      ],
      "text/plain": [
       "<IPython.core.display.HTML object>"
      ]
     },
     "metadata": {},
     "output_type": "display_data"
    },
    {
     "data": {
      "application/vnd.jupyter.widget-view+json": {
       "model_id": "b52d8b3092244742857d9e94b8d53921",
       "version_major": 2,
       "version_minor": 0
      },
      "text/plain": [
       "VBox(children=(Label(value='Waiting for wandb.init()...\\r'), FloatProgress(value=0.01693333333338766, max=1.0)…"
      ]
     },
     "metadata": {},
     "output_type": "display_data"
    },
    {
     "data": {
      "text/html": [
       "wandb version 0.15.8 is available!  To upgrade, please run:\n",
       " $ pip install wandb --upgrade"
      ],
      "text/plain": [
       "<IPython.core.display.HTML object>"
      ]
     },
     "metadata": {},
     "output_type": "display_data"
    },
    {
     "data": {
      "text/html": [
       "Tracking run with wandb version 0.14.0"
      ],
      "text/plain": [
       "<IPython.core.display.HTML object>"
      ]
     },
     "metadata": {},
     "output_type": "display_data"
    },
    {
     "data": {
      "text/html": [
       "Run data is saved locally in <code>Y:\\coskun-lab\\Thomas\\11_snowflakes\\notebooks\\wandb\\run-20230826_053919-bj84n4yb</code>"
      ],
      "text/plain": [
       "<IPython.core.display.HTML object>"
      ]
     },
     "metadata": {},
     "output_type": "display_data"
    },
    {
     "data": {
      "text/html": [
       "Syncing run <strong><a href='https://wandb.ai/thoomas/SF_082423_Covid/runs/bj84n4yb' target=\"_blank\">MLP_2_16_2_moprh</a></strong> to <a href='https://wandb.ai/thoomas/SF_082423_Covid' target=\"_blank\">Weights & Biases</a> (<a href='https://wandb.me/run' target=\"_blank\">docs</a>)<br/>"
      ],
      "text/plain": [
       "<IPython.core.display.HTML object>"
      ]
     },
     "metadata": {},
     "output_type": "display_data"
    },
    {
     "data": {
      "text/html": [
       " View project at <a href='https://wandb.ai/thoomas/SF_082423_Covid' target=\"_blank\">https://wandb.ai/thoomas/SF_082423_Covid</a>"
      ],
      "text/plain": [
       "<IPython.core.display.HTML object>"
      ]
     },
     "metadata": {},
     "output_type": "display_data"
    },
    {
     "data": {
      "text/html": [
       " View run at <a href='https://wandb.ai/thoomas/SF_082423_Covid/runs/bj84n4yb' target=\"_blank\">https://wandb.ai/thoomas/SF_082423_Covid/runs/bj84n4yb</a>"
      ],
      "text/plain": [
       "<IPython.core.display.HTML object>"
      ]
     },
     "metadata": {},
     "output_type": "display_data"
    },
    {
     "name": "stderr",
     "output_type": "stream",
     "text": [
      "INFO: Global seed set to 42\n",
      "INFO:lightning.fabric.utilities.seed:Global seed set to 42\n",
      "C:\\Users\\thu71\\Anaconda3\\envs\\snowflake\\lib\\site-packages\\pytorch_lightning\\loggers\\wandb.py:395: UserWarning: There is a wandb run already in progress and newly created instances of `WandbLogger` will reuse this run. If this is not desired, call `wandb.finish()` before instantiating `WandbLogger`.\n",
      "  rank_zero_warn(\n",
      "INFO: GPU available: True (cuda), used: True\n",
      "INFO:lightning.pytorch.utilities.rank_zero:GPU available: True (cuda), used: True\n",
      "INFO: TPU available: False, using: 0 TPU cores\n",
      "INFO:lightning.pytorch.utilities.rank_zero:TPU available: False, using: 0 TPU cores\n",
      "INFO: IPU available: False, using: 0 IPUs\n",
      "INFO:lightning.pytorch.utilities.rank_zero:IPU available: False, using: 0 IPUs\n",
      "INFO: HPU available: False, using: 0 HPUs\n",
      "INFO:lightning.pytorch.utilities.rank_zero:HPU available: False, using: 0 HPUs\n",
      "INFO: Global seed set to 42\n",
      "INFO:lightning.fabric.utilities.seed:Global seed set to 42\n",
      "C:\\Users\\thu71\\Anaconda3\\envs\\snowflake\\lib\\site-packages\\torch_geometric\\deprecation.py:12: UserWarning: 'nn.glob.GlobalAttention' is deprecated, use 'nn.aggr.AttentionalAggregation' instead\n",
      "  warnings.warn(out)\n",
      "INFO: LOCAL_RANK: 0 - CUDA_VISIBLE_DEVICES: [0,1]\n",
      "INFO:lightning.pytorch.accelerators.cuda:LOCAL_RANK: 0 - CUDA_VISIBLE_DEVICES: [0,1]\n",
      "INFO: \n",
      "   | Name           | Type             | Params\n",
      "-----------------------------------------------------\n",
      "0  | feat_embedding | Sequential       | 832   \n",
      "1  | model          | MLPModel         | 368   \n",
      "2  | head           | Sequential       | 562   \n",
      "3  | fnn_layer      | Linear           | 272   \n",
      "4  | selu           | SELU             | 0     \n",
      "5  | loss_module    | CrossEntropyLoss | 0     \n",
      "6  | train_acc      | BinaryAccuracy   | 0     \n",
      "7  | train_auroc    | BinaryAUROC      | 0     \n",
      "8  | train_f1       | BinaryF1Score    | 0     \n",
      "9  | valid_acc      | BinaryAccuracy   | 0     \n",
      "10 | valid_auroc    | BinaryAUROC      | 0     \n",
      "11 | valid_f1       | BinaryF1Score    | 0     \n",
      "12 | pool           | GlobalAttention  | 17    \n",
      "-----------------------------------------------------\n",
      "2.1 K     Trainable params\n",
      "0         Non-trainable params\n",
      "2.1 K     Total params\n",
      "0.008     Total estimated model params size (MB)\n",
      "INFO:lightning.pytorch.callbacks.model_summary:\n",
      "   | Name           | Type             | Params\n",
      "-----------------------------------------------------\n",
      "0  | feat_embedding | Sequential       | 832   \n",
      "1  | model          | MLPModel         | 368   \n",
      "2  | head           | Sequential       | 562   \n",
      "3  | fnn_layer      | Linear           | 272   \n",
      "4  | selu           | SELU             | 0     \n",
      "5  | loss_module    | CrossEntropyLoss | 0     \n",
      "6  | train_acc      | BinaryAccuracy   | 0     \n",
      "7  | train_auroc    | BinaryAUROC      | 0     \n",
      "8  | train_f1       | BinaryF1Score    | 0     \n",
      "9  | valid_acc      | BinaryAccuracy   | 0     \n",
      "10 | valid_auroc    | BinaryAUROC      | 0     \n",
      "11 | valid_f1       | BinaryF1Score    | 0     \n",
      "12 | pool           | GlobalAttention  | 17    \n",
      "-----------------------------------------------------\n",
      "2.1 K     Trainable params\n",
      "0         Non-trainable params\n",
      "2.1 K     Total params\n",
      "0.008     Total estimated model params size (MB)\n",
      "C:\\Users\\thu71\\AppData\\Roaming\\Python\\Python39\\site-packages\\lightning\\pytorch\\trainer\\connectors\\data_connector.py:478: PossibleUserWarning: Your `val_dataloader`'s sampler has shuffling enabled, it is strongly recommended that you turn shuffling off for val/test dataloaders.\n",
      "  rank_zero_warn(\n",
      "C:\\Users\\thu71\\AppData\\Roaming\\Python\\Python39\\site-packages\\lightning\\pytorch\\trainer\\connectors\\data_connector.py:430: PossibleUserWarning: The dataloader, val_dataloader, does not have many workers which may be a bottleneck. Consider increasing the value of the `num_workers` argument` (try 48 which is the number of cpus on this machine) in the `DataLoader` init to improve performance.\n",
      "  rank_zero_warn(\n"
     ]
    },
    {
     "name": "stdout",
     "output_type": "stream",
     "text": [
      "Training with Morphological features\n"
     ]
    },
    {
     "name": "stderr",
     "output_type": "stream",
     "text": [
      "C:\\Users\\thu71\\AppData\\Roaming\\Python\\Python39\\site-packages\\lightning\\pytorch\\trainer\\connectors\\data_connector.py:430: PossibleUserWarning: The dataloader, train_dataloader, does not have many workers which may be a bottleneck. Consider increasing the value of the `num_workers` argument` (try 48 which is the number of cpus on this machine) in the `DataLoader` init to improve performance.\n",
      "  rank_zero_warn(\n",
      "C:\\Users\\thu71\\AppData\\Roaming\\Python\\Python39\\site-packages\\lightning\\pytorch\\loops\\fit_loop.py:280: PossibleUserWarning: The number of training batches (3) is smaller than the logging interval Trainer(log_every_n_steps=10). Set a lower value for log_every_n_steps if you want to see logs for the training epoch.\n",
      "  rank_zero_warn(\n",
      "C:\\Users\\thu71\\Anaconda3\\envs\\snowflake\\lib\\site-packages\\torchmetrics\\utilities\\prints.py:36: UserWarning: No negative samples in targets, false positive value should be meaningless. Returning zero tensor in false positive score\n",
      "  warnings.warn(*args, **kwargs)\n",
      "C:\\Users\\thu71\\Anaconda3\\envs\\snowflake\\lib\\site-packages\\torchmetrics\\utilities\\prints.py:36: UserWarning: No negative samples in targets, false positive value should be meaningless. Returning zero tensor in false positive score\n",
      "  warnings.warn(*args, **kwargs)\n",
      "C:\\Users\\thu71\\Anaconda3\\envs\\snowflake\\lib\\site-packages\\torchmetrics\\utilities\\prints.py:36: UserWarning: No negative samples in targets, false positive value should be meaningless. Returning zero tensor in false positive score\n",
      "  warnings.warn(*args, **kwargs)\n",
      "C:\\Users\\thu71\\Anaconda3\\envs\\snowflake\\lib\\site-packages\\torchmetrics\\utilities\\prints.py:36: UserWarning: No negative samples in targets, false positive value should be meaningless. Returning zero tensor in false positive score\n",
      "  warnings.warn(*args, **kwargs)\n",
      "C:\\Users\\thu71\\Anaconda3\\envs\\snowflake\\lib\\site-packages\\torchmetrics\\utilities\\prints.py:36: UserWarning: No negative samples in targets, false positive value should be meaningless. Returning zero tensor in false positive score\n",
      "  warnings.warn(*args, **kwargs)\n",
      "C:\\Users\\thu71\\Anaconda3\\envs\\snowflake\\lib\\site-packages\\torchmetrics\\utilities\\prints.py:36: UserWarning: No negative samples in targets, false positive value should be meaningless. Returning zero tensor in false positive score\n",
      "  warnings.warn(*args, **kwargs)\n",
      "INFO: `Trainer.fit` stopped: `max_epochs=100` reached.\n",
      "INFO:lightning.pytorch.utilities.rank_zero:`Trainer.fit` stopped: `max_epochs=100` reached.\n"
     ]
    },
    {
     "data": {
      "text/html": [
       "Waiting for W&B process to finish... <strong style=\"color:green\">(success).</strong>"
      ],
      "text/plain": [
       "<IPython.core.display.HTML object>"
      ]
     },
     "metadata": {},
     "output_type": "display_data"
    },
    {
     "data": {
      "application/vnd.jupyter.widget-view+json": {
       "model_id": "63aaeccf695544b6a9cc1f872506949b",
       "version_major": 2,
       "version_minor": 0
      },
      "text/plain": [
       "VBox(children=(Label(value='0.001 MB of 0.001 MB uploaded (0.000 MB deduped)\\r'), FloatProgress(value=1.0, max…"
      ]
     },
     "metadata": {},
     "output_type": "display_data"
    },
    {
     "data": {
      "text/html": [
       "<style>\n",
       "    table.wandb td:nth-child(1) { padding: 0 10px; text-align: left ; width: auto;} td:nth-child(2) {text-align: left ; width: 100%}\n",
       "    .wandb-row { display: flex; flex-direction: row; flex-wrap: wrap; justify-content: flex-start; width: 100% }\n",
       "    .wandb-col { display: flex; flex-direction: column; flex-basis: 100%; flex: 1; padding: 10px; }\n",
       "    </style>\n",
       "<div class=\"wandb-row\"><div class=\"wandb-col\"><h3>Run history:</h3><br/><table class=\"wandb\"><tr><td>epoch</td><td>▁▁▁▁▂▂▂▂▂▃▃▃▃▃▃▄▄▄▄▄▅▅▅▅▅▆▆▆▆▆▆▇▇▇▇▇████</td></tr><tr><td>lr-Adam</td><td>▁▁▁▁▁▁▁▁▁▁▁▁▁▁▁▁▁▁▁▁▁▁▁▁▁▁▁▁▁▁▁▁▁▁▁▁▁▁▁▁</td></tr><tr><td>train_acc</td><td>▁▁▂▂▂▃▄▄▄▃▄▃▄▅▅▅▆▆▆▆▆▇▇▇▇▇█▇▇▇██████████</td></tr><tr><td>train_auc</td><td>▁▂▂▂▄▄▄▄▅▄▄▄▅▅▅▆▆▇▇▇▇▇▇▇▇▇█▇▇█▇████████▇</td></tr><tr><td>train_f1</td><td>▁▁▂▂▂▃▄▃▄▂▃▃▃▄▄▄▅▅▆▅▆▆▆▇▆▇█▇▇▇▇████▇█▇██</td></tr><tr><td>train_loss_epoch</td><td>████▇▇▆▆▆▆▆▆▆▅▅▄▄▃▃▃▄▂▂▂▂▂▂▂▂▂▂▁▁▁▁▁▁▁▁▁</td></tr><tr><td>train_loss_step</td><td>██▇▇██▇▅▆▆▆▅▄▄▃▄▄▃▂▃▂▂▂▃▃▃▁▃▂▂</td></tr><tr><td>trainer/global_step</td><td>▁▁▁▂▁▂▂▂▃▃▃▃▃▃▄▄▄▄▅▃▄▄▅▅▆▄▄▄▆▇▇▅▅▅███▆▆▆</td></tr><tr><td>val_acc</td><td>▁▁▁▁▁▂▂▃▂▃▂▃▃▃▃▇▇▅▇▆▇▃▂▅▄▄▅▅▆▆▅▄▅▅█▇▆▇▅▅</td></tr><tr><td>val_auc</td><td>▁▃▃▃▄▄▅▅▅▅▅▅▅▆▆▆▆▆▇▇▇▇▇█████████████████</td></tr><tr><td>val_f1</td><td>▅▅▅▅▅▅▅▆▅▆▆▆▆▆▆▇█▅█▇▇▃▁▅▄▄▄▅▆▆▄▃▅▄█▇▆▇▄▅</td></tr><tr><td>val_loss_epoch</td><td>█▇▇▇▇▇▇▅▅█▇▅▅▇▇▄▃▆▄▂▂▃█▆▄▇▆▂▃█▇▄▂▆▆▃▃▁▂▂</td></tr><tr><td>val_loss_step</td><td>▆▅▅▅▆▅▅▃▃▆▅▃▃▆▅▃▃▆▄▂▂▂▇▆▄▆▆▁▂█▆▂▁▅▇▃▃▁▁▁</td></tr></table><br/></div><div class=\"wandb-col\"><h3>Run summary:</h3><br/><table class=\"wandb\"><tr><td>epoch</td><td>99</td></tr><tr><td>lr-Adam</td><td>0.005</td></tr><tr><td>train_acc</td><td>0.85113</td></tr><tr><td>train_auc</td><td>0.8839</td></tr><tr><td>train_f1</td><td>0.87568</td></tr><tr><td>train_loss_epoch</td><td>0.45679</td></tr><tr><td>train_loss_step</td><td>0.44917</td></tr><tr><td>trainer/global_step</td><td>299</td></tr><tr><td>val_acc</td><td>0.72932</td></tr><tr><td>val_auc</td><td>0.92036</td></tr><tr><td>val_f1</td><td>0.70492</td></tr><tr><td>val_loss_epoch</td><td>0.44206</td></tr><tr><td>val_loss_step</td><td>0.3137</td></tr></table><br/></div></div>"
      ],
      "text/plain": [
       "<IPython.core.display.HTML object>"
      ]
     },
     "metadata": {},
     "output_type": "display_data"
    },
    {
     "data": {
      "text/html": [
       " View run <strong style=\"color:#cdcd00\">MLP_2_16_2_moprh</strong> at: <a href='https://wandb.ai/thoomas/SF_082423_Covid/runs/bj84n4yb' target=\"_blank\">https://wandb.ai/thoomas/SF_082423_Covid/runs/bj84n4yb</a><br/>Synced 5 W&B file(s), 0 media file(s), 0 artifact file(s) and 0 other file(s)"
      ],
      "text/plain": [
       "<IPython.core.display.HTML object>"
      ]
     },
     "metadata": {},
     "output_type": "display_data"
    },
    {
     "data": {
      "text/html": [
       "Find logs at: <code>.\\wandb\\run-20230826_053919-bj84n4yb\\logs</code>"
      ],
      "text/plain": [
       "<IPython.core.display.HTML object>"
      ]
     },
     "metadata": {},
     "output_type": "display_data"
    },
    {
     "data": {
      "application/vnd.jupyter.widget-view+json": {
       "model_id": "d4f3d12249224b82a6874d66007b4bcd",
       "version_major": 2,
       "version_minor": 0
      },
      "text/plain": [
       "VBox(children=(Label(value='Waiting for wandb.init()...\\r'), FloatProgress(value=0.016666666666666666, max=1.0…"
      ]
     },
     "metadata": {},
     "output_type": "display_data"
    },
    {
     "data": {
      "text/html": [
       "wandb version 0.15.8 is available!  To upgrade, please run:\n",
       " $ pip install wandb --upgrade"
      ],
      "text/plain": [
       "<IPython.core.display.HTML object>"
      ]
     },
     "metadata": {},
     "output_type": "display_data"
    },
    {
     "data": {
      "text/html": [
       "Tracking run with wandb version 0.14.0"
      ],
      "text/plain": [
       "<IPython.core.display.HTML object>"
      ]
     },
     "metadata": {},
     "output_type": "display_data"
    },
    {
     "data": {
      "text/html": [
       "Run data is saved locally in <code>Y:\\coskun-lab\\Thomas\\11_snowflakes\\notebooks\\wandb\\run-20230826_061800-7o5tpa42</code>"
      ],
      "text/plain": [
       "<IPython.core.display.HTML object>"
      ]
     },
     "metadata": {},
     "output_type": "display_data"
    },
    {
     "data": {
      "text/html": [
       "Syncing run <strong><a href='https://wandb.ai/thoomas/SF_082423_Covid/runs/7o5tpa42' target=\"_blank\">MLP_2_16_2_moprh</a></strong> to <a href='https://wandb.ai/thoomas/SF_082423_Covid' target=\"_blank\">Weights & Biases</a> (<a href='https://wandb.me/run' target=\"_blank\">docs</a>)<br/>"
      ],
      "text/plain": [
       "<IPython.core.display.HTML object>"
      ]
     },
     "metadata": {},
     "output_type": "display_data"
    },
    {
     "data": {
      "text/html": [
       " View project at <a href='https://wandb.ai/thoomas/SF_082423_Covid' target=\"_blank\">https://wandb.ai/thoomas/SF_082423_Covid</a>"
      ],
      "text/plain": [
       "<IPython.core.display.HTML object>"
      ]
     },
     "metadata": {},
     "output_type": "display_data"
    },
    {
     "data": {
      "text/html": [
       " View run at <a href='https://wandb.ai/thoomas/SF_082423_Covid/runs/7o5tpa42' target=\"_blank\">https://wandb.ai/thoomas/SF_082423_Covid/runs/7o5tpa42</a>"
      ],
      "text/plain": [
       "<IPython.core.display.HTML object>"
      ]
     },
     "metadata": {},
     "output_type": "display_data"
    },
    {
     "name": "stderr",
     "output_type": "stream",
     "text": [
      "INFO: Global seed set to 42\n",
      "INFO:lightning.fabric.utilities.seed:Global seed set to 42\n",
      "C:\\Users\\thu71\\Anaconda3\\envs\\snowflake\\lib\\site-packages\\pytorch_lightning\\loggers\\wandb.py:395: UserWarning: There is a wandb run already in progress and newly created instances of `WandbLogger` will reuse this run. If this is not desired, call `wandb.finish()` before instantiating `WandbLogger`.\n",
      "  rank_zero_warn(\n",
      "INFO: GPU available: True (cuda), used: True\n",
      "INFO:lightning.pytorch.utilities.rank_zero:GPU available: True (cuda), used: True\n",
      "INFO: TPU available: False, using: 0 TPU cores\n",
      "INFO:lightning.pytorch.utilities.rank_zero:TPU available: False, using: 0 TPU cores\n",
      "INFO: IPU available: False, using: 0 IPUs\n",
      "INFO:lightning.pytorch.utilities.rank_zero:IPU available: False, using: 0 IPUs\n",
      "INFO: HPU available: False, using: 0 HPUs\n",
      "INFO:lightning.pytorch.utilities.rank_zero:HPU available: False, using: 0 HPUs\n",
      "INFO: Global seed set to 42\n",
      "INFO:lightning.fabric.utilities.seed:Global seed set to 42\n",
      "INFO: LOCAL_RANK: 0 - CUDA_VISIBLE_DEVICES: [0,1]\n",
      "INFO:lightning.pytorch.accelerators.cuda:LOCAL_RANK: 0 - CUDA_VISIBLE_DEVICES: [0,1]\n",
      "INFO: \n",
      "   | Name           | Type             | Params\n",
      "-----------------------------------------------------\n",
      "0  | feat_embedding | Sequential       | 832   \n",
      "1  | model          | MLPModel         | 368   \n",
      "2  | head           | Sequential       | 562   \n",
      "3  | fnn_layer      | Linear           | 272   \n",
      "4  | selu           | SELU             | 0     \n",
      "5  | loss_module    | CrossEntropyLoss | 0     \n",
      "6  | train_acc      | BinaryAccuracy   | 0     \n",
      "7  | train_auroc    | BinaryAUROC      | 0     \n",
      "8  | train_f1       | BinaryF1Score    | 0     \n",
      "9  | valid_acc      | BinaryAccuracy   | 0     \n",
      "10 | valid_auroc    | BinaryAUROC      | 0     \n",
      "11 | valid_f1       | BinaryF1Score    | 0     \n",
      "12 | pool           | Attention_module | 281   \n",
      "-----------------------------------------------------\n",
      "2.3 K     Trainable params\n",
      "0         Non-trainable params\n",
      "2.3 K     Total params\n",
      "0.009     Total estimated model params size (MB)\n",
      "INFO:lightning.pytorch.callbacks.model_summary:\n",
      "   | Name           | Type             | Params\n",
      "-----------------------------------------------------\n",
      "0  | feat_embedding | Sequential       | 832   \n",
      "1  | model          | MLPModel         | 368   \n",
      "2  | head           | Sequential       | 562   \n",
      "3  | fnn_layer      | Linear           | 272   \n",
      "4  | selu           | SELU             | 0     \n",
      "5  | loss_module    | CrossEntropyLoss | 0     \n",
      "6  | train_acc      | BinaryAccuracy   | 0     \n",
      "7  | train_auroc    | BinaryAUROC      | 0     \n",
      "8  | train_f1       | BinaryF1Score    | 0     \n",
      "9  | valid_acc      | BinaryAccuracy   | 0     \n",
      "10 | valid_auroc    | BinaryAUROC      | 0     \n",
      "11 | valid_f1       | BinaryF1Score    | 0     \n",
      "12 | pool           | Attention_module | 281   \n",
      "-----------------------------------------------------\n",
      "2.3 K     Trainable params\n",
      "0         Non-trainable params\n",
      "2.3 K     Total params\n",
      "0.009     Total estimated model params size (MB)\n",
      "C:\\Users\\thu71\\AppData\\Roaming\\Python\\Python39\\site-packages\\lightning\\pytorch\\trainer\\connectors\\data_connector.py:478: PossibleUserWarning: Your `val_dataloader`'s sampler has shuffling enabled, it is strongly recommended that you turn shuffling off for val/test dataloaders.\n",
      "  rank_zero_warn(\n",
      "C:\\Users\\thu71\\AppData\\Roaming\\Python\\Python39\\site-packages\\lightning\\pytorch\\trainer\\connectors\\data_connector.py:430: PossibleUserWarning: The dataloader, val_dataloader, does not have many workers which may be a bottleneck. Consider increasing the value of the `num_workers` argument` (try 48 which is the number of cpus on this machine) in the `DataLoader` init to improve performance.\n",
      "  rank_zero_warn(\n"
     ]
    },
    {
     "name": "stdout",
     "output_type": "stream",
     "text": [
      "Training with Morphological features\n"
     ]
    },
    {
     "name": "stderr",
     "output_type": "stream",
     "text": [
      "C:\\Users\\thu71\\Anaconda3\\envs\\snowflake\\lib\\site-packages\\torchmetrics\\utilities\\prints.py:36: UserWarning: No negative samples in targets, false positive value should be meaningless. Returning zero tensor in false positive score\n",
      "  warnings.warn(*args, **kwargs)\n",
      "C:\\Users\\thu71\\AppData\\Roaming\\Python\\Python39\\site-packages\\lightning\\pytorch\\trainer\\connectors\\data_connector.py:430: PossibleUserWarning: The dataloader, train_dataloader, does not have many workers which may be a bottleneck. Consider increasing the value of the `num_workers` argument` (try 48 which is the number of cpus on this machine) in the `DataLoader` init to improve performance.\n",
      "  rank_zero_warn(\n",
      "C:\\Users\\thu71\\AppData\\Roaming\\Python\\Python39\\site-packages\\lightning\\pytorch\\loops\\fit_loop.py:280: PossibleUserWarning: The number of training batches (3) is smaller than the logging interval Trainer(log_every_n_steps=10). Set a lower value for log_every_n_steps if you want to see logs for the training epoch.\n",
      "  rank_zero_warn(\n",
      "C:\\Users\\thu71\\Anaconda3\\envs\\snowflake\\lib\\site-packages\\torchmetrics\\utilities\\prints.py:36: UserWarning: No negative samples in targets, false positive value should be meaningless. Returning zero tensor in false positive score\n",
      "  warnings.warn(*args, **kwargs)\n",
      "C:\\Users\\thu71\\Anaconda3\\envs\\snowflake\\lib\\site-packages\\torchmetrics\\utilities\\prints.py:36: UserWarning: No negative samples in targets, false positive value should be meaningless. Returning zero tensor in false positive score\n",
      "  warnings.warn(*args, **kwargs)\n",
      "C:\\Users\\thu71\\Anaconda3\\envs\\snowflake\\lib\\site-packages\\torchmetrics\\utilities\\prints.py:36: UserWarning: No negative samples in targets, false positive value should be meaningless. Returning zero tensor in false positive score\n",
      "  warnings.warn(*args, **kwargs)\n",
      "C:\\Users\\thu71\\Anaconda3\\envs\\snowflake\\lib\\site-packages\\torchmetrics\\utilities\\prints.py:36: UserWarning: No negative samples in targets, false positive value should be meaningless. Returning zero tensor in false positive score\n",
      "  warnings.warn(*args, **kwargs)\n",
      "C:\\Users\\thu71\\Anaconda3\\envs\\snowflake\\lib\\site-packages\\torchmetrics\\utilities\\prints.py:36: UserWarning: No negative samples in targets, false positive value should be meaningless. Returning zero tensor in false positive score\n",
      "  warnings.warn(*args, **kwargs)\n",
      "C:\\Users\\thu71\\Anaconda3\\envs\\snowflake\\lib\\site-packages\\torchmetrics\\utilities\\prints.py:36: UserWarning: No positive samples in targets, true positive value should be meaningless. Returning zero tensor in true positive score\n",
      "  warnings.warn(*args, **kwargs)\n",
      "C:\\Users\\thu71\\Anaconda3\\envs\\snowflake\\lib\\site-packages\\torchmetrics\\utilities\\prints.py:36: UserWarning: No negative samples in targets, false positive value should be meaningless. Returning zero tensor in false positive score\n",
      "  warnings.warn(*args, **kwargs)\n",
      "C:\\Users\\thu71\\Anaconda3\\envs\\snowflake\\lib\\site-packages\\torchmetrics\\utilities\\prints.py:36: UserWarning: No positive samples in targets, true positive value should be meaningless. Returning zero tensor in true positive score\n",
      "  warnings.warn(*args, **kwargs)\n",
      "INFO: `Trainer.fit` stopped: `max_epochs=100` reached.\n",
      "INFO:lightning.pytorch.utilities.rank_zero:`Trainer.fit` stopped: `max_epochs=100` reached.\n"
     ]
    },
    {
     "data": {
      "text/html": [
       "Waiting for W&B process to finish... <strong style=\"color:green\">(success).</strong>"
      ],
      "text/plain": [
       "<IPython.core.display.HTML object>"
      ]
     },
     "metadata": {},
     "output_type": "display_data"
    },
    {
     "data": {
      "application/vnd.jupyter.widget-view+json": {
       "model_id": "e69542c512fb45ff911d9c8fd0430f03",
       "version_major": 2,
       "version_minor": 0
      },
      "text/plain": [
       "VBox(children=(Label(value='0.001 MB of 0.001 MB uploaded (0.000 MB deduped)\\r'), FloatProgress(value=1.0, max…"
      ]
     },
     "metadata": {},
     "output_type": "display_data"
    },
    {
     "data": {
      "text/html": [
       "<style>\n",
       "    table.wandb td:nth-child(1) { padding: 0 10px; text-align: left ; width: auto;} td:nth-child(2) {text-align: left ; width: 100%}\n",
       "    .wandb-row { display: flex; flex-direction: row; flex-wrap: wrap; justify-content: flex-start; width: 100% }\n",
       "    .wandb-col { display: flex; flex-direction: column; flex-basis: 100%; flex: 1; padding: 10px; }\n",
       "    </style>\n",
       "<div class=\"wandb-row\"><div class=\"wandb-col\"><h3>Run history:</h3><br/><table class=\"wandb\"><tr><td>epoch</td><td>▁▁▁▁▂▂▂▂▂▃▃▃▃▃▃▄▄▄▄▄▅▅▅▅▅▆▆▆▆▆▆▇▇▇▇▇████</td></tr><tr><td>lr-Adam</td><td>▁▁▁▁▁▁▁▁▁▁▁▁▁▁▁▁▁▁▁▁▁▁▁▁▁▁▁▁▁▁▁▁▁▁▁▁▁▁▁▁</td></tr><tr><td>train_acc</td><td>▁▁▁▁▁▁▂▃▃▃▄▄▄▄▄▄▅▅▅▆▆▆▆▆▆▇▇▇▇▇▇▇▇██████▇</td></tr><tr><td>train_auc</td><td>▁▂▂▁▂▂▃▄▄▄▄▅▅▅▅▅▅▆▆▇▇▇▇▇▇▇██████████████</td></tr><tr><td>train_f1</td><td>▁▁▁▁▁▁▁▃▃▂▃▂▃▃▃▄▅▅▄▄▆▆▅▆▆▅▇▇▇▇▇▇▆██████▇</td></tr><tr><td>train_loss_epoch</td><td>██▇█▇▇▇▇▆▆▆▆▆▅▅▅▄▅▄▃▃▄▃▃▃▃▂▂▂▂▂▁▂▁▂▁▁▁▁▁</td></tr><tr><td>train_loss_step</td><td>█▇█▇█▆▆▅█▆▅▆▆▄▅▃▃▁▃▃▄▃▃▂▃▂▂▂▂▁</td></tr><tr><td>trainer/global_step</td><td>▁▁▁▂▁▂▂▂▃▃▃▃▃▃▄▄▄▄▅▃▄▄▅▅▆▄▄▄▆▇▇▅▅▅███▆▆▆</td></tr><tr><td>val_acc</td><td>▁▁▁▁▂▃▃▄▄▅▄▅▄▆▅▅▆▆▆▆▇▆▇▇▅▇▇▆▇▇█▇███▇████</td></tr><tr><td>val_auc</td><td>▁▂▃▃▄▄▄▅▅▅▅▅▆▆▆▆▆▆▇▇▇▇▇▇▇▇▇█████████████</td></tr><tr><td>val_f1</td><td>▁▁▁▁▁▂▃▃▄▅▃▄▄▅▅▅▅▅▆▆▆▅▇▆▅▆▇▆▇▇█▇███▇██▇█</td></tr><tr><td>val_loss_epoch</td><td>▇██▇▆▇▆▅▆▄▄▂▅▅▄▇▃▄▄▄▄▅▂▄▇▂▁▂▃▁▂▁▃▃▅▃▁▂▄▁</td></tr><tr><td>val_loss_step</td><td>▆▇▇▆▅▆▅▄▅▃▂▁▅▅▄█▃▄▄▄▄▆▂▄▇▁▁▁▄▁▂▁▃▄▆▄▁▂▆▁</td></tr></table><br/></div><div class=\"wandb-col\"><h3>Run summary:</h3><br/><table class=\"wandb\"><tr><td>epoch</td><td>99</td></tr><tr><td>lr-Adam</td><td>0.005</td></tr><tr><td>train_acc</td><td>0.85113</td></tr><tr><td>train_auc</td><td>0.90783</td></tr><tr><td>train_f1</td><td>0.87701</td></tr><tr><td>train_loss_epoch</td><td>0.4426</td></tr><tr><td>train_loss_step</td><td>0.39058</td></tr><tr><td>trainer/global_step</td><td>299</td></tr><tr><td>val_acc</td><td>0.86466</td></tr><tr><td>val_auc</td><td>0.92509</td></tr><tr><td>val_f1</td><td>0.88462</td></tr><tr><td>val_loss_epoch</td><td>0.38366</td></tr><tr><td>val_loss_step</td><td>0.31828</td></tr></table><br/></div></div>"
      ],
      "text/plain": [
       "<IPython.core.display.HTML object>"
      ]
     },
     "metadata": {},
     "output_type": "display_data"
    },
    {
     "data": {
      "text/html": [
       " View run <strong style=\"color:#cdcd00\">MLP_2_16_2_moprh</strong> at: <a href='https://wandb.ai/thoomas/SF_082423_Covid/runs/7o5tpa42' target=\"_blank\">https://wandb.ai/thoomas/SF_082423_Covid/runs/7o5tpa42</a><br/>Synced 5 W&B file(s), 0 media file(s), 0 artifact file(s) and 0 other file(s)"
      ],
      "text/plain": [
       "<IPython.core.display.HTML object>"
      ]
     },
     "metadata": {},
     "output_type": "display_data"
    },
    {
     "data": {
      "text/html": [
       "Find logs at: <code>.\\wandb\\run-20230826_061800-7o5tpa42\\logs</code>"
      ],
      "text/plain": [
       "<IPython.core.display.HTML object>"
      ]
     },
     "metadata": {},
     "output_type": "display_data"
    },
    {
     "data": {
      "application/vnd.jupyter.widget-view+json": {
       "model_id": "e92ffba1c0714f68ac8e40689bc666c2",
       "version_major": 2,
       "version_minor": 0
      },
      "text/plain": [
       "VBox(children=(Label(value='Waiting for wandb.init()...\\r'), FloatProgress(value=0.01693333333338766, max=1.0)…"
      ]
     },
     "metadata": {},
     "output_type": "display_data"
    },
    {
     "data": {
      "text/html": [
       "wandb version 0.15.8 is available!  To upgrade, please run:\n",
       " $ pip install wandb --upgrade"
      ],
      "text/plain": [
       "<IPython.core.display.HTML object>"
      ]
     },
     "metadata": {},
     "output_type": "display_data"
    },
    {
     "data": {
      "text/html": [
       "Tracking run with wandb version 0.14.0"
      ],
      "text/plain": [
       "<IPython.core.display.HTML object>"
      ]
     },
     "metadata": {},
     "output_type": "display_data"
    },
    {
     "data": {
      "text/html": [
       "Run data is saved locally in <code>Y:\\coskun-lab\\Thomas\\11_snowflakes\\notebooks\\wandb\\run-20230826_064237-rpmbpvys</code>"
      ],
      "text/plain": [
       "<IPython.core.display.HTML object>"
      ]
     },
     "metadata": {},
     "output_type": "display_data"
    },
    {
     "data": {
      "text/html": [
       "Syncing run <strong><a href='https://wandb.ai/thoomas/SF_082423_Covid/runs/rpmbpvys' target=\"_blank\">MLP_2_16_3_moprh</a></strong> to <a href='https://wandb.ai/thoomas/SF_082423_Covid' target=\"_blank\">Weights & Biases</a> (<a href='https://wandb.me/run' target=\"_blank\">docs</a>)<br/>"
      ],
      "text/plain": [
       "<IPython.core.display.HTML object>"
      ]
     },
     "metadata": {},
     "output_type": "display_data"
    },
    {
     "data": {
      "text/html": [
       " View project at <a href='https://wandb.ai/thoomas/SF_082423_Covid' target=\"_blank\">https://wandb.ai/thoomas/SF_082423_Covid</a>"
      ],
      "text/plain": [
       "<IPython.core.display.HTML object>"
      ]
     },
     "metadata": {},
     "output_type": "display_data"
    },
    {
     "data": {
      "text/html": [
       " View run at <a href='https://wandb.ai/thoomas/SF_082423_Covid/runs/rpmbpvys' target=\"_blank\">https://wandb.ai/thoomas/SF_082423_Covid/runs/rpmbpvys</a>"
      ],
      "text/plain": [
       "<IPython.core.display.HTML object>"
      ]
     },
     "metadata": {},
     "output_type": "display_data"
    },
    {
     "name": "stderr",
     "output_type": "stream",
     "text": [
      "INFO: Global seed set to 42\n",
      "INFO:lightning.fabric.utilities.seed:Global seed set to 42\n",
      "C:\\Users\\thu71\\Anaconda3\\envs\\snowflake\\lib\\site-packages\\pytorch_lightning\\loggers\\wandb.py:395: UserWarning: There is a wandb run already in progress and newly created instances of `WandbLogger` will reuse this run. If this is not desired, call `wandb.finish()` before instantiating `WandbLogger`.\n",
      "  rank_zero_warn(\n",
      "INFO: GPU available: True (cuda), used: True\n",
      "INFO:lightning.pytorch.utilities.rank_zero:GPU available: True (cuda), used: True\n",
      "INFO: TPU available: False, using: 0 TPU cores\n",
      "INFO:lightning.pytorch.utilities.rank_zero:TPU available: False, using: 0 TPU cores\n",
      "INFO: IPU available: False, using: 0 IPUs\n",
      "INFO:lightning.pytorch.utilities.rank_zero:IPU available: False, using: 0 IPUs\n",
      "INFO: HPU available: False, using: 0 HPUs\n",
      "INFO:lightning.pytorch.utilities.rank_zero:HPU available: False, using: 0 HPUs\n",
      "INFO: Global seed set to 42\n",
      "INFO:lightning.fabric.utilities.seed:Global seed set to 42\n",
      "INFO: LOCAL_RANK: 0 - CUDA_VISIBLE_DEVICES: [0,1]\n",
      "INFO:lightning.pytorch.accelerators.cuda:LOCAL_RANK: 0 - CUDA_VISIBLE_DEVICES: [0,1]\n",
      "INFO: \n",
      "   | Name           | Type             | Params\n",
      "-----------------------------------------------------\n",
      "0  | feat_embedding | Sequential       | 832   \n",
      "1  | model          | MLPModel         | 368   \n",
      "2  | head           | Sequential       | 562   \n",
      "3  | fnn_layer      | Linear           | 272   \n",
      "4  | selu           | SELU             | 0     \n",
      "5  | loss_module    | CrossEntropyLoss | 0     \n",
      "6  | train_acc      | BinaryAccuracy   | 0     \n",
      "7  | train_auroc    | BinaryAUROC      | 0     \n",
      "8  | train_f1       | BinaryF1Score    | 0     \n",
      "9  | valid_acc      | BinaryAccuracy   | 0     \n",
      "10 | valid_auroc    | BinaryAUROC      | 0     \n",
      "11 | valid_f1       | BinaryF1Score    | 0     \n",
      "-----------------------------------------------------\n",
      "2.0 K     Trainable params\n",
      "0         Non-trainable params\n",
      "2.0 K     Total params\n",
      "0.008     Total estimated model params size (MB)\n",
      "INFO:lightning.pytorch.callbacks.model_summary:\n",
      "   | Name           | Type             | Params\n",
      "-----------------------------------------------------\n",
      "0  | feat_embedding | Sequential       | 832   \n",
      "1  | model          | MLPModel         | 368   \n",
      "2  | head           | Sequential       | 562   \n",
      "3  | fnn_layer      | Linear           | 272   \n",
      "4  | selu           | SELU             | 0     \n",
      "5  | loss_module    | CrossEntropyLoss | 0     \n",
      "6  | train_acc      | BinaryAccuracy   | 0     \n",
      "7  | train_auroc    | BinaryAUROC      | 0     \n",
      "8  | train_f1       | BinaryF1Score    | 0     \n",
      "9  | valid_acc      | BinaryAccuracy   | 0     \n",
      "10 | valid_auroc    | BinaryAUROC      | 0     \n",
      "11 | valid_f1       | BinaryF1Score    | 0     \n",
      "-----------------------------------------------------\n",
      "2.0 K     Trainable params\n",
      "0         Non-trainable params\n",
      "2.0 K     Total params\n",
      "0.008     Total estimated model params size (MB)\n",
      "C:\\Users\\thu71\\AppData\\Roaming\\Python\\Python39\\site-packages\\lightning\\pytorch\\trainer\\connectors\\data_connector.py:478: PossibleUserWarning: Your `val_dataloader`'s sampler has shuffling enabled, it is strongly recommended that you turn shuffling off for val/test dataloaders.\n",
      "  rank_zero_warn(\n",
      "C:\\Users\\thu71\\AppData\\Roaming\\Python\\Python39\\site-packages\\lightning\\pytorch\\trainer\\connectors\\data_connector.py:430: PossibleUserWarning: The dataloader, val_dataloader, does not have many workers which may be a bottleneck. Consider increasing the value of the `num_workers` argument` (try 48 which is the number of cpus on this machine) in the `DataLoader` init to improve performance.\n",
      "  rank_zero_warn(\n"
     ]
    },
    {
     "name": "stdout",
     "output_type": "stream",
     "text": [
      "Training with Morphological features\n"
     ]
    },
    {
     "name": "stderr",
     "output_type": "stream",
     "text": [
      "C:\\Users\\thu71\\AppData\\Roaming\\Python\\Python39\\site-packages\\lightning\\pytorch\\trainer\\connectors\\data_connector.py:430: PossibleUserWarning: The dataloader, train_dataloader, does not have many workers which may be a bottleneck. Consider increasing the value of the `num_workers` argument` (try 48 which is the number of cpus on this machine) in the `DataLoader` init to improve performance.\n",
      "  rank_zero_warn(\n",
      "C:\\Users\\thu71\\AppData\\Roaming\\Python\\Python39\\site-packages\\lightning\\pytorch\\loops\\fit_loop.py:280: PossibleUserWarning: The number of training batches (3) is smaller than the logging interval Trainer(log_every_n_steps=10). Set a lower value for log_every_n_steps if you want to see logs for the training epoch.\n",
      "  rank_zero_warn(\n",
      "C:\\Users\\thu71\\Anaconda3\\envs\\snowflake\\lib\\site-packages\\torchmetrics\\utilities\\prints.py:36: UserWarning: No positive samples in targets, true positive value should be meaningless. Returning zero tensor in true positive score\n",
      "  warnings.warn(*args, **kwargs)\n",
      "C:\\Users\\thu71\\Anaconda3\\envs\\snowflake\\lib\\site-packages\\torchmetrics\\utilities\\prints.py:36: UserWarning: No negative samples in targets, false positive value should be meaningless. Returning zero tensor in false positive score\n",
      "  warnings.warn(*args, **kwargs)\n",
      "C:\\Users\\thu71\\Anaconda3\\envs\\snowflake\\lib\\site-packages\\torchmetrics\\utilities\\prints.py:36: UserWarning: No negative samples in targets, false positive value should be meaningless. Returning zero tensor in false positive score\n",
      "  warnings.warn(*args, **kwargs)\n",
      "C:\\Users\\thu71\\Anaconda3\\envs\\snowflake\\lib\\site-packages\\torchmetrics\\utilities\\prints.py:36: UserWarning: No negative samples in targets, false positive value should be meaningless. Returning zero tensor in false positive score\n",
      "  warnings.warn(*args, **kwargs)\n",
      "INFO: `Trainer.fit` stopped: `max_epochs=100` reached.\n",
      "INFO:lightning.pytorch.utilities.rank_zero:`Trainer.fit` stopped: `max_epochs=100` reached.\n"
     ]
    },
    {
     "data": {
      "text/html": [
       "Waiting for W&B process to finish... <strong style=\"color:green\">(success).</strong>"
      ],
      "text/plain": [
       "<IPython.core.display.HTML object>"
      ]
     },
     "metadata": {},
     "output_type": "display_data"
    },
    {
     "data": {
      "application/vnd.jupyter.widget-view+json": {
       "model_id": "e7b998489c6743ea9bd9d5bd191174d9",
       "version_major": 2,
       "version_minor": 0
      },
      "text/plain": [
       "VBox(children=(Label(value='0.001 MB of 0.001 MB uploaded (0.000 MB deduped)\\r'), FloatProgress(value=1.0, max…"
      ]
     },
     "metadata": {},
     "output_type": "display_data"
    },
    {
     "data": {
      "text/html": [
       "<style>\n",
       "    table.wandb td:nth-child(1) { padding: 0 10px; text-align: left ; width: auto;} td:nth-child(2) {text-align: left ; width: 100%}\n",
       "    .wandb-row { display: flex; flex-direction: row; flex-wrap: wrap; justify-content: flex-start; width: 100% }\n",
       "    .wandb-col { display: flex; flex-direction: column; flex-basis: 100%; flex: 1; padding: 10px; }\n",
       "    </style>\n",
       "<div class=\"wandb-row\"><div class=\"wandb-col\"><h3>Run history:</h3><br/><table class=\"wandb\"><tr><td>epoch</td><td>▁▁▁▁▂▂▂▂▂▃▃▃▃▃▃▄▄▄▄▄▅▅▅▅▅▆▆▆▆▆▆▇▇▇▇▇████</td></tr><tr><td>lr-Adam</td><td>▁▁▁▁▁▁▁▁▁▁▁▁▁▁▁▁▁▁▁▁▁▁▁▁▁▁▁▁▁▁▁▁▁▁▁▁▁▁▁▁</td></tr><tr><td>train_acc</td><td>▁▁▂▂▃▃▃▄▄▄▄▄▅▆▆▆▇▇▇▇▇█▇▇▇▇▇█▇▇▇▇█▇████▇█</td></tr><tr><td>train_auc</td><td>▂▂▁▄▃▄▄▄▅▅▅▅▅▆▆▇▇▇▇▇▇██████████▇████████</td></tr><tr><td>train_f1</td><td>▂▁▂▂▃▃▃▃▃▃▄▄▅▅▆▅▆▆▇▇▇█▇▇▇▇▇▇▇▇▇▇█▇██▇█▇█</td></tr><tr><td>train_loss_epoch</td><td>███▇▇▆▇▆▆▆▅▅▅▄▄▃▃▃▂▂▂▂▂▂▂▂▂▂▂▂▁▂▂▂▂▁▂▁▂▁</td></tr><tr><td>train_loss_step</td><td>█▇█▇▆▆▆▆▄▄▃▄▄▃▃▃▂▃▂▂▂▂▂▃▂▂▂▂▃▁</td></tr><tr><td>trainer/global_step</td><td>▁▁▁▂▁▂▂▂▃▃▃▃▃▃▄▄▄▄▅▃▄▄▅▅▆▄▄▄▆▇▇▅▅▅███▆▆▆</td></tr><tr><td>val_acc</td><td>▁▁▁▂▂▂▂▂▃▃▃▃▆▆▆▆▆▆▆▇▆▇▇▆▇▆▇█▄▇▇▆▇██▆▇▇██</td></tr><tr><td>val_auc</td><td>▁▃▃▃▃▄▄▄▄▄▅▅▅▆▆▇▇▇▇▇▇███████████████████</td></tr><tr><td>val_f1</td><td>▅▅▅▅▄▃▄▄▅▅▅▅▇▇▇▇▇▆▆▇▆▇▆▅▇▄▇█▁▇█▅▆██▆▇▆██</td></tr><tr><td>val_loss_epoch</td><td>▅▅▅▆▅▆▅▃█▆▆▃▄▄▃▄▃▃▄▄▂▃▃▃▁▅▃▆▂▁▃▃▃▂▄▄▄▄▃▅</td></tr><tr><td>val_loss_step</td><td>▄▅▄▅▅▅▄▂█▅▆▂▄▄▃▄▃▄▅▄▂▃▄▃▁▅▃▇▁▁▃▃▃▃▄▄▄▅▃▆</td></tr></table><br/></div><div class=\"wandb-col\"><h3>Run summary:</h3><br/><table class=\"wandb\"><tr><td>epoch</td><td>99</td></tr><tr><td>lr-Adam</td><td>0.005</td></tr><tr><td>train_acc</td><td>0.88673</td></tr><tr><td>train_auc</td><td>0.94997</td></tr><tr><td>train_f1</td><td>0.90196</td></tr><tr><td>train_loss_epoch</td><td>0.41286</td></tr><tr><td>train_loss_step</td><td>0.37825</td></tr><tr><td>trainer/global_step</td><td>299</td></tr><tr><td>val_acc</td><td>0.78947</td></tr><tr><td>val_auc</td><td>0.85134</td></tr><tr><td>val_f1</td><td>0.80822</td></tr><tr><td>val_loss_epoch</td><td>0.64557</td></tr><tr><td>val_loss_step</td><td>0.78078</td></tr></table><br/></div></div>"
      ],
      "text/plain": [
       "<IPython.core.display.HTML object>"
      ]
     },
     "metadata": {},
     "output_type": "display_data"
    },
    {
     "data": {
      "text/html": [
       " View run <strong style=\"color:#cdcd00\">MLP_2_16_3_moprh</strong> at: <a href='https://wandb.ai/thoomas/SF_082423_Covid/runs/rpmbpvys' target=\"_blank\">https://wandb.ai/thoomas/SF_082423_Covid/runs/rpmbpvys</a><br/>Synced 5 W&B file(s), 0 media file(s), 0 artifact file(s) and 0 other file(s)"
      ],
      "text/plain": [
       "<IPython.core.display.HTML object>"
      ]
     },
     "metadata": {},
     "output_type": "display_data"
    },
    {
     "data": {
      "text/html": [
       "Find logs at: <code>.\\wandb\\run-20230826_064237-rpmbpvys\\logs</code>"
      ],
      "text/plain": [
       "<IPython.core.display.HTML object>"
      ]
     },
     "metadata": {},
     "output_type": "display_data"
    },
    {
     "data": {
      "application/vnd.jupyter.widget-view+json": {
       "model_id": "3750cc6174d548f1b02662d3c184859f",
       "version_major": 2,
       "version_minor": 0
      },
      "text/plain": [
       "VBox(children=(Label(value='Waiting for wandb.init()...\\r'), FloatProgress(value=0.01693333333338766, max=1.0)…"
      ]
     },
     "metadata": {},
     "output_type": "display_data"
    },
    {
     "data": {
      "text/html": [
       "wandb version 0.15.8 is available!  To upgrade, please run:\n",
       " $ pip install wandb --upgrade"
      ],
      "text/plain": [
       "<IPython.core.display.HTML object>"
      ]
     },
     "metadata": {},
     "output_type": "display_data"
    },
    {
     "data": {
      "text/html": [
       "Tracking run with wandb version 0.14.0"
      ],
      "text/plain": [
       "<IPython.core.display.HTML object>"
      ]
     },
     "metadata": {},
     "output_type": "display_data"
    },
    {
     "data": {
      "text/html": [
       "Run data is saved locally in <code>Y:\\coskun-lab\\Thomas\\11_snowflakes\\notebooks\\wandb\\run-20230826_070439-w5hsl1vm</code>"
      ],
      "text/plain": [
       "<IPython.core.display.HTML object>"
      ]
     },
     "metadata": {},
     "output_type": "display_data"
    },
    {
     "data": {
      "text/html": [
       "Syncing run <strong><a href='https://wandb.ai/thoomas/SF_082423_Covid/runs/w5hsl1vm' target=\"_blank\">MLP_2_16_3_moprh</a></strong> to <a href='https://wandb.ai/thoomas/SF_082423_Covid' target=\"_blank\">Weights & Biases</a> (<a href='https://wandb.me/run' target=\"_blank\">docs</a>)<br/>"
      ],
      "text/plain": [
       "<IPython.core.display.HTML object>"
      ]
     },
     "metadata": {},
     "output_type": "display_data"
    },
    {
     "data": {
      "text/html": [
       " View project at <a href='https://wandb.ai/thoomas/SF_082423_Covid' target=\"_blank\">https://wandb.ai/thoomas/SF_082423_Covid</a>"
      ],
      "text/plain": [
       "<IPython.core.display.HTML object>"
      ]
     },
     "metadata": {},
     "output_type": "display_data"
    },
    {
     "data": {
      "text/html": [
       " View run at <a href='https://wandb.ai/thoomas/SF_082423_Covid/runs/w5hsl1vm' target=\"_blank\">https://wandb.ai/thoomas/SF_082423_Covid/runs/w5hsl1vm</a>"
      ],
      "text/plain": [
       "<IPython.core.display.HTML object>"
      ]
     },
     "metadata": {},
     "output_type": "display_data"
    },
    {
     "name": "stderr",
     "output_type": "stream",
     "text": [
      "INFO: Global seed set to 42\n",
      "INFO:lightning.fabric.utilities.seed:Global seed set to 42\n",
      "C:\\Users\\thu71\\Anaconda3\\envs\\snowflake\\lib\\site-packages\\pytorch_lightning\\loggers\\wandb.py:395: UserWarning: There is a wandb run already in progress and newly created instances of `WandbLogger` will reuse this run. If this is not desired, call `wandb.finish()` before instantiating `WandbLogger`.\n",
      "  rank_zero_warn(\n",
      "INFO: GPU available: True (cuda), used: True\n",
      "INFO:lightning.pytorch.utilities.rank_zero:GPU available: True (cuda), used: True\n",
      "INFO: TPU available: False, using: 0 TPU cores\n",
      "INFO:lightning.pytorch.utilities.rank_zero:TPU available: False, using: 0 TPU cores\n",
      "INFO: IPU available: False, using: 0 IPUs\n",
      "INFO:lightning.pytorch.utilities.rank_zero:IPU available: False, using: 0 IPUs\n",
      "INFO: HPU available: False, using: 0 HPUs\n",
      "INFO:lightning.pytorch.utilities.rank_zero:HPU available: False, using: 0 HPUs\n",
      "INFO: Global seed set to 42\n",
      "INFO:lightning.fabric.utilities.seed:Global seed set to 42\n",
      "INFO: LOCAL_RANK: 0 - CUDA_VISIBLE_DEVICES: [0,1]\n",
      "INFO:lightning.pytorch.accelerators.cuda:LOCAL_RANK: 0 - CUDA_VISIBLE_DEVICES: [0,1]\n",
      "INFO: \n",
      "   | Name           | Type             | Params\n",
      "-----------------------------------------------------\n",
      "0  | feat_embedding | Sequential       | 832   \n",
      "1  | model          | MLPModel         | 368   \n",
      "2  | head           | Sequential       | 562   \n",
      "3  | fnn_layer      | Linear           | 272   \n",
      "4  | selu           | SELU             | 0     \n",
      "5  | loss_module    | CrossEntropyLoss | 0     \n",
      "6  | train_acc      | BinaryAccuracy   | 0     \n",
      "7  | train_auroc    | BinaryAUROC      | 0     \n",
      "8  | train_f1       | BinaryF1Score    | 0     \n",
      "9  | valid_acc      | BinaryAccuracy   | 0     \n",
      "10 | valid_auroc    | BinaryAUROC      | 0     \n",
      "11 | valid_f1       | BinaryF1Score    | 0     \n",
      "-----------------------------------------------------\n",
      "2.0 K     Trainable params\n",
      "0         Non-trainable params\n",
      "2.0 K     Total params\n",
      "0.008     Total estimated model params size (MB)\n",
      "INFO:lightning.pytorch.callbacks.model_summary:\n",
      "   | Name           | Type             | Params\n",
      "-----------------------------------------------------\n",
      "0  | feat_embedding | Sequential       | 832   \n",
      "1  | model          | MLPModel         | 368   \n",
      "2  | head           | Sequential       | 562   \n",
      "3  | fnn_layer      | Linear           | 272   \n",
      "4  | selu           | SELU             | 0     \n",
      "5  | loss_module    | CrossEntropyLoss | 0     \n",
      "6  | train_acc      | BinaryAccuracy   | 0     \n",
      "7  | train_auroc    | BinaryAUROC      | 0     \n",
      "8  | train_f1       | BinaryF1Score    | 0     \n",
      "9  | valid_acc      | BinaryAccuracy   | 0     \n",
      "10 | valid_auroc    | BinaryAUROC      | 0     \n",
      "11 | valid_f1       | BinaryF1Score    | 0     \n",
      "-----------------------------------------------------\n",
      "2.0 K     Trainable params\n",
      "0         Non-trainable params\n",
      "2.0 K     Total params\n",
      "0.008     Total estimated model params size (MB)\n",
      "C:\\Users\\thu71\\AppData\\Roaming\\Python\\Python39\\site-packages\\lightning\\pytorch\\trainer\\connectors\\data_connector.py:478: PossibleUserWarning: Your `val_dataloader`'s sampler has shuffling enabled, it is strongly recommended that you turn shuffling off for val/test dataloaders.\n",
      "  rank_zero_warn(\n",
      "C:\\Users\\thu71\\AppData\\Roaming\\Python\\Python39\\site-packages\\lightning\\pytorch\\trainer\\connectors\\data_connector.py:430: PossibleUserWarning: The dataloader, val_dataloader, does not have many workers which may be a bottleneck. Consider increasing the value of the `num_workers` argument` (try 48 which is the number of cpus on this machine) in the `DataLoader` init to improve performance.\n",
      "  rank_zero_warn(\n"
     ]
    },
    {
     "name": "stdout",
     "output_type": "stream",
     "text": [
      "Training with Morphological features\n"
     ]
    },
    {
     "name": "stderr",
     "output_type": "stream",
     "text": [
      "C:\\Users\\thu71\\AppData\\Roaming\\Python\\Python39\\site-packages\\lightning\\pytorch\\trainer\\connectors\\data_connector.py:430: PossibleUserWarning: The dataloader, train_dataloader, does not have many workers which may be a bottleneck. Consider increasing the value of the `num_workers` argument` (try 48 which is the number of cpus on this machine) in the `DataLoader` init to improve performance.\n",
      "  rank_zero_warn(\n",
      "C:\\Users\\thu71\\AppData\\Roaming\\Python\\Python39\\site-packages\\lightning\\pytorch\\loops\\fit_loop.py:280: PossibleUserWarning: The number of training batches (3) is smaller than the logging interval Trainer(log_every_n_steps=10). Set a lower value for log_every_n_steps if you want to see logs for the training epoch.\n",
      "  rank_zero_warn(\n",
      "C:\\Users\\thu71\\Anaconda3\\envs\\snowflake\\lib\\site-packages\\torchmetrics\\utilities\\prints.py:36: UserWarning: No positive samples in targets, true positive value should be meaningless. Returning zero tensor in true positive score\n",
      "  warnings.warn(*args, **kwargs)\n",
      "C:\\Users\\thu71\\Anaconda3\\envs\\snowflake\\lib\\site-packages\\torchmetrics\\utilities\\prints.py:36: UserWarning: No negative samples in targets, false positive value should be meaningless. Returning zero tensor in false positive score\n",
      "  warnings.warn(*args, **kwargs)\n",
      "C:\\Users\\thu71\\Anaconda3\\envs\\snowflake\\lib\\site-packages\\torchmetrics\\utilities\\prints.py:36: UserWarning: No negative samples in targets, false positive value should be meaningless. Returning zero tensor in false positive score\n",
      "  warnings.warn(*args, **kwargs)\n",
      "C:\\Users\\thu71\\Anaconda3\\envs\\snowflake\\lib\\site-packages\\torchmetrics\\utilities\\prints.py:36: UserWarning: No negative samples in targets, false positive value should be meaningless. Returning zero tensor in false positive score\n",
      "  warnings.warn(*args, **kwargs)\n",
      "INFO: `Trainer.fit` stopped: `max_epochs=100` reached.\n",
      "INFO:lightning.pytorch.utilities.rank_zero:`Trainer.fit` stopped: `max_epochs=100` reached.\n"
     ]
    },
    {
     "data": {
      "text/html": [
       "Waiting for W&B process to finish... <strong style=\"color:green\">(success).</strong>"
      ],
      "text/plain": [
       "<IPython.core.display.HTML object>"
      ]
     },
     "metadata": {},
     "output_type": "display_data"
    },
    {
     "data": {
      "application/vnd.jupyter.widget-view+json": {
       "model_id": "2533b79e819c424a9478c83785b2e9d4",
       "version_major": 2,
       "version_minor": 0
      },
      "text/plain": [
       "VBox(children=(Label(value='0.001 MB of 0.001 MB uploaded (0.000 MB deduped)\\r'), FloatProgress(value=1.0, max…"
      ]
     },
     "metadata": {},
     "output_type": "display_data"
    },
    {
     "data": {
      "text/html": [
       "<style>\n",
       "    table.wandb td:nth-child(1) { padding: 0 10px; text-align: left ; width: auto;} td:nth-child(2) {text-align: left ; width: 100%}\n",
       "    .wandb-row { display: flex; flex-direction: row; flex-wrap: wrap; justify-content: flex-start; width: 100% }\n",
       "    .wandb-col { display: flex; flex-direction: column; flex-basis: 100%; flex: 1; padding: 10px; }\n",
       "    </style>\n",
       "<div class=\"wandb-row\"><div class=\"wandb-col\"><h3>Run history:</h3><br/><table class=\"wandb\"><tr><td>epoch</td><td>▁▁▁▁▂▂▂▂▂▃▃▃▃▃▃▄▄▄▄▄▅▅▅▅▅▆▆▆▆▆▆▇▇▇▇▇████</td></tr><tr><td>lr-Adam</td><td>▁▁▁▁▁▁▁▁▁▁▁▁▁▁▁▁▁▁▁▁▁▁▁▁▁▁▁▁▁▁▁▁▁▁▁▁▁▁▁▁</td></tr><tr><td>train_acc</td><td>▁▁▁▂▁▂▁▃▂▂▄▄▄▅▅▅▅▅▆▆▆▆▆▆▅▄▆▅▇▇▇▆▆█▇▇▇▇▇▇</td></tr><tr><td>train_auc</td><td>▁▂▂▃▂▃▂▄▃▄▅▆▅▅▆▆▆▆▇▆▇▇▇▇▆▆▇▇▇▇▇▇▇█▇█▇█▇▇</td></tr><tr><td>train_f1</td><td>▁▁▃▄▃▃▂▄▂▂▅▅▄▄▅▄▅▄▅▇▆▆▆▆▅▄▇▅▇▆▇▆▆█▇▇▇▇▇▇</td></tr><tr><td>train_loss_epoch</td><td>██▇▇▇▇█▆▇▇▆▅▅▅▄▄▃▄▃▃▃▃▄▃▄▃▃▃▂▂▃▃▃▁▃▂▃▁▂▂</td></tr><tr><td>train_loss_step</td><td>▇▇█▇▆▇▇▆▃▅▅▂▄▄▃▅▃▂▄▂▄▃▂▃▂▁▄▃▂▄</td></tr><tr><td>trainer/global_step</td><td>▁▁▁▂▁▂▂▂▃▃▃▃▃▃▄▄▄▄▅▃▄▄▅▅▆▄▄▄▆▇▇▅▅▅███▆▆▆</td></tr><tr><td>val_acc</td><td>▁▁▁▁▁▁▁▁▁▁▁▁▄▄▂▅▅▆▆▄█▆▅▆▇▅▅▄▇▇▇▆▆▆▇▇▇▇▇▆</td></tr><tr><td>val_auc</td><td>▁▂▃▃▄▄▅▅▇▇▇▇▇▇█▇█▇▇█▇▇▇█▇███▇███████████</td></tr><tr><td>val_f1</td><td>▁▁▁▁▁▁▁▁▁▁▁▁▅▅▂▅▆▆▆▃▇▅▅▇▇▆▅▄▄▇▆▆▅▆█▇██▇▇</td></tr><tr><td>val_loss_epoch</td><td>▇▇▆▇▇▇▆▆▇▆▇▆▇▇▆▄▆▄▇▃▅▆▆▆▃▅▅▂▆▃▃▅▅█▅▃▆▁▂▆</td></tr><tr><td>val_loss_step</td><td>▅▆▅▆▆▆▅▅▆▅▆▅▆▆▅▄▅▃▆▃▅▆▆▆▃▅▅▂▆▃▃▅▅█▅▃▆▁▂▆</td></tr></table><br/></div><div class=\"wandb-col\"><h3>Run summary:</h3><br/><table class=\"wandb\"><tr><td>epoch</td><td>99</td></tr><tr><td>lr-Adam</td><td>0.005</td></tr><tr><td>train_acc</td><td>0.73463</td></tr><tr><td>train_auc</td><td>0.80941</td></tr><tr><td>train_f1</td><td>0.78974</td></tr><tr><td>train_loss_epoch</td><td>0.56556</td></tr><tr><td>train_loss_step</td><td>0.59435</td></tr><tr><td>trainer/global_step</td><td>299</td></tr><tr><td>val_acc</td><td>0.67669</td></tr><tr><td>val_auc</td><td>0.77262</td></tr><tr><td>val_f1</td><td>0.77005</td></tr><tr><td>val_loss_epoch</td><td>0.668</td></tr><tr><td>val_loss_step</td><td>0.73739</td></tr></table><br/></div></div>"
      ],
      "text/plain": [
       "<IPython.core.display.HTML object>"
      ]
     },
     "metadata": {},
     "output_type": "display_data"
    },
    {
     "data": {
      "text/html": [
       " View run <strong style=\"color:#cdcd00\">MLP_2_16_3_moprh</strong> at: <a href='https://wandb.ai/thoomas/SF_082423_Covid/runs/w5hsl1vm' target=\"_blank\">https://wandb.ai/thoomas/SF_082423_Covid/runs/w5hsl1vm</a><br/>Synced 5 W&B file(s), 0 media file(s), 0 artifact file(s) and 0 other file(s)"
      ],
      "text/plain": [
       "<IPython.core.display.HTML object>"
      ]
     },
     "metadata": {},
     "output_type": "display_data"
    },
    {
     "data": {
      "text/html": [
       "Find logs at: <code>.\\wandb\\run-20230826_070439-w5hsl1vm\\logs</code>"
      ],
      "text/plain": [
       "<IPython.core.display.HTML object>"
      ]
     },
     "metadata": {},
     "output_type": "display_data"
    },
    {
     "data": {
      "application/vnd.jupyter.widget-view+json": {
       "model_id": "fcc8e3ec9b7c413f80cd0bca554a14a2",
       "version_major": 2,
       "version_minor": 0
      },
      "text/plain": [
       "VBox(children=(Label(value='Waiting for wandb.init()...\\r'), FloatProgress(value=0.016916666666414434, max=1.0…"
      ]
     },
     "metadata": {},
     "output_type": "display_data"
    },
    {
     "data": {
      "text/html": [
       "wandb version 0.15.8 is available!  To upgrade, please run:\n",
       " $ pip install wandb --upgrade"
      ],
      "text/plain": [
       "<IPython.core.display.HTML object>"
      ]
     },
     "metadata": {},
     "output_type": "display_data"
    },
    {
     "data": {
      "text/html": [
       "Tracking run with wandb version 0.14.0"
      ],
      "text/plain": [
       "<IPython.core.display.HTML object>"
      ]
     },
     "metadata": {},
     "output_type": "display_data"
    },
    {
     "data": {
      "text/html": [
       "Run data is saved locally in <code>Y:\\coskun-lab\\Thomas\\11_snowflakes\\notebooks\\wandb\\run-20230826_072850-2c3y85wc</code>"
      ],
      "text/plain": [
       "<IPython.core.display.HTML object>"
      ]
     },
     "metadata": {},
     "output_type": "display_data"
    },
    {
     "data": {
      "text/html": [
       "Syncing run <strong><a href='https://wandb.ai/thoomas/SF_082423_Covid/runs/2c3y85wc' target=\"_blank\">MLP_2_16_3_moprh</a></strong> to <a href='https://wandb.ai/thoomas/SF_082423_Covid' target=\"_blank\">Weights & Biases</a> (<a href='https://wandb.me/run' target=\"_blank\">docs</a>)<br/>"
      ],
      "text/plain": [
       "<IPython.core.display.HTML object>"
      ]
     },
     "metadata": {},
     "output_type": "display_data"
    },
    {
     "data": {
      "text/html": [
       " View project at <a href='https://wandb.ai/thoomas/SF_082423_Covid' target=\"_blank\">https://wandb.ai/thoomas/SF_082423_Covid</a>"
      ],
      "text/plain": [
       "<IPython.core.display.HTML object>"
      ]
     },
     "metadata": {},
     "output_type": "display_data"
    },
    {
     "data": {
      "text/html": [
       " View run at <a href='https://wandb.ai/thoomas/SF_082423_Covid/runs/2c3y85wc' target=\"_blank\">https://wandb.ai/thoomas/SF_082423_Covid/runs/2c3y85wc</a>"
      ],
      "text/plain": [
       "<IPython.core.display.HTML object>"
      ]
     },
     "metadata": {},
     "output_type": "display_data"
    },
    {
     "name": "stderr",
     "output_type": "stream",
     "text": [
      "INFO: Global seed set to 42\n",
      "INFO:lightning.fabric.utilities.seed:Global seed set to 42\n",
      "C:\\Users\\thu71\\Anaconda3\\envs\\snowflake\\lib\\site-packages\\pytorch_lightning\\loggers\\wandb.py:395: UserWarning: There is a wandb run already in progress and newly created instances of `WandbLogger` will reuse this run. If this is not desired, call `wandb.finish()` before instantiating `WandbLogger`.\n",
      "  rank_zero_warn(\n",
      "INFO: GPU available: True (cuda), used: True\n",
      "INFO:lightning.pytorch.utilities.rank_zero:GPU available: True (cuda), used: True\n",
      "INFO: TPU available: False, using: 0 TPU cores\n",
      "INFO:lightning.pytorch.utilities.rank_zero:TPU available: False, using: 0 TPU cores\n",
      "INFO: IPU available: False, using: 0 IPUs\n",
      "INFO:lightning.pytorch.utilities.rank_zero:IPU available: False, using: 0 IPUs\n",
      "INFO: HPU available: False, using: 0 HPUs\n",
      "INFO:lightning.pytorch.utilities.rank_zero:HPU available: False, using: 0 HPUs\n",
      "INFO: Global seed set to 42\n",
      "INFO:lightning.fabric.utilities.seed:Global seed set to 42\n",
      "C:\\Users\\thu71\\Anaconda3\\envs\\snowflake\\lib\\site-packages\\torch_geometric\\deprecation.py:12: UserWarning: 'nn.glob.GlobalAttention' is deprecated, use 'nn.aggr.AttentionalAggregation' instead\n",
      "  warnings.warn(out)\n",
      "INFO: LOCAL_RANK: 0 - CUDA_VISIBLE_DEVICES: [0,1]\n",
      "INFO:lightning.pytorch.accelerators.cuda:LOCAL_RANK: 0 - CUDA_VISIBLE_DEVICES: [0,1]\n",
      "INFO: \n",
      "   | Name           | Type             | Params\n",
      "-----------------------------------------------------\n",
      "0  | feat_embedding | Sequential       | 832   \n",
      "1  | model          | MLPModel         | 368   \n",
      "2  | head           | Sequential       | 562   \n",
      "3  | fnn_layer      | Linear           | 272   \n",
      "4  | selu           | SELU             | 0     \n",
      "5  | loss_module    | CrossEntropyLoss | 0     \n",
      "6  | train_acc      | BinaryAccuracy   | 0     \n",
      "7  | train_auroc    | BinaryAUROC      | 0     \n",
      "8  | train_f1       | BinaryF1Score    | 0     \n",
      "9  | valid_acc      | BinaryAccuracy   | 0     \n",
      "10 | valid_auroc    | BinaryAUROC      | 0     \n",
      "11 | valid_f1       | BinaryF1Score    | 0     \n",
      "12 | pool           | GlobalAttention  | 17    \n",
      "-----------------------------------------------------\n",
      "2.1 K     Trainable params\n",
      "0         Non-trainable params\n",
      "2.1 K     Total params\n",
      "0.008     Total estimated model params size (MB)\n",
      "INFO:lightning.pytorch.callbacks.model_summary:\n",
      "   | Name           | Type             | Params\n",
      "-----------------------------------------------------\n",
      "0  | feat_embedding | Sequential       | 832   \n",
      "1  | model          | MLPModel         | 368   \n",
      "2  | head           | Sequential       | 562   \n",
      "3  | fnn_layer      | Linear           | 272   \n",
      "4  | selu           | SELU             | 0     \n",
      "5  | loss_module    | CrossEntropyLoss | 0     \n",
      "6  | train_acc      | BinaryAccuracy   | 0     \n",
      "7  | train_auroc    | BinaryAUROC      | 0     \n",
      "8  | train_f1       | BinaryF1Score    | 0     \n",
      "9  | valid_acc      | BinaryAccuracy   | 0     \n",
      "10 | valid_auroc    | BinaryAUROC      | 0     \n",
      "11 | valid_f1       | BinaryF1Score    | 0     \n",
      "12 | pool           | GlobalAttention  | 17    \n",
      "-----------------------------------------------------\n",
      "2.1 K     Trainable params\n",
      "0         Non-trainable params\n",
      "2.1 K     Total params\n",
      "0.008     Total estimated model params size (MB)\n",
      "C:\\Users\\thu71\\AppData\\Roaming\\Python\\Python39\\site-packages\\lightning\\pytorch\\trainer\\connectors\\data_connector.py:478: PossibleUserWarning: Your `val_dataloader`'s sampler has shuffling enabled, it is strongly recommended that you turn shuffling off for val/test dataloaders.\n",
      "  rank_zero_warn(\n",
      "C:\\Users\\thu71\\AppData\\Roaming\\Python\\Python39\\site-packages\\lightning\\pytorch\\trainer\\connectors\\data_connector.py:430: PossibleUserWarning: The dataloader, val_dataloader, does not have many workers which may be a bottleneck. Consider increasing the value of the `num_workers` argument` (try 48 which is the number of cpus on this machine) in the `DataLoader` init to improve performance.\n",
      "  rank_zero_warn(\n"
     ]
    },
    {
     "name": "stdout",
     "output_type": "stream",
     "text": [
      "Training with Morphological features\n"
     ]
    },
    {
     "name": "stderr",
     "output_type": "stream",
     "text": [
      "C:\\Users\\thu71\\AppData\\Roaming\\Python\\Python39\\site-packages\\lightning\\pytorch\\trainer\\connectors\\data_connector.py:430: PossibleUserWarning: The dataloader, train_dataloader, does not have many workers which may be a bottleneck. Consider increasing the value of the `num_workers` argument` (try 48 which is the number of cpus on this machine) in the `DataLoader` init to improve performance.\n",
      "  rank_zero_warn(\n",
      "C:\\Users\\thu71\\AppData\\Roaming\\Python\\Python39\\site-packages\\lightning\\pytorch\\loops\\fit_loop.py:280: PossibleUserWarning: The number of training batches (3) is smaller than the logging interval Trainer(log_every_n_steps=10). Set a lower value for log_every_n_steps if you want to see logs for the training epoch.\n",
      "  rank_zero_warn(\n",
      "C:\\Users\\thu71\\Anaconda3\\envs\\snowflake\\lib\\site-packages\\torchmetrics\\utilities\\prints.py:36: UserWarning: No negative samples in targets, false positive value should be meaningless. Returning zero tensor in false positive score\n",
      "  warnings.warn(*args, **kwargs)\n",
      "C:\\Users\\thu71\\Anaconda3\\envs\\snowflake\\lib\\site-packages\\torchmetrics\\utilities\\prints.py:36: UserWarning: No negative samples in targets, false positive value should be meaningless. Returning zero tensor in false positive score\n",
      "  warnings.warn(*args, **kwargs)\n",
      "C:\\Users\\thu71\\Anaconda3\\envs\\snowflake\\lib\\site-packages\\torchmetrics\\utilities\\prints.py:36: UserWarning: No negative samples in targets, false positive value should be meaningless. Returning zero tensor in false positive score\n",
      "  warnings.warn(*args, **kwargs)\n",
      "C:\\Users\\thu71\\Anaconda3\\envs\\snowflake\\lib\\site-packages\\torchmetrics\\utilities\\prints.py:36: UserWarning: No positive samples in targets, true positive value should be meaningless. Returning zero tensor in true positive score\n",
      "  warnings.warn(*args, **kwargs)\n",
      "C:\\Users\\thu71\\Anaconda3\\envs\\snowflake\\lib\\site-packages\\torchmetrics\\utilities\\prints.py:36: UserWarning: No negative samples in targets, false positive value should be meaningless. Returning zero tensor in false positive score\n",
      "  warnings.warn(*args, **kwargs)\n",
      "C:\\Users\\thu71\\Anaconda3\\envs\\snowflake\\lib\\site-packages\\torchmetrics\\utilities\\prints.py:36: UserWarning: No negative samples in targets, false positive value should be meaningless. Returning zero tensor in false positive score\n",
      "  warnings.warn(*args, **kwargs)\n",
      "C:\\Users\\thu71\\Anaconda3\\envs\\snowflake\\lib\\site-packages\\torchmetrics\\utilities\\prints.py:36: UserWarning: No negative samples in targets, false positive value should be meaningless. Returning zero tensor in false positive score\n",
      "  warnings.warn(*args, **kwargs)\n",
      "INFO: `Trainer.fit` stopped: `max_epochs=100` reached.\n",
      "INFO:lightning.pytorch.utilities.rank_zero:`Trainer.fit` stopped: `max_epochs=100` reached.\n"
     ]
    },
    {
     "data": {
      "text/html": [
       "Waiting for W&B process to finish... <strong style=\"color:green\">(success).</strong>"
      ],
      "text/plain": [
       "<IPython.core.display.HTML object>"
      ]
     },
     "metadata": {},
     "output_type": "display_data"
    },
    {
     "data": {
      "application/vnd.jupyter.widget-view+json": {
       "model_id": "988f425a5e9047989e05d2e465cec875",
       "version_major": 2,
       "version_minor": 0
      },
      "text/plain": [
       "VBox(children=(Label(value='0.001 MB of 0.001 MB uploaded (0.000 MB deduped)\\r'), FloatProgress(value=1.0, max…"
      ]
     },
     "metadata": {},
     "output_type": "display_data"
    },
    {
     "data": {
      "text/html": [
       "<style>\n",
       "    table.wandb td:nth-child(1) { padding: 0 10px; text-align: left ; width: auto;} td:nth-child(2) {text-align: left ; width: 100%}\n",
       "    .wandb-row { display: flex; flex-direction: row; flex-wrap: wrap; justify-content: flex-start; width: 100% }\n",
       "    .wandb-col { display: flex; flex-direction: column; flex-basis: 100%; flex: 1; padding: 10px; }\n",
       "    </style>\n",
       "<div class=\"wandb-row\"><div class=\"wandb-col\"><h3>Run history:</h3><br/><table class=\"wandb\"><tr><td>epoch</td><td>▁▁▁▁▂▂▂▂▂▃▃▃▃▃▃▄▄▄▄▄▅▅▅▅▅▆▆▆▆▆▆▇▇▇▇▇████</td></tr><tr><td>lr-Adam</td><td>▁▁▁▁▁▁▁▁▁▁▁▁▁▁▁▁▁▁▁▁▁▁▁▁▁▁▁▁▁▁▁▁▁▁▁▁▁▁▁▁</td></tr><tr><td>train_acc</td><td>▁▁▁▂▂▃▅▄▅▄▄▅▅▅▆▆▆▆▆▆▇▆▆▇▇▆▆▇▇▇▇▇█▇██▇▇██</td></tr><tr><td>train_auc</td><td>▁▁▁▃▄▄▅▅▅▅▅▅▅▆▆▆▆▆▇▇▇▇▇▇▇▇▇█▇█▇██▇██████</td></tr><tr><td>train_f1</td><td>▁▁▂▂▁▃▄▄▄▄▄▅▅▅▅▅▅▆▆▆▇▆▆▆▇▆▆▇▆▇▇▇█▇██▇▇██</td></tr><tr><td>train_loss_epoch</td><td>████▇▇▆▅▅▅▅▄▄▄▄▃▃▂▃▃▂▃▃▂▂▂▃▂▂▂▂▁▂▂▁▁▁▂▁▁</td></tr><tr><td>train_loss_step</td><td>██▇▇▆▅▆▆▄▅▅▅▄▄▃▃▄▃▄▂▁▃▂▁▃▂▂▂▃▂</td></tr><tr><td>trainer/global_step</td><td>▁▁▁▂▁▂▂▂▃▃▃▃▃▃▄▄▄▄▅▃▄▄▅▅▆▄▄▄▆▇▇▅▅▅███▆▆▆</td></tr><tr><td>val_acc</td><td>▁▁▁▁▃▁▂▁▂▂▂▂▂▂▃▄▃▂▄▃▄▆▅▆▆▆▆▆▇▆▆▇▇▇▇█▆▇▇▆</td></tr><tr><td>val_auc</td><td>▁▃▃▃▃▃▃▃▄▄▄▄▄▄▅▅▅▅▅▅▅▅▆▆▆▇▇▆▇▇▇█████████</td></tr><tr><td>val_f1</td><td>▂▂▂▁▂▁▂▁▂▂▂▁▂▂▃▃▃▃▄▃▄▆▅▅▅▆▇▅▆▆▅█▆▇▇█▄▇▆▄</td></tr><tr><td>val_loss_epoch</td><td>▅▆▅▆▅▄▆▇█▆▆▃▃█▄▂▇▄▄▆▇▃▂▅▂▂▁▆▃▄▃▁▁▂▂▁▃▂▃▃</td></tr><tr><td>val_loss_step</td><td>▄▅▅▅▄▄▆▇█▅▅▂▁█▃▂▇▃▄▆▇▃▁▅▂▂▁▇▃▄▃▁▁▃▂▁▃▃▄▃</td></tr></table><br/></div><div class=\"wandb-col\"><h3>Run summary:</h3><br/><table class=\"wandb\"><tr><td>epoch</td><td>99</td></tr><tr><td>lr-Adam</td><td>0.005</td></tr><tr><td>train_acc</td><td>0.85437</td></tr><tr><td>train_auc</td><td>0.89242</td></tr><tr><td>train_f1</td><td>0.87535</td></tr><tr><td>train_loss_epoch</td><td>0.45893</td></tr><tr><td>train_loss_step</td><td>0.45044</td></tr><tr><td>trainer/global_step</td><td>299</td></tr><tr><td>val_acc</td><td>0.78195</td></tr><tr><td>val_auc</td><td>0.90789</td></tr><tr><td>val_f1</td><td>0.77863</td></tr><tr><td>val_loss_epoch</td><td>0.52628</td></tr><tr><td>val_loss_step</td><td>0.54554</td></tr></table><br/></div></div>"
      ],
      "text/plain": [
       "<IPython.core.display.HTML object>"
      ]
     },
     "metadata": {},
     "output_type": "display_data"
    },
    {
     "data": {
      "text/html": [
       " View run <strong style=\"color:#cdcd00\">MLP_2_16_3_moprh</strong> at: <a href='https://wandb.ai/thoomas/SF_082423_Covid/runs/2c3y85wc' target=\"_blank\">https://wandb.ai/thoomas/SF_082423_Covid/runs/2c3y85wc</a><br/>Synced 5 W&B file(s), 0 media file(s), 0 artifact file(s) and 0 other file(s)"
      ],
      "text/plain": [
       "<IPython.core.display.HTML object>"
      ]
     },
     "metadata": {},
     "output_type": "display_data"
    },
    {
     "data": {
      "text/html": [
       "Find logs at: <code>.\\wandb\\run-20230826_072850-2c3y85wc\\logs</code>"
      ],
      "text/plain": [
       "<IPython.core.display.HTML object>"
      ]
     },
     "metadata": {},
     "output_type": "display_data"
    },
    {
     "data": {
      "application/vnd.jupyter.widget-view+json": {
       "model_id": "1cb5f2e34f854c1ca7d604fec8d5299d",
       "version_major": 2,
       "version_minor": 0
      },
      "text/plain": [
       "VBox(children=(Label(value='Waiting for wandb.init()...\\r'), FloatProgress(value=0.016916666666899498, max=1.0…"
      ]
     },
     "metadata": {},
     "output_type": "display_data"
    },
    {
     "data": {
      "text/html": [
       "wandb version 0.15.8 is available!  To upgrade, please run:\n",
       " $ pip install wandb --upgrade"
      ],
      "text/plain": [
       "<IPython.core.display.HTML object>"
      ]
     },
     "metadata": {},
     "output_type": "display_data"
    },
    {
     "data": {
      "text/html": [
       "Tracking run with wandb version 0.14.0"
      ],
      "text/plain": [
       "<IPython.core.display.HTML object>"
      ]
     },
     "metadata": {},
     "output_type": "display_data"
    },
    {
     "data": {
      "text/html": [
       "Run data is saved locally in <code>Y:\\coskun-lab\\Thomas\\11_snowflakes\\notebooks\\wandb\\run-20230826_075131-1usyf9xa</code>"
      ],
      "text/plain": [
       "<IPython.core.display.HTML object>"
      ]
     },
     "metadata": {},
     "output_type": "display_data"
    },
    {
     "data": {
      "text/html": [
       "Syncing run <strong><a href='https://wandb.ai/thoomas/SF_082423_Covid/runs/1usyf9xa' target=\"_blank\">MLP_2_16_3_moprh</a></strong> to <a href='https://wandb.ai/thoomas/SF_082423_Covid' target=\"_blank\">Weights & Biases</a> (<a href='https://wandb.me/run' target=\"_blank\">docs</a>)<br/>"
      ],
      "text/plain": [
       "<IPython.core.display.HTML object>"
      ]
     },
     "metadata": {},
     "output_type": "display_data"
    },
    {
     "data": {
      "text/html": [
       " View project at <a href='https://wandb.ai/thoomas/SF_082423_Covid' target=\"_blank\">https://wandb.ai/thoomas/SF_082423_Covid</a>"
      ],
      "text/plain": [
       "<IPython.core.display.HTML object>"
      ]
     },
     "metadata": {},
     "output_type": "display_data"
    },
    {
     "data": {
      "text/html": [
       " View run at <a href='https://wandb.ai/thoomas/SF_082423_Covid/runs/1usyf9xa' target=\"_blank\">https://wandb.ai/thoomas/SF_082423_Covid/runs/1usyf9xa</a>"
      ],
      "text/plain": [
       "<IPython.core.display.HTML object>"
      ]
     },
     "metadata": {},
     "output_type": "display_data"
    },
    {
     "name": "stderr",
     "output_type": "stream",
     "text": [
      "INFO: Global seed set to 42\n",
      "INFO:lightning.fabric.utilities.seed:Global seed set to 42\n",
      "C:\\Users\\thu71\\Anaconda3\\envs\\snowflake\\lib\\site-packages\\pytorch_lightning\\loggers\\wandb.py:395: UserWarning: There is a wandb run already in progress and newly created instances of `WandbLogger` will reuse this run. If this is not desired, call `wandb.finish()` before instantiating `WandbLogger`.\n",
      "  rank_zero_warn(\n",
      "INFO: GPU available: True (cuda), used: True\n",
      "INFO:lightning.pytorch.utilities.rank_zero:GPU available: True (cuda), used: True\n",
      "INFO: TPU available: False, using: 0 TPU cores\n",
      "INFO:lightning.pytorch.utilities.rank_zero:TPU available: False, using: 0 TPU cores\n",
      "INFO: IPU available: False, using: 0 IPUs\n",
      "INFO:lightning.pytorch.utilities.rank_zero:IPU available: False, using: 0 IPUs\n",
      "INFO: HPU available: False, using: 0 HPUs\n",
      "INFO:lightning.pytorch.utilities.rank_zero:HPU available: False, using: 0 HPUs\n",
      "INFO: Global seed set to 42\n",
      "INFO:lightning.fabric.utilities.seed:Global seed set to 42\n",
      "INFO: LOCAL_RANK: 0 - CUDA_VISIBLE_DEVICES: [0,1]\n",
      "INFO:lightning.pytorch.accelerators.cuda:LOCAL_RANK: 0 - CUDA_VISIBLE_DEVICES: [0,1]\n",
      "INFO: \n",
      "   | Name           | Type             | Params\n",
      "-----------------------------------------------------\n",
      "0  | feat_embedding | Sequential       | 832   \n",
      "1  | model          | MLPModel         | 368   \n",
      "2  | head           | Sequential       | 562   \n",
      "3  | fnn_layer      | Linear           | 272   \n",
      "4  | selu           | SELU             | 0     \n",
      "5  | loss_module    | CrossEntropyLoss | 0     \n",
      "6  | train_acc      | BinaryAccuracy   | 0     \n",
      "7  | train_auroc    | BinaryAUROC      | 0     \n",
      "8  | train_f1       | BinaryF1Score    | 0     \n",
      "9  | valid_acc      | BinaryAccuracy   | 0     \n",
      "10 | valid_auroc    | BinaryAUROC      | 0     \n",
      "11 | valid_f1       | BinaryF1Score    | 0     \n",
      "12 | pool           | Attention_module | 281   \n",
      "-----------------------------------------------------\n",
      "2.3 K     Trainable params\n",
      "0         Non-trainable params\n",
      "2.3 K     Total params\n",
      "0.009     Total estimated model params size (MB)\n",
      "INFO:lightning.pytorch.callbacks.model_summary:\n",
      "   | Name           | Type             | Params\n",
      "-----------------------------------------------------\n",
      "0  | feat_embedding | Sequential       | 832   \n",
      "1  | model          | MLPModel         | 368   \n",
      "2  | head           | Sequential       | 562   \n",
      "3  | fnn_layer      | Linear           | 272   \n",
      "4  | selu           | SELU             | 0     \n",
      "5  | loss_module    | CrossEntropyLoss | 0     \n",
      "6  | train_acc      | BinaryAccuracy   | 0     \n",
      "7  | train_auroc    | BinaryAUROC      | 0     \n",
      "8  | train_f1       | BinaryF1Score    | 0     \n",
      "9  | valid_acc      | BinaryAccuracy   | 0     \n",
      "10 | valid_auroc    | BinaryAUROC      | 0     \n",
      "11 | valid_f1       | BinaryF1Score    | 0     \n",
      "12 | pool           | Attention_module | 281   \n",
      "-----------------------------------------------------\n",
      "2.3 K     Trainable params\n",
      "0         Non-trainable params\n",
      "2.3 K     Total params\n",
      "0.009     Total estimated model params size (MB)\n",
      "C:\\Users\\thu71\\AppData\\Roaming\\Python\\Python39\\site-packages\\lightning\\pytorch\\trainer\\connectors\\data_connector.py:478: PossibleUserWarning: Your `val_dataloader`'s sampler has shuffling enabled, it is strongly recommended that you turn shuffling off for val/test dataloaders.\n",
      "  rank_zero_warn(\n",
      "C:\\Users\\thu71\\AppData\\Roaming\\Python\\Python39\\site-packages\\lightning\\pytorch\\trainer\\connectors\\data_connector.py:430: PossibleUserWarning: The dataloader, val_dataloader, does not have many workers which may be a bottleneck. Consider increasing the value of the `num_workers` argument` (try 48 which is the number of cpus on this machine) in the `DataLoader` init to improve performance.\n",
      "  rank_zero_warn(\n"
     ]
    },
    {
     "name": "stdout",
     "output_type": "stream",
     "text": [
      "Training with Morphological features\n"
     ]
    },
    {
     "name": "stderr",
     "output_type": "stream",
     "text": [
      "C:\\Users\\thu71\\AppData\\Roaming\\Python\\Python39\\site-packages\\lightning\\pytorch\\trainer\\connectors\\data_connector.py:430: PossibleUserWarning: The dataloader, train_dataloader, does not have many workers which may be a bottleneck. Consider increasing the value of the `num_workers` argument` (try 48 which is the number of cpus on this machine) in the `DataLoader` init to improve performance.\n",
      "  rank_zero_warn(\n",
      "C:\\Users\\thu71\\AppData\\Roaming\\Python\\Python39\\site-packages\\lightning\\pytorch\\loops\\fit_loop.py:280: PossibleUserWarning: The number of training batches (3) is smaller than the logging interval Trainer(log_every_n_steps=10). Set a lower value for log_every_n_steps if you want to see logs for the training epoch.\n",
      "  rank_zero_warn(\n",
      "C:\\Users\\thu71\\Anaconda3\\envs\\snowflake\\lib\\site-packages\\torchmetrics\\utilities\\prints.py:36: UserWarning: No negative samples in targets, false positive value should be meaningless. Returning zero tensor in false positive score\n",
      "  warnings.warn(*args, **kwargs)\n",
      "C:\\Users\\thu71\\Anaconda3\\envs\\snowflake\\lib\\site-packages\\torchmetrics\\utilities\\prints.py:36: UserWarning: No negative samples in targets, false positive value should be meaningless. Returning zero tensor in false positive score\n",
      "  warnings.warn(*args, **kwargs)\n",
      "C:\\Users\\thu71\\Anaconda3\\envs\\snowflake\\lib\\site-packages\\torchmetrics\\utilities\\prints.py:36: UserWarning: No negative samples in targets, false positive value should be meaningless. Returning zero tensor in false positive score\n",
      "  warnings.warn(*args, **kwargs)\n",
      "C:\\Users\\thu71\\Anaconda3\\envs\\snowflake\\lib\\site-packages\\torchmetrics\\utilities\\prints.py:36: UserWarning: No positive samples in targets, true positive value should be meaningless. Returning zero tensor in true positive score\n",
      "  warnings.warn(*args, **kwargs)\n",
      "C:\\Users\\thu71\\Anaconda3\\envs\\snowflake\\lib\\site-packages\\torchmetrics\\utilities\\prints.py:36: UserWarning: No positive samples in targets, true positive value should be meaningless. Returning zero tensor in true positive score\n",
      "  warnings.warn(*args, **kwargs)\n",
      "C:\\Users\\thu71\\Anaconda3\\envs\\snowflake\\lib\\site-packages\\torchmetrics\\utilities\\prints.py:36: UserWarning: No negative samples in targets, false positive value should be meaningless. Returning zero tensor in false positive score\n",
      "  warnings.warn(*args, **kwargs)\n",
      "C:\\Users\\thu71\\Anaconda3\\envs\\snowflake\\lib\\site-packages\\torchmetrics\\utilities\\prints.py:36: UserWarning: No negative samples in targets, false positive value should be meaningless. Returning zero tensor in false positive score\n",
      "  warnings.warn(*args, **kwargs)\n",
      "C:\\Users\\thu71\\Anaconda3\\envs\\snowflake\\lib\\site-packages\\torchmetrics\\utilities\\prints.py:36: UserWarning: No negative samples in targets, false positive value should be meaningless. Returning zero tensor in false positive score\n",
      "  warnings.warn(*args, **kwargs)\n",
      "C:\\Users\\thu71\\Anaconda3\\envs\\snowflake\\lib\\site-packages\\torchmetrics\\utilities\\prints.py:36: UserWarning: No positive samples in targets, true positive value should be meaningless. Returning zero tensor in true positive score\n",
      "  warnings.warn(*args, **kwargs)\n",
      "C:\\Users\\thu71\\Anaconda3\\envs\\snowflake\\lib\\site-packages\\torchmetrics\\utilities\\prints.py:36: UserWarning: No negative samples in targets, false positive value should be meaningless. Returning zero tensor in false positive score\n",
      "  warnings.warn(*args, **kwargs)\n",
      "C:\\Users\\thu71\\Anaconda3\\envs\\snowflake\\lib\\site-packages\\torchmetrics\\utilities\\prints.py:36: UserWarning: No negative samples in targets, false positive value should be meaningless. Returning zero tensor in false positive score\n",
      "  warnings.warn(*args, **kwargs)\n",
      "INFO: `Trainer.fit` stopped: `max_epochs=100` reached.\n",
      "INFO:lightning.pytorch.utilities.rank_zero:`Trainer.fit` stopped: `max_epochs=100` reached.\n"
     ]
    },
    {
     "data": {
      "text/html": [
       "Waiting for W&B process to finish... <strong style=\"color:green\">(success).</strong>"
      ],
      "text/plain": [
       "<IPython.core.display.HTML object>"
      ]
     },
     "metadata": {},
     "output_type": "display_data"
    },
    {
     "data": {
      "application/vnd.jupyter.widget-view+json": {
       "model_id": "d3e105a5da864fab8a9858f49605128b",
       "version_major": 2,
       "version_minor": 0
      },
      "text/plain": [
       "VBox(children=(Label(value='0.001 MB of 0.001 MB uploaded (0.000 MB deduped)\\r'), FloatProgress(value=1.0, max…"
      ]
     },
     "metadata": {},
     "output_type": "display_data"
    },
    {
     "data": {
      "text/html": [
       "<style>\n",
       "    table.wandb td:nth-child(1) { padding: 0 10px; text-align: left ; width: auto;} td:nth-child(2) {text-align: left ; width: 100%}\n",
       "    .wandb-row { display: flex; flex-direction: row; flex-wrap: wrap; justify-content: flex-start; width: 100% }\n",
       "    .wandb-col { display: flex; flex-direction: column; flex-basis: 100%; flex: 1; padding: 10px; }\n",
       "    </style>\n",
       "<div class=\"wandb-row\"><div class=\"wandb-col\"><h3>Run history:</h3><br/><table class=\"wandb\"><tr><td>epoch</td><td>▁▁▁▁▂▂▂▂▂▃▃▃▃▃▃▄▄▄▄▄▅▅▅▅▅▆▆▆▆▆▆▇▇▇▇▇████</td></tr><tr><td>lr-Adam</td><td>▁▁▁▁▁▁▁▁▁▁▁▁▁▁▁▁▁▁▁▁▁▁▁▁▁▁▁▁▁▁▁▁▁▁▁▁▁▁▁▁</td></tr><tr><td>train_acc</td><td>▁▁▂▂▃▄▄▆▅▆▆▆▆▆▇▇▆▆▅▇▆▇▇▇▇▆▇▇▇▇▇▇▇█▇███▇▇</td></tr><tr><td>train_auc</td><td>▁▂▂▃▄▄▅▅▅▆▅▅▆▅▆▆▆▆▆▆▆▆▇▆▆▆▆▆▇▆▇▇▆▇▇█████</td></tr><tr><td>train_f1</td><td>▁▂▃▂▃▃▄▅▅▆▅▅▆▆▆▆▆▅▅▆▅▆▆▆▇▅▆▇▆▇▇▇▆▇▇███▇▆</td></tr><tr><td>train_loss_epoch</td><td>██▇▇▇▅▅▄▅▄▃▄▃▄▃▃▃▃▃▄▄▄▃▃▃▃▃▂▃▂▂▃▂▂▂▁▁▁▂▁</td></tr><tr><td>train_loss_step</td><td>██▇▇▆▄▅▄▄▄▄▂▄▄▆▄▃▂▄▄▃▃▄▄▃▄▂▃▃▁</td></tr><tr><td>trainer/global_step</td><td>▁▁▁▂▁▂▂▂▃▃▃▃▃▃▄▄▄▄▅▃▄▄▅▅▆▄▄▄▆▇▇▅▅▅███▆▆▆</td></tr><tr><td>val_acc</td><td>▂▂▂▁▃▂▃▄▄▄▄▅▅▃▅▄▄▄▄▆▄▆▅▅▆▅▆▆▆▆▆▆▆▇▇▇▆█▅▇</td></tr><tr><td>val_auc</td><td>▁▂▃▄▄▄▄▄▄▄▄▄▅▅▅▅▅▅▅▅▅▅▅▅▆▅▆▆▆▆▆▆▆▆▇▇▇▇█▇</td></tr><tr><td>val_f1</td><td>▄▄▄▄▄▁▅▄▅▅▆▅▆▅▆▅▅▆▅▆▅▆▆▅▇▅▇▇▆▇▇▇▅█▇█▇█▇▇</td></tr><tr><td>val_loss_epoch</td><td>▅▅▅▅▅▄▅▃▇▅▆▄▂▅▅▄▂▂▃▆▃▄▃▃▂▆█▅▃▁▃▁▅▃▄▁▁▂▃▄</td></tr><tr><td>val_loss_step</td><td>▄▄▄▄▅▃▄▃▆▅▅▃▁▅▅▃▂▁▃▆▃▃▃▂▁▆█▅▃▁▃▁▅▃▅▁▁▃▃▅</td></tr></table><br/></div><div class=\"wandb-col\"><h3>Run summary:</h3><br/><table class=\"wandb\"><tr><td>epoch</td><td>99</td></tr><tr><td>lr-Adam</td><td>0.005</td></tr><tr><td>train_acc</td><td>0.79935</td></tr><tr><td>train_auc</td><td>0.88204</td></tr><tr><td>train_f1</td><td>0.82184</td></tr><tr><td>train_loss_epoch</td><td>0.49243</td></tr><tr><td>train_loss_step</td><td>0.44527</td></tr><tr><td>trainer/global_step</td><td>299</td></tr><tr><td>val_acc</td><td>0.75188</td></tr><tr><td>val_auc</td><td>0.84557</td></tr><tr><td>val_f1</td><td>0.78431</td></tr><tr><td>val_loss_epoch</td><td>0.63217</td></tr><tr><td>val_loss_step</td><td>0.73704</td></tr></table><br/></div></div>"
      ],
      "text/plain": [
       "<IPython.core.display.HTML object>"
      ]
     },
     "metadata": {},
     "output_type": "display_data"
    },
    {
     "data": {
      "text/html": [
       " View run <strong style=\"color:#cdcd00\">MLP_2_16_3_moprh</strong> at: <a href='https://wandb.ai/thoomas/SF_082423_Covid/runs/1usyf9xa' target=\"_blank\">https://wandb.ai/thoomas/SF_082423_Covid/runs/1usyf9xa</a><br/>Synced 5 W&B file(s), 0 media file(s), 0 artifact file(s) and 0 other file(s)"
      ],
      "text/plain": [
       "<IPython.core.display.HTML object>"
      ]
     },
     "metadata": {},
     "output_type": "display_data"
    },
    {
     "data": {
      "text/html": [
       "Find logs at: <code>.\\wandb\\run-20230826_075131-1usyf9xa\\logs</code>"
      ],
      "text/plain": [
       "<IPython.core.display.HTML object>"
      ]
     },
     "metadata": {},
     "output_type": "display_data"
    },
    {
     "data": {
      "application/vnd.jupyter.widget-view+json": {
       "model_id": "128933646d214887a8fc6825aaf25527",
       "version_major": 2,
       "version_minor": 0
      },
      "text/plain": [
       "VBox(children=(Label(value='Waiting for wandb.init()...\\r'), FloatProgress(value=0.01693333333338766, max=1.0)…"
      ]
     },
     "metadata": {},
     "output_type": "display_data"
    },
    {
     "data": {
      "text/html": [
       "wandb version 0.15.8 is available!  To upgrade, please run:\n",
       " $ pip install wandb --upgrade"
      ],
      "text/plain": [
       "<IPython.core.display.HTML object>"
      ]
     },
     "metadata": {},
     "output_type": "display_data"
    },
    {
     "data": {
      "text/html": [
       "Tracking run with wandb version 0.14.0"
      ],
      "text/plain": [
       "<IPython.core.display.HTML object>"
      ]
     },
     "metadata": {},
     "output_type": "display_data"
    },
    {
     "data": {
      "text/html": [
       "Run data is saved locally in <code>Y:\\coskun-lab\\Thomas\\11_snowflakes\\notebooks\\wandb\\run-20230826_081303-yvqfwppw</code>"
      ],
      "text/plain": [
       "<IPython.core.display.HTML object>"
      ]
     },
     "metadata": {},
     "output_type": "display_data"
    },
    {
     "data": {
      "text/html": [
       "Syncing run <strong><a href='https://wandb.ai/thoomas/SF_082423_Covid/runs/yvqfwppw' target=\"_blank\">MLP_2_16_4_moprh</a></strong> to <a href='https://wandb.ai/thoomas/SF_082423_Covid' target=\"_blank\">Weights & Biases</a> (<a href='https://wandb.me/run' target=\"_blank\">docs</a>)<br/>"
      ],
      "text/plain": [
       "<IPython.core.display.HTML object>"
      ]
     },
     "metadata": {},
     "output_type": "display_data"
    },
    {
     "data": {
      "text/html": [
       " View project at <a href='https://wandb.ai/thoomas/SF_082423_Covid' target=\"_blank\">https://wandb.ai/thoomas/SF_082423_Covid</a>"
      ],
      "text/plain": [
       "<IPython.core.display.HTML object>"
      ]
     },
     "metadata": {},
     "output_type": "display_data"
    },
    {
     "data": {
      "text/html": [
       " View run at <a href='https://wandb.ai/thoomas/SF_082423_Covid/runs/yvqfwppw' target=\"_blank\">https://wandb.ai/thoomas/SF_082423_Covid/runs/yvqfwppw</a>"
      ],
      "text/plain": [
       "<IPython.core.display.HTML object>"
      ]
     },
     "metadata": {},
     "output_type": "display_data"
    },
    {
     "name": "stderr",
     "output_type": "stream",
     "text": [
      "INFO: Global seed set to 42\n",
      "INFO:lightning.fabric.utilities.seed:Global seed set to 42\n",
      "C:\\Users\\thu71\\Anaconda3\\envs\\snowflake\\lib\\site-packages\\pytorch_lightning\\loggers\\wandb.py:395: UserWarning: There is a wandb run already in progress and newly created instances of `WandbLogger` will reuse this run. If this is not desired, call `wandb.finish()` before instantiating `WandbLogger`.\n",
      "  rank_zero_warn(\n",
      "INFO: GPU available: True (cuda), used: True\n",
      "INFO:lightning.pytorch.utilities.rank_zero:GPU available: True (cuda), used: True\n",
      "INFO: TPU available: False, using: 0 TPU cores\n",
      "INFO:lightning.pytorch.utilities.rank_zero:TPU available: False, using: 0 TPU cores\n",
      "INFO: IPU available: False, using: 0 IPUs\n",
      "INFO:lightning.pytorch.utilities.rank_zero:IPU available: False, using: 0 IPUs\n",
      "INFO: HPU available: False, using: 0 HPUs\n",
      "INFO:lightning.pytorch.utilities.rank_zero:HPU available: False, using: 0 HPUs\n",
      "INFO: Global seed set to 42\n",
      "INFO:lightning.fabric.utilities.seed:Global seed set to 42\n",
      "INFO: LOCAL_RANK: 0 - CUDA_VISIBLE_DEVICES: [0,1]\n",
      "INFO:lightning.pytorch.accelerators.cuda:LOCAL_RANK: 0 - CUDA_VISIBLE_DEVICES: [0,1]\n",
      "INFO: \n",
      "   | Name           | Type             | Params\n",
      "-----------------------------------------------------\n",
      "0  | feat_embedding | Sequential       | 832   \n",
      "1  | model          | MLPModel         | 368   \n",
      "2  | head           | Sequential       | 562   \n",
      "3  | fnn_layer      | Linear           | 272   \n",
      "4  | selu           | SELU             | 0     \n",
      "5  | loss_module    | CrossEntropyLoss | 0     \n",
      "6  | train_acc      | BinaryAccuracy   | 0     \n",
      "7  | train_auroc    | BinaryAUROC      | 0     \n",
      "8  | train_f1       | BinaryF1Score    | 0     \n",
      "9  | valid_acc      | BinaryAccuracy   | 0     \n",
      "10 | valid_auroc    | BinaryAUROC      | 0     \n",
      "11 | valid_f1       | BinaryF1Score    | 0     \n",
      "-----------------------------------------------------\n",
      "2.0 K     Trainable params\n",
      "0         Non-trainable params\n",
      "2.0 K     Total params\n",
      "0.008     Total estimated model params size (MB)\n",
      "INFO:lightning.pytorch.callbacks.model_summary:\n",
      "   | Name           | Type             | Params\n",
      "-----------------------------------------------------\n",
      "0  | feat_embedding | Sequential       | 832   \n",
      "1  | model          | MLPModel         | 368   \n",
      "2  | head           | Sequential       | 562   \n",
      "3  | fnn_layer      | Linear           | 272   \n",
      "4  | selu           | SELU             | 0     \n",
      "5  | loss_module    | CrossEntropyLoss | 0     \n",
      "6  | train_acc      | BinaryAccuracy   | 0     \n",
      "7  | train_auroc    | BinaryAUROC      | 0     \n",
      "8  | train_f1       | BinaryF1Score    | 0     \n",
      "9  | valid_acc      | BinaryAccuracy   | 0     \n",
      "10 | valid_auroc    | BinaryAUROC      | 0     \n",
      "11 | valid_f1       | BinaryF1Score    | 0     \n",
      "-----------------------------------------------------\n",
      "2.0 K     Trainable params\n",
      "0         Non-trainable params\n",
      "2.0 K     Total params\n",
      "0.008     Total estimated model params size (MB)\n",
      "C:\\Users\\thu71\\AppData\\Roaming\\Python\\Python39\\site-packages\\lightning\\pytorch\\trainer\\connectors\\data_connector.py:478: PossibleUserWarning: Your `val_dataloader`'s sampler has shuffling enabled, it is strongly recommended that you turn shuffling off for val/test dataloaders.\n",
      "  rank_zero_warn(\n",
      "C:\\Users\\thu71\\AppData\\Roaming\\Python\\Python39\\site-packages\\lightning\\pytorch\\trainer\\connectors\\data_connector.py:430: PossibleUserWarning: The dataloader, val_dataloader, does not have many workers which may be a bottleneck. Consider increasing the value of the `num_workers` argument` (try 48 which is the number of cpus on this machine) in the `DataLoader` init to improve performance.\n",
      "  rank_zero_warn(\n"
     ]
    },
    {
     "name": "stdout",
     "output_type": "stream",
     "text": [
      "Training with Morphological features\n"
     ]
    },
    {
     "name": "stderr",
     "output_type": "stream",
     "text": [
      "C:\\Users\\thu71\\AppData\\Roaming\\Python\\Python39\\site-packages\\lightning\\pytorch\\trainer\\connectors\\data_connector.py:430: PossibleUserWarning: The dataloader, train_dataloader, does not have many workers which may be a bottleneck. Consider increasing the value of the `num_workers` argument` (try 48 which is the number of cpus on this machine) in the `DataLoader` init to improve performance.\n",
      "  rank_zero_warn(\n",
      "C:\\Users\\thu71\\AppData\\Roaming\\Python\\Python39\\site-packages\\lightning\\pytorch\\loops\\fit_loop.py:280: PossibleUserWarning: The number of training batches (3) is smaller than the logging interval Trainer(log_every_n_steps=10). Set a lower value for log_every_n_steps if you want to see logs for the training epoch.\n",
      "  rank_zero_warn(\n",
      "C:\\Users\\thu71\\Anaconda3\\envs\\snowflake\\lib\\site-packages\\torchmetrics\\utilities\\prints.py:36: UserWarning: No negative samples in targets, false positive value should be meaningless. Returning zero tensor in false positive score\n",
      "  warnings.warn(*args, **kwargs)\n",
      "C:\\Users\\thu71\\Anaconda3\\envs\\snowflake\\lib\\site-packages\\torchmetrics\\utilities\\prints.py:36: UserWarning: No negative samples in targets, false positive value should be meaningless. Returning zero tensor in false positive score\n",
      "  warnings.warn(*args, **kwargs)\n",
      "C:\\Users\\thu71\\Anaconda3\\envs\\snowflake\\lib\\site-packages\\torchmetrics\\utilities\\prints.py:36: UserWarning: No negative samples in targets, false positive value should be meaningless. Returning zero tensor in false positive score\n",
      "  warnings.warn(*args, **kwargs)\n",
      "C:\\Users\\thu71\\Anaconda3\\envs\\snowflake\\lib\\site-packages\\torchmetrics\\utilities\\prints.py:36: UserWarning: No negative samples in targets, false positive value should be meaningless. Returning zero tensor in false positive score\n",
      "  warnings.warn(*args, **kwargs)\n",
      "C:\\Users\\thu71\\Anaconda3\\envs\\snowflake\\lib\\site-packages\\torchmetrics\\utilities\\prints.py:36: UserWarning: No negative samples in targets, false positive value should be meaningless. Returning zero tensor in false positive score\n",
      "  warnings.warn(*args, **kwargs)\n",
      "C:\\Users\\thu71\\Anaconda3\\envs\\snowflake\\lib\\site-packages\\torchmetrics\\utilities\\prints.py:36: UserWarning: No negative samples in targets, false positive value should be meaningless. Returning zero tensor in false positive score\n",
      "  warnings.warn(*args, **kwargs)\n",
      "INFO: `Trainer.fit` stopped: `max_epochs=100` reached.\n",
      "INFO:lightning.pytorch.utilities.rank_zero:`Trainer.fit` stopped: `max_epochs=100` reached.\n"
     ]
    },
    {
     "data": {
      "text/html": [
       "Waiting for W&B process to finish... <strong style=\"color:green\">(success).</strong>"
      ],
      "text/plain": [
       "<IPython.core.display.HTML object>"
      ]
     },
     "metadata": {},
     "output_type": "display_data"
    },
    {
     "data": {
      "application/vnd.jupyter.widget-view+json": {
       "model_id": "bff7f684fc2b4253a90a1a2ef75e1cea",
       "version_major": 2,
       "version_minor": 0
      },
      "text/plain": [
       "VBox(children=(Label(value='0.001 MB of 0.001 MB uploaded (0.000 MB deduped)\\r'), FloatProgress(value=1.0, max…"
      ]
     },
     "metadata": {},
     "output_type": "display_data"
    },
    {
     "data": {
      "text/html": [
       "<style>\n",
       "    table.wandb td:nth-child(1) { padding: 0 10px; text-align: left ; width: auto;} td:nth-child(2) {text-align: left ; width: 100%}\n",
       "    .wandb-row { display: flex; flex-direction: row; flex-wrap: wrap; justify-content: flex-start; width: 100% }\n",
       "    .wandb-col { display: flex; flex-direction: column; flex-basis: 100%; flex: 1; padding: 10px; }\n",
       "    </style>\n",
       "<div class=\"wandb-row\"><div class=\"wandb-col\"><h3>Run history:</h3><br/><table class=\"wandb\"><tr><td>epoch</td><td>▁▁▁▁▂▂▂▂▂▃▃▃▃▃▃▄▄▄▄▄▅▅▅▅▅▆▆▆▆▆▆▇▇▇▇▇████</td></tr><tr><td>lr-Adam</td><td>▁▁▁▁▁▁▁▁▁▁▁▁▁▁▁▁▁▁▁▁▁▁▁▁▁▁▁▁▁▁▁▁▁▁▁▁▁▁▁▁</td></tr><tr><td>train_acc</td><td>▂▁▂▂▃▂▂▃▃▃▄▄▅▅▅▆▆▆▆▆▆▇▇▇▇▇█▇▇▇▇█▇▇█▇████</td></tr><tr><td>train_auc</td><td>▂▁▁▂▃▃▃▃▄▄▄▅▅▅▆▆▆▇▇▇▇▇▇▇▇▇▇▇█▇██▇███████</td></tr><tr><td>train_f1</td><td>▁▁▂▂▃▂▂▂▂▃▄▄▄▄▅▆▆▆▆▆▆▇▆▇▇▇▇▇▇▆▇▇▆▇▇▇████</td></tr><tr><td>train_loss_epoch</td><td>████▇▇▇▇▇▆▆▆▅▅▅▄▄▄▄▄▃▂▃▂▂▂▂▂▂▂▂▁▂▁▂▁▁▁▁▁</td></tr><tr><td>train_loss_step</td><td>████▇▇▇▆▆▆▄▄▄▃▃▃▃▅▃▂▅▃▂▅▃▂▂▂▂▁</td></tr><tr><td>trainer/global_step</td><td>▁▁▁▂▁▂▂▂▃▃▃▃▃▃▄▄▄▄▅▃▄▄▅▅▆▄▄▄▆▇▇▅▅▅███▆▆▆</td></tr><tr><td>val_acc</td><td>▁▁▁▁▄▄▄▄▄▄▅▅▆▆▇▇▇███▇▇█▇▇▇▆███▇█▆▇▆▇▇▆▆▆</td></tr><tr><td>val_auc</td><td>▁▂▂▂▃▃▃▃▃▄▄▅▅▅▆▇▇▇▇█████████████████████</td></tr><tr><td>val_f1</td><td>▁▁▁▁▃▂▂▂▂▃▃▄▅▆▆▆▇██▇▇▆▇▆▇▇▄█▇█▅▇▄▆▃▅▅▄▄▄</td></tr><tr><td>val_loss_epoch</td><td>█▇▇▇▇▇▆█▇▃▆▄▃▂▄▄▃▃▁▁▁▁▁▁▁▂▄▅▃▂▅▃▄▁▄▃▁▆▂▄</td></tr><tr><td>val_loss_step</td><td>▆▆▅▅▆▆▅█▇▂▆▄▂▁▄▄▄▃▁▁▁▁▁▁▁▂▄▆▄▃▆▃▄▁▄▄▁▇▂▄</td></tr></table><br/></div><div class=\"wandb-col\"><h3>Run summary:</h3><br/><table class=\"wandb\"><tr><td>epoch</td><td>99</td></tr><tr><td>lr-Adam</td><td>0.005</td></tr><tr><td>train_acc</td><td>0.87702</td></tr><tr><td>train_auc</td><td>0.92677</td></tr><tr><td>train_f1</td><td>0.89326</td></tr><tr><td>train_loss_epoch</td><td>0.43182</td></tr><tr><td>train_loss_step</td><td>0.40086</td></tr><tr><td>trainer/global_step</td><td>299</td></tr><tr><td>val_acc</td><td>0.78947</td></tr><tr><td>val_auc</td><td>0.93029</td></tr><tr><td>val_f1</td><td>0.78788</td></tr><tr><td>val_loss_epoch</td><td>0.51637</td></tr><tr><td>val_loss_step</td><td>0.52063</td></tr></table><br/></div></div>"
      ],
      "text/plain": [
       "<IPython.core.display.HTML object>"
      ]
     },
     "metadata": {},
     "output_type": "display_data"
    },
    {
     "data": {
      "text/html": [
       " View run <strong style=\"color:#cdcd00\">MLP_2_16_4_moprh</strong> at: <a href='https://wandb.ai/thoomas/SF_082423_Covid/runs/yvqfwppw' target=\"_blank\">https://wandb.ai/thoomas/SF_082423_Covid/runs/yvqfwppw</a><br/>Synced 5 W&B file(s), 0 media file(s), 0 artifact file(s) and 0 other file(s)"
      ],
      "text/plain": [
       "<IPython.core.display.HTML object>"
      ]
     },
     "metadata": {},
     "output_type": "display_data"
    },
    {
     "data": {
      "text/html": [
       "Find logs at: <code>.\\wandb\\run-20230826_081303-yvqfwppw\\logs</code>"
      ],
      "text/plain": [
       "<IPython.core.display.HTML object>"
      ]
     },
     "metadata": {},
     "output_type": "display_data"
    },
    {
     "data": {
      "application/vnd.jupyter.widget-view+json": {
       "model_id": "40edec9d6734407b9375f3528d0ec5aa",
       "version_major": 2,
       "version_minor": 0
      },
      "text/plain": [
       "VBox(children=(Label(value='Waiting for wandb.init()...\\r'), FloatProgress(value=0.016666666666666666, max=1.0…"
      ]
     },
     "metadata": {},
     "output_type": "display_data"
    },
    {
     "data": {
      "text/html": [
       "wandb version 0.15.8 is available!  To upgrade, please run:\n",
       " $ pip install wandb --upgrade"
      ],
      "text/plain": [
       "<IPython.core.display.HTML object>"
      ]
     },
     "metadata": {},
     "output_type": "display_data"
    },
    {
     "data": {
      "text/html": [
       "Tracking run with wandb version 0.14.0"
      ],
      "text/plain": [
       "<IPython.core.display.HTML object>"
      ]
     },
     "metadata": {},
     "output_type": "display_data"
    },
    {
     "data": {
      "text/html": [
       "Run data is saved locally in <code>Y:\\coskun-lab\\Thomas\\11_snowflakes\\notebooks\\wandb\\run-20230826_083431-iy3lmzxe</code>"
      ],
      "text/plain": [
       "<IPython.core.display.HTML object>"
      ]
     },
     "metadata": {},
     "output_type": "display_data"
    },
    {
     "data": {
      "text/html": [
       "Syncing run <strong><a href='https://wandb.ai/thoomas/SF_082423_Covid/runs/iy3lmzxe' target=\"_blank\">MLP_2_16_4_moprh</a></strong> to <a href='https://wandb.ai/thoomas/SF_082423_Covid' target=\"_blank\">Weights & Biases</a> (<a href='https://wandb.me/run' target=\"_blank\">docs</a>)<br/>"
      ],
      "text/plain": [
       "<IPython.core.display.HTML object>"
      ]
     },
     "metadata": {},
     "output_type": "display_data"
    },
    {
     "data": {
      "text/html": [
       " View project at <a href='https://wandb.ai/thoomas/SF_082423_Covid' target=\"_blank\">https://wandb.ai/thoomas/SF_082423_Covid</a>"
      ],
      "text/plain": [
       "<IPython.core.display.HTML object>"
      ]
     },
     "metadata": {},
     "output_type": "display_data"
    },
    {
     "data": {
      "text/html": [
       " View run at <a href='https://wandb.ai/thoomas/SF_082423_Covid/runs/iy3lmzxe' target=\"_blank\">https://wandb.ai/thoomas/SF_082423_Covid/runs/iy3lmzxe</a>"
      ],
      "text/plain": [
       "<IPython.core.display.HTML object>"
      ]
     },
     "metadata": {},
     "output_type": "display_data"
    },
    {
     "name": "stderr",
     "output_type": "stream",
     "text": [
      "INFO: Global seed set to 42\n",
      "INFO:lightning.fabric.utilities.seed:Global seed set to 42\n",
      "C:\\Users\\thu71\\Anaconda3\\envs\\snowflake\\lib\\site-packages\\pytorch_lightning\\loggers\\wandb.py:395: UserWarning: There is a wandb run already in progress and newly created instances of `WandbLogger` will reuse this run. If this is not desired, call `wandb.finish()` before instantiating `WandbLogger`.\n",
      "  rank_zero_warn(\n",
      "INFO: GPU available: True (cuda), used: True\n",
      "INFO:lightning.pytorch.utilities.rank_zero:GPU available: True (cuda), used: True\n",
      "INFO: TPU available: False, using: 0 TPU cores\n",
      "INFO:lightning.pytorch.utilities.rank_zero:TPU available: False, using: 0 TPU cores\n",
      "INFO: IPU available: False, using: 0 IPUs\n",
      "INFO:lightning.pytorch.utilities.rank_zero:IPU available: False, using: 0 IPUs\n",
      "INFO: HPU available: False, using: 0 HPUs\n",
      "INFO:lightning.pytorch.utilities.rank_zero:HPU available: False, using: 0 HPUs\n",
      "INFO: Global seed set to 42\n",
      "INFO:lightning.fabric.utilities.seed:Global seed set to 42\n",
      "INFO: LOCAL_RANK: 0 - CUDA_VISIBLE_DEVICES: [0,1]\n",
      "INFO:lightning.pytorch.accelerators.cuda:LOCAL_RANK: 0 - CUDA_VISIBLE_DEVICES: [0,1]\n",
      "INFO: \n",
      "   | Name           | Type             | Params\n",
      "-----------------------------------------------------\n",
      "0  | feat_embedding | Sequential       | 832   \n",
      "1  | model          | MLPModel         | 368   \n",
      "2  | head           | Sequential       | 562   \n",
      "3  | fnn_layer      | Linear           | 272   \n",
      "4  | selu           | SELU             | 0     \n",
      "5  | loss_module    | CrossEntropyLoss | 0     \n",
      "6  | train_acc      | BinaryAccuracy   | 0     \n",
      "7  | train_auroc    | BinaryAUROC      | 0     \n",
      "8  | train_f1       | BinaryF1Score    | 0     \n",
      "9  | valid_acc      | BinaryAccuracy   | 0     \n",
      "10 | valid_auroc    | BinaryAUROC      | 0     \n",
      "11 | valid_f1       | BinaryF1Score    | 0     \n",
      "-----------------------------------------------------\n",
      "2.0 K     Trainable params\n",
      "0         Non-trainable params\n",
      "2.0 K     Total params\n",
      "0.008     Total estimated model params size (MB)\n",
      "INFO:lightning.pytorch.callbacks.model_summary:\n",
      "   | Name           | Type             | Params\n",
      "-----------------------------------------------------\n",
      "0  | feat_embedding | Sequential       | 832   \n",
      "1  | model          | MLPModel         | 368   \n",
      "2  | head           | Sequential       | 562   \n",
      "3  | fnn_layer      | Linear           | 272   \n",
      "4  | selu           | SELU             | 0     \n",
      "5  | loss_module    | CrossEntropyLoss | 0     \n",
      "6  | train_acc      | BinaryAccuracy   | 0     \n",
      "7  | train_auroc    | BinaryAUROC      | 0     \n",
      "8  | train_f1       | BinaryF1Score    | 0     \n",
      "9  | valid_acc      | BinaryAccuracy   | 0     \n",
      "10 | valid_auroc    | BinaryAUROC      | 0     \n",
      "11 | valid_f1       | BinaryF1Score    | 0     \n",
      "-----------------------------------------------------\n",
      "2.0 K     Trainable params\n",
      "0         Non-trainable params\n",
      "2.0 K     Total params\n",
      "0.008     Total estimated model params size (MB)\n",
      "C:\\Users\\thu71\\AppData\\Roaming\\Python\\Python39\\site-packages\\lightning\\pytorch\\trainer\\connectors\\data_connector.py:478: PossibleUserWarning: Your `val_dataloader`'s sampler has shuffling enabled, it is strongly recommended that you turn shuffling off for val/test dataloaders.\n",
      "  rank_zero_warn(\n",
      "C:\\Users\\thu71\\AppData\\Roaming\\Python\\Python39\\site-packages\\lightning\\pytorch\\trainer\\connectors\\data_connector.py:430: PossibleUserWarning: The dataloader, val_dataloader, does not have many workers which may be a bottleneck. Consider increasing the value of the `num_workers` argument` (try 48 which is the number of cpus on this machine) in the `DataLoader` init to improve performance.\n",
      "  rank_zero_warn(\n"
     ]
    },
    {
     "name": "stdout",
     "output_type": "stream",
     "text": [
      "Training with Morphological features\n"
     ]
    },
    {
     "name": "stderr",
     "output_type": "stream",
     "text": [
      "C:\\Users\\thu71\\AppData\\Roaming\\Python\\Python39\\site-packages\\lightning\\pytorch\\trainer\\connectors\\data_connector.py:430: PossibleUserWarning: The dataloader, train_dataloader, does not have many workers which may be a bottleneck. Consider increasing the value of the `num_workers` argument` (try 48 which is the number of cpus on this machine) in the `DataLoader` init to improve performance.\n",
      "  rank_zero_warn(\n",
      "C:\\Users\\thu71\\AppData\\Roaming\\Python\\Python39\\site-packages\\lightning\\pytorch\\loops\\fit_loop.py:280: PossibleUserWarning: The number of training batches (3) is smaller than the logging interval Trainer(log_every_n_steps=10). Set a lower value for log_every_n_steps if you want to see logs for the training epoch.\n",
      "  rank_zero_warn(\n",
      "C:\\Users\\thu71\\Anaconda3\\envs\\snowflake\\lib\\site-packages\\torchmetrics\\utilities\\prints.py:36: UserWarning: No negative samples in targets, false positive value should be meaningless. Returning zero tensor in false positive score\n",
      "  warnings.warn(*args, **kwargs)\n",
      "C:\\Users\\thu71\\Anaconda3\\envs\\snowflake\\lib\\site-packages\\torchmetrics\\utilities\\prints.py:36: UserWarning: No negative samples in targets, false positive value should be meaningless. Returning zero tensor in false positive score\n",
      "  warnings.warn(*args, **kwargs)\n",
      "C:\\Users\\thu71\\Anaconda3\\envs\\snowflake\\lib\\site-packages\\torchmetrics\\utilities\\prints.py:36: UserWarning: No negative samples in targets, false positive value should be meaningless. Returning zero tensor in false positive score\n",
      "  warnings.warn(*args, **kwargs)\n",
      "C:\\Users\\thu71\\Anaconda3\\envs\\snowflake\\lib\\site-packages\\torchmetrics\\utilities\\prints.py:36: UserWarning: No negative samples in targets, false positive value should be meaningless. Returning zero tensor in false positive score\n",
      "  warnings.warn(*args, **kwargs)\n",
      "C:\\Users\\thu71\\Anaconda3\\envs\\snowflake\\lib\\site-packages\\torchmetrics\\utilities\\prints.py:36: UserWarning: No negative samples in targets, false positive value should be meaningless. Returning zero tensor in false positive score\n",
      "  warnings.warn(*args, **kwargs)\n",
      "C:\\Users\\thu71\\Anaconda3\\envs\\snowflake\\lib\\site-packages\\torchmetrics\\utilities\\prints.py:36: UserWarning: No negative samples in targets, false positive value should be meaningless. Returning zero tensor in false positive score\n",
      "  warnings.warn(*args, **kwargs)\n",
      "INFO: `Trainer.fit` stopped: `max_epochs=100` reached.\n",
      "INFO:lightning.pytorch.utilities.rank_zero:`Trainer.fit` stopped: `max_epochs=100` reached.\n"
     ]
    },
    {
     "data": {
      "text/html": [
       "Waiting for W&B process to finish... <strong style=\"color:green\">(success).</strong>"
      ],
      "text/plain": [
       "<IPython.core.display.HTML object>"
      ]
     },
     "metadata": {},
     "output_type": "display_data"
    },
    {
     "data": {
      "application/vnd.jupyter.widget-view+json": {
       "model_id": "ccf84376f07f43b6b0560aace3a35c4f",
       "version_major": 2,
       "version_minor": 0
      },
      "text/plain": [
       "VBox(children=(Label(value='0.001 MB of 0.001 MB uploaded (0.000 MB deduped)\\r'), FloatProgress(value=1.0, max…"
      ]
     },
     "metadata": {},
     "output_type": "display_data"
    },
    {
     "data": {
      "text/html": [
       "<style>\n",
       "    table.wandb td:nth-child(1) { padding: 0 10px; text-align: left ; width: auto;} td:nth-child(2) {text-align: left ; width: 100%}\n",
       "    .wandb-row { display: flex; flex-direction: row; flex-wrap: wrap; justify-content: flex-start; width: 100% }\n",
       "    .wandb-col { display: flex; flex-direction: column; flex-basis: 100%; flex: 1; padding: 10px; }\n",
       "    </style>\n",
       "<div class=\"wandb-row\"><div class=\"wandb-col\"><h3>Run history:</h3><br/><table class=\"wandb\"><tr><td>epoch</td><td>▁▁▁▁▂▂▂▂▂▃▃▃▃▃▃▄▄▄▄▄▅▅▅▅▅▆▆▆▆▆▆▇▇▇▇▇████</td></tr><tr><td>lr-Adam</td><td>▁▁▁▁▁▁▁▁▁▁▁▁▁▁▁▁▁▁▁▁▁▁▁▁▁▁▁▁▁▁▁▁▁▁▁▁▁▁▁▁</td></tr><tr><td>train_acc</td><td>▁▁▂▂▂▁▂▂▂▂▂▂▂▃▃▄▃▄▃▄▄▄▅▄▄▄▄▇▆▆▇█▅▇▇▇▇█▇▇</td></tr><tr><td>train_auc</td><td>▂▁▁▂▃▃▂▂▂▄▃▄▄▅▄▅▅▅▆▆▆▆▇▆▅▆▆▇▇▇▇█▆▇▇▇▇█▇█</td></tr><tr><td>train_f1</td><td>▁▂▄▄▄▃▄▄▄▄▄▄▄▃▄▄▃▅▄▄▄▅▆▃▅▄▄█▆▆██▄▇▇█▇██▄</td></tr><tr><td>train_loss_epoch</td><td>▇█▇█▇▇▇▇▇▇▇▆▆▅▆▅▅▅▄▅▅▅▃▅▅▄▄▂▃▃▂▁▅▂▂▂▂▁▂▂</td></tr><tr><td>train_loss_step</td><td>██▆▇▆▇▇▆█▇▅▅▄▄█▅▄▅▆▄▃▄▅▅▃▂▁▂▂▄</td></tr><tr><td>trainer/global_step</td><td>▁▁▁▂▁▂▂▂▃▃▃▃▃▃▄▄▄▄▅▃▄▄▅▅▆▄▄▄▆▇▇▅▅▅███▆▆▆</td></tr><tr><td>val_acc</td><td>▁▁▁▁▁▁▁▁▁▁▁▁▁▄▃▇▆▆██▃█▇▇▇▇▇▇█▇▇▇▇▅▆▇▇▇█▆</td></tr><tr><td>val_auc</td><td>▂▁▃▄▄▅▆▆▆▆▆▇▇█▇██▇▇█▇████████████▇▇█████</td></tr><tr><td>val_f1</td><td>▅▅▅▅▅▅▅▅▅▅▅▅▅▆▆▇▇▇██▁█▇▆█▇▇▇▇▇█▇▇▄▆▇▆▇█▆</td></tr><tr><td>val_loss_epoch</td><td>██▇▇██▇█▇▇█▇▆▆▆▅▇▆▅▅▅▅▆▄▅▃▃▄▄▄▁▄▁▃▄▁▄▂▂▄</td></tr><tr><td>val_loss_step</td><td>▇▇▆▆▇▇▇▇▆▆█▇▆▆▇▅█▇▅▅▅▅█▄▆▃▃▅▄▅▁▅▁▄▅▂▄▂▂▅</td></tr></table><br/></div><div class=\"wandb-col\"><h3>Run summary:</h3><br/><table class=\"wandb\"><tr><td>epoch</td><td>99</td></tr><tr><td>lr-Adam</td><td>0.005</td></tr><tr><td>train_acc</td><td>0.71845</td></tr><tr><td>train_auc</td><td>0.81611</td></tr><tr><td>train_f1</td><td>0.72897</td></tr><tr><td>train_loss_epoch</td><td>0.57246</td></tr><tr><td>train_loss_step</td><td>0.6086</td></tr><tr><td>trainer/global_step</td><td>299</td></tr><tr><td>val_acc</td><td>0.74436</td></tr><tr><td>val_auc</td><td>0.86103</td></tr><tr><td>val_f1</td><td>0.77027</td></tr><tr><td>val_loss_epoch</td><td>0.58215</td></tr><tr><td>val_loss_step</td><td>0.61304</td></tr></table><br/></div></div>"
      ],
      "text/plain": [
       "<IPython.core.display.HTML object>"
      ]
     },
     "metadata": {},
     "output_type": "display_data"
    },
    {
     "data": {
      "text/html": [
       " View run <strong style=\"color:#cdcd00\">MLP_2_16_4_moprh</strong> at: <a href='https://wandb.ai/thoomas/SF_082423_Covid/runs/iy3lmzxe' target=\"_blank\">https://wandb.ai/thoomas/SF_082423_Covid/runs/iy3lmzxe</a><br/>Synced 5 W&B file(s), 0 media file(s), 0 artifact file(s) and 0 other file(s)"
      ],
      "text/plain": [
       "<IPython.core.display.HTML object>"
      ]
     },
     "metadata": {},
     "output_type": "display_data"
    },
    {
     "data": {
      "text/html": [
       "Find logs at: <code>.\\wandb\\run-20230826_083431-iy3lmzxe\\logs</code>"
      ],
      "text/plain": [
       "<IPython.core.display.HTML object>"
      ]
     },
     "metadata": {},
     "output_type": "display_data"
    },
    {
     "data": {
      "application/vnd.jupyter.widget-view+json": {
       "model_id": "9112316587144aebb441718c04cbc87e",
       "version_major": 2,
       "version_minor": 0
      },
      "text/plain": [
       "VBox(children=(Label(value='Waiting for wandb.init()...\\r'), FloatProgress(value=0.016666666666666666, max=1.0…"
      ]
     },
     "metadata": {},
     "output_type": "display_data"
    },
    {
     "data": {
      "text/html": [
       "wandb version 0.15.8 is available!  To upgrade, please run:\n",
       " $ pip install wandb --upgrade"
      ],
      "text/plain": [
       "<IPython.core.display.HTML object>"
      ]
     },
     "metadata": {},
     "output_type": "display_data"
    },
    {
     "data": {
      "text/html": [
       "Tracking run with wandb version 0.14.0"
      ],
      "text/plain": [
       "<IPython.core.display.HTML object>"
      ]
     },
     "metadata": {},
     "output_type": "display_data"
    },
    {
     "data": {
      "text/html": [
       "Run data is saved locally in <code>Y:\\coskun-lab\\Thomas\\11_snowflakes\\notebooks\\wandb\\run-20230826_085618-ok2roqfe</code>"
      ],
      "text/plain": [
       "<IPython.core.display.HTML object>"
      ]
     },
     "metadata": {},
     "output_type": "display_data"
    },
    {
     "data": {
      "text/html": [
       "Syncing run <strong><a href='https://wandb.ai/thoomas/SF_082423_Covid/runs/ok2roqfe' target=\"_blank\">MLP_2_16_4_moprh</a></strong> to <a href='https://wandb.ai/thoomas/SF_082423_Covid' target=\"_blank\">Weights & Biases</a> (<a href='https://wandb.me/run' target=\"_blank\">docs</a>)<br/>"
      ],
      "text/plain": [
       "<IPython.core.display.HTML object>"
      ]
     },
     "metadata": {},
     "output_type": "display_data"
    },
    {
     "data": {
      "text/html": [
       " View project at <a href='https://wandb.ai/thoomas/SF_082423_Covid' target=\"_blank\">https://wandb.ai/thoomas/SF_082423_Covid</a>"
      ],
      "text/plain": [
       "<IPython.core.display.HTML object>"
      ]
     },
     "metadata": {},
     "output_type": "display_data"
    },
    {
     "data": {
      "text/html": [
       " View run at <a href='https://wandb.ai/thoomas/SF_082423_Covid/runs/ok2roqfe' target=\"_blank\">https://wandb.ai/thoomas/SF_082423_Covid/runs/ok2roqfe</a>"
      ],
      "text/plain": [
       "<IPython.core.display.HTML object>"
      ]
     },
     "metadata": {},
     "output_type": "display_data"
    },
    {
     "name": "stderr",
     "output_type": "stream",
     "text": [
      "INFO: Global seed set to 42\n",
      "INFO:lightning.fabric.utilities.seed:Global seed set to 42\n",
      "C:\\Users\\thu71\\Anaconda3\\envs\\snowflake\\lib\\site-packages\\pytorch_lightning\\loggers\\wandb.py:395: UserWarning: There is a wandb run already in progress and newly created instances of `WandbLogger` will reuse this run. If this is not desired, call `wandb.finish()` before instantiating `WandbLogger`.\n",
      "  rank_zero_warn(\n",
      "INFO: GPU available: True (cuda), used: True\n",
      "INFO:lightning.pytorch.utilities.rank_zero:GPU available: True (cuda), used: True\n",
      "INFO: TPU available: False, using: 0 TPU cores\n",
      "INFO:lightning.pytorch.utilities.rank_zero:TPU available: False, using: 0 TPU cores\n",
      "INFO: IPU available: False, using: 0 IPUs\n",
      "INFO:lightning.pytorch.utilities.rank_zero:IPU available: False, using: 0 IPUs\n",
      "INFO: HPU available: False, using: 0 HPUs\n",
      "INFO:lightning.pytorch.utilities.rank_zero:HPU available: False, using: 0 HPUs\n",
      "INFO: Global seed set to 42\n",
      "INFO:lightning.fabric.utilities.seed:Global seed set to 42\n",
      "C:\\Users\\thu71\\Anaconda3\\envs\\snowflake\\lib\\site-packages\\torch_geometric\\deprecation.py:12: UserWarning: 'nn.glob.GlobalAttention' is deprecated, use 'nn.aggr.AttentionalAggregation' instead\n",
      "  warnings.warn(out)\n",
      "INFO: LOCAL_RANK: 0 - CUDA_VISIBLE_DEVICES: [0,1]\n",
      "INFO:lightning.pytorch.accelerators.cuda:LOCAL_RANK: 0 - CUDA_VISIBLE_DEVICES: [0,1]\n",
      "INFO: \n",
      "   | Name           | Type             | Params\n",
      "-----------------------------------------------------\n",
      "0  | feat_embedding | Sequential       | 832   \n",
      "1  | model          | MLPModel         | 368   \n",
      "2  | head           | Sequential       | 562   \n",
      "3  | fnn_layer      | Linear           | 272   \n",
      "4  | selu           | SELU             | 0     \n",
      "5  | loss_module    | CrossEntropyLoss | 0     \n",
      "6  | train_acc      | BinaryAccuracy   | 0     \n",
      "7  | train_auroc    | BinaryAUROC      | 0     \n",
      "8  | train_f1       | BinaryF1Score    | 0     \n",
      "9  | valid_acc      | BinaryAccuracy   | 0     \n",
      "10 | valid_auroc    | BinaryAUROC      | 0     \n",
      "11 | valid_f1       | BinaryF1Score    | 0     \n",
      "12 | pool           | GlobalAttention  | 17    \n",
      "-----------------------------------------------------\n",
      "2.1 K     Trainable params\n",
      "0         Non-trainable params\n",
      "2.1 K     Total params\n",
      "0.008     Total estimated model params size (MB)\n",
      "INFO:lightning.pytorch.callbacks.model_summary:\n",
      "   | Name           | Type             | Params\n",
      "-----------------------------------------------------\n",
      "0  | feat_embedding | Sequential       | 832   \n",
      "1  | model          | MLPModel         | 368   \n",
      "2  | head           | Sequential       | 562   \n",
      "3  | fnn_layer      | Linear           | 272   \n",
      "4  | selu           | SELU             | 0     \n",
      "5  | loss_module    | CrossEntropyLoss | 0     \n",
      "6  | train_acc      | BinaryAccuracy   | 0     \n",
      "7  | train_auroc    | BinaryAUROC      | 0     \n",
      "8  | train_f1       | BinaryF1Score    | 0     \n",
      "9  | valid_acc      | BinaryAccuracy   | 0     \n",
      "10 | valid_auroc    | BinaryAUROC      | 0     \n",
      "11 | valid_f1       | BinaryF1Score    | 0     \n",
      "12 | pool           | GlobalAttention  | 17    \n",
      "-----------------------------------------------------\n",
      "2.1 K     Trainable params\n",
      "0         Non-trainable params\n",
      "2.1 K     Total params\n",
      "0.008     Total estimated model params size (MB)\n",
      "C:\\Users\\thu71\\AppData\\Roaming\\Python\\Python39\\site-packages\\lightning\\pytorch\\trainer\\connectors\\data_connector.py:478: PossibleUserWarning: Your `val_dataloader`'s sampler has shuffling enabled, it is strongly recommended that you turn shuffling off for val/test dataloaders.\n",
      "  rank_zero_warn(\n",
      "C:\\Users\\thu71\\AppData\\Roaming\\Python\\Python39\\site-packages\\lightning\\pytorch\\trainer\\connectors\\data_connector.py:430: PossibleUserWarning: The dataloader, val_dataloader, does not have many workers which may be a bottleneck. Consider increasing the value of the `num_workers` argument` (try 48 which is the number of cpus on this machine) in the `DataLoader` init to improve performance.\n",
      "  rank_zero_warn(\n"
     ]
    },
    {
     "name": "stdout",
     "output_type": "stream",
     "text": [
      "Training with Morphological features\n"
     ]
    },
    {
     "name": "stderr",
     "output_type": "stream",
     "text": [
      "C:\\Users\\thu71\\AppData\\Roaming\\Python\\Python39\\site-packages\\lightning\\pytorch\\trainer\\connectors\\data_connector.py:430: PossibleUserWarning: The dataloader, train_dataloader, does not have many workers which may be a bottleneck. Consider increasing the value of the `num_workers` argument` (try 48 which is the number of cpus on this machine) in the `DataLoader` init to improve performance.\n",
      "  rank_zero_warn(\n",
      "C:\\Users\\thu71\\AppData\\Roaming\\Python\\Python39\\site-packages\\lightning\\pytorch\\loops\\fit_loop.py:280: PossibleUserWarning: The number of training batches (3) is smaller than the logging interval Trainer(log_every_n_steps=10). Set a lower value for log_every_n_steps if you want to see logs for the training epoch.\n",
      "  rank_zero_warn(\n",
      "C:\\Users\\thu71\\Anaconda3\\envs\\snowflake\\lib\\site-packages\\torchmetrics\\utilities\\prints.py:36: UserWarning: No negative samples in targets, false positive value should be meaningless. Returning zero tensor in false positive score\n",
      "  warnings.warn(*args, **kwargs)\n",
      "C:\\Users\\thu71\\Anaconda3\\envs\\snowflake\\lib\\site-packages\\torchmetrics\\utilities\\prints.py:36: UserWarning: No negative samples in targets, false positive value should be meaningless. Returning zero tensor in false positive score\n",
      "  warnings.warn(*args, **kwargs)\n",
      "C:\\Users\\thu71\\Anaconda3\\envs\\snowflake\\lib\\site-packages\\torchmetrics\\utilities\\prints.py:36: UserWarning: No negative samples in targets, false positive value should be meaningless. Returning zero tensor in false positive score\n",
      "  warnings.warn(*args, **kwargs)\n",
      "C:\\Users\\thu71\\Anaconda3\\envs\\snowflake\\lib\\site-packages\\torchmetrics\\utilities\\prints.py:36: UserWarning: No positive samples in targets, true positive value should be meaningless. Returning zero tensor in true positive score\n",
      "  warnings.warn(*args, **kwargs)\n",
      "INFO: `Trainer.fit` stopped: `max_epochs=100` reached.\n",
      "INFO:lightning.pytorch.utilities.rank_zero:`Trainer.fit` stopped: `max_epochs=100` reached.\n"
     ]
    },
    {
     "data": {
      "text/html": [
       "Waiting for W&B process to finish... <strong style=\"color:green\">(success).</strong>"
      ],
      "text/plain": [
       "<IPython.core.display.HTML object>"
      ]
     },
     "metadata": {},
     "output_type": "display_data"
    },
    {
     "data": {
      "application/vnd.jupyter.widget-view+json": {
       "model_id": "a442c513bd3847bb87f307ab62458848",
       "version_major": 2,
       "version_minor": 0
      },
      "text/plain": [
       "VBox(children=(Label(value='0.001 MB of 0.001 MB uploaded (0.000 MB deduped)\\r'), FloatProgress(value=1.0, max…"
      ]
     },
     "metadata": {},
     "output_type": "display_data"
    },
    {
     "data": {
      "text/html": [
       "<style>\n",
       "    table.wandb td:nth-child(1) { padding: 0 10px; text-align: left ; width: auto;} td:nth-child(2) {text-align: left ; width: 100%}\n",
       "    .wandb-row { display: flex; flex-direction: row; flex-wrap: wrap; justify-content: flex-start; width: 100% }\n",
       "    .wandb-col { display: flex; flex-direction: column; flex-basis: 100%; flex: 1; padding: 10px; }\n",
       "    </style>\n",
       "<div class=\"wandb-row\"><div class=\"wandb-col\"><h3>Run history:</h3><br/><table class=\"wandb\"><tr><td>epoch</td><td>▁▁▁▁▂▂▂▂▂▃▃▃▃▃▃▄▄▄▄▄▅▅▅▅▅▆▆▆▆▆▆▇▇▇▇▇████</td></tr><tr><td>lr-Adam</td><td>▁▁▁▁▁▁▁▁▁▁▁▁▁▁▁▁▁▁▁▁▁▁▁▁▁▁▁▁▁▁▁▁▁▁▁▁▁▁▁▁</td></tr><tr><td>train_acc</td><td>▁▂▂▂▃▃▃▃▄▅▄▅▄▄▄▅▆▅▅▅▆▅▆▇▇▇▇▇█████▇█▇▇▇██</td></tr><tr><td>train_auc</td><td>▁▂▂▂▃▃▄▄▅▄▄▅▅▅▅▅▅▆▆▇▆▆▇▇▇█▇████████▇▇███</td></tr><tr><td>train_f1</td><td>▁▂▃▂▃▃▂▄▃▅▄▅▅▄▄▄▅▅▄▃▄▄▆▆▆▇▇▇▇███▇▇▇▅▆▇█▇</td></tr><tr><td>train_loss_epoch</td><td>████▇▇▇▇▆▅▆▅▆▅▅▅▄▄▄▄▄▅▃▃▃▂▃▂▂▂▁▁▂▂▂▃▂▂▁▁</td></tr><tr><td>train_loss_step</td><td>▇██▇▇▆▅▇▆▅▄▃▄▅▃▅▃▄▃▂▂▃▃▂▂▁▄▃▂▁</td></tr><tr><td>trainer/global_step</td><td>▁▁▁▂▁▂▂▂▃▃▃▃▃▃▄▄▄▄▅▃▄▄▅▅▆▄▄▄▆▇▇▅▅▅███▆▆▆</td></tr><tr><td>val_acc</td><td>▁▁▁▃▅▄▅▂▄▄▄▄▃▃▄▅▆▇▇▇▇▇▇▆▇▇▇▆▇▇▇▇▆█▆▆▆██▅</td></tr><tr><td>val_auc</td><td>▁▂▃▄▄▄▄▄▅▅▅▅▅▅▅▆▆▆▆▆▇▆▇▆▇▇▇▇▇▇██████████</td></tr><tr><td>val_f1</td><td>▂▂▂▃▄▄▅▃▄▃▄▄▃▃▄▅▆▇▇▆▇▇▇▄▆▆▇▅▇▆▇▆▃█▄▄▅▇█▁</td></tr><tr><td>val_loss_epoch</td><td>▇▇▆▆▆▆▇▅▇▅█▅▇▅█▃▅▂▄▅▅▁▂▂▂▂▄▃▄▂▂▄▅▁▅▅▂▁▁▃</td></tr><tr><td>val_loss_step</td><td>▅▆▅▅▅▅▆▄▇▄█▄▆▅█▂▆▁▄▅▆▁▁▁▂▁▅▃▅▂▃▄▅▁▅▆▂▂▁▂</td></tr></table><br/></div><div class=\"wandb-col\"><h3>Run summary:</h3><br/><table class=\"wandb\"><tr><td>epoch</td><td>99</td></tr><tr><td>lr-Adam</td><td>0.005</td></tr><tr><td>train_acc</td><td>0.83172</td></tr><tr><td>train_auc</td><td>0.88491</td></tr><tr><td>train_f1</td><td>0.85057</td></tr><tr><td>train_loss_epoch</td><td>0.4754</td></tr><tr><td>train_loss_step</td><td>0.44626</td></tr><tr><td>trainer/global_step</td><td>299</td></tr><tr><td>val_acc</td><td>0.73684</td></tr><tr><td>val_auc</td><td>0.92913</td></tr><tr><td>val_f1</td><td>0.71074</td></tr><tr><td>val_loss_epoch</td><td>0.48856</td></tr><tr><td>val_loss_step</td><td>0.39635</td></tr></table><br/></div></div>"
      ],
      "text/plain": [
       "<IPython.core.display.HTML object>"
      ]
     },
     "metadata": {},
     "output_type": "display_data"
    },
    {
     "data": {
      "text/html": [
       " View run <strong style=\"color:#cdcd00\">MLP_2_16_4_moprh</strong> at: <a href='https://wandb.ai/thoomas/SF_082423_Covid/runs/ok2roqfe' target=\"_blank\">https://wandb.ai/thoomas/SF_082423_Covid/runs/ok2roqfe</a><br/>Synced 5 W&B file(s), 0 media file(s), 0 artifact file(s) and 0 other file(s)"
      ],
      "text/plain": [
       "<IPython.core.display.HTML object>"
      ]
     },
     "metadata": {},
     "output_type": "display_data"
    },
    {
     "data": {
      "text/html": [
       "Find logs at: <code>.\\wandb\\run-20230826_085618-ok2roqfe\\logs</code>"
      ],
      "text/plain": [
       "<IPython.core.display.HTML object>"
      ]
     },
     "metadata": {},
     "output_type": "display_data"
    },
    {
     "data": {
      "application/vnd.jupyter.widget-view+json": {
       "model_id": "34e241c4d0564f9c8193570ee9a3fa18",
       "version_major": 2,
       "version_minor": 0
      },
      "text/plain": [
       "VBox(children=(Label(value='Waiting for wandb.init()...\\r'), FloatProgress(value=0.016916666666899498, max=1.0…"
      ]
     },
     "metadata": {},
     "output_type": "display_data"
    },
    {
     "data": {
      "text/html": [
       "wandb version 0.15.8 is available!  To upgrade, please run:\n",
       " $ pip install wandb --upgrade"
      ],
      "text/plain": [
       "<IPython.core.display.HTML object>"
      ]
     },
     "metadata": {},
     "output_type": "display_data"
    },
    {
     "data": {
      "text/html": [
       "Tracking run with wandb version 0.14.0"
      ],
      "text/plain": [
       "<IPython.core.display.HTML object>"
      ]
     },
     "metadata": {},
     "output_type": "display_data"
    },
    {
     "data": {
      "text/html": [
       "Run data is saved locally in <code>Y:\\coskun-lab\\Thomas\\11_snowflakes\\notebooks\\wandb\\run-20230826_091909-qe19eubf</code>"
      ],
      "text/plain": [
       "<IPython.core.display.HTML object>"
      ]
     },
     "metadata": {},
     "output_type": "display_data"
    },
    {
     "data": {
      "text/html": [
       "Syncing run <strong><a href='https://wandb.ai/thoomas/SF_082423_Covid/runs/qe19eubf' target=\"_blank\">MLP_2_16_4_moprh</a></strong> to <a href='https://wandb.ai/thoomas/SF_082423_Covid' target=\"_blank\">Weights & Biases</a> (<a href='https://wandb.me/run' target=\"_blank\">docs</a>)<br/>"
      ],
      "text/plain": [
       "<IPython.core.display.HTML object>"
      ]
     },
     "metadata": {},
     "output_type": "display_data"
    },
    {
     "data": {
      "text/html": [
       " View project at <a href='https://wandb.ai/thoomas/SF_082423_Covid' target=\"_blank\">https://wandb.ai/thoomas/SF_082423_Covid</a>"
      ],
      "text/plain": [
       "<IPython.core.display.HTML object>"
      ]
     },
     "metadata": {},
     "output_type": "display_data"
    },
    {
     "data": {
      "text/html": [
       " View run at <a href='https://wandb.ai/thoomas/SF_082423_Covid/runs/qe19eubf' target=\"_blank\">https://wandb.ai/thoomas/SF_082423_Covid/runs/qe19eubf</a>"
      ],
      "text/plain": [
       "<IPython.core.display.HTML object>"
      ]
     },
     "metadata": {},
     "output_type": "display_data"
    },
    {
     "name": "stderr",
     "output_type": "stream",
     "text": [
      "INFO: Global seed set to 42\n",
      "INFO:lightning.fabric.utilities.seed:Global seed set to 42\n",
      "C:\\Users\\thu71\\Anaconda3\\envs\\snowflake\\lib\\site-packages\\pytorch_lightning\\loggers\\wandb.py:395: UserWarning: There is a wandb run already in progress and newly created instances of `WandbLogger` will reuse this run. If this is not desired, call `wandb.finish()` before instantiating `WandbLogger`.\n",
      "  rank_zero_warn(\n",
      "INFO: GPU available: True (cuda), used: True\n",
      "INFO:lightning.pytorch.utilities.rank_zero:GPU available: True (cuda), used: True\n",
      "INFO: TPU available: False, using: 0 TPU cores\n",
      "INFO:lightning.pytorch.utilities.rank_zero:TPU available: False, using: 0 TPU cores\n",
      "INFO: IPU available: False, using: 0 IPUs\n",
      "INFO:lightning.pytorch.utilities.rank_zero:IPU available: False, using: 0 IPUs\n",
      "INFO: HPU available: False, using: 0 HPUs\n",
      "INFO:lightning.pytorch.utilities.rank_zero:HPU available: False, using: 0 HPUs\n",
      "INFO: Global seed set to 42\n",
      "INFO:lightning.fabric.utilities.seed:Global seed set to 42\n",
      "INFO: LOCAL_RANK: 0 - CUDA_VISIBLE_DEVICES: [0,1]\n",
      "INFO:lightning.pytorch.accelerators.cuda:LOCAL_RANK: 0 - CUDA_VISIBLE_DEVICES: [0,1]\n",
      "INFO: \n",
      "   | Name           | Type             | Params\n",
      "-----------------------------------------------------\n",
      "0  | feat_embedding | Sequential       | 832   \n",
      "1  | model          | MLPModel         | 368   \n",
      "2  | head           | Sequential       | 562   \n",
      "3  | fnn_layer      | Linear           | 272   \n",
      "4  | selu           | SELU             | 0     \n",
      "5  | loss_module    | CrossEntropyLoss | 0     \n",
      "6  | train_acc      | BinaryAccuracy   | 0     \n",
      "7  | train_auroc    | BinaryAUROC      | 0     \n",
      "8  | train_f1       | BinaryF1Score    | 0     \n",
      "9  | valid_acc      | BinaryAccuracy   | 0     \n",
      "10 | valid_auroc    | BinaryAUROC      | 0     \n",
      "11 | valid_f1       | BinaryF1Score    | 0     \n",
      "12 | pool           | Attention_module | 281   \n",
      "-----------------------------------------------------\n",
      "2.3 K     Trainable params\n",
      "0         Non-trainable params\n",
      "2.3 K     Total params\n",
      "0.009     Total estimated model params size (MB)\n",
      "INFO:lightning.pytorch.callbacks.model_summary:\n",
      "   | Name           | Type             | Params\n",
      "-----------------------------------------------------\n",
      "0  | feat_embedding | Sequential       | 832   \n",
      "1  | model          | MLPModel         | 368   \n",
      "2  | head           | Sequential       | 562   \n",
      "3  | fnn_layer      | Linear           | 272   \n",
      "4  | selu           | SELU             | 0     \n",
      "5  | loss_module    | CrossEntropyLoss | 0     \n",
      "6  | train_acc      | BinaryAccuracy   | 0     \n",
      "7  | train_auroc    | BinaryAUROC      | 0     \n",
      "8  | train_f1       | BinaryF1Score    | 0     \n",
      "9  | valid_acc      | BinaryAccuracy   | 0     \n",
      "10 | valid_auroc    | BinaryAUROC      | 0     \n",
      "11 | valid_f1       | BinaryF1Score    | 0     \n",
      "12 | pool           | Attention_module | 281   \n",
      "-----------------------------------------------------\n",
      "2.3 K     Trainable params\n",
      "0         Non-trainable params\n",
      "2.3 K     Total params\n",
      "0.009     Total estimated model params size (MB)\n",
      "C:\\Users\\thu71\\AppData\\Roaming\\Python\\Python39\\site-packages\\lightning\\pytorch\\trainer\\connectors\\data_connector.py:478: PossibleUserWarning: Your `val_dataloader`'s sampler has shuffling enabled, it is strongly recommended that you turn shuffling off for val/test dataloaders.\n",
      "  rank_zero_warn(\n",
      "C:\\Users\\thu71\\AppData\\Roaming\\Python\\Python39\\site-packages\\lightning\\pytorch\\trainer\\connectors\\data_connector.py:430: PossibleUserWarning: The dataloader, val_dataloader, does not have many workers which may be a bottleneck. Consider increasing the value of the `num_workers` argument` (try 48 which is the number of cpus on this machine) in the `DataLoader` init to improve performance.\n",
      "  rank_zero_warn(\n"
     ]
    },
    {
     "name": "stdout",
     "output_type": "stream",
     "text": [
      "Training with Morphological features\n"
     ]
    },
    {
     "name": "stderr",
     "output_type": "stream",
     "text": [
      "C:\\Users\\thu71\\AppData\\Roaming\\Python\\Python39\\site-packages\\lightning\\pytorch\\trainer\\connectors\\data_connector.py:430: PossibleUserWarning: The dataloader, train_dataloader, does not have many workers which may be a bottleneck. Consider increasing the value of the `num_workers` argument` (try 48 which is the number of cpus on this machine) in the `DataLoader` init to improve performance.\n",
      "  rank_zero_warn(\n",
      "C:\\Users\\thu71\\AppData\\Roaming\\Python\\Python39\\site-packages\\lightning\\pytorch\\loops\\fit_loop.py:280: PossibleUserWarning: The number of training batches (3) is smaller than the logging interval Trainer(log_every_n_steps=10). Set a lower value for log_every_n_steps if you want to see logs for the training epoch.\n",
      "  rank_zero_warn(\n",
      "C:\\Users\\thu71\\Anaconda3\\envs\\snowflake\\lib\\site-packages\\torchmetrics\\utilities\\prints.py:36: UserWarning: No negative samples in targets, false positive value should be meaningless. Returning zero tensor in false positive score\n",
      "  warnings.warn(*args, **kwargs)\n",
      "C:\\Users\\thu71\\Anaconda3\\envs\\snowflake\\lib\\site-packages\\torchmetrics\\utilities\\prints.py:36: UserWarning: No negative samples in targets, false positive value should be meaningless. Returning zero tensor in false positive score\n",
      "  warnings.warn(*args, **kwargs)\n",
      "C:\\Users\\thu71\\Anaconda3\\envs\\snowflake\\lib\\site-packages\\torchmetrics\\utilities\\prints.py:36: UserWarning: No negative samples in targets, false positive value should be meaningless. Returning zero tensor in false positive score\n",
      "  warnings.warn(*args, **kwargs)\n",
      "C:\\Users\\thu71\\Anaconda3\\envs\\snowflake\\lib\\site-packages\\torchmetrics\\utilities\\prints.py:36: UserWarning: No negative samples in targets, false positive value should be meaningless. Returning zero tensor in false positive score\n",
      "  warnings.warn(*args, **kwargs)\n",
      "C:\\Users\\thu71\\Anaconda3\\envs\\snowflake\\lib\\site-packages\\torchmetrics\\utilities\\prints.py:36: UserWarning: No negative samples in targets, false positive value should be meaningless. Returning zero tensor in false positive score\n",
      "  warnings.warn(*args, **kwargs)\n",
      "C:\\Users\\thu71\\Anaconda3\\envs\\snowflake\\lib\\site-packages\\torchmetrics\\utilities\\prints.py:36: UserWarning: No negative samples in targets, false positive value should be meaningless. Returning zero tensor in false positive score\n",
      "  warnings.warn(*args, **kwargs)\n",
      "INFO: `Trainer.fit` stopped: `max_epochs=100` reached.\n",
      "INFO:lightning.pytorch.utilities.rank_zero:`Trainer.fit` stopped: `max_epochs=100` reached.\n"
     ]
    },
    {
     "data": {
      "text/html": [
       "Waiting for W&B process to finish... <strong style=\"color:green\">(success).</strong>"
      ],
      "text/plain": [
       "<IPython.core.display.HTML object>"
      ]
     },
     "metadata": {},
     "output_type": "display_data"
    },
    {
     "data": {
      "text/html": [
       "<style>\n",
       "    table.wandb td:nth-child(1) { padding: 0 10px; text-align: left ; width: auto;} td:nth-child(2) {text-align: left ; width: 100%}\n",
       "    .wandb-row { display: flex; flex-direction: row; flex-wrap: wrap; justify-content: flex-start; width: 100% }\n",
       "    .wandb-col { display: flex; flex-direction: column; flex-basis: 100%; flex: 1; padding: 10px; }\n",
       "    </style>\n",
       "<div class=\"wandb-row\"><div class=\"wandb-col\"><h3>Run history:</h3><br/><table class=\"wandb\"><tr><td>epoch</td><td>▁▁▁▁▂▂▂▂▂▃▃▃▃▃▃▄▄▄▄▄▅▅▅▅▅▆▆▆▆▆▆▇▇▇▇▇████</td></tr><tr><td>lr-Adam</td><td>▁▁▁▁▁▁▁▁▁▁▁▁▁▁▁▁▁▁▁▁▁▁▁▁▁▁▁▁▁▁▁▁▁▁▁▁▁▁▁▁</td></tr><tr><td>train_acc</td><td>▁▁▁▂▂▂▃▃▄▄▄▄▅▄▅▅▅▅▆▆▇▇▇▇█▇█▇▇████▇██████</td></tr><tr><td>train_auc</td><td>▁▁▂▂▄▃▄▄▄▄▄▅▅▅▅▅▆▅▆▆▆▇▇▇▇▇██▇███████████</td></tr><tr><td>train_f1</td><td>▁▁▂▂▃▂▂▃▃▄▃▄▄▃▅▄▅▅▆▆▆▆▇▇█▆▇▇▅████▆█▇▇██▇</td></tr><tr><td>train_loss_epoch</td><td>████▇▇▇▇▆▆▆▆▅▅▅▅▅▄▄▄▄▃▂▃▂▂▂▂▃▂▁▁▁▂▂▂▂▂▂▂</td></tr><tr><td>train_loss_step</td><td>███▇▇▇▅▆▅▇▅▅▅▅▄▃▃▄▄▃▄▃▃▁▄▂▃▁▂▃</td></tr><tr><td>trainer/global_step</td><td>▁▁▁▂▁▂▂▂▃▃▃▃▃▃▄▄▄▄▅▃▄▄▅▅▆▄▄▄▆▇▇▅▅▅███▆▆▆</td></tr><tr><td>val_acc</td><td>▁▁▁▁▁▄▄▄▄▄▄▄▄▅▅▆▅▆▆▆▆▇▇▇▇█▇▆▇▇▇▇▇▆██▇▇█▇</td></tr><tr><td>val_auc</td><td>▁▃▄▄▅▅▅▅▅▅▆▆▆▆▆▆▆▆▆▇▇▇▇█████████████████</td></tr><tr><td>val_f1</td><td>▁▁▁▁▁▃▂▃▃▃▄▄▄▅▄▅▅▅▅▆▆▇▆▇▆█▆▆▆▇▆▇▇▅██▇▇█▆</td></tr><tr><td>val_loss_epoch</td><td>███▇▇▆▆▄▅▅▆▃█▂▆▃▆▆▅▄▃▂▃▂▅▁▂▅▅▁▂▃▅▃▁▁▆▅▁▃</td></tr><tr><td>val_loss_step</td><td>▆▆▆▅▅▄▅▃▄▄▅▂█▁▅▂▅▆▆▃▃▁▄▁▅▁▁▅▆▁▂▄▅▃▁▁▇▆▁▄</td></tr></table><br/></div><div class=\"wandb-col\"><h3>Run summary:</h3><br/><table class=\"wandb\"><tr><td>epoch</td><td>99</td></tr><tr><td>lr-Adam</td><td>0.005</td></tr><tr><td>train_acc</td><td>0.84466</td></tr><tr><td>train_auc</td><td>0.89174</td></tr><tr><td>train_f1</td><td>0.85799</td></tr><tr><td>train_loss_epoch</td><td>0.47975</td></tr><tr><td>train_loss_step</td><td>0.4867</td></tr><tr><td>trainer/global_step</td><td>299</td></tr><tr><td>val_acc</td><td>0.85714</td></tr><tr><td>val_auc</td><td>0.93133</td></tr><tr><td>val_f1</td><td>0.87417</td></tr><tr><td>val_loss_epoch</td><td>0.47994</td></tr><tr><td>val_loss_step</td><td>0.51665</td></tr></table><br/></div></div>"
      ],
      "text/plain": [
       "<IPython.core.display.HTML object>"
      ]
     },
     "metadata": {},
     "output_type": "display_data"
    },
    {
     "data": {
      "text/html": [
       " View run <strong style=\"color:#cdcd00\">MLP_2_16_4_moprh</strong> at: <a href='https://wandb.ai/thoomas/SF_082423_Covid/runs/qe19eubf' target=\"_blank\">https://wandb.ai/thoomas/SF_082423_Covid/runs/qe19eubf</a><br/>Synced 5 W&B file(s), 0 media file(s), 0 artifact file(s) and 0 other file(s)"
      ],
      "text/plain": [
       "<IPython.core.display.HTML object>"
      ]
     },
     "metadata": {},
     "output_type": "display_data"
    },
    {
     "data": {
      "text/html": [
       "Find logs at: <code>.\\wandb\\run-20230826_091909-qe19eubf\\logs</code>"
      ],
      "text/plain": [
       "<IPython.core.display.HTML object>"
      ]
     },
     "metadata": {},
     "output_type": "display_data"
    }
   ],
   "source": [
    "# Print K fold model number of samples and number of positive cases\n",
    "\n",
    "k_folds = 5\n",
    "# kfold = KFold(n_splits=k_folds, shuffle=True, random_state=42)\n",
    "kfold = StratifiedShuffleSplit(n_splits=k_folds, test_size=0.3, random_state=0)\n",
    "fusion_mode = 'concat'\n",
    "\n",
    "for fold, (train_ids, valid_ids) in enumerate(kfold.split(dataset, ys)):\n",
    "    train_subset = dataset.index_select(train_ids.tolist())\n",
    "    val_subset = dataset.index_select(valid_ids.tolist())\n",
    "    \n",
    "    for pool in pools:\n",
    "        for model in models:\n",
    "            # Path to the folder where the pretrained models are saved\n",
    "            CHECKPOINT_PATH = checkpoint_folder / f'{model}_{NUM_LAYERS}_{HIDDEN_CHANNELS}_{fold}_moprh_{fusion_mode}' / pool\n",
    "            CHECKPOINT_PATH.mkdir(parents=True, exist_ok=True)\n",
    "\n",
    "            # Skip already trained kfold and pool\n",
    "            checkpoint = CHECKPOINT_PATH / f\"GraphLevel{model}\" / f\"GraphLevel{model}.ckpt\" \n",
    "            if checkpoint.exists():\n",
    "                print(checkpoint)\n",
    "                continue\n",
    "\n",
    "            # Run training\n",
    "            run = wandb.init(project=project_name, name=f'{model}_{NUM_LAYERS}_{HIDDEN_CHANNELS}_{fold}_moprh', \n",
    "                            group=f'{model}_{pool}_moprh_{fusion_mode}')\n",
    "            graph.train_graph_classifier_kfold(model, \n",
    "                                                 train_subset, \n",
    "                                                 val_subset, \n",
    "                                                 dataset, \n",
    "                                                 CHECKPOINT_PATH, \n",
    "                                                 AVAIL_GPUS, \n",
    "                                                 hidden_channels=HIDDEN_CHANNELS, \n",
    "                                                 num_layers=NUM_LAYERS, \n",
    "                                                 epochs=epochs,\n",
    "                                                 morph=True,\n",
    "                                                 fusion = fusion_mode,\n",
    "                                                 batch_size=128,\n",
    "                                                 graph_pooling=pool)\n",
    "            run.finish()"
   ]
  },
  {
   "cell_type": "code",
   "execution_count": null,
   "id": "fc615dfc-7b37-4861-b20a-9cc44d845103",
   "metadata": {},
   "outputs": [],
   "source": []
  }
 ],
 "metadata": {
  "kernelspec": {
   "display_name": "torch_gpu",
   "language": "python",
   "name": "torch_gpu"
  },
  "language_info": {
   "codemirror_mode": {
    "name": "ipython",
    "version": 3
   },
   "file_extension": ".py",
   "mimetype": "text/x-python",
   "name": "python",
   "nbconvert_exporter": "python",
   "pygments_lexer": "ipython3",
   "version": "3.11.9"
  }
 },
 "nbformat": 4,
 "nbformat_minor": 5
}
